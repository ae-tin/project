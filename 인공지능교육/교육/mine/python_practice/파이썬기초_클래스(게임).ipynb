{
 "cells": [
  {
   "cell_type": "markdown",
   "id": "08e0578c",
   "metadata": {},
   "source": [
    "# 파이썬기초_클래스_게임"
   ]
  },
  {
   "cell_type": "code",
   "execution_count": null,
   "id": "93c329b7",
   "metadata": {},
   "outputs": [],
   "source": [
    "l = [\n",
    "    ['1-1','1-2'],\n",
    "    ['2-1','2-2','2-3'],\n",
    "    ['3-1','3-2','3-3']\n",
    "]"
   ]
  },
  {
   "cell_type": "code",
   "execution_count": null,
   "id": "07c586a1",
   "metadata": {},
   "outputs": [],
   "source": [
    "print(l[2][1])"
   ]
  },
  {
   "cell_type": "code",
   "execution_count": null,
   "id": "341237a5",
   "metadata": {},
   "outputs": [],
   "source": [
    "mazeMap = [\n",
    "    [0,0,1,0,0,0,0,0,0,1],\n",
    "    [1,0,1,1,1,1,1,1,0,1],\n",
    "    [1,0,1,0,0,0,0,1,0,1],\n",
    "    [1,0,1,0,1,1,0,1,0,1],\n",
    "    [1,0,0,0,1,1,0,1,0,1],\n",
    "    [0,0,1,1,1,1,0,1,0,1],\n",
    "    [1,1,0,0,0,0,0,1,0,1],\n",
    "    [0,0,0,1,1,0,1,1,0,0],\n",
    "    [0,1,1,1,0,0,0,0,0,0],\n",
    "    [0,0,0,0,0,1,0,1,0,0]\n",
    "]"
   ]
  },
  {
   "cell_type": "markdown",
   "id": "27294541",
   "metadata": {},
   "source": [
    "## 문제\n",
    "\n",
    "미로 찾기 게임 클래스 생성  \n",
    "  \n",
    "  속성  \n",
    "  미로  \n",
    "  x좌표  \n",
    "  y좌표  \n",
    "  \n",
    "  행위  \n",
    "  1. 맵 출력 (0이면 □, 1이면 ■,2 이면 ☆)\n",
    "  2. 플레이어 위치 설정 (현재 x,y 좌표에 플레이어를 위치시킨다.)\n",
    "  3. 오른쪽 한칸이동  \n",
    "      왼쪽 한칸이동  \n",
    "      아래쪽 한칸이동  \n",
    "      윗쪽 한칸이동  \n",
    "          (만약에 이동하려는 곳이 1이면 이동 못함  \n",
    "          0이면 맵에서 현재 위치를 0으로 변경  \n",
    "          이동한 곳에 플레이어의 위치 설정"
   ]
  },
  {
   "cell_type": "markdown",
   "id": "be444abc",
   "metadata": {},
   "source": [
    "### 내 풀이 - 복잡하게 잘못풂\n",
    "1. 맵 출력 (0이면 □, 1이면 ■,2 이면 ☆)"
   ]
  },
  {
   "cell_type": "code",
   "execution_count": 21,
   "id": "07c202d0",
   "metadata": {},
   "outputs": [],
   "source": [
    "class maze : \n",
    "    mazeMap = [\n",
    "        [0,0,1,0,0,0,0,0,0,1],\n",
    "        [1,0,1,1,1,1,1,1,0,1],\n",
    "        [1,0,1,0,0,0,0,1,0,1],\n",
    "        [1,0,1,0,1,1,0,1,0,1],\n",
    "        [1,0,0,0,1,1,0,1,0,1],\n",
    "        [0,0,1,1,1,1,0,1,0,1],\n",
    "        [1,1,0,0,0,0,0,1,0,1],\n",
    "        [0,0,0,1,1,0,1,1,0,0],\n",
    "        [0,1,1,1,0,0,0,0,0,0],\n",
    "        [0,0,0,0,0,1,0,1,0,0]\n",
    "    ]\n",
    "    x = 0\n",
    "    y = 0\n",
    "    realmap = ''\n",
    "    def mapping(self) :\n",
    "        for i in range(0,10,1) :\n",
    "            for j in range(0,10,1) :\n",
    "                if self.mazeMap[i][j] == 0 :\n",
    "                    self.mazeMap[i][j] = '□'\n",
    "                elif self.mazeMap[i][j] == 1 :\n",
    "                    self.mazeMap[i][j] = '■'\n",
    "            print(self.mazeMap[i])\n",
    "    def map_print(self) :\n",
    "        for i in range(0,10,1) :\n",
    "            self.realmap = ''\n",
    "            for j in range(0,10,1) :\n",
    "                self.realmap = self.realmap + self.mazeMap[i][j]\n",
    "            print(self.mazeMap)    \n",
    "    "
   ]
  },
  {
   "cell_type": "code",
   "execution_count": 22,
   "id": "3a7e4cc3",
   "metadata": {},
   "outputs": [],
   "source": [
    "game = maze()"
   ]
  },
  {
   "cell_type": "code",
   "execution_count": 23,
   "id": "2ad115b0",
   "metadata": {},
   "outputs": [
    {
     "name": "stdout",
     "output_type": "stream",
     "text": [
      "['□', '□', '■', '□', '□', '□', '□', '□', '□', '■']\n",
      "['■', '□', '■', '■', '■', '■', '■', '■', '□', '■']\n",
      "['■', '□', '■', '□', '□', '□', '□', '■', '□', '■']\n",
      "['■', '□', '■', '□', '■', '■', '□', '■', '□', '■']\n",
      "['■', '□', '□', '□', '■', '■', '□', '■', '□', '■']\n",
      "['□', '□', '■', '■', '■', '■', '□', '■', '□', '■']\n",
      "['■', '■', '□', '□', '□', '□', '□', '■', '□', '■']\n",
      "['□', '□', '□', '■', '■', '□', '■', '■', '□', '□']\n",
      "['□', '■', '■', '■', '□', '□', '□', '□', '□', '□']\n",
      "['□', '□', '□', '□', '□', '■', '□', '■', '□', '□']\n"
     ]
    }
   ],
   "source": [
    "game.mapping()"
   ]
  },
  {
   "cell_type": "code",
   "execution_count": 24,
   "id": "579cb2da",
   "metadata": {
    "collapsed": true
   },
   "outputs": [
    {
     "name": "stdout",
     "output_type": "stream",
     "text": [
      "[['□', '□', '■', '□', '□', '□', '□', '□', '□', '■'], ['■', '□', '■', '■', '■', '■', '■', '■', '□', '■'], ['■', '□', '■', '□', '□', '□', '□', '■', '□', '■'], ['■', '□', '■', '□', '■', '■', '□', '■', '□', '■'], ['■', '□', '□', '□', '■', '■', '□', '■', '□', '■'], ['□', '□', '■', '■', '■', '■', '□', '■', '□', '■'], ['■', '■', '□', '□', '□', '□', '□', '■', '□', '■'], ['□', '□', '□', '■', '■', '□', '■', '■', '□', '□'], ['□', '■', '■', '■', '□', '□', '□', '□', '□', '□'], ['□', '□', '□', '□', '□', '■', '□', '■', '□', '□']]\n",
      "[['□', '□', '■', '□', '□', '□', '□', '□', '□', '■'], ['■', '□', '■', '■', '■', '■', '■', '■', '□', '■'], ['■', '□', '■', '□', '□', '□', '□', '■', '□', '■'], ['■', '□', '■', '□', '■', '■', '□', '■', '□', '■'], ['■', '□', '□', '□', '■', '■', '□', '■', '□', '■'], ['□', '□', '■', '■', '■', '■', '□', '■', '□', '■'], ['■', '■', '□', '□', '□', '□', '□', '■', '□', '■'], ['□', '□', '□', '■', '■', '□', '■', '■', '□', '□'], ['□', '■', '■', '■', '□', '□', '□', '□', '□', '□'], ['□', '□', '□', '□', '□', '■', '□', '■', '□', '□']]\n",
      "[['□', '□', '■', '□', '□', '□', '□', '□', '□', '■'], ['■', '□', '■', '■', '■', '■', '■', '■', '□', '■'], ['■', '□', '■', '□', '□', '□', '□', '■', '□', '■'], ['■', '□', '■', '□', '■', '■', '□', '■', '□', '■'], ['■', '□', '□', '□', '■', '■', '□', '■', '□', '■'], ['□', '□', '■', '■', '■', '■', '□', '■', '□', '■'], ['■', '■', '□', '□', '□', '□', '□', '■', '□', '■'], ['□', '□', '□', '■', '■', '□', '■', '■', '□', '□'], ['□', '■', '■', '■', '□', '□', '□', '□', '□', '□'], ['□', '□', '□', '□', '□', '■', '□', '■', '□', '□']]\n",
      "[['□', '□', '■', '□', '□', '□', '□', '□', '□', '■'], ['■', '□', '■', '■', '■', '■', '■', '■', '□', '■'], ['■', '□', '■', '□', '□', '□', '□', '■', '□', '■'], ['■', '□', '■', '□', '■', '■', '□', '■', '□', '■'], ['■', '□', '□', '□', '■', '■', '□', '■', '□', '■'], ['□', '□', '■', '■', '■', '■', '□', '■', '□', '■'], ['■', '■', '□', '□', '□', '□', '□', '■', '□', '■'], ['□', '□', '□', '■', '■', '□', '■', '■', '□', '□'], ['□', '■', '■', '■', '□', '□', '□', '□', '□', '□'], ['□', '□', '□', '□', '□', '■', '□', '■', '□', '□']]\n",
      "[['□', '□', '■', '□', '□', '□', '□', '□', '□', '■'], ['■', '□', '■', '■', '■', '■', '■', '■', '□', '■'], ['■', '□', '■', '□', '□', '□', '□', '■', '□', '■'], ['■', '□', '■', '□', '■', '■', '□', '■', '□', '■'], ['■', '□', '□', '□', '■', '■', '□', '■', '□', '■'], ['□', '□', '■', '■', '■', '■', '□', '■', '□', '■'], ['■', '■', '□', '□', '□', '□', '□', '■', '□', '■'], ['□', '□', '□', '■', '■', '□', '■', '■', '□', '□'], ['□', '■', '■', '■', '□', '□', '□', '□', '□', '□'], ['□', '□', '□', '□', '□', '■', '□', '■', '□', '□']]\n",
      "[['□', '□', '■', '□', '□', '□', '□', '□', '□', '■'], ['■', '□', '■', '■', '■', '■', '■', '■', '□', '■'], ['■', '□', '■', '□', '□', '□', '□', '■', '□', '■'], ['■', '□', '■', '□', '■', '■', '□', '■', '□', '■'], ['■', '□', '□', '□', '■', '■', '□', '■', '□', '■'], ['□', '□', '■', '■', '■', '■', '□', '■', '□', '■'], ['■', '■', '□', '□', '□', '□', '□', '■', '□', '■'], ['□', '□', '□', '■', '■', '□', '■', '■', '□', '□'], ['□', '■', '■', '■', '□', '□', '□', '□', '□', '□'], ['□', '□', '□', '□', '□', '■', '□', '■', '□', '□']]\n",
      "[['□', '□', '■', '□', '□', '□', '□', '□', '□', '■'], ['■', '□', '■', '■', '■', '■', '■', '■', '□', '■'], ['■', '□', '■', '□', '□', '□', '□', '■', '□', '■'], ['■', '□', '■', '□', '■', '■', '□', '■', '□', '■'], ['■', '□', '□', '□', '■', '■', '□', '■', '□', '■'], ['□', '□', '■', '■', '■', '■', '□', '■', '□', '■'], ['■', '■', '□', '□', '□', '□', '□', '■', '□', '■'], ['□', '□', '□', '■', '■', '□', '■', '■', '□', '□'], ['□', '■', '■', '■', '□', '□', '□', '□', '□', '□'], ['□', '□', '□', '□', '□', '■', '□', '■', '□', '□']]\n",
      "[['□', '□', '■', '□', '□', '□', '□', '□', '□', '■'], ['■', '□', '■', '■', '■', '■', '■', '■', '□', '■'], ['■', '□', '■', '□', '□', '□', '□', '■', '□', '■'], ['■', '□', '■', '□', '■', '■', '□', '■', '□', '■'], ['■', '□', '□', '□', '■', '■', '□', '■', '□', '■'], ['□', '□', '■', '■', '■', '■', '□', '■', '□', '■'], ['■', '■', '□', '□', '□', '□', '□', '■', '□', '■'], ['□', '□', '□', '■', '■', '□', '■', '■', '□', '□'], ['□', '■', '■', '■', '□', '□', '□', '□', '□', '□'], ['□', '□', '□', '□', '□', '■', '□', '■', '□', '□']]\n",
      "[['□', '□', '■', '□', '□', '□', '□', '□', '□', '■'], ['■', '□', '■', '■', '■', '■', '■', '■', '□', '■'], ['■', '□', '■', '□', '□', '□', '□', '■', '□', '■'], ['■', '□', '■', '□', '■', '■', '□', '■', '□', '■'], ['■', '□', '□', '□', '■', '■', '□', '■', '□', '■'], ['□', '□', '■', '■', '■', '■', '□', '■', '□', '■'], ['■', '■', '□', '□', '□', '□', '□', '■', '□', '■'], ['□', '□', '□', '■', '■', '□', '■', '■', '□', '□'], ['□', '■', '■', '■', '□', '□', '□', '□', '□', '□'], ['□', '□', '□', '□', '□', '■', '□', '■', '□', '□']]\n",
      "[['□', '□', '■', '□', '□', '□', '□', '□', '□', '■'], ['■', '□', '■', '■', '■', '■', '■', '■', '□', '■'], ['■', '□', '■', '□', '□', '□', '□', '■', '□', '■'], ['■', '□', '■', '□', '■', '■', '□', '■', '□', '■'], ['■', '□', '□', '□', '■', '■', '□', '■', '□', '■'], ['□', '□', '■', '■', '■', '■', '□', '■', '□', '■'], ['■', '■', '□', '□', '□', '□', '□', '■', '□', '■'], ['□', '□', '□', '■', '■', '□', '■', '■', '□', '□'], ['□', '■', '■', '■', '□', '□', '□', '□', '□', '□'], ['□', '□', '□', '□', '□', '■', '□', '■', '□', '□']]\n"
     ]
    }
   ],
   "source": [
    "game.map_print()"
   ]
  },
  {
   "cell_type": "markdown",
   "id": "bae4adca",
   "metadata": {},
   "source": [
    "선생님 1번풀이 참고  \n",
    "2. 플레이어 위치 설정 (현재 x,y 좌표에 플레이어를 위치시킨다.)"
   ]
  },
  {
   "cell_type": "code",
   "execution_count": 36,
   "id": "b012fae9",
   "metadata": {},
   "outputs": [],
   "source": [
    "class maze : \n",
    "    mazeMap = [\n",
    "        [0,0,1,0,0,0,0,0,0,1],\n",
    "        [1,0,1,1,1,1,1,1,0,1],\n",
    "        [1,0,1,0,0,0,0,1,0,1],\n",
    "        [1,0,1,0,1,1,0,1,0,1],\n",
    "        [1,0,0,0,1,1,0,1,0,1],\n",
    "        [0,0,1,1,1,1,0,1,0,1],\n",
    "        [1,1,0,0,0,0,0,1,0,1],\n",
    "        [0,0,0,1,1,0,1,1,0,0],\n",
    "        [0,1,1,1,0,0,0,0,0,0],\n",
    "        [0,0,0,0,0,1,0,1,0,0]\n",
    "    ]\n",
    "    x = 0\n",
    "    y = 0\n",
    "\n",
    "    def player(self) :\n",
    "        self.mazeMap[self.y][self.x] = 2\n",
    "        \n",
    "    def display(self) :\n",
    "        for row in self.mazeMap :\n",
    "            show = ''\n",
    "            for col in row :\n",
    "                if col == 0 : \n",
    "                    show = show + '□'\n",
    "                elif col == 1 :\n",
    "                    show = show  + '■'\n",
    "                elif col == 2 :\n",
    "                    show = show + '☆'\n",
    "            print(show)"
   ]
  },
  {
   "cell_type": "code",
   "execution_count": 37,
   "id": "7a5c06c6",
   "metadata": {},
   "outputs": [
    {
     "name": "stdout",
     "output_type": "stream",
     "text": [
      "☆□■□□□□□□■\n",
      "■□■■■■■■□■\n",
      "■□■□□□□■□■\n",
      "■□■□■■□■□■\n",
      "■□□□■■□■□■\n",
      "□□■■■■□■□■\n",
      "■■□□□□□■□■\n",
      "□□□■■□■■□□\n",
      "□■■■□□□□□□\n",
      "□□□□□■□■□□\n"
     ]
    }
   ],
   "source": [
    "m = maze()\n",
    "m.player()\n",
    "m.display()"
   ]
  },
  {
   "cell_type": "markdown",
   "id": "bc1febd8",
   "metadata": {},
   "source": [
    "  3. 오른쪽 한칸이동  \n",
    "      왼쪽 한칸이동  \n",
    "      아래쪽 한칸이동  \n",
    "      윗쪽 한칸이동  \n",
    "          (만약에 이동하려는 곳이 1이면 이동 못함  \n",
    "          0이면 맵에서 현재 위치를 0으로 변경  \n",
    "          이동한 곳에 플레이어의 위치 설정"
   ]
  },
  {
   "cell_type": "code",
   "execution_count": 202,
   "id": "dcc59bf2",
   "metadata": {},
   "outputs": [],
   "source": [
    "class maze : \n",
    "    mazeMap = [\n",
    "        [0,0,1,3,0,0,0,0,0,1],\n",
    "        [1,0,1,1,1,1,1,1,0,1],\n",
    "        [1,0,1,0,0,0,0,1,0,1],\n",
    "        [1,0,1,0,1,1,0,1,0,1],\n",
    "        [1,0,0,0,1,1,0,1,0,1],\n",
    "        [0,0,1,1,1,1,0,1,0,1],\n",
    "        [1,1,0,0,0,0,0,1,0,1],\n",
    "        [0,0,0,1,1,0,1,1,0,0],\n",
    "        [0,1,1,1,0,0,0,0,0,0],\n",
    "        [0,0,0,0,0,1,0,1,0,0]\n",
    "    ]\n",
    "    mazeMap1 = [\n",
    "        [0,0,1,3,0,0,0,0,0,1],\n",
    "        [1,0,1,1,1,1,1,1,0,1],\n",
    "        [1,0,1,0,0,0,0,1,0,1],\n",
    "        [1,0,1,0,1,1,0,1,0,1],\n",
    "        [1,0,0,0,1,1,0,1,0,1],\n",
    "        [0,0,1,1,1,1,0,1,0,1],\n",
    "        [1,1,0,0,0,0,0,1,0,1],\n",
    "        [0,0,0,1,1,0,1,1,0,0],\n",
    "        [0,1,1,1,0,0,0,0,0,0],\n",
    "        [0,0,0,0,0,1,0,1,0,0]\n",
    "    ]\n",
    "    x = 0\n",
    "    y = 0\n",
    "\n",
    "    def player(self) :\n",
    "        self.mazeMap[self.y][self.x] = 2\n",
    "        \n",
    "    def display(self) :\n",
    "        for row in self.mazeMap :\n",
    "            show = ''\n",
    "            for col in row :\n",
    "                if col == 0 : \n",
    "                    show = show + '□'\n",
    "                elif col == 1 :\n",
    "                    show = show  + '■'\n",
    "                elif col == 2 :\n",
    "                    show = show + '☆'\n",
    "                elif col == 3 :\n",
    "                    show = show + '♡'\n",
    "            print(show)\n",
    "\n",
    "    def right(self) :\n",
    "        if self.mazeMap[self.y][self.x+1] ==1 :\n",
    "        \n",
    "            print('갈 수 없습니다.')\n",
    "        elif self.mazeMap[self.y][self.x+1] ==0 :\n",
    "            if self.x <10 :\n",
    "                self.x = self.x + 1\n",
    "                if self.x == 10 :\n",
    "                    self.x = 0\n",
    "                    self.y = 0\n",
    "                    print('갈 수 없습니다.')\n",
    "                    \n",
    "        self.mazeMap[self.y][self.x-1] = 0\n",
    "        self.player()\n",
    "        self.display()\n",
    "    def left(self) :\n",
    "        if self.mazeMap[self.y][self.x-1] ==1 :\n",
    "        \n",
    "            print('갈 수 없습니다.')\n",
    "        elif self.mazeMap[self.y][self.x-1] ==0 :\n",
    "            if self.x <10 :\n",
    "                self.x = self.x - 1\n",
    "                if self.x == 10 :\n",
    "                    self.x = 0\n",
    "                    self.y = 0\n",
    "                    print('갈 수 없습니다.')\n",
    "                    \n",
    "        self.mazeMap[self.y][self.x+1] = 0\n",
    "        self.player()\n",
    "        self.display()\n",
    "    def up(self) :\n",
    "        if self.mazeMap[self.y-1][self.x] ==1 :\n",
    "            \n",
    "            print('갈 수 없습니다.')\n",
    "        elif self.mazeMap[self.y-1][self.x] ==0 :\n",
    "            if self.y >0 :\n",
    "                self.y = self.y - 1\n",
    "                if self.y == 10 :\n",
    "                    self.x = 0\n",
    "                    self.y = 0\n",
    "                    print('갈 수 없습니다.')\n",
    "                    \n",
    "        self.mazeMap[self.y+1][self.x] = 0\n",
    "        self.player()\n",
    "        self.display()\n",
    "    def down(self) :\n",
    "        if self.mazeMap[self.y+1][self.x] ==1 :\n",
    "        \n",
    "            print('갈 수 없습니다.')\n",
    "        elif self.mazeMap[self.y+1][self.x] ==0 :\n",
    "            if self.y <10 :\n",
    "                self.y = self.y + 1\n",
    "                if self.y == 10 :\n",
    "                    self.x = 0\n",
    "                    self.y = 0\n",
    "                    print('갈 수 없습니다.')\n",
    "                    \n",
    "        self.mazeMap[self.y-1][self.x] = 0\n",
    "        self.player()\n",
    "        self.display()"
   ]
  },
  {
   "cell_type": "code",
   "execution_count": 200,
   "id": "ca94ca37",
   "metadata": {},
   "outputs": [
    {
     "name": "stdout",
     "output_type": "stream",
     "text": [
      "☆□■□□□□□□■\n",
      "■□■■■■■■□■\n",
      "■□■□□□□■□■\n",
      "■□■□■■□■□■\n",
      "■□□□■■□■□■\n",
      "□□■■■■□■□■\n",
      "■■□□□□□■□■\n",
      "□□□■■□■■□□\n",
      "□■■■□□□□□□\n",
      "□□□□□■□■□□\n"
     ]
    }
   ],
   "source": [
    "m = maze()\n",
    "m.player()\n",
    "m.display()"
   ]
  },
  {
   "cell_type": "code",
   "execution_count": 196,
   "id": "43bc9dff",
   "metadata": {},
   "outputs": [],
   "source": [
    "m.right()"
   ]
  },
  {
   "cell_type": "code",
   "execution_count": null,
   "id": "8e5f47c7",
   "metadata": {},
   "outputs": [],
   "source": []
  },
  {
   "cell_type": "markdown",
   "id": "d69a0175",
   "metadata": {},
   "source": [
    "## 한 화면에서 실행시키기 "
   ]
  },
  {
   "cell_type": "code",
   "execution_count": null,
   "id": "aba7dbc3",
   "metadata": {},
   "outputs": [],
   "source": [
    "m = maze()\n",
    "m.player()\n",
    "\n",
    "while True:\n",
    "    m.display()\n",
    "    time.sleep(0.1)\n",
    "    if keyboard.is_pressed('8'):\n",
    "        m.up()\n",
    "        \n",
    "    if keyboard.is_pressed('4'):\n",
    "        m.left()\n",
    "        \n",
    "    if keyboard.is_pressed('5'):\n",
    "        m.down()\n",
    "        \n",
    "    if keyboard.is_pressed('6'):\n",
    "        m.right()\n",
    "    \n",
    "    #m.moveDown()\n",
    "    clear_output(wait=True)\n"
   ]
  },
  {
   "cell_type": "code",
   "execution_count": null,
   "id": "55406da7",
   "metadata": {},
   "outputs": [],
   "source": []
  },
  {
   "cell_type": "code",
   "execution_count": null,
   "id": "a27aa4ce",
   "metadata": {},
   "outputs": [],
   "source": []
  },
  {
   "cell_type": "code",
   "execution_count": null,
   "id": "a3047b7b",
   "metadata": {},
   "outputs": [],
   "source": []
  },
  {
   "cell_type": "markdown",
   "id": "63aec738",
   "metadata": {},
   "source": [
    "## 풀이"
   ]
  },
  {
   "cell_type": "code",
   "execution_count": 32,
   "id": "9435a7f4",
   "metadata": {},
   "outputs": [],
   "source": [
    "class maze : \n",
    "    mazeMap = [\n",
    "        [0,0,1,0,0,0,0,0,0,1],\n",
    "        [1,0,1,1,1,1,1,1,0,1],\n",
    "        [1,0,1,0,0,0,0,1,0,1],\n",
    "        [1,0,1,0,1,1,0,1,0,1],\n",
    "        [1,0,0,0,1,1,0,1,0,1],\n",
    "        [0,0,1,1,1,1,0,1,0,1],\n",
    "        [1,1,0,0,0,0,0,1,0,1],\n",
    "        [0,0,0,1,1,0,1,1,0,0],\n",
    "        [0,1,1,1,0,0,0,0,0,0],\n",
    "        [0,0,0,0,0,1,0,1,0,0]\n",
    "    ]\n",
    "    x = 0\n",
    "    y = 0\n",
    "    \n",
    "    def display(self) :\n",
    "        for row in self.mazeMap :\n",
    "            show = ''\n",
    "            for col in row :\n",
    "                if col == 0 : \n",
    "                    show = show + '□'\n",
    "                elif col == 1 :\n",
    "                    show = show  + '■'\n",
    "            print(show)"
   ]
  },
  {
   "cell_type": "code",
   "execution_count": 206,
   "id": "dce8ac3d",
   "metadata": {},
   "outputs": [
    {
     "name": "stdout",
     "output_type": "stream",
     "text": [
      "□□■♡☆□□□□■\n",
      "□□■■■■■■□■\n",
      "□□■□□□□■□■\n",
      "□□■□■■□■□■\n",
      "■□□□■■□■□■\n",
      "□□■■■■□■□■\n",
      "■■□□□□□■□■\n",
      "□□□■■□■■□□\n",
      "□■■■□□□□□□\n",
      "□□□□□■□■□□\n"
     ]
    }
   ],
   "source": [
    "m = maze()\n",
    "m.display()"
   ]
  },
  {
   "cell_type": "code",
   "execution_count": 208,
   "id": "7ac99bb0",
   "metadata": {},
   "outputs": [
    {
     "ename": "SyntaxError",
     "evalue": "unexpected EOF while parsing (<ipython-input-208-076e909a7fc8>, line 43)",
     "output_type": "error",
     "traceback": [
      "\u001b[1;36m  File \u001b[1;32m\"<ipython-input-208-076e909a7fc8>\"\u001b[1;36m, line \u001b[1;32m43\u001b[0m\n\u001b[1;33m    elif self.mazeMap[s\u001b[0m\n\u001b[1;37m                       ^\u001b[0m\n\u001b[1;31mSyntaxError\u001b[0m\u001b[1;31m:\u001b[0m unexpected EOF while parsing\n"
     ]
    }
   ],
   "source": [
    "from IPython.display import clear_output\n",
    "import time\n",
    "import keyboard\n",
    "\n",
    "class Maze:\n",
    "    mazeMap =[\n",
    "    [0,0,0,1,1,1,1,1,1,1],\n",
    "    [1,1,0,1,1,1,1,1,1,1],\n",
    "    [1,1,0,1,1,1,1,1,1,1],\n",
    "    [1,1,0,0,0,1,1,1,1,1],\n",
    "    [1,1,1,1,0,1,1,1,1,1],\n",
    "    [1,1,1,1,0,1,1,1,1,1],\n",
    "    [1,1,1,1,0,1,1,1,1,1],\n",
    "    [1,1,0,0,0,1,0,0,0,1],\n",
    "    [1,1,0,1,1,1,0,1,0,1],\n",
    "    [1,1,0,0,0,0,0,1,0,3]\n",
    "    ]\n",
    "    \n",
    "    x = 0\n",
    "    y = 0\n",
    "            \n",
    "    def setPlayer(self):\n",
    "        self.mazeMap[self.x][self.y]=2\n",
    "        \n",
    "    def display(self):\n",
    "        for row in self.mazeMap:\n",
    "            show = \"\"\n",
    "            for col in row:\n",
    "                if col == 0:\n",
    "                    show = show + \"□\"\n",
    "                elif col == 1:\n",
    "                    show = show + \"■\"\n",
    "                elif col == 2:\n",
    "                    show = show + \"☆\"\n",
    "                elif col == 3:\n",
    "                    show = show + \"♡\"\n",
    "            print(show)\n",
    "    \n",
    "    \n",
    "    def moveRight(self):\n",
    "        if self.mazeMap[self.x][self.y+1] == 1:\n",
    "            print(\"이동 못함\")\n",
    "        elif self.mazeMap[s\n"
   ]
  },
  {
   "cell_type": "code",
   "execution_count": null,
   "id": "945f12f5",
   "metadata": {},
   "outputs": [],
   "source": [
    "m = Maze()\n",
    "m.setPlayer()\n",
    "\n",
    "while True:\n",
    "    m.display()\n",
    "    time.sleep(0.1)\n",
    "    if keyboard.is_pressed('8'):\n",
    "        m.moveUp()\n",
    "        \n",
    "    if keyboard.is_pressed('4'):\n",
    "        m.moveLeft()\n",
    "        \n",
    "    if keyboard.is_pressed('5'):\n",
    "        m.moveDown()\n",
    "        \n",
    "    if keyboard.is_pressed('6'):\n",
    "        m.moveRight()\n",
    "    \n",
    "    #m.moveDown()\n",
    "    clear_output(wait=True)\n"
   ]
  },
  {
   "cell_type": "code",
   "execution_count": null,
   "id": "91cd2761",
   "metadata": {},
   "outputs": [],
   "source": []
  },
  {
   "cell_type": "code",
   "execution_count": null,
   "id": "e8e39be9",
   "metadata": {},
   "outputs": [],
   "source": []
  },
  {
   "cell_type": "code",
   "execution_count": null,
   "id": "4e6b2ba7",
   "metadata": {},
   "outputs": [],
   "source": []
  },
  {
   "cell_type": "code",
   "execution_count": null,
   "id": "0fe441d4",
   "metadata": {},
   "outputs": [],
   "source": []
  },
  {
   "cell_type": "code",
   "execution_count": null,
   "id": "63bd1e6c",
   "metadata": {},
   "outputs": [],
   "source": []
  },
  {
   "cell_type": "code",
   "execution_count": null,
   "id": "0150bf3e",
   "metadata": {},
   "outputs": [],
   "source": []
  },
  {
   "cell_type": "code",
   "execution_count": null,
   "id": "b7f065f9",
   "metadata": {},
   "outputs": [],
   "source": []
  },
  {
   "cell_type": "code",
   "execution_count": null,
   "id": "85c56228",
   "metadata": {},
   "outputs": [],
   "source": []
  },
  {
   "cell_type": "code",
   "execution_count": null,
   "id": "04eaef5f",
   "metadata": {},
   "outputs": [],
   "source": []
  },
  {
   "cell_type": "code",
   "execution_count": null,
   "id": "8a6cbc0e",
   "metadata": {},
   "outputs": [],
   "source": []
  }
 ],
 "metadata": {
  "kernelspec": {
   "display_name": "Python 3",
   "language": "python",
   "name": "python3"
  },
  "language_info": {
   "codemirror_mode": {
    "name": "ipython",
    "version": 3
   },
   "file_extension": ".py",
   "mimetype": "text/x-python",
   "name": "python",
   "nbconvert_exporter": "python",
   "pygments_lexer": "ipython3",
   "version": "3.8.8"
  }
 },
 "nbformat": 4,
 "nbformat_minor": 5
}
