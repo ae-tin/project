{
 "cells": [
  {
   "cell_type": "markdown",
   "id": "4130fc39",
   "metadata": {},
   "source": [
    "# 객체 지향 프로그래밍\n",
    "\n",
    "  코드를 이렇게 짜니까 더 좋네? 하는 프로그래밍 방식(패러다임) 중 하나  \n",
    "  \n",
    "  프로그래밍 하는데 필요한 데이터를 추상화시켜서(공통점을 찾아서) 상태(특징을 변수로)와 행위(함수와 비슷한 메소드로 만듦)를 가진 하나의 객체로 만든다.  \n",
    "  \n",
    "  "
   ]
  },
  {
   "cell_type": "markdown",
   "id": "7bddae1f",
   "metadata": {},
   "source": [
    "ex/\n",
    "수업 관리 프로그램  \n",
    "  \n",
    "학생 데이터가 있다 하지만 학생마다 데이터 디테일이 모두 달라서 기록할 수 없다.  \n",
    "  \n",
    "그래서 데이터의 공통점을 찾음.  \n",
    "이름이 있다.  \n",
    "키가 있다.  \n",
    "나이가 있다.   \n",
    "성별이 있다.  \n",
    "등등  "
   ]
  },
  {
   "cell_type": "markdown",
   "id": "d6aebb96",
   "metadata": {},
   "source": [
    "## 클래스\n",
    "\n",
    "클래스는 객체를 만들기 위한 설계도  \n",
    "  \n",
    "  class 클래스명 :  \n",
    "  속성(변수, 상태)  \n",
    "  메소드(함수개념, 행위)  >> 함수와 거의 같음"
   ]
  },
  {
   "cell_type": "markdown",
   "id": "18403fe9",
   "metadata": {},
   "source": [
    "자동차 게임 만들기  \n"
   ]
  },
  {
   "cell_type": "code",
   "execution_count": 5,
   "id": "793f2d32",
   "metadata": {},
   "outputs": [],
   "source": [
    "class car :\n",
    "    color = ''\n",
    "    model = ''\n",
    "    speed = 0\n",
    "    \n",
    "    def upSpeed(self):  # \n",
    "        self.speed = self.speed + 10\n",
    "        \n",
    "    def downSpeed(self) :\n",
    "        self.speed = self.speed - 10\n",
    "        \n",
    "    def changeColor(self, color) :\n",
    "        self.color = color"
   ]
  },
  {
   "cell_type": "markdown",
   "id": "9aed06ba",
   "metadata": {},
   "source": [
    "메소드는 함수이며, (self) 함수는 매개 변수가 없어도 되나 upSpeed안의 speed가 위에 나온 speed임을 알려주는 거다.  \n",
    "self가 안붙어 있으면 새로운 값이고, self가 붙어 있으면 기존에 나온 변수를 쓰겠다는 말  "
   ]
  },
  {
   "cell_type": "markdown",
   "id": "13b62304",
   "metadata": {},
   "source": [
    "## 객체\n",
    "\n",
    "클래스를 이용해서 생성하는 것  \n",
    "  \n",
    "  변수명 = 클래스이름()"
   ]
  },
  {
   "cell_type": "code",
   "execution_count": 6,
   "id": "93b5af67",
   "metadata": {},
   "outputs": [],
   "source": [
    "mycar1 = car()  # 위의 설계대로의 자동차가 한대 생기는 것\n",
    "                # 같은 제조사의 제품이라 생각하면 편함\n",
    "mycar2 = car()  # 위의 설계대로의 자동차가 한대 생기는 것 "
   ]
  },
  {
   "cell_type": "markdown",
   "id": "d7011456",
   "metadata": {},
   "source": [
    "## 속성\n",
    "\n",
    "속성에 접근할 때는 변수명. 속성이름으로 접근"
   ]
  },
  {
   "cell_type": "code",
   "execution_count": 7,
   "id": "d73509f7",
   "metadata": {},
   "outputs": [],
   "source": [
    "mycar1.color = '파랑'\n",
    "mycar2.color = '빨강'"
   ]
  },
  {
   "cell_type": "code",
   "execution_count": 9,
   "id": "874b7c3f",
   "metadata": {},
   "outputs": [
    {
     "name": "stdout",
     "output_type": "stream",
     "text": [
      "파랑\n",
      "빨강\n"
     ]
    }
   ],
   "source": [
    "print(mycar1.color)\n",
    "print(mycar2.color)"
   ]
  },
  {
   "cell_type": "markdown",
   "id": "6323dc87",
   "metadata": {},
   "source": [
    "## 메소드\n",
    "  \n",
    "  변수명.메소드이름(값1, 값2,,,)"
   ]
  },
  {
   "cell_type": "code",
   "execution_count": 10,
   "id": "349ff7ce",
   "metadata": {},
   "outputs": [
    {
     "name": "stdout",
     "output_type": "stream",
     "text": [
      "0\n"
     ]
    }
   ],
   "source": [
    "print(mycar1.speed)"
   ]
  },
  {
   "cell_type": "code",
   "execution_count": 11,
   "id": "fd8dabbd",
   "metadata": {},
   "outputs": [
    {
     "name": "stdout",
     "output_type": "stream",
     "text": [
      "10\n"
     ]
    }
   ],
   "source": [
    "mycar1.upSpeed()\n",
    "print(mycar1.speed)"
   ]
  },
  {
   "cell_type": "code",
   "execution_count": 12,
   "id": "c97c2f46",
   "metadata": {},
   "outputs": [
    {
     "name": "stdout",
     "output_type": "stream",
     "text": [
      "노랑\n"
     ]
    }
   ],
   "source": [
    "mycar1.changeColor('노랑')\n",
    "print(mycar1.color)"
   ]
  },
  {
   "cell_type": "markdown",
   "id": "03665207",
   "metadata": {},
   "source": [
    "## 문제\n",
    "\n",
    "핸드폰 클래스를 만들어보세요.  \n",
    "속성 2개, 메소드 2개  "
   ]
  },
  {
   "cell_type": "code",
   "execution_count": 13,
   "id": "dfbbc7fc",
   "metadata": {},
   "outputs": [],
   "source": [
    "class phone :\n",
    "    vol = 0\n",
    "    model = ''\n",
    "    \n",
    "    def modelchange(self, company) :\n",
    "        self.model = company\n",
    "        \n",
    "    def volup(self) :\n",
    "        self.vol = self.vol + 5\n",
    "        \n",
    "    def voldown(self) :\n",
    "        self.vol = self.vol - 5"
   ]
  },
  {
   "cell_type": "code",
   "execution_count": 14,
   "id": "8234c76d",
   "metadata": {},
   "outputs": [],
   "source": [
    "stu1 = phone()\n",
    "stu2 = phone()"
   ]
  },
  {
   "cell_type": "code",
   "execution_count": 15,
   "id": "e1b4cfc8",
   "metadata": {},
   "outputs": [],
   "source": [
    "stu1.model = 'iphone'\n",
    "stu2.model = 'galaxy'"
   ]
  },
  {
   "cell_type": "code",
   "execution_count": 16,
   "id": "98a7c584",
   "metadata": {},
   "outputs": [
    {
     "name": "stdout",
     "output_type": "stream",
     "text": [
      "15\n"
     ]
    }
   ],
   "source": [
    "stu1.volup()\n",
    "stu1.volup()\n",
    "stu1.volup()\n",
    "print(stu1.vol)"
   ]
  },
  {
   "cell_type": "code",
   "execution_count": 19,
   "id": "6763565f",
   "metadata": {},
   "outputs": [
    {
     "name": "stdout",
     "output_type": "stream",
     "text": [
      "galaxy\n"
     ]
    }
   ],
   "source": [
    "stu2.modelchange('galaxy')\n",
    "print(stu2.model)"
   ]
  },
  {
   "cell_type": "markdown",
   "id": "66cf3ffc",
   "metadata": {},
   "source": [
    "## 문제\n",
    "\n",
    "핸드폰 객체를 하나 생성하고  \n",
    "  \n",
    "현재 배터리가 50%이고 현재 운영체제 버전은 안드로이드 파이 버전이다.  \n",
    "  \n",
    "  이걸 charge를 통해서 70%까지 충전하고 버전을 스노우콘으로 업데이트 하세요.\n"
   ]
  },
  {
   "cell_type": "code",
   "execution_count": 20,
   "id": "5e6e74ac",
   "metadata": {},
   "outputs": [],
   "source": [
    "class phone :\n",
    "    battery = 50\n",
    "    os = 'pi'\n",
    "    \n",
    "    def chargeBattery(self) :\n",
    "        self.battery = self.battery + 1 \n",
    "    def updateOs(self, os) :\n",
    "        self.os = os"
   ]
  },
  {
   "cell_type": "code",
   "execution_count": 21,
   "id": "bbfd95ac",
   "metadata": {},
   "outputs": [
    {
     "name": "stdout",
     "output_type": "stream",
     "text": [
      "50\n",
      "pi\n"
     ]
    }
   ],
   "source": [
    "myphone = phone()\n",
    "print(myphone.battery)\n",
    "print(myphone.os)"
   ]
  },
  {
   "cell_type": "code",
   "execution_count": 22,
   "id": "3bb93a17",
   "metadata": {},
   "outputs": [
    {
     "name": "stdout",
     "output_type": "stream",
     "text": [
      "70\n"
     ]
    }
   ],
   "source": [
    "for i in range(0,20,1) :\n",
    "    myphone.chargeBattery()\n",
    "\n",
    "print(myphone.battery)"
   ]
  },
  {
   "cell_type": "code",
   "execution_count": 24,
   "id": "ff16c952",
   "metadata": {},
   "outputs": [
    {
     "name": "stdout",
     "output_type": "stream",
     "text": [
      "snow corn\n"
     ]
    }
   ],
   "source": [
    "myphone.updateOs('snow corn')\n",
    "print(myphone.os)"
   ]
  },
  {
   "cell_type": "markdown",
   "id": "6f17062e",
   "metadata": {},
   "source": [
    "## 문제\n",
    "\n",
    "플레이어 클래스를 생성  \n",
    "  \n",
    "  속성  \n",
    "  닉네임  \n",
    "  보유아이템  \n",
    "  체력  \n",
    "  x좌표  \n",
    "  y좌표  \n",
    "  z좌표  \n",
    "  \n",
    "  행위  \n",
    "  아이템획득  >>보유 아이템 추가  \n",
    "  공격받음 >> 체력  \n",
    "  좌표이동 >> 3좌표 이동"
   ]
  },
  {
   "cell_type": "code",
   "execution_count": 37,
   "id": "7677227e",
   "metadata": {},
   "outputs": [],
   "source": [
    "class player : \n",
    "    name = ''\n",
    "    item = []\n",
    "    hp = 100\n",
    "    x = 50\n",
    "    y = 50\n",
    "    z = 100\n",
    "    \n",
    "    def Name(self) :\n",
    "        print('닉네임을 설정하세요')\n",
    "        nick = input()\n",
    "        self.name = nick\n",
    "        print('닉네임이 '+self.name+'으로 설정되었습니다.')\n",
    "    def acquireItem(self, items):\n",
    "        self.item.append(items)\n",
    "        print(items +'를 획득하셨습니다.')\n",
    "        \n",
    "    def attack(self) :\n",
    "        self.hp = self.hp - 5\n",
    "        print('윽')\n",
    "        print('HP가 ' + str(self.hp) +'남았습니다')\n",
    "    def moveDrop(self) :\n",
    "        for i in range(0,10,1) :\n",
    "            self.z = self.z - 10\n",
    "            print(self.z)\n",
    "    def moveFront(self) :\n",
    "        self.y = self.y + 1\n",
    "    \n",
    "    def moveBack(self) :\n",
    "        self.y = self.y - 1\n",
    "    def moveLeft(self) :\n",
    "        self.x = self.x - 1    \n",
    "    def moveRight(self) :\n",
    "        self.x = self.x + 1    \n",
    "    "
   ]
  },
  {
   "cell_type": "code",
   "execution_count": 38,
   "id": "5e8ff687",
   "metadata": {},
   "outputs": [
    {
     "name": "stdout",
     "output_type": "stream",
     "text": [
      "닉네임을 설정하세요\n",
      "태인\n",
      "닉네임이 태인으로 설정되었습니다.\n",
      "태인\n"
     ]
    }
   ],
   "source": [
    "myplay = player()\n",
    "myplay.Name()\n",
    "print(myplay.name)"
   ]
  },
  {
   "cell_type": "code",
   "execution_count": 39,
   "id": "fded11ea",
   "metadata": {},
   "outputs": [
    {
     "name": "stdout",
     "output_type": "stream",
     "text": [
      "m16를 획득하셨습니다.\n"
     ]
    }
   ],
   "source": [
    "myplay.acquireItem('m16')\n"
   ]
  },
  {
   "cell_type": "code",
   "execution_count": 40,
   "id": "768d07fe",
   "metadata": {},
   "outputs": [
    {
     "name": "stdout",
     "output_type": "stream",
     "text": [
      "윽\n",
      "HP가 95남았습니다\n"
     ]
    }
   ],
   "source": [
    "myplay.attack()"
   ]
  },
  {
   "cell_type": "code",
   "execution_count": 42,
   "id": "4c8eb6c1",
   "metadata": {},
   "outputs": [
    {
     "name": "stdout",
     "output_type": "stream",
     "text": [
      "90\n",
      "80\n",
      "70\n",
      "60\n",
      "50\n",
      "40\n",
      "30\n",
      "20\n",
      "10\n",
      "0\n"
     ]
    }
   ],
   "source": [
    "myplay.moveDrop()"
   ]
  },
  {
   "cell_type": "markdown",
   "id": "ca88e05d",
   "metadata": {},
   "source": [
    "## 생성자\n",
    "__init__으로 생성자를 만들면 class player()를 생성할 때 자동으로 실행하게 되며, player1 = player(__init__의 설정) 을 따라가게 된다."
   ]
  },
  {
   "cell_type": "code",
   "execution_count": 41,
   "id": "76afa555",
   "metadata": {},
   "outputs": [],
   "source": [
    "class player : \n",
    "    name = ''\n",
    "    nickname = ''\n",
    "    item = []\n",
    "    hp = 100\n",
    "    x = 50\n",
    "    y = 50\n",
    "    z = 100\n",
    "\n",
    "    def __init__(self, nickname) :\n",
    "        self.nickname = nickname\n",
    "        self.hp = 100\n",
    "    '''    \n",
    "    def Name(self) :\n",
    "        print('닉네임을 설정하세요')\n",
    "        nick = input()\n",
    "        self.name = nick\n",
    "        print('닉네임이 '+self.name+'으로 설정되었습니다.')\n",
    "    def acquireItem(self, items):\n",
    "        self.item.append(items)\n",
    "        print(items +'를 획득하셨습니다.')\n",
    "        \n",
    "    def attack(self) :\n",
    "        self.hp = self.hp - 5\n",
    "        print('윽')\n",
    "        print('HP가 ' + str(self.hp) +'남았습니다')\n",
    "    def moveDrop(self) :\n",
    "        for i in range(0,10,1) :\n",
    "            self.z = self.z - 10\n",
    "            print(self.z)\n",
    "    def moveFront(self) :\n",
    "        self.y = self.y + 1\n",
    "    \n",
    "    def moveBack(self) :\n",
    "        self.y = self.y - 1\n",
    "    def moveLeft(self) :\n",
    "        self.x = self.x - 1    \n",
    "    def moveRight(self) :\n",
    "        self.x = self.x + 1    \n",
    "'''    "
   ]
  },
  {
   "cell_type": "markdown",
   "id": "8603c938",
   "metadata": {},
   "source": [
    "## 문제\n",
    "\n",
    "롤 챔피언 클래스를 생성  \n",
    "  \n",
    "  속성  \n",
    "  챔피언 이름    \n",
    "  체력  \n",
    "  마나  \n",
    "  x좌표  \n",
    "  y좌표  \n",
    "  레벨  \n",
    "  골드  \n",
    "  \n",
    "  행위  \n",
    "  렙업    \n",
    "  골드획득    \n",
    "  아이템구매    \n",
    "  x좌표이동   \n",
    "  y좌표이동"
   ]
  },
  {
   "cell_type": "code",
   "execution_count": 52,
   "id": "67a1a750",
   "metadata": {},
   "outputs": [],
   "source": [
    "class champ : \n",
    "    name = ''\n",
    "    hp = 0\n",
    "    mp = 0\n",
    "    x = 50\n",
    "    y = 50\n",
    "    level = 1\n",
    "    gold = 0\n",
    "    monster = 100\n",
    "    exp = 0\n",
    "    item = []\n",
    "    def __init__(self) :\n",
    "        print('챔피온을 고르세요.')\n",
    "        nick = input()\n",
    "        self.name = nick\n",
    "        if self.name == '리신' :\n",
    "            self.hp = 100\n",
    "            self.mp = 100\n",
    "            self.gold = 300\n",
    "        elif self.name == '가렌' :\n",
    "            self.hp = 100\n",
    "            self.mp = 0\n",
    "            self.gold = 400\n",
    "\n",
    "    def Attack(self) :\n",
    "        self.monster = self.monster -20\n",
    "        self.exp = self.exp + 50\n",
    "        print('몬스터의 체력이 '+str(self.monster)+'남았습니다.')\n",
    "        if self.exp == 100 :\n",
    "            self.exp = 0\n",
    "            self.level = self.level + 1\n",
    "            print('축하합니다. 레벨이 '+str(self.level)+'로 올랐습니다.')\n",
    "        if self.monster == 0 :\n",
    "            self.monster = 100\n",
    "            self.exp = self.exp + 5\n",
    "            self.gold = self.gold + 100\n",
    "            print('골드를 100 획득하셨습니다.')\n",
    "            \n",
    "    def acquireItem(self, items):\n",
    "        self.item.append(items)\n",
    "        print(items +'를 획득하셨습니다.')            \n",
    "            \n",
    "            \n",
    "            \n",
    "            \n",
    "            "
   ]
  },
  {
   "cell_type": "code",
   "execution_count": 53,
   "id": "1c783805",
   "metadata": {},
   "outputs": [
    {
     "name": "stdout",
     "output_type": "stream",
     "text": [
      "챔피온을 고르세요.\n",
      "가렌\n",
      "0\n",
      "400\n"
     ]
    }
   ],
   "source": [
    "my = champ()\n",
    "print(my.mp)\n",
    "print(my.gold)"
   ]
  },
  {
   "cell_type": "code",
   "execution_count": 54,
   "id": "b180cab0",
   "metadata": {},
   "outputs": [
    {
     "name": "stdout",
     "output_type": "stream",
     "text": [
      "몬스터의 체력이 80남았습니다.\n",
      "몬스터의 체력이 60남았습니다.\n",
      "축하합니다. 레벨이 2로 올랐습니다.\n",
      "몬스터의 체력이 40남았습니다.\n",
      "몬스터의 체력이 20남았습니다.\n",
      "축하합니다. 레벨이 3로 올랐습니다.\n",
      "몬스터의 체력이 0남았습니다.\n",
      "골드를 100 획득하셨습니다.\n",
      "몬스터의 체력이 80남았습니다.\n",
      "몬스터의 체력이 60남았습니다.\n",
      "몬스터의 체력이 40남았습니다.\n",
      "몬스터의 체력이 20남았습니다.\n",
      "몬스터의 체력이 0남았습니다.\n",
      "골드를 100 획득하셨습니다.\n"
     ]
    }
   ],
   "source": [
    "for i in range(0,10,1) :\n",
    "    my.Attack()"
   ]
  },
  {
   "cell_type": "code",
   "execution_count": null,
   "id": "30e204f2",
   "metadata": {},
   "outputs": [],
   "source": []
  },
  {
   "cell_type": "markdown",
   "id": "0de52316",
   "metadata": {},
   "source": [
    "# 상속\n",
    "\n",
    "공통된 내용을 클래스로 만들고 해당 내용을 상속 받아 좀 더 디테일한 내용을 추가하여 사용할 수 있다. 이 때 상속을 해주는 부모 클래스 또는 상위, 슈퍼 클래스라고 하며 상속 받는 쪽을 자식, 서브 하위 클래스라고 한다.  \n",
    "  \n",
    "  class 자식클래스명(부모클래스명) :  \n",
    "&nbsp;&nbsp;&nbsp;&nbsp;&nbsp;자식클래스 내용"
   ]
  },
  {
   "cell_type": "code",
   "execution_count": 55,
   "id": "a749eb86",
   "metadata": {},
   "outputs": [],
   "source": [
    "class Tv : \n",
    "    power = False\n",
    "    channel = 0\n",
    "    volume = 0\n",
    "    \n",
    "    def changeChannel(self, channel) :\n",
    "        self.channel = channel\n",
    "    def upVolume(self):\n",
    "        self.volume = self.volume + 10"
   ]
  },
  {
   "cell_type": "code",
   "execution_count": 56,
   "id": "c5b21961",
   "metadata": {},
   "outputs": [],
   "source": [
    "class SmartTv(Tv) : \n",
    "    \n",
    "    def replay(self) :\n",
    "        print('다시보기')"
   ]
  },
  {
   "cell_type": "markdown",
   "id": "b1889807",
   "metadata": {},
   "source": [
    "## 문제\n",
    "\n",
    "동물 클래스  \n",
    "  다리수  \n",
    "  \n",
    "  \n",
    "  개 클래스  \n",
    "  울음소리  \n",
    "  \n",
    "  고양이 클래스  \n",
    "  울음소리  \n",
    "  \n",
    "  앵무새 클래스  \n",
    "  울음소리  "
   ]
  },
  {
   "cell_type": "code",
   "execution_count": 87,
   "id": "11b88c0f",
   "metadata": {},
   "outputs": [],
   "source": [
    "class Animal :\n",
    "    leg = 0\n",
    "    animal = ''\n",
    "    def __init__(self) :\n",
    "        print('이 동물은 무슨 동물인가요?')\n",
    "        ani = input()\n",
    "        self.animal = ani\n",
    "        print(ani+'이네요!')\n",
    "        if ani == '개' :\n",
    "            self.leg = 4\n",
    "        if ani == '고양이' :\n",
    "            self.leg = 4\n",
    "        if ani == '앵무새' :\n",
    "            self.leg = 2\n",
    "        "
   ]
  },
  {
   "cell_type": "code",
   "execution_count": 88,
   "id": "e2bc5a7c",
   "metadata": {},
   "outputs": [],
   "source": [
    "class dog(Animal) :\n",
    "    vo = ''\n",
    "    def voice(self) :\n",
    "        print('개는 어떻게 우나요~')\n",
    "        d = input()\n",
    "        self.vo = d\n",
    "        print(d)\n",
    "        \n",
    "class cat(Animal) :\n",
    "    vo = ''\n",
    "    def voice(self) :\n",
    "        print('고양이는 어떻게 우나요~')\n",
    "        d = input()\n",
    "        self.vo = d\n",
    "        print(d)\n",
    "        \n",
    "class bird(Animal) :\n",
    "    vo = ''\n",
    "    def voice(self) :\n",
    "        print('앵무새는 어떻게 우나요~')\n",
    "        d = input()\n",
    "        self.vo = d\n",
    "        print(dd)"
   ]
  },
  {
   "cell_type": "code",
   "execution_count": 89,
   "id": "561248bb",
   "metadata": {},
   "outputs": [
    {
     "name": "stdout",
     "output_type": "stream",
     "text": [
      "이 동물은 무슨 동물인가요?\n",
      "개\n",
      "개이네요!\n",
      "4\n"
     ]
    }
   ],
   "source": [
    "dog1 = dog()\n",
    "print(dog1.leg)"
   ]
  },
  {
   "cell_type": "markdown",
   "id": "2304e7ee",
   "metadata": {},
   "source": [
    "상속받은 animal의 init부터 시작한다!!!"
   ]
  },
  {
   "cell_type": "markdown",
   "id": "8f86dc1a",
   "metadata": {},
   "source": [
    "## 문제\n",
    "\n",
    "챔피언 클래스를 상속 받은  \n",
    "  \n",
    "  근거리 챔피언, 원거리 챔피언"
   ]
  },
  {
   "cell_type": "code",
   "execution_count": 71,
   "id": "0afeaef5",
   "metadata": {},
   "outputs": [],
   "source": [
    "class close(champ) :\n",
    "    skill = ''\n",
    "    def skill(self, skillname) :\n",
    "        self.skill = skillname\n",
    "        print(self.skill)\n",
    "class far(champ) :\n",
    "    skill = ''\n",
    "    def skill(self, skillname) :\n",
    "        self.skill = skillname\n",
    "        print(self.skill)\n",
    "\n",
    "        "
   ]
  },
  {
   "cell_type": "code",
   "execution_count": 72,
   "id": "991b2073",
   "metadata": {},
   "outputs": [
    {
     "name": "stdout",
     "output_type": "stream",
     "text": [
      "챔피온을 고르세요.\n",
      "가렌\n"
     ]
    }
   ],
   "source": [
    "play1 = close()"
   ]
  },
  {
   "cell_type": "code",
   "execution_count": 90,
   "id": "e074468f",
   "metadata": {},
   "outputs": [
    {
     "name": "stdout",
     "output_type": "stream",
     "text": [
      "퍽\n"
     ]
    }
   ],
   "source": [
    "play1.skill('퍽')"
   ]
  },
  {
   "cell_type": "markdown",
   "id": "7dc71040",
   "metadata": {},
   "source": [
    "## 오버로딩 - 하나의 클래스 안에서 만드는 것\n",
    "\n",
    "  파이썬에서는 적식으로 오버로딩을 지원해주지 않는다.  \n",
    "  똑같은 이름의 메소드를 사용할 때 매개변수가 하나일 때 동작하는 메소드  \n",
    "  매개변수가 두개일 때 동작하는 메소드를 각각 만드는 것\n",
    "  \n",
    "  \n",
    "## 오버라이딩 - 상속받은 크래스에서 만드는 것\n",
    "  \n",
    "  상속받은 클래스가 부모로부터 받은 메소드를 본인에게 맞게 변경해서 사용 하는 것\n"
   ]
  },
  {
   "cell_type": "code",
   "execution_count": 92,
   "id": "82b36df2",
   "metadata": {},
   "outputs": [],
   "source": [
    "class car : \n",
    "    speed = 0\n",
    "    def upspeed(self):\n",
    "        self.speed = self.speed + 10\n",
    "        print('현재 속도 : '+ self.speed)"
   ]
  },
  {
   "cell_type": "code",
   "execution_count": 93,
   "id": "4a3db957",
   "metadata": {},
   "outputs": [],
   "source": [
    "class sportscar(car) :\n",
    "    def upspeed(self) :\n",
    "        self.speed = self.speed + 50\n",
    "        print('스포츠카의 현재 속도 : '+ self.speed)    "
   ]
  },
  {
   "cell_type": "markdown",
   "id": "27538250",
   "metadata": {},
   "source": [
    "이거는 오버라이딩!! 그냥 부모 클래스의 메소드 고쳐쓰는 거라고 생각함"
   ]
  },
  {
   "cell_type": "markdown",
   "id": "aa1f8c3c",
   "metadata": {},
   "source": [
    "## 문제!!!!!!!!!\n",
    "전에 했던 스택 자료구조를 객체지향 프로그래밍으로 만들기  \n",
    "  \n",
    "스택을 클래스로 만들기  \n",
    "속성  \n",
    "저장할 수 있는 리스트  \n",
    "현재 어디까지 저장됐는지 나타내는 top  \n",
    "  \n",
    "  행위  \n",
    "  데이터를 저장  \n",
    "  데이터를 삭제  \n",
    "  현재 저장된 데이터를 모두 출력\n",
    "  "
   ]
  },
  {
   "cell_type": "markdown",
   "id": "ce5eabc9",
   "metadata": {},
   "source": [
    "## 문제 - 이거는 스택 파일에서 했던 것\n",
    "\n",
    "스택 자료 구조 구현하기  \n",
    "  \n",
    "  마지막에 저장한 데이터가 제일 먼저 삭제된다.  \n",
    "  \n",
    "  제일 먼저 저장한 데이터는 제일 나중에 삭제된다. \n",
    "  \n",
    "  1. 데이터는 숫자만 저장할 것.\n",
    "  2. 한번에 하나의 데이터만 저장할 것.\n",
    "  3. 데이터를 저장하는 기능을 push라고 한다.\n",
    "  4. 데이터를 삭제하는 기능을 pop라고 한다. \n",
    "  5. 현제 데이터가 어디까지 저장됐는지 top에 저장한다.\n",
    "  \n",
    "  현재 스택의 데이터를 모두 출력하는 기능  \n",
    "  \n",
    "  스택에 데이터를 집어 넣는 기능  \n",
    "  스택에서 데이터를 삭제하는 기능  \n",
    "    마지막에 저장한 데이터부터 삭제"
   ]
  },
  {
   "cell_type": "code",
   "execution_count": 121,
   "id": "7bc28834",
   "metadata": {},
   "outputs": [],
   "source": [
    "class stack :\n",
    "    save = []\n",
    "    top = -1\n",
    "    size = 0\n",
    "    \n",
    "    def __init__(self) :\n",
    "        print('저장공간을 설정하세요.')\n",
    "        self.size = int(input())\n",
    "        for i in (0,self.size,1) :\n",
    "            self.save.append(0)\n",
    "            \n",
    "    def push(self, data) :\n",
    "        print('저장할 데이터를 입력하세요')\n",
    "        data = input()\n",
    "        self.save.append(data)\n",
    "        while self.size < len(self.save) :\n",
    "            del save[-1]\n",
    "        for i in range(0,len(save)) :\n",
    "            if save[i] != 0 :\n",
    "                top = top + 1\n",
    "            elif save[i] == 0 :\n",
    "                break\n",
    "        \n",
    "    def pop(self) :\n",
    "        del(self.save[0])\n",
    "        for i in range(0,len(self.size),1) :\n",
    "            if self.save[i] == 0 :\n",
    "                self.save.insert(i,0)\n",
    "        top = top -1\n",
    "        \n",
    "        "
   ]
  },
  {
   "cell_type": "code",
   "execution_count": 147,
   "id": "495654f5",
   "metadata": {},
   "outputs": [
    {
     "name": "stdout",
     "output_type": "stream",
     "text": [
      "저장공간을 설정하세요.\n",
      "1\n"
     ]
    }
   ],
   "source": [
    "stacker = stack()"
   ]
  },
  {
   "cell_type": "code",
   "execution_count": 148,
   "id": "e3849e33",
   "metadata": {},
   "outputs": [
    {
     "name": "stdout",
     "output_type": "stream",
     "text": [
      "[0, 0, 0, 0, 0, 0, 0, 0, 0, 0, 0, 0, 0, 0, 0]\n"
     ]
    }
   ],
   "source": [
    "print(stacker.save)"
   ]
  },
  {
   "cell_type": "markdown",
   "id": "245a8d50",
   "metadata": {},
   "source": [
    "으어엉 왜 0 개수가 지멋대로인것이야,,,,"
   ]
  },
  {
   "cell_type": "markdown",
   "id": "21f3123a",
   "metadata": {},
   "source": [
    "## 풀이"
   ]
  },
  {
   "cell_type": "code",
   "execution_count": 149,
   "id": "25028322",
   "metadata": {},
   "outputs": [],
   "source": [
    "class stack : \n",
    "    data = [0,0,0,0,0,0,0,0,0,0]\n",
    "    top = -1\n",
    "    \n",
    "    def push(self,data):\n",
    "        self.top = self.top + 1\n",
    "        self.data[self.top] = data\n",
    "    def pop(self) :\n",
    "        self.data[self.top] = 0\n",
    "        self.top = self.top -1\n",
    "        \n",
    "    def display(self) :\n",
    "        print(self.data)"
   ]
  },
  {
   "cell_type": "code",
   "execution_count": 150,
   "id": "558d0637",
   "metadata": {},
   "outputs": [],
   "source": [
    "s = stack()"
   ]
  },
  {
   "cell_type": "code",
   "execution_count": 151,
   "id": "f9498d25",
   "metadata": {},
   "outputs": [
    {
     "name": "stdout",
     "output_type": "stream",
     "text": [
      "[0, 0, 0, 0, 0, 0, 0, 0, 0, 0]\n"
     ]
    }
   ],
   "source": [
    "s.display()"
   ]
  },
  {
   "cell_type": "code",
   "execution_count": 152,
   "id": "1b1e420c",
   "metadata": {},
   "outputs": [],
   "source": [
    "s.push(2)\n",
    "s.push(23)\n",
    "s.push(24)\n"
   ]
  },
  {
   "cell_type": "code",
   "execution_count": 153,
   "id": "43266e99",
   "metadata": {},
   "outputs": [
    {
     "name": "stdout",
     "output_type": "stream",
     "text": [
      "[2, 23, 24, 0, 0, 0, 0, 0, 0, 0]\n"
     ]
    }
   ],
   "source": [
    "s.display()"
   ]
  },
  {
   "cell_type": "markdown",
   "id": "ae83b805",
   "metadata": {},
   "source": [
    "data입력할 때에 top으로 인덱스를 맞춰주니까 편하구먼 "
   ]
  },
  {
   "cell_type": "code",
   "execution_count": null,
   "id": "9b636b5f",
   "metadata": {},
   "outputs": [],
   "source": []
  },
  {
   "cell_type": "code",
   "execution_count": null,
   "id": "611b0cdb",
   "metadata": {},
   "outputs": [],
   "source": []
  },
  {
   "cell_type": "code",
   "execution_count": null,
   "id": "2de929e4",
   "metadata": {},
   "outputs": [],
   "source": []
  },
  {
   "cell_type": "code",
   "execution_count": null,
   "id": "5e72a9e8",
   "metadata": {},
   "outputs": [],
   "source": []
  }
 ],
 "metadata": {
  "kernelspec": {
   "display_name": "Python 3",
   "language": "python",
   "name": "python3"
  },
  "language_info": {
   "codemirror_mode": {
    "name": "ipython",
    "version": 3
   },
   "file_extension": ".py",
   "mimetype": "text/x-python",
   "name": "python",
   "nbconvert_exporter": "python",
   "pygments_lexer": "ipython3",
   "version": "3.8.8"
  }
 },
 "nbformat": 4,
 "nbformat_minor": 5
}
