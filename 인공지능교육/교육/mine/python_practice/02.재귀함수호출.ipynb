{
 "cells": [
  {
   "cell_type": "markdown",
   "id": "d38a5a42",
   "metadata": {},
   "source": [
    "# 재귀 함수\n",
    "\n",
    "함수 안에서 해당 함수를 다시 호출하는 함수\n",
    "\n",
    "마치 무한 반복문처럼 계속 반복해서 동작한다.\n",
    "\n",
    "\n",
    "    def hello():\n",
    "        print(\"안녕하세요.\")\n",
    "        hello()\n",
    "        \n",
    "    hello()"
   ]
  },
  {
   "cell_type": "code",
   "execution_count": 3,
   "id": "49165881",
   "metadata": {},
   "outputs": [
    {
     "name": "stdout",
     "output_type": "stream",
     "text": [
      "3\n",
      "2\n",
      "1\n",
      "종료\n"
     ]
    }
   ],
   "source": [
    "# 숫자를 하나 전달받아서 전달받은 숫자만큼 재귀적 호출이 일어나는 함수\n",
    "\n",
    "#    함수 안에서 해당 함수를 다시 호출\n",
    "#    전달받은 숫자만큼만 반복\n",
    "\n",
    "def countdown(num):\n",
    "    if num==0:\n",
    "        print(\"종료\")\n",
    "    else:\n",
    "        print(num)\n",
    "        countdown(num-1)\n",
    "        \n",
    "        \n",
    "countdown(3)"
   ]
  },
  {
   "cell_type": "code",
   "execution_count": 4,
   "id": "25d44bee",
   "metadata": {},
   "outputs": [
    {
     "name": "stdout",
     "output_type": "stream",
     "text": [
      "8\n"
     ]
    }
   ],
   "source": [
    "def test(num):\n",
    "    if num <= 1:\n",
    "        return 1\n",
    "    else:\n",
    "        return test(num-1) + test(num-2)\n",
    "    \n",
    "print(test(5))"
   ]
  },
  {
   "cell_type": "code",
   "execution_count": 6,
   "id": "3b901c71",
   "metadata": {},
   "outputs": [
    {
     "name": "stdout",
     "output_type": "stream",
     "text": [
      "4\n",
      "3\n",
      "2\n",
      "1\n",
      "1\n",
      "2\n",
      "1\n",
      "1\n",
      "3\n",
      "2\n",
      "1\n",
      "1\n",
      "2\n",
      "1\n",
      "1\n",
      "8\n"
     ]
    }
   ],
   "source": [
    "def test(num):\n",
    "    print(num)\n",
    "    \n",
    "    if num == 0 :\n",
    "        return 0\n",
    "    elif num == 1 :\n",
    "        return 1\n",
    "    else :\n",
    "        return test(num-1) + test(num-1)\n",
    "    \n",
    "print(test(4))"
   ]
  },
  {
   "cell_type": "markdown",
   "id": "f714e490",
   "metadata": {},
   "source": [
    "# 2진수 변환\n",
    "\n",
    "\n",
    "0~9  10진법, 0~9까지 총 10개의 숫자로 모든 수를 표현\n",
    "\n",
    "0~1   2진법, 0~1의 총 2개의 숫자로 모든 수를 표현\n",
    "\n",
    "\n",
    "10 진법을 2진법으로 바꾸는 방법\n",
    "    ex)     56 ÷ 2 = 28   나머지  0\n",
    "            28 ÷ 2 = 14   나머지  0\n",
    "            14 ÷ 2 = 7    나머지  0\n",
    "             7 ÷ 2 = 3    나머지  1\n",
    "             3 ÷ 2 = 1    나머지  1\n",
    "             \n",
    "                     1 1 1 0 0 0\n",
    "\n",
    "            a / b  소수점 찍힘, 여기서 쓰면 안됨\n",
    "            a // b  몫\n",
    "            a % b 나머지"
   ]
  },
  {
   "cell_type": "code",
   "execution_count": 2,
   "id": "70c92594",
   "metadata": {},
   "outputs": [
    {
     "name": "stdout",
     "output_type": "stream",
     "text": [
      "111000"
     ]
    }
   ],
   "source": [
    "def to_bin(num):\n",
    "    if num < 2 :         # 만약에 num가 2보다 작으면 num를 출력\n",
    "        print(num,end='')\n",
    "    else:     # 그렇지 않으면 num를 2로 나눈 몫을 다시 to_bun에 호출하고 \n",
    "        to_bin(num//2)\n",
    "        print(num%2,end='')\n",
    "    #                                           num를 2로 나눈 나머지를 출력\n",
    "\n",
    "\n",
    "to_bin(56)"
   ]
  },
  {
   "cell_type": "markdown",
   "id": "3eaa2945",
   "metadata": {},
   "source": [
    "### 유클리드 알고리즘\n",
    "\n",
    "1. 두 수 a, b가 있을 때  (a>b)\n",
    "\n",
    "2. a를 b로 나눈 나머지를 n (a%b=n)\n",
    "\n",
    "3. n이 0이면 b가 두 수의 최대 공약수\n",
    "\n",
    "4. 만약에 n이 0이 아니면 a에 b를 넣고, b에 n를 넣어서 다시 2.번을 반복\n",
    "\n"
   ]
  },
  {
   "cell_type": "code",
   "execution_count": 3,
   "id": "08938ed6",
   "metadata": {},
   "outputs": [
    {
     "name": "stdout",
     "output_type": "stream",
     "text": [
      "12\n"
     ]
    }
   ],
   "source": [
    "def gcd(a,b):\n",
    "    if a % b == 0:\n",
    "        return b\n",
    "    else :\n",
    "        return gcd(b,a%b)\n",
    "    \n",
    "print(gcd(96,36))"
   ]
  }
 ],
 "metadata": {
  "kernelspec": {
   "display_name": "Python 3",
   "language": "python",
   "name": "python3"
  },
  "language_info": {
   "codemirror_mode": {
    "name": "ipython",
    "version": 3
   },
   "file_extension": ".py",
   "mimetype": "text/x-python",
   "name": "python",
   "nbconvert_exporter": "python",
   "pygments_lexer": "ipython3",
   "version": "3.8.8"
  }
 },
 "nbformat": 4,
 "nbformat_minor": 5
}
