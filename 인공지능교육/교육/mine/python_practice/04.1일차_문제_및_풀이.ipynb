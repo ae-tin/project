{
 "cells": [
  {
   "cell_type": "markdown",
   "id": "73a402ad",
   "metadata": {},
   "source": [
    "# 문제\n",
    "\n",
    "\t국어 점수를 입력 받으시오.\n",
    "\t영어 점수를 입력 받으시오.\n",
    "\t수학 점수를 입력 받으시오.\n",
    "\n",
    "\t3개의 점수의 평균을 구하시오.\n",
    "\n",
    "\t평균이 60 이상이면 합격을 출력하고\n",
    "\t그렇지 않으면 탈락을 출력하는 프로그램"
   ]
  },
  {
   "cell_type": "markdown",
   "id": "b37286f4",
   "metadata": {},
   "source": [
    "국어 점수를 입력 받으시오."
   ]
  },
  {
   "cell_type": "code",
   "execution_count": 1,
   "id": "ab40dfc5",
   "metadata": {},
   "outputs": [
    {
     "name": "stdout",
     "output_type": "stream",
     "text": [
      "70\n"
     ]
    }
   ],
   "source": [
    "kor=input()"
   ]
  },
  {
   "cell_type": "markdown",
   "id": "5f154eb6",
   "metadata": {},
   "source": [
    "영어 점수를 입력 받으시오."
   ]
  },
  {
   "cell_type": "code",
   "execution_count": 2,
   "id": "72667610",
   "metadata": {},
   "outputs": [
    {
     "name": "stdout",
     "output_type": "stream",
     "text": [
      "80\n"
     ]
    }
   ],
   "source": [
    "eng=input()"
   ]
  },
  {
   "cell_type": "markdown",
   "id": "06f47494",
   "metadata": {},
   "source": [
    "수학 점수를 입력 받으시오."
   ]
  },
  {
   "cell_type": "code",
   "execution_count": 3,
   "id": "77a92700",
   "metadata": {},
   "outputs": [
    {
     "name": "stdout",
     "output_type": "stream",
     "text": [
      "90\n"
     ]
    }
   ],
   "source": [
    "math=input()"
   ]
  },
  {
   "cell_type": "markdown",
   "id": "1e41a522",
   "metadata": {},
   "source": [
    "3개의 점수의 평균을 구하시오."
   ]
  },
  {
   "cell_type": "code",
   "execution_count": 6,
   "id": "759a9bd1",
   "metadata": {},
   "outputs": [],
   "source": [
    "total = int(kor) + int(eng) + int(math)"
   ]
  },
  {
   "cell_type": "code",
   "execution_count": 7,
   "id": "81442ec7",
   "metadata": {},
   "outputs": [],
   "source": [
    "avg = total/3"
   ]
  },
  {
   "cell_type": "code",
   "execution_count": 8,
   "id": "9b91a473",
   "metadata": {},
   "outputs": [
    {
     "name": "stdout",
     "output_type": "stream",
     "text": [
      "80.0\n"
     ]
    }
   ],
   "source": [
    "print(avg)"
   ]
  },
  {
   "cell_type": "markdown",
   "id": "db1e212b",
   "metadata": {},
   "source": [
    "평균이 60 이상이면  \n",
    "&nbsp;&nbsp;&nbsp;&nbsp;합격을 출력  \n",
    "그렇지 않으면  \n",
    "&nbsp;&nbsp;&nbsp;&nbsp;탈락을 출력"
   ]
  },
  {
   "cell_type": "code",
   "execution_count": 13,
   "id": "9099fe37",
   "metadata": {},
   "outputs": [
    {
     "name": "stdout",
     "output_type": "stream",
     "text": [
      "합격\n"
     ]
    }
   ],
   "source": [
    "if avg>=60:\n",
    "    print(\"합격\")\n",
    "else :\n",
    "    print(\"탈락\")"
   ]
  }
 ],
 "metadata": {
  "kernelspec": {
   "display_name": "Python 3",
   "language": "python",
   "name": "python3"
  },
  "language_info": {
   "codemirror_mode": {
    "name": "ipython",
    "version": 3
   },
   "file_extension": ".py",
   "mimetype": "text/x-python",
   "name": "python",
   "nbconvert_exporter": "python",
   "pygments_lexer": "ipython3",
   "version": "3.8.8"
  }
 },
 "nbformat": 4,
 "nbformat_minor": 5
}
