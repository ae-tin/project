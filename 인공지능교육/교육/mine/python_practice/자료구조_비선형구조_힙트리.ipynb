{
 "cells": [
  {
   "cell_type": "markdown",
   "id": "aa2330ca",
   "metadata": {},
   "source": [
    "### 힙 트리\n",
    "\n"
   ]
  },
  {
   "cell_type": "code",
   "execution_count": null,
   "id": "3a6d7a89",
   "metadata": {},
   "outputs": [],
   "source": [
    "### 힙 트리"
   ]
  },
  {
   "cell_type": "code",
   "execution_count": null,
   "id": "8ed180fa",
   "metadata": {},
   "outputs": [],
   "source": [
    "class Node:\n",
    "    data = None\n",
    "    leftNode = None\n",
    "    rightNode = None\n",
    "    \n",
    "class BST:\n",
    "    root = None\n",
    "    \n",
    "    def insert(self, node, num):\n",
    "        newNode = Node()\n",
    "        newNode.data = num\n",
    "        \n",
    "        if self.root == None:\n",
    "            self.root = newNode\n",
    "        else:\n",
    "            if num > node.data :\n",
    "                if node.rightNode == None:\n",
    "                    node.rightNode = newNode\n",
    "                else:\n",
    "                    self.insert(node.rightNode, num)\n",
    "            elif num < node.data:\n",
    "                if node.leftNode == None:\n",
    "                    node.leftNode = newNode\n",
    "                else:\n",
    "                    self.insert(node.leftNode, num)\n",
    "                    \n",
    " \n",
    "    def inorder(self, node):\n",
    "        if node == None:\n",
    "            return\n",
    "        \n",
    "        if node.leftNode != None:\n",
    "            self.inorder(node.leftNode)\n",
    "            \n",
    "        print(node.data)\n",
    "        \n",
    "        if node.rightNode != None:\n",
    "            self.inorder(node.rightNode)\n",
    "            \n",
    "            \n",
    "    def preorder(self, node) :\n",
    "        if node == None:\n",
    "            return\n",
    "        \n",
    "        print(node.data)\n",
    "        \n",
    "        if node.leftNode != None:\n",
    "            self.preorder(node.leftNode)\n",
    "        \n",
    "        if node.rightNode != None:\n",
    "            self.preorder(node.rightNode)\n",
    "            \n",
    "    def postorder(self, node) :\n",
    "        if node == None:\n",
    "            return\n",
    "        \n",
    "        if node.leftNode != None:\n",
    "            self.preorder(node.leftNode)\n",
    "        \n",
    "        if node.rightNode != None:\n",
    "            self.preorder(node.rightNode)\n",
    "            \n",
    "        print(node.data)\n",
    "        \n",
    "    def delete_data(self, node ,data) :\n",
    "       \n",
    "        if node.data == data :\n",
    "            if (node.leftNode or node.rightNode) == None :\n",
    "                return None\n",
    "            \n",
    "            elif node.leftNode == None and node.rightNode != None :\n",
    "                return node.rightNode\n",
    "            elif node.leftNode != None and node.rightNode == None :\n",
    "                return node.leftNode           \n",
    "            elif node.leftNode != None and node.rightNode != None :\n",
    "                newNode = Node()\n",
    "                newNode.data = self.search_min(node.rightNode) \n",
    "                newNode.rightNode = node.rightNode\n",
    "                newNode.leftNode = node.leftNode\n",
    "                del node , self.search_min(node.rightNode) \n",
    "                return newNode\n",
    "                \n",
    "                \n",
    "                \n",
    "        elif node.data < data :\n",
    "            node.rightNode = self.delete_data(node.rightNode, data)\n",
    "        elif node.data > data :\n",
    "            node.leftNode = self.delete_data(node.leftNode, data)\n",
    "            \n",
    "    def search_min(self,node) :\n",
    "        if node.leftNode==None :\n",
    "            return node.data\n",
    "        else : \n",
    "            return self.search_min(node.leftNode)\n",
    "        "
   ]
  },
  {
   "cell_type": "code",
   "execution_count": null,
   "id": "8edfe298",
   "metadata": {},
   "outputs": [],
   "source": [
    "class Node:\n",
    "    data = None\n",
    "    leftNode = None\n",
    "    rightNode = None\n",
    "    \n",
    "class BST:\n",
    "    root = None\n",
    "    \n",
    "    def insert(self, node, num):\n",
    "        newNode = Node()\n",
    "        newNode.data = num\n",
    "        \n",
    "        if self.root == None:\n",
    "            self.root = newNode\n",
    "        else:\n",
    "            if num > node.data :\n",
    "                if node.rightNode == None:\n",
    "                    node.rightNode = newNode\n",
    "                else:\n",
    "                    self.insert(node.rightNode, num)\n",
    "            elif num < node.data:\n",
    "                if node.leftNode == None:\n",
    "                    node.leftNode = newNode\n",
    "                else:\n",
    "                    self.insert(node.leftNode, num)\n",
    "                    "
   ]
  },
  {
   "cell_type": "markdown",
   "id": "d184789f",
   "metadata": {},
   "source": [
    "힙트리를 리스트로 구현  \n",
    "  \n",
    "  0번 인덱스는 비워둔다.  \n",
    "  1번 인덱스는 루트노드  \n",
    "  \n",
    "  왼쪽 자식노드는 부모 인덱스 번호 *2  \n",
    "  \n",
    "  오른쪽 자식노드는 부모 인덱스 번호 *2+1"
   ]
  },
  {
   "cell_type": "code",
   "execution_count": 27,
   "id": "68d8948d",
   "metadata": {},
   "outputs": [],
   "source": [
    "class HeapTree :\n",
    "    heap_lst = [0,0,0,0,0,0,0,0,0,0]\n",
    "    idx = 1\n",
    "    def insert(self, data) :\n",
    "        for i in range(1,len(self.heap_lst),1) :\n",
    "            if self.heap_lst[i] == 0 :\n",
    "                self.heap_lst[i] = data\n",
    "                break\n",
    "    def insert2(self, data):\n",
    "        self.heap_lst[self.idx] = data\n",
    "        \n",
    "        position = self.idx\n",
    "        while position > 1:\n",
    "            if self.heap_lst[position] > self.heap_lst[position//2] :\n",
    "                tmp = self.heap_lst[position]\n",
    "                self.heap_lst[position] = self.heap_lst[position//2]\n",
    "                self.heap_lst[position//2] = tmp \n",
    "                position = position//2\n",
    "        self.idx = self.idx + 1\n",
    "   \n",
    "    def delete(self) :\n",
    "        del self.heap_lst[1]\n",
    "        self.heap_lst.append(0)\n",
    "        position = self.idx\n",
    "        while position > 1:\n",
    "            if self.heap_lst[position] > self.heap_lst[position//2] :\n",
    "                tmp = self.heap_lst[position]\n",
    "                self.heap_lst[position] = self.heap_lst[position//2]\n",
    "                self.heap_lst[position//2] = tmp \n",
    "        \n",
    "        \n",
    "    def sort(self) :\n",
    "        for i in range(self.idx-1,0,1) :\n",
    "            print(self.heap_lst[1])\n",
    "            self.heap_lst.pop(1)\n",
    "            self.heap_lst[1] = self.heap_lst[idx-1]\n",
    "            self.heap_lst[idx-1] = 0\n",
    "\n",
    "    def sort(self,positon) :\n",
    "        if position ==0 :\n",
    "            return\n",
    "        else :\n",
    "            print(self.heap_lst[1])\n",
    "            self.heap_lst[1] = self.heap_lst[position]\n",
    "            self.heap_lst[position] =0\n",
    "            \n",
    "            \n",
    "            \n",
    "            print('test',self.heap_lst)\n",
    "            self.sort(position-1)\n",
    "    def heapify(self,i) :\n",
    "        if 2*i +1>10:\n",
    "            return\n",
    "        \n",
    "        if self.heap_lst[i] <self.heap_lst[2*i] or self.heap_lst[i]<self.heap_lst[2*i+1]:\n",
    "            if self.heap_lst[2*i]>self.heap_lst[2*i+1]:\n",
    "                tmp = self.heap_lst[i]\n",
    "                self.heap_lst[i] = self.heap_lst[2*i]\n",
    "                self.heap_lst[2*i] = tmp\n",
    "                self.heapify(2*i)\n",
    "            elif self.heap_lst[2*i]<self.heap_lst[2*i+1]:\n",
    "                tmp = self.heap_lst[i]\n",
    "                self.heap_lst[i] = self.heap_lst[2*i+1]\n",
    "                self.heap_lst[2*i + 1] = tmp\n",
    "                self.heapify(2*i+1)\n",
    "        \n",
    "\n",
    "    "
   ]
  },
  {
   "cell_type": "code",
   "execution_count": 25,
   "id": "89efcbea",
   "metadata": {},
   "outputs": [],
   "source": [
    "h = HeapTree()"
   ]
  },
  {
   "cell_type": "code",
   "execution_count": 26,
   "id": "451e8721",
   "metadata": {},
   "outputs": [
    {
     "ename": "KeyboardInterrupt",
     "evalue": "",
     "output_type": "error",
     "traceback": [
      "\u001b[1;31m---------------------------------------------------------------------------\u001b[0m",
      "\u001b[1;31mKeyboardInterrupt\u001b[0m                         Traceback (most recent call last)",
      "\u001b[1;32m<ipython-input-26-02794bae50d1>\u001b[0m in \u001b[0;36m<module>\u001b[1;34m\u001b[0m\n\u001b[0;32m      1\u001b[0m \u001b[0mh\u001b[0m\u001b[1;33m.\u001b[0m\u001b[0minsert2\u001b[0m\u001b[1;33m(\u001b[0m\u001b[1;36m3\u001b[0m\u001b[1;33m)\u001b[0m\u001b[1;33m\u001b[0m\u001b[1;33m\u001b[0m\u001b[0m\n\u001b[0;32m      2\u001b[0m \u001b[0mh\u001b[0m\u001b[1;33m.\u001b[0m\u001b[0minsert2\u001b[0m\u001b[1;33m(\u001b[0m\u001b[1;36m6\u001b[0m\u001b[1;33m)\u001b[0m\u001b[1;33m\u001b[0m\u001b[1;33m\u001b[0m\u001b[0m\n\u001b[1;32m----> 3\u001b[1;33m \u001b[0mh\u001b[0m\u001b[1;33m.\u001b[0m\u001b[0minsert2\u001b[0m\u001b[1;33m(\u001b[0m\u001b[1;36m4\u001b[0m\u001b[1;33m)\u001b[0m\u001b[1;33m\u001b[0m\u001b[1;33m\u001b[0m\u001b[0m\n\u001b[0m\u001b[0;32m      4\u001b[0m \u001b[0mh\u001b[0m\u001b[1;33m.\u001b[0m\u001b[0minsert2\u001b[0m\u001b[1;33m(\u001b[0m\u001b[1;36m8\u001b[0m\u001b[1;33m)\u001b[0m\u001b[1;33m\u001b[0m\u001b[1;33m\u001b[0m\u001b[0m\n\u001b[0;32m      5\u001b[0m \u001b[0mh\u001b[0m\u001b[1;33m.\u001b[0m\u001b[0minsert2\u001b[0m\u001b[1;33m(\u001b[0m\u001b[1;36m9\u001b[0m\u001b[1;33m)\u001b[0m\u001b[1;33m\u001b[0m\u001b[1;33m\u001b[0m\u001b[0m\n",
      "\u001b[1;32m<ipython-input-22-75e1a88f4461>\u001b[0m in \u001b[0;36minsert2\u001b[1;34m(self, data)\u001b[0m\n\u001b[0;32m     12\u001b[0m         \u001b[0mposition\u001b[0m \u001b[1;33m=\u001b[0m \u001b[0mself\u001b[0m\u001b[1;33m.\u001b[0m\u001b[0midx\u001b[0m\u001b[1;33m\u001b[0m\u001b[1;33m\u001b[0m\u001b[0m\n\u001b[0;32m     13\u001b[0m         \u001b[1;32mwhile\u001b[0m \u001b[0mposition\u001b[0m \u001b[1;33m>\u001b[0m \u001b[1;36m1\u001b[0m\u001b[1;33m:\u001b[0m\u001b[1;33m\u001b[0m\u001b[1;33m\u001b[0m\u001b[0m\n\u001b[1;32m---> 14\u001b[1;33m             \u001b[1;32mif\u001b[0m \u001b[0mself\u001b[0m\u001b[1;33m.\u001b[0m\u001b[0mheap_lst\u001b[0m\u001b[1;33m[\u001b[0m\u001b[0mposition\u001b[0m\u001b[1;33m]\u001b[0m \u001b[1;33m>\u001b[0m \u001b[0mself\u001b[0m\u001b[1;33m.\u001b[0m\u001b[0mheap_lst\u001b[0m\u001b[1;33m[\u001b[0m\u001b[0mposition\u001b[0m\u001b[1;33m//\u001b[0m\u001b[1;36m2\u001b[0m\u001b[1;33m]\u001b[0m \u001b[1;33m:\u001b[0m\u001b[1;33m\u001b[0m\u001b[1;33m\u001b[0m\u001b[0m\n\u001b[0m\u001b[0;32m     15\u001b[0m                 \u001b[0mtmp\u001b[0m \u001b[1;33m=\u001b[0m \u001b[0mself\u001b[0m\u001b[1;33m.\u001b[0m\u001b[0mheap_lst\u001b[0m\u001b[1;33m[\u001b[0m\u001b[0mposition\u001b[0m\u001b[1;33m]\u001b[0m\u001b[1;33m\u001b[0m\u001b[1;33m\u001b[0m\u001b[0m\n\u001b[0;32m     16\u001b[0m                 \u001b[0mself\u001b[0m\u001b[1;33m.\u001b[0m\u001b[0mheap_lst\u001b[0m\u001b[1;33m[\u001b[0m\u001b[0mposition\u001b[0m\u001b[1;33m]\u001b[0m \u001b[1;33m=\u001b[0m \u001b[0mself\u001b[0m\u001b[1;33m.\u001b[0m\u001b[0mheap_lst\u001b[0m\u001b[1;33m[\u001b[0m\u001b[0mposition\u001b[0m\u001b[1;33m//\u001b[0m\u001b[1;36m2\u001b[0m\u001b[1;33m]\u001b[0m\u001b[1;33m\u001b[0m\u001b[1;33m\u001b[0m\u001b[0m\n",
      "\u001b[1;31mKeyboardInterrupt\u001b[0m: "
     ]
    }
   ],
   "source": [
    "h.insert2(3)\n",
    "h.insert2(6)\n",
    "h.insert2(4)\n",
    "h.insert2(8)\n",
    "h.insert2(9)\n",
    "h.insert2(7)"
   ]
  },
  {
   "cell_type": "code",
   "execution_count": null,
   "id": "c6b57a31",
   "metadata": {},
   "outputs": [],
   "source": [
    "h.heap_lst"
   ]
  },
  {
   "cell_type": "code",
   "execution_count": null,
   "id": "6bdef288",
   "metadata": {},
   "outputs": [],
   "source": [
    "h.delete()\n",
    "h.heap_lst"
   ]
  },
  {
   "cell_type": "code",
   "execution_count": 19,
   "id": "1e78bb13",
   "metadata": {},
   "outputs": [
    {
     "data": {
      "text/plain": [
       "1"
      ]
     },
     "execution_count": 19,
     "metadata": {},
     "output_type": "execute_result"
    }
   ],
   "source": [
    "h.idx"
   ]
  },
  {
   "cell_type": "code",
   "execution_count": null,
   "id": "fbc3c0c1",
   "metadata": {},
   "outputs": [],
   "source": []
  },
  {
   "cell_type": "code",
   "execution_count": null,
   "id": "d6ec67a5",
   "metadata": {},
   "outputs": [],
   "source": []
  },
  {
   "cell_type": "code",
   "execution_count": null,
   "id": "ae1444be",
   "metadata": {},
   "outputs": [],
   "source": []
  },
  {
   "cell_type": "code",
   "execution_count": null,
   "id": "372543f8",
   "metadata": {},
   "outputs": [],
   "source": []
  },
  {
   "cell_type": "code",
   "execution_count": null,
   "id": "d9b7e57f",
   "metadata": {},
   "outputs": [],
   "source": []
  },
  {
   "cell_type": "code",
   "execution_count": null,
   "id": "af301051",
   "metadata": {},
   "outputs": [],
   "source": []
  },
  {
   "cell_type": "code",
   "execution_count": null,
   "id": "a5ba0dea",
   "metadata": {},
   "outputs": [],
   "source": []
  },
  {
   "cell_type": "code",
   "execution_count": null,
   "id": "cb9493af",
   "metadata": {},
   "outputs": [],
   "source": []
  },
  {
   "cell_type": "code",
   "execution_count": null,
   "id": "c47e9e50",
   "metadata": {},
   "outputs": [],
   "source": []
  },
  {
   "cell_type": "code",
   "execution_count": null,
   "id": "6eb66175",
   "metadata": {},
   "outputs": [],
   "source": []
  },
  {
   "cell_type": "code",
   "execution_count": null,
   "id": "1cdcfab4",
   "metadata": {},
   "outputs": [],
   "source": []
  },
  {
   "cell_type": "code",
   "execution_count": null,
   "id": "0692992c",
   "metadata": {},
   "outputs": [],
   "source": []
  },
  {
   "cell_type": "code",
   "execution_count": null,
   "id": "1649729c",
   "metadata": {},
   "outputs": [],
   "source": []
  },
  {
   "cell_type": "code",
   "execution_count": null,
   "id": "8af30ec0",
   "metadata": {},
   "outputs": [],
   "source": []
  },
  {
   "cell_type": "code",
   "execution_count": null,
   "id": "5045a19a",
   "metadata": {},
   "outputs": [],
   "source": []
  },
  {
   "cell_type": "code",
   "execution_count": null,
   "id": "e3005302",
   "metadata": {},
   "outputs": [],
   "source": []
  },
  {
   "cell_type": "code",
   "execution_count": null,
   "id": "d5fa683c",
   "metadata": {},
   "outputs": [],
   "source": []
  }
 ],
 "metadata": {
  "kernelspec": {
   "display_name": "Python 3",
   "language": "python",
   "name": "python3"
  },
  "language_info": {
   "codemirror_mode": {
    "name": "ipython",
    "version": 3
   },
   "file_extension": ".py",
   "mimetype": "text/x-python",
   "name": "python",
   "nbconvert_exporter": "python",
   "pygments_lexer": "ipython3",
   "version": "3.8.8"
  }
 },
 "nbformat": 4,
 "nbformat_minor": 5
}
