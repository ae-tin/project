{
 "cells": [
  {
   "cell_type": "markdown",
   "id": "c406a5a8",
   "metadata": {},
   "source": [
    "# 네트워크 프로그래밍 - 클라이언트\n"
   ]
  },
  {
   "cell_type": "code",
   "execution_count": 1,
   "id": "c49e5468",
   "metadata": {},
   "outputs": [],
   "source": [
    "import socket\n",
    "c_socket = socket.socket(socket.AF_INET, socket.SOCK_STREAM)\n",
    "c_socket.connect(('127.0.0.1',12345))"
   ]
  },
  {
   "cell_type": "code",
   "execution_count": 5,
   "id": "8b841d0f",
   "metadata": {},
   "outputs": [
    {
     "name": "stdout",
     "output_type": "stream",
     "text": [
      "뭐해\n"
     ]
    }
   ],
   "source": [
    "data = c_socket.recv(65535)\n",
    "print(data.decode('utf-8'))"
   ]
  },
  {
   "cell_type": "code",
   "execution_count": 4,
   "id": "a3020983",
   "metadata": {},
   "outputs": [
    {
     "data": {
      "text/plain": [
       "6"
      ]
     },
     "execution_count": 4,
     "metadata": {},
     "output_type": "execute_result"
    }
   ],
   "source": [
    "c_socket.send('그래'.encode('utf-8'))"
   ]
  },
  {
   "cell_type": "code",
   "execution_count": 6,
   "id": "f052cfbb",
   "metadata": {},
   "outputs": [
    {
     "data": {
      "text/plain": [
       "23"
      ]
     },
     "execution_count": 6,
     "metadata": {},
     "output_type": "execute_result"
    }
   ],
   "source": [
    "c_socket.send('딱히 암것두 안해'.encode('utf-8'))"
   ]
  },
  {
   "cell_type": "markdown",
   "id": "989f967a",
   "metadata": {},
   "source": [
    "## 문제\n",
    "서버랑 메세지 주고받기"
   ]
  },
  {
   "cell_type": "code",
   "execution_count": 8,
   "id": "37b65112",
   "metadata": {},
   "outputs": [
    {
     "name": "stdout",
     "output_type": "stream",
     "text": [
      "ㅇ\n",
      "ㅇ\n"
     ]
    },
    {
     "data": {
      "text/plain": [
       "3"
      ]
     },
     "execution_count": 8,
     "metadata": {},
     "output_type": "execute_result"
    }
   ],
   "source": [
    "data = c_socket.recv(65534)\n",
    "print(data.decode('utf-8'))\n",
    "\n",
    "inp = input()\n",
    "c_socket.send(inp.encode('utf-8'))"
   ]
  },
  {
   "cell_type": "markdown",
   "id": "a8861dc0",
   "metadata": {},
   "source": [
    "## 문제\n",
    "서버랑 메세지 10번 주고 받기"
   ]
  },
  {
   "cell_type": "code",
   "execution_count": 9,
   "id": "1594c849",
   "metadata": {
    "scrolled": true
   },
   "outputs": [
    {
     "name": "stdout",
     "output_type": "stream",
     "text": [
      "11\n",
      "2\n",
      "2\n",
      "2\n",
      "3\n",
      "3\n",
      "4\n",
      "4\n",
      "5\n",
      "5\n",
      "6\n",
      "6\n",
      "7\n",
      "7\n",
      "8\n",
      "8\n",
      "9\n",
      "9\n"
     ]
    }
   ],
   "source": [
    "for i in range(0,10,1):\n",
    "    data = c_socket.recv(65534)\n",
    "    print(data.decode('utf-8'))\n",
    "\n",
    "    inp = input()\n",
    "    c_socket.send(inp.encode('utf-8'))"
   ]
  },
  {
   "cell_type": "markdown",
   "id": "dc49cbea",
   "metadata": {},
   "source": [
    "근데 답장을 해야만 내가 메시지 보낼 수 있는 채팅이 어딨냐? ㅋㅋㅋ"
   ]
  },
  {
   "cell_type": "markdown",
   "id": "2bee8c74",
   "metadata": {},
   "source": [
    "## 문제\n",
    "\n",
    "입력 받고 상대방에게 데이터를 전송하는 코드를 함수로 만들고  \n",
    "함수를 쓰레드로 실행  \n",
    "  \n",
    "  상대방한테 데이터를 전달받고 출력하는 코드를 함수로 만들고  \n",
    "  함수를 쓰레드로 실행"
   ]
  },
  {
   "cell_type": "markdown",
   "id": "beabab76",
   "metadata": {},
   "source": [
    "# Thread - 쓰레드\n",
    "\n",
    "프로그램이 실행됐을 때 작업을 수행하는 단위  \n",
    "일단적으로 하나의 프로그램은 하나의 스레드를 가지고 있지만 둘 이상의 스레드를 동시에  실행할 수도 있다.  \n",
    "파이썬에서는 함수를 만들고 함수를 스레드 모듈로 실행시키면 해당 함수는 스레드로 동작한다. "
   ]
  },
  {
   "cell_type": "code",
   "execution_count": 18,
   "id": "e3610808",
   "metadata": {},
   "outputs": [
    {
     "name": "stdout",
     "output_type": "stream",
     "text": [
      "보낼 메시지를 입력하세요 : \n"
     ]
    },
    {
     "name": "stderr",
     "output_type": "stream",
     "text": [
      "Exception in thread Thread-9:\n",
      "Traceback (most recent call last):\n",
      "  File \"C:\\Users\\slinfo\\anaconda3\\lib\\threading.py\", line 932, in _bootstrap_inner\n",
      "    self.run()\n",
      "  File \"C:\\Users\\slinfo\\anaconda3\\lib\\threading.py\", line 870, in run\n",
      "    self._target(*self._args, **self._kwargs)\n",
      "  File \"<ipython-input-18-b618deeb5f5b>\", line 9, in client_input\n",
      "EOFError: EOF when reading a line\n"
     ]
    }
   ],
   "source": [
    "import socket\n",
    "c_socket = socket.socket(socket.AF_INET, socket.SOCK_STREAM)\n",
    "c_socket.connect(('127.0.0.1',12345))\n",
    "\n",
    "\n",
    "def client_input() :\n",
    "    while True:\n",
    "        print('보낼 메시지를 입력하세요 : ')\n",
    "        inp = input()\n",
    "        c_socket.send(inp.encode('utf-8'))\n",
    "        if inp =='그만' :\n",
    "            break\n",
    "def client_output() :\n",
    "    while True : \n",
    "        data = c_socket.recv(65532)\n",
    "        print('받은 메시지 : ' + data.decode('utf-8'))\n",
    "        if data == '그만' :\n",
    "            break\n",
    "\n",
    "import threading\n",
    "            \n",
    "trd1 = threading.Thread(target = client_input)\n",
    "trd2 = threading.Thread(target = client_output)\n",
    "\n",
    "trd2.start()\n",
    "trd1.start()             \n",
    "\n",
    "while True :\n",
    "    pass"
   ]
  },
  {
   "cell_type": "code",
   "execution_count": 14,
   "id": "2c79133b",
   "metadata": {
    "collapsed": true
   },
   "outputs": [
    {
     "name": "stdout",
     "output_type": "stream",
     "text": [
      "보낼 메시지를 입력하세요 : \n",
      "d\n",
      "보낼 메시지를 입력하세요 : \n",
      "d\n",
      "보낼 메시지를 입력하세요 : \n",
      "그만\n",
      "받은 메시지 : dddddddddddd그만ddd그만\n"
     ]
    },
    {
     "ename": "ConnectionResetError",
     "evalue": "[WinError 10054] 현재 연결은 원격 호스트에 의해 강제로 끊겼습니다",
     "output_type": "error",
     "traceback": [
      "\u001b[1;31m---------------------------------------------------------------------------\u001b[0m",
      "\u001b[1;31mConnectionResetError\u001b[0m                      Traceback (most recent call last)",
      "\u001b[1;32m<ipython-input-14-1130b4bad708>\u001b[0m in \u001b[0;36m<module>\u001b[1;34m\u001b[0m\n\u001b[0;32m      1\u001b[0m \u001b[0mclient_input\u001b[0m\u001b[1;33m(\u001b[0m\u001b[1;33m)\u001b[0m\u001b[1;33m\u001b[0m\u001b[1;33m\u001b[0m\u001b[0m\n\u001b[1;32m----> 2\u001b[1;33m \u001b[0mclient_output\u001b[0m\u001b[1;33m(\u001b[0m\u001b[1;33m)\u001b[0m\u001b[1;33m\u001b[0m\u001b[1;33m\u001b[0m\u001b[0m\n\u001b[0m",
      "\u001b[1;32m<ipython-input-13-1bc0526692f0>\u001b[0m in \u001b[0;36mclient_output\u001b[1;34m()\u001b[0m\n\u001b[0;32m     13\u001b[0m \u001b[1;32mdef\u001b[0m \u001b[0mclient_output\u001b[0m\u001b[1;33m(\u001b[0m\u001b[1;33m)\u001b[0m \u001b[1;33m:\u001b[0m\u001b[1;33m\u001b[0m\u001b[1;33m\u001b[0m\u001b[0m\n\u001b[0;32m     14\u001b[0m     \u001b[1;32mwhile\u001b[0m \u001b[1;32mTrue\u001b[0m \u001b[1;33m:\u001b[0m\u001b[1;33m\u001b[0m\u001b[1;33m\u001b[0m\u001b[0m\n\u001b[1;32m---> 15\u001b[1;33m         \u001b[0mdata\u001b[0m \u001b[1;33m=\u001b[0m \u001b[0mc_socket\u001b[0m\u001b[1;33m.\u001b[0m\u001b[0mrecv\u001b[0m\u001b[1;33m(\u001b[0m\u001b[1;36m65534\u001b[0m\u001b[1;33m)\u001b[0m\u001b[1;33m\u001b[0m\u001b[1;33m\u001b[0m\u001b[0m\n\u001b[0m\u001b[0;32m     16\u001b[0m         \u001b[0mprint\u001b[0m\u001b[1;33m(\u001b[0m\u001b[1;34m'받은 메시지 : '\u001b[0m \u001b[1;33m+\u001b[0m \u001b[0mdata\u001b[0m\u001b[1;33m.\u001b[0m\u001b[0mdecode\u001b[0m\u001b[1;33m(\u001b[0m\u001b[1;34m'utf-8'\u001b[0m\u001b[1;33m)\u001b[0m\u001b[1;33m)\u001b[0m\u001b[1;33m\u001b[0m\u001b[1;33m\u001b[0m\u001b[0m\n\u001b[0;32m     17\u001b[0m         \u001b[1;32mif\u001b[0m \u001b[0mdata\u001b[0m \u001b[1;33m==\u001b[0m \u001b[1;34m'그만'\u001b[0m \u001b[1;33m:\u001b[0m\u001b[1;33m\u001b[0m\u001b[1;33m\u001b[0m\u001b[0m\n",
      "\u001b[1;31mConnectionResetError\u001b[0m: [WinError 10054] 현재 연결은 원격 호스트에 의해 강제로 끊겼습니다"
     ]
    }
   ],
   "source": [
    "client_input()\n",
    "client_output()"
   ]
  },
  {
   "cell_type": "markdown",
   "id": "fb622912",
   "metadata": {},
   "source": [
    "### 풀이"
   ]
  },
  {
   "cell_type": "code",
   "execution_count": null,
   "id": "f2eb1220",
   "metadata": {},
   "outputs": [],
   "source": []
  },
  {
   "cell_type": "code",
   "execution_count": null,
   "id": "9ff96cc5",
   "metadata": {},
   "outputs": [],
   "source": []
  },
  {
   "cell_type": "code",
   "execution_count": null,
   "id": "070adceb",
   "metadata": {},
   "outputs": [],
   "source": []
  },
  {
   "cell_type": "code",
   "execution_count": null,
   "id": "043acd03",
   "metadata": {},
   "outputs": [],
   "source": []
  },
  {
   "cell_type": "code",
   "execution_count": null,
   "id": "3d542132",
   "metadata": {},
   "outputs": [],
   "source": []
  },
  {
   "cell_type": "code",
   "execution_count": null,
   "id": "065bb084",
   "metadata": {},
   "outputs": [],
   "source": []
  },
  {
   "cell_type": "code",
   "execution_count": null,
   "id": "8e0ba7d7",
   "metadata": {},
   "outputs": [],
   "source": []
  },
  {
   "cell_type": "code",
   "execution_count": null,
   "id": "5b33aed0",
   "metadata": {},
   "outputs": [],
   "source": []
  }
 ],
 "metadata": {
  "kernelspec": {
   "display_name": "Python 3",
   "language": "python",
   "name": "python3"
  },
  "language_info": {
   "codemirror_mode": {
    "name": "ipython",
    "version": 3
   },
   "file_extension": ".py",
   "mimetype": "text/x-python",
   "name": "python",
   "nbconvert_exporter": "python",
   "pygments_lexer": "ipython3",
   "version": "3.8.8"
  }
 },
 "nbformat": 4,
 "nbformat_minor": 5
}
