{
 "cells": [
  {
   "cell_type": "markdown",
   "id": "8a2bf915",
   "metadata": {},
   "source": [
    "# 자료구조\n",
    "\n",
    "## 트리\n",
    "\n",
    "    노드로 이뤄진 자료구조 그냥 결정나무 생각하면됨\n",
    "     루트 노드 : 부모가 없는 노드, 트리는 하나의 루트 노드만 가짐\n",
    "     단말 노드(leaf node) : 자식이 없는 노드, 제일 말단, 말단 노드 혹은 잎 노드\n",
    "     형제 : 같은 부모를 가지는 노드\n",
    "     노드의 크기(size) : 자신을 포함한 모든 자손 노드의 개수\n",
    "     노드의 깊이(depth) : 루트에서 특정 노드에 도달하기 위해 거쳐야하는 간선의 수\n",
    "     노드의 레벨(level) : 트리의 특정 깊이를 가지는 노드의 집합\n",
    "     노드의 차수(degree) : 하위 트리 개수/ 간선 수(degree) = 각 노드가 지닌 가지의 수\n",
    "     노드의 높이(height) : 루트 노드에서 가장 깊숙히 있는 노드의 깊이\n",
    "     \n",
    "     "
   ]
  },
  {
   "cell_type": "markdown",
   "id": "88e5125c",
   "metadata": {},
   "source": [
    "## 이진트리\n",
    "자식이 최대 2개인 트리\n",
    "## 이진 탐색트리\n",
    "데이터를 저장할 때 데이터의 크기를 비교해서 정렬이 되도록 저장하는 구조  \n",
    "  \n",
    "how 정렬?  \n",
    "부모노드의 왼쪽 자식노드는 부모노드보다 크기가 작다.  \n",
    "보모노드의 오른쪽 자식노드는 부모노드보다 크기가 크다. \n",
    "## 힙트리\n",
    "\n",
    "## B 트리, B+트리\n",
    "\n",
    "## AVL트리\n",
    "\n",
    "## 레드 블랙 트리\n",
    "\n",
    "\n",
    "\n"
   ]
  },
  {
   "cell_type": "markdown",
   "id": "07b464cb",
   "metadata": {},
   "source": [
    "--------------------------------------------------------------"
   ]
  },
  {
   "cell_type": "markdown",
   "id": "c7668ff6",
   "metadata": {},
   "source": [
    "### 재귀함수 연습 선행\n",
    "함수 안에서 해당 함수를 다시 호출하는 함수  \n",
    "마치 무한 반복문처럼 계속 반복해서 동작한다.  "
   ]
  },
  {
   "cell_type": "code",
   "execution_count": 3,
   "id": "21de275a",
   "metadata": {},
   "outputs": [],
   "source": [
    "# 안녕하세요 라고 출력하는 기능\n",
    "\n",
    "def hello() :\n",
    "    print('안녕하세요')"
   ]
  },
  {
   "cell_type": "code",
   "execution_count": 4,
   "id": "99c48073",
   "metadata": {},
   "outputs": [
    {
     "name": "stdout",
     "output_type": "stream",
     "text": [
      "안녕하세요\n"
     ]
    }
   ],
   "source": [
    "hello()"
   ]
  },
  {
   "cell_type": "markdown",
   "id": "85255f96",
   "metadata": {},
   "source": [
    "만약에 함수 안에서 자기 자신의 함수를 호출하면?"
   ]
  },
  {
   "cell_type": "code",
   "execution_count": null,
   "id": "9616ad9b",
   "metadata": {},
   "outputs": [],
   "source": [
    "def hello() :\n",
    "    print('안녕하세요')\n",
    "    hello()\n"
   ]
  },
  {
   "cell_type": "markdown",
   "id": "233ec3f9",
   "metadata": {},
   "source": [
    "자기 자신이 끝없이 불려와서 print()를 계속할 것.  \n",
    "재귀함수라고 부름"
   ]
  },
  {
   "cell_type": "code",
   "execution_count": 6,
   "id": "2d68cae0",
   "metadata": {},
   "outputs": [
    {
     "ename": "IndentationError",
     "evalue": "expected an indented block (<ipython-input-6-c6e7b7054807>, line 11)",
     "output_type": "error",
     "traceback": [
      "\u001b[1;36m  File \u001b[1;32m\"<ipython-input-6-c6e7b7054807>\"\u001b[1;36m, line \u001b[1;32m11\u001b[0m\n\u001b[1;33m    count(5)\u001b[0m\n\u001b[1;37m            ^\u001b[0m\n\u001b[1;31mIndentationError\u001b[0m\u001b[1;31m:\u001b[0m expected an indented block\n"
     ]
    }
   ],
   "source": [
    "# 숫자 하나 전달받아서 전달받은 숫자만큼 재귀적 호출이 일어나는 함수\n",
    "count = 0\n",
    "def count(cnt) :\n",
    "    global count\n",
    "    count = count + 1\n",
    "    print(count)\n",
    "    if count != cnt :\n",
    "        count()\n",
    "    elif count == cnt :\n",
    "\n",
    "count(5)\n",
    "        "
   ]
  },
  {
   "cell_type": "code",
   "execution_count": 7,
   "id": "6aa8857e",
   "metadata": {},
   "outputs": [
    {
     "name": "stdout",
     "output_type": "stream",
     "text": [
      "3\n",
      "2\n",
      "1\n",
      "종료\n"
     ]
    }
   ],
   "source": [
    "def countdown(num) :\n",
    "    if num ==0 :\n",
    "        print('종료')\n",
    "    else :\n",
    "        print(num)\n",
    "        countdown(num-1)\n",
    "countdown(3)"
   ]
  },
  {
   "cell_type": "code",
   "execution_count": 8,
   "id": "e7789b7a",
   "metadata": {},
   "outputs": [
    {
     "name": "stdout",
     "output_type": "stream",
     "text": [
      "8\n"
     ]
    }
   ],
   "source": [
    "def test(num) :\n",
    "    if num <= 1:\n",
    "        return 1\n",
    "    else :\n",
    "        return test (num-1) +test(num-2)\n",
    "    \n",
    "print(test(5))"
   ]
  },
  {
   "cell_type": "markdown",
   "id": "a2f06bbf",
   "metadata": {},
   "source": [
    "결과 잘 생각해보기"
   ]
  },
  {
   "cell_type": "code",
   "execution_count": 10,
   "id": "d7132469",
   "metadata": {},
   "outputs": [
    {
     "name": "stdout",
     "output_type": "stream",
     "text": [
      "4\n",
      "3\n",
      "2\n",
      "1\n",
      "1\n",
      "2\n",
      "1\n",
      "1\n",
      "3\n",
      "2\n",
      "1\n",
      "1\n",
      "2\n",
      "1\n",
      "1\n",
      "8\n"
     ]
    }
   ],
   "source": [
    "def test(num) :\n",
    "    print(num)\n",
    "    \n",
    "    if num==0 :\n",
    "        return 0\n",
    "    elif num == 1:\n",
    "        return 1\n",
    "    else : \n",
    "        return test(num-1)+test(num-1)\n",
    "print(test(4))"
   ]
  },
  {
   "cell_type": "markdown",
   "id": "dbcbded4",
   "metadata": {},
   "source": [
    "# 2진수 변환\n",
    "\n",
    "0-9 10 진법 , 0-9까지 총 10개의 숫자로 모든 수를 표현  \n",
    "  \n",
    "  0-1 2진법, 0-1의 총 2개의 숫자로 모든 수를 표현  \n",
    "  \n",
    "  10진법을 2진법으로 바꾸는 방법  \n",
    "  ex) 56 "
   ]
  },
  {
   "cell_type": "code",
   "execution_count": 15,
   "id": "6fe69ccc",
   "metadata": {},
   "outputs": [
    {
     "data": {
      "text/plain": [
       "'111000'"
      ]
     },
     "execution_count": 15,
     "metadata": {},
     "output_type": "execute_result"
    }
   ],
   "source": [
    "def binum(num) :\n",
    "    if num ==1 :\n",
    "        return str(num)\n",
    "    else :\n",
    "        return str(binum(num//2)) + str(num%2)\n",
    "binum(56)"
   ]
  },
  {
   "cell_type": "markdown",
   "id": "c74f6d1d",
   "metadata": {},
   "source": [
    "## 유클리드 알고리즘\n",
    "\n",
    "1. 두 수 a,b가 있을 때 (a>b)  \n",
    "2. a를 b로 나눈 나머지를 n(a%b = n)  \n",
    "3. n이 0이면 b가 두 수의 최대 공약수  \n",
    "4. 만약에 n이 0이 아니면 a에 b를 넣고, b에 n을 넣어서 다시 2번부터 반복"
   ]
  },
  {
   "cell_type": "code",
   "execution_count": 18,
   "id": "5d9d854e",
   "metadata": {},
   "outputs": [
    {
     "data": {
      "text/plain": [
       "7"
      ]
     },
     "execution_count": 18,
     "metadata": {},
     "output_type": "execute_result"
    }
   ],
   "source": [
    "def c(a,b) :\n",
    "    if a > b:\n",
    "        n = a%b\n",
    "        if n == 0 :\n",
    "            return b\n",
    "        else :\n",
    "            return c(b,n)\n",
    "    else :\n",
    "        n = b%a\n",
    "        if n == 0 :\n",
    "            return a\n",
    "        else:\n",
    "            return c(a,n)\n",
    "c(14,21)"
   ]
  },
  {
   "cell_type": "markdown",
   "id": "9bfc9289",
   "metadata": {},
   "source": [
    "# 이진 탐색 트리\n",
    "\n",
    "    노드\n",
    "        데이터\n",
    "        왼쪽노드\n",
    "        오른쪽노드\n",
    "    \n",
    "    이진탐색트리\n",
    "        루트노드\n",
    "        \n",
    "        데이터삽입\n",
    "            데이터 전달 받음\n",
    "            새로운 노드 생성\n",
    "            새로운 노드에 데이터 저장\n",
    "            데이터 하나도 없으면\n",
    "                root에 새로운 노드 저장\n",
    "            그렇지 않으면\n",
    "                현재 노드를 root 로 지정\n",
    "                만약에 전달 받은 데이터가 현재 노드 데이터보다 크면\n",
    "                    현재 노드 오른쪽이 비어있으면\n",
    "                        현재 노드의 오른쪽에 새로운 노드를 저장\n",
    "                    그렇지 않으면 \n",
    "                        새로운 노드를 현재 노드의 오른쪽 노드로 변경하고 다시 반복\n",
    "                그렇지 않고 전달 받은 데이터가 현재 노드 데이터보다 작으면\n",
    "                    현재 노드 왼쪽이 비어있으면\n",
    "                        현재 노드의 왼쪽에 새로운 노드를 저장\n",
    "                    그렇지 않으면 \n",
    "                        새로운 노드를 현재 노드의 오른쪽 노드로 변경하고 다시 반복\n",
    "                    \n",
    "            \n",
    "            "
   ]
  },
  {
   "cell_type": "code",
   "execution_count": 20,
   "id": "80e0f678",
   "metadata": {},
   "outputs": [],
   "source": [
    "class Node :\n",
    "    data = 0\n",
    "    left = None\n",
    "    right = None"
   ]
  },
  {
   "cell_type": "code",
   "execution_count": null,
   "id": "fa52733b",
   "metadata": {},
   "outputs": [],
   "source": [
    "class BiSearch :\n",
    "    root = None\n",
    "    \n",
    "    def __init__(self) :\n",
    "        root = None\n",
    "    \n",
    "    def push(self,data) :\n",
    "        new = Node()\n",
    "        new.data = data\n",
    "        \n",
    "        if root == None :\n",
    "            root = new\n",
    "        else :\n",
    "            if root.data < new.data :\n",
    "                if root.right == None :\n",
    "                    root.right = new\n",
    "                else :\n",
    "                    root.ri\n",
    "            else :\n",
    "        \n",
    "        \n",
    "        \n",
    "        \n",
    "        \n",
    "        \n",
    "        \n",
    "        "
   ]
  },
  {
   "cell_type": "markdown",
   "id": "ea388699",
   "metadata": {},
   "source": [
    "# 이진 탐색 트리\n",
    "\n",
    "    노드\n",
    "        데이터\n",
    "        왼쪽노드\n",
    "        오른쪽노드\n",
    "    \n",
    "    이진탐색트리\n",
    "      루트노드\n",
    "        \n",
    "      데이터삽입\n",
    "        노드 하나와 숫자 하나를 전달받는다.\n",
    "            \n",
    "        새로운 노드 생성\n",
    "        새로운 노드의 데이터에 전달받은 숫자 저장\n",
    "            \n",
    "        만약에 root가 none이면\n",
    "          root에 새로운 노드를 저장\n",
    "        그렇지 않으면\n",
    "          만약에 전달받은 숫자가 전달받은 노드의 데이터 보다 크면\n",
    "             만약에 전달 받은 노드의 오른쪽 노드가 none이면\n",
    "                 전달받은 노드의 오른쪽 노드에 새로운 노드 저장\n",
    "             그렇지 않음 노드의 오른쪽 노드와 전달받은 데이터를 다시 데이터 삽입\n",
    "          \n",
    "          그렇지 않고 만약에 전달받은 숫자가 전달받은 노드의 데이터 보다 작으면\n",
    "             만약에 전달 받은 노드의 왼쪽 노드가 none이면\n",
    "                 전달받은 노드의 왼쪽 노드에 새로운 노드 저장\n",
    "             그렇지 않으면 \n",
    "                 노드의 왼쪽 노드와 전달받은 데이터를 다시 데이터 삽입기능 수행\n",
    "             \n",
    "             \n",
    "             \n",
    "             "
   ]
  },
  {
   "cell_type": "code",
   "execution_count": null,
   "id": "cf09679f",
   "metadata": {},
   "outputs": [],
   "source": [
    "class Node :\n",
    "    data = 0\n",
    "    left = None\n",
    "    right = None"
   ]
  },
  {
   "cell_type": "code",
   "execution_count": null,
   "id": "913b48d8",
   "metadata": {},
   "outputs": [],
   "source": [
    "class BiSearch :\n",
    "    root = None\n",
    "    \n",
    "    def __init__(self) :\n",
    "        root = None\n",
    "    '''\n",
    "    def push(self,data) :\n",
    "        new = Node()\n",
    "        new.data = data                  # 하다가 잠\n",
    "        \n",
    "        if root == None :\n",
    "            root = new\n",
    "        else :\n",
    "            if root.data < new.data :\n",
    "                if root.right == None :\n",
    "                    root.right = new\n",
    "                else :\n",
    "                    root.ri\n",
    "            else :\n",
    "    '''\n",
    "    def inorder(self, node) :\n",
    "    if node == None :\n",
    "        return\n",
    "    if node.left != None :\n",
    "        self.inorder(node.left)\n",
    "        \n",
    "    print(node.data)\n",
    "    \n",
    "    if node.right != None :\n",
    "        self.inorder(node.right)"
   ]
  },
  {
   "cell_type": "markdown",
   "id": "4eb26e9a",
   "metadata": {},
   "source": [
    "순회"
   ]
  },
  {
   "cell_type": "code",
   "execution_count": null,
   "id": "985366f7",
   "metadata": {},
   "outputs": [],
   "source": []
  },
  {
   "cell_type": "code",
   "execution_count": null,
   "id": "fad48684",
   "metadata": {},
   "outputs": [],
   "source": []
  },
  {
   "cell_type": "code",
   "execution_count": null,
   "id": "979aba17",
   "metadata": {},
   "outputs": [],
   "source": []
  },
  {
   "cell_type": "code",
   "execution_count": null,
   "id": "0cd47c34",
   "metadata": {},
   "outputs": [],
   "source": []
  },
  {
   "cell_type": "code",
   "execution_count": null,
   "id": "9aa86d5d",
   "metadata": {},
   "outputs": [],
   "source": []
  },
  {
   "cell_type": "code",
   "execution_count": null,
   "id": "58414403",
   "metadata": {},
   "outputs": [],
   "source": []
  }
 ],
 "metadata": {
  "kernelspec": {
   "display_name": "Python 3",
   "language": "python",
   "name": "python3"
  },
  "language_info": {
   "codemirror_mode": {
    "name": "ipython",
    "version": 3
   },
   "file_extension": ".py",
   "mimetype": "text/x-python",
   "name": "python",
   "nbconvert_exporter": "python",
   "pygments_lexer": "ipython3",
   "version": "3.8.8"
  }
 },
 "nbformat": 4,
 "nbformat_minor": 5
}
