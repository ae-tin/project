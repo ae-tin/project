{
 "cells": [
  {
   "cell_type": "markdown",
   "id": "46897bde",
   "metadata": {},
   "source": [
    "# 이미지 파일 다루기\n",
    "\n",
    "### 이미지 파일 종류\n",
    "  1. jpg : 일반 이미지 파일\n",
    "  2. gif : 움직이는 이미지\n",
    "  3. png : 투명 지원 이미지\n",
    "  \n",
    "### 컴퓨터의 이미지 표현\n",
    "  컴퓨터에서 이미지 파일을 표현할 때 기본적으로 빛의 삼원색인 RGB를 이용하여 표현한다.\n",
    "  아주 작은 칸(픽셀)들에 각각의 색들을 표현하여 사진을 만들 수도 있다.\n",
    "  \n",
    "### 파이썬에서 이미지 다루기 위한 라이브러리\n",
    "  pillow, opencv\n",
    "  \n"
   ]
  },
  {
   "cell_type": "markdown",
   "id": "511b7969",
   "metadata": {},
   "source": [
    "# pillow\n",
    "\n",
    "### 라이브러리 설치\n",
    "시작 -> Anaconda Prompt 실행 -> pip install pillow 입력 후 엔터\n"
   ]
  },
  {
   "cell_type": "markdown",
   "id": "a85ba139",
   "metadata": {},
   "source": [
    "### 이미지 불러오기"
   ]
  },
  {
   "cell_type": "code",
   "execution_count": 1,
   "id": "def88b86",
   "metadata": {},
   "outputs": [],
   "source": [
    "from PIL import Image\n",
    "\n",
    "img = Image.open(\"c:/test/movie_image.jpg\")\n",
    "\n",
    "img.show()"
   ]
  },
  {
   "cell_type": "markdown",
   "id": "eab6abc3",
   "metadata": {},
   "source": [
    "### 이미지 속성 확인하기"
   ]
  },
  {
   "cell_type": "code",
   "execution_count": 5,
   "id": "b81e2101",
   "metadata": {},
   "outputs": [
    {
     "name": "stdout",
     "output_type": "stream",
     "text": [
      "c:/test/png.png\n",
      "PNG\n",
      "(1000, 1000)\n",
      "1000\n",
      "1000\n",
      "RGBA\n"
     ]
    }
   ],
   "source": [
    "from PIL import Image\n",
    "\n",
    "img = Image.open(\"c:/test/png.png\")\n",
    "\n",
    "print(img.filename)  # 이미지 파일 이름\n",
    "print(img.format)  # 이미지 형식\n",
    "print(img.size)  # 이미지 사이즈\n",
    "print(img.width)  # 이미지 가로 길이\n",
    "print(img.height)  # 이미지 세로 길이\n",
    "print(img.mode)  # 이미지 색상 모드"
   ]
  },
  {
   "cell_type": "markdown",
   "id": "03ad9656",
   "metadata": {},
   "source": [
    "### 이미지 크기 변경하기"
   ]
  },
  {
   "cell_type": "code",
   "execution_count": 13,
   "id": "aab11c12",
   "metadata": {},
   "outputs": [],
   "source": [
    "from PIL import Image\n",
    "\n",
    "img = Image.open(\"c:/test/movie_image.jpg\")\n",
    "\n",
    "resize_img = img.resize((img.width//5, img.height//5))\n",
    "\n",
    "resize_img.show()"
   ]
  },
  {
   "cell_type": "markdown",
   "id": "7e6c38ee",
   "metadata": {},
   "source": [
    "### 이미지 자르기"
   ]
  },
  {
   "cell_type": "code",
   "execution_count": 15,
   "id": "62122fbc",
   "metadata": {},
   "outputs": [],
   "source": [
    "from PIL import Image\n",
    "\n",
    "img = Image.open(\"c:/test/movie_image.jpg\")\n",
    "\n",
    "crop_img = img.crop((100, 100, 200, 200))\n",
    "            # crop(가로 시작, 세로 시작, 가로 끝, 세로 끝)\n",
    "\n",
    "crop_img.show()"
   ]
  },
  {
   "cell_type": "markdown",
   "id": "72423fc8",
   "metadata": {},
   "source": [
    "### 이미지 회전하기"
   ]
  },
  {
   "cell_type": "code",
   "execution_count": 16,
   "id": "e818163a",
   "metadata": {},
   "outputs": [],
   "source": [
    "from PIL import Image\n",
    "\n",
    "img = Image.open(\"c:/test/movie_image.jpg\")\n",
    "\n",
    "rotate_img = img.rotate(90)\n",
    "\n",
    "rotate_img.show()"
   ]
  },
  {
   "cell_type": "markdown",
   "id": "db91f597",
   "metadata": {},
   "source": [
    "### 이미지 상하, 좌우 대칭하기"
   ]
  },
  {
   "cell_type": "code",
   "execution_count": 20,
   "id": "e9a6d31c",
   "metadata": {},
   "outputs": [],
   "source": [
    "from PIL import Image\n",
    "\n",
    "img = Image.open(\"c:/test/movie_image.jpg\")\n",
    "\n",
    "flip_img_lr = img.transpose(Image.FLIP_LEFT_RIGHT)\n",
    "flip_img_tb = img.transpose(Image.FLIP_TOP_BOTTOM)\n",
    "\n",
    "flip_img_lr.show()\n",
    "flip_img_tb.show()"
   ]
  },
  {
   "cell_type": "markdown",
   "id": "0cf7adb1",
   "metadata": {},
   "source": [
    "### 이미지 필터링하기"
   ]
  },
  {
   "cell_type": "code",
   "execution_count": 28,
   "id": "a9acd500",
   "metadata": {},
   "outputs": [],
   "source": [
    "from PIL import Image\n",
    "from PIL import ImageFilter\n",
    "\n",
    "img = Image.open(\"c:/test/movie_image.jpg\")\n",
    "\n",
    "# blur_img = img.filter(ImageFilter.GaussianBlur(20))\n",
    "\n",
    "# blur_img.show()  # 흐리게 만들기\n",
    "\n",
    "# contour_img = img.filter(ImageFilter.CONTOUR)\n",
    "\n",
    "# contour_img.show()  # 이미지 윤곽 표시하기\n",
    "\n",
    "\n",
    "# emboss_img = img.filter(ImageFilter.EMBOSS)\n",
    "\n",
    "# emboss_img.show()  # 외각선이 파여있는 효과 표시하기\n",
    "\n",
    "findedge_img = img.filter(ImageFilter.FIND_EDGES)\n",
    "\n",
    "findedge_img.show()  # 외각선이 파여있는 효과 표시하기\n",
    "\n",
    "\n",
    "\n",
    "# https://pillow.readthedocs.io/en/stable/reference/ImageFilter.html\n",
    "\n"
   ]
  },
  {
   "cell_type": "markdown",
   "id": "e3b338ad",
   "metadata": {},
   "source": [
    "### 이미지 합치기"
   ]
  },
  {
   "cell_type": "code",
   "execution_count": 32,
   "id": "921f5711",
   "metadata": {},
   "outputs": [],
   "source": [
    "from PIL import Image\n",
    "\n",
    "img1 = Image.open(\"c:/test/movie_image.jpg\")\n",
    "img2 = Image.open(\"c:/test/movie_image2.jpg\")\n",
    "\n",
    "\n",
    "new_img = Image.new(\"RGB\", (img1.width + img2.width, img1.height))\n",
    "new_img.paste(img1,(0,0))\n",
    "new_img.paste(img2,(img1.width,0))\n",
    "\n",
    "new_img.show()"
   ]
  },
  {
   "cell_type": "markdown",
   "id": "43342995",
   "metadata": {},
   "source": [
    "### 이미지 저장하기"
   ]
  },
  {
   "cell_type": "code",
   "execution_count": 33,
   "id": "494c9b9a",
   "metadata": {},
   "outputs": [],
   "source": [
    "from PIL import Image\n",
    "\n",
    "img1 = Image.open(\"c:/test/movie_image.jpg\")\n",
    "img2 = Image.open(\"c:/test/movie_image2.jpg\")\n",
    "\n",
    "\n",
    "new_img = Image.new(\"RGB\", (img1.width + img2.width, img1.height))\n",
    "new_img.paste(img1,(0,0))\n",
    "new_img.paste(img2,(img1.width,0))\n",
    "\n",
    "new_img.save(\"c:/test/new.jpg\")"
   ]
  },
  {
   "cell_type": "markdown",
   "id": "34d9030a",
   "metadata": {},
   "source": [
    "### RGB 처리하기"
   ]
  },
  {
   "cell_type": "code",
   "execution_count": 57,
   "id": "4a80c2a2",
   "metadata": {},
   "outputs": [
    {
     "name": "stdout",
     "output_type": "stream",
     "text": [
      "32\n",
      "r :  0  g :  3  b :  5\n",
      "r :  11  g :  0  b :  0\n",
      "r :  20  g :  0  b :  0\n",
      "r :  6  g :  0  b :  0\n",
      "r :  0  g :  1  b :  4\n",
      "r :  6  g :  0  b :  2\n",
      "r :  8  g :  0  b :  0\n",
      "r :  0  g :  6  b :  0\n",
      "r :  0  g :  11  b :  0\n",
      "r :  28  g :  0  b :  0\n",
      "r :  209  g :  39  b :  50\n"
     ]
    }
   ],
   "source": [
    "from PIL import Image\n",
    "\n",
    "img = Image.open(\"c:/test/test.jpg\")\n",
    "\n",
    "pixel = img.getpixel((14,16))\n",
    "\n",
    "r, g, b = pixel\n",
    "print(r)\n",
    "# 특정 위치의 RGB값 확인\n",
    "\n",
    "img = Image.open(\"c:/test/test.jpg\")\n",
    "\n",
    "pixel_list = list(img.getdata())\n",
    "\n",
    "for i, pixel in enumerate(pixel_list):\n",
    "    if i > 10:\n",
    "        break\n",
    "    \n",
    "    r, g, b = pixel\n",
    "    print(\"r : \",r,\" g : \",g,\" b : \",b)\n"
   ]
  },
  {
   "cell_type": "markdown",
   "id": "f7750542",
   "metadata": {},
   "source": [
    "### RGBA 처리하기 (투명그림)\n",
    "\n",
    "투명한 그림을 투명하지 않게 바꾸는 법"
   ]
  },
  {
   "cell_type": "code",
   "execution_count": 74,
   "id": "28288865",
   "metadata": {},
   "outputs": [
    {
     "name": "stdout",
     "output_type": "stream",
     "text": [
      "RGBA\n",
      "RGB\n"
     ]
    }
   ],
   "source": [
    "from PIL import Image\n",
    "\n",
    "img = Image.open(\"c:/test/png.png\")\n",
    "\n",
    "print(img.mode)  # 이미지 색상 모드\n",
    "\n",
    "canvas = Image.new(\"RGBA\", (img.width,img.height), (255, 255, 0))\n",
    "\n",
    "composite = Image.alpha_composite(canvas, img) # 크기가 똑같은 투명이미지로만 가능\n",
    "\n",
    "composite = composite.convert(\"RGB\")\n",
    "print(composite.mode)  # 이미지 색상 모드\n",
    "\n",
    "composite.show()"
   ]
  },
  {
   "cell_type": "code",
   "execution_count": null,
   "id": "37fc53be",
   "metadata": {},
   "outputs": [],
   "source": []
  }
 ],
 "metadata": {
  "kernelspec": {
   "display_name": "Python 3",
   "language": "python",
   "name": "python3"
  },
  "language_info": {
   "codemirror_mode": {
    "name": "ipython",
    "version": 3
   },
   "file_extension": ".py",
   "mimetype": "text/x-python",
   "name": "python",
   "nbconvert_exporter": "python",
   "pygments_lexer": "ipython3",
   "version": "3.8.8"
  }
 },
 "nbformat": 4,
 "nbformat_minor": 5
}
