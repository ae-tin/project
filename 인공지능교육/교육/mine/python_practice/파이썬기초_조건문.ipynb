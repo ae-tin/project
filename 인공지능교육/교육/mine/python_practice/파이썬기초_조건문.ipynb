{
 "cells": [
  {
   "cell_type": "markdown",
   "id": "6a786efd",
   "metadata": {},
   "source": [
    "# 조건문\n",
    "  \n",
    "### if 조건식 :\n",
    "        조건이 참일 때 실행하고 싶은 코드"
   ]
  },
  {
   "cell_type": "code",
   "execution_count": 2,
   "id": "f76af9cf",
   "metadata": {},
   "outputs": [],
   "source": [
    "num1 = 10\n",
    "num2 = 20\n",
    "num3 = 30\n",
    "bool1 = True\n",
    "bool2  = False"
   ]
  },
  {
   "cell_type": "code",
   "execution_count": 5,
   "id": "c811aed9",
   "metadata": {},
   "outputs": [
    {
     "name": "stdout",
     "output_type": "stream",
     "text": [
      "num1은 20이 아니다\n"
     ]
    }
   ],
   "source": [
    "if num1!=20 :\n",
    "    print(\"num1은 20이 아니다\")"
   ]
  },
  {
   "cell_type": "markdown",
   "id": "dcd81dce",
   "metadata": {},
   "source": [
    "만약에 num1에 저장된 값이 5보다 크면 \"num1은 5보다 크다\" 라고 출력"
   ]
  },
  {
   "cell_type": "code",
   "execution_count": 6,
   "id": "3c537e8f",
   "metadata": {
    "scrolled": true
   },
   "outputs": [
    {
     "name": "stdout",
     "output_type": "stream",
     "text": [
      "num1은 5보다 크다\n"
     ]
    }
   ],
   "source": [
    "if num1>5 :\n",
    "    print(\"num1은 5보다 크다\")"
   ]
  },
  {
   "cell_type": "markdown",
   "id": "e211c58d",
   "metadata": {},
   "source": [
    "만약에 str1에 저장된 값이 \"hello\"와 같다면 화면에 \"같다\"라고 출력하라"
   ]
  },
  {
   "cell_type": "code",
   "execution_count": 10,
   "id": "7d9252fe",
   "metadata": {},
   "outputs": [
    {
     "name": "stdout",
     "output_type": "stream",
     "text": [
      "같다\n"
     ]
    }
   ],
   "source": [
    "str1 = 'hello'\n",
    "if str1 == 'hello' :\n",
    "    print(\"같다\")"
   ]
  },
  {
   "cell_type": "markdown",
   "id": "602b91a8",
   "metadata": {},
   "source": [
    "## 사용자 입력 문자열\n",
    "  \n",
    "  input() 을 사용하게 되면 사용자가 직접 입력을 할 수 있다. 입력한 값은 문자열이 된다. 숫자를 입력해도 문자열이다.  \n",
    "  \n",
    "  변수 = input()으로 많이 사용한다. "
   ]
  },
  {
   "cell_type": "markdown",
   "id": "8f93ddb0",
   "metadata": {},
   "source": [
    "## 문자열을 숫자로 만들기 \n",
    "  \n",
    "  int(문자열) >> 문자열을 정수로 만들어줌  \n",
    "  float(문자열) >> 문자열을 실수로 만들어줌\n",
    "  "
   ]
  },
  {
   "cell_type": "markdown",
   "id": "37bc6395",
   "metadata": {},
   "source": [
    "## 문제\n",
    "  \n",
    "## 계산기 프로그램 만들기\n",
    "\n",
    "사용자한테 +, -, *, / 중 하나를 입력받는다.  \n",
    "만약에 입력받는 문자가 +면 숫자 2개를 더 입력받고 두 수의 합을 출력  \n",
    "만약에 입력받는 문자가 -면 숫자 2개를 더 입력받고 두 수의 차을 출력  \n",
    "만약에 입력받는 문자가 *면 숫자 2개를 더 입력받고 두 수의 곱을 출력  \n",
    "만약에 입력받는 문자가 /면 숫자 2개를 더 입력받고 두 수의 나누기 결과를 출력  "
   ]
  },
  {
   "cell_type": "code",
   "execution_count": 11,
   "id": "0ab9bdd6",
   "metadata": {},
   "outputs": [
    {
     "name": "stdout",
     "output_type": "stream",
     "text": [
      "+,-,*,/ 중 계산할 연산자 하나를 입력하세요\n",
      "*\n",
      "연산할 두 숫자를 입력하세요\n",
      "123\n",
      "곱하기\n",
      "456\n",
      "는\n",
      "56088\n",
      "입니다\n"
     ]
    }
   ],
   "source": [
    "print(\"+,-,*,/ 중 계산할 연산자 하나를 입력하세요\")\n",
    "user = input()\n",
    "print('연산할 두 숫자를 입력하세요')\n",
    "if user == '+' :\n",
    "    a = int(input())\n",
    "    print('더하기')\n",
    "    b = int(input())\n",
    "    print('는')\n",
    "    print(a+b)\n",
    "    print('입니다')\n",
    "elif user == '-' :\n",
    "    c = int(input())\n",
    "    print('빼기')\n",
    "    d = int(input())\n",
    "    print('는')\n",
    "    print(c-d)\n",
    "    print('입니다')\n",
    "elif user == '*' :\n",
    "    e = int(input())\n",
    "    print('곱하기')\n",
    "    f = int(input())\n",
    "    print('는')\n",
    "    print(e*f)\n",
    "    print('입니다')\n",
    "elif user == '/' :\n",
    "    g = int(input())\n",
    "    print('나누기')\n",
    "    h = int(input())\n",
    "    print('는')\n",
    "    print(int(g/h))\n",
    "    print('입니다')"
   ]
  },
  {
   "cell_type": "markdown",
   "id": "533cb5c3",
   "metadata": {},
   "source": [
    "## 조건이 참이 아닐 때 실행되는 코드\n",
    "\n",
    "    if 조건식 :\n",
    "        조건식이 참일 때 실행될 코드\n",
    "    else :\n",
    "        조건식이 거짓일 때 실행될 코드"
   ]
  },
  {
   "cell_type": "code",
   "execution_count": 13,
   "id": "60dab881",
   "metadata": {},
   "outputs": [
    {
     "name": "stdout",
     "output_type": "stream",
     "text": [
      "다른디?\n"
     ]
    }
   ],
   "source": [
    "num1 = 30\n",
    "\n",
    "if num1 ==10 :\n",
    "    print('같다')\n",
    "else :\n",
    "    print('다른디?')"
   ]
  },
  {
   "cell_type": "markdown",
   "id": "0fbd362f",
   "metadata": {},
   "source": [
    "## 타자 연습기 만들기\n",
    "  \n",
    "str = 'if문 안의 코드는 조건이 참일 때 실행되는 코드'  \n",
    "사용자한테 입력받은 값이 str이랑 같으면 성공!!이라고 출력하고 그렇지 않으면 실패!!라고 출력하는 프로그램"
   ]
  },
  {
   "cell_type": "code",
   "execution_count": 15,
   "id": "92189f94",
   "metadata": {},
   "outputs": [],
   "source": [
    "str1 = 'if문 안의 코드는 조건이 참일 때 실행되는 코드'"
   ]
  },
  {
   "cell_type": "code",
   "execution_count": 16,
   "id": "064853ac",
   "metadata": {},
   "outputs": [
    {
     "name": "stdout",
     "output_type": "stream",
     "text": [
      "if문 안의 코드는 조건이 참일 때 실행되는 코드\n",
      "위 문장을 보고 타자를 입력하세요.\n",
      "if문 안의 코드는 조건이 참일 때 실행되는 코드\n",
      "성공!!\n"
     ]
    }
   ],
   "source": [
    "print('if문 안의 코드는 조건이 참일 때 실행되는 코드')\n",
    "print('위 문장을 보고 타자를 입력하세요.')\n",
    "user = input()\n",
    "if user == str1 :\n",
    "    print('성공!!')\n",
    "else :\n",
    "    print('실패~~')"
   ]
  },
  {
   "cell_type": "markdown",
   "id": "72e216b8",
   "metadata": {},
   "source": [
    "## 시험 합불 정하기 (평균 80이상, 과락 60미만)\n",
    "\n",
    "국어 점수를 입력 받으시오  \n",
    "영어 점수를 입력 받으시오  \n",
    "수학 점수를 입력 받으시오  \n",
    "  \n",
    "3과목 점수의 평균을 구하시오 \n",
    "  \n",
    "평균이 80 이상이면 합격을 출력하고 그렇지 않으면 탈락을 출력하는 프로그램  \n",
    "어느 한 과목이 60점 이하이면 과락으로 간주하여 탈락"
   ]
  },
  {
   "cell_type": "code",
   "execution_count": 29,
   "id": "b03688c9",
   "metadata": {},
   "outputs": [],
   "source": [
    "def avg(a,b,c) :\n",
    "    d = (a + b + c) /3\n",
    "    print(d)"
   ]
  },
  {
   "cell_type": "markdown",
   "id": "0a8ecbc0",
   "metadata": {},
   "source": [
    "## Q. 근데 여기 밑에 프로그램에 avg(과목) 하고 비교연산자랑 비교하면 에러나던데 왜 그렇지?"
   ]
  },
  {
   "cell_type": "code",
   "execution_count": 28,
   "id": "4ddc291c",
   "metadata": {
    "scrolled": false
   },
   "outputs": [
    {
     "name": "stdout",
     "output_type": "stream",
     "text": [
      "점수 채점을 시작합니다\n",
      "채점이 완료되면 합격 또는 탈락을 표시합니다.\n",
      "국어 점수를 입력하세요\n",
      "80\n",
      "영어 점수를 입력하세요\n",
      "80\n",
      "수학 점수를 입력하세요\n",
      "90\n",
      "축하합니다! 합격입니다!\n"
     ]
    }
   ],
   "source": [
    "print('점수 채점을 시작합니다')\n",
    "print('채점이 완료되면 합격 또는 탈락을 표시합니다.')\n",
    "print('국어 점수를 입력하세요')\n",
    "kor = float(input())\n",
    "print('영어 점수를 입력하세요')\n",
    "eng = float(input())\n",
    "print('수학 점수를 입력하세요')\n",
    "math = float(input())\n",
    "\n",
    "if kor >= 60 and eng >= 60 and math >= 60 and (kor + eng + math)/3 >=80 :\n",
    "    print('축하합니다! 합격입니다!')\n",
    "else :\n",
    "    print('탈락입니다. 다음에 다시 도전하세요.')"
   ]
  },
  {
   "cell_type": "markdown",
   "id": "934e1c0c",
   "metadata": {},
   "source": [
    "## A. def 하고 함수 만들 때에 출력될 값은 print()가 아니라 return으로 받아줘야함"
   ]
  },
  {
   "cell_type": "code",
   "execution_count": 1,
   "id": "efe2bd87",
   "metadata": {},
   "outputs": [],
   "source": [
    "def avg(a,b,c) :\n",
    "    d = (a + b + c) /3\n",
    "    return d"
   ]
  },
  {
   "cell_type": "code",
   "execution_count": 3,
   "id": "09e38fcf",
   "metadata": {},
   "outputs": [
    {
     "name": "stdout",
     "output_type": "stream",
     "text": [
      "점수 채점을 시작합니다\n",
      "채점이 완료되면 합격 또는 탈락을 표시합니다.\n",
      "국어 점수를 입력하세요\n",
      "80\n",
      "영어 점수를 입력하세요\n",
      "90\n",
      "수학 점수를 입력하세요\n",
      "70\n",
      "축하합니다! 합격입니다!\n"
     ]
    }
   ],
   "source": [
    "print('점수 채점을 시작합니다')\n",
    "print('채점이 완료되면 합격 또는 탈락을 표시합니다.')\n",
    "print('국어 점수를 입력하세요')\n",
    "kor = float(input())\n",
    "print('영어 점수를 입력하세요')\n",
    "eng = float(input())\n",
    "print('수학 점수를 입력하세요')\n",
    "math = float(input())\n",
    "\n",
    "if kor >= 60 and eng >= 60 and math >= 60 and avg(kor,eng,math) >=80 :\n",
    "    print('축하합니다! 합격입니다!')\n",
    "else :\n",
    "    print('탈락입니다. 다음에 다시 도전하세요.')"
   ]
  },
  {
   "cell_type": "markdown",
   "id": "821285d9",
   "metadata": {},
   "source": [
    "# if elif 문\n",
    "if문 elif문에서는 조건식을 여러개 사용하여 각 조건에 맞는 코드를 따로 실행시킬 수 있다."
   ]
  },
  {
   "cell_type": "code",
   "execution_count": 1,
   "id": "ba01d9f8",
   "metadata": {},
   "outputs": [],
   "source": [
    "num1 = 100"
   ]
  },
  {
   "cell_type": "code",
   "execution_count": 2,
   "id": "9af2402b",
   "metadata": {},
   "outputs": [
    {
     "name": "stdout",
     "output_type": "stream",
     "text": [
      "num1은 100입니다.\n"
     ]
    }
   ],
   "source": [
    "if num1>100 :\n",
    "    print('num1은 100보다 큽니다.')\n",
    "elif num1==100 :\n",
    "    print('num1은 100입니다.')\n",
    "else :\n",
    "    print('num1은 100보다 작습니다.')"
   ]
  },
  {
   "cell_type": "markdown",
   "id": "82a65c4a",
   "metadata": {},
   "source": [
    "### 굳이 else가 없어도 동작한다."
   ]
  },
  {
   "cell_type": "code",
   "execution_count": 4,
   "id": "f578b146",
   "metadata": {},
   "outputs": [
    {
     "name": "stdout",
     "output_type": "stream",
     "text": [
      "num1은 100입니다.\n"
     ]
    }
   ],
   "source": [
    "if num1>100 :\n",
    "    print('num1은 100보다 큽니다.')\n",
    "elif num1==100 :\n",
    "    print('num1은 100입니다.')"
   ]
  },
  {
   "cell_type": "code",
   "execution_count": 6,
   "id": "5e4affad",
   "metadata": {},
   "outputs": [
    {
     "name": "stdout",
     "output_type": "stream",
     "text": [
      "num1은 100입니다.\n"
     ]
    }
   ],
   "source": [
    "if num1==100 :\n",
    "    print('num1은 100입니다.')\n"
   ]
  },
  {
   "cell_type": "markdown",
   "id": "359d247b",
   "metadata": {},
   "source": [
    "# 문제\n",
    "  \n",
    "계절을 입력 받고 (spring, summer, fall, winter 중 입력)  \n",
    "만약에 입력받은 계절이 spring 과 같으면 \"봄이 왔네요\"  \n",
    "그렇지 않고 만약에 계절이 summer 과 같으면 \"겁나 더워요\",  \n",
    "그렇지 않고 만약에 계절이 fall 과 같으면 \"선선하네요\",  \n",
    "그렇지 않으면 \"추워요\"를 출력하세요"
   ]
  },
  {
   "cell_type": "code",
   "execution_count": 10,
   "id": "8856697b",
   "metadata": {},
   "outputs": [
    {
     "name": "stdout",
     "output_type": "stream",
     "text": [
      "계절을 입력하세요. (spring, summer, fall, winter)\n",
      "winter\n",
      "추워요\n"
     ]
    }
   ],
   "source": [
    "print('계절을 입력하세요. (spring, summer, fall, winter)')\n",
    "season = input()\n",
    "if season == 'spring' :\n",
    "    print('봄이 왔네요')\n",
    "elif season == 'summer' :\n",
    "    print('겁나 더워요')\n",
    "elif season == 'fall' :\n",
    "    print('선선하네요')\n",
    "else :\n",
    "    print('추워요')"
   ]
  },
  {
   "cell_type": "markdown",
   "id": "faf521d6",
   "metadata": {},
   "source": [
    "# if문과 논리 연산"
   ]
  },
  {
   "cell_type": "markdown",
   "id": "273b8060",
   "metadata": {},
   "source": [
    "만약에 num1과 num2를 더한 값이 num3과 같고 num3이 num1보다 크면 '참'을 출력"
   ]
  },
  {
   "cell_type": "code",
   "execution_count": 13,
   "id": "f1fdae64",
   "metadata": {},
   "outputs": [],
   "source": [
    "num1 = 10\n",
    "num2 = 20\n",
    "num3 = 30"
   ]
  },
  {
   "cell_type": "code",
   "execution_count": 14,
   "id": "db8da1d9",
   "metadata": {},
   "outputs": [
    {
     "name": "stdout",
     "output_type": "stream",
     "text": [
      "참\n"
     ]
    }
   ],
   "source": [
    "if num1 + num2 == num3 and num3 > num1 :\n",
    "    print('참')"
   ]
  },
  {
   "cell_type": "markdown",
   "id": "e0525f43",
   "metadata": {},
   "source": [
    "# 문제\n",
    "  \n",
    "성적을 입력 받아서 성적이 100보다 크거나 0보다 작으면 '0~100까지만 입력할 수 있습니다.' 를 출력한다.\n"
   ]
  },
  {
   "cell_type": "markdown",
   "id": "bc6af0e1",
   "metadata": {},
   "source": [
    "크기를 비교하는 연산자는 문자열을 비교할 수 없으니 int()나 float()을 씌워준다."
   ]
  },
  {
   "cell_type": "code",
   "execution_count": 16,
   "id": "952506c3",
   "metadata": {},
   "outputs": [
    {
     "name": "stdout",
     "output_type": "stream",
     "text": [
      "성적을 입력하세요.\n",
      "-10\n",
      "0~100까지만 입력할 수 있습니다.\n"
     ]
    }
   ],
   "source": [
    "print('성적을 입력하세요.')\n",
    "score = float(input())\n",
    "if score > 100 or score < 0 :\n",
    "    print('0~100까지만 입력할 수 있습니다.')"
   ]
  },
  {
   "cell_type": "markdown",
   "id": "456aa40f",
   "metadata": {},
   "source": [
    "# 문제  \n",
    "  \n",
    "성적을 입력 받아서 성적이 100보다 크거나 0보다 작으면 '0~100까지만 입력할 수 있습니다.' 를 출력한다.  \n",
    "그렇지 않고 만약에 성적이 100 이면 \"A+\"를 출력한다.  \n",
    "그렇지 않고 만약에 성적이 100보다 작고 90보다 크거나 같으면 A를 출력한다.  \n",
    "\n",
    "그렇지 않고 만약에 성적이 90보다 작고 80보다 크거나 같으면 B를 출력한다.\n",
    "\n",
    "그렇지 않고 만약에 성적이 80보다 작고 70보다 크거나 같으면 C를 출력한다.\n",
    "\n",
    "그렇지 않고 만약에 성적이 70보다 작고 60보다 크거나 같으면 D를 출력한다.\n",
    "그렇지 않으면 \"F\"를 출력한다."
   ]
  },
  {
   "cell_type": "code",
   "execution_count": 27,
   "id": "2199f16f",
   "metadata": {
    "scrolled": true
   },
   "outputs": [
    {
     "name": "stdout",
     "output_type": "stream",
     "text": [
      "성적을 입력하세요.\n",
      "77\n",
      "C\n"
     ]
    }
   ],
   "source": [
    "print('성적을 입력하세요.')\n",
    "score = float(input())\n",
    "if score > 100 or score < 0 :\n",
    "    print('0~100까지만 입력할 수 있습니다.')\n",
    "elif score == 100 :\n",
    "    print('A+')\n",
    "elif 90 <= score  < 100 :\n",
    "    print(\"A\")\n",
    "elif 80 <= score < 90 :\n",
    "    print(\"B\")\n",
    "elif 70 <= score  < 80 :\n",
    "    print(\"C\")\n",
    "elif 60 <= score < 70 :\n",
    "    print(\"D\")\n",
    "else :\n",
    "    print('F')"
   ]
  },
  {
   "cell_type": "markdown",
   "id": "2fe35910",
   "metadata": {},
   "source": [
    "### 조건문이라 하더라도 다른  내용이 들어갈 수 있습니다! 보통 앞선 포스팅에 들어가 있는 내용일 가능성이 높고 제가 미리 알고 있는 내용일 수도 있으니 궁금하신 거나 틀린 것 있으면 물어봐주세요~!"
   ]
  }
 ],
 "metadata": {
  "kernelspec": {
   "display_name": "Python 3",
   "language": "python",
   "name": "python3"
  },
  "language_info": {
   "codemirror_mode": {
    "name": "ipython",
    "version": 3
   },
   "file_extension": ".py",
   "mimetype": "text/x-python",
   "name": "python",
   "nbconvert_exporter": "python",
   "pygments_lexer": "ipython3",
   "version": "3.8.8"
  }
 },
 "nbformat": 4,
 "nbformat_minor": 5
}
