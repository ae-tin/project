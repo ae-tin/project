{
 "cells": [
  {
   "cell_type": "markdown",
   "id": "d61f6286",
   "metadata": {},
   "source": [
    "# 문제\n",
    "\n",
    "숫자를 여러개 입력 받고 입력받은 숫자 중에서 가장 큰 수를 출력하는 기능\n",
    "  맨 처음 수를 max에 저장하고 \n",
    "  num에 들어있는 수를 하나씩 꺼내면서 만약에 그 수가 max보다 크면 max에 저장\n",
    "  그렇지 않으면 다음 수를 꺼낸다."
   ]
  },
  {
   "cell_type": "code",
   "execution_count": 11,
   "id": "3fbea3e6",
   "metadata": {},
   "outputs": [],
   "source": [
    "def maximum(*num):\n",
    "    max = num[0]\n",
    "    for i in num:\n",
    "        if i > max:\n",
    "            max = i\n",
    "        \n",
    "        \n",
    "    print(max)"
   ]
  },
  {
   "cell_type": "code",
   "execution_count": 13,
   "id": "c4ebe3f8",
   "metadata": {},
   "outputs": [
    {
     "name": "stdout",
     "output_type": "stream",
     "text": [
      "98\n"
     ]
    }
   ],
   "source": [
    "maximum(10,26,40,23,98,60,86,32,7,69,35,6)"
   ]
  },
  {
   "cell_type": "markdown",
   "id": "b20d7516",
   "metadata": {},
   "source": [
    "# 문제\n",
    "\n",
    "num1 = 10\n",
    "num2 = 20\n",
    "\n",
    "이렇게 있을 때\n",
    "\n",
    "두 변수의 수를 바꾸는 기능 (단, 직접 숫자를 저장하는 건 금지)"
   ]
  },
  {
   "cell_type": "code",
   "execution_count": 23,
   "id": "720b89f3",
   "metadata": {},
   "outputs": [
    {
     "name": "stdout",
     "output_type": "stream",
     "text": [
      "20\n",
      "10\n"
     ]
    }
   ],
   "source": [
    "num1 = 10\n",
    "num2 = 20\n",
    "\n",
    "def swap(a, b):\n",
    "    global num1\n",
    "    num1 = a\n",
    "    global num2\n",
    "    num2 = b\n",
    "    tmp = num1\n",
    "    num1=num2\n",
    "    num2=tmp\n",
    "    \n",
    "\n",
    "swap(num1, num2)\n",
    "\n",
    "print(num1)\n",
    "print(num2)"
   ]
  },
  {
   "cell_type": "markdown",
   "id": "ad9cd00a",
   "metadata": {},
   "source": [
    "# 문제\n",
    "\n",
    "문자열과 숫자를 하나씩 입력 받고 입력된 문자열을 입력된 숫자 만큼 잘라서 출력하는 기능\n",
    "\n",
    "예를 들어서 함수(\"안녕하세요. 감사해요. 잘있어요.\",3)\n",
    "\n",
    "안녕하  \n",
    "세요.  \n",
    "&nbsp;감사  \n",
    "해요.  \n",
    "&nbsp;잘있  \n",
    "어요."
   ]
  },
  {
   "cell_type": "code",
   "execution_count": 39,
   "id": "af55d6ee",
   "metadata": {},
   "outputs": [],
   "source": [
    "def str_split(str1, num1):\n",
    "    for i in range(0,len(str1),num1):    # len(문자열), len(리스트) len()은 \n",
    "        print(str1[i:i+num1])             # 리스트나 문자열의 길이를 알려주는 명령어  "
   ]
  },
  {
   "cell_type": "code",
   "execution_count": 43,
   "id": "e1cb0d6a",
   "metadata": {},
   "outputs": [
    {
     "name": "stdout",
     "output_type": "stream",
     "text": [
      "안녕하세요\n",
      ". 감사해\n",
      "요. 잘있\n",
      "어요.\n"
     ]
    }
   ],
   "source": [
    "str_split(\"안녕하세요. 감사해요. 잘있어요.\",5)"
   ]
  },
  {
   "cell_type": "markdown",
   "id": "44e2004b",
   "metadata": {},
   "source": [
    "# 문제\n",
    "\n",
    "아래 코드를 활용해서 BTC, XRP, ETH, LTC, ICX, EOS 중 하나를 입력하면 해당 코인의 가격을 출력하는 기능을 만들고 사용해보시오."
   ]
  },
  {
   "cell_type": "code",
   "execution_count": 47,
   "id": "caeed9c0",
   "metadata": {},
   "outputs": [
    {
     "name": "stdout",
     "output_type": "stream",
     "text": [
      "43184000원\n"
     ]
    }
   ],
   "source": [
    "import requests\n",
    "response = requests.get(\"https://api.bithumb.com/public/ticker/BTC\").json()\n",
    "print(response['data']['closing_price']+\"원\")"
   ]
  },
  {
   "cell_type": "code",
   "execution_count": 50,
   "id": "7013f7f2",
   "metadata": {},
   "outputs": [
    {
     "name": "stdout",
     "output_type": "stream",
     "text": [
      "985.3원\n"
     ]
    }
   ],
   "source": [
    "def coin(str1):\n",
    "    response = requests.get(\"https://api.bithumb.com/public/ticker/\"+str1).json()\n",
    "    print(response['data']['closing_price']+\"원\")\n",
    "\n",
    "\n",
    "\n",
    "coin(\"ICX\")"
   ]
  }
 ],
 "metadata": {
  "kernelspec": {
   "display_name": "Python 3",
   "language": "python",
   "name": "python3"
  },
  "language_info": {
   "codemirror_mode": {
    "name": "ipython",
    "version": 3
   },
   "file_extension": ".py",
   "mimetype": "text/x-python",
   "name": "python",
   "nbconvert_exporter": "python",
   "pygments_lexer": "ipython3",
   "version": "3.8.8"
  }
 },
 "nbformat": 4,
 "nbformat_minor": 5
}
