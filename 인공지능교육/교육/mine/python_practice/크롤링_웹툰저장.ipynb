{
 "cells": [
  {
   "cell_type": "markdown",
   "id": "7db389a9",
   "metadata": {},
   "source": []
  },
  {
   "cell_type": "markdown",
   "id": "a6d6e0fc",
   "metadata": {},
   "source": [
    "크롬 드라이버 안쓰고 크롤링~"
   ]
  },
  {
   "cell_type": "code",
   "execution_count": 1,
   "id": "55114345",
   "metadata": {
    "collapsed": true
   },
   "outputs": [
    {
     "name": "stdout",
     "output_type": "stream",
     "text": [
      "['https://image-comic.pstatic.net/webtoon/183559/498/20210616144651_0c863f67bb7a6c767980d8d55fd23259_IMAG01_1.jpg', 'https://image-comic.pstatic.net/webtoon/183559/498/20210616144651_0c863f67bb7a6c767980d8d55fd23259_IMAG01_2.jpg', 'https://image-comic.pstatic.net/webtoon/183559/498/20210616144651_0c863f67bb7a6c767980d8d55fd23259_IMAG01_3.jpg', 'https://image-comic.pstatic.net/webtoon/183559/498/20210616144651_0c863f67bb7a6c767980d8d55fd23259_IMAG01_4.jpg', 'https://image-comic.pstatic.net/webtoon/183559/498/20210616144651_0c863f67bb7a6c767980d8d55fd23259_IMAG01_5.jpg', 'https://image-comic.pstatic.net/webtoon/183559/498/20210616144651_0c863f67bb7a6c767980d8d55fd23259_IMAG01_6.jpg', 'https://image-comic.pstatic.net/webtoon/183559/498/20210616144651_0c863f67bb7a6c767980d8d55fd23259_IMAG01_7.jpg', 'https://image-comic.pstatic.net/webtoon/183559/498/20210616144651_0c863f67bb7a6c767980d8d55fd23259_IMAG01_8.jpg', 'https://image-comic.pstatic.net/webtoon/183559/498/20210616144651_0c863f67bb7a6c767980d8d55fd23259_IMAG01_9.jpg', 'https://image-comic.pstatic.net/webtoon/183559/498/20210616144651_0c863f67bb7a6c767980d8d55fd23259_IMAG01_10.jpg', 'https://image-comic.pstatic.net/webtoon/183559/498/20210616144651_0c863f67bb7a6c767980d8d55fd23259_IMAG01_11.jpg', 'https://image-comic.pstatic.net/webtoon/183559/498/20210616144651_0c863f67bb7a6c767980d8d55fd23259_IMAG01_12.jpg', 'https://image-comic.pstatic.net/webtoon/183559/498/20210616144651_0c863f67bb7a6c767980d8d55fd23259_IMAG01_13.jpg', 'https://image-comic.pstatic.net/webtoon/183559/498/20210616144651_0c863f67bb7a6c767980d8d55fd23259_IMAG01_14.jpg', 'https://image-comic.pstatic.net/webtoon/183559/498/20210616144651_0c863f67bb7a6c767980d8d55fd23259_IMAG01_15.jpg', 'https://image-comic.pstatic.net/webtoon/183559/498/20210616144651_0c863f67bb7a6c767980d8d55fd23259_IMAG01_16.jpg', 'https://image-comic.pstatic.net/webtoon/183559/498/20210616144651_0c863f67bb7a6c767980d8d55fd23259_IMAG01_17.jpg', 'https://image-comic.pstatic.net/webtoon/183559/498/20210616144651_0c863f67bb7a6c767980d8d55fd23259_IMAG01_18.jpg', 'https://image-comic.pstatic.net/webtoon/183559/498/20210616144651_0c863f67bb7a6c767980d8d55fd23259_IMAG01_19.jpg', 'https://image-comic.pstatic.net/webtoon/183559/498/20210616144651_0c863f67bb7a6c767980d8d55fd23259_IMAG01_20.jpg', 'https://image-comic.pstatic.net/webtoon/183559/498/20210616144651_0c863f67bb7a6c767980d8d55fd23259_IMAG01_21.jpg', 'https://image-comic.pstatic.net/webtoon/183559/498/20210616144651_0c863f67bb7a6c767980d8d55fd23259_IMAG01_22.jpg', 'https://image-comic.pstatic.net/webtoon/183559/498/20210616144651_0c863f67bb7a6c767980d8d55fd23259_IMAG01_23.jpg', 'https://image-comic.pstatic.net/webtoon/183559/498/20210616144651_0c863f67bb7a6c767980d8d55fd23259_IMAG01_24.jpg', 'https://image-comic.pstatic.net/webtoon/183559/498/20210616144651_0c863f67bb7a6c767980d8d55fd23259_IMAG01_25.jpg', 'https://image-comic.pstatic.net/webtoon/183559/498/20210616144651_0c863f67bb7a6c767980d8d55fd23259_IMAG01_26.jpg', 'https://image-comic.pstatic.net/webtoon/183559/498/20210616144651_0c863f67bb7a6c767980d8d55fd23259_IMAG01_27.jpg', 'https://image-comic.pstatic.net/webtoon/183559/498/20210616144651_0c863f67bb7a6c767980d8d55fd23259_IMAG01_28.jpg', 'https://image-comic.pstatic.net/webtoon/183559/498/20210616144651_0c863f67bb7a6c767980d8d55fd23259_IMAG01_29.jpg', 'https://image-comic.pstatic.net/webtoon/183559/498/20210616144651_0c863f67bb7a6c767980d8d55fd23259_IMAG01_30.jpg', 'https://image-comic.pstatic.net/webtoon/183559/498/20210616144651_0c863f67bb7a6c767980d8d55fd23259_IMAG01_31.jpg', 'https://image-comic.pstatic.net/webtoon/183559/498/20210616144651_0c863f67bb7a6c767980d8d55fd23259_IMAG01_32.jpg', 'https://image-comic.pstatic.net/webtoon/183559/498/20210616144651_0c863f67bb7a6c767980d8d55fd23259_IMAG01_33.jpg', 'https://image-comic.pstatic.net/webtoon/183559/498/20210616144651_0c863f67bb7a6c767980d8d55fd23259_IMAG01_34.jpg', 'https://image-comic.pstatic.net/webtoon/183559/498/20210616144651_0c863f67bb7a6c767980d8d55fd23259_IMAG01_35.jpg', 'https://image-comic.pstatic.net/webtoon/183559/498/20210616144651_0c863f67bb7a6c767980d8d55fd23259_IMAG01_36.jpg', 'https://image-comic.pstatic.net/webtoon/183559/498/20210616144651_0c863f67bb7a6c767980d8d55fd23259_IMAG01_37.jpg', 'https://image-comic.pstatic.net/webtoon/183559/498/20210616144651_0c863f67bb7a6c767980d8d55fd23259_IMAG01_38.jpg', 'https://image-comic.pstatic.net/webtoon/183559/498/20210616144651_0c863f67bb7a6c767980d8d55fd23259_IMAG01_39.jpg', 'https://image-comic.pstatic.net/webtoon/183559/498/20210616144651_0c863f67bb7a6c767980d8d55fd23259_IMAG01_40.jpg', 'https://image-comic.pstatic.net/webtoon/183559/498/20210616144651_0c863f67bb7a6c767980d8d55fd23259_IMAG01_41.jpg', 'https://image-comic.pstatic.net/webtoon/183559/498/20210616144651_0c863f67bb7a6c767980d8d55fd23259_IMAG01_42.jpg', 'https://image-comic.pstatic.net/webtoon/183559/498/20210616144651_0c863f67bb7a6c767980d8d55fd23259_IMAG01_43.jpg', 'https://image-comic.pstatic.net/webtoon/183559/498/20210616144651_0c863f67bb7a6c767980d8d55fd23259_IMAG01_44.jpg', 'https://image-comic.pstatic.net/webtoon/183559/498/20210616144651_0c863f67bb7a6c767980d8d55fd23259_IMAG01_45.jpg', 'https://image-comic.pstatic.net/webtoon/183559/498/20210616144651_0c863f67bb7a6c767980d8d55fd23259_IMAG01_46.jpg', 'https://image-comic.pstatic.net/webtoon/183559/498/20210616144651_0c863f67bb7a6c767980d8d55fd23259_IMAG01_47.jpg', 'https://image-comic.pstatic.net/webtoon/183559/498/20210616144651_0c863f67bb7a6c767980d8d55fd23259_IMAG01_48.jpg', 'https://image-comic.pstatic.net/webtoon/183559/498/20210616144651_0c863f67bb7a6c767980d8d55fd23259_IMAG01_49.jpg', 'https://image-comic.pstatic.net/webtoon/183559/498/20210616144651_0c863f67bb7a6c767980d8d55fd23259_IMAG01_50.jpg', 'https://image-comic.pstatic.net/webtoon/183559/498/20210616144651_0c863f67bb7a6c767980d8d55fd23259_IMAG01_51.jpg', 'https://image-comic.pstatic.net/webtoon/183559/498/20210616144651_0c863f67bb7a6c767980d8d55fd23259_IMAG01_52.jpg', 'https://image-comic.pstatic.net/webtoon/183559/498/20210616144651_0c863f67bb7a6c767980d8d55fd23259_IMAG01_53.jpg', 'https://image-comic.pstatic.net/webtoon/183559/498/20210616144651_0c863f67bb7a6c767980d8d55fd23259_IMAG01_54.jpg', 'https://image-comic.pstatic.net/webtoon/183559/498/20210616144651_0c863f67bb7a6c767980d8d55fd23259_IMAG01_55.jpg', 'https://image-comic.pstatic.net/webtoon/183559/498/20210616144651_0c863f67bb7a6c767980d8d55fd23259_IMAG01_56.jpg', 'https://image-comic.pstatic.net/webtoon/183559/498/20210616144651_0c863f67bb7a6c767980d8d55fd23259_IMAG01_57.jpg', 'https://image-comic.pstatic.net/webtoon/183559/498/20210616144651_0c863f67bb7a6c767980d8d55fd23259_IMAG01_58.jpg', 'https://image-comic.pstatic.net/webtoon/183559/498/20210616144651_0c863f67bb7a6c767980d8d55fd23259_IMAG01_59.jpg', 'https://image-comic.pstatic.net/webtoon/183559/498/20210616144651_0c863f67bb7a6c767980d8d55fd23259_IMAG01_60.jpg', 'https://image-comic.pstatic.net/webtoon/183559/498/20210616144651_0c863f67bb7a6c767980d8d55fd23259_IMAG01_61.jpg', 'https://image-comic.pstatic.net/webtoon/183559/498/20210616144651_0c863f67bb7a6c767980d8d55fd23259_IMAG01_62.jpg', 'https://image-comic.pstatic.net/webtoon/183559/498/20210616144651_0c863f67bb7a6c767980d8d55fd23259_IMAG01_63.jpg', 'https://image-comic.pstatic.net/webtoon/183559/498/20210616144651_0c863f67bb7a6c767980d8d55fd23259_IMAG01_64.jpg', 'https://image-comic.pstatic.net/webtoon/183559/498/20210616144651_0c863f67bb7a6c767980d8d55fd23259_IMAG01_65.jpg', 'https://image-comic.pstatic.net/webtoon/183559/498/20210616144651_0c863f67bb7a6c767980d8d55fd23259_IMAG01_66.jpg', 'https://image-comic.pstatic.net/webtoon/183559/498/20210616144651_0c863f67bb7a6c767980d8d55fd23259_IMAG01_67.jpg', 'https://image-comic.pstatic.net/webtoon/183559/498/20210616144651_0c863f67bb7a6c767980d8d55fd23259_IMAG01_68.jpg', 'https://image-comic.pstatic.net/webtoon/183559/498/20210616144651_0c863f67bb7a6c767980d8d55fd23259_IMAG01_69.jpg', 'https://image-comic.pstatic.net/webtoon/183559/498/20210616144651_0c863f67bb7a6c767980d8d55fd23259_IMAG01_70.jpg', 'https://image-comic.pstatic.net/webtoon/183559/498/20210616144651_0c863f67bb7a6c767980d8d55fd23259_IMAG01_71.jpg', 'https://image-comic.pstatic.net/webtoon/183559/498/20210616144651_0c863f67bb7a6c767980d8d55fd23259_IMAG01_72.jpg', 'https://image-comic.pstatic.net/webtoon/183559/498/20210616144651_0c863f67bb7a6c767980d8d55fd23259_IMAG01_73.jpg', 'https://image-comic.pstatic.net/webtoon/183559/498/20210616144651_0c863f67bb7a6c767980d8d55fd23259_IMAG01_74.jpg', 'https://image-comic.pstatic.net/webtoon/183559/498/20210616144651_0c863f67bb7a6c767980d8d55fd23259_IMAG01_75.jpg', 'https://image-comic.pstatic.net/webtoon/183559/498/20210616144651_0c863f67bb7a6c767980d8d55fd23259_IMAG01_76.jpg', 'https://image-comic.pstatic.net/webtoon/183559/498/20210616144651_0c863f67bb7a6c767980d8d55fd23259_IMAG01_77.jpg', 'https://image-comic.pstatic.net/webtoon/183559/498/20210616144651_0c863f67bb7a6c767980d8d55fd23259_IMAG01_78.jpg', 'https://image-comic.pstatic.net/webtoon/183559/498/20210616144651_0c863f67bb7a6c767980d8d55fd23259_IMAG01_79.jpg', 'https://image-comic.pstatic.net/webtoon/183559/498/20210616144651_0c863f67bb7a6c767980d8d55fd23259_IMAG01_80.jpg', 'https://image-comic.pstatic.net/webtoon/183559/498/20210616144651_0c863f67bb7a6c767980d8d55fd23259_IMAG01_81.jpg', 'https://image-comic.pstatic.net/webtoon/183559/498/20210616144651_0c863f67bb7a6c767980d8d55fd23259_IMAG01_82.jpg', 'https://image-comic.pstatic.net/webtoon/183559/498/20210616144651_0c863f67bb7a6c767980d8d55fd23259_IMAG01_83.jpg', 'https://image-comic.pstatic.net/webtoon/183559/498/20210616144651_0c863f67bb7a6c767980d8d55fd23259_IMAG01_84.jpg', 'https://image-comic.pstatic.net/webtoon/183559/498/20210616144651_0c863f67bb7a6c767980d8d55fd23259_IMAG01_85.jpg', 'https://image-comic.pstatic.net/webtoon/183559/498/20210616144651_0c863f67bb7a6c767980d8d55fd23259_IMAG01_86.jpg', 'https://image-comic.pstatic.net/webtoon/183559/498/20210616144651_0c863f67bb7a6c767980d8d55fd23259_IMAG01_87.jpg', 'https://image-comic.pstatic.net/webtoon/183559/498/20210616144651_0c863f67bb7a6c767980d8d55fd23259_IMAG01_88.jpg', 'https://image-comic.pstatic.net/webtoon/183559/498/20210616144651_0c863f67bb7a6c767980d8d55fd23259_IMAG01_89.jpg', 'https://image-comic.pstatic.net/webtoon/183559/498/20210616144651_0c863f67bb7a6c767980d8d55fd23259_IMAG01_90.jpg', 'https://image-comic.pstatic.net/webtoon/183559/498/20210616144651_0c863f67bb7a6c767980d8d55fd23259_IMAG01_91.jpg', 'https://image-comic.pstatic.net/webtoon/183559/498/20210616144651_0c863f67bb7a6c767980d8d55fd23259_IMAG01_92.jpg', 'https://image-comic.pstatic.net/webtoon/183559/498/20210616144651_0c863f67bb7a6c767980d8d55fd23259_IMAG01_93.jpg', 'https://image-comic.pstatic.net/webtoon/183559/498/20210616144651_0c863f67bb7a6c767980d8d55fd23259_IMAG01_94.jpg', 'https://image-comic.pstatic.net/webtoon/183559/498/20210616144651_0c863f67bb7a6c767980d8d55fd23259_IMAG01_95.jpg', 'https://image-comic.pstatic.net/webtoon/183559/498/20210616144651_0c863f67bb7a6c767980d8d55fd23259_IMAG01_96.jpg', 'https://image-comic.pstatic.net/webtoon/183559/498/20210616144651_0c863f67bb7a6c767980d8d55fd23259_IMAG01_97.jpg', 'https://image-comic.pstatic.net/webtoon/183559/498/20210616144651_0c863f67bb7a6c767980d8d55fd23259_IMAG01_98.jpg', 'https://image-comic.pstatic.net/webtoon/183559/498/20210616144651_0c863f67bb7a6c767980d8d55fd23259_IMAG01_99.jpg', 'https://image-comic.pstatic.net/webtoon/183559/498/20210616144651_0c863f67bb7a6c767980d8d55fd23259_IMAG01_100.jpg', 'https://image-comic.pstatic.net/webtoon/183559/498/20210616144651_0c863f67bb7a6c767980d8d55fd23259_IMAG01_101.jpg', 'https://image-comic.pstatic.net/webtoon/183559/498/20210616144651_0c863f67bb7a6c767980d8d55fd23259_IMAG01_102.jpg', 'https://image-comic.pstatic.net/webtoon/183559/498/20210616144651_0c863f67bb7a6c767980d8d55fd23259_IMAG01_103.jpg', 'https://image-comic.pstatic.net/webtoon/183559/498/20210616144651_0c863f67bb7a6c767980d8d55fd23259_IMAG01_104.jpg', 'https://image-comic.pstatic.net/webtoon/183559/498/20210616144651_0c863f67bb7a6c767980d8d55fd23259_IMAG01_105.jpg', 'https://image-comic.pstatic.net/webtoon/183559/498/20210616144651_0c863f67bb7a6c767980d8d55fd23259_IMAG01_106.jpg', 'https://image-comic.pstatic.net/webtoon/183559/498/20210616144651_0c863f67bb7a6c767980d8d55fd23259_IMAG01_107.jpg', 'https://image-comic.pstatic.net/webtoon/183559/498/20210616144651_0c863f67bb7a6c767980d8d55fd23259_IMAG01_108.jpg', 'https://image-comic.pstatic.net/webtoon/183559/498/20210616144651_0c863f67bb7a6c767980d8d55fd23259_IMAG01_109.jpg', 'https://image-comic.pstatic.net/webtoon/183559/498/20210616144651_0c863f67bb7a6c767980d8d55fd23259_IMAG01_110.jpg', 'https://image-comic.pstatic.net/webtoon/183559/498/20210616144651_0c863f67bb7a6c767980d8d55fd23259_IMAG01_111.jpg', 'https://image-comic.pstatic.net/webtoon/183559/498/20210616144651_0c863f67bb7a6c767980d8d55fd23259_IMAG01_112.jpg', 'https://image-comic.pstatic.net/webtoon/183559/498/20210616144651_0c863f67bb7a6c767980d8d55fd23259_IMAG01_113.jpg', 'https://image-comic.pstatic.net/webtoon/183559/498/20210616144651_0c863f67bb7a6c767980d8d55fd23259_IMAG01_114.jpg', 'https://image-comic.pstatic.net/webtoon/183559/498/20210616144651_0c863f67bb7a6c767980d8d55fd23259_IMAG01_115.jpg', 'https://image-comic.pstatic.net/webtoon/183559/498/20210616144651_0c863f67bb7a6c767980d8d55fd23259_IMAG01_116.jpg', 'https://image-comic.pstatic.net/webtoon/183559/498/20210616144651_0c863f67bb7a6c767980d8d55fd23259_IMAG01_117.jpg', 'https://image-comic.pstatic.net/webtoon/183559/498/20210616144651_0c863f67bb7a6c767980d8d55fd23259_IMAG01_118.jpg', 'https://image-comic.pstatic.net/webtoon/183559/498/20210616144651_0c863f67bb7a6c767980d8d55fd23259_IMAG01_119.jpg', 'https://image-comic.pstatic.net/webtoon/183559/498/20210616144651_0c863f67bb7a6c767980d8d55fd23259_IMAG01_120.jpg', 'https://image-comic.pstatic.net/webtoon/183559/498/20210616144651_0c863f67bb7a6c767980d8d55fd23259_IMAG01_121.jpg', 'https://image-comic.pstatic.net/webtoon/183559/498/20210616144651_0c863f67bb7a6c767980d8d55fd23259_IMAG01_122.jpg', 'https://image-comic.pstatic.net/webtoon/183559/498/20210616144651_0c863f67bb7a6c767980d8d55fd23259_IMAG01_123.jpg', 'https://image-comic.pstatic.net/webtoon/183559/498/20210616144651_0c863f67bb7a6c767980d8d55fd23259_IMAG01_124.jpg']\n"
     ]
    }
   ],
   "source": [
    "import requests\n",
    "from bs4 import BeautifulSoup\n",
    "\n",
    "req = requests.get('https://comic.naver.com/webtoon/detail?titleId=183559&no=498&weekday=mon')\n",
    "html = req.text\n",
    "soup = BeautifulSoup(html, 'html.parser')\n",
    "\n",
    "my_class = soup.select('.wt_viewer > img') # 웹툰 한컷들이 다 .wt_viewer에 저장돼있네\n",
    "\n",
    "src_list = [] # 한컷 당 url 이 있으니, 모든 컷을 리스트에 저장 \n",
    "for img in my_class :\n",
    "    src_list.append(img.get('src'))\n",
    "\n",
    "print(src_list)"
   ]
  },
  {
   "cell_type": "code",
   "execution_count": 7,
   "id": "470b6880",
   "metadata": {},
   "outputs": [],
   "source": [
    "toon_id = []\n",
    "for src in src_list :\n",
    "    toon_id.append(src[51:]) # 이미지 url중 변하는 것만 잘라서 따로 저장"
   ]
  },
  {
   "cell_type": "markdown",
   "id": "dce3a0da",
   "metadata": {},
   "source": [
    "https://selenium-python.readthedocs.io/index.html\n"
   ]
  },
  {
   "cell_type": "code",
   "execution_count": 11,
   "id": "744867ba",
   "metadata": {},
   "outputs": [
    {
     "name": "stderr",
     "output_type": "stream",
     "text": [
      "C:\\Users\\slinfo\\anaconda3\\lib\\site-packages\\selenium\\webdriver\\remote\\webdriver.py:1030: UserWarning: name used for saved screenshot does not match file type. It should end with a `.png` extension\n",
      "  warnings.warn(\"name used for saved screenshot does not match file \"\n"
     ]
    }
   ],
   "source": [
    "import requests\n",
    "from bs4 import BeautifulSoup\n",
    "from selenium import webdriver\n",
    "\n",
    "req = requests.get('https://comic.naver.com/webtoon/detail?titleId=183559&no=498&weekday=mon')\n",
    "html = req.text\n",
    "soup = BeautifulSoup(html, 'html.parser')\n",
    "\n",
    "my_class = soup.select('.wt_viewer > img') # 웹툰 한컷들이 다 .wt_viewer에 저장돼있네\n",
    "\n",
    "src_list = [] # 한컷 당 url 이 있으니, 모든 컷을 리스트에 저장 \n",
    "for img in my_class :\n",
    "    src_list.append(img.get('src'))\n",
    "\n",
    "driver = webdriver.Chrome('c:/test/chromedriver.exe')\n",
    "\n",
    "for src in src_list :\n",
    "    driver.get(src)\n",
    "    driver.get_screenshot_as_file('c:/test/'+src.split('/')[6])\n"
   ]
  },
  {
   "cell_type": "code",
   "execution_count": null,
   "id": "528256ef",
   "metadata": {},
   "outputs": [],
   "source": []
  },
  {
   "cell_type": "markdown",
   "id": "78c5188e",
   "metadata": {},
   "source": [
    "## 문제\n",
    "\n",
    "인스타그램에서 로그인하고 특정 태그에 해당하는 이미지 10장 수집하는 프로그램"
   ]
  },
  {
   "cell_type": "code",
   "execution_count": null,
   "id": "f83c7ac8",
   "metadata": {},
   "outputs": [],
   "source": []
  },
  {
   "cell_type": "code",
   "execution_count": null,
   "id": "6c3d0a16",
   "metadata": {},
   "outputs": [],
   "source": []
  },
  {
   "cell_type": "code",
   "execution_count": null,
   "id": "02afb536",
   "metadata": {},
   "outputs": [],
   "source": []
  },
  {
   "cell_type": "code",
   "execution_count": null,
   "id": "990a9cd0",
   "metadata": {},
   "outputs": [],
   "source": []
  },
  {
   "cell_type": "code",
   "execution_count": null,
   "id": "473fd840",
   "metadata": {},
   "outputs": [],
   "source": []
  },
  {
   "cell_type": "code",
   "execution_count": null,
   "id": "8abd6c21",
   "metadata": {},
   "outputs": [],
   "source": []
  },
  {
   "cell_type": "code",
   "execution_count": null,
   "id": "6b5c176e",
   "metadata": {},
   "outputs": [],
   "source": []
  },
  {
   "cell_type": "code",
   "execution_count": null,
   "id": "5ae60ee4",
   "metadata": {},
   "outputs": [],
   "source": []
  },
  {
   "cell_type": "code",
   "execution_count": null,
   "id": "9018b163",
   "metadata": {},
   "outputs": [],
   "source": []
  },
  {
   "cell_type": "code",
   "execution_count": null,
   "id": "de8c953d",
   "metadata": {},
   "outputs": [],
   "source": []
  }
 ],
 "metadata": {
  "kernelspec": {
   "display_name": "Python 3",
   "language": "python",
   "name": "python3"
  },
  "language_info": {
   "codemirror_mode": {
    "name": "ipython",
    "version": 3
   },
   "file_extension": ".py",
   "mimetype": "text/x-python",
   "name": "python",
   "nbconvert_exporter": "python",
   "pygments_lexer": "ipython3",
   "version": "3.8.8"
  }
 },
 "nbformat": 4,
 "nbformat_minor": 5
}
