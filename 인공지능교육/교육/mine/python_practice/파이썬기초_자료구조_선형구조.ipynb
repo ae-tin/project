{
 "cells": [
  {
   "cell_type": "markdown",
   "id": "ddc66a88",
   "metadata": {},
   "source": [
    "# 자료 구조\n",
    "\n",
    "### 선형구조\n",
    "  \n",
    "  데이터가 연속적으로 연결되어 있는 모양으로 구성하는 방법  \n",
    "  리스트도 연속적으로 되어있으니 선형구조라고 할 수 있음  \n",
    "  \n",
    "  1. 스택  \n",
    "  \n",
    "  2. 큐  \n",
    "  \n",
    "  3. 데크  \n",
    "  \n",
    "  4. 연결 리스트  \n",
    "  \n",
    "  \n",
    "### 비선형 구조  \n",
    "  \n",
    "  하나의 자료에 여러 개의 자료가 존재하는 모양으로 구성하는 방법  \n",
    "  \n",
    "  1. 그래프  \n",
    "  \n",
    "  2. 트리"
   ]
  },
  {
   "cell_type": "markdown",
   "id": "47eb9519",
   "metadata": {},
   "source": [
    "## 큐\n",
    "\n",
    "데이터를 삽입하는 기능 enqueue  \n",
    "데이터를 삭제하는 기능 dequeue  \n",
    "큐의 내용을 출력하는 display  \n",
    "큐가 비어있는지 확인하는 기능 isEmpty  \n",
    "\n",
    "맨 처음 저장한 데이터가 가장 먼저 삭제되는 구조  \n",
    "  \n",
    "    구현  \n",
    "      클래스로 구현할 것  \n",
    "      데이터 저장은 리스트에 할 것  \n",
    "      큐가 비어있을 때 삭제하면 큐가 비어있다는 메세지를 출력  \n",
    "      \n",
    "      큐는 스택이랑 달리 저장공간이 먼저 확보돼있지 않음  \n",
    "  "
   ]
  },
  {
   "cell_type": "code",
   "execution_count": 148,
   "id": "67a9cf25",
   "metadata": {},
   "outputs": [],
   "source": [
    "class queue :\n",
    "    \n",
    "    save = []\n",
    "\n",
    "    def __init__(self) :\n",
    "        self.save = []\n",
    "\n",
    "    def display(self) : \n",
    "        print(self.save)\n",
    "        \n",
    "    def isEmpty(self) :\n",
    "        if len(self.save) == 0 :   # self.save == [] 으로 확인해줘도 됨\n",
    "            print('큐가 비어있습니다.')\n",
    "\n",
    "    def enqueue(self, data) :\n",
    "        self.save.append(data)\n",
    "    \n",
    "    def dequeue(self) :\n",
    "        if len(self.save) > 0 :\n",
    "            del self.save[0]       # self.save.pop(순서번호) 로 삭제해도 됨!\n",
    "        else :\n",
    "            print('큐가 비어있습니다.')"
   ]
  },
  {
   "cell_type": "code",
   "execution_count": 149,
   "id": "eef6ced2",
   "metadata": {},
   "outputs": [],
   "source": [
    "q = queue()"
   ]
  },
  {
   "cell_type": "code",
   "execution_count": 150,
   "id": "294579fe",
   "metadata": {},
   "outputs": [
    {
     "name": "stdout",
     "output_type": "stream",
     "text": [
      "[]\n",
      "큐가 비어있습니다.\n"
     ]
    }
   ],
   "source": [
    "q.display()\n",
    "q.isEmpty()"
   ]
  },
  {
   "cell_type": "code",
   "execution_count": 151,
   "id": "18e463fb",
   "metadata": {},
   "outputs": [
    {
     "name": "stdout",
     "output_type": "stream",
     "text": [
      "[1]\n",
      "[1, 2]\n",
      "[1, 2, 3]\n"
     ]
    }
   ],
   "source": [
    "q.enqueue(1)\n",
    "q.display()\n",
    "q.enqueue(2)\n",
    "q.display()\n",
    "q.enqueue(3)\n",
    "q.display()"
   ]
  },
  {
   "cell_type": "code",
   "execution_count": 154,
   "id": "d0614b5f",
   "metadata": {},
   "outputs": [
    {
     "name": "stdout",
     "output_type": "stream",
     "text": [
      "[]\n"
     ]
    }
   ],
   "source": [
    "q.dequeue()\n",
    "q.display()"
   ]
  },
  {
   "cell_type": "code",
   "execution_count": 146,
   "id": "b21ded84",
   "metadata": {},
   "outputs": [],
   "source": [
    "def summ(n1,n2) :\n",
    "    s = n1+n2\n",
    "    return s"
   ]
  },
  {
   "cell_type": "code",
   "execution_count": 147,
   "id": "73bf5cc6",
   "metadata": {},
   "outputs": [
    {
     "data": {
      "text/plain": [
       "6"
      ]
     },
     "execution_count": 147,
     "metadata": {},
     "output_type": "execute_result"
    }
   ],
   "source": [
    "summ(1,2) +3"
   ]
  },
  {
   "cell_type": "code",
   "execution_count": null,
   "id": "895ca4ab",
   "metadata": {},
   "outputs": [],
   "source": []
  },
  {
   "cell_type": "markdown",
   "id": "04aeefce",
   "metadata": {},
   "source": [
    "## 풀이"
   ]
  },
  {
   "cell_type": "code",
   "execution_count": 156,
   "id": "fa7d5ee1",
   "metadata": {},
   "outputs": [],
   "source": [
    "class queue :\n",
    "    \n",
    "    save = []\n",
    "\n",
    "    def __init__(self) :\n",
    "        self.save = []\n",
    "\n",
    "    def display(self) : \n",
    "        print(self.save)\n",
    "        \n",
    "    def isEmpty(self) :\n",
    "        if len(self.save) == 0 :   # self.save == [] 으로 확인해줘도 됨\n",
    "            return '비어있습니다'\n",
    "        else : \n",
    "            return '들어있습니다'\n",
    "    def enqueue(self, data) :\n",
    "        self.save.append(data)\n",
    "    \n",
    "    def dequeue(self) :\n",
    "        if self.isEmpty() == '들어있습니다' :   # isEmpty() 사용 중요!\n",
    "            del self.save[0]       # self.save.pop(순서번호) 로 삭제해도 됨!\n",
    "        else :\n",
    "            print('큐가 비어있습니다.')"
   ]
  },
  {
   "cell_type": "markdown",
   "id": "d9fa92bc",
   "metadata": {},
   "source": [
    "isEmpty에서 return으로 비어있습니다 라고 반환해주니 dequeue에서 그대로 가지고 와서 쓸 수 있다."
   ]
  },
  {
   "cell_type": "code",
   "execution_count": null,
   "id": "34525c90",
   "metadata": {},
   "outputs": [],
   "source": []
  },
  {
   "cell_type": "markdown",
   "id": "8ea10714",
   "metadata": {},
   "source": [
    "# 연결 리스트\n",
    "\n",
    "### 단방향 연결 리스트  \n",
    "단방향 연결리스트는 하나의 데이터를 저장할 때 데이터와 다음 데이터의 위치를 같이 저장한다.  \n",
    "  데이터를 저장할 때 데이터 : 다음데이터위치 이렇게 쌍으로 저장한다.  \n",
    "  \n",
    "  연결리스트에서 데이터는 노드에 저장된다. (노드를 클래스로 만들어주면 편함)  \n",
    "  노드에서는 데이터가 저장되는 곳과 다음 데이터의 위치를 저장하는 곳이 있다.  \n",
    "  \n",
    "  첫번째 노드를 head라고 한다.  \n",
    "  마지막 노드를 tail이라고 한다.  \n",
    "  \n",
    "  데이터 삽입 기능  \n",
    "  새로운 노드를 생성하고 데이터를 저장, 다음 노드는 None으로 비워둔다.  \n",
    "새로 생성된 노드는 현재 tail의 다음 노드가 되고  \n",
    "새로 생성된 노드가 tail이 된다.  \n",
    "  \n",
    "데이터 삭제 기능  \n",
    "  "
   ]
  },
  {
   "cell_type": "code",
   "execution_count": 177,
   "id": "8a087cb0",
   "metadata": {},
   "outputs": [],
   "source": [
    "class Node : \n",
    "    data = 0\n",
    "    nextNode = None"
   ]
  },
  {
   "cell_type": "code",
   "execution_count": 161,
   "id": "91582d9e",
   "metadata": {},
   "outputs": [],
   "source": [
    "n1 = Node()\n",
    "n2 = Node()"
   ]
  },
  {
   "cell_type": "code",
   "execution_count": 162,
   "id": "698b3adf",
   "metadata": {},
   "outputs": [],
   "source": [
    "n1.data = 10\n",
    "n2.data = 20"
   ]
  },
  {
   "cell_type": "markdown",
   "id": "c5c2e291",
   "metadata": {},
   "source": [
    "여기서 n1에는 데이터 10을 저장한 변수와, n2의 노드를 저장한 변수가 있다. "
   ]
  },
  {
   "cell_type": "code",
   "execution_count": 163,
   "id": "df0f86cd",
   "metadata": {},
   "outputs": [],
   "source": [
    "n1.nextNode = n2"
   ]
  },
  {
   "cell_type": "markdown",
   "id": "5fe6143d",
   "metadata": {},
   "source": [
    "이렇게 연결돼있다고 생각하면 됨"
   ]
  },
  {
   "cell_type": "code",
   "execution_count": 164,
   "id": "2b19c3c4",
   "metadata": {},
   "outputs": [
    {
     "name": "stdout",
     "output_type": "stream",
     "text": [
      "10\n",
      "20\n"
     ]
    }
   ],
   "source": [
    "print(n1.data)\n",
    "print(n1.nextNode.data)"
   ]
  },
  {
   "cell_type": "markdown",
   "id": "3c53424d",
   "metadata": {},
   "source": [
    "단방향 연결리스트는 결국 첫번째만 알고 있으면 다 알 수 있음"
   ]
  },
  {
   "cell_type": "markdown",
   "id": "d22b476a",
   "metadata": {},
   "source": [
    "## 문제 - 연결리스트\n",
    "\n",
    "  데이터를 저장할 때 데이터 : 다음데이터위치 이렇게 쌍으로 저장한다.  \n",
    "  \n",
    "  연결리스트에서 데이터는 노드에 저장된다. (노드를 클래스로 만들어주면 편함)  \n",
    "  노드에서는 데이터가 저장되는 곳과 다음 데이터의 위치를 저장하는 곳이 있다.  \n",
    "  \n",
    "  첫번째 노드를 head라고 한다.  \n",
    "  마지막 노드를 tail이라고 한다.  \n",
    "  전체리스트의 길이를 size라고 한다. \n",
    "\n",
    "  데이터 삽입 기능  \n",
    "  새로운 노드를 생성하고 데이터를 저장, 다음 노드는 None으로 비워둔다.  \n",
    "새로 생성된 노드는 현재 tail의 다음 노드가 되고  \n",
    "새로 생성된 노드가 tail이 된다.  \n",
    "  \n",
    "데이터 삭제 기능  \n",
    "숫자를 하나 전달받고  \n",
    "해당하는 숫자가 들어있는 노드를 삭제  \n",
    "삭제 후 size 1 감소\n",
    "삭제할 데이터가 head 노드에 있으면  \n",
    "새로운 변수에 head를 저장  \n",
    "head에 head의 nextNode를 저장  \n",
    "새로운 변수에 들어 있는 객체 삭제 del 변수이름  \n",
    "삭제할 데이터가 head도 tail도 아니면  \n",
    "삭제할 노드를 변수에 따로 저장하고  \n",
    "삭제할 노드의 이전 노드의 nextNode가 삭제할 노드의 nextNode가 되게 한다.  \n",
    "\n",
    "연결리스트가 비어있으면 비어있다고 출력  \n",
    "그렇지 않고 노드가 있으면 마지막 노드를 삭제  \n",
    "\n",
    "입력받은 데이터가 어디있는지 출력  \n",
    "현재위치를 0이라 하고  \n",
    "숫자를 하나 입력받고  \n",
    "반복문으로 head에서 tail 노드까지의 모든 data를 입력받은 숫자와 비교  \n",
    "일치하면 현재 위치를 출력  \n",
    "일치하지 않으면 현재위치를 1증가시키고 다음 반복문 실행  \n",
    "\n"
   ]
  },
  {
   "cell_type": "code",
   "execution_count": null,
   "id": "688f14d4",
   "metadata": {},
   "outputs": [],
   "source": [
    "class Linklist(Node) :\n",
    "    \n",
    "    size = 0\n",
    "    head = None\n",
    "    tail = None\n",
    "    \n",
    "    def __init__(self) :\n",
    "        size = 0\n",
    "        head = None\n",
    "        tail = None\n",
    "        \n",
    "    def Insert(self,n) :\n",
    "        if self.size == 0 :\n",
    "            self.size =+ 1\n",
    "            n1 = Node()\n",
    "            n1.data = n\n",
    "            self.head = self.n1\n",
    "            self.tail = self.n1\n",
    "        if self.size > 0 :\n",
    "            n2.Node()\n",
    "            self.n2.data = n\n",
    "            self.n1.nextNode = self.n2\n",
    "            self.tail = self.n2\n",
    "            self.size =+ 1\n",
    "    \n",
    "    def Delete(self,data) :\n",
    "        current = self.head\n",
    "        while True :\n",
    "            if current == data c\n",
    "                current.nextNode =\n",
    "            \n",
    "                \n",
    "\n",
    "               \n",
    "    def display(self) :\n",
    "        current = self.head\n",
    "        \n",
    "        for i in range(0,self.size,1) :\n",
    "            print(current.data)\n",
    "            current = current.nextNode"
   ]
  },
  {
   "cell_type": "code",
   "execution_count": 192,
   "id": "967ef7ba",
   "metadata": {},
   "outputs": [],
   "source": [
    "a = Linklist()"
   ]
  },
  {
   "cell_type": "code",
   "execution_count": 193,
   "id": "e69589d1",
   "metadata": {},
   "outputs": [
    {
     "ename": "AttributeError",
     "evalue": "'Node' object has no attribute 'Node'",
     "output_type": "error",
     "traceback": [
      "\u001b[1;31m---------------------------------------------------------------------------\u001b[0m",
      "\u001b[1;31mAttributeError\u001b[0m                            Traceback (most recent call last)",
      "\u001b[1;32m<ipython-input-193-3e4f09c165a2>\u001b[0m in \u001b[0;36m<module>\u001b[1;34m\u001b[0m\n\u001b[1;32m----> 1\u001b[1;33m \u001b[0ma\u001b[0m\u001b[1;33m.\u001b[0m\u001b[0mInsert\u001b[0m\u001b[1;33m(\u001b[0m\u001b[1;36m2\u001b[0m\u001b[1;33m)\u001b[0m\u001b[1;33m\u001b[0m\u001b[1;33m\u001b[0m\u001b[0m\n\u001b[0m",
      "\u001b[1;32m<ipython-input-191-2d404a576bda>\u001b[0m in \u001b[0;36mInsert\u001b[1;34m(self, n)\u001b[0m\n\u001b[0;32m     13\u001b[0m         \u001b[1;32mif\u001b[0m \u001b[0mself\u001b[0m\u001b[1;33m.\u001b[0m\u001b[0msize\u001b[0m \u001b[1;33m==\u001b[0m \u001b[1;36m0\u001b[0m \u001b[1;33m:\u001b[0m\u001b[1;33m\u001b[0m\u001b[1;33m\u001b[0m\u001b[0m\n\u001b[0;32m     14\u001b[0m             \u001b[0mself\u001b[0m\u001b[1;33m.\u001b[0m\u001b[0msize\u001b[0m \u001b[1;33m=\u001b[0m\u001b[1;33m+\u001b[0m \u001b[1;36m1\u001b[0m\u001b[1;33m\u001b[0m\u001b[1;33m\u001b[0m\u001b[0m\n\u001b[1;32m---> 15\u001b[1;33m             \u001b[0mn1\u001b[0m\u001b[1;33m.\u001b[0m\u001b[0mNode\u001b[0m\u001b[1;33m(\u001b[0m\u001b[1;33m)\u001b[0m\u001b[1;33m\u001b[0m\u001b[1;33m\u001b[0m\u001b[0m\n\u001b[0m\u001b[0;32m     16\u001b[0m             \u001b[0mself\u001b[0m\u001b[1;33m.\u001b[0m\u001b[0mn1\u001b[0m\u001b[1;33m.\u001b[0m\u001b[0mdata\u001b[0m \u001b[1;33m=\u001b[0m \u001b[0mn\u001b[0m\u001b[1;33m\u001b[0m\u001b[1;33m\u001b[0m\u001b[0m\n\u001b[0;32m     17\u001b[0m             \u001b[0mself\u001b[0m\u001b[1;33m.\u001b[0m\u001b[0mhead\u001b[0m \u001b[1;33m=\u001b[0m \u001b[0mself\u001b[0m\u001b[1;33m.\u001b[0m\u001b[0mn1\u001b[0m\u001b[1;33m\u001b[0m\u001b[1;33m\u001b[0m\u001b[0m\n",
      "\u001b[1;31mAttributeError\u001b[0m: 'Node' object has no attribute 'Node'"
     ]
    }
   ],
   "source": [
    "a.Insert(2)"
   ]
  },
  {
   "cell_type": "code",
   "execution_count": 187,
   "id": "a88ecf89",
   "metadata": {},
   "outputs": [
    {
     "data": {
      "text/plain": [
       "2"
      ]
     },
     "execution_count": 187,
     "metadata": {},
     "output_type": "execute_result"
    }
   ],
   "source": [
    "a.size"
   ]
  },
  {
   "cell_type": "code",
   "execution_count": null,
   "id": "58cb3981",
   "metadata": {},
   "outputs": [],
   "source": []
  },
  {
   "cell_type": "markdown",
   "id": "6a018e43",
   "metadata": {},
   "source": [
    "## 풀이"
   ]
  },
  {
   "cell_type": "code",
   "execution_count": null,
   "id": "edf43dd3",
   "metadata": {},
   "outputs": [],
   "source": [
    "class Node : \n",
    "    data = 0\n",
    "    nextNode = None"
   ]
  },
  {
   "cell_type": "code",
   "execution_count": 258,
   "id": "00adb243",
   "metadata": {},
   "outputs": [],
   "source": [
    "class LinkedList :\n",
    "    \n",
    "    size = 0\n",
    "    head = None\n",
    "    tail = None\n",
    "    \n",
    "    def __init__(self) :\n",
    "        size = 0\n",
    "        head = None\n",
    "        tail = None\n",
    "        \n",
    "    def insert(self,data) :\n",
    "        newNode = Node()\n",
    "        newNode.data = data\n",
    "        if self.size == 0 :\n",
    "            self.head = newNode\n",
    "            self.tail = newNode\n",
    "        \n",
    "        elif self.size ==1 :\n",
    "            self.head.nextNode = newNode\n",
    "            self.tail = newNode\n",
    "            \n",
    "        elif self.size > 0 :\n",
    "            self.tail.nextNode = newNode\n",
    "            self.tail = newNode\n",
    "        \n",
    "        self.size = self.size + 1\n",
    "        \n",
    "    def delete(self, data) :\n",
    "        if self.head.data == data : \n",
    "            deleteNode = self.head\n",
    "            self.head = self.head.nextNode\n",
    "            del deleteNode\n",
    "            self.size = self.size -1\n",
    "        else : \n",
    "            prev = self.head\n",
    "            current = prev.nextNode\n",
    "            for i in range(0,self.size,1) :\n",
    "                if current.data == data :\n",
    "                    prev.nextNode = current.nextNode\n",
    "                    del current\n",
    "                    self.size = self.size -1\n",
    "                    break\n",
    "                prev = prev.nextNode\n",
    "                current = current.nextNode\n",
    "                \n",
    "    def where(self,data) :\n",
    "        current = self.head\n",
    "        for i in range(0,self.size,1) :\n",
    "            if current.data == data :\n",
    "                return str(i) +'번 째에 있습니다'\n",
    "                break\n",
    "            current = current.nextNode\n",
    "    \n",
    "    def display(self) :\n",
    "        current = self.head\n",
    "        \n",
    "        for i in range(0,self.size,1) :\n",
    "            print(current.data)\n",
    "            current = current.nextNode"
   ]
  },
  {
   "cell_type": "code",
   "execution_count": 259,
   "id": "0693b26c",
   "metadata": {},
   "outputs": [
    {
     "name": "stdout",
     "output_type": "stream",
     "text": [
      "10\n",
      "20\n",
      "30\n",
      "40\n",
      "50\n",
      "60\n"
     ]
    }
   ],
   "source": [
    "l1 = LinkedList()\n",
    "l1.insert(10)\n",
    "l1.insert(20)\n",
    "l1.insert(30)\n",
    "l1.insert(40)\n",
    "l1.insert(50)\n",
    "l1.insert(60)\n",
    "\n",
    "l1.display()\n"
   ]
  },
  {
   "cell_type": "code",
   "execution_count": 260,
   "id": "8893eb78",
   "metadata": {},
   "outputs": [
    {
     "name": "stdout",
     "output_type": "stream",
     "text": [
      "10\n",
      "20\n",
      "30\n",
      "50\n",
      "60\n"
     ]
    }
   ],
   "source": [
    "l1.delete(40)\n",
    "l1.display()"
   ]
  },
  {
   "cell_type": "code",
   "execution_count": 261,
   "id": "a648d3ea",
   "metadata": {},
   "outputs": [
    {
     "name": "stdout",
     "output_type": "stream",
     "text": [
      "10\n",
      "20\n",
      "50\n",
      "60\n"
     ]
    }
   ],
   "source": [
    "l1.delete(30)\n",
    "l1.display()"
   ]
  },
  {
   "cell_type": "code",
   "execution_count": 263,
   "id": "5d751645",
   "metadata": {},
   "outputs": [
    {
     "data": {
      "text/plain": [
       "'0번 째에 있습니다'"
      ]
     },
     "execution_count": 263,
     "metadata": {},
     "output_type": "execute_result"
    }
   ],
   "source": [
    "l1.where(10)"
   ]
  },
  {
   "cell_type": "code",
   "execution_count": null,
   "id": "f0a56d64",
   "metadata": {},
   "outputs": [],
   "source": []
  },
  {
   "cell_type": "markdown",
   "id": "7b8cca34",
   "metadata": {},
   "source": [
    "## 양방향 연결 리스트\n",
    "\n",
    "양방향 연결리스트는 하나의 데이터를 저장할 때 데이터와 다음 데이터의 위치, 이전 데이터의 위치를 같이 저장한다.  \n",
    "  \n",
    "  양방향 연결리스트에서 데이터는 노드에 저장된다.  \n",
    "\n",
    "    노드\n",
    "        데이터가 저장되는 곳  \n",
    "      다음 노드를 저장하는 곳  \n",
    "      이전 노드를 저장하는 곳이 있다.  \n",
    "      \n",
    "    양방향 연결리스트\n",
    "        맨 앞의 노드 추가\n",
    "        맨 뒤의 노드 추가\n",
    "        특정 위치에 노드 추가\n",
    "        맨 앞의 노드 삭제\n",
    "        맨 뒤의 노드 삭제\n",
    "        특정 위치의 노드 삭제\n",
    "        모든 노드 출력\n",
    "        특정 노드의 위치를 찾는 기능"
   ]
  },
  {
   "cell_type": "code",
   "execution_count": 271,
   "id": "99e76d88",
   "metadata": {},
   "outputs": [],
   "source": [
    "class BiNode : \n",
    "    data = None\n",
    "    nextNode = None\n",
    "    prevNode = None"
   ]
  },
  {
   "cell_type": "code",
   "execution_count": 467,
   "id": "fd80abeb",
   "metadata": {},
   "outputs": [],
   "source": [
    "class BilinkedList :\n",
    "    size = 0\n",
    "    head = None\n",
    "    tail = None\n",
    "    \n",
    "    def __init__(self) :\n",
    "        size = 0\n",
    "        head = None\n",
    "        tail = None\n",
    "    \n",
    "    def HeadNode(self,data) :\n",
    "        newNode = BiNode()\n",
    "        newNode.data = data\n",
    "        self.head = newNode\n",
    "        \n",
    "        if self.tail == None :\n",
    "            newNode.nextNode = None\n",
    "            self.tail = newNode\n",
    "        elif self.size == 1 :\n",
    "            newNode.nextNode = self.tail\n",
    "            self.tail = newNode.nextNode\n",
    "            self.tail.prevNode = newNode  \n",
    "            self.head.nextNode = self.tail\n",
    "        elif self.size >= 2:\n",
    "            add = self.head\n",
    "            newNode.nextNode = add\n",
    "            self.head.prevNode = newNode\n",
    "            self.head = newNode\n",
    "            self.head.nextNode = add\n",
    "        self.size = self.size + 1\n",
    "        \n",
    "        \n",
    "    def TailNode(self,data) :\n",
    "        newNode = BiNode()\n",
    "        newNode.data = data\n",
    "        \n",
    "        \n",
    "        if self.head == None :\n",
    "            newNode.prevNode = None\n",
    "            self.head = newNode \n",
    "            self.tail = newNode\n",
    "        elif self.size == 1 :\n",
    "            newNode.prevNode = self.head\n",
    "            self.head.nextNode = newNode\n",
    "            self.tail = newNode\n",
    "        elif self.size >= 2 : \n",
    "            newNode.prevNode = self.tail\n",
    "            self.tail.nextNode = newNode\n",
    "            self.tail = newNode\n",
    "        \n",
    "        self.size = self.size + 1\n",
    "        \n",
    "    def Search(self,data) :\n",
    "        current = self.head\n",
    "        for i in range(0,self.size,1) :\n",
    "            if current.data == data :\n",
    "                print('index '+str(i) +'번 째에 있습니다.')\n",
    "            current = current.nextNode\n",
    "            \n",
    "    def displayNode(self) :\n",
    "        current = self.head\n",
    "        for i in range(0,self.size,1) :\n",
    "            print(current.data)\n",
    "            current = current.nextNode"
   ]
  },
  {
   "cell_type": "code",
   "execution_count": 468,
   "id": "8bc8913c",
   "metadata": {},
   "outputs": [],
   "source": [
    "l2 = BilinkedList()"
   ]
  },
  {
   "cell_type": "code",
   "execution_count": 469,
   "id": "e969cfb3",
   "metadata": {},
   "outputs": [
    {
     "name": "stdout",
     "output_type": "stream",
     "text": [
      "10\n"
     ]
    }
   ],
   "source": [
    "l2.TailNode(10)\n",
    "l2.displayNode()"
   ]
  },
  {
   "cell_type": "code",
   "execution_count": 470,
   "id": "885b960f",
   "metadata": {},
   "outputs": [
    {
     "name": "stdout",
     "output_type": "stream",
     "text": [
      "10\n",
      "10\n",
      "1\n"
     ]
    }
   ],
   "source": [
    "print(l2.tail.data)\n",
    "print(l2.head.data)\n",
    "print(l2.size)"
   ]
  },
  {
   "cell_type": "code",
   "execution_count": 471,
   "id": "e8e2bd8f",
   "metadata": {},
   "outputs": [
    {
     "name": "stdout",
     "output_type": "stream",
     "text": [
      "0\n",
      "10\n"
     ]
    }
   ],
   "source": [
    "l2.HeadNode(0)\n",
    "l2.displayNode()"
   ]
  },
  {
   "cell_type": "code",
   "execution_count": 472,
   "id": "35e813b2",
   "metadata": {},
   "outputs": [
    {
     "name": "stdout",
     "output_type": "stream",
     "text": [
      "0\n",
      "10\n",
      "2\n"
     ]
    }
   ],
   "source": [
    "print(l2.head.data)\n",
    "print(l2.tail.data)\n",
    "print(l2.size)"
   ]
  },
  {
   "cell_type": "code",
   "execution_count": 473,
   "id": "9830971f",
   "metadata": {},
   "outputs": [
    {
     "name": "stdout",
     "output_type": "stream",
     "text": [
      "-10\n",
      "-10\n",
      "-10\n"
     ]
    }
   ],
   "source": [
    "l2.HeadNode(-10)\n",
    "l2.displayNode()"
   ]
  },
  {
   "cell_type": "code",
   "execution_count": 474,
   "id": "718a34cb",
   "metadata": {},
   "outputs": [
    {
     "name": "stdout",
     "output_type": "stream",
     "text": [
      "-10\n",
      "10\n",
      "3\n"
     ]
    }
   ],
   "source": [
    "print(l2.head.data)\n",
    "print(l2.tail.data)\n",
    "print(l2.size)"
   ]
  },
  {
   "cell_type": "code",
   "execution_count": 448,
   "id": "0879f7e5",
   "metadata": {},
   "outputs": [
    {
     "name": "stdout",
     "output_type": "stream",
     "text": [
      "index 1번 째에 있습니다.\n"
     ]
    }
   ],
   "source": [
    "l2.Search(10)"
   ]
  },
  {
   "cell_type": "code",
   "execution_count": null,
   "id": "3ae1081b",
   "metadata": {},
   "outputs": [],
   "source": [
    "l2.TailNode(20)\n",
    "l2.displayNode()"
   ]
  },
  {
   "cell_type": "code",
   "execution_count": null,
   "id": "a5dd4166",
   "metadata": {},
   "outputs": [],
   "source": []
  },
  {
   "cell_type": "code",
   "execution_count": null,
   "id": "8961132a",
   "metadata": {},
   "outputs": [],
   "source": []
  },
  {
   "cell_type": "code",
   "execution_count": null,
   "id": "f20605db",
   "metadata": {},
   "outputs": [],
   "source": []
  },
  {
   "cell_type": "markdown",
   "id": "1627840f",
   "metadata": {},
   "source": [
    "## 풀이"
   ]
  },
  {
   "cell_type": "code",
   "execution_count": 53,
   "id": "df9e7d1f",
   "metadata": {},
   "outputs": [],
   "source": [
    "class Node :\n",
    "    data = 0\n",
    "    nextNode = None\n",
    "    prevNode = None"
   ]
  },
  {
   "cell_type": "code",
   "execution_count": 79,
   "id": "3ae952aa",
   "metadata": {},
   "outputs": [],
   "source": [
    "class DoubleLinkedList :\n",
    "    head = None\n",
    "    tail = None\n",
    "    size = 0\n",
    "    \n",
    "    def insert_first(self, data) :\n",
    "        newNode = Node()\n",
    "        newNode.data = data\n",
    "        \n",
    "        if self.size == 0 :\n",
    "            self.head = newNode\n",
    "            self.tail = newNode\n",
    "        else :\n",
    "            newNode.nextNode = self.head\n",
    "            self.head.prevNode = newNode\n",
    "            self.head = newNode\n",
    "            \n",
    "        self.size = self.size + 1\n",
    "    \n",
    "    \n",
    "    def insert_last(self, data) :\n",
    "        newNode = Node()\n",
    "        newNode.data = data\n",
    "        \n",
    "        if self.size ==0 :\n",
    "            self.head = newNode\n",
    "            self.tail = newNode\n",
    "            \n",
    "        elif self.size == 1 : \n",
    "            self.head.nextNode = newNode\n",
    "            self.tail = newNode\n",
    "            newNode.prevNode = self.head\n",
    "            \n",
    "        else : \n",
    "            self.tail.nextNode = newNode\n",
    "            newNode.prevNode = self.tail\n",
    "            self.tail = newNode\n",
    "        \n",
    "        self.size = self.size + 1\n",
    "    \n",
    "    def insert_index(self, idx, data) :\n",
    "        newNode = Node()\n",
    "        newNode.data = data\n",
    "        \n",
    "        if idx > self.size :\n",
    "            return '리스트의 범위를 넘어섰습니다.'\n",
    "        else :\n",
    "            if self.size == 0 :\n",
    "                self.head = newNode\n",
    "                self.tail = newNode\n",
    "            else :\n",
    "                current = self.head\n",
    "                \n",
    "                for i in range(0,idx, 1) :\n",
    "                    current = current.nextNode\n",
    "                    \n",
    "                newNode.nextNode = current\n",
    "                newNode.prevNode = current.prevNode\n",
    "                newNode.prevNode.nextNode = newNode\n",
    "                current.prevNode = newNode\n",
    "    \n",
    "    def delete_first(self) :\n",
    "        delNode = self.head\n",
    "        self.head = self.head.nextNode\n",
    "        del delNode\n",
    "        self.head.prevNode = None\n",
    "    \n",
    "    \n",
    "    def delete_last(self) :\n",
    "        delNode = self.tail\n",
    "        self.tail = self.tail.prevNode\n",
    "        del delNode\n",
    "        self.tail.nextNode = None\n",
    "    \n",
    "    def delete_index(self,idx):\n",
    "        current = self.head\n",
    "        for i in range(0,self.size,1):\n",
    "            if i == idx :\n",
    "                nextNode = current.nextNode\n",
    "                prevNode = current.prevNode\n",
    "                nextNode.prevNode = prevNode\n",
    "                prevNode.nextNode = nextNode\n",
    "                del current\n",
    "                break\n",
    "            current = current.nextNode\n",
    "    \n",
    "    \n",
    "    \n",
    "    \n",
    "    \n",
    "    \n",
    "    \n",
    "    def display(self):\n",
    "        current = self.head\n",
    "        while current.nextNode != None:\n",
    "            print(current.data)\n",
    "            current = current.nextNode\n",
    "        print(current.data)"
   ]
  },
  {
   "cell_type": "code",
   "execution_count": 86,
   "id": "102548f1",
   "metadata": {},
   "outputs": [],
   "source": [
    "dll = DoubleLinkedList()\n",
    "\n",
    "dll.insert_last(10)\n",
    "dll.insert_last(20)\n",
    "dll.insert_last(30)"
   ]
  },
  {
   "cell_type": "code",
   "execution_count": 87,
   "id": "ef0023cc",
   "metadata": {},
   "outputs": [
    {
     "name": "stdout",
     "output_type": "stream",
     "text": [
      "10\n",
      "20\n",
      "30\n"
     ]
    }
   ],
   "source": [
    "dll.display()"
   ]
  },
  {
   "cell_type": "code",
   "execution_count": 88,
   "id": "d349e5ed",
   "metadata": {},
   "outputs": [
    {
     "name": "stdout",
     "output_type": "stream",
     "text": [
      "40\n",
      "10\n",
      "20\n",
      "30\n"
     ]
    }
   ],
   "source": [
    "dll.insert_first(40)\n",
    "dll.display()"
   ]
  },
  {
   "cell_type": "code",
   "execution_count": 72,
   "id": "6972f9cd",
   "metadata": {},
   "outputs": [],
   "source": [
    "dll.delete_first()\n",
    "dll.delete_last()"
   ]
  },
  {
   "cell_type": "code",
   "execution_count": 73,
   "id": "26e51da1",
   "metadata": {},
   "outputs": [
    {
     "name": "stdout",
     "output_type": "stream",
     "text": [
      "10\n",
      "20\n"
     ]
    }
   ],
   "source": [
    "dll.display()"
   ]
  },
  {
   "cell_type": "code",
   "execution_count": 89,
   "id": "e8f46956",
   "metadata": {},
   "outputs": [
    {
     "name": "stdout",
     "output_type": "stream",
     "text": [
      "40\n",
      "20\n",
      "30\n"
     ]
    }
   ],
   "source": [
    "dll.delete_index(1)\n",
    "dll.display()"
   ]
  },
  {
   "cell_type": "markdown",
   "id": "4d46c796",
   "metadata": {},
   "source": [
    "## 원형 연결리스트\n",
    "\n",
    "단방향 연결리스트에서 첫 노드와 마지막 노드가 연결된 형태\n",
    "  \n",
    "  \n",
    "      노드\n",
    "          데이터\n",
    "          다음노드\n",
    "          \n",
    "      원형연결리스트\n",
    "          마지막 노드를 last\n",
    "          연결리스트의 크기 size\n",
    "          \n",
    "          기능\n",
    "          데이터 삽입 - 마지막에 추가\n",
    "          데이터 삽입 - 처음에 추가\n",
    "          데이터 삽입 - 특정위치에 추가\n",
    "          \n",
    "          데이터 삭제 - 특정 위치의 노드 삭제\n",
    "          데이터 삭제 - 마지막노드 삭제\n",
    "          데이터 삭제 - 처음노드 삭제\n",
    "          데이터 삭제 - 특정 데이터를 찾아서 해당 노드 삭제\n",
    "          \n",
    "          원형연결리스트가 비어있는지 확인\n",
    "          원형연결리스트 출력"
   ]
  },
  {
   "cell_type": "code",
   "execution_count": 94,
   "id": "8af575fc",
   "metadata": {},
   "outputs": [],
   "source": [
    "class Node :\n",
    "    data = 0\n",
    "    nextNode = None"
   ]
  },
  {
   "cell_type": "code",
   "execution_count": 179,
   "id": "5620057a",
   "metadata": {},
   "outputs": [],
   "source": [
    "class CircularLinklist(Node) :\n",
    "    \n",
    "    size = 0\n",
    "    tail = None\n",
    "    \n",
    "    def __init__(self) :\n",
    "        size = 0\n",
    "        tail = None\n",
    "\n",
    "    def insert_last(self,data) :\n",
    "        newNode = Node()\n",
    "        newNode.data = data\n",
    "        \n",
    "        if self.size == 0 :\n",
    "            self.tail = newNode\n",
    "            self.tail.nextNode = newNode\n",
    "        elif self.size > 0 :\n",
    "            newNode.nextNode = self.tail.nextNode\n",
    "            self.tail.nextNode = newNode\n",
    "            self.tail = newNode\n",
    "        self.size = self.size +1\n",
    "            \n",
    "            \n",
    "    def insert_first(self,data) :\n",
    "        newNode = Node()\n",
    "        newNode.data = data\n",
    "        \n",
    "        if self.size == 0 :\n",
    "            self.tail = newNode\n",
    "            self.tail.nextNode = newNode\n",
    "        elif self.size ==1 :\n",
    "            self.tail.nextNode = newNode\n",
    "            newNode.nextNode = self.tail\n",
    "        elif self.size >1 :\n",
    "            newNode.nextNode = self.tail.nextNode\n",
    "            self.tail.nextNode = newNode    \n",
    "        self.size = self.size + 1        \n",
    "  '''  \n",
    "    def insert_index(self,idx,data) :\n",
    "        newNode = Node()\n",
    "        newNode.data = data\n",
    "        current = self.tail.nextNode\n",
    "        for i in range(0,sefl.size,1) :\n",
    "            if i == idx-1 :\n",
    "                prev = current             # 미완성\n",
    "            elif i == idx :\n",
    "                prev.nextNode = newNode\n",
    "                newNode.nextNode = current\n",
    "                break\n",
    "            current = current.nextNode\n",
    "    '''\n",
    "    \n",
    "    def delete_first(self) :\n",
    "        delNode = self.tail.nextNode\n",
    "        self.tail.nextNode = self.tail.nextNode.nextNode\n",
    "        del delNode\n",
    "        self.size = self.size - 1\n",
    "    \n",
    "    '''\n",
    "    def delete_last(self) :\n",
    "        delNode = self.tail\n",
    "        current = self.tail\n",
    "        for i in range(0,self.size,1):\n",
    "            if i == self.size - 2 :\n",
    "                current.nextNode = self.tail.nextNode  # 미완성\n",
    "                current = self.tail\n",
    "                del delNode\n",
    "                break\n",
    "            current = current.nextNode\n",
    "  \n",
    "    '''  \n",
    "    \n",
    "    def isEmpty(self) :\n",
    "        if self.size == 0:\n",
    "            return '비어있다'\n",
    "        else :\n",
    "            return '들어있다'\n",
    " \n",
    "\n",
    "               \n",
    "    def display(self) :\n",
    "        current = self.tail\n",
    "        \n",
    "        for i in range(0,self.size,1) :\n",
    "            \n",
    "            current = current.nextNode\n",
    "            print(current.data)\n",
    "    \n",
    "    def display1(self) :\n",
    "        for i in range() :\n",
    "            print(self.tail.data,\" -> \",end=\"\")\n",
    "        self.tail = self.tail.nextNode"
   ]
  },
  {
   "cell_type": "code",
   "execution_count": 180,
   "id": "63676ec3",
   "metadata": {},
   "outputs": [],
   "source": [
    "c = CircularLinklist()"
   ]
  },
  {
   "cell_type": "code",
   "execution_count": 181,
   "id": "adf98cb7",
   "metadata": {},
   "outputs": [
    {
     "name": "stdout",
     "output_type": "stream",
     "text": [
      "40\n",
      "30\n",
      "20\n",
      "10\n"
     ]
    }
   ],
   "source": [
    "c.insert_last(40)\n",
    "c.insert_last(30)\n",
    "c.insert_last(20)\n",
    "c.insert_last(10)\n",
    "c.display()"
   ]
  },
  {
   "cell_type": "code",
   "execution_count": 182,
   "id": "5cdc052e",
   "metadata": {},
   "outputs": [
    {
     "name": "stdout",
     "output_type": "stream",
     "text": [
      "10\n",
      "20\n",
      "30\n",
      "40\n",
      "40\n",
      "30\n",
      "20\n",
      "10\n"
     ]
    }
   ],
   "source": [
    "c.insert_first(40)\n",
    "c.insert_first(30)\n",
    "c.insert_first(20)\n",
    "c.insert_first(10)\n",
    "c.display()"
   ]
  },
  {
   "cell_type": "code",
   "execution_count": 183,
   "id": "cf833715",
   "metadata": {},
   "outputs": [
    {
     "name": "stdout",
     "output_type": "stream",
     "text": [
      "20\n",
      "30\n",
      "40\n",
      "40\n",
      "30\n",
      "20\n",
      "10\n"
     ]
    }
   ],
   "source": [
    "c.delete_first()\n",
    "c.display()"
   ]
  },
  {
   "cell_type": "code",
   "execution_count": 184,
   "id": "493df688",
   "metadata": {},
   "outputs": [
    {
     "name": "stdout",
     "output_type": "stream",
     "text": [
      "20\n",
      "30\n",
      "40\n",
      "40\n",
      "30\n",
      "20\n",
      "30\n"
     ]
    }
   ],
   "source": [
    "c.delete_last()  # 이게 잘 안되네\n",
    "c.display()"
   ]
  },
  {
   "cell_type": "code",
   "execution_count": null,
   "id": "051a0c30",
   "metadata": {},
   "outputs": [],
   "source": []
  },
  {
   "cell_type": "code",
   "execution_count": null,
   "id": "5a2a2078",
   "metadata": {},
   "outputs": [],
   "source": []
  },
  {
   "cell_type": "code",
   "execution_count": null,
   "id": "a44e20fd",
   "metadata": {},
   "outputs": [],
   "source": []
  },
  {
   "cell_type": "code",
   "execution_count": null,
   "id": "d127576f",
   "metadata": {},
   "outputs": [],
   "source": []
  },
  {
   "cell_type": "code",
   "execution_count": null,
   "id": "a94cc8c4",
   "metadata": {},
   "outputs": [],
   "source": []
  },
  {
   "cell_type": "code",
   "execution_count": null,
   "id": "6c8c42a3",
   "metadata": {},
   "outputs": [],
   "source": []
  },
  {
   "cell_type": "code",
   "execution_count": null,
   "id": "7dfc43b1",
   "metadata": {},
   "outputs": [],
   "source": []
  },
  {
   "cell_type": "code",
   "execution_count": null,
   "id": "9d83a112",
   "metadata": {},
   "outputs": [],
   "source": []
  },
  {
   "cell_type": "code",
   "execution_count": null,
   "id": "ce55c757",
   "metadata": {},
   "outputs": [],
   "source": []
  },
  {
   "cell_type": "code",
   "execution_count": null,
   "id": "6285a3cc",
   "metadata": {},
   "outputs": [],
   "source": []
  },
  {
   "cell_type": "code",
   "execution_count": null,
   "id": "fe72fee5",
   "metadata": {},
   "outputs": [],
   "source": []
  }
 ],
 "metadata": {
  "kernelspec": {
   "display_name": "Python 3",
   "language": "python",
   "name": "python3"
  },
  "language_info": {
   "codemirror_mode": {
    "name": "ipython",
    "version": 3
   },
   "file_extension": ".py",
   "mimetype": "text/x-python",
   "name": "python",
   "nbconvert_exporter": "python",
   "pygments_lexer": "ipython3",
   "version": "3.8.8"
  }
 },
 "nbformat": 4,
 "nbformat_minor": 5
}
