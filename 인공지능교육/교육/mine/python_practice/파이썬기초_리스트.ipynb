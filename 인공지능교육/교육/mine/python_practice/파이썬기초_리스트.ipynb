{
 "cells": [
  {
   "cell_type": "markdown",
   "id": "1ee6506a",
   "metadata": {},
   "source": [
    "# 파이썬 조합 데이터 타입\n",
    "  \n",
    "  1. 리스트\n",
    "  2. 딕셔너리\n",
    "  3. 튜플\n",
    "  4. 세트"
   ]
  },
  {
   "cell_type": "markdown",
   "id": "1ed27612",
   "metadata": {},
   "source": [
    "# 리스트\n",
    "  \n",
    "  파이썬에서 리스트는 대괄호[]로 감싸서 선언할 수 있으며, 리스트 안의 요소(element)들은 쉼표(,)로 구분  \n",
    "  리스트명 = [요소1, 요소2, 요소3,,,]  \n",
    "  요소들의 타입이 같을 필요는 없다. 문자열이든 정수이든 실수이든."
   ]
  },
  {
   "cell_type": "code",
   "execution_count": 2,
   "id": "00d33868",
   "metadata": {},
   "outputs": [],
   "source": [
    "list1 = [2, 5.5, 'hi', True] # 저장하는 값들의 타입이 꼭 같을 필요가 없다."
   ]
  },
  {
   "cell_type": "code",
   "execution_count": 4,
   "id": "dac5b931",
   "metadata": {},
   "outputs": [
    {
     "data": {
      "text/plain": [
       "list"
      ]
     },
     "execution_count": 4,
     "metadata": {},
     "output_type": "execute_result"
    }
   ],
   "source": [
    "type(list1)"
   ]
  },
  {
   "cell_type": "code",
   "execution_count": 5,
   "id": "eacc4465",
   "metadata": {},
   "outputs": [
    {
     "name": "stdout",
     "output_type": "stream",
     "text": [
      "[2, 5.5, 'hi', True]\n"
     ]
    }
   ],
   "source": [
    "print(list1)"
   ]
  },
  {
   "cell_type": "markdown",
   "id": "39cfb364",
   "metadata": {},
   "source": [
    "### 리스트에서 하나의 값만 가져올 때\n",
    "  \n",
    "  리스트명[순서번호] >> 순서는 0부터 시작. 3번째를 가져오려면 [2]라고 써야함"
   ]
  },
  {
   "cell_type": "code",
   "execution_count": 8,
   "id": "30d1df29",
   "metadata": {},
   "outputs": [
    {
     "data": {
      "text/plain": [
       "2"
      ]
     },
     "execution_count": 8,
     "metadata": {},
     "output_type": "execute_result"
    }
   ],
   "source": [
    "list1[0]"
   ]
  },
  {
   "cell_type": "code",
   "execution_count": 9,
   "id": "431a408d",
   "metadata": {},
   "outputs": [
    {
     "data": {
      "text/plain": [
       "5.5"
      ]
     },
     "execution_count": 9,
     "metadata": {},
     "output_type": "execute_result"
    }
   ],
   "source": [
    "list1[1]"
   ]
  },
  {
   "cell_type": "code",
   "execution_count": 10,
   "id": "04a84413",
   "metadata": {},
   "outputs": [
    {
     "name": "stdout",
     "output_type": "stream",
     "text": [
      "True\n"
     ]
    }
   ],
   "source": [
    "print(list1[3])"
   ]
  },
  {
   "cell_type": "markdown",
   "id": "1a419a4d",
   "metadata": {},
   "source": [
    "### 리스트에서 특정 부분을 가져올 때 (슬라이싱)\n",
    "  \n",
    "  하나의 값이 아니라 특정 부분을 가져올 때  \n",
    "  리스트명[시작번호 : 끝번호+1] >> 이상, 미만이라고 생각하면 쉬움"
   ]
  },
  {
   "cell_type": "code",
   "execution_count": 12,
   "id": "5e6af3da",
   "metadata": {},
   "outputs": [],
   "source": [
    "list3 = [1,2,3,4,5,6,7,8,9,10]"
   ]
  },
  {
   "cell_type": "code",
   "execution_count": 14,
   "id": "266fb91e",
   "metadata": {},
   "outputs": [
    {
     "name": "stdout",
     "output_type": "stream",
     "text": [
      "[5, 6, 7, 8]\n",
      "[5]\n",
      "[2, 3, 4, 5, 6, 7]\n"
     ]
    }
   ],
   "source": [
    "# 5 6 7 8 \n",
    "print(list3[4:8])\n",
    "# 5\n",
    "print(list3[4:5])\n",
    "# 2 3 4 5 6 7 \n",
    "print(list3[1:7])"
   ]
  },
  {
   "cell_type": "markdown",
   "id": "81b858ac",
   "metadata": {},
   "source": [
    "# 리스트에 데이터 추가\n",
    "  \n",
    "  리스트명.append(값)"
   ]
  },
  {
   "cell_type": "code",
   "execution_count": 15,
   "id": "1a4c7b7f",
   "metadata": {},
   "outputs": [
    {
     "name": "stdout",
     "output_type": "stream",
     "text": [
      "[1, 2, 3, 4, 5, 6, 7, 8, 9, 10]\n"
     ]
    }
   ],
   "source": [
    "print(list3)"
   ]
  },
  {
   "cell_type": "code",
   "execution_count": 16,
   "id": "0b6fdc3b",
   "metadata": {},
   "outputs": [],
   "source": [
    "list3.append(11)"
   ]
  },
  {
   "cell_type": "code",
   "execution_count": 17,
   "id": "54c8f9bd",
   "metadata": {},
   "outputs": [
    {
     "name": "stdout",
     "output_type": "stream",
     "text": [
      "[1, 2, 3, 4, 5, 6, 7, 8, 9, 10, 11]\n"
     ]
    }
   ],
   "source": [
    "print(list3)"
   ]
  },
  {
   "cell_type": "markdown",
   "id": "43d07a82",
   "metadata": {},
   "source": [
    "## 리스트 특정 위치에 데이터 추가\n",
    "  \n",
    "  리스트명.insert(순서번호, 값)\n",
    "    \n",
    "  순서 번호는 0부터 시작.\n",
    "  \n",
    "  순서번호에 값이 들어가게 된다."
   ]
  },
  {
   "cell_type": "code",
   "execution_count": 18,
   "id": "1adf0bf8",
   "metadata": {},
   "outputs": [],
   "source": [
    "list3.insert(5,5.5)"
   ]
  },
  {
   "cell_type": "code",
   "execution_count": 19,
   "id": "1acedd7d",
   "metadata": {},
   "outputs": [
    {
     "name": "stdout",
     "output_type": "stream",
     "text": [
      "[1, 2, 3, 4, 5, 5.5, 6, 7, 8, 9, 10, 11]\n"
     ]
    }
   ],
   "source": [
    "print(list3)"
   ]
  },
  {
   "cell_type": "markdown",
   "id": "c061368c",
   "metadata": {},
   "source": [
    "## 리스트 특정 값 삭제\n",
    "  \n",
    "  리스트명.remove(값) \n",
    "  \n",
    "  만약 중복돼있다면 값을 하나만 지움"
   ]
  },
  {
   "cell_type": "code",
   "execution_count": 24,
   "id": "6808c80b",
   "metadata": {},
   "outputs": [],
   "source": [
    "list3.remove(5.5)"
   ]
  },
  {
   "cell_type": "code",
   "execution_count": 25,
   "id": "cc5b5365",
   "metadata": {},
   "outputs": [
    {
     "data": {
      "text/plain": [
       "[1, 2, 3, 4, 5, 6, 7, 8, 9, 10, 11]"
      ]
     },
     "execution_count": 25,
     "metadata": {},
     "output_type": "execute_result"
    }
   ],
   "source": [
    "list3"
   ]
  },
  {
   "cell_type": "markdown",
   "id": "cbc99934",
   "metadata": {},
   "source": [
    "# 문제\n",
    "\n",
    "1. list = ['a','c','e','b','d'] 이걸 값을 추가 또는 삭제해서 abcde 순으로 만드세영"
   ]
  },
  {
   "cell_type": "code",
   "execution_count": 26,
   "id": "d99a68fa",
   "metadata": {},
   "outputs": [],
   "source": [
    "list = ['a','c','e','b','d']"
   ]
  },
  {
   "cell_type": "code",
   "execution_count": 27,
   "id": "22507505",
   "metadata": {},
   "outputs": [],
   "source": [
    "list.remove('b')"
   ]
  },
  {
   "cell_type": "code",
   "execution_count": 28,
   "id": "dae3ad3c",
   "metadata": {},
   "outputs": [],
   "source": [
    "list.remove('d')"
   ]
  },
  {
   "cell_type": "code",
   "execution_count": 29,
   "id": "c2166e48",
   "metadata": {},
   "outputs": [
    {
     "data": {
      "text/plain": [
       "['a', 'c', 'e']"
      ]
     },
     "execution_count": 29,
     "metadata": {},
     "output_type": "execute_result"
    }
   ],
   "source": [
    "list"
   ]
  },
  {
   "cell_type": "code",
   "execution_count": 31,
   "id": "58089cf5",
   "metadata": {},
   "outputs": [],
   "source": [
    "list.insert(1,'b')"
   ]
  },
  {
   "cell_type": "code",
   "execution_count": 32,
   "id": "18305067",
   "metadata": {},
   "outputs": [],
   "source": [
    "list.insert(3,'d')"
   ]
  },
  {
   "cell_type": "code",
   "execution_count": 33,
   "id": "b402a3c3",
   "metadata": {},
   "outputs": [
    {
     "data": {
      "text/plain": [
       "['a', 'b', 'c', 'd', 'e']"
      ]
     },
     "execution_count": 33,
     "metadata": {},
     "output_type": "execute_result"
    }
   ],
   "source": [
    "list"
   ]
  },
  {
   "cell_type": "markdown",
   "id": "e1f7f94c",
   "metadata": {},
   "source": [
    "# 리스트 활용 조건문\n",
    "  \n",
    "  리스트의 특정 값이 들어있나 들어있지 않나 확인하는 방법  \n",
    "  \n",
    "  만약에 리스트 안에 특정값이 있으면 실행  \n",
    "  \n",
    "  if 특정값 in 리스트 :  \n",
    "      &nbsp;코드실행"
   ]
  },
  {
   "cell_type": "code",
   "execution_count": 34,
   "id": "53df9dfa",
   "metadata": {},
   "outputs": [],
   "source": [
    "list = ['a','b','c']"
   ]
  },
  {
   "cell_type": "code",
   "execution_count": 35,
   "id": "8ef0c254",
   "metadata": {},
   "outputs": [
    {
     "name": "stdout",
     "output_type": "stream",
     "text": [
      "a가 있네\n"
     ]
    }
   ],
   "source": [
    "if 'a' in list :\n",
    "    print('a가 있네')"
   ]
  },
  {
   "cell_type": "markdown",
   "id": "854ae198",
   "metadata": {},
   "source": [
    "# 리스트 활용 반복문\n",
    "  \n",
    "  리스트의 값을 하나씩 꺼내면서 반복하는 반복문\n",
    "    \n",
    "  for 변수 in 리스트 :  \n",
    "   코드실행"
   ]
  },
  {
   "cell_type": "code",
   "execution_count": 36,
   "id": "42f2ce31",
   "metadata": {},
   "outputs": [
    {
     "name": "stdout",
     "output_type": "stream",
     "text": [
      "a\n",
      "b\n",
      "c\n"
     ]
    }
   ],
   "source": [
    "for i in list :\n",
    "    print(i)"
   ]
  },
  {
   "cell_type": "markdown",
   "id": "6e44b423",
   "metadata": {},
   "source": [
    "## 리스트의 길이 확인\n",
    "len(리스트)"
   ]
  },
  {
   "cell_type": "code",
   "execution_count": 37,
   "id": "8926e086",
   "metadata": {},
   "outputs": [
    {
     "name": "stdout",
     "output_type": "stream",
     "text": [
      "a\n",
      "b\n",
      "c\n"
     ]
    }
   ],
   "source": [
    "for i in range(0,len(list)) :\n",
    "    print(list[i])"
   ]
  },
  {
   "cell_type": "markdown",
   "id": "078bcee3",
   "metadata": {},
   "source": [
    "# 로또 번호 생성기\n",
    "  \n",
    "  로또의 규칙\n",
    "  \n",
    "  1-45 사이의 숫자 6개를 골라서 6개 모두 맞으면 당첨. 중복x\n",
    "  \n",
    "  \n",
    "  반복문을 활용해서 리스트에 1-45 사이의 6개의 중복되지 않은 숫자를 저장하세요."
   ]
  },
  {
   "cell_type": "code",
   "execution_count": 38,
   "id": "ef4bac25",
   "metadata": {},
   "outputs": [],
   "source": [
    "from random import *"
   ]
  },
  {
   "cell_type": "code",
   "execution_count": null,
   "id": "690885e7",
   "metadata": {},
   "outputs": [],
   "source": [
    "if 'a' in list :\n",
    "    print('a가 있네')"
   ]
  },
  {
   "cell_type": "markdown",
   "id": "82e8bc9c",
   "metadata": {},
   "source": [
    "### 위 뒤개는 힌트!"
   ]
  },
  {
   "cell_type": "code",
   "execution_count": 351,
   "id": "01b23094",
   "metadata": {},
   "outputs": [
    {
     "name": "stdout",
     "output_type": "stream",
     "text": [
      "로또 생성기 1호\n",
      "[1, 13, 15, 24, 31, 44]\n"
     ]
    }
   ],
   "source": [
    "print('로또 생성기 1호')\n",
    "lotto2 = []\n",
    "for i in range(1,100,1) :    # 100 미만이라는게 큰 의미는 없다. 어차피 중간에 break할거기 때문\n",
    "    a = randint(1,45)\n",
    "    if a not in lotto2 :\n",
    "        lotto2.append(a)\n",
    "    if len(lotto2) == 6 :\n",
    "        lotto2.sort()\n",
    "        break\n",
    "print(lotto2)\n",
    "\n",
    "    "
   ]
  },
  {
   "cell_type": "code",
   "execution_count": 352,
   "id": "2c028a40",
   "metadata": {},
   "outputs": [
    {
     "name": "stdout",
     "output_type": "stream",
     "text": [
      "로또 생성기 2호\n",
      "[13, 17, 18, 27, 39, 42]\n"
     ]
    }
   ],
   "source": [
    "print('로또 생성기 2호')\n",
    "lotto3 = []\n",
    "while  len(lotto3) < 6  :\n",
    "    a = randint(1,45)\n",
    "    if a not in lotto3 :\n",
    "        lotto3.append(a)\n",
    "        lotto3.sort()\n",
    "print(lotto3)"
   ]
  },
  {
   "cell_type": "markdown",
   "id": "7557be0c",
   "metadata": {},
   "source": [
    "이게 젤 잘 만든 거 같다 ㅎㅎㅎ"
   ]
  },
  {
   "cell_type": "code",
   "execution_count": 353,
   "id": "db09b824",
   "metadata": {},
   "outputs": [
    {
     "name": "stdout",
     "output_type": "stream",
     "text": [
      "로또 생성기 3호\n",
      "[8, 13, 19, 20, 25, 27]\n"
     ]
    }
   ],
   "source": [
    "print('로또 생성기 3호')\n",
    "lotto4 = []\n",
    "while True :\n",
    "    a = randint(1,45)\n",
    "    if a in lotto4 :\n",
    "        continue\n",
    "    lotto4.append(a)\n",
    "    if len(lotto4)== 6 :\n",
    "        lotto4.sort()\n",
    "        break\n",
    "print(lotto4)"
   ]
  },
  {
   "cell_type": "code",
   "execution_count": 354,
   "id": "d63caa80",
   "metadata": {},
   "outputs": [
    {
     "name": "stdout",
     "output_type": "stream",
     "text": [
      "로또 생성기 4호\n",
      "[7, 8, 14, 22, 26, 33]\n"
     ]
    }
   ],
   "source": [
    "print('로또 생성기 4호')\n",
    "lotto5 = []\n",
    "z = 0\n",
    "while z < 6 :\n",
    "    a = randint(1,45)\n",
    "    if a in lotto5 :\n",
    "        continue\n",
    "    z = z + 1\n",
    "    lotto5.append(a)\n",
    "    lotto5.sort()\n",
    "print(lotto5)"
   ]
  },
  {
   "cell_type": "markdown",
   "id": "1a6de4c5",
   "metadata": {},
   "source": [
    "### for과 while로 완성한 답들"
   ]
  },
  {
   "cell_type": "markdown",
   "id": "a6d840c8",
   "metadata": {},
   "source": [
    "### 다음은 고민 흔적들,,,"
   ]
  },
  {
   "cell_type": "code",
   "execution_count": 99,
   "id": "01e4e325",
   "metadata": {},
   "outputs": [
    {
     "name": "stdout",
     "output_type": "stream",
     "text": [
      "[11, 24, 31, 5, 5, 20]\n"
     ]
    }
   ],
   "source": [
    "list1 = []\n",
    "for i in range(1,7,1) :\n",
    "    a = randint(1,45)\n",
    "    list1.append(a)\n",
    "print(list1)"
   ]
  },
  {
   "cell_type": "code",
   "execution_count": 102,
   "id": "1a7efb57",
   "metadata": {},
   "outputs": [
    {
     "name": "stdout",
     "output_type": "stream",
     "text": [
      "[11, 24, 31, 5, 5, 20]\n"
     ]
    }
   ],
   "source": [
    "print(list1)"
   ]
  },
  {
   "cell_type": "code",
   "execution_count": 103,
   "id": "5e171c6d",
   "metadata": {},
   "outputs": [
    {
     "name": "stdout",
     "output_type": "stream",
     "text": [
      "11\n",
      "24\n",
      "31\n",
      "5\n",
      "5\n",
      "20\n"
     ]
    }
   ],
   "source": [
    "for i in list1:\n",
    "    print(i)"
   ]
  },
  {
   "cell_type": "code",
   "execution_count": 159,
   "id": "eb4c8c75",
   "metadata": {
    "scrolled": true
   },
   "outputs": [
    {
     "ename": "IndexError",
     "evalue": "list index out of range",
     "output_type": "error",
     "traceback": [
      "\u001b[1;31m---------------------------------------------------------------------------\u001b[0m",
      "\u001b[1;31mIndexError\u001b[0m                                Traceback (most recent call last)",
      "\u001b[1;32m<ipython-input-159-0fb44d279454>\u001b[0m in \u001b[0;36m<module>\u001b[1;34m\u001b[0m\n\u001b[0;32m      3\u001b[0m         \u001b[1;32mif\u001b[0m \u001b[0mi\u001b[0m \u001b[1;33m==\u001b[0m \u001b[0mj\u001b[0m \u001b[1;33m:\u001b[0m\u001b[1;33m\u001b[0m\u001b[1;33m\u001b[0m\u001b[0m\n\u001b[0;32m      4\u001b[0m             \u001b[1;32mcontinue\u001b[0m\u001b[1;33m\u001b[0m\u001b[1;33m\u001b[0m\u001b[0m\n\u001b[1;32m----> 5\u001b[1;33m         \u001b[1;32mif\u001b[0m \u001b[0mlist1\u001b[0m\u001b[1;33m[\u001b[0m\u001b[0mi\u001b[0m\u001b[1;33m]\u001b[0m \u001b[1;33m==\u001b[0m \u001b[0mlist\u001b[0m\u001b[1;33m[\u001b[0m\u001b[0mj\u001b[0m\u001b[1;33m]\u001b[0m \u001b[1;33m:\u001b[0m\u001b[1;33m\u001b[0m\u001b[1;33m\u001b[0m\u001b[0m\n\u001b[0m\u001b[0;32m      6\u001b[0m             \u001b[0mlist1\u001b[0m\u001b[1;33m.\u001b[0m\u001b[0mremove\u001b[0m\u001b[1;33m(\u001b[0m\u001b[0mlist\u001b[0m\u001b[1;33m[\u001b[0m\u001b[0mi\u001b[0m\u001b[1;33m]\u001b[0m\u001b[1;33m)\u001b[0m\u001b[1;33m\u001b[0m\u001b[1;33m\u001b[0m\u001b[0m\n\u001b[0;32m      7\u001b[0m             \u001b[0ma\u001b[0m \u001b[1;33m=\u001b[0m \u001b[0mrandint\u001b[0m\u001b[1;33m(\u001b[0m\u001b[1;36m1\u001b[0m\u001b[1;33m,\u001b[0m\u001b[1;36m45\u001b[0m\u001b[1;33m)\u001b[0m\u001b[1;33m\u001b[0m\u001b[1;33m\u001b[0m\u001b[0m\n",
      "\u001b[1;31mIndexError\u001b[0m: list index out of range"
     ]
    }
   ],
   "source": [
    "for i in range(0,len(list1),1) :\n",
    "    for j in range(0,len(list1),1) :\n",
    "        if i == j :\n",
    "            continue\n",
    "        if list1[i] == list[j] :\n",
    "            list1.remove(list[i])\n",
    "            a = randint(1,45)\n",
    "            list1.append(a)\n",
    "print(list1)"
   ]
  },
  {
   "cell_type": "code",
   "execution_count": 106,
   "id": "ab4edfd7",
   "metadata": {},
   "outputs": [
    {
     "data": {
      "text/plain": [
       "6"
      ]
     },
     "execution_count": 106,
     "metadata": {},
     "output_type": "execute_result"
    }
   ],
   "source": [
    "len(list1)"
   ]
  },
  {
   "cell_type": "code",
   "execution_count": 107,
   "id": "1b185c9a",
   "metadata": {},
   "outputs": [
    {
     "name": "stdout",
     "output_type": "stream",
     "text": [
      "[11, 24, 31, 5, 5, 20]\n"
     ]
    }
   ],
   "source": [
    "print(list1)"
   ]
  },
  {
   "cell_type": "markdown",
   "id": "330ed42f",
   "metadata": {},
   "source": [
    "# 숫자야구 게임 만들기\n",
    "  \n",
    "3-4자리 숫자로 하는건데 3자리로 만들어야지~\n",
    "  \n",
    "  1. 중복되지 않는 3자리 숫자를 정한다. \n",
    "  2. 상대편이 3자리 숫자를 부르면 숫자, 위치를 본다.\n",
    "  3. 숫자와 위치 모두 다르면 '아웃!'\n",
    "  4. 숫자는 맞지만 위치가 다르면 '볼!'\n",
    "  5. 숫자와 위치 모두 같으면 '스트라이크!'를 반환한다. \n",
    "  \n",
    "  ex) 원래 숫자 : 123 , 부른 숫자 : 324 >> 1스트라이크 1볼 1아웃\n",
    "  부른 숫자 : 456 >> 3아웃"
   ]
  },
  {
   "cell_type": "code",
   "execution_count": 338,
   "id": "12e3950b",
   "metadata": {},
   "outputs": [
    {
     "name": "stdout",
     "output_type": "stream",
     "text": [
      "숫자 야구 번호 정하기!\n",
      "[7, 5, 1]\n",
      "맞춰보세요~\n"
     ]
    }
   ],
   "source": [
    "# 1. 중복되지 않는 3자리 숫자를 정한다. \n",
    "print('숫자 야구 번호 정하기!')\n",
    "computer = []\n",
    "while len(computer) < 3 :\n",
    "    a = randint(0,9)\n",
    "    if a not in computer :\n",
    "        computer.append(a)\n",
    "print(computer)\n",
    "print('맞춰보세요~')"
   ]
  },
  {
   "cell_type": "markdown",
   "id": "323fd97a",
   "metadata": {},
   "source": [
    "### 내 풀이"
   ]
  },
  {
   "cell_type": "code",
   "execution_count": 334,
   "id": "e320b0d3",
   "metadata": {},
   "outputs": [
    {
     "name": "stdout",
     "output_type": "stream",
     "text": [
      "012\n",
      "1스트라잌 0볼 2아웃\n",
      "1회종료\n",
      "345\n",
      "1스트라잌 1볼 1아웃\n",
      "2회종료\n",
      "789\n",
      "0스트라잌 0볼 3아웃\n",
      "3회종료\n",
      "316\n",
      "1스트라잌 0볼 2아웃\n",
      "4회종료\n",
      "352\n",
      "3스트라잌 0볼 0아웃\n",
      "5회종료\n",
      "맞췄습니다!!\n"
     ]
    }
   ],
   "source": [
    "# 내 풀이\n",
    "# 입력한 세자리 숫자를 각각 변수에 저장\n",
    "season = 0\n",
    "while True :\n",
    "    strike = 0\n",
    "    ball = 0\n",
    "    out = 0\n",
    "    \n",
    "    my = int(input())            # 각 자리 숫자를 리스트에 넣어야하기 때문에 int()로 감싸준다. \n",
    "                                    # 어차피 computer도 randint()로 숫자 만들었기 때문에 정수끼리 비교해야하니까 int로 해야함\n",
    "    first = my//100\n",
    "    second = my%100//10\n",
    "    third = my%10\n",
    "    pred = [first, second, third]\n",
    "    \n",
    "    season = season + 1                       # 시즌은 각 시행마다 초기화되면 안되므로 while 밖에서 초기화 시킨다.\n",
    "    for i in range(0,len(computer),1) : \n",
    "        if computer[i] not in pred : \n",
    "            out = out + 1\n",
    "        elif computer[i] in pred and pred[i] != computer[i] :\n",
    "            ball = ball + 1\n",
    "        elif computer[i] in pred and pred[i] == computer[i] :\n",
    "            strike = strike + 1\n",
    "    print(str(strike)+'스트라잌'+' '+str(ball)+'볼'+' '+str(out)+'아웃')\n",
    "    print(str(season) + '회종료')\n",
    "    \n",
    "    if pred == computer :\n",
    "        print('맞췄습니다!!')\n",
    "        break\n",
    "        "
   ]
  },
  {
   "cell_type": "markdown",
   "id": "42b12c87",
   "metadata": {},
   "source": [
    "### 밑은 선생님이 차근차근 풀어주신것!!"
   ]
  },
  {
   "cell_type": "code",
   "execution_count": 300,
   "id": "3f7f2189",
   "metadata": {},
   "outputs": [
    {
     "name": "stdout",
     "output_type": "stream",
     "text": [
      "123\n",
      "234\n",
      "345\n",
      "546\n",
      "111\n",
      "종료합니다\n"
     ]
    }
   ],
   "source": [
    "# 1단계 \n",
    "while True :\n",
    "    my = input()\n",
    "    if my == '111' :\n",
    "        print('종료합니다')\n",
    "        break\n",
    "        "
   ]
  },
  {
   "cell_type": "code",
   "execution_count": null,
   "id": "bf2cf046",
   "metadata": {},
   "outputs": [],
   "source": [
    "# 2단계\n",
    "# 입력한 세자리 숫자를 각각 변수에 저장\n",
    "while True :\n",
    "    my = int(input())\n",
    "    first = my//100\n",
    "    second = my%100//10\n",
    "    third = my%10\n",
    "\n",
    "    if pred == computer :\n",
    "        print('맞췄습니다!!')\n",
    "        break\n",
    "        "
   ]
  },
  {
   "cell_type": "code",
   "execution_count": 345,
   "id": "5e7dbf00",
   "metadata": {},
   "outputs": [
    {
     "name": "stdout",
     "output_type": "stream",
     "text": [
      "790\n",
      "1스트라잌 0볼 2아웃\n",
      "1회종료\n",
      "715\n",
      "1스트라잌 2볼 0아웃\n",
      "2회종료\n",
      "751\n",
      "3스트라잌 0볼 0아웃\n",
      "3회종료\n",
      "맞췄습니다!!\n"
     ]
    }
   ],
   "source": [
    "# 3단계\n",
    "season1 = 0\n",
    "while True :\n",
    "    s = 0\n",
    "    b = 0\n",
    "    o = 0\n",
    "    my = int(input())\n",
    "    \n",
    "    first = my//100\n",
    "    second = my%100//10\n",
    "    third = my%10\n",
    "    \n",
    "    my_input = [first, second, third]\n",
    "    \n",
    "    if my_input[0] in computer :\n",
    "        if my_input[0] == computer[0] :\n",
    "            s = s + 1\n",
    "        else :\n",
    "            b = b + 1\n",
    "    if my_input[1] in computer : \n",
    "        if my_input[1] == computer[1] :\n",
    "            s = s + 1\n",
    "        else :\n",
    "            b = b + 1\n",
    "    if my_input[2] in computer : \n",
    "        if my_input[2] == computer[2] :\n",
    "            s = s + 1\n",
    "        else :\n",
    "            b = b + 1\n",
    "    for i in range(0,len(my_input)) :\n",
    "        if my_input[i] not in computer :\n",
    "            o = o + 1\n",
    "    season1 = season1 + 1\n",
    "    print(str(s)+'스트라잌'+' '+str(b)+'볼'+' '+str(o)+'아웃')\n",
    "    print(str(season1) + '회종료')\n",
    "    \n",
    "        \n",
    "        \n",
    "    if my_input == computer :\n",
    "        print('맞췄습니다!!')\n",
    "        break\n",
    "        "
   ]
  },
  {
   "cell_type": "markdown",
   "id": "c8428507",
   "metadata": {},
   "source": [
    "위를 간단하게 만들면???!!"
   ]
  },
  {
   "cell_type": "code",
   "execution_count": 350,
   "id": "cdb7d520",
   "metadata": {},
   "outputs": [
    {
     "name": "stdout",
     "output_type": "stream",
     "text": [
      "890\n",
      "0스트라잌 0볼 3아웃\n",
      "1회종료\n",
      "751\n",
      "3스트라잌 0볼 0아웃\n",
      "2회종료\n",
      "맞췄습니다!!\n"
     ]
    }
   ],
   "source": [
    "# 3단계 간단히\n",
    "season1 = 0\n",
    "while True :\n",
    "    s = 0\n",
    "    b = 0\n",
    "    o = 0\n",
    "    my = int(input())\n",
    "    \n",
    "    first = my//100\n",
    "    second = my%100//10\n",
    "    third = my%10\n",
    "    \n",
    "    my_input = [first, second, third]\n",
    "    for i in range(0,len(my_input)) :\n",
    "        if my_input[i] in computer :\n",
    "            if my_input[i] == computer[i] :\n",
    "                s = s + 1\n",
    "            else :\n",
    "                b = b + 1\n",
    "        else : \n",
    "            o = o + 1\n",
    "    season1 = season1 + 1\n",
    "    print(str(s)+'스트라잌'+' '+str(b)+'볼'+' '+str(o)+'아웃')\n",
    "    print(str(season1) + '회종료')\n",
    "    \n",
    "    if my_input == computer :\n",
    "        print('맞췄습니다!!')\n",
    "        break\n",
    "        "
   ]
  },
  {
   "cell_type": "code",
   "execution_count": null,
   "id": "ee4afd76",
   "metadata": {},
   "outputs": [],
   "source": []
  },
  {
   "cell_type": "code",
   "execution_count": null,
   "id": "32d95439",
   "metadata": {},
   "outputs": [],
   "source": []
  },
  {
   "cell_type": "markdown",
   "id": "798f2e26",
   "metadata": {},
   "source": [
    "밑은 시행착오,,,"
   ]
  },
  {
   "cell_type": "code",
   "execution_count": 311,
   "id": "efe2e654",
   "metadata": {
    "collapsed": true
   },
   "outputs": [
    {
     "name": "stdout",
     "output_type": "stream",
     "text": [
      "234\n",
      "3S 6B 0O\n",
      "2334\n",
      "6S 12B 0O\n"
     ]
    },
    {
     "ename": "KeyboardInterrupt",
     "evalue": "Interrupted by user",
     "output_type": "error",
     "traceback": [
      "\u001b[1;31m---------------------------------------------------------------------------\u001b[0m",
      "\u001b[1;31mKeyboardInterrupt\u001b[0m                         Traceback (most recent call last)",
      "\u001b[1;32m<ipython-input-311-122ed6b644c3>\u001b[0m in \u001b[0;36m<module>\u001b[1;34m\u001b[0m\n\u001b[0;32m      3\u001b[0m \u001b[0mout\u001b[0m \u001b[1;33m=\u001b[0m \u001b[1;36m0\u001b[0m\u001b[1;33m\u001b[0m\u001b[1;33m\u001b[0m\u001b[0m\n\u001b[0;32m      4\u001b[0m \u001b[1;32mwhile\u001b[0m \u001b[1;32mTrue\u001b[0m\u001b[1;33m:\u001b[0m\u001b[1;33m\u001b[0m\u001b[1;33m\u001b[0m\u001b[0m\n\u001b[1;32m----> 5\u001b[1;33m     \u001b[0mmy\u001b[0m \u001b[1;33m=\u001b[0m \u001b[0minput\u001b[0m\u001b[1;33m(\u001b[0m\u001b[1;33m)\u001b[0m\u001b[1;33m\u001b[0m\u001b[1;33m\u001b[0m\u001b[0m\n\u001b[0m\u001b[0;32m      6\u001b[0m     \u001b[1;32mif\u001b[0m \u001b[0mmy\u001b[0m\u001b[1;33m[\u001b[0m\u001b[1;36m0\u001b[0m\u001b[1;33m]\u001b[0m \u001b[1;33m==\u001b[0m \u001b[0mcomputer\u001b[0m\u001b[1;33m[\u001b[0m\u001b[1;36m0\u001b[0m\u001b[1;33m]\u001b[0m \u001b[1;32mand\u001b[0m \u001b[0mmy\u001b[0m\u001b[1;33m[\u001b[0m\u001b[1;36m1\u001b[0m\u001b[1;33m]\u001b[0m \u001b[1;33m==\u001b[0m \u001b[0mcomputer\u001b[0m\u001b[1;33m[\u001b[0m\u001b[1;36m1\u001b[0m\u001b[1;33m]\u001b[0m \u001b[1;32mand\u001b[0m \u001b[0mmy\u001b[0m\u001b[1;33m[\u001b[0m\u001b[1;36m2\u001b[0m\u001b[1;33m]\u001b[0m \u001b[1;33m==\u001b[0m \u001b[0mcomputer\u001b[0m\u001b[1;33m[\u001b[0m\u001b[1;36m2\u001b[0m\u001b[1;33m]\u001b[0m \u001b[1;33m:\u001b[0m\u001b[1;33m\u001b[0m\u001b[1;33m\u001b[0m\u001b[0m\n\u001b[0;32m      7\u001b[0m         \u001b[0mprint\u001b[0m\u001b[1;33m(\u001b[0m\u001b[1;34m'종료합니다'\u001b[0m\u001b[1;33m)\u001b[0m\u001b[1;33m\u001b[0m\u001b[1;33m\u001b[0m\u001b[0m\n",
      "\u001b[1;32m~\\anaconda3\\lib\\site-packages\\ipykernel\\kernelbase.py\u001b[0m in \u001b[0;36mraw_input\u001b[1;34m(self, prompt)\u001b[0m\n\u001b[0;32m    858\u001b[0m                 \u001b[1;34m\"raw_input was called, but this frontend does not support input requests.\"\u001b[0m\u001b[1;33m\u001b[0m\u001b[1;33m\u001b[0m\u001b[0m\n\u001b[0;32m    859\u001b[0m             )\n\u001b[1;32m--> 860\u001b[1;33m         return self._input_request(str(prompt),\n\u001b[0m\u001b[0;32m    861\u001b[0m             \u001b[0mself\u001b[0m\u001b[1;33m.\u001b[0m\u001b[0m_parent_ident\u001b[0m\u001b[1;33m,\u001b[0m\u001b[1;33m\u001b[0m\u001b[1;33m\u001b[0m\u001b[0m\n\u001b[0;32m    862\u001b[0m             \u001b[0mself\u001b[0m\u001b[1;33m.\u001b[0m\u001b[0m_parent_header\u001b[0m\u001b[1;33m,\u001b[0m\u001b[1;33m\u001b[0m\u001b[1;33m\u001b[0m\u001b[0m\n",
      "\u001b[1;32m~\\anaconda3\\lib\\site-packages\\ipykernel\\kernelbase.py\u001b[0m in \u001b[0;36m_input_request\u001b[1;34m(self, prompt, ident, parent, password)\u001b[0m\n\u001b[0;32m    902\u001b[0m             \u001b[1;32mexcept\u001b[0m \u001b[0mKeyboardInterrupt\u001b[0m\u001b[1;33m:\u001b[0m\u001b[1;33m\u001b[0m\u001b[1;33m\u001b[0m\u001b[0m\n\u001b[0;32m    903\u001b[0m                 \u001b[1;31m# re-raise KeyboardInterrupt, to truncate traceback\u001b[0m\u001b[1;33m\u001b[0m\u001b[1;33m\u001b[0m\u001b[1;33m\u001b[0m\u001b[0m\n\u001b[1;32m--> 904\u001b[1;33m                 \u001b[1;32mraise\u001b[0m \u001b[0mKeyboardInterrupt\u001b[0m\u001b[1;33m(\u001b[0m\u001b[1;34m\"Interrupted by user\"\u001b[0m\u001b[1;33m)\u001b[0m \u001b[1;32mfrom\u001b[0m \u001b[1;32mNone\u001b[0m\u001b[1;33m\u001b[0m\u001b[1;33m\u001b[0m\u001b[0m\n\u001b[0m\u001b[0;32m    905\u001b[0m             \u001b[1;32mexcept\u001b[0m \u001b[0mException\u001b[0m \u001b[1;32mas\u001b[0m \u001b[0me\u001b[0m\u001b[1;33m:\u001b[0m\u001b[1;33m\u001b[0m\u001b[1;33m\u001b[0m\u001b[0m\n\u001b[0;32m    906\u001b[0m                 \u001b[0mself\u001b[0m\u001b[1;33m.\u001b[0m\u001b[0mlog\u001b[0m\u001b[1;33m.\u001b[0m\u001b[0mwarning\u001b[0m\u001b[1;33m(\u001b[0m\u001b[1;34m\"Invalid Message:\"\u001b[0m\u001b[1;33m,\u001b[0m \u001b[0mexc_info\u001b[0m\u001b[1;33m=\u001b[0m\u001b[1;32mTrue\u001b[0m\u001b[1;33m)\u001b[0m\u001b[1;33m\u001b[0m\u001b[1;33m\u001b[0m\u001b[0m\n",
      "\u001b[1;31mKeyboardInterrupt\u001b[0m: Interrupted by user"
     ]
    }
   ],
   "source": [
    "# 내 풀이 \n",
    "strike = 0\n",
    "ball = 0\n",
    "out = 0\n",
    "while True:\n",
    "    my = input()\n",
    "    if my[0] == computer[0] and my[1] == computer[1] and my[2] == computer[2] :\n",
    "        print('종료합니다')\n",
    "        break\n",
    "    for i in range(0,3,1) :\n",
    "        for j in range(0,3,1) :\n",
    "            if i == j :\n",
    "                my[i] == computer[j]\n",
    "                strike = strike + 1\n",
    "            elif i != j :\n",
    "                my[i] == computer[j]\n",
    "                ball = ball + 1\n",
    "            else :\n",
    "                out = out + 1\n",
    "    print(str(strike) + 'S' + ' '+ str(ball) + 'B'+' ' + str(out) + 'O')\n",
    "            \n",
    "            \n",
    "            \n"
   ]
  },
  {
   "cell_type": "markdown",
   "id": "8d8821a6",
   "metadata": {},
   "source": [
    "### 궁금하신 거나 틀린 거 있으면 댓글 남겨주세요~!~"
   ]
  }
 ],
 "metadata": {
  "kernelspec": {
   "display_name": "Python 3",
   "language": "python",
   "name": "python3"
  },
  "language_info": {
   "codemirror_mode": {
    "name": "ipython",
    "version": 3
   },
   "file_extension": ".py",
   "mimetype": "text/x-python",
   "name": "python",
   "nbconvert_exporter": "python",
   "pygments_lexer": "ipython3",
   "version": "3.8.8"
  }
 },
 "nbformat": 4,
 "nbformat_minor": 5
}
