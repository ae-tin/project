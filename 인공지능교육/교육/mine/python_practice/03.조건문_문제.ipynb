{
 "cells": [
  {
   "cell_type": "markdown",
   "id": "c92052fb",
   "metadata": {},
   "source": [
    "# 조건문\n",
    "\n",
    "#### if 조건식 :  \n",
    "&nbsp;&nbsp;&nbsp;&nbsp; 조건이 참일 때 실행하고 싶은 코드"
   ]
  },
  {
   "cell_type": "code",
   "execution_count": null,
   "id": "09120fab",
   "metadata": {},
   "outputs": [],
   "source": [
    "num1=10"
   ]
  },
  {
   "cell_type": "code",
   "execution_count": null,
   "id": "ed988446",
   "metadata": {},
   "outputs": [],
   "source": [
    "print(num1>20)"
   ]
  },
  {
   "cell_type": "markdown",
   "id": "8615221c",
   "metadata": {},
   "source": [
    "만약에 num1에 저장된 값이 5보다 크면 \"num1은 5보다 크다\" 라고 출력"
   ]
  },
  {
   "cell_type": "code",
   "execution_count": null,
   "id": "5be37f3b",
   "metadata": {},
   "outputs": [],
   "source": [
    "if num1>5 :\n",
    "    print(\"num1은 5보다 크다\") "
   ]
  },
  {
   "cell_type": "markdown",
   "id": "1a6e9da2",
   "metadata": {},
   "source": [
    "만약에 str1에 저장된 값이 \"hello\"와 같다면 화면에 \"같다\"라고 출력"
   ]
  },
  {
   "cell_type": "code",
   "execution_count": null,
   "id": "770275f4",
   "metadata": {},
   "outputs": [],
   "source": [
    "str1=\"qwer\"\n",
    "\n",
    "if str1==\"hello\" :\n",
    "    print(\"같다.\")"
   ]
  },
  {
   "cell_type": "markdown",
   "id": "a24c7263",
   "metadata": {},
   "source": [
    "# 입력받기\n",
    "\n",
    "변수=input()\n",
    "\n",
    "변수에 사용자로부터 입력받은 값을 저장"
   ]
  },
  {
   "cell_type": "code",
   "execution_count": 4,
   "id": "dfa1b456",
   "metadata": {},
   "outputs": [
    {
     "name": "stdout",
     "output_type": "stream",
     "text": [
      "123.5\n"
     ]
    }
   ],
   "source": [
    "input1=input()"
   ]
  },
  {
   "cell_type": "code",
   "execution_count": 5,
   "id": "2ba5dc72",
   "metadata": {},
   "outputs": [
    {
     "name": "stdout",
     "output_type": "stream",
     "text": [
      "123.5\n"
     ]
    }
   ],
   "source": [
    "print(input1)"
   ]
  },
  {
   "cell_type": "code",
   "execution_count": 6,
   "id": "2da1217e",
   "metadata": {},
   "outputs": [
    {
     "name": "stdout",
     "output_type": "stream",
     "text": [
      "<class 'str'>\n"
     ]
    }
   ],
   "source": [
    "print(type(input1))"
   ]
  },
  {
   "cell_type": "markdown",
   "id": "28e7f70a",
   "metadata": {},
   "source": [
    "# 문자를 숫자로 변환\n",
    "\n",
    "변수 = int(문자)"
   ]
  },
  {
   "cell_type": "code",
   "execution_count": 9,
   "id": "bff38951",
   "metadata": {},
   "outputs": [],
   "source": [
    "input1 = float(input1)"
   ]
  },
  {
   "cell_type": "code",
   "execution_count": 10,
   "id": "59b321bc",
   "metadata": {},
   "outputs": [
    {
     "name": "stdout",
     "output_type": "stream",
     "text": [
      "<class 'float'>\n"
     ]
    }
   ],
   "source": [
    "print(type(input1))"
   ]
  },
  {
   "cell_type": "markdown",
   "id": "f27735bb",
   "metadata": {},
   "source": [
    "# 숫자를 문자로 변환\n",
    "\n",
    "str(숫자)"
   ]
  },
  {
   "cell_type": "code",
   "execution_count": null,
   "id": "51a372e7",
   "metadata": {},
   "outputs": [],
   "source": [
    "num1=321"
   ]
  },
  {
   "cell_type": "code",
   "execution_count": null,
   "id": "34cb4188",
   "metadata": {},
   "outputs": [],
   "source": [
    "print(type(num1))"
   ]
  },
  {
   "cell_type": "code",
   "execution_count": null,
   "id": "d999dc9e",
   "metadata": {},
   "outputs": [],
   "source": [
    "num1=str(num1)"
   ]
  },
  {
   "cell_type": "code",
   "execution_count": null,
   "id": "5fa2da8a",
   "metadata": {},
   "outputs": [],
   "source": [
    "print(type(num1))"
   ]
  },
  {
   "cell_type": "markdown",
   "id": "ee760578",
   "metadata": {},
   "source": [
    "# 문제\n",
    "\n",
    "계산기 프로그램 만들기\n",
    "\n",
    "사용자한테 +, -, *, / 중 하나를 입력받는다.  \n",
    "만약에 입력받는 문자가 +면 숫자 2개를 더 입력받고 두 수의 합을 출력  \n",
    "만약에 입력받는 문자가 -면 숫자 2개를 더 입력받고 두 수의 차을 출력  \n",
    "만약에 입력받는 문자가 *면 숫자 2개를 더 입력받고 두 수의 곱을 출력  \n",
    "만약에 입력받는 문자가 /면 숫자 2개를 더 입력받고 두 수의 나누기 결과를 출력  "
   ]
  },
  {
   "cell_type": "code",
   "execution_count": 12,
   "id": "66aca9b4",
   "metadata": {},
   "outputs": [
    {
     "name": "stdout",
     "output_type": "stream",
     "text": [
      "안냐세염. 계산깁니더. ^^7\n",
      "         \n",
      "+,-,*,/ 중 계산할 연산자 하나를 입력하세요\n",
      "-\n",
      "연산할 두 숫자를 차례로 입력하세요\n",
      "10\n",
      "빼기\n",
      "9\n",
      "는\n",
      "1\n",
      "입니다\n"
     ]
    }
   ],
   "source": [
    "print('안냐세염. 계산깁니더. ^^7')\n",
    "print('         ')\n",
    "print(\"+,-,*,/ 중 계산할 연산자 하나를 입력하세요\")\n",
    "user = input()\n",
    "print('연산할 두 숫자를 차례로 입력하세요')\n",
    "if user == '+' :\n",
    "    a = int(input())\n",
    "    print('더하기')\n",
    "    b = int(input())\n",
    "    print('는')\n",
    "    print(a+b)\n",
    "    print('입니다')\n",
    "if user == '-' :\n",
    "    a = int(input())\n",
    "    print('빼기')\n",
    "    b = int(input())\n",
    "    print('는')\n",
    "    print(a-b)\n",
    "    print('입니다')\n",
    "if user == '*' :\n",
    "    a = int(input())\n",
    "    print('곱하기')\n",
    "    b = int(input())\n",
    "    print('는')\n",
    "    print(a*b)\n",
    "    print('입니다')\n",
    "if user == '/' :\n",
    "    a = int(input())\n",
    "    print('나누기')\n",
    "    b = int(input())\n",
    "    print('는')\n",
    "    print(a/b)\n",
    "    print('입니다')"
   ]
  }
 ],
 "metadata": {
  "kernelspec": {
   "display_name": "Python 3",
   "language": "python",
   "name": "python3"
  },
  "language_info": {
   "codemirror_mode": {
    "name": "ipython",
    "version": 3
   },
   "file_extension": ".py",
   "mimetype": "text/x-python",
   "name": "python",
   "nbconvert_exporter": "python",
   "pygments_lexer": "ipython3",
   "version": "3.8.8"
  }
 },
 "nbformat": 4,
 "nbformat_minor": 5
}
