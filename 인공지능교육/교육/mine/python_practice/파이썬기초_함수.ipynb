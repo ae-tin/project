{
 "cells": [
  {
   "cell_type": "markdown",
   "id": "007c17b6",
   "metadata": {},
   "source": [
    "# 함수\n",
    "\n",
    "뭔가의 기능을 구현하고 그 기능을 함수로 만들어 놓으면 원할 때 언제든지 가져와서 사용할 수 있다.  \n",
    "1. 함수를 만들 때  \n",
    "def 함수명(매개변수1, 매개변수2...) :  \n",
    "    함수에서 수행할 코드 return 반환값  \n",
    "   \n",
    "   return과 매개변수는 없어도 가능"
   ]
  },
  {
   "cell_type": "code",
   "execution_count": 8,
   "id": "8e08cdce",
   "metadata": {},
   "outputs": [],
   "source": [
    "def func_sum(num1, num2) :  # 값 2개를 매개변수로 전달받고\n",
    "    result = num1 + num2    # 두 값의 합을 result에 저장해서\n",
    "    return result           # result를 반환하는 함수"
   ]
  },
  {
   "cell_type": "markdown",
   "id": "94804368",
   "metadata": {},
   "source": [
    "2. 함수를 사용할 때\n",
    "  \n",
    "  함수이름(매개값1, 매개값2,,)"
   ]
  },
  {
   "cell_type": "code",
   "execution_count": 9,
   "id": "d9eded5a",
   "metadata": {},
   "outputs": [
    {
     "data": {
      "text/plain": [
       "6"
      ]
     },
     "execution_count": 9,
     "metadata": {},
     "output_type": "execute_result"
    }
   ],
   "source": [
    "func_sum(1,5)"
   ]
  },
  {
   "cell_type": "code",
   "execution_count": 10,
   "id": "82182b30",
   "metadata": {},
   "outputs": [
    {
     "data": {
      "text/plain": [
       "'go'"
      ]
     },
     "execution_count": 10,
     "metadata": {},
     "output_type": "execute_result"
    }
   ],
   "source": [
    "func_sum('g','o')"
   ]
  },
  {
   "cell_type": "code",
   "execution_count": 11,
   "id": "18f01bd9",
   "metadata": {},
   "outputs": [],
   "source": [
    "def triple(num1, num2, num3) :\n",
    "    result = num1 +num2 + num3\n",
    "    return result"
   ]
  },
  {
   "cell_type": "code",
   "execution_count": 12,
   "id": "53a3041e",
   "metadata": {},
   "outputs": [
    {
     "data": {
      "text/plain": [
       "6"
      ]
     },
     "execution_count": 12,
     "metadata": {},
     "output_type": "execute_result"
    }
   ],
   "source": [
    "triple(1,2,3)"
   ]
  },
  {
   "cell_type": "code",
   "execution_count": 13,
   "id": "629b0301",
   "metadata": {},
   "outputs": [
    {
     "data": {
      "text/plain": [
       "'123'"
      ]
     },
     "execution_count": 13,
     "metadata": {},
     "output_type": "execute_result"
    }
   ],
   "source": [
    "triple('1','2','3')"
   ]
  },
  {
   "cell_type": "markdown",
   "id": "fcf70466",
   "metadata": {},
   "source": [
    "### 문제\n",
    "뺄셈, 곱셈, 나눗셈 만들고 사용하세요."
   ]
  },
  {
   "cell_type": "code",
   "execution_count": 14,
   "id": "d3f2c10e",
   "metadata": {},
   "outputs": [],
   "source": [
    "def minus(num1, num2) :\n",
    "    result = num1-num2\n",
    "    return result"
   ]
  },
  {
   "cell_type": "code",
   "execution_count": 15,
   "id": "0558de02",
   "metadata": {},
   "outputs": [],
   "source": [
    "def multiply(num1, num2) :\n",
    "    result = num1*num2\n",
    "    return result"
   ]
  },
  {
   "cell_type": "code",
   "execution_count": 16,
   "id": "36602b32",
   "metadata": {},
   "outputs": [],
   "source": [
    "def divide(num1, num2) :\n",
    "    result = num1/num2\n",
    "    return result"
   ]
  },
  {
   "cell_type": "code",
   "execution_count": 17,
   "id": "056ce399",
   "metadata": {},
   "outputs": [
    {
     "name": "stdout",
     "output_type": "stream",
     "text": [
      "90\n",
      "1000\n",
      "10.0\n"
     ]
    }
   ],
   "source": [
    "print(minus(100,10))\n",
    "print(multiply(100,10))\n",
    "print(divide(100,10))"
   ]
  },
  {
   "cell_type": "code",
   "execution_count": 20,
   "id": "aef42a80",
   "metadata": {},
   "outputs": [
    {
     "name": "stdout",
     "output_type": "stream",
     "text": [
      "8\n",
      "dd\n",
      "5.0\n"
     ]
    }
   ],
   "source": [
    "print(minus(10,2))\n",
    "print(multiply('d',2))\n",
    "print(divide(10,2))"
   ]
  },
  {
   "cell_type": "markdown",
   "id": "ef8e8455",
   "metadata": {},
   "source": [
    "## 문제\n",
    "숫자 2개와 문자 하나를 전달받는 함수  \n",
    "만약에 전달받은 문자가 +이면 result에 전달받은 두수의 합을 저장하고  \n",
    "그렇지 않고 만약에 문자가 -이면 result에 전달받은 두수의 차를 저장하고  \n",
    "*이면 곱하기  \n",
    "/이면 나누기를  \n",
    " 반환하는 함수"
   ]
  },
  {
   "cell_type": "code",
   "execution_count": 22,
   "id": "041021f7",
   "metadata": {},
   "outputs": [],
   "source": [
    "def calculate(n1, n2, str1) :\n",
    "    if str1 == '+' :\n",
    "        result = n1 + n2\n",
    "    elif str1 == '-' :\n",
    "        result = n1 - n2\n",
    "    elif str1 == '*' :\n",
    "        result = n1 * n2\n",
    "    elif str1 == '/' :\n",
    "        result = n1 / n2\n",
    "    return result"
   ]
  },
  {
   "cell_type": "code",
   "execution_count": 23,
   "id": "4ec2b13f",
   "metadata": {},
   "outputs": [
    {
     "data": {
      "text/plain": [
       "48"
      ]
     },
     "execution_count": 23,
     "metadata": {},
     "output_type": "execute_result"
    }
   ],
   "source": [
    "calculate(50,2,'-')"
   ]
  },
  {
   "cell_type": "markdown",
   "id": "26e8d47e",
   "metadata": {},
   "source": [
    "## 전역 변수와 지역 변수\n",
    "\n",
    "전역 변수 : 프로그램 내에서 어디에서든지 사용할 수 있는 변수  \n",
    "  \n",
    "  지역 변수 : 변수가 만들어진 블록 내에서만 사용 가능한 변수"
   ]
  },
  {
   "cell_type": "code",
   "execution_count": 26,
   "id": "687fd2c8",
   "metadata": {},
   "outputs": [
    {
     "name": "stdout",
     "output_type": "stream",
     "text": [
      "10\n"
     ]
    }
   ],
   "source": [
    "def test():\n",
    "    result = 0       # 지역 변수\n",
    "    return result\n",
    "result = 10          # 전역 변수\n",
    "\n",
    "test()\n",
    "\n",
    "print(result)          # 전역 변수"
   ]
  },
  {
   "cell_type": "markdown",
   "id": "0f03c11a",
   "metadata": {},
   "source": [
    "def 안에 있는 0을 넣은result(1)와 함수 밖의 10을 넣은 result(2)는 다른 변수이다.  \n",
    "(1)은 지역 변수이고  (함수 안에서만 사용가능하다)  \n",
    "(2)는 전역 변수이다. (어디서든 사용가능하다)  \n",
    "그러나 전역 변수를 함수 내에서 쓰고 싶으면 global을 변수 앞에 넣어준다.  \n",
    "그러면 지역 변수가 아니라 전역 변수로 사용가능하다."
   ]
  },
  {
   "cell_type": "code",
   "execution_count": 27,
   "id": "0258a9fd",
   "metadata": {},
   "outputs": [
    {
     "name": "stdout",
     "output_type": "stream",
     "text": [
      "0\n"
     ]
    }
   ],
   "source": [
    "\n",
    "def global_test():\n",
    "    global result          # global을 붙이면 전역 변수가 된다.\n",
    "    result = 0\n",
    "    return result\n",
    "\n",
    "result = 10                  # 전역 변수\n",
    "\n",
    "global_test()\n",
    "\n",
    "print(result)                # 전역 변수"
   ]
  },
  {
   "cell_type": "code",
   "execution_count": null,
   "id": "caf0f648",
   "metadata": {},
   "outputs": [],
   "source": [
    "def fun1()\n",
    "    print(str(a))\n",
    "def fun2()\n",
    "    print(str(a))\n",
    "\n",
    "a = 20\n",
    "\n",
    "fun1()\n",
    "fun2()"
   ]
  },
  {
   "cell_type": "markdown",
   "id": "0222d1b1",
   "metadata": {},
   "source": [
    "출력 결과가 어떻게 될까?"
   ]
  },
  {
   "cell_type": "code",
   "execution_count": 30,
   "id": "05db221a",
   "metadata": {},
   "outputs": [
    {
     "name": "stdout",
     "output_type": "stream",
     "text": [
      "20\n",
      "20\n"
     ]
    }
   ],
   "source": [
    "def fun1() :\n",
    "    print(str(a))   \n",
    "def fun2() :\n",
    "    print(str(a))\n",
    "\n",
    "a = 20\n",
    "\n",
    "fun1()\n",
    "fun2()"
   ]
  },
  {
   "cell_type": "markdown",
   "id": "f8023fbc",
   "metadata": {},
   "source": [
    "a라는 변수를 사용할 때 같은 지역에서 변수를 찾지만 fun1,2() 함수 내에  \n",
    "a라는 변수가 없기 때문에 전역 변수 a를 갖고 오는 것"
   ]
  },
  {
   "cell_type": "code",
   "execution_count": 31,
   "id": "4194a0a9",
   "metadata": {},
   "outputs": [
    {
     "name": "stdout",
     "output_type": "stream",
     "text": [
      "20\n",
      "10\n"
     ]
    }
   ],
   "source": [
    "def fun1() :\n",
    "    print(str(a))   \n",
    "def fun2() :\n",
    "    a = 10\n",
    "    print(str(a))\n",
    "\n",
    "a = 20\n",
    "\n",
    "fun1()\n",
    "fun2()"
   ]
  },
  {
   "cell_type": "markdown",
   "id": "691fd9db",
   "metadata": {},
   "source": [
    "fun1()은 a라는 변수를 찾을 때 지역 내에 a가 없기 때문에 전역 변수 a를 갖고옴  \n",
    "fun2()는 a라는 변수를 찾을 때 지역 내에 a가 존재하기 때문에 지역 변수 a를 갖고옴"
   ]
  },
  {
   "cell_type": "code",
   "execution_count": 32,
   "id": "7380a77d",
   "metadata": {},
   "outputs": [
    {
     "name": "stdout",
     "output_type": "stream",
     "text": [
      "30\n",
      "10\n",
      "30\n"
     ]
    }
   ],
   "source": [
    "def fun1() :\n",
    "    global a\n",
    "    a = 30\n",
    "    print(str(a))   \n",
    "def fun2() :\n",
    "    a = 10\n",
    "    print(str(a))\n",
    "\n",
    "a = 20\n",
    "\n",
    "fun1()\n",
    "fun2()\n",
    "print(a)"
   ]
  },
  {
   "cell_type": "markdown",
   "id": "3de2c143",
   "metadata": {},
   "source": [
    "## 함수의 매개변수 전달\n",
    "\n",
    "함수를 호출할 때 매개변수의 갯수를 따로 지정하지 않고 함수를 사용하는 방식에 따라서 결정되게 할 때는 매개변수 앞에 *를 붙여준다.  \n",
    "입력된 매개변수들은 리스트 취급!!"
   ]
  },
  {
   "cell_type": "code",
   "execution_count": 33,
   "id": "33d3a292",
   "metadata": {},
   "outputs": [],
   "source": [
    "def para_func(*para):\n",
    "    print(\"para의 길이는 \" + str(len(para)))\n",
    "    print(para)\n"
   ]
  },
  {
   "cell_type": "code",
   "execution_count": 34,
   "id": "ee471dc5",
   "metadata": {},
   "outputs": [
    {
     "name": "stdout",
     "output_type": "stream",
     "text": [
      "para의 길이는 4\n",
      "(10, 20, 30, 40)\n"
     ]
    }
   ],
   "source": [
    "\n",
    "para_func(10, 20, 30, 40)"
   ]
  },
  {
   "cell_type": "code",
   "execution_count": 35,
   "id": "b6e740b0",
   "metadata": {},
   "outputs": [
    {
     "data": {
      "text/plain": [
       "60"
      ]
     },
     "execution_count": 35,
     "metadata": {},
     "output_type": "execute_result"
    }
   ],
   "source": [
    "def func_sum(*num):\n",
    "    total=0\n",
    "    for i in num:\n",
    "        total = total + i\n",
    "    return total\n",
    "\n",
    "func_sum(10, 20, 30)"
   ]
  },
  {
   "cell_type": "markdown",
   "id": "3680c110",
   "metadata": {},
   "source": [
    "## 문제 \n",
    "\n",
    "숫자를 여러 개 입력 받고 입력받은 숫자 중에서 가장 큰 수를 출력하는 기능"
   ]
  },
  {
   "cell_type": "code",
   "execution_count": 60,
   "id": "95612a0c",
   "metadata": {},
   "outputs": [],
   "source": [
    "def maximum(*n) :\n",
    "    result = n[0]\n",
    "    for i in range(0,len(n),1) :\n",
    "        for j in range(0,len(n),1) :\n",
    "            if i<j :\n",
    "                if n[i]>= n[j] and result <= n[i] :\n",
    "                    result = n[i]\n",
    "            else :\n",
    "                continue\n",
    "    return result"
   ]
  },
  {
   "cell_type": "markdown",
   "id": "0864e541",
   "metadata": {},
   "source": [
    "휴 어려웠따"
   ]
  },
  {
   "cell_type": "code",
   "execution_count": 62,
   "id": "40bfee6b",
   "metadata": {},
   "outputs": [
    {
     "data": {
      "text/plain": [
       "-3"
      ]
     },
     "execution_count": 62,
     "metadata": {},
     "output_type": "execute_result"
    }
   ],
   "source": [
    "maximum(-7,-3,-4,-5)"
   ]
  },
  {
   "cell_type": "markdown",
   "id": "913fa6ff",
   "metadata": {},
   "source": [
    "### 사고흐름\n",
    "입력 받은 숫자들이 리스트로 저장된다.  \n",
    "젤 큰 숫자는 결과로 저장해야지  \n",
    "숫자들을 하나씩 비교하는데 한번 비교한 숫자는 다시 비교하면 안됨  \n",
    "for문을 쓰면 중복해서 비교해야되는데,,?  \n",
    "다시 비교 안하려면 조건문으로 피해가야겠다  \n",
    "리스트라고 했으니 n번째 숫자라는 인덱스가 있네  \n",
    "for문 두번 해서 i < j 이고 결과보다 큰 숫자면 결과에 저장해야지  \n",
    "다른 경우는 필요없으니 다시 continue로 지나가면됨  "
   ]
  },
  {
   "cell_type": "markdown",
   "id": "67b6a6b6",
   "metadata": {},
   "source": [
    "### 풀이"
   ]
  },
  {
   "cell_type": "code",
   "execution_count": 63,
   "id": "8ade4b45",
   "metadata": {},
   "outputs": [],
   "source": [
    "def maximize(*num) :\n",
    "    max = num[0]\n",
    "    for i in num :\n",
    "        if i>max :\n",
    "            max = i\n",
    "    print(max)"
   ]
  },
  {
   "cell_type": "code",
   "execution_count": 64,
   "id": "b88e5bde",
   "metadata": {},
   "outputs": [
    {
     "name": "stdout",
     "output_type": "stream",
     "text": [
      "92\n"
     ]
    }
   ],
   "source": [
    "maximize(1,23,46,81,27,36,48,61,36,49,12,63,59,92,34)"
   ]
  },
  {
   "cell_type": "markdown",
   "id": "acf4b2e3",
   "metadata": {},
   "source": [
    "역시 센세,,,"
   ]
  },
  {
   "cell_type": "markdown",
   "id": "9f88d302",
   "metadata": {},
   "source": [
    "## 문제\n",
    "\n",
    "num1 = 10  \n",
    "num2 = 20  \n",
    "  \n",
    "  두 변수의 수를 바꾸는 기능"
   ]
  },
  {
   "cell_type": "code",
   "execution_count": 97,
   "id": "4f9ae523",
   "metadata": {},
   "outputs": [],
   "source": [
    "def swap1(a,b) :\n",
    "    global n1\n",
    "    global n2\n",
    "    n1 = b\n",
    "    n2 = a"
   ]
  },
  {
   "cell_type": "markdown",
   "id": "ec7ef587",
   "metadata": {},
   "source": [
    "전역변수가 매개변수가 될 수가 없네"
   ]
  },
  {
   "cell_type": "code",
   "execution_count": 102,
   "id": "1cf7dbc3",
   "metadata": {},
   "outputs": [],
   "source": [
    "n1 = 10\n",
    "n2 = 20\n",
    "\n"
   ]
  },
  {
   "cell_type": "code",
   "execution_count": 103,
   "id": "7c57b48a",
   "metadata": {},
   "outputs": [
    {
     "name": "stdout",
     "output_type": "stream",
     "text": [
      "20\n",
      "10\n"
     ]
    }
   ],
   "source": [
    "swap1(n1,n2)\n",
    "print(n1)\n",
    "print(n2)"
   ]
  },
  {
   "cell_type": "markdown",
   "id": "1b82774e",
   "metadata": {},
   "source": [
    "## 문제\n",
    "\n",
    "문자열과 숫자를 하나씩 입력 받고 입력된 문자열을 입력된 숫자만큼 잘라서 출력하는 프로그램  \n",
    "  \n",
    "  예를 들어서 ('안녕하세요. 감사해요. 잘있어요.',3)  \n",
    "  안녕하  \n",
    "  세요.  \n",
    "   감사  \n",
    "  해요.  \n",
    "  ... 이렇게"
   ]
  },
  {
   "cell_type": "code",
   "execution_count": 138,
   "id": "3d278a40",
   "metadata": {},
   "outputs": [],
   "source": [
    "def cut(a,b) :\n",
    "    c = len(a)//3\n",
    "    f = len(a)% 3\n",
    "    d = str(a[0:b])\n",
    "    print(d)\n",
    "    for i in range(1,c,1) :\n",
    "        print(a[i*b : (i+1)*b])\n",
    "    print(a[-f:])\n",
    "    return d"
   ]
  },
  {
   "cell_type": "code",
   "execution_count": 139,
   "id": "e1476e6b",
   "metadata": {},
   "outputs": [],
   "source": [
    "a = '12345678901234567890'"
   ]
  },
  {
   "cell_type": "code",
   "execution_count": 141,
   "id": "654ebbb1",
   "metadata": {},
   "outputs": [
    {
     "name": "stdout",
     "output_type": "stream",
     "text": [
      "123\n",
      "456\n",
      "789\n",
      "012\n",
      "345\n",
      "678\n",
      "90\n"
     ]
    },
    {
     "data": {
      "text/plain": [
       "'123'"
      ]
     },
     "execution_count": 141,
     "metadata": {},
     "output_type": "execute_result"
    }
   ],
   "source": [
    "cut(a,3)"
   ]
  },
  {
   "cell_type": "markdown",
   "id": "baabb811",
   "metadata": {},
   "source": [
    "### 센세 풀이"
   ]
  },
  {
   "cell_type": "code",
   "execution_count": 142,
   "id": "93aff51d",
   "metadata": {},
   "outputs": [],
   "source": [
    "def str_split(str1, num1) :\n",
    "    for i in range(0,len(str1),num1) :\n",
    "        print(str1[i :i+num1])"
   ]
  },
  {
   "cell_type": "code",
   "execution_count": 143,
   "id": "d1699568",
   "metadata": {},
   "outputs": [
    {
     "name": "stdout",
     "output_type": "stream",
     "text": [
      "1234\n",
      "5678\n",
      "9012\n",
      "3456\n",
      "7890\n"
     ]
    }
   ],
   "source": [
    "str_split(a,4)"
   ]
  },
  {
   "cell_type": "markdown",
   "id": "99ead6b2",
   "metadata": {},
   "source": [
    "## 문제\n",
    "아래 코드를 활용해서 BTC, XRP, ETH, LTC, ICX, EOS 중 하나를 입력하면 해당코인의 가격을 출력하는 기능을 만들고 사용해보세요"
   ]
  },
  {
   "cell_type": "code",
   "execution_count": 147,
   "id": "b15c0c0c",
   "metadata": {},
   "outputs": [
    {
     "name": "stdout",
     "output_type": "stream",
     "text": [
      "43208000원\n"
     ]
    }
   ],
   "source": [
    "import requests\n",
    "response = requests.get(\"https://api.bithumb.com/public/ticker/BTC\").json()\n",
    "print(response['data']['closing_price']+\"원\")"
   ]
  },
  {
   "cell_type": "code",
   "execution_count": 145,
   "id": "99147a5c",
   "metadata": {},
   "outputs": [
    {
     "data": {
      "text/plain": [
       "{'status': '0000',\n",
       " 'data': {'opening_price': '44637000',\n",
       "  'closing_price': '43204000',\n",
       "  'min_price': '42011000',\n",
       "  'max_price': '46866000',\n",
       "  'units_traded': '4271.12076764',\n",
       "  'acc_trade_value': '187894705821.6478',\n",
       "  'prev_closing_price': '44635000',\n",
       "  'units_traded_24H': '5507.04012031',\n",
       "  'acc_trade_value_24H': '242915669677.5123',\n",
       "  'fluctate_24H': '-1139000',\n",
       "  'fluctate_rate_24H': '-2.57',\n",
       "  'date': '1627374726188'}}"
      ]
     },
     "execution_count": 145,
     "metadata": {},
     "output_type": "execute_result"
    }
   ],
   "source": [
    "response"
   ]
  },
  {
   "cell_type": "code",
   "execution_count": 150,
   "id": "c3b3bbaa",
   "metadata": {},
   "outputs": [],
   "source": [
    "def coin(c) :\n",
    "    url = 'https://api.bithumb.com/public/ticker/'\n",
    "    url1 = url + str(c)\n",
    "    import requests\n",
    "    response = requests.get(url1).json()\n",
    "    print(response['data']['closing_price']+\"원\")\n",
    "    "
   ]
  },
  {
   "cell_type": "code",
   "execution_count": 154,
   "id": "58b9c087",
   "metadata": {},
   "outputs": [
    {
     "name": "stdout",
     "output_type": "stream",
     "text": [
      "2559000원\n"
     ]
    }
   ],
   "source": [
    "coin('ETH')"
   ]
  },
  {
   "cell_type": "markdown",
   "id": "0276cfd1",
   "metadata": {},
   "source": [
    "## 문제\n",
    "\n",
    "str_func 기능을 만든다  \n",
    "'왼쪽에서', '오른쪽에서', '위에서', '아래에서' 중 하나를 전달받는다.  \n",
    "왼쪽에서 >> 안녕하세요.  \n",
    "오른쪽에서 >> 요세하녕안.  \n",
    "위에서  \n",
    "안  \n",
    "녕  \n",
    "하  \n",
    "세  \n",
    "요  \n",
    "  \n",
    "  아래에서    \n",
    "요  \n",
    "세  \n",
    "하  \n",
    "녕  \n",
    "안  "
   ]
  },
  {
   "cell_type": "code",
   "execution_count": 167,
   "id": "26cd38a4",
   "metadata": {},
   "outputs": [
    {
     "ename": "SyntaxError",
     "evalue": "invalid syntax (<ipython-input-167-01fdb3f52f37>, line 9)",
     "output_type": "error",
     "traceback": [
      "\u001b[1;36m  File \u001b[1;32m\"<ipython-input-167-01fdb3f52f37>\"\u001b[1;36m, line \u001b[1;32m9\u001b[0m\n\u001b[1;33m    if str1 == '위에서' :\u001b[0m\n\u001b[1;37m                     ^\u001b[0m\n\u001b[1;31mSyntaxError\u001b[0m\u001b[1;31m:\u001b[0m invalid syntax\n"
     ]
    }
   ],
   "source": [
    "def str_func(str1) :\n",
    "    a = '안녕하세요'\n",
    "    b = ''\n",
    "    c = ''\n",
    "    if str1 == '왼쪽에서' :\n",
    "        print(a)\n",
    "    if str1 == '오른쪽에서' :\n",
    "        print(str(a[-1])+str(a[-2]+str(a[-3])+str(a[-4])+str(a[-5]))\n",
    "    if str1 == '위에서' :\n",
    "        b = str(a[0])+'\\n'+str(a[1]+'\\n'+str(a[2])+'\\n'+str(a[3])+'\\n'+str(a[4])\n",
    "        print(b)\n",
    "    if str1 == '아래에서' :\n",
    "        c = str(a[-1])+'\\n'+str(a[-2]+'\\n'+str(a[-3])+'\\n'+str(a[-4])+'\\n'+str(a[-5])\n",
    "        print(c)\n",
    "    "
   ]
  },
  {
   "cell_type": "code",
   "execution_count": 156,
   "id": "94dae7b2",
   "metadata": {},
   "outputs": [
    {
     "name": "stdout",
     "output_type": "stream",
     "text": [
      "안\n",
      "녕\n"
     ]
    }
   ],
   "source": [
    "d = '안\\n녕'\n",
    "print(d)"
   ]
  },
  {
   "cell_type": "code",
   "execution_count": 157,
   "id": "6f20fa6c",
   "metadata": {},
   "outputs": [
    {
     "name": "stdout",
     "output_type": "stream",
     "text": [
      "안\n",
      "녕\n",
      "하\n"
     ]
    }
   ],
   "source": [
    "d = d + '\\n하'\n",
    "print(d)"
   ]
  },
  {
   "cell_type": "markdown",
   "id": "618ff1ce",
   "metadata": {},
   "source": [
    "갈수록 시간 내에 못푸는 문제가 많아지는것 같다...."
   ]
  },
  {
   "cell_type": "code",
   "execution_count": 168,
   "id": "85531ed2",
   "metadata": {},
   "outputs": [],
   "source": [
    "def str_func(str1) :\n",
    "    a = '안녕하세요'\n",
    "    b = ''\n",
    "    if str1 == '왼쪽에서' :\n",
    "        print(a)\n",
    "    elif str1 == '오른쪽에서' :\n",
    "        for i in range(len(a)-1,-1,-1) :\n",
    "            b = b + a[i]\n",
    "    elif str1 == '위에서' :\n",
    "        for i in range(0,len(a),1) :\n",
    "            print(a[i])\n",
    "    elif str1 == '아래에서' :\n",
    "        for i in range(len(a)-1,-1,-1) :\n",
    "            print(a[i])\n"
   ]
  },
  {
   "cell_type": "code",
   "execution_count": 169,
   "id": "c1dde91e",
   "metadata": {},
   "outputs": [
    {
     "name": "stdout",
     "output_type": "stream",
     "text": [
      "요\n",
      "세\n",
      "하\n",
      "녕\n",
      "안\n"
     ]
    }
   ],
   "source": [
    "str_func('아래에서')"
   ]
  },
  {
   "cell_type": "code",
   "execution_count": null,
   "id": "9e1b3381",
   "metadata": {},
   "outputs": [],
   "source": []
  }
 ],
 "metadata": {
  "kernelspec": {
   "display_name": "Python 3",
   "language": "python",
   "name": "python3"
  },
  "language_info": {
   "codemirror_mode": {
    "name": "ipython",
    "version": 3
   },
   "file_extension": ".py",
   "mimetype": "text/x-python",
   "name": "python",
   "nbconvert_exporter": "python",
   "pygments_lexer": "ipython3",
   "version": "3.8.8"
  }
 },
 "nbformat": 4,
 "nbformat_minor": 5
}
