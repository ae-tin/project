{
 "cells": [
  {
   "cell_type": "markdown",
   "id": "a84a6898",
   "metadata": {},
   "source": [
    "# 딕셔너리\n",
    "  \n",
    "  키와 값이 하나로 묶인 자료구조 ex) apple : 사과 처럼 의미 있는 두 값을 연결해 구성,   중괄호 {}로 묶어 구성, 키(key)와 값(value)의 쌍으로 구성  \n",
    "  딕셔너리 변수이름 = {'key' : '값', ,,,,,}  \n",
    "  단, 키는 중복되면 안된다. 값은 중복이 돼도 상관없고 값에는 문자열, 숫자와 리스트나 딕셔너리가 올 수도 있다."
   ]
  },
  {
   "cell_type": "code",
   "execution_count": 1,
   "id": "060f00b4",
   "metadata": {},
   "outputs": [],
   "source": [
    "dic1 = {'키1':'값1', '키2':'값2','키3':'값3'}"
   ]
  },
  {
   "cell_type": "code",
   "execution_count": 2,
   "id": "b48a96e7",
   "metadata": {},
   "outputs": [
    {
     "name": "stdout",
     "output_type": "stream",
     "text": [
      "{'키1': '값1', '키2': '값2', '키3': '값3'}\n"
     ]
    }
   ],
   "source": [
    "print(dic1)"
   ]
  },
  {
   "cell_type": "markdown",
   "id": "fc44cede",
   "metadata": {},
   "source": [
    "# 문제\n",
    "  \n",
    "  과일의 이름(키)와 가격(값)으로 한 fruits 라는 딕셔너리를 생성  \n",
    "  \n",
    "  과일의 이름 : apple, kiwi, banana  \n",
    "  과일의 가격 : 1000, 1500, 2000"
   ]
  },
  {
   "cell_type": "code",
   "execution_count": 3,
   "id": "ee1c6929",
   "metadata": {},
   "outputs": [],
   "source": [
    "fruits = {'apple' : '1000','kiwi' : ' 1500','banana' : '2000'}"
   ]
  },
  {
   "cell_type": "markdown",
   "id": "eb2345f1",
   "metadata": {},
   "source": [
    "## 딕셔너리에 키와 값 추가하기\n",
    "  \n",
    "  현재 딕셔너리에 없는 키와 값을 추가할 때는 다음과 같은 코드 실행  \n",
    "  딕셔너리변수이름['키'] = '값'"
   ]
  },
  {
   "cell_type": "code",
   "execution_count": 10,
   "id": "4f2865ab",
   "metadata": {},
   "outputs": [],
   "source": [
    "dic1[44] = 65"
   ]
  },
  {
   "cell_type": "code",
   "execution_count": 12,
   "id": "30621f4e",
   "metadata": {},
   "outputs": [
    {
     "name": "stdout",
     "output_type": "stream",
     "text": [
      "{'키1': '값1', '키2': '값2', '키3': '값3', '키4': '값4', 44: 65}\n"
     ]
    }
   ],
   "source": [
    "dic1['키4'] = '값4'\n",
    "print(dic1)"
   ]
  },
  {
   "cell_type": "markdown",
   "id": "04361731",
   "metadata": {},
   "source": [
    "## 문제\n",
    "  \n",
    "  fruits 딕셔너리에 다음을 추가하세요.  \n",
    "  과일의 이름 : melon, 과일의 가격 : 5000"
   ]
  },
  {
   "cell_type": "code",
   "execution_count": 6,
   "id": "16decdf7",
   "metadata": {},
   "outputs": [
    {
     "name": "stdout",
     "output_type": "stream",
     "text": [
      "{'apple': '1000', 'kiwi': ' 1500', 'banana': '2000', 'melon': '5000'}\n"
     ]
    }
   ],
   "source": [
    "fruits['melon'] = '5000'\n",
    "print(fruits)"
   ]
  },
  {
   "cell_type": "markdown",
   "id": "95e15302",
   "metadata": {},
   "source": [
    "## 딕셔너리의 특정 값에 접근하기\n",
    "  \n",
    "  딕셔너리에 있는 특정 값에 접근하기 위해서는 다음과 같이 키를 이용한다.  \n",
    "  딕셔너리변수이름['키]  \n",
    "  또는  \n",
    "  딕셔너리변수이름.get('키)"
   ]
  },
  {
   "cell_type": "code",
   "execution_count": 7,
   "id": "dc17ce58",
   "metadata": {},
   "outputs": [
    {
     "name": "stdout",
     "output_type": "stream",
     "text": [
      "값4\n"
     ]
    }
   ],
   "source": [
    "print(dic1['키4'])"
   ]
  },
  {
   "cell_type": "code",
   "execution_count": 8,
   "id": "fed90654",
   "metadata": {},
   "outputs": [
    {
     "name": "stdout",
     "output_type": "stream",
     "text": [
      "값4\n"
     ]
    }
   ],
   "source": [
    "print(dic1.get('키4'))"
   ]
  },
  {
   "cell_type": "markdown",
   "id": "4804b929",
   "metadata": {},
   "source": [
    "## 문제 \n",
    "  \n",
    "  fruits 딕셔너리에 banana의 가격을 출력하세요."
   ]
  },
  {
   "cell_type": "code",
   "execution_count": 13,
   "id": "845a2606",
   "metadata": {},
   "outputs": [
    {
     "name": "stdout",
     "output_type": "stream",
     "text": [
      "2000\n"
     ]
    }
   ],
   "source": [
    "print(fruits['banana'])"
   ]
  },
  {
   "cell_type": "code",
   "execution_count": 14,
   "id": "e9f7d565",
   "metadata": {},
   "outputs": [
    {
     "name": "stdout",
     "output_type": "stream",
     "text": [
      "2000\n"
     ]
    }
   ],
   "source": [
    "print(fruits.get('banana'))"
   ]
  },
  {
   "cell_type": "markdown",
   "id": "f60dff5d",
   "metadata": {},
   "source": [
    "## 딕셔너리에 값 수정하기\n",
    "  \n",
    "  딕셔너리에 있는 특정 값을 수정하기 위해서는 딕셔너리에 존재하는 키를 입력하고 해당하는 키에 값을 저장하면 된다.  \n",
    "  \n",
    "  딕셔너리변수이름[기존키] = 바꿀 값"
   ]
  },
  {
   "cell_type": "code",
   "execution_count": 15,
   "id": "8aeb4787",
   "metadata": {},
   "outputs": [
    {
     "name": "stdout",
     "output_type": "stream",
     "text": [
      "값~~?\n"
     ]
    }
   ],
   "source": [
    "dic1['키4'] = '값~~?'\n",
    "print(dic1['키4'])"
   ]
  },
  {
   "cell_type": "code",
   "execution_count": 16,
   "id": "a04f8a3a",
   "metadata": {},
   "outputs": [
    {
     "name": "stdout",
     "output_type": "stream",
     "text": [
      "{'키1': '값1', '키2': '값2', '키3': '값3', '키4': '값~~?', 44: 65}\n"
     ]
    }
   ],
   "source": [
    "print(dic1)"
   ]
  },
  {
   "cell_type": "markdown",
   "id": "179d388c",
   "metadata": {},
   "source": [
    "## 문제\n",
    "  \n",
    "  fruits 딕셔너리에서 apple의 가격을 3000으로 변경\n"
   ]
  },
  {
   "cell_type": "code",
   "execution_count": 17,
   "id": "61cd0e05",
   "metadata": {},
   "outputs": [],
   "source": [
    "fruits['apple'] = 3000"
   ]
  },
  {
   "cell_type": "code",
   "execution_count": 18,
   "id": "aeaa8882",
   "metadata": {},
   "outputs": [
    {
     "name": "stdout",
     "output_type": "stream",
     "text": [
      "{'apple': 3000, 'kiwi': ' 1500', 'banana': '2000', 'melon': '5000'}\n"
     ]
    }
   ],
   "source": [
    "print(fruits)"
   ]
  },
  {
   "cell_type": "markdown",
   "id": "c1b7f610",
   "metadata": {},
   "source": [
    "## 딕셔너리에 키와 값 삭제하기\n",
    "  \n",
    "  딕셔너리에 있는 특정 값을 삭제하기 위해서는 pop 또는 del()을 사용  \n",
    "  딕셔너리변수이름.pop(키)  >>  딕셔너리에서 키값이 pop돼서 밖으로 뛰쳐나온 느낌?  \n",
    "  del(딕셔너리변수이름[])"
   ]
  },
  {
   "cell_type": "code",
   "execution_count": 23,
   "id": "c2661505",
   "metadata": {},
   "outputs": [
    {
     "name": "stdout",
     "output_type": "stream",
     "text": [
      "{'키1': '값1', '키2': '값2', '키3': '값3', 44: 65}\n"
     ]
    }
   ],
   "source": [
    "print(dic1)"
   ]
  },
  {
   "cell_type": "code",
   "execution_count": 25,
   "id": "31d59b36",
   "metadata": {},
   "outputs": [
    {
     "data": {
      "text/plain": [
       "'값4'"
      ]
     },
     "execution_count": 25,
     "metadata": {},
     "output_type": "execute_result"
    }
   ],
   "source": [
    "dic1['키4'] = '값4'\n",
    "dic1.pop('키4')"
   ]
  },
  {
   "cell_type": "code",
   "execution_count": 26,
   "id": "0281b7d3",
   "metadata": {},
   "outputs": [
    {
     "name": "stdout",
     "output_type": "stream",
     "text": [
      "{'키1': '값1', '키2': '값2', '키3': '값3', 44: 65}\n"
     ]
    }
   ],
   "source": [
    "print(dic1)"
   ]
  },
  {
   "cell_type": "markdown",
   "id": "967df91d",
   "metadata": {},
   "source": [
    "## 문제\n",
    "  \n",
    "  fruits 딕셔너리에서 apple과 melon을 삭제하세요.\n",
    "  "
   ]
  },
  {
   "cell_type": "code",
   "execution_count": 27,
   "id": "4aa65182",
   "metadata": {},
   "outputs": [
    {
     "data": {
      "text/plain": [
       "3000"
      ]
     },
     "execution_count": 27,
     "metadata": {},
     "output_type": "execute_result"
    }
   ],
   "source": [
    "fruits.pop('apple')"
   ]
  },
  {
   "cell_type": "code",
   "execution_count": 29,
   "id": "4fdebade",
   "metadata": {},
   "outputs": [],
   "source": [
    "del(fruits['melon'])"
   ]
  },
  {
   "cell_type": "code",
   "execution_count": 30,
   "id": "fbb2f96b",
   "metadata": {},
   "outputs": [],
   "source": [
    "del(dic1[44])"
   ]
  },
  {
   "cell_type": "code",
   "execution_count": 31,
   "id": "e25816e4",
   "metadata": {},
   "outputs": [
    {
     "name": "stdout",
     "output_type": "stream",
     "text": [
      "{'kiwi': ' 1500', 'banana': '2000'}\n",
      "{'키1': '값1', '키2': '값2', '키3': '값3'}\n"
     ]
    }
   ],
   "source": [
    "print(fruits)\n",
    "print(dic1)"
   ]
  },
  {
   "cell_type": "markdown",
   "id": "50ee0925",
   "metadata": {},
   "source": [
    "## 딕셔너리 활용 - keys\n",
    "  \n",
    "  딕셔너리의 키만 접근  \n",
    "  딕셔너리변수이름.keys()"
   ]
  },
  {
   "cell_type": "code",
   "execution_count": 32,
   "id": "901383b1",
   "metadata": {},
   "outputs": [
    {
     "name": "stdout",
     "output_type": "stream",
     "text": [
      "키1\n",
      "키2\n",
      "키3\n"
     ]
    }
   ],
   "source": [
    "for key in dic1.keys() :\n",
    "    print(key)"
   ]
  },
  {
   "cell_type": "markdown",
   "id": "d9aee5c5",
   "metadata": {},
   "source": [
    "## 문제\n",
    "course 딕셔너리를 만드세요.  \n",
    "키 : 파이썬, 알고리즘, 인공지능  \n",
    "값 : 64, 80, 120"
   ]
  },
  {
   "cell_type": "code",
   "execution_count": 33,
   "id": "11ae8a47",
   "metadata": {},
   "outputs": [],
   "source": [
    "course = {'파이썬':64,'알고리즘':80,'인공지능':120}"
   ]
  },
  {
   "cell_type": "code",
   "execution_count": 34,
   "id": "7c6e0b1e",
   "metadata": {},
   "outputs": [
    {
     "data": {
      "text/plain": [
       "dict_keys(['파이썬', '알고리즘', '인공지능'])"
      ]
     },
     "execution_count": 34,
     "metadata": {},
     "output_type": "execute_result"
    }
   ],
   "source": [
    "course.keys()"
   ]
  },
  {
   "cell_type": "code",
   "execution_count": 35,
   "id": "744c8bcd",
   "metadata": {},
   "outputs": [
    {
     "name": "stdout",
     "output_type": "stream",
     "text": [
      "파이썬\n",
      "알고리즘\n",
      "인공지능\n"
     ]
    }
   ],
   "source": [
    "for i in course.keys() :\n",
    "    print(i)"
   ]
  },
  {
   "cell_type": "markdown",
   "id": "4282df78",
   "metadata": {},
   "source": [
    "## 딕셔너리 활용 - values\n",
    "딕셔너리의 값만 접근  \n",
    "딕셔너리변수이름.values()"
   ]
  },
  {
   "cell_type": "markdown",
   "id": "babe5c04",
   "metadata": {},
   "source": [
    "## 문제 \n",
    "course의 값들만 출력"
   ]
  },
  {
   "cell_type": "code",
   "execution_count": 37,
   "id": "f278b9df",
   "metadata": {},
   "outputs": [
    {
     "name": "stdout",
     "output_type": "stream",
     "text": [
      "64\n",
      "80\n",
      "120\n"
     ]
    }
   ],
   "source": [
    "for i in course.values() :\n",
    "    print(i)"
   ]
  },
  {
   "cell_type": "markdown",
   "id": "9893746a",
   "metadata": {},
   "source": [
    "## 딕셔너리 활용 - items\n",
    "딕셔너리의 키와 값 같이 접근  \n",
    "딕셔너리변수이름.items()"
   ]
  },
  {
   "cell_type": "code",
   "execution_count": 59,
   "id": "7ed655e1",
   "metadata": {},
   "outputs": [
    {
     "name": "stdout",
     "output_type": "stream",
     "text": [
      "('키1', '값1')\n",
      "('키2', '값2')\n",
      "('키3', '값3')\n"
     ]
    }
   ],
   "source": [
    "for i in dic1.items() :\n",
    "    print(i)"
   ]
  },
  {
   "cell_type": "code",
   "execution_count": 60,
   "id": "a0b4687b",
   "metadata": {},
   "outputs": [
    {
     "name": "stdout",
     "output_type": "stream",
     "text": [
      "키1\n",
      "값1\n",
      "키2\n",
      "값2\n",
      "키3\n",
      "값3\n"
     ]
    }
   ],
   "source": [
    "for key,value in dic1.items():\n",
    "    print(key)\n",
    "    print(value)"
   ]
  },
  {
   "cell_type": "markdown",
   "id": "55209d71",
   "metadata": {},
   "source": [
    "## 문제\n",
    "course 딕셔너리의 키와 값 모두 출력"
   ]
  },
  {
   "cell_type": "code",
   "execution_count": 44,
   "id": "e457bb40",
   "metadata": {},
   "outputs": [
    {
     "name": "stdout",
     "output_type": "stream",
     "text": [
      "('파이썬', 64)\n",
      "('알고리즘', 80)\n",
      "('인공지능', 120)\n"
     ]
    }
   ],
   "source": [
    "for i in course.items() : \n",
    "    print(i)"
   ]
  },
  {
   "cell_type": "markdown",
   "id": "dd971254",
   "metadata": {},
   "source": [
    "## 딕셔너리 활용 - in\n",
    "딕셔너리에 특정 키가 있는지 확인\n"
   ]
  },
  {
   "cell_type": "code",
   "execution_count": 45,
   "id": "30e8401c",
   "metadata": {},
   "outputs": [
    {
     "name": "stdout",
     "output_type": "stream",
     "text": [
      "있다\n"
     ]
    }
   ],
   "source": [
    "if '키1' in dic1 : \n",
    "    print('있다')\n",
    "else :\n",
    "    print('없다')"
   ]
  },
  {
   "cell_type": "markdown",
   "id": "161b5b13",
   "metadata": {},
   "source": [
    "## 문제 \n",
    "만약에 course 딕셔너리에 파이썬 이라는 키가 있으면 '있다'라고 출력하고 없으면 '없다' 출력하는 프로그램"
   ]
  },
  {
   "cell_type": "code",
   "execution_count": 49,
   "id": "211239a4",
   "metadata": {},
   "outputs": [
    {
     "name": "stdout",
     "output_type": "stream",
     "text": [
      "there is\n"
     ]
    }
   ],
   "source": [
    "if '파이썬' in course : \n",
    "    print('there is')\n",
    "else : \n",
    "    print('there isnt')"
   ]
  },
  {
   "cell_type": "markdown",
   "id": "71629087",
   "metadata": {},
   "source": [
    "-----------------------------------------------------------"
   ]
  },
  {
   "cell_type": "markdown",
   "id": "94971fff",
   "metadata": {},
   "source": [
    "------------------------------------------------------------"
   ]
  },
  {
   "cell_type": "markdown",
   "id": "83564293",
   "metadata": {},
   "source": [
    "# 딕셔너리 활용"
   ]
  },
  {
   "cell_type": "code",
   "execution_count": 51,
   "id": "5fccdbb7",
   "metadata": {},
   "outputs": [],
   "source": [
    "olympic = {'박지수' : '농구',\n",
    "           '안혜지': '농구',\n",
    "           '신지현':'농구',\n",
    "           '김영남':'수영',\n",
    "           '이성배':'럭비',\n",
    "           '장용흥':'럭비'}"
   ]
  },
  {
   "cell_type": "markdown",
   "id": "ac2979cc",
   "metadata": {},
   "source": [
    "## 문제\n",
    "올림픽 선수들의 이름만 출력"
   ]
  },
  {
   "cell_type": "code",
   "execution_count": 52,
   "id": "4a114162",
   "metadata": {},
   "outputs": [
    {
     "name": "stdout",
     "output_type": "stream",
     "text": [
      "dict_keys(['박지수', '안혜지', '신지현', '김영남', '이성배', '장용흥'])\n"
     ]
    }
   ],
   "source": [
    "print(olympic.keys())"
   ]
  },
  {
   "cell_type": "code",
   "execution_count": 53,
   "id": "2f938a9e",
   "metadata": {},
   "outputs": [
    {
     "name": "stdout",
     "output_type": "stream",
     "text": [
      "박지수\n",
      "안혜지\n",
      "신지현\n",
      "김영남\n",
      "이성배\n",
      "장용흥\n"
     ]
    }
   ],
   "source": [
    "for i in olympic.keys() :\n",
    "    print(i)"
   ]
  },
  {
   "cell_type": "markdown",
   "id": "1840f9aa",
   "metadata": {},
   "source": [
    "## 문제\n",
    "선수들의 이름만 접근하면서 만약에 이름이 '신지현'이면 해당 선수의 종목을 출력"
   ]
  },
  {
   "cell_type": "code",
   "execution_count": 54,
   "id": "ad29979b",
   "metadata": {},
   "outputs": [
    {
     "name": "stdout",
     "output_type": "stream",
     "text": [
      "농구\n"
     ]
    }
   ],
   "source": [
    "for i in olympic.keys() :\n",
    "    if i == '신지현' :\n",
    "        print(olympic[i])"
   ]
  },
  {
   "cell_type": "markdown",
   "id": "26e2bacb",
   "metadata": {},
   "source": [
    "# 문제\n",
    "선수들의 종목만 출력 \n"
   ]
  },
  {
   "cell_type": "code",
   "execution_count": 55,
   "id": "cbddfd8c",
   "metadata": {},
   "outputs": [
    {
     "name": "stdout",
     "output_type": "stream",
     "text": [
      "농구\n",
      "농구\n",
      "농구\n",
      "수영\n",
      "럭비\n",
      "럭비\n"
     ]
    }
   ],
   "source": [
    "for i in olympic.keys() :\n",
    "    print(olympic[i])"
   ]
  },
  {
   "cell_type": "markdown",
   "id": "4ef0e9ba",
   "metadata": {},
   "source": [
    "## 문제\n",
    "선수들의 종목만 접근하면서 만약에 종목이 '농구'이면 해당 선수의 이름을 출력"
   ]
  },
  {
   "cell_type": "code",
   "execution_count": 61,
   "id": "58ea9be5",
   "metadata": {},
   "outputs": [
    {
     "name": "stdout",
     "output_type": "stream",
     "text": [
      "박지수\n",
      "안혜지\n",
      "신지현\n"
     ]
    }
   ],
   "source": [
    "for i,j in olympic.items() :\n",
    "    if j == '농구' :\n",
    "        print(i)"
   ]
  },
  {
   "cell_type": "markdown",
   "id": "c81c0493",
   "metadata": {},
   "source": [
    "## 딕셔너리 내의 리스트"
   ]
  },
  {
   "cell_type": "code",
   "execution_count": 62,
   "id": "f6173f6a",
   "metadata": {},
   "outputs": [],
   "source": [
    "olympic1 = {'농구':['박지수','안혜지','신지현'],\n",
    "            '수영':'김영남',\n",
    "            '럭비':['이성배','장용흥']}"
   ]
  },
  {
   "cell_type": "code",
   "execution_count": 63,
   "id": "8d0b3def",
   "metadata": {},
   "outputs": [
    {
     "name": "stdout",
     "output_type": "stream",
     "text": [
      "['박지수', '안혜지', '신지현']\n",
      "김영남\n",
      "['이성배', '장용흥']\n"
     ]
    }
   ],
   "source": [
    "for i in olympic1.values():\n",
    "    print(i)"
   ]
  },
  {
   "cell_type": "markdown",
   "id": "f28ea837",
   "metadata": {},
   "source": [
    "## 문제\n",
    "  \n",
    "  선수들의 이름을 리스트가 아닌 하나씩 각각 출력"
   ]
  },
  {
   "cell_type": "code",
   "execution_count": 64,
   "id": "36cedd29",
   "metadata": {},
   "outputs": [
    {
     "name": "stdout",
     "output_type": "stream",
     "text": [
      "박지수\n",
      "안혜지\n",
      "신지현\n",
      "김\n",
      "영\n",
      "남\n",
      "이성배\n",
      "장용흥\n"
     ]
    }
   ],
   "source": [
    "for i in olympic1.values() :\n",
    "    for j in i :\n",
    "        print(j)"
   ]
  },
  {
   "cell_type": "markdown",
   "id": "03beba1c",
   "metadata": {},
   "source": [
    "## 문제\n",
    "종목만 출력"
   ]
  },
  {
   "cell_type": "code",
   "execution_count": 65,
   "id": "10be09ae",
   "metadata": {},
   "outputs": [
    {
     "name": "stdout",
     "output_type": "stream",
     "text": [
      "농구\n",
      "수영\n",
      "럭비\n"
     ]
    }
   ],
   "source": [
    "for i in olympic1.keys():\n",
    "    print(i)"
   ]
  },
  {
   "cell_type": "code",
   "execution_count": 68,
   "id": "c0425c0a",
   "metadata": {},
   "outputs": [],
   "source": [
    "olympic = {\n",
    "    '농구' : [\n",
    "        {'이름':'박지수','생년월일':981206},\n",
    "        {'이름':'안혜지','생년월일':970212},\n",
    "        {'이름':'신지현','생년월일':950912}\n",
    "    ],\n",
    "    '수영' : [\n",
    "        {'이름':'김영남','생년월일':960129}\n",
    "    ],\n",
    "    '럭비' :[\n",
    "        {'이름':'이성배','생년월일':900407},\n",
    "        {'이름':'장용흥','생년월일':931112}\n",
    "    ]\n",
    "}"
   ]
  },
  {
   "cell_type": "markdown",
   "id": "3ff92b91",
   "metadata": {},
   "source": [
    "## 문제\n",
    "종목만 출력"
   ]
  },
  {
   "cell_type": "code",
   "execution_count": 69,
   "id": "5cfe5fb3",
   "metadata": {},
   "outputs": [
    {
     "name": "stdout",
     "output_type": "stream",
     "text": [
      "농구\n",
      "수영\n",
      "럭비\n"
     ]
    }
   ],
   "source": [
    "for i in olympic.keys() :\n",
    "    print(i)"
   ]
  },
  {
   "cell_type": "markdown",
   "id": "c19da227",
   "metadata": {},
   "source": [
    "## 문제\n",
    "선수들의 이름만 출력"
   ]
  },
  {
   "cell_type": "code",
   "execution_count": 70,
   "id": "580d91fb",
   "metadata": {},
   "outputs": [
    {
     "name": "stdout",
     "output_type": "stream",
     "text": [
      "박지수\n",
      "안혜지\n",
      "신지현\n",
      "김영남\n",
      "이성배\n",
      "장용흥\n"
     ]
    }
   ],
   "source": [
    "for i in olympic.values() :\n",
    "    for j in i :\n",
    "        print(j['이름'])"
   ]
  },
  {
   "cell_type": "markdown",
   "id": "33649fa4",
   "metadata": {},
   "source": [
    "## 문제\n",
    "선수들의 생년월일만 출력"
   ]
  },
  {
   "cell_type": "code",
   "execution_count": 71,
   "id": "546eefff",
   "metadata": {},
   "outputs": [
    {
     "name": "stdout",
     "output_type": "stream",
     "text": [
      "981206\n",
      "970212\n",
      "950912\n",
      "960129\n",
      "900407\n",
      "931112\n"
     ]
    }
   ],
   "source": [
    "for i in olympic.values() :\n",
    "    for j in i :\n",
    "        print(j['생년월일'])"
   ]
  },
  {
   "cell_type": "markdown",
   "id": "3cc63f5e",
   "metadata": {},
   "source": [
    "## 연습"
   ]
  },
  {
   "cell_type": "code",
   "execution_count": 72,
   "id": "eb7440e9",
   "metadata": {},
   "outputs": [],
   "source": [
    "json={\n",
    "    \"프로그래밍 언어\":[\n",
    "        {\n",
    "            \"name\":\"HTML\",\n",
    "            \"category\":\"web\",\n",
    "            \"developer\":\"W3C\"\n",
    "        },\n",
    "        {\n",
    "            \"name\":\"CSS\",\n",
    "            \"category\":\"web\",\n",
    "            \"developer\":\"W3C\"\n",
    "        },\n",
    "        {\n",
    "            \"name\":\"JAVA\",\n",
    "            \"category\":\"application\",\n",
    "            \"developer\":\"Oracle\"\n",
    "        },\n",
    "        {\n",
    "            \"name\":\"Python\",\n",
    "            \"category\":\"application\",\n",
    "            \"developer\":\"Python\"\n",
    "        }\n",
    "    ]\n",
    "}\n"
   ]
  },
  {
   "cell_type": "code",
   "execution_count": 76,
   "id": "a64d0d39",
   "metadata": {},
   "outputs": [
    {
     "name": "stdout",
     "output_type": "stream",
     "text": [
      "HTML\n",
      "CSS\n",
      "JAVA\n",
      "Python\n"
     ]
    }
   ],
   "source": [
    "for i in range(0,len(json['프로그래밍 언어']),1) :\n",
    "    print(json['프로그래밍 언어'][i]['name'])"
   ]
  },
  {
   "cell_type": "code",
   "execution_count": 77,
   "id": "455a987b",
   "metadata": {},
   "outputs": [
    {
     "data": {
      "text/plain": [
       "'Python'"
      ]
     },
     "execution_count": 77,
     "metadata": {},
     "output_type": "execute_result"
    }
   ],
   "source": [
    "json['프로그래밍 언어'][3]['name']"
   ]
  },
  {
   "cell_type": "code",
   "execution_count": null,
   "id": "5a58f66e",
   "metadata": {},
   "outputs": [],
   "source": []
  },
  {
   "cell_type": "code",
   "execution_count": null,
   "id": "a6b4baa8",
   "metadata": {},
   "outputs": [],
   "source": []
  },
  {
   "cell_type": "code",
   "execution_count": null,
   "id": "b54a15c1",
   "metadata": {},
   "outputs": [],
   "source": []
  },
  {
   "cell_type": "code",
   "execution_count": null,
   "id": "f3aecaea",
   "metadata": {},
   "outputs": [],
   "source": []
  },
  {
   "cell_type": "code",
   "execution_count": null,
   "id": "5bbbf124",
   "metadata": {},
   "outputs": [],
   "source": []
  },
  {
   "cell_type": "code",
   "execution_count": null,
   "id": "c6e06442",
   "metadata": {},
   "outputs": [],
   "source": []
  }
 ],
 "metadata": {
  "kernelspec": {
   "display_name": "Python 3",
   "language": "python",
   "name": "python3"
  },
  "language_info": {
   "codemirror_mode": {
    "name": "ipython",
    "version": 3
   },
   "file_extension": ".py",
   "mimetype": "text/x-python",
   "name": "python",
   "nbconvert_exporter": "python",
   "pygments_lexer": "ipython3",
   "version": "3.8.8"
  }
 },
 "nbformat": 4,
 "nbformat_minor": 5
}
