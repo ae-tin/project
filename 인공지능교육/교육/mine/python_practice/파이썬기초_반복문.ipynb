{
 "cells": [
  {
   "cell_type": "markdown",
   "id": "c7148ff1",
   "metadata": {},
   "source": [
    "# 반복문 \n",
    "  \n",
    "특정 작업을 반복 수행하여야 할 때 코드를 여러번 쓰는 것 보다 반복문을 사용하면 코드를 짧고 간단하게 만들 수 있다.  \n",
    "  \n",
    "  반복문에는 while문과 for문이 있다."
   ]
  },
  {
   "cell_type": "markdown",
   "id": "f973f2cc",
   "metadata": {},
   "source": [
    "# While 문\n",
    "  \n",
    "  while 조건 :  \n",
    "&nbsp; &nbsp; &nbsp; &nbsp;   반복 될 코드  \n",
    "  조건이 참일 때 아래의 반복 될 코드를 실행한다."
   ]
  },
  {
   "cell_type": "markdown",
   "id": "594d0a52",
   "metadata": {},
   "source": [
    "num을 0부터 1씩 증가하면서'점심 뭐 먹지?'를 num이 5가 될 때까지 출력한다. "
   ]
  },
  {
   "cell_type": "code",
   "execution_count": 1,
   "id": "6903f913",
   "metadata": {},
   "outputs": [
    {
     "name": "stdout",
     "output_type": "stream",
     "text": [
      "점심 뭐먹지?\n",
      "점심 뭐먹지?\n",
      "점심 뭐먹지?\n",
      "점심 뭐먹지?\n",
      "점심 뭐먹지?\n"
     ]
    }
   ],
   "source": [
    "num = 0\n",
    "while num<5 :\n",
    "    print('점심 뭐먹지?')\n",
    "    num = num + 1"
   ]
  },
  {
   "cell_type": "markdown",
   "id": "61123195",
   "metadata": {},
   "source": [
    "# 문제\n",
    "  \n",
    "1부터 10까지 더한 결과를 출력하는 프로그램"
   ]
  },
  {
   "cell_type": "code",
   "execution_count": 7,
   "id": "8a51939c",
   "metadata": {},
   "outputs": [
    {
     "name": "stdout",
     "output_type": "stream",
     "text": [
      "55\n"
     ]
    }
   ],
   "source": [
    "num = 1\n",
    "result = 0\n",
    "while num < 11 :\n",
    "    result = result + num\n",
    "    if num == 10 :\n",
    "        print(result)\n",
    "    num = num + 1"
   ]
  },
  {
   "cell_type": "code",
   "execution_count": 8,
   "id": "a32fc535",
   "metadata": {},
   "outputs": [],
   "source": [
    "num = 1\n",
    "result = 0\n",
    "while num < 11 :\n",
    "    result = result + num\n",
    "    num = num + 1"
   ]
  },
  {
   "cell_type": "code",
   "execution_count": 6,
   "id": "d1c3d4e1",
   "metadata": {},
   "outputs": [
    {
     "name": "stdout",
     "output_type": "stream",
     "text": [
      "55\n"
     ]
    }
   ],
   "source": [
    "print(result)"
   ]
  },
  {
   "cell_type": "markdown",
   "id": "9d38172e",
   "metadata": {},
   "source": [
    "### while 안에서 반복되는 동안 1부터 10까지 생성할 num과  \n",
    "### num을 실행마다 더해서 10까지의 합을 저장할 result가 필요하다"
   ]
  },
  {
   "cell_type": "markdown",
   "id": "30edad79",
   "metadata": {},
   "source": [
    "## 랜덤한 숫자 생성하기"
   ]
  },
  {
   "cell_type": "code",
   "execution_count": 9,
   "id": "04f03799",
   "metadata": {},
   "outputs": [
    {
     "name": "stdout",
     "output_type": "stream",
     "text": [
      "18\n"
     ]
    }
   ],
   "source": [
    "from random import *\n",
    "i = randint(1,100) # 1-100 사이 임의 정수\n",
    "print(i)"
   ]
  },
  {
   "cell_type": "markdown",
   "id": "3f33ca42",
   "metadata": {},
   "source": [
    "range()나 인덱싱 슬리아스는 '시작' 이상, '끝' 미만을 사용하지만  \n",
    "randint는 '시작' 이상 , '끝' \"이하\" 이다."
   ]
  },
  {
   "cell_type": "markdown",
   "id": "4d5ff54c",
   "metadata": {},
   "source": [
    "# 문제 \n",
    "\n",
    "연금 복권 번호 생성기 만들기\n",
    "\n",
    "연금복권은 0-9까지 숫자 중 6개 추첨(중복가능)"
   ]
  },
  {
   "cell_type": "code",
   "execution_count": 14,
   "id": "29a93361",
   "metadata": {},
   "outputs": [
    {
     "name": "stdout",
     "output_type": "stream",
     "text": [
      "복권 번호를 추천해드림\n",
      "3\n",
      "0\n",
      "0\n",
      "8\n",
      "6\n",
      "7\n"
     ]
    }
   ],
   "source": [
    "num = 0\n",
    "print('복권 번호를 추천해드림')\n",
    "while num<6 :\n",
    "    i = randint(0,9)\n",
    "    print(i)\n",
    "    num = num +1"
   ]
  },
  {
   "cell_type": "markdown",
   "id": "a452383f",
   "metadata": {},
   "source": [
    "# while 문 break\n",
    "  \n",
    "  반복문을 수행하면서 특정 조건이 되면 반복문이 종료될 수 있도록 하는 코드"
   ]
  },
  {
   "cell_type": "code",
   "execution_count": 15,
   "id": "40d99468",
   "metadata": {},
   "outputs": [
    {
     "name": "stdout",
     "output_type": "stream",
     "text": [
      "0\n",
      "1\n",
      "2\n",
      "3\n",
      "4\n"
     ]
    }
   ],
   "source": [
    "num=0\n",
    "\n",
    "while num<5:\n",
    "    print(num)\n",
    "    num = num +1"
   ]
  },
  {
   "cell_type": "code",
   "execution_count": 17,
   "id": "c7334e19",
   "metadata": {},
   "outputs": [
    {
     "name": "stdout",
     "output_type": "stream",
     "text": [
      "0\n",
      "1\n",
      "2\n",
      "3\n"
     ]
    }
   ],
   "source": [
    "num=0\n",
    "\n",
    "while num<5:\n",
    "    print(num)\n",
    "    if num ==3 :\n",
    "        break         # 여기서 끝난다\n",
    "    num = num +1       # 그래서 +1은 실행안됨"
   ]
  },
  {
   "cell_type": "code",
   "execution_count": 18,
   "id": "a753f31c",
   "metadata": {},
   "outputs": [
    {
     "name": "stdout",
     "output_type": "stream",
     "text": [
      "3\n"
     ]
    }
   ],
   "source": [
    "print(num)"
   ]
  },
  {
   "cell_type": "markdown",
   "id": "cf86c82b",
   "metadata": {},
   "source": [
    "# While문 continue\n",
    "  \n",
    "continue를 만나면 반복문의 조건을 비교하는 곳으로 돌아간다."
   ]
  },
  {
   "cell_type": "code",
   "execution_count": 21,
   "id": "4b125fe6",
   "metadata": {},
   "outputs": [
    {
     "name": "stdout",
     "output_type": "stream",
     "text": [
      "1\n",
      "2\n",
      "4\n",
      "5\n"
     ]
    }
   ],
   "source": [
    "num=0\n",
    "\n",
    "while num<5:\n",
    "    num = num +1 \n",
    "    \n",
    "    if num ==3 :\n",
    "        continue        #  num이 3이면 continue 때문에 다시 while조건부터 비교한다. \n",
    "                         # 그래서 num이 3일때만 print가 안됨\n",
    "    print(num)"
   ]
  },
  {
   "cell_type": "markdown",
   "id": "017dcae7",
   "metadata": {},
   "source": [
    "# 문제 \n",
    "  \n",
    "  ## 3 6 9 게임!\n",
    "  \n",
    "  1부터 10까지 숫자를 출력한다.  \n",
    "  이 때 3 6 9 일때는 짝!을 출력  "
   ]
  },
  {
   "cell_type": "code",
   "execution_count": 23,
   "id": "db27526e",
   "metadata": {},
   "outputs": [
    {
     "name": "stdout",
     "output_type": "stream",
     "text": [
      "삼~육구 삼육구 삼~육구 삼육구\n",
      "1\n",
      "2\n",
      "짝!\n",
      "4\n",
      "5\n",
      "짝!\n",
      "7\n",
      "8\n",
      "짝!\n",
      "10\n"
     ]
    }
   ],
   "source": [
    "print('삼~육구 삼육구 삼~육구 삼육구')\n",
    "num = 0\n",
    "\n",
    "while num<10 :\n",
    "    num = num + 1\n",
    "    if num % 3 == 0 :\n",
    "        print('짝!')\n",
    "        continue\n",
    "    print(num)"
   ]
  },
  {
   "cell_type": "markdown",
   "id": "506c3cac",
   "metadata": {},
   "source": [
    "# 알람 시계 프로그램\n",
    "  \n",
    "  9시부터 18시까지 일한다 라고 했을 때 점심 시간을 제외하고 하루 8시간 일한다.  \n",
    "  \n",
    "  매 시간마다 'n시간 일함'이라고 출력하고  \n",
    "  1시간 일했으면 1시간, 2시간 일했으면 2시간  \n",
    "  점심 시간은 일한 시간으로 치지 않는다. 점심 시간은 12-13시,  \n",
    "  점심 시간에는 점심시간!!이라고 출력, 18시가 되면 퇴근!! 이라고 출력하고  \n",
    "  끝나는 프로그램"
   ]
  },
  {
   "cell_type": "code",
   "execution_count": 43,
   "id": "51bb91c5",
   "metadata": {
    "scrolled": true
   },
   "outputs": [
    {
     "name": "stdout",
     "output_type": "stream",
     "text": [
      "출근해볼까~~ \n",
      "1시간 일함\n",
      "2시간 일함\n",
      "3시간 일함\n",
      "점심시간!!\n",
      "4시간 일함\n",
      "5시간 일함\n",
      "6시간 일함\n",
      "7시간 일함\n",
      "8시간 일함\n",
      "퇴근이다~~\n",
      "8\n"
     ]
    }
   ],
   "source": [
    "print('출근해볼까~~ ')\n",
    "num = 0 \n",
    "while num < 8 :\n",
    "    num = num + 1\n",
    "    if num == 4 :\n",
    "        print('점심시간!!')\n",
    "      \n",
    "    print(str(num)+ '시간 일함')\n",
    "   \n",
    "    if num == 8 :\n",
    "        print('퇴근이다~~')\n",
    "print(num)\n"
   ]
  },
  {
   "cell_type": "markdown",
   "id": "ccf1d9d6",
   "metadata": {},
   "source": [
    "### 다른 풀이 "
   ]
  },
  {
   "cell_type": "code",
   "execution_count": 41,
   "id": "59f472b7",
   "metadata": {},
   "outputs": [
    {
     "name": "stdout",
     "output_type": "stream",
     "text": [
      "지금은 9시~~ 출근할 시간~~~~\n",
      "1시간 일했네\n",
      "2시간 일했네\n",
      "3시간 일했네\n",
      "점심시간!\n",
      "4시간 일했네\n",
      "5시간 일했네\n",
      "6시간 일했네\n",
      "7시간 일했네\n",
      "8시간 일했네\n",
      "퇴근이다!\n",
      "8\n"
     ]
    }
   ],
   "source": [
    "print('지금은 9시~~ 출근할 시간~~~~')\n",
    "time = 9\n",
    "work = 0\n",
    "while time < 18 :\n",
    "    time = time + 1\n",
    "    if time < 18 :\n",
    "        work = work + 1\n",
    "        if time == 12 :\n",
    "            print(str(work)+ '시간 일했네')\n",
    "            print('점심시간!')\n",
    "            continue    \n",
    "        print(str(work) + '시간 일했네')\n",
    "    if time == 18 :\n",
    "        print('퇴근이다!')\n",
    "print(work)"
   ]
  },
  {
   "cell_type": "markdown",
   "id": "874d552c",
   "metadata": {},
   "source": [
    "### 센세 풀이ㅎ"
   ]
  },
  {
   "cell_type": "code",
   "execution_count": 44,
   "id": "fcde309c",
   "metadata": {},
   "outputs": [
    {
     "name": "stdout",
     "output_type": "stream",
     "text": [
      "점심 시간!!\n",
      "퇴근!!\n",
      "8\n"
     ]
    }
   ],
   "source": [
    "time = 9\n",
    "work = 0\n",
    "\n",
    "while time < 18 :\n",
    "    time = time + 1\n",
    "    \n",
    "    if time == 12 :\n",
    "        print('점심 시간!!')\n",
    "        continue\n",
    "    elif time == 18 :\n",
    "        print('퇴근!!')\n",
    "    \n",
    "    work = work + 1\n",
    "    \n",
    "print(work)"
   ]
  },
  {
   "cell_type": "markdown",
   "id": "d0e8d02a",
   "metadata": {},
   "source": [
    "역시 선생님은 달라~~~"
   ]
  },
  {
   "cell_type": "markdown",
   "id": "2cb64550",
   "metadata": {},
   "source": [
    "# 문제\n",
    "abc는 10부터 1씩 감소하면서 0보다 크면 abc를 출력하시오  "
   ]
  },
  {
   "cell_type": "code",
   "execution_count": 47,
   "id": "4fce95c8",
   "metadata": {},
   "outputs": [
    {
     "name": "stdout",
     "output_type": "stream",
     "text": [
      "10\n",
      "9\n",
      "8\n",
      "7\n",
      "6\n",
      "5\n",
      "4\n",
      "3\n",
      "2\n",
      "1\n"
     ]
    }
   ],
   "source": [
    "abc = 10\n",
    "while abc > 0 :\n",
    "    print(abc)\n",
    "    abc = abc - 1"
   ]
  },
  {
   "cell_type": "markdown",
   "id": "18911ee8",
   "metadata": {},
   "source": [
    "# 문제\n",
    "qwer은 1부터 3씩 증가하면서 20보다 작으면 qwer를 출력하시오  "
   ]
  },
  {
   "cell_type": "code",
   "execution_count": 48,
   "id": "dc1dd3a9",
   "metadata": {},
   "outputs": [
    {
     "name": "stdout",
     "output_type": "stream",
     "text": [
      "1\n",
      "4\n",
      "7\n",
      "10\n",
      "13\n",
      "16\n",
      "19\n"
     ]
    }
   ],
   "source": [
    "qwer = 1\n",
    "while qwer < 20 :\n",
    "    print(qwer)\n",
    "    qwer = qwer + 3"
   ]
  },
  {
   "cell_type": "markdown",
   "id": "8a3039ae",
   "metadata": {},
   "source": [
    "# 문제\n",
    "1부터 100까지 숫자 중 3의 배수는 제외하고 모두 더하시오  \n",
    "답 : 3367  \n",
    "힌트 : 3의 배수는 3으로 나눴을 때 나머지가 0인 숫자  "
   ]
  },
  {
   "cell_type": "code",
   "execution_count": 50,
   "id": "2266076d",
   "metadata": {},
   "outputs": [
    {
     "name": "stdout",
     "output_type": "stream",
     "text": [
      "3367\n"
     ]
    }
   ],
   "source": [
    "count = 0\n",
    "sum = 0\n",
    "while count < 100 :\n",
    "    count = count + 1\n",
    "    if count % 3 == 0 :\n",
    "        continue\n",
    "    \n",
    "    sum = sum + count\n",
    "    \n",
    "print(sum)"
   ]
  },
  {
   "cell_type": "markdown",
   "id": "dc008be5",
   "metadata": {},
   "source": [
    "  "
   ]
  },
  {
   "cell_type": "markdown",
   "id": "c7afe102",
   "metadata": {},
   "source": [
    "  "
   ]
  },
  {
   "cell_type": "markdown",
   "id": "fdb4dc1e",
   "metadata": {},
   "source": [
    "---------------------------------------------------------------------"
   ]
  },
  {
   "cell_type": "markdown",
   "id": "a92f47b0",
   "metadata": {},
   "source": [
    "  "
   ]
  },
  {
   "cell_type": "markdown",
   "id": "947b86c8",
   "metadata": {},
   "source": [
    "  \n"
   ]
  },
  {
   "cell_type": "markdown",
   "id": "12103b7b",
   "metadata": {},
   "source": [
    "# for문\n",
    "  \n",
    "for 변수 in range(시작값, 끝값+1, 증가값) :  \n",
    "  &nbsp; &nbsp; &nbsp; 반복될코드"
   ]
  },
  {
   "cell_type": "markdown",
   "id": "0786d9e9",
   "metadata": {},
   "source": [
    "range 범위 중요!!"
   ]
  },
  {
   "cell_type": "code",
   "execution_count": 1,
   "id": "8bcef2b7",
   "metadata": {},
   "outputs": [
    {
     "name": "stdout",
     "output_type": "stream",
     "text": [
      "1\n",
      "2\n",
      "3\n",
      "4\n",
      "5\n",
      "6\n",
      "7\n",
      "8\n",
      "9\n",
      "10\n"
     ]
    }
   ],
   "source": [
    "for i in range(1,11,1):\n",
    "    print(i)"
   ]
  },
  {
   "cell_type": "markdown",
   "id": "0ad5564b",
   "metadata": {},
   "source": [
    "### 역순으로 !!"
   ]
  },
  {
   "cell_type": "code",
   "execution_count": 3,
   "id": "46b21620",
   "metadata": {
    "scrolled": true
   },
   "outputs": [
    {
     "name": "stdout",
     "output_type": "stream",
     "text": [
      "10\n",
      "9\n",
      "8\n",
      "7\n",
      "6\n",
      "5\n",
      "4\n",
      "3\n",
      "2\n",
      "1\n"
     ]
    }
   ],
   "source": [
    "for i in range(1,11,1) :\n",
    "    print(11-i)"
   ]
  },
  {
   "cell_type": "markdown",
   "id": "b70468b1",
   "metadata": {},
   "source": [
    "range에 마이너스도 입력가능"
   ]
  },
  {
   "cell_type": "code",
   "execution_count": 8,
   "id": "69e46c43",
   "metadata": {},
   "outputs": [
    {
     "name": "stdout",
     "output_type": "stream",
     "text": [
      "10\n",
      "9\n",
      "8\n",
      "7\n",
      "6\n",
      "5\n",
      "4\n",
      "3\n",
      "2\n",
      "1\n"
     ]
    }
   ],
   "source": [
    "for i in range(10,0,-1) :\n",
    "    \n",
    "    print(i)"
   ]
  },
  {
   "cell_type": "markdown",
   "id": "6222c8b7",
   "metadata": {},
   "source": [
    "## 문제\n",
    "1부터 20보다 작은수 중에서 나머지가 1인 숫자들"
   ]
  },
  {
   "cell_type": "code",
   "execution_count": 9,
   "id": "79210c72",
   "metadata": {},
   "outputs": [
    {
     "name": "stdout",
     "output_type": "stream",
     "text": [
      "1\n",
      "4\n",
      "7\n",
      "10\n",
      "13\n",
      "16\n",
      "19\n"
     ]
    }
   ],
   "source": [
    "for i in range(1,20,3):\n",
    "    print(i)"
   ]
  },
  {
   "cell_type": "markdown",
   "id": "20ce58e9",
   "metadata": {},
   "source": [
    "## 문제\n",
    " 1부터 10까지 더한 결과를 출력"
   ]
  },
  {
   "cell_type": "code",
   "execution_count": 12,
   "id": "dabc411f",
   "metadata": {},
   "outputs": [
    {
     "name": "stdout",
     "output_type": "stream",
     "text": [
      "55\n"
     ]
    }
   ],
   "source": [
    "a = 0\n",
    "for i in range(1,11,1) :\n",
    "    a = a + i \n",
    "print(a)"
   ]
  }
 ],
 "metadata": {
  "kernelspec": {
   "display_name": "Python 3",
   "language": "python",
   "name": "python3"
  },
  "language_info": {
   "codemirror_mode": {
    "name": "ipython",
    "version": 3
   },
   "file_extension": ".py",
   "mimetype": "text/x-python",
   "name": "python",
   "nbconvert_exporter": "python",
   "pygments_lexer": "ipython3",
   "version": "3.8.8"
  }
 },
 "nbformat": 4,
 "nbformat_minor": 5
}
