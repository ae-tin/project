{
 "cells": [
  {
   "cell_type": "markdown",
   "id": "f6a267bf",
   "metadata": {},
   "source": [
    "# 모듈\n",
    "  \n",
    "  모듈은 함수의 집합으로 함수를 미리 만들어두고 다른 파이썬 파일에서 불러와서 사용하는 것 모   \n",
    "  듈을 불러올 때는 같은 폴더에 있거나 파이썬 설치된 디렉토리안에 Lib 디렉토리에 모듈 파일이    \n",
    "  있어야 한다.  \n",
    "  모듈을 불러올 때는 import를 사용하여 불러온다. "
   ]
  },
  {
   "cell_type": "code",
   "execution_count": 2,
   "id": "402ace39",
   "metadata": {},
   "outputs": [],
   "source": [
    "def sum_(num1, num2) :\n",
    "    return num1 + num2\n",
    "\n",
    "def sub(num1, num2) :\n",
    "    return num1 - num2\n",
    "\n",
    "def mul(num1, num2) :\n",
    "    return num1 * num2\n",
    "\n",
    "def div(num1, num2) :\n",
    "    return num1 / num2"
   ]
  },
  {
   "cell_type": "markdown",
   "id": "83b33bfe",
   "metadata": {},
   "source": [
    "위 함수를 .py파일로 저장하고 디렉토리 안에 저장해놓는다.  \n",
    "calculater.py로 저장해놨음"
   ]
  },
  {
   "cell_type": "code",
   "execution_count": 3,
   "id": "463b1008",
   "metadata": {
    "scrolled": true
   },
   "outputs": [
    {
     "data": {
      "text/plain": [
       "3"
      ]
     },
     "execution_count": 3,
     "metadata": {},
     "output_type": "execute_result"
    }
   ],
   "source": [
    "import calculater\n",
    "\n",
    "calculater.sum_(1,2)"
   ]
  },
  {
   "cell_type": "markdown",
   "id": "36e2889e",
   "metadata": {},
   "source": [
    "import로 불러들여와서 사용할 때는\n",
    "모듈명.함수명(매개변수) 로 사용함"
   ]
  },
  {
   "cell_type": "code",
   "execution_count": 4,
   "id": "e3a5ced5",
   "metadata": {},
   "outputs": [],
   "source": [
    "def 모듈() :\n",
    "    print('짜잔')"
   ]
  },
  {
   "cell_type": "code",
   "execution_count": 5,
   "id": "6dc244d4",
   "metadata": {},
   "outputs": [
    {
     "name": "stdout",
     "output_type": "stream",
     "text": [
      "짜잔\n"
     ]
    }
   ],
   "source": [
    "모듈()"
   ]
  },
  {
   "cell_type": "markdown",
   "id": "680567e9",
   "metadata": {},
   "source": [
    "만약에 모듈명을 생략하고 함수의 이름만으로 함수를 사용하고 싶으면 다음과 같이 모듈을 불러온다.  \n",
    "  \n",
    "  from 모듈명 import 함수명1, 함수명2,,,,  \n",
    "  함수명1(매개변수)    >>  모듈명.함수명1(매개변수)보다 간편하다."
   ]
  },
  {
   "cell_type": "code",
   "execution_count": 6,
   "id": "927f56db",
   "metadata": {},
   "outputs": [],
   "source": [
    "from calculater import sum_, sub, mul, div"
   ]
  },
  {
   "cell_type": "code",
   "execution_count": 8,
   "id": "90caeda9",
   "metadata": {},
   "outputs": [
    {
     "data": {
      "text/plain": [
       "3"
      ]
     },
     "execution_count": 8,
     "metadata": {},
     "output_type": "execute_result"
    }
   ],
   "source": [
    "sum_(1,2)"
   ]
  },
  {
   "cell_type": "markdown",
   "id": "4092be6f",
   "metadata": {},
   "source": [
    "만약에 다른 모듈의 함수명이 같으면 함수명이 겹쳐 에러가 날 수 있으니, 모듈명을 직접 설정할 수 있다.  \n",
    "  \n",
    "  import 모듈명 as 직접설정한 모듈명  \n",
    "  줄인모듈명.함수명1(매개변수)"
   ]
  },
  {
   "cell_type": "code",
   "execution_count": 9,
   "id": "ef92da09",
   "metadata": {},
   "outputs": [],
   "source": [
    "import calculater as cc"
   ]
  },
  {
   "cell_type": "code",
   "execution_count": 10,
   "id": "23f1dfd8",
   "metadata": {},
   "outputs": [
    {
     "data": {
      "text/plain": [
       "4"
      ]
     },
     "execution_count": 10,
     "metadata": {},
     "output_type": "execute_result"
    }
   ],
   "source": [
    "cc.sum_(1,3)"
   ]
  },
  {
   "cell_type": "code",
   "execution_count": 11,
   "id": "2ee22260",
   "metadata": {},
   "outputs": [],
   "source": [
    "import calendar\n",
    "import locale\n",
    "\n",
    "cal = calendar.LocaleTextCalendar(0, locale.setlocale(locale.LC_ALL,\"\"))"
   ]
  },
  {
   "cell_type": "code",
   "execution_count": 12,
   "id": "1c0df910",
   "metadata": {},
   "outputs": [],
   "source": [
    "import calendar as c\n",
    "import locale as l\n",
    "\n",
    "cal1 = c.LocaleTextCalendar(0, l.setlocale(l.LC_ALL,\"\"))"
   ]
  },
  {
   "cell_type": "markdown",
   "id": "a809b8a9",
   "metadata": {},
   "source": [
    "cal.prmonth(2021,7)"
   ]
  },
  {
   "cell_type": "code",
   "execution_count": 13,
   "id": "b1f62294",
   "metadata": {},
   "outputs": [
    {
     "name": "stdout",
     "output_type": "stream",
     "text": [
      "      7월 2021\n",
      "월  화  수  목  금  토  일\n",
      "          1  2  3  4\n",
      " 5  6  7  8  9 10 11\n",
      "12 13 14 15 16 17 18\n",
      "19 20 21 22 23 24 25\n",
      "26 27 28 29 30 31\n"
     ]
    }
   ],
   "source": [
    "cal.prmonth(2021,7)"
   ]
  },
  {
   "cell_type": "code",
   "execution_count": null,
   "id": "bac32786",
   "metadata": {},
   "outputs": [],
   "source": []
  },
  {
   "cell_type": "code",
   "execution_count": null,
   "id": "bf0bd5c6",
   "metadata": {},
   "outputs": [],
   "source": []
  }
 ],
 "metadata": {
  "kernelspec": {
   "display_name": "Python 3",
   "language": "python",
   "name": "python3"
  },
  "language_info": {
   "codemirror_mode": {
    "name": "ipython",
    "version": 3
   },
   "file_extension": ".py",
   "mimetype": "text/x-python",
   "name": "python",
   "nbconvert_exporter": "python",
   "pygments_lexer": "ipython3",
   "version": "3.8.8"
  }
 },
 "nbformat": 4,
 "nbformat_minor": 5
}
