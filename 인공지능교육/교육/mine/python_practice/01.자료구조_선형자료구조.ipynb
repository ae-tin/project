{
 "cells": [
  {
   "cell_type": "markdown",
   "id": "84c38796",
   "metadata": {},
   "source": [
    "# 자료 구조\n",
    "\n",
    "### 선형구조\n",
    "데이터가 연속적으로 연결되어 있는 모양으로 구성하는 방법\n",
    "\n",
    "\n",
    "1. 스택\n",
    "\n",
    "2. 큐\n",
    "\n",
    "3. 데크\n",
    "\n",
    "4. 연결 리스트\n",
    "\n",
    "\n",
    "\n",
    "### 비선형구조\n",
    "하나의 자료에 여러개의 자료가 존재하는 모양으로 구성하는 방법\n",
    "\n",
    "\n",
    "1. 그래프\n",
    "\n",
    "3. 트리"
   ]
  },
  {
   "cell_type": "markdown",
   "id": "5b19254d",
   "metadata": {},
   "source": [
    "# 큐\n",
    "\n",
    "데이터를 삽입하는 기능 enqueue  \n",
    "데이터를 삭제하는 기능 dequeue  \n",
    "큐의 내용을 출력하는 기능 display  \n",
    "큐가 비어있는지 확인하는 기능 isEmpty  \n",
    "\n",
    "맨 처음 저장한 데이터가 가장 먼저 삭제되는 구조  \n",
    "\n",
    "\n",
    "    구현\n",
    "      클래스로 구현할 것  \n",
    "      데이터 저장은 리스트에 할 것\n",
    "      큐가 비어있을 때 삭제하면 큐가 비어있다는 메세지를 출력"
   ]
  },
  {
   "cell_type": "code",
   "execution_count": 2,
   "id": "56c1ebb9",
   "metadata": {},
   "outputs": [],
   "source": [
    "class Queue:\n",
    "    data = []\n",
    "    \n",
    "    def enqueue(self, num):\n",
    "        self.data.append(num)\n",
    "        \n",
    "    def dequeue(self):\n",
    "        if self.isEmpty() == \"비어있다.\":\n",
    "            print(\"큐가 비어있습니다.\")\n",
    "        else:\n",
    "            self.data.pop(0)\n",
    "        \n",
    "    def isEmpty(self):\n",
    "        if len(self.data) == 0:\n",
    "            return \"비어있다.\"\n",
    "        else:\n",
    "            return \"들어있다.\"\n",
    "        \n",
    "    def display(self):\n",
    "        print(self.data)"
   ]
  },
  {
   "cell_type": "code",
   "execution_count": 3,
   "id": "e1b17e61",
   "metadata": {},
   "outputs": [],
   "source": [
    "que = Queue()"
   ]
  },
  {
   "cell_type": "code",
   "execution_count": 4,
   "id": "be6859b5",
   "metadata": {},
   "outputs": [
    {
     "name": "stdout",
     "output_type": "stream",
     "text": [
      "[10, 20, 30]\n"
     ]
    }
   ],
   "source": [
    "que.enqueue(10)\n",
    "que.enqueue(20)\n",
    "que.enqueue(30)\n",
    "que.display()"
   ]
  },
  {
   "cell_type": "code",
   "execution_count": 5,
   "id": "40894af6",
   "metadata": {},
   "outputs": [
    {
     "name": "stdout",
     "output_type": "stream",
     "text": [
      "[20, 30]\n"
     ]
    }
   ],
   "source": [
    "que.dequeue()\n",
    "que.display()"
   ]
  },
  {
   "cell_type": "code",
   "execution_count": 6,
   "id": "8e2f884c",
   "metadata": {},
   "outputs": [
    {
     "name": "stdout",
     "output_type": "stream",
     "text": [
      "[30]\n"
     ]
    }
   ],
   "source": [
    "que.dequeue()\n",
    "que.display()"
   ]
  },
  {
   "cell_type": "code",
   "execution_count": 7,
   "id": "ff0ff6a2",
   "metadata": {},
   "outputs": [
    {
     "name": "stdout",
     "output_type": "stream",
     "text": [
      "[]\n"
     ]
    }
   ],
   "source": [
    "que.dequeue()\n",
    "que.display()"
   ]
  },
  {
   "cell_type": "code",
   "execution_count": 8,
   "id": "1752f7ee",
   "metadata": {},
   "outputs": [
    {
     "data": {
      "text/plain": [
       "'비어있다.'"
      ]
     },
     "execution_count": 8,
     "metadata": {},
     "output_type": "execute_result"
    }
   ],
   "source": [
    "que.isEmpty()"
   ]
  },
  {
   "cell_type": "code",
   "execution_count": 9,
   "id": "b965b1a2",
   "metadata": {},
   "outputs": [
    {
     "name": "stdout",
     "output_type": "stream",
     "text": [
      "큐가 비어있습니다.\n"
     ]
    }
   ],
   "source": [
    "que.dequeue()"
   ]
  },
  {
   "cell_type": "markdown",
   "id": "184fcd04",
   "metadata": {},
   "source": [
    "# 연결 리스트\n",
    "\n",
    "### 단방향 연결 리스트\n",
    "단방향 연결리스트는 하나의 데이터를 저장할 때 데이터와 다음 데이터의 위치를 같이 저장한다.\n",
    "\n",
    "단방향 연결리스트에서 데이터는 노드에 저장된다.  \n",
    "노드에서는 데이터가 저장되는 곳과 다음 노드를 저장하는 곳이 있다.\n",
    "\n",
    "\n",
    "    첫번째 노드를 head라고 한다.  \n",
    "    마지막 노드를 tail이라고 한다.  \n",
    "    전체리스트의 길이를 size라고 한다.  \n",
    "\n",
    "    데이터 삽입 기능 insert  \n",
    "      숫자를 하나 전달받고\n",
    "      만약에 size가 0이면 \n",
    "        새로운 노드를 생성하고 새로운 노드의 data에 전달받은 숫자를 저장\n",
    "        head에 새로운 노드를 저장\n",
    "        tail에 새로운 노드를 저장\n",
    "        size를 1증가\n",
    "      그렇지 않고 만약에 size가 0보다 크면\n",
    "        새로운 노드를 생성하고 새로운 노드의 data에 전달받은 숫자를 저장\n",
    "        tail의 nextNode에 새로운 노드를 저장\n",
    "        tail에 새로운 노드를 저장\n",
    "        size를 1증가\n",
    "\n",
    "  \n",
    "    데이터 삭제 기능 delete  \n",
    "      숫자를 하나 전달받고\n",
    "      삭제할 데이터가 head 노드에 있으면 \n",
    "        새로운 변수에 head를 저장\n",
    "        head에 head의 nextNode를 저장\n",
    "        새로운 변수에 들어있는 객체 삭제    del 변수이름\n",
    "        size 1감소\n",
    "      삭제할 데이터가 head도 tail도 아니면 \n",
    "        삭제할 노드를 변수에 따로 저장하고\n",
    "        삭제할 노드의 이전 노드의 nextNode가 삭제할 노드의 nextNode가 되게 한다.\n",
    "        삭제할 노드 객체 삭제    del 변수이름\n",
    "        size 1감소\n",
    "        \n",
    "      \n",
    "      \n",
    "    모든 데이터 출력 기능 display\n",
    "      head 노드부터 tail 노드까지의 모든 data를 출력\n",
    "  \n",
    "  \n",
    "    입력받은 데이터가 어디있는지 출력\n",
    "        현재위치를 0이라 하고\n",
    "        숫자를 하나 입력받고\n",
    "        반복문으로 head에서 tail 노드까지의 모든 data를 입력받은 숫자와 비교\n",
    "        일치하면 현재 위치를 출력\n",
    "        일치하지 않으면 현재위치를 1증가시키고 다음 반복문 실행\n",
    "        \n",
    "        "
   ]
  },
  {
   "cell_type": "code",
   "execution_count": 3,
   "id": "088f50e6",
   "metadata": {},
   "outputs": [],
   "source": [
    "class Node:\n",
    "    data = 0\n",
    "    nextNode = None"
   ]
  },
  {
   "cell_type": "code",
   "execution_count": 4,
   "id": "8d13a6af",
   "metadata": {},
   "outputs": [],
   "source": [
    "class LinkedList:\n",
    "    head = None\n",
    "    tail = None\n",
    "    size = 0\n",
    "    \n",
    "    def insert(self, data):\n",
    "        newNode = Node()\n",
    "        newNode.data = data\n",
    "        \n",
    "        if self.size == 0 :    \n",
    "            self.head = newNode\n",
    "            self.tail = newNode\n",
    "        elif self.size == 1 :\n",
    "            self.head.nextNode = newNode\n",
    "            self.tail = newNode\n",
    "        else :\n",
    "            self.tail.nextNode = newNode\n",
    "            self.tail = newNode\n",
    "            \n",
    "        self.size = self.size + 1\n",
    "\n",
    "        \n",
    "        \n",
    "    def delete(self, data):\n",
    "        if self.head.data == data :\n",
    "            deleteNode = self.head\n",
    "            self.head = self.head.nextNode\n",
    "            del deleteNode\n",
    "            self.size = self.size - 1\n",
    "        else :\n",
    "            prev = self.head\n",
    "            current = self.head.nextNode\n",
    "            \n",
    "            for i in range(0, self.size, 1):\n",
    "                if current.data == data:\n",
    "                    prev.nextNode = current.nextNode\n",
    "                    del current\n",
    "                    self.size = self.size - 1\n",
    "                    break\n",
    "                prev = prev.nextNode\n",
    "                current = current.nextNode\n",
    "                    \n",
    "            \n",
    "    def searchNode(self, data):\n",
    "        current = self.head\n",
    "        \n",
    "        for idx in range(0, self.size, 1) :\n",
    "            if current.data == data:\n",
    "                return idx\n",
    "            current = current.nextNode\n",
    "        \n",
    "    def display(self):\n",
    "        current = self.head\n",
    "        \n",
    "        for i in range(0, self.size, 1):\n",
    "            print(current.data)\n",
    "            current = current.nextNode"
   ]
  },
  {
   "cell_type": "code",
   "execution_count": 5,
   "id": "e2dfaafd",
   "metadata": {},
   "outputs": [
    {
     "name": "stdout",
     "output_type": "stream",
     "text": [
      "10\n",
      "20\n",
      "30\n"
     ]
    }
   ],
   "source": [
    "ll = LinkedList()\n",
    "\n",
    "ll.insert(10)\n",
    "ll.insert(20)\n",
    "ll.insert(30)\n",
    "\n",
    "ll.display()"
   ]
  },
  {
   "cell_type": "code",
   "execution_count": 8,
   "id": "e534aeb0",
   "metadata": {},
   "outputs": [
    {
     "data": {
      "text/plain": [
       "0"
      ]
     },
     "execution_count": 8,
     "metadata": {},
     "output_type": "execute_result"
    }
   ],
   "source": [
    "ll.searchNode(10)"
   ]
  },
  {
   "cell_type": "markdown",
   "id": "e2ab3276",
   "metadata": {},
   "source": [
    "### 양방향 연결 리스트\n",
    "\n",
    "양방향 연결리스트는 하나의 데이터를 저장할 때 데이터와 다음 데이터의 위치, 이전 데이터의 위치를 같이 저장한다.\n",
    "\n",
    "양방향 연결리스트에서 데이터는 노드에 저장된다.  \n",
    "\n",
    "    노드\n",
    "      데이터가 저장되는 곳  \n",
    "      다음 노드를 저장하는 곳  \n",
    "      이전 노드를 저장하는 곳  \n",
    "      \n",
    "      \n",
    "    양방향연결리스트\n",
    "      첫번째 노드를 head라고 한다.\n",
    "      마지막 노드를 tail이라고 한다.\n",
    "      \n",
    "      \n",
    "      \n",
    "      맨 앞의 노드 삭제\n",
    "      맨 뒤의 노드 삭제\n",
    "      특정 위치의 노드 삭제\n",
    "      특정 노드의 위치를 찾는 기능\n",
    "      \n",
    "      \n",
    "      맨 앞의 노드 추가\n",
    "      맨 뒤의 노드 추가\n",
    "      특정 위치에 노드 추가\n",
    "      모든 노드 출력"
   ]
  },
  {
   "cell_type": "code",
   "execution_count": 10,
   "id": "c14b7e9c",
   "metadata": {},
   "outputs": [],
   "source": [
    "class Node:\n",
    "    data = 0 \n",
    "    nextNode = None\n",
    "    prevNode = None"
   ]
  },
  {
   "cell_type": "code",
   "execution_count": 44,
   "id": "ecf79c34",
   "metadata": {},
   "outputs": [],
   "source": [
    "\n",
    "class DoubleLinkedList:\n",
    "    head = None\n",
    "    tail = None\n",
    "    size = 0\n",
    "    \n",
    "    \n",
    "    def insert_first(self, data):\n",
    "        newNode = Node()\n",
    "        newNode.data = data\n",
    "        \n",
    "        if self.size == 0:\n",
    "            self.head = newNode\n",
    "            self.tail = newNode\n",
    "        else:\n",
    "            newNode.nextNode = self.head\n",
    "            self.head.prevNode = newNode\n",
    "            self.head = newNode\n",
    "            \n",
    "        self.size = self.size + 1\n",
    "        \n",
    "    def insert_last(self, data):\n",
    "        newNode = Node()\n",
    "        newNode.data = data\n",
    "        \n",
    "        if self.size == 0:\n",
    "            self.head = newNode\n",
    "            self.tail = newNode\n",
    "            \n",
    "        elif self.size == 1 :\n",
    "            self.head.nextNode = newNode\n",
    "            self.tail = newNode\n",
    "            newNode.prevNode = self.head\n",
    "            \n",
    "        else :\n",
    "            self.tail.nextNode = newNode\n",
    "            newNode.prevNode = self.tail\n",
    "            self.tail = newNode\n",
    "            \n",
    "        self.size = self.size + 1\n",
    "        \n",
    "        \n",
    "    def insert_index(self, idx, data) :\n",
    "        newNode = Node()\n",
    "        newNode.data = data\n",
    "        \n",
    "        if idx > self.size :\n",
    "            return \"리스트의 범위를 넘어섰습니다.\"\n",
    "        else :\n",
    "            if self.size == 0:\n",
    "                self.head = newNode\n",
    "                self.tail = newNode\n",
    "            else:\n",
    "                current = self.head\n",
    "                \n",
    "                for i in range(0, idx, 1):\n",
    "                    current = current.nextNode\n",
    "                    \n",
    "                newNode.nextNode = current\n",
    "                newNode.prevNode = current.prevNode\n",
    "                newNode.prevNode.nextNode = newNode\n",
    "                current.prevNode = newNode\n",
    "                \n",
    "\n",
    "        \n",
    "    def display(self):\n",
    "        current = self.head\n",
    "        while current.nextNode != None:\n",
    "            print(current.data)\n",
    "            current = current.nextNode\n",
    "        print(current.data)"
   ]
  },
  {
   "cell_type": "code",
   "execution_count": 45,
   "id": "3c1a70cd",
   "metadata": {},
   "outputs": [],
   "source": [
    "dll = DoubleLinkedList()\n",
    "\n",
    "dll.insert_last(10)\n",
    "dll.insert_last(20)\n",
    "dll.insert_last(30)"
   ]
  },
  {
   "cell_type": "code",
   "execution_count": 46,
   "id": "d39e1570",
   "metadata": {},
   "outputs": [
    {
     "name": "stdout",
     "output_type": "stream",
     "text": [
      "10\n",
      "20\n",
      "30\n"
     ]
    }
   ],
   "source": [
    "dll.display()"
   ]
  },
  {
   "cell_type": "code",
   "execution_count": 47,
   "id": "f614452e",
   "metadata": {},
   "outputs": [],
   "source": [
    "dll.insert_index(1,15)\n",
    "dll.display()"
   ]
  },
  {
   "cell_type": "code",
   "execution_count": 49,
   "id": "d147f4ac",
   "metadata": {},
   "outputs": [
    {
     "name": "stdout",
     "output_type": "stream",
     "text": [
      "10\n",
      "15\n",
      "19\n",
      "20\n",
      "30\n"
     ]
    }
   ],
   "source": [
    "dll.insert_index(2,19)\n",
    "dll.display()"
   ]
  },
  {
   "cell_type": "code",
   "execution_count": null,
   "id": "775af4ae",
   "metadata": {},
   "outputs": [],
   "source": []
  }
 ],
 "metadata": {
  "kernelspec": {
   "display_name": "Python 3",
   "language": "python",
   "name": "python3"
  },
  "language_info": {
   "codemirror_mode": {
    "name": "ipython",
    "version": 3
   },
   "file_extension": ".py",
   "mimetype": "text/x-python",
   "name": "python",
   "nbconvert_exporter": "python",
   "pygments_lexer": "ipython3",
   "version": "3.8.8"
  }
 },
 "nbformat": 4,
 "nbformat_minor": 5
}
