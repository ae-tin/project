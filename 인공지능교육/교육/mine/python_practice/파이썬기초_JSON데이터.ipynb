{
 "cells": [
  {
   "cell_type": "markdown",
   "id": "c624062d",
   "metadata": {},
   "source": [
    "# JSON\n",
    "\n",
    "JavaScript Object Notation의 약자로 사람이 읽을 수 있는 텍스트 기반의 데이터 교환 표준  \n",
    "JSON은 기존의 데이터를 주고받기 위해 사용하던 XML의 대안으로 좀 더 쉽게 데이터를 교환하고 저장하기 위하여 고안\n"
   ]
  },
  {
   "cell_type": "markdown",
   "id": "0bf309fd",
   "metadata": {},
   "source": [
    "### 밑의 예제는 공공데이터포털에서 가져온 기상청_동네예보 조회서비스 데이터"
   ]
  },
  {
   "cell_type": "code",
   "execution_count": 6,
   "id": "e07a793a",
   "metadata": {
    "scrolled": true
   },
   "outputs": [
    {
     "name": "stdout",
     "output_type": "stream",
     "text": [
      "{'response': {'header': {'resultCode': '00', 'resultMsg': 'NORMAL_SERVICE'}, 'body': {'dataType': 'JSON', 'items': {'item': [{'baseDate': '20210726', 'baseTime': '0600', 'category': 'PTY', 'nx': 18, 'ny': 1, 'obsrValue': '-999'}, {'baseDate': '20210726', 'baseTime': '0600', 'category': 'REH', 'nx': 18, 'ny': 1, 'obsrValue': '-998'}, {'baseDate': '20210726', 'baseTime': '0600', 'category': 'RN1', 'nx': 18, 'ny': 1, 'obsrValue': '-998.9'}, {'baseDate': '20210726', 'baseTime': '0600', 'category': 'T1H', 'nx': 18, 'ny': 1, 'obsrValue': '-999'}, {'baseDate': '20210726', 'baseTime': '0600', 'category': 'UUU', 'nx': 18, 'ny': 1, 'obsrValue': '-998.9'}, {'baseDate': '20210726', 'baseTime': '0600', 'category': 'VEC', 'nx': 18, 'ny': 1, 'obsrValue': '-998'}, {'baseDate': '20210726', 'baseTime': '0600', 'category': 'VVV', 'nx': 18, 'ny': 1, 'obsrValue': '-998.9'}, {'baseDate': '20210726', 'baseTime': '0600', 'category': 'WSD', 'nx': 18, 'ny': 1, 'obsrValue': '-998.9'}]}, 'pageNo': 1, 'numOfRows': 10, 'totalCount': 8}}}\n"
     ]
    }
   ],
   "source": [
    "import requests\n",
    "import json\n",
    "\n",
    "url = 'http://apis.data.go.kr/1360000/VilageFcstInfoService/getUltraSrtNcst'\n",
    "queryParams = 'ServiceKey=GtbNVjtp2jvReVCmZ3V%2F4mPHVV02KkS3%2B86s%2BApiM4dnx8KoVGUWqmRZj7rH%2FJ96%2Ff9ZkBPMvTBTjNGuLoLaGA%3D%3D&pageNo=1&numOfRows=10&dataType=JSON&base_date=20210726&base_time=0600&nx=18&ny=1'\n",
    "\n",
    "res = requests.get(url+'?'+queryParams)\n",
    "\n",
    "result = json.loads(res.content.decode('utf8').replace(\"'\", '\"'))\n",
    "\n",
    "print(result)\n"
   ]
  },
  {
   "cell_type": "markdown",
   "id": "ab5e026d",
   "metadata": {},
   "source": [
    "이 결과 데이터를 복사해서 json beautify 사이트들에 붙여 넣으면  \n",
    "잘 정리해서 데이터를 보여준다. 거기서 찾고 싶은 데이터를 찾아서 인덱스하자"
   ]
  },
  {
   "cell_type": "markdown",
   "id": "100bd6a0",
   "metadata": {},
   "source": [
    "-------------------------------------------"
   ]
  },
  {
   "cell_type": "markdown",
   "id": "ab549ce0",
   "metadata": {},
   "source": [
    "-------------------------------------------"
   ]
  },
  {
   "cell_type": "code",
   "execution_count": 9,
   "id": "f5c4c387",
   "metadata": {
    "collapsed": true
   },
   "outputs": [
    {
     "data": {
      "text/plain": [
       "[{'baseDate': '20210726',\n",
       "  'baseTime': '0600',\n",
       "  'category': 'PTY',\n",
       "  'nx': 18,\n",
       "  'ny': 1,\n",
       "  'obsrValue': '-999'},\n",
       " {'baseDate': '20210726',\n",
       "  'baseTime': '0600',\n",
       "  'category': 'REH',\n",
       "  'nx': 18,\n",
       "  'ny': 1,\n",
       "  'obsrValue': '-998'},\n",
       " {'baseDate': '20210726',\n",
       "  'baseTime': '0600',\n",
       "  'category': 'RN1',\n",
       "  'nx': 18,\n",
       "  'ny': 1,\n",
       "  'obsrValue': '-998.9'},\n",
       " {'baseDate': '20210726',\n",
       "  'baseTime': '0600',\n",
       "  'category': 'T1H',\n",
       "  'nx': 18,\n",
       "  'ny': 1,\n",
       "  'obsrValue': '-999'},\n",
       " {'baseDate': '20210726',\n",
       "  'baseTime': '0600',\n",
       "  'category': 'UUU',\n",
       "  'nx': 18,\n",
       "  'ny': 1,\n",
       "  'obsrValue': '-998.9'},\n",
       " {'baseDate': '20210726',\n",
       "  'baseTime': '0600',\n",
       "  'category': 'VEC',\n",
       "  'nx': 18,\n",
       "  'ny': 1,\n",
       "  'obsrValue': '-998'},\n",
       " {'baseDate': '20210726',\n",
       "  'baseTime': '0600',\n",
       "  'category': 'VVV',\n",
       "  'nx': 18,\n",
       "  'ny': 1,\n",
       "  'obsrValue': '-998.9'},\n",
       " {'baseDate': '20210726',\n",
       "  'baseTime': '0600',\n",
       "  'category': 'WSD',\n",
       "  'nx': 18,\n",
       "  'ny': 1,\n",
       "  'obsrValue': '-998.9'}]"
      ]
     },
     "execution_count": 9,
     "metadata": {},
     "output_type": "execute_result"
    }
   ],
   "source": [
    "result['response']['body']['items']['item']"
   ]
  },
  {
   "cell_type": "code",
   "execution_count": 11,
   "id": "e0f14a6b",
   "metadata": {},
   "outputs": [
    {
     "name": "stdout",
     "output_type": "stream",
     "text": [
      "PTY\n",
      "REH\n",
      "RN1\n",
      "T1H\n",
      "UUU\n",
      "VEC\n",
      "VVV\n",
      "WSD\n"
     ]
    }
   ],
   "source": [
    "for i in result['response']['body']['items']['item'] :\n",
    "    print(i['category'])"
   ]
  },
  {
   "cell_type": "markdown",
   "id": "5df594b5",
   "metadata": {},
   "source": [
    "## 문제\n",
    "\n",
    "category 값이 VVV인 obsrValue의 값을 출력하세요.  \n",
    "정답 :-998.9"
   ]
  },
  {
   "cell_type": "code",
   "execution_count": 13,
   "id": "d6b2b83f",
   "metadata": {},
   "outputs": [
    {
     "name": "stdout",
     "output_type": "stream",
     "text": [
      "-998.9\n"
     ]
    }
   ],
   "source": [
    "for i in result['response']['body']['items']['item'] :\n",
    "    if i['category'] =='VVV' :\n",
    "        print(i['obsrValue'])"
   ]
  },
  {
   "cell_type": "code",
   "execution_count": null,
   "id": "61f3b6af",
   "metadata": {},
   "outputs": [],
   "source": []
  },
  {
   "cell_type": "code",
   "execution_count": null,
   "id": "e92e5bd9",
   "metadata": {},
   "outputs": [],
   "source": []
  },
  {
   "cell_type": "code",
   "execution_count": null,
   "id": "c68c6fb6",
   "metadata": {},
   "outputs": [],
   "source": []
  },
  {
   "cell_type": "code",
   "execution_count": 16,
   "id": "8c6957a0",
   "metadata": {},
   "outputs": [
    {
     "name": "stdout",
     "output_type": "stream",
     "text": [
      "{'response': {'body': {'totalCount': 24, 'items': [{'imageUrl4': 'https://www.airkorea.or.kr/file/proxyImage?fileName=2021/07/25/AQFv1_15h.20210725.KNU_09_01.PM2P5.1hsp.2021072521.png', 'informCode': 'PM10', 'imageUrl5': 'https://www.airkorea.or.kr/file/proxyImage?fileName=2021/07/25/AQFv1_15h.20210725.KNU_09_01.PM2P5.1hsp.2021072603.png', 'imageUrl6': 'https://www.airkorea.or.kr/file/proxyImage?fileName=2021/07/25/AQFv1_15h.20210725.KNU_09_01.PM2P5.1hsp.2021072609.png', 'actionKnack': None, 'informCause': '○ [미세먼지] 원활한 대기 확산으로 대기 상태가 대체로 청정할 것으로 예상됩니다.', 'informOverall': \"○ [미세먼지] 전 권역이 '좋음'∼'보통'으로 예상됩니다.\", 'informData': '2021-07-25', 'informGrade': '서울 : 좋음,제주 : 좋음,전남 : 좋음,전북 : 좋음,광주 : 좋음,경남 : 좋음,경북 : 좋음,울산 : 좋음,대구 : 좋음,부산 : 좋음,충남 : 좋음,충북 : 좋음,세종 : 좋음,대전 : 좋음,영동 : 좋음,영서 : 좋음,경기남부 : 좋음,경기북부 : 좋음,인천 : 좋음', 'dataTime': '2021-07-25 23시 발표', 'imageUrl3': 'https://www.airkorea.or.kr/file/proxyImage?fileName=2021/07/25/AQFv1_15h.20210725.KNU_09_01.PM10.1hsp.2021072609.png', 'imageUrl2': 'https://www.airkorea.or.kr/file/proxyImage?fileName=2021/07/25/AQFv1_15h.20210725.KNU_09_01.PM10.1hsp.2021072603.png', 'imageUrl1': 'https://www.airkorea.or.kr/file/proxyImage?fileName=2021/07/25/AQFv1_15h.20210725.KNU_09_01.PM10.1hsp.2021072521.png'}, {'imageUrl4': 'https://www.airkorea.or.kr/file/proxyImage?fileName=2021/07/25/AQFv1_15h.20210725.KNU_09_01.PM2P5.1hsp.2021072521.png', 'informCode': 'PM10', 'imageUrl5': 'https://www.airkorea.or.kr/file/proxyImage?fileName=2021/07/25/AQFv1_15h.20210725.KNU_09_01.PM2P5.1hsp.2021072603.png', 'imageUrl6': 'https://www.airkorea.or.kr/file/proxyImage?fileName=2021/07/25/AQFv1_15h.20210725.KNU_09_01.PM2P5.1hsp.2021072609.png', 'actionKnack': None, 'informCause': '○ [미세먼지] 원활한 대기 확산으로 대기 상태가 청정할 것으로 예상됩니다.', 'informOverall': \"○ [미세먼지] 전 권역이 '좋음'으로 예상됩니다.\", 'informData': '2021-07-26', 'informGrade': '서울 : 좋음,제주 : 좋음,전남 : 좋음,전북 : 좋음,광주 : 좋음,경남 : 좋음,경북 : 좋음,울산 : 좋음,대구 : 좋음,부산 : 좋음,충남 : 좋음,충북 : 좋음,세종 : 좋음,대전 : 좋음,영동 : 좋음,영서 : 좋음,경기남부 : 좋음,경기북부 : 좋음,인천 : 좋음', 'dataTime': '2021-07-25 23시 발표', 'imageUrl3': 'https://www.airkorea.or.kr/file/proxyImage?fileName=2021/07/25/AQFv1_15h.20210725.KNU_09_01.PM10.1hsp.2021072609.png', 'imageUrl2': 'https://www.airkorea.or.kr/file/proxyImage?fileName=2021/07/25/AQFv1_15h.20210725.KNU_09_01.PM10.1hsp.2021072603.png', 'imageUrl1': 'https://www.airkorea.or.kr/file/proxyImage?fileName=2021/07/25/AQFv1_15h.20210725.KNU_09_01.PM10.1hsp.2021072521.png'}, {'imageUrl4': 'https://www.airkorea.or.kr/file/proxyImage?fileName=2021/07/25/AQFv1_15h.20210725.KNU_09_01.PM2P5.1hsp.2021072621.png', 'informCode': 'PM10', 'imageUrl5': 'https://www.airkorea.or.kr/file/proxyImage?fileName=2021/07/25/AQFv1_15h.20210725.KNU_09_01.PM2P5.1hsp.2021072703.png', 'imageUrl6': 'https://www.airkorea.or.kr/file/proxyImage?fileName=2021/07/25/AQFv1_15h.20210725.KNU_09_01.PM2P5.1hsp.2021072709.png', 'actionKnack': None, 'informCause': '○ [미세먼지] 원활한 대기 확산으로 대기 상태가 청정할 것으로 예상됩니다.', 'informOverall': \"○ [미세먼지] 전 권역이 '좋음'으로 예상됩니다.\", 'informData': '2021-07-27', 'informGrade': '서울 : 좋음,제주 : 좋음,전남 : 좋음,전북 : 좋음,광주 : 좋음,경남 : 좋음,경북 : 좋음,울산 : 좋음,대구 : 좋음,부산 : 좋음,충남 : 좋음,충북 : 좋음,세종 : 좋음,대전 : 좋음,영동 : 좋음,영서 : 좋음,경기남부 : 좋음,경기북부 : 좋음,인천 : 좋음', 'dataTime': '2021-07-25 23시 발표', 'imageUrl3': 'https://www.airkorea.or.kr/file/proxyImage?fileName=2021/07/25/AQFv1_15h.20210725.KNU_09_01.PM10.1hsp.2021072709.png', 'imageUrl2': 'https://www.airkorea.or.kr/file/proxyImage?fileName=2021/07/25/AQFv1_15h.20210725.KNU_09_01.PM10.1hsp.2021072703.png', 'imageUrl1': 'https://www.airkorea.or.kr/file/proxyImage?fileName=2021/07/25/AQFv1_15h.20210725.KNU_09_01.PM10.1hsp.2021072621.png'}, {'imageUrl4': 'https://www.airkorea.or.kr/file/proxyImage?fileName=2021/07/25/AQFv1_15h.20210725.KNU_09_01.PM2P5.1hsp.2021072521.png', 'informCode': 'PM25', 'imageUrl5': 'https://www.airkorea.or.kr/file/proxyImage?fileName=2021/07/25/AQFv1_15h.20210725.KNU_09_01.PM2P5.1hsp.2021072603.png', 'imageUrl6': 'https://www.airkorea.or.kr/file/proxyImage?fileName=2021/07/25/AQFv1_15h.20210725.KNU_09_01.PM2P5.1hsp.2021072609.png', 'actionKnack': None, 'informCause': '○ [미세먼지] 원활한 대기 확산으로 대기 상태가 대체로 청정할 것으로 예상됩니다.', 'informOverall': \"○ [미세먼지] 전 권역이 '좋음'∼'보통'으로 예상됩니다.\", 'informData': '2021-07-25', 'informGrade': '서울 : 좋음,제주 : 좋음,전남 : 좋음,전북 : 좋음,광주 : 좋음,경남 : 좋음,경북 : 좋음,울산 : 좋음,대구 : 좋음,부산 : 좋음,충남 : 보통,충북 : 좋음,세종 : 좋음,대전 : 좋음,영동 : 좋음,영서 : 좋음,경기남부 : 좋음,경기북부 : 좋음,인천 : 보통', 'dataTime': '2021-07-25 23시 발표', 'imageUrl3': 'https://www.airkorea.or.kr/file/proxyImage?fileName=2021/07/25/AQFv1_15h.20210725.KNU_09_01.PM10.1hsp.2021072609.png', 'imageUrl2': 'https://www.airkorea.or.kr/file/proxyImage?fileName=2021/07/25/AQFv1_15h.20210725.KNU_09_01.PM10.1hsp.2021072603.png', 'imageUrl1': 'https://www.airkorea.or.kr/file/proxyImage?fileName=2021/07/25/AQFv1_15h.20210725.KNU_09_01.PM10.1hsp.2021072521.png'}, {'imageUrl4': 'https://www.airkorea.or.kr/file/proxyImage?fileName=2021/07/25/AQFv1_15h.20210725.KNU_09_01.PM2P5.1hsp.2021072521.png', 'informCode': 'PM25', 'imageUrl5': 'https://www.airkorea.or.kr/file/proxyImage?fileName=2021/07/25/AQFv1_15h.20210725.KNU_09_01.PM2P5.1hsp.2021072603.png', 'imageUrl6': 'https://www.airkorea.or.kr/file/proxyImage?fileName=2021/07/25/AQFv1_15h.20210725.KNU_09_01.PM2P5.1hsp.2021072609.png', 'actionKnack': None, 'informCause': '○ [미세먼지] 원활한 대기 확산으로 대기 상태가 청정할 것으로 예상됩니다.', 'informOverall': \"○ [미세먼지] 전 권역이 '좋음'으로 예상됩니다.\", 'informData': '2021-07-26', 'informGrade': '서울 : 좋음,제주 : 좋음,전남 : 좋음,전북 : 좋음,광주 : 좋음,경남 : 좋음,경북 : 좋음,울산 : 좋음,대구 : 좋음,부산 : 좋음,충남 : 좋음,충북 : 좋음,세종 : 좋음,대전 : 좋음,영동 : 좋음,영서 : 좋음,경기남부 : 좋음,경기북부 : 좋음,인천 : 좋음', 'dataTime': '2021-07-25 23시 발표', 'imageUrl3': 'https://www.airkorea.or.kr/file/proxyImage?fileName=2021/07/25/AQFv1_15h.20210725.KNU_09_01.PM10.1hsp.2021072609.png', 'imageUrl2': None, 'imageUrl1': 'https://www.airkorea.or.kr/file/proxyImage?fileName=2021/07/25/AQFv1_15h.20210725.KNU_09_01.PM10.1hsp.2021072521.png'}, {'imageUrl4': 'https://www.airkorea.or.kr/file/proxyImage?fileName=2021/07/25/AQFv1_15h.20210725.KNU_09_01.PM2P5.1hsp.2021072621.png', 'informCode': 'PM25', 'imageUrl5': 'https://www.airkorea.or.kr/file/proxyImage?fileName=2021/07/25/AQFv1_15h.20210725.KNU_09_01.PM2P5.1hsp.2021072703.png', 'imageUrl6': 'https://www.airkorea.or.kr/file/proxyImage?fileName=2021/07/25/AQFv1_15h.20210725.KNU_09_01.PM2P5.1hsp.2021072709.png', 'actionKnack': None, 'informCause': '○ [미세먼지] 원활한 대기 확산으로 대기 상태가 청정할 것으로 예상됩니다.', 'informOverall': \"○ [미세먼지] 전 권역이 '좋음'으로 예상됩니다.\", 'informData': '2021-07-27', 'informGrade': '서울 : 좋음,제주 : 좋음,전남 : 좋음,전북 : 좋음,광주 : 좋음,경남 : 좋음,경북 : 좋음,울산 : 좋음,대구 : 좋음,부산 : 좋음,충남 : 좋음,충북 : 좋음,세종 : 좋음,대전 : 좋음,영동 : 좋음,영서 : 좋음,경기남부 : 좋음,경기북부 : 좋음,인천 : 좋음', 'dataTime': '2021-07-25 23시 발표', 'imageUrl3': 'https://www.airkorea.or.kr/file/proxyImage?fileName=2021/07/25/AQFv1_15h.20210725.KNU_09_01.PM10.1hsp.2021072709.png', 'imageUrl2': 'https://www.airkorea.or.kr/file/proxyImage?fileName=2021/07/25/AQFv1_15h.20210725.KNU_09_01.PM10.1hsp.2021072703.png', 'imageUrl1': 'https://www.airkorea.or.kr/file/proxyImage?fileName=2021/07/25/AQFv1_15h.20210725.KNU_09_01.PM10.1hsp.2021072621.png'}, {'imageUrl4': None, 'informCode': 'O3', 'imageUrl5': 'https://www.airkorea.or.kr/file/proxyImage?fileName=2021/07/25/AQFv1_15h.20210725.KNU_09_01.O3.1hsp.2021072706.png', 'imageUrl6': None, 'actionKnack': None, 'informCause': '○ [오존] 대기오염물질의 광화학 반응에 의한 오존 생성과 이동으로 대부분 수도권은 오후에 일시적으로 농도가 높을 것으로 예상됩니다.', 'informOverall': \"○ [오존] 인천·경기북부는 '나쁨', 그 밖의 권역은 '보통'으로 예상됩니다.\", 'informData': '2021-07-26', 'informGrade': '서울 : 보통,제주 : 보통,전남 : 보통,전북 : 보통,광주 : 보통,경남 : 보통,경북 : 보통,울산 : 보통,대구 : 보통,부산 : 보통,충남 : 보통,충북 : 보통,세종 : 보통,대전 : 보통,영동 : 보통,영서 : 보통,경기남부 : 보통,경기북부 : 나쁨,인천 : 나쁨', 'dataTime': '2021-07-25 23시 발표', 'imageUrl3': None, 'imageUrl2': None, 'imageUrl1': None}, {'imageUrl4': 'https://www.airkorea.or.kr/file/proxyImage?fileName=2021/07/25/AQFv1_09h.20210725.KNU_09_01.PM2P5.1hsp.2021072521.png', 'informCode': 'PM10', 'imageUrl5': 'https://www.airkorea.or.kr/file/proxyImage?fileName=2021/07/25/AQFv1_09h.20210725.KNU_09_01.PM2P5.1hsp.2021072603.png', 'imageUrl6': 'https://www.airkorea.or.kr/file/proxyImage?fileName=2021/07/25/AQFv1_09h.20210725.KNU_09_01.PM2P5.1hsp.2021072609.png', 'actionKnack': None, 'informCause': '○ [미세먼지] 원활한 대기 확산으로 대기 상태가 대체로 청정할 것으로 예상됩니다.', 'informOverall': \"○ [미세먼지] 전 권역이 '좋음'∼'보통'으로 예상됩니다.\", 'informData': '2021-07-25', 'informGrade': '서울 : 좋음,제주 : 좋음,전남 : 좋음,전북 : 좋음,광주 : 좋음,경남 : 좋음,경북 : 좋음,울산 : 좋음,대구 : 좋음,부산 : 좋음,충남 : 좋음,충북 : 좋음,세종 : 좋음,대전 : 좋음,영동 : 좋음,영서 : 좋음,경기남부 : 좋음,경기북부 : 좋음,인천 : 좋음', 'dataTime': '2021-07-25 17시 발표', 'imageUrl3': 'https://www.airkorea.or.kr/file/proxyImage?fileName=2021/07/25/AQFv1_09h.20210725.KNU_09_01.PM10.1hsp.2021072609.png', 'imageUrl2': 'https://www.airkorea.or.kr/file/proxyImage?fileName=2021/07/25/AQFv1_09h.20210725.KNU_09_01.PM10.1hsp.2021072603.png', 'imageUrl1': 'https://www.airkorea.or.kr/file/proxyImage?fileName=2021/07/25/AQFv1_09h.20210725.KNU_09_01.PM10.1hsp.2021072521.png'}, {'imageUrl4': 'https://www.airkorea.or.kr/file/proxyImage?fileName=2021/07/25/AQFv1_09h.20210725.KNU_09_01.PM2P5.1hsp.2021072521.png', 'informCode': 'PM10', 'imageUrl5': 'https://www.airkorea.or.kr/file/proxyImage?fileName=2021/07/25/AQFv1_09h.20210725.KNU_09_01.PM2P5.1hsp.2021072603.png', 'imageUrl6': 'https://www.airkorea.or.kr/file/proxyImage?fileName=2021/07/25/AQFv1_09h.20210725.KNU_09_01.PM2P5.1hsp.2021072609.png', 'actionKnack': None, 'informCause': '○ [미세먼지] 원활한 대기 확산으로 대기 상태가 청정할 것으로 예상됩니다.', 'informOverall': \"○ [미세먼지] 전 권역이 '좋음'으로 예상됩니다.\", 'informData': '2021-07-26', 'informGrade': '서울 : 좋음,제주 : 좋음,전남 : 좋음,전북 : 좋음,광주 : 좋음,경남 : 좋음,경북 : 좋음,울산 : 좋음,대구 : 좋음,부산 : 좋음,충남 : 좋음,충북 : 좋음,세종 : 좋음,대전 : 좋음,영동 : 좋음,영서 : 좋음,경기남부 : 좋음,경기북부 : 좋음,인천 : 좋음', 'dataTime': '2021-07-25 17시 발표', 'imageUrl3': 'https://www.airkorea.or.kr/file/proxyImage?fileName=2021/07/25/AQFv1_09h.20210725.KNU_09_01.PM10.1hsp.2021072609.png', 'imageUrl2': 'https://www.airkorea.or.kr/file/proxyImage?fileName=2021/07/25/AQFv1_09h.20210725.KNU_09_01.PM10.1hsp.2021072603.png', 'imageUrl1': 'https://www.airkorea.or.kr/file/proxyImage?fileName=2021/07/25/AQFv1_09h.20210725.KNU_09_01.PM10.1hsp.2021072521.png'}, {'imageUrl4': 'https://www.airkorea.or.kr/file/proxyImage?fileName=2021/07/25/AQFv1_09h.20210725.KNU_09_01.PM2P5.1hsp.2021072621.png', 'informCode': 'PM10', 'imageUrl5': 'https://www.airkorea.or.kr/file/proxyImage?fileName=2021/07/25/AQFv1_09h.20210725.KNU_09_01.PM2P5.1hsp.2021072703.png', 'imageUrl6': 'https://www.airkorea.or.kr/file/proxyImage?fileName=2021/07/25/AQFv1_09h.20210725.KNU_09_01.PM2P5.1hsp.2021072709.png', 'actionKnack': None, 'informCause': '○ [미세먼지] 원활한 대기 확산으로 대기 상태가 청정할 것으로 예상됩니다.', 'informOverall': \"○ [미세먼지] 전 권역이 '좋음'으로 예상됩니다.\", 'informData': '2021-07-27', 'informGrade': '서울 : 좋음,제주 : 좋음,전남 : 좋음,전북 : 좋음,광주 : 좋음,경남 : 좋음,경북 : 좋음,울산 : 좋음,대구 : 좋음,부산 : 좋음,충남 : 좋음,충북 : 좋음,세종 : 좋음,대전 : 좋음,영동 : 좋음,영서 : 좋음,경기남부 : 좋음,경기북부 : 좋음,인천 : 좋음', 'dataTime': '2021-07-25 17시 발표', 'imageUrl3': 'https://www.airkorea.or.kr/file/proxyImage?fileName=2021/07/25/AQFv1_09h.20210725.KNU_09_01.PM10.1hsp.2021072709.png', 'imageUrl2': 'https://www.airkorea.or.kr/file/proxyImage?fileName=2021/07/25/AQFv1_09h.20210725.KNU_09_01.PM10.1hsp.2021072703.png', 'imageUrl1': 'https://www.airkorea.or.kr/file/proxyImage?fileName=2021/07/25/AQFv1_09h.20210725.KNU_09_01.PM10.1hsp.2021072621.png'}, {'imageUrl4': 'https://www.airkorea.or.kr/file/proxyImage?fileName=2021/07/25/AQFv1_09h.20210725.KNU_09_01.PM2P5.1hsp.2021072521.png', 'informCode': 'PM25', 'imageUrl5': 'https://www.airkorea.or.kr/file/proxyImage?fileName=2021/07/25/AQFv1_09h.20210725.KNU_09_01.PM2P5.1hsp.2021072603.png', 'imageUrl6': 'https://www.airkorea.or.kr/file/proxyImage?fileName=2021/07/25/AQFv1_09h.20210725.KNU_09_01.PM2P5.1hsp.2021072609.png', 'actionKnack': None, 'informCause': '○ [미세먼지] 원활한 대기 확산으로 대기 상태가 대체로 청정할 것으로 예상됩니다.', 'informOverall': \"○ [미세먼지] 전 권역이 '좋음'∼'보통'으로 예상됩니다.\", 'informData': '2021-07-25', 'informGrade': '서울 : 좋음,제주 : 좋음,전남 : 좋음,전북 : 좋음,광주 : 좋음,경남 : 좋음,경북 : 좋음,울산 : 좋음,대구 : 좋음,부산 : 좋음,충남 : 좋음,충북 : 좋음,세종 : 좋음,대전 : 좋음,영동 : 좋음,영서 : 좋음,경기남부 : 좋음,경기북부 : 좋음,인천 : 보통', 'dataTime': '2021-07-25 17시 발표', 'imageUrl3': 'https://www.airkorea.or.kr/file/proxyImage?fileName=2021/07/25/AQFv1_09h.20210725.KNU_09_01.PM10.1hsp.2021072609.png', 'imageUrl2': 'https://www.airkorea.or.kr/file/proxyImage?fileName=2021/07/25/AQFv1_09h.20210725.KNU_09_01.PM10.1hsp.2021072603.png', 'imageUrl1': 'https://www.airkorea.or.kr/file/proxyImage?fileName=2021/07/25/AQFv1_09h.20210725.KNU_09_01.PM10.1hsp.2021072521.png'}, {'imageUrl4': 'https://www.airkorea.or.kr/file/proxyImage?fileName=2021/07/25/AQFv1_09h.20210725.KNU_09_01.PM2P5.1hsp.2021072521.png', 'informCode': 'PM25', 'imageUrl5': 'https://www.airkorea.or.kr/file/proxyImage?fileName=2021/07/25/AQFv1_09h.20210725.KNU_09_01.PM2P5.1hsp.2021072603.png', 'imageUrl6': 'https://www.airkorea.or.kr/file/proxyImage?fileName=2021/07/25/AQFv1_09h.20210725.KNU_09_01.PM2P5.1hsp.2021072609.png', 'actionKnack': None, 'informCause': '○ [미세먼지] 원활한 대기 확산으로 대기 상태가 청정할 것으로 예상됩니다.', 'informOverall': \"○ [미세먼지] 전 권역이 '좋음'으로 예상됩니다.\", 'informData': '2021-07-26', 'informGrade': '서울 : 좋음,제주 : 좋음,전남 : 좋음,전북 : 좋음,광주 : 좋음,경남 : 좋음,경북 : 좋음,울산 : 좋음,대구 : 좋음,부산 : 좋음,충남 : 좋음,충북 : 좋음,세종 : 좋음,대전 : 좋음,영동 : 좋음,영서 : 좋음,경기남부 : 좋음,경기북부 : 좋음,인천 : 좋음', 'dataTime': '2021-07-25 17시 발표', 'imageUrl3': 'https://www.airkorea.or.kr/file/proxyImage?fileName=2021/07/25/AQFv1_09h.20210725.KNU_09_01.PM10.1hsp.2021072609.png', 'imageUrl2': None, 'imageUrl1': 'https://www.airkorea.or.kr/file/proxyImage?fileName=2021/07/25/AQFv1_09h.20210725.KNU_09_01.PM10.1hsp.2021072521.png'}, {'imageUrl4': 'https://www.airkorea.or.kr/file/proxyImage?fileName=2021/07/25/AQFv1_09h.20210725.KNU_09_01.PM2P5.1hsp.2021072621.png', 'informCode': 'PM25', 'imageUrl5': 'https://www.airkorea.or.kr/file/proxyImage?fileName=2021/07/25/AQFv1_09h.20210725.KNU_09_01.PM2P5.1hsp.2021072703.png', 'imageUrl6': 'https://www.airkorea.or.kr/file/proxyImage?fileName=2021/07/25/AQFv1_09h.20210725.KNU_09_01.PM2P5.1hsp.2021072709.png', 'actionKnack': None, 'informCause': '○ [미세먼지] 원활한 대기 확산으로 대기 상태가 청정할 것으로 예상됩니다.', 'informOverall': \"○ [미세먼지] 전 권역이 '좋음'으로 예상됩니다.\", 'informData': '2021-07-27', 'informGrade': '서울 : 좋음,제주 : 좋음,전남 : 좋음,전북 : 좋음,광주 : 좋음,경남 : 좋음,경북 : 좋음,울산 : 좋음,대구 : 좋음,부산 : 좋음,충남 : 좋음,충북 : 좋음,세종 : 좋음,대전 : 좋음,영동 : 좋음,영서 : 좋음,경기남부 : 좋음,경기북부 : 좋음,인천 : 좋음', 'dataTime': '2021-07-25 17시 발표', 'imageUrl3': 'https://www.airkorea.or.kr/file/proxyImage?fileName=2021/07/25/AQFv1_09h.20210725.KNU_09_01.PM10.1hsp.2021072709.png', 'imageUrl2': 'https://www.airkorea.or.kr/file/proxyImage?fileName=2021/07/25/AQFv1_09h.20210725.KNU_09_01.PM10.1hsp.2021072703.png', 'imageUrl1': 'https://www.airkorea.or.kr/file/proxyImage?fileName=2021/07/25/AQFv1_09h.20210725.KNU_09_01.PM10.1hsp.2021072621.png'}, {'imageUrl4': None, 'informCode': 'O3', 'imageUrl5': 'https://www.airkorea.or.kr/file/proxyImage?fileName=2021/07/25/AQFv1_09h.20210725.KNU_09_01.O3.1hsp.2021072706.png', 'imageUrl6': None, 'actionKnack': None, 'informCause': '○ [오존] 대기오염물질의 광화학 반응에 의한 오존 생성과 이동으로 일부 수도권은 오후에 일시적으로 농도가 높을 것으로 예상됩니다.', 'informOverall': \"○ [오존] 인천·경기북부는 '나쁨', 그 밖의 권역은 '보통'으로 예상됩니다.\", 'informData': '2021-07-26', 'informGrade': '서울 : 보통,제주 : 보통,전남 : 보통,전북 : 보통,광주 : 보통,경남 : 보통,경북 : 보통,울산 : 보통,대구 : 보통,부산 : 보통,충남 : 보통,충북 : 보통,세종 : 보통,대전 : 보통,영동 : 보통,영서 : 보통,경기남부 : 보통,경기북부 : 나쁨,인천 : 나쁨', 'dataTime': '2021-07-25 17시 발표', 'imageUrl3': None, 'imageUrl2': None, 'imageUrl1': None}, {'imageUrl4': 'https://www.airkorea.or.kr/file/proxyImage?fileName=2021/07/25/AQFv4_03h.20210725.KNU_09_01.PM2P5.1hsp.2021072503.png', 'informCode': 'PM10', 'imageUrl5': 'https://www.airkorea.or.kr/file/proxyImage?fileName=2021/07/25/AQFv4_03h.20210725.KNU_09_01.PM2P5.1hsp.2021072509.png', 'imageUrl6': 'https://www.airkorea.or.kr/file/proxyImage?fileName=2021/07/25/AQFv4_03h.20210725.KNU_09_01.PM2P5.1hsp.2021072515.png', 'actionKnack': None, 'informCause': '○ [미세먼지] 원활한 대기 확산으로 대기 상태가 대체로 청정할 것으로 예상됩니다.', 'informOverall': \"○ [미세먼지] 전 권역이 '좋음'∼'보통'으로 예상됩니다.\", 'informData': '2021-07-25', 'informGrade': '서울 : 좋음,제주 : 좋음,전남 : 좋음,전북 : 좋음,광주 : 좋음,경남 : 좋음,경북 : 좋음,울산 : 좋음,대구 : 좋음,부산 : 좋음,충남 : 좋음,충북 : 좋음,세종 : 좋음,대전 : 좋음,영동 : 좋음,영서 : 좋음,경기남부 : 좋음,경기북부 : 좋음,인천 : 좋음', 'dataTime': '2021-07-25 11시 발표', 'imageUrl3': 'https://www.airkorea.or.kr/file/proxyImage?fileName=2021/07/25/AQFv4_03h.20210725.KNU_09_01.PM10.1hsp.2021072515.png', 'imageUrl2': 'https://www.airkorea.or.kr/file/proxyImage?fileName=2021/07/25/AQFv4_03h.20210725.KNU_09_01.PM10.1hsp.2021072509.png', 'imageUrl1': 'https://www.airkorea.or.kr/file/proxyImage?fileName=2021/07/25/AQFv4_03h.20210725.KNU_09_01.PM10.1hsp.2021072503.png'}, {'imageUrl4': None, 'informCode': 'PM10', 'imageUrl5': None, 'imageUrl6': None, 'actionKnack': None, 'informCause': '○ [미세먼지] 원활한 대기 확산으로 대기 상태가 청정할 것으로 예상됩니다.', 'informOverall': \"○ [미세먼지] 전 권역이 '좋음'으로 예상됩니다.\", 'informData': '2021-07-26', 'informGrade': '서울 : 좋음,제주 : 좋음,전남 : 좋음,전북 : 좋음,광주 : 좋음,경남 : 좋음,경북 : 좋음,울산 : 좋음,대구 : 좋음,부산 : 좋음,충남 : 좋음,충북 : 좋음,세종 : 좋음,대전 : 좋음,영동 : 좋음,영서 : 좋음,경기남부 : 좋음,경기북부 : 좋음,인천 : 좋음', 'dataTime': '2021-07-25 11시 발표', 'imageUrl3': None, 'imageUrl2': None, 'imageUrl1': None}, {'imageUrl4': 'https://www.airkorea.or.kr/file/proxyImage?fileName=2021/07/25/AQFv4_03h.20210725.KNU_09_01.PM2P5.1hsp.2021072503.png', 'informCode': 'PM25', 'imageUrl5': 'https://www.airkorea.or.kr/file/proxyImage?fileName=2021/07/25/AQFv4_03h.20210725.KNU_09_01.PM2P5.1hsp.2021072509.png', 'imageUrl6': 'https://www.airkorea.or.kr/file/proxyImage?fileName=2021/07/25/AQFv4_03h.20210725.KNU_09_01.PM2P5.1hsp.2021072515.png', 'actionKnack': None, 'informCause': '○ [미세먼지] 원활한 대기 확산으로 대기 상태가 대체로 청정할 것으로 예상됩니다.', 'informOverall': \"○ [미세먼지] 전 권역이 '좋음'∼'보통'으로 예상됩니다.\", 'informData': '2021-07-25', 'informGrade': '서울 : 좋음,제주 : 좋음,전남 : 좋음,전북 : 좋음,광주 : 좋음,경남 : 좋음,경북 : 좋음,울산 : 좋음,대구 : 좋음,부산 : 좋음,충남 : 좋음,충북 : 좋음,세종 : 좋음,대전 : 좋음,영동 : 좋음,영서 : 좋음,경기남부 : 좋음,경기북부 : 보통,인천 : 보통', 'dataTime': '2021-07-25 11시 발표', 'imageUrl3': 'https://www.airkorea.or.kr/file/proxyImage?fileName=2021/07/25/AQFv4_03h.20210725.KNU_09_01.PM10.1hsp.2021072515.png', 'imageUrl2': 'https://www.airkorea.or.kr/file/proxyImage?fileName=2021/07/25/AQFv4_03h.20210725.KNU_09_01.PM10.1hsp.2021072509.png', 'imageUrl1': 'https://www.airkorea.or.kr/file/proxyImage?fileName=2021/07/25/AQFv4_03h.20210725.KNU_09_01.PM10.1hsp.2021072503.png'}, {'imageUrl4': None, 'informCode': 'PM25', 'imageUrl5': None, 'imageUrl6': None, 'actionKnack': None, 'informCause': '○ [미세먼지] 원활한 대기 확산으로 대기 상태가 청정할 것으로 예상됩니다.', 'informOverall': \"○ [미세먼지] 전 권역이 '좋음'으로 예상됩니다.\", 'informData': '2021-07-26', 'informGrade': '서울 : 좋음,제주 : 좋음,전남 : 좋음,전북 : 좋음,광주 : 좋음,경남 : 좋음,경북 : 좋음,울산 : 좋음,대구 : 좋음,부산 : 좋음,충남 : 좋음,충북 : 좋음,세종 : 좋음,대전 : 좋음,영동 : 좋음,영서 : 좋음,경기남부 : 좋음,경기북부 : 좋음,인천 : 좋음', 'dataTime': '2021-07-25 11시 발표', 'imageUrl3': None, 'imageUrl2': None, 'imageUrl1': None}, {'imageUrl4': 'https://www.airkorea.or.kr/file/proxyImage?fileName=2021/07/25/AQFv4_03h.20210725.KNU_09_01.O3.1hsp.2021072603.png', 'informCode': 'O3', 'imageUrl5': 'https://www.airkorea.or.kr/file/proxyImage?fileName=2021/07/25/AQFv4_03h.20210725.KNU_09_01.O3.1hsp.2021072606.png', 'imageUrl6': 'https://www.airkorea.or.kr/file/proxyImage?fileName=2021/07/25/AQFv4_03h.20210725.KNU_09_01.O3.1hsp.2021072609.png', 'actionKnack': None, 'informCause': '○ [오존] 대기오염물질의 광화학 반응에 의한 오존 생성과 이동으로 대부분 중서부지역은 오후에 농도가 높을 것으로 예상됩니다.', 'informOverall': \"○ [오존] 수도권·충남은 '나쁨', 그 밖의 권역은 '보통'으로 예상됩니다.\", 'informData': '2021-07-25', 'informGrade': '서울 : 나쁨,제주 : 보통,전남 : 보통,전북 : 보통,광주 : 보통,경남 : 보통,경북 : 보통,울산 : 보통,대구 : 보통,부산 : 보통,충남 : 나쁨,충북 : 보통,세종 : 보통,대전 : 보통,영동 : 보통,영서 : 보통,경기남부 : 나쁨,경기북부 : 나쁨,인천 : 나쁨', 'dataTime': '2021-07-25 11시 발표', 'imageUrl3': 'https://www.airkorea.or.kr/file/proxyImage?fileName=2021/07/25/AQFv4_03h.20210725.KNU_09_01.O3.1hsp.2021072509.png', 'imageUrl2': 'https://www.airkorea.or.kr/file/proxyImage?fileName=2021/07/25/AQFv4_03h.20210725.KNU_09_01.O3.1hsp.2021072506.png', 'imageUrl1': 'https://www.airkorea.or.kr/file/proxyImage?fileName=2021/07/25/AQFv4_03h.20210725.KNU_09_01.O3.1hsp.2021072503.png'}, {'imageUrl4': 'https://www.airkorea.or.kr/file/proxyImage?fileName=2021/07/25/AQFv1_21h.20210724.KNU_09_01.PM2P5.1hsp.2021072500.png', 'informCode': 'PM10', 'imageUrl5': 'https://www.airkorea.or.kr/file/proxyImage?fileName=2021/07/25/AQFv1_21h.20210724.KNU_09_01.PM2P5.1hsp.2021072506.png', 'imageUrl6': 'https://www.airkorea.or.kr/file/proxyImage?fileName=2021/07/25/AQFv1_21h.20210724.KNU_09_01.PM2P5.1hsp.2021072512.png', 'actionKnack': None, 'informCause': '○ [미세먼지] 원활한 대기 확산으로 대기 상태가 대체로 청정할 것으로 예상됩니다.', 'informOverall': \"○ [미세먼지] 전 권역이 '좋음'∼'보통'으로 예상됩니다. 다만, 인천은 새벽에 '나쁨' 수준일 것으로 예상됩니다.\", 'informData': '2021-07-25', 'informGrade': '서울 : 좋음,제주 : 좋음,전남 : 좋음,전북 : 좋음,광주 : 좋음,경남 : 좋음,경북 : 좋음,울산 : 좋음,대구 : 좋음,부산 : 좋음,충남 : 좋음,충북 : 좋음,세종 : 좋음,대전 : 좋음,영동 : 좋음,영서 : 좋음,경기남부 : 좋음,경기북부 : 좋음,인천 : 보통', 'dataTime': '2021-07-25 05시 발표', 'imageUrl3': 'https://www.airkorea.or.kr/file/proxyImage?fileName=2021/07/25/AQFv1_21h.20210724.KNU_09_01.PM10.1hsp.2021072512.png', 'imageUrl2': 'https://www.airkorea.or.kr/file/proxyImage?fileName=2021/07/25/AQFv1_21h.20210724.KNU_09_01.PM10.1hsp.2021072506.png', 'imageUrl1': 'https://www.airkorea.or.kr/file/proxyImage?fileName=2021/07/25/AQFv1_21h.20210724.KNU_09_01.PM10.1hsp.2021072500.png'}, {'imageUrl4': None, 'informCode': 'PM10', 'imageUrl5': None, 'imageUrl6': None, 'actionKnack': None, 'informCause': '○ [미세먼지] 원활한 대기 확산으로 대기 상태가 대체로 청정할 것으로 예상됩니다.', 'informOverall': \"○ [미세먼지] 전 권역이 '좋음'∼'보통'으로 예상됩니다.\", 'informData': '2021-07-26', 'informGrade': '서울 : 좋음,제주 : 좋음,전남 : 좋음,전북 : 좋음,광주 : 좋음,경남 : 좋음,경북 : 좋음,울산 : 좋음,대구 : 좋음,부산 : 좋음,충남 : 좋음,충북 : 좋음,세종 : 좋음,대전 : 좋음,영동 : 좋음,영서 : 좋음,경기남부 : 좋음,경기북부 : 좋음,인천 : 보통', 'dataTime': '2021-07-25 05시 발표', 'imageUrl3': None, 'imageUrl2': None, 'imageUrl1': None}, {'imageUrl4': 'https://www.airkorea.or.kr/file/proxyImage?fileName=2021/07/25/AQFv1_21h.20210724.KNU_09_01.PM2P5.1hsp.2021072500.png', 'informCode': 'PM25', 'imageUrl5': 'https://www.airkorea.or.kr/file/proxyImage?fileName=2021/07/25/AQFv1_21h.20210724.KNU_09_01.PM2P5.1hsp.2021072506.png', 'imageUrl6': 'https://www.airkorea.or.kr/file/proxyImage?fileName=2021/07/25/AQFv1_21h.20210724.KNU_09_01.PM2P5.1hsp.2021072512.png', 'actionKnack': None, 'informCause': '○ [미세먼지] 원활한 대기 확산으로 대기 상태가 대체로 청정할 것으로 예상됩니다.', 'informOverall': \"○ [미세먼지] 전 권역이 '좋음'∼'보통'으로 예상됩니다. 다만, 인천은 새벽에 '나쁨' 수준일 것으로 예상됩니다.\", 'informData': '2021-07-25', 'informGrade': '서울 : 보통,제주 : 좋음,전남 : 좋음,전북 : 좋음,광주 : 좋음,경남 : 좋음,경북 : 좋음,울산 : 좋음,대구 : 좋음,부산 : 좋음,충남 : 보통,충북 : 좋음,세종 : 좋음,대전 : 좋음,영동 : 좋음,영서 : 좋음,경기남부 : 보통,경기북부 : 보통,인천 : 보통', 'dataTime': '2021-07-25 05시 발표', 'imageUrl3': 'https://www.airkorea.or.kr/file/proxyImage?fileName=2021/07/25/AQFv1_21h.20210724.KNU_09_01.PM10.1hsp.2021072512.png', 'imageUrl2': 'https://www.airkorea.or.kr/file/proxyImage?fileName=2021/07/25/AQFv1_21h.20210724.KNU_09_01.PM10.1hsp.2021072506.png', 'imageUrl1': 'https://www.airkorea.or.kr/file/proxyImage?fileName=2021/07/25/AQFv1_21h.20210724.KNU_09_01.PM10.1hsp.2021072500.png'}, {'imageUrl4': None, 'informCode': 'PM25', 'imageUrl5': None, 'imageUrl6': None, 'actionKnack': None, 'informCause': '○ [미세먼지] 원활한 대기 확산으로 대기 상태가 대체로 청정할 것으로 예상됩니다.', 'informOverall': \"○ [미세먼지] 전 권역이 '좋음'∼'보통'으로 예상됩니다.\", 'informData': '2021-07-26', 'informGrade': '서울 : 보통,제주 : 좋음,전남 : 좋음,전북 : 좋음,광주 : 좋음,경남 : 좋음,경북 : 좋음,울산 : 좋음,대구 : 좋음,부산 : 좋음,충남 : 보통,충북 : 좋음,세종 : 좋음,대전 : 좋음,영동 : 좋음,영서 : 좋음,경기남부 : 보통,경기북부 : 보통,인천 : 보통', 'dataTime': '2021-07-25 05시 발표', 'imageUrl3': None, 'imageUrl2': None, 'imageUrl1': None}, {'imageUrl4': 'https://www.airkorea.or.kr/file/proxyImage?fileName=2021/07/25/AQFv1_21h.20210724.KNU_09_01.O3.1hsp.2021072603.png', 'informCode': 'O3', 'imageUrl5': 'https://www.airkorea.or.kr/file/proxyImage?fileName=2021/07/25/AQFv1_21h.20210724.KNU_09_01.O3.1hsp.2021072606.png', 'imageUrl6': 'https://www.airkorea.or.kr/file/proxyImage?fileName=2021/07/25/AQFv1_21h.20210724.KNU_09_01.O3.1hsp.2021072609.png', 'actionKnack': None, 'informCause': '○ [오존] 대기오염물질의 광화학 반응에 의한 오존 생성과 이동으로 대부분 중서부지역은 오후에 농도가 높을 것으로 예상됩니다.', 'informOverall': \"○ [오존] 수도권·충남은 '나쁨', 그 밖의 권역은 '보통'으로 예상됩니다.\", 'informData': '2021-07-25', 'informGrade': '서울 : 나쁨,제주 : 보통,전남 : 보통,전북 : 보통,광주 : 보통,경남 : 보통,경북 : 보통,울산 : 보통,대구 : 보통,부산 : 보통,충남 : 나쁨,충북 : 보통,세종 : 보통,대전 : 보통,영동 : 보통,영서 : 보통,경기남부 : 나쁨,경기북부 : 나쁨,인천 : 나쁨', 'dataTime': '2021-07-25 05시 발표', 'imageUrl3': 'https://www.airkorea.or.kr/file/proxyImage?fileName=2021/07/25/AQFv1_21h.20210724.KNU_09_01.O3.1hsp.2021072509.png', 'imageUrl2': 'https://www.airkorea.or.kr/file/proxyImage?fileName=2021/07/25/AQFv1_21h.20210724.KNU_09_01.O3.1hsp.2021072506.png', 'imageUrl1': 'https://www.airkorea.or.kr/file/proxyImage?fileName=2021/07/25/AQFv1_21h.20210724.KNU_09_01.O3.1hsp.2021072503.png'}], 'pageNo': 1, 'numOfRows': 100}, 'header': {'resultMsg': 'NORMAL_CODE', 'resultCode': '00'}}}\n"
     ]
    }
   ],
   "source": [
    "import requests\n",
    "import json\n",
    "\n",
    "url = 'http://apis.data.go.kr/B552584/ArpltnInforInqireSvc/getMinuDustFrcstDspth'\n",
    "queryParams = 'ServiceKey=GtbNVjtp2jvReVCmZ3V%2F4mPHVV02KkS3%2B86s%2BApiM4dnx8KoVGUWqmRZj7rH%2FJ96%2Ff9ZkBPMvTBTjNGuLoLaGA%3D%3D&returnType=json&numOfRows=100&pageNo=1&searchDate=2021-07-25&InformCode=PM10'\n",
    "\n",
    "res = requests.get(url+'?'+queryParams)\n",
    "\n",
    "result1 = json.loads(res.content.decode('utf8'))\n",
    "\n",
    "print(result1)\n"
   ]
  },
  {
   "cell_type": "markdown",
   "id": "3cc7d8ba",
   "metadata": {},
   "source": [
    "## 문제\n",
    "informGrade, dataTime 을 출력"
   ]
  },
  {
   "cell_type": "code",
   "execution_count": 20,
   "id": "e1859c58",
   "metadata": {},
   "outputs": [
    {
     "name": "stdout",
     "output_type": "stream",
     "text": [
      "informGrade : 서울 : 좋음,제주 : 좋음,전남 : 좋음,전북 : 좋음,광주 : 좋음,경남 : 좋음,경북 : 좋음,울산 : 좋음,대구 : 좋음,부산 : 좋음,충남 : 좋음,충북 : 좋음,세종 : 좋음,대전 : 좋음,영동 : 좋음,영서 : 좋음,경기남부 : 좋음,경기북부 : 좋음,인천 : 좋음\n",
      "dataTime : 2021-07-25 23시 발표\n",
      "informGrade : 서울 : 좋음,제주 : 좋음,전남 : 좋음,전북 : 좋음,광주 : 좋음,경남 : 좋음,경북 : 좋음,울산 : 좋음,대구 : 좋음,부산 : 좋음,충남 : 좋음,충북 : 좋음,세종 : 좋음,대전 : 좋음,영동 : 좋음,영서 : 좋음,경기남부 : 좋음,경기북부 : 좋음,인천 : 좋음\n",
      "dataTime : 2021-07-25 23시 발표\n",
      "informGrade : 서울 : 좋음,제주 : 좋음,전남 : 좋음,전북 : 좋음,광주 : 좋음,경남 : 좋음,경북 : 좋음,울산 : 좋음,대구 : 좋음,부산 : 좋음,충남 : 좋음,충북 : 좋음,세종 : 좋음,대전 : 좋음,영동 : 좋음,영서 : 좋음,경기남부 : 좋음,경기북부 : 좋음,인천 : 좋음\n",
      "dataTime : 2021-07-25 23시 발표\n",
      "informGrade : 서울 : 좋음,제주 : 좋음,전남 : 좋음,전북 : 좋음,광주 : 좋음,경남 : 좋음,경북 : 좋음,울산 : 좋음,대구 : 좋음,부산 : 좋음,충남 : 보통,충북 : 좋음,세종 : 좋음,대전 : 좋음,영동 : 좋음,영서 : 좋음,경기남부 : 좋음,경기북부 : 좋음,인천 : 보통\n",
      "dataTime : 2021-07-25 23시 발표\n",
      "informGrade : 서울 : 좋음,제주 : 좋음,전남 : 좋음,전북 : 좋음,광주 : 좋음,경남 : 좋음,경북 : 좋음,울산 : 좋음,대구 : 좋음,부산 : 좋음,충남 : 좋음,충북 : 좋음,세종 : 좋음,대전 : 좋음,영동 : 좋음,영서 : 좋음,경기남부 : 좋음,경기북부 : 좋음,인천 : 좋음\n",
      "dataTime : 2021-07-25 23시 발표\n",
      "informGrade : 서울 : 좋음,제주 : 좋음,전남 : 좋음,전북 : 좋음,광주 : 좋음,경남 : 좋음,경북 : 좋음,울산 : 좋음,대구 : 좋음,부산 : 좋음,충남 : 좋음,충북 : 좋음,세종 : 좋음,대전 : 좋음,영동 : 좋음,영서 : 좋음,경기남부 : 좋음,경기북부 : 좋음,인천 : 좋음\n",
      "dataTime : 2021-07-25 23시 발표\n",
      "informGrade : 서울 : 보통,제주 : 보통,전남 : 보통,전북 : 보통,광주 : 보통,경남 : 보통,경북 : 보통,울산 : 보통,대구 : 보통,부산 : 보통,충남 : 보통,충북 : 보통,세종 : 보통,대전 : 보통,영동 : 보통,영서 : 보통,경기남부 : 보통,경기북부 : 나쁨,인천 : 나쁨\n",
      "dataTime : 2021-07-25 23시 발표\n",
      "informGrade : 서울 : 좋음,제주 : 좋음,전남 : 좋음,전북 : 좋음,광주 : 좋음,경남 : 좋음,경북 : 좋음,울산 : 좋음,대구 : 좋음,부산 : 좋음,충남 : 좋음,충북 : 좋음,세종 : 좋음,대전 : 좋음,영동 : 좋음,영서 : 좋음,경기남부 : 좋음,경기북부 : 좋음,인천 : 좋음\n",
      "dataTime : 2021-07-25 17시 발표\n",
      "informGrade : 서울 : 좋음,제주 : 좋음,전남 : 좋음,전북 : 좋음,광주 : 좋음,경남 : 좋음,경북 : 좋음,울산 : 좋음,대구 : 좋음,부산 : 좋음,충남 : 좋음,충북 : 좋음,세종 : 좋음,대전 : 좋음,영동 : 좋음,영서 : 좋음,경기남부 : 좋음,경기북부 : 좋음,인천 : 좋음\n",
      "dataTime : 2021-07-25 17시 발표\n",
      "informGrade : 서울 : 좋음,제주 : 좋음,전남 : 좋음,전북 : 좋음,광주 : 좋음,경남 : 좋음,경북 : 좋음,울산 : 좋음,대구 : 좋음,부산 : 좋음,충남 : 좋음,충북 : 좋음,세종 : 좋음,대전 : 좋음,영동 : 좋음,영서 : 좋음,경기남부 : 좋음,경기북부 : 좋음,인천 : 좋음\n",
      "dataTime : 2021-07-25 17시 발표\n",
      "informGrade : 서울 : 좋음,제주 : 좋음,전남 : 좋음,전북 : 좋음,광주 : 좋음,경남 : 좋음,경북 : 좋음,울산 : 좋음,대구 : 좋음,부산 : 좋음,충남 : 좋음,충북 : 좋음,세종 : 좋음,대전 : 좋음,영동 : 좋음,영서 : 좋음,경기남부 : 좋음,경기북부 : 좋음,인천 : 보통\n",
      "dataTime : 2021-07-25 17시 발표\n",
      "informGrade : 서울 : 좋음,제주 : 좋음,전남 : 좋음,전북 : 좋음,광주 : 좋음,경남 : 좋음,경북 : 좋음,울산 : 좋음,대구 : 좋음,부산 : 좋음,충남 : 좋음,충북 : 좋음,세종 : 좋음,대전 : 좋음,영동 : 좋음,영서 : 좋음,경기남부 : 좋음,경기북부 : 좋음,인천 : 좋음\n",
      "dataTime : 2021-07-25 17시 발표\n",
      "informGrade : 서울 : 좋음,제주 : 좋음,전남 : 좋음,전북 : 좋음,광주 : 좋음,경남 : 좋음,경북 : 좋음,울산 : 좋음,대구 : 좋음,부산 : 좋음,충남 : 좋음,충북 : 좋음,세종 : 좋음,대전 : 좋음,영동 : 좋음,영서 : 좋음,경기남부 : 좋음,경기북부 : 좋음,인천 : 좋음\n",
      "dataTime : 2021-07-25 17시 발표\n",
      "informGrade : 서울 : 보통,제주 : 보통,전남 : 보통,전북 : 보통,광주 : 보통,경남 : 보통,경북 : 보통,울산 : 보통,대구 : 보통,부산 : 보통,충남 : 보통,충북 : 보통,세종 : 보통,대전 : 보통,영동 : 보통,영서 : 보통,경기남부 : 보통,경기북부 : 나쁨,인천 : 나쁨\n",
      "dataTime : 2021-07-25 17시 발표\n",
      "informGrade : 서울 : 좋음,제주 : 좋음,전남 : 좋음,전북 : 좋음,광주 : 좋음,경남 : 좋음,경북 : 좋음,울산 : 좋음,대구 : 좋음,부산 : 좋음,충남 : 좋음,충북 : 좋음,세종 : 좋음,대전 : 좋음,영동 : 좋음,영서 : 좋음,경기남부 : 좋음,경기북부 : 좋음,인천 : 좋음\n",
      "dataTime : 2021-07-25 11시 발표\n",
      "informGrade : 서울 : 좋음,제주 : 좋음,전남 : 좋음,전북 : 좋음,광주 : 좋음,경남 : 좋음,경북 : 좋음,울산 : 좋음,대구 : 좋음,부산 : 좋음,충남 : 좋음,충북 : 좋음,세종 : 좋음,대전 : 좋음,영동 : 좋음,영서 : 좋음,경기남부 : 좋음,경기북부 : 좋음,인천 : 좋음\n",
      "dataTime : 2021-07-25 11시 발표\n",
      "informGrade : 서울 : 좋음,제주 : 좋음,전남 : 좋음,전북 : 좋음,광주 : 좋음,경남 : 좋음,경북 : 좋음,울산 : 좋음,대구 : 좋음,부산 : 좋음,충남 : 좋음,충북 : 좋음,세종 : 좋음,대전 : 좋음,영동 : 좋음,영서 : 좋음,경기남부 : 좋음,경기북부 : 보통,인천 : 보통\n",
      "dataTime : 2021-07-25 11시 발표\n",
      "informGrade : 서울 : 좋음,제주 : 좋음,전남 : 좋음,전북 : 좋음,광주 : 좋음,경남 : 좋음,경북 : 좋음,울산 : 좋음,대구 : 좋음,부산 : 좋음,충남 : 좋음,충북 : 좋음,세종 : 좋음,대전 : 좋음,영동 : 좋음,영서 : 좋음,경기남부 : 좋음,경기북부 : 좋음,인천 : 좋음\n",
      "dataTime : 2021-07-25 11시 발표\n",
      "informGrade : 서울 : 나쁨,제주 : 보통,전남 : 보통,전북 : 보통,광주 : 보통,경남 : 보통,경북 : 보통,울산 : 보통,대구 : 보통,부산 : 보통,충남 : 나쁨,충북 : 보통,세종 : 보통,대전 : 보통,영동 : 보통,영서 : 보통,경기남부 : 나쁨,경기북부 : 나쁨,인천 : 나쁨\n",
      "dataTime : 2021-07-25 11시 발표\n",
      "informGrade : 서울 : 좋음,제주 : 좋음,전남 : 좋음,전북 : 좋음,광주 : 좋음,경남 : 좋음,경북 : 좋음,울산 : 좋음,대구 : 좋음,부산 : 좋음,충남 : 좋음,충북 : 좋음,세종 : 좋음,대전 : 좋음,영동 : 좋음,영서 : 좋음,경기남부 : 좋음,경기북부 : 좋음,인천 : 보통\n",
      "dataTime : 2021-07-25 05시 발표\n",
      "informGrade : 서울 : 좋음,제주 : 좋음,전남 : 좋음,전북 : 좋음,광주 : 좋음,경남 : 좋음,경북 : 좋음,울산 : 좋음,대구 : 좋음,부산 : 좋음,충남 : 좋음,충북 : 좋음,세종 : 좋음,대전 : 좋음,영동 : 좋음,영서 : 좋음,경기남부 : 좋음,경기북부 : 좋음,인천 : 보통\n",
      "dataTime : 2021-07-25 05시 발표\n",
      "informGrade : 서울 : 보통,제주 : 좋음,전남 : 좋음,전북 : 좋음,광주 : 좋음,경남 : 좋음,경북 : 좋음,울산 : 좋음,대구 : 좋음,부산 : 좋음,충남 : 보통,충북 : 좋음,세종 : 좋음,대전 : 좋음,영동 : 좋음,영서 : 좋음,경기남부 : 보통,경기북부 : 보통,인천 : 보통\n",
      "dataTime : 2021-07-25 05시 발표\n",
      "informGrade : 서울 : 보통,제주 : 좋음,전남 : 좋음,전북 : 좋음,광주 : 좋음,경남 : 좋음,경북 : 좋음,울산 : 좋음,대구 : 좋음,부산 : 좋음,충남 : 보통,충북 : 좋음,세종 : 좋음,대전 : 좋음,영동 : 좋음,영서 : 좋음,경기남부 : 보통,경기북부 : 보통,인천 : 보통\n",
      "dataTime : 2021-07-25 05시 발표\n",
      "informGrade : 서울 : 나쁨,제주 : 보통,전남 : 보통,전북 : 보통,광주 : 보통,경남 : 보통,경북 : 보통,울산 : 보통,대구 : 보통,부산 : 보통,충남 : 나쁨,충북 : 보통,세종 : 보통,대전 : 보통,영동 : 보통,영서 : 보통,경기남부 : 나쁨,경기북부 : 나쁨,인천 : 나쁨\n",
      "dataTime : 2021-07-25 05시 발표\n"
     ]
    }
   ],
   "source": [
    "for i in result1['response']['body']['items'] :\n",
    "    print('informGrade : '+i['informGrade'])\n",
    "    print('dataTime : ' + i['dataTime'])"
   ]
  },
  {
   "cell_type": "code",
   "execution_count": null,
   "id": "508a00fe",
   "metadata": {},
   "outputs": [],
   "source": []
  },
  {
   "cell_type": "markdown",
   "id": "ac7ae3fd",
   "metadata": {},
   "source": [
    "## 연습\n",
    "2019년 5월 8일 거래량 데이터 불러오기"
   ]
  },
  {
   "cell_type": "code",
   "execution_count": 21,
   "id": "a92108ce",
   "metadata": {},
   "outputs": [],
   "source": [
    "stock = {\n",
    "\t\"2019.05.10\": {\n",
    "\t\t\"종가\": \"57,400\",\n",
    "\t\t\"전일비\": \"400\",\n",
    "\t\t\"시가\": \"57,500\",\n",
    "\t\t\"고가\": \"59,000\",\n",
    "\t\t\"저가\": \"56,300\",\n",
    "\t\t\"거래량\": \"861,478\"\n",
    "\t},\n",
    "\t\"2019.05.09\": {\n",
    "\t\t\"종가\": \"57,800\",\n",
    "\t\t\"전일비\": \"3,200\",\n",
    "\t\t\"시가\": \"60,900\",\n",
    "\t\t\"고가\": \"61,500\",\n",
    "\t\t\"저가\": \"57,700\",\n",
    "\t\t\"거래량\": \"1,237,743\"\n",
    "\t},\n",
    "\t\"2019.05.08\": {\n",
    "\t\t\"종가\": \"61,000\",\n",
    "\t\t\"전일비\": \"1,700\",\n",
    "\t\t\"시가\": \"62,000\",\n",
    "\t\t\"고가\": \"65,200\",\n",
    "\t\t\"저가\": \"60,300\",\n",
    "\t\t\"거래량\": \"1,625,296\"\n",
    "\t},\n",
    "\t\"2019.05.07\": {\n",
    "\t\t\"종가\": \"62,700\",\n",
    "\t\t\"전일비\": \"1,100\",\n",
    "\t\t\"시가\": \"63,000\",\n",
    "\t\t\"고가\": \"63,500\",\n",
    "\t\t\"저가\": \"62,700\",\n",
    "\t\t\"거래량\": \"414,906\"\n",
    "\t}\n",
    "}"
   ]
  },
  {
   "cell_type": "code",
   "execution_count": 22,
   "id": "7d5350c7",
   "metadata": {},
   "outputs": [
    {
     "data": {
      "text/plain": [
       "'1,625,296'"
      ]
     },
     "execution_count": 22,
     "metadata": {},
     "output_type": "execute_result"
    }
   ],
   "source": [
    "stock['2019.05.08']['거래량']"
   ]
  },
  {
   "cell_type": "markdown",
   "id": "506612a1",
   "metadata": {},
   "source": [
    "## 문제\n",
    "각 날짜별로 시가와 종가를 출력하세요.\n",
    "  \n",
    "  날짜  \n",
    "  시가  \n",
    "  종가   >> 이르케"
   ]
  },
  {
   "cell_type": "code",
   "execution_count": 25,
   "id": "7d5a4714",
   "metadata": {},
   "outputs": [
    {
     "name": "stdout",
     "output_type": "stream",
     "text": [
      "2019.05.10\n",
      "57,500\n",
      "57,400\n",
      " \n",
      "2019.05.09\n",
      "60,900\n",
      "57,800\n",
      " \n",
      "2019.05.08\n",
      "62,000\n",
      "61,000\n",
      " \n",
      "2019.05.07\n",
      "63,000\n",
      "62,700\n",
      " \n"
     ]
    }
   ],
   "source": [
    "for i,j in stock.items() :\n",
    "    print(i)\n",
    "    print(j['시가'])\n",
    "    print(j['종가'])\n",
    "    print(' ')"
   ]
  },
  {
   "cell_type": "code",
   "execution_count": null,
   "id": "1b9750e6",
   "metadata": {},
   "outputs": [],
   "source": []
  },
  {
   "cell_type": "code",
   "execution_count": null,
   "id": "49432ea7",
   "metadata": {},
   "outputs": [],
   "source": []
  },
  {
   "cell_type": "code",
   "execution_count": null,
   "id": "7cd0d140",
   "metadata": {},
   "outputs": [],
   "source": []
  },
  {
   "cell_type": "code",
   "execution_count": null,
   "id": "2799c09f",
   "metadata": {},
   "outputs": [],
   "source": []
  },
  {
   "cell_type": "code",
   "execution_count": null,
   "id": "dc1a636a",
   "metadata": {},
   "outputs": [],
   "source": []
  },
  {
   "cell_type": "code",
   "execution_count": null,
   "id": "15b997dd",
   "metadata": {},
   "outputs": [],
   "source": []
  },
  {
   "cell_type": "code",
   "execution_count": null,
   "id": "2e243457",
   "metadata": {},
   "outputs": [],
   "source": []
  },
  {
   "cell_type": "code",
   "execution_count": null,
   "id": "51238030",
   "metadata": {},
   "outputs": [],
   "source": []
  }
 ],
 "metadata": {
  "kernelspec": {
   "display_name": "Python 3",
   "language": "python",
   "name": "python3"
  },
  "language_info": {
   "codemirror_mode": {
    "name": "ipython",
    "version": 3
   },
   "file_extension": ".py",
   "mimetype": "text/x-python",
   "name": "python",
   "nbconvert_exporter": "python",
   "pygments_lexer": "ipython3",
   "version": "3.8.8"
  }
 },
 "nbformat": 4,
 "nbformat_minor": 5
}
