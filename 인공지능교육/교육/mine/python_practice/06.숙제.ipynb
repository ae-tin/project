{
 "cells": [
  {
   "cell_type": "markdown",
   "id": "85fb2f33",
   "metadata": {},
   "source": [
    "# 로또 번호 생성기\n",
    "\n",
    "로또의 규칙\n",
    "\n",
    "1~45 사이의 숫자 6개를 골라서 6개 모두 맞으면 당첨\n",
    "\n",
    "각 6개의 숫자가 중복이 되면 안됨\n",
    "\n",
    "반복문을 활용해서 리스트에 1~45 사이의 6개의 중복되지 않은 숫자를 저장하시오."
   ]
  },
  {
   "cell_type": "markdown",
   "id": "662d2431",
   "metadata": {},
   "source": [
    "### 힌트\n",
    "\n",
    "while문 사용\n",
    "\n",
    "6번 반복하면서 랜덤한 숫자를 생성    \n",
    "생성한 수가 lotto 리스트에 있는지 없는지 확인  \n",
    "있으면 반복 횟수를 1감소 후 다시 반복  \n",
    "없으면 lotto 리스트에 추가  "
   ]
  },
  {
   "cell_type": "code",
   "execution_count": 110,
   "id": "efe2b916",
   "metadata": {},
   "outputs": [
    {
     "name": "stdout",
     "output_type": "stream",
     "text": [
      "[6, 44, 21, 40, 4, 20]\n"
     ]
    }
   ],
   "source": [
    "from random import *\n",
    "\n",
    "num = 0\n",
    "lotto = [] \n",
    "\n",
    "while num < 6:\n",
    "    num=num+1\n",
    "    i = randint(1, 45)\n",
    "    \n",
    "    if i in lotto:\n",
    "        num = num - 1\n",
    "        continue\n",
    "    else :\n",
    "        lotto.append(i)\n",
    "    \n",
    "print(lotto)\n",
    "    "
   ]
  },
  {
   "cell_type": "markdown",
   "id": "b169c923",
   "metadata": {},
   "source": [
    "# 숫자 야구 게임\n",
    "\n",
    "로또 번호 생성기는 1~45까지 숫자 중 중복되지 않는 6개의 수를 리스트에 저장한 것  \n",
    "\n",
    "0~9까지 숫자 중 중복되지 않는 3개의 수를 리스트에 저장  \n",
    "\n",
    "\n",
    "컴퓨터 [ 7, 3, 9 ]\n",
    "\n",
    "\n",
    "추측   1 2 3  \n",
    "2o 1b\n",
    "숫자가 없으면 아웃을 하나 체크  \n",
    "숫자가 있는데 순서가 다르면 볼을 하나 체크  \n",
    "숫자가 있는데 순서도 같으면 스트라이크를 하나 체크  \n",
    "\n",
    "추측   3 4 9  \n",
    "1b 1o 1s\n",
    "\n"
   ]
  },
  {
   "cell_type": "code",
   "execution_count": 111,
   "id": "1e3a2644",
   "metadata": {},
   "outputs": [],
   "source": [
    "# 1단계\n",
    "# 반복문을 만드는데 while문으로 무한 반복문을 만든다.\n",
    "# 반복하면서 사용자한테 숫자를 입력받는다.\n",
    "# 만약에 입력받은 숫자가 111이면 종료되는 프로그램"
   ]
  },
  {
   "cell_type": "code",
   "execution_count": 2,
   "id": "8e4dd07f",
   "metadata": {},
   "outputs": [
    {
     "name": "stdout",
     "output_type": "stream",
     "text": [
      "665\n",
      "345345\n",
      "456456\n",
      "234234\n",
      "567567\n",
      "111\n"
     ]
    }
   ],
   "source": [
    "while True:\n",
    "    num = input()\n",
    "    \n",
    "    num = int(num)\n",
    "    \n",
    "    if num == 111:\n",
    "        break\n",
    "    \n",
    "    "
   ]
  },
  {
   "cell_type": "code",
   "execution_count": 4,
   "id": "fc05ee51",
   "metadata": {},
   "outputs": [],
   "source": [
    "# 2단계\n",
    "# 3자리 숫자를 각각 하나의 변수에 저장하는 방법\n",
    "# 948\n",
    "# 백의자리 9이 변수1에 저장되게, 948에서 백의자리 9는 948을 100으로 나눈 몫과 같다.\n",
    "#                                    948 // 100 \n",
    "\n",
    "# 십의자리 4가 변수2에 저장되게, 948에서 십의자리 4는 948을 100으로 나눈 나머지를 10으로 나눈 몫과 같다.\n",
    "#                                     948 % 100 // 10\n",
    "\n",
    "# 일의자리 8이 변수3에 저장되게, 948에서 일의자리 8은 948을 10으노 나눈 나머지와 같다.\n",
    "#                                    948 % 10\n",
    "\n"
   ]
  },
  {
   "cell_type": "code",
   "execution_count": 5,
   "id": "fe93463a",
   "metadata": {},
   "outputs": [],
   "source": [
    "num = 486\n",
    "\n",
    "var100 = 486 // 100\n",
    "var10 = 486 % 100 // 10\n",
    "var1 = 486 % 10"
   ]
  },
  {
   "cell_type": "code",
   "execution_count": 6,
   "id": "e7792079",
   "metadata": {},
   "outputs": [
    {
     "name": "stdout",
     "output_type": "stream",
     "text": [
      "4\n",
      "8\n",
      "6\n"
     ]
    }
   ],
   "source": [
    "print(var100)\n",
    "print(var10)\n",
    "print(var1)"
   ]
  },
  {
   "cell_type": "markdown",
   "id": "3f7aabda",
   "metadata": {},
   "source": [
    "# 랜덤한 숫자 3개를 생성 - 중복X"
   ]
  },
  {
   "cell_type": "code",
   "execution_count": 8,
   "id": "f7987774",
   "metadata": {},
   "outputs": [
    {
     "name": "stdout",
     "output_type": "stream",
     "text": [
      "[7, 5, 0]\n"
     ]
    }
   ],
   "source": [
    "from random import *\n",
    "\n",
    "idx = 0\n",
    "baseball = [] \n",
    "\n",
    "while idx < 3:\n",
    "    idx=idx+1\n",
    "    i = randint(0, 9)\n",
    "    \n",
    "    if i in baseball:\n",
    "        idx = idx - 1\n",
    "        continue\n",
    "    else :\n",
    "        baseball.append(i)\n",
    "    \n",
    "print(baseball)\n",
    "    "
   ]
  },
  {
   "cell_type": "markdown",
   "id": "1ff52496",
   "metadata": {},
   "source": [
    "# 3자리 숫자를 입력 받아서 각 자리의 수들을 각각의 변수에 저장"
   ]
  },
  {
   "cell_type": "code",
   "execution_count": null,
   "id": "e3d1ac2d",
   "metadata": {},
   "outputs": [],
   "source": [
    "while True:\n",
    "    num = input()\n",
    "    \n",
    "    num = int(num)\n",
    "    \n",
    "    var100 = num // 100\n",
    "    var10 = num % 100 // 10\n",
    "    var1 = num % 10\n",
    "    \n",
    "    print(var100)\n",
    "    print(var10)\n",
    "    print(var1)\n",
    "    \n",
    "    if num == 111:\n",
    "        break"
   ]
  },
  {
   "cell_type": "markdown",
   "id": "1476ff9d",
   "metadata": {},
   "source": [
    "# baseball 리스트에 생성된 3개의 수와 사용자가 입력한 3자리수를 비교하는 야구게임 만들기\n",
    "\n",
    "숫자가 없으면 아웃을 하나 체크  \n",
    "숫자가 있는데 순서가 다르면 볼을 하나 체크  \n",
    "숫자가 있는데 순서도 같으면 스트라이크를 하나 체크  \n",
    "\n",
    "사용자가 값을 입력하면 비교해서 \n",
    "\n",
    "strike  \n",
    "1  \n",
    "\n",
    "ball  \n",
    "0  \n",
    "\n",
    "out  \n",
    "2  \n",
    "\n",
    "\n",
    "스트라이크가 3개면 종료되는 프로그램"
   ]
  },
  {
   "cell_type": "markdown",
   "id": "c0ed796a",
   "metadata": {},
   "source": [
    "### 힌트\n",
    "\n",
    "strike 체크해야 되니까 strike 변수가 있어야 될 듯  \n",
    "ball 체크해야 되니까 ball 변수가 있어야 될 듯  \n",
    "out 체크해야 되니까 out 변수가 있어야 될 듯  \n",
    "\n",
    "사용자가 계속 반복해서 입력할 때 각 변수는 0으로 값을 바꾸고 체크"
   ]
  },
  {
   "cell_type": "markdown",
   "id": "e2948045",
   "metadata": {},
   "source": [
    "# 숙제\n",
    "\n",
    "모든 코드 오른쪽에 # 하고 주석으로 설명을 써둘 것"
   ]
  },
  {
   "cell_type": "code",
   "execution_count": 1,
   "id": "3c88d889",
   "metadata": {},
   "outputs": [
    {
     "name": "stdout",
     "output_type": "stream",
     "text": [
      "[9, 2, 5]\n",
      "734\n",
      "strike\n",
      "0\n",
      "ball\n",
      "0\n",
      "out\n",
      "3\n",
      "234\n",
      "strike\n",
      "0\n",
      "ball\n",
      "1\n",
      "out\n",
      "2\n",
      "925\n",
      "strike\n",
      "3\n",
      "ball\n",
      "0\n",
      "out\n",
      "0\n"
     ]
    }
   ],
   "source": [
    "from random import *   # random 이라는 라이브러리의 모든 코드를 첨부\n",
    "\n",
    "idx = 0                  # idx 라는 이름의 변수에 0을 =으로 저장한다. \n",
    "baseball = []            # baseball 이라는 이름에 [] 아무것도 없는 리스트를 =으로 저장한다.\n",
    "\n",
    "while idx < 3:          # while 반복문을 실행한다, 단 idx가 3보다 작을 경우에 \n",
    "    idx=idx+1            # while 반복문의 각 실행마다 기존의 idx에서 1을 더해 새로운 idx에 저장한다\n",
    "    i = randint(0, 9)       # i라는 변수 안에 0부터 9까지의 정수 중에 랜덤으로 하나를 뽑아 저장한다\n",
    "    \n",
    "    if i in baseball:       #  i변수에 저장된 숫자가 baseball변수 안에 존재하면 if 조건문 시작\n",
    "        idx = idx - 1       # 위 조건을 만족할 때에 기존 idx에서 1을 빼고 새로운 idx에 저장\n",
    "        continue           #  if 조건문의 조건에 부합하면 밑으로 넘어가지 않고 다시 while의 조건을 비교한다. \n",
    "    else :                  # if 조건문의 조건이 아니면\n",
    "        baseball.append(i)   # baseball리스트에 i를 추가한다. \n",
    "print(baseball)\n",
    "\n",
    "while True:\n",
    "    s = 0\n",
    "    b = 0\n",
    "    o = 0\n",
    "    \n",
    "    num = input()\n",
    "    \n",
    "    num = int(num)\n",
    "    \n",
    "    var100 = num // 100\n",
    "    var10 = num % 100 // 10\n",
    "    var1 = num % 10\n",
    "    \n",
    "    user_input = [var100, var10, var1]\n",
    "    \n",
    "    \n",
    "    for i in range(0,3,1):\n",
    "        if user_input[i] in baseball : \n",
    "            if user_input[i]==baseball[i]:\n",
    "                s = s + 1\n",
    "            else:\n",
    "                b = b + 1 \n",
    "        else : \n",
    "            o = o + 1\n",
    "   \n",
    "    print(\"strike\")\n",
    "    print(s)\n",
    "    print(\"ball\")\n",
    "    print(b)\n",
    "    print(\"out\")\n",
    "    print(o)\n",
    "    print()\n",
    "    print()\n",
    "    \n",
    "    if s == 3:\n",
    "        print(\"정답!!\")\n",
    "        break"
   ]
  },
  {
   "cell_type": "code",
   "execution_count": null,
   "id": "e5edcd5a",
   "metadata": {},
   "outputs": [],
   "source": []
  }
 ],
 "metadata": {
  "kernelspec": {
   "display_name": "Python 3",
   "language": "python",
   "name": "python3"
  },
  "language_info": {
   "codemirror_mode": {
    "name": "ipython",
    "version": 3
   },
   "file_extension": ".py",
   "mimetype": "text/x-python",
   "name": "python",
   "nbconvert_exporter": "python",
   "pygments_lexer": "ipython3",
   "version": "3.8.8"
  }
 },
 "nbformat": 4,
 "nbformat_minor": 5
}
