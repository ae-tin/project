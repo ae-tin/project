{
 "cells": [
  {
   "cell_type": "markdown",
   "id": "3d5a3f24",
   "metadata": {},
   "source": [
    "# 네트워크 프로그래밍 - 서버"
   ]
  },
  {
   "cell_type": "code",
   "execution_count": 2,
   "id": "a745a2ef",
   "metadata": {},
   "outputs": [],
   "source": [
    "import socket\n",
    "\n",
    "server_socket = socket.socket(socket.AF_INET, socket.SOCK_STREAM) #ip로 찾아가고 tcp로 통신할거다\n",
    "server_socket.bind(('127.0.0.1',12345))  #앞은 ip #12345는 포트번호 : 어느 경로로 접속할거냐\n",
    "server_socket.listen(0) # 연결할 수 있게 활성화\n",
    "client_socket,addr = server_socket.accept()  # 클라이언트가 접속할 때까지 기다림.(accept)\n",
    "# client_socket에 클라이언트 정보, addr에 클라이언트 주소 들어가있음"
   ]
  },
  {
   "cell_type": "markdown",
   "id": "13f79f48",
   "metadata": {},
   "source": []
  },
  {
   "cell_type": "code",
   "execution_count": 4,
   "id": "906e685d",
   "metadata": {},
   "outputs": [
    {
     "data": {
      "text/plain": [
       "6"
      ]
     },
     "execution_count": 4,
     "metadata": {},
     "output_type": "execute_result"
    }
   ],
   "source": [
    "client_socket.send('안녕'.encode('utf-8'))"
   ]
  },
  {
   "cell_type": "code",
   "execution_count": 8,
   "id": "8d6344a9",
   "metadata": {},
   "outputs": [
    {
     "name": "stdout",
     "output_type": "stream",
     "text": [
      "딱히 암것두 안해\n"
     ]
    }
   ],
   "source": [
    "data = client_socket.recv(65535)\n",
    "print(data.decode('utf-8'))"
   ]
  },
  {
   "cell_type": "code",
   "execution_count": 7,
   "id": "f824f1ed",
   "metadata": {},
   "outputs": [
    {
     "data": {
      "text/plain": [
       "6"
      ]
     },
     "execution_count": 7,
     "metadata": {},
     "output_type": "execute_result"
    }
   ],
   "source": [
    "client_socket.send('뭐해'.encode('utf-8'))"
   ]
  },
  {
   "cell_type": "markdown",
   "id": "598957f0",
   "metadata": {},
   "source": [
    "## 문제\n",
    "클라이언트랑 메시지 주고 받기"
   ]
  },
  {
   "cell_type": "code",
   "execution_count": 9,
   "id": "201a4c39",
   "metadata": {},
   "outputs": [
    {
     "name": "stdout",
     "output_type": "stream",
     "text": [
      "ㅇ\n",
      "ㅇ\n"
     ]
    }
   ],
   "source": [
    "inp = input()\n",
    "client_socket.send(inp.encode('utf-8'))\n",
    "\n",
    "data = client_socket.recv(65534)\n",
    "print(data.decode('utf-8'))"
   ]
  },
  {
   "cell_type": "markdown",
   "id": "2e4335b2",
   "metadata": {},
   "source": [
    "## 문제\n",
    "클라이언트랑 메시지 10번 주고받기"
   ]
  },
  {
   "cell_type": "code",
   "execution_count": 11,
   "id": "4e1bf8ff",
   "metadata": {
    "collapsed": true
   },
   "outputs": [
    {
     "name": "stdout",
     "output_type": "stream",
     "text": [
      "1\n",
      "2\n",
      "2\n",
      "2\n",
      "3\n",
      "3\n",
      "4\n",
      "4\n",
      "5\n",
      "5\n",
      "6\n",
      "6\n",
      "7\n",
      "7\n",
      "8\n",
      "8\n",
      "9\n",
      "9\n"
     ]
    }
   ],
   "source": [
    "for i in range(0,10,1):\n",
    "    inp = input()\n",
    "    client_socket.send(inp.encode('utf-8'))\n",
    "    data = client_socket.recv(65534)\n",
    "    print(data.decode('utf-8'))"
   ]
  },
  {
   "cell_type": "markdown",
   "id": "f3663b42",
   "metadata": {},
   "source": [
    "근데 답장을 해야만 내가 메시지 보낼 수 있는 채팅이 어딨냐? ㅋㅋㅋ"
   ]
  },
  {
   "cell_type": "markdown",
   "id": "aead1e98",
   "metadata": {},
   "source": [
    "## 문제\n",
    "\n",
    "입력 받고 상대방에게 데이터를 전송하는 코드를 함수로 만들고  \n",
    "함수를 쓰레드로 실행  \n",
    "  \n",
    "  상대방한테 데이터를 전달받고 출력하는 코드를 함수로 만들고  \n",
    "  함수를 쓰레드로 실행"
   ]
  },
  {
   "cell_type": "markdown",
   "id": "5c78d8e6",
   "metadata": {},
   "source": [
    "# Thread - 쓰레드\n",
    "\n",
    "프로그램이 실행됐을 때 작업을 수행하는 단위  \n",
    "일단적으로 하나의 프로그램은 하나의 스레드를 가지고 있지만 둘 이상의 스레드를 동시에  실행할 수도 있다.  \n",
    "파이썬에서는 함수를 만들고 함수를 스레드 모듈로 실행시키면 해당 함수는 스레드로 동작한다. "
   ]
  },
  {
   "cell_type": "code",
   "execution_count": 3,
   "id": "d8945e23",
   "metadata": {},
   "outputs": [
    {
     "name": "stdout",
     "output_type": "stream",
     "text": [
      "보낼 메시지를 입력하세요 : \n"
     ]
    },
    {
     "name": "stderr",
     "output_type": "stream",
     "text": [
      "Exception in thread Thread-8:\n",
      "Traceback (most recent call last):\n",
      "  File \"C:\\Users\\slinfo\\anaconda3\\lib\\threading.py\", line 932, in _bootstrap_inner\n",
      "    self.run()\n",
      "  File \"C:\\Users\\slinfo\\anaconda3\\lib\\threading.py\", line 870, in run\n",
      "    self._target(*self._args, **self._kwargs)\n",
      "  File \"<ipython-input-3-18c3fd9e9da7>\", line 12, in server_input\n",
      "EOFError: EOF when reading a line\n"
     ]
    }
   ],
   "source": [
    "import socket\n",
    "\n",
    "server_socket = socket.socket(socket.AF_INET, socket.SOCK_STREAM)\n",
    "server_socket.bind(('127.0.0.1',12345))  \n",
    "server_socket.listen(0) \n",
    "client_socket,addr = server_socket.accept()\n",
    "\n",
    "def server_thread() :\n",
    "    while True :\n",
    "        client_socket, addr = client_socket\n",
    "def server_input() :\n",
    "    while True:\n",
    "        print('보낼 메시지를 입력하세요 : ')\n",
    "        inp = input()\n",
    "        client_socket.send(inp.encode('utf-8'))\n",
    "        if inp =='그만' :\n",
    "            break\n",
    "def server_output() :\n",
    "    while True : \n",
    "        data = client_socket.recv(65532)\n",
    "        print('받은 메시지 : ' + data.decode('utf-8'))\n",
    "        if data == '그만' :\n",
    "            break\n",
    "\n",
    "import threading\n",
    "            \n",
    "trd1 = threading.Thread(target = server_input)\n",
    "trd2 = threading.Thread(target = server_output)\n",
    "\n",
    "trd2.start()\n",
    "trd1.start()             \n",
    "\n",
    "while True :\n",
    "    pass"
   ]
  },
  {
   "cell_type": "code",
   "execution_count": null,
   "id": "0352ad69",
   "metadata": {
    "collapsed": true
   },
   "outputs": [
    {
     "name": "stdout",
     "output_type": "stream",
     "text": [
      "보낼 메시지를 입력하세요 : \n",
      "d\n",
      "보낼 메시지를 입력하세요 : \n",
      "d\n",
      "보낼 메시지를 입력하세요 : \n",
      "d\n",
      "보낼 메시지를 입력하세요 : \n",
      "그만\n",
      "받은 메시지 : gdgdgdgdgddd\n",
      "받은 메시지 : 그만\n"
     ]
    }
   ],
   "source": [
    "server_input()\n",
    "server_output()"
   ]
  },
  {
   "cell_type": "markdown",
   "id": "41015061",
   "metadata": {},
   "source": [
    "### 풀이 "
   ]
  },
  {
   "cell_type": "code",
   "execution_count": null,
   "id": "42079f25",
   "metadata": {},
   "outputs": [],
   "source": []
  },
  {
   "cell_type": "code",
   "execution_count": null,
   "id": "a64ae9a0",
   "metadata": {},
   "outputs": [],
   "source": []
  },
  {
   "cell_type": "code",
   "execution_count": null,
   "id": "6deb8578",
   "metadata": {},
   "outputs": [],
   "source": []
  },
  {
   "cell_type": "code",
   "execution_count": null,
   "id": "9ecd2fc5",
   "metadata": {},
   "outputs": [],
   "source": []
  },
  {
   "cell_type": "code",
   "execution_count": null,
   "id": "793a7b7a",
   "metadata": {},
   "outputs": [],
   "source": []
  },
  {
   "cell_type": "code",
   "execution_count": null,
   "id": "c61d0c36",
   "metadata": {},
   "outputs": [],
   "source": []
  },
  {
   "cell_type": "code",
   "execution_count": null,
   "id": "05c2400f",
   "metadata": {},
   "outputs": [],
   "source": []
  },
  {
   "cell_type": "code",
   "execution_count": null,
   "id": "9f1ad5ec",
   "metadata": {},
   "outputs": [],
   "source": []
  },
  {
   "cell_type": "code",
   "execution_count": null,
   "id": "9aa97460",
   "metadata": {},
   "outputs": [],
   "source": []
  },
  {
   "cell_type": "code",
   "execution_count": null,
   "id": "6c7e6604",
   "metadata": {},
   "outputs": [],
   "source": []
  },
  {
   "cell_type": "code",
   "execution_count": null,
   "id": "9b6892d6",
   "metadata": {},
   "outputs": [],
   "source": []
  },
  {
   "cell_type": "code",
   "execution_count": null,
   "id": "90964dd6",
   "metadata": {},
   "outputs": [],
   "source": []
  }
 ],
 "metadata": {
  "kernelspec": {
   "display_name": "Python 3",
   "language": "python",
   "name": "python3"
  },
  "language_info": {
   "codemirror_mode": {
    "name": "ipython",
    "version": 3
   },
   "file_extension": ".py",
   "mimetype": "text/x-python",
   "name": "python",
   "nbconvert_exporter": "python",
   "pygments_lexer": "ipython3",
   "version": "3.8.8"
  }
 },
 "nbformat": 4,
 "nbformat_minor": 5
}
