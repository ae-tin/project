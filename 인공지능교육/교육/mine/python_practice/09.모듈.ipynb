{
 "cells": [
  {
   "cell_type": "markdown",
   "id": "29363012",
   "metadata": {},
   "source": [
    "## 모듈\n",
    "모듈은 함수의 집합으로 함수를 미리 만들어두고 다른 파이썬 파일에서 불러와서 사용하는 것  모듈을 불러올 때는 같은 폴더에 있거나 파이썬이 설치된 디렉토리안에 Lib 디렉토리에 모듈 파일이 있어야 한다.  \n",
    "모듈을 불러올 때는 import를 사용하여 불러온다.\n",
    "\n",
    "모듈 내의 함수를 사용할 때는 모듈명.함수명(매개변수)  "
   ]
  },
  {
   "cell_type": "code",
   "execution_count": 4,
   "id": "f6e66068",
   "metadata": {},
   "outputs": [
    {
     "data": {
      "text/plain": [
       "30"
      ]
     },
     "execution_count": 4,
     "metadata": {},
     "output_type": "execute_result"
    }
   ],
   "source": [
    "import mycalc\n",
    "\n",
    "mycalc.sum(10,20)"
   ]
  },
  {
   "cell_type": "markdown",
   "id": "779683b1",
   "metadata": {},
   "source": [
    "만약에 모듈명을 생략하고 함수의 이름만으로 함수를 사용하고 싶으면 다음과 같이 모듈을 불러온다.\n",
    "\n",
    "from 모듈명 import 함수명1,함수명2...  \n",
    "함수명1(매개변수)"
   ]
  },
  {
   "cell_type": "code",
   "execution_count": 5,
   "id": "75dabc88",
   "metadata": {},
   "outputs": [
    {
     "data": {
      "text/plain": [
       "40"
      ]
     },
     "execution_count": 5,
     "metadata": {},
     "output_type": "execute_result"
    }
   ],
   "source": [
    "from mycalc import sum, sub\n",
    "sum(10,30)"
   ]
  },
  {
   "cell_type": "code",
   "execution_count": 6,
   "id": "960b4900",
   "metadata": {},
   "outputs": [
    {
     "data": {
      "text/plain": [
       "20"
      ]
     },
     "execution_count": 6,
     "metadata": {},
     "output_type": "execute_result"
    }
   ],
   "source": [
    "sub(30,10)"
   ]
  },
  {
   "cell_type": "code",
   "execution_count": 7,
   "id": "1bd7d9f7",
   "metadata": {},
   "outputs": [
    {
     "data": {
      "text/plain": [
       "30"
      ]
     },
     "execution_count": 7,
     "metadata": {},
     "output_type": "execute_result"
    }
   ],
   "source": [
    "import mycalc as mc\n",
    "\n",
    "mc.sum(10,20)"
   ]
  },
  {
   "cell_type": "code",
   "execution_count": 11,
   "id": "e55a1046",
   "metadata": {},
   "outputs": [],
   "source": [
    "import calendar as c\n",
    "import locale as l\n",
    "\n",
    "cal = c.LocaleTextCalendar(0, l.setlocale(l.LC_ALL,\"\"))"
   ]
  },
  {
   "cell_type": "code",
   "execution_count": 12,
   "id": "8c78a67a",
   "metadata": {},
   "outputs": [
    {
     "name": "stdout",
     "output_type": "stream",
     "text": [
      "      7월 2021\n",
      "월  화  수  목  금  토  일\n",
      "          1  2  3  4\n",
      " 5  6  7  8  9 10 11\n",
      "12 13 14 15 16 17 18\n",
      "19 20 21 22 23 24 25\n",
      "26 27 28 29 30 31\n"
     ]
    }
   ],
   "source": [
    "cal.prmonth(2021, 7)"
   ]
  },
  {
   "cell_type": "code",
   "execution_count": null,
   "id": "341cb160",
   "metadata": {},
   "outputs": [],
   "source": []
  },
  {
   "cell_type": "code",
   "execution_count": null,
   "id": "ba5490fc",
   "metadata": {},
   "outputs": [],
   "source": []
  },
  {
   "cell_type": "code",
   "execution_count": null,
   "id": "0f81fbbb",
   "metadata": {},
   "outputs": [],
   "source": []
  }
 ],
 "metadata": {
  "kernelspec": {
   "display_name": "Python 3",
   "language": "python",
   "name": "python3"
  },
  "language_info": {
   "codemirror_mode": {
    "name": "ipython",
    "version": 3
   },
   "file_extension": ".py",
   "mimetype": "text/x-python",
   "name": "python",
   "nbconvert_exporter": "python",
   "pygments_lexer": "ipython3",
   "version": "3.8.8"
  }
 },
 "nbformat": 4,
 "nbformat_minor": 5
}
