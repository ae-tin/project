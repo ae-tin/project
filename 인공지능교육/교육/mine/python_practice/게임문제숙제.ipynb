{
 "cells": [
  {
   "cell_type": "markdown",
   "id": "0828bbe2",
   "metadata": {},
   "source": [
    "# 문제 - 거스름돈\n",
    "\n",
    "당신은 카운터의 직원입니다.  \n",
    "카운터에서 손님이 계산한 후 남은 거스름 돈을 거슬러 주어야 합니다.  \n",
    "카운터에는 50000, 10000, 1000지폐와 500,100,50,10 동전이 무한히 있습니다.  \n",
    "  \n",
    "  거슬러 줘야할 돈이 N원일 때 지폐와 동전의 최소 개수를 구하세요.  \n",
    "  \n",
    "    프로그램  \n",
    "        거슬러줘야 할 돈은 input()으로 입력받는다.\n",
    "        \n",
    "        각 지폐와 동전의 개수를 각각 출력한다. "
   ]
  },
  {
   "cell_type": "code",
   "execution_count": 30,
   "id": "abdc29fb",
   "metadata": {},
   "outputs": [],
   "source": [
    "class charge :\n",
    "    charge = 0\n",
    "    fif_th = 0\n",
    "    ten_th = 0\n",
    "    five_th =0\n",
    "    th = 0\n",
    "    five_hun = 0\n",
    "    hun = 0\n",
    "    fif = 0\n",
    "    ten = 0\n",
    "    exchange = 0\n",
    "    def __init__(self) :\n",
    "        self.charge = int(input())\n",
    "        self.exchange = self.charge\n",
    "    def hehe(self) :\n",
    "        if self.charge == 0 :\n",
    "            print('남은 거스름돈은 0 원이며',end = '\\n')\n",
    "            print('5만원 지폐 '+str(self.fif_th)+'개 사용하였고',end = '\\n')\n",
    "            print('1만원 지폐 '+str(self.ten_th)+'개 사용하였고',end = '\\n')\n",
    "            print('5천원 지폐 '+str(self.five_th)+'개 사용하였고',end = '\\n')\n",
    "            print('1천원 지폐 '+str(self.th)+'개 사용하였고',end = '\\n')\n",
    "            print('5백원 동전 '+str(self.five_hun)+'개 사용하였고',end = '\\n')\n",
    "            print('1백원 동전 '+str(self.hun)+'개 사용하였고',end = '\\n')\n",
    "            print('5십원 동전 '+str(self.fif)+'개 사용하였고',end = '\\n')\n",
    "            print('1십원 동전 '+str(self.ten)+'개 사용하였습니다',end = '')\n",
    "            \n",
    "            \n",
    "        elif self.charge >= 50000 :\n",
    "            self.fif_th = self.charge //50000\n",
    "            self.charge = self.charge%50000\n",
    "            self.hehe()\n",
    "        elif self.charge >= 10000 :\n",
    "            self.ten_th = self.charge //10000\n",
    "            self.charge = self.charge%10000\n",
    "            self.hehe()\n",
    "        elif self.charge >= 5000 :\n",
    "            self.five_th = self.charge //5000\n",
    "            self.charge = self.charge%5000\n",
    "            self.hehe()\n",
    "        elif self.charge >= 1000 :\n",
    "            self.th = self.charge //1000\n",
    "            self.charge = self.charge%1000\n",
    "            self.hehe()\n",
    "        elif self.charge >= 500 :\n",
    "            self.five_hun = self.charge //500\n",
    "            self.charge = self.charge%500\n",
    "            self.hehe()\n",
    "        elif self.charge >= 100 :\n",
    "            self.hun = self.charge //100\n",
    "            self.charge = self.charge%100\n",
    "            self.hehe()\n",
    "        elif self.charge >= 50 :\n",
    "            self.fif = self.charge //50\n",
    "            self.charge = self.charge%50\n",
    "            self.hehe()\n",
    "        elif self.charge >= 10 :\n",
    "            self.ten = self.charge//10\n",
    "            self.charge = self.charge% 10\n",
    "            self.hehe()\n",
    "        \n",
    "        \n",
    "        \n",
    "        \n",
    "        \n",
    "        \n",
    "        "
   ]
  },
  {
   "cell_type": "code",
   "execution_count": 31,
   "id": "3bf732c4",
   "metadata": {},
   "outputs": [
    {
     "name": "stdout",
     "output_type": "stream",
     "text": [
      "1234560\n"
     ]
    }
   ],
   "source": [
    "a = charge()"
   ]
  },
  {
   "cell_type": "code",
   "execution_count": 32,
   "id": "7e133535",
   "metadata": {},
   "outputs": [
    {
     "name": "stdout",
     "output_type": "stream",
     "text": [
      "남은 거스름돈은 0 원이며\n",
      "5만원 지폐 24개 사용하였고\n",
      "1만원 지폐 3개 사용하였고\n",
      "5천원 지폐 0개 사용하였고\n",
      "1천원 지폐 4개 사용하였고\n",
      "5백원 동전 1개 사용하였고\n",
      "1백원 동전 0개 사용하였고\n",
      "5십원 동전 1개 사용하였고\n",
      "1십원 동전 1개 사용하였습니다"
     ]
    }
   ],
   "source": [
    "a.hehe()"
   ]
  },
  {
   "cell_type": "markdown",
   "id": "a5d6f9dd",
   "metadata": {},
   "source": [
    "### 풀이"
   ]
  },
  {
   "cell_type": "code",
   "execution_count": 33,
   "id": "bfa0e849",
   "metadata": {},
   "outputs": [
    {
     "name": "stdout",
     "output_type": "stream",
     "text": [
      "987650\n",
      "50000 원권이  19 개 사용\n",
      "10000 원권이  3 개 사용\n",
      "5000 원권이  1 개 사용\n",
      "1000 원권이  2 개 사용\n",
      "500 원권이  1 개 사용\n",
      "100 원권이  1 개 사용\n",
      "50 원권이  1 개 사용\n",
      "10 원권이  0 개 사용\n"
     ]
    }
   ],
   "source": [
    "money =  int(input())\n",
    "moneys = [50000,10000,5000,1000,500,100,50,10]\n",
    "\n",
    "for i in moneys :\n",
    "    count = money // i\n",
    "    money = money % i\n",
    "    print(i,\"원권이 \",count, \"개 사용\")"
   ]
  },
  {
   "cell_type": "markdown",
   "id": "a5f69ad5",
   "metadata": {},
   "source": [
    "## 숙제"
   ]
  },
  {
   "cell_type": "markdown",
   "id": "30621645",
   "metadata": {},
   "source": [
    "어떤 게임에 N개의 스테이지(스테이지수 랜덤한 한자리수)가 있다.\n",
    "\n",
    "이 각 스테이지에는 처치해야할 몬스터들이 있다.\n",
    "\n",
    "플레이어는 처음 출발할 때 총알이 없어서 각 스테이지의 상점에서 총알을 구입하고 출발하여야 한다.\n",
    "\n",
    "탄창의 크기는 무제한이어서 얼마든지 많은 총알을 살 수 있다.\n",
    "\n",
    "몬스터를 처치할 때마다 하나의 총알을 사용한다.\n",
    "\n",
    "각 스테이지에는 단 하나의 상점이 있으며, 스테이지 마다 상점의 총알 가격은 다를 수 있다.\n",
    "\n",
    "예를 들어, 다음처럼 3개의 스테이지가 있다고 하자.\n",
    "\n",
    "총알 7원(몬스터3) - 총알 3원(몬스터4) - 총알 5원(몬스터2)\n",
    "제일 왼쪽 스테이지에서 총알 3 + 4 + 2 개를 사서 최종 스테이지까지 클리어하면\n",
    "\n",
    "(3 + 4 + 2)*7 = 63원이다.\n",
    "\n",
    "만약 제일 왼쪽 스테이지에서 3개의 총알을 사고(3×7 = 21원) 다음 번 스테이지에서 총알 4개를 사고(3×4 = 12원) 다음 스테이지에서 총알 2개를 사면(5×2 = 10원) 43원이다.\n",
    "\n",
    "각 스테이지의 총알의 가격과 몬스터의 수 및 스테이지 수를 랜덤으로 생성(한자리수)하고 왼쪽부터 오른쪽으로 차례로 스테이지를 모두 클리어할 때 가장 최소한의 금액으로 모든 스테이지를 클리어하는 금액을 구하는 프로그램\n"
   ]
  },
  {
   "cell_type": "code",
   "execution_count": null,
   "id": "c7088608",
   "metadata": {},
   "outputs": [],
   "source": []
  },
  {
   "cell_type": "code",
   "execution_count": null,
   "id": "a8899e15",
   "metadata": {},
   "outputs": [],
   "source": []
  },
  {
   "cell_type": "code",
   "execution_count": null,
   "id": "2f434c84",
   "metadata": {},
   "outputs": [],
   "source": []
  },
  {
   "cell_type": "code",
   "execution_count": null,
   "id": "66bc3f16",
   "metadata": {},
   "outputs": [],
   "source": []
  },
  {
   "cell_type": "code",
   "execution_count": null,
   "id": "ea099199",
   "metadata": {},
   "outputs": [],
   "source": []
  },
  {
   "cell_type": "code",
   "execution_count": null,
   "id": "f8b79e9c",
   "metadata": {},
   "outputs": [],
   "source": []
  },
  {
   "cell_type": "code",
   "execution_count": null,
   "id": "ae78c922",
   "metadata": {},
   "outputs": [],
   "source": []
  },
  {
   "cell_type": "code",
   "execution_count": null,
   "id": "c92b5be7",
   "metadata": {},
   "outputs": [],
   "source": []
  },
  {
   "cell_type": "code",
   "execution_count": null,
   "id": "9a88f128",
   "metadata": {},
   "outputs": [],
   "source": []
  },
  {
   "cell_type": "code",
   "execution_count": null,
   "id": "b2a4af79",
   "metadata": {},
   "outputs": [],
   "source": []
  }
 ],
 "metadata": {
  "kernelspec": {
   "display_name": "Python 3",
   "language": "python",
   "name": "python3"
  },
  "language_info": {
   "codemirror_mode": {
    "name": "ipython",
    "version": 3
   },
   "file_extension": ".py",
   "mimetype": "text/x-python",
   "name": "python",
   "nbconvert_exporter": "python",
   "pygments_lexer": "ipython3",
   "version": "3.8.8"
  }
 },
 "nbformat": 4,
 "nbformat_minor": 5
}
