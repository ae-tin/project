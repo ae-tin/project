{
 "cells": [
  {
   "cell_type": "markdown",
   "id": "02986bdc",
   "metadata": {},
   "source": [
    "# 그래프\n",
    "\n",
    "연결되어 있는 개체 간의 관계를 표현하는 비선형 자료구조  \n",
    "  \n",
    "  트리도 그래프의 한 종류  \n",
    "  \n",
    "  __그래프의 정의__  \n",
    "  그래프 G는 (V,E)로 표시  \n",
    "  V는 정점, E는 간선\n",
    "  \n",
    "  __그래프의 종류__  \n",
    "  무방향 그래프  \n",
    "  단방향 그래프  \n",
    "  양방향 그래프  "
   ]
  },
  {
   "cell_type": "markdown",
   "id": "2e3e77df",
   "metadata": {},
   "source": [
    "### 그래프의 표현 방법 - 행렬\n",
    "연결되어있으면 1, 아니면 0  \n",
    "한개의 노드의 연결상태 > 리스트로 표현  \n",
    "  "
   ]
  },
  {
   "cell_type": "code",
   "execution_count": null,
   "id": "86853ddc",
   "metadata": {},
   "outputs": [],
   "source": [
    "g = [\n",
    "    [0,1,1,1,0],\n",
    "    [1,0,1,0,1],\n",
    "    [1,1,0,1,1],\n",
    "    [1,0,1,0,1],\n",
    "    [0,1,1,1,0]\n",
    "]"
   ]
  },
  {
   "cell_type": "markdown",
   "id": "85f2ef98",
   "metadata": {},
   "source": [
    "### 그래프의 표현 방법 - 리스트\n",
    "\n"
   ]
  },
  {
   "cell_type": "code",
   "execution_count": 1,
   "id": "184ebb6a",
   "metadata": {},
   "outputs": [],
   "source": [
    "g = {\n",
    "    'a' : ['b','c','d'],\n",
    "    'b' : ['a','c','e'],\n",
    "    'c' : ['a','b','d','e'],\n",
    "    'd' : ['a','c','e'],\n",
    "    'e' : ['b','c','d']\n",
    "}"
   ]
  },
  {
   "cell_type": "markdown",
   "id": "259a8ff9",
   "metadata": {},
   "source": [
    "## 그래프 탐색\n",
    "\n",
    "1. BFS 너비 우선 탐색 ( 큐로 구현 )\n",
    "    현재 노드에서 연결된 노드를 우선적으로 탐색  \n",
    "    루트 노드의 자식노드 다 탐색하면 한 자식 노드의 자식노드 탐색 반복\n",
    "  \n",
    "2. DFS 깊이 우선 탐색  \n",
    "    현재 노드에서 연결된 노드 중 하나를 골라 더 이상 진행할 수 없을 때까지 탐색  \n",
    "    루트 노드의 한 자식노드의 자식노드를 모두 깊게 탐색하고 난뒤 루트 노드의 다음 자식 노드 탐색"
   ]
  },
  {
   "cell_type": "code",
   "execution_count": null,
   "id": "f6e3c2eb",
   "metadata": {},
   "outputs": [],
   "source": [
    "1 2 3 4 5 6 7 8\n",
    "\n",
    "1 2 5 8 6 3 4 7"
   ]
  },
  {
   "cell_type": "markdown",
   "id": "0fe5b49e",
   "metadata": {},
   "source": [
    "## 그래프 구현\n",
    "    \n",
    "    힌트\n",
    "        파이썬에서 큐는 리스트를 가지고 append로 추가하고 pop(0)으로 빼면 된다.\n",
    "    그래프 클래스\n",
    "        그래프 및 시작 노드를 전달 받아서 BFS 기능\n",
    "        시작 노드를 큐에 저장\n",
    "        큐에 값이 있으면 계속 반복\n",
    "            큐에서 노드를 하나 꺼내고 꺼낸 노드에 방문한 적이 있으면\n",
    "                다음 반복\n",
    "            없으면\n",
    "                visited에 추가\n",
    "                꺼낸 노드에 연결된 노드들을 큐에 추가\n",
    "        \n",
    "        그래프 및 시작 노드를 전달 받아서 DFS 기능\n"
   ]
  },
  {
   "cell_type": "code",
   "execution_count": 8,
   "id": "b1fc58f2",
   "metadata": {},
   "outputs": [],
   "source": [
    "class graph :\n",
    "    g = {\n",
    "        'a' : ['b','c','d'],\n",
    "        'b' : ['a','c','e'],\n",
    "        'c' : ['a','b','d','e'],\n",
    "        'd' : ['a','c','e'],\n",
    "        'e' : ['b','c','d']\n",
    "    }\n",
    "    def bfs(self,graph,start) :\n",
    "        visited = []\n",
    "        q = [start]\n",
    "        \n",
    "        while q :\n",
    "            node = q.pop(0)\n",
    "            if node in visited :\n",
    "                continue\n",
    "            else :\n",
    "                visited.append(node)\n",
    "                for i in graph[node] :\n",
    "                    q.append(i)\n",
    "        print(visited)\n",
    "                \n",
    "    def dfs(self,graph,start) :\n",
    "        visited = []\n",
    "        stack = [start]\n",
    "        \n",
    "        while stack :\n",
    "            node = stack.pop()\n",
    "            if node in visited :\n",
    "                continue\n",
    "            else :\n",
    "                visited.append(node)\n",
    "                for i in graph[node] :\n",
    "                    stack.append(i)\n",
    "        print(visited)\n",
    "                \n",
    "    "
   ]
  },
  {
   "cell_type": "code",
   "execution_count": 11,
   "id": "cbbb1a87",
   "metadata": {},
   "outputs": [
    {
     "ename": "TypeError",
     "evalue": "'graph' object is not callable",
     "output_type": "error",
     "traceback": [
      "\u001b[1;31m---------------------------------------------------------------------------\u001b[0m",
      "\u001b[1;31mTypeError\u001b[0m                                 Traceback (most recent call last)",
      "\u001b[1;32m<ipython-input-11-edf427623701>\u001b[0m in \u001b[0;36m<module>\u001b[1;34m\u001b[0m\n\u001b[0;32m      6\u001b[0m     \u001b[1;34m'e'\u001b[0m \u001b[1;33m:\u001b[0m \u001b[1;33m[\u001b[0m\u001b[1;34m'b'\u001b[0m\u001b[1;33m,\u001b[0m\u001b[1;34m'c'\u001b[0m\u001b[1;33m,\u001b[0m\u001b[1;34m'd'\u001b[0m\u001b[1;33m]\u001b[0m\u001b[1;33m\u001b[0m\u001b[1;33m\u001b[0m\u001b[0m\n\u001b[0;32m      7\u001b[0m }\n\u001b[1;32m----> 8\u001b[1;33m \u001b[0mgraph1\u001b[0m \u001b[1;33m=\u001b[0m \u001b[0mgraph\u001b[0m\u001b[1;33m(\u001b[0m\u001b[1;33m)\u001b[0m\u001b[1;33m\u001b[0m\u001b[1;33m\u001b[0m\u001b[0m\n\u001b[0m\u001b[0;32m      9\u001b[0m \u001b[0mgraph1\u001b[0m\u001b[1;33m.\u001b[0m\u001b[0mbfs\u001b[0m\u001b[1;33m(\u001b[0m\u001b[0mg\u001b[0m\u001b[1;33m,\u001b[0m\u001b[1;34m'a'\u001b[0m\u001b[1;33m)\u001b[0m\u001b[1;33m\u001b[0m\u001b[1;33m\u001b[0m\u001b[0m\n",
      "\u001b[1;31mTypeError\u001b[0m: 'graph' object is not callable"
     ]
    }
   ],
   "source": [
    "    g = {\n",
    "        'a' : ['b','c','d'],\n",
    "        'b' : ['a','c','e'],\n",
    "        'c' : ['a','b','d','e'],\n",
    "        'd' : ['a','c','e'],\n",
    "        'e' : ['b','c','d']\n",
    "    }\n",
    "graph1 = graph()\n",
    "graph1.bfs(g,'a')"
   ]
  },
  {
   "cell_type": "code",
   "execution_count": 12,
   "id": "ad0ff73c",
   "metadata": {},
   "outputs": [],
   "source": [
    "a = [\n",
    "    [0,0,0,0,1,1,0],\n",
    "    [0,0,1,0,1,1,0],\n",
    "    [0,1,0,1,0,0,0],\n",
    "    [0,0,1,0,0,1,1],\n",
    "    [1,1,0,0,0,0,1],\n",
    "    [1,1,0,1,0,0,0],\n",
    "    [0,0,0,1,1,1,0]\n",
    "]"
   ]
  },
  {
   "cell_type": "code",
   "execution_count": null,
   "id": "3a25f448",
   "metadata": {},
   "outputs": [],
   "source": [
    "a = [\n",
    "    [0,7,0,0,3,10,0],\n",
    "    [7,0,4,0,2,6,0],\n",
    "    [0,4,0,2,0,0,0],\n",
    "    [0,0,2,0,0,9,4],\n",
    "    [3,2,0,0,0,0,5],\n",
    "    [10,6,0,9,0,0,0],\n",
    "    [0,0,0,4,5,0,0]\n",
    "]\n",
    "                        # visited = []\n",
    "d = [0,7,99,99,3,10,99] # 1번째 갈 수 있는 곳 중에서 가장 짧은 곳으로 이동\n",
    "d = [0,5,99,99,3,10, 8] # 2번째 갈수있는 곳 중에서 가장 짧은 곳(4에 3원)으로\n",
    "                        # 이동해서 이동한 곳에서 추가로 갈 수 있는 곳들을 계산\n",
    "                        # 현재 이동할 수 있는 곳에서 방문했던 곳을 제외하고\n",
    "                        # 가장 가격이 싼 곳으로 이동 (1에 5원)\n",
    "                        # visited = []\n",
    "d = [0,5,9,99,3,10,8] # 3번째 1로 이동할 때 5원 더하기 1에서 갈 수 있는 곳\n",
    "                        # 들의 값을 더한다. 더한 값이 더 싸면 변경\n",
    "                        # 현재 이동할 수 있는 곳에서 방문했던 곳을 제외하고\n",
    "                        # 가장 가격이 싼 곳으로 이동 (6에 8원)\n",
    "                        # visited = []\n",
    "d = [0,5,9,12,3,10,8] # 4번째 6로 이동할 때 8원 더하기 6에서 갈 수 있는 곳\n",
    "                        # 들의 값을 더한다. 더한 값이 더 싸면 변경\n",
    "                        # 현재 이동할 수 있는 곳에서 방문했던 곳을 제외하고\n",
    "                        # 가장 가격이 싼 곳으로 이동 (6에 8원)\n",
    "d = [0,5,9,11,3,10,8] # 5번째 2로 이동할 때 9원 더하기 2에서 갈 수 있는 곳\n",
    "                        # 들의 값을 더한다. 더한 값이 더 싸면 변경\n",
    "                        # 현재 이동할 수 있는 곳에서 방문했던 곳을 제외하고\n",
    "                        # 가장 가격이 싼 곳으로 이동 (6에 8원)"
   ]
  },
  {
   "cell_type": "code",
   "execution_count": null,
   "id": "b3b70cfc",
   "metadata": {},
   "outputs": [],
   "source": []
  },
  {
   "cell_type": "code",
   "execution_count": null,
   "id": "521309eb",
   "metadata": {},
   "outputs": [],
   "source": []
  },
  {
   "cell_type": "code",
   "execution_count": null,
   "id": "5aa84dbe",
   "metadata": {},
   "outputs": [],
   "source": []
  },
  {
   "cell_type": "code",
   "execution_count": null,
   "id": "26e388b3",
   "metadata": {},
   "outputs": [],
   "source": []
  },
  {
   "cell_type": "code",
   "execution_count": null,
   "id": "bf5f2088",
   "metadata": {},
   "outputs": [],
   "source": []
  },
  {
   "cell_type": "code",
   "execution_count": null,
   "id": "cced4341",
   "metadata": {},
   "outputs": [],
   "source": []
  },
  {
   "cell_type": "code",
   "execution_count": null,
   "id": "7a84e32a",
   "metadata": {},
   "outputs": [],
   "source": []
  },
  {
   "cell_type": "code",
   "execution_count": null,
   "id": "0b48e0f1",
   "metadata": {},
   "outputs": [],
   "source": []
  },
  {
   "cell_type": "code",
   "execution_count": null,
   "id": "bbc3353b",
   "metadata": {},
   "outputs": [],
   "source": []
  },
  {
   "cell_type": "code",
   "execution_count": null,
   "id": "88c86878",
   "metadata": {},
   "outputs": [],
   "source": []
  }
 ],
 "metadata": {
  "kernelspec": {
   "display_name": "Python 3",
   "language": "python",
   "name": "python3"
  },
  "language_info": {
   "codemirror_mode": {
    "name": "ipython",
    "version": 3
   },
   "file_extension": ".py",
   "mimetype": "text/x-python",
   "name": "python",
   "nbconvert_exporter": "python",
   "pygments_lexer": "ipython3",
   "version": "3.8.8"
  }
 },
 "nbformat": 4,
 "nbformat_minor": 5
}
