{
 "cells": [
  {
   "cell_type": "markdown",
   "id": "1270409b",
   "metadata": {},
   "source": [
    "## 비디오 불러오기"
   ]
  },
  {
   "cell_type": "code",
   "execution_count": 6,
   "id": "aa0dd8c7",
   "metadata": {},
   "outputs": [],
   "source": [
    "import cv2\n",
    "\n",
    "\n",
    "cap = cv2.VideoCapture(0)   # 0은 카메라 장치의 번호\n",
    "                            # cv2.VideoCapture('video.mp4')처럼 파일 불러오기도 가능\n",
    "\n",
    "    \n",
    "    \n",
    "cap.set(3,480)              # 화면의 가로 세로 길이 설정\n",
    "cap.set(4,320)              \n",
    "\n",
    "\n",
    "while True :\n",
    "    ret, frame = cap.read()  #비디오에서 한 프레임을 읽는다.\n",
    "                            # 프레임을 잘 가져오면 ret에는 True가 실패하면 False가\n",
    "                            # Frame에는 읽어온 화면이 반환된다.\n",
    "    if ret == False :\n",
    "        break\n",
    "    cv2.namedWindow('video',cv2.WINDOW_NORMAL)  # 화면 크기 수동 조정 가능\n",
    "    cv2.imshow('video', frame)\n",
    "    \n",
    "    k = cv2.waitKey(1) & 0xFF\n",
    "    if k == 27 :                       # ESC키가 27번임\n",
    "        break\n",
    "        \n",
    "cap.release()\n",
    "cv2.destroyAllWindows()\n",
    "    "
   ]
  },
  {
   "cell_type": "markdown",
   "id": "696eee2c",
   "metadata": {},
   "source": [
    "## 이미지 저장하기"
   ]
  },
  {
   "cell_type": "code",
   "execution_count": null,
   "id": "8e591abf",
   "metadata": {},
   "outputs": [],
   "source": [
    "import cv2\n",
    "\n",
    "imgFile = '경로'\n",
    "img = cv2. imread(imgFile, cv2.IMREAD_COLOR)\n",
    "\n",
    "cv2.namedWindow('model',cv2.WINDOW_NORMAL)\n",
    "cv2.imshow('model',img)\n",
    "\n",
    "\n",
    "cv2.imshow('model',img)\n",
    "\n",
    "k = cv2.waitKey(0) & 0xFF\n",
    "if k == 27 :\n",
    "    cv2.destryAllWindows()\n",
    "elif k == ord('c') :                # 키보드에서 C를 눌렀을 때\n",
    "    cv2.imwrite('경로', img)         # 이미지를 저장하기\n",
    "    cv2.destroyAllWindows()"
   ]
  },
  {
   "cell_type": "markdown",
   "id": "828ea699",
   "metadata": {},
   "source": [
    "## 비디오 저장하기\n"
   ]
  },
  {
   "cell_type": "code",
   "execution_count": 6,
   "id": "6383d769",
   "metadata": {},
   "outputs": [],
   "source": [
    "import cv2\n",
    "\n",
    "\n",
    "cap = cv2.VideoCapture(0)   # 0은 카메라 장치의 번호\n",
    "                            # cv2.VideoCapture('video.mp4')처럼 파일 불러오기도 가능\n",
    "\n",
    "    \n",
    "cap.set(3,480)              # 화면의 가로 세로 길이 설정\n",
    "cap.set(4,320)\n",
    "\n",
    "fps = 20.0                # 프레임을 저장할 때 1초에 몇 장의 프레임을 저장할까\n",
    "\n",
    "fcc = cv2.VideoWriter_fourcc(*'XVID')\n",
    "                    # 영상을 인코딩할 코덱 설정 ,DIVX, X264,XVID 등의 코덱이 있다. \n",
    "out = cv2.VideoWriter('c:/Users/slinfo/python_project/mycam1.avi',fcc,fps,(480,320))\n",
    "                    # 코덱을 이용해서 저장할 영상 파일의 경로및 크기 설정\n",
    "\n",
    "while True :\n",
    "    ret, frame = cap.read()  #비디오에서 한 프레임을 읽는다.\n",
    "                            # 프레임을 잘 가져오면 ret에는 True가 실패하면 False가\n",
    "                            # Frame에는 읽어온 화면이 반환된다.\n",
    "    if ret == False :\n",
    "        print('frame 가져오기 실패')\n",
    "        break\n",
    "        \n",
    "    frame = cv2.flip(frame,1) # 좌우반전\n",
    "    \n",
    "    vidout = cv2.resize(frame,(480,320))   #영상 사이즈 조절\n",
    "    \n",
    "    out.write(vidout)     # 영상저장\n",
    "    \n",
    "    cv2.imshow('video', frame)\n",
    "    \n",
    "    if not out.isOpened() :\n",
    "        print('File open failed!')\n",
    "        cap.release()\n",
    "        break\n",
    "    \n",
    "    \n",
    "    k = cv2.waitKey(1) & 0xFF\n",
    "    if k == 27 :                       # ESC키가 27번임\n",
    "        break\n",
    "        \n",
    "cap.release()\n",
    "out.release()\n",
    "cv2.destroyAllWindows()\n",
    "    "
   ]
  },
  {
   "cell_type": "markdown",
   "id": "86209721",
   "metadata": {},
   "source": [
    "## 도형 그리기\n",
    "\n",
    "영상에서 물체 인식할때 도형으로 인식하고 있는걸 표현  \n",
    "cv2.line() : 직선 그리기 함수  \n",
    "cv2.circle() : 원 그리기 함수  \n",
    "cv2.rectangle() : 직사각형 그리기 함수  \n",
    "cv2.ellipse() : 타원그리기 함수  \n",
    "cv2.putText() : 텍스트 입력 함수  "
   ]
  },
  {
   "cell_type": "code",
   "execution_count": 16,
   "id": "43d6bd84",
   "metadata": {},
   "outputs": [],
   "source": [
    "import cv2\n",
    "\n",
    "imgFile = 'c:/Users/slinfo/python_project/image.png'\n",
    "\n",
    "img = cv2.imread(imgFile, cv2.IMREAD_COLOR)\n",
    "\n",
    "resize_img = cv2.resize(img, (512, 512))  # 이미지 파일 크기 조절\n",
    "\n",
    "cv2.line(resize_img, (0,0), (100,100), (255,0,0), 5) #크기 조절한 이미지에 선 그리기\n",
    "        # 선 시작,   선 끝,     선 색,    선 굵기\n",
    "cv2.rectangle(resize_img, (84, 0), (210,128), (255,0,0),3)\n",
    "\n",
    "cv2.circle(resize_img, (150,150), 63, (0,0,255), -1)\n",
    "\n",
    "font = cv2.FONT_HERSHEY_SIMPLEX\n",
    "cv2.putText(resize_img, 'OpenCV 테스트', (10,250), font, 2, (0,0,0),2)\n",
    "\n",
    "cv2.imshow('model', resize_img)\n",
    "cv2.waitKey(0)\n",
    "cv2.destroyAllWindows()"
   ]
  },
  {
   "cell_type": "code",
   "execution_count": 34,
   "id": "20095d25",
   "metadata": {},
   "outputs": [],
   "source": [
    "import cv2\n",
    "\n",
    "imgFile = 'c:/Users/slinfo/python_project/image.png'\n",
    "\n",
    "img = cv2.imread(imgFile, cv2.IMREAD_COLOR)\n",
    "\n",
    "resize_img = cv2.resize(img, (512, 512))  # 이미지 파일 크기 조절\n",
    "\n",
    "cv2.line(resize_img, (30,420), (410,10), (255,0,0), 5) #크기 조절한 이미지에 선 그리기\n",
    "                 # 선 시작,   선 끝,     선 색,    선 굵기\n",
    "cv2.rectangle(resize_img, (50, 0), (210,300), (255,255,255),5)\n",
    "\n",
    "cv2.circle(resize_img, (250,350), 110, (0,0,255), 5)\n",
    "\n",
    "font = cv2.FONT_HERSHEY_SIMPLEX\n",
    "cv2.putText(resize_img, 'text', (230,120), font, 0.5, (0,255,0),2)\n",
    "\n",
    "cv2.imshow('model', resize_img)\n",
    "cv2.waitKey(0)\n",
    "cv2.destroyAllWindows()"
   ]
  },
  {
   "cell_type": "markdown",
   "id": "dbfc979f",
   "metadata": {},
   "source": [
    "### 도형 그리기 연습"
   ]
  },
  {
   "cell_type": "code",
   "execution_count": 7,
   "id": "38e22931",
   "metadata": {},
   "outputs": [],
   "source": [
    "import cv2\n",
    "\n",
    "imgFile = 'c:/Users/slinfo/python_project/practice.jpg'\n",
    "\n",
    "img = cv2.imread(imgFile, cv2.IMREAD_COLOR)\n",
    "\n",
    "resize_img = cv2.resize(img, (900, 512))  # 이미지 파일 크기 조절\n",
    "\n",
    "\n",
    "cv2.rectangle(resize_img, (120, 155), (160,220), (255,255,255),2)\n",
    "cv2.rectangle(resize_img, (155, 20), (200,90), (255,255,255),2)\n",
    "cv2.rectangle(resize_img, (202, 150), (275,255), (255,255,255),2)\n",
    "cv2.rectangle(resize_img, (295, 280), (340,340), (255,255,255),2)\n",
    "cv2.rectangle(resize_img, (378, 25), (437,110), (255,255,255),2)\n",
    "cv2.rectangle(resize_img, (415, 200), (500,310), (255,255,255),2)\n",
    "cv2.rectangle(resize_img, (635, 85), (700,175), (255,255,255),2)\n",
    "\n",
    "cv2.imshow('model', resize_img)\n",
    "cv2.waitKey(0)\n",
    "cv2.destroyAllWindows()"
   ]
  },
  {
   "cell_type": "markdown",
   "id": "f0dedf20",
   "metadata": {},
   "source": [
    "## 인공지능 맛보기\n",
    "\n"
   ]
  },
  {
   "cell_type": "code",
   "execution_count": 4,
   "id": "83ae40ff",
   "metadata": {},
   "outputs": [],
   "source": [
    " import cv2\n",
    "\n",
    "face_cascade = cv2.CascadeClassifier('c:/test/haarcascade_frontalface_default.xml')\n",
    "\n",
    "imgFile = 'c:/Users/slinfo/python_project/practice.jpg'\n",
    "img = cv2.imread(imgFile, cv2.IMREAD_COLOR)\n",
    "gray = cv2.cvtColor(img, cv2.COLOR_BGR2GRAY) # 흑백으로 바꿔 인식하게 할 수도 있음\n",
    "\n",
    "face_image = face_cascade.detectMultiScale(gray, 1.2, 5)\n",
    "\n",
    "for x,y,w,h in face_image :\n",
    "    cv2.rectangle(img,(x,y), (x+w, y+h), (255,0,0), 2)\n",
    "    \n",
    "cv2.imshow('face',img)\n",
    "cv2.waitKey(0)\n",
    "cv2.destroyAllWindows()\n",
    "    \n",
    "    "
   ]
  },
  {
   "cell_type": "markdown",
   "id": "03fe52ea",
   "metadata": {},
   "source": [
    "## 비디오에서 얼굴 인식하기 연습"
   ]
  },
  {
   "cell_type": "code",
   "execution_count": 2,
   "id": "ea51577b",
   "metadata": {},
   "outputs": [],
   "source": [
    "import cv2\n",
    "\n",
    "\n",
    "cap = cv2.VideoCapture(0)   # 0은 카메라 장치의 번호\n",
    "                            # cv2.VideoCapture('video.mp4')처럼 파일 불러오기도 가능\n",
    "\n",
    "    \n",
    "    \n",
    "cap.set(3,480)              # 화면의 가로 세로 길이 설정\n",
    "cap.set(4,320)              \n",
    "\n",
    "face_cascade = cv2.CascadeClassifier('c:/test/haarcascade_frontalface_default.xml')\n",
    "\n",
    "while True :\n",
    "    ret, frame = cap.read()  #비디오에서 한 프레임을 읽는다.\n",
    "                            # 프레임을 잘 가져오면 ret에는 True가 실패하면 False가\n",
    "                            # Frame에는 읽어온 화면이 반환된다.\n",
    "    if ret == False :\n",
    "        break\n",
    "    \n",
    "    frame = cv2.flip(frame, 1)\n",
    "    face_image = face_cascade.detectMultiScale(frame, 1.2, 5)\n",
    "\n",
    "    for x,y,w,h in face_image :\n",
    "        cv2.rectangle(frame,(x,y), (x+w, y+h), (255,0,0), 2)\n",
    "\n",
    "    \n",
    "    cv2.imshow('video', frame)\n",
    "    \n",
    "    k = cv2.waitKey(1) & 0xFF\n",
    "    if k == 27 :                       # ESC키가 27번임\n",
    "        break\n",
    "        \n",
    "cap.release()\n",
    "cv2.waitKey(0)\n",
    "cv2.destroyAllWindows()\n",
    "    "
   ]
  },
  {
   "cell_type": "markdown",
   "id": "16da9ebe",
   "metadata": {},
   "source": [
    "## OpenCV, Pillow 이미지 변환\n",
    "\n",
    "### OpenCV (array) -> Pillow (pixel)"
   ]
  },
  {
   "cell_type": "code",
   "execution_count": 13,
   "id": "0afb82cc",
   "metadata": {},
   "outputs": [],
   "source": [
    "import cv2\n",
    "from PIL import Image\n",
    "\n",
    "\n",
    "cv2_img = cv2.imread('c:/Users/slinfo/python_project/practice.jpg',cv2.IMREAD_COLOR)\n",
    "\n",
    "\n",
    "pil_img = Image.fromarray(cv2_img)\n",
    "pil_img.show()"
   ]
  },
  {
   "cell_type": "markdown",
   "id": "d1cbf93f",
   "metadata": {},
   "source": [
    "###  Pillow (pixel) -> OpenCV (array) "
   ]
  },
  {
   "cell_type": "code",
   "execution_count": 15,
   "id": "949e4f46",
   "metadata": {},
   "outputs": [],
   "source": [
    "import cv2\n",
    "from PIL import Image\n",
    "import numpy as np\n",
    "\n",
    "pil_img = Image.open('c:/Users/slinfo/python_project/practice.jpg')\n",
    "\n",
    "cv2_img = np.array(pil_img)\n",
    "\n",
    "cv2.imshow('cv2_img',cv2_img)\n",
    "cv2.waitKey(0)\n",
    "cv2.destroyAllWindows()"
   ]
  },
  {
   "cell_type": "markdown",
   "id": "e975ea76",
   "metadata": {},
   "source": [
    "## 얼굴을 찾아서 얼굴에만 Blur  효과 적용"
   ]
  },
  {
   "cell_type": "code",
   "execution_count": null,
   "id": "ddff3152",
   "metadata": {},
   "outputs": [],
   "source": [
    "from PIL import Image\n",
    "from PIL import ImageFilter\n",
    "\n",
    "img = Image.open(\"c:/test/movie_image.jpg\")\n",
    "\n",
    "# blur_img = img.filter(ImageFilter.GaussianBlur(20))\n",
    "\n",
    "# blur_img.show()  # 흐리게 만들기\n"
   ]
  },
  {
   "cell_type": "code",
   "execution_count": 27,
   "id": "50fb222d",
   "metadata": {},
   "outputs": [],
   "source": [
    "from PIL import Image\n",
    "from PIL import ImageFilter\n",
    "import cv2\n",
    "\n",
    "face_cascade = cv2.CascadeClassifier('c:/test/haarcascade_frontalface_default.xml')\n",
    "\n",
    "imgFile = 'c:/Users/slinfo/python_project/practice.jpg'\n",
    "\n",
    "img = cv2.imread(imgFile, cv2.IMREAD_COLOR)\n",
    "\n",
    "resize_img = cv2.resize(img, (900, 512))  # 이미지 파일 크기 조절\n",
    "\n",
    "face_image = face_cascade.detectMultiScale(resize_img, 1.2, 5) # detect한 어래이 출력\n",
    "\n",
    "pil_img = Image.fromarray(resize_img)\n",
    "\n",
    "for x,y,w,h in face_image:\n",
    "    crop_img = pil_img.crop((x, y, x+w, y+h))  # 자르기\n",
    "    blur_img = crop_img.filter(ImageFilter.GaussianBlur(5))  # 블러\n",
    "    new_img = Image.new(\"RGB\", (pil_img.width, pil_img.height)) # 새로운이미지\n",
    "    new_img.paste(pil_img,(0,0))\n",
    "    new_img.paste(blur_img,(x,y))\n",
    "    \n",
    "        \n",
    "        # crop(가로 시작, 세로 시작, 가로 끝, 세로 끝)\n",
    "\n",
    "new_img.show()\n",
    "\n",
    "\n"
   ]
  },
  {
   "cell_type": "markdown",
   "id": "f968bc79",
   "metadata": {},
   "source": [
    "새로운 이미지를 for안에서 만들어서 결국 블러처리된게 하나만 씌워졌네"
   ]
  },
  {
   "cell_type": "markdown",
   "id": "f0760c56",
   "metadata": {},
   "source": [
    "### 풀이"
   ]
  },
  {
   "cell_type": "code",
   "execution_count": 26,
   "id": "ba9d803a",
   "metadata": {},
   "outputs": [],
   "source": [
    "from PIL import Image\n",
    "from PIL import ImageFilter\n",
    "import cv2\n",
    "\n",
    "face_cascade = cv2.CascadeClassifier('c:/test/haarcascade_frontalface_default.xml')\n",
    "\n",
    "imgFile = 'c:/Users/slinfo/python_project/practice.jpg'\n",
    "\n",
    "img = cv2.imread(imgFile, cv2.IMREAD_COLOR)\n",
    "\n",
    "resize_img = cv2.resize(img, (900, 512))  # 이미지 파일 크기 조절\n",
    "gray = cv2.cvtColor(resize_img,cv2.COLOR_BGR2GRAY)\n",
    "face_image = face_cascade.detectMultiScale(gray, 1.2, 5) # detect한 어래이 출력\n",
    "\n",
    "pil_img = Image.fromarray(resize_img)\n",
    "new_img = Image.new(\"RGB\", (pil_img.width, pil_img.height))\n",
    "new_img.paste(pil_img,(0,0))\n",
    "\n",
    "\n",
    "for x,y,w,h in face_image:\n",
    "    crop_img = pil_img.crop((x, y, x+w, y+h))  # 자르기\n",
    "    blur_img = crop_img.filter(ImageFilter.GaussianBlur(5))  # 블러\n",
    "    new_img.paste(blur_img,(x,y))\n",
    "\n",
    "new_img.show()\n",
    "\n",
    "\n"
   ]
  }
 ],
 "metadata": {
  "kernelspec": {
   "display_name": "Python 3",
   "language": "python",
   "name": "python3"
  },
  "language_info": {
   "codemirror_mode": {
    "name": "ipython",
    "version": 3
   },
   "file_extension": ".py",
   "mimetype": "text/x-python",
   "name": "python",
   "nbconvert_exporter": "python",
   "pygments_lexer": "ipython3",
   "version": "3.8.8"
  }
 },
 "nbformat": 4,
 "nbformat_minor": 5
}
