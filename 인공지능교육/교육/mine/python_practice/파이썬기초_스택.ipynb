{
 "cells": [
  {
   "cell_type": "markdown",
   "id": "b1670c88",
   "metadata": {},
   "source": [
    "# 스택 자료 구조\n",
    "LIFO (Last In First Out) 구조  \n",
    "마지막에 들어온 자료가 맨 처음으로 나간다  \n",
    "  \n",
    "  FILO (First In Last Out) 구조  \n",
    "  처음 들어온 자료가 마지막에 나간다  \n",
    "  \n",
    "  데이터를 집어 넣는 기능을 push 라고 한다.  \n",
    "  \n",
    "  데이터를 꺼내는 기능을 pop이라고 한다.  \n",
    "  \n",
    "  스택에 데이터가 저장된 위치를 top이라고 한다."
   ]
  },
  {
   "cell_type": "markdown",
   "id": "ce5eabc9",
   "metadata": {},
   "source": [
    "## 문제 \n",
    "\n",
    "스택 자료 구조 구현하기  \n",
    "  \n",
    "  마지막에 저장한 데이터가 제일 먼저 삭제된다.  \n",
    "  \n",
    "  제일 먼저 저장한 데이터는 제일 나중에 삭제된다. \n",
    "  \n",
    "  1. 데이터는 숫자만 저장할 것.\n",
    "  2. 한번에 하나의 데이터만 저장할 것.\n",
    "  3. 데이터를 저장하는 기능을 push라고 한다.\n",
    "  4. 데이터를 삭제하는 기능을 pop라고 한다. \n",
    "  5. 현제 데이터가 어디까지 저장됐는지 top에 저장한다.\n",
    "  \n",
    "  현재 스택의 데이터를 모두 출력하는 기능  \n",
    "  \n",
    "  스택에 데이터를 집어 넣는 기능  \n",
    "  스택에서 데이터를 삭제하는 기능  \n",
    "    마지막에 저장한 데이터부터 삭제"
   ]
  },
  {
   "cell_type": "markdown",
   "id": "1e5e2f29",
   "metadata": {},
   "source": [
    "현재 스택의 데이터를 모두 출력하는 기능  "
   ]
  },
  {
   "cell_type": "code",
   "execution_count": 15,
   "id": "2e5fd7ec",
   "metadata": {},
   "outputs": [],
   "source": [
    "stack = [0, 0, 0, 0, 0, 0, 0, 0, 0, 0]"
   ]
  },
  {
   "cell_type": "code",
   "execution_count": 65,
   "id": "da74c1b1",
   "metadata": {},
   "outputs": [],
   "source": [
    "def out() :\n",
    "    print(stack)\n"
   ]
  },
  {
   "cell_type": "code",
   "execution_count": 11,
   "id": "cdfb4d20",
   "metadata": {},
   "outputs": [
    {
     "name": "stdout",
     "output_type": "stream",
     "text": [
      "[0, 0, 0, 0, 0, 0, 0, 0, 0, 0]\n"
     ]
    }
   ],
   "source": [
    "out()"
   ]
  },
  {
   "cell_type": "markdown",
   "id": "c8f8bff7",
   "metadata": {},
   "source": [
    "데이터가 어디까지 저장됐는지 top에 저장하는 것. 리스트가 1개 저장되면 0번째이므로  \n",
    "초기값은 -1로 저장"
   ]
  },
  {
   "cell_type": "code",
   "execution_count": 41,
   "id": "023b1064",
   "metadata": {},
   "outputs": [],
   "source": [
    "top = -1"
   ]
  },
  {
   "cell_type": "code",
   "execution_count": 64,
   "id": "137c0554",
   "metadata": {},
   "outputs": [],
   "source": [
    "def push_data():\n",
    "    global top\n",
    "    top = -1\n",
    "    for i in range(0,len(stack),1):\n",
    "        top = top + 1\n",
    "        del stack[i]\n",
    "        stack.insert(i,i)\n",
    "    print(stack)\n",
    "    \n",
    "stack = [0, 0, 0, 0, 0, 0, 0, 0, 0, 0]\n",
    "top = -1\n"
   ]
  },
  {
   "cell_type": "code",
   "execution_count": 55,
   "id": "46de284c",
   "metadata": {},
   "outputs": [
    {
     "name": "stdout",
     "output_type": "stream",
     "text": [
      "[0, 1, 2, 3, 4, 5, 6, 7, 8, 9]\n",
      "9\n"
     ]
    }
   ],
   "source": [
    "out()\n",
    "print(top)"
   ]
  },
  {
   "cell_type": "markdown",
   "id": "286a0c6d",
   "metadata": {},
   "source": [
    "풀이"
   ]
  },
  {
   "cell_type": "code",
   "execution_count": 66,
   "id": "639f05ab",
   "metadata": {},
   "outputs": [
    {
     "name": "stdout",
     "output_type": "stream",
     "text": [
      "[0, 0, 0, 0, 0, 0, 0, 0, 0, 0]\n",
      "[1, 0, 0, 0, 0, 0, 0, 0, 0, 0]\n",
      "[1, 2, 0, 0, 0, 0, 0, 0, 0, 0]\n"
     ]
    }
   ],
   "source": [
    "def push(data) :\n",
    "    global top\n",
    "    top = top + 1\n",
    "    stack[top] = data\n",
    "    \n",
    "stack = [0, 0, 0, 0, 0, 0, 0, 0, 0, 0]\n",
    "top = -1\n",
    "\n",
    "out()\n",
    "push(1)\n",
    "out()\n",
    "push(2)\n",
    "out()"
   ]
  },
  {
   "cell_type": "code",
   "execution_count": 67,
   "id": "1e1766bf",
   "metadata": {},
   "outputs": [
    {
     "name": "stdout",
     "output_type": "stream",
     "text": [
      "1\n"
     ]
    }
   ],
   "source": [
    "print(top)"
   ]
  },
  {
   "cell_type": "code",
   "execution_count": 71,
   "id": "100e6d2c",
   "metadata": {},
   "outputs": [
    {
     "name": "stdout",
     "output_type": "stream",
     "text": [
      "[0, 0, 0, 0, 0, 0, 0, 0, 0, 0]\n",
      "[1, 0, 0, 0, 0, 0, 0, 0, 0, 0]\n",
      "[1, 2, 0, 0, 0, 0, 0, 0, 0, 0]\n",
      "[1, 0, 0, 0, 0, 0, 0, 0, 0, 0]\n",
      "[0, 0, 0, 0, 0, 0, 0, 0, 0, 0]\n",
      "-1\n"
     ]
    }
   ],
   "source": [
    "def pop() :\n",
    "    global top\n",
    "    del stack[top]\n",
    "    stack.insert(top,0)\n",
    "    top = top -1\n",
    "\n",
    "stack = [0, 0, 0, 0, 0, 0, 0, 0, 0, 0]\n",
    "top = -1\n",
    "\n",
    "out()\n",
    "push(1)\n",
    "out()\n",
    "push(2)\n",
    "out()\n",
    "pop()\n",
    "out()\n",
    "pop()\n",
    "out()\n",
    "\n",
    "print(top)\n"
   ]
  },
  {
   "cell_type": "code",
   "execution_count": null,
   "id": "e8fb3476",
   "metadata": {},
   "outputs": [],
   "source": []
  },
  {
   "cell_type": "code",
   "execution_count": null,
   "id": "c5547917",
   "metadata": {},
   "outputs": [],
   "source": []
  },
  {
   "cell_type": "code",
   "execution_count": null,
   "id": "93fea330",
   "metadata": {},
   "outputs": [],
   "source": []
  },
  {
   "cell_type": "code",
   "execution_count": null,
   "id": "d5486279",
   "metadata": {},
   "outputs": [],
   "source": []
  },
  {
   "cell_type": "code",
   "execution_count": null,
   "id": "81360d9a",
   "metadata": {},
   "outputs": [],
   "source": []
  },
  {
   "cell_type": "code",
   "execution_count": null,
   "id": "df3ad459",
   "metadata": {},
   "outputs": [],
   "source": []
  },
  {
   "cell_type": "code",
   "execution_count": null,
   "id": "af584306",
   "metadata": {},
   "outputs": [],
   "source": []
  },
  {
   "cell_type": "code",
   "execution_count": null,
   "id": "ecaad79c",
   "metadata": {},
   "outputs": [],
   "source": []
  },
  {
   "cell_type": "code",
   "execution_count": null,
   "id": "df3beceb",
   "metadata": {},
   "outputs": [],
   "source": []
  },
  {
   "cell_type": "code",
   "execution_count": null,
   "id": "6ebf7b35",
   "metadata": {},
   "outputs": [],
   "source": []
  },
  {
   "cell_type": "code",
   "execution_count": null,
   "id": "e516a74b",
   "metadata": {},
   "outputs": [],
   "source": []
  },
  {
   "cell_type": "code",
   "execution_count": null,
   "id": "a8938a3d",
   "metadata": {},
   "outputs": [],
   "source": []
  },
  {
   "cell_type": "code",
   "execution_count": null,
   "id": "01b78ed2",
   "metadata": {},
   "outputs": [],
   "source": []
  },
  {
   "cell_type": "code",
   "execution_count": null,
   "id": "f7260f41",
   "metadata": {},
   "outputs": [],
   "source": []
  },
  {
   "cell_type": "code",
   "execution_count": null,
   "id": "d05ac539",
   "metadata": {},
   "outputs": [],
   "source": []
  },
  {
   "cell_type": "code",
   "execution_count": null,
   "id": "49f19c1d",
   "metadata": {},
   "outputs": [],
   "source": []
  },
  {
   "cell_type": "code",
   "execution_count": null,
   "id": "ec7ef3fc",
   "metadata": {},
   "outputs": [],
   "source": []
  },
  {
   "cell_type": "code",
   "execution_count": null,
   "id": "b2932f9d",
   "metadata": {},
   "outputs": [],
   "source": []
  },
  {
   "cell_type": "code",
   "execution_count": null,
   "id": "80720c45",
   "metadata": {},
   "outputs": [],
   "source": []
  },
  {
   "cell_type": "code",
   "execution_count": null,
   "id": "1653697f",
   "metadata": {},
   "outputs": [],
   "source": []
  },
  {
   "cell_type": "code",
   "execution_count": null,
   "id": "aa844444",
   "metadata": {},
   "outputs": [],
   "source": []
  },
  {
   "cell_type": "code",
   "execution_count": null,
   "id": "ce3b0c96",
   "metadata": {},
   "outputs": [],
   "source": []
  },
  {
   "cell_type": "code",
   "execution_count": null,
   "id": "0e456a4f",
   "metadata": {},
   "outputs": [],
   "source": []
  },
  {
   "cell_type": "code",
   "execution_count": null,
   "id": "6b8387d2",
   "metadata": {},
   "outputs": [],
   "source": []
  }
 ],
 "metadata": {
  "kernelspec": {
   "display_name": "Python 3",
   "language": "python",
   "name": "python3"
  },
  "language_info": {
   "codemirror_mode": {
    "name": "ipython",
    "version": 3
   },
   "file_extension": ".py",
   "mimetype": "text/x-python",
   "name": "python",
   "nbconvert_exporter": "python",
   "pygments_lexer": "ipython3",
   "version": "3.8.8"
  }
 },
 "nbformat": 4,
 "nbformat_minor": 5
}
