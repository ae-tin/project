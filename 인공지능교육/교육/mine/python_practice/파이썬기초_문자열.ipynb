{
 "cells": [
  {
   "cell_type": "markdown",
   "id": "5b35d269",
   "metadata": {},
   "source": [
    "# 문자열"
   ]
  },
  {
   "cell_type": "markdown",
   "id": "8f5da73a",
   "metadata": {},
   "source": [
    "### 문자열을 만드는 방법\n",
    "\n",
    "\"문자열\"  \n",
    "'문자열'  \n",
    "\"\"\"문자열\"\"\"  \n",
    "'''문자열'''"
   ]
  },
  {
   "cell_type": "markdown",
   "id": "4d3f1070",
   "metadata": {},
   "source": [
    "### 문자열 안에 작은 따옴표나 큰 따옴표를 포함하고 싶을 때\n",
    "\n",
    "1. 작은 따옴표를 포함할 때 \"문자열 안에'가 포함\""
   ]
  },
  {
   "cell_type": "code",
   "execution_count": 2,
   "id": "38bc5f80",
   "metadata": {},
   "outputs": [
    {
     "ename": "SyntaxError",
     "evalue": "invalid syntax (<ipython-input-2-5e67db2fee47>, line 1)",
     "output_type": "error",
     "traceback": [
      "\u001b[1;36m  File \u001b[1;32m\"<ipython-input-2-5e67db2fee47>\"\u001b[1;36m, line \u001b[1;32m1\u001b[0m\n\u001b[1;33m    print('문자열 안에 '가 포함')\u001b[0m\n\u001b[1;37m                   ^\u001b[0m\n\u001b[1;31mSyntaxError\u001b[0m\u001b[1;31m:\u001b[0m invalid syntax\n"
     ]
    }
   ],
   "source": [
    "print('문자열 안에 '가 포함')"
   ]
  },
  {
   "cell_type": "markdown",
   "id": "19174692",
   "metadata": {},
   "source": [
    "작은 따옴표로만 하려면 에러가 나요~~"
   ]
  },
  {
   "cell_type": "code",
   "execution_count": 1,
   "id": "5ed9c463",
   "metadata": {},
   "outputs": [
    {
     "name": "stdout",
     "output_type": "stream",
     "text": [
      "문자열 안에 '가 포함\n"
     ]
    }
   ],
   "source": [
    "print(\"문자열 안에 '가 포함\")"
   ]
  },
  {
   "cell_type": "markdown",
   "id": "81a89ab1",
   "metadata": {},
   "source": [
    "2. 큰 따옴표를 포함할 때  \n",
    "    '문자열 안에 \"가 포함'"
   ]
  },
  {
   "cell_type": "code",
   "execution_count": 4,
   "id": "82435c0c",
   "metadata": {},
   "outputs": [
    {
     "name": "stdout",
     "output_type": "stream",
     "text": [
      "문자열 안에 \"가 포함\n"
     ]
    }
   ],
   "source": [
    "print('문자열 안에 \"가 포함')"
   ]
  },
  {
   "cell_type": "markdown",
   "id": "f73f61d0",
   "metadata": {},
   "source": [
    "### 여러 줄인 문자열을 변수에 대입하고 싶을 때\n",
    "  \n",
    "  한번에 여러 줄인 문자열을 사용하려고 할 때는  \n",
    "  ''' 또는 \"\"\" 로 묶어준다."
   ]
  },
  {
   "cell_type": "code",
   "execution_count": 5,
   "id": "a5c7595c",
   "metadata": {},
   "outputs": [],
   "source": [
    "multiline = '''\n",
    "오늘은 2021년 7월 27일,,,\n",
    "민쿤 생일이다..\n",
    "아침에 바디필로우 보내줬다...\n",
    "여자친구를 만들어 줄 순 없으니....\n",
    "'''"
   ]
  },
  {
   "cell_type": "code",
   "execution_count": 6,
   "id": "92257bbe",
   "metadata": {},
   "outputs": [
    {
     "name": "stdout",
     "output_type": "stream",
     "text": [
      "\n",
      "오늘은 2021년 7월 27일,,,\n",
      "민쿤 생일이다..\n",
      "아침에 바디필로우 보내줬다...\n",
      "여자친구를 만들어 줄 순 없으니....\n",
      "\n"
     ]
    }
   ],
   "source": [
    "print(multiline)"
   ]
  },
  {
   "cell_type": "markdown",
   "id": "63c636a6",
   "metadata": {},
   "source": [
    "### 문자열에 작은 따옴표와 큰 따옴표 모두 포함될 때(이스케이프 문자 사용)\n",
    "  \n",
    "역슬래시 \\ 뒤에 특정 기호가 오면 기능을 하게 됨   \n",
    "\\n 문자열 안에서 줄을 바꿈  \n",
    "\\t 문자열 안에서 탭 간격을 줌  \n",
    "\\\\ 문자열 안에 \\(역슬래시)를 출력하고 싶을 때 사용  \n",
    "\\' 문자열 안에 '를 출력하고 싶을 때 사용  \n",
    "\\\" 문자열 안에 \"를 출력하고 싶을 때 사용"
   ]
  },
  {
   "cell_type": "code",
   "execution_count": 45,
   "id": "89a48395",
   "metadata": {},
   "outputs": [
    {
     "name": "stdout",
     "output_type": "stream",
     "text": [
      "문자열 안에서 \n",
      "줄 바꿈\n"
     ]
    }
   ],
   "source": [
    "str1 = \"문자열 안에서 \\n줄 바꿈\"\n",
    "print(str1)"
   ]
  },
  {
   "cell_type": "code",
   "execution_count": 7,
   "id": "2fa9658c",
   "metadata": {},
   "outputs": [
    {
     "name": "stdout",
     "output_type": "stream",
     "text": [
      "문자열 안에서 \t 탭으로 간격 주기\n"
     ]
    }
   ],
   "source": [
    "str2 = \"문자열 안에서 \\t 탭으로 간격 주기\"\n",
    "print(str2)"
   ]
  },
  {
   "cell_type": "code",
   "execution_count": 8,
   "id": "ec4c2bff",
   "metadata": {},
   "outputs": [
    {
     "name": "stdout",
     "output_type": "stream",
     "text": [
      "문자열 안에서 \\ 를 출력\n"
     ]
    }
   ],
   "source": [
    "str3 = \"문자열 안에서 \\\\ 를 출력\"\n",
    "print(str3)"
   ]
  },
  {
   "cell_type": "code",
   "execution_count": 9,
   "id": "75de59f1",
   "metadata": {},
   "outputs": [
    {
     "name": "stdout",
     "output_type": "stream",
     "text": [
      "문자열 안에서 '를 출력\n"
     ]
    }
   ],
   "source": [
    "str4 = \"문자열 안에서 \\'를 출력\"\n",
    "print(str4)"
   ]
  },
  {
   "cell_type": "code",
   "execution_count": 10,
   "id": "cd63552a",
   "metadata": {},
   "outputs": [
    {
     "name": "stdout",
     "output_type": "stream",
     "text": [
      "문자열 안에서 \"를 출력\n"
     ]
    }
   ],
   "source": [
    "str5 = \"문자열 안에서 \\\"를 출력\"\n",
    "print(str5)"
   ]
  },
  {
   "cell_type": "markdown",
   "id": "df5eb296",
   "metadata": {},
   "source": [
    "## 문자열 연산하기\n",
    "\n",
    "덧셈 또는 곱셈연산 수행 가능"
   ]
  },
  {
   "cell_type": "code",
   "execution_count": 12,
   "id": "78bbb314",
   "metadata": {},
   "outputs": [],
   "source": [
    "str1 = 'hello'\n",
    "str2 = 'world'"
   ]
  },
  {
   "cell_type": "code",
   "execution_count": 13,
   "id": "c91bdbb5",
   "metadata": {},
   "outputs": [
    {
     "name": "stdout",
     "output_type": "stream",
     "text": [
      "helloworld\n"
     ]
    }
   ],
   "source": [
    "str3 = str1 + str2\n",
    "print(str3)"
   ]
  },
  {
   "cell_type": "code",
   "execution_count": 14,
   "id": "6c90b76e",
   "metadata": {},
   "outputs": [
    {
     "name": "stdout",
     "output_type": "stream",
     "text": [
      "강태인\n",
      "내 이름은 강태인입니다\n"
     ]
    }
   ],
   "source": [
    "name = input()\n",
    "print('내 이름은 '+ name + '입니다')"
   ]
  },
  {
   "cell_type": "code",
   "execution_count": 15,
   "id": "f68716f8",
   "metadata": {},
   "outputs": [
    {
     "name": "stdout",
     "output_type": "stream",
     "text": [
      "바보바보바보바보바보바보바보바보바보바보\n"
     ]
    }
   ],
   "source": [
    "print('바보' * 10)"
   ]
  },
  {
   "cell_type": "markdown",
   "id": "2b1f9571",
   "metadata": {},
   "source": [
    "### 문자열 인덱싱\n",
    "\n",
    "문자열에서 맨 처음 문자는 0번 순서를 가지게 되고 그 다음 문자부터 1씩 증가하는 순서를 갖는다.  \n",
    "\"abcd\"  \n",
    "a 는 0번  \n",
    "b 는 1번  \n",
    "c 는 2번  \n",
    "d 는 3번"
   ]
  },
  {
   "cell_type": "code",
   "execution_count": 16,
   "id": "54212928",
   "metadata": {},
   "outputs": [
    {
     "name": "stdout",
     "output_type": "stream",
     "text": [
      "a\n",
      "b\n",
      "c\n",
      "d\n"
     ]
    }
   ],
   "source": [
    "str1 = 'abcd'\n",
    "print(str1[0])\n",
    "print(str1[1])\n",
    "print(str1[2])\n",
    "print(str1[3])"
   ]
  },
  {
   "cell_type": "markdown",
   "id": "9a1c85b8",
   "metadata": {},
   "source": [
    "## 문자열 슬라이싱\n",
    "문자열에서 특정 부분만 잘라서 사용  \n",
    "문자열[시작 : 끝] 으로 사용  \n",
    "시작 이상 끝 미만으로 생각"
   ]
  },
  {
   "cell_type": "code",
   "execution_count": 23,
   "id": "a5cf4fb9",
   "metadata": {},
   "outputs": [],
   "source": [
    "a = 'ab.ab.ab.ab.ab.ab.ab.ab.ab.ab' # 총 20자"
   ]
  },
  {
   "cell_type": "code",
   "execution_count": 24,
   "id": "caf7cbaf",
   "metadata": {},
   "outputs": [
    {
     "name": "stdout",
     "output_type": "stream",
     "text": [
      "ab.ab.ab.ab\n"
     ]
    }
   ],
   "source": [
    "print(a[0:11]) # 0번부터 10번까지 출력"
   ]
  },
  {
   "cell_type": "markdown",
   "id": "4a86789a",
   "metadata": {},
   "source": [
    "## 문자열 나누기\n",
    "문자열.split('구분자')  \n",
    "구분자는 지워지고 구분한 문자열은 리스트로 저장된다."
   ]
  },
  {
   "cell_type": "code",
   "execution_count": 25,
   "id": "813c4679",
   "metadata": {},
   "outputs": [],
   "source": [
    "list1 = a.split('.')"
   ]
  },
  {
   "cell_type": "code",
   "execution_count": 26,
   "id": "4890abab",
   "metadata": {},
   "outputs": [
    {
     "data": {
      "text/plain": [
       "['ab', 'ab', 'ab', 'ab', 'ab', 'ab', 'ab', 'ab', 'ab', 'ab']"
      ]
     },
     "execution_count": 26,
     "metadata": {},
     "output_type": "execute_result"
    }
   ],
   "source": [
    "list1"
   ]
  },
  {
   "cell_type": "code",
   "execution_count": null,
   "id": "63aba7de",
   "metadata": {},
   "outputs": [],
   "source": []
  },
  {
   "cell_type": "markdown",
   "id": "936d757e",
   "metadata": {},
   "source": [
    "### 문제\n",
    "\n",
    "today = '20210727-화요일- 맑음\n",
    "\n",
    "20210721 출력  \n",
    "화요일 출력  \n",
    "오늘은 2021년 07월 27일 화요일입니다. 날씨는 맑음입니다. 출력"
   ]
  },
  {
   "cell_type": "code",
   "execution_count": 29,
   "id": "01838000",
   "metadata": {},
   "outputs": [
    {
     "name": "stdout",
     "output_type": "stream",
     "text": [
      "['20210727', '화요일', '맑음']\n"
     ]
    }
   ],
   "source": [
    "today = '20210727-화요일-맑음'\n",
    "today1 = today.split('-')\n",
    "print(today1)"
   ]
  },
  {
   "cell_type": "code",
   "execution_count": 30,
   "id": "6d0f6cf8",
   "metadata": {},
   "outputs": [
    {
     "name": "stdout",
     "output_type": "stream",
     "text": [
      "20210727\n",
      "화요일\n",
      "오늘은 2021년 07월 27일 화요일입니다. 날씨는 맑음입니다.\n"
     ]
    }
   ],
   "source": [
    "print(today1[0])\n",
    "print(today1[1])\n",
    "print('오늘은 '+ today1[0][0:4]+'년 ' +today1[0][4:6]+'월 ' +today1[0][6:]+'일 '\n",
    "     + today1[1]+'입니다. 날씨는 ' +today1[2]+'입니다.' )"
   ]
  },
  {
   "cell_type": "markdown",
   "id": "793dfe25",
   "metadata": {},
   "source": [
    "## 달력 만들기 문제"
   ]
  },
  {
   "cell_type": "code",
   "execution_count": null,
   "id": "2263ba64",
   "metadata": {},
   "outputs": [],
   "source": [
    "print('일\\t월\\t화\\t수\\t목\\t금\\t토')"
   ]
  },
  {
   "cell_type": "code",
   "execution_count": 40,
   "id": "fd3dc1f7",
   "metadata": {},
   "outputs": [],
   "source": [
    "one = []    \n",
    "two = []\n",
    "three =[] \n",
    "four = []\n",
    "five = []\n",
    "six = []\n",
    "seven =[]\n",
    "eight = []\n",
    "nine = []\n",
    "ten = []\n",
    "eleven =[] \n",
    "twelve = []"
   ]
  },
  {
   "cell_type": "code",
   "execution_count": 41,
   "id": "3cd50ded",
   "metadata": {},
   "outputs": [],
   "source": [
    "for i in range(1,32,1) :\n",
    "    one.append(i)\n",
    "for i in range(1,29,1) :\n",
    "    two.append(i)\n",
    "for i in range(1,32,1) :\n",
    "    three.append(i)\n",
    "for i in range(1,31,1) :\n",
    "    four.append(i)\n",
    "for i in range(1,32,1) :\n",
    "    five.append(i)\n",
    "for i in range(1,31,1) :\n",
    "    six.append(i)\n",
    "for i in range(1,32,1) :\n",
    "    seven.append(i)\n",
    "for i in range(1,32,1) :\n",
    "    eight.append(i)\n",
    "for i in range(1,31,1) :\n",
    "    nine.append(i)\n",
    "for i in range(1,32,1) :\n",
    "    ten.append(i)\n",
    "for i in range(1,31,1) :\n",
    "    eleven.append(i)\n",
    "for i in range(1,32,1) :\n",
    "    twelve.append(i)"
   ]
  },
  {
   "cell_type": "code",
   "execution_count": 44,
   "id": "0377e9c2",
   "metadata": {
    "scrolled": true
   },
   "outputs": [
    {
     "ename": "SyntaxError",
     "evalue": "EOL while scanning string literal (<ipython-input-44-c4af01ae1705>, line 5)",
     "output_type": "error",
     "traceback": [
      "\u001b[1;36m  File \u001b[1;32m\"<ipython-input-44-c4af01ae1705>\"\u001b[1;36m, line \u001b[1;32m5\u001b[0m\n\u001b[1;33m    print('  \\t  \\t  \\t  \\t 1\\t 2\\t 3\\n\u001b[0m\n\u001b[1;37m                                       ^\u001b[0m\n\u001b[1;31mSyntaxError\u001b[0m\u001b[1;31m:\u001b[0m EOL while scanning string literal\n"
     ]
    }
   ],
   "source": [
    "print('월을 입력해주세요.')\n",
    "month = int(input())\n",
    "if month == 1 :\n",
    "    print('일\\t월\\t화\\t수\\t목\\t금\\t토')\n",
    "    print('  \\t  \\t  \\t  \\t 1\\t 2\\t 3\\n4\\t 5\\t 6\\t 7\\t 8\\t 9\\t10\\n11\\t12\\t13\\t14\\t15\\t16\\t17\\n18\\t19\\t20\\t21\\t22\\t23\\  \\t  \\t  \\t  \\t 1\\t 2\\t 3')\n",
    "    "
   ]
  },
  {
   "cell_type": "markdown",
   "id": "01897592",
   "metadata": {},
   "source": [
    "어렵군,,,,,,,,,,,,,,,,,,,,, 밑에는 선생님 풀이,,,"
   ]
  },
  {
   "cell_type": "code",
   "execution_count": null,
   "id": "c18590d3",
   "metadata": {},
   "outputs": [],
   "source": [
    "print(\"월을 입력 해주세요.\")\n",
    "month = int(input())\n",
    "\n",
    "day = 0\n",
    "month_end = [31,28,31,30,31,30,31,31,30,31,30,31]  #각 달의 마지막 날을 저장해둔 리스트\n",
    "\n",
    "lst = [\"\\t\"]*42  # 전체 달력의 크기를 저장, 한 달의 크기는 비어 있는 날까지 총 42일\n",
    "\n",
    "for i in range(0,month-1,1):  # 입력받은 달까지의 총 일수를 계산, 1월 이면 5\n",
    "    day+=month_end[i]         # 2월이면 31+5 = 36, 3월이면 31+28+5=64\n",
    "day+=5                        # 여기서 5는 2021년 1월 1일이 금요일부터 시작하기 때문 \n",
    "\n",
    "print(\"\\t일\\t월\\t화\\t수\\t목\\t금\\t토\")\n",
    "\n",
    "for i in range(0,day%7,1):  # 매 월 앞에 비어있는 날들을 \\t 탭으로 출력\n",
    "    lst[i]=\"\\t\"\n",
    "    \n",
    "for i in range(day%7,(month_end[month-1]+day%7),1):\n",
    "    lst[i]+=str(i-day%7+1)  # 날들을 추가\n"
   ]
  },
  {
   "cell_type": "code",
   "execution_count": null,
   "id": "e7024a9f",
   "metadata": {},
   "outputs": [],
   "source": []
  }
 ],
 "metadata": {
  "kernelspec": {
   "display_name": "Python 3",
   "language": "python",
   "name": "python3"
  },
  "language_info": {
   "codemirror_mode": {
    "name": "ipython",
    "version": 3
   },
   "file_extension": ".py",
   "mimetype": "text/x-python",
   "name": "python",
   "nbconvert_exporter": "python",
   "pygments_lexer": "ipython3",
   "version": "3.8.8"
  }
 },
 "nbformat": 4,
 "nbformat_minor": 5
}
