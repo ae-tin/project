{
 "cells": [
  {
   "cell_type": "markdown",
   "metadata": {},
   "source": [
    "# 딕셔너리\n",
    "\n",
    "키와 값이 하나로 묶인 자료구조\n",
    "ex) 'apple':'사과' 처럼 의미 있는 두 값을 연결해 구성\n",
    "\n",
    "중괄호 {}로 묶어 구성, 키(Key)와 값(Value)의 쌍으로 구성\n",
    "\n",
    "딕셔너리변수이름 = {'키1':'값1', '키2':'값2', '키3':'값3'...}\n",
    "\n",
    "단, 키는 중복되면 안된다. 값은 중복이 돼도 상관없고 값에는 리스트나 딕셔너리가 올 수도 있다."
   ]
  },
  {
   "cell_type": "code",
   "execution_count": 1,
   "metadata": {},
   "outputs": [],
   "source": [
    "dict1 =  {'키1':'값1', '키2':'값2', '키3':'값3'}"
   ]
  },
  {
   "cell_type": "code",
   "execution_count": 2,
   "metadata": {},
   "outputs": [
    {
     "name": "stdout",
     "output_type": "stream",
     "text": [
      "{'키1': '값1', '키2': '값2', '키3': '값3'}\n"
     ]
    }
   ],
   "source": [
    "print(dict1)"
   ]
  },
  {
   "cell_type": "markdown",
   "metadata": {},
   "source": [
    "# 딕셔너리에 키와 값 추가하기\n",
    "\n",
    "현재 딕셔너리에 없는 키와 값을 추가할 때는 다음과 같은 코드 실행\n",
    "\n",
    "딕셔너리변수이름['키']='값'\n",
    "\n"
   ]
  },
  {
   "cell_type": "code",
   "execution_count": 3,
   "metadata": {},
   "outputs": [],
   "source": [
    "dict1['키4']='값4'"
   ]
  },
  {
   "cell_type": "code",
   "execution_count": 4,
   "metadata": {},
   "outputs": [
    {
     "name": "stdout",
     "output_type": "stream",
     "text": [
      "{'키1': '값1', '키2': '값2', '키3': '값3', '키4': '값4'}\n"
     ]
    }
   ],
   "source": [
    "print(dict1)"
   ]
  },
  {
   "cell_type": "markdown",
   "metadata": {},
   "source": [
    "# 딕셔너리에 값 접근하기\n",
    "\n",
    "딕셔너리에 있는 특정 값에 접근하기 위해서는 다음과 같이 키를 이용한다.\n",
    "\n",
    "딕셔너리변수이름['키']\n",
    "\n",
    "또는\n",
    "\n",
    "딕셔너리변수이름.get('키')\n"
   ]
  },
  {
   "cell_type": "code",
   "execution_count": 5,
   "metadata": {},
   "outputs": [
    {
     "name": "stdout",
     "output_type": "stream",
     "text": [
      "값2\n"
     ]
    }
   ],
   "source": [
    "print(dict1['키2'])"
   ]
  },
  {
   "cell_type": "code",
   "execution_count": 6,
   "metadata": {},
   "outputs": [
    {
     "name": "stdout",
     "output_type": "stream",
     "text": [
      "값2\n"
     ]
    }
   ],
   "source": [
    "print(dict1.get('키2'))"
   ]
  },
  {
   "cell_type": "markdown",
   "metadata": {},
   "source": [
    "# 딕셔너리에 값 수정하기\n",
    "\n",
    "딕셔너리에 있는 특정 값을 수정하기 위해서는 딕셔너리에 존재하는 키를 입력하고 해당 하는 키에 값을 저장하면 된다.\n",
    "\n",
    "딕셔너리변수이름['키']='값'\n",
    "\n"
   ]
  },
  {
   "cell_type": "code",
   "execution_count": 7,
   "metadata": {},
   "outputs": [],
   "source": [
    "dict1['키4']='바꾼값'"
   ]
  },
  {
   "cell_type": "code",
   "execution_count": 8,
   "metadata": {},
   "outputs": [
    {
     "name": "stdout",
     "output_type": "stream",
     "text": [
      "바꾼값\n"
     ]
    }
   ],
   "source": [
    "print(dict1['키4'])"
   ]
  },
  {
   "cell_type": "markdown",
   "metadata": {},
   "source": [
    "# 딕셔너리에 키와 값 삭제하기\n",
    "\n",
    "딕셔너리에 있는 특정 값을 삭제하기 위해서는 pop 또는 del()을 사용\n",
    "\n",
    "\n",
    "딕셔너리변수이름.pop(키)\n",
    "\n",
    "del(딕셔너리변수이름[키])"
   ]
  },
  {
   "cell_type": "code",
   "execution_count": 9,
   "metadata": {},
   "outputs": [
    {
     "data": {
      "text/plain": [
       "'바꾼값'"
      ]
     },
     "execution_count": 9,
     "metadata": {},
     "output_type": "execute_result"
    }
   ],
   "source": [
    "dict1.pop('키4')"
   ]
  },
  {
   "cell_type": "code",
   "execution_count": 10,
   "metadata": {},
   "outputs": [],
   "source": [
    "del(dict1['키3'])"
   ]
  },
  {
   "cell_type": "code",
   "execution_count": 11,
   "metadata": {},
   "outputs": [
    {
     "name": "stdout",
     "output_type": "stream",
     "text": [
      "{'키1': '값1', '키2': '값2'}\n"
     ]
    }
   ],
   "source": [
    "print(dict1)"
   ]
  }
 ],
 "metadata": {
  "kernelspec": {
   "display_name": "Python 3",
   "language": "python",
   "name": "python3"
  },
  "language_info": {
   "codemirror_mode": {
    "name": "ipython",
    "version": 3
   },
   "file_extension": ".py",
   "mimetype": "text/x-python",
   "name": "python",
   "nbconvert_exporter": "python",
   "pygments_lexer": "ipython3",
   "version": "3.8.8"
  }
 },
 "nbformat": 4,
 "nbformat_minor": 4
}
