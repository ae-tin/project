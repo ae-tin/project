{
 "cells": [
  {
   "attachments": {
    "image-2.png": {
     "image/png": "[encoded data removed]"
    }
   },
   "cell_type": "markdown",
   "metadata": {},
   "source": [
    "### 트리\n",
    "\n",
    "노드로 이루어진 자료구조\n",
    "\n",
    "![image-2.png](attachment:image-2.png)\n",
    "\n",
    "루트 노드(root node): 부모가 없는 노드, 트리는 하나의 루트 노드만을 가진다.  \n",
    "단말 노드(leaf node): 자식이 없는 노드, ‘말단 노드’ 또는 ‘잎 노드’라고도 부른다  \n",
    "형제(sibling): 같은 부모를 가지는 노드  \n",
    "노드의 크기(size): 자신을 포함한 모든 자손 노드의 개수  \n",
    "노드의 깊이(depth): 루트에서 어떤 노드에 도달하기 위해 거쳐야 하는 간선의 수  \n",
    "노드의 레벨(level): 트리의 특정 깊이를 가지는 노드의 집합  \n",
    "노드의 차수(degree): 하위 트리 개수 / 간선 수 (degree) = 각 노드가 지닌 가지의 수  \n",
    "트리의 차수(degree of tree): 트리의 최대 차수  \n",
    "트리의 높이(height): 루트 노드에서 가장 깊숙히 있는 노드의 깊이  \n"
   ]
  },
  {
   "cell_type": "markdown",
   "metadata": {},
   "source": [
    "### 이진 트리\n",
    "\n",
    "자식이 최대 2개인 트리"
   ]
  },
  {
   "cell_type": "markdown",
   "metadata": {},
   "source": [
    "### 이진 탐색 트리\n",
    "\n",
    "데이터를 저장할 때 데이터의 크기를 비교해서 정렬이 되도록 저장하는 구조\n",
    "\n",
    "부모노드의 왼쪽 자식노드는 부모노드보다 크기가 작다  \n",
    "부모노드의 오른쪽 자식노드는 부모노드보다 크기가 크다\n",
    "\n",
    "\n",
    "    노드\n",
    "        데이터\n",
    "        왼쪽노드\n",
    "        오른쪽노드\n",
    "        \n",
    "        \n",
    "    이진탐색트리\n",
    "        루트노드\n",
    "        \n",
    "        데이터 삽입 기능\n",
    "          데이터 하나를 전달받는다\n",
    "          새로운 노드 생성\n",
    "          새로운 노드의 데이터에 데이터 저장\n",
    "          \n",
    "          데이터 하나도 없으면   \n",
    "            root에 새로운 노드 저장\n",
    "            \n",
    "          그렇지 않으면\n",
    "            현재 노드를 root 노드로 지정\n",
    "            \n",
    "            만약에 전달받은 데이터가 현재 노드의 데이터보다 크면\n",
    "              현재 노드의 오른쪽이 None이면\n",
    "                현재 노드의 오른쪽에 새로운 노드를 저장 저장 후 반복문 종료\n",
    "              그렇지 않으면\n",
    "                현재 노드를 현재 노드의 오른쪽 노드로 변경하고 다시 반복\n",
    "                \n",
    "            그렇지 않고 만약에 전달받은 데이터가 현재 노드의 데이터보다 작으면\n",
    "              현재 노드의 왼쪽이 None이면\n",
    "                현재 노드의 왼쪽에 새로운 노드를 저장 후 반복문 종료\n",
    "              그렇지 않으면\n",
    "                현재 노드를 현재 노드의 왼쪽 노드로 변경하고 다시 반복"
   ]
  },
  {
   "cell_type": "code",
   "execution_count": 1,
   "metadata": {},
   "outputs": [],
   "source": [
    "class Node:\n",
    "    data = 0\n",
    "    leftNode = None\n",
    "    rightNode = None\n",
    "    \n",
    "class BST:\n",
    "    root = None\n",
    "    \n",
    "    def insert(self, data):\n",
    "        newNode = Node()\n",
    "        newNode.data = data\n",
    "        if self.root == None:\n",
    "            self.root = newNode\n",
    "        else:\n",
    "            current = self.root\n",
    "            while True:\n",
    "                if data > current.data:\n",
    "                    if current.rightNode == None:\n",
    "                        current.rightNode = newNode\n",
    "                        break\n",
    "                    else :\n",
    "                        current = current.rightNode\n",
    "                elif data < current.data : \n",
    "                    if current.leftNode == None:\n",
    "                        current.leftNode = newNode\n",
    "                        break\n",
    "                    else :\n",
    "                        current = current.leftNode\n",
    "                    \n"
   ]
  },
  {
   "cell_type": "code",
   "execution_count": 2,
   "metadata": {},
   "outputs": [],
   "source": [
    "bst = BST()\n",
    "\n",
    "bst.insert(10)"
   ]
  },
  {
   "cell_type": "code",
   "execution_count": 3,
   "metadata": {},
   "outputs": [],
   "source": [
    "bst.insert(20)"
   ]
  },
  {
   "cell_type": "code",
   "execution_count": 5,
   "metadata": {},
   "outputs": [
    {
     "data": {
      "text/plain": [
       "20"
      ]
     },
     "execution_count": 5,
     "metadata": {},
     "output_type": "execute_result"
    }
   ],
   "source": [
    "\n",
    "bst.root.rightNode.data"
   ]
  },
  {
   "cell_type": "markdown",
   "metadata": {},
   "source": [
    "### 이진 탐색 트리 - 재귀함수 사용\n",
    "\n",
    "데이터를 저장할 때 데이터의 크기를 비교해서 정렬이 되도록 저장하는 구조\n",
    "\n",
    "부모노드의 왼쪽 자식노드는 부모노드보다 크기가 작다  \n",
    "부모노드의 오른쪽 자식노드는 부모노드보다 크기가 크다\n",
    "\n",
    "\n",
    "    노드\n",
    "        데이터\n",
    "        왼쪽노드\n",
    "        오른쪽노드\n",
    "        \n",
    "        \n",
    "    이진탐색트리\n",
    "      루트노드\n",
    "                            단, 맨 처음 데이터를 삽입할 때 노드는 root노드로 한다.\n",
    "      데이터 삽입 기능  \n",
    "        노드 하나와 숫자 하나를 전달받는다\n",
    "            \n",
    "        새로운 노드 생성\n",
    "        새로운 노드의 데이터에 전달받은 숫자 저장\n",
    "            \n",
    "        만약에 root가 None면\n",
    "          root에 새로운 노드를 저장\n",
    "        그렇지 않으면\n",
    "          만약에 전달받은 숫자가 전달받은 노드의 데이터 보다 크면\n",
    "            만약에 전달받은 노드의 오른쪽 노드가 None 이면\n",
    "              전달받은 노드의 오른쪽 노드에 새로운 노드 저장\n",
    "            그렇지 않으면 \n",
    "              노드의 오른쪽 노드와 전달받은 데이터로 다시 데이터 삽입기능 수행\n",
    "          그렇지 않고 만약에 전달받은 숫자가 전달받은 노드의 데이터 보다 작으면\n",
    "            만약에 전달받은 노드의 왼쪽 노드가 None 이면\n",
    "              전달받은 노드의 왼쪽 노드에 새로운 노드 저장\n",
    "            그렇지 않으면 \n",
    "              노드의 왼쪽 노드와 전달받은 데이터로 다시 데이터 삽입기능 수행\n",
    "            \n",
    "\n",
    "\n",
    "                    단, 맨 처음 출력할 때 노드는 root노드로 한다.\n",
    "      중위순회 (중위순회를 영어로 inorder)\n",
    "        노드를 하나 전달받는다.\n",
    "        만약에 노드가 비어있으면 return 으로 종료\n",
    "        \n",
    "        노드의 왼쪽 노드가 비어있지 않으면 \n",
    "          노드의 왼쪽 노드로 다시 출력\n",
    "        \n",
    "        노드의 데이터 출력\n",
    "        \n",
    "        노드의 왼쪽 노드가 비어있지 않으면 \n",
    "          노드의 왼쪽 노드로 다시 출력\n",
    "        \n",
    "      \n",
    "      \n",
    "      후위 순회\n",
    "      \n",
    "      전위 순회\n",
    "      \n",
    "      \n",
    "### 트리 데이터 순회\n",
    "\n",
    "1. 전위순회  \n",
    "    윗쪽 -> 왼쪽 -> 오른쪽\n",
    "   \n",
    "\n",
    "2. 중위순회  \n",
    "    왼쪽 -> 윗쪽 -> 오른쪽\n",
    "    \n",
    "    \n",
    "3. 후위순회  \n",
    "    왼쪽 -> 오른쪽 -> 윗쪽\n"
   ]
  },
  {
   "cell_type": "code",
   "execution_count": null,
   "metadata": {},
   "outputs": [],
   "source": []
  },
  {
   "cell_type": "code",
   "execution_count": null,
   "metadata": {},
   "outputs": [],
   "source": []
  },
  {
   "cell_type": "code",
   "execution_count": 15,
   "metadata": {},
   "outputs": [],
   "source": [
    "class Node:\n",
    "    data = 0\n",
    "    leftNode = None\n",
    "    rightNode = None\n",
    "    \n",
    "class BST:\n",
    "    root = None\n",
    "    \n",
    "    def insert(self, node, num):\n",
    "        newNode = Node()\n",
    "        newNode.data = num\n",
    "        \n",
    "        if self.root == None:\n",
    "            self.root = newNode\n",
    "        else:\n",
    "            if num > node.data :\n",
    "                if node.rightNode == None:\n",
    "                    node.rightNode = newNode\n",
    "                else:\n",
    "                    self.insert(node.rightNode, num)\n",
    "            elif num < node.data:\n",
    "                if node.leftNode == None:\n",
    "                    node.leftNode = newNode\n",
    "                else:\n",
    "                    self.insert(node.leftNode, num)\n",
    "                    \n",
    " \n",
    "    def inorder(self, node):\n",
    "        if node == None:\n",
    "            return\n",
    "        \n",
    "        if node.leftNode != None:\n",
    "            self.inorder(node.leftNode)\n",
    "            \n",
    "        print(node.data)\n",
    "        \n",
    "        if node.rightNode != None:\n",
    "            self.inorder(node.rightNode)\n",
    "            \n",
    "            \n",
    "    def preorder(self, node) :\n",
    "        if node == None:\n",
    "            return\n",
    "        \n",
    "        print(node.data)\n",
    "        \n",
    "        if node.leftNode != None:\n",
    "            self.preorder(node.leftNode)\n",
    "        \n",
    "        if node.rightNode != None:\n",
    "            self.preorder(node.rightNode)\n",
    "            \n",
    "    def postorder(self, node) :\n",
    "        if node == None:\n",
    "            return\n",
    "        \n",
    "        if node.leftNode != None:\n",
    "            self.preorder(node.leftNode)\n",
    "        \n",
    "        if node.rightNode != None:\n",
    "            self.preorder(node.rightNode)\n",
    "            \n",
    "        print(node.data)\n",
    "    \n"
   ]
  },
  {
   "cell_type": "code",
   "execution_count": 16,
   "metadata": {},
   "outputs": [],
   "source": [
    "bst = BST()\n"
   ]
  },
  {
   "cell_type": "code",
   "execution_count": 17,
   "metadata": {},
   "outputs": [],
   "source": [
    "bst.insert(bst.root, 10)\n",
    "bst.insert(bst.root, 20)\n",
    "bst.insert(bst.root, 30)\n",
    "bst.insert(bst.root, 12)\n",
    "bst.insert(bst.root, 5)"
   ]
  },
  {
   "cell_type": "code",
   "execution_count": 18,
   "metadata": {},
   "outputs": [
    {
     "name": "stdout",
     "output_type": "stream",
     "text": [
      "5\n",
      "10\n",
      "12\n",
      "20\n",
      "30\n"
     ]
    }
   ],
   "source": [
    "bst.inorder(bst.root)"
   ]
  },
  {
   "cell_type": "code",
   "execution_count": 19,
   "metadata": {},
   "outputs": [
    {
     "name": "stdout",
     "output_type": "stream",
     "text": [
      "10\n",
      "5\n",
      "20\n",
      "12\n",
      "30\n"
     ]
    }
   ],
   "source": [
    "bst.preorder(bst.root)"
   ]
  },
  {
   "cell_type": "code",
   "execution_count": 20,
   "metadata": {},
   "outputs": [
    {
     "name": "stdout",
     "output_type": "stream",
     "text": [
      "5\n",
      "20\n",
      "12\n",
      "30\n",
      "10\n"
     ]
    }
   ],
   "source": [
    "bst.postorder(bst.root)"
   ]
  },
  {
   "cell_type": "markdown",
   "metadata": {},
   "source": [
    "### 힙 트리"
   ]
  },
  {
   "cell_type": "markdown",
   "metadata": {},
   "source": [
    "### B 트리, B+트리"
   ]
  },
  {
   "cell_type": "markdown",
   "metadata": {},
   "source": [
    "### AVL 트리"
   ]
  },
  {
   "cell_type": "markdown",
   "metadata": {},
   "source": [
    "### 레드 블랙 트리"
   ]
  },
  {
   "cell_type": "code",
   "execution_count": null,
   "metadata": {},
   "outputs": [],
   "source": []
  }
 ],
 "metadata": {
  "kernelspec": {
   "display_name": "Python 3",
   "language": "python",
   "name": "python3"
  },
  "language_info": {
   "codemirror_mode": {
    "name": "ipython",
    "version": 3
   },
   "file_extension": ".py",
   "mimetype": "text/x-python",
   "name": "python",
   "nbconvert_exporter": "python",
   "pygments_lexer": "ipython3",
   "version": "3.7.3"
  }
 },
 "nbformat": 4,
 "nbformat_minor": 5
}
