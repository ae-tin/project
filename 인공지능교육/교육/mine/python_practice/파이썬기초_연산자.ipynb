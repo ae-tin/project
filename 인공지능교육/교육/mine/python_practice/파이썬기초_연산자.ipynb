{
 "cells": [
  {
   "cell_type": "markdown",
   "id": "a2d4ccdd",
   "metadata": {},
   "source": [
    "# 파이썬 기초"
   ]
  },
  {
   "cell_type": "markdown",
   "id": "2e78716e",
   "metadata": {},
   "source": [
    "너무 오랜만에 하는 파이썬,,, 기억을 되살려서 복습겸 시작~~ !\n",
    "  \n",
    "근데 자세한 거를 꼼꼼히 한다기 보다는 분석에 필요한 거만 할 예정이니\n",
    "  \n",
    "  자세한 거는 큰 틀을 잡고 나서 정리 하는 게 좋을 것 같다!!"
   ]
  },
  {
   "cell_type": "markdown",
   "id": "a1424e9c",
   "metadata": {},
   "source": [
    "## 마크다운\n",
    "\n",
    "셀 작성 상태가 아니고 셀 선택 상태에서 mm을 누르면 마크다운 입력 가능한 셀로 바뀐다  \n",
    "    \n",
    "줄바꾸기 하려면 바꾸기 전 줄에 띄어쓰기 두 번 하고 줄바꿈하면 바뀜  \n",
    "  \n",
    "&,n,b,s,p,;,을 활용하면 #이나 띄어쓰기를 활용 할 수 있다."
   ]
  },
  {
   "cell_type": "markdown",
   "id": "fbe2f910",
   "metadata": {},
   "source": [
    "## 화면에 출력하기 \n",
    "  \n",
    "print()를 사용하면 화면에 () 안의 내용을 출력한다. \n"
   ]
  },
  {
   "cell_type": "code",
   "execution_count": 1,
   "id": "b8918520",
   "metadata": {},
   "outputs": [
    {
     "name": "stdout",
     "output_type": "stream",
     "text": [
      "1111\n"
     ]
    }
   ],
   "source": [
    "print(1111)"
   ]
  },
  {
   "cell_type": "markdown",
   "id": "eb706fb3",
   "metadata": {},
   "source": [
    "문자는 쌍따옴표(\")나 따옴표(') 안에 넣는다"
   ]
  },
  {
   "cell_type": "code",
   "execution_count": 2,
   "id": "b707ecf2",
   "metadata": {},
   "outputs": [
    {
     "name": "stdout",
     "output_type": "stream",
     "text": [
      "ㅎㅇ\n"
     ]
    }
   ],
   "source": [
    "print('ㅎㅇ')"
   ]
  },
  {
   "cell_type": "markdown",
   "id": "fbc205a6",
   "metadata": {},
   "source": [
    "## 변수 이름 짓는 법\n",
    "\n",
    "1. 특수문자는 _ 를 제외하고 사용 불가능, 띄어쓰기 금지\n",
    "  \n",
    "2. 숫자로 시작 금지 , 문자로 먼저 시작\n",
    "  \n",
    "3. 파이썬은 대소문자를 구분한다. var != VAR\n",
    "  \n",
    "4. 예약어는 사용 금지 ex) if, for, while 등\n"
   ]
  },
  {
   "cell_type": "code",
   "execution_count": 1,
   "id": "5e4a1f8b",
   "metadata": {},
   "outputs": [],
   "source": [
    "a1 = 1\n",
    "a2 = 1.1\n",
    "a3 = 'gd'\n",
    "a_4 = True"
   ]
  },
  {
   "cell_type": "markdown",
   "id": "cee1e017",
   "metadata": {},
   "source": [
    "## 변수 타입 확인"
   ]
  },
  {
   "cell_type": "code",
   "execution_count": 2,
   "id": "eaadf42b",
   "metadata": {},
   "outputs": [
    {
     "data": {
      "text/plain": [
       "int"
      ]
     },
     "execution_count": 2,
     "metadata": {},
     "output_type": "execute_result"
    }
   ],
   "source": [
    "type(a1)"
   ]
  },
  {
   "cell_type": "code",
   "execution_count": 3,
   "id": "1be1d752",
   "metadata": {},
   "outputs": [
    {
     "data": {
      "text/plain": [
       "float"
      ]
     },
     "execution_count": 3,
     "metadata": {},
     "output_type": "execute_result"
    }
   ],
   "source": [
    "type(a2)"
   ]
  },
  {
   "cell_type": "code",
   "execution_count": 4,
   "id": "35ecbadf",
   "metadata": {},
   "outputs": [
    {
     "data": {
      "text/plain": [
       "str"
      ]
     },
     "execution_count": 4,
     "metadata": {},
     "output_type": "execute_result"
    }
   ],
   "source": [
    "type(a3)"
   ]
  },
  {
   "cell_type": "code",
   "execution_count": 5,
   "id": "f1511f13",
   "metadata": {},
   "outputs": [
    {
     "data": {
      "text/plain": [
       "bool"
      ]
     },
     "execution_count": 5,
     "metadata": {},
     "output_type": "execute_result"
    }
   ],
   "source": [
    "type(a_4)"
   ]
  },
  {
   "cell_type": "markdown",
   "id": "6be88b10",
   "metadata": {},
   "source": [
    "## 두 변수의 수 바꾸기"
   ]
  },
  {
   "cell_type": "code",
   "execution_count": 14,
   "id": "82087db7",
   "metadata": {},
   "outputs": [],
   "source": [
    "num1 = 10\n",
    "num2 = 20"
   ]
  },
  {
   "cell_type": "code",
   "execution_count": 7,
   "id": "0abbb7db",
   "metadata": {},
   "outputs": [
    {
     "name": "stdout",
     "output_type": "stream",
     "text": [
      "10\n",
      "20\n"
     ]
    }
   ],
   "source": [
    "a = print(num1)\n",
    "b = print(num2)\n"
   ]
  },
  {
   "cell_type": "code",
   "execution_count": 8,
   "id": "b07cb636",
   "metadata": {},
   "outputs": [],
   "source": [
    "num1 = a"
   ]
  },
  {
   "cell_type": "code",
   "execution_count": 9,
   "id": "b4296a1e",
   "metadata": {},
   "outputs": [],
   "source": [
    "num2 = b"
   ]
  },
  {
   "cell_type": "code",
   "execution_count": 10,
   "id": "1971b208",
   "metadata": {
    "scrolled": true
   },
   "outputs": [
    {
     "name": "stdout",
     "output_type": "stream",
     "text": [
      "None\n"
     ]
    }
   ],
   "source": [
    "print(num1)"
   ]
  },
  {
   "cell_type": "markdown",
   "id": "b36daa68",
   "metadata": {},
   "source": [
    "첨에 진짜 어떡하지 하면서 당황,,,"
   ]
  },
  {
   "cell_type": "code",
   "execution_count": 19,
   "id": "7b9002fb",
   "metadata": {},
   "outputs": [],
   "source": [
    "num1 = 10\n",
    "num2 = 20"
   ]
  },
  {
   "cell_type": "code",
   "execution_count": 20,
   "id": "b2dcdf6a",
   "metadata": {},
   "outputs": [],
   "source": [
    "num = num1"
   ]
  },
  {
   "cell_type": "markdown",
   "id": "c539ff22",
   "metadata": {},
   "source": [
    "다른 변수에 저장해 놓고 바꿔버리기~~"
   ]
  },
  {
   "cell_type": "code",
   "execution_count": 21,
   "id": "1f243ae5",
   "metadata": {},
   "outputs": [],
   "source": [
    "num1 = num2\n",
    "num2 = num"
   ]
  },
  {
   "cell_type": "code",
   "execution_count": 22,
   "id": "14a4ccb0",
   "metadata": {},
   "outputs": [
    {
     "name": "stdout",
     "output_type": "stream",
     "text": [
      "20\n",
      "10\n"
     ]
    }
   ],
   "source": [
    "print(num1)\n",
    "print(num2)"
   ]
  },
  {
   "cell_type": "markdown",
   "id": "fcbdbdca",
   "metadata": {},
   "source": [
    "## 연산자\n",
    "1. 산술 연산자  \n",
    "   +, -, /, *, //  몫, %  나머지, **  n제곱, =\n",
    "2. 비교 연산자  \n",
    "   == 같다, >= 왼쪽이 크거나 같다, != 같지 않다. 원소 in 데이터 \n",
    "3. 논리 연산자  \n",
    "   and 논리곱, or 논리합, not 부정  \n",
    "4. 비트 연산자  \n",
    "   &,     | ,     ^,     ~,     <<,     >>  \n",
    "   AND    OR     XOR    NOT  LSHIFT  RSHIFT"
   ]
  },
  {
   "cell_type": "code",
   "execution_count": 25,
   "id": "88abe5a4",
   "metadata": {},
   "outputs": [
    {
     "name": "stdout",
     "output_type": "stream",
     "text": [
      "False\n"
     ]
    }
   ],
   "source": [
    "print(num1==num2)"
   ]
  },
  {
   "cell_type": "code",
   "execution_count": 26,
   "id": "f5a3db25",
   "metadata": {},
   "outputs": [],
   "source": [
    "num1 = 358\n",
    "num2 = 726"
   ]
  },
  {
   "cell_type": "code",
   "execution_count": 27,
   "id": "d83d6b7b",
   "metadata": {},
   "outputs": [
    {
     "name": "stdout",
     "output_type": "stream",
     "text": [
      "False\n"
     ]
    }
   ],
   "source": [
    "print(num1*num2+num1<num2+num1)"
   ]
  },
  {
   "cell_type": "code",
   "execution_count": 28,
   "id": "7144ceac",
   "metadata": {},
   "outputs": [],
   "source": [
    "bool1 = True\n",
    "bool2 = False"
   ]
  },
  {
   "cell_type": "code",
   "execution_count": 29,
   "id": "a0813890",
   "metadata": {},
   "outputs": [
    {
     "name": "stdout",
     "output_type": "stream",
     "text": [
      "True\n"
     ]
    }
   ],
   "source": [
    "print(bool1 and bool1)"
   ]
  },
  {
   "cell_type": "code",
   "execution_count": 30,
   "id": "b346e330",
   "metadata": {},
   "outputs": [
    {
     "name": "stdout",
     "output_type": "stream",
     "text": [
      "False\n"
     ]
    }
   ],
   "source": [
    "print(bool2 and bool2)"
   ]
  },
  {
   "cell_type": "code",
   "execution_count": 31,
   "id": "ecbc4aa9",
   "metadata": {},
   "outputs": [
    {
     "name": "stdout",
     "output_type": "stream",
     "text": [
      "False\n"
     ]
    }
   ],
   "source": [
    "print(bool1 and bool2)"
   ]
  },
  {
   "cell_type": "code",
   "execution_count": 32,
   "id": "240919d5",
   "metadata": {},
   "outputs": [
    {
     "name": "stdout",
     "output_type": "stream",
     "text": [
      "True\n"
     ]
    }
   ],
   "source": [
    "print(bool1 or bool2)"
   ]
  },
  {
   "cell_type": "code",
   "execution_count": 33,
   "id": "53867d89",
   "metadata": {},
   "outputs": [],
   "source": [
    "num1 = 10\n",
    "num2 = 20\n",
    "num3 = 30"
   ]
  },
  {
   "cell_type": "code",
   "execution_count": 34,
   "id": "df1971a8",
   "metadata": {},
   "outputs": [
    {
     "name": "stdout",
     "output_type": "stream",
     "text": [
      "False\n"
     ]
    }
   ],
   "source": [
    "print(num1+num2 ==num3 and num2> num3)"
   ]
  },
  {
   "cell_type": "markdown",
   "id": "032cdd0e",
   "metadata": {},
   "source": [
    "### 그냥 공부하면서 일기처럼 정리한 것이기 때문에 부족하거나 틀린 것이 있을 수도 있습니다..!  \n",
    "### 혹시 그런 거 발견하시면 댓글로 알려주시면 감사하겠습니다 !!"
   ]
  }
 ],
 "metadata": {
  "kernelspec": {
   "display_name": "Python 3",
   "language": "python",
   "name": "python3"
  },
  "language_info": {
   "codemirror_mode": {
    "name": "ipython",
    "version": 3
   },
   "file_extension": ".py",
   "mimetype": "text/x-python",
   "name": "python",
   "nbconvert_exporter": "python",
   "pygments_lexer": "ipython3",
   "version": "3.8.8"
  }
 },
 "nbformat": 4,
 "nbformat_minor": 5
}
