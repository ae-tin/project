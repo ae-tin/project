{
 "cells": [
  {
   "cell_type": "markdown",
   "id": "f8372fd6",
   "metadata": {},
   "source": [
    "## 함수\n",
    "뭔가의 기능을 구현하고 그 기능을 함수로 만들어 놓으면 원할 때 언제든지 가져와서 사용할 수 있다  \n",
    "\n",
    "1. 함수를 만들 때\n",
    "  \n",
    "def 함수명(매개변수1, 매개변수2 ...):  \n",
    "&nbsp;&nbsp;&nbsp;&nbsp;함수에서 수행할 코드  \n",
    "&nbsp;&nbsp;&nbsp;&nbsp;return 반환값  \n",
    "\n",
    "return과 매개변수는 없어도 없어도 가능"
   ]
  },
  {
   "cell_type": "code",
   "execution_count": 3,
   "id": "f77578b8",
   "metadata": {},
   "outputs": [],
   "source": [
    "def func_sum(num1, num2):  # 숫자 2개를 매개변수로 전달받고 \n",
    "    result = num1 + num2   # 두 값의 합을 result에 저장해서\n",
    "    \n",
    "    return result          # result를 반환하는 함수"
   ]
  },
  {
   "cell_type": "markdown",
   "id": "ca9b284a",
   "metadata": {},
   "source": [
    "2. 함수를 사용할 때\n",
    "\n",
    "함수이름(매개값1, 매개값2...)"
   ]
  },
  {
   "cell_type": "code",
   "execution_count": 2,
   "id": "7a212742",
   "metadata": {},
   "outputs": [
    {
     "data": {
      "text/plain": [
       "30"
      ]
     },
     "execution_count": 2,
     "metadata": {},
     "output_type": "execute_result"
    }
   ],
   "source": [
    "func_sum(10,20)  # 덧셈 사용"
   ]
  },
  {
   "cell_type": "code",
   "execution_count": 10,
   "id": "abd8d99e",
   "metadata": {},
   "outputs": [],
   "source": [
    "def func_sub(n1, n2):  # 숫자 2개를 매개변수로 전달받고 \n",
    "    result = n1 - n2   # 두 값의 차를 result에 저장해서    \n",
    "    return result     # result를 반환하는 함수"
   ]
  },
  {
   "cell_type": "code",
   "execution_count": 11,
   "id": "c24ff131",
   "metadata": {},
   "outputs": [],
   "source": [
    "def mul(n1, n2):     # 숫자 2개를 매개변수로 전달받고 \n",
    "    result = n1 * n2 # 두 값의 곱를 result에 저장해서    \n",
    "    return result   # result를 반환하는 함수"
   ]
  },
  {
   "cell_type": "code",
   "execution_count": 12,
   "id": "145e5da5",
   "metadata": {},
   "outputs": [],
   "source": [
    "def div(n1, n2):      # 숫자 2개를 매개변수로 전달받고 \n",
    "    result = n1 / n2  # 두 값을 나누기 한 결과를 result에 저장해서    \n",
    "    return result    # result를 반환하는 함수"
   ]
  },
  {
   "cell_type": "code",
   "execution_count": 13,
   "id": "a1b2c62d",
   "metadata": {},
   "outputs": [
    {
     "data": {
      "text/plain": [
       "50"
      ]
     },
     "execution_count": 13,
     "metadata": {},
     "output_type": "execute_result"
    }
   ],
   "source": [
    "func_sub(100,50)  # 뺄셈 사용"
   ]
  },
  {
   "cell_type": "code",
   "execution_count": 14,
   "id": "0d8e0dfc",
   "metadata": {},
   "outputs": [
    {
     "data": {
      "text/plain": [
       "200"
      ]
     },
     "execution_count": 14,
     "metadata": {},
     "output_type": "execute_result"
    }
   ],
   "source": [
    "mul(10,20)  # 곱셈 사용"
   ]
  },
  {
   "cell_type": "code",
   "execution_count": 15,
   "id": "2244cdc2",
   "metadata": {},
   "outputs": [
    {
     "data": {
      "text/plain": [
       "3.3333333333333335"
      ]
     },
     "execution_count": 15,
     "metadata": {},
     "output_type": "execute_result"
    }
   ],
   "source": [
    "div(10,3)  # 나눗셈 사용"
   ]
  },
  {
   "cell_type": "code",
   "execution_count": 18,
   "id": "31b97006",
   "metadata": {},
   "outputs": [
    {
     "data": {
      "text/plain": [
       "1000"
      ]
     },
     "execution_count": 18,
     "metadata": {},
     "output_type": "execute_result"
    }
   ],
   "source": [
    "def calc(num1, num2, str1):     # 숫자 2개와 문자 하나를 전달받는 함수\n",
    "    if str1==\"+\":               # 만약에 전달받은 문자가 +이면 \n",
    "        result = num1 + num2    # result에 전달받은 두 수의 합을 저장하고\n",
    "    elif str1==\"-\":             # 그렇지 않고 만약에 전달받은 문자가 -이면\n",
    "        result = num1 - num2    # result에 전달받은 두 수의 차을 저장하고\n",
    "    elif str1==\"*\":             # 그렇지 않고 만약에 전달받은 문자가 *이면\n",
    "        result = num1 * num2    # result에 전달받은 두 수의 곱을 저장하고\n",
    "    elif str1==\"/\":            # 그렇지 않고 만약에 전달받은 문자가 /이면\n",
    "        result = num1 / num2    # result에 전달받은 두 수의 나누기를 저장하고\n",
    "    return result              # result를 반환하는 함수\n",
    "\n",
    "calc(100,10,\"*\")  # 함수를 사용한 모습\n"
   ]
  },
  {
   "cell_type": "markdown",
   "id": "39e33906",
   "metadata": {},
   "source": [
    "# 전역 변수와 지역 변수\n",
    "\n",
    "전역 변수 : 프로그램 내에서 어디에서든지 사용할 수 있는 변수\n",
    "\n",
    "지역 변수 : 변수가 만들어진 블록 내에서만 사용 가능한 변수\n"
   ]
  },
  {
   "cell_type": "code",
   "execution_count": 19,
   "id": "36ffed32",
   "metadata": {},
   "outputs": [
    {
     "name": "stdout",
     "output_type": "stream",
     "text": [
      "10\n"
     ]
    }
   ],
   "source": [
    "def test():\n",
    "    result = 0           # 여기서 만든 result 라는 변수는 지역 변수\n",
    "    return result\n",
    "\n",
    "\n",
    "result = 10              # 여기서 만든 result 라는 변수는 전역 변수\n",
    "\n",
    "test()\n",
    "\n",
    "print(result)             # 여기서 사용하고 있는 변수는 전역 변수"
   ]
  },
  {
   "cell_type": "code",
   "execution_count": 21,
   "id": "c7032a1a",
   "metadata": {},
   "outputs": [
    {
     "name": "stdout",
     "output_type": "stream",
     "text": [
      "0\n"
     ]
    }
   ],
   "source": [
    "def global_test():\n",
    "    global result           # 변수 앞에 global을 붙이면 전역 변수가 된다\n",
    "    result = 0\n",
    "    return result\n",
    "\n",
    "\n",
    "result = 10              # 여기서 만든 result 라는 변수는 전역 변수\n",
    "\n",
    "global_test()\n",
    "\n",
    "print(result)             # 여기서 사용하고 있는 변수는 전역 변수"
   ]
  },
  {
   "cell_type": "code",
   "execution_count": 26,
   "id": "025a4fd3",
   "metadata": {},
   "outputs": [
    {
     "name": "stdout",
     "output_type": "stream",
     "text": [
      "func1()에서 출력한 a : 20\n",
      "func2()에서 출력한 a : 10\n"
     ]
    }
   ],
   "source": [
    "def func1():\n",
    "    print(\"func1()에서 출력한 a : \" + str(a))  # a라는 변수를 사용할 때\n",
    "                                               # 먼저 같은 지역에서 변수를 찾는다.\n",
    "                                               # 하지만 func1() 함수 에서는 \n",
    "                                               # a라는 변수가 없기 때문에\n",
    "                                               # 전역 변수 a를 사용하는 것\n",
    "def func2():\n",
    "    a = 10\n",
    "    print(\"func2()에서 출력한 a : \" + str(a))  # a라는 변수를 사용할 때\n",
    "                                               # 먼저 같은 지역에서 변수를 찾는다.\n",
    "                                               # func2() 함수 에서는 \n",
    "                                               # a라는 변수가 있기 때문에\n",
    "                                               # 해당 변수 a를 사용하는 것\n",
    "    \n",
    "a=20\n",
    "\n",
    "func1()\n",
    "func2()"
   ]
  },
  {
   "cell_type": "code",
   "execution_count": 28,
   "id": "1b2e59db",
   "metadata": {},
   "outputs": [
    {
     "name": "stdout",
     "output_type": "stream",
     "text": [
      "func1()에서 출력한 a : 30\n",
      "func2()에서 출력한 a : 10\n",
      "30\n"
     ]
    }
   ],
   "source": [
    "def func1():\n",
    "    global a\n",
    "    a = 30\n",
    "    print(\"func1()에서 출력한 a : \" + str(a))  # a라는 변수를 사용할 때\n",
    "                                               # 먼저 같은 지역에서 변수를 찾는다.\n",
    "                                               # 하지만 func1() 함수 에서는 \n",
    "                                               # a라는 변수가 없기 때문에\n",
    "                                               # 전역 변수 a를 사용하는 것\n",
    "def func2():\n",
    "    a = 10\n",
    "    print(\"func2()에서 출력한 a : \" + str(a))  # a라는 변수를 사용할 때\n",
    "                                               # 먼저 같은 지역에서 변수를 찾는다.\n",
    "                                               # func2() 함수 에서는 \n",
    "                                               # a라는 변수가 있기 때문에\n",
    "                                               # 해당 변수 a를 사용하는 것\n",
    "    \n",
    "a=20\n",
    "\n",
    "func1()\n",
    "func2()\n",
    "\n",
    "print(a)"
   ]
  },
  {
   "cell_type": "markdown",
   "id": "1bc12ee5",
   "metadata": {},
   "source": [
    "# 함수의 매개변수 전달\n",
    "\n",
    "함수를 호출할 때 매개변수의 갯수를 따로 지정하지 않고 함수를 사용하는 방식에 따라서 결정되게 할 때는 매개변수 앞에 *를 붙여준다."
   ]
  },
  {
   "cell_type": "code",
   "execution_count": 38,
   "id": "62cb9ac1",
   "metadata": {},
   "outputs": [],
   "source": [
    "def para_func(*para):\n",
    "    print(\"para의 길이는 \" + str(len(para)))\n",
    "    print(para)"
   ]
  },
  {
   "cell_type": "code",
   "execution_count": 43,
   "id": "2515df72",
   "metadata": {},
   "outputs": [
    {
     "name": "stdout",
     "output_type": "stream",
     "text": [
      "para의 길이는 4\n",
      "(10, 20, 30, 40)\n"
     ]
    }
   ],
   "source": [
    "para_func(10, 20, 30, 40)"
   ]
  },
  {
   "cell_type": "code",
   "execution_count": 46,
   "id": "d4f8bfa6",
   "metadata": {},
   "outputs": [
    {
     "data": {
      "text/plain": [
       "60"
      ]
     },
     "execution_count": 46,
     "metadata": {},
     "output_type": "execute_result"
    }
   ],
   "source": [
    "def func_sum(*num):\n",
    "    total=0\n",
    "    for i in num:\n",
    "        total = total + i\n",
    "    return total\n",
    "\n",
    "func_sum(10, 20, 30)"
   ]
  }
 ],
 "metadata": {
  "kernelspec": {
   "display_name": "Python 3",
   "language": "python",
   "name": "python3"
  },
  "language_info": {
   "codemirror_mode": {
    "name": "ipython",
    "version": 3
   },
   "file_extension": ".py",
   "mimetype": "text/x-python",
   "name": "python",
   "nbconvert_exporter": "python",
   "pygments_lexer": "ipython3",
   "version": "3.8.8"
  }
 },
 "nbformat": 4,
 "nbformat_minor": 5
}
