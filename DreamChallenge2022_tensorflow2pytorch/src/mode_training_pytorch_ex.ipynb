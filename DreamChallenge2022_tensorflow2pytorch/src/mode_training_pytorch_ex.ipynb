{
 "cells": [
  {
   "cell_type": "markdown",
   "metadata": {
    "id": "M0jDe-m_5aq4"
   },
   "source": [
    "# Model training"
   ]
  },
  {
   "cell_type": "markdown",
   "metadata": {
    "id": "wH9oF2RleEYl"
   },
   "source": [
    "## Load Python packages"
   ]
  },
  {
   "cell_type": "code",
   "execution_count": 1,
   "metadata": {
    "id": "XamZpd5EeGHR"
   },
   "outputs": [],
   "source": [
    "#import tensorflow as tf\n",
    "import numpy as np\n",
    "#from tensorflow import keras\n",
    "#from tensorflow.keras import layers\n",
    "from scipy import stats\n",
    "import session_info\n",
    "#import tensorflow_probability as tfp\n",
    "import pdb\n",
    "from sklearn.metrics import r2_score\n",
    "import shutil\n",
    "import pandas as pd\n",
    "import re\n",
    "import os\n",
    "from Bio.Seq import Seq\n",
    "import gc\n",
    "import matplotlib.pyplot as plt\n",
    "import datetime\n",
    "import socket\n",
    "import time\n",
    "import json\n",
    "from collections import OrderedDict\n",
    "import random as python_random"
   ]
  },
  {
   "cell_type": "code",
   "execution_count": 2,
   "metadata": {
    "id": "w9lA5-iVI0d6"
   },
   "outputs": [],
   "source": [
    "import numpy as np\n",
    "import torch\n",
    "import torch.nn as nn\n",
    "import torch.nn.functional as F\n",
    "from torch import Tensor\n",
    "from torch.nn.parameter import Parameter\n",
    "import math\n",
    "import pickle as pk\n",
    "import sys"
   ]
  },
  {
   "cell_type": "markdown",
   "metadata": {
    "id": "hl2lXOAv9ljx"
   },
   "source": [
    "## Parameters"
   ]
  },
  {
   "cell_type": "code",
   "execution_count": 3,
   "metadata": {
    "id": "D0pjVLfcfMl7"
   },
   "outputs": [],
   "source": [
    "RUNTIME = 'none'\n",
    "ARGS = {\n",
    "  'model_id' : 'm20220727e',\n",
    "  'global_seed' : 123,\n",
    "  'shuffle_size' : 1000,\n",
    "  'max_width' : 100,\n",
    "  'head_len' : 17,\n",
    "  'tail_len' : 13,\n",
    "  'pct_ds' : 1, # % of total data for training/testing,\n",
    "  'train_split' : 0.95,\n",
    "  'alphabets' : {'A' : 0, 'C' : 1, 'G' : 2, 'T' : 3, 'N' : 4, 'M' : 5},\n",
    "  'learning_rate' : 0.001,\n",
    "  'initial_epoch': 0,\n",
    "  'epochs' : 20,\n",
    "  'batch_size' : 512,\n",
    "  'dropout_rate' : 0.1,\n",
    "  'kmer': 10,\n",
    "  'strides' : 1,\n",
    "  'embedding_dim' : 512,\n",
    "  'num_heads' : 8,\n",
    "  'ff_mult' : 4,\n",
    "  'num_projectors' : 32,\n",
    "  'n_blocks_regressor' : 4,\n",
    "  'warmup_steps' : 12500, # ~ 1 epoch\n",
    "  'mask_ratio' : 0.05,\n",
    "  'remote_sample_submission_file' : 'https://raw.githubusercontent.com/de-Boer-Lab/DREAM-2022/main/sample_submission.json',\n",
    "  'eval' : False,\n",
    "  'device':'cuda:1'\n",
    "}\n",
    "if RUNTIME == 'msi':\n",
    "  ARGS['remote_data_dir'] = 'https://s3.msi.umn.edu/gongx030/projects/dream_PGE/training_data/pct_ds=' + str(ARGS['pct_ds']) + '/'\n",
    "  ARGS['local_data_dir'] = re.sub('https://', './', ARGS['remote_data_dir'])\n",
    "  ARGS['remote_checkpoint_dir'] = 'https://s3.msi.umn.edu/gongx030/projects/dream_PGE/notebooks_msi/' + ARGS['model_id'] + '/tf_ckpts/'\n",
    "  ARGS['remote_log_dir'] = 'https://s3.msi.umn.edu/gongx030/projects/dream_PGE/notebooks_msi/' + ARGS['model_id'] + '/log/'\n",
    "  ARGS['local_checkpoint_dir'] = re.sub('https://', './', ARGS['remote_checkpoint_dir'])\n",
    "  ARGS['local_log_dir'] = re.sub('https://', './', ARGS['remote_log_dir'])\n",
    "  ARGS['remote_test_data'] = 'https://s3.msi.umn.edu/gongx030/projects/dream_PGE/test_sequences.txt.gz'\n",
    "  ARGS['local_test_data'] = re.sub('https://', './', ARGS['remote_test_data'])\n",
    "  ARGS['local_sample_submission_file'] = re.sub('https://', './', ARGS['remote_sample_submission_file'])\n",
    "  ARGS['remote_prediction_file'] = 'https://s3.msi.umn.edu/gongx030/projects/dream_PGE/predictions/' + ARGS['model_id'] + '/pred.json'\n",
    "  ARGS['local_prediction_file'] = re.sub('https://', './', ARGS['remote_prediction_file'])\n",
    "  ARGS['s3_prediction_file'] = re.sub('https://s3.msi.umn.edu', 's3://', ARGS['remote_prediction_file'])\n",
    "  ARGS['remote_prediction_tsv_file'] = 'https://s3.msi.umn.edu/gongx030/projects/dream_PGE/predictions/' + ARGS['model_id'] + '/pred.tsv'\n",
    "  ARGS['local_prediction_tsv_file'] = re.sub('https://', './', ARGS['remote_prediction_tsv_file'])\n",
    "  ARGS['s3_prediction_tsv_file'] = re.sub('https://s3.msi.umn.edu', 's3://', ARGS['remote_prediction_tsv_file'])\n",
    "else:\n",
    "  ARGS['local_data_dir'] = '/content/drive/MyDrive/training_data/pct_ds=' + str(ARGS['pct_ds']) + '/'\n",
    "  ARGS['local_checkpoint_dir'] = '/content/drive/MyDrive/' + ARGS['model_id'] + '/tf_ckpts/'\n",
    "  ARGS['local_log_dir'] = '/content/drive/MyDrive/' + ARGS['model_id'] + '/log/'"
   ]
  },
  {
   "cell_type": "code",
   "execution_count": 4,
   "metadata": {},
   "outputs": [],
   "source": [
    "ARGS['local_data_dir'] = '/Data1/PGE/torch_ti/data/'"
   ]
  },
  {
   "cell_type": "code",
   "execution_count": 5,
   "metadata": {
    "id": "ZhZvwWifIpzY"
   },
   "outputs": [],
   "source": [
    "with open(ARGS['local_data_dir']+\"data.pk\",\"rb\") as fr:\n",
    "    data = pk.load(fr)"
   ]
  },
  {
   "cell_type": "markdown",
   "metadata": {
    "id": "5i5XrE1H2Iwq"
   },
   "source": [
    "### Set seeds"
   ]
  },
  {
   "cell_type": "code",
   "execution_count": 6,
   "metadata": {
    "id": "5LTFxNSIWQID"
   },
   "outputs": [],
   "source": [
    "# The below is necessary for starting Numpy generated random numbers\n",
    "# in a well-defined initial state.\n",
    "np.random.seed(ARGS['global_seed'])\n",
    "\n",
    "# The below is necessary for starting core Python generated random numbers\n",
    "# in a well-defined state.\n",
    "#tf.random.set_seed(ARGS['global_seed'])\n",
    "torch.manual_seed(ARGS['global_seed'])\n",
    "# The below set_seed() will make random number generation\n",
    "# in the TensorFlow backend have a well-defined initial state.\n",
    "# For further details, see:\n",
    "# https://www.tensorflow.org/api_docs/python/tf/random/set_seed\n",
    "python_random.seed(ARGS['global_seed'])"
   ]
  },
  {
   "cell_type": "code",
   "execution_count": 28,
   "metadata": {
    "id": "n69Cc4Yd76rm"
   },
   "outputs": [],
   "source": [
    "#scc_loss = tf.keras.losses.SparseCategoricalCrossentropy(from_logits = True, reduction = 'none')\n",
    "mse_loss = nn.MSELoss(reduction='none')\n",
    "scc_loss = nn.CrossEntropyLoss( reduction='none')"
   ]
  },
  {
   "cell_type": "markdown",
   "metadata": {
    "id": "oPZLHuW06Tcm"
   },
   "source": [
    "### pearson_r"
   ]
  },
  {
   "cell_type": "markdown",
   "metadata": {
    "id": "TH7CX-Wk7Y2e"
   },
   "source": [
    "https://www.tutorialexample.com/implement-pearson-correlation-coefficient-loss-in-tensorflow-tensorflow-tutorial/"
   ]
  },
  {
   "cell_type": "code",
   "execution_count": 7,
   "metadata": {
    "id": "bDou1j1A6S2j"
   },
   "outputs": [],
   "source": [
    "#def pearson_r(x, y):\n",
    "  \n",
    "#  mx = tf.reduce_mean(x, axis = 0, keepdims = True)\n",
    "#  my = tf.reduce_mean(y, axis = 0, keepdims = True)\n",
    "#  xm = x - mx\n",
    "#  ym = y - my\n",
    "#  t1_norm = tf.nn.l2_normalize(xm, axis = 0)\n",
    "#  t2_norm = tf.nn.l2_normalize(ym, axis = 0)\n",
    "#  return tf.reduce_sum(tf.multiply(t1_norm, t2_norm))\n",
    "def pearson_r(x, y):\n",
    "    x = torch.tensor(x,dtype=torch.float32)\n",
    "    y = torch.tensor(y,dtype=torch.float32)\n",
    "    mx = torch.mean(x, axis = 0, keepdims = True)\n",
    "    my = torch.mean(y, axis = 0, keepdims = True)\n",
    "    xm = x - mx\n",
    "    ym = y - my\n",
    "    t1_norm = F.normalize(xm, p=2, dim=0)\n",
    "    t2_norm = F.normalize(ym, p=2, dim=0)\n",
    "    return torch.sum(torch.mul(t1_norm, t2_norm))"
   ]
  },
  {
   "cell_type": "code",
   "execution_count": 9,
   "metadata": {
    "colab": {
     "base_uri": "https://localhost:8080/"
    },
    "id": "4E4kvC_v6oYG",
    "outputId": "53ce49be-7138-490b-ba8f-85a92dc3592e"
   },
   "outputs": [
    {
     "name": "stdout",
     "output_type": "stream",
     "text": [
      "pearson r (stats.pearsonr): -0.09270195576139686\n",
      "pearson r (pearson_r): -0.09270194172859192\n"
     ]
    },
    {
     "name": "stderr",
     "output_type": "stream",
     "text": [
      "/tmp/ipykernel_311/3244679858.py:11: UserWarning: To copy construct from a tensor, it is recommended to use sourceTensor.clone().detach() or sourceTensor.clone().detach().requires_grad_(True), rather than torch.tensor(sourceTensor).\n",
      "  x = torch.tensor(x,dtype=torch.float32)\n",
      "/tmp/ipykernel_311/3244679858.py:12: UserWarning: To copy construct from a tensor, it is recommended to use sourceTensor.clone().detach() or sourceTensor.clone().detach().requires_grad_(True), rather than torch.tensor(sourceTensor).\n",
      "  y = torch.tensor(y,dtype=torch.float32)\n"
     ]
    }
   ],
   "source": [
    "x = np.random.rand(100)\n",
    "y = np.random.rand(100)\n",
    "print('pearson r (stats.pearsonr): {}'.format(stats.pearsonr(x, y)[0]))\n",
    "#print('pearson r (pearson_r): {}'.format(pearson_r(tf.expand_dims(x, 1), tf.expand_dims(y, 1))))\n",
    "print('pearson r (pearson_r): {}'.format(pearson_r(torch.unsqueeze(torch.Tensor(x),1), torch.unsqueeze(torch.Tensor(y),1))))"
   ]
  },
  {
   "cell_type": "markdown",
   "metadata": {
    "id": "mrQ9T4-oSk8X"
   },
   "source": [
    "### GLULayer"
   ]
  },
  {
   "cell_type": "code",
   "execution_count": null,
   "metadata": {
    "id": "v-1Y9-Gxsb75"
   },
   "outputs": [],
   "source": [
    "class GLULayer(layers.Layer):\n",
    "  def __init__(self, dim):\n",
    "    super(GLULayer, self).__init__()\n",
    "    self.dim = dim\n",
    "\n",
    "  def call(self, x):\n",
    "    out, gate = tf.split(x, 2, axis = self.dim)\n",
    "    return out * tf.sigmoid(gate)"
   ]
  },
  {
   "cell_type": "code",
   "execution_count": 8,
   "metadata": {
    "id": "oMX5LC1aSkRK"
   },
   "outputs": [],
   "source": [
    "class GLULayer(nn.Module):\n",
    "    def __init__(self, dim):\n",
    "        super(GLULayer, self).__init__()\n",
    "        self.dim = dim\n",
    "        self.sig = nn.Sigmoid()\n",
    "\n",
    "    def forward(self, x):\n",
    "        out,gate = torch.chunk(x, 2, dim = self.dim)\n",
    "        return out * self.sig(gate)"
   ]
  },
  {
   "cell_type": "code",
   "execution_count": null,
   "metadata": {
    "id": "nSdpK5MNO3P4"
   },
   "outputs": [],
   "source": []
  },
  {
   "cell_type": "code",
   "execution_count": null,
   "metadata": {
    "colab": {
     "base_uri": "https://localhost:8080/"
    },
    "id": "ivpHjDlQSxUU",
    "outputId": "6f85a037-81fc-4924-cbb0-074aa9e0d808"
   },
   "outputs": [
    {
     "data": {
      "text/plain": [
       "torch.Size([3, 3, 10])"
      ]
     },
     "execution_count": 14,
     "metadata": {},
     "output_type": "execute_result"
    }
   ],
   "source": [
    "#layer = GLULayer(dim = 2)\n",
    "layer = GLULayer(dim = 1)\n",
    "#x = tf.random.uniform([3, 10, 6])\n",
    "x = torch.randn(3,6,10)\n",
    "layer(x).shape"
   ]
  },
  {
   "cell_type": "markdown",
   "metadata": {
    "id": "tHdNKhzVvsMf"
   },
   "source": [
    "### SwiGLU"
   ]
  },
  {
   "cell_type": "code",
   "execution_count": null,
   "metadata": {
    "id": "R5EEHyuZshb_"
   },
   "outputs": [],
   "source": [
    "class SwiGLULayer(layers.Layer):\n",
    "  def __init__(self, dim):\n",
    "    super(SwiGLULayer, self).__init__()\n",
    "    self.dim = dim\n",
    "    self.swish = layers.Activation('swish')\n",
    "\n",
    "  def call(self, x):\n",
    "    out, gate = tf.split(x, 2, axis = self.dim)\n",
    "    return out * self.swish(gate)"
   ]
  },
  {
   "cell_type": "code",
   "execution_count": 9,
   "metadata": {
    "id": "WeSyNETvvuex"
   },
   "outputs": [],
   "source": [
    "\n",
    "class SwiGLULayer(nn.Module):\n",
    "    def __init__(self, dim):\n",
    "        super(SwiGLULayer, self).__init__()\n",
    "        self.dim = dim\n",
    "        self.swish = nn.SiLU() # same as swish\n",
    "\n",
    "    def forward(self, x):\n",
    "        out, gate = torch.chunk(x, 2, dim = self.dim)\n",
    "        return out * self.swish(gate)"
   ]
  },
  {
   "cell_type": "code",
   "execution_count": null,
   "metadata": {
    "id": "UPHzWlo0RkJe"
   },
   "outputs": [],
   "source": []
  },
  {
   "cell_type": "code",
   "execution_count": null,
   "metadata": {
    "colab": {
     "base_uri": "https://localhost:8080/"
    },
    "id": "JuwI-YXjvuex",
    "outputId": "7e3be8c3-6e7a-4886-d85d-26c9c763b953"
   },
   "outputs": [
    {
     "data": {
      "text/plain": [
       "torch.Size([3, 3, 10])"
      ]
     },
     "execution_count": 42,
     "metadata": {},
     "output_type": "execute_result"
    }
   ],
   "source": [
    "#layer = SwiGLULayer(dim = 2)\n",
    "layer = SwiGLULayer(dim = 1)\n",
    "#x = tf.random.uniform([3, 10, 6])\n",
    "x = torch.randn(3,6,10)\n",
    "layer(x).shape"
   ]
  },
  {
   "cell_type": "markdown",
   "metadata": {
    "id": "i7BVgkw-w4UO"
   },
   "source": [
    "### FeedForwardSwiGLU"
   ]
  },
  {
   "cell_type": "code",
   "execution_count": 12,
   "metadata": {
    "id": "owkX2vgEslq2"
   },
   "outputs": [
    {
     "ename": "NameError",
     "evalue": "name 'layers' is not defined",
     "output_type": "error",
     "traceback": [
      "\u001b[0;31m---------------------------------------------------------------------------\u001b[0m",
      "\u001b[0;31mNameError\u001b[0m                                 Traceback (most recent call last)",
      "Input \u001b[0;32mIn [12]\u001b[0m, in \u001b[0;36m<cell line: 1>\u001b[0;34m()\u001b[0m\n\u001b[0;32m----> 1\u001b[0m \u001b[38;5;28;01mclass\u001b[39;00m \u001b[38;5;21;01mFeedForwardSwiGLU\u001b[39;00m(\u001b[43mlayers\u001b[49m\u001b[38;5;241m.\u001b[39mLayer):\n\u001b[1;32m      2\u001b[0m   \u001b[38;5;28;01mdef\u001b[39;00m \u001b[38;5;21m__init__\u001b[39m(\u001b[38;5;28mself\u001b[39m, embedding_dim, mult\u001b[38;5;241m=\u001b[39m\u001b[38;5;241m4\u001b[39m, rate \u001b[38;5;241m=\u001b[39m \u001b[38;5;241m0.0\u001b[39m, use_bias \u001b[38;5;241m=\u001b[39m \u001b[38;5;28;01mFalse\u001b[39;00m):\n\u001b[1;32m      3\u001b[0m     \u001b[38;5;28msuper\u001b[39m(FeedForwardSwiGLU, \u001b[38;5;28mself\u001b[39m)\u001b[38;5;241m.\u001b[39m\u001b[38;5;21m__init__\u001b[39m()\n",
      "\u001b[0;31mNameError\u001b[0m: name 'layers' is not defined"
     ]
    }
   ],
   "source": [
    "class FeedForwardSwiGLU(layers.Layer):\n",
    "  def __init__(self, embedding_dim, mult=4, rate = 0.0, use_bias = False):\n",
    "    super(FeedForwardSwiGLU, self).__init__()\n",
    "    self.net = tf.keras.Sequential(\n",
    "      [\n",
    "        layers.LayerNormalization(epsilon = 1e-6),\n",
    "        layers.Dense(embedding_dim * mult, use_bias = use_bias),\n",
    "        SwiGLULayer(dim = 2),\n",
    "        layers.Dropout(rate),\n",
    "        layers.Dense(embedding_dim, use_bias = use_bias),\n",
    "        layers.Dropout(rate),\n",
    "      ]\n",
    "    )\n",
    "\n",
    "  def call(self, inputs):\n",
    "    return self.net(inputs)\n",
    "\n"
   ]
  },
  {
   "cell_type": "code",
   "execution_count": 10,
   "metadata": {
    "id": "eVdwwIxbw4UP"
   },
   "outputs": [],
   "source": [
    "\n",
    "class FeedForwardSwiGLU(nn.Module):\n",
    "    def __init__(self, embedding_dim, mult=4, rate = 0.0, use_bias = False):\n",
    "        super(FeedForwardSwiGLU, self).__init__()\n",
    "        swiglu_out = int(embedding_dim * mult/2)\n",
    "        self.layernorm = nn.LayerNorm(embedding_dim,eps = 1e-6)\n",
    "        self.linear1 = nn.Linear(embedding_dim,embedding_dim * mult, bias = use_bias)\n",
    "        self.swiglulayer = SwiGLULayer(dim = 1)\n",
    "        self.drop = nn.Dropout(rate)\n",
    "        self.linear2 = nn.Linear(swiglu_out,embedding_dim, bias = use_bias)\n",
    "\n",
    "    def forward(self, inputs):\n",
    "        x = self.layernorm(inputs.transpose(1,2)) # 차원바뀌고 채널 dim=2\n",
    "        x = self.linear1(x) \n",
    "        x = self.swiglulayer(x.transpose(1,2)) # 또 차원 바뀌고 채널 dim =1\n",
    "        x = self.drop(x)\n",
    "        x = self.linear2(x.transpose(1,2)) # 차원 바뀌고 채널 dim=2\n",
    "        out = self.drop(x.transpose(1,2)) # 차원 또 바뀌고 채널 dim =1\n",
    "        return out"
   ]
  },
  {
   "cell_type": "code",
   "execution_count": null,
   "metadata": {
    "colab": {
     "base_uri": "https://localhost:8080/"
    },
    "id": "bdHfQ6HHw4UP",
    "outputId": "966a8466-6c37-415f-cb16-2e13189dbb78"
   },
   "outputs": [
    {
     "name": "stdout",
     "output_type": "stream",
     "text": [
      "torch.Size([3, 5, 10])\n"
     ]
    }
   ],
   "source": [
    "ffn = FeedForwardSwiGLU(embedding_dim = 5, mult = 4)\n",
    "#x = tf.random.uniform([3, 10, 5])\n",
    "x = torch.randn(3,5,10)\n",
    "print(ffn(x).shape)"
   ]
  },
  {
   "cell_type": "markdown",
   "metadata": {
    "id": "rke3X-N6-n9S"
   },
   "source": [
    "### CustomSchedule"
   ]
  },
  {
   "cell_type": "code",
   "execution_count": 28,
   "metadata": {
    "id": "hNYjuoTd-jsC"
   },
   "outputs": [
    {
     "ename": "NameError",
     "evalue": "name 'tf' is not defined",
     "output_type": "error",
     "traceback": [
      "\u001b[0;31m---------------------------------------------------------------------------\u001b[0m",
      "\u001b[0;31mNameError\u001b[0m                                 Traceback (most recent call last)",
      "Input \u001b[0;32mIn [28]\u001b[0m, in \u001b[0;36m<cell line: 1>\u001b[0;34m()\u001b[0m\n\u001b[0;32m----> 1\u001b[0m \u001b[38;5;28;01mclass\u001b[39;00m \u001b[38;5;21;01mCustomSchedule\u001b[39;00m(\u001b[43mtf\u001b[49m\u001b[38;5;241m.\u001b[39mkeras\u001b[38;5;241m.\u001b[39moptimizers\u001b[38;5;241m.\u001b[39mschedules\u001b[38;5;241m.\u001b[39mLearningRateSchedule):\n\u001b[1;32m      2\u001b[0m     \u001b[38;5;28;01mdef\u001b[39;00m \u001b[38;5;21m__init__\u001b[39m(\u001b[38;5;28mself\u001b[39m, d_model, warmup_steps\u001b[38;5;241m=\u001b[39m\u001b[38;5;241m4000\u001b[39m):\n\u001b[1;32m      3\u001b[0m         \u001b[38;5;28msuper\u001b[39m(CustomSchedule, \u001b[38;5;28mself\u001b[39m)\u001b[38;5;241m.\u001b[39m\u001b[38;5;21m__init__\u001b[39m()\n",
      "\u001b[0;31mNameError\u001b[0m: name 'tf' is not defined"
     ]
    }
   ],
   "source": [
    "class CustomSchedule(tf.keras.optimizers.schedules.LearningRateSchedule):\n",
    "    def __init__(self, d_model, warmup_steps=4000):\n",
    "        super(CustomSchedule, self).__init__()\n",
    "\n",
    "        self.d_model = d_model\n",
    "        self.d_model = tf.cast(self.d_model, tf.float32)\n",
    "\n",
    "        self.warmup_steps = warmup_steps\n",
    "\n",
    "    def __call__(self, step):\n",
    "        arg1 = tf.math.rsqrt(step)\n",
    "        arg2 = step * (self.warmup_steps ** -1.5)\n",
    "\n",
    "        return tf.math.rsqrt(self.d_model) * tf.math.minimum(arg1, arg2)"
   ]
  },
  {
   "cell_type": "code",
   "execution_count": 20,
   "metadata": {
    "id": "X73TEopBGYov"
   },
   "outputs": [],
   "source": [
    "model = FeedForwardSwiGLU(embedding_dim = 5, mult = 4)\n",
    "optimizer = torch.optim.SGD(model.parameters(), lr=0.0001)\n",
    "scheduler = torch.optim.lr_scheduler.OneCycleLR(optimizer, max_lr=0.0014, pct_start = 0.125,\n",
    "                                                steps_per_epoch=1, epochs=40000,anneal_strategy='cos')"
   ]
  },
  {
   "cell_type": "code",
   "execution_count": 15,
   "metadata": {
    "id": "eCHvjE5N-s3-"
   },
   "outputs": [],
   "source": [
    "d_model = 512\n",
    "warmup_steps=12500\n",
    "learning_rate = CustomSchedule(d_model)\n",
    "temp_learning_rate_schedule = CustomSchedule(d_model, warmup_steps=4000)"
   ]
  },
  {
   "cell_type": "code",
   "execution_count": 26,
   "metadata": {},
   "outputs": [],
   "source": [
    "optim = torch.optim.SGD(model.parameters(), lr=ARGS['learning_rate'])\n",
    "scheduler = torch.optim.lr_scheduler.OneCycleLR(optim, max_lr=0.014, pct_start = 0.125,\n",
    "                                                steps_per_epoch=1, epochs=ARGS['epochs'],anneal_strategy='cos')"
   ]
  },
  {
   "cell_type": "code",
   "execution_count": 27,
   "metadata": {
    "colab": {
     "base_uri": "https://localhost:8080/",
     "height": 369
    },
    "id": "r-w_RbKWIXeM",
    "outputId": "b1995ed8-b95f-4da8-9b01-707fb00c2772"
   },
   "outputs": [
    {
     "data": {
      "text/plain": [
       "Text(0.5, 1.0, 'CosineAnnealingWarmRestarts LR Scheduler')"
      ]
     },
     "execution_count": 27,
     "metadata": {},
     "output_type": "execute_result"
    },
    {
     "data": {
      "image/png": "[encoded data removed]",
      "text/plain": [
       "<Figure size 432x288 with 1 Axes>"
      ]
     },
     "metadata": {
      "needs_background": "light"
     },
     "output_type": "display_data"
    }
   ],
   "source": [
    "lrs  = []\n",
    "for  i  in  range(20):\n",
    "\tscheduler.step()\n",
    "\tlrs.append(optimizer.param_groups[0][\"lr\"])  \n",
    "\n",
    "plt.plot(lrs)\n",
    "plt.xlabel(\"Epochs\")\n",
    "plt.ylabel(\"Learning Rate\")\n",
    "plt.title(\"CosineAnnealingWarmRestarts LR Scheduler\")"
   ]
  },
  {
   "cell_type": "code",
   "execution_count": null,
   "metadata": {
    "colab": {
     "base_uri": "https://localhost:8080/",
     "height": 297
    },
    "id": "HYFkjhvb-2OG",
    "outputId": "259f001e-3a12-416a-dfc1-f1ad4254cc98"
   },
   "outputs": [
    {
     "data": {
      "text/plain": [
       "Text(0.5, 0, 'Train Step')"
      ]
     },
     "execution_count": 21,
     "metadata": {},
     "output_type": "execute_result"
    },
    {
     "data": {
      "image/png": "[encoded data removed]",
      "text/plain": [
       "<Figure size 432x288 with 1 Axes>"
      ]
     },
     "metadata": {
      "needs_background": "light"
     },
     "output_type": "display_data"
    }
   ],
   "source": [
    "#plt.plot(temp_learning_rate_schedule(tf.range(40000, dtype=tf.float32)))\n",
    "#plt.ylabel('Learning Rate')\n",
    "#plt.xlabel('Train Step')"
   ]
  },
  {
   "cell_type": "markdown",
   "metadata": {
    "id": "wGqeHeQRxxLY"
   },
   "source": [
    "### ConformerSASwiGLULayer"
   ]
  },
  {
   "cell_type": "code",
   "execution_count": null,
   "metadata": {
    "id": "PAzFQVW8suQY"
   },
   "outputs": [],
   "source": [
    "class ConformerSASwiGLULayer(layers.Layer):\n",
    "  def __init__(self, embedding_dim,  ff_mult = 4, kernel_size = 15, rate = 0.2, num_heads = 4, use_bias = False):\n",
    "    super(ConformerSASwiGLULayer, self).__init__()\n",
    "    self.ff1 = FeedForwardSwiGLU(embedding_dim = embedding_dim, mult = ff_mult, rate = rate, use_bias = use_bias)\n",
    "    self.conv = tf.keras.Sequential([\n",
    "      layers.LayerNormalization(epsilon = 1e-6),            \n",
    "      layers.SeparableConv1D(filters = embedding_dim, kernel_size = kernel_size, padding = 'same', activation = 'relu'),\n",
    "      layers.Dropout(rate),\n",
    "    ])\n",
    "    self.layernorm = layers.LayerNormalization(epsilon = 1e-6)        \n",
    "    self.attn = layers.MultiHeadAttention(num_heads = num_heads, key_dim = embedding_dim)\n",
    "    self.ff2 = FeedForwardSwiGLU(embedding_dim = embedding_dim, mult = ff_mult, rate = rate, use_bias = use_bias)\n",
    "\n",
    "  def call(self, x):\n",
    "    x = tf.cast(x, dtype = tf.dtypes.float32)\n",
    "    x = x + 0.5 * self.ff1(x)\n",
    "    x = x + self.conv(x)\n",
    "    x = self.layernorm(x)\n",
    "    x = x + self.attn(x, x)\n",
    "    x = x + 0.5 * self.ff2(x)\n",
    "    return x"
   ]
  },
  {
   "cell_type": "code",
   "execution_count": 11,
   "metadata": {
    "id": "saxlznhLxxLY"
   },
   "outputs": [],
   "source": [
    "\n",
    "\n",
    "class ConformerSASwiGLULayer(nn.Module):\n",
    "    def __init__(self, embedding_dim,  ff_mult = 4, kernel_size = 15, rate = 0.2, num_heads = 4, use_bias = False):\n",
    "        super(ConformerSASwiGLULayer, self).__init__()\n",
    "        self.ff1 = FeedForwardSwiGLU(embedding_dim = embedding_dim, mult = ff_mult, rate = rate, use_bias = use_bias)\n",
    "        self.layernorm1 = nn.LayerNorm(embedding_dim,eps = 1e-6)\n",
    "        self.conv = nn.Sequential(   \n",
    "          nn.Conv1d(in_channels=embedding_dim, out_channels=embedding_dim, kernel_size=kernel_size, groups=embedding_dim, padding='same'),\n",
    "          nn.Conv1d(in_channels=embedding_dim, out_channels=embedding_dim, kernel_size=1, padding='same'),\n",
    "          nn.ReLU(),\n",
    "          nn.Dropout(rate),\n",
    "        )\n",
    "        self.layernorm2 = nn.LayerNorm(embedding_dim,eps = 1e-6)    \n",
    "        self.attn = nn.MultiheadAttention(embed_dim=embedding_dim, num_heads=num_heads,batch_first=True)\n",
    "        self.ff2 = FeedForwardSwiGLU(embedding_dim = embedding_dim, mult = ff_mult, rate = rate, use_bias = use_bias)\n",
    "\n",
    "    def forward(self, x):\n",
    "        x = x.float()\n",
    "        x = x + 0.5 * self.ff1(x)\n",
    "        x = self.layernorm1(x.transpose(1,2)) #채널 dim = 2\n",
    "        x = x + self.conv(x.transpose(1, 2)).transpose(1, 2) # output 채널 dim = 2\n",
    "        x = self.layernorm2(x)\n",
    "        x = x + self.attn(x, x, x)[0]\n",
    "        x = x.transpose(1,2) + 0.5 * self.ff2(x.transpose(1,2))\n",
    "        return x"
   ]
  },
  {
   "cell_type": "code",
   "execution_count": null,
   "metadata": {
    "id": "2Q6XK8a0Ja05"
   },
   "outputs": [],
   "source": []
  },
  {
   "cell_type": "code",
   "execution_count": null,
   "metadata": {
    "colab": {
     "base_uri": "https://localhost:8080/"
    },
    "id": "I5mMf8GPxxLZ",
    "outputId": "92e9877e-f3ac-49da-b3f5-325d74b60719"
   },
   "outputs": [
    {
     "name": "stdout",
     "output_type": "stream",
     "text": [
      "torch.Size([3, 16, 10])\n"
     ]
    }
   ],
   "source": [
    "layer = ConformerSASwiGLULayer(embedding_dim = 16)\n",
    "#x = tf.random.uniform([3, 10, 14])\n",
    "x = torch.randn(3,16,10)\n",
    "print(layer(x).shape)"
   ]
  },
  {
   "cell_type": "markdown",
   "metadata": {
    "id": "CKbk2vhOTgA5"
   },
   "source": [
    "### SequenceMaskLayer"
   ]
  },
  {
   "cell_type": "code",
   "execution_count": 14,
   "metadata": {
    "id": "UPGXsnfmTgA6"
   },
   "outputs": [
    {
     "ename": "NameError",
     "evalue": "name 'layers' is not defined",
     "output_type": "error",
     "traceback": [
      "\u001b[0;31m---------------------------------------------------------------------------\u001b[0m",
      "\u001b[0;31mNameError\u001b[0m                                 Traceback (most recent call last)",
      "Input \u001b[0;32mIn [14]\u001b[0m, in \u001b[0;36m<cell line: 1>\u001b[0;34m()\u001b[0m\n\u001b[0;32m----> 1\u001b[0m \u001b[38;5;28;01mclass\u001b[39;00m \u001b[38;5;21;01mSequenceMaskLayer\u001b[39;00m(\u001b[43mlayers\u001b[49m\u001b[38;5;241m.\u001b[39mLayer):\n\u001b[1;32m      2\u001b[0m   \u001b[38;5;28;01mdef\u001b[39;00m \u001b[38;5;21m__init__\u001b[39m(\u001b[38;5;28mself\u001b[39m, n_positions, ratio \u001b[38;5;241m=\u001b[39m \u001b[38;5;241m0.2\u001b[39m):\n\u001b[1;32m      3\u001b[0m     \u001b[38;5;28msuper\u001b[39m(SequenceMaskLayer, \u001b[38;5;28mself\u001b[39m)\u001b[38;5;241m.\u001b[39m\u001b[38;5;21m__init__\u001b[39m()\n",
      "\u001b[0;31mNameError\u001b[0m: name 'layers' is not defined"
     ]
    }
   ],
   "source": [
    "class SequenceMaskLayer(layers.Layer):\n",
    "  def __init__(self, n_positions, ratio = 0.2):\n",
    "    super(SequenceMaskLayer, self).__init__()\n",
    "    self.ratio = ratio\n",
    "    self.n_positions = n_positions\n",
    "    self.N = 4\n",
    "    self.M = 5\n",
    "\n",
    "  def call(self, x):\n",
    "\n",
    "    if self.ratio > 0:\n",
    "      m = tf.random.uniform(tf.shape(x)) < self.ratio\n",
    "      m = tf.cast(m, dtype = tf.uint8)\n",
    "      is_valid = tf.cast(tf.math.not_equal(x, self.N), tf.uint8)\n",
    "      m = m * is_valid\n",
    "      x0 = tf.ones(tf.shape(x), dtype = tf.uint8) * self.M\n",
    "\n",
    "      x = m * x0 + (1 - m) * x\n",
    "      m = tf.cast(m, dtype = tf.float32)\n",
    "    else:\n",
    "      m = tf.zeros(tf.shape(x))\n",
    "    \n",
    "    return x, m"
   ]
  },
  {
   "cell_type": "code",
   "execution_count": 12,
   "metadata": {
    "id": "Q7WXIVfClKlE"
   },
   "outputs": [],
   "source": [
    "class SequenceMaskLayer(nn.Module):\n",
    "    def __init__(self, n_positions, ratio = 0.2):\n",
    "        super(SequenceMaskLayer, self).__init__()\n",
    "        self.ratio = ratio\n",
    "        self.n_positions = n_positions\n",
    "        self.N = 4\n",
    "        self.M = 5\n",
    "\n",
    "    def forward(self, x):\n",
    "\n",
    "        if self.ratio > 0:\n",
    "            m = torch.rand(x.shape) < self.ratio\n",
    "            m = m*1\n",
    "            is_valid = x == self.N\n",
    "            is_valid = is_valid * 1\n",
    "            m = m * is_valid\n",
    "            x0 = torch.ones(x.shape) * self.M\n",
    "\n",
    "            x = m * x0 + (1 - m) * x\n",
    "            m = m.float()\n",
    "        else:\n",
    "            m = torch.zeros(x.shape)\n",
    "    \n",
    "        return x, m"
   ]
  },
  {
   "cell_type": "code",
   "execution_count": null,
   "metadata": {
    "colab": {
     "base_uri": "https://localhost:8080/"
    },
    "id": "azkRo0MnnXIn",
    "outputId": "503fdb6b-34b3-4648-a925-682edf3b7010"
   },
   "outputs": [
    {
     "name": "stdout",
     "output_type": "stream",
     "text": [
      "tf.Tensor(\n",
      "[[2 2 3 1 0 0 1 4 2 1 3 3 1 4 1 2 4 4 0 2]\n",
      " [3 4 0 0 0 0 0 3 3 0 2 0 0 3 2 1 2 3 3 3]\n",
      " [2 4 4 0 1 4 3 4 0 0 1 2 1 1 2 3 1 1 2 2]], shape=(3, 20), dtype=uint8)\n",
      "tf.Tensor(\n",
      "[[ True  True  True  True  True  True  True  True  True  True  True  True\n",
      "   True  True  True  True  True  True  True  True]\n",
      " [ True  True  True  True  True  True  True  True  True  True  True  True\n",
      "   True  True  True  True  True  True  True  True]\n",
      " [ True  True  True  True  True  True  True  True  True  True  True  True\n",
      "   True  True  True  True  True  True  True  True]], shape=(3, 20), dtype=bool)\n",
      "tf.Tensor(\n",
      "[[1 1 1 1 1 1 1 0 1 1 1 1 1 0 1 1 0 0 1 1]\n",
      " [1 0 1 1 1 1 1 1 1 1 1 1 1 1 1 1 1 1 1 1]\n",
      " [1 0 0 1 1 0 1 0 1 1 1 1 1 1 1 1 1 1 1 1]], shape=(3, 20), dtype=uint8)\n",
      "******************************\n",
      "tensor([[4., 4., 4., 4., 3., 1., 2., 4., 0., 2., 4., 3., 0., 3., 3., 4., 4., 2.,\n",
      "         0., 3.],\n",
      "        [0., 4., 2., 2., 4., 4., 0., 1., 1., 0., 4., 0., 1., 1., 3., 4., 1., 1.,\n",
      "         3., 0.],\n",
      "        [3., 2., 2., 2., 4., 4., 2., 0., 1., 0., 2., 3., 1., 0., 1., 4., 4., 3.,\n",
      "         1., 1.]])\n",
      "tensor([[1, 1, 1, 1, 0, 0, 0, 1, 0, 0, 1, 0, 0, 0, 0, 1, 1, 0, 0, 0],\n",
      "        [0, 1, 0, 0, 1, 1, 0, 0, 0, 0, 1, 0, 0, 0, 0, 1, 0, 0, 0, 0],\n",
      "        [0, 0, 0, 0, 1, 1, 0, 0, 0, 0, 0, 0, 0, 0, 0, 1, 1, 0, 0, 0]])\n"
     ]
    }
   ],
   "source": [
    "ratio = 0.2\n",
    "x1 = tf.random.uniform([3, 20], maxval = 5)\n",
    "x = tf.cast(x1, tf.uint8)\n",
    "print(x)\n",
    "m1 = tf.random.uniform(tf.shape(x1)) < ratio\n",
    "m = tf.cast(m1, dtype = tf.uint8)\n",
    "N = 4\n",
    "is_valid = tf.cast(tf.math.not_equal(x, N), tf.uint8)\n",
    "print(tf.math.not_equal(x1, N))\n",
    "print(is_valid)\n",
    "print('*'*30)\n",
    "x1 = torch.rand([3,20])*5\n",
    "x = torch.floor(x1)\n",
    "m1 = torch.rand(x1.shape) < ratio\n",
    "m = m1*1\n",
    "t = x == N\n",
    "t = t*1\n",
    "print(x)\n",
    "print(t)\n",
    "\n"
   ]
  },
  {
   "cell_type": "code",
   "execution_count": null,
   "metadata": {
    "colab": {
     "base_uri": "https://localhost:8080/"
    },
    "id": "TOj2tUQmTgA6",
    "outputId": "8a271106-304b-4b95-83a1-232664591280"
   },
   "outputs": [
    {
     "name": "stdout",
     "output_type": "stream",
     "text": [
      "tensor([[4., 4., 0., 3., 2., 5., 0., 2., 3., 0., 2., 4., 0., 0., 1., 4., 4., 0.,\n",
      "         2., 2.],\n",
      "        [2., 0., 1., 3., 3., 1., 3., 4., 1., 3., 3., 0., 4., 4., 2., 3., 4., 2.,\n",
      "         5., 1.],\n",
      "        [2., 1., 4., 4., 0., 3., 0., 4., 3., 4., 0., 3., 2., 3., 1., 0., 0., 4.,\n",
      "         3., 3.]])\n",
      "tensor([[0., 0., 0., 0., 0., 1., 0., 0., 0., 0., 0., 0., 0., 0., 0., 0., 0., 0.,\n",
      "         0., 0.],\n",
      "        [0., 0., 0., 0., 0., 0., 0., 0., 0., 0., 0., 0., 0., 0., 0., 0., 0., 0.,\n",
      "         1., 0.],\n",
      "        [0., 0., 0., 0., 0., 0., 0., 0., 0., 0., 0., 0., 0., 0., 0., 0., 0., 0.,\n",
      "         0., 0.]])\n"
     ]
    }
   ],
   "source": [
    "layer = SequenceMaskLayer(n_positions = 20, ratio = 0.2)\n",
    "#x = tf.random.uniform([3, 20], maxval = 5)\n",
    "x = torch.rand([3,20])*5\n",
    "#x = tf.cast(x, tf.uint8)\n",
    "x = torch.floor(x)\n",
    "x, m = layer(x)\n",
    "print(x)\n",
    "print(m)"
   ]
  },
  {
   "cell_type": "markdown",
   "metadata": {
    "id": "jGFLv3peCCKS"
   },
   "source": [
    "## Read data"
   ]
  },
  {
   "cell_type": "code",
   "execution_count": 13,
   "metadata": {
    "id": "om_YoxPICCKS"
   },
   "outputs": [],
   "source": [
    "input_dim = int(6) # A,C,G,T,N,M\n",
    "#input_dim = int(5) # A,C,G,T,N\n",
    "n_positions = ARGS['max_width'] * 2"
   ]
  },
  {
   "cell_type": "markdown",
   "metadata": {
    "id": "I9CPXMei2W9E"
   },
   "source": [
    "The tfdataset was prepraed by this notebook: https://github.com/ikwak2/dream_PGE/blob/main/notebooks/prepare_tfdatasets.ipynb"
   ]
  },
  {
   "cell_type": "code",
   "execution_count": 14,
   "metadata": {
    "colab": {
     "base_uri": "https://localhost:8080/"
    },
    "id": "wOqk480wuFye",
    "outputId": "080818dd-2f62-4d71-bb1b-fbe1b0239b76"
   },
   "outputs": [],
   "source": [
    "#ds = tf.data.experimental.load(ARGS['local_data_dir'])\n",
    "#ds =data\n",
    "#print(ds.keys())\n",
    "#print(ds['seq'].shape)\n",
    "#print(ds['expression'].shape)"
   ]
  },
  {
   "cell_type": "code",
   "execution_count": 15,
   "metadata": {
    "colab": {
     "base_uri": "https://localhost:8080/"
    },
    "id": "VbU-MCtK1B7k",
    "outputId": "3129bc87-a86a-49c5-b203-fa4af6e201ce"
   },
   "outputs": [
    {
     "name": "stdout",
     "output_type": "stream",
     "text": [
      "downsampled dataset size: 6737568\n",
      "training dataset size: 6400689\n"
     ]
    }
   ],
   "source": [
    "#n = int(ds.cardinality())\n",
    "n = int(len(data['seq']))\n",
    "n_train = int(n * ARGS['train_split'])\n",
    "print('downsampled dataset size: %d' % (n))\n",
    "print('training dataset size: %d' % (n_train))"
   ]
  },
  {
   "cell_type": "code",
   "execution_count": null,
   "metadata": {
    "id": "KtNM9BPoCCKT"
   },
   "outputs": [],
   "source": [
    "#ds = ds.shuffle(ARGS['shuffle_size'], seed = 1)"
   ]
  },
  {
   "cell_type": "code",
   "execution_count": 16,
   "metadata": {
    "colab": {
     "base_uri": "https://localhost:8080/"
    },
    "id": "zQBqfMrpCCKT",
    "outputId": "51b10fec-522a-42f8-d692-4fa9e8eb19b5"
   },
   "outputs": [
    {
     "name": "stdout",
     "output_type": "stream",
     "text": [
      "# training samples: 6400689\n",
      "# val samples: 336879\n"
     ]
    }
   ],
   "source": [
    "#train_ds = ds.take(n_train)\n",
    "#test_ds = ds.skip(n_train)\n",
    "train_data = {'seq':data['seq'][:n_train],'expression':data['expression'][:n_train]}\n",
    "val_data = {'seq':data['seq'][n_train:],'expression':data['expression'][n_train:]}\n",
    "#train_data = {'seq':data['seq'][:10000],'expression':data['expression'][:10000]}\n",
    "#val_data = {'seq':data['seq'][10000:15000],'expression':data['expression'][10000:15000]}\n",
    "\n",
    "print('# training samples: %d' % (len(train_data['seq'])))\n",
    "print('# val samples: %d' % (len(val_data['seq'])))"
   ]
  },
  {
   "cell_type": "code",
   "execution_count": 17,
   "metadata": {
    "id": "Cy45m_ZgwmBt"
   },
   "outputs": [],
   "source": [
    "#train_ds = train_ds.batch(ARGS['batch_size'])\n",
    "#test_ds = test_ds.batch(ARGS['batch_size'])"
   ]
  },
  {
   "cell_type": "code",
   "execution_count": null,
   "metadata": {
    "colab": {
     "base_uri": "https://localhost:8080/"
    },
    "id": "MNyS46F8TFRB",
    "outputId": "e113ceb4-823c-408e-a65f-66fbde53ab70"
   },
   "outputs": [
    {
     "data": {
      "text/plain": [
       "{'base': TensorSpec(shape=(None, 200), dtype=tf.uint8, name=None),\n",
       " 'seq': TensorSpec(shape=(None, 200), dtype=tf.uint8, name=None),\n",
       " 'expression': TensorSpec(shape=(None,), dtype=tf.float32, name=None)}"
      ]
     },
     "execution_count": 33,
     "metadata": {},
     "output_type": "execute_result"
    }
   ],
   "source": [
    "#train_ds.element_spec"
   ]
  },
  {
   "cell_type": "markdown",
   "metadata": {
    "id": "Q2xtZGxPzz4s"
   },
   "source": [
    "# DataLoader"
   ]
  },
  {
   "cell_type": "code",
   "execution_count": 17,
   "metadata": {
    "id": "O5LDHmegztZL"
   },
   "outputs": [],
   "source": [
    "class train_loader(object):\n",
    "    def __init__(self, data):\n",
    "        self.data = data['seq']\n",
    "        self.data_label = data['expression']\n",
    "\n",
    "    def __getitem__(self, index):\n",
    "\n",
    "        return torch.FloatTensor(self.data[index]), self.data_label[index] \n",
    "    \n",
    "    def __len__(self):\n",
    "        return len(self.data)\n",
    "\n",
    "class test_loader(object):\n",
    "    def __init__(self):\n",
    "        lines = open(\"/Data1/PGE/torch_ti/filtered_test_data_with_MAUDE_expression.txt\", \"r\").read().splitlines()\n",
    "        self.data = [x.split('\\t')[0] for x in lines]\n",
    "        self.data_label = [x.split('\\t')[1] for x in lines]\n",
    "       \n",
    "    def __getitem__(self, index):\n",
    "\n",
    "        return torch.FloatTensor(self.data[index]), self.data_label[index] \n",
    "    \n",
    "    def __len__(self):\n",
    "        return len(self.data)"
   ]
  },
  {
   "cell_type": "markdown",
   "metadata": {
    "id": "3KwOLqNOwU3U"
   },
   "source": [
    "## The regressor"
   ]
  },
  {
   "cell_type": "code",
   "execution_count": null,
   "metadata": {
    "colab": {
     "base_uri": "https://localhost:8080/"
    },
    "id": "vBOnIqTQ7wAL",
    "outputId": "c40a8752-86b4-46d0-8fa4-d9cf49f2669d"
   },
   "outputs": [
    {
     "name": "stdout",
     "output_type": "stream",
     "text": [
      "tensor([0, 1, 2, 0, 1, 2, 0, 1, 2, 0])\n"
     ]
    }
   ],
   "source": [
    "print(torch.arange(0, 10))"
   ]
  },
  {
   "cell_type": "code",
   "execution_count": null,
   "metadata": {
    "colab": {
     "base_uri": "https://localhost:8080/"
    },
    "id": "ZC_JRkqY7Njl",
    "outputId": "098ba6d8-be18-4897-b967-ae5f4a48a5c8"
   },
   "outputs": [
    {
     "name": "stdout",
     "output_type": "stream",
     "text": [
      "tensor([[1., 2., 4., 4., 4.],\n",
      "        [2., 1., 1., 0., 4.],\n",
      "        [2., 3., 0., 4., 2.],\n",
      "        [2., 2., 3., 1., 0.],\n",
      "        [0., 4., 4., 4., 4.]])\n",
      "torch.Size([3, 2, 3])\n",
      "torch.float32\n",
      "torch.Size([16, 200, 5])\n"
     ]
    }
   ],
   "source": [
    "a = torch.floor(torch.rand([16,200])*5)\n",
    "print(a[:5,:5])\n",
    "c = F.one_hot(torch.arange(0, 6).view(3,2) % 3)\n",
    "print(c.shape)\n",
    "print(a.dtype)\n",
    "b = F.one_hot(a.to(torch.int64),5)\n",
    "print(b.shape)"
   ]
  },
  {
   "cell_type": "code",
   "execution_count": null,
   "metadata": {
    "colab": {
     "base_uri": "https://localhost:8080/"
    },
    "id": "4x2TyrA4p9GN",
    "outputId": "16b28d69-96e4-4075-9103-8bf5d83878bd"
   },
   "outputs": [
    {
     "name": "stdout",
     "output_type": "stream",
     "text": [
      "(16, 200, 5)\n",
      "(16, 99, 1, 15)\n"
     ]
    }
   ],
   "source": [
    "x = tf.random.uniform([16, 200], maxval = 5)\n",
    "#x = torch.rand([3,20])*5\n",
    "x = tf.cast(x, tf.uint8)\n",
    "x = tf.one_hot(x, 5)\n",
    "print(x.shape)\n",
    "x = tf.expand_dims(x, 2)\n",
    "a = tf.image.extract_patches(images=x,\n",
    "                           sizes=[1, 3, 1, 1],\n",
    "                           strides=[1, 2, 1, 1],\n",
    "                           rates=[1, 1, 1, 1],\n",
    "                           padding='VALID')\n",
    "print(a.shape)"
   ]
  },
  {
   "cell_type": "code",
   "execution_count": null,
   "metadata": {
    "colab": {
     "base_uri": "https://localhost:8080/"
    },
    "id": "8LWWnNChyz-C",
    "outputId": "3b5406fa-d2ab-4569-f510-b70cdbbb0772"
   },
   "outputs": [
    {
     "name": "stdout",
     "output_type": "stream",
     "text": [
      "tensor([[[1., 1., 1., 1., 1., 1., 1., 1., 1., 1.],\n",
      "         [1., 1., 1., 1., 1., 1., 1., 1., 1., 1.],\n",
      "         [1., 1., 1., 1., 1., 1., 1., 1., 1., 1.]],\n",
      "\n",
      "        [[1., 1., 1., 1., 1., 1., 1., 1., 1., 1.],\n",
      "         [1., 1., 1., 1., 1., 1., 1., 1., 1., 1.],\n",
      "         [1., 1., 1., 1., 1., 1., 1., 1., 1., 1.]]])\n",
      "tensor([[[1., 1., 1., 1., 1., 1., 1., 1., 1., 1.],\n",
      "         [1., 1., 1., 1., 1., 1., 1., 1., 1., 1.],\n",
      "         [1., 1., 1., 1., 1., 1., 1., 1., 1., 1.],\n",
      "         [0., 0., 0., 0., 0., 0., 0., 0., 0., 0.],\n",
      "         [0., 0., 0., 0., 0., 0., 0., 0., 0., 0.]],\n",
      "\n",
      "        [[1., 1., 1., 1., 1., 1., 1., 1., 1., 1.],\n",
      "         [1., 1., 1., 1., 1., 1., 1., 1., 1., 1.],\n",
      "         [1., 1., 1., 1., 1., 1., 1., 1., 1., 1.],\n",
      "         [0., 0., 0., 0., 0., 0., 0., 0., 0., 0.],\n",
      "         [0., 0., 0., 0., 0., 0., 0., 0., 0., 0.]]])\n",
      "torch.Size([2, 5, 10])\n"
     ]
    }
   ],
   "source": [
    "A = torch.ones(2,3,10)\n",
    "print(A)\n",
    "PA = F.pad(A, (0,0,0,2), \"constant\", 0)\n",
    "print(PA)\n",
    "print(PA.shape)"
   ]
  },
  {
   "cell_type": "code",
   "execution_count": null,
   "metadata": {
    "colab": {
     "base_uri": "https://localhost:8080/"
    },
    "id": "H7NJZrOH_ZqM",
    "outputId": "1fd4e794-52d7-400a-b81f-b38a945971f5"
   },
   "outputs": [
    {
     "name": "stdout",
     "output_type": "stream",
     "text": [
      "torch.Size([1, 10, 1, 10])\n",
      "tensor([[[[  1,   2,   3,   4,   5,   6,   7,   8,   9,  10]],\n",
      "\n",
      "         [[ 11,  12,  13,  14,  15,  16,  17,  18,  19,  20]],\n",
      "\n",
      "         [[ 21,  22,  23,  24,  25,  26,  27,  28,  29,  30]],\n",
      "\n",
      "         [[ 31,  32,  33,  34,  35,  36,  37,  38,  39,  40]],\n",
      "\n",
      "         [[ 41,  42,  43,  44,  45,  46,  47,  48,  49,  50]],\n",
      "\n",
      "         [[ 51,  52,  53,  54,  55,  56,  57,  58,  59,  60]],\n",
      "\n",
      "         [[ 61,  62,  63,  64,  65,  66,  67,  68,  69,  70]],\n",
      "\n",
      "         [[ 71,  72,  73,  74,  75,  76,  77,  78,  79,  80]],\n",
      "\n",
      "         [[ 81,  82,  83,  84,  85,  86,  87,  88,  89,  90]],\n",
      "\n",
      "         [[ 91,  92,  93,  94,  95,  96,  97,  98,  99, 100]]]])\n",
      "tf.Tensor(\n",
      "[[[[  0   0   0   0   0   0   0   0   0   0   1   2   3   4   5   6   7\n",
      "      8   9  10  11  12  13  14  15  16  17  18  19  20]]\n",
      "\n",
      "  [[  1   2   3   4   5   6   7   8   9  10  11  12  13  14  15  16  17\n",
      "     18  19  20  21  22  23  24  25  26  27  28  29  30]]\n",
      "\n",
      "  [[ 11  12  13  14  15  16  17  18  19  20  21  22  23  24  25  26  27\n",
      "     28  29  30  31  32  33  34  35  36  37  38  39  40]]\n",
      "\n",
      "  [[ 21  22  23  24  25  26  27  28  29  30  31  32  33  34  35  36  37\n",
      "     38  39  40  41  42  43  44  45  46  47  48  49  50]]\n",
      "\n",
      "  [[ 31  32  33  34  35  36  37  38  39  40  41  42  43  44  45  46  47\n",
      "     48  49  50  51  52  53  54  55  56  57  58  59  60]]\n",
      "\n",
      "  [[ 41  42  43  44  45  46  47  48  49  50  51  52  53  54  55  56  57\n",
      "     58  59  60  61  62  63  64  65  66  67  68  69  70]]\n",
      "\n",
      "  [[ 51  52  53  54  55  56  57  58  59  60  61  62  63  64  65  66  67\n",
      "     68  69  70  71  72  73  74  75  76  77  78  79  80]]\n",
      "\n",
      "  [[ 61  62  63  64  65  66  67  68  69  70  71  72  73  74  75  76  77\n",
      "     78  79  80  81  82  83  84  85  86  87  88  89  90]]\n",
      "\n",
      "  [[ 71  72  73  74  75  76  77  78  79  80  81  82  83  84  85  86  87\n",
      "     88  89  90  91  92  93  94  95  96  97  98  99 100]]\n",
      "\n",
      "  [[ 81  82  83  84  85  86  87  88  89  90  91  92  93  94  95  96  97\n",
      "     98  99 100   0   0   0   0   0   0   0   0   0   0]]]], shape=(1, 10, 1, 30), dtype=int64)\n",
      "(1, 10, 1, 30)\n",
      "tensor([[[[  0,   0,   0,   0,   0,   0,   0,   0,   0,   0,   0,   0,   0,   0,\n",
      "             0,   0,   0,   0,   0,   0,   0,   0,   0,   0,   0,   0,   0,   0,\n",
      "             0,   0]],\n",
      "\n",
      "         [[  1,   2,   3,   4,   5,   6,   7,   8,   9,  10,  11,  12,  13,  14,\n",
      "            15,  16,  17,  18,  19,  20,  21,  22,  23,  24,  25,  26,  27,  28,\n",
      "            29,  30]],\n",
      "\n",
      "         [[ 11,  12,  13,  14,  15,  16,  17,  18,  19,  20,  21,  22,  23,  24,\n",
      "            25,  26,  27,  28,  29,  30,  31,  32,  33,  34,  35,  36,  37,  38,\n",
      "            39,  40]],\n",
      "\n",
      "         [[ 21,  22,  23,  24,  25,  26,  27,  28,  29,  30,  31,  32,  33,  34,\n",
      "            35,  36,  37,  38,  39,  40,  41,  42,  43,  44,  45,  46,  47,  48,\n",
      "            49,  50]],\n",
      "\n",
      "         [[ 31,  32,  33,  34,  35,  36,  37,  38,  39,  40,  41,  42,  43,  44,\n",
      "            45,  46,  47,  48,  49,  50,  51,  52,  53,  54,  55,  56,  57,  58,\n",
      "            59,  60]],\n",
      "\n",
      "         [[ 41,  42,  43,  44,  45,  46,  47,  48,  49,  50,  51,  52,  53,  54,\n",
      "            55,  56,  57,  58,  59,  60,  61,  62,  63,  64,  65,  66,  67,  68,\n",
      "            69,  70]],\n",
      "\n",
      "         [[ 51,  52,  53,  54,  55,  56,  57,  58,  59,  60,  61,  62,  63,  64,\n",
      "            65,  66,  67,  68,  69,  70,  71,  72,  73,  74,  75,  76,  77,  78,\n",
      "            79,  80]],\n",
      "\n",
      "         [[ 61,  62,  63,  64,  65,  66,  67,  68,  69,  70,  71,  72,  73,  74,\n",
      "            75,  76,  77,  78,  79,  80,  81,  82,  83,  84,  85,  86,  87,  88,\n",
      "            89,  90]],\n",
      "\n",
      "         [[ 71,  72,  73,  74,  75,  76,  77,  78,  79,  80,  81,  82,  83,  84,\n",
      "            85,  86,  87,  88,  89,  90,  91,  92,  93,  94,  95,  96,  97,  98,\n",
      "            99, 100]],\n",
      "\n",
      "         [[  0,   0,   0,   0,   0,   0,   0,   0,   0,   0,   0,   0,   0,   0,\n",
      "             0,   0,   0,   0,   0,   0,   0,   0,   0,   0,   0,   0,   0,   0,\n",
      "             0,   0]]]])\n",
      "torch.Size([1, 10, 1, 30])\n"
     ]
    }
   ],
   "source": [
    "n = 10\n",
    "  # images is a 1 x 10 x 10 x 1 array that contains the numbers 1 through 100\n",
    "images = [[[[x * n + y + 1] for y in range(n)] for x in range(n)]]\n",
    "i = torch.tensor(images).reshape(1,10,1,10)\n",
    "print(i.shape)\n",
    "print(i)\n",
    "  # We generate two outputs as follows:\n",
    "  # 1. 3x3 patches with stride length 5\n",
    "  # 2. Same as above, but the rate is increased to 2\n",
    "a = tf.image.extract_patches(images=i,\n",
    "                           sizes=[1, 3, 1, 1],\n",
    "                           strides=[1, 1, 1, 1],\n",
    "                           rates=[1, 1, 1, 1],\n",
    "                           padding = 'SAME')\n",
    "d = F.pad(i.unfold(1,3,1).transpose(3,4),(0,0,0,0,0,0,1,1),'constant',0).reshape(i.shape[0],i.shape[1],i.shape[2],-1)\n",
    "#print(i.unfold(1,3,1).transpose(3,4).shape)\n",
    "#print(F.pad(i.unfold(1,3,1).transpose(3,4),(0,0,0,0,0,0,1,1),'constant',0).shape)\n",
    "#print(i.unfold(1,3,1).transpose(3,4))\n",
    "print(a)\n",
    "print(a.shape)\n",
    "print(d)\n",
    "print(d.shape)"
   ]
  },
  {
   "cell_type": "code",
   "execution_count": null,
   "metadata": {
    "colab": {
     "base_uri": "https://localhost:8080/"
    },
    "id": "73QcAHg3O9V6",
    "outputId": "552fb721-dd69-4874-8ef8-77bdeca09086"
   },
   "outputs": [
    {
     "name": "stdout",
     "output_type": "stream",
     "text": [
      "[[557 964 804 359 743 489 955 713 142 916]\n",
      " [801 725 725   8 665 844 757 401 768 790]\n",
      " [288 430  94 889 788 726 207  60 794 740]\n",
      " [446 101 691 447 653 868 430 774 331 667]\n",
      " [386 405 754 596 702 284 403 578 474 724]\n",
      " [872 416 605 559 358 808 122 648 687 485]\n",
      " [214 181 534 192 660 415 364 665  32 187]\n",
      " [904  80 581 941   6 127   6 632 740 964]\n",
      " [160 113 137 720 871 795 686 813 533 532]\n",
      " [765 366 183 287 159 370 675 414 837 821]\n",
      " [276  34 717  22 253 681 765 535 349 329]\n",
      " [836 382 636 762 425 669 710 389 199 819]\n",
      " [217 506 849 483 921 355 552 451 693 827]\n",
      " [844 950 919 374 862 126 213 423 465 703]\n",
      " [929 470  38 750 484 121 238 768 378 745]\n",
      " [531 622 664 133 115  93 467 968 631 880]\n",
      " [465 743 770 675 837 677  64  82 293 283]\n",
      " [942 968  46 254 521 343 473 967 132 908]\n",
      " [341 545 920 662 232 879 340 770 775 685]\n",
      " [241 957 678 818 230 789 812 202 662 432]\n",
      " [335 755 635 690 539 866 873 284 954 759]\n",
      " [869 709 752 845 220 496 509 923 969 621]\n",
      " [430 515 471 641 365  63 284 856  94 942]\n",
      " [237 526 165 864 241 688 199 551 911 101]\n",
      " [363 801 894 645 358 487 752 854 948 625]\n",
      " [148 354 238 924 482 513 864 281 811 479]\n",
      " [ 17 353  29 619  22  47 438 211 493 638]\n",
      " [505  22 551 575  71 397 379 470 877  77]\n",
      " [  1 377   3 727 242 867 264 527 863 159]\n",
      " [ 26  14 323 227 792  14 763  11  70 739]\n",
      " [407 581 111 168 571 492 286 404  59  74]\n",
      " [975 461 984 269 357 337 269 407 498 711]]\n"
     ]
    }
   ],
   "source": [
    "input_array = np.random.randint(1000, size=(32, 10))\n",
    "print(input_array)"
   ]
  },
  {
   "cell_type": "code",
   "execution_count": 18,
   "metadata": {
    "id": "FkfzrnLhWmmr"
   },
   "outputs": [],
   "source": [
    "class Regressor(nn.Module):\n",
    "    def __init__(self, n_positions, kmer = 3, embedding_dim = 32, input_dim = 5, n_blocks = 4, \n",
    "               kernel_size =15, rate = 0.2, strides = 2, ratio = 0.2, num_heads = 4, ff_mult = 4, \n",
    "               use_bias = False, num_projectors = 8):\n",
    "        super(Regressor, self).__init__()\n",
    "        self.n_positions = int(n_positions / strides)\n",
    "        self.input_dim = input_dim\n",
    "        self.kmer = kmer\n",
    "        self.strides = strides\n",
    "        self.num_projectors = num_projectors\n",
    "        self.n_blocks = n_blocks\n",
    "        self.masking = SequenceMaskLayer(n_positions = n_positions, ratio = ratio)\n",
    "        self.pos_embedding = nn.Embedding(self.n_positions, embedding_dim)\n",
    "        self.strand_embedding = nn.Embedding(2, embedding_dim) # plus/minus strands\n",
    "        self.expression_embedding = nn.Linear(1,embedding_dim)\n",
    "        self.kmer_dense = nn.Linear(input_dim*self.kmer,embedding_dim)\n",
    "        self.blocks = nn.ModuleList([ConformerSASwiGLULayer(embedding_dim = embedding_dim,\n",
    "                                    kernel_size = kernel_size, rate = rate, num_heads = num_heads) for _ in range(n_blocks)])\n",
    "        self.dropout = nn.Dropout(rate)\n",
    "        self.expression_dense = nn.Linear(embedding_dim,1)\n",
    "        self.nucleotide_dense = nn.Linear(embedding_dim,input_dim)\n",
    "\n",
    "    def forward(self, x): # x = data['seq']\n",
    "\n",
    "        batch_size = x.shape[0]\n",
    "\n",
    "        x = F.one_hot(x.to(torch.int64), self.input_dim)   # b,seq,em\n",
    "\n",
    "        x = x.unsqueeze(2)  # b,seq,1,em\n",
    "\n",
    "     #   x = tf.image.extract_patches(x, sizes = [1, self.kmer, 1, 1], strides = [1, self.strides, 1, 1], \n",
    "     #                                rates = [1, 1, 1, 1], padding = 'SAME')\n",
    "\n",
    "        #print(x.shape)\n",
    "        x_shape = x.shape\n",
    "        fold_shape = x.unfold(1,self.kmer,self.strides).transpose(3,4).shape\n",
    "        div = x_shape[1] - fold_shape[1]\n",
    "        x = F.pad(x.unfold(1,self.kmer,self.strides).transpose(3,4),(0,0,0,0,0,0,0,div),'constant',0).reshape(x.shape[0],x.shape[1]//self.strides,x.shape[2],-1)\n",
    "        x = x.squeeze(2).float()\n",
    "    #    print(x.shape)\n",
    "    #    print(x.dtype)\n",
    "        x = self.kmer_dense(x)\n",
    "\n",
    "        pos = torch.arange(start=0, end = self.n_positions, step=1).cuda()\n",
    "        pos = pos.unsqueeze(0)\n",
    "        pos = self.pos_embedding(pos.long())\n",
    "\n",
    "        strand = torch.tensor(np.repeat([0,1], repeats = int(self.n_positions / 2))).cuda()\n",
    "        strand = strand.unsqueeze(0)\n",
    "        strand = self.strand_embedding(strand.long())\n",
    "\n",
    "        x = x + pos + strand  # 채널 dim=2\n",
    "\n",
    "        expression = torch.zeros((batch_size, self.num_projectors, 1)).cuda()\n",
    "        expression = self.expression_embedding(expression.float())\n",
    "\n",
    "        x = torch.cat([expression, x], dim = 1)\n",
    "        x = x.transpose(1,2)\n",
    "        for i in range(self.n_blocks) :\n",
    "            x = self.blocks[i](x)\n",
    "        #x = self.blocks(x.transpose(1,2)).transpose(1,2)\n",
    "        x = x.transpose(1,2)\n",
    "    #    print('x : ',x.shape)\n",
    "        expression = x[:,:self.num_projectors,:]\n",
    "        x = x[:, -self.n_positions:, :]\n",
    "    #    print('exp : ',expression.shape)\n",
    "    #    print('x : ',x.shape)\n",
    "\n",
    "        expression = self.dropout(expression)\n",
    "        expression = self.expression_dense(expression)\n",
    "        expression = torch.mean(expression, 1)\n",
    "\n",
    "        x = self.nucleotide_dense(x)\n",
    "\n",
    "        return expression, x.transpose(1,2)"
   ]
  },
  {
   "cell_type": "code",
   "execution_count": 20,
   "metadata": {
    "colab": {
     "base_uri": "https://localhost:8080/"
    },
    "id": "43SNLoE_KvNB",
    "outputId": "68902f4f-349e-40ca-e201-f8d23ee9e606"
   },
   "outputs": [
    {
     "name": "stdout",
     "output_type": "stream",
     "text": [
      "tensor([2., 3.])\n",
      "2\n"
     ]
    }
   ],
   "source": [
    "a = torch.rand(4,3)\n",
    "a = np.array([[1,2],[3,4]])\n",
    "b = torch.mean(torch.tensor(a,dtype=torch.float32),dim=0)\n",
    "print(b)\n",
    "print(len(a.shape))"
   ]
  },
  {
   "cell_type": "code",
   "execution_count": 19,
   "metadata": {
    "id": "z-jAAiPA0oMS"
   },
   "outputs": [],
   "source": [
    "'''\n",
    "This part is used to train the speaker model and evaluate the performances\n",
    "'''\n",
    "\n",
    "from tqdm import tqdm\n",
    "\n",
    "class RegressorModel(nn.Module):\n",
    "\tdef __init__(self, args,**kwargs): # lr, lr_decay, C , n_class, m, s, test_step, **kwargs):\n",
    "\t\tsuper(RegressorModel, self).__init__()\n",
    "\t\t## regressor\n",
    "\t\tself.regressor = Regressor(n_positions = n_positions,embedding_dim = args['embedding_dim'],\n",
    "                             n_blocks = args['n_blocks_regressor'],kmer = args['kmer'],input_dim = input_dim,\n",
    "                             strides = args['strides'],ratio = args['mask_ratio'],num_heads = args['num_heads'],\n",
    "                             rate = args['dropout_rate'],num_projectors = args['num_projectors']).cuda()\n",
    "\t\t## Classifier\n",
    "\t\tself.mse_loss = nn.MSELoss(reduction='none').cuda()\n",
    "\t\tself.scc_loss = nn.CrossEntropyLoss( reduction='none').cuda()\n",
    "\t\tself.optim           = torch.optim.Adam(self.regressor.parameters(), lr = args['learning_rate'], weight_decay = 2e-5)\n",
    "\t\tself.scheduler       = torch.optim.lr_scheduler.StepLR(self.optim, step_size = 1, gamma=0.95)\n",
    "#\t\tself.optim = torch.optim.SGD(self.regressor.parameters(), lr=args['learning_rate'])\n",
    "#\t\tself.scheduler = torch.optim.lr_scheduler.OneCycleLR(self.optim, max_lr=0.014, pct_start = 0.125,\n",
    "#                                                steps_per_epoch=1, epochs=args['epochs'],anneal_strategy='cos')\n",
    "\t\tprint(time.strftime(\"%m-%d %H:%M:%S\") + \" Model para number(백만) = %.2f\"%(sum(param.numel() for param in self.regressor.parameters()) / 1024 / 1024))\n",
    "\n",
    "\tdef train_network(self, epoch, loader):\n",
    "\t\tself.train()\n",
    "\t\t## Update the learning rate based on the current epcoh\n",
    "\t\tself.scheduler.step(epoch - 1)\n",
    "\t\tindex, loss = 0, 0\n",
    "\t\tlr = self.optim.param_groups[0]['lr']\n",
    "\t\tfor num, (data, labels) in tqdm(enumerate(loader, start = 1)):\n",
    "\t\t\tself.zero_grad()\n",
    "\t\t\tseq, mask = self.regressor.masking(data)\n",
    "\t\t\tlabels = labels.cuda()\n",
    "\t\t\texpression, seq_pred = self.regressor.forward(data.cuda()) \n",
    "#\t\t\tprint(expression.dtype,seq_pred.dtype)\n",
    "\t\t\tloss_expression = self.mse_loss(labels.to(torch.float32), expression.squeeze(1).to(torch.float32))\n",
    "\t\t\tloss_seq = mask.cuda() * self.scc_loss(seq_pred,data.long().cuda())\n",
    "\t\t\tloss_seq = torch.sum(loss_seq) / (torch.sum(mask.cuda()) + 1)\n",
    "\t\t\t#print('seq_pred : ',seq_pred.shape,'data : ',data.shape)\n",
    "\t\t\t#print('loss_expression : ',loss_expression.to(torch.float32).dtype,'loss_seq : ',loss_seq.dtype)\n",
    "#\t\t\tprint(loss_expression.shape,loss_seq.shape)\n",
    "#\t\t\tloss_expression = loss_expression.to(torch.float32)\n",
    "\t\t\tnloss = (loss_expression.to(torch.float32) + loss_seq.to(torch.float32)).mean().to(torch.float32)\n",
    "#\t\t\tprint(nloss.dtype)\n",
    "\t\t\t\n",
    "\t\t\tnloss.backward()\n",
    "\t\t\tself.optim.step()\n",
    "\t\t\tindex += len(labels)\n",
    "\t\t\tloss += nloss.detach().cpu().numpy()\n",
    "\t\t\tif num % 300 == 0 :\n",
    "\t\t\t\tsys.stderr.write(time.strftime(\"%m-%d %H:%M:%S\") + \\\n",
    "\t\t\t\t\" [%2d] Lr: %5f, Training: %.2f%%, \"    %(epoch, lr, 100 * (num / loader.__len__())) + \\\n",
    "\t\t\t\t\" Loss: %.5f \\r\"        %(loss/(num)))\n",
    "\t\t\t\tsys.stderr.flush()\n",
    "\t\t\t\tsys.stdout.write(\"\\n\")\n",
    "\t\tself.scheduler.step()\n",
    "\t\treturn loss/num, lr \n",
    "\n",
    "\tdef eval_network(self, loader):\n",
    "\t\tself.eval()\n",
    "\t\texp = []\n",
    "\t\treal_exp = []\n",
    "\t\tfor idx, (data,labels) in tqdm(enumerate(loader)):\n",
    "\t\t\t# Full utterance\n",
    "\t\t\tdata_1 = torch.FloatTensor(data).cuda()\n",
    "\t\t\t# Speaker embeddings\n",
    "\t\t\twith torch.no_grad():\n",
    "\t\t\t\texpression, _ = self.regressor.forward(data_1)\n",
    "\t\t\tif len(expression.shape) > 1 :\n",
    "\t\t\t\texpression = expression.reshape(-1)\n",
    "\t\t\t\texpression = expression.detach().cpu().numpy()\n",
    "\t\t\t\tlabels = labels.detach().cpu().numpy() \n",
    "\t\t\texp.append(expression)\n",
    "\t\t\treal_exp.append(labels)\n",
    "\t\t\t\n",
    "\t\t# Coumpute Metric\n",
    "\t\texp = np.array(exp).reshape(-1)\n",
    "\t\treal_exp = np.array(real_exp).reshape(-1)\n",
    "\t\tPR = pearson_r(exp, real_exp)\n",
    "\n",
    "\t\treturn PR\n",
    "\n",
    "\tdef save_parameters(self, path):\n",
    "\t\ttorch.save(self.state_dict(), path)\n",
    "\n",
    "\tdef load_parameters(self, path):\n",
    "\t\tself_state = self.state_dict()\n",
    "\t\tloaded_state = torch.load(path)\n",
    "\t\tfor name, param in loaded_state.items():\n",
    "\t\t\torigname = name\n",
    "\t\t\tif name not in self_state:\n",
    "\t\t\t\tname = name.replace(\"module.\", \"\")\n",
    "\t\t\t\tif name not in self_state:\n",
    "\t\t\t\t\tprint(\"%s is not in the model.\"%origname)\n",
    "\t\t\t\t\tcontinue\n",
    "\t\t\tif self_state[name].size() != loaded_state[origname].size():\n",
    "\t\t\t\tprint(\"Wrong parameter length: %s, model: %s, loaded: %s\"%(origname, self_state[name].size(), loaded_state[origname].size()))\n",
    "\t\t\t\tcontinue\n",
    "\t\t\tself_state[name].copy_(param)"
   ]
  },
  {
   "cell_type": "code",
   "execution_count": null,
   "metadata": {
    "colab": {
     "base_uri": "https://localhost:8080/"
    },
    "id": "pjFyoEqNa7Aq",
    "outputId": "fda748e7-5165-4678-c76f-99a3b7fceed8"
   },
   "outputs": [
    {
     "name": "stdout",
     "output_type": "stream",
     "text": [
      "tensor([1, 0, 1, 3, 3])\n",
      "torch.Size([4, 200])\n"
     ]
    }
   ],
   "source": [
    "loss = nn.CrossEntropyLoss(reduction='none')\n",
    "inp  = torch.randn(4,5,200,requires_grad=True)\n",
    "target = torch.empty(4,200,dtype=torch.long).random_(5)\n",
    "output = loss(inp,target)\n",
    "print(target[1,:5])\n",
    "print(output.shape)"
   ]
  },
  {
   "cell_type": "code",
   "execution_count": 32,
   "metadata": {
    "id": "DjpQ5MFlpZ5v"
   },
   "outputs": [
    {
     "ename": "NameError",
     "evalue": "name 'keras' is not defined",
     "output_type": "error",
     "traceback": [
      "\u001b[0;31m---------------------------------------------------------------------------\u001b[0m",
      "\u001b[0;31mNameError\u001b[0m                                 Traceback (most recent call last)",
      "Input \u001b[0;32mIn [32]\u001b[0m, in \u001b[0;36m<cell line: 1>\u001b[0;34m()\u001b[0m\n\u001b[0;32m----> 1\u001b[0m \u001b[38;5;28;01mclass\u001b[39;00m \u001b[38;5;21;01mRegressor\u001b[39;00m(\u001b[43mkeras\u001b[49m\u001b[38;5;241m.\u001b[39mModel):\n\u001b[1;32m      2\u001b[0m   \u001b[38;5;28;01mdef\u001b[39;00m \u001b[38;5;21m__init__\u001b[39m(\u001b[38;5;28mself\u001b[39m, n_positions, kmer \u001b[38;5;241m=\u001b[39m \u001b[38;5;241m3\u001b[39m, embedding_dim \u001b[38;5;241m=\u001b[39m \u001b[38;5;241m32\u001b[39m, input_dim \u001b[38;5;241m=\u001b[39m \u001b[38;5;241m5\u001b[39m, n_blocks \u001b[38;5;241m=\u001b[39m \u001b[38;5;241m4\u001b[39m, \n\u001b[1;32m      3\u001b[0m                kernel_size \u001b[38;5;241m=\u001b[39m\u001b[38;5;241m15\u001b[39m, rate \u001b[38;5;241m=\u001b[39m \u001b[38;5;241m0.2\u001b[39m, strides \u001b[38;5;241m=\u001b[39m \u001b[38;5;241m2\u001b[39m, ratio \u001b[38;5;241m=\u001b[39m \u001b[38;5;241m0.2\u001b[39m, num_heads \u001b[38;5;241m=\u001b[39m \u001b[38;5;241m4\u001b[39m, \n\u001b[1;32m      4\u001b[0m                ff_mult \u001b[38;5;241m=\u001b[39m \u001b[38;5;241m4\u001b[39m, use_bias \u001b[38;5;241m=\u001b[39m \u001b[38;5;28;01mFalse\u001b[39;00m, num_projectors \u001b[38;5;241m=\u001b[39m \u001b[38;5;241m8\u001b[39m):\n\u001b[1;32m      5\u001b[0m     \u001b[38;5;28msuper\u001b[39m(Regressor, \u001b[38;5;28mself\u001b[39m)\u001b[38;5;241m.\u001b[39m\u001b[38;5;21m__init__\u001b[39m()\n",
      "\u001b[0;31mNameError\u001b[0m: name 'keras' is not defined"
     ]
    }
   ],
   "source": [
    "class Regressor(keras.Model):\n",
    "  def __init__(self, n_positions, kmer = 3, embedding_dim = 32, input_dim = 5, n_blocks = 4, \n",
    "               kernel_size =15, rate = 0.2, strides = 2, ratio = 0.2, num_heads = 4, \n",
    "               ff_mult = 4, use_bias = False, num_projectors = 8):\n",
    "    super(Regressor, self).__init__()\n",
    "    self.n_positions = int(n_positions / strides)\n",
    "    self.input_dim = input_dim\n",
    "    self.kmer = kmer\n",
    "    self.strides = strides\n",
    "    self.num_projectors = num_projectors\n",
    "    self.n_blocks = n_blocks\n",
    "    self.masking = SequenceMaskLayer(n_positions = n_positions, ratio = ratio)\n",
    "    self.pos_embedding = layers.Embedding(self.n_positions, embedding_dim)\n",
    "    self.strand_embedding = layers.Embedding(2, embedding_dim) # plus/minus strands\n",
    "    self.expression_embedding = layers.Dense(embedding_dim)\n",
    "    self.kmer_dense = layers.Dense(embedding_dim)\n",
    "    self.blocks = keras.Sequential([ConformerSASwiGLULayer(embedding_dim = embedding_dim, kernel_size = kernel_size, rate = rate, num_heads = num_heads) for _ in range(n_blocks)])\n",
    "    self.dropout = layers.Dropout(rate)\n",
    "    self.expression_dense = layers.Dense(1)\n",
    "    self.nucleotide_dense = layers.Dense(input_dim)\n",
    "\n",
    "  def call(self, x):\n",
    "\n",
    "    batch_size = tf.shape(x['seq'])[0]\n",
    "\n",
    "    x = tf.one_hot(x['seq'], self.input_dim)\n",
    "\n",
    "    x = tf.expand_dims(x, 2)\n",
    "    x = tf.image.extract_patches(x, sizes = [1, self.kmer, 1, 1], strides = [1, self.strides, 1, 1], \n",
    "                                 rates = [1, 1, 1, 1], padding = 'SAME')\n",
    "    x = tf.squeeze(x, 2)\n",
    "    print(x)\n",
    "    print(x.shape)\n",
    "    x = self.kmer_dense(x)\n",
    "    print(x.shape)\n",
    "    pos = tf.range(start=0, limit=self.n_positions, delta=1)\n",
    "    pos = tf.expand_dims(pos, 0)\n",
    "    pos = self.pos_embedding(pos)\n",
    "\n",
    "    strand = tf.repeat([0,1], repeats = int(self.n_positions / 2))\n",
    "    strand = tf.expand_dims(strand, 0)\n",
    "    strand = self.strand_embedding(strand)\n",
    "\n",
    "    x = x + pos + strand\n",
    "\n",
    "    expression = tf.zeros((batch_size, self.num_projectors, 1), dtype = tf.float32)\n",
    "    expression = self.expression_embedding(expression)\n",
    "\n",
    "    x = tf.concat([expression, x], axis = 1)\n",
    "    x = self.blocks(x)\n",
    "\n",
    "    expression = x[:,:self.num_projectors,:]\n",
    "    x = x[:, -self.n_positions:, :]\n",
    "\n",
    "    expression = self.dropout(expression)\n",
    "    expression = self.expression_dense(expression)\n",
    "    expression = tf.reduce_mean(expression, 1)\n",
    "\n",
    "    x = self.nucleotide_dense(x)\n",
    "\n",
    "    return expression, x\n",
    "\n",
    "  def train_step(self, batch):\n",
    "\n",
    "    seq, mask = self.masking(batch['seq'])\n",
    "    \n",
    "    with tf.GradientTape() as tape:\n",
    "      expression, seq_pred = self({'seq' : seq})\n",
    "      loss_expression = mse_loss(batch['expression'], expression)\n",
    "      loss_expression = tf.reduce_mean(loss_expression)\n",
    "      loss_seq = mask * scc_loss(batch['seq'], seq_pred)\n",
    "      loss_seq = tf.reduce_sum(loss_seq) / (tf.reduce_sum(mask) + 1)\n",
    "      loss = loss_expression + loss_seq\n",
    "\n",
    "    gradients = tape.gradient(loss, self.trainable_variables)\n",
    "    self.optimizer.apply_gradients(zip(gradients, self.trainable_variables))\n",
    "\n",
    "    self.compiled_metrics.update_state(batch['expression'], expression)\n",
    "    res = {'loss' : loss, 'loss_seq' : loss_seq, 'loss_expression' : loss_expression}\n",
    "    res.update({m.name: m.result() for m in self.metrics})\n",
    "    return res\n",
    "\n",
    "  def test_step(self, batch):\n",
    "    expression, _ = self(batch)\n",
    "    self.compiled_metrics.update_state(batch['expression'], expression)\n",
    "    return {m.name: m.result() for m in self.metrics}"
   ]
  },
  {
   "cell_type": "code",
   "execution_count": null,
   "metadata": {
    "colab": {
     "base_uri": "https://localhost:8080/"
    },
    "id": "JHA8irohpZ5w",
    "outputId": "adc145d7-0dca-4a86-f249-73aa9977deda"
   },
   "outputs": [
    {
     "name": "stdout",
     "output_type": "stream",
     "text": [
      "torch.Size([3, 120, 15])\n",
      "torch.float32\n",
      "x :  torch.Size([3, 152, 12])\n",
      "exp :  torch.Size([3, 32, 12])\n",
      "x :  torch.Size([3, 120, 12])\n",
      "torch.Size([3, 1])\n",
      "torch.Size([3, 5, 120])\n"
     ]
    }
   ],
   "source": [
    "model = Regressor(embedding_dim = 12, n_positions = 120, kernel_size = 3, strides = 1, num_projectors = ARGS['num_projectors'])\n",
    "#x = tf.random.uniform((3, 120), maxval = 5)\n",
    "#x = tf.cast(x, dtype = tf.uint8)\n",
    "x = torch.rand(3,120)*5\n",
    "x = x.floor().long()\n",
    "#expression_pred, x = model({'seq':x})\n",
    "expression_pred, x = model(x)\n",
    "print(expression_pred.shape)\n",
    "print(x.shape)"
   ]
  },
  {
   "cell_type": "code",
   "execution_count": null,
   "metadata": {
    "colab": {
     "base_uri": "https://localhost:8080/"
    },
    "id": "t_QJg04-pZ5w",
    "outputId": "9ffbd269-2b5c-4653-d155-1fb6c49211b2"
   },
   "outputs": [
    {
     "name": "stdout",
     "output_type": "stream",
     "text": [
      "INFO:tensorflow:Using MirroredStrategy with devices ('/job:localhost/replica:0/task:0/device:GPU:0', '/job:localhost/replica:0/task:0/device:GPU:1', '/job:localhost/replica:0/task:0/device:GPU:2', '/job:localhost/replica:0/task:0/device:GPU:3')\n"
     ]
    }
   ],
   "source": [
    "#strategy = tf.distribute.MirroredStrategy()\n",
    "#strategy = tf.distribute.experimental.CentralStorageStrategy()\n",
    "#strategy = tf.distribute.experimental.MultiWorkerMirroredStrategy()"
   ]
  },
  {
   "cell_type": "code",
   "execution_count": null,
   "metadata": {
    "id": "1s-DI91ppZ5w"
   },
   "outputs": [],
   "source": [
    "#with strategy.scope():\n",
    "#  model = Regressor(\n",
    "#    n_positions = n_positions,\n",
    "#    embedding_dim = ARGS['embedding_dim'], \n",
    "#    n_blocks = ARGS['n_blocks_regressor'],\n",
    "#    kmer = ARGS['kmer'],\n",
    "#    input_dim = input_dim,\n",
    "#    strides = ARGS['strides'],\n",
    "#    ratio = ARGS['mask_ratio'],\n",
    "#    num_heads = ARGS['num_heads'],\n",
    "#    rate = ARGS['dropout_rate'],\n",
    "#    num_projectors = ARGS['num_projectors'],\n",
    "#  )"
   ]
  },
  {
   "cell_type": "code",
   "execution_count": null,
   "metadata": {
    "id": "b9CPAqzqbS4C"
   },
   "outputs": [],
   "source": [
    "#learning_rate = CustomSchedule(ARGS['embedding_dim'], warmup_steps = ARGS['warmup_steps'])\n",
    "#optimizer = tf.keras.optimizers.Adam(learning_rate, beta_1 = 0.9, beta_2 = 0.98, epsilon=1e-9, clipnorm=1., clipvalue=0.5)"
   ]
  },
  {
   "cell_type": "code",
   "execution_count": null,
   "metadata": {
    "colab": {
     "base_uri": "https://localhost:8080/"
    },
    "id": "7KW-9ktVbiak",
    "outputId": "76aff734-eac9-4790-db5f-e64939bdb8a6"
   },
   "outputs": [
    {
     "name": "stdout",
     "output_type": "stream",
     "text": [
      "INFO:tensorflow:Reduce to /job:localhost/replica:0/task:0/device:CPU:0 then broadcast to ('/job:localhost/replica:0/task:0/device:CPU:0',).\n",
      "INFO:tensorflow:Reduce to /job:localhost/replica:0/task:0/device:CPU:0 then broadcast to ('/job:localhost/replica:0/task:0/device:CPU:0',).\n",
      "INFO:tensorflow:Reduce to /job:localhost/replica:0/task:0/device:CPU:0 then broadcast to ('/job:localhost/replica:0/task:0/device:CPU:0',).\n",
      "INFO:tensorflow:Reduce to /job:localhost/replica:0/task:0/device:CPU:0 then broadcast to ('/job:localhost/replica:0/task:0/device:CPU:0',).\n"
     ]
    }
   ],
   "source": [
    "#model.compile(\n",
    "#  optimizer = optimizer,\n",
    "#  metrics = [pearson_r],\n",
    "#)"
   ]
  },
  {
   "cell_type": "code",
   "execution_count": null,
   "metadata": {
    "id": "mokLgrTWV8i8"
   },
   "outputs": [],
   "source": [
    "#if ARGS['train_split'] < 1:\n",
    "#  monitor = 'val_pearson_r'\n",
    "#else:\n",
    "#  monitor = 'pearson_r'"
   ]
  },
  {
   "cell_type": "code",
   "execution_count": null,
   "metadata": {
    "id": "vBB1dWoGL-CR"
   },
   "outputs": [],
   "source": [
    "#model_checkpoint_callback = tf.keras.callbacks.ModelCheckpoint(\n",
    "#  filepath = ARGS['local_checkpoint_dir'],\n",
    "#  save_weights_only = True,\n",
    "#  monitor = monitor,\n",
    "#  mode='max',\n",
    "#  save_best_only = True,\n",
    "#  save_freq = 'epoch',\n",
    "#)"
   ]
  },
  {
   "cell_type": "markdown",
   "metadata": {
    "id": "JOtXgSxYvy0F"
   },
   "source": [
    "## Model fitting"
   ]
  },
  {
   "cell_type": "markdown",
   "metadata": {
    "id": "zGLEOzKhpPE2"
   },
   "source": [
    "### Epoch 1 \n",
    "\n",
    "initial epoch: 1"
   ]
  },
  {
   "cell_type": "code",
   "execution_count": null,
   "metadata": {
    "id": "spFmkqwZDwDb"
   },
   "outputs": [],
   "source": [
    "#if ARGS['train_split'] < 1:\n",
    "#  model.fit(\n",
    "#    train_ds,\n",
    "#    validation_data = test_ds,\n",
    "#    epochs = ARGS['epochs'],\n",
    "#    callbacks = [model_checkpoint_callback],\n",
    "#    initial_epoch = 1 - 1, \n",
    "#  )\n",
    "#else:\n",
    "#  model.fit(\n",
    "#    train_ds,\n",
    "#    epochs = ARGS['epochs'],\n",
    "#    callbacks = [model_checkpoint_callback],\n",
    "#    initial_epoch = 1 - 1, \n",
    "#  )\n"
   ]
  },
  {
   "cell_type": "code",
   "execution_count": 20,
   "metadata": {
    "colab": {
     "base_uri": "https://localhost:8080/",
     "height": 1000
    },
    "id": "2VpPeGE-OeX-",
    "outputId": "0cf7da67-67f8-4b6d-b151-a0c481d9fcb4"
   },
   "outputs": [
    {
     "name": "stdout",
     "output_type": "stream",
     "text": [
      "Device: cuda:1\n",
      "Current cuda device: 1\n",
      "Model exps/model/model_0001.model loaded from previous state!\n"
     ]
    },
    {
     "name": "stderr",
     "output_type": "stream",
     "text": [
      "/opt/conda/lib/python3.8/site-packages/torch/optim/lr_scheduler.py:131: UserWarning: Detected call of `lr_scheduler.step()` before `optimizer.step()`. In PyTorch 1.1.0 and later, you should call them in the opposite order: `optimizer.step()` before `lr_scheduler.step()`.  Failure to do this will result in PyTorch skipping the first value of the learning rate schedule. See more details at https://pytorch.org/docs/stable/optim.html#how-to-adjust-learning-rate\n",
      "  warnings.warn(\"Detected call of `lr_scheduler.step()` before `optimizer.step()`. \"\n",
      "/opt/conda/lib/python3.8/site-packages/torch/optim/lr_scheduler.py:156: UserWarning: The epoch parameter in `scheduler.step()` was not necessary and is being deprecated where possible. Please use `scheduler.step()` to step the scheduler. During the deprecation, if epoch is different from None, the closed form is used instead of the new chainable form, where available. Please open an issue if you are unable to replicate your use case: https://github.com/pytorch/pytorch/issues/new/choose.\n",
      "  warnings.warn(EPOCH_DEPRECATION_WARNING, UserWarning)\n"
     ]
    },
    {
     "name": "stdout",
     "output_type": "stream",
     "text": [
      "03-06 12:27:24 Model para number(백만) = 17.19\n"
     ]
    },
    {
     "name": "stderr",
     "output_type": "stream",
     "text": [
      "300it [09:23,  1.89s/it]03-06 12:36:48 [ 2] Lr: 0.000950, Training: 2.40%,  Loss: 32.09244 "
     ]
    },
    {
     "name": "stdout",
     "output_type": "stream",
     "text": [
      "\n"
     ]
    },
    {
     "name": "stderr",
     "output_type": "stream",
     "text": [
      "600it [18:47,  1.87s/it]03-06 12:46:12 [ 2] Lr: 0.000950, Training: 4.80%,  Loss: 16.55126 "
     ]
    },
    {
     "name": "stdout",
     "output_type": "stream",
     "text": [
      "\n"
     ]
    },
    {
     "name": "stderr",
     "output_type": "stream",
     "text": [
      "900it [28:07,  1.86s/it]03-06 12:55:32 [ 2] Lr: 0.000950, Training: 7.20%,  Loss: 11.37031 "
     ]
    },
    {
     "name": "stdout",
     "output_type": "stream",
     "text": [
      "\n"
     ]
    },
    {
     "name": "stderr",
     "output_type": "stream",
     "text": [
      "1200it [37:26,  1.86s/it]03-06 13:04:51 [ 2] Lr: 0.000950, Training: 9.60%,  Loss: 8.78044 "
     ]
    },
    {
     "name": "stdout",
     "output_type": "stream",
     "text": [
      "\n"
     ]
    },
    {
     "name": "stderr",
     "output_type": "stream",
     "text": [
      "1500it [46:44,  1.86s/it]03-06 13:14:09 [ 2] Lr: 0.000950, Training: 12.00%,  Loss: 7.22580 "
     ]
    },
    {
     "name": "stdout",
     "output_type": "stream",
     "text": [
      "\n"
     ]
    },
    {
     "name": "stderr",
     "output_type": "stream",
     "text": [
      "1800it [56:00,  1.86s/it]03-06 13:23:25 [ 2] Lr: 0.000950, Training: 14.40%,  Loss: 6.18954 "
     ]
    },
    {
     "name": "stdout",
     "output_type": "stream",
     "text": [
      "\n"
     ]
    },
    {
     "name": "stderr",
     "output_type": "stream",
     "text": [
      "2100it [1:05:17,  1.85s/it]03-06 13:32:42 [ 2] Lr: 0.000950, Training: 16.80%,  Loss: 5.44964 "
     ]
    },
    {
     "name": "stdout",
     "output_type": "stream",
     "text": [
      "\n"
     ]
    },
    {
     "name": "stderr",
     "output_type": "stream",
     "text": [
      "2400it [1:14:33,  1.86s/it]03-06 13:41:58 [ 2] Lr: 0.000950, Training: 19.20%,  Loss: 4.89493 "
     ]
    },
    {
     "name": "stdout",
     "output_type": "stream",
     "text": [
      "\n"
     ]
    },
    {
     "name": "stderr",
     "output_type": "stream",
     "text": [
      "2700it [1:23:50,  1.85s/it]03-06 13:51:15 [ 2] Lr: 0.000950, Training: 21.60%,  Loss: 4.46290 "
     ]
    },
    {
     "name": "stdout",
     "output_type": "stream",
     "text": [
      "\n"
     ]
    },
    {
     "name": "stderr",
     "output_type": "stream",
     "text": [
      "3000it [1:33:04,  1.86s/it]03-06 14:00:29 [ 2] Lr: 0.000950, Training: 24.00%,  Loss: 4.11744 "
     ]
    },
    {
     "name": "stdout",
     "output_type": "stream",
     "text": [
      "\n"
     ]
    },
    {
     "name": "stderr",
     "output_type": "stream",
     "text": [
      "3300it [1:42:21,  1.85s/it]03-06 14:09:46 [ 2] Lr: 0.000950, Training: 26.40%,  Loss: 3.83578 "
     ]
    },
    {
     "name": "stdout",
     "output_type": "stream",
     "text": [
      "\n"
     ]
    },
    {
     "name": "stderr",
     "output_type": "stream",
     "text": [
      "3600it [1:51:34,  1.84s/it]03-06 14:18:59 [ 2] Lr: 0.000950, Training: 28.80%,  Loss: 3.59992 "
     ]
    },
    {
     "name": "stdout",
     "output_type": "stream",
     "text": [
      "\n"
     ]
    },
    {
     "name": "stderr",
     "output_type": "stream",
     "text": [
      "3900it [2:00:49,  1.85s/it]03-06 14:28:14 [ 2] Lr: 0.000950, Training: 31.20%,  Loss: 3.39988 "
     ]
    },
    {
     "name": "stdout",
     "output_type": "stream",
     "text": [
      "\n"
     ]
    },
    {
     "name": "stderr",
     "output_type": "stream",
     "text": [
      "4200it [2:10:04,  1.85s/it]03-06 14:37:29 [ 2] Lr: 0.000950, Training: 33.60%,  Loss: 3.22899 "
     ]
    },
    {
     "name": "stdout",
     "output_type": "stream",
     "text": [
      "\n"
     ]
    },
    {
     "name": "stderr",
     "output_type": "stream",
     "text": [
      "4500it [2:19:19,  1.87s/it]03-06 14:46:44 [ 2] Lr: 0.000950, Training: 36.00%,  Loss: 3.08072 "
     ]
    },
    {
     "name": "stdout",
     "output_type": "stream",
     "text": [
      "\n"
     ]
    },
    {
     "name": "stderr",
     "output_type": "stream",
     "text": [
      "4800it [2:28:37,  1.85s/it]03-06 14:56:02 [ 2] Lr: 0.000950, Training: 38.40%,  Loss: 2.95121 "
     ]
    },
    {
     "name": "stdout",
     "output_type": "stream",
     "text": [
      "\n"
     ]
    },
    {
     "name": "stderr",
     "output_type": "stream",
     "text": [
      "5100it [2:37:53,  1.85s/it]03-06 15:05:18 [ 2] Lr: 0.000950, Training: 40.80%,  Loss: 2.83644 "
     ]
    },
    {
     "name": "stdout",
     "output_type": "stream",
     "text": [
      "\n"
     ]
    },
    {
     "name": "stderr",
     "output_type": "stream",
     "text": [
      "5400it [2:47:10,  1.85s/it]03-06 15:14:34 [ 2] Lr: 0.000950, Training: 43.20%,  Loss: 2.73450 "
     ]
    },
    {
     "name": "stdout",
     "output_type": "stream",
     "text": [
      "\n"
     ]
    },
    {
     "name": "stderr",
     "output_type": "stream",
     "text": [
      "5700it [2:56:26,  1.85s/it]03-06 15:23:51 [ 2] Lr: 0.000950, Training: 45.60%,  Loss: 2.64361 "
     ]
    },
    {
     "name": "stdout",
     "output_type": "stream",
     "text": [
      "\n"
     ]
    },
    {
     "name": "stderr",
     "output_type": "stream",
     "text": [
      "6000it [3:05:42,  1.85s/it]03-06 15:33:06 [ 2] Lr: 0.000950, Training: 48.00%,  Loss: 2.56179 "
     ]
    },
    {
     "name": "stdout",
     "output_type": "stream",
     "text": [
      "\n"
     ]
    },
    {
     "name": "stderr",
     "output_type": "stream",
     "text": [
      "6300it [3:14:58,  1.85s/it]03-06 15:42:23 [ 2] Lr: 0.000950, Training: 50.40%,  Loss: 2.60783 "
     ]
    },
    {
     "name": "stdout",
     "output_type": "stream",
     "text": [
      "\n"
     ]
    },
    {
     "name": "stderr",
     "output_type": "stream",
     "text": [
      "6600it [3:24:14,  1.86s/it]03-06 15:51:39 [ 2] Lr: 0.000950, Training: 52.80%,  Loss: 2.53557 "
     ]
    },
    {
     "name": "stdout",
     "output_type": "stream",
     "text": [
      "\n"
     ]
    },
    {
     "name": "stderr",
     "output_type": "stream",
     "text": [
      "6900it [3:33:30,  1.85s/it]03-06 16:00:55 [ 2] Lr: 0.000950, Training: 55.20%,  Loss: 2.46950 "
     ]
    },
    {
     "name": "stdout",
     "output_type": "stream",
     "text": [
      "\n"
     ]
    },
    {
     "name": "stderr",
     "output_type": "stream",
     "text": [
      "7200it [3:42:46,  1.85s/it]03-06 16:10:10 [ 2] Lr: 0.000950, Training: 57.60%,  Loss: 2.40872 "
     ]
    },
    {
     "name": "stdout",
     "output_type": "stream",
     "text": [
      "\n"
     ]
    },
    {
     "name": "stderr",
     "output_type": "stream",
     "text": [
      "7500it [3:52:02,  1.85s/it]03-06 16:19:27 [ 2] Lr: 0.000950, Training: 60.00%,  Loss: 2.35253 "
     ]
    },
    {
     "name": "stdout",
     "output_type": "stream",
     "text": [
      "\n"
     ]
    },
    {
     "name": "stderr",
     "output_type": "stream",
     "text": [
      "7800it [4:01:18,  1.85s/it]03-06 16:28:43 [ 2] Lr: 0.000950, Training: 62.40%,  Loss: 2.30077 "
     ]
    },
    {
     "name": "stdout",
     "output_type": "stream",
     "text": [
      "\n"
     ]
    },
    {
     "name": "stderr",
     "output_type": "stream",
     "text": [
      "8100it [4:10:34,  1.85s/it]03-06 16:37:58 [ 2] Lr: 0.000950, Training: 64.79%,  Loss: 2.25280 "
     ]
    },
    {
     "name": "stdout",
     "output_type": "stream",
     "text": [
      "\n"
     ]
    },
    {
     "name": "stderr",
     "output_type": "stream",
     "text": [
      "8400it [4:19:50,  1.85s/it]03-06 16:47:15 [ 2] Lr: 0.000950, Training: 67.19%,  Loss: 2.20847 "
     ]
    },
    {
     "name": "stdout",
     "output_type": "stream",
     "text": [
      "\n"
     ]
    },
    {
     "name": "stderr",
     "output_type": "stream",
     "text": [
      "8700it [4:29:06,  1.85s/it]03-06 16:56:31 [ 2] Lr: 0.000950, Training: 69.59%,  Loss: 2.16706 "
     ]
    },
    {
     "name": "stdout",
     "output_type": "stream",
     "text": [
      "\n"
     ]
    },
    {
     "name": "stderr",
     "output_type": "stream",
     "text": [
      "9000it [4:38:22,  1.85s/it]03-06 17:05:46 [ 2] Lr: 0.000950, Training: 71.99%,  Loss: 2.12842 "
     ]
    },
    {
     "name": "stdout",
     "output_type": "stream",
     "text": [
      "\n"
     ]
    },
    {
     "name": "stderr",
     "output_type": "stream",
     "text": [
      "9300it [4:47:38,  1.85s/it]03-06 17:15:03 [ 2] Lr: 0.000950, Training: 74.39%,  Loss: 2.09245 "
     ]
    },
    {
     "name": "stdout",
     "output_type": "stream",
     "text": [
      "\n"
     ]
    },
    {
     "name": "stderr",
     "output_type": "stream",
     "text": [
      "9600it [4:56:54,  1.85s/it]03-06 17:24:19 [ 2] Lr: 0.000950, Training: 76.79%,  Loss: 2.05843 "
     ]
    },
    {
     "name": "stdout",
     "output_type": "stream",
     "text": [
      "\n"
     ]
    },
    {
     "name": "stderr",
     "output_type": "stream",
     "text": [
      "9900it [5:06:10,  1.85s/it]03-06 17:33:35 [ 2] Lr: 0.000950, Training: 79.19%,  Loss: 2.02621 "
     ]
    },
    {
     "name": "stdout",
     "output_type": "stream",
     "text": [
      "\n"
     ]
    },
    {
     "name": "stderr",
     "output_type": "stream",
     "text": [
      "10200it [5:15:29,  1.85s/it]03-06 17:42:54 [ 2] Lr: 0.000950, Training: 81.59%,  Loss: 1.99610 "
     ]
    },
    {
     "name": "stdout",
     "output_type": "stream",
     "text": [
      "\n"
     ]
    },
    {
     "name": "stderr",
     "output_type": "stream",
     "text": [
      "10500it [5:24:47,  1.85s/it]03-06 17:52:12 [ 2] Lr: 0.000950, Training: 83.99%,  Loss: 1.96781 "
     ]
    },
    {
     "name": "stdout",
     "output_type": "stream",
     "text": [
      "\n"
     ]
    },
    {
     "name": "stderr",
     "output_type": "stream",
     "text": [
      "10800it [5:34:03,  1.85s/it]03-06 18:01:28 [ 2] Lr: 0.000950, Training: 86.39%,  Loss: 1.94087 "
     ]
    },
    {
     "name": "stdout",
     "output_type": "stream",
     "text": [
      "\n"
     ]
    },
    {
     "name": "stderr",
     "output_type": "stream",
     "text": [
      "11100it [5:43:20,  1.86s/it]03-06 18:10:45 [ 2] Lr: 0.000950, Training: 88.79%,  Loss: 1.91554 "
     ]
    },
    {
     "name": "stdout",
     "output_type": "stream",
     "text": [
      "\n"
     ]
    },
    {
     "name": "stderr",
     "output_type": "stream",
     "text": [
      "11400it [5:52:37,  1.85s/it]03-06 18:20:02 [ 2] Lr: 0.000950, Training: 91.19%,  Loss: 1.89140 "
     ]
    },
    {
     "name": "stdout",
     "output_type": "stream",
     "text": [
      "\n"
     ]
    },
    {
     "name": "stderr",
     "output_type": "stream",
     "text": [
      "11700it [6:01:53,  1.85s/it]03-06 18:29:18 [ 2] Lr: 0.000950, Training: 93.59%,  Loss: 1.86880 "
     ]
    },
    {
     "name": "stdout",
     "output_type": "stream",
     "text": [
      "\n"
     ]
    },
    {
     "name": "stderr",
     "output_type": "stream",
     "text": [
      "12000it [6:11:09,  1.85s/it]03-06 18:38:34 [ 2] Lr: 0.000950, Training: 95.99%,  Loss: 1.84719 "
     ]
    },
    {
     "name": "stdout",
     "output_type": "stream",
     "text": [
      "\n"
     ]
    },
    {
     "name": "stderr",
     "output_type": "stream",
     "text": [
      "12300it [6:20:25,  1.85s/it]03-06 18:47:50 [ 2] Lr: 0.000950, Training: 98.39%,  Loss: 1.82660 "
     ]
    },
    {
     "name": "stdout",
     "output_type": "stream",
     "text": [
      "\n"
     ]
    },
    {
     "name": "stderr",
     "output_type": "stream",
     "text": [
      "12501it [6:26:39,  1.86s/it]\n",
      "657it [06:25,  1.70it/s]\n"
     ]
    },
    {
     "name": "stdout",
     "output_type": "stream",
     "text": [
      "2023-03-06 19:00:29 2 epoch, Pearson_R -0.32%, bestPearson_R -0.32%\n"
     ]
    },
    {
     "name": "stderr",
     "output_type": "stream",
     "text": [
      "0it [00:00, ?it/s]\n"
     ]
    },
    {
     "ename": "TypeError",
     "evalue": "new(): invalid data type 'str'",
     "output_type": "error",
     "traceback": [
      "\u001b[0;31m---------------------------------------------------------------------------\u001b[0m",
      "\u001b[0;31mTypeError\u001b[0m                                 Traceback (most recent call last)",
      "Input \u001b[0;32mIn [20]\u001b[0m, in \u001b[0;36m<cell line: 49>\u001b[0;34m()\u001b[0m\n\u001b[1;32m     58\u001b[0m \u001b[38;5;28;01mif\u001b[39;00m pr[\u001b[38;5;241m-\u001b[39m\u001b[38;5;241m1\u001b[39m] \u001b[38;5;241m==\u001b[39m \u001b[38;5;28mmax\u001b[39m(pr) :\n\u001b[1;32m     59\u001b[0m \ts\u001b[38;5;241m.\u001b[39msave_parameters(model_save_path \u001b[38;5;241m+\u001b[39m \u001b[38;5;124m\"\u001b[39m\u001b[38;5;124m/model_best.model\u001b[39m\u001b[38;5;124m\"\u001b[39m)\n\u001b[0;32m---> 60\u001b[0m \teval_pr\u001b[38;5;241m.\u001b[39mappend(\u001b[43ms\u001b[49m\u001b[38;5;241;43m.\u001b[39;49m\u001b[43meval_network\u001b[49m\u001b[43m(\u001b[49m\u001b[43mtestLoader\u001b[49m\u001b[43m)\u001b[49m)\n\u001b[1;32m     61\u001b[0m \t\u001b[38;5;28mprint\u001b[39m(time\u001b[38;5;241m.\u001b[39mstrftime(\u001b[38;5;124m\"\u001b[39m\u001b[38;5;124m%\u001b[39m\u001b[38;5;124mY-\u001b[39m\u001b[38;5;124m%\u001b[39m\u001b[38;5;124mm-\u001b[39m\u001b[38;5;132;01m%d\u001b[39;00m\u001b[38;5;124m \u001b[39m\u001b[38;5;124m%\u001b[39m\u001b[38;5;124mH:\u001b[39m\u001b[38;5;124m%\u001b[39m\u001b[38;5;124mM:\u001b[39m\u001b[38;5;124m%\u001b[39m\u001b[38;5;124mS\u001b[39m\u001b[38;5;124m\"\u001b[39m), \u001b[38;5;124m\"\u001b[39m\u001b[38;5;132;01m%d\u001b[39;00m\u001b[38;5;124m epoch, Eval_Pearson_R \u001b[39m\u001b[38;5;132;01m%2.2f\u001b[39;00m\u001b[38;5;132;01m%%\u001b[39;00m\u001b[38;5;124m, Best_Eval_Pearson_R \u001b[39m\u001b[38;5;132;01m%2.2f\u001b[39;00m\u001b[38;5;132;01m%%\u001b[39;00m\u001b[38;5;124m\"\u001b[39m\u001b[38;5;241m%\u001b[39m(epoch, eval_pr[\u001b[38;5;241m-\u001b[39m\u001b[38;5;241m1\u001b[39m], \u001b[38;5;28mmax\u001b[39m(eval_pr)))\n\u001b[1;32m     62\u001b[0m \tscore_file\u001b[38;5;241m.\u001b[39mwrite(\u001b[38;5;124m\"\u001b[39m\u001b[38;5;132;01m%d\u001b[39;00m\u001b[38;5;124m epoch, LR \u001b[39m\u001b[38;5;132;01m%f\u001b[39;00m\u001b[38;5;124m, LOSS \u001b[39m\u001b[38;5;132;01m%f\u001b[39;00m\u001b[38;5;124m, Pearson_R \u001b[39m\u001b[38;5;132;01m%2.2f\u001b[39;00m\u001b[38;5;132;01m%%\u001b[39;00m\u001b[38;5;124m, Best_Eval_Pearson_R \u001b[39m\u001b[38;5;132;01m%2.2f\u001b[39;00m\u001b[38;5;132;01m%%\u001b[39;00m\u001b[38;5;130;01m\\n\u001b[39;00m\u001b[38;5;124m\"\u001b[39m\u001b[38;5;241m%\u001b[39m(epoch, lr, loss, eval_pr[\u001b[38;5;241m-\u001b[39m\u001b[38;5;241m1\u001b[39m], \u001b[38;5;28mmax\u001b[39m(eval_pr)))\n",
      "Input \u001b[0;32mIn [19]\u001b[0m, in \u001b[0;36mRegressorModel.eval_network\u001b[0;34m(self, loader)\u001b[0m\n\u001b[1;32m     62\u001b[0m exp \u001b[38;5;241m=\u001b[39m []\n\u001b[1;32m     63\u001b[0m real_exp \u001b[38;5;241m=\u001b[39m []\n\u001b[0;32m---> 64\u001b[0m \u001b[38;5;28;01mfor\u001b[39;00m idx, (data,labels) \u001b[38;5;129;01min\u001b[39;00m tqdm(\u001b[38;5;28menumerate\u001b[39m(loader)):\n\u001b[1;32m     65\u001b[0m \t\u001b[38;5;66;03m# Full utterance\u001b[39;00m\n\u001b[1;32m     66\u001b[0m \tdata_1 \u001b[38;5;241m=\u001b[39m torch\u001b[38;5;241m.\u001b[39mFloatTensor(data)\u001b[38;5;241m.\u001b[39mcuda()\n\u001b[1;32m     67\u001b[0m \t\u001b[38;5;66;03m# Speaker embeddings\u001b[39;00m\n",
      "File \u001b[0;32m/opt/conda/lib/python3.8/site-packages/tqdm/std.py:1195\u001b[0m, in \u001b[0;36mtqdm.__iter__\u001b[0;34m(self)\u001b[0m\n\u001b[1;32m   1192\u001b[0m time \u001b[38;5;241m=\u001b[39m \u001b[38;5;28mself\u001b[39m\u001b[38;5;241m.\u001b[39m_time\n\u001b[1;32m   1194\u001b[0m \u001b[38;5;28;01mtry\u001b[39;00m:\n\u001b[0;32m-> 1195\u001b[0m     \u001b[38;5;28;01mfor\u001b[39;00m obj \u001b[38;5;129;01min\u001b[39;00m iterable:\n\u001b[1;32m   1196\u001b[0m         \u001b[38;5;28;01myield\u001b[39;00m obj\n\u001b[1;32m   1197\u001b[0m         \u001b[38;5;66;03m# Update and possibly print the progressbar.\u001b[39;00m\n\u001b[1;32m   1198\u001b[0m         \u001b[38;5;66;03m# Note: does not call self.update(1) for speed optimisation.\u001b[39;00m\n",
      "File \u001b[0;32m/opt/conda/lib/python3.8/site-packages/torch/utils/data/dataloader.py:530\u001b[0m, in \u001b[0;36m_BaseDataLoaderIter.__next__\u001b[0;34m(self)\u001b[0m\n\u001b[1;32m    528\u001b[0m \u001b[38;5;28;01mif\u001b[39;00m \u001b[38;5;28mself\u001b[39m\u001b[38;5;241m.\u001b[39m_sampler_iter \u001b[38;5;129;01mis\u001b[39;00m \u001b[38;5;28;01mNone\u001b[39;00m:\n\u001b[1;32m    529\u001b[0m     \u001b[38;5;28mself\u001b[39m\u001b[38;5;241m.\u001b[39m_reset()\n\u001b[0;32m--> 530\u001b[0m data \u001b[38;5;241m=\u001b[39m \u001b[38;5;28;43mself\u001b[39;49m\u001b[38;5;241;43m.\u001b[39;49m\u001b[43m_next_data\u001b[49m\u001b[43m(\u001b[49m\u001b[43m)\u001b[49m\n\u001b[1;32m    531\u001b[0m \u001b[38;5;28mself\u001b[39m\u001b[38;5;241m.\u001b[39m_num_yielded \u001b[38;5;241m+\u001b[39m\u001b[38;5;241m=\u001b[39m \u001b[38;5;241m1\u001b[39m\n\u001b[1;32m    532\u001b[0m \u001b[38;5;28;01mif\u001b[39;00m \u001b[38;5;28mself\u001b[39m\u001b[38;5;241m.\u001b[39m_dataset_kind \u001b[38;5;241m==\u001b[39m _DatasetKind\u001b[38;5;241m.\u001b[39mIterable \u001b[38;5;129;01mand\u001b[39;00m \\\n\u001b[1;32m    533\u001b[0m         \u001b[38;5;28mself\u001b[39m\u001b[38;5;241m.\u001b[39m_IterableDataset_len_called \u001b[38;5;129;01mis\u001b[39;00m \u001b[38;5;129;01mnot\u001b[39;00m \u001b[38;5;28;01mNone\u001b[39;00m \u001b[38;5;129;01mand\u001b[39;00m \\\n\u001b[1;32m    534\u001b[0m         \u001b[38;5;28mself\u001b[39m\u001b[38;5;241m.\u001b[39m_num_yielded \u001b[38;5;241m>\u001b[39m \u001b[38;5;28mself\u001b[39m\u001b[38;5;241m.\u001b[39m_IterableDataset_len_called:\n",
      "File \u001b[0;32m/opt/conda/lib/python3.8/site-packages/torch/utils/data/dataloader.py:570\u001b[0m, in \u001b[0;36m_SingleProcessDataLoaderIter._next_data\u001b[0;34m(self)\u001b[0m\n\u001b[1;32m    568\u001b[0m \u001b[38;5;28;01mdef\u001b[39;00m \u001b[38;5;21m_next_data\u001b[39m(\u001b[38;5;28mself\u001b[39m):\n\u001b[1;32m    569\u001b[0m     index \u001b[38;5;241m=\u001b[39m \u001b[38;5;28mself\u001b[39m\u001b[38;5;241m.\u001b[39m_next_index()  \u001b[38;5;66;03m# may raise StopIteration\u001b[39;00m\n\u001b[0;32m--> 570\u001b[0m     data \u001b[38;5;241m=\u001b[39m \u001b[38;5;28;43mself\u001b[39;49m\u001b[38;5;241;43m.\u001b[39;49m\u001b[43m_dataset_fetcher\u001b[49m\u001b[38;5;241;43m.\u001b[39;49m\u001b[43mfetch\u001b[49m\u001b[43m(\u001b[49m\u001b[43mindex\u001b[49m\u001b[43m)\u001b[49m  \u001b[38;5;66;03m# may raise StopIteration\u001b[39;00m\n\u001b[1;32m    571\u001b[0m     \u001b[38;5;28;01mif\u001b[39;00m \u001b[38;5;28mself\u001b[39m\u001b[38;5;241m.\u001b[39m_pin_memory:\n\u001b[1;32m    572\u001b[0m         data \u001b[38;5;241m=\u001b[39m _utils\u001b[38;5;241m.\u001b[39mpin_memory\u001b[38;5;241m.\u001b[39mpin_memory(data)\n",
      "File \u001b[0;32m/opt/conda/lib/python3.8/site-packages/torch/utils/data/_utils/fetch.py:49\u001b[0m, in \u001b[0;36m_MapDatasetFetcher.fetch\u001b[0;34m(self, possibly_batched_index)\u001b[0m\n\u001b[1;32m     47\u001b[0m \u001b[38;5;28;01mdef\u001b[39;00m \u001b[38;5;21mfetch\u001b[39m(\u001b[38;5;28mself\u001b[39m, possibly_batched_index):\n\u001b[1;32m     48\u001b[0m     \u001b[38;5;28;01mif\u001b[39;00m \u001b[38;5;28mself\u001b[39m\u001b[38;5;241m.\u001b[39mauto_collation:\n\u001b[0;32m---> 49\u001b[0m         data \u001b[38;5;241m=\u001b[39m [\u001b[38;5;28mself\u001b[39m\u001b[38;5;241m.\u001b[39mdataset[idx] \u001b[38;5;28;01mfor\u001b[39;00m idx \u001b[38;5;129;01min\u001b[39;00m possibly_batched_index]\n\u001b[1;32m     50\u001b[0m     \u001b[38;5;28;01melse\u001b[39;00m:\n\u001b[1;32m     51\u001b[0m         data \u001b[38;5;241m=\u001b[39m \u001b[38;5;28mself\u001b[39m\u001b[38;5;241m.\u001b[39mdataset[possibly_batched_index]\n",
      "File \u001b[0;32m/opt/conda/lib/python3.8/site-packages/torch/utils/data/_utils/fetch.py:49\u001b[0m, in \u001b[0;36m<listcomp>\u001b[0;34m(.0)\u001b[0m\n\u001b[1;32m     47\u001b[0m \u001b[38;5;28;01mdef\u001b[39;00m \u001b[38;5;21mfetch\u001b[39m(\u001b[38;5;28mself\u001b[39m, possibly_batched_index):\n\u001b[1;32m     48\u001b[0m     \u001b[38;5;28;01mif\u001b[39;00m \u001b[38;5;28mself\u001b[39m\u001b[38;5;241m.\u001b[39mauto_collation:\n\u001b[0;32m---> 49\u001b[0m         data \u001b[38;5;241m=\u001b[39m [\u001b[38;5;28;43mself\u001b[39;49m\u001b[38;5;241;43m.\u001b[39;49m\u001b[43mdataset\u001b[49m\u001b[43m[\u001b[49m\u001b[43midx\u001b[49m\u001b[43m]\u001b[49m \u001b[38;5;28;01mfor\u001b[39;00m idx \u001b[38;5;129;01min\u001b[39;00m possibly_batched_index]\n\u001b[1;32m     50\u001b[0m     \u001b[38;5;28;01melse\u001b[39;00m:\n\u001b[1;32m     51\u001b[0m         data \u001b[38;5;241m=\u001b[39m \u001b[38;5;28mself\u001b[39m\u001b[38;5;241m.\u001b[39mdataset[possibly_batched_index]\n",
      "Input \u001b[0;32mIn [17]\u001b[0m, in \u001b[0;36mtest_loader.__getitem__\u001b[0;34m(self, index)\u001b[0m\n\u001b[1;32m     19\u001b[0m \u001b[38;5;28;01mdef\u001b[39;00m \u001b[38;5;21m__getitem__\u001b[39m(\u001b[38;5;28mself\u001b[39m, index):\n\u001b[0;32m---> 21\u001b[0m     \u001b[38;5;28;01mreturn\u001b[39;00m \u001b[43mtorch\u001b[49m\u001b[38;5;241;43m.\u001b[39;49m\u001b[43mFloatTensor\u001b[49m\u001b[43m(\u001b[49m\u001b[38;5;28;43mself\u001b[39;49m\u001b[38;5;241;43m.\u001b[39;49m\u001b[43mdata\u001b[49m\u001b[43m[\u001b[49m\u001b[43mindex\u001b[49m\u001b[43m]\u001b[49m\u001b[43m)\u001b[49m, \u001b[38;5;28mself\u001b[39m\u001b[38;5;241m.\u001b[39mdata_label[index]\n",
      "\u001b[0;31mTypeError\u001b[0m: new(): invalid data type 'str'"
     ]
    }
   ],
   "source": [
    "'''\n",
    "This is the main code of the ECAPATDNN project, to define the parameters and build the construction\n",
    "'''\n",
    "torch.cuda.empty_cache()\n",
    "import gc\n",
    "gc.collect()\n",
    "import argparse, glob, os, torch, warnings, time\n",
    "\n",
    "\n",
    "model_save_path = \"exps/model\"\n",
    "score_save_path = \"exps/score2.txt\"\n",
    "os.makedirs(model_save_path,exist_ok = True)\n",
    "\n",
    "device = ARGS['device']\n",
    "torch.cuda.set_device(device)\n",
    "print('Device:', device)\n",
    "print('Current cuda device:', torch.cuda.current_device())\n",
    "\n",
    "\n",
    "## Define the data loader\n",
    "trainloader = train_loader(train_data)\n",
    "trainLoader = torch.utils.data.DataLoader(trainloader, batch_size = ARGS['batch_size'], shuffle = True, num_workers = 0, drop_last = True)\n",
    "valloader = train_loader(val_data)\n",
    "valLoader = torch.utils.data.DataLoader(valloader, batch_size = ARGS['batch_size'], shuffle = True, num_workers = 0, drop_last = True)\n",
    "testloader = test_loader()\n",
    "testLoader = torch.utils.data.DataLoader(testloader, batch_size = ARGS['batch_size'], shuffle = True, num_workers = 0, drop_last = True)\n",
    "\n",
    "## Search for the exist models\n",
    "modelfiles = glob.glob('%s/model_0*.model'%model_save_path)\n",
    "modelfiles.sort()\n",
    "\n",
    "## Otherwise, system will try to start from the saved model&epoch\n",
    "if len(modelfiles) >= 1:\n",
    "\tprint(\"Model %s loaded from previous state!\"%modelfiles[-1])\n",
    "\tepoch = int(os.path.splitext(os.path.basename(modelfiles[-1]))[0][6:]) + 1\n",
    "\ts = RegressorModel(ARGS)\n",
    "\ts.load_parameters(modelfiles[-1])\n",
    "## Otherwise, system will train from scratch\n",
    "else:\n",
    "\tepoch = 1\n",
    "\ts = RegressorModel(ARGS)\n",
    "\n",
    "pr = []\n",
    "eval_pr = []\n",
    "score_file = open(score_save_path, \"a+\")\n",
    "\n",
    "while(1):\n",
    "\t## Training for one epoch\n",
    "\tloss, lr = s.train_network(epoch = epoch, loader = trainLoader)\n",
    "\n",
    "\t## Evaluation every [test_step] epochs\n",
    "\tif epoch % 1 == 0:\n",
    "\t\ts.save_parameters(model_save_path + \"/model_%04d.model\"%epoch)\n",
    "\t\tpr.append(s.eval_network(valLoader))\n",
    "\t\tprint(time.strftime(\"%Y-%m-%d %H:%M:%S\"), \"%d epoch, Pearson_R %2.2f%%, bestPearson_R %2.2f%%\"%(epoch, pr[-1], max(pr)))\n",
    "\t\tscore_file.write(\"%d epoch, LR %f, LOSS %f, Pearson_R %2.2f%%, bestPearson_R %2.2f%%\\n\"%(epoch, lr, loss, pr[-1], max(pr)))\n",
    "\t\tscore_file.flush()\n",
    "\t\tif pr[-1] == max(pr) :\n",
    "\t\t\ts.save_parameters(model_save_path + \"/model_best.model\")\n",
    "\t\t\teval_pr.append(s.eval_network(testLoader))\n",
    "\t\t\tprint(time.strftime(\"%Y-%m-%d %H:%M:%S\"), \"%d epoch, Eval_Pearson_R %2.2f%%, Best_Eval_Pearson_R %2.2f%%\"%(epoch, eval_pr[-1], max(eval_pr)))\n",
    "\t\t\tscore_file.write(\"%d epoch, LR %f, LOSS %f, Pearson_R %2.2f%%, Best_Eval_Pearson_R %2.2f%%\\n\"%(epoch, lr, loss, eval_pr[-1], max(eval_pr)))\n",
    "\t\t\tscore_file.flush()\n",
    "\n",
    "\tif epoch >= ARGS['epochs']:\n",
    "\t\tquit()\n",
    "\n",
    "\tepoch += 1\n"
   ]
  },
  {
   "cell_type": "code",
   "execution_count": null,
   "metadata": {
    "id": "zp22H950YtNt"
   },
   "outputs": [],
   "source": []
  },
  {
   "cell_type": "markdown",
   "metadata": {
    "id": "ArD-gBiIjgYD"
   },
   "source": [
    "## Read testing data"
   ]
  },
  {
   "cell_type": "code",
   "execution_count": null,
   "metadata": {
    "colab": {
     "base_uri": "https://localhost:8080/",
     "height": 188
    },
    "id": "veXsv1c0KPx_",
    "outputId": "67380147-647a-4321-a715-7679bc7c5e65"
   },
   "outputs": [
    {
     "ename": "NameError",
     "evalue": "ignored",
     "output_type": "error",
     "traceback": [
      "\u001b[0;31m---------------------------------------------------------------------------\u001b[0m",
      "\u001b[0;31mNameError\u001b[0m                                 Traceback (most recent call last)",
      "\u001b[0;32m<ipython-input-2-09be30d93a07>\u001b[0m in \u001b[0;36m<module>\u001b[0;34m\u001b[0m\n\u001b[1;32m      1\u001b[0m \u001b[0;32mimport\u001b[0m \u001b[0mos\u001b[0m\u001b[0;34m\u001b[0m\u001b[0;34m\u001b[0m\u001b[0m\n\u001b[0;32m----> 2\u001b[0;31m \u001b[0mos\u001b[0m\u001b[0;34m.\u001b[0m\u001b[0msystem\u001b[0m\u001b[0;34m(\u001b[0m\u001b[0;34m'wget -cx '\u001b[0m \u001b[0;34m+\u001b[0m \u001b[0mARGS\u001b[0m\u001b[0;34m[\u001b[0m\u001b[0;34m'remote_test_data'\u001b[0m\u001b[0;34m]\u001b[0m\u001b[0;34m)\u001b[0m\u001b[0;34m\u001b[0m\u001b[0;34m\u001b[0m\u001b[0m\n\u001b[0m",
      "\u001b[0;31mNameError\u001b[0m: name 'ARGS' is not defined"
     ]
    }
   ],
   "source": [
    "import os\n",
    "os.system('wget -cx ' + ARGS['remote_test_data'])"
   ]
  },
  {
   "cell_type": "code",
   "execution_count": null,
   "metadata": {
    "colab": {
     "base_uri": "https://localhost:8080/"
    },
    "id": "ZAaoU0rwKbIE",
    "outputId": "d8e69ffd-9b3d-4df7-f076-5d5f62f90d08"
   },
   "outputs": [
    {
     "name": "stdout",
     "output_type": "stream",
     "text": [
      "test dataset size: 71103\n"
     ]
    }
   ],
   "source": [
    "df = pd.read_csv(ARGS['local_test_data'], compression = 'gzip', sep = '\\t', header = None)\n",
    "df.columns = ['dna', 'expression']\n",
    "df['dna'] = df['dna'].astype('string')\n",
    "df['dna0'] = df['dna']\n",
    "print('test dataset size: %d' % len(df))"
   ]
  },
  {
   "cell_type": "code",
   "execution_count": null,
   "metadata": {
    "colab": {
     "base_uri": "https://localhost:8080/"
    },
    "id": "PxfUTp-KHR7U",
    "outputId": "0630852a-77c9-49f8-8f8c-2a7e89a440e3"
   },
   "outputs": [
    {
     "name": "stdout",
     "output_type": "stream",
     "text": [
      "min len: 110\n",
      "max len: 110\n"
     ]
    },
    {
     "data": {
      "image/png": "[encoded data removed]",
      "text/plain": [
       "<Figure size 432x288 with 1 Axes>"
      ]
     },
     "metadata": {
      "needs_background": "light"
     },
     "output_type": "display_data"
    }
   ],
   "source": [
    "df['len'] = df['dna'].str.len()\n",
    "plt.hist(df['len'])\n",
    "print('min len: {}'.format(df['len'].min()))\n",
    "print('max len: {}'.format(df['len'].max()))"
   ]
  },
  {
   "cell_type": "code",
   "execution_count": null,
   "metadata": {
    "colab": {
     "base_uri": "https://localhost:8080/"
    },
    "id": "dD49DoSqLBUF",
    "outputId": "8d18a5bb-3a4c-441e-9d0b-77dd0409aae1"
   },
   "outputs": [
    {
     "name": "stdout",
     "output_type": "stream",
     "text": [
      "number of unique sequences in the first 17 positions: 1\n",
      "number of unique sequences in the last 13 positions: 1\n"
     ]
    }
   ],
   "source": [
    "print('number of unique sequences in the first {} positions: {}'.format(ARGS['head_len'], len(df['dna'].str[:ARGS['head_len']].unique())))\n",
    "print('number of unique sequences in the last {} positions: {}'.format(ARGS['tail_len'], len(df['dna'].str[-ARGS['tail_len']:].unique())))"
   ]
  },
  {
   "cell_type": "code",
   "execution_count": null,
   "metadata": {
    "id": "5DinLJpsD-VH"
   },
   "outputs": [],
   "source": [
    "df['dna'] = df['dna'].str[ARGS['head_len']:]\n",
    "df['dna'] = df['dna'].str[:-ARGS['tail_len']]"
   ]
  },
  {
   "cell_type": "code",
   "execution_count": null,
   "metadata": {
    "colab": {
     "base_uri": "https://localhost:8080/"
    },
    "id": "xC_9TprOF7h0",
    "outputId": "e9191f8b-fcd0-4212-f116-787f458fafa0"
   },
   "outputs": [
    {
     "name": "stdout",
     "output_type": "stream",
     "text": [
      "min len: 80\n",
      "max len: 80\n"
     ]
    },
    {
     "data": {
      "image/png": "[encoded data removed]",
      "text/plain": [
       "<Figure size 432x288 with 1 Axes>"
      ]
     },
     "metadata": {
      "needs_background": "light"
     },
     "output_type": "display_data"
    }
   ],
   "source": [
    "df['len'] = df['dna'].str.len()\n",
    "plt.hist(df['len'])\n",
    "print('min len: {}'.format(df['len'].min()))\n",
    "print('max len: {}'.format(df['len'].max()))"
   ]
  },
  {
   "cell_type": "code",
   "execution_count": null,
   "metadata": {
    "id": "TY-qUq68Kf77"
   },
   "outputs": [],
   "source": [
    "assert all(df['len'] <= ARGS['max_width'])"
   ]
  },
  {
   "cell_type": "code",
   "execution_count": null,
   "metadata": {
    "id": "Mh7hqqG5K1J8"
   },
   "outputs": [],
   "source": [
    "df['dna'] = df['dna'].str.pad(width = ARGS['max_width'], side = 'both', fillchar = 'N')\n",
    "df['dna'] = df['dna'] + df['dna'].apply(lambda x: str(Seq(x).reverse_complement())).astype('string')"
   ]
  },
  {
   "cell_type": "code",
   "execution_count": null,
   "metadata": {
    "id": "siz7Lbd3jgYG"
   },
   "outputs": [],
   "source": [
    "#input_dim = int(5) # A,C,G,T,N\n",
    "input_dim = int(6) # A,C,G,T,N,M\n",
    "n_positions = ARGS['max_width'] * 2"
   ]
  },
  {
   "cell_type": "code",
   "execution_count": null,
   "metadata": {
    "colab": {
     "base_uri": "https://localhost:8080/"
    },
    "id": "o7kPkdY3K8X0",
    "outputId": "fee2a033-957a-4067-c0a3-9c0366384752"
   },
   "outputs": [
    {
     "name": "stdout",
     "output_type": "stream",
     "text": [
      "# positions=200\n"
     ]
    }
   ],
   "source": [
    "n_positions = int(ARGS['max_width'] * 2)\n",
    "print('# positions=%d' % (n_positions))"
   ]
  },
  {
   "cell_type": "code",
   "execution_count": null,
   "metadata": {
    "colab": {
     "base_uri": "https://localhost:8080/"
    },
    "id": "lREKXNHuLDA9",
    "outputId": "d57ff3c1-68a7-4544-e3fa-29c83ca83187"
   },
   "outputs": [
    {
     "name": "stdout",
     "output_type": "stream",
     "text": [
      "(7111, 200)\n",
      "(7111, 200)\n",
      "(7111, 200)\n",
      "(7110, 200)\n",
      "(7110, 200)\n",
      "(7110, 200)\n",
      "(7110, 200)\n",
      "(7110, 200)\n",
      "(7110, 200)\n",
      "(7110, 200)\n"
     ]
    }
   ],
   "source": [
    "dna = np.empty((0, n_positions), np.uint8)\n",
    "for x in np.array_split(df['dna'], 10): # split data into chunks\n",
    "  y = np.array(x.apply(list))\n",
    "  y = np.vstack(y)\n",
    "  y = np.vectorize(ARGS['alphabets'].get)(y)\n",
    "  y = y.astype(np.uint8)\n",
    "  print(y.shape)\n",
    "  dna = np.append(dna, y, axis = 0)"
   ]
  },
  {
   "cell_type": "code",
   "execution_count": null,
   "metadata": {
    "id": "CRrmdcsSzlj4"
   },
   "outputs": [],
   "source": [
    "base = np.zeros(dna.shape, dtype = np.uint8)\n",
    "base[dna == 4] = 0 #\n",
    "base[(dna == 0) | (dna == 2)] = 1 # A/G\n",
    "base[(dna == 1) | (dna == 3)] = 2 # C/T"
   ]
  },
  {
   "cell_type": "code",
   "execution_count": null,
   "metadata": {
    "colab": {
     "base_uri": "https://localhost:8080/"
    },
    "id": "MLaEYm4PLMp1",
    "outputId": "d2d8494a-07f5-4f41-d749-477b53be2f9c"
   },
   "outputs": [
    {
     "data": {
      "text/plain": [
       "{'seq': TensorSpec(shape=(200,), dtype=tf.uint8, name=None),\n",
       " 'expression': TensorSpec(shape=(), dtype=tf.float32, name=None),\n",
       " 'base': TensorSpec(shape=(200,), dtype=tf.uint8, name=None)}"
      ]
     },
     "execution_count": 100,
     "metadata": {},
     "output_type": "execute_result"
    }
   ],
   "source": [
    "ds = tf.data.Dataset.from_tensor_slices({\n",
    "  'seq' : dna,\n",
    "  'expression' : tf.zeros([len(df)]),\n",
    "  'base' : base,\n",
    "})\n",
    "ds.element_spec"
   ]
  },
  {
   "cell_type": "markdown",
   "metadata": {
    "id": "9FnLlgwJKQ7-"
   },
   "source": [
    "## Prediction"
   ]
  },
  {
   "cell_type": "code",
   "execution_count": null,
   "metadata": {
    "colab": {
     "base_uri": "https://localhost:8080/"
    },
    "id": "GJhPSCiRKPX7",
    "outputId": "50592492-de53-47f0-aac3-c24129cbfb4d"
   },
   "outputs": [
    {
     "data": {
      "text/plain": [
       "<tensorflow.python.training.tracking.util.CheckpointLoadStatus at 0x7fe868978310>"
      ]
     },
     "execution_count": 102,
     "metadata": {},
     "output_type": "execute_result"
    }
   ],
   "source": [
    "model.load_weights(ARGS['local_checkpoint_dir'])"
   ]
  },
  {
   "cell_type": "code",
   "execution_count": null,
   "metadata": {
    "colab": {
     "base_uri": "https://localhost:8080/"
    },
    "id": "JMnvDzXWtrVs",
    "outputId": "f39ec8f0-b945-47fd-9f26-2e1c7d327488"
   },
   "outputs": [
    {
     "name": "stdout",
     "output_type": "stream",
     "text": [
      "138/139 [============================>.] - ETA: 0s"
     ]
    }
   ],
   "source": [
    "expression = []\n",
    "pbar = keras.utils.Progbar(len(ds.batch(ARGS['batch_size'])))\n",
    "for step, batch in enumerate(ds.batch(ARGS['batch_size'])):\n",
    "  pbar.update(step)\n",
    "  expression_pred, _ = model(batch)\n",
    "  expression.append(expression_pred)\n",
    "expression = tf.concat(expression, axis = 0)"
   ]
  },
  {
   "cell_type": "code",
   "execution_count": null,
   "metadata": {
    "id": "42FU_zm_uYrW"
   },
   "outputs": [],
   "source": [
    "df['expression'] = expression.numpy()"
   ]
  },
  {
   "cell_type": "code",
   "execution_count": null,
   "metadata": {
    "colab": {
     "base_uri": "https://localhost:8080/"
    },
    "id": "pM6G_VO0GsAL",
    "outputId": "adf5bb9f-3f95-4e23-a811-c1e2e8e44047"
   },
   "outputs": [
    {
     "name": "stdout",
     "output_type": "stream",
     "text": [
      "mean predicted expression: 0.29278337955474854\n",
      "std predicted expression: 1.0623327493667603\n"
     ]
    }
   ],
   "source": [
    "print('mean predicted expression: {}'.format(df['expression'].mean()))\n",
    "print('std predicted expression: {}'.format(df['expression'].std()))"
   ]
  },
  {
   "cell_type": "code",
   "execution_count": null,
   "metadata": {
    "colab": {
     "base_uri": "https://localhost:8080/"
    },
    "id": "l894HCQ7OVj8",
    "outputId": "d9c567bf-d352-4517-fdab-8a4c319fe583"
   },
   "outputs": [
    {
     "data": {
      "image/png": "[encoded data removed]",
      "text/plain": [
       "<Figure size 432x288 with 1 Axes>"
      ]
     },
     "metadata": {
      "needs_background": "light"
     },
     "output_type": "display_data"
    }
   ],
   "source": [
    "p = plt.hist(df['expression'], bins = 100)"
   ]
  },
  {
   "cell_type": "markdown",
   "metadata": {
    "id": "19E3HT1ESJ4A"
   },
   "source": [
    "## Prepare submission file"
   ]
  },
  {
   "cell_type": "code",
   "execution_count": null,
   "metadata": {
    "colab": {
     "base_uri": "https://localhost:8080/"
    },
    "id": "1k--o7NCg8oz",
    "outputId": "fed10846-0229-4e83-edd4-04bc8b17b2fd"
   },
   "outputs": [
    {
     "name": "stdout",
     "output_type": "stream",
     "text": [
      "Model: \"regressor_1\"\n",
      "_________________________________________________________________\n",
      "Layer (type)                 Output Shape              Param #   \n",
      "=================================================================\n",
      "sequence_mask_layer_2 (Seque multiple                  0 (unused)\n",
      "_________________________________________________________________\n",
      "embedding_2 (Embedding)      multiple                  102400    \n",
      "_________________________________________________________________\n",
      "embedding_3 (Embedding)      multiple                  1024      \n",
      "_________________________________________________________________\n",
      "dense_26 (Dense)             multiple                  1024      \n",
      "_________________________________________________________________\n",
      "dense_27 (Dense)             multiple                  31232     \n",
      "_________________________________________________________________\n",
      "sequential_29 (Sequential)   (None, 232, 512)          47286272  \n",
      "_________________________________________________________________\n",
      "dropout_49 (Dropout)         multiple                  0         \n",
      "_________________________________________________________________\n",
      "dense_44 (Dense)             multiple                  513       \n",
      "_________________________________________________________________\n",
      "dense_45 (Dense)             multiple                  3078      \n",
      "=================================================================\n",
      "Total params: 47,425,543\n",
      "Trainable params: 47,425,543\n",
      "Non-trainable params: 0\n",
      "_________________________________________________________________\n"
     ]
    }
   ],
   "source": [
    "model.summary()"
   ]
  },
  {
   "cell_type": "markdown",
   "metadata": {
    "id": "Mr9rV0nDWx2u"
   },
   "source": [
    "Modified from https://github.com/de-Boer-Lab/DREAM-2022/blob/main/How%20to%20submit%20predictions%20to%20the%20public%20leaderboard.pdf"
   ]
  },
  {
   "cell_type": "code",
   "execution_count": null,
   "metadata": {
    "colab": {
     "base_uri": "https://localhost:8080/"
    },
    "id": "BYr7HS0iSL32",
    "outputId": "58235dee-3aeb-4556-b890-9b5e4798fbe5"
   },
   "outputs": [
    {
     "name": "stderr",
     "output_type": "stream",
     "text": [
      "--2022-08-07 17:32:22--  https://raw.githubusercontent.com/de-Boer-Lab/DREAM-2022/main/sample_submission.json\n",
      "Resolving raw.githubusercontent.com (raw.githubusercontent.com)... 185.199.110.133, 185.199.108.133, 185.199.109.133, ...\n",
      "Connecting to raw.githubusercontent.com (raw.githubusercontent.com)|185.199.110.133|:443... connected.\n",
      "HTTP request sent, awaiting response... 416 Range Not Satisfiable\n",
      "\n",
      "    The file is already fully retrieved; nothing to do.\n",
      "\n"
     ]
    },
    {
     "data": {
      "text/plain": [
       "0"
      ]
     },
     "execution_count": 111,
     "metadata": {},
     "output_type": "execute_result"
    }
   ],
   "source": [
    "os.system('wget -cx ' + ARGS['remote_sample_submission_file'])"
   ]
  },
  {
   "cell_type": "code",
   "execution_count": null,
   "metadata": {
    "id": "TM86DEDHSRPg"
   },
   "outputs": [],
   "source": [
    "with open(ARGS['local_sample_submission_file'], 'r') as f:\n",
    "  ground = json.load(f)"
   ]
  },
  {
   "cell_type": "code",
   "execution_count": null,
   "metadata": {
    "id": "KBD_KIirSYad"
   },
   "outputs": [],
   "source": [
    "indices = np.array([int(indice) for indice in list(ground.keys())])"
   ]
  },
  {
   "cell_type": "code",
   "execution_count": null,
   "metadata": {
    "id": "KM5aQCeYSYf7"
   },
   "outputs": [],
   "source": [
    "PRED_DATA = OrderedDict()\n",
    "Y_Pred = df['expression'].to_numpy()"
   ]
  },
  {
   "cell_type": "code",
   "execution_count": null,
   "metadata": {
    "id": "-JOyfzpgTBT9"
   },
   "outputs": [],
   "source": [
    "for i in indices:\n",
    "  PRED_DATA[str(i)] = float(Y_Pred[i])"
   ]
  },
  {
   "cell_type": "code",
   "execution_count": null,
   "metadata": {
    "id": "94ub4d1qVlv0"
   },
   "outputs": [],
   "source": [
    "local_prediction_dir = re.sub('(.+/)..+', '\\\\1', ARGS['local_prediction_file'])\n",
    "if not os.path.exists(local_prediction_dir):\n",
    "  os.makedirs(local_prediction_dir)\n",
    "  print('creating {}'.format(local_prediction_dir))"
   ]
  },
  {
   "cell_type": "code",
   "execution_count": null,
   "metadata": {
    "colab": {
     "base_uri": "https://localhost:8080/"
    },
    "id": "tVP8DI4HTTNY",
    "outputId": "83630539-6df7-4bc8-f623-7f875ad15666"
   },
   "outputs": [
    {
     "name": "stdout",
     "output_type": "stream",
     "text": [
      "writing ./s3.msi.umn.edu/gongx030/projects/dream_PGE/predictions/m20220727e/pred.json\n"
     ]
    }
   ],
   "source": [
    "with open(ARGS['local_prediction_file'], 'w') as f:\n",
    "  json.dump(PRED_DATA, f)\n",
    "print('writing {}'.format(ARGS['local_prediction_file']))"
   ]
  },
  {
   "cell_type": "markdown",
   "metadata": {
    "id": "uZWiJ3TPNcdC"
   },
   "source": [
    "Only if the notebook runs on MSI, otherwise, ignore this cell."
   ]
  },
  {
   "cell_type": "code",
   "execution_count": null,
   "metadata": {
    "id": "Mc91PmIJWRoK"
   },
   "outputs": [],
   "source": [
    "!s3cmd sync {ARGS['local_prediction_file']} {ARGS['s3_prediction_file']}\n",
    "!s3cmd setacl -P {ARGS['s3_prediction_file']}"
   ]
  },
  {
   "cell_type": "code",
   "execution_count": null,
   "metadata": {
    "colab": {
     "base_uri": "https://localhost:8080/"
    },
    "id": "CUsACX1WWiND",
    "outputId": "a50324f1-2df8-4458-b836-9da188e23b11"
   },
   "outputs": [
    {
     "name": "stdout",
     "output_type": "stream",
     "text": [
      "prediction file: https://s3.msi.umn.edu/gongx030/projects/dream_PGE/predictions/m20220727e/pred.json\n"
     ]
    }
   ],
   "source": [
    "print('prediction file: {}'.format(ARGS['remote_prediction_file']))"
   ]
  },
  {
   "cell_type": "code",
   "execution_count": null,
   "metadata": {
    "id": "SiZ9hbVXaAx3"
   },
   "outputs": [],
   "source": [
    "df[['dna0', 'expression']].to_csv(ARGS['local_prediction_tsv_file'], header = False, sep = '\\t', index = False)"
   ]
  },
  {
   "cell_type": "code",
   "execution_count": null,
   "metadata": {
    "id": "CkL8h8FGadY6"
   },
   "outputs": [],
   "source": [
    "!s3cmd sync {ARGS['local_prediction_tsv_file']} {ARGS['s3_prediction_tsv_file']}\n",
    "!s3cmd setacl -P {ARGS['s3_prediction_tsv_file']}"
   ]
  },
  {
   "cell_type": "code",
   "execution_count": null,
   "metadata": {
    "colab": {
     "base_uri": "https://localhost:8080/"
    },
    "id": "sQX_3risahNN",
    "outputId": "1405c624-34b0-4903-a418-f2439d229979"
   },
   "outputs": [
    {
     "name": "stdout",
     "output_type": "stream",
     "text": [
      "prediction file(tsv): https://s3.msi.umn.edu/gongx030/projects/dream_PGE/predictions/m20220727e/pred.tsv\n"
     ]
    }
   ],
   "source": [
    "print('prediction file(tsv): {}'.format(ARGS['remote_prediction_tsv_file']))"
   ]
  },
  {
   "cell_type": "markdown",
   "metadata": {
    "id": "h6z-1F1D4owK"
   },
   "source": [
    "# SessionInfo"
   ]
  },
  {
   "cell_type": "code",
   "execution_count": null,
   "metadata": {
    "colab": {
     "base_uri": "https://localhost:8080/",
     "height": 34
    },
    "id": "53wVoagb4tD8",
    "outputId": "74fa0970-dc30-492f-9cc9-76ce90418ec9"
   },
   "outputs": [
    {
     "data": {
      "text/html": [
       "<details>\n",
       "<summary>Click to view session information</summary>\n",
       "<pre>\n",
       "-----\n",
       "Bio                         1.79\n",
       "keras                       2.6.0\n",
       "matplotlib                  3.5.2\n",
       "numpy                       1.19.5\n",
       "pandas                      1.3.5\n",
       "scipy                       1.7.3\n",
       "session_info                1.0.0\n",
       "sklearn                     1.0.2\n",
       "tensorflow                  2.6.0\n",
       "tensorflow_probability      0.14.1\n",
       "-----\n",
       "</pre>\n",
       "<details>\n",
       "<summary>Click to view modules imported as dependencies</summary>\n",
       "<pre>\n",
       "2f7ece400a652629565c523b34ee61b04afa385c    NA\n",
       "PIL                                         9.2.0\n",
       "absl                                        NA\n",
       "astunparse                                  1.6.3\n",
       "backcall                                    0.2.0\n",
       "beta_ufunc                                  NA\n",
       "binom_ufunc                                 NA\n",
       "cached_property                             1.5.2\n",
       "certifi                                     2022.06.15\n",
       "cffi                                        1.15.1\n",
       "charset_normalizer                          2.1.0\n",
       "cloudpickle                                 2.1.0\n",
       "cycler                                      0.10.0\n",
       "cython_runtime                              NA\n",
       "dateutil                                    2.8.2\n",
       "debugpy                                     1.6.2\n",
       "decorator                                   5.1.1\n",
       "defusedxml                                  0.7.1\n",
       "entrypoints                                 0.4\n",
       "flatbuffers                                 NA\n",
       "gast                                        NA\n",
       "google                                      NA\n",
       "h5py                                        3.1.0\n",
       "idna                                        3.3\n",
       "importlib_metadata                          NA\n",
       "ipykernel                                   6.15.1\n",
       "ipython_genutils                            0.2.0\n",
       "jedi                                        0.18.1\n",
       "jinja2                                      3.1.2\n",
       "joblib                                      1.1.0\n",
       "keras_preprocessing                         1.1.2\n",
       "kiwisolver                                  1.4.4\n",
       "markupsafe                                  2.1.1\n",
       "matplotlib_inline                           NA\n",
       "mpl_toolkits                                NA\n",
       "nbinom_ufunc                                NA\n",
       "opt_einsum                                  v3.3.0\n",
       "packaging                                   21.3\n",
       "parso                                       0.8.3\n",
       "pexpect                                     4.8.0\n",
       "pickleshare                                 0.7.5\n",
       "pkg_resources                               NA\n",
       "prompt_toolkit                              3.0.30\n",
       "psutil                                      5.9.1\n",
       "ptyprocess                                  0.7.0\n",
       "pydev_ipython                               NA\n",
       "pydevconsole                                NA\n",
       "pydevd                                      2.8.0\n",
       "pydevd_file_utils                           NA\n",
       "pydevd_plugins                              NA\n",
       "pydevd_tracing                              NA\n",
       "pygments                                    2.12.0\n",
       "pyparsing                                   3.0.9\n",
       "pytz                                        2022.1\n",
       "requests                                    2.28.1\n",
       "setuptools                                  63.2.0\n",
       "six                                         1.15.0\n",
       "storemagic                                  NA\n",
       "tensorboard                                 2.9.1\n",
       "termcolor                                   1.1.0\n",
       "threadpoolctl                               3.1.0\n",
       "tmp2xi5csl9                                 NA\n",
       "tmp9rv1w0t_                                 NA\n",
       "tmpbaeatp84                                 NA\n",
       "tornado                                     6.2\n",
       "traitlets                                   5.3.0\n",
       "tree                                        0.1.7\n",
       "typing_extensions                           NA\n",
       "urllib3                                     1.26.11\n",
       "wcwidth                                     0.2.5\n",
       "wrapt                                       1.12.1\n",
       "zipp                                        NA\n",
       "zmq                                         23.2.0\n",
       "</pre>\n",
       "</details> <!-- seems like this ends pre, so might as well be explicit -->\n",
       "<pre>\n",
       "-----\n",
       "IPython             7.34.0\n",
       "jupyter_client      7.3.4\n",
       "jupyter_core        4.11.1\n",
       "notebook            6.4.12\n",
       "-----\n",
       "Python 3.7.12 | packaged by conda-forge | (default, Oct 26 2021, 06:08:21) [GCC 9.4.0]\n",
       "Linux-3.10.0-1160.71.1.el7.x86_64-x86_64-with-centos-7.9.2009-Core\n",
       "-----\n",
       "Session information updated at 2022-08-07 17:32\n",
       "</pre>\n",
       "</details>"
      ],
      "text/plain": [
       "<IPython.core.display.HTML object>"
      ]
     },
     "execution_count": 123,
     "metadata": {},
     "output_type": "execute_result"
    }
   ],
   "source": [
    "session_info.show()"
   ]
  },
  {
   "cell_type": "code",
   "execution_count": null,
   "metadata": {
    "id": "tFWCf4x-5bTE"
   },
   "outputs": [],
   "source": []
  }
 ],
 "metadata": {
  "accelerator": "GPU",
  "colab": {
   "machine_shape": "hm",
   "provenance": []
  },
  "gpuClass": "premium",
  "kernelspec": {
   "display_name": "Python 3 (ipykernel)",
   "language": "python",
   "name": "python3"
  },
  "language_info": {
   "codemirror_mode": {
    "name": "ipython",
    "version": 3
   },
   "file_extension": ".py",
   "mimetype": "text/x-python",
   "name": "python",
   "nbconvert_exporter": "python",
   "pygments_lexer": "ipython3",
   "version": "3.8.8"
  }
 },
 "nbformat": 4,
 "nbformat_minor": 1
}
