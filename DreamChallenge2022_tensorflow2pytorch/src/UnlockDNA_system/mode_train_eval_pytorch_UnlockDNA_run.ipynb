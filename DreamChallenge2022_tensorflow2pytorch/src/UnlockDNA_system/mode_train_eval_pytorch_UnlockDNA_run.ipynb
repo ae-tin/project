{
 "cells": [
  {
   "cell_type": "markdown",
   "metadata": {
    "id": "M0jDe-m_5aq4"
   },
   "source": [
    "# Model training"
   ]
  },
  {
   "cell_type": "markdown",
   "metadata": {
    "id": "wH9oF2RleEYl"
   },
   "source": [
    "## Load Python packages"
   ]
  },
  {
   "cell_type": "code",
   "execution_count": 1,
   "metadata": {
    "id": "XamZpd5EeGHR"
   },
   "outputs": [],
   "source": [
    "import numpy as np\n",
    "from scipy import stats\n",
    "import session_info\n",
    "import pdb\n",
    "from sklearn.metrics import r2_score\n",
    "import shutil\n",
    "import pandas as pd\n",
    "import re\n",
    "import os\n",
    "from Bio.Seq import Seq\n",
    "import gc\n",
    "import matplotlib.pyplot as plt\n",
    "import datetime\n",
    "import socket\n",
    "import time\n",
    "import json\n",
    "from collections import OrderedDict\n",
    "import random as python_random"
   ]
  },
  {
   "cell_type": "code",
   "execution_count": 2,
   "metadata": {
    "id": "w9lA5-iVI0d6"
   },
   "outputs": [],
   "source": [
    "import numpy as np\n",
    "import torch\n",
    "import torch.nn as nn\n",
    "import torch.nn.functional as F\n",
    "from torch import Tensor\n",
    "from torch.nn.parameter import Parameter\n",
    "import math\n",
    "import pickle as pk\n",
    "import sys"
   ]
  },
  {
   "cell_type": "markdown",
   "metadata": {
    "id": "hl2lXOAv9ljx"
   },
   "source": [
    "## Parameters"
   ]
  },
  {
   "cell_type": "code",
   "execution_count": 3,
   "metadata": {
    "id": "D0pjVLfcfMl7"
   },
   "outputs": [],
   "source": [
    "RUNTIME = 'none'\n",
    "ARGS = {\n",
    "  'model_id' : 'm20220727e',\n",
    "  'global_seed' : 123,\n",
    "  'shuffle_size' : 1000,\n",
    "  'max_width' : 100,\n",
    "  'head_len' : 17,\n",
    "  'tail_len' : 13,\n",
    "  'pct_ds' : 1, # % of total data for training/testing,\n",
    "  'train_split' : 0.95,\n",
    "  'alphabets' : {'A' : 0, 'C' : 1, 'G' : 2, 'T' : 3, 'N' : 4, 'M' : 5},\n",
    "  'initial_lr' : 1e-15,\n",
    "  'max_lr' : 23e-5,\n",
    "  'initial_epoch': 0,\n",
    "  'epochs' : 20,\n",
    "  'batch_size' : 512,\n",
    "  'dropout_rate' : 0.1,\n",
    "  'kmer': 10,\n",
    "  'strides' : 1,\n",
    "  'embedding_dim' : 512,\n",
    "  'num_heads' : 8,\n",
    "  'ff_mult' : 4,\n",
    "  'num_projectors' : 32,\n",
    "  'n_blocks_regressor' : 4,\n",
    "  'warmup_steps' : 12500, # ~ 1 epoch\n",
    "  'mask_ratio' : 0.05,\n",
    "  'remote_sample_submission_file' : 'https://raw.githubusercontent.com/de-Boer-Lab/DREAM-2022/main/sample_submission.json',\n",
    "  'eval' : False,\n",
    "  'device':'cuda:1',\n",
    "  'local_data_dir' : '/Data1/PGE/torch_ti/data/'\n",
    "}"
   ]
  },
  {
   "cell_type": "code",
   "execution_count": 4,
   "metadata": {
    "id": "ZhZvwWifIpzY"
   },
   "outputs": [],
   "source": [
    "with open(ARGS['local_data_dir']+\"data.pk\",\"rb\") as fr:\n",
    "    data = pk.load(fr)"
   ]
  },
  {
   "cell_type": "markdown",
   "metadata": {
    "id": "5i5XrE1H2Iwq"
   },
   "source": [
    "### Set seeds"
   ]
  },
  {
   "cell_type": "code",
   "execution_count": 5,
   "metadata": {
    "id": "5LTFxNSIWQID"
   },
   "outputs": [],
   "source": [
    "np.random.seed(ARGS['global_seed'])\n",
    "torch.manual_seed(ARGS['global_seed'])\n",
    "python_random.seed(ARGS['global_seed'])"
   ]
  },
  {
   "cell_type": "markdown",
   "metadata": {
    "id": "oPZLHuW06Tcm"
   },
   "source": [
    "### pearson_r"
   ]
  },
  {
   "cell_type": "code",
   "execution_count": 6,
   "metadata": {
    "id": "bDou1j1A6S2j"
   },
   "outputs": [],
   "source": [
    "def pearson_r(x, y):\n",
    "    x = torch.tensor(x,dtype=torch.float32)\n",
    "    y = torch.tensor(y,dtype=torch.float32)\n",
    "    mx = torch.mean(x, axis = 0, keepdims = True)\n",
    "    my = torch.mean(y, axis = 0, keepdims = True)\n",
    "    xm = x - mx\n",
    "    ym = y - my\n",
    "    t1_norm = F.normalize(xm, p=2, dim=0)\n",
    "    t2_norm = F.normalize(ym, p=2, dim=0)\n",
    "    return torch.sum(torch.mul(t1_norm, t2_norm))"
   ]
  },
  {
   "cell_type": "code",
   "execution_count": 7,
   "metadata": {
    "colab": {
     "base_uri": "https://localhost:8080/"
    },
    "id": "4E4kvC_v6oYG",
    "outputId": "53ce49be-7138-490b-ba8f-85a92dc3592e"
   },
   "outputs": [
    {
     "name": "stdout",
     "output_type": "stream",
     "text": [
      "pearson r (stats.pearsonr): -0.09270195576139685\n",
      "pearson r (pearson_r): -0.09270194172859192\n"
     ]
    },
    {
     "name": "stderr",
     "output_type": "stream",
     "text": [
      "/tmp/ipykernel_4574/2976460682.py:2: UserWarning: To copy construct from a tensor, it is recommended to use sourceTensor.clone().detach() or sourceTensor.clone().detach().requires_grad_(True), rather than torch.tensor(sourceTensor).\n",
      "  x = torch.tensor(x,dtype=torch.float32)\n",
      "/tmp/ipykernel_4574/2976460682.py:3: UserWarning: To copy construct from a tensor, it is recommended to use sourceTensor.clone().detach() or sourceTensor.clone().detach().requires_grad_(True), rather than torch.tensor(sourceTensor).\n",
      "  y = torch.tensor(y,dtype=torch.float32)\n"
     ]
    }
   ],
   "source": [
    "x = np.random.rand(100)\n",
    "y = np.random.rand(100)\n",
    "print('pearson r (stats.pearsonr): {}'.format(stats.pearsonr(x, y)[0]))\n",
    "print('pearson r (pearson_r): {}'.format(pearson_r(torch.unsqueeze(torch.Tensor(x),1), torch.unsqueeze(torch.Tensor(y),1))))"
   ]
  },
  {
   "cell_type": "markdown",
   "metadata": {
    "id": "jGFLv3peCCKS"
   },
   "source": [
    "## Read data"
   ]
  },
  {
   "cell_type": "code",
   "execution_count": 8,
   "metadata": {
    "colab": {
     "base_uri": "https://localhost:8080/"
    },
    "id": "VbU-MCtK1B7k",
    "outputId": "3129bc87-a86a-49c5-b203-fa4af6e201ce"
   },
   "outputs": [
    {
     "name": "stdout",
     "output_type": "stream",
     "text": [
      "downsampled dataset size: 6737568\n",
      "training dataset size: 6400689\n"
     ]
    }
   ],
   "source": [
    "n = int(len(data['seq']))\n",
    "n_train = int(n * ARGS['train_split'])\n",
    "print('downsampled dataset size: %d' % (n))\n",
    "print('training dataset size: %d' % (n_train))"
   ]
  },
  {
   "cell_type": "code",
   "execution_count": 9,
   "metadata": {
    "colab": {
     "base_uri": "https://localhost:8080/"
    },
    "id": "zQBqfMrpCCKT",
    "outputId": "51b10fec-522a-42f8-d692-4fa9e8eb19b5"
   },
   "outputs": [
    {
     "name": "stdout",
     "output_type": "stream",
     "text": [
      "# training samples: 6400689\n",
      "# val samples: 336879\n"
     ]
    }
   ],
   "source": [
    "train_data = {'seq':data['seq'][:n_train],'expression':data['expression'][:n_train]}\n",
    "val_data = {'seq':data['seq'][n_train:],'expression':data['expression'][n_train:]}\n",
    "\n",
    "print('# training samples: %d' % (len(train_data['seq'])))\n",
    "print('# val samples: %d' % (len(val_data['seq'])))"
   ]
  },
  {
   "cell_type": "markdown",
   "metadata": {
    "id": "Q2xtZGxPzz4s"
   },
   "source": [
    "# DataLoader & TestSet Preprocessing"
   ]
  },
  {
   "cell_type": "code",
   "execution_count": 10,
   "metadata": {},
   "outputs": [],
   "source": [
    "\n",
    "class train_loader(object):\n",
    "    def __init__(self, data):\n",
    "        self.kmer = 10\n",
    "        self.strides = 1\n",
    "        self.input_dim = 6\n",
    "        self.seq = data['seq']\n",
    "        self.data = torch.tensor(data['seq'])\n",
    "        self.data_label = data['expression']\n",
    "\n",
    "        x = F.one_hot(self.data.to(torch.int64), self.input_dim)   # output = (b,seq,embed)\n",
    "        self.data2 = x.transpose(1,2).numpy()\n",
    "\n",
    "#        print('trn_data_shape : ',self.data2.shape)\n",
    "    def __getitem__(self, index):\n",
    "\n",
    "        return torch.FloatTensor(self.data2[index]), self.data_label[index], torch.FloatTensor(self.seq[index]) \n",
    "    \n",
    "    def __len__(self):\n",
    "        return len(self.data)\n",
    "\n",
    "class test_loader(object):\n",
    "    def __init__(self,args):\n",
    "        lines = open(\"/Data1/PGE/torch_ti/filtered_test_data_with_MAUDE_expression.txt\", \"r\").read().splitlines()\n",
    "        data = [x.split('\\t')[0] for x in lines]\n",
    "        data_label = [x.split('\\t')[1] for x in lines]\n",
    "        df = pd.DataFrame()\n",
    "        df['dna'] = data\n",
    "        df['expression'] = data_label\n",
    "        df['dna'] = df['dna'].astype('string')\n",
    "        df['len'] = df['dna'].str.len()\n",
    "        print('number of unique sequences in the first {} positions: {}'.format(args['head_len'], len(df['dna'].str[:args['head_len']].unique())))\n",
    "        print('number of unique sequences in the last {} positions: {}'.format(args['tail_len'], len(df['dna'].str[-args['tail_len']:].unique())))\n",
    "        df['dna'] = df['dna'].str[args['head_len']:]\n",
    "        df['dna'] = df['dna'].str[:-args['tail_len']]\n",
    "        df['len'] = df['dna'].str.len()\n",
    "        assert all(df['len'] <= args['max_width'])\n",
    "        \n",
    "        df['dna'] = df['dna'].str.pad(width = args['max_width'], side = 'both', fillchar = 'N')\n",
    "        df['dna'] = df['dna'] + df['dna'].apply(lambda x: str(Seq(x).reverse_complement())).astype('string')\n",
    "        \n",
    "        input_dim = int(6) # A,C,G,T,N,M\n",
    "        n_positions = int(args['max_width'] * 2)\n",
    "        self.dna = np.empty((0, n_positions), np.uint8)\n",
    "        for x in np.array_split(df['dna'], 10): # split data into chunks\n",
    "            y = np.array(x.apply(list))\n",
    "            y = np.vstack(y)\n",
    "            y = np.vectorize(ARGS['alphabets'].get)(y)\n",
    "            y = y.astype(np.uint8)\n",
    "            print(y.shape)\n",
    "            self.dna = np.append(self.dna, y, axis = 0)\n",
    "        print(self.dna.shape)\n",
    "        self.expression = df['expression'].astype('float32').to_numpy()\n",
    "        expression_std = np.std(self.expression)\n",
    "        expression_mean = np.mean(self.expression)\n",
    "        self.expression = (self.expression - expression_mean) / expression_std\n",
    "        \n",
    "        print(self.expression.shape)\n",
    "        \n",
    "        \n",
    "        self.kmer = 10\n",
    "        self.strides = 1\n",
    "        self.input_dim = 6\n",
    "        self.data = torch.tensor(self.dna)\n",
    "        \n",
    "        x = F.one_hot(self.data.to(torch.int64), self.input_dim)   # output = (b,seq,embed)\n",
    "        self.data2 = x.transpose(1,2).numpy()  # output = (b,embed,seq)\n",
    "        \n",
    "#        print('test_data_shape : ',self.data2.shape)\n",
    "        \n",
    "        \n",
    "    def __getitem__(self, index):\n",
    "\n",
    "        return torch.FloatTensor(self.data2[index]), self.expression[index], torch.FloatTensor(self.dna[index]) \n",
    "    \n",
    "    def __len__(self):\n",
    "        return len(self.dna)"
   ]
  },
  {
   "cell_type": "code",
   "execution_count": 11,
   "metadata": {
    "id": "z-jAAiPA0oMS"
   },
   "outputs": [],
   "source": [
    "from tqdm import tqdm\n",
    "from prixfixe.unlockdna import (UnlockDNA_CoreBlock,\n",
    "                      UnlockDNA_FirstLayersBlock,\n",
    "                      UnlockDNA_FinalLayersBlock)\n",
    "\n",
    "from prixfixe.prixfixe import PrixFixeNet\n",
    "\n",
    "\n",
    "class RegressorModel(nn.Module):\n",
    "\tdef __init__(self, args,**kwargs):\n",
    "\t\tsuper(RegressorModel, self).__init__()\n",
    "\t\t## regressor\n",
    "\t\tself.arg = args\n",
    "\t\tfirst = UnlockDNA_FirstLayersBlock(in_channels=6,\n",
    "                                   out_channels=512, \n",
    "                                   seqsize=200)\n",
    "\t\tcore = UnlockDNA_CoreBlock(in_channels=512,\n",
    "                         out_channels =512,\n",
    "                         seqsize=232)        \n",
    "\t\tfinal = UnlockDNA_FinalLayersBlock(in_channels=512, \n",
    "                                 seqsize=232)       \n",
    "\t\t        \n",
    "\t\tself.regressor = PrixFixeNet(first=first,core=core,final=final).cuda()\n",
    "\t\tself.mse_loss = nn.MSELoss(reduction='none').cuda()\n",
    "\t\tself.scc_loss = nn.CrossEntropyLoss( reduction='none').cuda()\n",
    "\t\tself.optim           = torch.optim.Adam(self.regressor.parameters(), lr = args['initial_lr'], betas=(0.9, 0.98), eps=1e-08)\n",
    "\t\tself.scheduler       = torch.optim.lr_scheduler.OneCycleLR(self.optim, max_lr=ARGS['max_lr'],pct_start = 0.04, \n",
    "                                                                   steps_per_epoch=ARGS['warmup_steps'], epochs=ARGS['epochs']+5,anneal_strategy='cos')\n",
    "\t\tprint(time.strftime(\"%m-%d %H:%M:%S\") + \" Model para number(백만) = %.2f\"%(sum(param.numel() for param in self.regressor.parameters()) / 1024 / 1024))\n",
    "\n",
    "\tdef train_network(self, epoch, loader):\n",
    "\t\tself.train()\n",
    "\t\t## Update the learning rate based on the current epoch\n",
    "\t\tif epoch > 0 :\n",
    "\t\t\tself.scheduler.step((epoch - 1)*int(n_train/self.arg['batch_size']))\n",
    "\t\t\tprint('LR : ',self.scheduler.get_last_lr()[0])\n",
    "\t\tindex, loss = 0, 0\n",
    "\t\tfor num, (data, labels, sequence) in tqdm(enumerate(loader, start = 1)):\n",
    "\n",
    "\t\t\tself.zero_grad()\n",
    "\t\t\tseq, mask = self.regressor.masking(sequence)\n",
    "\t\t\tlabels = labels.cuda()\n",
    "\t\t\texpression, seq_pred = self.regressor.forward(data.cuda()) \n",
    "\t\t\tloss_expression = self.mse_loss(labels.to(torch.float32), expression.squeeze(1).to(torch.float32))\n",
    "\t\t\tloss_seq = mask.cuda() * self.scc_loss(seq_pred,sequence.long().cuda()) #.long()\n",
    "\t\t\tloss_seq = torch.sum(loss_seq) / (torch.sum(mask.cuda()) + 1)\n",
    "\t\t\tnloss = (loss_expression.to(torch.float32) + loss_seq.to(torch.float32)).mean().to(torch.float32)\n",
    "\t\t\t\n",
    "\t\t\tnloss.backward()\n",
    "\t\t\tself.optim.step()\n",
    "\t\t\tself.scheduler.step()\n",
    "\t\t\tlr = self.scheduler.get_last_lr()[0]\n",
    "\t\t\tindex += len(labels)\n",
    "\t\t\tloss += nloss.detach().cpu().numpy()\n",
    "\t\t\tif num % 500 == 0 :\n",
    "\t\t\t\tsys.stderr.write(time.strftime(\"%m-%d %H:%M:%S\") + \\\n",
    "\t\t\t\t\" [%2d] Lr: %5f, Training: %.2f%%, \"    %(epoch, lr, 100 * (num / loader.__len__())) + \\\n",
    "\t\t\t\t\" Loss: %.5f \\r\"        %(loss/(num)))\n",
    "\t\t\t\tsys.stderr.flush()\n",
    "\t\t\t\tsys.stdout.write(\"\\n\")\n",
    "\n",
    "\t\treturn loss/num, lr \n",
    "\n",
    "\tdef eval_network(self, loader):\n",
    "\t\tself.eval()\n",
    "\t\texp = []\n",
    "\t\treal_exp = []\n",
    "\t\tfor idx, (data,labels,_) in tqdm(enumerate(loader)):\n",
    "\t\t\tdata_1 = torch.FloatTensor(data).cuda()\n",
    "\t\t\twith torch.no_grad():\n",
    "\t\t\t\texpression, _ = self.regressor.forward(data_1)\n",
    "\t\t\tif len(expression.shape) > 1 :\n",
    "\t\t\t\texpression = expression.reshape(-1)\n",
    "\t\t\t\texpression = expression.detach().cpu().numpy()\n",
    "\t\t\t\tlabels = labels.detach().cpu().numpy() \n",
    "\t\t\texp.append(expression)\n",
    "\t\t\treal_exp.append(labels)\n",
    "\t\t\t\n",
    "\t\t# Coumpute Metric\n",
    "\t\texp = np.array(exp).reshape(-1)\n",
    "\t\treal_exp = np.array(real_exp).reshape(-1)\n",
    "\t\tPR = pearson_r(exp, real_exp)\n",
    "\n",
    "\t\treturn PR\n",
    "\n",
    "\tdef save_parameters(self, path):\n",
    "\t\ttorch.save(self.state_dict(), path)\n",
    "\n",
    "\tdef load_parameters(self, path):\n",
    "\t\tself_state = self.state_dict()\n",
    "\t\tloaded_state = torch.load(path)\n",
    "\t\tfor name, param in loaded_state.items():\n",
    "\t\t\torigname = name\n",
    "\t\t\tif name not in self_state:\n",
    "\t\t\t\tname = name.replace(\"module.\", \"\")\n",
    "\t\t\t\tif name not in self_state:\n",
    "\t\t\t\t\tprint(\"%s is not in the model.\"%origname)\n",
    "\t\t\t\t\tcontinue\n",
    "\t\t\tif self_state[name].size() != loaded_state[origname].size():\n",
    "\t\t\t\tprint(\"Wrong parameter length: %s, model: %s, loaded: %s\"%(origname, self_state[name].size(), loaded_state[origname].size()))\n",
    "\t\t\t\tcontinue\n",
    "\t\t\tself_state[name].copy_(param)"
   ]
  },
  {
   "cell_type": "markdown",
   "metadata": {
    "id": "JOtXgSxYvy0F"
   },
   "source": [
    "## Model fitting"
   ]
  },
  {
   "cell_type": "markdown",
   "metadata": {
    "id": "zGLEOzKhpPE2"
   },
   "source": [
    "### Epoch 1 \n",
    "\n",
    "initial epoch: 1"
   ]
  },
  {
   "cell_type": "code",
   "execution_count": null,
   "metadata": {
    "colab": {
     "base_uri": "https://localhost:8080/",
     "height": 1000
    },
    "id": "2VpPeGE-OeX-",
    "outputId": "0cf7da67-67f8-4b6d-b151-a0c481d9fcb4"
   },
   "outputs": [
    {
     "name": "stdout",
     "output_type": "stream",
     "text": [
      "Device: cuda:1\n",
      "Current cuda device: 1\n",
      "number of unique sequences in the first 17 positions: 1\n",
      "number of unique sequences in the last 13 positions: 1\n",
      "(7111, 200)\n",
      "(7111, 200)\n",
      "(7111, 200)\n",
      "(7110, 200)\n",
      "(7110, 200)\n",
      "(7110, 200)\n",
      "(7110, 200)\n",
      "(7110, 200)\n",
      "(7110, 200)\n",
      "(7110, 200)\n",
      "(71103, 200)\n",
      "(71103,)\n"
     ]
    },
    {
     "name": "stderr",
     "output_type": "stream",
     "text": [
      "/opt/conda/lib/python3.8/site-packages/torch/optim/lr_scheduler.py:131: UserWarning: Detected call of `lr_scheduler.step()` before `optimizer.step()`. In PyTorch 1.1.0 and later, you should call them in the opposite order: `optimizer.step()` before `lr_scheduler.step()`.  Failure to do this will result in PyTorch skipping the first value of the learning rate schedule. See more details at https://pytorch.org/docs/stable/optim.html#how-to-adjust-learning-rate\n",
      "  warnings.warn(\"Detected call of `lr_scheduler.step()` before `optimizer.step()`. \"\n",
      "/opt/conda/lib/python3.8/site-packages/torch/optim/lr_scheduler.py:156: UserWarning: The epoch parameter in `scheduler.step()` was not necessary and is being deprecated where possible. Please use `scheduler.step()` to step the scheduler. During the deprecation, if epoch is different from None, the closed form is used instead of the new chainable form, where available. Please open an issue if you are unable to replicate your use case: https://github.com/pytorch/pytorch/issues/new/choose.\n",
      "  warnings.warn(EPOCH_DEPRECATION_WARNING, UserWarning)\n"
     ]
    },
    {
     "name": "stdout",
     "output_type": "stream",
     "text": [
      "03-28 07:44:22 Model para number(백만) = 17.19\n",
      "LR :  9.200000000000007e-06\n"
     ]
    },
    {
     "name": "stderr",
     "output_type": "stream",
     "text": [
      "500it [15:45,  1.90s/it]03-28 08:00:08 [ 1] Lr: 0.000010, Training: 4.00%,  Loss: 0.97563 "
     ]
    },
    {
     "name": "stdout",
     "output_type": "stream",
     "text": [
      "\n"
     ]
    },
    {
     "name": "stderr",
     "output_type": "stream",
     "text": [
      "1000it [31:32,  1.89s/it]3-28 08:15:55 [ 1] Lr: 0.000013, Training: 8.00%,  Loss: 0.91836 "
     ]
    },
    {
     "name": "stdout",
     "output_type": "stream",
     "text": [
      "\n"
     ]
    },
    {
     "name": "stderr",
     "output_type": "stream",
     "text": [
      "1500it [47:19,  1.89s/it]03-28 08:31:42 [ 1] Lr: 0.000017, Training: 12.00%,  Loss: 0.89203 "
     ]
    },
    {
     "name": "stdout",
     "output_type": "stream",
     "text": [
      "\n"
     ]
    },
    {
     "name": "stderr",
     "output_type": "stream",
     "text": [
      "2000it [1:03:06,  1.89s/it]03-28 08:47:29 [ 1] Lr: 0.000023, Training: 16.00%,  Loss: 0.87435 "
     ]
    },
    {
     "name": "stdout",
     "output_type": "stream",
     "text": [
      "\n"
     ]
    },
    {
     "name": "stderr",
     "output_type": "stream",
     "text": [
      "2500it [1:18:54,  1.90s/it]03-28 09:03:17 [ 1] Lr: 0.000030, Training: 20.00%,  Loss: 0.85737 "
     ]
    },
    {
     "name": "stdout",
     "output_type": "stream",
     "text": [
      "\n"
     ]
    },
    {
     "name": "stderr",
     "output_type": "stream",
     "text": [
      "3000it [1:34:43,  1.90s/it]03-28 09:19:06 [ 1] Lr: 0.000039, Training: 24.00%,  Loss: 0.83667 "
     ]
    },
    {
     "name": "stdout",
     "output_type": "stream",
     "text": [
      "\n"
     ]
    },
    {
     "name": "stderr",
     "output_type": "stream",
     "text": [
      "3500it [1:50:31,  1.90s/it]03-28 09:34:54 [ 1] Lr: 0.000049, Training: 28.00%,  Loss: 0.81594 "
     ]
    },
    {
     "name": "stdout",
     "output_type": "stream",
     "text": [
      "\n"
     ]
    },
    {
     "name": "stderr",
     "output_type": "stream",
     "text": [
      "4000it [2:06:20,  1.90s/it]03-28 09:50:43 [ 1] Lr: 0.000060, Training: 32.00%,  Loss: 0.79631 "
     ]
    },
    {
     "name": "stdout",
     "output_type": "stream",
     "text": [
      "\n"
     ]
    },
    {
     "name": "stderr",
     "output_type": "stream",
     "text": [
      "4500it [2:22:10,  1.90s/it]03-28 10:06:33 [ 1] Lr: 0.000073, Training: 36.00%,  Loss: 0.77928 "
     ]
    },
    {
     "name": "stdout",
     "output_type": "stream",
     "text": [
      "\n"
     ]
    },
    {
     "name": "stderr",
     "output_type": "stream",
     "text": [
      "5000it [2:38:00,  1.90s/it]03-28 10:22:23 [ 1] Lr: 0.000085, Training: 40.00%,  Loss: 0.76438 "
     ]
    },
    {
     "name": "stdout",
     "output_type": "stream",
     "text": [
      "\n"
     ]
    },
    {
     "name": "stderr",
     "output_type": "stream",
     "text": [
      "5500it [2:53:50,  1.91s/it]03-28 10:38:13 [ 1] Lr: 0.000099, Training: 44.00%,  Loss: 0.75107 "
     ]
    },
    {
     "name": "stdout",
     "output_type": "stream",
     "text": [
      "\n"
     ]
    },
    {
     "name": "stderr",
     "output_type": "stream",
     "text": [
      "6000it [3:09:43,  1.90s/it]03-28 10:54:06 [ 1] Lr: 0.000113, Training: 48.00%,  Loss: 0.73949 "
     ]
    },
    {
     "name": "stdout",
     "output_type": "stream",
     "text": [
      "\n"
     ]
    },
    {
     "name": "stderr",
     "output_type": "stream",
     "text": [
      "6500it [3:25:36,  1.90s/it]03-28 11:09:59 [ 1] Lr: 0.000127, Training: 52.00%,  Loss: 0.72896 "
     ]
    },
    {
     "name": "stdout",
     "output_type": "stream",
     "text": [
      "\n"
     ]
    },
    {
     "name": "stderr",
     "output_type": "stream",
     "text": [
      "7000it [3:41:28,  1.90s/it]03-28 11:25:51 [ 1] Lr: 0.000140, Training: 56.00%,  Loss: 0.71944 "
     ]
    },
    {
     "name": "stdout",
     "output_type": "stream",
     "text": [
      "\n"
     ]
    },
    {
     "name": "stderr",
     "output_type": "stream",
     "text": [
      "7500it [3:57:18,  1.90s/it]03-28 11:41:41 [ 1] Lr: 0.000154, Training: 60.00%,  Loss: 0.71042 "
     ]
    },
    {
     "name": "stdout",
     "output_type": "stream",
     "text": [
      "\n"
     ]
    },
    {
     "name": "stderr",
     "output_type": "stream",
     "text": [
      "8000it [4:13:06,  1.90s/it]03-28 11:57:29 [ 1] Lr: 0.000167, Training: 63.99%,  Loss: 0.70183 "
     ]
    },
    {
     "name": "stdout",
     "output_type": "stream",
     "text": [
      "\n"
     ]
    },
    {
     "name": "stderr",
     "output_type": "stream",
     "text": [
      "8500it [4:29:02,  1.95s/it]03-28 12:13:25 [ 1] Lr: 0.000179, Training: 67.99%,  Loss: 0.69386 "
     ]
    },
    {
     "name": "stdout",
     "output_type": "stream",
     "text": [
      "\n"
     ]
    },
    {
     "name": "stderr",
     "output_type": "stream",
     "text": [
      "9000it [4:44:54,  1.90s/it]03-28 12:29:17 [ 1] Lr: 0.000190, Training: 71.99%,  Loss: 0.68625 "
     ]
    },
    {
     "name": "stdout",
     "output_type": "stream",
     "text": [
      "\n"
     ]
    },
    {
     "name": "stderr",
     "output_type": "stream",
     "text": [
      "9500it [5:00:47,  1.90s/it]03-28 12:45:10 [ 1] Lr: 0.000200, Training: 75.99%,  Loss: 0.67900 "
     ]
    },
    {
     "name": "stdout",
     "output_type": "stream",
     "text": [
      "\n"
     ]
    },
    {
     "name": "stderr",
     "output_type": "stream",
     "text": [
      "10000it [5:16:43,  1.93s/it]3-28 13:01:06 [ 1] Lr: 0.000209, Training: 79.99%,  Loss: 0.67183 "
     ]
    },
    {
     "name": "stdout",
     "output_type": "stream",
     "text": [
      "\n"
     ]
    },
    {
     "name": "stderr",
     "output_type": "stream",
     "text": [
      "10500it [5:32:39,  1.90s/it]03-28 13:17:02 [ 1] Lr: 0.000216, Training: 83.99%,  Loss: 0.66495 "
     ]
    },
    {
     "name": "stdout",
     "output_type": "stream",
     "text": [
      "\n"
     ]
    },
    {
     "name": "stderr",
     "output_type": "stream",
     "text": [
      "11000it [5:48:33,  1.91s/it]03-28 13:32:56 [ 1] Lr: 0.000222, Training: 87.99%,  Loss: 0.65833 "
     ]
    },
    {
     "name": "stdout",
     "output_type": "stream",
     "text": [
      "\n"
     ]
    },
    {
     "name": "stderr",
     "output_type": "stream",
     "text": [
      "11500it [6:04:26,  1.93s/it]03-28 13:48:49 [ 1] Lr: 0.000227, Training: 91.99%,  Loss: 0.65193 "
     ]
    },
    {
     "name": "stdout",
     "output_type": "stream",
     "text": [
      "\n"
     ]
    },
    {
     "name": "stderr",
     "output_type": "stream",
     "text": [
      "12000it [6:20:20,  1.91s/it]03-28 14:04:43 [ 1] Lr: 0.000229, Training: 95.99%,  Loss: 0.64593 "
     ]
    },
    {
     "name": "stdout",
     "output_type": "stream",
     "text": [
      "\n"
     ]
    },
    {
     "name": "stderr",
     "output_type": "stream",
     "text": [
      "12500it [6:36:13,  1.90s/it]03-28 14:20:36 [ 1] Lr: 0.000230, Training: 99.99%,  Loss: 0.64005 "
     ]
    },
    {
     "name": "stdout",
     "output_type": "stream",
     "text": [
      "\n"
     ]
    },
    {
     "name": "stderr",
     "output_type": "stream",
     "text": [
      "12501it [6:36:16,  1.90s/it]\n",
      "657it [06:40,  1.64it/s]\n"
     ]
    },
    {
     "name": "stdout",
     "output_type": "stream",
     "text": [
      "2023-03-28 14:27:19 1 epoch, Pearson_R 0.72%, bestPearson_R 0.72%\n"
     ]
    },
    {
     "name": "stderr",
     "output_type": "stream",
     "text": [
      "138it [01:24,  1.63it/s]\n"
     ]
    },
    {
     "name": "stdout",
     "output_type": "stream",
     "text": [
      "2023-03-28 14:28:44 1 epoch, Eval_Pearson_R 0.90%, Best_Eval_Pearson_R 0.90%\n",
      "LR :  0.00022999999997477778\n"
     ]
    },
    {
     "name": "stderr",
     "output_type": "stream",
     "text": [
      "500it [15:50,  1.90s/it]03-28 14:44:34 [ 2] Lr: 0.000230, Training: 4.00%,  Loss: 0.48869 "
     ]
    },
    {
     "name": "stdout",
     "output_type": "stream",
     "text": [
      "\n"
     ]
    },
    {
     "name": "stderr",
     "output_type": "stream",
     "text": [
      "1000it [31:39,  1.90s/it]3-28 15:00:23 [ 2] Lr: 0.000230, Training: 8.00%,  Loss: 0.48767 "
     ]
    },
    {
     "name": "stdout",
     "output_type": "stream",
     "text": [
      "\n"
     ]
    },
    {
     "name": "stderr",
     "output_type": "stream",
     "text": [
      "1500it [47:29,  1.90s/it]03-28 15:16:13 [ 2] Lr: 0.000230, Training: 12.00%,  Loss: 0.48802 "
     ]
    },
    {
     "name": "stdout",
     "output_type": "stream",
     "text": [
      "\n"
     ]
    },
    {
     "name": "stderr",
     "output_type": "stream",
     "text": [
      "2000it [1:03:19,  1.90s/it]03-28 15:32:03 [ 2] Lr: 0.000230, Training: 16.00%,  Loss: 0.48656 "
     ]
    },
    {
     "name": "stdout",
     "output_type": "stream",
     "text": [
      "\n"
     ]
    },
    {
     "name": "stderr",
     "output_type": "stream",
     "text": [
      "2500it [1:19:09,  1.90s/it]03-28 15:47:53 [ 2] Lr: 0.000230, Training: 20.00%,  Loss: 0.48482 "
     ]
    },
    {
     "name": "stdout",
     "output_type": "stream",
     "text": [
      "\n"
     ]
    },
    {
     "name": "stderr",
     "output_type": "stream",
     "text": [
      "3000it [1:34:59,  1.90s/it]03-28 16:03:43 [ 2] Lr: 0.000230, Training: 24.00%,  Loss: 0.48371 "
     ]
    },
    {
     "name": "stdout",
     "output_type": "stream",
     "text": [
      "\n"
     ]
    },
    {
     "name": "stderr",
     "output_type": "stream",
     "text": [
      "3500it [1:50:48,  1.90s/it]03-28 16:19:32 [ 2] Lr: 0.000230, Training: 28.00%,  Loss: 0.48229 "
     ]
    },
    {
     "name": "stdout",
     "output_type": "stream",
     "text": [
      "\n"
     ]
    },
    {
     "name": "stderr",
     "output_type": "stream",
     "text": [
      "4000it [2:06:38,  1.93s/it]03-28 16:35:22 [ 2] Lr: 0.000230, Training: 32.00%,  Loss: 0.48109 "
     ]
    },
    {
     "name": "stdout",
     "output_type": "stream",
     "text": [
      "\n"
     ]
    },
    {
     "name": "stderr",
     "output_type": "stream",
     "text": [
      "4500it [2:22:27,  1.90s/it]03-28 16:51:12 [ 2] Lr: 0.000230, Training: 36.00%,  Loss: 0.48026 "
     ]
    },
    {
     "name": "stdout",
     "output_type": "stream",
     "text": [
      "\n"
     ]
    },
    {
     "name": "stderr",
     "output_type": "stream",
     "text": [
      "5000it [2:38:16,  1.90s/it]03-28 17:07:01 [ 2] Lr: 0.000230, Training: 40.00%,  Loss: 0.47969 "
     ]
    },
    {
     "name": "stdout",
     "output_type": "stream",
     "text": [
      "\n"
     ]
    },
    {
     "name": "stderr",
     "output_type": "stream",
     "text": [
      "5500it [2:54:06,  1.90s/it]03-28 17:22:50 [ 2] Lr: 0.000230, Training: 44.00%,  Loss: 0.47865 "
     ]
    },
    {
     "name": "stdout",
     "output_type": "stream",
     "text": [
      "\n"
     ]
    },
    {
     "name": "stderr",
     "output_type": "stream",
     "text": [
      "6000it [3:09:56,  1.90s/it]03-28 17:38:40 [ 2] Lr: 0.000230, Training: 48.00%,  Loss: 0.47754 "
     ]
    },
    {
     "name": "stdout",
     "output_type": "stream",
     "text": [
      "\n"
     ]
    },
    {
     "name": "stderr",
     "output_type": "stream",
     "text": [
      "6500it [3:25:46,  1.90s/it]03-28 17:54:30 [ 2] Lr: 0.000230, Training: 52.00%,  Loss: 0.47669 "
     ]
    },
    {
     "name": "stdout",
     "output_type": "stream",
     "text": [
      "\n"
     ]
    },
    {
     "name": "stderr",
     "output_type": "stream",
     "text": [
      "7000it [3:41:35,  1.90s/it]03-28 18:10:20 [ 2] Lr: 0.000230, Training: 56.00%,  Loss: 0.47599 "
     ]
    },
    {
     "name": "stdout",
     "output_type": "stream",
     "text": [
      "\n"
     ]
    },
    {
     "name": "stderr",
     "output_type": "stream",
     "text": [
      "7500it [3:57:25,  1.90s/it]03-28 18:26:09 [ 2] Lr: 0.000230, Training: 60.00%,  Loss: 0.47516 "
     ]
    },
    {
     "name": "stdout",
     "output_type": "stream",
     "text": [
      "\n"
     ]
    },
    {
     "name": "stderr",
     "output_type": "stream",
     "text": [
      "8000it [4:13:15,  1.90s/it]03-28 18:41:59 [ 2] Lr: 0.000230, Training: 63.99%,  Loss: 0.47475 "
     ]
    },
    {
     "name": "stdout",
     "output_type": "stream",
     "text": [
      "\n"
     ]
    },
    {
     "name": "stderr",
     "output_type": "stream",
     "text": [
      "8500it [4:29:05,  1.90s/it]03-28 18:57:49 [ 2] Lr: 0.000230, Training: 67.99%,  Loss: 0.47406 "
     ]
    },
    {
     "name": "stdout",
     "output_type": "stream",
     "text": [
      "\n"
     ]
    },
    {
     "name": "stderr",
     "output_type": "stream",
     "text": [
      "9000it [4:44:55,  1.90s/it]03-28 19:13:39 [ 2] Lr: 0.000229, Training: 71.99%,  Loss: 0.47346 "
     ]
    },
    {
     "name": "stdout",
     "output_type": "stream",
     "text": [
      "\n"
     ]
    },
    {
     "name": "stderr",
     "output_type": "stream",
     "text": [
      "9500it [5:00:45,  1.90s/it]03-28 19:29:29 [ 2] Lr: 0.000229, Training: 75.99%,  Loss: 0.47275 "
     ]
    },
    {
     "name": "stdout",
     "output_type": "stream",
     "text": [
      "\n"
     ]
    },
    {
     "name": "stderr",
     "output_type": "stream",
     "text": [
      "10000it [5:16:35,  1.90s/it]3-28 19:45:20 [ 2] Lr: 0.000229, Training: 79.99%,  Loss: 0.47232 "
     ]
    },
    {
     "name": "stdout",
     "output_type": "stream",
     "text": [
      "\n"
     ]
    },
    {
     "name": "stderr",
     "output_type": "stream",
     "text": [
      "10500it [5:32:25,  1.90s/it]03-28 20:01:10 [ 2] Lr: 0.000229, Training: 83.99%,  Loss: 0.47167 "
     ]
    },
    {
     "name": "stdout",
     "output_type": "stream",
     "text": [
      "\n"
     ]
    },
    {
     "name": "stderr",
     "output_type": "stream",
     "text": [
      "11000it [5:48:16,  1.90s/it]03-28 20:17:00 [ 2] Lr: 0.000229, Training: 87.99%,  Loss: 0.47120 "
     ]
    },
    {
     "name": "stdout",
     "output_type": "stream",
     "text": [
      "\n"
     ]
    },
    {
     "name": "stderr",
     "output_type": "stream",
     "text": [
      "11500it [6:04:06,  1.90s/it]03-28 20:32:50 [ 2] Lr: 0.000229, Training: 91.99%,  Loss: 0.47081 "
     ]
    },
    {
     "name": "stdout",
     "output_type": "stream",
     "text": [
      "\n"
     ]
    },
    {
     "name": "stderr",
     "output_type": "stream",
     "text": [
      "12000it [6:19:57,  1.90s/it]03-28 20:48:41 [ 2] Lr: 0.000229, Training: 95.99%,  Loss: 0.47032 "
     ]
    },
    {
     "name": "stdout",
     "output_type": "stream",
     "text": [
      "\n"
     ]
    },
    {
     "name": "stderr",
     "output_type": "stream",
     "text": [
      "12500it [6:35:47,  1.90s/it]03-28 21:04:31 [ 2] Lr: 0.000229, Training: 99.99%,  Loss: 0.46993 "
     ]
    },
    {
     "name": "stdout",
     "output_type": "stream",
     "text": [
      "\n"
     ]
    },
    {
     "name": "stderr",
     "output_type": "stream",
     "text": [
      "12501it [6:35:49,  1.90s/it]\n",
      "657it [06:39,  1.64it/s]\n"
     ]
    },
    {
     "name": "stdout",
     "output_type": "stream",
     "text": [
      "2023-03-28 21:11:14 2 epoch, Pearson_R 0.74%, bestPearson_R 0.74%\n"
     ]
    },
    {
     "name": "stderr",
     "output_type": "stream",
     "text": [
      "138it [01:24,  1.64it/s]\n"
     ]
    },
    {
     "name": "stdout",
     "output_type": "stream",
     "text": [
      "2023-03-28 21:12:38 2 epoch, Eval_Pearson_R 0.94%, Best_Eval_Pearson_R 0.94%\n",
      "LR :  0.00022901569136982828\n"
     ]
    },
    {
     "name": "stderr",
     "output_type": "stream",
     "text": [
      "500it [15:50,  1.90s/it]03-28 21:28:28 [ 3] Lr: 0.000229, Training: 4.00%,  Loss: 0.45655 "
     ]
    },
    {
     "name": "stdout",
     "output_type": "stream",
     "text": [
      "\n"
     ]
    },
    {
     "name": "stderr",
     "output_type": "stream",
     "text": [
      "1000it [31:39,  1.90s/it]3-28 21:44:17 [ 3] Lr: 0.000229, Training: 8.00%,  Loss: 0.45390 "
     ]
    },
    {
     "name": "stdout",
     "output_type": "stream",
     "text": [
      "\n"
     ]
    },
    {
     "name": "stderr",
     "output_type": "stream",
     "text": [
      "1500it [47:28,  1.90s/it]03-28 22:00:07 [ 3] Lr: 0.000229, Training: 12.00%,  Loss: 0.45273 "
     ]
    },
    {
     "name": "stdout",
     "output_type": "stream",
     "text": [
      "\n"
     ]
    },
    {
     "name": "stderr",
     "output_type": "stream",
     "text": [
      "2000it [1:03:17,  1.90s/it]03-28 22:15:55 [ 3] Lr: 0.000229, Training: 16.00%,  Loss: 0.45311 "
     ]
    },
    {
     "name": "stdout",
     "output_type": "stream",
     "text": [
      "\n"
     ]
    },
    {
     "name": "stderr",
     "output_type": "stream",
     "text": [
      "2500it [1:19:05,  1.89s/it]03-28 22:31:43 [ 3] Lr: 0.000229, Training: 20.00%,  Loss: 0.45293 "
     ]
    },
    {
     "name": "stdout",
     "output_type": "stream",
     "text": [
      "\n"
     ]
    },
    {
     "name": "stderr",
     "output_type": "stream",
     "text": [
      "3000it [1:34:53,  1.89s/it]03-28 22:47:32 [ 3] Lr: 0.000228, Training: 24.00%,  Loss: 0.45265 "
     ]
    },
    {
     "name": "stdout",
     "output_type": "stream",
     "text": [
      "\n"
     ]
    },
    {
     "name": "stderr",
     "output_type": "stream",
     "text": [
      "3500it [1:50:41,  1.89s/it]03-28 23:03:20 [ 3] Lr: 0.000228, Training: 28.00%,  Loss: 0.45278 "
     ]
    },
    {
     "name": "stdout",
     "output_type": "stream",
     "text": [
      "\n"
     ]
    },
    {
     "name": "stderr",
     "output_type": "stream",
     "text": [
      "4000it [2:06:29,  1.90s/it]03-28 23:19:08 [ 3] Lr: 0.000228, Training: 32.00%,  Loss: 0.45234 "
     ]
    },
    {
     "name": "stdout",
     "output_type": "stream",
     "text": [
      "\n"
     ]
    },
    {
     "name": "stderr",
     "output_type": "stream",
     "text": [
      "4500it [2:22:18,  1.90s/it]03-28 23:34:56 [ 3] Lr: 0.000228, Training: 36.00%,  Loss: 0.45225 "
     ]
    },
    {
     "name": "stdout",
     "output_type": "stream",
     "text": [
      "\n"
     ]
    },
    {
     "name": "stderr",
     "output_type": "stream",
     "text": [
      "5000it [2:38:07,  1.90s/it]03-28 23:50:46 [ 3] Lr: 0.000228, Training: 40.00%,  Loss: 0.45224 "
     ]
    },
    {
     "name": "stdout",
     "output_type": "stream",
     "text": [
      "\n"
     ]
    },
    {
     "name": "stderr",
     "output_type": "stream",
     "text": [
      "5500it [2:53:57,  1.90s/it]03-29 00:06:36 [ 3] Lr: 0.000228, Training: 44.00%,  Loss: 0.45185 "
     ]
    },
    {
     "name": "stdout",
     "output_type": "stream",
     "text": [
      "\n"
     ]
    },
    {
     "name": "stderr",
     "output_type": "stream",
     "text": [
      "6000it [3:09:47,  1.90s/it]03-29 00:22:25 [ 3] Lr: 0.000228, Training: 48.00%,  Loss: 0.45172 "
     ]
    },
    {
     "name": "stdout",
     "output_type": "stream",
     "text": [
      "\n"
     ]
    },
    {
     "name": "stderr",
     "output_type": "stream",
     "text": [
      "6500it [3:25:36,  1.90s/it]03-29 00:38:14 [ 3] Lr: 0.000228, Training: 52.00%,  Loss: 0.45178 "
     ]
    },
    {
     "name": "stdout",
     "output_type": "stream",
     "text": [
      "\n"
     ]
    },
    {
     "name": "stderr",
     "output_type": "stream",
     "text": [
      "7000it [3:41:25,  1.90s/it]03-29 00:54:04 [ 3] Lr: 0.000228, Training: 56.00%,  Loss: 0.45179 "
     ]
    },
    {
     "name": "stdout",
     "output_type": "stream",
     "text": [
      "\n"
     ]
    },
    {
     "name": "stderr",
     "output_type": "stream",
     "text": [
      "7500it [3:57:14,  1.90s/it]03-29 01:09:53 [ 3] Lr: 0.000227, Training: 60.00%,  Loss: 0.45195 "
     ]
    },
    {
     "name": "stdout",
     "output_type": "stream",
     "text": [
      "\n"
     ]
    },
    {
     "name": "stderr",
     "output_type": "stream",
     "text": [
      "8000it [4:13:05,  1.90s/it]03-29 01:25:44 [ 3] Lr: 0.000227, Training: 63.99%,  Loss: 0.45182 "
     ]
    },
    {
     "name": "stdout",
     "output_type": "stream",
     "text": [
      "\n"
     ]
    },
    {
     "name": "stderr",
     "output_type": "stream",
     "text": [
      "8500it [4:28:55,  1.90s/it]03-29 01:41:33 [ 3] Lr: 0.000227, Training: 67.99%,  Loss: 0.45160 "
     ]
    },
    {
     "name": "stdout",
     "output_type": "stream",
     "text": [
      "\n"
     ]
    },
    {
     "name": "stderr",
     "output_type": "stream",
     "text": [
      "9000it [4:44:45,  1.90s/it]03-29 01:57:23 [ 3] Lr: 0.000227, Training: 71.99%,  Loss: 0.45148 "
     ]
    },
    {
     "name": "stdout",
     "output_type": "stream",
     "text": [
      "\n"
     ]
    },
    {
     "name": "stderr",
     "output_type": "stream",
     "text": [
      "9500it [5:00:36,  1.90s/it]03-29 02:13:14 [ 3] Lr: 0.000227, Training: 75.99%,  Loss: 0.45131 "
     ]
    },
    {
     "name": "stdout",
     "output_type": "stream",
     "text": [
      "\n"
     ]
    },
    {
     "name": "stderr",
     "output_type": "stream",
     "text": [
      "10000it [5:16:24,  1.90s/it]3-29 02:29:03 [ 3] Lr: 0.000227, Training: 79.99%,  Loss: 0.45116 "
     ]
    },
    {
     "name": "stdout",
     "output_type": "stream",
     "text": [
      "\n"
     ]
    },
    {
     "name": "stderr",
     "output_type": "stream",
     "text": [
      "10500it [5:32:13,  1.90s/it]03-29 02:44:52 [ 3] Lr: 0.000227, Training: 83.99%,  Loss: 0.45113 "
     ]
    },
    {
     "name": "stdout",
     "output_type": "stream",
     "text": [
      "\n"
     ]
    },
    {
     "name": "stderr",
     "output_type": "stream",
     "text": [
      "11000it [5:48:04,  1.90s/it]03-29 03:00:43 [ 3] Lr: 0.000227, Training: 87.99%,  Loss: 0.45112 "
     ]
    },
    {
     "name": "stdout",
     "output_type": "stream",
     "text": [
      "\n"
     ]
    },
    {
     "name": "stderr",
     "output_type": "stream",
     "text": [
      "11500it [6:03:54,  1.90s/it]03-29 03:16:33 [ 3] Lr: 0.000226, Training: 91.99%,  Loss: 0.45115 "
     ]
    },
    {
     "name": "stdout",
     "output_type": "stream",
     "text": [
      "\n"
     ]
    },
    {
     "name": "stderr",
     "output_type": "stream",
     "text": [
      "12000it [6:19:43,  1.90s/it]03-29 03:32:22 [ 3] Lr: 0.000226, Training: 95.99%,  Loss: 0.45108 "
     ]
    },
    {
     "name": "stdout",
     "output_type": "stream",
     "text": [
      "\n"
     ]
    },
    {
     "name": "stderr",
     "output_type": "stream",
     "text": [
      "12500it [6:35:33,  1.90s/it]03-29 03:48:11 [ 3] Lr: 0.000226, Training: 99.99%,  Loss: 0.45107 "
     ]
    },
    {
     "name": "stdout",
     "output_type": "stream",
     "text": [
      "\n"
     ]
    },
    {
     "name": "stderr",
     "output_type": "stream",
     "text": [
      "12501it [6:35:35,  1.90s/it]\n",
      "657it [06:39,  1.65it/s]\n"
     ]
    },
    {
     "name": "stdout",
     "output_type": "stream",
     "text": [
      "2023-03-29 03:54:53 3 epoch, Pearson_R 0.74%, bestPearson_R 0.74%\n"
     ]
    },
    {
     "name": "stderr",
     "output_type": "stream",
     "text": [
      "138it [01:23,  1.65it/s]\n"
     ]
    },
    {
     "name": "stdout",
     "output_type": "stream",
     "text": [
      "2023-03-29 03:56:17 3 epoch, Eval_Pearson_R 0.94%, Best_Eval_Pearson_R 0.94%\n",
      "LR :  0.00022608023884541592\n"
     ]
    },
    {
     "name": "stderr",
     "output_type": "stream",
     "text": [
      "500it [15:50,  1.90s/it]03-29 04:12:07 [ 4] Lr: 0.000226, Training: 4.00%,  Loss: 0.44082 "
     ]
    },
    {
     "name": "stdout",
     "output_type": "stream",
     "text": [
      "\n"
     ]
    },
    {
     "name": "stderr",
     "output_type": "stream",
     "text": [
      "1000it [31:38,  1.90s/it]3-29 04:27:56 [ 4] Lr: 0.000226, Training: 8.00%,  Loss: 0.43855 "
     ]
    },
    {
     "name": "stdout",
     "output_type": "stream",
     "text": [
      "\n"
     ]
    },
    {
     "name": "stderr",
     "output_type": "stream",
     "text": [
      "1500it [47:27,  1.90s/it]03-29 04:43:45 [ 4] Lr: 0.000226, Training: 12.00%,  Loss: 0.43939 "
     ]
    },
    {
     "name": "stdout",
     "output_type": "stream",
     "text": [
      "\n"
     ]
    },
    {
     "name": "stderr",
     "output_type": "stream",
     "text": [
      "2000it [1:03:15,  1.90s/it]03-29 04:59:33 [ 4] Lr: 0.000225, Training: 16.00%,  Loss: 0.44010 "
     ]
    },
    {
     "name": "stdout",
     "output_type": "stream",
     "text": [
      "\n"
     ]
    },
    {
     "name": "stderr",
     "output_type": "stream",
     "text": [
      "2500it [1:19:05,  1.90s/it]03-29 05:15:23 [ 4] Lr: 0.000225, Training: 20.00%,  Loss: 0.43963 "
     ]
    },
    {
     "name": "stdout",
     "output_type": "stream",
     "text": [
      "\n"
     ]
    },
    {
     "name": "stderr",
     "output_type": "stream",
     "text": [
      "3000it [1:34:54,  1.90s/it]03-29 05:31:12 [ 4] Lr: 0.000225, Training: 24.00%,  Loss: 0.43964 "
     ]
    },
    {
     "name": "stdout",
     "output_type": "stream",
     "text": [
      "\n"
     ]
    },
    {
     "name": "stderr",
     "output_type": "stream",
     "text": [
      "3500it [1:50:42,  1.90s/it]03-29 05:47:00 [ 4] Lr: 0.000225, Training: 28.00%,  Loss: 0.43960 "
     ]
    },
    {
     "name": "stdout",
     "output_type": "stream",
     "text": [
      "\n"
     ]
    },
    {
     "name": "stderr",
     "output_type": "stream",
     "text": [
      "4000it [2:06:31,  1.90s/it]03-29 06:02:49 [ 4] Lr: 0.000225, Training: 32.00%,  Loss: 0.44007 "
     ]
    },
    {
     "name": "stdout",
     "output_type": "stream",
     "text": [
      "\n"
     ]
    },
    {
     "name": "stderr",
     "output_type": "stream",
     "text": [
      "4500it [2:22:21,  1.90s/it]03-29 06:18:39 [ 4] Lr: 0.000225, Training: 36.00%,  Loss: 0.44053 "
     ]
    },
    {
     "name": "stdout",
     "output_type": "stream",
     "text": [
      "\n"
     ]
    },
    {
     "name": "stderr",
     "output_type": "stream",
     "text": [
      "5000it [2:38:10,  1.90s/it]03-29 06:34:28 [ 4] Lr: 0.000224, Training: 40.00%,  Loss: 0.44072 "
     ]
    },
    {
     "name": "stdout",
     "output_type": "stream",
     "text": [
      "\n"
     ]
    },
    {
     "name": "stderr",
     "output_type": "stream",
     "text": [
      "5500it [2:53:59,  1.90s/it]03-29 06:50:16 [ 4] Lr: 0.000224, Training: 44.00%,  Loss: 0.44091 "
     ]
    },
    {
     "name": "stdout",
     "output_type": "stream",
     "text": [
      "\n"
     ]
    },
    {
     "name": "stderr",
     "output_type": "stream",
     "text": [
      "6000it [3:09:47,  1.90s/it]03-29 07:06:04 [ 4] Lr: 0.000224, Training: 48.00%,  Loss: 0.44104 "
     ]
    },
    {
     "name": "stdout",
     "output_type": "stream",
     "text": [
      "\n"
     ]
    },
    {
     "name": "stderr",
     "output_type": "stream",
     "text": [
      "6500it [3:25:35,  1.90s/it]03-29 07:21:53 [ 4] Lr: 0.000224, Training: 52.00%,  Loss: 0.44097 "
     ]
    },
    {
     "name": "stdout",
     "output_type": "stream",
     "text": [
      "\n"
     ]
    },
    {
     "name": "stderr",
     "output_type": "stream",
     "text": [
      "7000it [3:41:24,  1.90s/it]03-29 07:37:41 [ 4] Lr: 0.000224, Training: 56.00%,  Loss: 0.44099 "
     ]
    },
    {
     "name": "stdout",
     "output_type": "stream",
     "text": [
      "\n"
     ]
    },
    {
     "name": "stderr",
     "output_type": "stream",
     "text": [
      "7500it [3:57:12,  1.90s/it]03-29 07:53:30 [ 4] Lr: 0.000223, Training: 60.00%,  Loss: 0.44119 "
     ]
    },
    {
     "name": "stdout",
     "output_type": "stream",
     "text": [
      "\n"
     ]
    },
    {
     "name": "stderr",
     "output_type": "stream",
     "text": [
      "8000it [4:13:04,  1.90s/it]03-29 08:09:21 [ 4] Lr: 0.000223, Training: 63.99%,  Loss: 0.44135 "
     ]
    },
    {
     "name": "stdout",
     "output_type": "stream",
     "text": [
      "\n"
     ]
    },
    {
     "name": "stderr",
     "output_type": "stream",
     "text": [
      "8500it [4:28:54,  1.90s/it]03-29 08:25:12 [ 4] Lr: 0.000223, Training: 67.99%,  Loss: 0.44124 "
     ]
    },
    {
     "name": "stdout",
     "output_type": "stream",
     "text": [
      "\n"
     ]
    },
    {
     "name": "stderr",
     "output_type": "stream",
     "text": [
      "9000it [4:44:45,  1.91s/it]03-29 08:41:03 [ 4] Lr: 0.000223, Training: 71.99%,  Loss: 0.44151 "
     ]
    },
    {
     "name": "stdout",
     "output_type": "stream",
     "text": [
      "\n"
     ]
    },
    {
     "name": "stderr",
     "output_type": "stream",
     "text": [
      "9500it [5:00:37,  1.90s/it]03-29 08:56:55 [ 4] Lr: 0.000223, Training: 75.99%,  Loss: 0.44157 "
     ]
    },
    {
     "name": "stdout",
     "output_type": "stream",
     "text": [
      "\n"
     ]
    },
    {
     "name": "stderr",
     "output_type": "stream",
     "text": [
      "10000it [5:16:29,  1.90s/it]3-29 09:12:47 [ 4] Lr: 0.000222, Training: 79.99%,  Loss: 0.44178 "
     ]
    },
    {
     "name": "stdout",
     "output_type": "stream",
     "text": [
      "\n"
     ]
    },
    {
     "name": "stderr",
     "output_type": "stream",
     "text": [
      "10500it [5:32:21,  1.90s/it]03-29 09:28:39 [ 4] Lr: 0.000222, Training: 83.99%,  Loss: 0.44198 "
     ]
    },
    {
     "name": "stdout",
     "output_type": "stream",
     "text": [
      "\n"
     ]
    },
    {
     "name": "stderr",
     "output_type": "stream",
     "text": [
      "11000it [5:48:11,  1.90s/it]03-29 09:44:29 [ 4] Lr: 0.000222, Training: 87.99%,  Loss: 0.44209 "
     ]
    },
    {
     "name": "stdout",
     "output_type": "stream",
     "text": [
      "\n"
     ]
    },
    {
     "name": "stderr",
     "output_type": "stream",
     "text": [
      "11500it [6:03:59,  1.90s/it]03-29 10:00:17 [ 4] Lr: 0.000222, Training: 91.99%,  Loss: 0.44223 "
     ]
    },
    {
     "name": "stdout",
     "output_type": "stream",
     "text": [
      "\n"
     ]
    },
    {
     "name": "stderr",
     "output_type": "stream",
     "text": [
      "12000it [6:19:51,  1.91s/it]03-29 10:16:09 [ 4] Lr: 0.000221, Training: 95.99%,  Loss: 0.44224 "
     ]
    },
    {
     "name": "stdout",
     "output_type": "stream",
     "text": [
      "\n"
     ]
    },
    {
     "name": "stderr",
     "output_type": "stream",
     "text": [
      "12500it [6:35:47,  1.92s/it]03-29 10:32:04 [ 4] Lr: 0.000221, Training: 99.99%,  Loss: 0.44218 "
     ]
    },
    {
     "name": "stdout",
     "output_type": "stream",
     "text": [
      "\n"
     ]
    },
    {
     "name": "stderr",
     "output_type": "stream",
     "text": [
      "12501it [6:35:50,  1.90s/it]\n",
      "657it [06:44,  1.62it/s]\n"
     ]
    },
    {
     "name": "stdout",
     "output_type": "stream",
     "text": [
      "2023-03-29 10:38:53 4 epoch, Pearson_R 0.74%, bestPearson_R 0.74%\n",
      "LR :  0.00022124387683316064\n"
     ]
    },
    {
     "name": "stderr",
     "output_type": "stream",
     "text": [
      "500it [15:55,  1.91s/it]03-29 10:54:48 [ 5] Lr: 0.000221, Training: 4.00%,  Loss: 0.43219 "
     ]
    },
    {
     "name": "stdout",
     "output_type": "stream",
     "text": [
      "\n"
     ]
    },
    {
     "name": "stderr",
     "output_type": "stream",
     "text": [
      "1000it [31:47,  1.90s/it]3-29 11:10:40 [ 5] Lr: 0.000221, Training: 8.00%,  Loss: 0.43272 "
     ]
    },
    {
     "name": "stdout",
     "output_type": "stream",
     "text": [
      "\n"
     ]
    },
    {
     "name": "stderr",
     "output_type": "stream",
     "text": [
      "1500it [47:37,  1.90s/it]03-29 11:26:30 [ 5] Lr: 0.000221, Training: 12.00%,  Loss: 0.43319 "
     ]
    },
    {
     "name": "stdout",
     "output_type": "stream",
     "text": [
      "\n"
     ]
    },
    {
     "name": "stderr",
     "output_type": "stream",
     "text": [
      "2000it [1:03:26,  1.89s/it]03-29 11:42:19 [ 5] Lr: 0.000220, Training: 16.00%,  Loss: 0.43293 "
     ]
    },
    {
     "name": "stdout",
     "output_type": "stream",
     "text": [
      "\n"
     ]
    },
    {
     "name": "stderr",
     "output_type": "stream",
     "text": [
      "2500it [1:19:16,  1.94s/it]03-29 11:58:09 [ 5] Lr: 0.000220, Training: 20.00%,  Loss: 0.43313 "
     ]
    },
    {
     "name": "stdout",
     "output_type": "stream",
     "text": [
      "\n"
     ]
    },
    {
     "name": "stderr",
     "output_type": "stream",
     "text": [
      "3000it [1:35:04,  1.90s/it]03-29 12:13:57 [ 5] Lr: 0.000220, Training: 24.00%,  Loss: 0.43288 "
     ]
    },
    {
     "name": "stdout",
     "output_type": "stream",
     "text": [
      "\n"
     ]
    },
    {
     "name": "stderr",
     "output_type": "stream",
     "text": [
      "3500it [1:50:53,  1.90s/it]03-29 12:29:46 [ 5] Lr: 0.000220, Training: 28.00%,  Loss: 0.43279 "
     ]
    },
    {
     "name": "stdout",
     "output_type": "stream",
     "text": [
      "\n"
     ]
    },
    {
     "name": "stderr",
     "output_type": "stream",
     "text": [
      "4000it [2:06:42,  1.90s/it]03-29 12:45:35 [ 5] Lr: 0.000219, Training: 32.00%,  Loss: 0.43271 "
     ]
    },
    {
     "name": "stdout",
     "output_type": "stream",
     "text": [
      "\n"
     ]
    },
    {
     "name": "stderr",
     "output_type": "stream",
     "text": [
      "4500it [2:22:31,  1.90s/it]03-29 13:01:24 [ 5] Lr: 0.000219, Training: 36.00%,  Loss: 0.43284 "
     ]
    },
    {
     "name": "stdout",
     "output_type": "stream",
     "text": [
      "\n"
     ]
    },
    {
     "name": "stderr",
     "output_type": "stream",
     "text": [
      "5000it [2:38:22,  1.91s/it]03-29 13:17:15 [ 5] Lr: 0.000219, Training: 40.00%,  Loss: 0.43313 "
     ]
    },
    {
     "name": "stdout",
     "output_type": "stream",
     "text": [
      "\n"
     ]
    },
    {
     "name": "stderr",
     "output_type": "stream",
     "text": [
      "5500it [2:54:27,  1.95s/it]03-29 13:33:20 [ 5] Lr: 0.000219, Training: 44.00%,  Loss: 0.43331 "
     ]
    },
    {
     "name": "stdout",
     "output_type": "stream",
     "text": [
      "\n"
     ]
    },
    {
     "name": "stderr",
     "output_type": "stream",
     "text": [
      "6000it [3:10:32,  1.94s/it]03-29 13:49:25 [ 5] Lr: 0.000218, Training: 48.00%,  Loss: 0.43362 "
     ]
    },
    {
     "name": "stdout",
     "output_type": "stream",
     "text": [
      "\n"
     ]
    },
    {
     "name": "stderr",
     "output_type": "stream",
     "text": [
      "6500it [3:26:41,  1.96s/it]03-29 14:05:34 [ 5] Lr: 0.000218, Training: 52.00%,  Loss: 0.43386 "
     ]
    },
    {
     "name": "stdout",
     "output_type": "stream",
     "text": [
      "\n"
     ]
    },
    {
     "name": "stderr",
     "output_type": "stream",
     "text": [
      "7000it [3:42:47,  1.93s/it]03-29 14:21:41 [ 5] Lr: 0.000218, Training: 56.00%,  Loss: 0.43403 "
     ]
    },
    {
     "name": "stdout",
     "output_type": "stream",
     "text": [
      "\n"
     ]
    },
    {
     "name": "stderr",
     "output_type": "stream",
     "text": [
      "7500it [3:58:54,  1.93s/it]03-29 14:37:47 [ 5] Lr: 0.000217, Training: 60.00%,  Loss: 0.43424 "
     ]
    },
    {
     "name": "stdout",
     "output_type": "stream",
     "text": [
      "\n"
     ]
    },
    {
     "name": "stderr",
     "output_type": "stream",
     "text": [
      "8000it [4:14:59,  1.92s/it]03-29 14:53:53 [ 5] Lr: 0.000217, Training: 63.99%,  Loss: 0.43413 "
     ]
    },
    {
     "name": "stdout",
     "output_type": "stream",
     "text": [
      "\n"
     ]
    },
    {
     "name": "stderr",
     "output_type": "stream",
     "text": [
      "8500it [4:30:57,  1.91s/it]03-29 15:09:50 [ 5] Lr: 0.000217, Training: 67.99%,  Loss: 0.43429 "
     ]
    },
    {
     "name": "stdout",
     "output_type": "stream",
     "text": [
      "\n"
     ]
    },
    {
     "name": "stderr",
     "output_type": "stream",
     "text": [
      "9000it [4:46:48,  1.91s/it]03-29 15:25:42 [ 5] Lr: 0.000217, Training: 71.99%,  Loss: 0.43451 "
     ]
    },
    {
     "name": "stdout",
     "output_type": "stream",
     "text": [
      "\n"
     ]
    },
    {
     "name": "stderr",
     "output_type": "stream",
     "text": [
      "9500it [5:02:39,  1.90s/it]03-29 15:41:32 [ 5] Lr: 0.000216, Training: 75.99%,  Loss: 0.43471 "
     ]
    },
    {
     "name": "stdout",
     "output_type": "stream",
     "text": [
      "\n"
     ]
    },
    {
     "name": "stderr",
     "output_type": "stream",
     "text": [
      "10000it [5:18:30,  1.90s/it]3-29 15:57:23 [ 5] Lr: 0.000216, Training: 79.99%,  Loss: 0.43472 "
     ]
    },
    {
     "name": "stdout",
     "output_type": "stream",
     "text": [
      "\n"
     ]
    },
    {
     "name": "stderr",
     "output_type": "stream",
     "text": [
      "10500it [5:34:21,  1.91s/it]03-29 16:13:14 [ 5] Lr: 0.000216, Training: 83.99%,  Loss: 0.43485 "
     ]
    },
    {
     "name": "stdout",
     "output_type": "stream",
     "text": [
      "\n"
     ]
    },
    {
     "name": "stderr",
     "output_type": "stream",
     "text": [
      "11000it [5:50:11,  1.90s/it]03-29 16:29:04 [ 5] Lr: 0.000215, Training: 87.99%,  Loss: 0.43480 "
     ]
    },
    {
     "name": "stdout",
     "output_type": "stream",
     "text": [
      "\n"
     ]
    },
    {
     "name": "stderr",
     "output_type": "stream",
     "text": [
      "11500it [6:06:02,  1.90s/it]03-29 16:44:55 [ 5] Lr: 0.000215, Training: 91.99%,  Loss: 0.43504 "
     ]
    },
    {
     "name": "stdout",
     "output_type": "stream",
     "text": [
      "\n"
     ]
    },
    {
     "name": "stderr",
     "output_type": "stream",
     "text": [
      "12000it [6:21:53,  1.90s/it]03-29 17:00:46 [ 5] Lr: 0.000215, Training: 95.99%,  Loss: 0.43517 "
     ]
    },
    {
     "name": "stdout",
     "output_type": "stream",
     "text": [
      "\n"
     ]
    },
    {
     "name": "stderr",
     "output_type": "stream",
     "text": [
      "12500it [6:37:44,  1.90s/it]03-29 17:16:38 [ 5] Lr: 0.000215, Training: 99.99%,  Loss: 0.43532 "
     ]
    },
    {
     "name": "stdout",
     "output_type": "stream",
     "text": [
      "\n"
     ]
    },
    {
     "name": "stderr",
     "output_type": "stream",
     "text": [
      "12501it [6:37:48,  1.91s/it]\n",
      "657it [06:42,  1.63it/s]\n"
     ]
    },
    {
     "name": "stdout",
     "output_type": "stream",
     "text": [
      "2023-03-29 17:23:23 5 epoch, Pearson_R 0.74%, bestPearson_R 0.74%\n"
     ]
    },
    {
     "name": "stderr",
     "output_type": "stream",
     "text": [
      "138it [01:24,  1.64it/s]\n"
     ]
    },
    {
     "name": "stdout",
     "output_type": "stream",
     "text": [
      "2023-03-29 17:24:48 5 epoch, Eval_Pearson_R 0.95%, Best_Eval_Pearson_R 0.95%\n",
      "LR :  0.00021458937004983903\n"
     ]
    },
    {
     "name": "stderr",
     "output_type": "stream",
     "text": [
      "500it [15:53,  1.91s/it]03-29 17:40:42 [ 6] Lr: 0.000214, Training: 4.00%,  Loss: 0.42712 "
     ]
    },
    {
     "name": "stdout",
     "output_type": "stream",
     "text": [
      "\n"
     ]
    },
    {
     "name": "stderr",
     "output_type": "stream",
     "text": [
      "1000it [31:45,  1.91s/it]3-29 17:56:34 [ 6] Lr: 0.000214, Training: 8.00%,  Loss: 0.42621 "
     ]
    },
    {
     "name": "stdout",
     "output_type": "stream",
     "text": [
      "\n"
     ]
    },
    {
     "name": "stderr",
     "output_type": "stream",
     "text": [
      "1500it [47:38,  1.90s/it]03-29 18:12:26 [ 6] Lr: 0.000214, Training: 12.00%,  Loss: 0.42642 "
     ]
    },
    {
     "name": "stdout",
     "output_type": "stream",
     "text": [
      "\n"
     ]
    },
    {
     "name": "stderr",
     "output_type": "stream",
     "text": [
      "2000it [1:03:31,  1.91s/it]03-29 18:28:19 [ 6] Lr: 0.000213, Training: 16.00%,  Loss: 0.42613 "
     ]
    },
    {
     "name": "stdout",
     "output_type": "stream",
     "text": [
      "\n"
     ]
    },
    {
     "name": "stderr",
     "output_type": "stream",
     "text": [
      "2500it [1:19:24,  1.90s/it]03-29 18:44:12 [ 6] Lr: 0.000213, Training: 20.00%,  Loss: 0.42577 "
     ]
    },
    {
     "name": "stdout",
     "output_type": "stream",
     "text": [
      "\n"
     ]
    },
    {
     "name": "stderr",
     "output_type": "stream",
     "text": [
      "3000it [1:35:15,  1.90s/it]03-29 19:00:04 [ 6] Lr: 0.000213, Training: 24.00%,  Loss: 0.42636 "
     ]
    },
    {
     "name": "stdout",
     "output_type": "stream",
     "text": [
      "\n"
     ]
    },
    {
     "name": "stderr",
     "output_type": "stream",
     "text": [
      "3500it [1:51:07,  1.90s/it]03-29 19:15:55 [ 6] Lr: 0.000212, Training: 28.00%,  Loss: 0.42669 "
     ]
    },
    {
     "name": "stdout",
     "output_type": "stream",
     "text": [
      "\n"
     ]
    },
    {
     "name": "stderr",
     "output_type": "stream",
     "text": [
      "4000it [2:06:58,  1.91s/it]03-29 19:31:47 [ 6] Lr: 0.000212, Training: 32.00%,  Loss: 0.42684 "
     ]
    },
    {
     "name": "stdout",
     "output_type": "stream",
     "text": [
      "\n"
     ]
    },
    {
     "name": "stderr",
     "output_type": "stream",
     "text": [
      "4500it [2:22:51,  1.90s/it]03-29 19:47:39 [ 6] Lr: 0.000212, Training: 36.00%,  Loss: 0.42708 "
     ]
    },
    {
     "name": "stdout",
     "output_type": "stream",
     "text": [
      "\n"
     ]
    },
    {
     "name": "stderr",
     "output_type": "stream",
     "text": [
      "5000it [2:38:44,  1.91s/it]03-29 20:03:32 [ 6] Lr: 0.000211, Training: 40.00%,  Loss: 0.42736 "
     ]
    },
    {
     "name": "stdout",
     "output_type": "stream",
     "text": [
      "\n"
     ]
    },
    {
     "name": "stderr",
     "output_type": "stream",
     "text": [
      "5500it [2:54:37,  1.90s/it]03-29 20:19:25 [ 6] Lr: 0.000211, Training: 44.00%,  Loss: 0.42767 "
     ]
    },
    {
     "name": "stdout",
     "output_type": "stream",
     "text": [
      "\n"
     ]
    },
    {
     "name": "stderr",
     "output_type": "stream",
     "text": [
      "6000it [3:10:29,  1.91s/it]03-29 20:35:17 [ 6] Lr: 0.000211, Training: 48.00%,  Loss: 0.42781 "
     ]
    },
    {
     "name": "stdout",
     "output_type": "stream",
     "text": [
      "\n"
     ]
    },
    {
     "name": "stderr",
     "output_type": "stream",
     "text": [
      "6500it [3:26:21,  1.91s/it]03-29 20:51:09 [ 6] Lr: 0.000210, Training: 52.00%,  Loss: 0.42825 "
     ]
    },
    {
     "name": "stdout",
     "output_type": "stream",
     "text": [
      "\n"
     ]
    },
    {
     "name": "stderr",
     "output_type": "stream",
     "text": [
      "7000it [3:42:13,  1.91s/it]03-29 21:07:01 [ 6] Lr: 0.000210, Training: 56.00%,  Loss: 0.42816 "
     ]
    },
    {
     "name": "stdout",
     "output_type": "stream",
     "text": [
      "\n"
     ]
    },
    {
     "name": "stderr",
     "output_type": "stream",
     "text": [
      "7500it [3:58:05,  1.90s/it]03-29 21:22:53 [ 6] Lr: 0.000210, Training: 60.00%,  Loss: 0.42827 "
     ]
    },
    {
     "name": "stdout",
     "output_type": "stream",
     "text": [
      "\n"
     ]
    },
    {
     "name": "stderr",
     "output_type": "stream",
     "text": [
      "8000it [4:13:57,  1.91s/it]03-29 21:38:45 [ 6] Lr: 0.000209, Training: 63.99%,  Loss: 0.42854 "
     ]
    },
    {
     "name": "stdout",
     "output_type": "stream",
     "text": [
      "\n"
     ]
    },
    {
     "name": "stderr",
     "output_type": "stream",
     "text": [
      "8500it [4:29:48,  1.90s/it]03-29 21:54:37 [ 6] Lr: 0.000209, Training: 67.99%,  Loss: 0.42882 "
     ]
    },
    {
     "name": "stdout",
     "output_type": "stream",
     "text": [
      "\n"
     ]
    },
    {
     "name": "stderr",
     "output_type": "stream",
     "text": [
      "9000it [4:45:39,  1.90s/it]03-29 22:10:28 [ 6] Lr: 0.000209, Training: 71.99%,  Loss: 0.42889 "
     ]
    },
    {
     "name": "stdout",
     "output_type": "stream",
     "text": [
      "\n"
     ]
    },
    {
     "name": "stderr",
     "output_type": "stream",
     "text": [
      "9500it [5:01:29,  1.90s/it]03-29 22:26:18 [ 6] Lr: 0.000208, Training: 75.99%,  Loss: 0.42873 "
     ]
    },
    {
     "name": "stdout",
     "output_type": "stream",
     "text": [
      "\n"
     ]
    },
    {
     "name": "stderr",
     "output_type": "stream",
     "text": [
      "10000it [5:17:18,  1.90s/it]3-29 22:42:07 [ 6] Lr: 0.000208, Training: 79.99%,  Loss: 0.42883 "
     ]
    },
    {
     "name": "stdout",
     "output_type": "stream",
     "text": [
      "\n"
     ]
    },
    {
     "name": "stderr",
     "output_type": "stream",
     "text": [
      "10500it [5:33:07,  1.90s/it]03-29 22:57:55 [ 6] Lr: 0.000208, Training: 83.99%,  Loss: 0.42886 "
     ]
    },
    {
     "name": "stdout",
     "output_type": "stream",
     "text": [
      "\n"
     ]
    },
    {
     "name": "stderr",
     "output_type": "stream",
     "text": [
      "11000it [5:48:55,  1.90s/it]03-29 23:13:44 [ 6] Lr: 0.000207, Training: 87.99%,  Loss: 0.42891 "
     ]
    },
    {
     "name": "stdout",
     "output_type": "stream",
     "text": [
      "\n"
     ]
    },
    {
     "name": "stderr",
     "output_type": "stream",
     "text": [
      "11500it [6:04:44,  1.90s/it]03-29 23:29:32 [ 6] Lr: 0.000207, Training: 91.99%,  Loss: 0.42889 "
     ]
    },
    {
     "name": "stdout",
     "output_type": "stream",
     "text": [
      "\n"
     ]
    },
    {
     "name": "stderr",
     "output_type": "stream",
     "text": [
      "12000it [6:20:32,  1.90s/it]03-29 23:45:21 [ 6] Lr: 0.000207, Training: 95.99%,  Loss: 0.42899 "
     ]
    },
    {
     "name": "stdout",
     "output_type": "stream",
     "text": [
      "\n"
     ]
    },
    {
     "name": "stderr",
     "output_type": "stream",
     "text": [
      "12500it [6:36:22,  1.90s/it]03-30 00:01:11 [ 6] Lr: 0.000206, Training: 99.99%,  Loss: 0.42915 "
     ]
    },
    {
     "name": "stdout",
     "output_type": "stream",
     "text": [
      "\n"
     ]
    },
    {
     "name": "stderr",
     "output_type": "stream",
     "text": [
      "12501it [6:36:25,  1.90s/it]\n",
      "657it [06:38,  1.65it/s]\n"
     ]
    },
    {
     "name": "stdout",
     "output_type": "stream",
     "text": [
      "2023-03-30 00:07:52 6 epoch, Pearson_R 0.75%, bestPearson_R 0.75%\n"
     ]
    },
    {
     "name": "stderr",
     "output_type": "stream",
     "text": [
      "138it [01:23,  1.65it/s]\n"
     ]
    },
    {
     "name": "stdout",
     "output_type": "stream",
     "text": [
      "2023-03-30 00:09:16 6 epoch, Eval_Pearson_R 0.95%, Best_Eval_Pearson_R 0.95%\n",
      "LR :  0.00020623059714386762\n"
     ]
    },
    {
     "name": "stderr",
     "output_type": "stream",
     "text": [
      "500it [15:49,  1.90s/it]03-30 00:25:05 [ 7] Lr: 0.000206, Training: 4.00%,  Loss: 0.41616 "
     ]
    },
    {
     "name": "stdout",
     "output_type": "stream",
     "text": [
      "\n"
     ]
    },
    {
     "name": "stderr",
     "output_type": "stream",
     "text": [
      "1000it [31:37,  1.90s/it]3-30 00:40:54 [ 7] Lr: 0.000205, Training: 8.00%,  Loss: 0.41581 "
     ]
    },
    {
     "name": "stdout",
     "output_type": "stream",
     "text": [
      "\n"
     ]
    },
    {
     "name": "stderr",
     "output_type": "stream",
     "text": [
      "1500it [47:26,  1.90s/it]03-30 00:56:42 [ 7] Lr: 0.000205, Training: 12.00%,  Loss: 0.41697 "
     ]
    },
    {
     "name": "stdout",
     "output_type": "stream",
     "text": [
      "\n"
     ]
    },
    {
     "name": "stderr",
     "output_type": "stream",
     "text": [
      "2000it [1:03:16,  1.90s/it]03-30 01:12:32 [ 7] Lr: 0.000205, Training: 16.00%,  Loss: 0.41766 "
     ]
    },
    {
     "name": "stdout",
     "output_type": "stream",
     "text": [
      "\n"
     ]
    },
    {
     "name": "stderr",
     "output_type": "stream",
     "text": [
      "2500it [1:19:07,  1.90s/it]03-30 01:28:23 [ 7] Lr: 0.000204, Training: 20.00%,  Loss: 0.41763 "
     ]
    },
    {
     "name": "stdout",
     "output_type": "stream",
     "text": [
      "\n"
     ]
    },
    {
     "name": "stderr",
     "output_type": "stream",
     "text": [
      "3000it [1:34:57,  1.90s/it]03-30 01:44:13 [ 7] Lr: 0.000204, Training: 24.00%,  Loss: 0.41847 "
     ]
    },
    {
     "name": "stdout",
     "output_type": "stream",
     "text": [
      "\n"
     ]
    },
    {
     "name": "stderr",
     "output_type": "stream",
     "text": [
      "3500it [1:50:46,  1.90s/it]03-30 02:00:02 [ 7] Lr: 0.000204, Training: 28.00%,  Loss: 0.41868 "
     ]
    },
    {
     "name": "stdout",
     "output_type": "stream",
     "text": [
      "\n"
     ]
    },
    {
     "name": "stderr",
     "output_type": "stream",
     "text": [
      "4000it [2:06:35,  1.90s/it]03-30 02:15:51 [ 7] Lr: 0.000203, Training: 32.00%,  Loss: 0.41901 "
     ]
    },
    {
     "name": "stdout",
     "output_type": "stream",
     "text": [
      "\n"
     ]
    },
    {
     "name": "stderr",
     "output_type": "stream",
     "text": [
      "4500it [2:22:24,  1.90s/it]03-30 02:31:40 [ 7] Lr: 0.000203, Training: 36.00%,  Loss: 0.41932 "
     ]
    },
    {
     "name": "stdout",
     "output_type": "stream",
     "text": [
      "\n"
     ]
    },
    {
     "name": "stderr",
     "output_type": "stream",
     "text": [
      "5000it [2:38:13,  1.90s/it]03-30 02:47:30 [ 7] Lr: 0.000202, Training: 40.00%,  Loss: 0.42001 "
     ]
    },
    {
     "name": "stdout",
     "output_type": "stream",
     "text": [
      "\n"
     ]
    },
    {
     "name": "stderr",
     "output_type": "stream",
     "text": [
      "5500it [2:54:02,  1.90s/it]03-30 03:03:18 [ 7] Lr: 0.000202, Training: 44.00%,  Loss: 0.42021 "
     ]
    },
    {
     "name": "stdout",
     "output_type": "stream",
     "text": [
      "\n"
     ]
    },
    {
     "name": "stderr",
     "output_type": "stream",
     "text": [
      "6000it [3:09:52,  1.90s/it]03-30 03:19:08 [ 7] Lr: 0.000202, Training: 48.00%,  Loss: 0.42035 "
     ]
    },
    {
     "name": "stdout",
     "output_type": "stream",
     "text": [
      "\n"
     ]
    },
    {
     "name": "stderr",
     "output_type": "stream",
     "text": [
      "6500it [3:25:41,  1.90s/it]03-30 03:34:58 [ 7] Lr: 0.000201, Training: 52.00%,  Loss: 0.42047 "
     ]
    },
    {
     "name": "stdout",
     "output_type": "stream",
     "text": [
      "\n"
     ]
    },
    {
     "name": "stderr",
     "output_type": "stream",
     "text": [
      "7000it [3:41:32,  1.90s/it]03-30 03:50:48 [ 7] Lr: 0.000201, Training: 56.00%,  Loss: 0.42054 "
     ]
    },
    {
     "name": "stdout",
     "output_type": "stream",
     "text": [
      "\n"
     ]
    },
    {
     "name": "stderr",
     "output_type": "stream",
     "text": [
      "7500it [3:57:20,  1.90s/it]03-30 04:06:37 [ 7] Lr: 0.000200, Training: 60.00%,  Loss: 0.42051 "
     ]
    },
    {
     "name": "stdout",
     "output_type": "stream",
     "text": [
      "\n"
     ]
    },
    {
     "name": "stderr",
     "output_type": "stream",
     "text": [
      "8000it [4:13:10,  1.90s/it]03-30 04:22:26 [ 7] Lr: 0.000200, Training: 63.99%,  Loss: 0.42101 "
     ]
    },
    {
     "name": "stdout",
     "output_type": "stream",
     "text": [
      "\n"
     ]
    },
    {
     "name": "stderr",
     "output_type": "stream",
     "text": [
      "8500it [4:28:59,  1.90s/it]03-30 04:38:15 [ 7] Lr: 0.000200, Training: 67.99%,  Loss: 0.42135 "
     ]
    },
    {
     "name": "stdout",
     "output_type": "stream",
     "text": [
      "\n"
     ]
    },
    {
     "name": "stderr",
     "output_type": "stream",
     "text": [
      "9000it [4:44:47,  1.90s/it]03-30 04:54:04 [ 7] Lr: 0.000199, Training: 71.99%,  Loss: 0.42155 "
     ]
    },
    {
     "name": "stdout",
     "output_type": "stream",
     "text": [
      "\n"
     ]
    },
    {
     "name": "stderr",
     "output_type": "stream",
     "text": [
      "9500it [5:00:38,  1.90s/it]03-30 05:09:54 [ 7] Lr: 0.000199, Training: 75.99%,  Loss: 0.42167 "
     ]
    },
    {
     "name": "stdout",
     "output_type": "stream",
     "text": [
      "\n"
     ]
    },
    {
     "name": "stderr",
     "output_type": "stream",
     "text": [
      "10000it [5:16:29,  1.90s/it]3-30 05:25:45 [ 7] Lr: 0.000198, Training: 79.99%,  Loss: 0.42186 "
     ]
    },
    {
     "name": "stdout",
     "output_type": "stream",
     "text": [
      "\n"
     ]
    },
    {
     "name": "stderr",
     "output_type": "stream",
     "text": [
      "10500it [5:32:20,  1.90s/it]03-30 05:41:36 [ 7] Lr: 0.000198, Training: 83.99%,  Loss: 0.42189 "
     ]
    },
    {
     "name": "stdout",
     "output_type": "stream",
     "text": [
      "\n"
     ]
    },
    {
     "name": "stderr",
     "output_type": "stream",
     "text": [
      "11000it [5:48:11,  1.90s/it]03-30 05:57:27 [ 7] Lr: 0.000198, Training: 87.99%,  Loss: 0.42224 "
     ]
    },
    {
     "name": "stdout",
     "output_type": "stream",
     "text": [
      "\n"
     ]
    },
    {
     "name": "stderr",
     "output_type": "stream",
     "text": [
      "11500it [6:04:02,  1.91s/it]03-30 06:13:19 [ 7] Lr: 0.000197, Training: 91.99%,  Loss: 0.42242 "
     ]
    },
    {
     "name": "stdout",
     "output_type": "stream",
     "text": [
      "\n"
     ]
    },
    {
     "name": "stderr",
     "output_type": "stream",
     "text": [
      "12000it [6:19:54,  1.90s/it]03-30 06:29:10 [ 7] Lr: 0.000197, Training: 95.99%,  Loss: 0.42266 "
     ]
    },
    {
     "name": "stdout",
     "output_type": "stream",
     "text": [
      "\n"
     ]
    },
    {
     "name": "stderr",
     "output_type": "stream",
     "text": [
      "12500it [6:35:45,  1.90s/it]03-30 06:45:02 [ 7] Lr: 0.000196, Training: 99.99%,  Loss: 0.42266 "
     ]
    },
    {
     "name": "stdout",
     "output_type": "stream",
     "text": [
      "\n"
     ]
    },
    {
     "name": "stderr",
     "output_type": "stream",
     "text": [
      "12501it [6:35:48,  1.90s/it]\n",
      "657it [06:39,  1.65it/s]\n"
     ]
    },
    {
     "name": "stdout",
     "output_type": "stream",
     "text": [
      "2023-03-30 06:51:44 7 epoch, Pearson_R 0.74%, bestPearson_R 0.75%\n",
      "LR :  0.00019631060188872923\n"
     ]
    },
    {
     "name": "stderr",
     "output_type": "stream",
     "text": [
      "500it [15:51,  1.90s/it]03-30 07:07:35 [ 8] Lr: 0.000196, Training: 4.00%,  Loss: 0.41112 "
     ]
    },
    {
     "name": "stdout",
     "output_type": "stream",
     "text": [
      "\n"
     ]
    },
    {
     "name": "stderr",
     "output_type": "stream",
     "text": [
      "1000it [31:41,  1.90s/it]3-30 07:23:25 [ 8] Lr: 0.000195, Training: 8.00%,  Loss: 0.41062 "
     ]
    },
    {
     "name": "stdout",
     "output_type": "stream",
     "text": [
      "\n"
     ]
    },
    {
     "name": "stderr",
     "output_type": "stream",
     "text": [
      "1500it [47:31,  1.90s/it]03-30 07:39:15 [ 8] Lr: 0.000195, Training: 12.00%,  Loss: 0.41054 "
     ]
    },
    {
     "name": "stdout",
     "output_type": "stream",
     "text": [
      "\n"
     ]
    },
    {
     "name": "stderr",
     "output_type": "stream",
     "text": [
      "2000it [1:03:21,  1.90s/it]03-30 07:55:05 [ 8] Lr: 0.000195, Training: 16.00%,  Loss: 0.41098 "
     ]
    },
    {
     "name": "stdout",
     "output_type": "stream",
     "text": [
      "\n"
     ]
    },
    {
     "name": "stderr",
     "output_type": "stream",
     "text": [
      "2500it [1:19:11,  1.90s/it]03-30 08:10:56 [ 8] Lr: 0.000194, Training: 20.00%,  Loss: 0.41140 "
     ]
    },
    {
     "name": "stdout",
     "output_type": "stream",
     "text": [
      "\n"
     ]
    },
    {
     "name": "stderr",
     "output_type": "stream",
     "text": [
      "3000it [1:35:01,  1.91s/it]03-30 08:26:46 [ 8] Lr: 0.000194, Training: 24.00%,  Loss: 0.41172 "
     ]
    },
    {
     "name": "stdout",
     "output_type": "stream",
     "text": [
      "\n"
     ]
    },
    {
     "name": "stderr",
     "output_type": "stream",
     "text": [
      "3500it [1:50:52,  1.90s/it]03-30 08:42:36 [ 8] Lr: 0.000193, Training: 28.00%,  Loss: 0.41201 "
     ]
    },
    {
     "name": "stdout",
     "output_type": "stream",
     "text": [
      "\n"
     ]
    },
    {
     "name": "stderr",
     "output_type": "stream",
     "text": [
      "4000it [2:06:41,  1.90s/it]03-30 08:58:26 [ 8] Lr: 0.000193, Training: 32.00%,  Loss: 0.41217 "
     ]
    },
    {
     "name": "stdout",
     "output_type": "stream",
     "text": [
      "\n"
     ]
    },
    {
     "name": "stderr",
     "output_type": "stream",
     "text": [
      "4500it [2:22:31,  1.90s/it]03-30 09:14:16 [ 8] Lr: 0.000192, Training: 36.00%,  Loss: 0.41192 "
     ]
    },
    {
     "name": "stdout",
     "output_type": "stream",
     "text": [
      "\n"
     ]
    },
    {
     "name": "stderr",
     "output_type": "stream",
     "text": [
      "5000it [2:38:21,  1.90s/it]03-30 09:30:06 [ 8] Lr: 0.000192, Training: 40.00%,  Loss: 0.41212 "
     ]
    },
    {
     "name": "stdout",
     "output_type": "stream",
     "text": [
      "\n"
     ]
    },
    {
     "name": "stderr",
     "output_type": "stream",
     "text": [
      "5500it [2:54:11,  1.90s/it]03-30 09:45:55 [ 8] Lr: 0.000191, Training: 44.00%,  Loss: 0.41230 "
     ]
    },
    {
     "name": "stdout",
     "output_type": "stream",
     "text": [
      "\n"
     ]
    },
    {
     "name": "stderr",
     "output_type": "stream",
     "text": [
      "6000it [3:10:01,  1.90s/it]03-30 10:01:45 [ 8] Lr: 0.000191, Training: 48.00%,  Loss: 0.41275 "
     ]
    },
    {
     "name": "stdout",
     "output_type": "stream",
     "text": [
      "\n"
     ]
    },
    {
     "name": "stderr",
     "output_type": "stream",
     "text": [
      "6500it [3:25:51,  1.90s/it]03-30 10:17:35 [ 8] Lr: 0.000191, Training: 52.00%,  Loss: 0.41314 "
     ]
    },
    {
     "name": "stdout",
     "output_type": "stream",
     "text": [
      "\n"
     ]
    },
    {
     "name": "stderr",
     "output_type": "stream",
     "text": [
      "7000it [3:41:40,  1.90s/it]03-30 10:33:25 [ 8] Lr: 0.000190, Training: 56.00%,  Loss: 0.41348 "
     ]
    },
    {
     "name": "stdout",
     "output_type": "stream",
     "text": [
      "\n"
     ]
    },
    {
     "name": "stderr",
     "output_type": "stream",
     "text": [
      "7500it [3:57:31,  1.91s/it]03-30 10:49:15 [ 8] Lr: 0.000190, Training: 60.00%,  Loss: 0.41382 "
     ]
    },
    {
     "name": "stdout",
     "output_type": "stream",
     "text": [
      "\n"
     ]
    },
    {
     "name": "stderr",
     "output_type": "stream",
     "text": [
      "8000it [4:13:21,  1.90s/it]03-30 11:05:05 [ 8] Lr: 0.000189, Training: 63.99%,  Loss: 0.41410 "
     ]
    },
    {
     "name": "stdout",
     "output_type": "stream",
     "text": [
      "\n"
     ]
    },
    {
     "name": "stderr",
     "output_type": "stream",
     "text": [
      "8500it [4:29:11,  1.90s/it]03-30 11:20:55 [ 8] Lr: 0.000189, Training: 67.99%,  Loss: 0.41421 "
     ]
    },
    {
     "name": "stdout",
     "output_type": "stream",
     "text": [
      "\n"
     ]
    },
    {
     "name": "stderr",
     "output_type": "stream",
     "text": [
      "9000it [4:45:01,  1.90s/it]03-30 11:36:45 [ 8] Lr: 0.000188, Training: 71.99%,  Loss: 0.41448 "
     ]
    },
    {
     "name": "stdout",
     "output_type": "stream",
     "text": [
      "\n"
     ]
    },
    {
     "name": "stderr",
     "output_type": "stream",
     "text": [
      "9500it [5:00:56,  1.93s/it]03-30 11:52:41 [ 8] Lr: 0.000188, Training: 75.99%,  Loss: 0.41463 "
     ]
    },
    {
     "name": "stdout",
     "output_type": "stream",
     "text": [
      "\n"
     ]
    },
    {
     "name": "stderr",
     "output_type": "stream",
     "text": [
      "10000it [5:17:04,  1.95s/it]3-30 12:08:48 [ 8] Lr: 0.000187, Training: 79.99%,  Loss: 0.41479 "
     ]
    },
    {
     "name": "stdout",
     "output_type": "stream",
     "text": [
      "\n"
     ]
    },
    {
     "name": "stderr",
     "output_type": "stream",
     "text": [
      "10500it [5:33:13,  1.93s/it]03-30 12:24:57 [ 8] Lr: 0.000187, Training: 83.99%,  Loss: 0.41495 "
     ]
    },
    {
     "name": "stdout",
     "output_type": "stream",
     "text": [
      "\n"
     ]
    },
    {
     "name": "stderr",
     "output_type": "stream",
     "text": [
      "11000it [5:49:22,  1.93s/it]03-30 12:41:06 [ 8] Lr: 0.000186, Training: 87.99%,  Loss: 0.41503 "
     ]
    },
    {
     "name": "stdout",
     "output_type": "stream",
     "text": [
      "\n"
     ]
    },
    {
     "name": "stderr",
     "output_type": "stream",
     "text": [
      "11500it [6:05:32,  1.96s/it]03-30 12:57:16 [ 8] Lr: 0.000186, Training: 91.99%,  Loss: 0.41511 "
     ]
    },
    {
     "name": "stdout",
     "output_type": "stream",
     "text": [
      "\n"
     ]
    },
    {
     "name": "stderr",
     "output_type": "stream",
     "text": [
      "12000it [6:21:54,  1.99s/it]03-30 13:13:39 [ 8] Lr: 0.000185, Training: 95.99%,  Loss: 0.41533 "
     ]
    },
    {
     "name": "stdout",
     "output_type": "stream",
     "text": [
      "\n"
     ]
    },
    {
     "name": "stderr",
     "output_type": "stream",
     "text": [
      "12500it [6:38:23,  1.98s/it]03-30 13:30:08 [ 8] Lr: 0.000185, Training: 99.99%,  Loss: 0.41557 "
     ]
    },
    {
     "name": "stdout",
     "output_type": "stream",
     "text": [
      "\n"
     ]
    },
    {
     "name": "stderr",
     "output_type": "stream",
     "text": [
      "12501it [6:38:26,  1.91s/it]\n",
      "657it [06:41,  1.64it/s]\n"
     ]
    },
    {
     "name": "stdout",
     "output_type": "stream",
     "text": [
      "2023-03-30 13:36:53 8 epoch, Pearson_R 0.74%, bestPearson_R 0.75%\n",
      "LR :  0.0001849991452732902\n"
     ]
    },
    {
     "name": "stderr",
     "output_type": "stream",
     "text": [
      "500it [16:27,  1.97s/it]03-30 13:53:20 [ 9] Lr: 0.000185, Training: 4.00%,  Loss: 0.39969 "
     ]
    },
    {
     "name": "stdout",
     "output_type": "stream",
     "text": [
      "\n"
     ]
    },
    {
     "name": "stderr",
     "output_type": "stream",
     "text": [
      "1000it [32:52,  1.97s/it]3-30 14:09:45 [ 9] Lr: 0.000184, Training: 8.00%,  Loss: 0.40115 "
     ]
    },
    {
     "name": "stdout",
     "output_type": "stream",
     "text": [
      "\n"
     ]
    },
    {
     "name": "stderr",
     "output_type": "stream",
     "text": [
      "1500it [49:20,  1.95s/it]03-30 14:26:13 [ 9] Lr: 0.000184, Training: 12.00%,  Loss: 0.40088 "
     ]
    },
    {
     "name": "stdout",
     "output_type": "stream",
     "text": [
      "\n"
     ]
    },
    {
     "name": "stderr",
     "output_type": "stream",
     "text": [
      "2000it [1:05:47,  1.96s/it]03-30 14:42:40 [ 9] Lr: 0.000183, Training: 16.00%,  Loss: 0.40108 "
     ]
    },
    {
     "name": "stdout",
     "output_type": "stream",
     "text": [
      "\n"
     ]
    },
    {
     "name": "stderr",
     "output_type": "stream",
     "text": [
      "2500it [1:22:11,  1.97s/it]03-30 14:59:04 [ 9] Lr: 0.000183, Training: 20.00%,  Loss: 0.40145 "
     ]
    },
    {
     "name": "stdout",
     "output_type": "stream",
     "text": [
      "\n"
     ]
    },
    {
     "name": "stderr",
     "output_type": "stream",
     "text": [
      "3000it [1:38:35,  1.94s/it]03-30 15:15:28 [ 9] Lr: 0.000182, Training: 24.00%,  Loss: 0.40193 "
     ]
    },
    {
     "name": "stdout",
     "output_type": "stream",
     "text": [
      "\n"
     ]
    },
    {
     "name": "stderr",
     "output_type": "stream",
     "text": [
      "3500it [1:55:01,  1.96s/it]03-30 15:31:54 [ 9] Lr: 0.000182, Training: 28.00%,  Loss: 0.40248 "
     ]
    },
    {
     "name": "stdout",
     "output_type": "stream",
     "text": [
      "\n"
     ]
    },
    {
     "name": "stderr",
     "output_type": "stream",
     "text": [
      "4000it [2:11:09,  1.90s/it]03-30 15:48:02 [ 9] Lr: 0.000181, Training: 32.00%,  Loss: 0.40326 "
     ]
    },
    {
     "name": "stdout",
     "output_type": "stream",
     "text": [
      "\n"
     ]
    },
    {
     "name": "stderr",
     "output_type": "stream",
     "text": [
      "4500it [2:27:07,  1.90s/it]03-30 16:04:00 [ 9] Lr: 0.000181, Training: 36.00%,  Loss: 0.40329 "
     ]
    },
    {
     "name": "stdout",
     "output_type": "stream",
     "text": [
      "\n"
     ]
    },
    {
     "name": "stderr",
     "output_type": "stream",
     "text": [
      "5000it [2:43:00,  1.90s/it]03-30 16:19:53 [ 9] Lr: 0.000180, Training: 40.00%,  Loss: 0.40356 "
     ]
    },
    {
     "name": "stdout",
     "output_type": "stream",
     "text": [
      "\n"
     ]
    },
    {
     "name": "stderr",
     "output_type": "stream",
     "text": [
      "5500it [2:58:53,  1.90s/it]03-30 16:35:46 [ 9] Lr: 0.000180, Training: 44.00%,  Loss: 0.40414 "
     ]
    },
    {
     "name": "stdout",
     "output_type": "stream",
     "text": [
      "\n"
     ]
    },
    {
     "name": "stderr",
     "output_type": "stream",
     "text": [
      "6000it [3:14:46,  1.92s/it]03-30 16:51:39 [ 9] Lr: 0.000179, Training: 48.00%,  Loss: 0.40437 "
     ]
    },
    {
     "name": "stdout",
     "output_type": "stream",
     "text": [
      "\n"
     ]
    },
    {
     "name": "stderr",
     "output_type": "stream",
     "text": [
      "6500it [3:30:40,  1.92s/it]03-30 17:07:33 [ 9] Lr: 0.000179, Training: 52.00%,  Loss: 0.40488 "
     ]
    },
    {
     "name": "stdout",
     "output_type": "stream",
     "text": [
      "\n"
     ]
    },
    {
     "name": "stderr",
     "output_type": "stream",
     "text": [
      "7000it [3:46:37,  1.90s/it]03-30 17:23:30 [ 9] Lr: 0.000178, Training: 56.00%,  Loss: 0.40512 "
     ]
    },
    {
     "name": "stdout",
     "output_type": "stream",
     "text": [
      "\n"
     ]
    },
    {
     "name": "stderr",
     "output_type": "stream",
     "text": [
      "7500it [4:02:30,  1.91s/it]03-30 17:39:23 [ 9] Lr: 0.000178, Training: 60.00%,  Loss: 0.40555 "
     ]
    },
    {
     "name": "stdout",
     "output_type": "stream",
     "text": [
      "\n"
     ]
    },
    {
     "name": "stderr",
     "output_type": "stream",
     "text": [
      "8000it [4:19:05,  2.00s/it]03-30 17:55:58 [ 9] Lr: 0.000177, Training: 63.99%,  Loss: 0.40576 "
     ]
    },
    {
     "name": "stdout",
     "output_type": "stream",
     "text": [
      "\n"
     ]
    },
    {
     "name": "stderr",
     "output_type": "stream",
     "text": [
      "8500it [4:35:41,  1.98s/it]03-30 18:12:34 [ 9] Lr: 0.000177, Training: 67.99%,  Loss: 0.40593 "
     ]
    },
    {
     "name": "stdout",
     "output_type": "stream",
     "text": [
      "\n"
     ]
    },
    {
     "name": "stderr",
     "output_type": "stream",
     "text": [
      "9000it [4:52:16,  2.03s/it]03-30 18:29:09 [ 9] Lr: 0.000176, Training: 71.99%,  Loss: 0.40626 "
     ]
    },
    {
     "name": "stdout",
     "output_type": "stream",
     "text": [
      "\n"
     ]
    },
    {
     "name": "stderr",
     "output_type": "stream",
     "text": [
      "9500it [5:09:01,  2.02s/it]03-30 18:45:54 [ 9] Lr: 0.000176, Training: 75.99%,  Loss: 0.40652 "
     ]
    },
    {
     "name": "stdout",
     "output_type": "stream",
     "text": [
      "\n"
     ]
    },
    {
     "name": "stderr",
     "output_type": "stream",
     "text": [
      "10000it [5:25:49,  2.03s/it]3-30 19:02:42 [ 9] Lr: 0.000175, Training: 79.99%,  Loss: 0.40686 "
     ]
    },
    {
     "name": "stdout",
     "output_type": "stream",
     "text": [
      "\n"
     ]
    },
    {
     "name": "stderr",
     "output_type": "stream",
     "text": [
      "10500it [5:42:25,  1.97s/it]03-30 19:19:18 [ 9] Lr: 0.000175, Training: 83.99%,  Loss: 0.40697 "
     ]
    },
    {
     "name": "stdout",
     "output_type": "stream",
     "text": [
      "\n"
     ]
    },
    {
     "name": "stderr",
     "output_type": "stream",
     "text": [
      "11000it [5:59:01,  1.99s/it]03-30 19:35:54 [ 9] Lr: 0.000174, Training: 87.99%,  Loss: 0.40726 "
     ]
    },
    {
     "name": "stdout",
     "output_type": "stream",
     "text": [
      "\n"
     ]
    },
    {
     "name": "stderr",
     "output_type": "stream",
     "text": [
      "11500it [6:15:39,  2.01s/it]03-30 19:52:32 [ 9] Lr: 0.000174, Training: 91.99%,  Loss: 0.40752 "
     ]
    },
    {
     "name": "stdout",
     "output_type": "stream",
     "text": [
      "\n"
     ]
    },
    {
     "name": "stderr",
     "output_type": "stream",
     "text": [
      "12000it [6:32:00,  2.01s/it]03-30 20:08:53 [ 9] Lr: 0.000173, Training: 95.99%,  Loss: 0.40774 "
     ]
    },
    {
     "name": "stdout",
     "output_type": "stream",
     "text": [
      "\n"
     ]
    },
    {
     "name": "stderr",
     "output_type": "stream",
     "text": [
      "12500it [6:48:22,  1.97s/it]03-30 20:25:15 [ 9] Lr: 0.000172, Training: 99.99%,  Loss: 0.40794 "
     ]
    },
    {
     "name": "stdout",
     "output_type": "stream",
     "text": [
      "\n"
     ]
    },
    {
     "name": "stderr",
     "output_type": "stream",
     "text": [
      "12501it [6:48:25,  1.96s/it]\n",
      "657it [06:45,  1.62it/s]\n"
     ]
    },
    {
     "name": "stdout",
     "output_type": "stream",
     "text": [
      "2023-03-30 20:32:04 9 epoch, Pearson_R 0.74%, bestPearson_R 0.75%\n",
      "LR :  0.00017248980038011435\n"
     ]
    },
    {
     "name": "stderr",
     "output_type": "stream",
     "text": [
      "500it [16:16,  1.94s/it]03-30 20:48:20 [10] Lr: 0.000172, Training: 4.00%,  Loss: 0.39074 "
     ]
    },
    {
     "name": "stdout",
     "output_type": "stream",
     "text": [
      "\n"
     ]
    },
    {
     "name": "stderr",
     "output_type": "stream",
     "text": [
      "1000it [32:32,  1.96s/it]3-30 21:04:36 [10] Lr: 0.000171, Training: 8.00%,  Loss: 0.39286 "
     ]
    },
    {
     "name": "stdout",
     "output_type": "stream",
     "text": [
      "\n"
     ]
    },
    {
     "name": "stderr",
     "output_type": "stream",
     "text": [
      "1500it [48:49,  2.01s/it]03-30 21:20:53 [10] Lr: 0.000171, Training: 12.00%,  Loss: 0.39268 "
     ]
    },
    {
     "name": "stdout",
     "output_type": "stream",
     "text": [
      "\n"
     ]
    },
    {
     "name": "stderr",
     "output_type": "stream",
     "text": [
      "2000it [1:05:03,  1.94s/it]03-30 21:37:07 [10] Lr: 0.000170, Training: 16.00%,  Loss: 0.39296 "
     ]
    },
    {
     "name": "stdout",
     "output_type": "stream",
     "text": [
      "\n"
     ]
    },
    {
     "name": "stderr",
     "output_type": "stream",
     "text": [
      "2500it [1:21:18,  1.99s/it]03-30 21:53:22 [10] Lr: 0.000170, Training: 20.00%,  Loss: 0.39296 "
     ]
    },
    {
     "name": "stdout",
     "output_type": "stream",
     "text": [
      "\n"
     ]
    },
    {
     "name": "stderr",
     "output_type": "stream",
     "text": [
      "3000it [1:37:37,  1.98s/it]03-30 22:09:41 [10] Lr: 0.000169, Training: 24.00%,  Loss: 0.39347 "
     ]
    },
    {
     "name": "stdout",
     "output_type": "stream",
     "text": [
      "\n"
     ]
    },
    {
     "name": "stderr",
     "output_type": "stream",
     "text": [
      "3500it [1:53:50,  1.97s/it]03-30 22:25:54 [10] Lr: 0.000169, Training: 28.00%,  Loss: 0.39399 "
     ]
    },
    {
     "name": "stdout",
     "output_type": "stream",
     "text": [
      "\n"
     ]
    },
    {
     "name": "stderr",
     "output_type": "stream",
     "text": [
      "4000it [2:10:06,  2.00s/it]03-30 22:42:10 [10] Lr: 0.000168, Training: 32.00%,  Loss: 0.39461 "
     ]
    },
    {
     "name": "stdout",
     "output_type": "stream",
     "text": [
      "\n"
     ]
    },
    {
     "name": "stderr",
     "output_type": "stream",
     "text": [
      "4500it [2:26:25,  1.95s/it]03-30 22:58:29 [10] Lr: 0.000168, Training: 36.00%,  Loss: 0.39510 "
     ]
    },
    {
     "name": "stdout",
     "output_type": "stream",
     "text": [
      "\n"
     ]
    },
    {
     "name": "stderr",
     "output_type": "stream",
     "text": [
      "5000it [2:42:35,  1.94s/it]03-30 23:14:39 [10] Lr: 0.000167, Training: 40.00%,  Loss: 0.39542 "
     ]
    },
    {
     "name": "stdout",
     "output_type": "stream",
     "text": [
      "\n"
     ]
    },
    {
     "name": "stderr",
     "output_type": "stream",
     "text": [
      "5500it [2:58:48,  1.94s/it]03-30 23:30:53 [10] Lr: 0.000167, Training: 44.00%,  Loss: 0.39585 "
     ]
    },
    {
     "name": "stdout",
     "output_type": "stream",
     "text": [
      "\n"
     ]
    },
    {
     "name": "stderr",
     "output_type": "stream",
     "text": [
      "6000it [3:15:09,  1.93s/it]03-30 23:47:13 [10] Lr: 0.000166, Training: 48.00%,  Loss: 0.39616 "
     ]
    },
    {
     "name": "stdout",
     "output_type": "stream",
     "text": [
      "\n"
     ]
    },
    {
     "name": "stderr",
     "output_type": "stream",
     "text": [
      "6500it [3:31:23,  1.93s/it]03-31 00:03:28 [10] Lr: 0.000166, Training: 52.00%,  Loss: 0.39638 "
     ]
    },
    {
     "name": "stdout",
     "output_type": "stream",
     "text": [
      "\n"
     ]
    },
    {
     "name": "stderr",
     "output_type": "stream",
     "text": [
      "7000it [3:47:31,  1.92s/it]03-31 00:19:36 [10] Lr: 0.000165, Training: 56.00%,  Loss: 0.39640 "
     ]
    },
    {
     "name": "stdout",
     "output_type": "stream",
     "text": [
      "\n"
     ]
    },
    {
     "name": "stderr",
     "output_type": "stream",
     "text": [
      "7500it [4:03:46,  1.91s/it]03-31 00:35:50 [10] Lr: 0.000164, Training: 60.00%,  Loss: 0.39684 "
     ]
    },
    {
     "name": "stdout",
     "output_type": "stream",
     "text": [
      "\n"
     ]
    },
    {
     "name": "stderr",
     "output_type": "stream",
     "text": [
      "8000it [4:19:45,  1.91s/it]03-31 00:51:49 [10] Lr: 0.000164, Training: 63.99%,  Loss: 0.39711 "
     ]
    },
    {
     "name": "stdout",
     "output_type": "stream",
     "text": [
      "\n"
     ]
    },
    {
     "name": "stderr",
     "output_type": "stream",
     "text": [
      "8500it [4:35:42,  1.91s/it]03-31 01:07:46 [10] Lr: 0.000163, Training: 67.99%,  Loss: 0.39743 "
     ]
    },
    {
     "name": "stdout",
     "output_type": "stream",
     "text": [
      "\n"
     ]
    },
    {
     "name": "stderr",
     "output_type": "stream",
     "text": [
      "9000it [4:51:42,  1.95s/it]03-31 01:23:46 [10] Lr: 0.000163, Training: 71.99%,  Loss: 0.39768 "
     ]
    },
    {
     "name": "stdout",
     "output_type": "stream",
     "text": [
      "\n"
     ]
    },
    {
     "name": "stderr",
     "output_type": "stream",
     "text": [
      "9500it [5:07:41,  1.92s/it]03-31 01:39:45 [10] Lr: 0.000162, Training: 75.99%,  Loss: 0.39791 "
     ]
    },
    {
     "name": "stdout",
     "output_type": "stream",
     "text": [
      "\n"
     ]
    },
    {
     "name": "stderr",
     "output_type": "stream",
     "text": [
      "10000it [5:23:40,  1.92s/it]3-31 01:55:44 [10] Lr: 0.000162, Training: 79.99%,  Loss: 0.39810 "
     ]
    },
    {
     "name": "stdout",
     "output_type": "stream",
     "text": [
      "\n"
     ]
    },
    {
     "name": "stderr",
     "output_type": "stream",
     "text": [
      "10500it [5:39:40,  1.94s/it]03-31 02:11:44 [10] Lr: 0.000161, Training: 83.99%,  Loss: 0.39827 "
     ]
    },
    {
     "name": "stdout",
     "output_type": "stream",
     "text": [
      "\n"
     ]
    },
    {
     "name": "stderr",
     "output_type": "stream",
     "text": [
      "11000it [5:55:43,  1.93s/it]03-31 02:27:47 [10] Lr: 0.000161, Training: 87.99%,  Loss: 0.39858 "
     ]
    },
    {
     "name": "stdout",
     "output_type": "stream",
     "text": [
      "\n"
     ]
    },
    {
     "name": "stderr",
     "output_type": "stream",
     "text": [
      "11500it [6:11:44,  1.92s/it]03-31 02:43:48 [10] Lr: 0.000160, Training: 91.99%,  Loss: 0.39884 "
     ]
    },
    {
     "name": "stdout",
     "output_type": "stream",
     "text": [
      "\n"
     ]
    },
    {
     "name": "stderr",
     "output_type": "stream",
     "text": [
      "12000it [6:27:43,  1.91s/it]03-31 02:59:47 [10] Lr: 0.000160, Training: 95.99%,  Loss: 0.39911 "
     ]
    },
    {
     "name": "stdout",
     "output_type": "stream",
     "text": [
      "\n"
     ]
    },
    {
     "name": "stderr",
     "output_type": "stream",
     "text": [
      "12500it [6:43:59,  1.96s/it]03-31 03:16:03 [10] Lr: 0.000159, Training: 99.99%,  Loss: 0.39933 "
     ]
    },
    {
     "name": "stdout",
     "output_type": "stream",
     "text": [
      "\n"
     ]
    },
    {
     "name": "stderr",
     "output_type": "stream",
     "text": [
      "12501it [6:44:02,  1.94s/it]\n",
      "657it [06:47,  1.61it/s]\n"
     ]
    },
    {
     "name": "stdout",
     "output_type": "stream",
     "text": [
      "2023-03-31 03:22:54 10 epoch, Pearson_R 0.74%, bestPearson_R 0.75%\n",
      "LR :  0.00015899663976715322\n"
     ]
    },
    {
     "name": "stderr",
     "output_type": "stream",
     "text": [
      "500it [16:17,  1.95s/it]03-31 03:39:12 [11] Lr: 0.000158, Training: 4.00%,  Loss: 0.38319 "
     ]
    },
    {
     "name": "stdout",
     "output_type": "stream",
     "text": [
      "\n"
     ]
    },
    {
     "name": "stderr",
     "output_type": "stream",
     "text": [
      "1000it [32:37,  1.99s/it]3-31 03:55:32 [11] Lr: 0.000158, Training: 8.00%,  Loss: 0.38382 "
     ]
    },
    {
     "name": "stdout",
     "output_type": "stream",
     "text": [
      "\n"
     ]
    },
    {
     "name": "stderr",
     "output_type": "stream",
     "text": [
      "1500it [48:58,  1.93s/it]03-31 04:11:53 [11] Lr: 0.000157, Training: 12.00%,  Loss: 0.38490 "
     ]
    },
    {
     "name": "stdout",
     "output_type": "stream",
     "text": [
      "\n"
     ]
    },
    {
     "name": "stderr",
     "output_type": "stream",
     "text": [
      "2000it [1:05:12,  1.97s/it]03-31 04:28:07 [11] Lr: 0.000157, Training: 16.00%,  Loss: 0.38506 "
     ]
    },
    {
     "name": "stdout",
     "output_type": "stream",
     "text": [
      "\n"
     ]
    },
    {
     "name": "stderr",
     "output_type": "stream",
     "text": [
      "2500it [1:21:27,  1.98s/it]03-31 04:44:21 [11] Lr: 0.000156, Training: 20.00%,  Loss: 0.38472 "
     ]
    },
    {
     "name": "stdout",
     "output_type": "stream",
     "text": [
      "\n"
     ]
    },
    {
     "name": "stderr",
     "output_type": "stream",
     "text": [
      "3000it [1:37:53,  1.99s/it]03-31 05:00:48 [11] Lr: 0.000156, Training: 24.00%,  Loss: 0.38480 "
     ]
    },
    {
     "name": "stdout",
     "output_type": "stream",
     "text": [
      "\n"
     ]
    },
    {
     "name": "stderr",
     "output_type": "stream",
     "text": [
      "3500it [1:54:16,  1.91s/it]03-31 05:17:11 [11] Lr: 0.000155, Training: 28.00%,  Loss: 0.38521 "
     ]
    },
    {
     "name": "stdout",
     "output_type": "stream",
     "text": [
      "\n"
     ]
    },
    {
     "name": "stderr",
     "output_type": "stream",
     "text": [
      "4000it [2:10:08,  1.91s/it]03-31 05:33:03 [11] Lr: 0.000155, Training: 32.00%,  Loss: 0.38537 "
     ]
    },
    {
     "name": "stdout",
     "output_type": "stream",
     "text": [
      "\n"
     ]
    },
    {
     "name": "stderr",
     "output_type": "stream",
     "text": [
      "4500it [2:26:33,  1.95s/it]03-31 05:49:28 [11] Lr: 0.000154, Training: 36.00%,  Loss: 0.38544 "
     ]
    },
    {
     "name": "stdout",
     "output_type": "stream",
     "text": [
      "\n"
     ]
    },
    {
     "name": "stderr",
     "output_type": "stream",
     "text": [
      "5000it [2:42:39,  1.91s/it]03-31 06:05:34 [11] Lr: 0.000153, Training: 40.00%,  Loss: 0.38605 "
     ]
    },
    {
     "name": "stdout",
     "output_type": "stream",
     "text": [
      "\n"
     ]
    },
    {
     "name": "stderr",
     "output_type": "stream",
     "text": [
      "5500it [2:58:38,  1.92s/it]03-31 06:21:32 [11] Lr: 0.000153, Training: 44.00%,  Loss: 0.38644 "
     ]
    },
    {
     "name": "stdout",
     "output_type": "stream",
     "text": [
      "\n"
     ]
    },
    {
     "name": "stderr",
     "output_type": "stream",
     "text": [
      "6000it [3:14:39,  1.91s/it]03-31 06:37:33 [11] Lr: 0.000152, Training: 48.00%,  Loss: 0.38673 "
     ]
    },
    {
     "name": "stdout",
     "output_type": "stream",
     "text": [
      "\n"
     ]
    },
    {
     "name": "stderr",
     "output_type": "stream",
     "text": [
      "6500it [3:30:36,  1.91s/it]03-31 06:53:31 [11] Lr: 0.000152, Training: 52.00%,  Loss: 0.38683 "
     ]
    },
    {
     "name": "stdout",
     "output_type": "stream",
     "text": [
      "\n"
     ]
    },
    {
     "name": "stderr",
     "output_type": "stream",
     "text": [
      "7000it [3:46:33,  1.91s/it]03-31 07:09:28 [11] Lr: 0.000151, Training: 56.00%,  Loss: 0.38714 "
     ]
    },
    {
     "name": "stdout",
     "output_type": "stream",
     "text": [
      "\n"
     ]
    },
    {
     "name": "stderr",
     "output_type": "stream",
     "text": [
      "7500it [4:02:34,  1.91s/it]03-31 07:25:29 [11] Lr: 0.000151, Training: 60.00%,  Loss: 0.38752 "
     ]
    },
    {
     "name": "stdout",
     "output_type": "stream",
     "text": [
      "\n"
     ]
    },
    {
     "name": "stderr",
     "output_type": "stream",
     "text": [
      "8000it [4:18:32,  1.91s/it]03-31 07:41:27 [11] Lr: 0.000150, Training: 63.99%,  Loss: 0.38792 "
     ]
    },
    {
     "name": "stdout",
     "output_type": "stream",
     "text": [
      "\n"
     ]
    },
    {
     "name": "stderr",
     "output_type": "stream",
     "text": [
      "8500it [4:34:29,  1.92s/it]03-31 07:57:23 [11] Lr: 0.000149, Training: 67.99%,  Loss: 0.38849 "
     ]
    },
    {
     "name": "stdout",
     "output_type": "stream",
     "text": [
      "\n"
     ]
    },
    {
     "name": "stderr",
     "output_type": "stream",
     "text": [
      "9000it [4:50:28,  1.92s/it]03-31 08:13:23 [11] Lr: 0.000149, Training: 71.99%,  Loss: 0.38864 "
     ]
    },
    {
     "name": "stdout",
     "output_type": "stream",
     "text": [
      "\n"
     ]
    },
    {
     "name": "stderr",
     "output_type": "stream",
     "text": [
      "9500it [5:06:29,  1.90s/it]03-31 08:29:23 [11] Lr: 0.000148, Training: 75.99%,  Loss: 0.38898 "
     ]
    },
    {
     "name": "stdout",
     "output_type": "stream",
     "text": [
      "\n"
     ]
    },
    {
     "name": "stderr",
     "output_type": "stream",
     "text": [
      "10000it [5:22:21,  1.91s/it]3-31 08:45:16 [11] Lr: 0.000148, Training: 79.99%,  Loss: 0.38925 "
     ]
    },
    {
     "name": "stdout",
     "output_type": "stream",
     "text": [
      "\n"
     ]
    },
    {
     "name": "stderr",
     "output_type": "stream",
     "text": [
      "10500it [5:38:12,  1.90s/it]03-31 09:01:07 [11] Lr: 0.000147, Training: 83.99%,  Loss: 0.38935 "
     ]
    },
    {
     "name": "stdout",
     "output_type": "stream",
     "text": [
      "\n"
     ]
    },
    {
     "name": "stderr",
     "output_type": "stream",
     "text": [
      "11000it [5:54:04,  1.91s/it]03-31 09:16:58 [11] Lr: 0.000146, Training: 87.99%,  Loss: 0.38947 "
     ]
    },
    {
     "name": "stdout",
     "output_type": "stream",
     "text": [
      "\n"
     ]
    },
    {
     "name": "stderr",
     "output_type": "stream",
     "text": [
      "11500it [6:09:55,  1.90s/it]03-31 09:32:50 [11] Lr: 0.000146, Training: 91.99%,  Loss: 0.38966 "
     ]
    },
    {
     "name": "stdout",
     "output_type": "stream",
     "text": [
      "\n"
     ]
    },
    {
     "name": "stderr",
     "output_type": "stream",
     "text": [
      "12000it [6:25:46,  1.90s/it]03-31 09:48:41 [11] Lr: 0.000145, Training: 95.99%,  Loss: 0.38990 "
     ]
    },
    {
     "name": "stdout",
     "output_type": "stream",
     "text": [
      "\n"
     ]
    },
    {
     "name": "stderr",
     "output_type": "stream",
     "text": [
      "12500it [6:41:38,  1.90s/it]03-31 10:04:32 [11] Lr: 0.000145, Training: 99.99%,  Loss: 0.39002 "
     ]
    },
    {
     "name": "stdout",
     "output_type": "stream",
     "text": [
      "\n"
     ]
    },
    {
     "name": "stderr",
     "output_type": "stream",
     "text": [
      "12501it [6:41:40,  1.93s/it]\n",
      "657it [06:44,  1.63it/s]\n"
     ]
    },
    {
     "name": "stdout",
     "output_type": "stream",
     "text": [
      "2023-03-31 10:11:19 11 epoch, Pearson_R 0.73%, bestPearson_R 0.75%\n",
      "LR :  0.00014475057204168685\n"
     ]
    },
    {
     "name": "stderr",
     "output_type": "stream",
     "text": [
      "500it [15:58,  1.91s/it]03-31 10:27:18 [12] Lr: 0.000144, Training: 4.00%,  Loss: 0.37236 "
     ]
    },
    {
     "name": "stdout",
     "output_type": "stream",
     "text": [
      "\n"
     ]
    },
    {
     "name": "stderr",
     "output_type": "stream",
     "text": [
      "1000it [31:53,  1.93s/it]3-31 10:43:13 [12] Lr: 0.000144, Training: 8.00%,  Loss: 0.37220 "
     ]
    },
    {
     "name": "stdout",
     "output_type": "stream",
     "text": [
      "\n"
     ]
    },
    {
     "name": "stderr",
     "output_type": "stream",
     "text": [
      "1500it [47:48,  1.92s/it]03-31 10:59:08 [12] Lr: 0.000143, Training: 12.00%,  Loss: 0.37179 "
     ]
    },
    {
     "name": "stdout",
     "output_type": "stream",
     "text": [
      "\n"
     ]
    },
    {
     "name": "stderr",
     "output_type": "stream",
     "text": [
      "2000it [1:03:43,  1.91s/it]03-31 11:15:03 [12] Lr: 0.000142, Training: 16.00%,  Loss: 0.37247 "
     ]
    },
    {
     "name": "stdout",
     "output_type": "stream",
     "text": [
      "\n"
     ]
    },
    {
     "name": "stderr",
     "output_type": "stream",
     "text": [
      "2500it [1:19:40,  1.92s/it]03-31 11:31:00 [12] Lr: 0.000142, Training: 20.00%,  Loss: 0.37287 "
     ]
    },
    {
     "name": "stdout",
     "output_type": "stream",
     "text": [
      "\n"
     ]
    },
    {
     "name": "stderr",
     "output_type": "stream",
     "text": [
      "3000it [1:35:42,  1.92s/it]03-31 11:47:02 [12] Lr: 0.000141, Training: 24.00%,  Loss: 0.37305 "
     ]
    },
    {
     "name": "stdout",
     "output_type": "stream",
     "text": [
      "\n"
     ]
    },
    {
     "name": "stderr",
     "output_type": "stream",
     "text": [
      "3500it [1:51:36,  1.91s/it]03-31 12:02:56 [12] Lr: 0.000141, Training: 28.00%,  Loss: 0.37338 "
     ]
    },
    {
     "name": "stdout",
     "output_type": "stream",
     "text": [
      "\n"
     ]
    },
    {
     "name": "stderr",
     "output_type": "stream",
     "text": [
      "4000it [2:07:29,  1.91s/it]03-31 12:18:49 [12] Lr: 0.000140, Training: 32.00%,  Loss: 0.37360 "
     ]
    },
    {
     "name": "stdout",
     "output_type": "stream",
     "text": [
      "\n"
     ]
    },
    {
     "name": "stderr",
     "output_type": "stream",
     "text": [
      "4500it [2:23:21,  1.90s/it]03-31 12:34:41 [12] Lr: 0.000139, Training: 36.00%,  Loss: 0.37434 "
     ]
    },
    {
     "name": "stdout",
     "output_type": "stream",
     "text": [
      "\n"
     ]
    },
    {
     "name": "stderr",
     "output_type": "stream",
     "text": [
      "5000it [2:39:20,  1.90s/it]03-31 12:50:40 [12] Lr: 0.000139, Training: 40.00%,  Loss: 0.37473 "
     ]
    },
    {
     "name": "stdout",
     "output_type": "stream",
     "text": [
      "\n"
     ]
    },
    {
     "name": "stderr",
     "output_type": "stream",
     "text": [
      "5500it [2:55:12,  1.91s/it]03-31 13:06:32 [12] Lr: 0.000138, Training: 44.00%,  Loss: 0.37521 "
     ]
    },
    {
     "name": "stdout",
     "output_type": "stream",
     "text": [
      "\n"
     ]
    },
    {
     "name": "stderr",
     "output_type": "stream",
     "text": [
      "6000it [3:11:04,  1.91s/it]03-31 13:22:24 [12] Lr: 0.000138, Training: 48.00%,  Loss: 0.37562 "
     ]
    },
    {
     "name": "stdout",
     "output_type": "stream",
     "text": [
      "\n"
     ]
    },
    {
     "name": "stderr",
     "output_type": "stream",
     "text": [
      "6500it [3:26:55,  1.90s/it]03-31 13:38:15 [12] Lr: 0.000137, Training: 52.00%,  Loss: 0.37604 "
     ]
    },
    {
     "name": "stdout",
     "output_type": "stream",
     "text": [
      "\n"
     ]
    },
    {
     "name": "stderr",
     "output_type": "stream",
     "text": [
      "7000it [3:42:45,  1.90s/it]03-31 13:54:05 [12] Lr: 0.000137, Training: 56.00%,  Loss: 0.37649 "
     ]
    },
    {
     "name": "stdout",
     "output_type": "stream",
     "text": [
      "\n"
     ]
    },
    {
     "name": "stderr",
     "output_type": "stream",
     "text": [
      "7500it [3:58:36,  1.90s/it]03-31 14:09:56 [12] Lr: 0.000136, Training: 60.00%,  Loss: 0.37684 "
     ]
    },
    {
     "name": "stdout",
     "output_type": "stream",
     "text": [
      "\n"
     ]
    },
    {
     "name": "stderr",
     "output_type": "stream",
     "text": [
      "8000it [4:14:28,  1.90s/it]03-31 14:25:48 [12] Lr: 0.000135, Training: 63.99%,  Loss: 0.37722 "
     ]
    },
    {
     "name": "stdout",
     "output_type": "stream",
     "text": [
      "\n"
     ]
    },
    {
     "name": "stderr",
     "output_type": "stream",
     "text": [
      "8500it [4:30:19,  1.90s/it]03-31 14:41:39 [12] Lr: 0.000135, Training: 67.99%,  Loss: 0.37744 "
     ]
    },
    {
     "name": "stdout",
     "output_type": "stream",
     "text": [
      "\n"
     ]
    },
    {
     "name": "stderr",
     "output_type": "stream",
     "text": [
      "9000it [4:46:10,  1.90s/it]03-31 14:57:30 [12] Lr: 0.000134, Training: 71.99%,  Loss: 0.37787 "
     ]
    },
    {
     "name": "stdout",
     "output_type": "stream",
     "text": [
      "\n"
     ]
    },
    {
     "name": "stderr",
     "output_type": "stream",
     "text": [
      "9500it [5:02:01,  1.90s/it]03-31 15:13:21 [12] Lr: 0.000134, Training: 75.99%,  Loss: 0.37827 "
     ]
    },
    {
     "name": "stdout",
     "output_type": "stream",
     "text": [
      "\n"
     ]
    },
    {
     "name": "stderr",
     "output_type": "stream",
     "text": [
      "10000it [5:17:51,  1.91s/it]3-31 15:29:11 [12] Lr: 0.000133, Training: 79.99%,  Loss: 0.37854 "
     ]
    },
    {
     "name": "stdout",
     "output_type": "stream",
     "text": [
      "\n"
     ]
    },
    {
     "name": "stderr",
     "output_type": "stream",
     "text": [
      "10500it [5:33:42,  1.91s/it]03-31 15:45:02 [12] Lr: 0.000132, Training: 83.99%,  Loss: 0.37871 "
     ]
    },
    {
     "name": "stdout",
     "output_type": "stream",
     "text": [
      "\n"
     ]
    },
    {
     "name": "stderr",
     "output_type": "stream",
     "text": [
      "11000it [5:49:35,  1.91s/it]03-31 16:00:55 [12] Lr: 0.000132, Training: 87.99%,  Loss: 0.37888 "
     ]
    },
    {
     "name": "stdout",
     "output_type": "stream",
     "text": [
      "\n"
     ]
    },
    {
     "name": "stderr",
     "output_type": "stream",
     "text": [
      "11500it [6:05:27,  1.90s/it]03-31 16:16:47 [12] Lr: 0.000131, Training: 91.99%,  Loss: 0.37907 "
     ]
    },
    {
     "name": "stdout",
     "output_type": "stream",
     "text": [
      "\n"
     ]
    },
    {
     "name": "stderr",
     "output_type": "stream",
     "text": [
      "12000it [6:21:19,  1.91s/it]03-31 16:32:39 [12] Lr: 0.000131, Training: 95.99%,  Loss: 0.37928 "
     ]
    },
    {
     "name": "stdout",
     "output_type": "stream",
     "text": [
      "\n"
     ]
    },
    {
     "name": "stderr",
     "output_type": "stream",
     "text": [
      "12500it [6:37:11,  1.91s/it]03-31 16:48:31 [12] Lr: 0.000130, Training: 99.99%,  Loss: 0.37955 "
     ]
    },
    {
     "name": "stdout",
     "output_type": "stream",
     "text": [
      "\n"
     ]
    },
    {
     "name": "stderr",
     "output_type": "stream",
     "text": [
      "12501it [6:37:14,  1.91s/it]\n",
      "657it [06:44,  1.63it/s]\n"
     ]
    },
    {
     "name": "stdout",
     "output_type": "stream",
     "text": [
      "2023-03-31 16:55:18 12 epoch, Pearson_R 0.73%, bestPearson_R 0.75%\n",
      "LR :  0.00012999539031876526\n"
     ]
    },
    {
     "name": "stderr",
     "output_type": "stream",
     "text": [
      "500it [15:56,  1.90s/it]03-31 17:11:14 [13] Lr: 0.000129, Training: 4.00%,  Loss: 0.35858 "
     ]
    },
    {
     "name": "stdout",
     "output_type": "stream",
     "text": [
      "\n"
     ]
    },
    {
     "name": "stderr",
     "output_type": "stream",
     "text": [
      "1000it [31:49,  1.91s/it]3-31 17:27:08 [13] Lr: 0.000129, Training: 8.00%,  Loss: 0.35996 "
     ]
    },
    {
     "name": "stdout",
     "output_type": "stream",
     "text": [
      "\n"
     ]
    },
    {
     "name": "stderr",
     "output_type": "stream",
     "text": [
      "1500it [47:50,  1.92s/it]03-31 17:43:08 [13] Lr: 0.000128, Training: 12.00%,  Loss: 0.36069 "
     ]
    },
    {
     "name": "stdout",
     "output_type": "stream",
     "text": [
      "\n"
     ]
    },
    {
     "name": "stderr",
     "output_type": "stream",
     "text": [
      "2000it [1:03:50,  1.91s/it]03-31 17:59:08 [13] Lr: 0.000128, Training: 16.00%,  Loss: 0.36125 "
     ]
    },
    {
     "name": "stdout",
     "output_type": "stream",
     "text": [
      "\n"
     ]
    },
    {
     "name": "stderr",
     "output_type": "stream",
     "text": [
      "2500it [1:19:50,  1.91s/it]03-31 18:15:09 [13] Lr: 0.000127, Training: 20.00%,  Loss: 0.36124 "
     ]
    },
    {
     "name": "stdout",
     "output_type": "stream",
     "text": [
      "\n"
     ]
    },
    {
     "name": "stderr",
     "output_type": "stream",
     "text": [
      "3000it [1:35:54,  1.93s/it]03-31 18:31:12 [13] Lr: 0.000126, Training: 24.00%,  Loss: 0.36175 "
     ]
    },
    {
     "name": "stdout",
     "output_type": "stream",
     "text": [
      "\n"
     ]
    },
    {
     "name": "stderr",
     "output_type": "stream",
     "text": [
      "3500it [1:51:55,  1.94s/it]03-31 18:47:14 [13] Lr: 0.000126, Training: 28.00%,  Loss: 0.36206 "
     ]
    },
    {
     "name": "stdout",
     "output_type": "stream",
     "text": [
      "\n"
     ]
    },
    {
     "name": "stderr",
     "output_type": "stream",
     "text": [
      "4000it [2:07:56,  1.91s/it]03-31 19:03:14 [13] Lr: 0.000125, Training: 32.00%,  Loss: 0.36259 "
     ]
    },
    {
     "name": "stdout",
     "output_type": "stream",
     "text": [
      "\n"
     ]
    },
    {
     "name": "stderr",
     "output_type": "stream",
     "text": [
      "4500it [2:23:59,  1.94s/it]03-31 19:19:18 [13] Lr: 0.000125, Training: 36.00%,  Loss: 0.36320 "
     ]
    },
    {
     "name": "stdout",
     "output_type": "stream",
     "text": [
      "\n"
     ]
    },
    {
     "name": "stderr",
     "output_type": "stream",
     "text": [
      "5000it [2:40:02,  1.91s/it]03-31 19:35:20 [13] Lr: 0.000124, Training: 40.00%,  Loss: 0.36354 "
     ]
    },
    {
     "name": "stdout",
     "output_type": "stream",
     "text": [
      "\n"
     ]
    },
    {
     "name": "stderr",
     "output_type": "stream",
     "text": [
      "5500it [2:56:02,  1.92s/it]03-31 19:51:21 [13] Lr: 0.000123, Training: 44.00%,  Loss: 0.36399 "
     ]
    },
    {
     "name": "stdout",
     "output_type": "stream",
     "text": [
      "\n"
     ]
    },
    {
     "name": "stderr",
     "output_type": "stream",
     "text": [
      "6000it [3:12:03,  1.91s/it]03-31 20:07:21 [13] Lr: 0.000123, Training: 48.00%,  Loss: 0.36437 "
     ]
    },
    {
     "name": "stdout",
     "output_type": "stream",
     "text": [
      "\n"
     ]
    },
    {
     "name": "stderr",
     "output_type": "stream",
     "text": [
      "6500it [3:28:06,  1.91s/it]03-31 20:23:24 [13] Lr: 0.000122, Training: 52.00%,  Loss: 0.36478 "
     ]
    },
    {
     "name": "stdout",
     "output_type": "stream",
     "text": [
      "\n"
     ]
    },
    {
     "name": "stderr",
     "output_type": "stream",
     "text": [
      "7000it [3:44:06,  1.91s/it]03-31 20:39:25 [13] Lr: 0.000122, Training: 56.00%,  Loss: 0.36536 "
     ]
    },
    {
     "name": "stdout",
     "output_type": "stream",
     "text": [
      "\n"
     ]
    },
    {
     "name": "stderr",
     "output_type": "stream",
     "text": [
      "7500it [4:00:06,  1.91s/it]03-31 20:55:24 [13] Lr: 0.000121, Training: 60.00%,  Loss: 0.36578 "
     ]
    },
    {
     "name": "stdout",
     "output_type": "stream",
     "text": [
      "\n"
     ]
    },
    {
     "name": "stderr",
     "output_type": "stream",
     "text": [
      "8000it [4:16:10,  1.93s/it]03-31 21:11:28 [13] Lr: 0.000120, Training: 63.99%,  Loss: 0.36595 "
     ]
    },
    {
     "name": "stdout",
     "output_type": "stream",
     "text": [
      "\n"
     ]
    },
    {
     "name": "stderr",
     "output_type": "stream",
     "text": [
      "8500it [4:32:11,  1.92s/it]03-31 21:27:29 [13] Lr: 0.000120, Training: 67.99%,  Loss: 0.36620 "
     ]
    },
    {
     "name": "stdout",
     "output_type": "stream",
     "text": [
      "\n"
     ]
    },
    {
     "name": "stderr",
     "output_type": "stream",
     "text": [
      "9000it [4:48:12,  1.91s/it]03-31 21:43:30 [13] Lr: 0.000119, Training: 71.99%,  Loss: 0.36654 "
     ]
    },
    {
     "name": "stdout",
     "output_type": "stream",
     "text": [
      "\n"
     ]
    },
    {
     "name": "stderr",
     "output_type": "stream",
     "text": [
      "9500it [5:04:16,  1.93s/it]03-31 21:59:34 [13] Lr: 0.000119, Training: 75.99%,  Loss: 0.36684 "
     ]
    },
    {
     "name": "stdout",
     "output_type": "stream",
     "text": [
      "\n"
     ]
    },
    {
     "name": "stderr",
     "output_type": "stream",
     "text": [
      "10000it [5:20:17,  1.93s/it]3-31 22:15:36 [13] Lr: 0.000118, Training: 79.99%,  Loss: 0.36696 "
     ]
    },
    {
     "name": "stdout",
     "output_type": "stream",
     "text": [
      "\n"
     ]
    },
    {
     "name": "stderr",
     "output_type": "stream",
     "text": [
      "10500it [5:36:18,  1.91s/it]03-31 22:31:36 [13] Lr: 0.000117, Training: 83.99%,  Loss: 0.36736 "
     ]
    },
    {
     "name": "stdout",
     "output_type": "stream",
     "text": [
      "\n"
     ]
    },
    {
     "name": "stderr",
     "output_type": "stream",
     "text": [
      "11000it [5:52:20,  1.92s/it]03-31 22:47:39 [13] Lr: 0.000117, Training: 87.99%,  Loss: 0.36774 "
     ]
    },
    {
     "name": "stdout",
     "output_type": "stream",
     "text": [
      "\n"
     ]
    },
    {
     "name": "stderr",
     "output_type": "stream",
     "text": [
      "11500it [6:08:23,  1.93s/it]03-31 23:03:41 [13] Lr: 0.000116, Training: 91.99%,  Loss: 0.36789 "
     ]
    },
    {
     "name": "stdout",
     "output_type": "stream",
     "text": [
      "\n"
     ]
    },
    {
     "name": "stderr",
     "output_type": "stream",
     "text": [
      "12000it [6:24:23,  1.92s/it]03-31 23:19:41 [13] Lr: 0.000116, Training: 95.99%,  Loss: 0.36829 "
     ]
    },
    {
     "name": "stdout",
     "output_type": "stream",
     "text": [
      "\n"
     ]
    },
    {
     "name": "stderr",
     "output_type": "stream",
     "text": [
      "12500it [6:40:25,  1.91s/it]03-31 23:35:44 [13] Lr: 0.000115, Training: 99.99%,  Loss: 0.36849 "
     ]
    },
    {
     "name": "stdout",
     "output_type": "stream",
     "text": [
      "\n"
     ]
    },
    {
     "name": "stderr",
     "output_type": "stream",
     "text": [
      "12501it [6:40:28,  1.92s/it]\n",
      "657it [06:46,  1.62it/s]\n"
     ]
    },
    {
     "name": "stdout",
     "output_type": "stream",
     "text": [
      "2023-03-31 23:42:33 13 epoch, Pearson_R 0.73%, bestPearson_R 0.75%\n",
      "LR :  0.00011498360018692566\n"
     ]
    },
    {
     "name": "stderr",
     "output_type": "stream",
     "text": [
      "500it [16:05,  1.93s/it]03-31 23:58:39 [14] Lr: 0.000114, Training: 4.00%,  Loss: 0.34642 "
     ]
    },
    {
     "name": "stdout",
     "output_type": "stream",
     "text": [
      "\n"
     ]
    },
    {
     "name": "stderr",
     "output_type": "stream",
     "text": [
      "1000it [32:07,  1.92s/it]4-01 00:14:41 [14] Lr: 0.000114, Training: 8.00%,  Loss: 0.34641 "
     ]
    },
    {
     "name": "stdout",
     "output_type": "stream",
     "text": [
      "\n"
     ]
    },
    {
     "name": "stderr",
     "output_type": "stream",
     "text": [
      "1500it [48:08,  1.92s/it]04-01 00:30:42 [14] Lr: 0.000113, Training: 12.00%,  Loss: 0.34804 "
     ]
    },
    {
     "name": "stdout",
     "output_type": "stream",
     "text": [
      "\n"
     ]
    },
    {
     "name": "stderr",
     "output_type": "stream",
     "text": [
      "2000it [1:04:13,  1.91s/it]04-01 00:46:46 [14] Lr: 0.000113, Training: 16.00%,  Loss: 0.34807 "
     ]
    },
    {
     "name": "stdout",
     "output_type": "stream",
     "text": [
      "\n"
     ]
    },
    {
     "name": "stderr",
     "output_type": "stream",
     "text": [
      "2500it [1:20:13,  1.94s/it]04-01 01:02:47 [14] Lr: 0.000112, Training: 20.00%,  Loss: 0.34907 "
     ]
    },
    {
     "name": "stdout",
     "output_type": "stream",
     "text": [
      "\n"
     ]
    },
    {
     "name": "stderr",
     "output_type": "stream",
     "text": [
      "3000it [1:36:14,  1.92s/it]04-01 01:18:48 [14] Lr: 0.000111, Training: 24.00%,  Loss: 0.34985 "
     ]
    },
    {
     "name": "stdout",
     "output_type": "stream",
     "text": [
      "\n"
     ]
    },
    {
     "name": "stderr",
     "output_type": "stream",
     "text": [
      "3500it [1:52:18,  1.94s/it]04-01 01:34:51 [14] Lr: 0.000111, Training: 28.00%,  Loss: 0.35017 "
     ]
    },
    {
     "name": "stdout",
     "output_type": "stream",
     "text": [
      "\n"
     ]
    },
    {
     "name": "stderr",
     "output_type": "stream",
     "text": [
      "4000it [2:08:18,  1.93s/it]04-01 01:50:52 [14] Lr: 0.000110, Training: 32.00%,  Loss: 0.35069 "
     ]
    },
    {
     "name": "stdout",
     "output_type": "stream",
     "text": [
      "\n"
     ]
    },
    {
     "name": "stderr",
     "output_type": "stream",
     "text": [
      "4500it [2:24:20,  1.92s/it]04-01 02:06:54 [14] Lr: 0.000110, Training: 36.00%,  Loss: 0.35132 "
     ]
    },
    {
     "name": "stdout",
     "output_type": "stream",
     "text": [
      "\n"
     ]
    },
    {
     "name": "stderr",
     "output_type": "stream",
     "text": [
      "5000it [2:40:22,  1.91s/it]04-01 02:22:56 [14] Lr: 0.000109, Training: 40.00%,  Loss: 0.35185 "
     ]
    },
    {
     "name": "stdout",
     "output_type": "stream",
     "text": [
      "\n"
     ]
    },
    {
     "name": "stderr",
     "output_type": "stream",
     "text": [
      "5500it [2:56:24,  1.94s/it]04-01 02:38:58 [14] Lr: 0.000108, Training: 44.00%,  Loss: 0.35241 "
     ]
    },
    {
     "name": "stdout",
     "output_type": "stream",
     "text": [
      "\n"
     ]
    },
    {
     "name": "stderr",
     "output_type": "stream",
     "text": [
      "6000it [3:12:25,  1.91s/it]04-01 02:54:59 [14] Lr: 0.000108, Training: 48.00%,  Loss: 0.35278 "
     ]
    },
    {
     "name": "stdout",
     "output_type": "stream",
     "text": [
      "\n"
     ]
    },
    {
     "name": "stderr",
     "output_type": "stream",
     "text": [
      "6500it [3:28:27,  1.91s/it]04-01 03:11:01 [14] Lr: 0.000107, Training: 52.00%,  Loss: 0.35320 "
     ]
    },
    {
     "name": "stdout",
     "output_type": "stream",
     "text": [
      "\n"
     ]
    },
    {
     "name": "stderr",
     "output_type": "stream",
     "text": [
      "7000it [3:44:31,  1.92s/it]04-01 03:27:04 [14] Lr: 0.000107, Training: 56.00%,  Loss: 0.35355 "
     ]
    },
    {
     "name": "stdout",
     "output_type": "stream",
     "text": [
      "\n"
     ]
    },
    {
     "name": "stderr",
     "output_type": "stream",
     "text": [
      "7500it [4:00:32,  1.92s/it]04-01 03:43:06 [14] Lr: 0.000106, Training: 60.00%,  Loss: 0.35399 "
     ]
    },
    {
     "name": "stdout",
     "output_type": "stream",
     "text": [
      "\n"
     ]
    },
    {
     "name": "stderr",
     "output_type": "stream",
     "text": [
      "8000it [4:16:34,  1.91s/it]04-01 03:59:07 [14] Lr: 0.000105, Training: 63.99%,  Loss: 0.35425 "
     ]
    },
    {
     "name": "stdout",
     "output_type": "stream",
     "text": [
      "\n"
     ]
    },
    {
     "name": "stderr",
     "output_type": "stream",
     "text": [
      "8500it [4:32:38,  1.91s/it]04-01 04:15:12 [14] Lr: 0.000105, Training: 67.99%,  Loss: 0.35454 "
     ]
    },
    {
     "name": "stdout",
     "output_type": "stream",
     "text": [
      "\n"
     ]
    },
    {
     "name": "stderr",
     "output_type": "stream",
     "text": [
      "9000it [4:48:40,  1.96s/it]04-01 04:31:14 [14] Lr: 0.000104, Training: 71.99%,  Loss: 0.35475 "
     ]
    },
    {
     "name": "stdout",
     "output_type": "stream",
     "text": [
      "\n"
     ]
    },
    {
     "name": "stderr",
     "output_type": "stream",
     "text": [
      "9500it [5:04:42,  1.92s/it]04-01 04:47:16 [14] Lr: 0.000104, Training: 75.99%,  Loss: 0.35496 "
     ]
    },
    {
     "name": "stdout",
     "output_type": "stream",
     "text": [
      "\n"
     ]
    },
    {
     "name": "stderr",
     "output_type": "stream",
     "text": [
      "10000it [5:20:47,  1.92s/it]4-01 05:03:21 [14] Lr: 0.000103, Training: 79.99%,  Loss: 0.35515 "
     ]
    },
    {
     "name": "stdout",
     "output_type": "stream",
     "text": [
      "\n"
     ]
    },
    {
     "name": "stderr",
     "output_type": "stream",
     "text": [
      "10500it [5:36:52,  1.92s/it]04-01 05:19:25 [14] Lr: 0.000102, Training: 83.99%,  Loss: 0.35549 "
     ]
    },
    {
     "name": "stdout",
     "output_type": "stream",
     "text": [
      "\n"
     ]
    },
    {
     "name": "stderr",
     "output_type": "stream",
     "text": [
      "11000it [5:52:54,  1.93s/it]04-01 05:35:27 [14] Lr: 0.000102, Training: 87.99%,  Loss: 0.35574 "
     ]
    },
    {
     "name": "stdout",
     "output_type": "stream",
     "text": [
      "\n"
     ]
    },
    {
     "name": "stderr",
     "output_type": "stream",
     "text": [
      "11500it [6:08:56,  1.91s/it]04-01 05:51:29 [14] Lr: 0.000101, Training: 91.99%,  Loss: 0.35608 "
     ]
    },
    {
     "name": "stdout",
     "output_type": "stream",
     "text": [
      "\n"
     ]
    },
    {
     "name": "stderr",
     "output_type": "stream",
     "text": [
      "12000it [6:24:58,  1.92s/it]04-01 06:07:31 [14] Lr: 0.000101, Training: 95.99%,  Loss: 0.35628 "
     ]
    },
    {
     "name": "stdout",
     "output_type": "stream",
     "text": [
      "\n"
     ]
    },
    {
     "name": "stderr",
     "output_type": "stream",
     "text": [
      "12500it [6:41:00,  1.92s/it]04-01 06:23:34 [14] Lr: 0.000100, Training: 99.99%,  Loss: 0.35650 "
     ]
    },
    {
     "name": "stdout",
     "output_type": "stream",
     "text": [
      "\n"
     ]
    },
    {
     "name": "stderr",
     "output_type": "stream",
     "text": [
      "12501it [6:41:03,  1.92s/it]\n",
      "657it [06:45,  1.62it/s]\n"
     ]
    },
    {
     "name": "stdout",
     "output_type": "stream",
     "text": [
      "2023-04-01 06:30:22 14 epoch, Pearson_R 0.72%, bestPearson_R 0.75%\n",
      "LR :  9.99720985772543e-05\n"
     ]
    },
    {
     "name": "stderr",
     "output_type": "stream",
     "text": [
      "500it [16:05,  1.92s/it]04-01 06:46:27 [15] Lr: 0.000099, Training: 4.00%,  Loss: 0.33337 "
     ]
    },
    {
     "name": "stdout",
     "output_type": "stream",
     "text": [
      "\n"
     ]
    },
    {
     "name": "stderr",
     "output_type": "stream",
     "text": [
      "1000it [32:07,  1.92s/it]4-01 07:02:30 [15] Lr: 0.000099, Training: 8.00%,  Loss: 0.33434 "
     ]
    },
    {
     "name": "stdout",
     "output_type": "stream",
     "text": [
      "\n"
     ]
    },
    {
     "name": "stderr",
     "output_type": "stream",
     "text": [
      "1500it [48:10,  1.93s/it]04-01 07:18:33 [15] Lr: 0.000098, Training: 12.00%,  Loss: 0.33466 "
     ]
    },
    {
     "name": "stdout",
     "output_type": "stream",
     "text": [
      "\n"
     ]
    },
    {
     "name": "stderr",
     "output_type": "stream",
     "text": [
      "2000it [1:04:11,  1.92s/it]04-01 07:34:34 [15] Lr: 0.000098, Training: 16.00%,  Loss: 0.33523 "
     ]
    },
    {
     "name": "stdout",
     "output_type": "stream",
     "text": [
      "\n"
     ]
    },
    {
     "name": "stderr",
     "output_type": "stream",
     "text": [
      "2500it [1:20:14,  1.94s/it]04-01 07:50:36 [15] Lr: 0.000097, Training: 20.00%,  Loss: 0.33572 "
     ]
    },
    {
     "name": "stdout",
     "output_type": "stream",
     "text": [
      "\n"
     ]
    },
    {
     "name": "stderr",
     "output_type": "stream",
     "text": [
      "3000it [1:36:17,  1.92s/it]04-01 08:06:40 [15] Lr: 0.000096, Training: 24.00%,  Loss: 0.33648 "
     ]
    },
    {
     "name": "stdout",
     "output_type": "stream",
     "text": [
      "\n"
     ]
    },
    {
     "name": "stderr",
     "output_type": "stream",
     "text": [
      "3500it [1:52:19,  1.94s/it]04-01 08:22:42 [15] Lr: 0.000096, Training: 28.00%,  Loss: 0.33721 "
     ]
    },
    {
     "name": "stdout",
     "output_type": "stream",
     "text": [
      "\n"
     ]
    },
    {
     "name": "stderr",
     "output_type": "stream",
     "text": [
      "4000it [2:08:20,  1.92s/it]04-01 08:38:43 [15] Lr: 0.000095, Training: 32.00%,  Loss: 0.33782 "
     ]
    },
    {
     "name": "stdout",
     "output_type": "stream",
     "text": [
      "\n"
     ]
    },
    {
     "name": "stderr",
     "output_type": "stream",
     "text": [
      "4500it [2:24:24,  1.91s/it]04-01 08:54:46 [15] Lr: 0.000095, Training: 36.00%,  Loss: 0.33851 "
     ]
    },
    {
     "name": "stdout",
     "output_type": "stream",
     "text": [
      "\n"
     ]
    },
    {
     "name": "stderr",
     "output_type": "stream",
     "text": [
      "5000it [2:40:24,  1.91s/it]04-01 09:10:47 [15] Lr: 0.000094, Training: 40.00%,  Loss: 0.33896 "
     ]
    },
    {
     "name": "stdout",
     "output_type": "stream",
     "text": [
      "\n"
     ]
    },
    {
     "name": "stderr",
     "output_type": "stream",
     "text": [
      "5500it [2:56:25,  1.92s/it]04-01 09:26:47 [15] Lr: 0.000093, Training: 44.00%,  Loss: 0.33938 "
     ]
    },
    {
     "name": "stdout",
     "output_type": "stream",
     "text": [
      "\n"
     ]
    },
    {
     "name": "stderr",
     "output_type": "stream",
     "text": [
      "6000it [3:12:29,  1.92s/it]04-01 09:42:51 [15] Lr: 0.000093, Training: 48.00%,  Loss: 0.33988 "
     ]
    },
    {
     "name": "stdout",
     "output_type": "stream",
     "text": [
      "\n"
     ]
    },
    {
     "name": "stderr",
     "output_type": "stream",
     "text": [
      "6500it [3:28:28,  1.91s/it]04-01 09:58:51 [15] Lr: 0.000092, Training: 52.00%,  Loss: 0.34048 "
     ]
    },
    {
     "name": "stdout",
     "output_type": "stream",
     "text": [
      "\n"
     ]
    },
    {
     "name": "stderr",
     "output_type": "stream",
     "text": [
      "7000it [3:44:28,  1.93s/it]04-01 10:14:51 [15] Lr: 0.000092, Training: 56.00%,  Loss: 0.34058 "
     ]
    },
    {
     "name": "stdout",
     "output_type": "stream",
     "text": [
      "\n"
     ]
    },
    {
     "name": "stderr",
     "output_type": "stream",
     "text": [
      "7500it [4:00:31,  1.91s/it]04-01 10:30:53 [15] Lr: 0.000091, Training: 60.00%,  Loss: 0.34093 "
     ]
    },
    {
     "name": "stdout",
     "output_type": "stream",
     "text": [
      "\n"
     ]
    },
    {
     "name": "stderr",
     "output_type": "stream",
     "text": [
      "8000it [4:16:32,  1.91s/it]04-01 10:46:54 [15] Lr: 0.000090, Training: 63.99%,  Loss: 0.34126 "
     ]
    },
    {
     "name": "stdout",
     "output_type": "stream",
     "text": [
      "\n"
     ]
    },
    {
     "name": "stderr",
     "output_type": "stream",
     "text": [
      "8500it [4:32:32,  1.92s/it]04-01 11:02:55 [15] Lr: 0.000090, Training: 67.99%,  Loss: 0.34162 "
     ]
    },
    {
     "name": "stdout",
     "output_type": "stream",
     "text": [
      "\n"
     ]
    },
    {
     "name": "stderr",
     "output_type": "stream",
     "text": [
      "9000it [4:48:32,  1.93s/it]04-01 11:18:54 [15] Lr: 0.000089, Training: 71.99%,  Loss: 0.34208 "
     ]
    },
    {
     "name": "stdout",
     "output_type": "stream",
     "text": [
      "\n"
     ]
    },
    {
     "name": "stderr",
     "output_type": "stream",
     "text": [
      "9500it [5:04:35,  1.94s/it]04-01 11:34:58 [15] Lr: 0.000089, Training: 75.99%,  Loss: 0.34244 "
     ]
    },
    {
     "name": "stdout",
     "output_type": "stream",
     "text": [
      "\n"
     ]
    },
    {
     "name": "stderr",
     "output_type": "stream",
     "text": [
      "10000it [5:20:29,  1.90s/it]4-01 11:50:52 [15] Lr: 0.000088, Training: 79.99%,  Loss: 0.34278 "
     ]
    },
    {
     "name": "stdout",
     "output_type": "stream",
     "text": [
      "\n"
     ]
    },
    {
     "name": "stderr",
     "output_type": "stream",
     "text": [
      "10500it [5:36:20,  1.91s/it]04-01 12:06:43 [15] Lr: 0.000088, Training: 83.99%,  Loss: 0.34303 "
     ]
    },
    {
     "name": "stdout",
     "output_type": "stream",
     "text": [
      "\n"
     ]
    },
    {
     "name": "stderr",
     "output_type": "stream",
     "text": [
      "11000it [5:52:11,  1.90s/it]04-01 12:22:34 [15] Lr: 0.000087, Training: 87.99%,  Loss: 0.34328 "
     ]
    },
    {
     "name": "stdout",
     "output_type": "stream",
     "text": [
      "\n"
     ]
    },
    {
     "name": "stderr",
     "output_type": "stream",
     "text": [
      "11500it [6:08:02,  1.90s/it]04-01 12:38:25 [15] Lr: 0.000086, Training: 91.99%,  Loss: 0.34361 "
     ]
    },
    {
     "name": "stdout",
     "output_type": "stream",
     "text": [
      "\n"
     ]
    },
    {
     "name": "stderr",
     "output_type": "stream",
     "text": [
      "12000it [6:23:53,  1.90s/it]04-01 12:54:16 [15] Lr: 0.000086, Training: 95.99%,  Loss: 0.34382 "
     ]
    },
    {
     "name": "stdout",
     "output_type": "stream",
     "text": [
      "\n"
     ]
    },
    {
     "name": "stderr",
     "output_type": "stream",
     "text": [
      "12500it [6:39:45,  1.90s/it]04-01 13:10:07 [15] Lr: 0.000085, Training: 99.99%,  Loss: 0.34409 "
     ]
    },
    {
     "name": "stdout",
     "output_type": "stream",
     "text": [
      "\n"
     ]
    },
    {
     "name": "stderr",
     "output_type": "stream",
     "text": [
      "12501it [6:39:47,  1.92s/it]\n",
      "657it [06:40,  1.64it/s]\n"
     ]
    },
    {
     "name": "stdout",
     "output_type": "stream",
     "text": [
      "2023-04-01 13:16:51 15 epoch, Pearson_R 0.71%, bestPearson_R 0.75%\n",
      "LR :  8.521777748335422e-05\n"
     ]
    },
    {
     "name": "stderr",
     "output_type": "stream",
     "text": [
      "500it [15:52,  1.90s/it]04-01 13:32:44 [16] Lr: 0.000085, Training: 4.00%,  Loss: 0.32386 "
     ]
    },
    {
     "name": "stdout",
     "output_type": "stream",
     "text": [
      "\n"
     ]
    },
    {
     "name": "stderr",
     "output_type": "stream",
     "text": [
      "1000it [31:44,  1.90s/it]4-01 13:48:35 [16] Lr: 0.000084, Training: 8.00%,  Loss: 0.32420 "
     ]
    },
    {
     "name": "stdout",
     "output_type": "stream",
     "text": [
      "\n"
     ]
    },
    {
     "name": "stderr",
     "output_type": "stream",
     "text": [
      "1500it [47:34,  1.90s/it]04-01 14:04:25 [16] Lr: 0.000083, Training: 12.00%,  Loss: 0.32455 "
     ]
    },
    {
     "name": "stdout",
     "output_type": "stream",
     "text": [
      "\n"
     ]
    },
    {
     "name": "stderr",
     "output_type": "stream",
     "text": [
      "2000it [1:03:23,  1.90s/it]04-01 14:20:14 [16] Lr: 0.000083, Training: 16.00%,  Loss: 0.32566 "
     ]
    },
    {
     "name": "stdout",
     "output_type": "stream",
     "text": [
      "\n"
     ]
    },
    {
     "name": "stderr",
     "output_type": "stream",
     "text": [
      "2500it [1:19:13,  1.90s/it]04-01 14:36:04 [16] Lr: 0.000082, Training: 20.00%,  Loss: 0.32617 "
     ]
    },
    {
     "name": "stdout",
     "output_type": "stream",
     "text": [
      "\n"
     ]
    },
    {
     "name": "stderr",
     "output_type": "stream",
     "text": [
      "3000it [1:35:02,  1.90s/it]04-01 14:51:53 [16] Lr: 0.000082, Training: 24.00%,  Loss: 0.32647 "
     ]
    },
    {
     "name": "stdout",
     "output_type": "stream",
     "text": [
      "\n"
     ]
    },
    {
     "name": "stderr",
     "output_type": "stream",
     "text": [
      "3500it [1:50:51,  1.90s/it]04-01 15:07:42 [16] Lr: 0.000081, Training: 28.00%,  Loss: 0.32714 "
     ]
    },
    {
     "name": "stdout",
     "output_type": "stream",
     "text": [
      "\n"
     ]
    },
    {
     "name": "stderr",
     "output_type": "stream",
     "text": [
      "4000it [2:06:41,  1.90s/it]04-01 15:23:32 [16] Lr: 0.000081, Training: 32.00%,  Loss: 0.32735 "
     ]
    },
    {
     "name": "stdout",
     "output_type": "stream",
     "text": [
      "\n"
     ]
    },
    {
     "name": "stderr",
     "output_type": "stream",
     "text": [
      "4500it [2:22:32,  1.91s/it]04-01 15:39:23 [16] Lr: 0.000080, Training: 36.00%,  Loss: 0.32769 "
     ]
    },
    {
     "name": "stdout",
     "output_type": "stream",
     "text": [
      "\n"
     ]
    },
    {
     "name": "stderr",
     "output_type": "stream",
     "text": [
      "5000it [2:38:22,  1.90s/it]04-01 15:55:13 [16] Lr: 0.000079, Training: 40.00%,  Loss: 0.32805 "
     ]
    },
    {
     "name": "stdout",
     "output_type": "stream",
     "text": [
      "\n"
     ]
    },
    {
     "name": "stderr",
     "output_type": "stream",
     "text": [
      "5500it [2:54:12,  1.90s/it]04-01 16:11:03 [16] Lr: 0.000079, Training: 44.00%,  Loss: 0.32809 "
     ]
    },
    {
     "name": "stdout",
     "output_type": "stream",
     "text": [
      "\n"
     ]
    },
    {
     "name": "stderr",
     "output_type": "stream",
     "text": [
      "6000it [3:10:02,  1.90s/it]04-01 16:26:53 [16] Lr: 0.000078, Training: 48.00%,  Loss: 0.32851 "
     ]
    },
    {
     "name": "stdout",
     "output_type": "stream",
     "text": [
      "\n"
     ]
    },
    {
     "name": "stderr",
     "output_type": "stream",
     "text": [
      "6500it [3:25:52,  1.91s/it]04-01 16:42:43 [16] Lr: 0.000078, Training: 52.00%,  Loss: 0.32883 "
     ]
    },
    {
     "name": "stdout",
     "output_type": "stream",
     "text": [
      "\n"
     ]
    },
    {
     "name": "stderr",
     "output_type": "stream",
     "text": [
      "7000it [3:41:42,  1.90s/it]04-01 16:58:33 [16] Lr: 0.000077, Training: 56.00%,  Loss: 0.32906 "
     ]
    },
    {
     "name": "stdout",
     "output_type": "stream",
     "text": [
      "\n"
     ]
    },
    {
     "name": "stderr",
     "output_type": "stream",
     "text": [
      "7500it [3:57:32,  1.90s/it]04-01 17:14:23 [16] Lr: 0.000077, Training: 60.00%,  Loss: 0.32917 "
     ]
    },
    {
     "name": "stdout",
     "output_type": "stream",
     "text": [
      "\n"
     ]
    },
    {
     "name": "stderr",
     "output_type": "stream",
     "text": [
      "8000it [4:13:21,  1.90s/it]04-01 17:30:13 [16] Lr: 0.000076, Training: 63.99%,  Loss: 0.32960 "
     ]
    },
    {
     "name": "stdout",
     "output_type": "stream",
     "text": [
      "\n"
     ]
    },
    {
     "name": "stderr",
     "output_type": "stream",
     "text": [
      "8500it [4:29:11,  1.90s/it]04-01 17:46:02 [16] Lr: 0.000075, Training: 67.99%,  Loss: 0.32988 "
     ]
    },
    {
     "name": "stdout",
     "output_type": "stream",
     "text": [
      "\n"
     ]
    },
    {
     "name": "stderr",
     "output_type": "stream",
     "text": [
      "9000it [4:45:01,  1.90s/it]04-01 18:01:52 [16] Lr: 0.000075, Training: 71.99%,  Loss: 0.33013 "
     ]
    },
    {
     "name": "stdout",
     "output_type": "stream",
     "text": [
      "\n"
     ]
    },
    {
     "name": "stderr",
     "output_type": "stream",
     "text": [
      "9500it [5:00:51,  1.90s/it]04-01 18:17:42 [16] Lr: 0.000074, Training: 75.99%,  Loss: 0.33048 "
     ]
    },
    {
     "name": "stdout",
     "output_type": "stream",
     "text": [
      "\n"
     ]
    },
    {
     "name": "stderr",
     "output_type": "stream",
     "text": [
      "10000it [5:16:40,  1.90s/it]4-01 18:33:31 [16] Lr: 0.000074, Training: 79.99%,  Loss: 0.33070 "
     ]
    },
    {
     "name": "stdout",
     "output_type": "stream",
     "text": [
      "\n"
     ]
    },
    {
     "name": "stderr",
     "output_type": "stream",
     "text": [
      "10500it [5:32:30,  1.90s/it]04-01 18:49:21 [16] Lr: 0.000073, Training: 83.99%,  Loss: 0.33082 "
     ]
    },
    {
     "name": "stdout",
     "output_type": "stream",
     "text": [
      "\n"
     ]
    },
    {
     "name": "stderr",
     "output_type": "stream",
     "text": [
      "11000it [5:48:19,  1.90s/it]04-01 19:05:11 [16] Lr: 0.000073, Training: 87.99%,  Loss: 0.33109 "
     ]
    },
    {
     "name": "stdout",
     "output_type": "stream",
     "text": [
      "\n"
     ]
    },
    {
     "name": "stderr",
     "output_type": "stream",
     "text": [
      "11500it [6:04:09,  1.90s/it]04-01 19:21:01 [16] Lr: 0.000072, Training: 91.99%,  Loss: 0.33136 "
     ]
    },
    {
     "name": "stdout",
     "output_type": "stream",
     "text": [
      "\n"
     ]
    },
    {
     "name": "stderr",
     "output_type": "stream",
     "text": [
      "12000it [6:19:59,  1.90s/it]04-01 19:36:50 [16] Lr: 0.000072, Training: 95.99%,  Loss: 0.33149 "
     ]
    },
    {
     "name": "stdout",
     "output_type": "stream",
     "text": [
      "\n"
     ]
    },
    {
     "name": "stderr",
     "output_type": "stream",
     "text": [
      "12500it [6:35:49,  1.90s/it]04-01 19:52:40 [16] Lr: 0.000071, Training: 99.99%,  Loss: 0.33168 "
     ]
    },
    {
     "name": "stdout",
     "output_type": "stream",
     "text": [
      "\n"
     ]
    },
    {
     "name": "stderr",
     "output_type": "stream",
     "text": [
      "12501it [6:35:51,  1.90s/it]\n",
      "657it [06:41,  1.64it/s]\n"
     ]
    },
    {
     "name": "stdout",
     "output_type": "stream",
     "text": [
      "2023-04-01 19:59:24 16 epoch, Pearson_R 0.71%, bestPearson_R 0.75%\n",
      "LR :  7.097312776580877e-05\n"
     ]
    },
    {
     "name": "stderr",
     "output_type": "stream",
     "text": [
      "500it [15:50,  1.90s/it]04-01 20:15:14 [17] Lr: 0.000070, Training: 4.00%,  Loss: 0.31278 "
     ]
    },
    {
     "name": "stdout",
     "output_type": "stream",
     "text": [
      "\n"
     ]
    },
    {
     "name": "stderr",
     "output_type": "stream",
     "text": [
      "1000it [31:39,  1.90s/it]4-01 20:31:03 [17] Lr: 0.000070, Training: 8.00%,  Loss: 0.31267 "
     ]
    },
    {
     "name": "stdout",
     "output_type": "stream",
     "text": [
      "\n"
     ]
    },
    {
     "name": "stderr",
     "output_type": "stream",
     "text": [
      "1500it [47:29,  1.90s/it]04-01 20:46:53 [17] Lr: 0.000069, Training: 12.00%,  Loss: 0.31334 "
     ]
    },
    {
     "name": "stdout",
     "output_type": "stream",
     "text": [
      "\n"
     ]
    },
    {
     "name": "stderr",
     "output_type": "stream",
     "text": [
      "2000it [1:03:18,  1.90s/it]04-01 21:02:42 [17] Lr: 0.000069, Training: 16.00%,  Loss: 0.31412 "
     ]
    },
    {
     "name": "stdout",
     "output_type": "stream",
     "text": [
      "\n"
     ]
    },
    {
     "name": "stderr",
     "output_type": "stream",
     "text": [
      "2500it [1:19:07,  1.90s/it]04-01 21:18:32 [17] Lr: 0.000068, Training: 20.00%,  Loss: 0.31449 "
     ]
    },
    {
     "name": "stdout",
     "output_type": "stream",
     "text": [
      "\n"
     ]
    },
    {
     "name": "stderr",
     "output_type": "stream",
     "text": [
      "3000it [1:34:57,  1.90s/it]04-01 21:34:21 [17] Lr: 0.000068, Training: 24.00%,  Loss: 0.31499 "
     ]
    },
    {
     "name": "stdout",
     "output_type": "stream",
     "text": [
      "\n"
     ]
    },
    {
     "name": "stderr",
     "output_type": "stream",
     "text": [
      "3500it [1:50:47,  1.90s/it]04-01 21:50:11 [17] Lr: 0.000067, Training: 28.00%,  Loss: 0.31493 "
     ]
    },
    {
     "name": "stdout",
     "output_type": "stream",
     "text": [
      "\n"
     ]
    },
    {
     "name": "stderr",
     "output_type": "stream",
     "text": [
      "4000it [2:06:36,  1.90s/it]04-01 22:06:01 [17] Lr: 0.000067, Training: 32.00%,  Loss: 0.31536 "
     ]
    },
    {
     "name": "stdout",
     "output_type": "stream",
     "text": [
      "\n"
     ]
    },
    {
     "name": "stderr",
     "output_type": "stream",
     "text": [
      "4500it [2:22:26,  1.90s/it]04-01 22:21:50 [17] Lr: 0.000066, Training: 36.00%,  Loss: 0.31565 "
     ]
    },
    {
     "name": "stdout",
     "output_type": "stream",
     "text": [
      "\n"
     ]
    },
    {
     "name": "stderr",
     "output_type": "stream",
     "text": [
      "5000it [2:38:16,  1.90s/it]04-01 22:37:40 [17] Lr: 0.000065, Training: 40.00%,  Loss: 0.31583 "
     ]
    },
    {
     "name": "stdout",
     "output_type": "stream",
     "text": [
      "\n"
     ]
    },
    {
     "name": "stderr",
     "output_type": "stream",
     "text": [
      "5500it [2:54:05,  1.90s/it]04-01 22:53:29 [17] Lr: 0.000065, Training: 44.00%,  Loss: 0.31601 "
     ]
    },
    {
     "name": "stdout",
     "output_type": "stream",
     "text": [
      "\n"
     ]
    },
    {
     "name": "stderr",
     "output_type": "stream",
     "text": [
      "6000it [3:09:55,  1.90s/it]04-01 23:09:19 [17] Lr: 0.000064, Training: 48.00%,  Loss: 0.31638 "
     ]
    },
    {
     "name": "stdout",
     "output_type": "stream",
     "text": [
      "\n"
     ]
    },
    {
     "name": "stderr",
     "output_type": "stream",
     "text": [
      "6500it [3:25:44,  1.90s/it]04-01 23:25:08 [17] Lr: 0.000064, Training: 52.00%,  Loss: 0.31669 "
     ]
    },
    {
     "name": "stdout",
     "output_type": "stream",
     "text": [
      "\n"
     ]
    },
    {
     "name": "stderr",
     "output_type": "stream",
     "text": [
      "7000it [3:41:33,  1.90s/it]04-01 23:40:58 [17] Lr: 0.000063, Training: 56.00%,  Loss: 0.31708 "
     ]
    },
    {
     "name": "stdout",
     "output_type": "stream",
     "text": [
      "\n"
     ]
    },
    {
     "name": "stderr",
     "output_type": "stream",
     "text": [
      "7500it [3:57:23,  1.90s/it]04-01 23:56:47 [17] Lr: 0.000063, Training: 60.00%,  Loss: 0.31730 "
     ]
    },
    {
     "name": "stdout",
     "output_type": "stream",
     "text": [
      "\n"
     ]
    },
    {
     "name": "stderr",
     "output_type": "stream",
     "text": [
      "8000it [4:13:13,  1.90s/it]04-02 00:12:37 [17] Lr: 0.000062, Training: 63.99%,  Loss: 0.31759 "
     ]
    },
    {
     "name": "stdout",
     "output_type": "stream",
     "text": [
      "\n"
     ]
    },
    {
     "name": "stderr",
     "output_type": "stream",
     "text": [
      "8500it [4:29:02,  1.90s/it]04-02 00:28:27 [17] Lr: 0.000062, Training: 67.99%,  Loss: 0.31785 "
     ]
    },
    {
     "name": "stdout",
     "output_type": "stream",
     "text": [
      "\n"
     ]
    },
    {
     "name": "stderr",
     "output_type": "stream",
     "text": [
      "9000it [4:44:52,  1.90s/it]04-02 00:44:16 [17] Lr: 0.000061, Training: 71.99%,  Loss: 0.31806 "
     ]
    },
    {
     "name": "stdout",
     "output_type": "stream",
     "text": [
      "\n"
     ]
    },
    {
     "name": "stderr",
     "output_type": "stream",
     "text": [
      "9500it [5:00:42,  1.90s/it]04-02 01:00:06 [17] Lr: 0.000061, Training: 75.99%,  Loss: 0.31816 "
     ]
    },
    {
     "name": "stdout",
     "output_type": "stream",
     "text": [
      "\n"
     ]
    },
    {
     "name": "stderr",
     "output_type": "stream",
     "text": [
      "10000it [5:16:32,  1.90s/it]4-02 01:15:56 [17] Lr: 0.000060, Training: 79.99%,  Loss: 0.31852 "
     ]
    },
    {
     "name": "stdout",
     "output_type": "stream",
     "text": [
      "\n"
     ]
    },
    {
     "name": "stderr",
     "output_type": "stream",
     "text": [
      "10500it [5:32:22,  1.90s/it]04-02 01:31:46 [17] Lr: 0.000060, Training: 83.99%,  Loss: 0.31873 "
     ]
    },
    {
     "name": "stdout",
     "output_type": "stream",
     "text": [
      "\n"
     ]
    },
    {
     "name": "stderr",
     "output_type": "stream",
     "text": [
      "11000it [5:48:12,  1.90s/it]04-02 01:47:36 [17] Lr: 0.000059, Training: 87.99%,  Loss: 0.31903 "
     ]
    },
    {
     "name": "stdout",
     "output_type": "stream",
     "text": [
      "\n"
     ]
    },
    {
     "name": "stderr",
     "output_type": "stream",
     "text": [
      "11500it [6:04:02,  1.90s/it]04-02 02:03:26 [17] Lr: 0.000059, Training: 91.99%,  Loss: 0.31921 "
     ]
    },
    {
     "name": "stdout",
     "output_type": "stream",
     "text": [
      "\n"
     ]
    },
    {
     "name": "stderr",
     "output_type": "stream",
     "text": [
      "12000it [6:19:51,  1.90s/it]04-02 02:19:15 [17] Lr: 0.000058, Training: 95.99%,  Loss: 0.31943 "
     ]
    },
    {
     "name": "stdout",
     "output_type": "stream",
     "text": [
      "\n"
     ]
    },
    {
     "name": "stderr",
     "output_type": "stream",
     "text": [
      "12500it [6:35:40,  1.90s/it]04-02 02:35:04 [17] Lr: 0.000057, Training: 99.99%,  Loss: 0.31972 "
     ]
    },
    {
     "name": "stdout",
     "output_type": "stream",
     "text": [
      "\n"
     ]
    },
    {
     "name": "stderr",
     "output_type": "stream",
     "text": [
      "12501it [6:35:43,  1.90s/it]\n",
      "657it [06:39,  1.64it/s]\n"
     ]
    },
    {
     "name": "stdout",
     "output_type": "stream",
     "text": [
      "2023-04-02 02:41:47 17 epoch, Pearson_R 0.71%, bestPearson_R 0.75%\n",
      "LR :  5.748191827328261e-05\n"
     ]
    },
    {
     "name": "stderr",
     "output_type": "stream",
     "text": [
      "500it [15:49,  1.90s/it]04-02 02:57:37 [18] Lr: 0.000057, Training: 4.00%,  Loss: 0.30216 "
     ]
    },
    {
     "name": "stdout",
     "output_type": "stream",
     "text": [
      "\n"
     ]
    },
    {
     "name": "stderr",
     "output_type": "stream",
     "text": [
      "1000it [31:38,  1.90s/it]4-02 03:13:26 [18] Lr: 0.000056, Training: 8.00%,  Loss: 0.30309 "
     ]
    },
    {
     "name": "stdout",
     "output_type": "stream",
     "text": [
      "\n"
     ]
    },
    {
     "name": "stderr",
     "output_type": "stream",
     "text": [
      "1500it [47:27,  1.90s/it]04-02 03:29:14 [18] Lr: 0.000056, Training: 12.00%,  Loss: 0.30323 "
     ]
    },
    {
     "name": "stdout",
     "output_type": "stream",
     "text": [
      "\n"
     ]
    },
    {
     "name": "stderr",
     "output_type": "stream",
     "text": [
      "2000it [1:03:15,  1.90s/it]04-02 03:45:03 [18] Lr: 0.000055, Training: 16.00%,  Loss: 0.30356 "
     ]
    },
    {
     "name": "stdout",
     "output_type": "stream",
     "text": [
      "\n"
     ]
    },
    {
     "name": "stderr",
     "output_type": "stream",
     "text": [
      "2500it [1:19:04,  1.90s/it]04-02 04:00:51 [18] Lr: 0.000055, Training: 20.00%,  Loss: 0.30382 "
     ]
    },
    {
     "name": "stdout",
     "output_type": "stream",
     "text": [
      "\n"
     ]
    },
    {
     "name": "stderr",
     "output_type": "stream",
     "text": [
      "3000it [1:34:52,  1.89s/it]04-02 04:16:40 [18] Lr: 0.000054, Training: 24.00%,  Loss: 0.30416 "
     ]
    },
    {
     "name": "stdout",
     "output_type": "stream",
     "text": [
      "\n"
     ]
    },
    {
     "name": "stderr",
     "output_type": "stream",
     "text": [
      "3500it [1:50:41,  1.90s/it]04-02 04:32:28 [18] Lr: 0.000054, Training: 28.00%,  Loss: 0.30437 "
     ]
    },
    {
     "name": "stdout",
     "output_type": "stream",
     "text": [
      "\n"
     ]
    },
    {
     "name": "stderr",
     "output_type": "stream",
     "text": [
      "4000it [2:06:29,  1.90s/it]04-02 04:48:17 [18] Lr: 0.000053, Training: 32.00%,  Loss: 0.30479 "
     ]
    },
    {
     "name": "stdout",
     "output_type": "stream",
     "text": [
      "\n"
     ]
    },
    {
     "name": "stderr",
     "output_type": "stream",
     "text": [
      "4500it [2:22:18,  1.90s/it]04-02 05:04:05 [18] Lr: 0.000053, Training: 36.00%,  Loss: 0.30492 "
     ]
    },
    {
     "name": "stdout",
     "output_type": "stream",
     "text": [
      "\n"
     ]
    },
    {
     "name": "stderr",
     "output_type": "stream",
     "text": [
      "5000it [2:38:06,  1.89s/it]04-02 05:19:53 [18] Lr: 0.000052, Training: 40.00%,  Loss: 0.30523 "
     ]
    },
    {
     "name": "stdout",
     "output_type": "stream",
     "text": [
      "\n"
     ]
    },
    {
     "name": "stderr",
     "output_type": "stream",
     "text": [
      "5500it [2:53:54,  1.90s/it]04-02 05:35:42 [18] Lr: 0.000052, Training: 44.00%,  Loss: 0.30533 "
     ]
    },
    {
     "name": "stdout",
     "output_type": "stream",
     "text": [
      "\n"
     ]
    },
    {
     "name": "stderr",
     "output_type": "stream",
     "text": [
      "6000it [3:09:43,  1.90s/it]04-02 05:51:30 [18] Lr: 0.000051, Training: 48.00%,  Loss: 0.30548 "
     ]
    },
    {
     "name": "stdout",
     "output_type": "stream",
     "text": [
      "\n"
     ]
    },
    {
     "name": "stderr",
     "output_type": "stream",
     "text": [
      "6500it [3:25:31,  1.90s/it]04-02 06:07:18 [18] Lr: 0.000051, Training: 52.00%,  Loss: 0.30584 "
     ]
    },
    {
     "name": "stdout",
     "output_type": "stream",
     "text": [
      "\n"
     ]
    },
    {
     "name": "stderr",
     "output_type": "stream",
     "text": [
      "7000it [3:41:19,  1.90s/it]04-02 06:23:07 [18] Lr: 0.000050, Training: 56.00%,  Loss: 0.30612 "
     ]
    },
    {
     "name": "stdout",
     "output_type": "stream",
     "text": [
      "\n"
     ]
    },
    {
     "name": "stderr",
     "output_type": "stream",
     "text": [
      "7500it [3:57:08,  1.89s/it]04-02 06:38:55 [18] Lr: 0.000050, Training: 60.00%,  Loss: 0.30645 "
     ]
    },
    {
     "name": "stdout",
     "output_type": "stream",
     "text": [
      "\n"
     ]
    },
    {
     "name": "stderr",
     "output_type": "stream",
     "text": [
      "8000it [4:12:56,  1.90s/it]04-02 06:54:44 [18] Lr: 0.000049, Training: 63.99%,  Loss: 0.30674 "
     ]
    },
    {
     "name": "stdout",
     "output_type": "stream",
     "text": [
      "\n"
     ]
    },
    {
     "name": "stderr",
     "output_type": "stream",
     "text": [
      "8500it [4:28:45,  1.90s/it]04-02 07:10:32 [18] Lr: 0.000049, Training: 67.99%,  Loss: 0.30691 "
     ]
    },
    {
     "name": "stdout",
     "output_type": "stream",
     "text": [
      "\n"
     ]
    },
    {
     "name": "stderr",
     "output_type": "stream",
     "text": [
      "9000it [4:44:34,  1.90s/it]04-02 07:26:21 [18] Lr: 0.000048, Training: 71.99%,  Loss: 0.30706 "
     ]
    },
    {
     "name": "stdout",
     "output_type": "stream",
     "text": [
      "\n"
     ]
    },
    {
     "name": "stderr",
     "output_type": "stream",
     "text": [
      "9500it [5:00:22,  1.90s/it]04-02 07:42:09 [18] Lr: 0.000048, Training: 75.99%,  Loss: 0.30727 "
     ]
    },
    {
     "name": "stdout",
     "output_type": "stream",
     "text": [
      "\n"
     ]
    },
    {
     "name": "stderr",
     "output_type": "stream",
     "text": [
      "10000it [5:16:10,  1.90s/it]4-02 07:57:58 [18] Lr: 0.000047, Training: 79.99%,  Loss: 0.30750 "
     ]
    },
    {
     "name": "stdout",
     "output_type": "stream",
     "text": [
      "\n"
     ]
    },
    {
     "name": "stderr",
     "output_type": "stream",
     "text": [
      "10500it [5:32:00,  1.90s/it]04-02 08:13:47 [18] Lr: 0.000047, Training: 83.99%,  Loss: 0.30759 "
     ]
    },
    {
     "name": "stdout",
     "output_type": "stream",
     "text": [
      "\n"
     ]
    },
    {
     "name": "stderr",
     "output_type": "stream",
     "text": [
      "11000it [5:47:48,  1.89s/it]04-02 08:29:36 [18] Lr: 0.000046, Training: 87.99%,  Loss: 0.30768 "
     ]
    },
    {
     "name": "stdout",
     "output_type": "stream",
     "text": [
      "\n"
     ]
    },
    {
     "name": "stderr",
     "output_type": "stream",
     "text": [
      "11500it [6:03:37,  1.89s/it]04-02 08:45:24 [18] Lr: 0.000046, Training: 91.99%,  Loss: 0.30791 "
     ]
    },
    {
     "name": "stdout",
     "output_type": "stream",
     "text": [
      "\n"
     ]
    },
    {
     "name": "stderr",
     "output_type": "stream",
     "text": [
      "12000it [6:19:26,  1.90s/it]04-02 09:01:13 [18] Lr: 0.000045, Training: 95.99%,  Loss: 0.30812 "
     ]
    },
    {
     "name": "stdout",
     "output_type": "stream",
     "text": [
      "\n"
     ]
    },
    {
     "name": "stderr",
     "output_type": "stream",
     "text": [
      "12500it [6:35:14,  1.90s/it]04-02 09:17:02 [18] Lr: 0.000045, Training: 99.99%,  Loss: 0.30830 "
     ]
    },
    {
     "name": "stdout",
     "output_type": "stream",
     "text": [
      "\n"
     ]
    },
    {
     "name": "stderr",
     "output_type": "stream",
     "text": [
      "12501it [6:35:17,  1.90s/it]\n",
      "657it [06:39,  1.65it/s]\n"
     ]
    },
    {
     "name": "stdout",
     "output_type": "stream",
     "text": [
      "2023-04-02 09:23:44 18 epoch, Pearson_R 0.70%, bestPearson_R 0.75%\n",
      "LR :  4.497502422351013e-05\n"
     ]
    },
    {
     "name": "stderr",
     "output_type": "stream",
     "text": [
      "500it [15:49,  1.90s/it]04-02 09:39:33 [19] Lr: 0.000044, Training: 4.00%,  Loss: 0.29393 "
     ]
    },
    {
     "name": "stdout",
     "output_type": "stream",
     "text": [
      "\n"
     ]
    },
    {
     "name": "stderr",
     "output_type": "stream",
     "text": [
      "1000it [31:37,  1.90s/it]4-02 09:55:22 [19] Lr: 0.000044, Training: 8.00%,  Loss: 0.29361 "
     ]
    },
    {
     "name": "stdout",
     "output_type": "stream",
     "text": [
      "\n"
     ]
    },
    {
     "name": "stderr",
     "output_type": "stream",
     "text": [
      "1500it [47:26,  1.90s/it]04-02 10:11:10 [19] Lr: 0.000044, Training: 12.00%,  Loss: 0.29363 "
     ]
    },
    {
     "name": "stdout",
     "output_type": "stream",
     "text": [
      "\n"
     ]
    },
    {
     "name": "stderr",
     "output_type": "stream",
     "text": [
      "2000it [1:03:14,  1.90s/it]04-02 10:26:59 [19] Lr: 0.000043, Training: 16.00%,  Loss: 0.29420 "
     ]
    },
    {
     "name": "stdout",
     "output_type": "stream",
     "text": [
      "\n"
     ]
    },
    {
     "name": "stderr",
     "output_type": "stream",
     "text": [
      "2500it [1:19:03,  1.89s/it]04-02 10:42:47 [19] Lr: 0.000043, Training: 20.00%,  Loss: 0.29486 "
     ]
    },
    {
     "name": "stdout",
     "output_type": "stream",
     "text": [
      "\n"
     ]
    },
    {
     "name": "stderr",
     "output_type": "stream",
     "text": [
      "3000it [1:34:51,  1.90s/it]04-02 10:58:36 [19] Lr: 0.000042, Training: 24.00%,  Loss: 0.29515 "
     ]
    },
    {
     "name": "stdout",
     "output_type": "stream",
     "text": [
      "\n"
     ]
    },
    {
     "name": "stderr",
     "output_type": "stream",
     "text": [
      "3500it [1:50:40,  1.90s/it]04-02 11:14:24 [19] Lr: 0.000042, Training: 28.00%,  Loss: 0.29541 "
     ]
    },
    {
     "name": "stdout",
     "output_type": "stream",
     "text": [
      "\n"
     ]
    },
    {
     "name": "stderr",
     "output_type": "stream",
     "text": [
      "4000it [2:06:28,  1.90s/it]04-02 11:30:12 [19] Lr: 0.000041, Training: 32.00%,  Loss: 0.29560 "
     ]
    },
    {
     "name": "stdout",
     "output_type": "stream",
     "text": [
      "\n"
     ]
    },
    {
     "name": "stderr",
     "output_type": "stream",
     "text": [
      "4500it [2:22:17,  1.90s/it]04-02 11:46:01 [19] Lr: 0.000041, Training: 36.00%,  Loss: 0.29599 "
     ]
    },
    {
     "name": "stdout",
     "output_type": "stream",
     "text": [
      "\n"
     ]
    },
    {
     "name": "stderr",
     "output_type": "stream",
     "text": [
      "5000it [2:38:05,  1.89s/it]04-02 12:01:49 [19] Lr: 0.000040, Training: 40.00%,  Loss: 0.29623 "
     ]
    },
    {
     "name": "stdout",
     "output_type": "stream",
     "text": [
      "\n"
     ]
    },
    {
     "name": "stderr",
     "output_type": "stream",
     "text": [
      "5500it [2:53:54,  1.89s/it]04-02 12:17:38 [19] Lr: 0.000040, Training: 44.00%,  Loss: 0.29676 "
     ]
    },
    {
     "name": "stdout",
     "output_type": "stream",
     "text": [
      "\n"
     ]
    },
    {
     "name": "stderr",
     "output_type": "stream",
     "text": [
      "6000it [3:09:42,  1.96s/it]04-02 12:33:27 [19] Lr: 0.000039, Training: 48.00%,  Loss: 0.29680 "
     ]
    },
    {
     "name": "stdout",
     "output_type": "stream",
     "text": [
      "\n"
     ]
    },
    {
     "name": "stderr",
     "output_type": "stream",
     "text": [
      "6280it [3:18:33,  1.89s/it]"
     ]
    }
   ],
   "source": [
    "torch.cuda.empty_cache()\n",
    "import gc\n",
    "gc.collect()\n",
    "import argparse, glob, os, torch, warnings, time\n",
    "\n",
    "\n",
    "model_save_path = \"exps/model_reproducing_3module\"\n",
    "score_save_path = \"exps/score_reproducing_3module.txt\"\n",
    "os.makedirs(model_save_path,exist_ok = True)\n",
    "\n",
    "device = ARGS['device']\n",
    "torch.cuda.set_device(device)\n",
    "print('Device:', device)\n",
    "print('Current cuda device:', torch.cuda.current_device())\n",
    "\n",
    "\n",
    "## Define the data loader\n",
    "trainloader = train_loader(train_data)\n",
    "trainLoader = torch.utils.data.DataLoader(trainloader, batch_size = ARGS['batch_size'], shuffle = True, num_workers = 0, drop_last = True)\n",
    "valloader = train_loader(val_data)\n",
    "valLoader = torch.utils.data.DataLoader(valloader, batch_size = ARGS['batch_size'], shuffle = True, num_workers = 0, drop_last = True)\n",
    "testloader = test_loader(ARGS)\n",
    "testLoader = torch.utils.data.DataLoader(testloader, batch_size = ARGS['batch_size'], shuffle = True, num_workers = 0, drop_last = True)\n",
    "\n",
    "## Search for the exist models\n",
    "modelfiles = glob.glob('%s/model_0*.model'%model_save_path)\n",
    "modelfiles.sort()\n",
    "\n",
    "## Otherwise, system will try to start from the saved model&epoch\n",
    "if len(modelfiles) >= 1:\n",
    "\tprint(\"Model %s loaded from previous state!\"%modelfiles[-1])\n",
    "\tepoch = int(os.path.splitext(os.path.basename(modelfiles[-1]))[0][6:]) + 1\n",
    "\ts = RegressorModel(ARGS)\n",
    "\ts.load_parameters(modelfiles[-1])\n",
    "\teval_pr_ = s.eval_network(testLoader)\n",
    "\tprint('Previous Eval Pearson_R : ',eval_pr_)\n",
    "## Otherwise, system will train from scratch\n",
    "else:\n",
    "\tepoch = 1\n",
    "\ts = RegressorModel(ARGS)\n",
    "\n",
    "pr = []\n",
    "eval_pr = []\n",
    "score_file = open(score_save_path, \"a+\")\n",
    "\n",
    "while(1):\n",
    "\t## Training for one epoch\n",
    "\tloss, lr = s.train_network(epoch = epoch, loader = trainLoader)\n",
    "\n",
    "\t## Evaluation every [test_step] epochs\n",
    "\tif epoch % 1 == 0:\n",
    "\t\ts.save_parameters(model_save_path + \"/model_%04d.model\"%epoch)\n",
    "\t\tpr.append(s.eval_network(valLoader))\n",
    "\t\tprint(time.strftime(\"%Y-%m-%d %H:%M:%S\"), \"%d epoch, Pearson_R %2.2f%%, bestPearson_R %2.2f%%\"%(epoch, pr[-1], max(pr)))\n",
    "\t\tscore_file.write(\"%d epoch, LR %f, LOSS %f, Pearson_R %2.2f%%, bestPearson_R %2.2f%%\\n\"%(epoch, lr, loss, pr[-1], max(pr)))\n",
    "\t\tscore_file.flush()\n",
    "\t\tif pr[-1] == max(pr) :\n",
    "\t\t\ts.save_parameters(model_save_path + \"/model_best.model\")\n",
    "\t\t\teval_pr.append(s.eval_network(testLoader))\n",
    "\t\t\tprint(time.strftime(\"%Y-%m-%d %H:%M:%S\"), \"%d epoch, Eval_Pearson_R %2.2f%%, Best_Eval_Pearson_R %2.2f%%\"%(epoch, eval_pr[-1], max(eval_pr)))\n",
    "\t\t\tscore_file.write(\"%d epoch, LR %f, LOSS %f, Pearson_R %2.2f%%, Best_Eval_Pearson_R %2.2f%%\\n\"%(epoch, lr, loss, eval_pr[-1], max(eval_pr)))\n",
    "\t\t\tscore_file.flush()\n",
    "\n",
    "\tif epoch >= ARGS['epochs']:\n",
    "\t\tquit()\n",
    "\n",
    "\tepoch += 1\n"
   ]
  },
  {
   "cell_type": "markdown",
   "metadata": {
    "id": "JOtXgSxYvy0F"
   },
   "source": [
    "## Model Evaluation"
   ]
  },
  {
   "cell_type": "code",
   "execution_count": 16,
   "metadata": {},
   "outputs": [],
   "source": [
    "ARGS['eval'] = True"
   ]
  },
  {
   "cell_type": "code",
   "execution_count": 17,
   "metadata": {
    "colab": {
     "base_uri": "https://localhost:8080/",
     "height": 1000
    },
    "id": "2VpPeGE-OeX-",
    "outputId": "0cf7da67-67f8-4b6d-b151-a0c481d9fcb4"
   },
   "outputs": [
    {
     "name": "stdout",
     "output_type": "stream",
     "text": [
      "Device: cuda:1\n",
      "Current cuda device: 1\n",
      "number of unique sequences in the first 17 positions: 1\n",
      "number of unique sequences in the last 13 positions: 1\n",
      "(7111, 200)\n",
      "(7111, 200)\n",
      "(7111, 200)\n",
      "(7110, 200)\n",
      "(7110, 200)\n",
      "(7110, 200)\n",
      "(7110, 200)\n",
      "(7110, 200)\n",
      "(7110, 200)\n",
      "(7110, 200)\n",
      "(71103, 200)\n",
      "(71103,)\n",
      "exps/model_reproducing_3module/model_best.model\n",
      "04-04 10:24:13 Model para number(백만) = 17.19\n",
      "Model exps/model_reproducing_3module/model_best.model loaded from previous state!\n"
     ]
    },
    {
     "name": "stderr",
     "output_type": "stream",
     "text": [
      "138it [01:21,  1.69it/s]"
     ]
    },
    {
     "name": "stdout",
     "output_type": "stream",
     "text": [
      "Evaluation Pearson R : 0.95%\n"
     ]
    },
    {
     "name": "stderr",
     "output_type": "stream",
     "text": [
      "\n"
     ]
    }
   ],
   "source": [
    "torch.cuda.empty_cache()\n",
    "import gc\n",
    "gc.collect()\n",
    "import argparse, glob, os, torch, warnings, time\n",
    "\n",
    "\n",
    "model_save_path = \"exps/model_reproducing_3module\"\n",
    "score_save_path = \"exps/score_reproducing_3module.txt\"\n",
    "os.makedirs(model_save_path,exist_ok = True)\n",
    "\n",
    "device = ARGS['device']\n",
    "torch.cuda.set_device(device)\n",
    "print('Device:', device)\n",
    "print('Current cuda device:', torch.cuda.current_device())\n",
    "\n",
    "testloader = test_loader(ARGS)\n",
    "testLoader = torch.utils.data.DataLoader(testloader, batch_size = ARGS['batch_size'], shuffle = True, num_workers = 0, drop_last = True)\n",
    "\n",
    "## Search for the exist models\n",
    "modelfiles = glob.glob('%s/*.model'%model_save_path)\n",
    "modelfiles.sort()\n",
    "for i in modelfiles : \n",
    "    if 'best' in i :\n",
    "        evalfile_path = i\n",
    "print(evalfile_path)\n",
    "## Only do evaluation, the initial_model is necessary\n",
    "if ARGS['eval'] == True :\n",
    "    s = RegressorModel(ARGS)\n",
    "    print(\"Model %s loaded from previous state!\"%evalfile_path)\n",
    "    s.load_parameters(evalfile_path)\n",
    "    PR = s.eval_network(testLoader)\n",
    "    print(\"Evaluation Pearson R : %2.2f%%\"%(PR))\n",
    "    quit()\n"
   ]
  },
  {
   "cell_type": "code",
   "execution_count": null,
   "metadata": {
    "id": "zp22H950YtNt"
   },
   "outputs": [],
   "source": []
  }
 ],
 "metadata": {
  "accelerator": "GPU",
  "colab": {
   "machine_shape": "hm",
   "provenance": []
  },
  "gpuClass": "premium",
  "kernelspec": {
   "display_name": "Python 3 (ipykernel)",
   "language": "python",
   "name": "python3"
  },
  "language_info": {
   "codemirror_mode": {
    "name": "ipython",
    "version": 3
   },
   "file_extension": ".py",
   "mimetype": "text/x-python",
   "name": "python",
   "nbconvert_exporter": "python",
   "pygments_lexer": "ipython3",
   "version": "3.8.8"
  }
 },
 "nbformat": 4,
 "nbformat_minor": 1
}
