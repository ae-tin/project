{
 "cells": [
  {
   "cell_type": "markdown",
   "metadata": {},
   "source": [
    "# Autosome model run example"
   ]
  },
  {
   "cell_type": "markdown",
   "metadata": {},
   "source": [
    "We added submodule `autosome` to the `prixfixe` module with the implementation of all required modules.\n",
    "\n"
   ]
  },
  {
   "cell_type": "markdown",
   "metadata": {},
   "source": [
    "The data processing step can be very specialized for particular approach(es), so `DataProcessors` from different teams require lots of arguments. Maybe it can be simplified once we know which teams adapt their code for the post-challenge analysis."
   ]
  },
  {
   "cell_type": "code",
   "execution_count": null,
   "metadata": {},
   "outputs": [],
   "source": [
    "TRAIN_DATA_PATH = \"/home/dnogina/dreamdata/contest_data/train.txt\"\n",
    "VALID_DATA_PATH = \"/home/dnogina/dreamdata/contest_data/val.txt\"\n",
    "TRAIN_BATCH_SIZE = 1024\n",
    "BATCH_PER_EPOCH = 1000\n",
    "N_PROCS = 8\n",
    "VALID_BATCH_SIZE = 4096\n",
    "BATCH_PER_VALIDATION = 125 \n",
    "PLASMID_PATH = \"plasmid.json\"\n",
    "SEQ_SIZE = 150"
   ]
  },
  {
   "cell_type": "code",
   "execution_count": null,
   "metadata": {},
   "outputs": [],
   "source": [
    "import torch\n",
    "from prixfixe.autosome import AutosomeDataProcessor\n",
    "\n",
    "generator = torch.Generator()\n",
    "generator.manual_seed(2147483647)\n",
    "\n",
    "dataprocessor = AutosomeDataProcessor(\n",
    "    path_to_training_data=TRAIN_DATA_PATH,\n",
    "    path_to_validation_data=VALID_DATA_PATH,\n",
    "    train_batch_size=TRAIN_BATCH_SIZE, \n",
    "    batch_per_epoch=BATCH_PER_EPOCH,\n",
    "    train_workers=N_PROCS,\n",
    "    valid_batch_size=VALID_BATCH_SIZE,\n",
    "    batch_per_valid=BATCH_PER_VALIDATION,\n",
    "    valid_workers=N_PROCS,\n",
    "    shuffle_train=True,\n",
    "    shuffle_val=False,\n",
    "    plasmid_path=PLASMID_PATH,\n",
    "    seqsize=SEQ_SIZE,\n",
    "    generator=generator\n",
    ")"
   ]
  },
  {
   "cell_type": "markdown",
   "metadata": {},
   "source": [
    "The creation of the model is very simple. \n",
    "\n",
    "The only thing you should notice is the requirement for `DataProcessor` to have a `data_channels` and `data_seqsize` methods. Otherwise, it is impossible to configure `FirstLayerBlock` correctly.\n"
   ]
  },
  {
   "cell_type": "code",
   "execution_count": null,
   "metadata": {},
   "outputs": [],
   "source": [
    "from prixfixe.autosome import (AutosomeCoreBlock,\n",
    "                      AutosomeFirstLayersBlock,\n",
    "                      AutosomeFinalLayersBlock)\n",
    "\n",
    "from prixfixe.prixfixe import PrixFixeNet\n",
    "\n",
    "\n",
    "first = AutosomeFirstLayersBlock(in_channels=dataprocessor.data_channels(),\n",
    "                                   out_channels=256, \n",
    "                                   seqsize=dataprocessor.data_seqsize())\n",
    "core = AutosomeCoreBlock(in_channels=first.out_channels,\n",
    "                         out_channels =64,\n",
    "                         seqsize=first.infer_outseqsize())\n",
    "final = AutosomeFinalLayersBlock(in_channels=core.out_channels, \n",
    "                                 seqsize=core.infer_outseqsize())\n",
    "model = PrixFixeNet(\n",
    "    first=first,\n",
    "    core=core,\n",
    "    final=final,\n",
    "    generator=generator\n",
    ")\n"
   ]
  },
  {
   "cell_type": "markdown",
   "metadata": {},
   "source": [
    "Check if model works correctly"
   ]
  },
  {
   "cell_type": "code",
   "execution_count": null,
   "metadata": {},
   "outputs": [],
   "source": [
    "model.check()"
   ]
  },
  {
   "cell_type": "markdown",
   "metadata": {},
   "source": [
    "Model training is also simple "
   ]
  },
  {
   "cell_type": "code",
   "execution_count": null,
   "metadata": {},
   "outputs": [],
   "source": [
    "NUM_EPOCHS = 1\n",
    "MODEL_LOG_DIR = \"/home/penzard/autosome_model4\"\n",
    "CUDA_DEVICE_ID = 1"
   ]
  },
  {
   "cell_type": "code",
   "execution_count": null,
   "metadata": {},
   "outputs": [],
   "source": [
    "import torch \n",
    "from prixfixe.autosome import AutosomeTrainer\n",
    "trainer = AutosomeTrainer(\n",
    "    model,    \n",
    "    device=torch.device(f\"cuda:{CUDA_DEVICE_ID}\"), \n",
    "    model_dir=MODEL_LOG_DIR,\n",
    "    dataprocessor=dataprocessor,\n",
    "    num_epochs=NUM_EPOCHS)"
   ]
  },
  {
   "cell_type": "code",
   "execution_count": null,
   "metadata": {},
   "outputs": [],
   "source": [
    "trainer.fit()"
   ]
  },
  {
   "cell_type": "code",
   "execution_count": null,
   "metadata": {},
   "outputs": [],
   "source": []
  }
 ],
 "metadata": {
  "kernelspec": {
   "display_name": "Python 3 (ipykernel)",
   "language": "python",
   "name": "python3"
  },
  "language_info": {
   "codemirror_mode": {
    "name": "ipython",
    "version": 3
   },
   "file_extension": ".py",
   "mimetype": "text/x-python",
   "name": "python",
   "nbconvert_exporter": "python",
   "pygments_lexer": "ipython3",
   "version": "3.8.8"
  },
  "vscode": {
   "interpreter": {
    "hash": "fc601570d94d64d8b92163985b06b6b639aedcd62c21024a9e2df3cc1a58f38b"
   }
  }
 },
 "nbformat": 4,
 "nbformat_minor": 2
}
