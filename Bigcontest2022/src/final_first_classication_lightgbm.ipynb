{
 "cells": [
  {
   "cell_type": "code",
   "execution_count": 8,
   "id": "bbf8c3e0",
   "metadata": {},
   "outputs": [
    {
     "name": "stdout",
     "output_type": "stream",
     "text": [
      "Available devices  5\n",
      "Device: cuda:1\n",
      "Current cuda device: 1\n",
      "**************************************************\n",
      "preprocessing,,,,,,\n",
      "**************************************************\n",
      "100%|█████████████████████████████████████████████| 8/8 [00:00<00:00, 21.16it/s]\n",
      "100%|█████████████████████████████████████████████| 6/6 [00:00<00:00, 21.92it/s]\n",
      "100%|█████████████████████████████████████████████| 4/4 [00:00<00:00, 21.03it/s]\n",
      "100%|█████████████████████████████████████████████| 4/4 [00:00<00:00, 20.89it/s]\n",
      "purpose 8\n",
      "gender 3\n",
      "income_type 6\n",
      "employment_type 4\n",
      "houseown_type 4\n",
      "rehabilitation 4\n",
      "****************** preprocessing end! ******************\n",
      "  0%|                                                   | 0/200 [00:00<?, ?it/s]****************************************\n",
      "params :  {'num_leaves': 30, 'early_stopping_round': 30, 'lambda': 0.3, 'max_depth': 10, 'num_boost_round': 100, 'learning_rate': 0.001, 'objective': 'binary', 'metric': 'binary_logloss', 'device': 'gpu', 'datatype': 'one_hot_encoding'}\n",
      "****************************************\n",
      "[LightGBM] [Warning] lambda_l2 is set with lambda=0.3, reg_lambda=0.0 will be ignored. Current value: lambda_l2=0.3\n",
      "[LightGBM] [Warning] num_iterations is set=100, num_boost_round=100 will be ignored. Current value: num_iterations=100\n",
      "[LightGBM] [Warning] lambda_l2 is set with lambda=0.3, reg_lambda=0.0 will be ignored. Current value: lambda_l2=0.3\n",
      "[LightGBM] [Info] Number of positive: 302238, number of negative: 281132\n",
      "[LightGBM] [Info] This is the GPU trainer!!\n",
      "[LightGBM] [Info] Total Bins 1838\n",
      "[LightGBM] [Info] Number of data points in the train set: 583370, number of used features: 47\n",
      "  0%|                                                   | 0/200 [01:30<?, ?it/s]\n",
      "Traceback (most recent call last):\n",
      "  File \"final_first_classification_lightgbm_grid.py\", line 227, in <module>\n",
      "    clf.fit(X_train, y_train,eval_set = [(X_valid,y_valid)])\n",
      "  File \"/opt/conda/lib/python3.8/site-packages/lightgbm/sklearn.py\", line 1084, in fit\n",
      "    super().fit(\n",
      "  File \"/opt/conda/lib/python3.8/site-packages/lightgbm/sklearn.py\", line 797, in fit\n",
      "    self._Booster = train(\n",
      "  File \"/opt/conda/lib/python3.8/site-packages/lightgbm/engine.py\", line 223, in train\n",
      "    booster = Booster(params=params, train_set=train_set)\n",
      "  File \"/opt/conda/lib/python3.8/site-packages/lightgbm/basic.py\", line 2780, in __init__\n",
      "    _safe_call(_LIB.LGBM_BoosterCreate(\n",
      "  File \"/opt/conda/lib/python3.8/site-packages/lightgbm/basic.py\", line 166, in _safe_call\n",
      "    raise LightGBMError(_LIB.LGBM_GetLastError().decode('utf-8'))\n",
      "lightgbm.basic.LightGBMError: Out of Host Memory\n"
     ]
    }
   ],
   "source": [
    "!python final_first_classification_lightgbm_grid.py"
   ]
  },
  {
   "cell_type": "code",
   "execution_count": null,
   "id": "2d59865a",
   "metadata": {},
   "outputs": [],
   "source": []
  },
  {
   "cell_type": "code",
   "execution_count": null,
   "id": "d792bd5c",
   "metadata": {},
   "outputs": [],
   "source": []
  },
  {
   "cell_type": "code",
   "execution_count": null,
   "id": "e58d9bef",
   "metadata": {},
   "outputs": [],
   "source": []
  },
  {
   "cell_type": "code",
   "execution_count": null,
   "id": "4a80c1d6",
   "metadata": {},
   "outputs": [],
   "source": []
  },
  {
   "cell_type": "code",
   "execution_count": null,
   "id": "1a4ce513",
   "metadata": {},
   "outputs": [],
   "source": []
  }
 ],
 "metadata": {
  "kernelspec": {
   "display_name": "Python 3 (ipykernel)",
   "language": "python",
   "name": "python3"
  },
  "language_info": {
   "codemirror_mode": {
    "name": "ipython",
    "version": 3
   },
   "file_extension": ".py",
   "mimetype": "text/x-python",
   "name": "python",
   "nbconvert_exporter": "python",
   "pygments_lexer": "ipython3",
   "version": "3.8.8"
  }
 },
 "nbformat": 4,
 "nbformat_minor": 5
}
