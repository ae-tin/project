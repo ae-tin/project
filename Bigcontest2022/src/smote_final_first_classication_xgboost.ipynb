{
 "cells": [
  {
   "cell_type": "code",
   "execution_count": null,
   "id": "bbf8c3e0",
   "metadata": {
    "scrolled": true
   },
   "outputs": [
    {
     "name": "stdout",
     "output_type": "stream",
     "text": [
      "Available devices  5\n",
      "Device: cuda:3\n",
      "Current cuda device: 3\n",
      "**************************************************\n",
      "preprocessing,,,,,,\n",
      "**************************************************\n",
      "100%|█████████████████████████████████████████████| 8/8 [00:00<00:00, 20.82it/s]\n",
      "100%|█████████████████████████████████████████████| 6/6 [00:00<00:00, 20.95it/s]\n",
      "100%|█████████████████████████████████████████████| 4/4 [00:00<00:00, 21.24it/s]\n",
      "100%|█████████████████████████████████████████████| 4/4 [00:00<00:00, 21.02it/s]\n",
      "purpose 8\n",
      "gender 3\n",
      "income_type 6\n",
      "employment_type 4\n",
      "houseown_type 4\n",
      "rehabilitation 4\n",
      "****************** preprocessing end! ******************\n",
      "  0%|                                                   | 0/200 [00:00<?, ?it/s]"
     ]
    }
   ],
   "source": [
    "!python smote_final_first_classification_xgboost_grid.py"
   ]
  },
  {
   "cell_type": "code",
   "execution_count": null,
   "id": "2d59865a",
   "metadata": {},
   "outputs": [],
   "source": []
  },
  {
   "cell_type": "code",
   "execution_count": null,
   "id": "d792bd5c",
   "metadata": {},
   "outputs": [],
   "source": []
  },
  {
   "cell_type": "code",
   "execution_count": null,
   "id": "e58d9bef",
   "metadata": {},
   "outputs": [],
   "source": []
  },
  {
   "cell_type": "code",
   "execution_count": null,
   "id": "4a80c1d6",
   "metadata": {},
   "outputs": [],
   "source": []
  },
  {
   "cell_type": "code",
   "execution_count": null,
   "id": "1a4ce513",
   "metadata": {},
   "outputs": [],
   "source": []
  }
 ],
 "metadata": {
  "kernelspec": {
   "display_name": "Python 3 (ipykernel)",
   "language": "python",
   "name": "python3"
  },
  "language_info": {
   "codemirror_mode": {
    "name": "ipython",
    "version": 3
   },
   "file_extension": ".py",
   "mimetype": "text/x-python",
   "name": "python",
   "nbconvert_exporter": "python",
   "pygments_lexer": "ipython3",
   "version": "3.8.8"
  }
 },
 "nbformat": 4,
 "nbformat_minor": 5
}
