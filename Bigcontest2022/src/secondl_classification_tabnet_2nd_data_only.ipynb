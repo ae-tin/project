{
 "cells": [
  {
   "cell_type": "code",
   "execution_count": 1,
   "id": "99d89b55",
   "metadata": {},
   "outputs": [],
   "source": [
    "import pandas as pd\n",
    "import numpy as np\n",
    "import os\n",
    "from sklearn.preprocessing import LabelEncoder\n",
    "from matplotlib import pyplot as plt\n",
    "\n",
    "import torch\n",
    "import torch.nn as nn\n",
    "from pytorch_tabnet.tab_model import TabNetClassifier\n",
    "from tqdm import tqdm\n",
    "from sklearn.metrics import f1_score ,roc_auc_score\n",
    "import time\n",
    "from xgboost import XGBClassifier\n",
    "from lightgbm import LGBMClassifier\n",
    "\n",
    "from sklearn.metrics import mean_squared_error\n",
    "from sklearn.model_selection import GridSearchCV\n",
    "\n",
    "import lightgbm as lgb"
   ]
  },
  {
   "cell_type": "code",
   "execution_count": 18,
   "id": "6b4512bd",
   "metadata": {},
   "outputs": [],
   "source": [
    "path = '/Data2/folder_ti/data/'\n",
    "train_csv = '1st_1011_train.csv'\n",
    "\n",
    "train = pd.read_csv(path+train_csv,index_col=0)\n",
    "train = train.astype({'gender':'object'})\n"
   ]
  },
  {
   "cell_type": "code",
   "execution_count": 3,
   "id": "7c9013e9",
   "metadata": {},
   "outputs": [
    {
     "name": "stderr",
     "output_type": "stream",
     "text": [
      "/opt/conda/lib/python3.8/site-packages/numpy/lib/arraysetops.py:583: FutureWarning: elementwise comparison failed; returning scalar instead, but in the future will perform elementwise comparison\n",
      "  mask |= (ar1 == a)\n"
     ]
    }
   ],
   "source": [
    "path = '/Data2/folder_ti/data/'\n",
    "second_csv = 'tr_2nd_classi_after_preprocessing.csv'\n",
    "\n",
    "second = pd.read_csv(path+second_csv,index_col=0)"
   ]
  },
  {
   "cell_type": "code",
   "execution_count": 5,
   "id": "c2f0521a",
   "metadata": {},
   "outputs": [],
   "source": [
    "second.reset_index(drop=False,inplace=True)"
   ]
  },
  {
   "cell_type": "code",
   "execution_count": 21,
   "id": "7c23bc53",
   "metadata": {},
   "outputs": [
    {
     "data": {
      "text/plain": [
       "��Ȱ��           2795124\n",
       "��ȯ����         1362361\n",
       "����ڱ�           187750\n",
       "��Ÿ              138788\n",
       "������������      97304\n",
       "����              89915\n",
       "���ñ���           72088\n",
       "�ڵ�������         19750\n",
       "Name: purpose, dtype: int64"
      ]
     },
     "execution_count": 21,
     "metadata": {},
     "output_type": "execute_result"
    }
   ],
   "source": [
    "second.purpose.value_counts()"
   ]
  },
  {
   "cell_type": "code",
   "execution_count": 24,
   "id": "725d1193",
   "metadata": {},
   "outputs": [],
   "source": [
    "second.drop(['purpose','income_type','rehabilitation','houseown_type','employment_type'],axis=1,inplace=True)\n",
    "second = pd.merge(second, train.loc[:,['application_id','purpose','income_type','rehabilitation','houseown_type','employment_type']], on='application_id', how='left')\n",
    "second.reset_index(drop=True, inplace=True)"
   ]
  },
  {
   "cell_type": "code",
   "execution_count": 25,
   "id": "445522e2",
   "metadata": {},
   "outputs": [
    {
     "data": {
      "text/plain": [
       "생활비       2795124\n",
       "대환대출      1362361\n",
       "사업자금       187750\n",
       "기타         138788\n",
       "전월세보증금      97304\n",
       "투자          89915\n",
       "주택구입        72088\n",
       "자동차구입       19750\n",
       "Name: purpose, dtype: int64"
      ]
     },
     "execution_count": 25,
     "metadata": {},
     "output_type": "execute_result"
    }
   ],
   "source": [
    "second.purpose.value_counts()"
   ]
  },
  {
   "cell_type": "code",
   "execution_count": 7,
   "id": "90c06adb",
   "metadata": {},
   "outputs": [
    {
     "name": "stdout",
     "output_type": "stream",
     "text": [
      "<class 'pandas.core.frame.DataFrame'>\n",
      "RangeIndex: 4763080 entries, 0 to 4763079\n",
      "Data columns (total 29 columns):\n",
      " #   Column                      Dtype  \n",
      "---  ------                      -----  \n",
      " 0   application_id              int64  \n",
      " 1   loanapply_insert_time       object \n",
      " 2   bank_id                     int64  \n",
      " 3   product_id                  int64  \n",
      " 4   loan_limit                  float64\n",
      " 5   loan_rate                   float64\n",
      " 6   is_applied                  int64  \n",
      " 7   user_id                     int64  \n",
      " 8   age                         int64  \n",
      " 9   gender                      int64  \n",
      " 10  insert_time                 object \n",
      " 11  credit_score                int64  \n",
      " 12  yearly_income               float64\n",
      " 13  income_type                 object \n",
      " 14  company_year                int64  \n",
      " 15  employment_type             object \n",
      " 16  houseown_type               object \n",
      " 17  desired_amount              float64\n",
      " 18  purpose                     object \n",
      " 19  rehabilitation              int64  \n",
      " 20  existing_loan_cnt           float64\n",
      " 21  n_product                   int64  \n",
      " 22  rate_rank                   float64\n",
      " 23  diff                        float64\n",
      " 24  rate_diff_with.min          float64\n",
      " 25  relat.rate_diff_with.min    float64\n",
      " 26  rate_diff_with.above        float64\n",
      " 27  relat.rate_diff_with.above  float64\n",
      " 28  logdata                     int64  \n",
      "dtypes: float64(11), int64(12), object(6)\n",
      "memory usage: 1.0+ GB\n"
     ]
    }
   ],
   "source": [
    "second.info()"
   ]
  },
  {
   "cell_type": "code",
   "execution_count": null,
   "id": "bd5d75f5",
   "metadata": {},
   "outputs": [],
   "source": []
  },
  {
   "cell_type": "code",
   "execution_count": 8,
   "id": "45a85ec6",
   "metadata": {},
   "outputs": [
    {
     "name": "stdout",
     "output_type": "stream",
     "text": [
      "<class 'pandas.core.frame.DataFrame'>\n",
      "Int64Index: 728862 entries, 83603 to 518912\n",
      "Data columns (total 27 columns):\n",
      " #   Column                     Non-Null Count   Dtype  \n",
      "---  ------                     --------------   -----  \n",
      " 0   application_id             728862 non-null  int64  \n",
      " 1   user_id                    728862 non-null  int64  \n",
      " 2   purpose                    728862 non-null  object \n",
      " 3   is_applied                 728862 non-null  object \n",
      " 4   past.is_applied            728862 non-null  int64  \n",
      " 5   m_past.is_applied          728862 non-null  float64\n",
      " 6   seq                        728862 non-null  float64\n",
      " 7   min.loan_rate              728862 non-null  float64\n",
      " 8   product_n                  728862 non-null  int64  \n",
      " 9   n.limit_over_desire        728862 non-null  int64  \n",
      " 10  loan_limit_min.rate        728862 non-null  float64\n",
      " 11  age                        728862 non-null  int64  \n",
      " 12  gender                     728862 non-null  object \n",
      " 13  credit_score               728862 non-null  int64  \n",
      " 14  yearly_income              728862 non-null  float64\n",
      " 15  income_type                728862 non-null  object \n",
      " 16  company_year               728862 non-null  int64  \n",
      " 17  employment_type            728862 non-null  object \n",
      " 18  houseown_type              728862 non-null  object \n",
      " 19  desired_amount             728862 non-null  float64\n",
      " 20  rehabilitation             728862 non-null  int64  \n",
      " 21  existing_loan_cnt          728862 non-null  int64  \n",
      " 22  logdata                    728862 non-null  int64  \n",
      " 23  diff                       728862 non-null  float64\n",
      " 24  diff2                      728862 non-null  float64\n",
      " 25  limit_over_desire_product  728862 non-null  float64\n",
      " 26  yd                         728862 non-null  float64\n",
      "dtypes: float64(10), int64(11), object(6)\n",
      "memory usage: 155.7+ MB\n"
     ]
    }
   ],
   "source": [
    "train.info()"
   ]
  },
  {
   "cell_type": "code",
   "execution_count": 10,
   "id": "9c673d8a",
   "metadata": {
    "scrolled": true
   },
   "outputs": [
    {
     "name": "stdout",
     "output_type": "stream",
     "text": [
      "col name & nan :  application_id / 0\n",
      "col name & nan :  user_id / 0\n",
      "col name & nan :  purpose / 0\n",
      "col name & nan :  is_applied / 0\n",
      "col name & nan :  past.is_applied / 0\n",
      "col name & nan :  m_past.is_applied / 0\n",
      "col name & nan :  seq / 0\n",
      "col name & nan :  min.loan_rate / 0\n",
      "col name & nan :  product_n / 0\n",
      "col name & nan :  n.limit_over_desire / 0\n",
      "col name & nan :  loan_limit_min.rate / 0\n",
      "col name & nan :  age / 0\n",
      "col name & nan :  gender / 0\n",
      "col name & nan :  credit_score / 0\n",
      "col name & nan :  yearly_income / 0\n",
      "col name & nan :  income_type / 0\n",
      "col name & nan :  company_year / 0\n",
      "col name & nan :  employment_type / 0\n",
      "col name & nan :  houseown_type / 0\n",
      "col name & nan :  desired_amount / 0\n",
      "col name & nan :  rehabilitation / 0\n",
      "col name & nan :  existing_loan_cnt / 0\n",
      "col name & nan :  logdata / 0\n",
      "col name & nan :  diff / 0\n",
      "col name & nan :  diff2 / 0\n",
      "col name & nan :  limit_over_desire_product / 0\n",
      "col name & nan :  yd / 0\n"
     ]
    }
   ],
   "source": [
    "for col in train.columns :\n",
    "    print('col name & nan : ', col,'/',train[col].isnull().sum())"
   ]
  },
  {
   "cell_type": "code",
   "execution_count": 27,
   "id": "410f3908",
   "metadata": {},
   "outputs": [],
   "source": [
    "train = second"
   ]
  },
  {
   "cell_type": "code",
   "execution_count": 28,
   "id": "5043552c",
   "metadata": {},
   "outputs": [
    {
     "data": {
      "text/plain": [
       "0    4208369\n",
       "1     554711\n",
       "Name: is_applied, dtype: int64"
      ]
     },
     "execution_count": 28,
     "metadata": {},
     "output_type": "execute_result"
    }
   ],
   "source": [
    "train.is_applied.value_counts()"
   ]
  },
  {
   "cell_type": "code",
   "execution_count": 29,
   "id": "9b8a5edf",
   "metadata": {},
   "outputs": [
    {
     "name": "stderr",
     "output_type": "stream",
     "text": [
      "/tmp/ipykernel_5563/2107596761.py:5: SettingWithCopyWarning: \n",
      "A value is trying to be set on a copy of a slice from a DataFrame.\n",
      "Try using .loc[row_indexer,col_indexer] = value instead\n",
      "\n",
      "See the caveats in the documentation: https://pandas.pydata.org/pandas-docs/stable/user_guide/indexing.html#returning-a-view-versus-a-copy\n",
      "  data_0[\"set\"] = np.random.choice([\"train\", \"valid\"], p =[.8, .2], size=(data_0.shape[0],))\n",
      "/tmp/ipykernel_5563/2107596761.py:7: SettingWithCopyWarning: \n",
      "A value is trying to be set on a copy of a slice from a DataFrame.\n",
      "Try using .loc[row_indexer,col_indexer] = value instead\n",
      "\n",
      "See the caveats in the documentation: https://pandas.pydata.org/pandas-docs/stable/user_guide/indexing.html#returning-a-view-versus-a-copy\n",
      "  data_1[\"set\"] = np.random.choice([\"train\", \"valid\"], p =[.8, .2], size=(data_1.shape[0],))\n"
     ]
    }
   ],
   "source": [
    "data_0 = train[train.is_applied == 0]\n",
    "data_1 = train[train.is_applied == 1]\n",
    "target = 'is_applied'    \n",
    "if \"set\" not in data_0.columns:\n",
    "    data_0[\"set\"] = np.random.choice([\"train\", \"valid\"], p =[.8, .2], size=(data_0.shape[0],))\n",
    "if \"set\" not in data_1.columns:\n",
    "    data_1[\"set\"] = np.random.choice([\"train\", \"valid\"], p =[.8, .2], size=(data_1.shape[0],))"
   ]
  },
  {
   "cell_type": "code",
   "execution_count": 30,
   "id": "be803b68",
   "metadata": {},
   "outputs": [],
   "source": [
    "train = pd.concat([data_0,data_1], ignore_index=True)\n",
    "train = train.sample(frac=1).reset_index(drop=True)"
   ]
  },
  {
   "cell_type": "code",
   "execution_count": 14,
   "id": "62aad3ea",
   "metadata": {},
   "outputs": [
    {
     "name": "stdout",
     "output_type": "stream",
     "text": [
      "<class 'pandas.core.frame.DataFrame'>\n",
      "RangeIndex: 4763080 entries, 0 to 4763079\n",
      "Data columns (total 30 columns):\n",
      " #   Column                      Dtype  \n",
      "---  ------                      -----  \n",
      " 0   application_id              int64  \n",
      " 1   loanapply_insert_time       object \n",
      " 2   bank_id                     int64  \n",
      " 3   product_id                  int64  \n",
      " 4   loan_limit                  float64\n",
      " 5   loan_rate                   float64\n",
      " 6   is_applied                  int64  \n",
      " 7   user_id                     int64  \n",
      " 8   age                         int64  \n",
      " 9   gender                      int64  \n",
      " 10  insert_time                 object \n",
      " 11  credit_score                int64  \n",
      " 12  yearly_income               float64\n",
      " 13  income_type                 object \n",
      " 14  company_year                int64  \n",
      " 15  employment_type             object \n",
      " 16  houseown_type               object \n",
      " 17  desired_amount              float64\n",
      " 18  purpose                     object \n",
      " 19  rehabilitation              int64  \n",
      " 20  existing_loan_cnt           float64\n",
      " 21  n_product                   int64  \n",
      " 22  rate_rank                   float64\n",
      " 23  diff                        float64\n",
      " 24  rate_diff_with.min          float64\n",
      " 25  relat.rate_diff_with.min    float64\n",
      " 26  rate_diff_with.above        float64\n",
      " 27  relat.rate_diff_with.above  float64\n",
      " 28  logdata                     int64  \n",
      " 29  set                         object \n",
      "dtypes: float64(11), int64(12), object(7)\n",
      "memory usage: 1.1+ GB\n"
     ]
    }
   ],
   "source": [
    "train.info()"
   ]
  },
  {
   "cell_type": "markdown",
   "id": "6665184a",
   "metadata": {},
   "source": [
    "### c('application_id','loanapply_insert_time','user_id','insert_time'\n",
    "        ,'company_enter_month','n_applied','company_year','employment_type','houseown_type'\n",
    "        ,'gender','rehabilitation','yearly_income','age','existing_loan_cnt','product_id'\n",
    "        ,'personal_rehabilitation_yn','income_type','personal_rehabilitation_complete_yn')"
   ]
  },
  {
   "cell_type": "code",
   "execution_count": 31,
   "id": "f28547b8",
   "metadata": {},
   "outputs": [],
   "source": [
    "cat_col = ['purpose','gender','income_type','employment_type','houseown_type','rehabilitation']"
   ]
  },
  {
   "cell_type": "code",
   "execution_count": 32,
   "id": "fd3885af",
   "metadata": {},
   "outputs": [],
   "source": [
    "cat_trans = dict()\n",
    "for cat in cat_col :\n",
    "    cat_trans[cat] = dict()\n",
    "    type_ = list(set(train[cat].tolist()))\n",
    "    for i, ty in enumerate(type_) :\n",
    "        cat_trans[cat][ty] = i"
   ]
  },
  {
   "cell_type": "code",
   "execution_count": 33,
   "id": "d6efa3d8",
   "metadata": {},
   "outputs": [
    {
     "data": {
      "text/plain": [
       "{'purpose': {'자동차구입': 0,\n",
       "  '주택구입': 1,\n",
       "  '전월세보증금': 2,\n",
       "  '생활비': 3,\n",
       "  '사업자금': 4,\n",
       "  '대환대출': 5,\n",
       "  '투자': 6,\n",
       "  '기타': 7},\n",
       " 'gender': {0: 0, 1: 1, -1: 2},\n",
       " 'income_type': {'EARNEDINCOME2': 0,\n",
       "  'PRIVATEBUSINESS': 1,\n",
       "  'FREELANCER': 2,\n",
       "  'PRACTITIONER': 3,\n",
       "  'OTHERINCOME': 4,\n",
       "  'EARNEDINCOME': 5},\n",
       " 'employment_type': {'기타': 0, '계약직': 1, '일용직': 2, '정규직': 3},\n",
       " 'houseown_type': {'기타가족소유': 0, '전월세': 1, '배우자': 2, '자가': 3},\n",
       " 'rehabilitation': {0: 0, 1: 1, 2: 2, -1: 3}}"
      ]
     },
     "execution_count": 33,
     "metadata": {},
     "output_type": "execute_result"
    }
   ],
   "source": [
    "cat_trans"
   ]
  },
  {
   "cell_type": "code",
   "execution_count": 34,
   "id": "7696fa5e",
   "metadata": {},
   "outputs": [
    {
     "name": "stderr",
     "output_type": "stream",
     "text": [
      "  0%|                                                                                                                       | 0/8 [00:00<?, ?it/s]/tmp/ipykernel_5563/4081748353.py:6: SettingWithCopyWarning: \n",
      "A value is trying to be set on a copy of a slice from a DataFrame\n",
      "\n",
      "See the caveats in the documentation: https://pandas.pydata.org/pandas-docs/stable/user_guide/indexing.html#returning-a-view-versus-a-copy\n",
      "  train[cat][train[cat]==k] = cat_trans[cat][k]\n",
      "100%|███████████████████████████████████████████████████████████████████████████████████████████████████████████████| 8/8 [00:03<00:00,  2.15it/s]\n",
      "100%|███████████████████████████████████████████████████████████████████████████████████████████████████████████████| 6/6 [00:02<00:00,  2.26it/s]\n",
      "100%|███████████████████████████████████████████████████████████████████████████████████████████████████████████████| 4/4 [00:01<00:00,  2.03it/s]\n",
      "100%|███████████████████████████████████████████████████████████████████████████████████████████████████████████████| 4/4 [00:01<00:00,  2.11it/s]\n",
      "  0%|                                                                                                                       | 0/4 [00:00<?, ?it/s]/tmp/ipykernel_5563/4081748353.py:6: SettingWithCopyWarning: \n",
      "A value is trying to be set on a copy of a slice from a DataFrame\n",
      "\n",
      "See the caveats in the documentation: https://pandas.pydata.org/pandas-docs/stable/user_guide/indexing.html#returning-a-view-versus-a-copy\n",
      "  train[cat][train[cat]==k] = cat_trans[cat][k]\n",
      "/tmp/ipykernel_5563/4081748353.py:6: SettingWithCopyWarning: \n",
      "A value is trying to be set on a copy of a slice from a DataFrame\n",
      "\n",
      "See the caveats in the documentation: https://pandas.pydata.org/pandas-docs/stable/user_guide/indexing.html#returning-a-view-versus-a-copy\n",
      "  train[cat][train[cat]==k] = cat_trans[cat][k]\n",
      "/tmp/ipykernel_5563/4081748353.py:6: SettingWithCopyWarning: \n",
      "A value is trying to be set on a copy of a slice from a DataFrame\n",
      "\n",
      "See the caveats in the documentation: https://pandas.pydata.org/pandas-docs/stable/user_guide/indexing.html#returning-a-view-versus-a-copy\n",
      "  train[cat][train[cat]==k] = cat_trans[cat][k]\n",
      "/tmp/ipykernel_5563/4081748353.py:6: SettingWithCopyWarning: \n",
      "A value is trying to be set on a copy of a slice from a DataFrame\n",
      "\n",
      "See the caveats in the documentation: https://pandas.pydata.org/pandas-docs/stable/user_guide/indexing.html#returning-a-view-versus-a-copy\n",
      "  train[cat][train[cat]==k] = cat_trans[cat][k]\n",
      "100%|███████████████████████████████████████████████████████████████████████████████████████████████████████████████| 4/4 [00:00<00:00, 43.93it/s]\n"
     ]
    }
   ],
   "source": [
    "from tqdm import tqdm\n",
    "for cat in cat_col :\n",
    "    if cat == 'gender' :\n",
    "        continue\n",
    "    for k in tqdm(cat_trans[cat].keys()) :\n",
    "        train[cat][train[cat]==k] = cat_trans[cat][k]   "
   ]
  },
  {
   "cell_type": "code",
   "execution_count": 35,
   "id": "e916e0d1",
   "metadata": {},
   "outputs": [],
   "source": [
    "train_indices = train[train.set==\"train\"].index\n",
    "valid_indices = train[train.set==\"valid\"].index"
   ]
  },
  {
   "cell_type": "code",
   "execution_count": 37,
   "id": "489d7f00",
   "metadata": {},
   "outputs": [],
   "source": [
    "train.drop(['index'],axis=1,inplace=True)"
   ]
  },
  {
   "cell_type": "code",
   "execution_count": 38,
   "id": "067798d1",
   "metadata": {},
   "outputs": [
    {
     "name": "stdout",
     "output_type": "stream",
     "text": [
      "<class 'pandas.core.frame.DataFrame'>\n",
      "RangeIndex: 4763080 entries, 0 to 4763079\n",
      "Data columns (total 30 columns):\n",
      " #   Column                      Dtype  \n",
      "---  ------                      -----  \n",
      " 0   application_id              int64  \n",
      " 1   loanapply_insert_time       object \n",
      " 2   bank_id                     int64  \n",
      " 3   product_id                  int64  \n",
      " 4   loan_limit                  float64\n",
      " 5   loan_rate                   float64\n",
      " 6   is_applied                  int64  \n",
      " 7   user_id                     int64  \n",
      " 8   age                         int64  \n",
      " 9   gender                      int64  \n",
      " 10  insert_time                 object \n",
      " 11  credit_score                int64  \n",
      " 12  yearly_income               float64\n",
      " 13  company_year                int64  \n",
      " 14  desired_amount              float64\n",
      " 15  existing_loan_cnt           float64\n",
      " 16  n_product                   int64  \n",
      " 17  rate_rank                   float64\n",
      " 18  diff                        float64\n",
      " 19  rate_diff_with.min          float64\n",
      " 20  relat.rate_diff_with.min    float64\n",
      " 21  rate_diff_with.above        float64\n",
      " 22  relat.rate_diff_with.above  float64\n",
      " 23  logdata                     int64  \n",
      " 24  purpose                     object \n",
      " 25  income_type                 object \n",
      " 26  rehabilitation              int64  \n",
      " 27  houseown_type               object \n",
      " 28  employment_type             object \n",
      " 29  set                         object \n",
      "dtypes: float64(11), int64(12), object(7)\n",
      "memory usage: 1.1+ GB\n"
     ]
    }
   ],
   "source": [
    "train.info()"
   ]
  },
  {
   "cell_type": "markdown",
   "id": "1949c720",
   "metadata": {},
   "source": [
    "### c('application_id','loanapply_insert_time','user_id','insert_time'\n",
    "        ,'company_enter_month','n_applied','company_year','employment_type','houseown_type'\n",
    "        ,'gender','rehabilitation','yearly_income','age','existing_loan_cnt','product_id'\n",
    "        ,'personal_rehabilitation_yn','income_type','personal_rehabilitation_complete_yn')"
   ]
  },
  {
   "cell_type": "code",
   "execution_count": 36,
   "id": "30920094",
   "metadata": {},
   "outputs": [],
   "source": [
    "types = train.dtypes\n",
    "target = 'is_applied'\n",
    "unused_col = ['set','user_id','application_id','loanapply_insert_time','insert_time','gender','yearly_income',\n",
    "             'company_year','existing_loan_cnt','product_id','income_type']\n",
    "cat_col = ['purpose','bank_id','rehabilitation','employment_type','houseown_type']\n",
    "\n",
    "features = [ col for col in train.columns if col not in unused_col+[target]] "
   ]
  },
  {
   "cell_type": "code",
   "execution_count": null,
   "id": "674794ad",
   "metadata": {},
   "outputs": [],
   "source": [
    "types = train.dtypes\n",
    "target = 'is_applied'\n",
    "unused_col = ['set','user_id','application_id','loanapply_insert_time','insert_time','gender','yearly_income',\n",
    "             'company_year','existing_loan_cnt','product_id','income_type']\n",
    "cat_col = ['purpose','bank_id','rehabilitation','employment_type','houseown_type']\n",
    "categorical_dims =  {}\n",
    "for col in train.columns:\n",
    "    if col in cat_col :\n",
    "        print(col, train[col].nunique())\n",
    "        l_enc = LabelEncoder()\n",
    "        train[col] = l_enc.fit_transform(train[col].values)\n",
    "        categorical_dims[col] = len(l_enc.classes_)\n",
    "    elif col not in unused_col+[target]:\n",
    "        train.fillna(train.loc[:, col].mean(), inplace=True)\n",
    "\n",
    "\n",
    "# Categorical Embedding을 위해 Categorical 변수의 차원과 idxs를 담음.\n",
    "features = [ col for col in train.columns if col not in unused_col+[target]] \n",
    "cat_idxs = [ i for i, f in enumerate(features) if f in cat_col]\n",
    "cat_dims = [ categorical_dims[f] for i, f in enumerate(features) if f in cat_col]\n",
    "#train_shuf = train_shuf.astype({'income_type':'int64','employment_type':'int64','houseown_type':'int64','purpose':'int64'})"
   ]
  },
  {
   "cell_type": "code",
   "execution_count": 38,
   "id": "74db16d6",
   "metadata": {},
   "outputs": [
    {
     "data": {
      "text/html": [
       "<div>\n",
       "<style scoped>\n",
       "    .dataframe tbody tr th:only-of-type {\n",
       "        vertical-align: middle;\n",
       "    }\n",
       "\n",
       "    .dataframe tbody tr th {\n",
       "        vertical-align: top;\n",
       "    }\n",
       "\n",
       "    .dataframe thead th {\n",
       "        text-align: right;\n",
       "    }\n",
       "</style>\n",
       "<table border=\"1\" class=\"dataframe\">\n",
       "  <thead>\n",
       "    <tr style=\"text-align: right;\">\n",
       "      <th></th>\n",
       "      <th>application_id</th>\n",
       "      <th>user_id</th>\n",
       "      <th>purpose</th>\n",
       "      <th>is_applied</th>\n",
       "      <th>past.is_applied</th>\n",
       "      <th>m_past.is_applied</th>\n",
       "      <th>seq</th>\n",
       "      <th>min.loan_rate</th>\n",
       "      <th>product_n</th>\n",
       "      <th>n.limit_over_desire</th>\n",
       "      <th>...</th>\n",
       "      <th>houseown_type</th>\n",
       "      <th>desired_amount</th>\n",
       "      <th>rehabilitation</th>\n",
       "      <th>existing_loan_cnt</th>\n",
       "      <th>logdata</th>\n",
       "      <th>diff</th>\n",
       "      <th>diff2</th>\n",
       "      <th>limit_over_desire_product</th>\n",
       "      <th>yd</th>\n",
       "      <th>set</th>\n",
       "    </tr>\n",
       "  </thead>\n",
       "  <tbody>\n",
       "    <tr>\n",
       "      <th>0</th>\n",
       "      <td>1345430</td>\n",
       "      <td>409465</td>\n",
       "      <td>7</td>\n",
       "      <td>1</td>\n",
       "      <td>1</td>\n",
       "      <td>0.666667</td>\n",
       "      <td>3.0</td>\n",
       "      <td>9.2</td>\n",
       "      <td>4</td>\n",
       "      <td>3</td>\n",
       "      <td>...</td>\n",
       "      <td>0</td>\n",
       "      <td>8000000.0</td>\n",
       "      <td>3</td>\n",
       "      <td>1</td>\n",
       "      <td>0</td>\n",
       "      <td>13000000.0</td>\n",
       "      <td>1.625000</td>\n",
       "      <td>0.750000</td>\n",
       "      <td>0.266667</td>\n",
       "      <td>train</td>\n",
       "    </tr>\n",
       "    <tr>\n",
       "      <th>1</th>\n",
       "      <td>1340543</td>\n",
       "      <td>789104</td>\n",
       "      <td>7</td>\n",
       "      <td>1</td>\n",
       "      <td>1</td>\n",
       "      <td>1.000000</td>\n",
       "      <td>4.0</td>\n",
       "      <td>11.1</td>\n",
       "      <td>2</td>\n",
       "      <td>2</td>\n",
       "      <td>...</td>\n",
       "      <td>0</td>\n",
       "      <td>15000000.0</td>\n",
       "      <td>3</td>\n",
       "      <td>1</td>\n",
       "      <td>17</td>\n",
       "      <td>2000000.0</td>\n",
       "      <td>0.133333</td>\n",
       "      <td>1.000000</td>\n",
       "      <td>0.600000</td>\n",
       "      <td>train</td>\n",
       "    </tr>\n",
       "    <tr>\n",
       "      <th>2</th>\n",
       "      <td>1519681</td>\n",
       "      <td>576002</td>\n",
       "      <td>2</td>\n",
       "      <td>1</td>\n",
       "      <td>0</td>\n",
       "      <td>0.000000</td>\n",
       "      <td>1.0</td>\n",
       "      <td>15.4</td>\n",
       "      <td>5</td>\n",
       "      <td>0</td>\n",
       "      <td>...</td>\n",
       "      <td>2</td>\n",
       "      <td>64500000.0</td>\n",
       "      <td>3</td>\n",
       "      <td>8</td>\n",
       "      <td>8</td>\n",
       "      <td>-49500000.0</td>\n",
       "      <td>-0.767442</td>\n",
       "      <td>0.000000</td>\n",
       "      <td>1.131579</td>\n",
       "      <td>train</td>\n",
       "    </tr>\n",
       "    <tr>\n",
       "      <th>3</th>\n",
       "      <td>1488854</td>\n",
       "      <td>30828</td>\n",
       "      <td>7</td>\n",
       "      <td>0</td>\n",
       "      <td>1</td>\n",
       "      <td>0.750000</td>\n",
       "      <td>4.0</td>\n",
       "      <td>6.7</td>\n",
       "      <td>3</td>\n",
       "      <td>0</td>\n",
       "      <td>...</td>\n",
       "      <td>0</td>\n",
       "      <td>30000000.0</td>\n",
       "      <td>3</td>\n",
       "      <td>6</td>\n",
       "      <td>8</td>\n",
       "      <td>-22000000.0</td>\n",
       "      <td>-0.733333</td>\n",
       "      <td>0.000000</td>\n",
       "      <td>0.545455</td>\n",
       "      <td>valid</td>\n",
       "    </tr>\n",
       "    <tr>\n",
       "      <th>4</th>\n",
       "      <td>415064</td>\n",
       "      <td>398837</td>\n",
       "      <td>7</td>\n",
       "      <td>0</td>\n",
       "      <td>-1</td>\n",
       "      <td>0.465641</td>\n",
       "      <td>0.0</td>\n",
       "      <td>6.7</td>\n",
       "      <td>47</td>\n",
       "      <td>15</td>\n",
       "      <td>...</td>\n",
       "      <td>2</td>\n",
       "      <td>10000000.0</td>\n",
       "      <td>3</td>\n",
       "      <td>2</td>\n",
       "      <td>11</td>\n",
       "      <td>-1000000.0</td>\n",
       "      <td>-0.100000</td>\n",
       "      <td>0.716667</td>\n",
       "      <td>0.303030</td>\n",
       "      <td>valid</td>\n",
       "    </tr>\n",
       "  </tbody>\n",
       "</table>\n",
       "<p>5 rows × 28 columns</p>\n",
       "</div>"
      ],
      "text/plain": [
       "   application_id  user_id  purpose  is_applied  past.is_applied  \\\n",
       "0         1345430   409465        7           1                1   \n",
       "1         1340543   789104        7           1                1   \n",
       "2         1519681   576002        2           1                0   \n",
       "3         1488854    30828        7           0                1   \n",
       "4          415064   398837        7           0               -1   \n",
       "\n",
       "   m_past.is_applied  seq  min.loan_rate  product_n  n.limit_over_desire  ...  \\\n",
       "0           0.666667  3.0            9.2          4                    3  ...   \n",
       "1           1.000000  4.0           11.1          2                    2  ...   \n",
       "2           0.000000  1.0           15.4          5                    0  ...   \n",
       "3           0.750000  4.0            6.7          3                    0  ...   \n",
       "4           0.465641  0.0            6.7         47                   15  ...   \n",
       "\n",
       "   houseown_type  desired_amount  rehabilitation  existing_loan_cnt  logdata  \\\n",
       "0              0       8000000.0               3                  1        0   \n",
       "1              0      15000000.0               3                  1       17   \n",
       "2              2      64500000.0               3                  8        8   \n",
       "3              0      30000000.0               3                  6        8   \n",
       "4              2      10000000.0               3                  2       11   \n",
       "\n",
       "         diff     diff2  limit_over_desire_product        yd    set  \n",
       "0  13000000.0  1.625000                   0.750000  0.266667  train  \n",
       "1   2000000.0  0.133333                   1.000000  0.600000  train  \n",
       "2 -49500000.0 -0.767442                   0.000000  1.131579  train  \n",
       "3 -22000000.0 -0.733333                   0.000000  0.545455  valid  \n",
       "4  -1000000.0 -0.100000                   0.716667  0.303030  valid  \n",
       "\n",
       "[5 rows x 28 columns]"
      ]
     },
     "execution_count": 38,
     "metadata": {},
     "output_type": "execute_result"
    }
   ],
   "source": [
    "train.head()"
   ]
  },
  {
   "cell_type": "code",
   "execution_count": 39,
   "id": "9331314f",
   "metadata": {},
   "outputs": [
    {
     "data": {
      "text/plain": [
       "['purpose',\n",
       " 'past.is_applied',\n",
       " 'm_past.is_applied',\n",
       " 'seq',\n",
       " 'min.loan_rate',\n",
       " 'product_n',\n",
       " 'n.limit_over_desire',\n",
       " 'loan_limit_min.rate',\n",
       " 'age',\n",
       " 'gender',\n",
       " 'credit_score',\n",
       " 'yearly_income',\n",
       " 'income_type',\n",
       " 'company_year',\n",
       " 'employment_type',\n",
       " 'houseown_type',\n",
       " 'desired_amount',\n",
       " 'rehabilitation',\n",
       " 'existing_loan_cnt',\n",
       " 'logdata',\n",
       " 'diff',\n",
       " 'diff2',\n",
       " 'limit_over_desire_product',\n",
       " 'yd']"
      ]
     },
     "execution_count": 39,
     "metadata": {},
     "output_type": "execute_result"
    }
   ],
   "source": [
    "features"
   ]
  },
  {
   "cell_type": "code",
   "execution_count": 40,
   "id": "d4c22c82",
   "metadata": {},
   "outputs": [],
   "source": [
    "\n",
    "X_train = train[features].values[train_indices]\n",
    "y_train = train[target].values[train_indices]\n",
    "\n",
    "X_valid = train[features].values[valid_indices]\n",
    "y_valid = train[target].values[valid_indices]"
   ]
  },
  {
   "cell_type": "code",
   "execution_count": 41,
   "id": "e865b1e7",
   "metadata": {},
   "outputs": [
    {
     "name": "stdout",
     "output_type": "stream",
     "text": [
      "Using cuda:4\n"
     ]
    }
   ],
   "source": [
    "import torch\n",
    "DEVICE = 'cuda:4' if torch.cuda.is_available() else 'cpu'\n",
    "print(\"Using {}\".format(DEVICE))"
   ]
  },
  {
   "cell_type": "code",
   "execution_count": 42,
   "id": "69c0353e",
   "metadata": {},
   "outputs": [
    {
     "name": "stderr",
     "output_type": "stream",
     "text": [
      "/opt/conda/lib/python3.8/site-packages/pytorch_tabnet/abstract_model.py:75: UserWarning: Device used : cuda:4\n",
      "  warnings.warn(f\"Device used : {self.device}\")\n"
     ]
    },
    {
     "name": "stdout",
     "output_type": "stream",
     "text": [
      "epoch 0  | loss: 0.44928 | val_0_auc: 0.89095 |  0:01:40s\n",
      "epoch 1  | loss: 0.4008  | val_0_auc: 0.90379 |  0:03:25s\n",
      "epoch 2  | loss: 0.38749 | val_0_auc: 0.906   |  0:05:09s\n",
      "epoch 3  | loss: 0.38325 | val_0_auc: 0.90848 |  0:06:51s\n",
      "epoch 4  | loss: 0.38541 | val_0_auc: 0.90635 |  0:08:35s\n",
      "epoch 5  | loss: 0.37388 | val_0_auc: 0.90965 |  0:10:14s\n",
      "epoch 6  | loss: 0.36791 | val_0_auc: 0.91615 |  0:11:57s\n",
      "epoch 7  | loss: 0.3638  | val_0_auc: 0.91634 |  0:13:44s\n",
      "epoch 8  | loss: 0.36119 | val_0_auc: 0.91898 |  0:15:29s\n",
      "epoch 9  | loss: 0.3595  | val_0_auc: 0.9191  |  0:17:10s\n",
      "epoch 10 | loss: 0.37052 | val_0_auc: 0.9169  |  0:18:50s\n",
      "epoch 11 | loss: 0.36082 | val_0_auc: 0.91804 |  0:20:31s\n",
      "epoch 12 | loss: 0.35816 | val_0_auc: 0.91791 |  0:22:11s\n",
      "epoch 13 | loss: 0.35734 | val_0_auc: 0.91769 |  0:23:51s\n",
      "epoch 14 | loss: 0.35625 | val_0_auc: 0.91967 |  0:25:31s\n",
      "epoch 15 | loss: 0.35639 | val_0_auc: 0.91978 |  0:27:10s\n",
      "epoch 16 | loss: 0.35613 | val_0_auc: 0.91904 |  0:28:51s\n",
      "epoch 17 | loss: 0.3551  | val_0_auc: 0.92011 |  0:30:34s\n",
      "epoch 18 | loss: 0.35463 | val_0_auc: 0.92104 |  0:32:15s\n",
      "epoch 19 | loss: 0.35409 | val_0_auc: 0.92019 |  0:33:56s\n",
      "Stop training because you reached max_epochs = 20 with best_epoch = 18 and best_val_0_auc = 0.92104\n"
     ]
    },
    {
     "name": "stderr",
     "output_type": "stream",
     "text": [
      "/opt/conda/lib/python3.8/site-packages/pytorch_tabnet/callbacks.py:172: UserWarning: Best weights from best epoch are automatically used!\n",
      "  warnings.warn(wrn_msg)\n"
     ]
    },
    {
     "name": "stdout",
     "output_type": "stream",
     "text": [
      "TabNet gpu sec :  2288.295449256897\n",
      "Valid F1 score: 0.5172003351997054\n",
      "Valid ROC AUC Score: 0.8387879715122495\n"
     ]
    }
   ],
   "source": [
    "\n",
    "params = {'n_d' : 4,\n",
    "         'n_steps' :5,        # tree에 depth\n",
    "         'gamma':1.5,\n",
    "         'n_independent':2,\n",
    "          'cat_idxs':cat_idxs,\n",
    "          'cat_dims':cat_dims,\n",
    "         'n_shared':2,\n",
    "         'cat_emb_dim':1,\n",
    "         'lambda_sparse':1e-4,\n",
    "         'momentum':0.5,\n",
    "         'clip_value':2.,\n",
    "         'optimizer_fn':torch.optim.Adam,\n",
    "         'optimizer_params':dict(lr=2e-2),\n",
    "         'scheduler_params':{\"gamma\": 0.95,\n",
    "                         \"step_size\": 20},\n",
    "         'scheduler_fn':torch.optim.lr_scheduler.StepLR,\n",
    "         'epsilon':1e-15,\n",
    "         'device_name':DEVICE,\n",
    "         'mask_type':'sparsemax'}\n",
    "\n",
    "clf = TabNetClassifier(**params\n",
    ")\n",
    "s = time.time()\n",
    "\n",
    "clf.fit(X_train=X_train, y_train=y_train,eval_set=[(X_valid, y_valid)],\n",
    "    max_epochs=20 , patience=20,\n",
    "    batch_size=10240, virtual_batch_size=1280,\n",
    "    num_workers=0,\n",
    "    weights=1,\n",
    "    drop_last=False\n",
    ")\n",
    "\n",
    "print('TabNet gpu sec : ',time.time()- s)\n",
    "\n",
    "\n",
    "pred_valid = clf.predict(X_valid)\n",
    "\n",
    "\n",
    "f1_valid = f1_score(y_valid, pred_valid) # y_true : 정답 값, y_pred : 예측 값 \n",
    "print(\"Valid F1 score: {}\".format(f1_valid))\n",
    " \n",
    "\n",
    "from sklearn.metrics import roc_auc_score \n",
    "roc_auc = roc_auc_score(y_valid, pred_valid)\n",
    "print(\"Valid ROC AUC Score: {}\".format(roc_auc))"
   ]
  },
  {
   "cell_type": "code",
   "execution_count": null,
   "id": "be7e1f28",
   "metadata": {},
   "outputs": [],
   "source": []
  },
  {
   "cell_type": "code",
   "execution_count": 43,
   "id": "475c0c4d",
   "metadata": {},
   "outputs": [
    {
     "name": "stdout",
     "output_type": "stream",
     "text": [
      "0.6100742367210372\n",
      "0.8\n"
     ]
    }
   ],
   "source": [
    "pred_prob_valid = clf.predict_proba(X_valid)\n",
    "\n",
    "def thres_optimization(threshold, array) :\n",
    "    pred = np.ceil(array[:,1]-threshold)\n",
    "    return pred\n",
    "\n",
    "score_valid = [0]\n",
    "best_thres_valid = 0\n",
    "for i in range(1,100) :\n",
    "    pre_valid = thres_optimization(i/100,pred_prob_valid)\n",
    "    \n",
    "    f1_valid = f1_score(y_valid, pre_valid)\n",
    "    \n",
    "    score_valid.append(f1_valid)\n",
    "    \n",
    "best_thres_valid = score_valid.index(max(score_valid))/100\n",
    "print(max(score_valid))\n",
    "print(best_thres_valid)\n",
    "\n",
    "    "
   ]
  },
  {
   "cell_type": "markdown",
   "id": "faadf7f9",
   "metadata": {},
   "source": [
    "# 2nd Classification"
   ]
  },
  {
   "cell_type": "code",
   "execution_count": 44,
   "id": "cde64def",
   "metadata": {},
   "outputs": [],
   "source": [
    "pred_valid = thres_optimization(0.34,pred_prob_valid)"
   ]
  },
  {
   "cell_type": "code",
   "execution_count": 50,
   "id": "f7f0d00b",
   "metadata": {},
   "outputs": [],
   "source": [
    "valid_set = train.loc[valid_indices,features+['application_id']]\n",
    "valid_set['pred'] = pred_valid"
   ]
  },
  {
   "cell_type": "code",
   "execution_count": 51,
   "id": "2cb17a3a",
   "metadata": {},
   "outputs": [
    {
     "data": {
      "text/html": [
       "<div>\n",
       "<style scoped>\n",
       "    .dataframe tbody tr th:only-of-type {\n",
       "        vertical-align: middle;\n",
       "    }\n",
       "\n",
       "    .dataframe tbody tr th {\n",
       "        vertical-align: top;\n",
       "    }\n",
       "\n",
       "    .dataframe thead th {\n",
       "        text-align: right;\n",
       "    }\n",
       "</style>\n",
       "<table border=\"1\" class=\"dataframe\">\n",
       "  <thead>\n",
       "    <tr style=\"text-align: right;\">\n",
       "      <th></th>\n",
       "      <th>purpose</th>\n",
       "      <th>past.is_applied</th>\n",
       "      <th>m_past.is_applied</th>\n",
       "      <th>seq</th>\n",
       "      <th>min.loan_rate</th>\n",
       "      <th>product_n</th>\n",
       "      <th>n.limit_over_desire</th>\n",
       "      <th>loan_limit_min.rate</th>\n",
       "      <th>age</th>\n",
       "      <th>gender</th>\n",
       "      <th>...</th>\n",
       "      <th>desired_amount</th>\n",
       "      <th>rehabilitation</th>\n",
       "      <th>existing_loan_cnt</th>\n",
       "      <th>logdata</th>\n",
       "      <th>diff</th>\n",
       "      <th>diff2</th>\n",
       "      <th>limit_over_desire_product</th>\n",
       "      <th>yd</th>\n",
       "      <th>application_id</th>\n",
       "      <th>pred</th>\n",
       "    </tr>\n",
       "  </thead>\n",
       "  <tbody>\n",
       "    <tr>\n",
       "      <th>3</th>\n",
       "      <td>7</td>\n",
       "      <td>1</td>\n",
       "      <td>0.750000</td>\n",
       "      <td>4.0</td>\n",
       "      <td>6.7</td>\n",
       "      <td>3</td>\n",
       "      <td>0</td>\n",
       "      <td>8000000.0</td>\n",
       "      <td>43</td>\n",
       "      <td>2</td>\n",
       "      <td>...</td>\n",
       "      <td>30000000.0</td>\n",
       "      <td>3</td>\n",
       "      <td>6</td>\n",
       "      <td>8</td>\n",
       "      <td>-22000000.0</td>\n",
       "      <td>-0.733333</td>\n",
       "      <td>0.000000</td>\n",
       "      <td>0.545455</td>\n",
       "      <td>1488854</td>\n",
       "      <td>1.0</td>\n",
       "    </tr>\n",
       "    <tr>\n",
       "      <th>4</th>\n",
       "      <td>7</td>\n",
       "      <td>-1</td>\n",
       "      <td>0.465641</td>\n",
       "      <td>0.0</td>\n",
       "      <td>6.7</td>\n",
       "      <td>47</td>\n",
       "      <td>15</td>\n",
       "      <td>9000000.0</td>\n",
       "      <td>35</td>\n",
       "      <td>2</td>\n",
       "      <td>...</td>\n",
       "      <td>10000000.0</td>\n",
       "      <td>3</td>\n",
       "      <td>2</td>\n",
       "      <td>11</td>\n",
       "      <td>-1000000.0</td>\n",
       "      <td>-0.100000</td>\n",
       "      <td>0.716667</td>\n",
       "      <td>0.303030</td>\n",
       "      <td>415064</td>\n",
       "      <td>1.0</td>\n",
       "    </tr>\n",
       "    <tr>\n",
       "      <th>5</th>\n",
       "      <td>7</td>\n",
       "      <td>1</td>\n",
       "      <td>0.250000</td>\n",
       "      <td>4.0</td>\n",
       "      <td>16.8</td>\n",
       "      <td>2</td>\n",
       "      <td>0</td>\n",
       "      <td>30000000.0</td>\n",
       "      <td>50</td>\n",
       "      <td>2</td>\n",
       "      <td>...</td>\n",
       "      <td>64500000.0</td>\n",
       "      <td>3</td>\n",
       "      <td>5</td>\n",
       "      <td>4</td>\n",
       "      <td>-34500000.0</td>\n",
       "      <td>-0.534884</td>\n",
       "      <td>0.000000</td>\n",
       "      <td>0.750000</td>\n",
       "      <td>240033</td>\n",
       "      <td>-0.0</td>\n",
       "    </tr>\n",
       "    <tr>\n",
       "      <th>10</th>\n",
       "      <td>2</td>\n",
       "      <td>-1</td>\n",
       "      <td>0.465641</td>\n",
       "      <td>0.0</td>\n",
       "      <td>6.5</td>\n",
       "      <td>17</td>\n",
       "      <td>0</td>\n",
       "      <td>12000000.0</td>\n",
       "      <td>44</td>\n",
       "      <td>1</td>\n",
       "      <td>...</td>\n",
       "      <td>30000000.0</td>\n",
       "      <td>3</td>\n",
       "      <td>2</td>\n",
       "      <td>17</td>\n",
       "      <td>-18000000.0</td>\n",
       "      <td>-0.600000</td>\n",
       "      <td>0.000000</td>\n",
       "      <td>1.428571</td>\n",
       "      <td>1090213</td>\n",
       "      <td>1.0</td>\n",
       "    </tr>\n",
       "    <tr>\n",
       "      <th>11</th>\n",
       "      <td>2</td>\n",
       "      <td>1</td>\n",
       "      <td>0.500000</td>\n",
       "      <td>2.0</td>\n",
       "      <td>12.5</td>\n",
       "      <td>6</td>\n",
       "      <td>6</td>\n",
       "      <td>19000000.0</td>\n",
       "      <td>27</td>\n",
       "      <td>1</td>\n",
       "      <td>...</td>\n",
       "      <td>10000000.0</td>\n",
       "      <td>3</td>\n",
       "      <td>2</td>\n",
       "      <td>0</td>\n",
       "      <td>9000000.0</td>\n",
       "      <td>0.900000</td>\n",
       "      <td>1.000000</td>\n",
       "      <td>0.263158</td>\n",
       "      <td>666684</td>\n",
       "      <td>1.0</td>\n",
       "    </tr>\n",
       "  </tbody>\n",
       "</table>\n",
       "<p>5 rows × 26 columns</p>\n",
       "</div>"
      ],
      "text/plain": [
       "    purpose  past.is_applied  m_past.is_applied  seq  min.loan_rate  \\\n",
       "3         7                1           0.750000  4.0            6.7   \n",
       "4         7               -1           0.465641  0.0            6.7   \n",
       "5         7                1           0.250000  4.0           16.8   \n",
       "10        2               -1           0.465641  0.0            6.5   \n",
       "11        2                1           0.500000  2.0           12.5   \n",
       "\n",
       "    product_n  n.limit_over_desire  loan_limit_min.rate  age  gender  ...  \\\n",
       "3           3                    0            8000000.0   43       2  ...   \n",
       "4          47                   15            9000000.0   35       2  ...   \n",
       "5           2                    0           30000000.0   50       2  ...   \n",
       "10         17                    0           12000000.0   44       1  ...   \n",
       "11          6                    6           19000000.0   27       1  ...   \n",
       "\n",
       "    desired_amount  rehabilitation  existing_loan_cnt  logdata        diff  \\\n",
       "3       30000000.0               3                  6        8 -22000000.0   \n",
       "4       10000000.0               3                  2       11  -1000000.0   \n",
       "5       64500000.0               3                  5        4 -34500000.0   \n",
       "10      30000000.0               3                  2       17 -18000000.0   \n",
       "11      10000000.0               3                  2        0   9000000.0   \n",
       "\n",
       "       diff2  limit_over_desire_product        yd  application_id  pred  \n",
       "3  -0.733333                   0.000000  0.545455         1488854   1.0  \n",
       "4  -0.100000                   0.716667  0.303030          415064   1.0  \n",
       "5  -0.534884                   0.000000  0.750000          240033  -0.0  \n",
       "10 -0.600000                   0.000000  1.428571         1090213   1.0  \n",
       "11  0.900000                   1.000000  0.263158          666684   1.0  \n",
       "\n",
       "[5 rows x 26 columns]"
      ]
     },
     "execution_count": 51,
     "metadata": {},
     "output_type": "execute_result"
    }
   ],
   "source": [
    "valid_set.head()"
   ]
  },
  {
   "cell_type": "code",
   "execution_count": 52,
   "id": "7843419b",
   "metadata": {},
   "outputs": [
    {
     "data": {
      "text/html": [
       "<div>\n",
       "<style scoped>\n",
       "    .dataframe tbody tr th:only-of-type {\n",
       "        vertical-align: middle;\n",
       "    }\n",
       "\n",
       "    .dataframe tbody tr th {\n",
       "        vertical-align: top;\n",
       "    }\n",
       "\n",
       "    .dataframe thead th {\n",
       "        text-align: right;\n",
       "    }\n",
       "</style>\n",
       "<table border=\"1\" class=\"dataframe\">\n",
       "  <thead>\n",
       "    <tr style=\"text-align: right;\">\n",
       "      <th></th>\n",
       "      <th>application_id</th>\n",
       "      <th>bank_id</th>\n",
       "      <th>product_id</th>\n",
       "      <th>loan_limit</th>\n",
       "      <th>loan_rate</th>\n",
       "      <th>is_applied</th>\n",
       "      <th>rate_rank</th>\n",
       "      <th>rate_diff_with.min</th>\n",
       "      <th>rate_diff_with.above</th>\n",
       "    </tr>\n",
       "  </thead>\n",
       "  <tbody>\n",
       "    <tr>\n",
       "      <th>1</th>\n",
       "      <td>1</td>\n",
       "      <td>62</td>\n",
       "      <td>200</td>\n",
       "      <td>8000000.0</td>\n",
       "      <td>14.8</td>\n",
       "      <td>0</td>\n",
       "      <td>1.0</td>\n",
       "      <td>0.0</td>\n",
       "      <td>0.00</td>\n",
       "    </tr>\n",
       "    <tr>\n",
       "      <th>2</th>\n",
       "      <td>1</td>\n",
       "      <td>38</td>\n",
       "      <td>223</td>\n",
       "      <td>19000000.0</td>\n",
       "      <td>17.1</td>\n",
       "      <td>0</td>\n",
       "      <td>2.5</td>\n",
       "      <td>2.3</td>\n",
       "      <td>1.35</td>\n",
       "    </tr>\n",
       "    <tr>\n",
       "      <th>3</th>\n",
       "      <td>1</td>\n",
       "      <td>38</td>\n",
       "      <td>16</td>\n",
       "      <td>19000000.0</td>\n",
       "      <td>17.1</td>\n",
       "      <td>0</td>\n",
       "      <td>2.5</td>\n",
       "      <td>2.3</td>\n",
       "      <td>0.00</td>\n",
       "    </tr>\n",
       "    <tr>\n",
       "      <th>4</th>\n",
       "      <td>1</td>\n",
       "      <td>59</td>\n",
       "      <td>150</td>\n",
       "      <td>19000000.0</td>\n",
       "      <td>17.7</td>\n",
       "      <td>0</td>\n",
       "      <td>4.0</td>\n",
       "      <td>2.9</td>\n",
       "      <td>0.60</td>\n",
       "    </tr>\n",
       "    <tr>\n",
       "      <th>5</th>\n",
       "      <td>1</td>\n",
       "      <td>37</td>\n",
       "      <td>206</td>\n",
       "      <td>32000000.0</td>\n",
       "      <td>18.9</td>\n",
       "      <td>0</td>\n",
       "      <td>5.0</td>\n",
       "      <td>4.1</td>\n",
       "      <td>1.20</td>\n",
       "    </tr>\n",
       "  </tbody>\n",
       "</table>\n",
       "</div>"
      ],
      "text/plain": [
       "   application_id  bank_id  product_id  loan_limit  loan_rate  is_applied  \\\n",
       "1               1       62         200   8000000.0       14.8           0   \n",
       "2               1       38         223  19000000.0       17.1           0   \n",
       "3               1       38          16  19000000.0       17.1           0   \n",
       "4               1       59         150  19000000.0       17.7           0   \n",
       "5               1       37         206  32000000.0       18.9           0   \n",
       "\n",
       "   rate_rank  rate_diff_with.min  rate_diff_with.above  \n",
       "1        1.0                 0.0                  0.00  \n",
       "2        2.5                 2.3                  1.35  \n",
       "3        2.5                 2.3                  0.00  \n",
       "4        4.0                 2.9                  0.60  \n",
       "5        5.0                 4.1                  1.20  "
      ]
     },
     "execution_count": 52,
     "metadata": {},
     "output_type": "execute_result"
    }
   ],
   "source": [
    "second.head()"
   ]
  },
  {
   "cell_type": "code",
   "execution_count": 53,
   "id": "0583b062",
   "metadata": {},
   "outputs": [
    {
     "data": {
      "text/html": [
       "<div>\n",
       "<style scoped>\n",
       "    .dataframe tbody tr th:only-of-type {\n",
       "        vertical-align: middle;\n",
       "    }\n",
       "\n",
       "    .dataframe tbody tr th {\n",
       "        vertical-align: top;\n",
       "    }\n",
       "\n",
       "    .dataframe thead th {\n",
       "        text-align: right;\n",
       "    }\n",
       "</style>\n",
       "<table border=\"1\" class=\"dataframe\">\n",
       "  <thead>\n",
       "    <tr style=\"text-align: right;\">\n",
       "      <th></th>\n",
       "      <th>application_id</th>\n",
       "      <th>bank_id</th>\n",
       "      <th>product_id</th>\n",
       "      <th>loan_limit</th>\n",
       "      <th>loan_rate</th>\n",
       "      <th>is_applied</th>\n",
       "      <th>rate_rank</th>\n",
       "      <th>rate_diff_with.min</th>\n",
       "      <th>rate_diff_with.above</th>\n",
       "      <th>purpose</th>\n",
       "      <th>...</th>\n",
       "      <th>houseown_type</th>\n",
       "      <th>desired_amount</th>\n",
       "      <th>rehabilitation</th>\n",
       "      <th>existing_loan_cnt</th>\n",
       "      <th>logdata</th>\n",
       "      <th>diff</th>\n",
       "      <th>diff2</th>\n",
       "      <th>limit_over_desire_product</th>\n",
       "      <th>yd</th>\n",
       "      <th>pred</th>\n",
       "    </tr>\n",
       "  </thead>\n",
       "  <tbody>\n",
       "    <tr>\n",
       "      <th>0</th>\n",
       "      <td>1</td>\n",
       "      <td>62</td>\n",
       "      <td>200</td>\n",
       "      <td>8000000.0</td>\n",
       "      <td>14.8</td>\n",
       "      <td>0</td>\n",
       "      <td>1.0</td>\n",
       "      <td>0.0</td>\n",
       "      <td>0.00</td>\n",
       "      <td>NaN</td>\n",
       "      <td>...</td>\n",
       "      <td>NaN</td>\n",
       "      <td>NaN</td>\n",
       "      <td>NaN</td>\n",
       "      <td>NaN</td>\n",
       "      <td>NaN</td>\n",
       "      <td>NaN</td>\n",
       "      <td>NaN</td>\n",
       "      <td>NaN</td>\n",
       "      <td>NaN</td>\n",
       "      <td>NaN</td>\n",
       "    </tr>\n",
       "    <tr>\n",
       "      <th>1</th>\n",
       "      <td>1</td>\n",
       "      <td>38</td>\n",
       "      <td>223</td>\n",
       "      <td>19000000.0</td>\n",
       "      <td>17.1</td>\n",
       "      <td>0</td>\n",
       "      <td>2.5</td>\n",
       "      <td>2.3</td>\n",
       "      <td>1.35</td>\n",
       "      <td>NaN</td>\n",
       "      <td>...</td>\n",
       "      <td>NaN</td>\n",
       "      <td>NaN</td>\n",
       "      <td>NaN</td>\n",
       "      <td>NaN</td>\n",
       "      <td>NaN</td>\n",
       "      <td>NaN</td>\n",
       "      <td>NaN</td>\n",
       "      <td>NaN</td>\n",
       "      <td>NaN</td>\n",
       "      <td>NaN</td>\n",
       "    </tr>\n",
       "    <tr>\n",
       "      <th>2</th>\n",
       "      <td>1</td>\n",
       "      <td>38</td>\n",
       "      <td>16</td>\n",
       "      <td>19000000.0</td>\n",
       "      <td>17.1</td>\n",
       "      <td>0</td>\n",
       "      <td>2.5</td>\n",
       "      <td>2.3</td>\n",
       "      <td>0.00</td>\n",
       "      <td>NaN</td>\n",
       "      <td>...</td>\n",
       "      <td>NaN</td>\n",
       "      <td>NaN</td>\n",
       "      <td>NaN</td>\n",
       "      <td>NaN</td>\n",
       "      <td>NaN</td>\n",
       "      <td>NaN</td>\n",
       "      <td>NaN</td>\n",
       "      <td>NaN</td>\n",
       "      <td>NaN</td>\n",
       "      <td>NaN</td>\n",
       "    </tr>\n",
       "    <tr>\n",
       "      <th>3</th>\n",
       "      <td>1</td>\n",
       "      <td>59</td>\n",
       "      <td>150</td>\n",
       "      <td>19000000.0</td>\n",
       "      <td>17.7</td>\n",
       "      <td>0</td>\n",
       "      <td>4.0</td>\n",
       "      <td>2.9</td>\n",
       "      <td>0.60</td>\n",
       "      <td>NaN</td>\n",
       "      <td>...</td>\n",
       "      <td>NaN</td>\n",
       "      <td>NaN</td>\n",
       "      <td>NaN</td>\n",
       "      <td>NaN</td>\n",
       "      <td>NaN</td>\n",
       "      <td>NaN</td>\n",
       "      <td>NaN</td>\n",
       "      <td>NaN</td>\n",
       "      <td>NaN</td>\n",
       "      <td>NaN</td>\n",
       "    </tr>\n",
       "    <tr>\n",
       "      <th>4</th>\n",
       "      <td>1</td>\n",
       "      <td>37</td>\n",
       "      <td>206</td>\n",
       "      <td>32000000.0</td>\n",
       "      <td>18.9</td>\n",
       "      <td>0</td>\n",
       "      <td>5.0</td>\n",
       "      <td>4.1</td>\n",
       "      <td>1.20</td>\n",
       "      <td>NaN</td>\n",
       "      <td>...</td>\n",
       "      <td>NaN</td>\n",
       "      <td>NaN</td>\n",
       "      <td>NaN</td>\n",
       "      <td>NaN</td>\n",
       "      <td>NaN</td>\n",
       "      <td>NaN</td>\n",
       "      <td>NaN</td>\n",
       "      <td>NaN</td>\n",
       "      <td>NaN</td>\n",
       "      <td>NaN</td>\n",
       "    </tr>\n",
       "  </tbody>\n",
       "</table>\n",
       "<p>5 rows × 34 columns</p>\n",
       "</div>"
      ],
      "text/plain": [
       "   application_id  bank_id  product_id  loan_limit  loan_rate  is_applied  \\\n",
       "0               1       62         200   8000000.0       14.8           0   \n",
       "1               1       38         223  19000000.0       17.1           0   \n",
       "2               1       38          16  19000000.0       17.1           0   \n",
       "3               1       59         150  19000000.0       17.7           0   \n",
       "4               1       37         206  32000000.0       18.9           0   \n",
       "\n",
       "   rate_rank  rate_diff_with.min  rate_diff_with.above  purpose  ...  \\\n",
       "0        1.0                 0.0                  0.00      NaN  ...   \n",
       "1        2.5                 2.3                  1.35      NaN  ...   \n",
       "2        2.5                 2.3                  0.00      NaN  ...   \n",
       "3        4.0                 2.9                  0.60      NaN  ...   \n",
       "4        5.0                 4.1                  1.20      NaN  ...   \n",
       "\n",
       "   houseown_type  desired_amount  rehabilitation  existing_loan_cnt  logdata  \\\n",
       "0            NaN             NaN             NaN                NaN      NaN   \n",
       "1            NaN             NaN             NaN                NaN      NaN   \n",
       "2            NaN             NaN             NaN                NaN      NaN   \n",
       "3            NaN             NaN             NaN                NaN      NaN   \n",
       "4            NaN             NaN             NaN                NaN      NaN   \n",
       "\n",
       "   diff  diff2  limit_over_desire_product  yd  pred  \n",
       "0   NaN    NaN                        NaN NaN   NaN  \n",
       "1   NaN    NaN                        NaN NaN   NaN  \n",
       "2   NaN    NaN                        NaN NaN   NaN  \n",
       "3   NaN    NaN                        NaN NaN   NaN  \n",
       "4   NaN    NaN                        NaN NaN   NaN  \n",
       "\n",
       "[5 rows x 34 columns]"
      ]
     },
     "execution_count": 53,
     "metadata": {},
     "output_type": "execute_result"
    }
   ],
   "source": [
    "train_2nd = pd.merge(second, valid_set, on='application_id', how='left')\n",
    "train_2nd.head()"
   ]
  },
  {
   "cell_type": "code",
   "execution_count": 54,
   "id": "4b86b142",
   "metadata": {},
   "outputs": [
    {
     "name": "stdout",
     "output_type": "stream",
     "text": [
      "col name & nan :  application_id / 0\n",
      "col name & nan :  bank_id / 0\n",
      "col name & nan :  product_id / 0\n",
      "col name & nan :  loan_limit / 0\n",
      "col name & nan :  loan_rate / 0\n",
      "col name & nan :  is_applied / 0\n",
      "col name & nan :  rate_rank / 0\n",
      "col name & nan :  rate_diff_with.min / 0\n",
      "col name & nan :  rate_diff_with.above / 0\n",
      "col name & nan :  purpose / 5123908\n",
      "col name & nan :  past.is_applied / 5123908\n",
      "col name & nan :  m_past.is_applied / 5123908\n",
      "col name & nan :  seq / 5123908\n",
      "col name & nan :  min.loan_rate / 5123908\n",
      "col name & nan :  product_n / 5123908\n",
      "col name & nan :  n.limit_over_desire / 5123908\n",
      "col name & nan :  loan_limit_min.rate / 5123908\n",
      "col name & nan :  age / 5123908\n",
      "col name & nan :  gender / 5123908\n",
      "col name & nan :  credit_score / 5123908\n",
      "col name & nan :  yearly_income / 5123908\n",
      "col name & nan :  income_type / 5123908\n",
      "col name & nan :  company_year / 5123908\n",
      "col name & nan :  employment_type / 5123908\n",
      "col name & nan :  houseown_type / 5123908\n",
      "col name & nan :  desired_amount / 5123908\n",
      "col name & nan :  rehabilitation / 5123908\n",
      "col name & nan :  existing_loan_cnt / 5123908\n",
      "col name & nan :  logdata / 5123908\n",
      "col name & nan :  diff / 5123908\n",
      "col name & nan :  diff2 / 5123908\n",
      "col name & nan :  limit_over_desire_product / 5123908\n",
      "col name & nan :  yd / 5123908\n",
      "col name & nan :  pred / 5123908\n"
     ]
    }
   ],
   "source": [
    "for col in train_2nd.columns :\n",
    "    print('col name & nan : ', col,'/',train_2nd[col].isnull().sum())"
   ]
  },
  {
   "cell_type": "code",
   "execution_count": 55,
   "id": "23a075ae",
   "metadata": {},
   "outputs": [],
   "source": [
    "train_2nd.dropna(axis=0, how='any',inplace=True)"
   ]
  },
  {
   "cell_type": "code",
   "execution_count": 69,
   "id": "cd7847a5",
   "metadata": {},
   "outputs": [
    {
     "data": {
      "text/plain": [
       "application_id               364473\n",
       "bank_id                          62\n",
       "product_id                      165\n",
       "loan_limit                       70\n",
       "loan_rate                       173\n",
       "is_applied                        2\n",
       "rate_rank                       155\n",
       "rate_diff_with.min              194\n",
       "rate_diff_with.above             41\n",
       "purpose                           8\n",
       "past.is_applied                   3\n",
       "m_past.is_applied              1307\n",
       "seq                              14\n",
       "product_n                        47\n",
       "n.limit_over_desire              16\n",
       "age                              72\n",
       "gender                            3\n",
       "credit_score                     78\n",
       "yearly_income                    87\n",
       "income_type                       6\n",
       "company_year                     11\n",
       "employment_type                   4\n",
       "houseown_type                     4\n",
       "desired_amount                   66\n",
       "rehabilitation                    4\n",
       "existing_loan_cnt                12\n",
       "logdata                          35\n",
       "diff                            206\n",
       "diff2                          1773\n",
       "limit_over_desire_product      1588\n",
       "yd                             2082\n",
       "pred                              2\n",
       "dtype: int64"
      ]
     },
     "execution_count": 69,
     "metadata": {},
     "output_type": "execute_result"
    }
   ],
   "source": [
    "train_2nd.nunique()"
   ]
  },
  {
   "cell_type": "code",
   "execution_count": 62,
   "id": "df425695",
   "metadata": {},
   "outputs": [
    {
     "data": {
      "text/html": [
       "<div>\n",
       "<style scoped>\n",
       "    .dataframe tbody tr th:only-of-type {\n",
       "        vertical-align: middle;\n",
       "    }\n",
       "\n",
       "    .dataframe tbody tr th {\n",
       "        vertical-align: top;\n",
       "    }\n",
       "\n",
       "    .dataframe thead th {\n",
       "        text-align: right;\n",
       "    }\n",
       "</style>\n",
       "<table border=\"1\" class=\"dataframe\">\n",
       "  <thead>\n",
       "    <tr style=\"text-align: right;\">\n",
       "      <th></th>\n",
       "      <th>application_id</th>\n",
       "      <th>bank_id</th>\n",
       "      <th>product_id</th>\n",
       "      <th>loan_limit</th>\n",
       "      <th>loan_rate</th>\n",
       "      <th>is_applied</th>\n",
       "      <th>rate_rank</th>\n",
       "      <th>rate_diff_with.min</th>\n",
       "      <th>rate_diff_with.above</th>\n",
       "      <th>purpose</th>\n",
       "      <th>past.is_applied</th>\n",
       "      <th>m_past.is_applied</th>\n",
       "      <th>seq</th>\n",
       "      <th>min.loan_rate</th>\n",
       "      <th>product_n</th>\n",
       "      <th>n.limit_over_desire</th>\n",
       "      <th>loan_limit_min.rate</th>\n",
       "      <th>age</th>\n",
       "      <th>gender</th>\n",
       "      <th>credit_score</th>\n",
       "    </tr>\n",
       "  </thead>\n",
       "  <tbody>\n",
       "    <tr>\n",
       "      <th>6</th>\n",
       "      <td>2</td>\n",
       "      <td>62</td>\n",
       "      <td>200</td>\n",
       "      <td>15000000.0</td>\n",
       "      <td>9.3</td>\n",
       "      <td>0</td>\n",
       "      <td>1.0</td>\n",
       "      <td>0.0</td>\n",
       "      <td>0.00</td>\n",
       "      <td>7.0</td>\n",
       "      <td>1.0</td>\n",
       "      <td>1.000000</td>\n",
       "      <td>6.0</td>\n",
       "      <td>9.3</td>\n",
       "      <td>1.0</td>\n",
       "      <td>1.0</td>\n",
       "      <td>15000000.0</td>\n",
       "      <td>42.0</td>\n",
       "      <td>2.0</td>\n",
       "      <td>590.0</td>\n",
       "    </tr>\n",
       "    <tr>\n",
       "      <th>7</th>\n",
       "      <td>6</td>\n",
       "      <td>29</td>\n",
       "      <td>265</td>\n",
       "      <td>20000000.0</td>\n",
       "      <td>9.4</td>\n",
       "      <td>0</td>\n",
       "      <td>1.0</td>\n",
       "      <td>0.0</td>\n",
       "      <td>0.00</td>\n",
       "      <td>2.0</td>\n",
       "      <td>1.0</td>\n",
       "      <td>0.333333</td>\n",
       "      <td>6.0</td>\n",
       "      <td>9.4</td>\n",
       "      <td>15.0</td>\n",
       "      <td>3.0</td>\n",
       "      <td>20000000.0</td>\n",
       "      <td>32.0</td>\n",
       "      <td>2.0</td>\n",
       "      <td>630.0</td>\n",
       "    </tr>\n",
       "    <tr>\n",
       "      <th>8</th>\n",
       "      <td>6</td>\n",
       "      <td>21</td>\n",
       "      <td>196</td>\n",
       "      <td>23000000.0</td>\n",
       "      <td>12.5</td>\n",
       "      <td>0</td>\n",
       "      <td>2.0</td>\n",
       "      <td>3.1</td>\n",
       "      <td>1.35</td>\n",
       "      <td>2.0</td>\n",
       "      <td>1.0</td>\n",
       "      <td>0.333333</td>\n",
       "      <td>6.0</td>\n",
       "      <td>9.4</td>\n",
       "      <td>15.0</td>\n",
       "      <td>3.0</td>\n",
       "      <td>20000000.0</td>\n",
       "      <td>32.0</td>\n",
       "      <td>2.0</td>\n",
       "      <td>630.0</td>\n",
       "    </tr>\n",
       "    <tr>\n",
       "      <th>9</th>\n",
       "      <td>6</td>\n",
       "      <td>64</td>\n",
       "      <td>254</td>\n",
       "      <td>33000000.0</td>\n",
       "      <td>13.2</td>\n",
       "      <td>0</td>\n",
       "      <td>3.0</td>\n",
       "      <td>3.8</td>\n",
       "      <td>0.70</td>\n",
       "      <td>2.0</td>\n",
       "      <td>1.0</td>\n",
       "      <td>0.333333</td>\n",
       "      <td>6.0</td>\n",
       "      <td>9.4</td>\n",
       "      <td>15.0</td>\n",
       "      <td>3.0</td>\n",
       "      <td>20000000.0</td>\n",
       "      <td>32.0</td>\n",
       "      <td>2.0</td>\n",
       "      <td>630.0</td>\n",
       "    </tr>\n",
       "    <tr>\n",
       "      <th>10</th>\n",
       "      <td>6</td>\n",
       "      <td>26</td>\n",
       "      <td>80</td>\n",
       "      <td>38000000.0</td>\n",
       "      <td>13.6</td>\n",
       "      <td>0</td>\n",
       "      <td>4.0</td>\n",
       "      <td>4.2</td>\n",
       "      <td>0.40</td>\n",
       "      <td>2.0</td>\n",
       "      <td>1.0</td>\n",
       "      <td>0.333333</td>\n",
       "      <td>6.0</td>\n",
       "      <td>9.4</td>\n",
       "      <td>15.0</td>\n",
       "      <td>3.0</td>\n",
       "      <td>20000000.0</td>\n",
       "      <td>32.0</td>\n",
       "      <td>2.0</td>\n",
       "      <td>630.0</td>\n",
       "    </tr>\n",
       "  </tbody>\n",
       "</table>\n",
       "</div>"
      ],
      "text/plain": [
       "    application_id  bank_id  product_id  loan_limit  loan_rate  is_applied  \\\n",
       "6                2       62         200  15000000.0        9.3           0   \n",
       "7                6       29         265  20000000.0        9.4           0   \n",
       "8                6       21         196  23000000.0       12.5           0   \n",
       "9                6       64         254  33000000.0       13.2           0   \n",
       "10               6       26          80  38000000.0       13.6           0   \n",
       "\n",
       "    rate_rank  rate_diff_with.min  rate_diff_with.above  purpose  \\\n",
       "6         1.0                 0.0                  0.00      7.0   \n",
       "7         1.0                 0.0                  0.00      2.0   \n",
       "8         2.0                 3.1                  1.35      2.0   \n",
       "9         3.0                 3.8                  0.70      2.0   \n",
       "10        4.0                 4.2                  0.40      2.0   \n",
       "\n",
       "    past.is_applied  m_past.is_applied  seq  min.loan_rate  product_n  \\\n",
       "6               1.0           1.000000  6.0            9.3        1.0   \n",
       "7               1.0           0.333333  6.0            9.4       15.0   \n",
       "8               1.0           0.333333  6.0            9.4       15.0   \n",
       "9               1.0           0.333333  6.0            9.4       15.0   \n",
       "10              1.0           0.333333  6.0            9.4       15.0   \n",
       "\n",
       "    n.limit_over_desire  loan_limit_min.rate   age  gender  credit_score  \n",
       "6                   1.0           15000000.0  42.0     2.0         590.0  \n",
       "7                   3.0           20000000.0  32.0     2.0         630.0  \n",
       "8                   3.0           20000000.0  32.0     2.0         630.0  \n",
       "9                   3.0           20000000.0  32.0     2.0         630.0  \n",
       "10                  3.0           20000000.0  32.0     2.0         630.0  "
      ]
     },
     "execution_count": 62,
     "metadata": {},
     "output_type": "execute_result"
    }
   ],
   "source": [
    "train_2nd.iloc[:,:20].head()"
   ]
  },
  {
   "cell_type": "code",
   "execution_count": 63,
   "id": "bcdb58d9",
   "metadata": {},
   "outputs": [],
   "source": [
    "train_2nd.drop(['loan_limit_min.rate','min.loan_rate'],axis=1,inplace=True)"
   ]
  },
  {
   "cell_type": "code",
   "execution_count": 65,
   "id": "0933c215",
   "metadata": {},
   "outputs": [],
   "source": [
    "train_2nd.to_csv('/Data2/folder_ti/data/train_2nd.csv',index=False)"
   ]
  },
  {
   "cell_type": "code",
   "execution_count": 3,
   "id": "8f669490",
   "metadata": {},
   "outputs": [
    {
     "name": "stderr",
     "output_type": "stream",
     "text": [
      "/opt/conda/lib/python3.8/site-packages/numpy/lib/arraysetops.py:583: FutureWarning: elementwise comparison failed; returning scalar instead, but in the future will perform elementwise comparison\n",
      "  mask |= (ar1 == a)\n"
     ]
    }
   ],
   "source": [
    "path = '/Data2/folder_ti/data/'\n",
    "train_csv = 'train_2nd.csv'\n",
    "\n",
    "train_2nd = pd.read_csv(path+train_csv,index_col=0)\n",
    "\n"
   ]
  },
  {
   "cell_type": "code",
   "execution_count": 5,
   "id": "08b97a88",
   "metadata": {},
   "outputs": [],
   "source": [
    "train_2nd.reset_index(drop=False,inplace=True)"
   ]
  },
  {
   "cell_type": "code",
   "execution_count": 6,
   "id": "871c6001",
   "metadata": {},
   "outputs": [
    {
     "data": {
      "text/html": [
       "<div>\n",
       "<style scoped>\n",
       "    .dataframe tbody tr th:only-of-type {\n",
       "        vertical-align: middle;\n",
       "    }\n",
       "\n",
       "    .dataframe tbody tr th {\n",
       "        vertical-align: top;\n",
       "    }\n",
       "\n",
       "    .dataframe thead th {\n",
       "        text-align: right;\n",
       "    }\n",
       "</style>\n",
       "<table border=\"1\" class=\"dataframe\">\n",
       "  <thead>\n",
       "    <tr style=\"text-align: right;\">\n",
       "      <th></th>\n",
       "      <th>application_id</th>\n",
       "      <th>bank_id</th>\n",
       "      <th>product_id</th>\n",
       "      <th>loan_limit</th>\n",
       "      <th>loan_rate</th>\n",
       "      <th>is_applied</th>\n",
       "      <th>rate_rank</th>\n",
       "      <th>rate_diff_with.min</th>\n",
       "      <th>rate_diff_with.above</th>\n",
       "      <th>purpose</th>\n",
       "      <th>...</th>\n",
       "      <th>houseown_type</th>\n",
       "      <th>desired_amount</th>\n",
       "      <th>rehabilitation</th>\n",
       "      <th>existing_loan_cnt</th>\n",
       "      <th>logdata</th>\n",
       "      <th>diff</th>\n",
       "      <th>diff2</th>\n",
       "      <th>limit_over_desire_product</th>\n",
       "      <th>yd</th>\n",
       "      <th>pred</th>\n",
       "    </tr>\n",
       "  </thead>\n",
       "  <tbody>\n",
       "    <tr>\n",
       "      <th>0</th>\n",
       "      <td>2</td>\n",
       "      <td>59</td>\n",
       "      <td>119</td>\n",
       "      <td>15000000.0</td>\n",
       "      <td>9.3</td>\n",
       "      <td>0</td>\n",
       "      <td>1.0</td>\n",
       "      <td>0.0</td>\n",
       "      <td>0.00</td>\n",
       "      <td>7</td>\n",
       "      <td>...</td>\n",
       "      <td>2</td>\n",
       "      <td>10000000.0</td>\n",
       "      <td>3</td>\n",
       "      <td>11.0</td>\n",
       "      <td>11.0</td>\n",
       "      <td>5000000.0</td>\n",
       "      <td>0.500000</td>\n",
       "      <td>1.0</td>\n",
       "      <td>0.232558</td>\n",
       "      <td>1.0</td>\n",
       "    </tr>\n",
       "    <tr>\n",
       "      <th>1</th>\n",
       "      <td>6</td>\n",
       "      <td>28</td>\n",
       "      <td>160</td>\n",
       "      <td>20000000.0</td>\n",
       "      <td>9.4</td>\n",
       "      <td>0</td>\n",
       "      <td>1.0</td>\n",
       "      <td>0.0</td>\n",
       "      <td>0.00</td>\n",
       "      <td>2</td>\n",
       "      <td>...</td>\n",
       "      <td>0</td>\n",
       "      <td>36000000.0</td>\n",
       "      <td>2</td>\n",
       "      <td>4.0</td>\n",
       "      <td>0.0</td>\n",
       "      <td>-16000000.0</td>\n",
       "      <td>-0.444444</td>\n",
       "      <td>0.2</td>\n",
       "      <td>1.000000</td>\n",
       "      <td>1.0</td>\n",
       "    </tr>\n",
       "    <tr>\n",
       "      <th>2</th>\n",
       "      <td>6</td>\n",
       "      <td>20</td>\n",
       "      <td>117</td>\n",
       "      <td>23000000.0</td>\n",
       "      <td>12.5</td>\n",
       "      <td>0</td>\n",
       "      <td>2.0</td>\n",
       "      <td>3.1</td>\n",
       "      <td>1.35</td>\n",
       "      <td>2</td>\n",
       "      <td>...</td>\n",
       "      <td>0</td>\n",
       "      <td>36000000.0</td>\n",
       "      <td>2</td>\n",
       "      <td>4.0</td>\n",
       "      <td>0.0</td>\n",
       "      <td>-16000000.0</td>\n",
       "      <td>-0.444444</td>\n",
       "      <td>0.2</td>\n",
       "      <td>1.000000</td>\n",
       "      <td>1.0</td>\n",
       "    </tr>\n",
       "    <tr>\n",
       "      <th>3</th>\n",
       "      <td>6</td>\n",
       "      <td>61</td>\n",
       "      <td>152</td>\n",
       "      <td>33000000.0</td>\n",
       "      <td>13.2</td>\n",
       "      <td>0</td>\n",
       "      <td>3.0</td>\n",
       "      <td>3.8</td>\n",
       "      <td>0.70</td>\n",
       "      <td>2</td>\n",
       "      <td>...</td>\n",
       "      <td>0</td>\n",
       "      <td>36000000.0</td>\n",
       "      <td>2</td>\n",
       "      <td>4.0</td>\n",
       "      <td>0.0</td>\n",
       "      <td>-16000000.0</td>\n",
       "      <td>-0.444444</td>\n",
       "      <td>0.2</td>\n",
       "      <td>1.000000</td>\n",
       "      <td>1.0</td>\n",
       "    </tr>\n",
       "    <tr>\n",
       "      <th>4</th>\n",
       "      <td>6</td>\n",
       "      <td>25</td>\n",
       "      <td>45</td>\n",
       "      <td>38000000.0</td>\n",
       "      <td>13.6</td>\n",
       "      <td>0</td>\n",
       "      <td>4.0</td>\n",
       "      <td>4.2</td>\n",
       "      <td>0.40</td>\n",
       "      <td>2</td>\n",
       "      <td>...</td>\n",
       "      <td>0</td>\n",
       "      <td>36000000.0</td>\n",
       "      <td>2</td>\n",
       "      <td>4.0</td>\n",
       "      <td>0.0</td>\n",
       "      <td>-16000000.0</td>\n",
       "      <td>-0.444444</td>\n",
       "      <td>0.2</td>\n",
       "      <td>1.000000</td>\n",
       "      <td>1.0</td>\n",
       "    </tr>\n",
       "  </tbody>\n",
       "</table>\n",
       "<p>5 rows × 32 columns</p>\n",
       "</div>"
      ],
      "text/plain": [
       "   application_id  bank_id  product_id  loan_limit  loan_rate  is_applied  \\\n",
       "0               2       59         119  15000000.0        9.3           0   \n",
       "1               6       28         160  20000000.0        9.4           0   \n",
       "2               6       20         117  23000000.0       12.5           0   \n",
       "3               6       61         152  33000000.0       13.2           0   \n",
       "4               6       25          45  38000000.0       13.6           0   \n",
       "\n",
       "   rate_rank  rate_diff_with.min  rate_diff_with.above  purpose  ...  \\\n",
       "0        1.0                 0.0                  0.00        7  ...   \n",
       "1        1.0                 0.0                  0.00        2  ...   \n",
       "2        2.0                 3.1                  1.35        2  ...   \n",
       "3        3.0                 3.8                  0.70        2  ...   \n",
       "4        4.0                 4.2                  0.40        2  ...   \n",
       "\n",
       "   houseown_type  desired_amount  rehabilitation  existing_loan_cnt  logdata  \\\n",
       "0              2      10000000.0               3               11.0     11.0   \n",
       "1              0      36000000.0               2                4.0      0.0   \n",
       "2              0      36000000.0               2                4.0      0.0   \n",
       "3              0      36000000.0               2                4.0      0.0   \n",
       "4              0      36000000.0               2                4.0      0.0   \n",
       "\n",
       "         diff     diff2  limit_over_desire_product        yd  pred  \n",
       "0   5000000.0  0.500000                        1.0  0.232558   1.0  \n",
       "1 -16000000.0 -0.444444                        0.2  1.000000   1.0  \n",
       "2 -16000000.0 -0.444444                        0.2  1.000000   1.0  \n",
       "3 -16000000.0 -0.444444                        0.2  1.000000   1.0  \n",
       "4 -16000000.0 -0.444444                        0.2  1.000000   1.0  \n",
       "\n",
       "[5 rows x 32 columns]"
      ]
     },
     "execution_count": 6,
     "metadata": {},
     "output_type": "execute_result"
    }
   ],
   "source": [
    "train_2nd.head()"
   ]
  },
  {
   "cell_type": "code",
   "execution_count": 7,
   "id": "ab2caaa5",
   "metadata": {},
   "outputs": [
    {
     "data": {
      "text/plain": [
       "Index(['application_id', 'bank_id', 'product_id', 'loan_limit', 'loan_rate',\n",
       "       'is_applied', 'rate_rank', 'rate_diff_with.min', 'rate_diff_with.above',\n",
       "       'purpose', 'past.is_applied', 'm_past.is_applied', 'seq', 'product_n',\n",
       "       'n.limit_over_desire', 'age', 'gender', 'credit_score', 'yearly_income',\n",
       "       'income_type', 'company_year', 'employment_type', 'houseown_type',\n",
       "       'desired_amount', 'rehabilitation', 'existing_loan_cnt', 'logdata',\n",
       "       'diff', 'diff2', 'limit_over_desire_product', 'yd', 'pred'],\n",
       "      dtype='object')"
      ]
     },
     "execution_count": 7,
     "metadata": {},
     "output_type": "execute_result"
    }
   ],
   "source": [
    "train_2nd.columns"
   ]
  },
  {
   "cell_type": "code",
   "execution_count": 8,
   "id": "daa2e518",
   "metadata": {},
   "outputs": [],
   "source": [
    "train_2nd.drop(['age','gender','income_type','employment_type','houseown_type','yearly_income','existing_loan_cnt'],axis=1,inplace=True)"
   ]
  },
  {
   "cell_type": "code",
   "execution_count": 9,
   "id": "6b28f648",
   "metadata": {},
   "outputs": [
    {
     "name": "stdout",
     "output_type": "stream",
     "text": [
      "bank_id 62\n",
      "product_id 165\n",
      "purpose 8\n",
      "rehabilitation 4\n"
     ]
    }
   ],
   "source": [
    "#nunique = train.nunique()\n",
    "types = train_2nd.dtypes\n",
    "target = 'is_applied'\n",
    "unused_col = ['set','application_id','pred']\n",
    "#cat_col = ['bank_id','product_id','purpose','income_type','rehabilitation','gender','employment_type','houseown_type']\n",
    "cat_col = ['bank_id','product_id','purpose','rehabilitation']\n",
    "categorical_dims =  {}\n",
    "for col in train_2nd.columns:\n",
    "    if col in cat_col :\n",
    "        print(col, train_2nd[col].nunique())\n",
    "        l_enc = LabelEncoder()\n",
    "        train_2nd[col] = l_enc.fit_transform(train_2nd[col].values)\n",
    "        categorical_dims[col] = len(l_enc.classes_)\n",
    "    elif col not in unused_col+[target]:\n",
    "        train_2nd.fillna(train_2nd.loc[:, col].mean(), inplace=True)\n",
    "\n",
    "\n",
    "# Categorical Embedding을 위해 Categorical 변수의 차원과 idxs를 담음.\n",
    "features = [ col for col in train_2nd.columns if col not in unused_col+[target]] \n",
    "cat_idxs = [ i for i, f in enumerate(features) if f in cat_col]\n",
    "cat_dims = [ categorical_dims[f] for i, f in enumerate(features) if f in cat_col]\n",
    "#train_shuf = train_shuf.astype({'income_type':'int64','employment_type':'int64','houseown_type':'int64','purpose':'int64'})"
   ]
  },
  {
   "cell_type": "code",
   "execution_count": 10,
   "id": "55f631a5",
   "metadata": {},
   "outputs": [
    {
     "data": {
      "text/plain": [
       "['bank_id',\n",
       " 'product_id',\n",
       " 'loan_limit',\n",
       " 'loan_rate',\n",
       " 'rate_rank',\n",
       " 'rate_diff_with.min',\n",
       " 'rate_diff_with.above',\n",
       " 'purpose',\n",
       " 'past.is_applied',\n",
       " 'm_past.is_applied',\n",
       " 'seq',\n",
       " 'product_n',\n",
       " 'n.limit_over_desire',\n",
       " 'credit_score',\n",
       " 'company_year',\n",
       " 'desired_amount',\n",
       " 'rehabilitation',\n",
       " 'logdata',\n",
       " 'diff',\n",
       " 'diff2',\n",
       " 'limit_over_desire_product',\n",
       " 'yd']"
      ]
     },
     "execution_count": 10,
     "metadata": {},
     "output_type": "execute_result"
    }
   ],
   "source": [
    "features"
   ]
  },
  {
   "cell_type": "code",
   "execution_count": 11,
   "id": "0ad335c6",
   "metadata": {},
   "outputs": [
    {
     "name": "stderr",
     "output_type": "stream",
     "text": [
      "/tmp/ipykernel_4599/2215527724.py:5: SettingWithCopyWarning: \n",
      "A value is trying to be set on a copy of a slice from a DataFrame.\n",
      "Try using .loc[row_indexer,col_indexer] = value instead\n",
      "\n",
      "See the caveats in the documentation: https://pandas.pydata.org/pandas-docs/stable/user_guide/indexing.html#returning-a-view-versus-a-copy\n",
      "  data_0[\"set\"] = np.random.choice([\"train\", \"valid\"], p =[.8, .2], size=(data_0.shape[0],))\n",
      "/tmp/ipykernel_4599/2215527724.py:7: SettingWithCopyWarning: \n",
      "A value is trying to be set on a copy of a slice from a DataFrame.\n",
      "Try using .loc[row_indexer,col_indexer] = value instead\n",
      "\n",
      "See the caveats in the documentation: https://pandas.pydata.org/pandas-docs/stable/user_guide/indexing.html#returning-a-view-versus-a-copy\n",
      "  data_1[\"set\"] = np.random.choice([\"train\", \"valid\"], p =[.8, .2], size=(data_1.shape[0],))\n"
     ]
    }
   ],
   "source": [
    "data_0 = train_2nd[train_2nd.is_applied == 0]\n",
    "data_1 = train_2nd[train_2nd.is_applied == 1]\n",
    "target = 'is_applied'    \n",
    "if \"set\" not in data_0.columns:\n",
    "    data_0[\"set\"] = np.random.choice([\"train\", \"valid\"], p =[.8, .2], size=(data_0.shape[0],))\n",
    "if \"set\" not in data_1.columns:\n",
    "    data_1[\"set\"] = np.random.choice([\"train\", \"valid\"], p =[.8, .2], size=(data_1.shape[0],))"
   ]
  },
  {
   "cell_type": "code",
   "execution_count": 12,
   "id": "6a2364fa",
   "metadata": {},
   "outputs": [],
   "source": [
    "train_2nd = pd.concat([data_0,data_1], ignore_index=True)\n",
    "train_2nd = train_2nd.sample(frac=1).reset_index(drop=True)"
   ]
  },
  {
   "cell_type": "code",
   "execution_count": 13,
   "id": "26d3e374",
   "metadata": {},
   "outputs": [],
   "source": [
    "train_indices = train_2nd[train_2nd.set==\"train\"].index\n",
    "valid_indices = train_2nd[train_2nd.set==\"valid\"].index\n",
    "test_indices = train_2nd[train_2nd.pred==1].index\n",
    "test_else_indices = train_2nd[train_2nd.pred==0].index\n",
    "\n",
    "X_train = train_2nd[features].values[train_indices]\n",
    "y_train = train_2nd[target].values[train_indices]\n",
    "\n",
    "X_valid = train_2nd[features].values[valid_indices]\n",
    "y_valid = train_2nd[target].values[valid_indices]\n",
    "\n",
    "X_test = train_2nd[features].values[test_indices]\n",
    "y_test = train_2nd[target].values[test_indices]\n",
    "\n",
    "test_else_set = train_2nd.loc[test_else_indices,:]\n",
    "test_set = train_2nd.loc[test_indices,:]"
   ]
  },
  {
   "cell_type": "code",
   "execution_count": 14,
   "id": "bc9c153e",
   "metadata": {},
   "outputs": [
    {
     "name": "stdout",
     "output_type": "stream",
     "text": [
      "Using cuda:2\n"
     ]
    },
    {
     "name": "stderr",
     "output_type": "stream",
     "text": [
      "/opt/conda/lib/python3.8/site-packages/pytorch_tabnet/abstract_model.py:75: UserWarning: Device used : cuda:2\n",
      "  warnings.warn(f\"Device used : {self.device}\")\n"
     ]
    },
    {
     "name": "stdout",
     "output_type": "stream",
     "text": [
      "epoch 0  | loss: 0.41493 | val_0_auc: 0.90266 |  0:01:20s\n",
      "epoch 1  | loss: 0.38231 | val_0_auc: 0.90984 |  0:02:38s\n",
      "epoch 2  | loss: 0.36867 | val_0_auc: 0.91337 |  0:03:56s\n",
      "epoch 3  | loss: 0.35936 | val_0_auc: 0.91865 |  0:05:17s\n",
      "epoch 4  | loss: 0.3519  | val_0_auc: 0.92103 |  0:06:36s\n",
      "epoch 5  | loss: 0.35116 | val_0_auc: 0.922   |  0:07:53s\n",
      "epoch 6  | loss: 0.34539 | val_0_auc: 0.91345 |  0:09:11s\n",
      "epoch 7  | loss: 0.34731 | val_0_auc: 0.92325 |  0:10:30s\n",
      "epoch 8  | loss: 0.34245 | val_0_auc: 0.92389 |  0:11:47s\n",
      "epoch 9  | loss: 0.34148 | val_0_auc: 0.92463 |  0:13:04s\n",
      "epoch 10 | loss: 0.3394  | val_0_auc: 0.92505 |  0:14:22s\n",
      "epoch 11 | loss: 0.33914 | val_0_auc: 0.92533 |  0:15:41s\n",
      "epoch 12 | loss: 0.33869 | val_0_auc: 0.92509 |  0:16:59s\n",
      "epoch 13 | loss: 0.33839 | val_0_auc: 0.9259  |  0:18:16s\n",
      "epoch 14 | loss: 0.33726 | val_0_auc: 0.92603 |  0:19:35s\n",
      "epoch 15 | loss: 0.33677 | val_0_auc: 0.92608 |  0:20:53s\n",
      "epoch 16 | loss: 0.33642 | val_0_auc: 0.92618 |  0:22:10s\n",
      "epoch 17 | loss: 0.34395 | val_0_auc: 0.92393 |  0:23:27s\n",
      "epoch 18 | loss: 0.33936 | val_0_auc: 0.92551 |  0:24:44s\n",
      "epoch 19 | loss: 0.33751 | val_0_auc: 0.92578 |  0:26:01s\n",
      "epoch 20 | loss: 0.3365  | val_0_auc: 0.92618 |  0:27:20s\n",
      "epoch 21 | loss: 0.3355  | val_0_auc: 0.92641 |  0:28:38s\n",
      "epoch 22 | loss: 0.3352  | val_0_auc: 0.92625 |  0:29:55s\n",
      "epoch 23 | loss: 0.33515 | val_0_auc: 0.92663 |  0:31:12s\n",
      "epoch 24 | loss: 0.33476 | val_0_auc: 0.92671 |  0:32:30s\n",
      "epoch 25 | loss: 0.33459 | val_0_auc: 0.92689 |  0:33:49s\n",
      "epoch 26 | loss: 0.33468 | val_0_auc: 0.9268  |  0:35:07s\n",
      "epoch 27 | loss: 0.33456 | val_0_auc: 0.92686 |  0:36:27s\n",
      "epoch 28 | loss: 0.33434 | val_0_auc: 0.92711 |  0:37:45s\n",
      "epoch 29 | loss: 0.33369 | val_0_auc: 0.92717 |  0:39:03s\n",
      "Stop training because you reached max_epochs = 30 with best_epoch = 29 and best_val_0_auc = 0.92717\n"
     ]
    },
    {
     "name": "stderr",
     "output_type": "stream",
     "text": [
      "/opt/conda/lib/python3.8/site-packages/pytorch_tabnet/callbacks.py:172: UserWarning: Best weights from best epoch are automatically used!\n",
      "  warnings.warn(wrn_msg)\n"
     ]
    },
    {
     "name": "stdout",
     "output_type": "stream",
     "text": [
      "TabNet gpu sec :  2609.6403727531433\n",
      "Valid F1 score: 0.3580792404601059\n",
      "Valid ROC AUC Score: 0.853156572337846\n"
     ]
    }
   ],
   "source": [
    "import torch\n",
    "DEVICE = 'cuda:2' if torch.cuda.is_available() else 'cpu'\n",
    "print(\"Using {}\".format(DEVICE))\n",
    "\n",
    "params = {'n_d' : 4,\n",
    "         'n_steps' :5,        # tree에 depth\n",
    "         'gamma':1.5,\n",
    "         'n_independent':2,\n",
    "          'cat_idxs':cat_idxs,\n",
    "          'cat_dims':cat_dims,\n",
    "         'n_shared':2,\n",
    "         'cat_emb_dim':1,\n",
    "         'lambda_sparse':1e-4,\n",
    "         'momentum':0.5,\n",
    "         'clip_value':2.,\n",
    "         'optimizer_fn':torch.optim.Adam,\n",
    "         'optimizer_params':dict(lr=2e-2),\n",
    "         'scheduler_params':{\"gamma\": 0.95,\n",
    "                         \"step_size\": 20},\n",
    "         'scheduler_fn':torch.optim.lr_scheduler.StepLR,\n",
    "         'epsilon':1e-15,\n",
    "         'device_name':DEVICE,\n",
    "         'mask_type':'sparsemax'}\n",
    "\n",
    "clf = TabNetClassifier(**params\n",
    ")\n",
    "s = time.time()\n",
    "\n",
    "clf.fit(X_train=X_train, y_train=y_train,eval_set=[(X_valid, y_valid)],\n",
    "    max_epochs=30 , patience=20,\n",
    "    batch_size=10240, virtual_batch_size=1280,\n",
    "    num_workers=0,\n",
    "    weights=1,\n",
    "    drop_last=False\n",
    ")\n",
    "\n",
    "print('TabNet gpu sec : ',time.time()- s)\n",
    "\n",
    "\n",
    "pred_valid = clf.predict(X_valid)\n",
    "\n",
    "\n",
    "f1_valid = f1_score(y_valid, pred_valid) # y_true : 정답 값, y_pred : 예측 값 \n",
    "print(\"Valid F1 score: {}\".format(f1_valid))\n",
    " \n",
    "\n",
    "from sklearn.metrics import roc_auc_score \n",
    "roc_auc = roc_auc_score(y_valid, pred_valid)\n",
    "print(\"Valid ROC AUC Score: {}\".format(roc_auc))"
   ]
  },
  {
   "cell_type": "markdown",
   "id": "7e1fdea5",
   "metadata": {},
   "source": [
    "## 0.34, 0.85"
   ]
  },
  {
   "cell_type": "code",
   "execution_count": 15,
   "id": "25a285ab",
   "metadata": {},
   "outputs": [
    {
     "name": "stdout",
     "output_type": "stream",
     "text": [
      "0.4765324595658093\n",
      "0.82\n"
     ]
    }
   ],
   "source": [
    "pred_prob_valid = clf.predict_proba(X_valid)\n",
    "\n",
    "def thres_optimization(threshold, array) :\n",
    "    pred = np.ceil(array[:,1]-threshold)\n",
    "    return pred\n",
    "\n",
    "score_valid = [0]\n",
    "best_thres_valid = 0\n",
    "for i in range(1,100) :\n",
    "    pre_valid = thres_optimization(i/100,pred_prob_valid)\n",
    "    \n",
    "    f1_valid = f1_score(y_valid, pre_valid)\n",
    "    \n",
    "    score_valid.append(f1_valid)\n",
    "    \n",
    "best_thres_valid = score_valid.index(max(score_valid))/100\n",
    "print(max(score_valid))\n",
    "print(best_thres_valid)\n",
    "\n",
    "    "
   ]
  },
  {
   "cell_type": "code",
   "execution_count": 16,
   "id": "3458e6bf",
   "metadata": {
    "scrolled": true
   },
   "outputs": [
    {
     "name": "stdout",
     "output_type": "stream",
     "text": [
      "0.4964737930686575\n",
      "0.83\n"
     ]
    }
   ],
   "source": [
    "pred_prob_test = clf.predict_proba(X_test)\n",
    "\n",
    "def thres_optimization(threshold, array) :\n",
    "    pred = np.ceil(array[:,1]-threshold)\n",
    "    return pred\n",
    "\n",
    "score_test = [0]\n",
    "best_thres_test = 0\n",
    "for i in range(1,100) :\n",
    "    pre_test = thres_optimization(i/100,pred_prob_test)\n",
    "    \n",
    "    f1_test = f1_score(y_test, pre_test)\n",
    "    \n",
    "    score_test.append(f1_test)\n",
    "    \n",
    "best_thres_test = score_test.index(max(score_test))/100\n",
    "print(max(score_test))\n",
    "print(best_thres_test)"
   ]
  },
  {
   "cell_type": "code",
   "execution_count": 17,
   "id": "77d014e7",
   "metadata": {},
   "outputs": [],
   "source": [
    "test_else_set['pred2'] = 0\n",
    "test_set['pred2'] = thres_optimization(0.85,pred_prob_test)"
   ]
  },
  {
   "cell_type": "code",
   "execution_count": 18,
   "id": "46508bc6",
   "metadata": {},
   "outputs": [],
   "source": [
    "final_test = pd.concat([test_else_set,test_set], ignore_index=True)"
   ]
  },
  {
   "cell_type": "code",
   "execution_count": 19,
   "id": "5fc46709",
   "metadata": {
    "scrolled": true
   },
   "outputs": [
    {
     "name": "stdout",
     "output_type": "stream",
     "text": [
      "2nd_classification_f1_score :  0.4703220347453553\n"
     ]
    }
   ],
   "source": [
    "print('2nd_classification_f1_score : ',f1_score(final_test.is_applied.values, final_test.pred2.values))"
   ]
  },
  {
   "cell_type": "code",
   "execution_count": 20,
   "id": "3d1373fb",
   "metadata": {
    "scrolled": true
   },
   "outputs": [
    {
     "name": "stdout",
     "output_type": "stream",
     "text": [
      "[[4696658  165833]\n",
      " [ 141528  136459]]\n"
     ]
    }
   ],
   "source": [
    "from sklearn.metrics import confusion_matrix\n",
    "print(confusion_matrix(final_test.is_applied.values, final_test.pred2.values))"
   ]
  },
  {
   "cell_type": "markdown",
   "id": "5fcd171c",
   "metadata": {},
   "source": [
    "## Smote 2nd_classification"
   ]
  },
  {
   "cell_type": "code",
   "execution_count": 20,
   "id": "4840944e",
   "metadata": {},
   "outputs": [],
   "source": [
    "from imblearn.over_sampling import SMOTE\n",
    "\n",
    "smote_sample = SMOTE(random_state=0)\n",
    "X_train_over,y_train_over = smote_sample.fit_resample(X_train,y_train)"
   ]
  },
  {
   "cell_type": "code",
   "execution_count": 21,
   "id": "114e982b",
   "metadata": {},
   "outputs": [
    {
     "name": "stdout",
     "output_type": "stream",
     "text": [
      "Using cuda:2\n"
     ]
    },
    {
     "name": "stderr",
     "output_type": "stream",
     "text": [
      "/opt/conda/lib/python3.8/site-packages/pytorch_tabnet/abstract_model.py:75: UserWarning: Device used : cuda:2\n",
      "  warnings.warn(f\"Device used : {self.device}\")\n"
     ]
    },
    {
     "name": "stdout",
     "output_type": "stream",
     "text": [
      "epoch 0  | loss: 0.33782 | val_0_auc: 0.87443 |  0:02:32s\n",
      "epoch 1  | loss: 0.20629 | val_0_auc: 0.89427 |  0:05:04s\n",
      "epoch 2  | loss: 0.15115 | val_0_auc: 0.90206 |  0:07:37s\n",
      "epoch 3  | loss: 0.12415 | val_0_auc: 0.89792 |  0:10:23s\n",
      "epoch 4  | loss: 0.12376 | val_0_auc: 0.90591 |  0:13:06s\n",
      "epoch 5  | loss: 0.11828 | val_0_auc: 0.90822 |  0:15:38s\n",
      "epoch 6  | loss: 0.1126  | val_0_auc: 0.89729 |  0:18:10s\n",
      "epoch 7  | loss: 0.11675 | val_0_auc: 0.89843 |  0:20:44s\n",
      "epoch 8  | loss: 0.11173 | val_0_auc: 0.9025  |  0:23:38s\n",
      "epoch 9  | loss: 0.11051 | val_0_auc: 0.88563 |  0:26:47s\n",
      "epoch 10 | loss: 0.10906 | val_0_auc: 0.89408 |  0:29:53s\n",
      "epoch 11 | loss: 0.10761 | val_0_auc: 0.82355 |  0:32:51s\n",
      "epoch 12 | loss: 0.10593 | val_0_auc: 0.86287 |  0:36:31s\n",
      "epoch 13 | loss: 0.10443 | val_0_auc: 0.89813 |  0:39:47s\n",
      "epoch 14 | loss: 0.1047  | val_0_auc: 0.88459 |  0:43:02s\n",
      "epoch 15 | loss: 0.10338 | val_0_auc: 0.86952 |  0:46:20s\n",
      "epoch 16 | loss: 0.10434 | val_0_auc: 0.86698 |  0:49:38s\n",
      "epoch 17 | loss: 0.1029  | val_0_auc: 0.87442 |  0:52:26s\n",
      "epoch 18 | loss: 0.10216 | val_0_auc: 0.80107 |  0:55:11s\n",
      "epoch 19 | loss: 0.1012  | val_0_auc: 0.90266 |  0:57:59s\n",
      "Stop training because you reached max_epochs = 20 with best_epoch = 5 and best_val_0_auc = 0.90822\n"
     ]
    },
    {
     "name": "stderr",
     "output_type": "stream",
     "text": [
      "/opt/conda/lib/python3.8/site-packages/pytorch_tabnet/callbacks.py:172: UserWarning: Best weights from best epoch are automatically used!\n",
      "  warnings.warn(wrn_msg)\n"
     ]
    },
    {
     "name": "stdout",
     "output_type": "stream",
     "text": [
      "TabNet gpu sec :  4711.617521524429\n",
      "Valid F1 score: 0.40708203031032003\n",
      "Valid ROC AUC Score: 0.6769016812586578\n"
     ]
    }
   ],
   "source": [
    "import torch\n",
    "DEVICE = 'cuda:2' if torch.cuda.is_available() else 'cpu'\n",
    "print(\"Using {}\".format(DEVICE))\n",
    "\n",
    "params = {'n_d' : 4,\n",
    "         'n_steps' :5,        # tree에 depth\n",
    "         'gamma':1.5,\n",
    "         'n_independent':2,\n",
    "          'cat_idxs':cat_idxs,\n",
    "          'cat_dims':cat_dims,\n",
    "         'n_shared':2,\n",
    "         'cat_emb_dim':1,\n",
    "         'lambda_sparse':1e-4,\n",
    "         'momentum':0.5,\n",
    "         'clip_value':2.,\n",
    "         'optimizer_fn':torch.optim.Adam,\n",
    "         'optimizer_params':dict(lr=2e-2),\n",
    "         'scheduler_params':{\"gamma\": 0.95,\n",
    "                         \"step_size\": 20},\n",
    "         'scheduler_fn':torch.optim.lr_scheduler.StepLR,\n",
    "         'epsilon':1e-15,\n",
    "         'device_name':DEVICE,\n",
    "         'mask_type':'sparsemax'}\n",
    "\n",
    "clf = TabNetClassifier(**params\n",
    ")\n",
    "s = time.time()\n",
    "\n",
    "clf.fit(X_train=X_train_over, y_train=y_train_over,eval_set=[(X_valid, y_valid)],\n",
    "    max_epochs=20 , patience=20,\n",
    "    batch_size=10240, virtual_batch_size=1280,\n",
    "    num_workers=0,\n",
    "    weights=1,\n",
    "    drop_last=False\n",
    ")\n",
    "\n",
    "print('TabNet gpu sec : ',time.time()- s)\n",
    "\n",
    "\n",
    "pred_valid = clf.predict(X_valid)\n",
    "\n",
    "\n",
    "f1_valid = f1_score(y_valid, pred_valid) # y_true : 정답 값, y_pred : 예측 값 \n",
    "print(\"Valid F1 score: {}\".format(f1_valid))\n",
    " \n",
    "\n",
    "from sklearn.metrics import roc_auc_score \n",
    "roc_auc = roc_auc_score(y_valid, pred_valid)\n",
    "print(\"Valid ROC AUC Score: {}\".format(roc_auc))"
   ]
  },
  {
   "cell_type": "code",
   "execution_count": 22,
   "id": "0ec53cc2",
   "metadata": {},
   "outputs": [
    {
     "name": "stdout",
     "output_type": "stream",
     "text": [
      "0.4350965878317386\n",
      "0.35\n"
     ]
    }
   ],
   "source": [
    "pred_prob_valid = clf.predict_proba(X_valid)\n",
    "\n",
    "def thres_optimization(threshold, array) :\n",
    "    pred = np.ceil(array[:,1]-threshold)\n",
    "    return pred\n",
    "\n",
    "score_valid = [0]\n",
    "best_thres_valid = 0\n",
    "for i in range(1,100) :\n",
    "    pre_valid = thres_optimization(i/100,pred_prob_valid)\n",
    "    \n",
    "    f1_valid = f1_score(y_valid, pre_valid)\n",
    "    \n",
    "    score_valid.append(f1_valid)\n",
    "    \n",
    "best_thres_valid = score_valid.index(max(score_valid))/100\n",
    "print(max(score_valid))\n",
    "print(best_thres_valid)"
   ]
  },
  {
   "cell_type": "code",
   "execution_count": 23,
   "id": "54810ed1",
   "metadata": {},
   "outputs": [
    {
     "name": "stdout",
     "output_type": "stream",
     "text": [
      "0.4581477959864\n",
      "0.34\n"
     ]
    }
   ],
   "source": [
    "pred_prob_test = clf.predict_proba(X_test)\n",
    "\n",
    "def thres_optimization(threshold, array) :\n",
    "    pred = np.ceil(array[:,1]-threshold)\n",
    "    return pred\n",
    "\n",
    "score_test = [0]\n",
    "best_thres_test = 0\n",
    "for i in range(1,100) :\n",
    "    pre_test = thres_optimization(i/100,pred_prob_test)\n",
    "    \n",
    "    f1_test = f1_score(y_test, pre_test)\n",
    "    \n",
    "    score_test.append(f1_test)\n",
    "    \n",
    "best_thres_test = score_test.index(max(score_test))/100\n",
    "print(max(score_test))\n",
    "print(best_thres_test)"
   ]
  },
  {
   "cell_type": "code",
   "execution_count": 28,
   "id": "77e47ad5",
   "metadata": {},
   "outputs": [],
   "source": [
    "test_else_set['pred2'] = 0\n",
    "test_set['pred2'] = thres_optimization(0.34,pred_prob_test)"
   ]
  },
  {
   "cell_type": "code",
   "execution_count": 29,
   "id": "3151475e",
   "metadata": {},
   "outputs": [],
   "source": [
    "final_test = pd.concat([test_else_set,test_set], ignore_index=True)"
   ]
  },
  {
   "cell_type": "code",
   "execution_count": 30,
   "id": "7bf2db13",
   "metadata": {},
   "outputs": [
    {
     "name": "stdout",
     "output_type": "stream",
     "text": [
      "2nd_classification_f1_score :  0.4380195750480084\n"
     ]
    }
   ],
   "source": [
    "print('2nd_classification_f1_score : ',f1_score(final_test.is_applied.values, final_test.pred2.values))"
   ]
  },
  {
   "cell_type": "code",
   "execution_count": 31,
   "id": "53ab27f6",
   "metadata": {},
   "outputs": [
    {
     "name": "stdout",
     "output_type": "stream",
     "text": [
      "[[4636177  226314]\n",
      " [ 136568  141419]]\n"
     ]
    }
   ],
   "source": [
    "from sklearn.metrics import confusion_matrix\n",
    "print(confusion_matrix(final_test.is_applied.values, final_test.pred2.values))"
   ]
  },
  {
   "cell_type": "code",
   "execution_count": null,
   "id": "2434d27f",
   "metadata": {},
   "outputs": [],
   "source": []
  },
  {
   "cell_type": "code",
   "execution_count": null,
   "id": "25fefd0a",
   "metadata": {},
   "outputs": [],
   "source": []
  },
  {
   "cell_type": "code",
   "execution_count": null,
   "id": "11b3893d",
   "metadata": {},
   "outputs": [],
   "source": []
  },
  {
   "cell_type": "code",
   "execution_count": null,
   "id": "cd3f4282",
   "metadata": {},
   "outputs": [],
   "source": []
  },
  {
   "cell_type": "code",
   "execution_count": null,
   "id": "276cfd08",
   "metadata": {},
   "outputs": [],
   "source": []
  }
 ],
 "metadata": {
  "kernelspec": {
   "display_name": "Python 3 (ipykernel)",
   "language": "python",
   "name": "python3"
  },
  "language_info": {
   "codemirror_mode": {
    "name": "ipython",
    "version": 3
   },
   "file_extension": ".py",
   "mimetype": "text/x-python",
   "name": "python",
   "nbconvert_exporter": "python",
   "pygments_lexer": "ipython3",
   "version": "3.8.8"
  }
 },
 "nbformat": 4,
 "nbformat_minor": 5
}
