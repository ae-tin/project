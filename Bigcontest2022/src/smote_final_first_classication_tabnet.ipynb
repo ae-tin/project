{
 "cells": [
  {
   "cell_type": "code",
   "execution_count": null,
   "id": "1e927b1f",
   "metadata": {},
   "outputs": [
    {
     "name": "stdout",
     "output_type": "stream",
     "text": [
      "Available devices  5\n",
      "Device: cuda:4\n",
      "Current cuda device: 4\n",
      "**************************************************\n",
      "preprocessing,,,,,,\n",
      "**************************************************\n",
      "100%|█████████████████████████████████████████████| 8/8 [00:00<00:00, 18.44it/s]\n",
      "100%|█████████████████████████████████████████████| 6/6 [00:00<00:00, 21.55it/s]\n",
      "100%|█████████████████████████████████████████████| 4/4 [00:00<00:00, 20.70it/s]\n",
      "100%|█████████████████████████████████████████████| 4/4 [00:00<00:00, 20.73it/s]\n",
      "purpose 8\n",
      "gender 3\n",
      "income_type 6\n",
      "employment_type 4\n",
      "houseown_type 4\n",
      "rehabilitation 4\n",
      "****************** preprocessing end! ******************\n",
      "  0%|                                                   | 0/200 [00:00<?, ?it/s]"
     ]
    }
   ],
   "source": [
    "!python smote_final_first_classification_tabnet_grid.py"
   ]
  },
  {
   "cell_type": "code",
   "execution_count": null,
   "id": "f7538a34",
   "metadata": {},
   "outputs": [],
   "source": []
  }
 ],
 "metadata": {
  "kernelspec": {
   "display_name": "Python 3 (ipykernel)",
   "language": "python",
   "name": "python3"
  },
  "language_info": {
   "codemirror_mode": {
    "name": "ipython",
    "version": 3
   },
   "file_extension": ".py",
   "mimetype": "text/x-python",
   "name": "python",
   "nbconvert_exporter": "python",
   "pygments_lexer": "ipython3",
   "version": "3.8.8"
  }
 },
 "nbformat": 4,
 "nbformat_minor": 5
}
