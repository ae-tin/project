{
 "cells": [
  {
   "cell_type": "code",
   "execution_count": 1,
   "id": "e8ff08a2",
   "metadata": {},
   "outputs": [
    {
     "name": "stdout",
     "output_type": "stream",
     "text": [
      "Collecting catboost\n",
      "  Downloading catboost-1.1-cp38-none-manylinux1_x86_64.whl (76.7 MB)\n",
      "\u001b[K     |████████████████████████████████| 76.7 MB 19 kB/s  eta 0:00:01    |▋                               | 1.6 MB 1.3 MB/s eta 0:00:57     |███████▊                        | 18.4 MB 1.1 MB/s eta 0:00:52\n",
      "\u001b[?25hRequirement already satisfied: pandas>=0.24.0 in /opt/conda/lib/python3.8/site-packages (from catboost) (1.2.4)\n",
      "Collecting graphviz\n",
      "  Downloading graphviz-0.20.1-py3-none-any.whl (47 kB)\n",
      "\u001b[K     |████████████████████████████████| 47 kB 829 kB/s eta 0:00:01\n",
      "\u001b[?25hRequirement already satisfied: plotly in /opt/conda/lib/python3.8/site-packages (from catboost) (5.9.0)\n",
      "Requirement already satisfied: matplotlib in /opt/conda/lib/python3.8/site-packages (from catboost) (3.4.2)\n",
      "Requirement already satisfied: six in /opt/conda/lib/python3.8/site-packages (from catboost) (1.16.0)\n",
      "Requirement already satisfied: scipy in /opt/conda/lib/python3.8/site-packages (from catboost) (1.9.0)\n",
      "Requirement already satisfied: numpy>=1.16.0 in /opt/conda/lib/python3.8/site-packages (from catboost) (1.20.3)\n",
      "Requirement already satisfied: pytz>=2017.3 in /opt/conda/lib/python3.8/site-packages (from pandas>=0.24.0->catboost) (2021.1)\n",
      "Requirement already satisfied: python-dateutil>=2.7.3 in /opt/conda/lib/python3.8/site-packages (from pandas>=0.24.0->catboost) (2.8.1)\n",
      "Requirement already satisfied: kiwisolver>=1.0.1 in /opt/conda/lib/python3.8/site-packages (from matplotlib->catboost) (1.3.1)\n",
      "Requirement already satisfied: cycler>=0.10 in /opt/conda/lib/python3.8/site-packages (from matplotlib->catboost) (0.10.0)\n",
      "Requirement already satisfied: pyparsing>=2.2.1 in /opt/conda/lib/python3.8/site-packages (from matplotlib->catboost) (2.4.7)\n",
      "Requirement already satisfied: pillow>=6.2.0 in /opt/conda/lib/python3.8/site-packages (from matplotlib->catboost) (8.2.0)\n",
      "Requirement already satisfied: tenacity>=6.2.0 in /opt/conda/lib/python3.8/site-packages (from plotly->catboost) (8.0.1)\n",
      "Installing collected packages: graphviz, catboost\n",
      "Successfully installed catboost-1.1 graphviz-0.20.1\n",
      "\u001b[33mWARNING: Running pip as the 'root' user can result in broken permissions and conflicting behaviour with the system package manager. It is recommended to use a virtual environment instead: https://pip.pypa.io/warnings/venv\u001b[0m\n"
     ]
    }
   ],
   "source": [
    "!pip install catboost"
   ]
  },
  {
   "cell_type": "code",
   "execution_count": 3,
   "id": "bbf8c3e0",
   "metadata": {},
   "outputs": [
    {
     "name": "stdout",
     "output_type": "stream",
     "text": [
      "Available devices  5\n",
      "Device: cuda:4\n",
      "Current cuda device: 4\n",
      "**************************************************\n",
      "preprocessing,,,,,,\n",
      "**************************************************\n",
      "100%|█████████████████████████████████████████████| 8/8 [00:00<00:00, 20.88it/s]\n",
      "100%|█████████████████████████████████████████████| 6/6 [00:00<00:00, 21.94it/s]\n",
      "100%|█████████████████████████████████████████████| 4/4 [00:00<00:00, 21.11it/s]\n",
      "100%|█████████████████████████████████████████████| 4/4 [00:00<00:00, 18.82it/s]\n",
      "purpose 8\n",
      "gender 3\n",
      "income_type 6\n",
      "employment_type 4\n",
      "houseown_type 4\n",
      "rehabilitation 4\n",
      "****************** preprocessing end! ******************\n",
      "  0%|                                                   | 0/200 [00:00<?, ?it/s]parameters :  {'colsample_bynode': 0.8, 'learning_rate': 1, 'max_depth': 10, 'num_parallel_tree': 100, 'objective': 'binary:logistic', 'subsample': 0.8, 'tree_method': 'gpu_hist'} ***** epoch :  10\n",
      "^C\n"
     ]
    }
   ],
   "source": [
    "!python smote_final_first_classification_random_forest_grid.py"
   ]
  },
  {
   "cell_type": "code",
   "execution_count": null,
   "id": "2d59865a",
   "metadata": {},
   "outputs": [],
   "source": []
  },
  {
   "cell_type": "code",
   "execution_count": null,
   "id": "d792bd5c",
   "metadata": {},
   "outputs": [],
   "source": []
  },
  {
   "cell_type": "code",
   "execution_count": null,
   "id": "e58d9bef",
   "metadata": {},
   "outputs": [],
   "source": []
  },
  {
   "cell_type": "code",
   "execution_count": null,
   "id": "4a80c1d6",
   "metadata": {},
   "outputs": [],
   "source": []
  },
  {
   "cell_type": "code",
   "execution_count": null,
   "id": "1a4ce513",
   "metadata": {},
   "outputs": [],
   "source": []
  }
 ],
 "metadata": {
  "kernelspec": {
   "display_name": "Python 3 (ipykernel)",
   "language": "python",
   "name": "python3"
  },
  "language_info": {
   "codemirror_mode": {
    "name": "ipython",
    "version": 3
   },
   "file_extension": ".py",
   "mimetype": "text/x-python",
   "name": "python",
   "nbconvert_exporter": "python",
   "pygments_lexer": "ipython3",
   "version": "3.8.8"
  }
 },
 "nbformat": 4,
 "nbformat_minor": 5
}
