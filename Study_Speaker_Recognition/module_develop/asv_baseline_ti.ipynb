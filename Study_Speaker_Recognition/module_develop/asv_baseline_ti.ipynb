{
 "cells": [
  {
   "cell_type": "markdown",
   "id": "suspected-mineral",
   "metadata": {},
   "source": [
    "# trainECAPAModel.py"
   ]
  },
  {
   "cell_type": "code",
   "execution_count": null,
   "id": "posted-acrobat",
   "metadata": {},
   "outputs": [
    {
     "name": "stderr",
     "output_type": "stream",
     "text": [
      "/opt/conda/lib/python3.7/site-packages/torchaudio/backend/utils.py:54: UserWarning: \"sox\" backend is being deprecated. The default backend will be changed to \"sox_io\" backend in 0.8.0 and \"sox\" backend will be removed in 0.9.0. Please migrate to \"sox_io\" backend. Please refer to https://github.com/pytorch/audio/issues/903 for the detail.\n",
      "  '\"sox\" backend is being deprecated. '\n"
     ]
    },
    {
     "name": "stdout",
     "output_type": "stream",
     "text": [
      "Model exps/base_ti/model/model_0009.model loaded from previous state!\n",
      "02-10 14:21:09 Model para number = 14.73\n"
     ]
    },
    {
     "name": "stderr",
     "output_type": "stream",
     "text": [
      "1it [00:07,  7.09s/it]0 14:21:17 [10] Lr: 0.000760, Training: 0.04%,  Loss: 2.94765, ACC: 48.75% "
     ]
    },
    {
     "name": "stdout",
     "output_type": "stream",
     "text": [
      "\n"
     ]
    },
    {
     "name": "stderr",
     "output_type": "stream",
     "text": [
      "2it [00:12,  6.09s/it]: 0.000760, Training: 0.07%,  Loss: 2.98221, ACC: 46.12% "
     ]
    },
    {
     "name": "stdout",
     "output_type": "stream",
     "text": [
      "\n"
     ]
    },
    {
     "name": "stderr",
     "output_type": "stream",
     "text": [
      "3it [00:17,  5.76s/it]: 0.000760, Training: 0.11%,  Loss: 2.99887, ACC: 46.08% "
     ]
    },
    {
     "name": "stdout",
     "output_type": "stream",
     "text": [
      "\n"
     ]
    },
    {
     "name": "stderr",
     "output_type": "stream",
     "text": [
      "4it [00:23,  5.64s/it]: 0.000760, Training: 0.15%,  Loss: 2.97609, ACC: 46.12% "
     ]
    },
    {
     "name": "stdout",
     "output_type": "stream",
     "text": [
      "\n"
     ]
    },
    {
     "name": "stderr",
     "output_type": "stream",
     "text": [
      "5it [00:28,  5.54s/it]: 0.000760, Training: 0.18%,  Loss: 2.96719, ACC: 45.70% "
     ]
    },
    {
     "name": "stdout",
     "output_type": "stream",
     "text": [
      "\n"
     ]
    },
    {
     "name": "stderr",
     "output_type": "stream",
     "text": [
      "6it [00:34,  5.52s/it]: 0.000760, Training: 0.22%,  Loss: 2.93961, ACC: 46.33% "
     ]
    },
    {
     "name": "stdout",
     "output_type": "stream",
     "text": [
      "\n"
     ]
    },
    {
     "name": "stderr",
     "output_type": "stream",
     "text": [
      "7it [00:39,  5.53s/it]: 0.000760, Training: 0.26%,  Loss: 2.95572, ACC: 46.18% "
     ]
    },
    {
     "name": "stdout",
     "output_type": "stream",
     "text": [
      "\n"
     ]
    },
    {
     "name": "stderr",
     "output_type": "stream",
     "text": [
      "8it [00:45,  5.48s/it]: 0.000760, Training: 0.29%,  Loss: 2.97237, ACC: 46.09% "
     ]
    },
    {
     "name": "stdout",
     "output_type": "stream",
     "text": [
      "\n"
     ]
    },
    {
     "name": "stderr",
     "output_type": "stream",
     "text": [
      "9it [00:50,  5.46s/it]: 0.000760, Training: 0.33%,  Loss: 2.99634, ACC: 46.06% "
     ]
    },
    {
     "name": "stdout",
     "output_type": "stream",
     "text": [
      "\n"
     ]
    },
    {
     "name": "stderr",
     "output_type": "stream",
     "text": [
      "10it [00:55,  5.42s/it] 0.000760, Training: 0.37%,  Loss: 3.01039, ACC: 45.95% "
     ]
    },
    {
     "name": "stdout",
     "output_type": "stream",
     "text": [
      "\n"
     ]
    },
    {
     "name": "stderr",
     "output_type": "stream",
     "text": [
      "11it [01:01,  5.39s/it] 0.000760, Training: 0.40%,  Loss: 3.02254, ACC: 45.57% "
     ]
    },
    {
     "name": "stdout",
     "output_type": "stream",
     "text": [
      "\n"
     ]
    },
    {
     "name": "stderr",
     "output_type": "stream",
     "text": [
      "12it [01:06,  5.41s/it] 0.000760, Training: 0.44%,  Loss: 3.02359, ACC: 45.73% "
     ]
    },
    {
     "name": "stdout",
     "output_type": "stream",
     "text": [
      "\n"
     ]
    },
    {
     "name": "stderr",
     "output_type": "stream",
     "text": [
      "13it [01:11,  5.32s/it] 0.000760, Training: 0.48%,  Loss: 3.01436, ACC: 45.81% "
     ]
    },
    {
     "name": "stdout",
     "output_type": "stream",
     "text": [
      "\n"
     ]
    },
    {
     "name": "stderr",
     "output_type": "stream",
     "text": [
      "14it [01:16,  5.29s/it] 0.000760, Training: 0.51%,  Loss: 3.00791, ACC: 45.59% "
     ]
    },
    {
     "name": "stdout",
     "output_type": "stream",
     "text": [
      "\n"
     ]
    },
    {
     "name": "stderr",
     "output_type": "stream",
     "text": [
      "15it [01:22,  5.28s/it] 0.000760, Training: 0.55%,  Loss: 3.01299, ACC: 45.62% "
     ]
    },
    {
     "name": "stdout",
     "output_type": "stream",
     "text": [
      "\n"
     ]
    },
    {
     "name": "stderr",
     "output_type": "stream",
     "text": [
      "16it [01:27,  5.34s/it] 0.000760, Training: 0.59%,  Loss: 3.01195, ACC: 45.67% "
     ]
    },
    {
     "name": "stdout",
     "output_type": "stream",
     "text": [
      "\n"
     ]
    },
    {
     "name": "stderr",
     "output_type": "stream",
     "text": [
      "17it [01:32,  5.32s/it] 0.000760, Training: 0.62%,  Loss: 2.99550, ACC: 45.79% "
     ]
    },
    {
     "name": "stdout",
     "output_type": "stream",
     "text": [
      "\n"
     ]
    },
    {
     "name": "stderr",
     "output_type": "stream",
     "text": [
      "18it [01:38,  5.35s/it] 0.000760, Training: 0.66%,  Loss: 2.99125, ACC: 45.96% "
     ]
    },
    {
     "name": "stdout",
     "output_type": "stream",
     "text": [
      "\n"
     ]
    },
    {
     "name": "stderr",
     "output_type": "stream",
     "text": [
      "19it [01:43,  5.35s/it] 0.000760, Training: 0.70%,  Loss: 2.98541, ACC: 45.89% "
     ]
    },
    {
     "name": "stdout",
     "output_type": "stream",
     "text": [
      "\n"
     ]
    },
    {
     "name": "stderr",
     "output_type": "stream",
     "text": [
      "20it [01:49,  5.34s/it] 0.000760, Training: 0.73%,  Loss: 2.99500, ACC: 45.80% "
     ]
    },
    {
     "name": "stdout",
     "output_type": "stream",
     "text": [
      "\n"
     ]
    },
    {
     "name": "stderr",
     "output_type": "stream",
     "text": [
      "21it [01:54,  5.36s/it] 0.000760, Training: 0.77%,  Loss: 2.99935, ACC: 45.87% "
     ]
    },
    {
     "name": "stdout",
     "output_type": "stream",
     "text": [
      "\n"
     ]
    },
    {
     "name": "stderr",
     "output_type": "stream",
     "text": [
      "22it [01:59,  5.37s/it] 0.000760, Training: 0.81%,  Loss: 3.00913, ACC: 45.77% "
     ]
    },
    {
     "name": "stdout",
     "output_type": "stream",
     "text": [
      "\n"
     ]
    },
    {
     "name": "stderr",
     "output_type": "stream",
     "text": [
      "23it [02:05,  5.37s/it] 0.000760, Training: 0.84%,  Loss: 3.00664, ACC: 45.86% "
     ]
    },
    {
     "name": "stdout",
     "output_type": "stream",
     "text": [
      "\n"
     ]
    },
    {
     "name": "stderr",
     "output_type": "stream",
     "text": [
      "24it [02:10,  5.37s/it] 0.000760, Training: 0.88%,  Loss: 3.01349, ACC: 45.88% "
     ]
    },
    {
     "name": "stdout",
     "output_type": "stream",
     "text": [
      "\n"
     ]
    },
    {
     "name": "stderr",
     "output_type": "stream",
     "text": [
      "25it [02:15,  5.37s/it] 0.000760, Training: 0.92%,  Loss: 3.01101, ACC: 45.82% "
     ]
    },
    {
     "name": "stdout",
     "output_type": "stream",
     "text": [
      "\n"
     ]
    },
    {
     "name": "stderr",
     "output_type": "stream",
     "text": [
      "26it [02:21,  5.35s/it] 0.000760, Training: 0.95%,  Loss: 3.01599, ACC: 45.82% "
     ]
    },
    {
     "name": "stdout",
     "output_type": "stream",
     "text": [
      "\n"
     ]
    },
    {
     "name": "stderr",
     "output_type": "stream",
     "text": [
      "27it [02:26,  5.35s/it] 0.000760, Training: 0.99%,  Loss: 3.01996, ACC: 45.77% "
     ]
    },
    {
     "name": "stdout",
     "output_type": "stream",
     "text": [
      "\n"
     ]
    },
    {
     "name": "stderr",
     "output_type": "stream",
     "text": [
      "28it [02:31,  5.33s/it] 0.000760, Training: 1.03%,  Loss: 3.01361, ACC: 45.83% "
     ]
    },
    {
     "name": "stdout",
     "output_type": "stream",
     "text": [
      "\n"
     ]
    },
    {
     "name": "stderr",
     "output_type": "stream",
     "text": [
      "29it [02:37,  5.32s/it] 0.000760, Training: 1.06%,  Loss: 3.01544, ACC: 45.79% "
     ]
    },
    {
     "name": "stdout",
     "output_type": "stream",
     "text": [
      "\n"
     ]
    },
    {
     "name": "stderr",
     "output_type": "stream",
     "text": [
      "30it [02:42,  5.28s/it] 0.000760, Training: 1.10%,  Loss: 3.01288, ACC: 45.82% "
     ]
    },
    {
     "name": "stdout",
     "output_type": "stream",
     "text": [
      "\n"
     ]
    },
    {
     "name": "stderr",
     "output_type": "stream",
     "text": [
      "31it [02:47,  5.25s/it] 0.000760, Training: 1.14%,  Loss: 3.00445, ACC: 45.94% "
     ]
    },
    {
     "name": "stdout",
     "output_type": "stream",
     "text": [
      "\n"
     ]
    },
    {
     "name": "stderr",
     "output_type": "stream",
     "text": [
      "32it [02:52,  5.26s/it] 0.000760, Training: 1.17%,  Loss: 2.99812, ACC: 46.01% "
     ]
    },
    {
     "name": "stdout",
     "output_type": "stream",
     "text": [
      "\n"
     ]
    },
    {
     "name": "stderr",
     "output_type": "stream",
     "text": [
      "33it [02:58,  5.32s/it] 0.000760, Training: 1.21%,  Loss: 3.00600, ACC: 45.97% "
     ]
    },
    {
     "name": "stdout",
     "output_type": "stream",
     "text": [
      "\n"
     ]
    },
    {
     "name": "stderr",
     "output_type": "stream",
     "text": [
      "34it [03:03,  5.33s/it] 0.000760, Training: 1.25%,  Loss: 3.00345, ACC: 45.96% "
     ]
    },
    {
     "name": "stdout",
     "output_type": "stream",
     "text": [
      "\n"
     ]
    },
    {
     "name": "stderr",
     "output_type": "stream",
     "text": [
      "35it [03:08,  5.31s/it] 0.000760, Training: 1.28%,  Loss: 3.00647, ACC: 45.96% "
     ]
    },
    {
     "name": "stdout",
     "output_type": "stream",
     "text": [
      "\n"
     ]
    },
    {
     "name": "stderr",
     "output_type": "stream",
     "text": [
      "36it [03:14,  5.28s/it] 0.000760, Training: 1.32%,  Loss: 3.00266, ACC: 45.95% "
     ]
    },
    {
     "name": "stdout",
     "output_type": "stream",
     "text": [
      "\n"
     ]
    },
    {
     "name": "stderr",
     "output_type": "stream",
     "text": [
      "37it [03:19,  5.29s/it] 0.000760, Training: 1.36%,  Loss: 3.01193, ACC: 45.84% "
     ]
    },
    {
     "name": "stdout",
     "output_type": "stream",
     "text": [
      "\n"
     ]
    },
    {
     "name": "stderr",
     "output_type": "stream",
     "text": [
      "38it [03:24,  5.34s/it] 0.000760, Training: 1.39%,  Loss: 3.00708, ACC: 45.90% "
     ]
    },
    {
     "name": "stdout",
     "output_type": "stream",
     "text": [
      "\n"
     ]
    },
    {
     "name": "stderr",
     "output_type": "stream",
     "text": [
      "39it [03:30,  5.32s/it] 0.000760, Training: 1.43%,  Loss: 3.00493, ACC: 45.89% "
     ]
    },
    {
     "name": "stdout",
     "output_type": "stream",
     "text": [
      "\n"
     ]
    },
    {
     "name": "stderr",
     "output_type": "stream",
     "text": [
      "40it [03:35,  5.31s/it] 0.000760, Training: 1.47%,  Loss: 2.99842, ACC: 46.03% "
     ]
    },
    {
     "name": "stdout",
     "output_type": "stream",
     "text": [
      "\n"
     ]
    },
    {
     "name": "stderr",
     "output_type": "stream",
     "text": [
      "41it [03:40,  5.35s/it] 0.000760, Training: 1.50%,  Loss: 3.00286, ACC: 46.04% "
     ]
    },
    {
     "name": "stdout",
     "output_type": "stream",
     "text": [
      "\n"
     ]
    },
    {
     "name": "stderr",
     "output_type": "stream",
     "text": [
      "42it [03:46,  5.31s/it] 0.000760, Training: 1.54%,  Loss: 3.00671, ACC: 45.96% "
     ]
    },
    {
     "name": "stdout",
     "output_type": "stream",
     "text": [
      "\n"
     ]
    },
    {
     "name": "stderr",
     "output_type": "stream",
     "text": [
      "43it [03:51,  5.29s/it] 0.000760, Training: 1.58%,  Loss: 3.00960, ACC: 45.87% "
     ]
    },
    {
     "name": "stdout",
     "output_type": "stream",
     "text": [
      "\n"
     ]
    },
    {
     "name": "stderr",
     "output_type": "stream",
     "text": [
      "44it [03:56,  5.29s/it] 0.000760, Training: 1.61%,  Loss: 3.00739, ACC: 45.97% "
     ]
    },
    {
     "name": "stdout",
     "output_type": "stream",
     "text": [
      "\n"
     ]
    },
    {
     "name": "stderr",
     "output_type": "stream",
     "text": [
      "45it [04:02,  5.31s/it] 0.000760, Training: 1.65%,  Loss: 3.00857, ACC: 45.97% "
     ]
    },
    {
     "name": "stdout",
     "output_type": "stream",
     "text": [
      "\n"
     ]
    },
    {
     "name": "stderr",
     "output_type": "stream",
     "text": [
      "46it [04:07,  5.30s/it] 0.000760, Training: 1.68%,  Loss: 3.00603, ACC: 46.05% "
     ]
    },
    {
     "name": "stdout",
     "output_type": "stream",
     "text": [
      "\n"
     ]
    },
    {
     "name": "stderr",
     "output_type": "stream",
     "text": [
      "47it [04:12,  5.27s/it] 0.000760, Training: 1.72%,  Loss: 3.00354, ACC: 46.04% "
     ]
    },
    {
     "name": "stdout",
     "output_type": "stream",
     "text": [
      "\n"
     ]
    },
    {
     "name": "stderr",
     "output_type": "stream",
     "text": [
      "48it [04:17,  5.24s/it] 0.000760, Training: 1.76%,  Loss: 2.99540, ACC: 46.13% "
     ]
    },
    {
     "name": "stdout",
     "output_type": "stream",
     "text": [
      "\n"
     ]
    },
    {
     "name": "stderr",
     "output_type": "stream",
     "text": [
      "49it [04:23,  5.29s/it] 0.000760, Training: 1.79%,  Loss: 2.99486, ACC: 46.17% "
     ]
    },
    {
     "name": "stdout",
     "output_type": "stream",
     "text": [
      "\n"
     ]
    },
    {
     "name": "stderr",
     "output_type": "stream",
     "text": [
      "50it [04:28,  5.34s/it] 0.000760, Training: 1.83%,  Loss: 2.99155, ACC: 46.25% "
     ]
    },
    {
     "name": "stdout",
     "output_type": "stream",
     "text": [
      "\n"
     ]
    },
    {
     "name": "stderr",
     "output_type": "stream",
     "text": [
      "51it [04:33,  5.32s/it] 0.000760, Training: 1.87%,  Loss: 2.99484, ACC: 46.25% "
     ]
    },
    {
     "name": "stdout",
     "output_type": "stream",
     "text": [
      "\n"
     ]
    },
    {
     "name": "stderr",
     "output_type": "stream",
     "text": [
      "52it [04:39,  5.30s/it] 0.000760, Training: 1.90%,  Loss: 2.99437, ACC: 46.22% "
     ]
    },
    {
     "name": "stdout",
     "output_type": "stream",
     "text": [
      "\n"
     ]
    },
    {
     "name": "stderr",
     "output_type": "stream",
     "text": [
      "53it [04:44,  5.31s/it] 0.000760, Training: 1.94%,  Loss: 3.00191, ACC: 46.16% "
     ]
    },
    {
     "name": "stdout",
     "output_type": "stream",
     "text": [
      "\n"
     ]
    },
    {
     "name": "stderr",
     "output_type": "stream",
     "text": [
      "54it [04:49,  5.31s/it] 0.000760, Training: 1.98%,  Loss: 3.00326, ACC: 46.11% "
     ]
    },
    {
     "name": "stdout",
     "output_type": "stream",
     "text": [
      "\n"
     ]
    },
    {
     "name": "stderr",
     "output_type": "stream",
     "text": [
      "55it [04:55,  5.33s/it] 0.000760, Training: 2.01%,  Loss: 3.00124, ACC: 46.10% "
     ]
    },
    {
     "name": "stdout",
     "output_type": "stream",
     "text": [
      "\n"
     ]
    },
    {
     "name": "stderr",
     "output_type": "stream",
     "text": [
      "56it [05:00,  5.33s/it] 0.000760, Training: 2.05%,  Loss: 3.00068, ACC: 46.16% "
     ]
    },
    {
     "name": "stdout",
     "output_type": "stream",
     "text": [
      "\n"
     ]
    },
    {
     "name": "stderr",
     "output_type": "stream",
     "text": [
      "57it [05:05,  5.29s/it] 0.000760, Training: 2.09%,  Loss: 2.99854, ACC: 46.19% "
     ]
    },
    {
     "name": "stdout",
     "output_type": "stream",
     "text": [
      "\n"
     ]
    },
    {
     "name": "stderr",
     "output_type": "stream",
     "text": [
      "58it [05:10,  5.29s/it] 0.000760, Training: 2.12%,  Loss: 2.99740, ACC: 46.17% "
     ]
    },
    {
     "name": "stdout",
     "output_type": "stream",
     "text": [
      "\n"
     ]
    },
    {
     "name": "stderr",
     "output_type": "stream",
     "text": [
      "59it [05:16,  5.32s/it] 0.000760, Training: 2.16%,  Loss: 3.00038, ACC: 46.14% "
     ]
    },
    {
     "name": "stdout",
     "output_type": "stream",
     "text": [
      "\n"
     ]
    },
    {
     "name": "stderr",
     "output_type": "stream",
     "text": [
      "60it [05:21,  5.30s/it] 0.000760, Training: 2.20%,  Loss: 2.99764, ACC: 46.17% "
     ]
    },
    {
     "name": "stdout",
     "output_type": "stream",
     "text": [
      "\n"
     ]
    },
    {
     "name": "stderr",
     "output_type": "stream",
     "text": [
      "61it [05:26,  5.30s/it] 0.000760, Training: 2.23%,  Loss: 2.99970, ACC: 46.14% "
     ]
    },
    {
     "name": "stdout",
     "output_type": "stream",
     "text": [
      "\n"
     ]
    },
    {
     "name": "stderr",
     "output_type": "stream",
     "text": [
      "62it [05:31,  5.26s/it] 0.000760, Training: 2.27%,  Loss: 2.99690, ACC: 46.14% "
     ]
    },
    {
     "name": "stdout",
     "output_type": "stream",
     "text": [
      "\n"
     ]
    },
    {
     "name": "stderr",
     "output_type": "stream",
     "text": [
      "63it [05:37,  5.26s/it] 0.000760, Training: 2.31%,  Loss: 2.99595, ACC: 46.21% "
     ]
    },
    {
     "name": "stdout",
     "output_type": "stream",
     "text": [
      "\n"
     ]
    },
    {
     "name": "stderr",
     "output_type": "stream",
     "text": [
      "64it [05:42,  5.27s/it] 0.000760, Training: 2.34%,  Loss: 2.99755, ACC: 46.19% "
     ]
    },
    {
     "name": "stdout",
     "output_type": "stream",
     "text": [
      "\n"
     ]
    },
    {
     "name": "stderr",
     "output_type": "stream",
     "text": [
      "65it [05:47,  5.26s/it] 0.000760, Training: 2.38%,  Loss: 2.99485, ACC: 46.29% "
     ]
    },
    {
     "name": "stdout",
     "output_type": "stream",
     "text": [
      "\n"
     ]
    },
    {
     "name": "stderr",
     "output_type": "stream",
     "text": [
      "66it [05:53,  5.26s/it] 0.000760, Training: 2.42%,  Loss: 2.99759, ACC: 46.24% "
     ]
    },
    {
     "name": "stdout",
     "output_type": "stream",
     "text": [
      "\n"
     ]
    },
    {
     "name": "stderr",
     "output_type": "stream",
     "text": [
      "67it [05:58,  5.27s/it] 0.000760, Training: 2.45%,  Loss: 2.99783, ACC: 46.26% "
     ]
    },
    {
     "name": "stdout",
     "output_type": "stream",
     "text": [
      "\n"
     ]
    },
    {
     "name": "stderr",
     "output_type": "stream",
     "text": [
      "68it [06:03,  5.28s/it] 0.000760, Training: 2.49%,  Loss: 2.99795, ACC: 46.27% "
     ]
    },
    {
     "name": "stdout",
     "output_type": "stream",
     "text": [
      "\n"
     ]
    },
    {
     "name": "stderr",
     "output_type": "stream",
     "text": [
      "69it [06:08,  5.30s/it] 0.000760, Training: 2.53%,  Loss: 2.99564, ACC: 46.31% "
     ]
    },
    {
     "name": "stdout",
     "output_type": "stream",
     "text": [
      "\n"
     ]
    },
    {
     "name": "stderr",
     "output_type": "stream",
     "text": [
      "70it [06:14,  5.26s/it] 0.000760, Training: 2.56%,  Loss: 2.99444, ACC: 46.33% "
     ]
    },
    {
     "name": "stdout",
     "output_type": "stream",
     "text": [
      "\n"
     ]
    },
    {
     "name": "stderr",
     "output_type": "stream",
     "text": [
      "71it [06:19,  5.26s/it] 0.000760, Training: 2.60%,  Loss: 2.99413, ACC: 46.36% "
     ]
    },
    {
     "name": "stdout",
     "output_type": "stream",
     "text": [
      "\n"
     ]
    },
    {
     "name": "stderr",
     "output_type": "stream",
     "text": [
      "72it [06:24,  5.28s/it] 0.000760, Training: 2.64%,  Loss: 2.99474, ACC: 46.35% "
     ]
    },
    {
     "name": "stdout",
     "output_type": "stream",
     "text": [
      "\n"
     ]
    },
    {
     "name": "stderr",
     "output_type": "stream",
     "text": [
      "73it [06:29,  5.26s/it] 0.000760, Training: 2.67%,  Loss: 2.99327, ACC: 46.39% "
     ]
    },
    {
     "name": "stdout",
     "output_type": "stream",
     "text": [
      "\n"
     ]
    },
    {
     "name": "stderr",
     "output_type": "stream",
     "text": [
      "74it [06:35,  5.27s/it] 0.000760, Training: 2.71%,  Loss: 2.99650, ACC: 46.37% "
     ]
    },
    {
     "name": "stdout",
     "output_type": "stream",
     "text": [
      "\n"
     ]
    },
    {
     "name": "stderr",
     "output_type": "stream",
     "text": [
      "75it [06:40,  5.21s/it] 0.000760, Training: 2.75%,  Loss: 2.99318, ACC: 46.43% "
     ]
    },
    {
     "name": "stdout",
     "output_type": "stream",
     "text": [
      "\n"
     ]
    },
    {
     "name": "stderr",
     "output_type": "stream",
     "text": [
      "76it [06:45,  5.20s/it] 0.000760, Training: 2.78%,  Loss: 2.98903, ACC: 46.47% "
     ]
    },
    {
     "name": "stdout",
     "output_type": "stream",
     "text": [
      "\n"
     ]
    },
    {
     "name": "stderr",
     "output_type": "stream",
     "text": [
      "77it [06:50,  5.24s/it] 0.000760, Training: 2.82%,  Loss: 2.98849, ACC: 46.45% "
     ]
    },
    {
     "name": "stdout",
     "output_type": "stream",
     "text": [
      "\n"
     ]
    },
    {
     "name": "stderr",
     "output_type": "stream",
     "text": [
      "78it [06:56,  5.24s/it] 0.000760, Training: 2.86%,  Loss: 2.98527, ACC: 46.54% "
     ]
    },
    {
     "name": "stdout",
     "output_type": "stream",
     "text": [
      "\n"
     ]
    },
    {
     "name": "stderr",
     "output_type": "stream",
     "text": [
      "79it [07:01,  5.27s/it] 0.000760, Training: 2.89%,  Loss: 2.98461, ACC: 46.58% "
     ]
    },
    {
     "name": "stdout",
     "output_type": "stream",
     "text": [
      "\n"
     ]
    },
    {
     "name": "stderr",
     "output_type": "stream",
     "text": [
      "80it [07:06,  5.30s/it] 0.000760, Training: 2.93%,  Loss: 2.98432, ACC: 46.58% "
     ]
    },
    {
     "name": "stdout",
     "output_type": "stream",
     "text": [
      "\n"
     ]
    },
    {
     "name": "stderr",
     "output_type": "stream",
     "text": [
      "81it [07:12,  5.31s/it] 0.000760, Training: 2.97%,  Loss: 2.98510, ACC: 46.58% "
     ]
    },
    {
     "name": "stdout",
     "output_type": "stream",
     "text": [
      "\n"
     ]
    },
    {
     "name": "stderr",
     "output_type": "stream",
     "text": [
      "82it [07:17,  5.29s/it] 0.000760, Training: 3.00%,  Loss: 2.98896, ACC: 46.53% "
     ]
    },
    {
     "name": "stdout",
     "output_type": "stream",
     "text": [
      "\n"
     ]
    },
    {
     "name": "stderr",
     "output_type": "stream",
     "text": [
      "83it [07:22,  5.28s/it] 0.000760, Training: 3.04%,  Loss: 2.98771, ACC: 46.53% "
     ]
    },
    {
     "name": "stdout",
     "output_type": "stream",
     "text": [
      "\n"
     ]
    },
    {
     "name": "stderr",
     "output_type": "stream",
     "text": [
      "84it [07:27,  5.28s/it] 0.000760, Training: 3.08%,  Loss: 2.98670, ACC: 46.53% "
     ]
    },
    {
     "name": "stdout",
     "output_type": "stream",
     "text": [
      "\n"
     ]
    },
    {
     "name": "stderr",
     "output_type": "stream",
     "text": [
      "85it [07:33,  5.26s/it] 0.000760, Training: 3.11%,  Loss: 2.98924, ACC: 46.49% "
     ]
    },
    {
     "name": "stdout",
     "output_type": "stream",
     "text": [
      "\n"
     ]
    },
    {
     "name": "stderr",
     "output_type": "stream",
     "text": [
      "86it [07:38,  5.27s/it] 0.000760, Training: 3.15%,  Loss: 2.98720, ACC: 46.53% "
     ]
    },
    {
     "name": "stdout",
     "output_type": "stream",
     "text": [
      "\n"
     ]
    },
    {
     "name": "stderr",
     "output_type": "stream",
     "text": [
      "87it [07:43,  5.26s/it] 0.000760, Training: 3.19%,  Loss: 2.98625, ACC: 46.53% "
     ]
    },
    {
     "name": "stdout",
     "output_type": "stream",
     "text": [
      "\n"
     ]
    },
    {
     "name": "stderr",
     "output_type": "stream",
     "text": [
      "88it [07:48,  5.23s/it] 0.000760, Training: 3.22%,  Loss: 2.98675, ACC: 46.56% "
     ]
    },
    {
     "name": "stdout",
     "output_type": "stream",
     "text": [
      "\n"
     ]
    },
    {
     "name": "stderr",
     "output_type": "stream",
     "text": [
      "89it [07:53,  5.19s/it] 0.000760, Training: 3.26%,  Loss: 2.98625, ACC: 46.55% "
     ]
    },
    {
     "name": "stdout",
     "output_type": "stream",
     "text": [
      "\n"
     ]
    },
    {
     "name": "stderr",
     "output_type": "stream",
     "text": [
      "90it [07:58,  5.16s/it] 0.000760, Training: 3.30%,  Loss: 2.98822, ACC: 46.49% "
     ]
    },
    {
     "name": "stdout",
     "output_type": "stream",
     "text": [
      "\n"
     ]
    },
    {
     "name": "stderr",
     "output_type": "stream",
     "text": [
      "91it [08:04,  5.19s/it] 0.000760, Training: 3.33%,  Loss: 2.98710, ACC: 46.47% "
     ]
    },
    {
     "name": "stdout",
     "output_type": "stream",
     "text": [
      "\n"
     ]
    },
    {
     "name": "stderr",
     "output_type": "stream",
     "text": [
      "92it [08:09,  5.20s/it] 0.000760, Training: 3.37%,  Loss: 2.98563, ACC: 46.47% "
     ]
    },
    {
     "name": "stdout",
     "output_type": "stream",
     "text": [
      "\n"
     ]
    },
    {
     "name": "stderr",
     "output_type": "stream",
     "text": [
      "93it [08:14,  5.20s/it] 0.000760, Training: 3.41%,  Loss: 2.98558, ACC: 46.49% "
     ]
    },
    {
     "name": "stdout",
     "output_type": "stream",
     "text": [
      "\n"
     ]
    },
    {
     "name": "stderr",
     "output_type": "stream",
     "text": [
      "94it [08:19,  5.22s/it] 0.000760, Training: 3.44%,  Loss: 2.98604, ACC: 46.49% "
     ]
    },
    {
     "name": "stdout",
     "output_type": "stream",
     "text": [
      "\n"
     ]
    },
    {
     "name": "stderr",
     "output_type": "stream",
     "text": [
      "95it [08:25,  5.18s/it] 0.000760, Training: 3.48%,  Loss: 2.98585, ACC: 46.49% "
     ]
    },
    {
     "name": "stdout",
     "output_type": "stream",
     "text": [
      "\n"
     ]
    },
    {
     "name": "stderr",
     "output_type": "stream",
     "text": [
      "96it [08:30,  5.19s/it] 0.000760, Training: 3.52%,  Loss: 2.98612, ACC: 46.48% "
     ]
    },
    {
     "name": "stdout",
     "output_type": "stream",
     "text": [
      "\n"
     ]
    },
    {
     "name": "stderr",
     "output_type": "stream",
     "text": [
      "97it [08:35,  5.21s/it] 0.000760, Training: 3.55%,  Loss: 2.98505, ACC: 46.50% "
     ]
    },
    {
     "name": "stdout",
     "output_type": "stream",
     "text": [
      "\n"
     ]
    },
    {
     "name": "stderr",
     "output_type": "stream",
     "text": [
      "98it [08:40,  5.21s/it] 0.000760, Training: 3.59%,  Loss: 2.98698, ACC: 46.52% "
     ]
    },
    {
     "name": "stdout",
     "output_type": "stream",
     "text": [
      "\n"
     ]
    },
    {
     "name": "stderr",
     "output_type": "stream",
     "text": [
      "99it [08:45,  5.21s/it] 0.000760, Training: 3.63%,  Loss: 2.98486, ACC: 46.55% "
     ]
    },
    {
     "name": "stdout",
     "output_type": "stream",
     "text": [
      "\n"
     ]
    },
    {
     "name": "stderr",
     "output_type": "stream",
     "text": [
      "100it [08:51,  5.23s/it]0.000760, Training: 3.66%,  Loss: 2.98588, ACC: 46.53% "
     ]
    },
    {
     "name": "stdout",
     "output_type": "stream",
     "text": [
      "\n"
     ]
    },
    {
     "name": "stderr",
     "output_type": "stream",
     "text": [
      "101it [08:56,  5.24s/it]0.000760, Training: 3.70%,  Loss: 2.98545, ACC: 46.55% "
     ]
    },
    {
     "name": "stdout",
     "output_type": "stream",
     "text": [
      "\n"
     ]
    },
    {
     "name": "stderr",
     "output_type": "stream",
     "text": [
      "102it [09:01,  5.24s/it]0.000760, Training: 3.74%,  Loss: 2.98415, ACC: 46.56% "
     ]
    },
    {
     "name": "stdout",
     "output_type": "stream",
     "text": [
      "\n"
     ]
    },
    {
     "name": "stderr",
     "output_type": "stream",
     "text": [
      "103it [09:06,  5.17s/it]0.000760, Training: 3.77%,  Loss: 2.98165, ACC: 46.59% "
     ]
    },
    {
     "name": "stdout",
     "output_type": "stream",
     "text": [
      "\n"
     ]
    },
    {
     "name": "stderr",
     "output_type": "stream",
     "text": [
      "104it [09:11,  5.18s/it]0.000760, Training: 3.81%,  Loss: 2.98272, ACC: 46.59% "
     ]
    },
    {
     "name": "stdout",
     "output_type": "stream",
     "text": [
      "\n"
     ]
    },
    {
     "name": "stderr",
     "output_type": "stream",
     "text": [
      "105it [09:17,  5.22s/it]0.000760, Training: 3.85%,  Loss: 2.98207, ACC: 46.61% "
     ]
    },
    {
     "name": "stdout",
     "output_type": "stream",
     "text": [
      "\n"
     ]
    },
    {
     "name": "stderr",
     "output_type": "stream",
     "text": [
      "106it [09:22,  5.28s/it]0.000760, Training: 3.88%,  Loss: 2.98088, ACC: 46.65% "
     ]
    },
    {
     "name": "stdout",
     "output_type": "stream",
     "text": [
      "\n"
     ]
    },
    {
     "name": "stderr",
     "output_type": "stream",
     "text": [
      "107it [09:28,  5.32s/it]0.000760, Training: 3.92%,  Loss: 2.97966, ACC: 46.64% "
     ]
    },
    {
     "name": "stdout",
     "output_type": "stream",
     "text": [
      "\n"
     ]
    },
    {
     "name": "stderr",
     "output_type": "stream",
     "text": [
      "108it [09:33,  5.27s/it]0.000760, Training: 3.96%,  Loss: 2.98084, ACC: 46.64% "
     ]
    },
    {
     "name": "stdout",
     "output_type": "stream",
     "text": [
      "\n"
     ]
    },
    {
     "name": "stderr",
     "output_type": "stream",
     "text": [
      "109it [09:38,  5.31s/it]0.000760, Training: 3.99%,  Loss: 2.98023, ACC: 46.66% "
     ]
    },
    {
     "name": "stdout",
     "output_type": "stream",
     "text": [
      "\n"
     ]
    },
    {
     "name": "stderr",
     "output_type": "stream",
     "text": [
      "110it [09:43,  5.24s/it]0.000760, Training: 4.03%,  Loss: 2.98287, ACC: 46.62% "
     ]
    },
    {
     "name": "stdout",
     "output_type": "stream",
     "text": [
      "\n"
     ]
    },
    {
     "name": "stderr",
     "output_type": "stream",
     "text": [
      "111it [09:48,  5.19s/it]0.000760, Training: 4.07%,  Loss: 2.98271, ACC: 46.63% "
     ]
    },
    {
     "name": "stdout",
     "output_type": "stream",
     "text": [
      "\n"
     ]
    },
    {
     "name": "stderr",
     "output_type": "stream",
     "text": [
      "112it [09:53,  5.18s/it]0.000760, Training: 4.10%,  Loss: 2.98261, ACC: 46.64% "
     ]
    },
    {
     "name": "stdout",
     "output_type": "stream",
     "text": [
      "\n"
     ]
    },
    {
     "name": "stderr",
     "output_type": "stream",
     "text": [
      "113it [09:59,  5.21s/it]0.000760, Training: 4.14%,  Loss: 2.98426, ACC: 46.63% "
     ]
    },
    {
     "name": "stdout",
     "output_type": "stream",
     "text": [
      "\n"
     ]
    },
    {
     "name": "stderr",
     "output_type": "stream",
     "text": [
      "114it [10:04,  5.21s/it]0.000760, Training: 4.18%,  Loss: 2.98578, ACC: 46.60% "
     ]
    },
    {
     "name": "stdout",
     "output_type": "stream",
     "text": [
      "\n"
     ]
    },
    {
     "name": "stderr",
     "output_type": "stream",
     "text": [
      "115it [10:09,  5.19s/it]0.000760, Training: 4.21%,  Loss: 2.98510, ACC: 46.62% "
     ]
    },
    {
     "name": "stdout",
     "output_type": "stream",
     "text": [
      "\n"
     ]
    },
    {
     "name": "stderr",
     "output_type": "stream",
     "text": [
      "116it [10:14,  5.21s/it]0.000760, Training: 4.25%,  Loss: 2.98483, ACC: 46.60% "
     ]
    },
    {
     "name": "stdout",
     "output_type": "stream",
     "text": [
      "\n"
     ]
    },
    {
     "name": "stderr",
     "output_type": "stream",
     "text": [
      "117it [10:20,  5.26s/it]0.000760, Training: 4.29%,  Loss: 2.98593, ACC: 46.61% "
     ]
    },
    {
     "name": "stdout",
     "output_type": "stream",
     "text": [
      "\n"
     ]
    },
    {
     "name": "stderr",
     "output_type": "stream",
     "text": [
      "118it [10:25,  5.22s/it]0.000760, Training: 4.32%,  Loss: 2.98702, ACC: 46.61% "
     ]
    },
    {
     "name": "stdout",
     "output_type": "stream",
     "text": [
      "\n"
     ]
    },
    {
     "name": "stderr",
     "output_type": "stream",
     "text": [
      "119it [10:30,  5.14s/it]0.000760, Training: 4.36%,  Loss: 2.98727, ACC: 46.61% "
     ]
    },
    {
     "name": "stdout",
     "output_type": "stream",
     "text": [
      "\n"
     ]
    },
    {
     "name": "stderr",
     "output_type": "stream",
     "text": [
      "120it [10:35,  5.16s/it]0.000760, Training: 4.40%,  Loss: 2.98637, ACC: 46.63% "
     ]
    },
    {
     "name": "stdout",
     "output_type": "stream",
     "text": [
      "\n"
     ]
    },
    {
     "name": "stderr",
     "output_type": "stream",
     "text": [
      "121it [10:40,  5.17s/it]0.000760, Training: 4.43%,  Loss: 2.98515, ACC: 46.65% "
     ]
    },
    {
     "name": "stdout",
     "output_type": "stream",
     "text": [
      "\n"
     ]
    },
    {
     "name": "stderr",
     "output_type": "stream",
     "text": [
      "122it [10:45,  5.18s/it]0.000760, Training: 4.47%,  Loss: 2.98664, ACC: 46.62% "
     ]
    },
    {
     "name": "stdout",
     "output_type": "stream",
     "text": [
      "\n"
     ]
    },
    {
     "name": "stderr",
     "output_type": "stream",
     "text": [
      "123it [10:51,  5.18s/it]0.000760, Training: 4.51%,  Loss: 2.98843, ACC: 46.60% "
     ]
    },
    {
     "name": "stdout",
     "output_type": "stream",
     "text": [
      "\n"
     ]
    },
    {
     "name": "stderr",
     "output_type": "stream",
     "text": [
      "124it [10:56,  5.19s/it]0.000760, Training: 4.54%,  Loss: 2.98705, ACC: 46.61% "
     ]
    },
    {
     "name": "stdout",
     "output_type": "stream",
     "text": [
      "\n"
     ]
    },
    {
     "name": "stderr",
     "output_type": "stream",
     "text": [
      "125it [11:01,  5.20s/it]0.000760, Training: 4.58%,  Loss: 2.98887, ACC: 46.57% "
     ]
    },
    {
     "name": "stdout",
     "output_type": "stream",
     "text": [
      "\n"
     ]
    },
    {
     "name": "stderr",
     "output_type": "stream",
     "text": [
      "126it [11:06,  5.22s/it]0.000760, Training: 4.62%,  Loss: 2.98821, ACC: 46.56% "
     ]
    },
    {
     "name": "stdout",
     "output_type": "stream",
     "text": [
      "\n"
     ]
    },
    {
     "name": "stderr",
     "output_type": "stream",
     "text": [
      "127it [11:12,  5.24s/it]0.000760, Training: 4.65%,  Loss: 2.98835, ACC: 46.56% "
     ]
    },
    {
     "name": "stdout",
     "output_type": "stream",
     "text": [
      "\n"
     ]
    },
    {
     "name": "stderr",
     "output_type": "stream",
     "text": [
      "128it [11:17,  5.24s/it]0.000760, Training: 4.69%,  Loss: 2.99017, ACC: 46.53% "
     ]
    },
    {
     "name": "stdout",
     "output_type": "stream",
     "text": [
      "\n"
     ]
    },
    {
     "name": "stderr",
     "output_type": "stream",
     "text": [
      "129it [11:22,  5.28s/it]0.000760, Training: 4.73%,  Loss: 2.99137, ACC: 46.52% "
     ]
    },
    {
     "name": "stdout",
     "output_type": "stream",
     "text": [
      "\n"
     ]
    },
    {
     "name": "stderr",
     "output_type": "stream",
     "text": [
      "130it [11:27,  5.25s/it]0.000760, Training: 4.76%,  Loss: 2.99168, ACC: 46.50% "
     ]
    },
    {
     "name": "stdout",
     "output_type": "stream",
     "text": [
      "\n"
     ]
    },
    {
     "name": "stderr",
     "output_type": "stream",
     "text": [
      "131it [11:33,  5.25s/it]0.000760, Training: 4.80%,  Loss: 2.99186, ACC: 46.50% "
     ]
    },
    {
     "name": "stdout",
     "output_type": "stream",
     "text": [
      "\n"
     ]
    },
    {
     "name": "stderr",
     "output_type": "stream",
     "text": [
      "132it [11:38,  5.20s/it]0.000760, Training: 4.84%,  Loss: 2.99056, ACC: 46.50% "
     ]
    },
    {
     "name": "stdout",
     "output_type": "stream",
     "text": [
      "\n"
     ]
    },
    {
     "name": "stderr",
     "output_type": "stream",
     "text": [
      "133it [11:43,  5.18s/it]0.000760, Training: 4.87%,  Loss: 2.99003, ACC: 46.52% "
     ]
    },
    {
     "name": "stdout",
     "output_type": "stream",
     "text": [
      "\n"
     ]
    },
    {
     "name": "stderr",
     "output_type": "stream",
     "text": [
      "134it [11:48,  5.19s/it]0.000760, Training: 4.91%,  Loss: 2.98974, ACC: 46.53% "
     ]
    },
    {
     "name": "stdout",
     "output_type": "stream",
     "text": [
      "\n"
     ]
    },
    {
     "name": "stderr",
     "output_type": "stream",
     "text": [
      "135it [11:53,  5.20s/it]0.000760, Training: 4.95%,  Loss: 2.99116, ACC: 46.55% "
     ]
    },
    {
     "name": "stdout",
     "output_type": "stream",
     "text": [
      "\n"
     ]
    },
    {
     "name": "stderr",
     "output_type": "stream",
     "text": [
      "136it [11:58,  5.20s/it]0.000760, Training: 4.98%,  Loss: 2.99025, ACC: 46.58% "
     ]
    },
    {
     "name": "stdout",
     "output_type": "stream",
     "text": [
      "\n"
     ]
    },
    {
     "name": "stderr",
     "output_type": "stream",
     "text": [
      "137it [12:04,  5.23s/it]0.000760, Training: 5.02%,  Loss: 2.99181, ACC: 46.58% "
     ]
    },
    {
     "name": "stdout",
     "output_type": "stream",
     "text": [
      "\n"
     ]
    },
    {
     "name": "stderr",
     "output_type": "stream",
     "text": [
      "138it [12:09,  5.21s/it]0.000760, Training: 5.05%,  Loss: 2.99069, ACC: 46.59% "
     ]
    },
    {
     "name": "stdout",
     "output_type": "stream",
     "text": [
      "\n"
     ]
    },
    {
     "name": "stderr",
     "output_type": "stream",
     "text": [
      "139it [12:14,  5.21s/it]0.000760, Training: 5.09%,  Loss: 2.99045, ACC: 46.57% "
     ]
    },
    {
     "name": "stdout",
     "output_type": "stream",
     "text": [
      "\n"
     ]
    },
    {
     "name": "stderr",
     "output_type": "stream",
     "text": [
      "140it [12:19,  5.20s/it]0.000760, Training: 5.13%,  Loss: 2.98952, ACC: 46.58% "
     ]
    },
    {
     "name": "stdout",
     "output_type": "stream",
     "text": [
      "\n"
     ]
    },
    {
     "name": "stderr",
     "output_type": "stream",
     "text": [
      "141it [12:24,  5.17s/it]0.000760, Training: 5.16%,  Loss: 2.98955, ACC: 46.59% "
     ]
    },
    {
     "name": "stdout",
     "output_type": "stream",
     "text": [
      "\n"
     ]
    },
    {
     "name": "stderr",
     "output_type": "stream",
     "text": [
      "142it [12:30,  5.24s/it]0.000760, Training: 5.20%,  Loss: 2.98867, ACC: 46.59% "
     ]
    },
    {
     "name": "stdout",
     "output_type": "stream",
     "text": [
      "\n"
     ]
    },
    {
     "name": "stderr",
     "output_type": "stream",
     "text": [
      "143it [12:35,  5.26s/it]0.000760, Training: 5.24%,  Loss: 2.98870, ACC: 46.59% "
     ]
    },
    {
     "name": "stdout",
     "output_type": "stream",
     "text": [
      "\n"
     ]
    },
    {
     "name": "stderr",
     "output_type": "stream",
     "text": [
      "144it [12:40,  5.26s/it]0.000760, Training: 5.27%,  Loss: 2.98936, ACC: 46.57% "
     ]
    },
    {
     "name": "stdout",
     "output_type": "stream",
     "text": [
      "\n"
     ]
    },
    {
     "name": "stderr",
     "output_type": "stream",
     "text": [
      "145it [12:46,  5.24s/it]0.000760, Training: 5.31%,  Loss: 2.98952, ACC: 46.58% "
     ]
    },
    {
     "name": "stdout",
     "output_type": "stream",
     "text": [
      "\n"
     ]
    },
    {
     "name": "stderr",
     "output_type": "stream",
     "text": [
      "146it [12:51,  5.20s/it]0.000760, Training: 5.35%,  Loss: 2.98870, ACC: 46.61% "
     ]
    },
    {
     "name": "stdout",
     "output_type": "stream",
     "text": [
      "\n"
     ]
    },
    {
     "name": "stderr",
     "output_type": "stream",
     "text": [
      "147it [12:56,  5.19s/it]0.000760, Training: 5.38%,  Loss: 2.98700, ACC: 46.64% "
     ]
    },
    {
     "name": "stdout",
     "output_type": "stream",
     "text": [
      "\n"
     ]
    },
    {
     "name": "stderr",
     "output_type": "stream",
     "text": [
      "148it [13:01,  5.13s/it]0.000760, Training: 5.42%,  Loss: 2.98858, ACC: 46.64% "
     ]
    },
    {
     "name": "stdout",
     "output_type": "stream",
     "text": [
      "\n"
     ]
    },
    {
     "name": "stderr",
     "output_type": "stream",
     "text": [
      "149it [13:06,  5.14s/it]0.000760, Training: 5.46%,  Loss: 2.98852, ACC: 46.64% "
     ]
    },
    {
     "name": "stdout",
     "output_type": "stream",
     "text": [
      "\n"
     ]
    },
    {
     "name": "stderr",
     "output_type": "stream",
     "text": [
      "150it [13:11,  5.13s/it]0.000760, Training: 5.49%,  Loss: 2.98979, ACC: 46.62% "
     ]
    },
    {
     "name": "stdout",
     "output_type": "stream",
     "text": [
      "\n"
     ]
    },
    {
     "name": "stderr",
     "output_type": "stream",
     "text": [
      "151it [13:16,  5.15s/it]0.000760, Training: 5.53%,  Loss: 2.99208, ACC: 46.59% "
     ]
    },
    {
     "name": "stdout",
     "output_type": "stream",
     "text": [
      "\n"
     ]
    },
    {
     "name": "stderr",
     "output_type": "stream",
     "text": [
      "152it [13:21,  5.16s/it]0.000760, Training: 5.57%,  Loss: 2.99106, ACC: 46.60% "
     ]
    },
    {
     "name": "stdout",
     "output_type": "stream",
     "text": [
      "\n"
     ]
    },
    {
     "name": "stderr",
     "output_type": "stream",
     "text": [
      "153it [13:27,  5.16s/it]0.000760, Training: 5.60%,  Loss: 2.98991, ACC: 46.61% "
     ]
    },
    {
     "name": "stdout",
     "output_type": "stream",
     "text": [
      "\n"
     ]
    },
    {
     "name": "stderr",
     "output_type": "stream",
     "text": [
      "154it [13:32,  5.13s/it]0.000760, Training: 5.64%,  Loss: 2.98982, ACC: 46.63% "
     ]
    },
    {
     "name": "stdout",
     "output_type": "stream",
     "text": [
      "\n"
     ]
    },
    {
     "name": "stderr",
     "output_type": "stream",
     "text": [
      "155it [13:37,  5.19s/it]0.000760, Training: 5.68%,  Loss: 2.99169, ACC: 46.63% "
     ]
    },
    {
     "name": "stdout",
     "output_type": "stream",
     "text": [
      "\n"
     ]
    },
    {
     "name": "stderr",
     "output_type": "stream",
     "text": [
      "156it [13:42,  5.19s/it]0.000760, Training: 5.71%,  Loss: 2.99217, ACC: 46.63% "
     ]
    },
    {
     "name": "stdout",
     "output_type": "stream",
     "text": [
      "\n"
     ]
    },
    {
     "name": "stderr",
     "output_type": "stream",
     "text": [
      "157it [13:47,  5.21s/it]0.000760, Training: 5.75%,  Loss: 2.99225, ACC: 46.62% "
     ]
    },
    {
     "name": "stdout",
     "output_type": "stream",
     "text": [
      "\n"
     ]
    },
    {
     "name": "stderr",
     "output_type": "stream",
     "text": [
      "158it [13:53,  5.22s/it]0.000760, Training: 5.79%,  Loss: 2.99291, ACC: 46.62% "
     ]
    },
    {
     "name": "stdout",
     "output_type": "stream",
     "text": [
      "\n"
     ]
    },
    {
     "name": "stderr",
     "output_type": "stream",
     "text": [
      "159it [13:58,  5.16s/it]0.000760, Training: 5.82%,  Loss: 2.99123, ACC: 46.63% "
     ]
    },
    {
     "name": "stdout",
     "output_type": "stream",
     "text": [
      "\n"
     ]
    },
    {
     "name": "stderr",
     "output_type": "stream",
     "text": [
      "160it [14:03,  5.16s/it]0.000760, Training: 5.86%,  Loss: 2.99021, ACC: 46.64% "
     ]
    },
    {
     "name": "stdout",
     "output_type": "stream",
     "text": [
      "\n"
     ]
    },
    {
     "name": "stderr",
     "output_type": "stream",
     "text": [
      "161it [14:08,  5.14s/it]0.000760, Training: 5.90%,  Loss: 2.98887, ACC: 46.66% "
     ]
    },
    {
     "name": "stdout",
     "output_type": "stream",
     "text": [
      "\n"
     ]
    },
    {
     "name": "stderr",
     "output_type": "stream",
     "text": [
      "162it [14:13,  5.11s/it]0.000760, Training: 5.93%,  Loss: 2.98975, ACC: 46.65% "
     ]
    },
    {
     "name": "stdout",
     "output_type": "stream",
     "text": [
      "\n"
     ]
    },
    {
     "name": "stderr",
     "output_type": "stream",
     "text": [
      "163it [14:18,  5.13s/it]0.000760, Training: 5.97%,  Loss: 2.99171, ACC: 46.62% "
     ]
    },
    {
     "name": "stdout",
     "output_type": "stream",
     "text": [
      "\n"
     ]
    },
    {
     "name": "stderr",
     "output_type": "stream",
     "text": [
      "164it [14:23,  5.10s/it]0.000760, Training: 6.01%,  Loss: 2.99226, ACC: 46.61% "
     ]
    },
    {
     "name": "stdout",
     "output_type": "stream",
     "text": [
      "\n"
     ]
    },
    {
     "name": "stderr",
     "output_type": "stream",
     "text": [
      "165it [14:28,  5.08s/it]0.000760, Training: 6.04%,  Loss: 2.99196, ACC: 46.61% "
     ]
    },
    {
     "name": "stdout",
     "output_type": "stream",
     "text": [
      "\n"
     ]
    },
    {
     "name": "stderr",
     "output_type": "stream",
     "text": [
      "166it [14:33,  5.10s/it]0.000760, Training: 6.08%,  Loss: 2.99142, ACC: 46.62% "
     ]
    },
    {
     "name": "stdout",
     "output_type": "stream",
     "text": [
      "\n"
     ]
    },
    {
     "name": "stderr",
     "output_type": "stream",
     "text": [
      "167it [14:38,  5.10s/it]0.000760, Training: 6.12%,  Loss: 2.99127, ACC: 46.61% "
     ]
    },
    {
     "name": "stdout",
     "output_type": "stream",
     "text": [
      "\n"
     ]
    },
    {
     "name": "stderr",
     "output_type": "stream",
     "text": [
      "168it [14:44,  5.14s/it]0.000760, Training: 6.15%,  Loss: 2.99129, ACC: 46.61% "
     ]
    },
    {
     "name": "stdout",
     "output_type": "stream",
     "text": [
      "\n"
     ]
    },
    {
     "name": "stderr",
     "output_type": "stream",
     "text": [
      "169it [14:49,  5.10s/it]0.000760, Training: 6.19%,  Loss: 2.99152, ACC: 46.63% "
     ]
    },
    {
     "name": "stdout",
     "output_type": "stream",
     "text": [
      "\n"
     ]
    },
    {
     "name": "stderr",
     "output_type": "stream",
     "text": [
      "170it [14:54,  5.16s/it]0.000760, Training: 6.23%,  Loss: 2.99205, ACC: 46.64% "
     ]
    },
    {
     "name": "stdout",
     "output_type": "stream",
     "text": [
      "\n"
     ]
    },
    {
     "name": "stderr",
     "output_type": "stream",
     "text": [
      "171it [14:59,  5.14s/it]0.000760, Training: 6.26%,  Loss: 2.99231, ACC: 46.62% "
     ]
    },
    {
     "name": "stdout",
     "output_type": "stream",
     "text": [
      "\n"
     ]
    },
    {
     "name": "stderr",
     "output_type": "stream",
     "text": [
      "172it [15:04,  5.14s/it]0.000760, Training: 6.30%,  Loss: 2.99264, ACC: 46.61% "
     ]
    },
    {
     "name": "stdout",
     "output_type": "stream",
     "text": [
      "\n"
     ]
    },
    {
     "name": "stderr",
     "output_type": "stream",
     "text": [
      "173it [15:09,  5.18s/it]0.000760, Training: 6.34%,  Loss: 2.99330, ACC: 46.60% "
     ]
    },
    {
     "name": "stdout",
     "output_type": "stream",
     "text": [
      "\n"
     ]
    },
    {
     "name": "stderr",
     "output_type": "stream",
     "text": [
      "174it [15:15,  5.19s/it]0.000760, Training: 6.37%,  Loss: 2.99518, ACC: 46.57% "
     ]
    },
    {
     "name": "stdout",
     "output_type": "stream",
     "text": [
      "\n"
     ]
    },
    {
     "name": "stderr",
     "output_type": "stream",
     "text": [
      "175it [15:20,  5.16s/it]0.000760, Training: 6.41%,  Loss: 2.99467, ACC: 46.60% "
     ]
    },
    {
     "name": "stdout",
     "output_type": "stream",
     "text": [
      "\n"
     ]
    },
    {
     "name": "stderr",
     "output_type": "stream",
     "text": [
      "176it [15:25,  5.17s/it]0.000760, Training: 6.45%,  Loss: 2.99366, ACC: 46.60% "
     ]
    },
    {
     "name": "stdout",
     "output_type": "stream",
     "text": [
      "\n"
     ]
    },
    {
     "name": "stderr",
     "output_type": "stream",
     "text": [
      "177it [15:30,  5.15s/it]0.000760, Training: 6.48%,  Loss: 2.99500, ACC: 46.59% "
     ]
    },
    {
     "name": "stdout",
     "output_type": "stream",
     "text": [
      "\n"
     ]
    },
    {
     "name": "stderr",
     "output_type": "stream",
     "text": [
      "178it [15:35,  5.12s/it]0.000760, Training: 6.52%,  Loss: 2.99427, ACC: 46.60% "
     ]
    },
    {
     "name": "stdout",
     "output_type": "stream",
     "text": [
      "\n"
     ]
    },
    {
     "name": "stderr",
     "output_type": "stream",
     "text": [
      "179it [15:40,  5.17s/it]0.000760, Training: 6.56%,  Loss: 2.99433, ACC: 46.60% "
     ]
    },
    {
     "name": "stdout",
     "output_type": "stream",
     "text": [
      "\n"
     ]
    },
    {
     "name": "stderr",
     "output_type": "stream",
     "text": [
      "180it [15:45,  5.11s/it]0.000760, Training: 6.59%,  Loss: 2.99320, ACC: 46.62% "
     ]
    },
    {
     "name": "stdout",
     "output_type": "stream",
     "text": [
      "\n"
     ]
    },
    {
     "name": "stderr",
     "output_type": "stream",
     "text": [
      "181it [15:50,  5.10s/it]0.000760, Training: 6.63%,  Loss: 2.99282, ACC: 46.62% "
     ]
    },
    {
     "name": "stdout",
     "output_type": "stream",
     "text": [
      "\n"
     ]
    },
    {
     "name": "stderr",
     "output_type": "stream",
     "text": [
      "182it [15:55,  5.03s/it]0.000760, Training: 6.67%,  Loss: 2.99270, ACC: 46.63% "
     ]
    },
    {
     "name": "stdout",
     "output_type": "stream",
     "text": [
      "\n"
     ]
    },
    {
     "name": "stderr",
     "output_type": "stream",
     "text": [
      "183it [16:01,  5.09s/it]0.000760, Training: 6.70%,  Loss: 2.99359, ACC: 46.62% "
     ]
    },
    {
     "name": "stdout",
     "output_type": "stream",
     "text": [
      "\n"
     ]
    },
    {
     "name": "stderr",
     "output_type": "stream",
     "text": [
      "184it [16:06,  5.11s/it]0.000760, Training: 6.74%,  Loss: 2.99453, ACC: 46.62% "
     ]
    },
    {
     "name": "stdout",
     "output_type": "stream",
     "text": [
      "\n"
     ]
    },
    {
     "name": "stderr",
     "output_type": "stream",
     "text": [
      "185it [16:11,  5.12s/it]0.000760, Training: 6.78%,  Loss: 2.99522, ACC: 46.61% "
     ]
    },
    {
     "name": "stdout",
     "output_type": "stream",
     "text": [
      "\n"
     ]
    },
    {
     "name": "stderr",
     "output_type": "stream",
     "text": [
      "186it [16:16,  5.15s/it]0.000760, Training: 6.81%,  Loss: 2.99541, ACC: 46.60% "
     ]
    },
    {
     "name": "stdout",
     "output_type": "stream",
     "text": [
      "\n"
     ]
    },
    {
     "name": "stderr",
     "output_type": "stream",
     "text": [
      "187it [16:21,  5.15s/it]0.000760, Training: 6.85%,  Loss: 2.99369, ACC: 46.61% "
     ]
    },
    {
     "name": "stdout",
     "output_type": "stream",
     "text": [
      "\n"
     ]
    },
    {
     "name": "stderr",
     "output_type": "stream",
     "text": [
      "188it [16:26,  5.16s/it]0.000760, Training: 6.89%,  Loss: 2.99376, ACC: 46.63% "
     ]
    },
    {
     "name": "stdout",
     "output_type": "stream",
     "text": [
      "\n"
     ]
    },
    {
     "name": "stderr",
     "output_type": "stream",
     "text": [
      "189it [16:32,  5.17s/it]0.000760, Training: 6.92%,  Loss: 2.99292, ACC: 46.65% "
     ]
    },
    {
     "name": "stdout",
     "output_type": "stream",
     "text": [
      "\n"
     ]
    },
    {
     "name": "stderr",
     "output_type": "stream",
     "text": [
      "190it [16:37,  5.16s/it]0.000760, Training: 6.96%,  Loss: 2.99406, ACC: 46.64% "
     ]
    },
    {
     "name": "stdout",
     "output_type": "stream",
     "text": [
      "\n"
     ]
    },
    {
     "name": "stderr",
     "output_type": "stream",
     "text": [
      "191it [16:42,  5.13s/it]0.000760, Training: 7.00%,  Loss: 2.99477, ACC: 46.63% "
     ]
    },
    {
     "name": "stdout",
     "output_type": "stream",
     "text": [
      "\n"
     ]
    },
    {
     "name": "stderr",
     "output_type": "stream",
     "text": [
      "192it [16:47,  5.13s/it]0.000760, Training: 7.03%,  Loss: 2.99471, ACC: 46.64% "
     ]
    },
    {
     "name": "stdout",
     "output_type": "stream",
     "text": [
      "\n"
     ]
    },
    {
     "name": "stderr",
     "output_type": "stream",
     "text": [
      "193it [16:52,  5.13s/it]0.000760, Training: 7.07%,  Loss: 2.99336, ACC: 46.66% "
     ]
    },
    {
     "name": "stdout",
     "output_type": "stream",
     "text": [
      "\n"
     ]
    },
    {
     "name": "stderr",
     "output_type": "stream",
     "text": [
      "194it [16:57,  5.11s/it]0.000760, Training: 7.11%,  Loss: 2.99417, ACC: 46.66% "
     ]
    },
    {
     "name": "stdout",
     "output_type": "stream",
     "text": [
      "\n"
     ]
    },
    {
     "name": "stderr",
     "output_type": "stream",
     "text": [
      "195it [17:02,  5.11s/it]0.000760, Training: 7.14%,  Loss: 2.99483, ACC: 46.65% "
     ]
    },
    {
     "name": "stdout",
     "output_type": "stream",
     "text": [
      "\n"
     ]
    },
    {
     "name": "stderr",
     "output_type": "stream",
     "text": [
      "196it [17:07,  5.13s/it]0.000760, Training: 7.18%,  Loss: 2.99625, ACC: 46.65% "
     ]
    },
    {
     "name": "stdout",
     "output_type": "stream",
     "text": [
      "\n"
     ]
    },
    {
     "name": "stderr",
     "output_type": "stream",
     "text": [
      "197it [17:13,  5.12s/it]0.000760, Training: 7.22%,  Loss: 2.99620, ACC: 46.66% "
     ]
    },
    {
     "name": "stdout",
     "output_type": "stream",
     "text": [
      "\n"
     ]
    },
    {
     "name": "stderr",
     "output_type": "stream",
     "text": [
      "198it [17:17,  5.06s/it]0.000760, Training: 7.25%,  Loss: 2.99458, ACC: 46.68% "
     ]
    },
    {
     "name": "stdout",
     "output_type": "stream",
     "text": [
      "\n"
     ]
    },
    {
     "name": "stderr",
     "output_type": "stream",
     "text": [
      "199it [17:23,  5.09s/it]0.000760, Training: 7.29%,  Loss: 2.99551, ACC: 46.66% "
     ]
    },
    {
     "name": "stdout",
     "output_type": "stream",
     "text": [
      "\n"
     ]
    },
    {
     "name": "stderr",
     "output_type": "stream",
     "text": [
      "200it [17:28,  5.06s/it]0.000760, Training: 7.33%,  Loss: 2.99497, ACC: 46.68% "
     ]
    },
    {
     "name": "stdout",
     "output_type": "stream",
     "text": [
      "\n"
     ]
    },
    {
     "name": "stderr",
     "output_type": "stream",
     "text": [
      "201it [17:33,  5.07s/it]0.000760, Training: 7.36%,  Loss: 2.99473, ACC: 46.68% "
     ]
    },
    {
     "name": "stdout",
     "output_type": "stream",
     "text": [
      "\n"
     ]
    },
    {
     "name": "stderr",
     "output_type": "stream",
     "text": [
      "202it [17:38,  5.12s/it]0.000760, Training: 7.40%,  Loss: 2.99507, ACC: 46.70% "
     ]
    },
    {
     "name": "stdout",
     "output_type": "stream",
     "text": [
      "\n"
     ]
    },
    {
     "name": "stderr",
     "output_type": "stream",
     "text": [
      "203it [17:43,  5.11s/it]0.000760, Training: 7.44%,  Loss: 2.99530, ACC: 46.69% "
     ]
    },
    {
     "name": "stdout",
     "output_type": "stream",
     "text": [
      "\n"
     ]
    },
    {
     "name": "stderr",
     "output_type": "stream",
     "text": [
      "204it [17:48,  5.11s/it]0.000760, Training: 7.47%,  Loss: 2.99709, ACC: 46.67% "
     ]
    },
    {
     "name": "stdout",
     "output_type": "stream",
     "text": [
      "\n"
     ]
    },
    {
     "name": "stderr",
     "output_type": "stream",
     "text": [
      "205it [17:53,  5.09s/it]0.000760, Training: 7.51%,  Loss: 2.99689, ACC: 46.67% "
     ]
    },
    {
     "name": "stdout",
     "output_type": "stream",
     "text": [
      "\n"
     ]
    },
    {
     "name": "stderr",
     "output_type": "stream",
     "text": [
      "206it [17:58,  5.11s/it]0.000760, Training: 7.55%,  Loss: 2.99646, ACC: 46.66% "
     ]
    },
    {
     "name": "stdout",
     "output_type": "stream",
     "text": [
      "\n"
     ]
    },
    {
     "name": "stderr",
     "output_type": "stream",
     "text": [
      "207it [18:03,  5.10s/it]0.000760, Training: 7.58%,  Loss: 2.99694, ACC: 46.66% "
     ]
    },
    {
     "name": "stdout",
     "output_type": "stream",
     "text": [
      "\n"
     ]
    },
    {
     "name": "stderr",
     "output_type": "stream",
     "text": [
      "208it [18:09,  5.12s/it]0.000760, Training: 7.62%,  Loss: 2.99713, ACC: 46.65% "
     ]
    },
    {
     "name": "stdout",
     "output_type": "stream",
     "text": [
      "\n"
     ]
    },
    {
     "name": "stderr",
     "output_type": "stream",
     "text": [
      "209it [18:14,  5.11s/it]0.000760, Training: 7.66%,  Loss: 2.99714, ACC: 46.65% "
     ]
    },
    {
     "name": "stdout",
     "output_type": "stream",
     "text": [
      "\n"
     ]
    },
    {
     "name": "stderr",
     "output_type": "stream",
     "text": [
      "210it [18:19,  5.10s/it]0.000760, Training: 7.69%,  Loss: 2.99731, ACC: 46.66% "
     ]
    },
    {
     "name": "stdout",
     "output_type": "stream",
     "text": [
      "\n"
     ]
    },
    {
     "name": "stderr",
     "output_type": "stream",
     "text": [
      "211it [18:24,  5.10s/it]0.000760, Training: 7.73%,  Loss: 2.99744, ACC: 46.66% "
     ]
    },
    {
     "name": "stdout",
     "output_type": "stream",
     "text": [
      "\n"
     ]
    },
    {
     "name": "stderr",
     "output_type": "stream",
     "text": [
      "212it [18:29,  5.11s/it]0.000760, Training: 7.77%,  Loss: 2.99890, ACC: 46.66% "
     ]
    },
    {
     "name": "stdout",
     "output_type": "stream",
     "text": [
      "\n"
     ]
    },
    {
     "name": "stderr",
     "output_type": "stream",
     "text": [
      "213it [18:34,  5.12s/it]0.000760, Training: 7.80%,  Loss: 2.99874, ACC: 46.65% "
     ]
    },
    {
     "name": "stdout",
     "output_type": "stream",
     "text": [
      "\n"
     ]
    },
    {
     "name": "stderr",
     "output_type": "stream",
     "text": [
      "214it [18:39,  5.09s/it]0.000760, Training: 7.84%,  Loss: 2.99851, ACC: 46.65% "
     ]
    },
    {
     "name": "stdout",
     "output_type": "stream",
     "text": [
      "\n"
     ]
    },
    {
     "name": "stderr",
     "output_type": "stream",
     "text": [
      "215it [18:44,  5.11s/it]0.000760, Training: 7.88%,  Loss: 2.99884, ACC: 46.65% "
     ]
    },
    {
     "name": "stdout",
     "output_type": "stream",
     "text": [
      "\n"
     ]
    },
    {
     "name": "stderr",
     "output_type": "stream",
     "text": [
      "216it [18:49,  5.13s/it]0.000760, Training: 7.91%,  Loss: 2.99804, ACC: 46.66% "
     ]
    },
    {
     "name": "stdout",
     "output_type": "stream",
     "text": [
      "\n"
     ]
    },
    {
     "name": "stderr",
     "output_type": "stream",
     "text": [
      "217it [18:55,  5.11s/it]0.000760, Training: 7.95%,  Loss: 2.99754, ACC: 46.67% "
     ]
    },
    {
     "name": "stdout",
     "output_type": "stream",
     "text": [
      "\n"
     ]
    },
    {
     "name": "stderr",
     "output_type": "stream",
     "text": [
      "218it [19:00,  5.17s/it]0.000760, Training: 7.99%,  Loss: 2.99732, ACC: 46.66% "
     ]
    },
    {
     "name": "stdout",
     "output_type": "stream",
     "text": [
      "\n"
     ]
    },
    {
     "name": "stderr",
     "output_type": "stream",
     "text": [
      "219it [19:05,  5.14s/it]0.000760, Training: 8.02%,  Loss: 2.99738, ACC: 46.67% "
     ]
    },
    {
     "name": "stdout",
     "output_type": "stream",
     "text": [
      "\n"
     ]
    },
    {
     "name": "stderr",
     "output_type": "stream",
     "text": [
      "220it [19:10,  5.12s/it]0.000760, Training: 8.06%,  Loss: 2.99861, ACC: 46.67% "
     ]
    },
    {
     "name": "stdout",
     "output_type": "stream",
     "text": [
      "\n"
     ]
    },
    {
     "name": "stderr",
     "output_type": "stream",
     "text": [
      "221it [19:15,  5.14s/it]0.000760, Training: 8.10%,  Loss: 2.99859, ACC: 46.67% "
     ]
    },
    {
     "name": "stdout",
     "output_type": "stream",
     "text": [
      "\n"
     ]
    },
    {
     "name": "stderr",
     "output_type": "stream",
     "text": [
      "222it [19:20,  5.14s/it]0.000760, Training: 8.13%,  Loss: 2.99815, ACC: 46.67% "
     ]
    },
    {
     "name": "stdout",
     "output_type": "stream",
     "text": [
      "\n"
     ]
    },
    {
     "name": "stderr",
     "output_type": "stream",
     "text": [
      "223it [19:25,  5.12s/it]0.000760, Training: 8.17%,  Loss: 2.99787, ACC: 46.66% "
     ]
    },
    {
     "name": "stdout",
     "output_type": "stream",
     "text": [
      "\n"
     ]
    },
    {
     "name": "stderr",
     "output_type": "stream",
     "text": [
      "224it [19:31,  5.21s/it]0.000760, Training: 8.21%,  Loss: 2.99888, ACC: 46.66% "
     ]
    },
    {
     "name": "stdout",
     "output_type": "stream",
     "text": [
      "\n"
     ]
    },
    {
     "name": "stderr",
     "output_type": "stream",
     "text": [
      "225it [19:36,  5.26s/it]0.000760, Training: 8.24%,  Loss: 2.99815, ACC: 46.68% "
     ]
    },
    {
     "name": "stdout",
     "output_type": "stream",
     "text": [
      "\n"
     ]
    },
    {
     "name": "stderr",
     "output_type": "stream",
     "text": [
      "226it [19:42,  5.28s/it]0.000760, Training: 8.28%,  Loss: 2.99899, ACC: 46.68% "
     ]
    },
    {
     "name": "stdout",
     "output_type": "stream",
     "text": [
      "\n"
     ]
    },
    {
     "name": "stderr",
     "output_type": "stream",
     "text": [
      "227it [19:47,  5.40s/it]0.000760, Training: 8.32%,  Loss: 2.99817, ACC: 46.68% "
     ]
    },
    {
     "name": "stdout",
     "output_type": "stream",
     "text": [
      "\n"
     ]
    },
    {
     "name": "stderr",
     "output_type": "stream",
     "text": [
      "228it [19:52,  5.35s/it]0.000760, Training: 8.35%,  Loss: 2.99788, ACC: 46.68% "
     ]
    },
    {
     "name": "stdout",
     "output_type": "stream",
     "text": [
      "\n"
     ]
    },
    {
     "name": "stderr",
     "output_type": "stream",
     "text": [
      "229it [19:58,  5.35s/it]0.000760, Training: 8.39%,  Loss: 2.99812, ACC: 46.67% "
     ]
    },
    {
     "name": "stdout",
     "output_type": "stream",
     "text": [
      "\n"
     ]
    },
    {
     "name": "stderr",
     "output_type": "stream",
     "text": [
      "230it [20:03,  5.31s/it]0.000760, Training: 8.42%,  Loss: 2.99863, ACC: 46.67% "
     ]
    },
    {
     "name": "stdout",
     "output_type": "stream",
     "text": [
      "\n"
     ]
    },
    {
     "name": "stderr",
     "output_type": "stream",
     "text": [
      "231it [20:08,  5.33s/it]0.000760, Training: 8.46%,  Loss: 2.99782, ACC: 46.68% "
     ]
    },
    {
     "name": "stdout",
     "output_type": "stream",
     "text": [
      "\n"
     ]
    },
    {
     "name": "stderr",
     "output_type": "stream",
     "text": [
      "232it [20:14,  5.30s/it]0.000760, Training: 8.50%,  Loss: 2.99865, ACC: 46.67% "
     ]
    },
    {
     "name": "stdout",
     "output_type": "stream",
     "text": [
      "\n"
     ]
    },
    {
     "name": "stderr",
     "output_type": "stream",
     "text": [
      "233it [20:19,  5.28s/it]0.000760, Training: 8.53%,  Loss: 2.99977, ACC: 46.65% "
     ]
    },
    {
     "name": "stdout",
     "output_type": "stream",
     "text": [
      "\n"
     ]
    },
    {
     "name": "stderr",
     "output_type": "stream",
     "text": [
      "234it [20:24,  5.31s/it]0.000760, Training: 8.57%,  Loss: 2.99909, ACC: 46.66% "
     ]
    },
    {
     "name": "stdout",
     "output_type": "stream",
     "text": [
      "\n"
     ]
    },
    {
     "name": "stderr",
     "output_type": "stream",
     "text": [
      "235it [20:30,  5.31s/it]0.000760, Training: 8.61%,  Loss: 2.99949, ACC: 46.66% "
     ]
    },
    {
     "name": "stdout",
     "output_type": "stream",
     "text": [
      "\n"
     ]
    },
    {
     "name": "stderr",
     "output_type": "stream",
     "text": [
      "236it [20:35,  5.31s/it]0.000760, Training: 8.64%,  Loss: 2.99988, ACC: 46.66% "
     ]
    },
    {
     "name": "stdout",
     "output_type": "stream",
     "text": [
      "\n"
     ]
    },
    {
     "name": "stderr",
     "output_type": "stream",
     "text": [
      "237it [20:40,  5.35s/it]0.000760, Training: 8.68%,  Loss: 2.99786, ACC: 46.69% "
     ]
    },
    {
     "name": "stdout",
     "output_type": "stream",
     "text": [
      "\n"
     ]
    },
    {
     "name": "stderr",
     "output_type": "stream",
     "text": [
      "238it [20:46,  5.40s/it]0.000760, Training: 8.72%,  Loss: 2.99726, ACC: 46.71% "
     ]
    },
    {
     "name": "stdout",
     "output_type": "stream",
     "text": [
      "\n"
     ]
    },
    {
     "name": "stderr",
     "output_type": "stream",
     "text": [
      "239it [20:51,  5.40s/it]0.000760, Training: 8.75%,  Loss: 2.99783, ACC: 46.70% "
     ]
    },
    {
     "name": "stdout",
     "output_type": "stream",
     "text": [
      "\n"
     ]
    },
    {
     "name": "stderr",
     "output_type": "stream",
     "text": [
      "240it [20:57,  5.40s/it]0.000760, Training: 8.79%,  Loss: 2.99603, ACC: 46.72% "
     ]
    },
    {
     "name": "stdout",
     "output_type": "stream",
     "text": [
      "\n"
     ]
    },
    {
     "name": "stderr",
     "output_type": "stream",
     "text": [
      "241it [21:02,  5.47s/it]0.000760, Training: 8.83%,  Loss: 2.99665, ACC: 46.70% "
     ]
    },
    {
     "name": "stdout",
     "output_type": "stream",
     "text": [
      "\n"
     ]
    },
    {
     "name": "stderr",
     "output_type": "stream",
     "text": [
      "242it [21:08,  5.53s/it]0.000760, Training: 8.86%,  Loss: 2.99596, ACC: 46.69% "
     ]
    },
    {
     "name": "stdout",
     "output_type": "stream",
     "text": [
      "\n"
     ]
    },
    {
     "name": "stderr",
     "output_type": "stream",
     "text": [
      "243it [21:13,  5.54s/it]0.000760, Training: 8.90%,  Loss: 2.99641, ACC: 46.71% "
     ]
    },
    {
     "name": "stdout",
     "output_type": "stream",
     "text": [
      "\n"
     ]
    },
    {
     "name": "stderr",
     "output_type": "stream",
     "text": [
      "244it [21:19,  5.56s/it]0.000760, Training: 8.94%,  Loss: 2.99703, ACC: 46.69% "
     ]
    },
    {
     "name": "stdout",
     "output_type": "stream",
     "text": [
      "\n"
     ]
    },
    {
     "name": "stderr",
     "output_type": "stream",
     "text": [
      "245it [21:24,  5.48s/it]0.000760, Training: 8.97%,  Loss: 2.99690, ACC: 46.72% "
     ]
    },
    {
     "name": "stdout",
     "output_type": "stream",
     "text": [
      "\n"
     ]
    },
    {
     "name": "stderr",
     "output_type": "stream",
     "text": [
      "246it [21:30,  5.51s/it]0.000760, Training: 9.01%,  Loss: 2.99748, ACC: 46.71% "
     ]
    },
    {
     "name": "stdout",
     "output_type": "stream",
     "text": [
      "\n"
     ]
    },
    {
     "name": "stderr",
     "output_type": "stream",
     "text": [
      "247it [21:36,  5.57s/it]0.000760, Training: 9.05%,  Loss: 2.99772, ACC: 46.73% "
     ]
    },
    {
     "name": "stdout",
     "output_type": "stream",
     "text": [
      "\n"
     ]
    },
    {
     "name": "stderr",
     "output_type": "stream",
     "text": [
      "248it [21:41,  5.50s/it]0.000760, Training: 9.08%,  Loss: 2.99752, ACC: 46.74% "
     ]
    },
    {
     "name": "stdout",
     "output_type": "stream",
     "text": [
      "\n"
     ]
    },
    {
     "name": "stderr",
     "output_type": "stream",
     "text": [
      "249it [21:46,  5.48s/it]0.000760, Training: 9.12%,  Loss: 2.99713, ACC: 46.73% "
     ]
    },
    {
     "name": "stdout",
     "output_type": "stream",
     "text": [
      "\n"
     ]
    },
    {
     "name": "stderr",
     "output_type": "stream",
     "text": [
      "250it [21:52,  5.49s/it]0.000760, Training: 9.16%,  Loss: 2.99713, ACC: 46.73% "
     ]
    },
    {
     "name": "stdout",
     "output_type": "stream",
     "text": [
      "\n"
     ]
    },
    {
     "name": "stderr",
     "output_type": "stream",
     "text": [
      "251it [21:57,  5.47s/it]0.000760, Training: 9.19%,  Loss: 2.99632, ACC: 46.74% "
     ]
    },
    {
     "name": "stdout",
     "output_type": "stream",
     "text": [
      "\n"
     ]
    },
    {
     "name": "stderr",
     "output_type": "stream",
     "text": [
      "252it [22:03,  5.44s/it]0.000760, Training: 9.23%,  Loss: 2.99495, ACC: 46.74% "
     ]
    },
    {
     "name": "stdout",
     "output_type": "stream",
     "text": [
      "\n"
     ]
    },
    {
     "name": "stderr",
     "output_type": "stream",
     "text": [
      "253it [22:08,  5.48s/it]0.000760, Training: 9.27%,  Loss: 2.99529, ACC: 46.73% "
     ]
    },
    {
     "name": "stdout",
     "output_type": "stream",
     "text": [
      "\n"
     ]
    },
    {
     "name": "stderr",
     "output_type": "stream",
     "text": [
      "254it [22:14,  5.52s/it]0.000760, Training: 9.30%,  Loss: 2.99634, ACC: 46.72% "
     ]
    },
    {
     "name": "stdout",
     "output_type": "stream",
     "text": [
      "\n"
     ]
    },
    {
     "name": "stderr",
     "output_type": "stream",
     "text": [
      "255it [22:19,  5.50s/it]0.000760, Training: 9.34%,  Loss: 2.99650, ACC: 46.71% "
     ]
    },
    {
     "name": "stdout",
     "output_type": "stream",
     "text": [
      "\n"
     ]
    },
    {
     "name": "stderr",
     "output_type": "stream",
     "text": [
      "256it [22:25,  5.48s/it]0.000760, Training: 9.38%,  Loss: 2.99592, ACC: 46.71% "
     ]
    },
    {
     "name": "stdout",
     "output_type": "stream",
     "text": [
      "\n"
     ]
    },
    {
     "name": "stderr",
     "output_type": "stream",
     "text": [
      "257it [22:30,  5.46s/it]0.000760, Training: 9.41%,  Loss: 2.99501, ACC: 46.72% "
     ]
    },
    {
     "name": "stdout",
     "output_type": "stream",
     "text": [
      "\n"
     ]
    },
    {
     "name": "stderr",
     "output_type": "stream",
     "text": [
      "258it [22:36,  5.45s/it]0.000760, Training: 9.45%,  Loss: 2.99486, ACC: 46.71% "
     ]
    },
    {
     "name": "stdout",
     "output_type": "stream",
     "text": [
      "\n"
     ]
    },
    {
     "name": "stderr",
     "output_type": "stream",
     "text": [
      "259it [22:41,  5.44s/it]0.000760, Training: 9.49%,  Loss: 2.99546, ACC: 46.69% "
     ]
    },
    {
     "name": "stdout",
     "output_type": "stream",
     "text": [
      "\n"
     ]
    },
    {
     "name": "stderr",
     "output_type": "stream",
     "text": [
      "260it [22:46,  5.43s/it]0.000760, Training: 9.52%,  Loss: 2.99542, ACC: 46.69% "
     ]
    },
    {
     "name": "stdout",
     "output_type": "stream",
     "text": [
      "\n"
     ]
    },
    {
     "name": "stderr",
     "output_type": "stream",
     "text": [
      "261it [22:52,  5.42s/it]0.000760, Training: 9.56%,  Loss: 2.99533, ACC: 46.68% "
     ]
    },
    {
     "name": "stdout",
     "output_type": "stream",
     "text": [
      "\n"
     ]
    },
    {
     "name": "stderr",
     "output_type": "stream",
     "text": [
      "262it [22:57,  5.39s/it]0.000760, Training: 9.60%,  Loss: 2.99477, ACC: 46.68% "
     ]
    },
    {
     "name": "stdout",
     "output_type": "stream",
     "text": [
      "\n"
     ]
    },
    {
     "name": "stderr",
     "output_type": "stream",
     "text": [
      "263it [23:03,  5.48s/it]0.000760, Training: 9.63%,  Loss: 2.99415, ACC: 46.68% "
     ]
    },
    {
     "name": "stdout",
     "output_type": "stream",
     "text": [
      "\n"
     ]
    },
    {
     "name": "stderr",
     "output_type": "stream",
     "text": [
      "264it [23:08,  5.47s/it]0.000760, Training: 9.67%,  Loss: 2.99632, ACC: 46.67% "
     ]
    },
    {
     "name": "stdout",
     "output_type": "stream",
     "text": [
      "\n"
     ]
    },
    {
     "name": "stderr",
     "output_type": "stream",
     "text": [
      "265it [23:14,  5.48s/it]0.000760, Training: 9.71%,  Loss: 2.99634, ACC: 46.68% "
     ]
    },
    {
     "name": "stdout",
     "output_type": "stream",
     "text": [
      "\n"
     ]
    },
    {
     "name": "stderr",
     "output_type": "stream",
     "text": [
      "266it [23:19,  5.47s/it]0.000760, Training: 9.74%,  Loss: 2.99609, ACC: 46.68% "
     ]
    },
    {
     "name": "stdout",
     "output_type": "stream",
     "text": [
      "\n"
     ]
    },
    {
     "name": "stderr",
     "output_type": "stream",
     "text": [
      "267it [23:25,  5.45s/it]0.000760, Training: 9.78%,  Loss: 2.99726, ACC: 46.67% "
     ]
    },
    {
     "name": "stdout",
     "output_type": "stream",
     "text": [
      "\n"
     ]
    },
    {
     "name": "stderr",
     "output_type": "stream",
     "text": [
      "268it [23:30,  5.52s/it]0.000760, Training: 9.82%,  Loss: 2.99757, ACC: 46.66% "
     ]
    },
    {
     "name": "stdout",
     "output_type": "stream",
     "text": [
      "\n"
     ]
    },
    {
     "name": "stderr",
     "output_type": "stream",
     "text": [
      "269it [23:36,  5.47s/it]0.000760, Training: 9.85%,  Loss: 2.99831, ACC: 46.67% "
     ]
    },
    {
     "name": "stdout",
     "output_type": "stream",
     "text": [
      "\n"
     ]
    },
    {
     "name": "stderr",
     "output_type": "stream",
     "text": [
      "270it [23:41,  5.45s/it]0.000760, Training: 9.89%,  Loss: 2.99730, ACC: 46.67% "
     ]
    },
    {
     "name": "stdout",
     "output_type": "stream",
     "text": [
      "\n"
     ]
    },
    {
     "name": "stderr",
     "output_type": "stream",
     "text": [
      "271it [23:47,  5.45s/it]0.000760, Training: 9.93%,  Loss: 2.99793, ACC: 46.66% "
     ]
    },
    {
     "name": "stdout",
     "output_type": "stream",
     "text": [
      "\n"
     ]
    },
    {
     "name": "stderr",
     "output_type": "stream",
     "text": [
      "272it [23:52,  5.46s/it]0.000760, Training: 9.96%,  Loss: 2.99727, ACC: 46.67% "
     ]
    },
    {
     "name": "stdout",
     "output_type": "stream",
     "text": [
      "\n"
     ]
    },
    {
     "name": "stderr",
     "output_type": "stream",
     "text": [
      "273it [23:58,  5.52s/it]0.000760, Training: 10.00%,  Loss: 2.99652, ACC: 46.68% "
     ]
    },
    {
     "name": "stdout",
     "output_type": "stream",
     "text": [
      "\n"
     ]
    },
    {
     "name": "stderr",
     "output_type": "stream",
     "text": [
      "274it [24:03,  5.49s/it]0.000760, Training: 10.04%,  Loss: 2.99734, ACC: 46.67% "
     ]
    },
    {
     "name": "stdout",
     "output_type": "stream",
     "text": [
      "\n"
     ]
    },
    {
     "name": "stderr",
     "output_type": "stream",
     "text": [
      "275it [24:09,  5.53s/it]0.000760, Training: 10.07%,  Loss: 2.99833, ACC: 46.66% "
     ]
    },
    {
     "name": "stdout",
     "output_type": "stream",
     "text": [
      "\n"
     ]
    },
    {
     "name": "stderr",
     "output_type": "stream",
     "text": [
      "276it [24:14,  5.56s/it]0.000760, Training: 10.11%,  Loss: 2.99797, ACC: 46.68% "
     ]
    },
    {
     "name": "stdout",
     "output_type": "stream",
     "text": [
      "\n"
     ]
    },
    {
     "name": "stderr",
     "output_type": "stream",
     "text": [
      "277it [24:20,  5.55s/it]0.000760, Training: 10.15%,  Loss: 2.99804, ACC: 46.67% "
     ]
    },
    {
     "name": "stdout",
     "output_type": "stream",
     "text": [
      "\n"
     ]
    },
    {
     "name": "stderr",
     "output_type": "stream",
     "text": [
      "278it [24:25,  5.51s/it]0.000760, Training: 10.18%,  Loss: 2.99882, ACC: 46.67% "
     ]
    },
    {
     "name": "stdout",
     "output_type": "stream",
     "text": [
      "\n"
     ]
    },
    {
     "name": "stderr",
     "output_type": "stream",
     "text": [
      "279it [24:31,  5.51s/it]0.000760, Training: 10.22%,  Loss: 2.99939, ACC: 46.67% "
     ]
    },
    {
     "name": "stdout",
     "output_type": "stream",
     "text": [
      "\n"
     ]
    },
    {
     "name": "stderr",
     "output_type": "stream",
     "text": [
      "280it [24:36,  5.42s/it]0.000760, Training: 10.26%,  Loss: 2.99827, ACC: 46.68% "
     ]
    },
    {
     "name": "stdout",
     "output_type": "stream",
     "text": [
      "\n"
     ]
    },
    {
     "name": "stderr",
     "output_type": "stream",
     "text": [
      "281it [24:42,  5.48s/it]0.000760, Training: 10.29%,  Loss: 2.99836, ACC: 46.68% "
     ]
    },
    {
     "name": "stdout",
     "output_type": "stream",
     "text": [
      "\n"
     ]
    },
    {
     "name": "stderr",
     "output_type": "stream",
     "text": [
      "282it [24:47,  5.44s/it]0.000760, Training: 10.33%,  Loss: 2.99827, ACC: 46.68% "
     ]
    },
    {
     "name": "stdout",
     "output_type": "stream",
     "text": [
      "\n"
     ]
    },
    {
     "name": "stderr",
     "output_type": "stream",
     "text": [
      "283it [24:53,  5.49s/it]0.000760, Training: 10.37%,  Loss: 2.99847, ACC: 46.67% "
     ]
    },
    {
     "name": "stdout",
     "output_type": "stream",
     "text": [
      "\n"
     ]
    },
    {
     "name": "stderr",
     "output_type": "stream",
     "text": [
      "284it [24:58,  5.47s/it]0.000760, Training: 10.40%,  Loss: 2.99825, ACC: 46.67% "
     ]
    },
    {
     "name": "stdout",
     "output_type": "stream",
     "text": [
      "\n"
     ]
    },
    {
     "name": "stderr",
     "output_type": "stream",
     "text": [
      "285it [25:03,  5.47s/it]0.000760, Training: 10.44%,  Loss: 2.99818, ACC: 46.67% "
     ]
    },
    {
     "name": "stdout",
     "output_type": "stream",
     "text": [
      "\n"
     ]
    },
    {
     "name": "stderr",
     "output_type": "stream",
     "text": [
      "286it [25:09,  5.44s/it]0.000760, Training: 10.48%,  Loss: 2.99795, ACC: 46.67% "
     ]
    },
    {
     "name": "stdout",
     "output_type": "stream",
     "text": [
      "\n"
     ]
    },
    {
     "name": "stderr",
     "output_type": "stream",
     "text": [
      "287it [25:14,  5.45s/it]0.000760, Training: 10.51%,  Loss: 2.99792, ACC: 46.68% "
     ]
    },
    {
     "name": "stdout",
     "output_type": "stream",
     "text": [
      "\n"
     ]
    },
    {
     "name": "stderr",
     "output_type": "stream",
     "text": [
      "288it [25:20,  5.46s/it]0.000760, Training: 10.55%,  Loss: 2.99743, ACC: 46.69% "
     ]
    },
    {
     "name": "stdout",
     "output_type": "stream",
     "text": [
      "\n"
     ]
    },
    {
     "name": "stderr",
     "output_type": "stream",
     "text": [
      "289it [25:25,  5.48s/it]0.000760, Training: 10.59%,  Loss: 2.99718, ACC: 46.70% "
     ]
    },
    {
     "name": "stdout",
     "output_type": "stream",
     "text": [
      "\n"
     ]
    },
    {
     "name": "stderr",
     "output_type": "stream",
     "text": [
      "290it [25:31,  5.47s/it]0.000760, Training: 10.62%,  Loss: 2.99755, ACC: 46.69% "
     ]
    },
    {
     "name": "stdout",
     "output_type": "stream",
     "text": [
      "\n"
     ]
    },
    {
     "name": "stderr",
     "output_type": "stream",
     "text": [
      "291it [25:36,  5.47s/it]0.000760, Training: 10.66%,  Loss: 2.99663, ACC: 46.71% "
     ]
    },
    {
     "name": "stdout",
     "output_type": "stream",
     "text": [
      "\n"
     ]
    },
    {
     "name": "stderr",
     "output_type": "stream",
     "text": [
      "292it [25:42,  5.47s/it]0.000760, Training: 10.70%,  Loss: 2.99622, ACC: 46.72% "
     ]
    },
    {
     "name": "stdout",
     "output_type": "stream",
     "text": [
      "\n"
     ]
    },
    {
     "name": "stderr",
     "output_type": "stream",
     "text": [
      "293it [25:47,  5.41s/it]0.000760, Training: 10.73%,  Loss: 2.99621, ACC: 46.71% "
     ]
    },
    {
     "name": "stdout",
     "output_type": "stream",
     "text": [
      "\n"
     ]
    },
    {
     "name": "stderr",
     "output_type": "stream",
     "text": [
      "294it [25:53,  5.44s/it]0.000760, Training: 10.77%,  Loss: 2.99612, ACC: 46.71% "
     ]
    },
    {
     "name": "stdout",
     "output_type": "stream",
     "text": [
      "\n"
     ]
    },
    {
     "name": "stderr",
     "output_type": "stream",
     "text": [
      "295it [25:58,  5.43s/it]0.000760, Training: 10.81%,  Loss: 2.99610, ACC: 46.72% "
     ]
    },
    {
     "name": "stdout",
     "output_type": "stream",
     "text": [
      "\n"
     ]
    },
    {
     "name": "stderr",
     "output_type": "stream",
     "text": [
      "296it [26:04,  5.48s/it]0.000760, Training: 10.84%,  Loss: 2.99651, ACC: 46.71% "
     ]
    },
    {
     "name": "stdout",
     "output_type": "stream",
     "text": [
      "\n"
     ]
    },
    {
     "name": "stderr",
     "output_type": "stream",
     "text": [
      "297it [26:09,  5.46s/it]0.000760, Training: 10.88%,  Loss: 2.99690, ACC: 46.71% "
     ]
    },
    {
     "name": "stdout",
     "output_type": "stream",
     "text": [
      "\n"
     ]
    },
    {
     "name": "stderr",
     "output_type": "stream",
     "text": [
      "298it [26:15,  5.50s/it]0.000760, Training: 10.92%,  Loss: 2.99724, ACC: 46.71% "
     ]
    },
    {
     "name": "stdout",
     "output_type": "stream",
     "text": [
      "\n"
     ]
    },
    {
     "name": "stderr",
     "output_type": "stream",
     "text": [
      "299it [26:20,  5.46s/it]0.000760, Training: 10.95%,  Loss: 2.99741, ACC: 46.72% "
     ]
    },
    {
     "name": "stdout",
     "output_type": "stream",
     "text": [
      "\n"
     ]
    },
    {
     "name": "stderr",
     "output_type": "stream",
     "text": [
      "300it [26:25,  5.49s/it]0.000760, Training: 10.99%,  Loss: 2.99685, ACC: 46.73% "
     ]
    },
    {
     "name": "stdout",
     "output_type": "stream",
     "text": [
      "\n"
     ]
    },
    {
     "name": "stderr",
     "output_type": "stream",
     "text": [
      "301it [26:31,  5.51s/it]0.000760, Training: 11.03%,  Loss: 2.99699, ACC: 46.72% "
     ]
    },
    {
     "name": "stdout",
     "output_type": "stream",
     "text": [
      "\n"
     ]
    },
    {
     "name": "stderr",
     "output_type": "stream",
     "text": [
      "302it [26:36,  5.45s/it]0.000760, Training: 11.06%,  Loss: 2.99701, ACC: 46.72% "
     ]
    },
    {
     "name": "stdout",
     "output_type": "stream",
     "text": [
      "\n"
     ]
    },
    {
     "name": "stderr",
     "output_type": "stream",
     "text": [
      "303it [26:42,  5.41s/it]0.000760, Training: 11.10%,  Loss: 2.99637, ACC: 46.72% "
     ]
    },
    {
     "name": "stdout",
     "output_type": "stream",
     "text": [
      "\n"
     ]
    },
    {
     "name": "stderr",
     "output_type": "stream",
     "text": [
      "304it [26:47,  5.42s/it]0.000760, Training: 11.14%,  Loss: 2.99618, ACC: 46.72% "
     ]
    },
    {
     "name": "stdout",
     "output_type": "stream",
     "text": [
      "\n"
     ]
    },
    {
     "name": "stderr",
     "output_type": "stream",
     "text": [
      "305it [26:52,  5.41s/it]0.000760, Training: 11.17%,  Loss: 2.99671, ACC: 46.70% "
     ]
    },
    {
     "name": "stdout",
     "output_type": "stream",
     "text": [
      "\n"
     ]
    },
    {
     "name": "stderr",
     "output_type": "stream",
     "text": [
      "306it [26:58,  5.47s/it]0.000760, Training: 11.21%,  Loss: 2.99683, ACC: 46.70% "
     ]
    },
    {
     "name": "stdout",
     "output_type": "stream",
     "text": [
      "\n"
     ]
    },
    {
     "name": "stderr",
     "output_type": "stream",
     "text": [
      "307it [27:03,  5.42s/it]0.000760, Training: 11.25%,  Loss: 2.99706, ACC: 46.69% "
     ]
    },
    {
     "name": "stdout",
     "output_type": "stream",
     "text": [
      "\n"
     ]
    },
    {
     "name": "stderr",
     "output_type": "stream",
     "text": [
      "308it [27:09,  5.45s/it]0.000760, Training: 11.28%,  Loss: 2.99657, ACC: 46.70% "
     ]
    },
    {
     "name": "stdout",
     "output_type": "stream",
     "text": [
      "\n"
     ]
    },
    {
     "name": "stderr",
     "output_type": "stream",
     "text": [
      "309it [27:14,  5.44s/it]0.000760, Training: 11.32%,  Loss: 2.99615, ACC: 46.71% "
     ]
    },
    {
     "name": "stdout",
     "output_type": "stream",
     "text": [
      "\n"
     ]
    },
    {
     "name": "stderr",
     "output_type": "stream",
     "text": [
      "310it [27:20,  5.42s/it]0.000760, Training: 11.36%,  Loss: 2.99531, ACC: 46.73% "
     ]
    },
    {
     "name": "stdout",
     "output_type": "stream",
     "text": [
      "\n"
     ]
    },
    {
     "name": "stderr",
     "output_type": "stream",
     "text": [
      "311it [27:25,  5.48s/it]0.000760, Training: 11.39%,  Loss: 2.99611, ACC: 46.71% "
     ]
    },
    {
     "name": "stdout",
     "output_type": "stream",
     "text": [
      "\n"
     ]
    },
    {
     "name": "stderr",
     "output_type": "stream",
     "text": [
      "312it [27:31,  5.47s/it]0.000760, Training: 11.43%,  Loss: 2.99558, ACC: 46.72% "
     ]
    },
    {
     "name": "stdout",
     "output_type": "stream",
     "text": [
      "\n"
     ]
    },
    {
     "name": "stderr",
     "output_type": "stream",
     "text": [
      "313it [27:36,  5.42s/it]0.000760, Training: 11.47%,  Loss: 2.99514, ACC: 46.73% "
     ]
    },
    {
     "name": "stdout",
     "output_type": "stream",
     "text": [
      "\n"
     ]
    },
    {
     "name": "stderr",
     "output_type": "stream",
     "text": [
      "314it [27:42,  5.45s/it]0.000760, Training: 11.50%,  Loss: 2.99558, ACC: 46.74% "
     ]
    },
    {
     "name": "stdout",
     "output_type": "stream",
     "text": [
      "\n"
     ]
    },
    {
     "name": "stderr",
     "output_type": "stream",
     "text": [
      "315it [27:47,  5.45s/it]0.000760, Training: 11.54%,  Loss: 2.99457, ACC: 46.75% "
     ]
    },
    {
     "name": "stdout",
     "output_type": "stream",
     "text": [
      "\n"
     ]
    },
    {
     "name": "stderr",
     "output_type": "stream",
     "text": [
      "316it [27:52,  5.40s/it]0.000760, Training: 11.58%,  Loss: 2.99457, ACC: 46.75% "
     ]
    },
    {
     "name": "stdout",
     "output_type": "stream",
     "text": [
      "\n"
     ]
    },
    {
     "name": "stderr",
     "output_type": "stream",
     "text": [
      "317it [27:58,  5.42s/it]0.000760, Training: 11.61%,  Loss: 2.99492, ACC: 46.75% "
     ]
    },
    {
     "name": "stdout",
     "output_type": "stream",
     "text": [
      "\n"
     ]
    },
    {
     "name": "stderr",
     "output_type": "stream",
     "text": [
      "318it [28:03,  5.40s/it]0.000760, Training: 11.65%,  Loss: 2.99465, ACC: 46.77% "
     ]
    },
    {
     "name": "stdout",
     "output_type": "stream",
     "text": [
      "\n"
     ]
    },
    {
     "name": "stderr",
     "output_type": "stream",
     "text": [
      "319it [28:09,  5.47s/it]0.000760, Training: 11.68%,  Loss: 2.99489, ACC: 46.76% "
     ]
    },
    {
     "name": "stdout",
     "output_type": "stream",
     "text": [
      "\n"
     ]
    },
    {
     "name": "stderr",
     "output_type": "stream",
     "text": [
      "320it [28:14,  5.44s/it]0.000760, Training: 11.72%,  Loss: 2.99559, ACC: 46.76% "
     ]
    },
    {
     "name": "stdout",
     "output_type": "stream",
     "text": [
      "\n"
     ]
    },
    {
     "name": "stderr",
     "output_type": "stream",
     "text": [
      "321it [28:20,  5.45s/it]0.000760, Training: 11.76%,  Loss: 2.99575, ACC: 46.76% "
     ]
    },
    {
     "name": "stdout",
     "output_type": "stream",
     "text": [
      "\n"
     ]
    },
    {
     "name": "stderr",
     "output_type": "stream",
     "text": [
      "322it [28:25,  5.44s/it]0.000760, Training: 11.79%,  Loss: 2.99525, ACC: 46.77% "
     ]
    },
    {
     "name": "stdout",
     "output_type": "stream",
     "text": [
      "\n"
     ]
    },
    {
     "name": "stderr",
     "output_type": "stream",
     "text": [
      "323it [28:30,  5.43s/it]0.000760, Training: 11.83%,  Loss: 2.99525, ACC: 46.77% "
     ]
    },
    {
     "name": "stdout",
     "output_type": "stream",
     "text": [
      "\n"
     ]
    },
    {
     "name": "stderr",
     "output_type": "stream",
     "text": [
      "324it [28:36,  5.46s/it]0.000760, Training: 11.87%,  Loss: 2.99538, ACC: 46.77% "
     ]
    },
    {
     "name": "stdout",
     "output_type": "stream",
     "text": [
      "\n"
     ]
    },
    {
     "name": "stderr",
     "output_type": "stream",
     "text": [
      "325it [28:41,  5.46s/it]0.000760, Training: 11.90%,  Loss: 2.99463, ACC: 46.79% "
     ]
    },
    {
     "name": "stdout",
     "output_type": "stream",
     "text": [
      "\n"
     ]
    },
    {
     "name": "stderr",
     "output_type": "stream",
     "text": [
      "326it [28:47,  5.49s/it]0.000760, Training: 11.94%,  Loss: 2.99488, ACC: 46.79% "
     ]
    },
    {
     "name": "stdout",
     "output_type": "stream",
     "text": [
      "\n"
     ]
    },
    {
     "name": "stderr",
     "output_type": "stream",
     "text": [
      "327it [28:53,  5.51s/it]0.000760, Training: 11.98%,  Loss: 2.99485, ACC: 46.80% "
     ]
    },
    {
     "name": "stdout",
     "output_type": "stream",
     "text": [
      "\n"
     ]
    },
    {
     "name": "stderr",
     "output_type": "stream",
     "text": [
      "328it [28:58,  5.48s/it]0.000760, Training: 12.01%,  Loss: 2.99517, ACC: 46.81% "
     ]
    },
    {
     "name": "stdout",
     "output_type": "stream",
     "text": [
      "\n"
     ]
    },
    {
     "name": "stderr",
     "output_type": "stream",
     "text": [
      "329it [29:03,  5.48s/it]0.000760, Training: 12.05%,  Loss: 2.99547, ACC: 46.81% "
     ]
    },
    {
     "name": "stdout",
     "output_type": "stream",
     "text": [
      "\n"
     ]
    },
    {
     "name": "stderr",
     "output_type": "stream",
     "text": [
      "330it [29:09,  5.48s/it]0.000760, Training: 12.09%,  Loss: 2.99598, ACC: 46.81% "
     ]
    },
    {
     "name": "stdout",
     "output_type": "stream",
     "text": [
      "\n"
     ]
    },
    {
     "name": "stderr",
     "output_type": "stream",
     "text": [
      "331it [29:15,  5.54s/it]0.000760, Training: 12.12%,  Loss: 2.99600, ACC: 46.81% "
     ]
    },
    {
     "name": "stdout",
     "output_type": "stream",
     "text": [
      "\n"
     ]
    },
    {
     "name": "stderr",
     "output_type": "stream",
     "text": [
      "332it [29:20,  5.48s/it]0.000760, Training: 12.16%,  Loss: 2.99502, ACC: 46.82% "
     ]
    },
    {
     "name": "stdout",
     "output_type": "stream",
     "text": [
      "\n"
     ]
    },
    {
     "name": "stderr",
     "output_type": "stream",
     "text": [
      "333it [29:25,  5.42s/it]0.000760, Training: 12.20%,  Loss: 2.99559, ACC: 46.80% "
     ]
    },
    {
     "name": "stdout",
     "output_type": "stream",
     "text": [
      "\n"
     ]
    },
    {
     "name": "stderr",
     "output_type": "stream",
     "text": [
      "334it [29:31,  5.45s/it]0.000760, Training: 12.23%,  Loss: 2.99547, ACC: 46.81% "
     ]
    },
    {
     "name": "stdout",
     "output_type": "stream",
     "text": [
      "\n"
     ]
    },
    {
     "name": "stderr",
     "output_type": "stream",
     "text": [
      "335it [29:36,  5.46s/it]0.000760, Training: 12.27%,  Loss: 2.99537, ACC: 46.81% "
     ]
    },
    {
     "name": "stdout",
     "output_type": "stream",
     "text": [
      "\n"
     ]
    },
    {
     "name": "stderr",
     "output_type": "stream",
     "text": [
      "336it [29:42,  5.45s/it]0.000760, Training: 12.31%,  Loss: 2.99515, ACC: 46.81% "
     ]
    },
    {
     "name": "stdout",
     "output_type": "stream",
     "text": [
      "\n"
     ]
    },
    {
     "name": "stderr",
     "output_type": "stream",
     "text": [
      "337it [29:47,  5.53s/it]0.000760, Training: 12.34%,  Loss: 2.99565, ACC: 46.81% "
     ]
    },
    {
     "name": "stdout",
     "output_type": "stream",
     "text": [
      "\n"
     ]
    },
    {
     "name": "stderr",
     "output_type": "stream",
     "text": [
      "338it [29:53,  5.52s/it]0.000760, Training: 12.38%,  Loss: 2.99619, ACC: 46.80% "
     ]
    },
    {
     "name": "stdout",
     "output_type": "stream",
     "text": [
      "\n"
     ]
    },
    {
     "name": "stderr",
     "output_type": "stream",
     "text": [
      "339it [29:58,  5.53s/it]0.000760, Training: 12.42%,  Loss: 2.99666, ACC: 46.80% "
     ]
    },
    {
     "name": "stdout",
     "output_type": "stream",
     "text": [
      "\n"
     ]
    },
    {
     "name": "stderr",
     "output_type": "stream",
     "text": [
      "340it [30:04,  5.52s/it]0.000760, Training: 12.45%,  Loss: 2.99699, ACC: 46.80% "
     ]
    },
    {
     "name": "stdout",
     "output_type": "stream",
     "text": [
      "\n"
     ]
    },
    {
     "name": "stderr",
     "output_type": "stream",
     "text": [
      "341it [30:09,  5.49s/it]0.000760, Training: 12.49%,  Loss: 2.99710, ACC: 46.81% "
     ]
    },
    {
     "name": "stdout",
     "output_type": "stream",
     "text": [
      "\n"
     ]
    },
    {
     "name": "stderr",
     "output_type": "stream",
     "text": [
      "342it [30:15,  5.51s/it]0.000760, Training: 12.53%,  Loss: 2.99771, ACC: 46.80% "
     ]
    },
    {
     "name": "stdout",
     "output_type": "stream",
     "text": [
      "\n"
     ]
    },
    {
     "name": "stderr",
     "output_type": "stream",
     "text": [
      "343it [30:20,  5.50s/it]0.000760, Training: 12.56%,  Loss: 2.99794, ACC: 46.79% "
     ]
    },
    {
     "name": "stdout",
     "output_type": "stream",
     "text": [
      "\n"
     ]
    },
    {
     "name": "stderr",
     "output_type": "stream",
     "text": [
      "344it [30:26,  5.49s/it]0.000760, Training: 12.60%,  Loss: 2.99761, ACC: 46.80% "
     ]
    },
    {
     "name": "stdout",
     "output_type": "stream",
     "text": [
      "\n"
     ]
    },
    {
     "name": "stderr",
     "output_type": "stream",
     "text": [
      "345it [30:31,  5.47s/it]0.000760, Training: 12.64%,  Loss: 2.99779, ACC: 46.79% "
     ]
    },
    {
     "name": "stdout",
     "output_type": "stream",
     "text": [
      "\n"
     ]
    },
    {
     "name": "stderr",
     "output_type": "stream",
     "text": [
      "346it [30:37,  5.43s/it]0.000760, Training: 12.67%,  Loss: 2.99778, ACC: 46.78% "
     ]
    },
    {
     "name": "stdout",
     "output_type": "stream",
     "text": [
      "\n"
     ]
    },
    {
     "name": "stderr",
     "output_type": "stream",
     "text": [
      "347it [30:42,  5.45s/it]0.000760, Training: 12.71%,  Loss: 2.99820, ACC: 46.77% "
     ]
    },
    {
     "name": "stdout",
     "output_type": "stream",
     "text": [
      "\n"
     ]
    },
    {
     "name": "stderr",
     "output_type": "stream",
     "text": [
      "348it [30:48,  5.51s/it]0.000760, Training: 12.75%,  Loss: 2.99881, ACC: 46.75% "
     ]
    },
    {
     "name": "stdout",
     "output_type": "stream",
     "text": [
      "\n"
     ]
    },
    {
     "name": "stderr",
     "output_type": "stream",
     "text": [
      "349it [30:53,  5.53s/it]0.000760, Training: 12.78%,  Loss: 2.99793, ACC: 46.76% "
     ]
    },
    {
     "name": "stdout",
     "output_type": "stream",
     "text": [
      "\n"
     ]
    },
    {
     "name": "stderr",
     "output_type": "stream",
     "text": [
      "350it [30:59,  5.49s/it]0.000760, Training: 12.82%,  Loss: 2.99802, ACC: 46.77% "
     ]
    },
    {
     "name": "stdout",
     "output_type": "stream",
     "text": [
      "\n"
     ]
    },
    {
     "name": "stderr",
     "output_type": "stream",
     "text": [
      "351it [31:04,  5.49s/it]0.000760, Training: 12.86%,  Loss: 2.99798, ACC: 46.77% "
     ]
    },
    {
     "name": "stdout",
     "output_type": "stream",
     "text": [
      "\n"
     ]
    },
    {
     "name": "stderr",
     "output_type": "stream",
     "text": [
      "352it [31:10,  5.51s/it]0.000760, Training: 12.89%,  Loss: 2.99801, ACC: 46.77% "
     ]
    },
    {
     "name": "stdout",
     "output_type": "stream",
     "text": [
      "\n"
     ]
    },
    {
     "name": "stderr",
     "output_type": "stream",
     "text": [
      "353it [31:15,  5.54s/it]0.000760, Training: 12.93%,  Loss: 2.99798, ACC: 46.77% "
     ]
    },
    {
     "name": "stdout",
     "output_type": "stream",
     "text": [
      "\n"
     ]
    },
    {
     "name": "stderr",
     "output_type": "stream",
     "text": [
      "354it [31:21,  5.51s/it]0.000760, Training: 12.97%,  Loss: 2.99758, ACC: 46.77% "
     ]
    },
    {
     "name": "stdout",
     "output_type": "stream",
     "text": [
      "\n"
     ]
    },
    {
     "name": "stderr",
     "output_type": "stream",
     "text": [
      "355it [31:26,  5.45s/it]0.000760, Training: 13.00%,  Loss: 2.99767, ACC: 46.76% "
     ]
    },
    {
     "name": "stdout",
     "output_type": "stream",
     "text": [
      "\n"
     ]
    },
    {
     "name": "stderr",
     "output_type": "stream",
     "text": [
      "356it [31:31,  5.41s/it]0.000760, Training: 13.04%,  Loss: 2.99816, ACC: 46.76% "
     ]
    },
    {
     "name": "stdout",
     "output_type": "stream",
     "text": [
      "\n"
     ]
    },
    {
     "name": "stderr",
     "output_type": "stream",
     "text": [
      "357it [31:37,  5.43s/it]0.000760, Training: 13.08%,  Loss: 2.99818, ACC: 46.76% "
     ]
    },
    {
     "name": "stdout",
     "output_type": "stream",
     "text": [
      "\n"
     ]
    },
    {
     "name": "stderr",
     "output_type": "stream",
     "text": [
      "358it [31:42,  5.47s/it]0.000760, Training: 13.11%,  Loss: 2.99854, ACC: 46.75% "
     ]
    },
    {
     "name": "stdout",
     "output_type": "stream",
     "text": [
      "\n"
     ]
    },
    {
     "name": "stderr",
     "output_type": "stream",
     "text": [
      "359it [31:48,  5.46s/it]0.000760, Training: 13.15%,  Loss: 2.99819, ACC: 46.75% "
     ]
    },
    {
     "name": "stdout",
     "output_type": "stream",
     "text": [
      "\n"
     ]
    },
    {
     "name": "stderr",
     "output_type": "stream",
     "text": [
      "360it [31:53,  5.46s/it]0.000760, Training: 13.19%,  Loss: 2.99888, ACC: 46.75% "
     ]
    },
    {
     "name": "stdout",
     "output_type": "stream",
     "text": [
      "\n"
     ]
    },
    {
     "name": "stderr",
     "output_type": "stream",
     "text": [
      "361it [31:59,  5.45s/it]0.000760, Training: 13.22%,  Loss: 2.99848, ACC: 46.75% "
     ]
    },
    {
     "name": "stdout",
     "output_type": "stream",
     "text": [
      "\n"
     ]
    },
    {
     "name": "stderr",
     "output_type": "stream",
     "text": [
      "362it [32:04,  5.46s/it]0.000760, Training: 13.26%,  Loss: 2.99812, ACC: 46.75% "
     ]
    },
    {
     "name": "stdout",
     "output_type": "stream",
     "text": [
      "\n"
     ]
    },
    {
     "name": "stderr",
     "output_type": "stream",
     "text": [
      "363it [32:10,  5.49s/it]0.000760, Training: 13.30%,  Loss: 2.99809, ACC: 46.76% "
     ]
    },
    {
     "name": "stdout",
     "output_type": "stream",
     "text": [
      "\n"
     ]
    },
    {
     "name": "stderr",
     "output_type": "stream",
     "text": [
      "364it [32:15,  5.50s/it]0.000760, Training: 13.33%,  Loss: 2.99760, ACC: 46.76% "
     ]
    },
    {
     "name": "stdout",
     "output_type": "stream",
     "text": [
      "\n"
     ]
    },
    {
     "name": "stderr",
     "output_type": "stream",
     "text": [
      "365it [32:21,  5.50s/it]0.000760, Training: 13.37%,  Loss: 2.99792, ACC: 46.75% "
     ]
    },
    {
     "name": "stdout",
     "output_type": "stream",
     "text": [
      "\n"
     ]
    },
    {
     "name": "stderr",
     "output_type": "stream",
     "text": [
      "366it [32:26,  5.48s/it]0.000760, Training: 13.41%,  Loss: 2.99776, ACC: 46.74% "
     ]
    },
    {
     "name": "stdout",
     "output_type": "stream",
     "text": [
      "\n"
     ]
    },
    {
     "name": "stderr",
     "output_type": "stream",
     "text": [
      "367it [32:32,  5.50s/it]0.000760, Training: 13.44%,  Loss: 2.99746, ACC: 46.74% "
     ]
    },
    {
     "name": "stdout",
     "output_type": "stream",
     "text": [
      "\n"
     ]
    },
    {
     "name": "stderr",
     "output_type": "stream",
     "text": [
      "368it [32:37,  5.49s/it]0.000760, Training: 13.48%,  Loss: 2.99698, ACC: 46.73% "
     ]
    },
    {
     "name": "stdout",
     "output_type": "stream",
     "text": [
      "\n"
     ]
    },
    {
     "name": "stderr",
     "output_type": "stream",
     "text": [
      "369it [32:43,  5.48s/it]0.000760, Training: 13.52%,  Loss: 2.99677, ACC: 46.74% "
     ]
    },
    {
     "name": "stdout",
     "output_type": "stream",
     "text": [
      "\n"
     ]
    },
    {
     "name": "stderr",
     "output_type": "stream",
     "text": [
      "370it [32:48,  5.45s/it]0.000760, Training: 13.55%,  Loss: 2.99635, ACC: 46.74% "
     ]
    },
    {
     "name": "stdout",
     "output_type": "stream",
     "text": [
      "\n"
     ]
    },
    {
     "name": "stderr",
     "output_type": "stream",
     "text": [
      "371it [32:53,  5.39s/it]0.000760, Training: 13.59%,  Loss: 2.99574, ACC: 46.75% "
     ]
    },
    {
     "name": "stdout",
     "output_type": "stream",
     "text": [
      "\n"
     ]
    },
    {
     "name": "stderr",
     "output_type": "stream",
     "text": [
      "372it [32:59,  5.44s/it]0.000760, Training: 13.63%,  Loss: 2.99658, ACC: 46.73% "
     ]
    },
    {
     "name": "stdout",
     "output_type": "stream",
     "text": [
      "\n"
     ]
    },
    {
     "name": "stderr",
     "output_type": "stream",
     "text": [
      "373it [33:04,  5.42s/it]0.000760, Training: 13.66%,  Loss: 2.99618, ACC: 46.73% "
     ]
    },
    {
     "name": "stdout",
     "output_type": "stream",
     "text": [
      "\n"
     ]
    },
    {
     "name": "stderr",
     "output_type": "stream",
     "text": [
      "374it [33:10,  5.43s/it]0.000760, Training: 13.70%,  Loss: 2.99651, ACC: 46.73% "
     ]
    },
    {
     "name": "stdout",
     "output_type": "stream",
     "text": [
      "\n"
     ]
    },
    {
     "name": "stderr",
     "output_type": "stream",
     "text": [
      "375it [33:15,  5.45s/it]0.000760, Training: 13.74%,  Loss: 2.99673, ACC: 46.73% "
     ]
    },
    {
     "name": "stdout",
     "output_type": "stream",
     "text": [
      "\n"
     ]
    },
    {
     "name": "stderr",
     "output_type": "stream",
     "text": [
      "376it [33:21,  5.44s/it]0.000760, Training: 13.77%,  Loss: 2.99666, ACC: 46.73% "
     ]
    },
    {
     "name": "stdout",
     "output_type": "stream",
     "text": [
      "\n"
     ]
    },
    {
     "name": "stderr",
     "output_type": "stream",
     "text": [
      "377it [33:26,  5.43s/it]0.000760, Training: 13.81%,  Loss: 2.99655, ACC: 46.72% "
     ]
    },
    {
     "name": "stdout",
     "output_type": "stream",
     "text": [
      "\n"
     ]
    },
    {
     "name": "stderr",
     "output_type": "stream",
     "text": [
      "378it [33:31,  5.43s/it]0.000760, Training: 13.85%,  Loss: 2.99624, ACC: 46.72% "
     ]
    },
    {
     "name": "stdout",
     "output_type": "stream",
     "text": [
      "\n"
     ]
    },
    {
     "name": "stderr",
     "output_type": "stream",
     "text": [
      "379it [33:37,  5.39s/it]0.000760, Training: 13.88%,  Loss: 2.99668, ACC: 46.71% "
     ]
    },
    {
     "name": "stdout",
     "output_type": "stream",
     "text": [
      "\n"
     ]
    },
    {
     "name": "stderr",
     "output_type": "stream",
     "text": [
      "380it [33:42,  5.39s/it]0.000760, Training: 13.92%,  Loss: 2.99632, ACC: 46.72% "
     ]
    },
    {
     "name": "stdout",
     "output_type": "stream",
     "text": [
      "\n"
     ]
    },
    {
     "name": "stderr",
     "output_type": "stream",
     "text": [
      "381it [33:48,  5.43s/it]0.000760, Training: 13.96%,  Loss: 2.99641, ACC: 46.72% "
     ]
    },
    {
     "name": "stdout",
     "output_type": "stream",
     "text": [
      "\n"
     ]
    },
    {
     "name": "stderr",
     "output_type": "stream",
     "text": [
      "382it [33:53,  5.43s/it]0.000760, Training: 13.99%,  Loss: 2.99642, ACC: 46.72% "
     ]
    },
    {
     "name": "stdout",
     "output_type": "stream",
     "text": [
      "\n"
     ]
    },
    {
     "name": "stderr",
     "output_type": "stream",
     "text": [
      "383it [33:59,  5.46s/it]0.000760, Training: 14.03%,  Loss: 2.99762, ACC: 46.71% "
     ]
    },
    {
     "name": "stdout",
     "output_type": "stream",
     "text": [
      "\n"
     ]
    },
    {
     "name": "stderr",
     "output_type": "stream",
     "text": [
      "384it [34:04,  5.41s/it]0.000760, Training: 14.07%,  Loss: 2.99745, ACC: 46.71% "
     ]
    },
    {
     "name": "stdout",
     "output_type": "stream",
     "text": [
      "\n"
     ]
    },
    {
     "name": "stderr",
     "output_type": "stream",
     "text": [
      "385it [34:09,  5.43s/it]0.000760, Training: 14.10%,  Loss: 2.99750, ACC: 46.71% "
     ]
    },
    {
     "name": "stdout",
     "output_type": "stream",
     "text": [
      "\n"
     ]
    },
    {
     "name": "stderr",
     "output_type": "stream",
     "text": [
      "386it [34:15,  5.38s/it]0.000760, Training: 14.14%,  Loss: 2.99746, ACC: 46.70% "
     ]
    },
    {
     "name": "stdout",
     "output_type": "stream",
     "text": [
      "\n"
     ]
    },
    {
     "name": "stderr",
     "output_type": "stream",
     "text": [
      "387it [34:20,  5.43s/it]0.000760, Training: 14.18%,  Loss: 2.99750, ACC: 46.71% "
     ]
    },
    {
     "name": "stdout",
     "output_type": "stream",
     "text": [
      "\n"
     ]
    },
    {
     "name": "stderr",
     "output_type": "stream",
     "text": [
      "388it [34:26,  5.44s/it]0.000760, Training: 14.21%,  Loss: 2.99784, ACC: 46.70% "
     ]
    },
    {
     "name": "stdout",
     "output_type": "stream",
     "text": [
      "\n"
     ]
    },
    {
     "name": "stderr",
     "output_type": "stream",
     "text": [
      "389it [34:31,  5.39s/it]0.000760, Training: 14.25%,  Loss: 2.99807, ACC: 46.70% "
     ]
    },
    {
     "name": "stdout",
     "output_type": "stream",
     "text": [
      "\n"
     ]
    },
    {
     "name": "stderr",
     "output_type": "stream",
     "text": [
      "390it [34:36,  5.40s/it]0.000760, Training: 14.29%,  Loss: 2.99786, ACC: 46.70% "
     ]
    },
    {
     "name": "stdout",
     "output_type": "stream",
     "text": [
      "\n"
     ]
    },
    {
     "name": "stderr",
     "output_type": "stream",
     "text": [
      "391it [34:42,  5.40s/it]0.000760, Training: 14.32%,  Loss: 2.99814, ACC: 46.70% "
     ]
    },
    {
     "name": "stdout",
     "output_type": "stream",
     "text": [
      "\n"
     ]
    },
    {
     "name": "stderr",
     "output_type": "stream",
     "text": [
      "392it [34:47,  5.39s/it]0.000760, Training: 14.36%,  Loss: 2.99781, ACC: 46.69% "
     ]
    },
    {
     "name": "stdout",
     "output_type": "stream",
     "text": [
      "\n"
     ]
    },
    {
     "name": "stderr",
     "output_type": "stream",
     "text": [
      "393it [34:53,  5.42s/it]0.000760, Training: 14.40%,  Loss: 2.99817, ACC: 46.69% "
     ]
    },
    {
     "name": "stdout",
     "output_type": "stream",
     "text": [
      "\n"
     ]
    },
    {
     "name": "stderr",
     "output_type": "stream",
     "text": [
      "394it [34:58,  5.38s/it]0.000760, Training: 14.43%,  Loss: 2.99796, ACC: 46.68% "
     ]
    },
    {
     "name": "stdout",
     "output_type": "stream",
     "text": [
      "\n"
     ]
    },
    {
     "name": "stderr",
     "output_type": "stream",
     "text": [
      "395it [35:03,  5.44s/it]0.000760, Training: 14.47%,  Loss: 2.99696, ACC: 46.69% "
     ]
    },
    {
     "name": "stdout",
     "output_type": "stream",
     "text": [
      "\n"
     ]
    },
    {
     "name": "stderr",
     "output_type": "stream",
     "text": [
      "396it [35:09,  5.39s/it]0.000760, Training: 14.51%,  Loss: 2.99688, ACC: 46.69% "
     ]
    },
    {
     "name": "stdout",
     "output_type": "stream",
     "text": [
      "\n"
     ]
    },
    {
     "name": "stderr",
     "output_type": "stream",
     "text": [
      "397it [35:14,  5.43s/it]0.000760, Training: 14.54%,  Loss: 2.99731, ACC: 46.69% "
     ]
    },
    {
     "name": "stdout",
     "output_type": "stream",
     "text": [
      "\n"
     ]
    },
    {
     "name": "stderr",
     "output_type": "stream",
     "text": [
      "398it [35:20,  5.44s/it]0.000760, Training: 14.58%,  Loss: 2.99708, ACC: 46.69% "
     ]
    },
    {
     "name": "stdout",
     "output_type": "stream",
     "text": [
      "\n"
     ]
    },
    {
     "name": "stderr",
     "output_type": "stream",
     "text": [
      "399it [35:25,  5.41s/it]0.000760, Training: 14.62%,  Loss: 2.99685, ACC: 46.69% "
     ]
    },
    {
     "name": "stdout",
     "output_type": "stream",
     "text": [
      "\n"
     ]
    },
    {
     "name": "stderr",
     "output_type": "stream",
     "text": [
      "400it [35:30,  5.36s/it]0.000760, Training: 14.65%,  Loss: 2.99675, ACC: 46.68% "
     ]
    },
    {
     "name": "stdout",
     "output_type": "stream",
     "text": [
      "\n"
     ]
    },
    {
     "name": "stderr",
     "output_type": "stream",
     "text": [
      "401it [35:36,  5.37s/it]0.000760, Training: 14.69%,  Loss: 2.99609, ACC: 46.69% "
     ]
    },
    {
     "name": "stdout",
     "output_type": "stream",
     "text": [
      "\n"
     ]
    },
    {
     "name": "stderr",
     "output_type": "stream",
     "text": [
      "402it [35:41,  5.41s/it]0.000760, Training: 14.73%,  Loss: 2.99592, ACC: 46.69% "
     ]
    },
    {
     "name": "stdout",
     "output_type": "stream",
     "text": [
      "\n"
     ]
    },
    {
     "name": "stderr",
     "output_type": "stream",
     "text": [
      "403it [35:47,  5.41s/it]0.000760, Training: 14.76%,  Loss: 2.99581, ACC: 46.69% "
     ]
    },
    {
     "name": "stdout",
     "output_type": "stream",
     "text": [
      "\n"
     ]
    },
    {
     "name": "stderr",
     "output_type": "stream",
     "text": [
      "404it [35:52,  5.40s/it]0.000760, Training: 14.80%,  Loss: 2.99595, ACC: 46.69% "
     ]
    },
    {
     "name": "stdout",
     "output_type": "stream",
     "text": [
      "\n"
     ]
    },
    {
     "name": "stderr",
     "output_type": "stream",
     "text": [
      "405it [35:57,  5.37s/it]0.000760, Training: 14.84%,  Loss: 2.99583, ACC: 46.69% "
     ]
    },
    {
     "name": "stdout",
     "output_type": "stream",
     "text": [
      "\n"
     ]
    },
    {
     "name": "stderr",
     "output_type": "stream",
     "text": [
      "406it [36:03,  5.39s/it]0.000760, Training: 14.87%,  Loss: 2.99587, ACC: 46.69% "
     ]
    },
    {
     "name": "stdout",
     "output_type": "stream",
     "text": [
      "\n"
     ]
    },
    {
     "name": "stderr",
     "output_type": "stream",
     "text": [
      "407it [36:08,  5.42s/it]0.000760, Training: 14.91%,  Loss: 2.99620, ACC: 46.69% "
     ]
    },
    {
     "name": "stdout",
     "output_type": "stream",
     "text": [
      "\n"
     ]
    },
    {
     "name": "stderr",
     "output_type": "stream",
     "text": [
      "408it [36:14,  5.45s/it]0.000760, Training: 14.95%,  Loss: 2.99595, ACC: 46.70% "
     ]
    },
    {
     "name": "stdout",
     "output_type": "stream",
     "text": [
      "\n"
     ]
    },
    {
     "name": "stderr",
     "output_type": "stream",
     "text": [
      "409it [36:19,  5.43s/it]0.000760, Training: 14.98%,  Loss: 2.99528, ACC: 46.71% "
     ]
    },
    {
     "name": "stdout",
     "output_type": "stream",
     "text": [
      "\n"
     ]
    },
    {
     "name": "stderr",
     "output_type": "stream",
     "text": [
      "410it [36:25,  5.46s/it]0.000760, Training: 15.02%,  Loss: 2.99536, ACC: 46.70% "
     ]
    },
    {
     "name": "stdout",
     "output_type": "stream",
     "text": [
      "\n"
     ]
    },
    {
     "name": "stderr",
     "output_type": "stream",
     "text": [
      "411it [36:30,  5.46s/it]0.000760, Training: 15.05%,  Loss: 2.99511, ACC: 46.70% "
     ]
    },
    {
     "name": "stdout",
     "output_type": "stream",
     "text": [
      "\n"
     ]
    },
    {
     "name": "stderr",
     "output_type": "stream",
     "text": [
      "412it [36:35,  5.39s/it]0.000760, Training: 15.09%,  Loss: 2.99497, ACC: 46.71% "
     ]
    },
    {
     "name": "stdout",
     "output_type": "stream",
     "text": [
      "\n"
     ]
    },
    {
     "name": "stderr",
     "output_type": "stream",
     "text": [
      "413it [36:41,  5.36s/it]0.000760, Training: 15.13%,  Loss: 2.99458, ACC: 46.71% "
     ]
    },
    {
     "name": "stdout",
     "output_type": "stream",
     "text": [
      "\n"
     ]
    },
    {
     "name": "stderr",
     "output_type": "stream",
     "text": [
      "414it [36:46,  5.33s/it]0.000760, Training: 15.16%,  Loss: 2.99545, ACC: 46.70% "
     ]
    },
    {
     "name": "stdout",
     "output_type": "stream",
     "text": [
      "\n"
     ]
    },
    {
     "name": "stderr",
     "output_type": "stream",
     "text": [
      "415it [36:51,  5.35s/it]0.000760, Training: 15.20%,  Loss: 2.99589, ACC: 46.70% "
     ]
    },
    {
     "name": "stdout",
     "output_type": "stream",
     "text": [
      "\n"
     ]
    },
    {
     "name": "stderr",
     "output_type": "stream",
     "text": [
      "416it [36:57,  5.37s/it]0.000760, Training: 15.24%,  Loss: 2.99557, ACC: 46.70% "
     ]
    },
    {
     "name": "stdout",
     "output_type": "stream",
     "text": [
      "\n"
     ]
    },
    {
     "name": "stderr",
     "output_type": "stream",
     "text": [
      "417it [37:02,  5.33s/it]0.000760, Training: 15.27%,  Loss: 2.99556, ACC: 46.70% "
     ]
    },
    {
     "name": "stdout",
     "output_type": "stream",
     "text": [
      "\n"
     ]
    },
    {
     "name": "stderr",
     "output_type": "stream",
     "text": [
      "418it [37:07,  5.32s/it]0.000760, Training: 15.31%,  Loss: 2.99629, ACC: 46.69% "
     ]
    },
    {
     "name": "stdout",
     "output_type": "stream",
     "text": [
      "\n"
     ]
    },
    {
     "name": "stderr",
     "output_type": "stream",
     "text": [
      "419it [37:13,  5.34s/it]0.000760, Training: 15.35%,  Loss: 2.99605, ACC: 46.70% "
     ]
    },
    {
     "name": "stdout",
     "output_type": "stream",
     "text": [
      "\n"
     ]
    },
    {
     "name": "stderr",
     "output_type": "stream",
     "text": [
      "420it [37:18,  5.39s/it]0.000760, Training: 15.38%,  Loss: 2.99538, ACC: 46.71% "
     ]
    },
    {
     "name": "stdout",
     "output_type": "stream",
     "text": [
      "\n"
     ]
    },
    {
     "name": "stderr",
     "output_type": "stream",
     "text": [
      "421it [37:24,  5.40s/it]0.000760, Training: 15.42%,  Loss: 2.99546, ACC: 46.70% "
     ]
    },
    {
     "name": "stdout",
     "output_type": "stream",
     "text": [
      "\n"
     ]
    },
    {
     "name": "stderr",
     "output_type": "stream",
     "text": [
      "422it [37:29,  5.45s/it]0.000760, Training: 15.46%,  Loss: 2.99588, ACC: 46.69% "
     ]
    },
    {
     "name": "stdout",
     "output_type": "stream",
     "text": [
      "\n"
     ]
    },
    {
     "name": "stderr",
     "output_type": "stream",
     "text": [
      "423it [37:35,  5.44s/it]0.000760, Training: 15.49%,  Loss: 2.99576, ACC: 46.69% "
     ]
    },
    {
     "name": "stdout",
     "output_type": "stream",
     "text": [
      "\n"
     ]
    },
    {
     "name": "stderr",
     "output_type": "stream",
     "text": [
      "424it [37:40,  5.45s/it]0.000760, Training: 15.53%,  Loss: 2.99552, ACC: 46.70% "
     ]
    },
    {
     "name": "stdout",
     "output_type": "stream",
     "text": [
      "\n"
     ]
    },
    {
     "name": "stderr",
     "output_type": "stream",
     "text": [
      "425it [37:45,  5.42s/it]0.000760, Training: 15.57%,  Loss: 2.99528, ACC: 46.70% "
     ]
    },
    {
     "name": "stdout",
     "output_type": "stream",
     "text": [
      "\n"
     ]
    },
    {
     "name": "stderr",
     "output_type": "stream",
     "text": [
      "426it [37:51,  5.45s/it]0.000760, Training: 15.60%,  Loss: 2.99600, ACC: 46.69% "
     ]
    },
    {
     "name": "stdout",
     "output_type": "stream",
     "text": [
      "\n"
     ]
    },
    {
     "name": "stderr",
     "output_type": "stream",
     "text": [
      "427it [37:56,  5.45s/it]0.000760, Training: 15.64%,  Loss: 2.99684, ACC: 46.68% "
     ]
    },
    {
     "name": "stdout",
     "output_type": "stream",
     "text": [
      "\n"
     ]
    },
    {
     "name": "stderr",
     "output_type": "stream",
     "text": [
      "428it [38:02,  5.43s/it]0.000760, Training: 15.68%,  Loss: 2.99637, ACC: 46.68% "
     ]
    },
    {
     "name": "stdout",
     "output_type": "stream",
     "text": [
      "\n"
     ]
    },
    {
     "name": "stderr",
     "output_type": "stream",
     "text": [
      "429it [38:07,  5.38s/it]0.000760, Training: 15.71%,  Loss: 2.99648, ACC: 46.68% "
     ]
    },
    {
     "name": "stdout",
     "output_type": "stream",
     "text": [
      "\n"
     ]
    },
    {
     "name": "stderr",
     "output_type": "stream",
     "text": [
      "430it [38:12,  5.40s/it]0.000760, Training: 15.75%,  Loss: 2.99700, ACC: 46.67% "
     ]
    },
    {
     "name": "stdout",
     "output_type": "stream",
     "text": [
      "\n"
     ]
    },
    {
     "name": "stderr",
     "output_type": "stream",
     "text": [
      "431it [38:18,  5.36s/it]0.000760, Training: 15.79%,  Loss: 2.99741, ACC: 46.66% "
     ]
    },
    {
     "name": "stdout",
     "output_type": "stream",
     "text": [
      "\n"
     ]
    },
    {
     "name": "stderr",
     "output_type": "stream",
     "text": [
      "432it [38:23,  5.38s/it]0.000760, Training: 15.82%,  Loss: 2.99769, ACC: 46.66% "
     ]
    },
    {
     "name": "stdout",
     "output_type": "stream",
     "text": [
      "\n"
     ]
    },
    {
     "name": "stderr",
     "output_type": "stream",
     "text": [
      "433it [38:28,  5.36s/it]0.000760, Training: 15.86%,  Loss: 2.99784, ACC: 46.65% "
     ]
    },
    {
     "name": "stdout",
     "output_type": "stream",
     "text": [
      "\n"
     ]
    },
    {
     "name": "stderr",
     "output_type": "stream",
     "text": [
      "434it [38:34,  5.36s/it]0.000760, Training: 15.90%,  Loss: 2.99794, ACC: 46.66% "
     ]
    },
    {
     "name": "stdout",
     "output_type": "stream",
     "text": [
      "\n"
     ]
    },
    {
     "name": "stderr",
     "output_type": "stream",
     "text": [
      "435it [38:39,  5.37s/it]0.000760, Training: 15.93%,  Loss: 2.99815, ACC: 46.65% "
     ]
    },
    {
     "name": "stdout",
     "output_type": "stream",
     "text": [
      "\n"
     ]
    },
    {
     "name": "stderr",
     "output_type": "stream",
     "text": [
      "436it [38:45,  5.36s/it]0.000760, Training: 15.97%,  Loss: 2.99841, ACC: 46.65% "
     ]
    },
    {
     "name": "stdout",
     "output_type": "stream",
     "text": [
      "\n"
     ]
    },
    {
     "name": "stderr",
     "output_type": "stream",
     "text": [
      "437it [38:50,  5.36s/it]0.000760, Training: 16.01%,  Loss: 2.99855, ACC: 46.65% "
     ]
    },
    {
     "name": "stdout",
     "output_type": "stream",
     "text": [
      "\n"
     ]
    },
    {
     "name": "stderr",
     "output_type": "stream",
     "text": [
      "438it [38:55,  5.35s/it]0.000760, Training: 16.04%,  Loss: 2.99843, ACC: 46.65% "
     ]
    },
    {
     "name": "stdout",
     "output_type": "stream",
     "text": [
      "\n"
     ]
    },
    {
     "name": "stderr",
     "output_type": "stream",
     "text": [
      "439it [39:01,  5.38s/it]0.000760, Training: 16.08%,  Loss: 2.99815, ACC: 46.66% "
     ]
    },
    {
     "name": "stdout",
     "output_type": "stream",
     "text": [
      "\n"
     ]
    },
    {
     "name": "stderr",
     "output_type": "stream",
     "text": [
      "440it [39:06,  5.41s/it]0.000760, Training: 16.12%,  Loss: 2.99765, ACC: 46.66% "
     ]
    },
    {
     "name": "stdout",
     "output_type": "stream",
     "text": [
      "\n"
     ]
    },
    {
     "name": "stderr",
     "output_type": "stream",
     "text": [
      "441it [39:12,  5.38s/it]0.000760, Training: 16.15%,  Loss: 2.99840, ACC: 46.65% "
     ]
    },
    {
     "name": "stdout",
     "output_type": "stream",
     "text": [
      "\n"
     ]
    },
    {
     "name": "stderr",
     "output_type": "stream",
     "text": [
      "442it [39:17,  5.38s/it]0.000760, Training: 16.19%,  Loss: 2.99876, ACC: 46.65% "
     ]
    },
    {
     "name": "stdout",
     "output_type": "stream",
     "text": [
      "\n"
     ]
    },
    {
     "name": "stderr",
     "output_type": "stream",
     "text": [
      "443it [39:22,  5.33s/it]0.000760, Training: 16.23%,  Loss: 2.99871, ACC: 46.65% "
     ]
    },
    {
     "name": "stdout",
     "output_type": "stream",
     "text": [
      "\n"
     ]
    },
    {
     "name": "stderr",
     "output_type": "stream",
     "text": [
      "444it [39:27,  5.34s/it]0.000760, Training: 16.26%,  Loss: 2.99839, ACC: 46.66% "
     ]
    },
    {
     "name": "stdout",
     "output_type": "stream",
     "text": [
      "\n"
     ]
    },
    {
     "name": "stderr",
     "output_type": "stream",
     "text": [
      "445it [39:33,  5.31s/it]0.000760, Training: 16.30%,  Loss: 2.99835, ACC: 46.66% "
     ]
    },
    {
     "name": "stdout",
     "output_type": "stream",
     "text": [
      "\n"
     ]
    },
    {
     "name": "stderr",
     "output_type": "stream",
     "text": [
      "446it [39:38,  5.34s/it]0.000760, Training: 16.34%,  Loss: 2.99770, ACC: 46.67% "
     ]
    },
    {
     "name": "stdout",
     "output_type": "stream",
     "text": [
      "\n"
     ]
    },
    {
     "name": "stderr",
     "output_type": "stream",
     "text": [
      "447it [39:44,  5.38s/it]0.000760, Training: 16.37%,  Loss: 2.99753, ACC: 46.68% "
     ]
    },
    {
     "name": "stdout",
     "output_type": "stream",
     "text": [
      "\n"
     ]
    },
    {
     "name": "stderr",
     "output_type": "stream",
     "text": [
      "448it [39:49,  5.36s/it]0.000760, Training: 16.41%,  Loss: 2.99691, ACC: 46.69% "
     ]
    },
    {
     "name": "stdout",
     "output_type": "stream",
     "text": [
      "\n"
     ]
    },
    {
     "name": "stderr",
     "output_type": "stream",
     "text": [
      "449it [39:54,  5.37s/it]0.000760, Training: 16.45%,  Loss: 2.99709, ACC: 46.68% "
     ]
    },
    {
     "name": "stdout",
     "output_type": "stream",
     "text": [
      "\n"
     ]
    },
    {
     "name": "stderr",
     "output_type": "stream",
     "text": [
      "450it [40:00,  5.37s/it]0.000760, Training: 16.48%,  Loss: 2.99679, ACC: 46.69% "
     ]
    },
    {
     "name": "stdout",
     "output_type": "stream",
     "text": [
      "\n"
     ]
    },
    {
     "name": "stderr",
     "output_type": "stream",
     "text": [
      "451it [40:05,  5.37s/it]0.000760, Training: 16.52%,  Loss: 2.99669, ACC: 46.68% "
     ]
    },
    {
     "name": "stdout",
     "output_type": "stream",
     "text": [
      "\n"
     ]
    },
    {
     "name": "stderr",
     "output_type": "stream",
     "text": [
      "452it [40:10,  5.34s/it]0.000760, Training: 16.56%,  Loss: 2.99583, ACC: 46.70% "
     ]
    },
    {
     "name": "stdout",
     "output_type": "stream",
     "text": [
      "\n"
     ]
    },
    {
     "name": "stderr",
     "output_type": "stream",
     "text": [
      "453it [40:16,  5.40s/it]0.000760, Training: 16.59%,  Loss: 2.99561, ACC: 46.71% "
     ]
    },
    {
     "name": "stdout",
     "output_type": "stream",
     "text": [
      "\n"
     ]
    },
    {
     "name": "stderr",
     "output_type": "stream",
     "text": [
      "454it [40:21,  5.38s/it]0.000760, Training: 16.63%,  Loss: 2.99573, ACC: 46.71% "
     ]
    },
    {
     "name": "stdout",
     "output_type": "stream",
     "text": [
      "\n"
     ]
    },
    {
     "name": "stderr",
     "output_type": "stream",
     "text": [
      "455it [40:27,  5.44s/it]0.000760, Training: 16.67%,  Loss: 2.99562, ACC: 46.72% "
     ]
    },
    {
     "name": "stdout",
     "output_type": "stream",
     "text": [
      "\n"
     ]
    },
    {
     "name": "stderr",
     "output_type": "stream",
     "text": [
      "456it [40:32,  5.42s/it]0.000760, Training: 16.70%,  Loss: 2.99511, ACC: 46.73% "
     ]
    },
    {
     "name": "stdout",
     "output_type": "stream",
     "text": [
      "\n"
     ]
    },
    {
     "name": "stderr",
     "output_type": "stream",
     "text": [
      "457it [40:38,  5.40s/it]0.000760, Training: 16.74%,  Loss: 2.99489, ACC: 46.73% "
     ]
    },
    {
     "name": "stdout",
     "output_type": "stream",
     "text": [
      "\n"
     ]
    },
    {
     "name": "stderr",
     "output_type": "stream",
     "text": [
      "458it [40:43,  5.37s/it]0.000760, Training: 16.78%,  Loss: 2.99502, ACC: 46.72% "
     ]
    },
    {
     "name": "stdout",
     "output_type": "stream",
     "text": [
      "\n"
     ]
    },
    {
     "name": "stderr",
     "output_type": "stream",
     "text": [
      "459it [40:48,  5.36s/it]0.000760, Training: 16.81%,  Loss: 2.99534, ACC: 46.72% "
     ]
    },
    {
     "name": "stdout",
     "output_type": "stream",
     "text": [
      "\n"
     ]
    },
    {
     "name": "stderr",
     "output_type": "stream",
     "text": [
      "460it [40:53,  5.36s/it]0.000760, Training: 16.85%,  Loss: 2.99515, ACC: 46.73% "
     ]
    },
    {
     "name": "stdout",
     "output_type": "stream",
     "text": [
      "\n"
     ]
    },
    {
     "name": "stderr",
     "output_type": "stream",
     "text": [
      "461it [40:59,  5.33s/it]0.000760, Training: 16.89%,  Loss: 2.99474, ACC: 46.73% "
     ]
    },
    {
     "name": "stdout",
     "output_type": "stream",
     "text": [
      "\n"
     ]
    },
    {
     "name": "stderr",
     "output_type": "stream",
     "text": [
      "462it [41:04,  5.29s/it]0.000760, Training: 16.92%,  Loss: 2.99459, ACC: 46.73% "
     ]
    },
    {
     "name": "stdout",
     "output_type": "stream",
     "text": [
      "\n"
     ]
    },
    {
     "name": "stderr",
     "output_type": "stream",
     "text": [
      "463it [41:09,  5.33s/it]0.000760, Training: 16.96%,  Loss: 2.99457, ACC: 46.74% "
     ]
    },
    {
     "name": "stdout",
     "output_type": "stream",
     "text": [
      "\n"
     ]
    },
    {
     "name": "stderr",
     "output_type": "stream",
     "text": [
      "464it [41:15,  5.31s/it]0.000760, Training: 17.00%,  Loss: 2.99430, ACC: 46.74% "
     ]
    },
    {
     "name": "stdout",
     "output_type": "stream",
     "text": [
      "\n"
     ]
    },
    {
     "name": "stderr",
     "output_type": "stream",
     "text": [
      "465it [41:20,  5.37s/it]0.000760, Training: 17.03%,  Loss: 2.99450, ACC: 46.74% "
     ]
    },
    {
     "name": "stdout",
     "output_type": "stream",
     "text": [
      "\n"
     ]
    },
    {
     "name": "stderr",
     "output_type": "stream",
     "text": [
      "466it [41:25,  5.36s/it]0.000760, Training: 17.07%,  Loss: 2.99458, ACC: 46.74% "
     ]
    },
    {
     "name": "stdout",
     "output_type": "stream",
     "text": [
      "\n"
     ]
    },
    {
     "name": "stderr",
     "output_type": "stream",
     "text": [
      "467it [41:31,  5.36s/it]0.000760, Training: 17.11%,  Loss: 2.99410, ACC: 46.75% "
     ]
    },
    {
     "name": "stdout",
     "output_type": "stream",
     "text": [
      "\n"
     ]
    },
    {
     "name": "stderr",
     "output_type": "stream",
     "text": [
      "468it [41:36,  5.35s/it]0.000760, Training: 17.14%,  Loss: 2.99433, ACC: 46.74% "
     ]
    },
    {
     "name": "stdout",
     "output_type": "stream",
     "text": [
      "\n"
     ]
    },
    {
     "name": "stderr",
     "output_type": "stream",
     "text": [
      "469it [41:42,  5.38s/it]0.000760, Training: 17.18%,  Loss: 2.99491, ACC: 46.74% "
     ]
    },
    {
     "name": "stdout",
     "output_type": "stream",
     "text": [
      "\n"
     ]
    },
    {
     "name": "stderr",
     "output_type": "stream",
     "text": [
      "470it [41:47,  5.39s/it]0.000760, Training: 17.22%,  Loss: 2.99450, ACC: 46.74% "
     ]
    },
    {
     "name": "stdout",
     "output_type": "stream",
     "text": [
      "\n"
     ]
    },
    {
     "name": "stderr",
     "output_type": "stream",
     "text": [
      "471it [41:52,  5.39s/it]0.000760, Training: 17.25%,  Loss: 2.99464, ACC: 46.74% "
     ]
    },
    {
     "name": "stdout",
     "output_type": "stream",
     "text": [
      "\n"
     ]
    },
    {
     "name": "stderr",
     "output_type": "stream",
     "text": [
      "472it [41:58,  5.37s/it]0.000760, Training: 17.29%,  Loss: 2.99504, ACC: 46.74% "
     ]
    },
    {
     "name": "stdout",
     "output_type": "stream",
     "text": [
      "\n"
     ]
    },
    {
     "name": "stderr",
     "output_type": "stream",
     "text": [
      "473it [42:03,  5.35s/it]0.000760, Training: 17.33%,  Loss: 2.99450, ACC: 46.75% "
     ]
    },
    {
     "name": "stdout",
     "output_type": "stream",
     "text": [
      "\n"
     ]
    },
    {
     "name": "stderr",
     "output_type": "stream",
     "text": [
      "474it [42:08,  5.37s/it]0.000760, Training: 17.36%,  Loss: 2.99444, ACC: 46.75% "
     ]
    },
    {
     "name": "stdout",
     "output_type": "stream",
     "text": [
      "\n"
     ]
    },
    {
     "name": "stderr",
     "output_type": "stream",
     "text": [
      "475it [42:14,  5.36s/it]0.000760, Training: 17.40%,  Loss: 2.99411, ACC: 46.75% "
     ]
    },
    {
     "name": "stdout",
     "output_type": "stream",
     "text": [
      "\n"
     ]
    },
    {
     "name": "stderr",
     "output_type": "stream",
     "text": [
      "476it [42:19,  5.35s/it]0.000760, Training: 17.44%,  Loss: 2.99412, ACC: 46.75% "
     ]
    },
    {
     "name": "stdout",
     "output_type": "stream",
     "text": [
      "\n"
     ]
    },
    {
     "name": "stderr",
     "output_type": "stream",
     "text": [
      "477it [42:24,  5.36s/it]0.000760, Training: 17.47%,  Loss: 2.99402, ACC: 46.75% "
     ]
    },
    {
     "name": "stdout",
     "output_type": "stream",
     "text": [
      "\n"
     ]
    },
    {
     "name": "stderr",
     "output_type": "stream",
     "text": [
      "478it [42:30,  5.44s/it]0.000760, Training: 17.51%,  Loss: 2.99399, ACC: 46.75% "
     ]
    },
    {
     "name": "stdout",
     "output_type": "stream",
     "text": [
      "\n"
     ]
    },
    {
     "name": "stderr",
     "output_type": "stream",
     "text": [
      "479it [42:35,  5.36s/it]0.000760, Training: 17.55%,  Loss: 2.99400, ACC: 46.75% "
     ]
    },
    {
     "name": "stdout",
     "output_type": "stream",
     "text": [
      "\n"
     ]
    },
    {
     "name": "stderr",
     "output_type": "stream",
     "text": [
      "480it [42:41,  5.41s/it]0.000760, Training: 17.58%,  Loss: 2.99389, ACC: 46.74% "
     ]
    },
    {
     "name": "stdout",
     "output_type": "stream",
     "text": [
      "\n"
     ]
    },
    {
     "name": "stderr",
     "output_type": "stream",
     "text": [
      "481it [42:46,  5.40s/it]0.000760, Training: 17.62%,  Loss: 2.99403, ACC: 46.75% "
     ]
    },
    {
     "name": "stdout",
     "output_type": "stream",
     "text": [
      "\n"
     ]
    },
    {
     "name": "stderr",
     "output_type": "stream",
     "text": [
      "482it [42:52,  5.43s/it]0.000760, Training: 17.66%,  Loss: 2.99358, ACC: 46.75% "
     ]
    },
    {
     "name": "stdout",
     "output_type": "stream",
     "text": [
      "\n"
     ]
    },
    {
     "name": "stderr",
     "output_type": "stream",
     "text": [
      "483it [42:57,  5.42s/it]0.000760, Training: 17.69%,  Loss: 2.99347, ACC: 46.75% "
     ]
    },
    {
     "name": "stdout",
     "output_type": "stream",
     "text": [
      "\n"
     ]
    },
    {
     "name": "stderr",
     "output_type": "stream",
     "text": [
      "484it [43:03,  5.42s/it]0.000760, Training: 17.73%,  Loss: 2.99329, ACC: 46.75% "
     ]
    },
    {
     "name": "stdout",
     "output_type": "stream",
     "text": [
      "\n"
     ]
    },
    {
     "name": "stderr",
     "output_type": "stream",
     "text": [
      "485it [43:08,  5.35s/it]0.000760, Training: 17.77%,  Loss: 2.99356, ACC: 46.75% "
     ]
    },
    {
     "name": "stdout",
     "output_type": "stream",
     "text": [
      "\n"
     ]
    },
    {
     "name": "stderr",
     "output_type": "stream",
     "text": [
      "486it [43:13,  5.40s/it]0.000760, Training: 17.80%,  Loss: 2.99382, ACC: 46.74% "
     ]
    },
    {
     "name": "stdout",
     "output_type": "stream",
     "text": [
      "\n"
     ]
    },
    {
     "name": "stderr",
     "output_type": "stream",
     "text": [
      "487it [43:19,  5.38s/it]0.000760, Training: 17.84%,  Loss: 2.99403, ACC: 46.74% "
     ]
    },
    {
     "name": "stdout",
     "output_type": "stream",
     "text": [
      "\n"
     ]
    },
    {
     "name": "stderr",
     "output_type": "stream",
     "text": [
      "488it [43:24,  5.35s/it]0.000760, Training: 17.88%,  Loss: 2.99350, ACC: 46.75% "
     ]
    },
    {
     "name": "stdout",
     "output_type": "stream",
     "text": [
      "\n"
     ]
    },
    {
     "name": "stderr",
     "output_type": "stream",
     "text": [
      "489it [43:29,  5.32s/it]0.000760, Training: 17.91%,  Loss: 2.99335, ACC: 46.75% "
     ]
    },
    {
     "name": "stdout",
     "output_type": "stream",
     "text": [
      "\n"
     ]
    },
    {
     "name": "stderr",
     "output_type": "stream",
     "text": [
      "490it [43:34,  5.28s/it]0.000760, Training: 17.95%,  Loss: 2.99349, ACC: 46.76% "
     ]
    },
    {
     "name": "stdout",
     "output_type": "stream",
     "text": [
      "\n"
     ]
    },
    {
     "name": "stderr",
     "output_type": "stream",
     "text": [
      "491it [43:40,  5.35s/it]0.000760, Training: 17.99%,  Loss: 2.99340, ACC: 46.76% "
     ]
    },
    {
     "name": "stdout",
     "output_type": "stream",
     "text": [
      "\n"
     ]
    },
    {
     "name": "stderr",
     "output_type": "stream",
     "text": [
      "492it [43:45,  5.36s/it]0.000760, Training: 18.02%,  Loss: 2.99339, ACC: 46.76% "
     ]
    },
    {
     "name": "stdout",
     "output_type": "stream",
     "text": [
      "\n"
     ]
    },
    {
     "name": "stderr",
     "output_type": "stream",
     "text": [
      "493it [43:51,  5.39s/it]0.000760, Training: 18.06%,  Loss: 2.99363, ACC: 46.76% "
     ]
    },
    {
     "name": "stdout",
     "output_type": "stream",
     "text": [
      "\n"
     ]
    },
    {
     "name": "stderr",
     "output_type": "stream",
     "text": [
      "494it [43:56,  5.39s/it]0.000760, Training: 18.10%,  Loss: 2.99345, ACC: 46.76% "
     ]
    },
    {
     "name": "stdout",
     "output_type": "stream",
     "text": [
      "\n"
     ]
    },
    {
     "name": "stderr",
     "output_type": "stream",
     "text": [
      "495it [44:01,  5.34s/it]0.000760, Training: 18.13%,  Loss: 2.99380, ACC: 46.76% "
     ]
    },
    {
     "name": "stdout",
     "output_type": "stream",
     "text": [
      "\n"
     ]
    },
    {
     "name": "stderr",
     "output_type": "stream",
     "text": [
      "496it [44:07,  5.33s/it]0.000760, Training: 18.17%,  Loss: 2.99385, ACC: 46.76% "
     ]
    },
    {
     "name": "stdout",
     "output_type": "stream",
     "text": [
      "\n"
     ]
    },
    {
     "name": "stderr",
     "output_type": "stream",
     "text": [
      "497it [44:12,  5.32s/it]0.000760, Training: 18.21%,  Loss: 2.99376, ACC: 46.77% "
     ]
    },
    {
     "name": "stdout",
     "output_type": "stream",
     "text": [
      "\n"
     ]
    },
    {
     "name": "stderr",
     "output_type": "stream",
     "text": [
      "498it [44:17,  5.33s/it]0.000760, Training: 18.24%,  Loss: 2.99408, ACC: 46.77% "
     ]
    },
    {
     "name": "stdout",
     "output_type": "stream",
     "text": [
      "\n"
     ]
    },
    {
     "name": "stderr",
     "output_type": "stream",
     "text": [
      "499it [44:23,  5.39s/it]0.000760, Training: 18.28%,  Loss: 2.99442, ACC: 46.77% "
     ]
    },
    {
     "name": "stdout",
     "output_type": "stream",
     "text": [
      "\n"
     ]
    },
    {
     "name": "stderr",
     "output_type": "stream",
     "text": [
      "500it [44:28,  5.38s/it]0.000760, Training: 18.32%,  Loss: 2.99424, ACC: 46.77% "
     ]
    },
    {
     "name": "stdout",
     "output_type": "stream",
     "text": [
      "\n"
     ]
    },
    {
     "name": "stderr",
     "output_type": "stream",
     "text": [
      "501it [44:33,  5.38s/it]0.000760, Training: 18.35%,  Loss: 2.99461, ACC: 46.77% "
     ]
    },
    {
     "name": "stdout",
     "output_type": "stream",
     "text": [
      "\n"
     ]
    },
    {
     "name": "stderr",
     "output_type": "stream",
     "text": [
      "502it [44:39,  5.37s/it]0.000760, Training: 18.39%,  Loss: 2.99448, ACC: 46.77% "
     ]
    },
    {
     "name": "stdout",
     "output_type": "stream",
     "text": [
      "\n"
     ]
    },
    {
     "name": "stderr",
     "output_type": "stream",
     "text": [
      "503it [44:44,  5.36s/it]0.000760, Training: 18.42%,  Loss: 2.99421, ACC: 46.77% "
     ]
    },
    {
     "name": "stdout",
     "output_type": "stream",
     "text": [
      "\n"
     ]
    },
    {
     "name": "stderr",
     "output_type": "stream",
     "text": [
      "504it [44:49,  5.32s/it]0.000760, Training: 18.46%,  Loss: 2.99374, ACC: 46.77% "
     ]
    },
    {
     "name": "stdout",
     "output_type": "stream",
     "text": [
      "\n"
     ]
    },
    {
     "name": "stderr",
     "output_type": "stream",
     "text": [
      "505it [44:55,  5.32s/it]0.000760, Training: 18.50%,  Loss: 2.99384, ACC: 46.77% "
     ]
    },
    {
     "name": "stdout",
     "output_type": "stream",
     "text": [
      "\n"
     ]
    },
    {
     "name": "stderr",
     "output_type": "stream",
     "text": [
      "506it [45:00,  5.34s/it]0.000760, Training: 18.53%,  Loss: 2.99358, ACC: 46.77% "
     ]
    },
    {
     "name": "stdout",
     "output_type": "stream",
     "text": [
      "\n"
     ]
    },
    {
     "name": "stderr",
     "output_type": "stream",
     "text": [
      "507it [45:05,  5.35s/it]0.000760, Training: 18.57%,  Loss: 2.99373, ACC: 46.77% "
     ]
    },
    {
     "name": "stdout",
     "output_type": "stream",
     "text": [
      "\n"
     ]
    },
    {
     "name": "stderr",
     "output_type": "stream",
     "text": [
      "508it [45:11,  5.37s/it]0.000760, Training: 18.61%,  Loss: 2.99356, ACC: 46.77% "
     ]
    },
    {
     "name": "stdout",
     "output_type": "stream",
     "text": [
      "\n"
     ]
    },
    {
     "name": "stderr",
     "output_type": "stream",
     "text": [
      "509it [45:16,  5.34s/it]0.000760, Training: 18.64%,  Loss: 2.99369, ACC: 46.77% "
     ]
    },
    {
     "name": "stdout",
     "output_type": "stream",
     "text": [
      "\n"
     ]
    },
    {
     "name": "stderr",
     "output_type": "stream",
     "text": [
      "510it [45:21,  5.28s/it]0.000760, Training: 18.68%,  Loss: 2.99388, ACC: 46.78% "
     ]
    },
    {
     "name": "stdout",
     "output_type": "stream",
     "text": [
      "\n"
     ]
    },
    {
     "name": "stderr",
     "output_type": "stream",
     "text": [
      "511it [45:27,  5.31s/it]0.000760, Training: 18.72%,  Loss: 2.99395, ACC: 46.78% "
     ]
    },
    {
     "name": "stdout",
     "output_type": "stream",
     "text": [
      "\n"
     ]
    },
    {
     "name": "stderr",
     "output_type": "stream",
     "text": [
      "512it [45:32,  5.31s/it]0.000760, Training: 18.75%,  Loss: 2.99322, ACC: 46.79% "
     ]
    },
    {
     "name": "stdout",
     "output_type": "stream",
     "text": [
      "\n"
     ]
    },
    {
     "name": "stderr",
     "output_type": "stream",
     "text": [
      "513it [45:37,  5.31s/it]0.000760, Training: 18.79%,  Loss: 2.99319, ACC: 46.79% "
     ]
    },
    {
     "name": "stdout",
     "output_type": "stream",
     "text": [
      "\n"
     ]
    },
    {
     "name": "stderr",
     "output_type": "stream",
     "text": [
      "514it [45:42,  5.27s/it]0.000760, Training: 18.83%,  Loss: 2.99335, ACC: 46.79% "
     ]
    },
    {
     "name": "stdout",
     "output_type": "stream",
     "text": [
      "\n"
     ]
    },
    {
     "name": "stderr",
     "output_type": "stream",
     "text": [
      "515it [45:48,  5.26s/it]0.000760, Training: 18.86%,  Loss: 2.99315, ACC: 46.80% "
     ]
    },
    {
     "name": "stdout",
     "output_type": "stream",
     "text": [
      "\n"
     ]
    },
    {
     "name": "stderr",
     "output_type": "stream",
     "text": [
      "516it [45:53,  5.25s/it]0.000760, Training: 18.90%,  Loss: 2.99297, ACC: 46.81% "
     ]
    },
    {
     "name": "stdout",
     "output_type": "stream",
     "text": [
      "\n"
     ]
    },
    {
     "name": "stderr",
     "output_type": "stream",
     "text": [
      "517it [45:58,  5.28s/it]0.000760, Training: 18.94%,  Loss: 2.99315, ACC: 46.80% "
     ]
    },
    {
     "name": "stdout",
     "output_type": "stream",
     "text": [
      "\n"
     ]
    },
    {
     "name": "stderr",
     "output_type": "stream",
     "text": [
      "518it [46:04,  5.30s/it]0.000760, Training: 18.97%,  Loss: 2.99310, ACC: 46.81% "
     ]
    },
    {
     "name": "stdout",
     "output_type": "stream",
     "text": [
      "\n"
     ]
    },
    {
     "name": "stderr",
     "output_type": "stream",
     "text": [
      "519it [46:09,  5.33s/it]0.000760, Training: 19.01%,  Loss: 2.99335, ACC: 46.80% "
     ]
    },
    {
     "name": "stdout",
     "output_type": "stream",
     "text": [
      "\n"
     ]
    },
    {
     "name": "stderr",
     "output_type": "stream",
     "text": [
      "520it [46:14,  5.32s/it]0.000760, Training: 19.05%,  Loss: 2.99328, ACC: 46.80% "
     ]
    },
    {
     "name": "stdout",
     "output_type": "stream",
     "text": [
      "\n"
     ]
    },
    {
     "name": "stderr",
     "output_type": "stream",
     "text": [
      "521it [46:20,  5.36s/it]0.000760, Training: 19.08%,  Loss: 2.99355, ACC: 46.80% "
     ]
    },
    {
     "name": "stdout",
     "output_type": "stream",
     "text": [
      "\n"
     ]
    },
    {
     "name": "stderr",
     "output_type": "stream",
     "text": [
      "522it [46:25,  5.37s/it]0.000760, Training: 19.12%,  Loss: 2.99290, ACC: 46.81% "
     ]
    },
    {
     "name": "stdout",
     "output_type": "stream",
     "text": [
      "\n"
     ]
    },
    {
     "name": "stderr",
     "output_type": "stream",
     "text": [
      "523it [46:30,  5.35s/it]0.000760, Training: 19.16%,  Loss: 2.99307, ACC: 46.81% "
     ]
    },
    {
     "name": "stdout",
     "output_type": "stream",
     "text": [
      "\n"
     ]
    },
    {
     "name": "stderr",
     "output_type": "stream",
     "text": [
      "524it [46:36,  5.35s/it]0.000760, Training: 19.19%,  Loss: 2.99326, ACC: 46.81% "
     ]
    },
    {
     "name": "stdout",
     "output_type": "stream",
     "text": [
      "\n"
     ]
    },
    {
     "name": "stderr",
     "output_type": "stream",
     "text": [
      "525it [46:41,  5.36s/it]0.000760, Training: 19.23%,  Loss: 2.99297, ACC: 46.81% "
     ]
    },
    {
     "name": "stdout",
     "output_type": "stream",
     "text": [
      "\n"
     ]
    },
    {
     "name": "stderr",
     "output_type": "stream",
     "text": [
      "526it [46:47,  5.37s/it]0.000760, Training: 19.27%,  Loss: 2.99334, ACC: 46.81% "
     ]
    },
    {
     "name": "stdout",
     "output_type": "stream",
     "text": [
      "\n"
     ]
    },
    {
     "name": "stderr",
     "output_type": "stream",
     "text": [
      "527it [46:52,  5.36s/it]0.000760, Training: 19.30%,  Loss: 2.99323, ACC: 46.81% "
     ]
    },
    {
     "name": "stdout",
     "output_type": "stream",
     "text": [
      "\n"
     ]
    },
    {
     "name": "stderr",
     "output_type": "stream",
     "text": [
      "528it [46:57,  5.36s/it]0.000760, Training: 19.34%,  Loss: 2.99383, ACC: 46.81% "
     ]
    },
    {
     "name": "stdout",
     "output_type": "stream",
     "text": [
      "\n"
     ]
    },
    {
     "name": "stderr",
     "output_type": "stream",
     "text": [
      "529it [47:03,  5.35s/it]0.000760, Training: 19.38%,  Loss: 2.99404, ACC: 46.80% "
     ]
    },
    {
     "name": "stdout",
     "output_type": "stream",
     "text": [
      "\n"
     ]
    },
    {
     "name": "stderr",
     "output_type": "stream",
     "text": [
      "530it [47:08,  5.36s/it]0.000760, Training: 19.41%,  Loss: 2.99438, ACC: 46.80% "
     ]
    },
    {
     "name": "stdout",
     "output_type": "stream",
     "text": [
      "\n"
     ]
    },
    {
     "name": "stderr",
     "output_type": "stream",
     "text": [
      "531it [47:13,  5.30s/it]0.000760, Training: 19.45%,  Loss: 2.99377, ACC: 46.81% "
     ]
    },
    {
     "name": "stdout",
     "output_type": "stream",
     "text": [
      "\n"
     ]
    },
    {
     "name": "stderr",
     "output_type": "stream",
     "text": [
      "532it [47:18,  5.31s/it]0.000760, Training: 19.49%,  Loss: 2.99383, ACC: 46.81% "
     ]
    },
    {
     "name": "stdout",
     "output_type": "stream",
     "text": [
      "\n"
     ]
    },
    {
     "name": "stderr",
     "output_type": "stream",
     "text": [
      "533it [47:24,  5.34s/it]0.000760, Training: 19.52%,  Loss: 2.99413, ACC: 46.82% "
     ]
    },
    {
     "name": "stdout",
     "output_type": "stream",
     "text": [
      "\n"
     ]
    },
    {
     "name": "stderr",
     "output_type": "stream",
     "text": [
      "534it [47:29,  5.32s/it]0.000760, Training: 19.56%,  Loss: 2.99384, ACC: 46.82% "
     ]
    },
    {
     "name": "stdout",
     "output_type": "stream",
     "text": [
      "\n"
     ]
    },
    {
     "name": "stderr",
     "output_type": "stream",
     "text": [
      "535it [47:35,  5.33s/it]0.000760, Training: 19.60%,  Loss: 2.99362, ACC: 46.82% "
     ]
    },
    {
     "name": "stdout",
     "output_type": "stream",
     "text": [
      "\n"
     ]
    },
    {
     "name": "stderr",
     "output_type": "stream",
     "text": [
      "536it [47:40,  5.35s/it]0.000760, Training: 19.63%,  Loss: 2.99390, ACC: 46.82% "
     ]
    },
    {
     "name": "stdout",
     "output_type": "stream",
     "text": [
      "\n"
     ]
    },
    {
     "name": "stderr",
     "output_type": "stream",
     "text": [
      "537it [47:45,  5.36s/it]0.000760, Training: 19.67%,  Loss: 2.99412, ACC: 46.81% "
     ]
    },
    {
     "name": "stdout",
     "output_type": "stream",
     "text": [
      "\n"
     ]
    },
    {
     "name": "stderr",
     "output_type": "stream",
     "text": [
      "538it [47:51,  5.36s/it]0.000760, Training: 19.71%,  Loss: 2.99398, ACC: 46.82% "
     ]
    },
    {
     "name": "stdout",
     "output_type": "stream",
     "text": [
      "\n"
     ]
    },
    {
     "name": "stderr",
     "output_type": "stream",
     "text": [
      "539it [47:56,  5.34s/it]0.000760, Training: 19.74%,  Loss: 2.99438, ACC: 46.82% "
     ]
    },
    {
     "name": "stdout",
     "output_type": "stream",
     "text": [
      "\n"
     ]
    },
    {
     "name": "stderr",
     "output_type": "stream",
     "text": [
      "540it [48:01,  5.39s/it]0.000760, Training: 19.78%,  Loss: 2.99403, ACC: 46.82% "
     ]
    },
    {
     "name": "stdout",
     "output_type": "stream",
     "text": [
      "\n"
     ]
    },
    {
     "name": "stderr",
     "output_type": "stream",
     "text": [
      "541it [48:07,  5.41s/it]0.000760, Training: 19.82%,  Loss: 2.99426, ACC: 46.82% "
     ]
    },
    {
     "name": "stdout",
     "output_type": "stream",
     "text": [
      "\n"
     ]
    },
    {
     "name": "stderr",
     "output_type": "stream",
     "text": [
      "542it [48:12,  5.43s/it]0.000760, Training: 19.85%,  Loss: 2.99442, ACC: 46.82% "
     ]
    },
    {
     "name": "stdout",
     "output_type": "stream",
     "text": [
      "\n"
     ]
    },
    {
     "name": "stderr",
     "output_type": "stream",
     "text": [
      "543it [48:18,  5.40s/it]0.000760, Training: 19.89%,  Loss: 2.99481, ACC: 46.81% "
     ]
    },
    {
     "name": "stdout",
     "output_type": "stream",
     "text": [
      "\n"
     ]
    },
    {
     "name": "stderr",
     "output_type": "stream",
     "text": [
      "544it [48:23,  5.38s/it]0.000760, Training: 19.93%,  Loss: 2.99494, ACC: 46.81% "
     ]
    },
    {
     "name": "stdout",
     "output_type": "stream",
     "text": [
      "\n"
     ]
    },
    {
     "name": "stderr",
     "output_type": "stream",
     "text": [
      "545it [48:28,  5.39s/it]0.000760, Training: 19.96%,  Loss: 2.99531, ACC: 46.81% "
     ]
    },
    {
     "name": "stdout",
     "output_type": "stream",
     "text": [
      "\n"
     ]
    },
    {
     "name": "stderr",
     "output_type": "stream",
     "text": [
      "546it [48:34,  5.41s/it]0.000760, Training: 20.00%,  Loss: 2.99529, ACC: 46.80% "
     ]
    },
    {
     "name": "stdout",
     "output_type": "stream",
     "text": [
      "\n"
     ]
    },
    {
     "name": "stderr",
     "output_type": "stream",
     "text": [
      "547it [48:39,  5.41s/it]0.000760, Training: 20.04%,  Loss: 2.99537, ACC: 46.80% "
     ]
    },
    {
     "name": "stdout",
     "output_type": "stream",
     "text": [
      "\n"
     ]
    },
    {
     "name": "stderr",
     "output_type": "stream",
     "text": [
      "548it [48:45,  5.41s/it]0.000760, Training: 20.07%,  Loss: 2.99563, ACC: 46.80% "
     ]
    },
    {
     "name": "stdout",
     "output_type": "stream",
     "text": [
      "\n"
     ]
    },
    {
     "name": "stderr",
     "output_type": "stream",
     "text": [
      "549it [48:50,  5.35s/it]0.000760, Training: 20.11%,  Loss: 2.99584, ACC: 46.80% "
     ]
    },
    {
     "name": "stdout",
     "output_type": "stream",
     "text": [
      "\n"
     ]
    },
    {
     "name": "stderr",
     "output_type": "stream",
     "text": [
      "550it [48:55,  5.29s/it]0.000760, Training: 20.15%,  Loss: 2.99630, ACC: 46.80% "
     ]
    },
    {
     "name": "stdout",
     "output_type": "stream",
     "text": [
      "\n"
     ]
    },
    {
     "name": "stderr",
     "output_type": "stream",
     "text": [
      "551it [49:00,  5.31s/it]0.000760, Training: 20.18%,  Loss: 2.99621, ACC: 46.79% "
     ]
    },
    {
     "name": "stdout",
     "output_type": "stream",
     "text": [
      "\n"
     ]
    },
    {
     "name": "stderr",
     "output_type": "stream",
     "text": [
      "552it [49:06,  5.35s/it]0.000760, Training: 20.22%,  Loss: 2.99654, ACC: 46.79% "
     ]
    },
    {
     "name": "stdout",
     "output_type": "stream",
     "text": [
      "\n"
     ]
    },
    {
     "name": "stderr",
     "output_type": "stream",
     "text": [
      "553it [49:11,  5.33s/it]0.000760, Training: 20.26%,  Loss: 2.99608, ACC: 46.80% "
     ]
    },
    {
     "name": "stdout",
     "output_type": "stream",
     "text": [
      "\n"
     ]
    },
    {
     "name": "stderr",
     "output_type": "stream",
     "text": [
      "554it [49:16,  5.28s/it]0.000760, Training: 20.29%,  Loss: 2.99580, ACC: 46.81% "
     ]
    },
    {
     "name": "stdout",
     "output_type": "stream",
     "text": [
      "\n"
     ]
    },
    {
     "name": "stderr",
     "output_type": "stream",
     "text": [
      "555it [49:22,  5.30s/it]0.000760, Training: 20.33%,  Loss: 2.99550, ACC: 46.81% "
     ]
    },
    {
     "name": "stdout",
     "output_type": "stream",
     "text": [
      "\n"
     ]
    },
    {
     "name": "stderr",
     "output_type": "stream",
     "text": [
      "556it [49:27,  5.29s/it]0.000760, Training: 20.37%,  Loss: 2.99559, ACC: 46.81% "
     ]
    },
    {
     "name": "stdout",
     "output_type": "stream",
     "text": [
      "\n"
     ]
    },
    {
     "name": "stderr",
     "output_type": "stream",
     "text": [
      "557it [49:32,  5.26s/it]0.000760, Training: 20.40%,  Loss: 2.99545, ACC: 46.81% "
     ]
    },
    {
     "name": "stdout",
     "output_type": "stream",
     "text": [
      "\n"
     ]
    },
    {
     "name": "stderr",
     "output_type": "stream",
     "text": [
      "558it [49:37,  5.23s/it]0.000760, Training: 20.44%,  Loss: 2.99534, ACC: 46.82% "
     ]
    },
    {
     "name": "stdout",
     "output_type": "stream",
     "text": [
      "\n"
     ]
    },
    {
     "name": "stderr",
     "output_type": "stream",
     "text": [
      "559it [49:43,  5.25s/it]0.000760, Training: 20.48%,  Loss: 2.99492, ACC: 46.82% "
     ]
    },
    {
     "name": "stdout",
     "output_type": "stream",
     "text": [
      "\n"
     ]
    },
    {
     "name": "stderr",
     "output_type": "stream",
     "text": [
      "560it [49:48,  5.30s/it]0.000760, Training: 20.51%,  Loss: 2.99500, ACC: 46.82% "
     ]
    },
    {
     "name": "stdout",
     "output_type": "stream",
     "text": [
      "\n"
     ]
    },
    {
     "name": "stderr",
     "output_type": "stream",
     "text": [
      "561it [49:53,  5.34s/it]0.000760, Training: 20.55%,  Loss: 2.99478, ACC: 46.82% "
     ]
    },
    {
     "name": "stdout",
     "output_type": "stream",
     "text": [
      "\n"
     ]
    },
    {
     "name": "stderr",
     "output_type": "stream",
     "text": [
      "562it [49:59,  5.30s/it]0.000760, Training: 20.59%,  Loss: 2.99461, ACC: 46.83% "
     ]
    },
    {
     "name": "stdout",
     "output_type": "stream",
     "text": [
      "\n"
     ]
    },
    {
     "name": "stderr",
     "output_type": "stream",
     "text": [
      "563it [50:04,  5.28s/it]0.000760, Training: 20.62%,  Loss: 2.99431, ACC: 46.83% "
     ]
    },
    {
     "name": "stdout",
     "output_type": "stream",
     "text": [
      "\n"
     ]
    },
    {
     "name": "stderr",
     "output_type": "stream",
     "text": [
      "564it [50:09,  5.29s/it]0.000760, Training: 20.66%,  Loss: 2.99414, ACC: 46.84% "
     ]
    },
    {
     "name": "stdout",
     "output_type": "stream",
     "text": [
      "\n"
     ]
    },
    {
     "name": "stderr",
     "output_type": "stream",
     "text": [
      "565it [50:15,  5.29s/it]0.000760, Training: 20.70%,  Loss: 2.99437, ACC: 46.84% "
     ]
    },
    {
     "name": "stdout",
     "output_type": "stream",
     "text": [
      "\n"
     ]
    },
    {
     "name": "stderr",
     "output_type": "stream",
     "text": [
      "566it [50:20,  5.30s/it]0.000760, Training: 20.73%,  Loss: 2.99445, ACC: 46.84% "
     ]
    },
    {
     "name": "stdout",
     "output_type": "stream",
     "text": [
      "\n"
     ]
    },
    {
     "name": "stderr",
     "output_type": "stream",
     "text": [
      "567it [50:25,  5.34s/it]0.000760, Training: 20.77%,  Loss: 2.99487, ACC: 46.84% "
     ]
    },
    {
     "name": "stdout",
     "output_type": "stream",
     "text": [
      "\n"
     ]
    },
    {
     "name": "stderr",
     "output_type": "stream",
     "text": [
      "568it [50:31,  5.35s/it]0.000760, Training: 20.81%,  Loss: 2.99504, ACC: 46.84% "
     ]
    },
    {
     "name": "stdout",
     "output_type": "stream",
     "text": [
      "\n"
     ]
    },
    {
     "name": "stderr",
     "output_type": "stream",
     "text": [
      "569it [50:36,  5.30s/it]0.000760, Training: 20.84%,  Loss: 2.99539, ACC: 46.83% "
     ]
    },
    {
     "name": "stdout",
     "output_type": "stream",
     "text": [
      "\n"
     ]
    },
    {
     "name": "stderr",
     "output_type": "stream",
     "text": [
      "570it [50:41,  5.32s/it]0.000760, Training: 20.88%,  Loss: 2.99544, ACC: 46.83% "
     ]
    },
    {
     "name": "stdout",
     "output_type": "stream",
     "text": [
      "\n"
     ]
    },
    {
     "name": "stderr",
     "output_type": "stream",
     "text": [
      "571it [50:46,  5.27s/it]0.000760, Training: 20.92%,  Loss: 2.99528, ACC: 46.83% "
     ]
    },
    {
     "name": "stdout",
     "output_type": "stream",
     "text": [
      "\n"
     ]
    },
    {
     "name": "stderr",
     "output_type": "stream",
     "text": [
      "572it [50:52,  5.27s/it]0.000760, Training: 20.95%,  Loss: 2.99501, ACC: 46.83% "
     ]
    },
    {
     "name": "stdout",
     "output_type": "stream",
     "text": [
      "\n"
     ]
    },
    {
     "name": "stderr",
     "output_type": "stream",
     "text": [
      "573it [50:57,  5.30s/it]0.000760, Training: 20.99%,  Loss: 2.99483, ACC: 46.83% "
     ]
    },
    {
     "name": "stdout",
     "output_type": "stream",
     "text": [
      "\n"
     ]
    },
    {
     "name": "stderr",
     "output_type": "stream",
     "text": [
      "574it [51:02,  5.30s/it]0.000760, Training: 21.03%,  Loss: 2.99476, ACC: 46.83% "
     ]
    },
    {
     "name": "stdout",
     "output_type": "stream",
     "text": [
      "\n"
     ]
    },
    {
     "name": "stderr",
     "output_type": "stream",
     "text": [
      "575it [51:08,  5.32s/it]0.000760, Training: 21.06%,  Loss: 2.99480, ACC: 46.82% "
     ]
    },
    {
     "name": "stdout",
     "output_type": "stream",
     "text": [
      "\n"
     ]
    },
    {
     "name": "stderr",
     "output_type": "stream",
     "text": [
      "576it [51:13,  5.34s/it]0.000760, Training: 21.10%,  Loss: 2.99473, ACC: 46.83% "
     ]
    },
    {
     "name": "stdout",
     "output_type": "stream",
     "text": [
      "\n"
     ]
    },
    {
     "name": "stderr",
     "output_type": "stream",
     "text": [
      "577it [51:18,  5.32s/it]0.000760, Training: 21.14%,  Loss: 2.99491, ACC: 46.82% "
     ]
    },
    {
     "name": "stdout",
     "output_type": "stream",
     "text": [
      "\n"
     ]
    },
    {
     "name": "stderr",
     "output_type": "stream",
     "text": [
      "578it [51:24,  5.37s/it]0.000760, Training: 21.17%,  Loss: 2.99506, ACC: 46.82% "
     ]
    },
    {
     "name": "stdout",
     "output_type": "stream",
     "text": [
      "\n"
     ]
    },
    {
     "name": "stderr",
     "output_type": "stream",
     "text": [
      "579it [51:29,  5.38s/it]0.000760, Training: 21.21%,  Loss: 2.99500, ACC: 46.82% "
     ]
    },
    {
     "name": "stdout",
     "output_type": "stream",
     "text": [
      "\n"
     ]
    },
    {
     "name": "stderr",
     "output_type": "stream",
     "text": [
      "580it [51:35,  5.39s/it]0.000760, Training: 21.25%,  Loss: 2.99541, ACC: 46.81% "
     ]
    },
    {
     "name": "stdout",
     "output_type": "stream",
     "text": [
      "\n"
     ]
    },
    {
     "name": "stderr",
     "output_type": "stream",
     "text": [
      "581it [51:40,  5.34s/it]0.000760, Training: 21.28%,  Loss: 2.99541, ACC: 46.81% "
     ]
    },
    {
     "name": "stdout",
     "output_type": "stream",
     "text": [
      "\n"
     ]
    },
    {
     "name": "stderr",
     "output_type": "stream",
     "text": [
      "582it [51:45,  5.36s/it]0.000760, Training: 21.32%,  Loss: 2.99509, ACC: 46.81% "
     ]
    },
    {
     "name": "stdout",
     "output_type": "stream",
     "text": [
      "\n"
     ]
    },
    {
     "name": "stderr",
     "output_type": "stream",
     "text": [
      "583it [51:51,  5.38s/it]0.000760, Training: 21.36%,  Loss: 2.99548, ACC: 46.81% "
     ]
    },
    {
     "name": "stdout",
     "output_type": "stream",
     "text": [
      "\n"
     ]
    },
    {
     "name": "stderr",
     "output_type": "stream",
     "text": [
      "584it [51:56,  5.34s/it]0.000760, Training: 21.39%,  Loss: 2.99515, ACC: 46.81% "
     ]
    },
    {
     "name": "stdout",
     "output_type": "stream",
     "text": [
      "\n"
     ]
    },
    {
     "name": "stderr",
     "output_type": "stream",
     "text": [
      "585it [52:01,  5.32s/it]0.000760, Training: 21.43%,  Loss: 2.99524, ACC: 46.82% "
     ]
    },
    {
     "name": "stdout",
     "output_type": "stream",
     "text": [
      "\n"
     ]
    },
    {
     "name": "stderr",
     "output_type": "stream",
     "text": [
      "586it [52:07,  5.32s/it]0.000760, Training: 21.47%,  Loss: 2.99520, ACC: 46.82% "
     ]
    },
    {
     "name": "stdout",
     "output_type": "stream",
     "text": [
      "\n"
     ]
    },
    {
     "name": "stderr",
     "output_type": "stream",
     "text": [
      "587it [52:12,  5.31s/it]0.000760, Training: 21.50%,  Loss: 2.99521, ACC: 46.81% "
     ]
    },
    {
     "name": "stdout",
     "output_type": "stream",
     "text": [
      "\n"
     ]
    },
    {
     "name": "stderr",
     "output_type": "stream",
     "text": [
      "588it [52:17,  5.32s/it]0.000760, Training: 21.54%,  Loss: 2.99533, ACC: 46.81% "
     ]
    },
    {
     "name": "stdout",
     "output_type": "stream",
     "text": [
      "\n"
     ]
    },
    {
     "name": "stderr",
     "output_type": "stream",
     "text": [
      "589it [52:23,  5.35s/it]0.000760, Training: 21.58%,  Loss: 2.99549, ACC: 46.82% "
     ]
    },
    {
     "name": "stdout",
     "output_type": "stream",
     "text": [
      "\n"
     ]
    },
    {
     "name": "stderr",
     "output_type": "stream",
     "text": [
      "590it [52:28,  5.34s/it]0.000760, Training: 21.61%,  Loss: 2.99581, ACC: 46.81% "
     ]
    },
    {
     "name": "stdout",
     "output_type": "stream",
     "text": [
      "\n"
     ]
    },
    {
     "name": "stderr",
     "output_type": "stream",
     "text": [
      "591it [52:33,  5.32s/it]0.000760, Training: 21.65%,  Loss: 2.99591, ACC: 46.81% "
     ]
    },
    {
     "name": "stdout",
     "output_type": "stream",
     "text": [
      "\n"
     ]
    },
    {
     "name": "stderr",
     "output_type": "stream",
     "text": [
      "592it [52:38,  5.31s/it]0.000760, Training: 21.68%,  Loss: 2.99555, ACC: 46.82% "
     ]
    },
    {
     "name": "stdout",
     "output_type": "stream",
     "text": [
      "\n"
     ]
    },
    {
     "name": "stderr",
     "output_type": "stream",
     "text": [
      "593it [52:44,  5.29s/it]0.000760, Training: 21.72%,  Loss: 2.99608, ACC: 46.81% "
     ]
    },
    {
     "name": "stdout",
     "output_type": "stream",
     "text": [
      "\n"
     ]
    },
    {
     "name": "stderr",
     "output_type": "stream",
     "text": [
      "594it [52:49,  5.27s/it]0.000760, Training: 21.76%,  Loss: 2.99620, ACC: 46.80% "
     ]
    },
    {
     "name": "stdout",
     "output_type": "stream",
     "text": [
      "\n"
     ]
    },
    {
     "name": "stderr",
     "output_type": "stream",
     "text": [
      "595it [52:54,  5.25s/it]0.000760, Training: 21.79%,  Loss: 2.99602, ACC: 46.81% "
     ]
    },
    {
     "name": "stdout",
     "output_type": "stream",
     "text": [
      "\n"
     ]
    },
    {
     "name": "stderr",
     "output_type": "stream",
     "text": [
      "596it [53:00,  5.31s/it]0.000760, Training: 21.83%,  Loss: 2.99545, ACC: 46.82% "
     ]
    },
    {
     "name": "stdout",
     "output_type": "stream",
     "text": [
      "\n"
     ]
    },
    {
     "name": "stderr",
     "output_type": "stream",
     "text": [
      "597it [53:05,  5.34s/it]0.000760, Training: 21.87%,  Loss: 2.99549, ACC: 46.82% "
     ]
    },
    {
     "name": "stdout",
     "output_type": "stream",
     "text": [
      "\n"
     ]
    },
    {
     "name": "stderr",
     "output_type": "stream",
     "text": [
      "598it [53:10,  5.32s/it]0.000760, Training: 21.90%,  Loss: 2.99551, ACC: 46.82% "
     ]
    },
    {
     "name": "stdout",
     "output_type": "stream",
     "text": [
      "\n"
     ]
    },
    {
     "name": "stderr",
     "output_type": "stream",
     "text": [
      "599it [53:16,  5.31s/it]0.000760, Training: 21.94%,  Loss: 2.99507, ACC: 46.82% "
     ]
    },
    {
     "name": "stdout",
     "output_type": "stream",
     "text": [
      "\n"
     ]
    },
    {
     "name": "stderr",
     "output_type": "stream",
     "text": [
      "600it [53:21,  5.32s/it]0.000760, Training: 21.98%,  Loss: 2.99527, ACC: 46.82% "
     ]
    },
    {
     "name": "stdout",
     "output_type": "stream",
     "text": [
      "\n"
     ]
    },
    {
     "name": "stderr",
     "output_type": "stream",
     "text": [
      "601it [53:26,  5.30s/it]0.000760, Training: 22.01%,  Loss: 2.99489, ACC: 46.82% "
     ]
    },
    {
     "name": "stdout",
     "output_type": "stream",
     "text": [
      "\n"
     ]
    },
    {
     "name": "stderr",
     "output_type": "stream",
     "text": [
      "602it [53:31,  5.31s/it]0.000760, Training: 22.05%,  Loss: 2.99519, ACC: 46.82% "
     ]
    },
    {
     "name": "stdout",
     "output_type": "stream",
     "text": [
      "\n"
     ]
    },
    {
     "name": "stderr",
     "output_type": "stream",
     "text": [
      "603it [53:37,  5.31s/it]0.000760, Training: 22.09%,  Loss: 2.99476, ACC: 46.83% "
     ]
    },
    {
     "name": "stdout",
     "output_type": "stream",
     "text": [
      "\n"
     ]
    },
    {
     "name": "stderr",
     "output_type": "stream",
     "text": [
      "604it [53:42,  5.30s/it]0.000760, Training: 22.12%,  Loss: 2.99467, ACC: 46.83% "
     ]
    },
    {
     "name": "stdout",
     "output_type": "stream",
     "text": [
      "\n"
     ]
    },
    {
     "name": "stderr",
     "output_type": "stream",
     "text": [
      "605it [53:47,  5.31s/it]0.000760, Training: 22.16%,  Loss: 2.99466, ACC: 46.83% "
     ]
    },
    {
     "name": "stdout",
     "output_type": "stream",
     "text": [
      "\n"
     ]
    },
    {
     "name": "stderr",
     "output_type": "stream",
     "text": [
      "606it [53:53,  5.29s/it]0.000760, Training: 22.20%,  Loss: 2.99469, ACC: 46.83% "
     ]
    },
    {
     "name": "stdout",
     "output_type": "stream",
     "text": [
      "\n"
     ]
    },
    {
     "name": "stderr",
     "output_type": "stream",
     "text": [
      "607it [53:58,  5.24s/it]0.000760, Training: 22.23%,  Loss: 2.99434, ACC: 46.84% "
     ]
    },
    {
     "name": "stdout",
     "output_type": "stream",
     "text": [
      "\n"
     ]
    },
    {
     "name": "stderr",
     "output_type": "stream",
     "text": [
      "608it [54:03,  5.26s/it]0.000760, Training: 22.27%,  Loss: 2.99456, ACC: 46.83% "
     ]
    },
    {
     "name": "stdout",
     "output_type": "stream",
     "text": [
      "\n"
     ]
    },
    {
     "name": "stderr",
     "output_type": "stream",
     "text": [
      "609it [54:08,  5.26s/it]0.000760, Training: 22.31%,  Loss: 2.99471, ACC: 46.83% "
     ]
    },
    {
     "name": "stdout",
     "output_type": "stream",
     "text": [
      "\n"
     ]
    },
    {
     "name": "stderr",
     "output_type": "stream",
     "text": [
      "610it [54:14,  5.32s/it]0.000760, Training: 22.34%,  Loss: 2.99449, ACC: 46.83% "
     ]
    },
    {
     "name": "stdout",
     "output_type": "stream",
     "text": [
      "\n"
     ]
    },
    {
     "name": "stderr",
     "output_type": "stream",
     "text": [
      "611it [54:19,  5.35s/it]0.000760, Training: 22.38%,  Loss: 2.99418, ACC: 46.83% "
     ]
    },
    {
     "name": "stdout",
     "output_type": "stream",
     "text": [
      "\n"
     ]
    },
    {
     "name": "stderr",
     "output_type": "stream",
     "text": [
      "612it [54:25,  5.38s/it]0.000760, Training: 22.42%,  Loss: 2.99453, ACC: 46.83% "
     ]
    },
    {
     "name": "stdout",
     "output_type": "stream",
     "text": [
      "\n"
     ]
    },
    {
     "name": "stderr",
     "output_type": "stream",
     "text": [
      "613it [54:30,  5.35s/it]0.000760, Training: 22.45%,  Loss: 2.99481, ACC: 46.83% "
     ]
    },
    {
     "name": "stdout",
     "output_type": "stream",
     "text": [
      "\n"
     ]
    },
    {
     "name": "stderr",
     "output_type": "stream",
     "text": [
      "614it [54:35,  5.37s/it]0.000760, Training: 22.49%,  Loss: 2.99446, ACC: 46.83% "
     ]
    },
    {
     "name": "stdout",
     "output_type": "stream",
     "text": [
      "\n"
     ]
    },
    {
     "name": "stderr",
     "output_type": "stream",
     "text": [
      "615it [54:41,  5.37s/it]0.000760, Training: 22.53%,  Loss: 2.99473, ACC: 46.83% "
     ]
    },
    {
     "name": "stdout",
     "output_type": "stream",
     "text": [
      "\n"
     ]
    },
    {
     "name": "stderr",
     "output_type": "stream",
     "text": [
      "616it [54:46,  5.34s/it]0.000760, Training: 22.56%,  Loss: 2.99423, ACC: 46.84% "
     ]
    },
    {
     "name": "stdout",
     "output_type": "stream",
     "text": [
      "\n"
     ]
    },
    {
     "name": "stderr",
     "output_type": "stream",
     "text": [
      "617it [54:51,  5.34s/it]0.000760, Training: 22.60%,  Loss: 2.99365, ACC: 46.85% "
     ]
    },
    {
     "name": "stdout",
     "output_type": "stream",
     "text": [
      "\n"
     ]
    },
    {
     "name": "stderr",
     "output_type": "stream",
     "text": [
      "618it [54:57,  5.34s/it]0.000760, Training: 22.64%,  Loss: 2.99369, ACC: 46.85% "
     ]
    },
    {
     "name": "stdout",
     "output_type": "stream",
     "text": [
      "\n"
     ]
    },
    {
     "name": "stderr",
     "output_type": "stream",
     "text": [
      "619it [55:02,  5.29s/it]0.000760, Training: 22.67%,  Loss: 2.99342, ACC: 46.85% "
     ]
    },
    {
     "name": "stdout",
     "output_type": "stream",
     "text": [
      "\n"
     ]
    },
    {
     "name": "stderr",
     "output_type": "stream",
     "text": [
      "620it [55:07,  5.28s/it]0.000760, Training: 22.71%,  Loss: 2.99392, ACC: 46.84% "
     ]
    },
    {
     "name": "stdout",
     "output_type": "stream",
     "text": [
      "\n"
     ]
    },
    {
     "name": "stderr",
     "output_type": "stream",
     "text": [
      "621it [55:12,  5.29s/it]0.000760, Training: 22.75%,  Loss: 2.99432, ACC: 46.84% "
     ]
    },
    {
     "name": "stdout",
     "output_type": "stream",
     "text": [
      "\n"
     ]
    },
    {
     "name": "stderr",
     "output_type": "stream",
     "text": [
      "622it [55:18,  5.33s/it]0.000760, Training: 22.78%,  Loss: 2.99433, ACC: 46.84% "
     ]
    },
    {
     "name": "stdout",
     "output_type": "stream",
     "text": [
      "\n"
     ]
    },
    {
     "name": "stderr",
     "output_type": "stream",
     "text": [
      "623it [55:23,  5.29s/it]0.000760, Training: 22.82%,  Loss: 2.99433, ACC: 46.84% "
     ]
    },
    {
     "name": "stdout",
     "output_type": "stream",
     "text": [
      "\n"
     ]
    },
    {
     "name": "stderr",
     "output_type": "stream",
     "text": [
      "624it [55:28,  5.33s/it]0.000760, Training: 22.86%,  Loss: 2.99462, ACC: 46.84% "
     ]
    },
    {
     "name": "stdout",
     "output_type": "stream",
     "text": [
      "\n"
     ]
    },
    {
     "name": "stderr",
     "output_type": "stream",
     "text": [
      "625it [55:34,  5.33s/it]0.000760, Training: 22.89%,  Loss: 2.99474, ACC: 46.83% "
     ]
    },
    {
     "name": "stdout",
     "output_type": "stream",
     "text": [
      "\n"
     ]
    },
    {
     "name": "stderr",
     "output_type": "stream",
     "text": [
      "626it [55:39,  5.36s/it]0.000760, Training: 22.93%,  Loss: 2.99454, ACC: 46.84% "
     ]
    },
    {
     "name": "stdout",
     "output_type": "stream",
     "text": [
      "\n"
     ]
    },
    {
     "name": "stderr",
     "output_type": "stream",
     "text": [
      "627it [55:44,  5.32s/it]0.000760, Training: 22.97%,  Loss: 2.99483, ACC: 46.84% "
     ]
    },
    {
     "name": "stdout",
     "output_type": "stream",
     "text": [
      "\n"
     ]
    },
    {
     "name": "stderr",
     "output_type": "stream",
     "text": [
      "628it [55:50,  5.29s/it]0.000760, Training: 23.00%,  Loss: 2.99435, ACC: 46.85% "
     ]
    },
    {
     "name": "stdout",
     "output_type": "stream",
     "text": [
      "\n"
     ]
    },
    {
     "name": "stderr",
     "output_type": "stream",
     "text": [
      "629it [55:55,  5.29s/it]0.000760, Training: 23.04%,  Loss: 2.99447, ACC: 46.85% "
     ]
    },
    {
     "name": "stdout",
     "output_type": "stream",
     "text": [
      "\n"
     ]
    },
    {
     "name": "stderr",
     "output_type": "stream",
     "text": [
      "630it [56:00,  5.31s/it]0.000760, Training: 23.08%,  Loss: 2.99418, ACC: 46.85% "
     ]
    },
    {
     "name": "stdout",
     "output_type": "stream",
     "text": [
      "\n"
     ]
    },
    {
     "name": "stderr",
     "output_type": "stream",
     "text": [
      "631it [56:06,  5.31s/it]0.000760, Training: 23.11%,  Loss: 2.99430, ACC: 46.85% "
     ]
    },
    {
     "name": "stdout",
     "output_type": "stream",
     "text": [
      "\n"
     ]
    },
    {
     "name": "stderr",
     "output_type": "stream",
     "text": [
      "632it [56:11,  5.30s/it]0.000760, Training: 23.15%,  Loss: 2.99397, ACC: 46.85% "
     ]
    },
    {
     "name": "stdout",
     "output_type": "stream",
     "text": [
      "\n"
     ]
    },
    {
     "name": "stderr",
     "output_type": "stream",
     "text": [
      "633it [56:16,  5.30s/it]0.000760, Training: 23.19%,  Loss: 2.99438, ACC: 46.85% "
     ]
    },
    {
     "name": "stdout",
     "output_type": "stream",
     "text": [
      "\n"
     ]
    },
    {
     "name": "stderr",
     "output_type": "stream",
     "text": [
      "634it [56:21,  5.29s/it]0.000760, Training: 23.22%,  Loss: 2.99404, ACC: 46.85% "
     ]
    },
    {
     "name": "stdout",
     "output_type": "stream",
     "text": [
      "\n"
     ]
    },
    {
     "name": "stderr",
     "output_type": "stream",
     "text": [
      "635it [56:27,  5.29s/it]0.000760, Training: 23.26%,  Loss: 2.99435, ACC: 46.84% "
     ]
    },
    {
     "name": "stdout",
     "output_type": "stream",
     "text": [
      "\n"
     ]
    },
    {
     "name": "stderr",
     "output_type": "stream",
     "text": [
      "636it [56:32,  5.26s/it]0.000760, Training: 23.30%,  Loss: 2.99456, ACC: 46.85% "
     ]
    },
    {
     "name": "stdout",
     "output_type": "stream",
     "text": [
      "\n"
     ]
    },
    {
     "name": "stderr",
     "output_type": "stream",
     "text": [
      "637it [56:37,  5.29s/it]0.000760, Training: 23.33%,  Loss: 2.99475, ACC: 46.84% "
     ]
    },
    {
     "name": "stdout",
     "output_type": "stream",
     "text": [
      "\n"
     ]
    },
    {
     "name": "stderr",
     "output_type": "stream",
     "text": [
      "638it [56:43,  5.28s/it]0.000760, Training: 23.37%,  Loss: 2.99441, ACC: 46.85% "
     ]
    },
    {
     "name": "stdout",
     "output_type": "stream",
     "text": [
      "\n"
     ]
    },
    {
     "name": "stderr",
     "output_type": "stream",
     "text": [
      "639it [56:48,  5.30s/it]0.000760, Training: 23.41%,  Loss: 2.99452, ACC: 46.85% "
     ]
    },
    {
     "name": "stdout",
     "output_type": "stream",
     "text": [
      "\n"
     ]
    },
    {
     "name": "stderr",
     "output_type": "stream",
     "text": [
      "640it [56:53,  5.32s/it]0.000760, Training: 23.44%,  Loss: 2.99443, ACC: 46.85% "
     ]
    },
    {
     "name": "stdout",
     "output_type": "stream",
     "text": [
      "\n"
     ]
    },
    {
     "name": "stderr",
     "output_type": "stream",
     "text": [
      "641it [56:59,  5.33s/it]0.000760, Training: 23.48%,  Loss: 2.99438, ACC: 46.85% "
     ]
    },
    {
     "name": "stdout",
     "output_type": "stream",
     "text": [
      "\n"
     ]
    },
    {
     "name": "stderr",
     "output_type": "stream",
     "text": [
      "642it [57:04,  5.36s/it]0.000760, Training: 23.52%,  Loss: 2.99471, ACC: 46.85% "
     ]
    },
    {
     "name": "stdout",
     "output_type": "stream",
     "text": [
      "\n"
     ]
    },
    {
     "name": "stderr",
     "output_type": "stream",
     "text": [
      "643it [57:09,  5.37s/it]0.000760, Training: 23.55%,  Loss: 2.99488, ACC: 46.85% "
     ]
    },
    {
     "name": "stdout",
     "output_type": "stream",
     "text": [
      "\n"
     ]
    },
    {
     "name": "stderr",
     "output_type": "stream",
     "text": [
      "644it [57:15,  5.35s/it]0.000760, Training: 23.59%,  Loss: 2.99492, ACC: 46.84% "
     ]
    },
    {
     "name": "stdout",
     "output_type": "stream",
     "text": [
      "\n"
     ]
    },
    {
     "name": "stderr",
     "output_type": "stream",
     "text": [
      "645it [57:20,  5.31s/it]0.000760, Training: 23.63%,  Loss: 2.99488, ACC: 46.84% "
     ]
    },
    {
     "name": "stdout",
     "output_type": "stream",
     "text": [
      "\n"
     ]
    },
    {
     "name": "stderr",
     "output_type": "stream",
     "text": [
      "646it [57:25,  5.30s/it]0.000760, Training: 23.66%,  Loss: 2.99474, ACC: 46.84% "
     ]
    },
    {
     "name": "stdout",
     "output_type": "stream",
     "text": [
      "\n"
     ]
    },
    {
     "name": "stderr",
     "output_type": "stream",
     "text": [
      "647it [57:31,  5.34s/it]0.000760, Training: 23.70%,  Loss: 2.99492, ACC: 46.84% "
     ]
    },
    {
     "name": "stdout",
     "output_type": "stream",
     "text": [
      "\n"
     ]
    },
    {
     "name": "stderr",
     "output_type": "stream",
     "text": [
      "648it [57:36,  5.36s/it]0.000760, Training: 23.74%,  Loss: 2.99450, ACC: 46.85% "
     ]
    },
    {
     "name": "stdout",
     "output_type": "stream",
     "text": [
      "\n"
     ]
    },
    {
     "name": "stderr",
     "output_type": "stream",
     "text": [
      "649it [57:41,  5.37s/it]0.000760, Training: 23.77%,  Loss: 2.99449, ACC: 46.84% "
     ]
    },
    {
     "name": "stdout",
     "output_type": "stream",
     "text": [
      "\n"
     ]
    },
    {
     "name": "stderr",
     "output_type": "stream",
     "text": [
      "650it [57:47,  5.36s/it]0.000760, Training: 23.81%,  Loss: 2.99433, ACC: 46.84% "
     ]
    },
    {
     "name": "stdout",
     "output_type": "stream",
     "text": [
      "\n"
     ]
    },
    {
     "name": "stderr",
     "output_type": "stream",
     "text": [
      "651it [57:52,  5.35s/it]0.000760, Training: 23.85%,  Loss: 2.99423, ACC: 46.84% "
     ]
    },
    {
     "name": "stdout",
     "output_type": "stream",
     "text": [
      "\n"
     ]
    },
    {
     "name": "stderr",
     "output_type": "stream",
     "text": [
      "652it [57:57,  5.35s/it]0.000760, Training: 23.88%,  Loss: 2.99434, ACC: 46.84% "
     ]
    },
    {
     "name": "stdout",
     "output_type": "stream",
     "text": [
      "\n"
     ]
    },
    {
     "name": "stderr",
     "output_type": "stream",
     "text": [
      "653it [58:03,  5.35s/it]0.000760, Training: 23.92%,  Loss: 2.99395, ACC: 46.85% "
     ]
    },
    {
     "name": "stdout",
     "output_type": "stream",
     "text": [
      "\n"
     ]
    },
    {
     "name": "stderr",
     "output_type": "stream",
     "text": [
      "654it [58:08,  5.31s/it]0.000760, Training: 23.96%,  Loss: 2.99381, ACC: 46.85% "
     ]
    },
    {
     "name": "stdout",
     "output_type": "stream",
     "text": [
      "\n"
     ]
    },
    {
     "name": "stderr",
     "output_type": "stream",
     "text": [
      "655it [58:13,  5.29s/it]0.000760, Training: 23.99%,  Loss: 2.99366, ACC: 46.85% "
     ]
    },
    {
     "name": "stdout",
     "output_type": "stream",
     "text": [
      "\n"
     ]
    },
    {
     "name": "stderr",
     "output_type": "stream",
     "text": [
      "656it [58:19,  5.33s/it]0.000760, Training: 24.03%,  Loss: 2.99393, ACC: 46.85% "
     ]
    },
    {
     "name": "stdout",
     "output_type": "stream",
     "text": [
      "\n"
     ]
    },
    {
     "name": "stderr",
     "output_type": "stream",
     "text": [
      "657it [58:24,  5.31s/it]0.000760, Training: 24.07%,  Loss: 2.99453, ACC: 46.84% "
     ]
    },
    {
     "name": "stdout",
     "output_type": "stream",
     "text": [
      "\n"
     ]
    },
    {
     "name": "stderr",
     "output_type": "stream",
     "text": [
      "658it [58:29,  5.35s/it]0.000760, Training: 24.10%,  Loss: 2.99457, ACC: 46.84% "
     ]
    },
    {
     "name": "stdout",
     "output_type": "stream",
     "text": [
      "\n"
     ]
    },
    {
     "name": "stderr",
     "output_type": "stream",
     "text": [
      "659it [58:35,  5.33s/it]0.000760, Training: 24.14%,  Loss: 2.99460, ACC: 46.84% "
     ]
    },
    {
     "name": "stdout",
     "output_type": "stream",
     "text": [
      "\n"
     ]
    },
    {
     "name": "stderr",
     "output_type": "stream",
     "text": [
      "660it [58:40,  5.34s/it]0.000760, Training: 24.18%,  Loss: 2.99430, ACC: 46.85% "
     ]
    },
    {
     "name": "stdout",
     "output_type": "stream",
     "text": [
      "\n"
     ]
    },
    {
     "name": "stderr",
     "output_type": "stream",
     "text": [
      "661it [58:45,  5.31s/it]0.000760, Training: 24.21%,  Loss: 2.99405, ACC: 46.85% "
     ]
    },
    {
     "name": "stdout",
     "output_type": "stream",
     "text": [
      "\n"
     ]
    },
    {
     "name": "stderr",
     "output_type": "stream",
     "text": [
      "662it [58:51,  5.30s/it]0.000760, Training: 24.25%,  Loss: 2.99415, ACC: 46.85% "
     ]
    },
    {
     "name": "stdout",
     "output_type": "stream",
     "text": [
      "\n"
     ]
    },
    {
     "name": "stderr",
     "output_type": "stream",
     "text": [
      "663it [58:56,  5.29s/it]0.000760, Training: 24.29%,  Loss: 2.99406, ACC: 46.85% "
     ]
    },
    {
     "name": "stdout",
     "output_type": "stream",
     "text": [
      "\n"
     ]
    },
    {
     "name": "stderr",
     "output_type": "stream",
     "text": [
      "664it [59:01,  5.24s/it]0.000760, Training: 24.32%,  Loss: 2.99410, ACC: 46.85% "
     ]
    },
    {
     "name": "stdout",
     "output_type": "stream",
     "text": [
      "\n"
     ]
    },
    {
     "name": "stderr",
     "output_type": "stream",
     "text": [
      "665it [59:06,  5.26s/it]0.000760, Training: 24.36%,  Loss: 2.99454, ACC: 46.84% "
     ]
    },
    {
     "name": "stdout",
     "output_type": "stream",
     "text": [
      "\n"
     ]
    },
    {
     "name": "stderr",
     "output_type": "stream",
     "text": [
      "666it [59:12,  5.27s/it]0.000760, Training: 24.40%,  Loss: 2.99503, ACC: 46.84% "
     ]
    },
    {
     "name": "stdout",
     "output_type": "stream",
     "text": [
      "\n"
     ]
    },
    {
     "name": "stderr",
     "output_type": "stream",
     "text": [
      "667it [59:17,  5.23s/it]0.000760, Training: 24.43%,  Loss: 2.99493, ACC: 46.84% "
     ]
    },
    {
     "name": "stdout",
     "output_type": "stream",
     "text": [
      "\n"
     ]
    },
    {
     "name": "stderr",
     "output_type": "stream",
     "text": [
      "668it [59:22,  5.27s/it]0.000760, Training: 24.47%,  Loss: 2.99480, ACC: 46.84% "
     ]
    },
    {
     "name": "stdout",
     "output_type": "stream",
     "text": [
      "\n"
     ]
    },
    {
     "name": "stderr",
     "output_type": "stream",
     "text": [
      "669it [59:27,  5.30s/it]0.000760, Training: 24.51%,  Loss: 2.99507, ACC: 46.84% "
     ]
    },
    {
     "name": "stdout",
     "output_type": "stream",
     "text": [
      "\n"
     ]
    },
    {
     "name": "stderr",
     "output_type": "stream",
     "text": [
      "670it [59:33,  5.31s/it]0.000760, Training: 24.54%,  Loss: 2.99479, ACC: 46.84% "
     ]
    },
    {
     "name": "stdout",
     "output_type": "stream",
     "text": [
      "\n"
     ]
    },
    {
     "name": "stderr",
     "output_type": "stream",
     "text": [
      "671it [59:38,  5.35s/it]0.000760, Training: 24.58%,  Loss: 2.99477, ACC: 46.84% "
     ]
    },
    {
     "name": "stdout",
     "output_type": "stream",
     "text": [
      "\n"
     ]
    },
    {
     "name": "stderr",
     "output_type": "stream",
     "text": [
      "672it [59:43,  5.30s/it]0.000760, Training: 24.62%,  Loss: 2.99473, ACC: 46.84% "
     ]
    },
    {
     "name": "stdout",
     "output_type": "stream",
     "text": [
      "\n"
     ]
    },
    {
     "name": "stderr",
     "output_type": "stream",
     "text": [
      "673it [59:49,  5.31s/it]0.000760, Training: 24.65%,  Loss: 2.99490, ACC: 46.84% "
     ]
    },
    {
     "name": "stdout",
     "output_type": "stream",
     "text": [
      "\n"
     ]
    },
    {
     "name": "stderr",
     "output_type": "stream",
     "text": [
      "674it [59:54,  5.32s/it]0.000760, Training: 24.69%,  Loss: 2.99500, ACC: 46.84% "
     ]
    },
    {
     "name": "stdout",
     "output_type": "stream",
     "text": [
      "\n"
     ]
    },
    {
     "name": "stderr",
     "output_type": "stream",
     "text": [
      "675it [59:59,  5.33s/it]0.000760, Training: 24.73%,  Loss: 2.99519, ACC: 46.84% "
     ]
    },
    {
     "name": "stdout",
     "output_type": "stream",
     "text": [
      "\n"
     ]
    },
    {
     "name": "stderr",
     "output_type": "stream",
     "text": [
      "676it [1:00:05,  5.31s/it]000760, Training: 24.76%,  Loss: 2.99505, ACC: 46.84% "
     ]
    },
    {
     "name": "stdout",
     "output_type": "stream",
     "text": [
      "\n"
     ]
    },
    {
     "name": "stderr",
     "output_type": "stream",
     "text": [
      "677it [1:00:10,  5.28s/it]000760, Training: 24.80%,  Loss: 2.99500, ACC: 46.84% "
     ]
    },
    {
     "name": "stdout",
     "output_type": "stream",
     "text": [
      "\n"
     ]
    },
    {
     "name": "stderr",
     "output_type": "stream",
     "text": [
      "678it [1:00:15,  5.24s/it]000760, Training: 24.84%,  Loss: 2.99537, ACC: 46.84% "
     ]
    },
    {
     "name": "stdout",
     "output_type": "stream",
     "text": [
      "\n"
     ]
    },
    {
     "name": "stderr",
     "output_type": "stream",
     "text": [
      "679it [1:00:20,  5.27s/it]000760, Training: 24.87%,  Loss: 2.99543, ACC: 46.84% "
     ]
    },
    {
     "name": "stdout",
     "output_type": "stream",
     "text": [
      "\n"
     ]
    },
    {
     "name": "stderr",
     "output_type": "stream",
     "text": [
      "680it [1:00:26,  5.29s/it]000760, Training: 24.91%,  Loss: 2.99592, ACC: 46.83% "
     ]
    },
    {
     "name": "stdout",
     "output_type": "stream",
     "text": [
      "\n"
     ]
    },
    {
     "name": "stderr",
     "output_type": "stream",
     "text": [
      "681it [1:00:31,  5.29s/it]000760, Training: 24.95%,  Loss: 2.99577, ACC: 46.83% "
     ]
    },
    {
     "name": "stdout",
     "output_type": "stream",
     "text": [
      "\n"
     ]
    },
    {
     "name": "stderr",
     "output_type": "stream",
     "text": [
      "682it [1:00:36,  5.32s/it]000760, Training: 24.98%,  Loss: 2.99586, ACC: 46.83% "
     ]
    },
    {
     "name": "stdout",
     "output_type": "stream",
     "text": [
      "\n"
     ]
    },
    {
     "name": "stderr",
     "output_type": "stream",
     "text": [
      "683it [1:00:42,  5.34s/it]000760, Training: 25.02%,  Loss: 2.99593, ACC: 46.82% "
     ]
    },
    {
     "name": "stdout",
     "output_type": "stream",
     "text": [
      "\n"
     ]
    },
    {
     "name": "stderr",
     "output_type": "stream",
     "text": [
      "684it [1:00:47,  5.33s/it]000760, Training: 25.05%,  Loss: 2.99609, ACC: 46.82% "
     ]
    },
    {
     "name": "stdout",
     "output_type": "stream",
     "text": [
      "\n"
     ]
    },
    {
     "name": "stderr",
     "output_type": "stream",
     "text": [
      "685it [1:00:53,  5.38s/it]000760, Training: 25.09%,  Loss: 2.99625, ACC: 46.81% "
     ]
    },
    {
     "name": "stdout",
     "output_type": "stream",
     "text": [
      "\n"
     ]
    },
    {
     "name": "stderr",
     "output_type": "stream",
     "text": [
      "686it [1:00:58,  5.34s/it]000760, Training: 25.13%,  Loss: 2.99566, ACC: 46.82% "
     ]
    },
    {
     "name": "stdout",
     "output_type": "stream",
     "text": [
      "\n"
     ]
    },
    {
     "name": "stderr",
     "output_type": "stream",
     "text": [
      "687it [1:01:03,  5.36s/it]000760, Training: 25.16%,  Loss: 2.99586, ACC: 46.82% "
     ]
    },
    {
     "name": "stdout",
     "output_type": "stream",
     "text": [
      "\n"
     ]
    },
    {
     "name": "stderr",
     "output_type": "stream",
     "text": [
      "688it [1:01:09,  5.35s/it]000760, Training: 25.20%,  Loss: 2.99559, ACC: 46.82% "
     ]
    },
    {
     "name": "stdout",
     "output_type": "stream",
     "text": [
      "\n"
     ]
    },
    {
     "name": "stderr",
     "output_type": "stream",
     "text": [
      "689it [1:01:14,  5.30s/it]000760, Training: 25.24%,  Loss: 2.99559, ACC: 46.82% "
     ]
    },
    {
     "name": "stdout",
     "output_type": "stream",
     "text": [
      "\n"
     ]
    },
    {
     "name": "stderr",
     "output_type": "stream",
     "text": [
      "690it [1:01:19,  5.28s/it]000760, Training: 25.27%,  Loss: 2.99567, ACC: 46.82% "
     ]
    },
    {
     "name": "stdout",
     "output_type": "stream",
     "text": [
      "\n"
     ]
    },
    {
     "name": "stderr",
     "output_type": "stream",
     "text": [
      "691it [1:01:24,  5.28s/it]000760, Training: 25.31%,  Loss: 2.99576, ACC: 46.82% "
     ]
    },
    {
     "name": "stdout",
     "output_type": "stream",
     "text": [
      "\n"
     ]
    },
    {
     "name": "stderr",
     "output_type": "stream",
     "text": [
      "692it [1:01:30,  5.29s/it]000760, Training: 25.35%,  Loss: 2.99623, ACC: 46.82% "
     ]
    },
    {
     "name": "stdout",
     "output_type": "stream",
     "text": [
      "\n"
     ]
    },
    {
     "name": "stderr",
     "output_type": "stream",
     "text": [
      "693it [1:01:35,  5.32s/it]000760, Training: 25.38%,  Loss: 2.99604, ACC: 46.83% "
     ]
    },
    {
     "name": "stdout",
     "output_type": "stream",
     "text": [
      "\n"
     ]
    },
    {
     "name": "stderr",
     "output_type": "stream",
     "text": [
      "694it [1:01:40,  5.32s/it]000760, Training: 25.42%,  Loss: 2.99634, ACC: 46.82% "
     ]
    },
    {
     "name": "stdout",
     "output_type": "stream",
     "text": [
      "\n"
     ]
    },
    {
     "name": "stderr",
     "output_type": "stream",
     "text": [
      "695it [1:01:45,  5.28s/it]000760, Training: 25.46%,  Loss: 2.99619, ACC: 46.82% "
     ]
    },
    {
     "name": "stdout",
     "output_type": "stream",
     "text": [
      "\n"
     ]
    },
    {
     "name": "stderr",
     "output_type": "stream",
     "text": [
      "696it [1:01:51,  5.30s/it]000760, Training: 25.49%,  Loss: 2.99621, ACC: 46.82% "
     ]
    },
    {
     "name": "stdout",
     "output_type": "stream",
     "text": [
      "\n"
     ]
    },
    {
     "name": "stderr",
     "output_type": "stream",
     "text": [
      "697it [1:01:56,  5.27s/it]000760, Training: 25.53%,  Loss: 2.99624, ACC: 46.82% "
     ]
    },
    {
     "name": "stdout",
     "output_type": "stream",
     "text": [
      "\n"
     ]
    },
    {
     "name": "stderr",
     "output_type": "stream",
     "text": [
      "698it [1:02:01,  5.22s/it]000760, Training: 25.57%,  Loss: 2.99612, ACC: 46.82% "
     ]
    },
    {
     "name": "stdout",
     "output_type": "stream",
     "text": [
      "\n"
     ]
    },
    {
     "name": "stderr",
     "output_type": "stream",
     "text": [
      "699it [1:02:06,  5.24s/it]000760, Training: 25.60%,  Loss: 2.99579, ACC: 46.82% "
     ]
    },
    {
     "name": "stdout",
     "output_type": "stream",
     "text": [
      "\n"
     ]
    },
    {
     "name": "stderr",
     "output_type": "stream",
     "text": [
      "700it [1:02:12,  5.27s/it]000760, Training: 25.64%,  Loss: 2.99573, ACC: 46.82% "
     ]
    },
    {
     "name": "stdout",
     "output_type": "stream",
     "text": [
      "\n"
     ]
    },
    {
     "name": "stderr",
     "output_type": "stream",
     "text": [
      "701it [1:02:17,  5.30s/it]000760, Training: 25.68%,  Loss: 2.99559, ACC: 46.82% "
     ]
    },
    {
     "name": "stdout",
     "output_type": "stream",
     "text": [
      "\n"
     ]
    },
    {
     "name": "stderr",
     "output_type": "stream",
     "text": [
      "702it [1:02:22,  5.31s/it]000760, Training: 25.71%,  Loss: 2.99533, ACC: 46.82% "
     ]
    },
    {
     "name": "stdout",
     "output_type": "stream",
     "text": [
      "\n"
     ]
    },
    {
     "name": "stderr",
     "output_type": "stream",
     "text": [
      "703it [1:02:28,  5.31s/it]000760, Training: 25.75%,  Loss: 2.99497, ACC: 46.83% "
     ]
    },
    {
     "name": "stdout",
     "output_type": "stream",
     "text": [
      "\n"
     ]
    },
    {
     "name": "stderr",
     "output_type": "stream",
     "text": [
      "704it [1:02:33,  5.29s/it]000760, Training: 25.79%,  Loss: 2.99510, ACC: 46.83% "
     ]
    },
    {
     "name": "stdout",
     "output_type": "stream",
     "text": [
      "\n"
     ]
    },
    {
     "name": "stderr",
     "output_type": "stream",
     "text": [
      "705it [1:02:38,  5.29s/it]000760, Training: 25.82%,  Loss: 2.99498, ACC: 46.83% "
     ]
    },
    {
     "name": "stdout",
     "output_type": "stream",
     "text": [
      "\n"
     ]
    },
    {
     "name": "stderr",
     "output_type": "stream",
     "text": [
      "706it [1:02:44,  5.31s/it]000760, Training: 25.86%,  Loss: 2.99504, ACC: 46.83% "
     ]
    },
    {
     "name": "stdout",
     "output_type": "stream",
     "text": [
      "\n"
     ]
    },
    {
     "name": "stderr",
     "output_type": "stream",
     "text": [
      "707it [1:02:49,  5.29s/it]000760, Training: 25.90%,  Loss: 2.99510, ACC: 46.83% "
     ]
    },
    {
     "name": "stdout",
     "output_type": "stream",
     "text": [
      "\n"
     ]
    },
    {
     "name": "stderr",
     "output_type": "stream",
     "text": [
      "708it [1:02:54,  5.29s/it]000760, Training: 25.93%,  Loss: 2.99474, ACC: 46.84% "
     ]
    },
    {
     "name": "stdout",
     "output_type": "stream",
     "text": [
      "\n"
     ]
    },
    {
     "name": "stderr",
     "output_type": "stream",
     "text": [
      "709it [1:02:59,  5.29s/it]000760, Training: 25.97%,  Loss: 2.99476, ACC: 46.84% "
     ]
    },
    {
     "name": "stdout",
     "output_type": "stream",
     "text": [
      "\n"
     ]
    },
    {
     "name": "stderr",
     "output_type": "stream",
     "text": [
      "710it [1:03:05,  5.31s/it]000760, Training: 26.01%,  Loss: 2.99455, ACC: 46.84% "
     ]
    },
    {
     "name": "stdout",
     "output_type": "stream",
     "text": [
      "\n"
     ]
    },
    {
     "name": "stderr",
     "output_type": "stream",
     "text": [
      "711it [1:03:10,  5.31s/it]000760, Training: 26.04%,  Loss: 2.99458, ACC: 46.84% "
     ]
    },
    {
     "name": "stdout",
     "output_type": "stream",
     "text": [
      "\n"
     ]
    },
    {
     "name": "stderr",
     "output_type": "stream",
     "text": [
      "712it [1:03:15,  5.31s/it]000760, Training: 26.08%,  Loss: 2.99455, ACC: 46.84% "
     ]
    },
    {
     "name": "stdout",
     "output_type": "stream",
     "text": [
      "\n"
     ]
    },
    {
     "name": "stderr",
     "output_type": "stream",
     "text": [
      "713it [1:03:21,  5.30s/it]000760, Training: 26.12%,  Loss: 2.99465, ACC: 46.83% "
     ]
    },
    {
     "name": "stdout",
     "output_type": "stream",
     "text": [
      "\n"
     ]
    },
    {
     "name": "stderr",
     "output_type": "stream",
     "text": [
      "714it [1:03:26,  5.25s/it]000760, Training: 26.15%,  Loss: 2.99463, ACC: 46.83% "
     ]
    },
    {
     "name": "stdout",
     "output_type": "stream",
     "text": [
      "\n"
     ]
    },
    {
     "name": "stderr",
     "output_type": "stream",
     "text": [
      "715it [1:03:31,  5.26s/it]000760, Training: 26.19%,  Loss: 2.99463, ACC: 46.83% "
     ]
    },
    {
     "name": "stdout",
     "output_type": "stream",
     "text": [
      "\n"
     ]
    },
    {
     "name": "stderr",
     "output_type": "stream",
     "text": [
      "716it [1:03:36,  5.27s/it]000760, Training: 26.23%,  Loss: 2.99456, ACC: 46.83% "
     ]
    },
    {
     "name": "stdout",
     "output_type": "stream",
     "text": [
      "\n"
     ]
    },
    {
     "name": "stderr",
     "output_type": "stream",
     "text": [
      "717it [1:03:42,  5.32s/it]000760, Training: 26.26%,  Loss: 2.99445, ACC: 46.83% "
     ]
    },
    {
     "name": "stdout",
     "output_type": "stream",
     "text": [
      "\n"
     ]
    },
    {
     "name": "stderr",
     "output_type": "stream",
     "text": [
      "718it [1:03:47,  5.28s/it]000760, Training: 26.30%,  Loss: 2.99473, ACC: 46.83% "
     ]
    },
    {
     "name": "stdout",
     "output_type": "stream",
     "text": [
      "\n"
     ]
    },
    {
     "name": "stderr",
     "output_type": "stream",
     "text": [
      "719it [1:03:52,  5.29s/it]000760, Training: 26.34%,  Loss: 2.99490, ACC: 46.82% "
     ]
    },
    {
     "name": "stdout",
     "output_type": "stream",
     "text": [
      "\n"
     ]
    },
    {
     "name": "stderr",
     "output_type": "stream",
     "text": [
      "720it [1:03:58,  5.29s/it]000760, Training: 26.37%,  Loss: 2.99499, ACC: 46.82% "
     ]
    },
    {
     "name": "stdout",
     "output_type": "stream",
     "text": [
      "\n"
     ]
    },
    {
     "name": "stderr",
     "output_type": "stream",
     "text": [
      "721it [1:04:03,  5.35s/it]000760, Training: 26.41%,  Loss: 2.99503, ACC: 46.82% "
     ]
    },
    {
     "name": "stdout",
     "output_type": "stream",
     "text": [
      "\n"
     ]
    },
    {
     "name": "stderr",
     "output_type": "stream",
     "text": [
      "722it [1:04:08,  5.33s/it]000760, Training: 26.45%,  Loss: 2.99458, ACC: 46.82% "
     ]
    },
    {
     "name": "stdout",
     "output_type": "stream",
     "text": [
      "\n"
     ]
    },
    {
     "name": "stderr",
     "output_type": "stream",
     "text": [
      "723it [1:04:14,  5.31s/it]000760, Training: 26.48%,  Loss: 2.99446, ACC: 46.82% "
     ]
    },
    {
     "name": "stdout",
     "output_type": "stream",
     "text": [
      "\n"
     ]
    },
    {
     "name": "stderr",
     "output_type": "stream",
     "text": [
      "724it [1:04:19,  5.31s/it]000760, Training: 26.52%,  Loss: 2.99483, ACC: 46.82% "
     ]
    },
    {
     "name": "stdout",
     "output_type": "stream",
     "text": [
      "\n"
     ]
    },
    {
     "name": "stderr",
     "output_type": "stream",
     "text": [
      "725it [1:04:24,  5.25s/it]000760, Training: 26.56%,  Loss: 2.99451, ACC: 46.82% "
     ]
    },
    {
     "name": "stdout",
     "output_type": "stream",
     "text": [
      "\n"
     ]
    },
    {
     "name": "stderr",
     "output_type": "stream",
     "text": [
      "726it [1:04:29,  5.28s/it]000760, Training: 26.59%,  Loss: 2.99459, ACC: 46.82% "
     ]
    },
    {
     "name": "stdout",
     "output_type": "stream",
     "text": [
      "\n"
     ]
    },
    {
     "name": "stderr",
     "output_type": "stream",
     "text": [
      "727it [1:04:35,  5.32s/it]000760, Training: 26.63%,  Loss: 2.99462, ACC: 46.81% "
     ]
    },
    {
     "name": "stdout",
     "output_type": "stream",
     "text": [
      "\n"
     ]
    },
    {
     "name": "stderr",
     "output_type": "stream",
     "text": [
      "728it [1:04:40,  5.31s/it]000760, Training: 26.67%,  Loss: 2.99488, ACC: 46.82% "
     ]
    },
    {
     "name": "stdout",
     "output_type": "stream",
     "text": [
      "\n"
     ]
    },
    {
     "name": "stderr",
     "output_type": "stream",
     "text": [
      "729it [1:04:45,  5.28s/it]000760, Training: 26.70%,  Loss: 2.99465, ACC: 46.82% "
     ]
    },
    {
     "name": "stdout",
     "output_type": "stream",
     "text": [
      "\n"
     ]
    },
    {
     "name": "stderr",
     "output_type": "stream",
     "text": [
      "730it [1:04:51,  5.29s/it]000760, Training: 26.74%,  Loss: 2.99476, ACC: 46.82% "
     ]
    },
    {
     "name": "stdout",
     "output_type": "stream",
     "text": [
      "\n"
     ]
    },
    {
     "name": "stderr",
     "output_type": "stream",
     "text": [
      "731it [1:04:56,  5.29s/it]000760, Training: 26.78%,  Loss: 2.99459, ACC: 46.81% "
     ]
    },
    {
     "name": "stdout",
     "output_type": "stream",
     "text": [
      "\n"
     ]
    },
    {
     "name": "stderr",
     "output_type": "stream",
     "text": [
      "732it [1:05:01,  5.28s/it]000760, Training: 26.81%,  Loss: 2.99459, ACC: 46.81% "
     ]
    },
    {
     "name": "stdout",
     "output_type": "stream",
     "text": [
      "\n"
     ]
    },
    {
     "name": "stderr",
     "output_type": "stream",
     "text": [
      "733it [1:05:06,  5.23s/it]000760, Training: 26.85%,  Loss: 2.99499, ACC: 46.81% "
     ]
    },
    {
     "name": "stdout",
     "output_type": "stream",
     "text": [
      "\n"
     ]
    },
    {
     "name": "stderr",
     "output_type": "stream",
     "text": [
      "734it [1:05:12,  5.23s/it]000760, Training: 26.89%,  Loss: 2.99504, ACC: 46.81% "
     ]
    },
    {
     "name": "stdout",
     "output_type": "stream",
     "text": [
      "\n"
     ]
    },
    {
     "name": "stderr",
     "output_type": "stream",
     "text": [
      "735it [1:05:17,  5.27s/it]000760, Training: 26.92%,  Loss: 2.99516, ACC: 46.81% "
     ]
    },
    {
     "name": "stdout",
     "output_type": "stream",
     "text": [
      "\n"
     ]
    },
    {
     "name": "stderr",
     "output_type": "stream",
     "text": [
      "736it [1:05:22,  5.30s/it]000760, Training: 26.96%,  Loss: 2.99481, ACC: 46.81% "
     ]
    },
    {
     "name": "stdout",
     "output_type": "stream",
     "text": [
      "\n"
     ]
    },
    {
     "name": "stderr",
     "output_type": "stream",
     "text": [
      "737it [1:05:28,  5.32s/it]000760, Training: 27.00%,  Loss: 2.99484, ACC: 46.81% "
     ]
    },
    {
     "name": "stdout",
     "output_type": "stream",
     "text": [
      "\n"
     ]
    },
    {
     "name": "stderr",
     "output_type": "stream",
     "text": [
      "738it [1:05:33,  5.29s/it]000760, Training: 27.03%,  Loss: 2.99481, ACC: 46.81% "
     ]
    },
    {
     "name": "stdout",
     "output_type": "stream",
     "text": [
      "\n"
     ]
    },
    {
     "name": "stderr",
     "output_type": "stream",
     "text": [
      "739it [1:05:38,  5.29s/it]000760, Training: 27.07%,  Loss: 2.99487, ACC: 46.80% "
     ]
    },
    {
     "name": "stdout",
     "output_type": "stream",
     "text": [
      "\n"
     ]
    },
    {
     "name": "stderr",
     "output_type": "stream",
     "text": [
      "740it [1:05:43,  5.29s/it]000760, Training: 27.11%,  Loss: 2.99486, ACC: 46.80% "
     ]
    },
    {
     "name": "stdout",
     "output_type": "stream",
     "text": [
      "\n"
     ]
    },
    {
     "name": "stderr",
     "output_type": "stream",
     "text": [
      "741it [1:05:49,  5.32s/it]000760, Training: 27.14%,  Loss: 2.99478, ACC: 46.81% "
     ]
    },
    {
     "name": "stdout",
     "output_type": "stream",
     "text": [
      "\n"
     ]
    },
    {
     "name": "stderr",
     "output_type": "stream",
     "text": [
      "742it [1:05:54,  5.32s/it]000760, Training: 27.18%,  Loss: 2.99470, ACC: 46.81% "
     ]
    },
    {
     "name": "stdout",
     "output_type": "stream",
     "text": [
      "\n"
     ]
    },
    {
     "name": "stderr",
     "output_type": "stream",
     "text": [
      "743it [1:05:59,  5.29s/it]000760, Training: 27.22%,  Loss: 2.99443, ACC: 46.81% "
     ]
    },
    {
     "name": "stdout",
     "output_type": "stream",
     "text": [
      "\n"
     ]
    },
    {
     "name": "stderr",
     "output_type": "stream",
     "text": [
      "744it [1:06:05,  5.30s/it]000760, Training: 27.25%,  Loss: 2.99436, ACC: 46.82% "
     ]
    },
    {
     "name": "stdout",
     "output_type": "stream",
     "text": [
      "\n"
     ]
    },
    {
     "name": "stderr",
     "output_type": "stream",
     "text": [
      "745it [1:06:10,  5.30s/it]000760, Training: 27.29%,  Loss: 2.99418, ACC: 46.82% "
     ]
    },
    {
     "name": "stdout",
     "output_type": "stream",
     "text": [
      "\n"
     ]
    },
    {
     "name": "stderr",
     "output_type": "stream",
     "text": [
      "746it [1:06:15,  5.29s/it]000760, Training: 27.33%,  Loss: 2.99431, ACC: 46.81% "
     ]
    },
    {
     "name": "stdout",
     "output_type": "stream",
     "text": [
      "\n"
     ]
    },
    {
     "name": "stderr",
     "output_type": "stream",
     "text": [
      "747it [1:06:21,  5.31s/it]000760, Training: 27.36%,  Loss: 2.99414, ACC: 46.81% "
     ]
    },
    {
     "name": "stdout",
     "output_type": "stream",
     "text": [
      "\n"
     ]
    },
    {
     "name": "stderr",
     "output_type": "stream",
     "text": [
      "748it [1:06:26,  5.31s/it]000760, Training: 27.40%,  Loss: 2.99454, ACC: 46.81% "
     ]
    },
    {
     "name": "stdout",
     "output_type": "stream",
     "text": [
      "\n"
     ]
    },
    {
     "name": "stderr",
     "output_type": "stream",
     "text": [
      "749it [1:06:31,  5.29s/it]000760, Training: 27.44%,  Loss: 2.99470, ACC: 46.80% "
     ]
    },
    {
     "name": "stdout",
     "output_type": "stream",
     "text": [
      "\n"
     ]
    },
    {
     "name": "stderr",
     "output_type": "stream",
     "text": [
      "750it [1:06:37,  5.32s/it]000760, Training: 27.47%,  Loss: 2.99449, ACC: 46.80% "
     ]
    },
    {
     "name": "stdout",
     "output_type": "stream",
     "text": [
      "\n"
     ]
    },
    {
     "name": "stderr",
     "output_type": "stream",
     "text": [
      "751it [1:06:42,  5.31s/it]000760, Training: 27.51%,  Loss: 2.99448, ACC: 46.80% "
     ]
    },
    {
     "name": "stdout",
     "output_type": "stream",
     "text": [
      "\n"
     ]
    },
    {
     "name": "stderr",
     "output_type": "stream",
     "text": [
      "752it [1:06:47,  5.32s/it]000760, Training: 27.55%,  Loss: 2.99411, ACC: 46.80% "
     ]
    },
    {
     "name": "stdout",
     "output_type": "stream",
     "text": [
      "\n"
     ]
    },
    {
     "name": "stderr",
     "output_type": "stream",
     "text": [
      "753it [1:06:53,  5.32s/it]000760, Training: 27.58%,  Loss: 2.99419, ACC: 46.80% "
     ]
    },
    {
     "name": "stdout",
     "output_type": "stream",
     "text": [
      "\n"
     ]
    },
    {
     "name": "stderr",
     "output_type": "stream",
     "text": [
      "754it [1:06:58,  5.28s/it]000760, Training: 27.62%,  Loss: 2.99419, ACC: 46.80% "
     ]
    },
    {
     "name": "stdout",
     "output_type": "stream",
     "text": [
      "\n"
     ]
    },
    {
     "name": "stderr",
     "output_type": "stream",
     "text": [
      "755it [1:07:03,  5.33s/it]000760, Training: 27.66%,  Loss: 2.99412, ACC: 46.80% "
     ]
    },
    {
     "name": "stdout",
     "output_type": "stream",
     "text": [
      "\n"
     ]
    },
    {
     "name": "stderr",
     "output_type": "stream",
     "text": [
      "756it [1:07:08,  5.31s/it]000760, Training: 27.69%,  Loss: 2.99379, ACC: 46.81% "
     ]
    },
    {
     "name": "stdout",
     "output_type": "stream",
     "text": [
      "\n"
     ]
    },
    {
     "name": "stderr",
     "output_type": "stream",
     "text": [
      "757it [1:07:14,  5.30s/it]000760, Training: 27.73%,  Loss: 2.99367, ACC: 46.81% "
     ]
    },
    {
     "name": "stdout",
     "output_type": "stream",
     "text": [
      "\n"
     ]
    },
    {
     "name": "stderr",
     "output_type": "stream",
     "text": [
      "758it [1:07:19,  5.29s/it]000760, Training: 27.77%,  Loss: 2.99354, ACC: 46.81% "
     ]
    },
    {
     "name": "stdout",
     "output_type": "stream",
     "text": [
      "\n"
     ]
    },
    {
     "name": "stderr",
     "output_type": "stream",
     "text": [
      "759it [1:07:24,  5.30s/it]000760, Training: 27.80%,  Loss: 2.99351, ACC: 46.81% "
     ]
    },
    {
     "name": "stdout",
     "output_type": "stream",
     "text": [
      "\n"
     ]
    },
    {
     "name": "stderr",
     "output_type": "stream",
     "text": [
      "760it [1:07:30,  5.31s/it]000760, Training: 27.84%,  Loss: 2.99359, ACC: 46.81% "
     ]
    },
    {
     "name": "stdout",
     "output_type": "stream",
     "text": [
      "\n"
     ]
    },
    {
     "name": "stderr",
     "output_type": "stream",
     "text": [
      "761it [1:07:35,  5.29s/it]000760, Training: 27.88%,  Loss: 2.99378, ACC: 46.81% "
     ]
    },
    {
     "name": "stdout",
     "output_type": "stream",
     "text": [
      "\n"
     ]
    },
    {
     "name": "stderr",
     "output_type": "stream",
     "text": [
      "762it [1:07:40,  5.30s/it]000760, Training: 27.91%,  Loss: 2.99407, ACC: 46.80% "
     ]
    },
    {
     "name": "stdout",
     "output_type": "stream",
     "text": [
      "\n"
     ]
    },
    {
     "name": "stderr",
     "output_type": "stream",
     "text": [
      "763it [1:07:46,  5.31s/it]000760, Training: 27.95%,  Loss: 2.99394, ACC: 46.81% "
     ]
    },
    {
     "name": "stdout",
     "output_type": "stream",
     "text": [
      "\n"
     ]
    },
    {
     "name": "stderr",
     "output_type": "stream",
     "text": [
      "764it [1:07:51,  5.31s/it]000760, Training: 27.99%,  Loss: 2.99433, ACC: 46.80% "
     ]
    },
    {
     "name": "stdout",
     "output_type": "stream",
     "text": [
      "\n"
     ]
    },
    {
     "name": "stderr",
     "output_type": "stream",
     "text": [
      "765it [1:07:56,  5.32s/it]000760, Training: 28.02%,  Loss: 2.99433, ACC: 46.80% "
     ]
    },
    {
     "name": "stdout",
     "output_type": "stream",
     "text": [
      "\n"
     ]
    },
    {
     "name": "stderr",
     "output_type": "stream",
     "text": [
      "766it [1:08:02,  5.34s/it]000760, Training: 28.06%,  Loss: 2.99417, ACC: 46.80% "
     ]
    },
    {
     "name": "stdout",
     "output_type": "stream",
     "text": [
      "\n"
     ]
    },
    {
     "name": "stderr",
     "output_type": "stream",
     "text": [
      "767it [1:08:07,  5.30s/it]000760, Training: 28.10%,  Loss: 2.99417, ACC: 46.80% "
     ]
    },
    {
     "name": "stdout",
     "output_type": "stream",
     "text": [
      "\n"
     ]
    },
    {
     "name": "stderr",
     "output_type": "stream",
     "text": [
      "768it [1:08:12,  5.28s/it]000760, Training: 28.13%,  Loss: 2.99400, ACC: 46.80% "
     ]
    },
    {
     "name": "stdout",
     "output_type": "stream",
     "text": [
      "\n"
     ]
    },
    {
     "name": "stderr",
     "output_type": "stream",
     "text": [
      "769it [1:08:17,  5.27s/it]000760, Training: 28.17%,  Loss: 2.99400, ACC: 46.80% "
     ]
    },
    {
     "name": "stdout",
     "output_type": "stream",
     "text": [
      "\n"
     ]
    },
    {
     "name": "stderr",
     "output_type": "stream",
     "text": [
      "770it [1:08:22,  5.23s/it]000760, Training: 28.21%,  Loss: 2.99418, ACC: 46.80% "
     ]
    },
    {
     "name": "stdout",
     "output_type": "stream",
     "text": [
      "\n"
     ]
    },
    {
     "name": "stderr",
     "output_type": "stream",
     "text": [
      "771it [1:08:28,  5.23s/it]000760, Training: 28.24%,  Loss: 2.99399, ACC: 46.79% "
     ]
    },
    {
     "name": "stdout",
     "output_type": "stream",
     "text": [
      "\n"
     ]
    },
    {
     "name": "stderr",
     "output_type": "stream",
     "text": [
      "772it [1:08:33,  5.27s/it]000760, Training: 28.28%,  Loss: 2.99412, ACC: 46.80% "
     ]
    },
    {
     "name": "stdout",
     "output_type": "stream",
     "text": [
      "\n"
     ]
    },
    {
     "name": "stderr",
     "output_type": "stream",
     "text": [
      "773it [1:08:38,  5.30s/it]000760, Training: 28.32%,  Loss: 2.99404, ACC: 46.80% "
     ]
    },
    {
     "name": "stdout",
     "output_type": "stream",
     "text": [
      "\n"
     ]
    },
    {
     "name": "stderr",
     "output_type": "stream",
     "text": [
      "774it [1:08:44,  5.27s/it]000760, Training: 28.35%,  Loss: 2.99381, ACC: 46.80% "
     ]
    },
    {
     "name": "stdout",
     "output_type": "stream",
     "text": [
      "\n"
     ]
    },
    {
     "name": "stderr",
     "output_type": "stream",
     "text": [
      "775it [1:08:49,  5.28s/it]000760, Training: 28.39%,  Loss: 2.99401, ACC: 46.80% "
     ]
    },
    {
     "name": "stdout",
     "output_type": "stream",
     "text": [
      "\n"
     ]
    },
    {
     "name": "stderr",
     "output_type": "stream",
     "text": [
      "776it [1:08:54,  5.31s/it]000760, Training: 28.42%,  Loss: 2.99426, ACC: 46.80% "
     ]
    },
    {
     "name": "stdout",
     "output_type": "stream",
     "text": [
      "\n"
     ]
    },
    {
     "name": "stderr",
     "output_type": "stream",
     "text": [
      "777it [1:09:00,  5.29s/it]000760, Training: 28.46%,  Loss: 2.99446, ACC: 46.79% "
     ]
    },
    {
     "name": "stdout",
     "output_type": "stream",
     "text": [
      "\n"
     ]
    },
    {
     "name": "stderr",
     "output_type": "stream",
     "text": [
      "778it [1:09:05,  5.34s/it]000760, Training: 28.50%,  Loss: 2.99429, ACC: 46.79% "
     ]
    },
    {
     "name": "stdout",
     "output_type": "stream",
     "text": [
      "\n"
     ]
    },
    {
     "name": "stderr",
     "output_type": "stream",
     "text": [
      "779it [1:09:10,  5.31s/it]000760, Training: 28.53%,  Loss: 2.99401, ACC: 46.80% "
     ]
    },
    {
     "name": "stdout",
     "output_type": "stream",
     "text": [
      "\n"
     ]
    },
    {
     "name": "stderr",
     "output_type": "stream",
     "text": [
      "780it [1:09:15,  5.28s/it]000760, Training: 28.57%,  Loss: 2.99383, ACC: 46.80% "
     ]
    },
    {
     "name": "stdout",
     "output_type": "stream",
     "text": [
      "\n"
     ]
    },
    {
     "name": "stderr",
     "output_type": "stream",
     "text": [
      "781it [1:09:21,  5.34s/it]000760, Training: 28.61%,  Loss: 2.99424, ACC: 46.79% "
     ]
    },
    {
     "name": "stdout",
     "output_type": "stream",
     "text": [
      "\n"
     ]
    },
    {
     "name": "stderr",
     "output_type": "stream",
     "text": [
      "782it [1:09:26,  5.31s/it]000760, Training: 28.64%,  Loss: 2.99416, ACC: 46.79% "
     ]
    },
    {
     "name": "stdout",
     "output_type": "stream",
     "text": [
      "\n"
     ]
    },
    {
     "name": "stderr",
     "output_type": "stream",
     "text": [
      "783it [1:09:31,  5.30s/it]000760, Training: 28.68%,  Loss: 2.99454, ACC: 46.79% "
     ]
    },
    {
     "name": "stdout",
     "output_type": "stream",
     "text": [
      "\n"
     ]
    },
    {
     "name": "stderr",
     "output_type": "stream",
     "text": [
      "784it [1:09:37,  5.30s/it]000760, Training: 28.72%,  Loss: 2.99463, ACC: 46.78% "
     ]
    },
    {
     "name": "stdout",
     "output_type": "stream",
     "text": [
      "\n"
     ]
    },
    {
     "name": "stderr",
     "output_type": "stream",
     "text": [
      "785it [1:09:42,  5.28s/it]000760, Training: 28.75%,  Loss: 2.99457, ACC: 46.78% "
     ]
    },
    {
     "name": "stdout",
     "output_type": "stream",
     "text": [
      "\n"
     ]
    },
    {
     "name": "stderr",
     "output_type": "stream",
     "text": [
      "786it [1:09:47,  5.28s/it]000760, Training: 28.79%,  Loss: 2.99446, ACC: 46.78% "
     ]
    },
    {
     "name": "stdout",
     "output_type": "stream",
     "text": [
      "\n"
     ]
    },
    {
     "name": "stderr",
     "output_type": "stream",
     "text": [
      "787it [1:09:52,  5.26s/it]000760, Training: 28.83%,  Loss: 2.99430, ACC: 46.78% "
     ]
    },
    {
     "name": "stdout",
     "output_type": "stream",
     "text": [
      "\n"
     ]
    },
    {
     "name": "stderr",
     "output_type": "stream",
     "text": [
      "788it [1:09:58,  5.26s/it]000760, Training: 28.86%,  Loss: 2.99424, ACC: 46.78% "
     ]
    },
    {
     "name": "stdout",
     "output_type": "stream",
     "text": [
      "\n"
     ]
    },
    {
     "name": "stderr",
     "output_type": "stream",
     "text": [
      "789it [1:10:03,  5.25s/it]000760, Training: 28.90%,  Loss: 2.99350, ACC: 46.79% "
     ]
    },
    {
     "name": "stdout",
     "output_type": "stream",
     "text": [
      "\n"
     ]
    },
    {
     "name": "stderr",
     "output_type": "stream",
     "text": [
      "790it [1:10:08,  5.26s/it]000760, Training: 28.94%,  Loss: 2.99329, ACC: 46.79% "
     ]
    },
    {
     "name": "stdout",
     "output_type": "stream",
     "text": [
      "\n"
     ]
    },
    {
     "name": "stderr",
     "output_type": "stream",
     "text": [
      "791it [1:10:13,  5.24s/it]000760, Training: 28.97%,  Loss: 2.99332, ACC: 46.79% "
     ]
    },
    {
     "name": "stdout",
     "output_type": "stream",
     "text": [
      "\n"
     ]
    },
    {
     "name": "stderr",
     "output_type": "stream",
     "text": [
      "792it [1:10:19,  5.25s/it]000760, Training: 29.01%,  Loss: 2.99310, ACC: 46.80% "
     ]
    },
    {
     "name": "stdout",
     "output_type": "stream",
     "text": [
      "\n"
     ]
    },
    {
     "name": "stderr",
     "output_type": "stream",
     "text": [
      "793it [1:10:24,  5.29s/it]000760, Training: 29.05%,  Loss: 2.99328, ACC: 46.79% "
     ]
    },
    {
     "name": "stdout",
     "output_type": "stream",
     "text": [
      "\n"
     ]
    },
    {
     "name": "stderr",
     "output_type": "stream",
     "text": [
      "794it [1:10:29,  5.33s/it]000760, Training: 29.08%,  Loss: 2.99316, ACC: 46.80% "
     ]
    },
    {
     "name": "stdout",
     "output_type": "stream",
     "text": [
      "\n"
     ]
    },
    {
     "name": "stderr",
     "output_type": "stream",
     "text": [
      "795it [1:10:35,  5.29s/it]000760, Training: 29.12%,  Loss: 2.99300, ACC: 46.80% "
     ]
    },
    {
     "name": "stdout",
     "output_type": "stream",
     "text": [
      "\n"
     ]
    },
    {
     "name": "stderr",
     "output_type": "stream",
     "text": [
      "796it [1:10:40,  5.28s/it]000760, Training: 29.16%,  Loss: 2.99344, ACC: 46.79% "
     ]
    },
    {
     "name": "stdout",
     "output_type": "stream",
     "text": [
      "\n"
     ]
    },
    {
     "name": "stderr",
     "output_type": "stream",
     "text": [
      "797it [1:10:45,  5.27s/it]000760, Training: 29.19%,  Loss: 2.99336, ACC: 46.79% "
     ]
    },
    {
     "name": "stdout",
     "output_type": "stream",
     "text": [
      "\n"
     ]
    },
    {
     "name": "stderr",
     "output_type": "stream",
     "text": [
      "798it [1:10:50,  5.27s/it]000760, Training: 29.23%,  Loss: 2.99325, ACC: 46.80% "
     ]
    },
    {
     "name": "stdout",
     "output_type": "stream",
     "text": [
      "\n"
     ]
    },
    {
     "name": "stderr",
     "output_type": "stream",
     "text": [
      "799it [1:10:56,  5.26s/it]000760, Training: 29.27%,  Loss: 2.99295, ACC: 46.80% "
     ]
    },
    {
     "name": "stdout",
     "output_type": "stream",
     "text": [
      "\n"
     ]
    },
    {
     "name": "stderr",
     "output_type": "stream",
     "text": [
      "800it [1:11:01,  5.28s/it]000760, Training: 29.30%,  Loss: 2.99283, ACC: 46.80% "
     ]
    },
    {
     "name": "stdout",
     "output_type": "stream",
     "text": [
      "\n"
     ]
    },
    {
     "name": "stderr",
     "output_type": "stream",
     "text": [
      "801it [1:11:06,  5.24s/it]000760, Training: 29.34%,  Loss: 2.99326, ACC: 46.80% "
     ]
    },
    {
     "name": "stdout",
     "output_type": "stream",
     "text": [
      "\n"
     ]
    },
    {
     "name": "stderr",
     "output_type": "stream",
     "text": [
      "802it [1:11:12,  5.28s/it]000760, Training: 29.38%,  Loss: 2.99329, ACC: 46.79% "
     ]
    },
    {
     "name": "stdout",
     "output_type": "stream",
     "text": [
      "\n"
     ]
    },
    {
     "name": "stderr",
     "output_type": "stream",
     "text": [
      "803it [1:11:17,  5.34s/it]000760, Training: 29.41%,  Loss: 2.99358, ACC: 46.79% "
     ]
    },
    {
     "name": "stdout",
     "output_type": "stream",
     "text": [
      "\n"
     ]
    },
    {
     "name": "stderr",
     "output_type": "stream",
     "text": [
      "804it [1:11:22,  5.34s/it]000760, Training: 29.45%,  Loss: 2.99352, ACC: 46.78% "
     ]
    },
    {
     "name": "stdout",
     "output_type": "stream",
     "text": [
      "\n"
     ]
    },
    {
     "name": "stderr",
     "output_type": "stream",
     "text": [
      "805it [1:11:28,  5.36s/it]000760, Training: 29.49%,  Loss: 2.99329, ACC: 46.79% "
     ]
    },
    {
     "name": "stdout",
     "output_type": "stream",
     "text": [
      "\n"
     ]
    },
    {
     "name": "stderr",
     "output_type": "stream",
     "text": [
      "806it [1:11:33,  5.38s/it]000760, Training: 29.52%,  Loss: 2.99341, ACC: 46.79% "
     ]
    },
    {
     "name": "stdout",
     "output_type": "stream",
     "text": [
      "\n"
     ]
    },
    {
     "name": "stderr",
     "output_type": "stream",
     "text": [
      "807it [1:11:39,  5.36s/it]000760, Training: 29.56%,  Loss: 2.99360, ACC: 46.78% "
     ]
    },
    {
     "name": "stdout",
     "output_type": "stream",
     "text": [
      "\n"
     ]
    },
    {
     "name": "stderr",
     "output_type": "stream",
     "text": [
      "808it [1:11:44,  5.34s/it]000760, Training: 29.60%,  Loss: 2.99405, ACC: 46.78% "
     ]
    },
    {
     "name": "stdout",
     "output_type": "stream",
     "text": [
      "\n"
     ]
    },
    {
     "name": "stderr",
     "output_type": "stream",
     "text": [
      "809it [1:11:49,  5.31s/it]000760, Training: 29.63%,  Loss: 2.99385, ACC: 46.78% "
     ]
    },
    {
     "name": "stdout",
     "output_type": "stream",
     "text": [
      "\n"
     ]
    },
    {
     "name": "stderr",
     "output_type": "stream",
     "text": [
      "810it [1:11:54,  5.29s/it]000760, Training: 29.67%,  Loss: 2.99399, ACC: 46.78% "
     ]
    },
    {
     "name": "stdout",
     "output_type": "stream",
     "text": [
      "\n"
     ]
    },
    {
     "name": "stderr",
     "output_type": "stream",
     "text": [
      "811it [1:12:00,  5.31s/it]000760, Training: 29.71%,  Loss: 2.99389, ACC: 46.77% "
     ]
    },
    {
     "name": "stdout",
     "output_type": "stream",
     "text": [
      "\n"
     ]
    },
    {
     "name": "stderr",
     "output_type": "stream",
     "text": [
      "812it [1:12:05,  5.35s/it]000760, Training: 29.74%,  Loss: 2.99421, ACC: 46.77% "
     ]
    },
    {
     "name": "stdout",
     "output_type": "stream",
     "text": [
      "\n"
     ]
    },
    {
     "name": "stderr",
     "output_type": "stream",
     "text": [
      "813it [1:12:10,  5.35s/it]000760, Training: 29.78%,  Loss: 2.99392, ACC: 46.78% "
     ]
    },
    {
     "name": "stdout",
     "output_type": "stream",
     "text": [
      "\n"
     ]
    },
    {
     "name": "stderr",
     "output_type": "stream",
     "text": [
      "814it [1:12:16,  5.34s/it]000760, Training: 29.82%,  Loss: 2.99407, ACC: 46.77% "
     ]
    },
    {
     "name": "stdout",
     "output_type": "stream",
     "text": [
      "\n"
     ]
    },
    {
     "name": "stderr",
     "output_type": "stream",
     "text": [
      "815it [1:12:21,  5.34s/it]000760, Training: 29.85%,  Loss: 2.99436, ACC: 46.77% "
     ]
    },
    {
     "name": "stdout",
     "output_type": "stream",
     "text": [
      "\n"
     ]
    },
    {
     "name": "stderr",
     "output_type": "stream",
     "text": [
      "816it [1:12:26,  5.35s/it]000760, Training: 29.89%,  Loss: 2.99421, ACC: 46.77% "
     ]
    },
    {
     "name": "stdout",
     "output_type": "stream",
     "text": [
      "\n"
     ]
    },
    {
     "name": "stderr",
     "output_type": "stream",
     "text": [
      "817it [1:12:32,  5.36s/it]000760, Training: 29.93%,  Loss: 2.99484, ACC: 46.76% "
     ]
    },
    {
     "name": "stdout",
     "output_type": "stream",
     "text": [
      "\n"
     ]
    },
    {
     "name": "stderr",
     "output_type": "stream",
     "text": [
      "818it [1:12:37,  5.37s/it]000760, Training: 29.96%,  Loss: 2.99485, ACC: 46.76% "
     ]
    },
    {
     "name": "stdout",
     "output_type": "stream",
     "text": [
      "\n"
     ]
    },
    {
     "name": "stderr",
     "output_type": "stream",
     "text": [
      "819it [1:12:43,  5.37s/it]000760, Training: 30.00%,  Loss: 2.99469, ACC: 46.76% "
     ]
    },
    {
     "name": "stdout",
     "output_type": "stream",
     "text": [
      "\n"
     ]
    },
    {
     "name": "stderr",
     "output_type": "stream",
     "text": [
      "820it [1:12:48,  5.34s/it]000760, Training: 30.04%,  Loss: 2.99479, ACC: 46.76% "
     ]
    },
    {
     "name": "stdout",
     "output_type": "stream",
     "text": [
      "\n"
     ]
    },
    {
     "name": "stderr",
     "output_type": "stream",
     "text": [
      "821it [1:12:53,  5.40s/it]000760, Training: 30.07%,  Loss: 2.99468, ACC: 46.76% "
     ]
    },
    {
     "name": "stdout",
     "output_type": "stream",
     "text": [
      "\n"
     ]
    },
    {
     "name": "stderr",
     "output_type": "stream",
     "text": [
      "822it [1:12:59,  5.38s/it]000760, Training: 30.11%,  Loss: 2.99473, ACC: 46.76% "
     ]
    },
    {
     "name": "stdout",
     "output_type": "stream",
     "text": [
      "\n"
     ]
    },
    {
     "name": "stderr",
     "output_type": "stream",
     "text": [
      "823it [1:13:04,  5.39s/it]000760, Training: 30.15%,  Loss: 2.99476, ACC: 46.76% "
     ]
    },
    {
     "name": "stdout",
     "output_type": "stream",
     "text": [
      "\n"
     ]
    },
    {
     "name": "stderr",
     "output_type": "stream",
     "text": [
      "824it [1:13:10,  5.41s/it]000760, Training: 30.18%,  Loss: 2.99483, ACC: 46.76% "
     ]
    },
    {
     "name": "stdout",
     "output_type": "stream",
     "text": [
      "\n"
     ]
    },
    {
     "name": "stderr",
     "output_type": "stream",
     "text": [
      "825it [1:13:15,  5.38s/it]000760, Training: 30.22%,  Loss: 2.99474, ACC: 46.76% "
     ]
    },
    {
     "name": "stdout",
     "output_type": "stream",
     "text": [
      "\n"
     ]
    },
    {
     "name": "stderr",
     "output_type": "stream",
     "text": [
      "826it [1:13:20,  5.42s/it]000760, Training: 30.26%,  Loss: 2.99471, ACC: 46.76% "
     ]
    },
    {
     "name": "stdout",
     "output_type": "stream",
     "text": [
      "\n"
     ]
    },
    {
     "name": "stderr",
     "output_type": "stream",
     "text": [
      "827it [1:13:26,  5.40s/it]000760, Training: 30.29%,  Loss: 2.99456, ACC: 46.76% "
     ]
    },
    {
     "name": "stdout",
     "output_type": "stream",
     "text": [
      "\n"
     ]
    },
    {
     "name": "stderr",
     "output_type": "stream",
     "text": [
      "828it [1:13:31,  5.38s/it]000760, Training: 30.33%,  Loss: 2.99446, ACC: 46.76% "
     ]
    },
    {
     "name": "stdout",
     "output_type": "stream",
     "text": [
      "\n"
     ]
    },
    {
     "name": "stderr",
     "output_type": "stream",
     "text": [
      "829it [1:13:37,  5.39s/it]000760, Training: 30.37%,  Loss: 2.99474, ACC: 46.76% "
     ]
    },
    {
     "name": "stdout",
     "output_type": "stream",
     "text": [
      "\n"
     ]
    },
    {
     "name": "stderr",
     "output_type": "stream",
     "text": [
      "830it [1:13:42,  5.38s/it]000760, Training: 30.40%,  Loss: 2.99505, ACC: 46.76% "
     ]
    },
    {
     "name": "stdout",
     "output_type": "stream",
     "text": [
      "\n"
     ]
    },
    {
     "name": "stderr",
     "output_type": "stream",
     "text": [
      "831it [1:13:47,  5.36s/it]000760, Training: 30.44%,  Loss: 2.99500, ACC: 46.76% "
     ]
    },
    {
     "name": "stdout",
     "output_type": "stream",
     "text": [
      "\n"
     ]
    },
    {
     "name": "stderr",
     "output_type": "stream",
     "text": [
      "832it [1:13:52,  5.32s/it]000760, Training: 30.48%,  Loss: 2.99520, ACC: 46.75% "
     ]
    },
    {
     "name": "stdout",
     "output_type": "stream",
     "text": [
      "\n"
     ]
    },
    {
     "name": "stderr",
     "output_type": "stream",
     "text": [
      "833it [1:13:58,  5.29s/it]000760, Training: 30.51%,  Loss: 2.99538, ACC: 46.75% "
     ]
    },
    {
     "name": "stdout",
     "output_type": "stream",
     "text": [
      "\n"
     ]
    },
    {
     "name": "stderr",
     "output_type": "stream",
     "text": [
      "834it [1:14:03,  5.28s/it]000760, Training: 30.55%,  Loss: 2.99532, ACC: 46.75% "
     ]
    },
    {
     "name": "stdout",
     "output_type": "stream",
     "text": [
      "\n"
     ]
    },
    {
     "name": "stderr",
     "output_type": "stream",
     "text": [
      "835it [1:14:08,  5.29s/it]000760, Training: 30.59%,  Loss: 2.99529, ACC: 46.75% "
     ]
    },
    {
     "name": "stdout",
     "output_type": "stream",
     "text": [
      "\n"
     ]
    },
    {
     "name": "stderr",
     "output_type": "stream",
     "text": [
      "836it [1:14:14,  5.29s/it]000760, Training: 30.62%,  Loss: 2.99505, ACC: 46.76% "
     ]
    },
    {
     "name": "stdout",
     "output_type": "stream",
     "text": [
      "\n"
     ]
    },
    {
     "name": "stderr",
     "output_type": "stream",
     "text": [
      "837it [1:14:19,  5.30s/it]000760, Training: 30.66%,  Loss: 2.99507, ACC: 46.75% "
     ]
    },
    {
     "name": "stdout",
     "output_type": "stream",
     "text": [
      "\n"
     ]
    },
    {
     "name": "stderr",
     "output_type": "stream",
     "text": [
      "838it [1:14:24,  5.36s/it]000760, Training: 30.70%,  Loss: 2.99480, ACC: 46.76% "
     ]
    },
    {
     "name": "stdout",
     "output_type": "stream",
     "text": [
      "\n"
     ]
    },
    {
     "name": "stderr",
     "output_type": "stream",
     "text": [
      "839it [1:14:30,  5.36s/it]000760, Training: 30.73%,  Loss: 2.99470, ACC: 46.76% "
     ]
    },
    {
     "name": "stdout",
     "output_type": "stream",
     "text": [
      "\n"
     ]
    },
    {
     "name": "stderr",
     "output_type": "stream",
     "text": [
      "840it [1:14:35,  5.36s/it]000760, Training: 30.77%,  Loss: 2.99467, ACC: 46.76% "
     ]
    },
    {
     "name": "stdout",
     "output_type": "stream",
     "text": [
      "\n"
     ]
    },
    {
     "name": "stderr",
     "output_type": "stream",
     "text": [
      "841it [1:14:40,  5.35s/it]000760, Training: 30.81%,  Loss: 2.99495, ACC: 46.76% "
     ]
    },
    {
     "name": "stdout",
     "output_type": "stream",
     "text": [
      "\n"
     ]
    },
    {
     "name": "stderr",
     "output_type": "stream",
     "text": [
      "842it [1:14:46,  5.30s/it]000760, Training: 30.84%,  Loss: 2.99468, ACC: 46.76% "
     ]
    },
    {
     "name": "stdout",
     "output_type": "stream",
     "text": [
      "\n"
     ]
    },
    {
     "name": "stderr",
     "output_type": "stream",
     "text": [
      "843it [1:14:51,  5.33s/it]000760, Training: 30.88%,  Loss: 2.99482, ACC: 46.76% "
     ]
    },
    {
     "name": "stdout",
     "output_type": "stream",
     "text": [
      "\n"
     ]
    },
    {
     "name": "stderr",
     "output_type": "stream",
     "text": [
      "844it [1:14:56,  5.33s/it]000760, Training: 30.92%,  Loss: 2.99509, ACC: 46.76% "
     ]
    },
    {
     "name": "stdout",
     "output_type": "stream",
     "text": [
      "\n"
     ]
    },
    {
     "name": "stderr",
     "output_type": "stream",
     "text": [
      "845it [1:15:02,  5.39s/it]000760, Training: 30.95%,  Loss: 2.99502, ACC: 46.76% "
     ]
    },
    {
     "name": "stdout",
     "output_type": "stream",
     "text": [
      "\n"
     ]
    },
    {
     "name": "stderr",
     "output_type": "stream",
     "text": [
      "846it [1:15:07,  5.37s/it]000760, Training: 30.99%,  Loss: 2.99485, ACC: 46.76% "
     ]
    },
    {
     "name": "stdout",
     "output_type": "stream",
     "text": [
      "\n"
     ]
    },
    {
     "name": "stderr",
     "output_type": "stream",
     "text": [
      "847it [1:15:12,  5.36s/it]000760, Training: 31.03%,  Loss: 2.99484, ACC: 46.76% "
     ]
    },
    {
     "name": "stdout",
     "output_type": "stream",
     "text": [
      "\n"
     ]
    },
    {
     "name": "stderr",
     "output_type": "stream",
     "text": [
      "848it [1:15:18,  5.38s/it]000760, Training: 31.06%,  Loss: 2.99488, ACC: 46.76% "
     ]
    },
    {
     "name": "stdout",
     "output_type": "stream",
     "text": [
      "\n"
     ]
    },
    {
     "name": "stderr",
     "output_type": "stream",
     "text": [
      "849it [1:15:23,  5.36s/it]000760, Training: 31.10%,  Loss: 2.99488, ACC: 46.75% "
     ]
    },
    {
     "name": "stdout",
     "output_type": "stream",
     "text": [
      "\n"
     ]
    },
    {
     "name": "stderr",
     "output_type": "stream",
     "text": [
      "850it [1:15:29,  5.39s/it]000760, Training: 31.14%,  Loss: 2.99485, ACC: 46.75% "
     ]
    },
    {
     "name": "stdout",
     "output_type": "stream",
     "text": [
      "\n"
     ]
    },
    {
     "name": "stderr",
     "output_type": "stream",
     "text": [
      "851it [1:15:34,  5.38s/it]000760, Training: 31.17%,  Loss: 2.99448, ACC: 46.75% "
     ]
    },
    {
     "name": "stdout",
     "output_type": "stream",
     "text": [
      "\n"
     ]
    },
    {
     "name": "stderr",
     "output_type": "stream",
     "text": [
      "852it [1:15:39,  5.37s/it]000760, Training: 31.21%,  Loss: 2.99421, ACC: 46.76% "
     ]
    },
    {
     "name": "stdout",
     "output_type": "stream",
     "text": [
      "\n"
     ]
    },
    {
     "name": "stderr",
     "output_type": "stream",
     "text": [
      "853it [1:15:45,  5.40s/it]000760, Training: 31.25%,  Loss: 2.99423, ACC: 46.76% "
     ]
    },
    {
     "name": "stdout",
     "output_type": "stream",
     "text": [
      "\n"
     ]
    },
    {
     "name": "stderr",
     "output_type": "stream",
     "text": [
      "854it [1:15:50,  5.39s/it]000760, Training: 31.28%,  Loss: 2.99419, ACC: 46.75% "
     ]
    },
    {
     "name": "stdout",
     "output_type": "stream",
     "text": [
      "\n"
     ]
    },
    {
     "name": "stderr",
     "output_type": "stream",
     "text": [
      "855it [1:15:56,  5.39s/it]000760, Training: 31.32%,  Loss: 2.99420, ACC: 46.75% "
     ]
    },
    {
     "name": "stdout",
     "output_type": "stream",
     "text": [
      "\n"
     ]
    },
    {
     "name": "stderr",
     "output_type": "stream",
     "text": [
      "856it [1:16:01,  5.41s/it]000760, Training: 31.36%,  Loss: 2.99412, ACC: 46.76% "
     ]
    },
    {
     "name": "stdout",
     "output_type": "stream",
     "text": [
      "\n"
     ]
    },
    {
     "name": "stderr",
     "output_type": "stream",
     "text": [
      "857it [1:16:07,  5.42s/it]000760, Training: 31.39%,  Loss: 2.99403, ACC: 46.76% "
     ]
    },
    {
     "name": "stdout",
     "output_type": "stream",
     "text": [
      "\n"
     ]
    },
    {
     "name": "stderr",
     "output_type": "stream",
     "text": [
      "858it [1:16:12,  5.37s/it]000760, Training: 31.43%,  Loss: 2.99419, ACC: 46.75% "
     ]
    },
    {
     "name": "stdout",
     "output_type": "stream",
     "text": [
      "\n"
     ]
    },
    {
     "name": "stderr",
     "output_type": "stream",
     "text": [
      "859it [1:16:17,  5.42s/it]000760, Training: 31.47%,  Loss: 2.99445, ACC: 46.75% "
     ]
    },
    {
     "name": "stdout",
     "output_type": "stream",
     "text": [
      "\n"
     ]
    },
    {
     "name": "stderr",
     "output_type": "stream",
     "text": [
      "860it [1:16:23,  5.40s/it]000760, Training: 31.50%,  Loss: 2.99459, ACC: 46.75% "
     ]
    },
    {
     "name": "stdout",
     "output_type": "stream",
     "text": [
      "\n"
     ]
    },
    {
     "name": "stderr",
     "output_type": "stream",
     "text": [
      "861it [1:16:28,  5.37s/it]000760, Training: 31.54%,  Loss: 2.99466, ACC: 46.75% "
     ]
    },
    {
     "name": "stdout",
     "output_type": "stream",
     "text": [
      "\n"
     ]
    },
    {
     "name": "stderr",
     "output_type": "stream",
     "text": [
      "862it [1:16:33,  5.36s/it]000760, Training: 31.58%,  Loss: 2.99456, ACC: 46.75% "
     ]
    },
    {
     "name": "stdout",
     "output_type": "stream",
     "text": [
      "\n"
     ]
    },
    {
     "name": "stderr",
     "output_type": "stream",
     "text": [
      "863it [1:16:39,  5.34s/it]000760, Training: 31.61%,  Loss: 2.99460, ACC: 46.75% "
     ]
    },
    {
     "name": "stdout",
     "output_type": "stream",
     "text": [
      "\n"
     ]
    },
    {
     "name": "stderr",
     "output_type": "stream",
     "text": [
      "864it [1:16:44,  5.49s/it]000760, Training: 31.65%,  Loss: 2.99465, ACC: 46.75% "
     ]
    },
    {
     "name": "stdout",
     "output_type": "stream",
     "text": [
      "\n"
     ]
    },
    {
     "name": "stderr",
     "output_type": "stream",
     "text": [
      "865it [1:16:50,  5.47s/it]000760, Training: 31.68%,  Loss: 2.99451, ACC: 46.75% "
     ]
    },
    {
     "name": "stdout",
     "output_type": "stream",
     "text": [
      "\n"
     ]
    },
    {
     "name": "stderr",
     "output_type": "stream",
     "text": [
      "866it [1:16:55,  5.36s/it]000760, Training: 31.72%,  Loss: 2.99431, ACC: 46.75% "
     ]
    },
    {
     "name": "stdout",
     "output_type": "stream",
     "text": [
      "\n"
     ]
    },
    {
     "name": "stderr",
     "output_type": "stream",
     "text": [
      "867it [1:17:00,  5.34s/it]000760, Training: 31.76%,  Loss: 2.99444, ACC: 46.75% "
     ]
    },
    {
     "name": "stdout",
     "output_type": "stream",
     "text": [
      "\n"
     ]
    },
    {
     "name": "stderr",
     "output_type": "stream",
     "text": [
      "868it [1:17:06,  5.36s/it]000760, Training: 31.79%,  Loss: 2.99466, ACC: 46.75% "
     ]
    },
    {
     "name": "stdout",
     "output_type": "stream",
     "text": [
      "\n"
     ]
    },
    {
     "name": "stderr",
     "output_type": "stream",
     "text": [
      "869it [1:17:11,  5.35s/it]000760, Training: 31.83%,  Loss: 2.99471, ACC: 46.74% "
     ]
    },
    {
     "name": "stdout",
     "output_type": "stream",
     "text": [
      "\n"
     ]
    },
    {
     "name": "stderr",
     "output_type": "stream",
     "text": [
      "870it [1:17:16,  5.35s/it]000760, Training: 31.87%,  Loss: 2.99466, ACC: 46.74% "
     ]
    },
    {
     "name": "stdout",
     "output_type": "stream",
     "text": [
      "\n"
     ]
    },
    {
     "name": "stderr",
     "output_type": "stream",
     "text": [
      "871it [1:17:22,  5.36s/it]000760, Training: 31.90%,  Loss: 2.99466, ACC: 46.74% "
     ]
    },
    {
     "name": "stdout",
     "output_type": "stream",
     "text": [
      "\n"
     ]
    },
    {
     "name": "stderr",
     "output_type": "stream",
     "text": [
      "872it [1:17:27,  5.36s/it]000760, Training: 31.94%,  Loss: 2.99478, ACC: 46.74% "
     ]
    },
    {
     "name": "stdout",
     "output_type": "stream",
     "text": [
      "\n"
     ]
    },
    {
     "name": "stderr",
     "output_type": "stream",
     "text": [
      "873it [1:17:32,  5.34s/it]000760, Training: 31.98%,  Loss: 2.99492, ACC: 46.74% "
     ]
    },
    {
     "name": "stdout",
     "output_type": "stream",
     "text": [
      "\n"
     ]
    },
    {
     "name": "stderr",
     "output_type": "stream",
     "text": [
      "874it [1:17:38,  5.33s/it]000760, Training: 32.01%,  Loss: 2.99533, ACC: 46.73% "
     ]
    },
    {
     "name": "stdout",
     "output_type": "stream",
     "text": [
      "\n"
     ]
    },
    {
     "name": "stderr",
     "output_type": "stream",
     "text": [
      "875it [1:17:43,  5.39s/it]000760, Training: 32.05%,  Loss: 2.99556, ACC: 46.74% "
     ]
    },
    {
     "name": "stdout",
     "output_type": "stream",
     "text": [
      "\n"
     ]
    },
    {
     "name": "stderr",
     "output_type": "stream",
     "text": [
      "876it [1:17:49,  5.39s/it]000760, Training: 32.09%,  Loss: 2.99546, ACC: 46.73% "
     ]
    },
    {
     "name": "stdout",
     "output_type": "stream",
     "text": [
      "\n"
     ]
    },
    {
     "name": "stderr",
     "output_type": "stream",
     "text": [
      "877it [1:17:54,  5.40s/it]000760, Training: 32.12%,  Loss: 2.99533, ACC: 46.74% "
     ]
    },
    {
     "name": "stdout",
     "output_type": "stream",
     "text": [
      "\n"
     ]
    },
    {
     "name": "stderr",
     "output_type": "stream",
     "text": [
      "878it [1:17:59,  5.40s/it]000760, Training: 32.16%,  Loss: 2.99543, ACC: 46.73% "
     ]
    },
    {
     "name": "stdout",
     "output_type": "stream",
     "text": [
      "\n"
     ]
    },
    {
     "name": "stderr",
     "output_type": "stream",
     "text": [
      "879it [1:18:05,  5.38s/it]000760, Training: 32.20%,  Loss: 2.99517, ACC: 46.74% "
     ]
    },
    {
     "name": "stdout",
     "output_type": "stream",
     "text": [
      "\n"
     ]
    },
    {
     "name": "stderr",
     "output_type": "stream",
     "text": [
      "880it [1:18:10,  5.42s/it]000760, Training: 32.23%,  Loss: 2.99534, ACC: 46.73% "
     ]
    },
    {
     "name": "stdout",
     "output_type": "stream",
     "text": [
      "\n"
     ]
    },
    {
     "name": "stderr",
     "output_type": "stream",
     "text": [
      "881it [1:18:16,  5.39s/it]000760, Training: 32.27%,  Loss: 2.99512, ACC: 46.74% "
     ]
    },
    {
     "name": "stdout",
     "output_type": "stream",
     "text": [
      "\n"
     ]
    },
    {
     "name": "stderr",
     "output_type": "stream",
     "text": [
      "882it [1:18:21,  5.43s/it]000760, Training: 32.31%,  Loss: 2.99534, ACC: 46.73% "
     ]
    },
    {
     "name": "stdout",
     "output_type": "stream",
     "text": [
      "\n"
     ]
    },
    {
     "name": "stderr",
     "output_type": "stream",
     "text": [
      "883it [1:18:27,  5.44s/it]000760, Training: 32.34%,  Loss: 2.99524, ACC: 46.74% "
     ]
    },
    {
     "name": "stdout",
     "output_type": "stream",
     "text": [
      "\n"
     ]
    },
    {
     "name": "stderr",
     "output_type": "stream",
     "text": [
      "884it [1:18:32,  5.43s/it]000760, Training: 32.38%,  Loss: 2.99513, ACC: 46.74% "
     ]
    },
    {
     "name": "stdout",
     "output_type": "stream",
     "text": [
      "\n"
     ]
    },
    {
     "name": "stderr",
     "output_type": "stream",
     "text": [
      "885it [1:18:37,  5.42s/it]000760, Training: 32.42%,  Loss: 2.99505, ACC: 46.75% "
     ]
    },
    {
     "name": "stdout",
     "output_type": "stream",
     "text": [
      "\n"
     ]
    },
    {
     "name": "stderr",
     "output_type": "stream",
     "text": [
      "886it [1:18:43,  5.42s/it]000760, Training: 32.45%,  Loss: 2.99480, ACC: 46.75% "
     ]
    },
    {
     "name": "stdout",
     "output_type": "stream",
     "text": [
      "\n"
     ]
    },
    {
     "name": "stderr",
     "output_type": "stream",
     "text": [
      "887it [1:18:48,  5.40s/it]000760, Training: 32.49%,  Loss: 2.99500, ACC: 46.75% "
     ]
    },
    {
     "name": "stdout",
     "output_type": "stream",
     "text": [
      "\n"
     ]
    },
    {
     "name": "stderr",
     "output_type": "stream",
     "text": [
      "888it [1:18:54,  5.47s/it]000760, Training: 32.53%,  Loss: 2.99531, ACC: 46.74% "
     ]
    },
    {
     "name": "stdout",
     "output_type": "stream",
     "text": [
      "\n"
     ]
    },
    {
     "name": "stderr",
     "output_type": "stream",
     "text": [
      "889it [1:18:59,  5.47s/it]000760, Training: 32.56%,  Loss: 2.99527, ACC: 46.74% "
     ]
    },
    {
     "name": "stdout",
     "output_type": "stream",
     "text": [
      "\n"
     ]
    },
    {
     "name": "stderr",
     "output_type": "stream",
     "text": [
      "890it [1:19:05,  5.48s/it]000760, Training: 32.60%,  Loss: 2.99519, ACC: 46.74% "
     ]
    },
    {
     "name": "stdout",
     "output_type": "stream",
     "text": [
      "\n"
     ]
    },
    {
     "name": "stderr",
     "output_type": "stream",
     "text": [
      "891it [1:19:10,  5.46s/it]000760, Training: 32.64%,  Loss: 2.99505, ACC: 46.74% "
     ]
    },
    {
     "name": "stdout",
     "output_type": "stream",
     "text": [
      "\n"
     ]
    },
    {
     "name": "stderr",
     "output_type": "stream",
     "text": [
      "892it [1:19:16,  5.50s/it]000760, Training: 32.67%,  Loss: 2.99489, ACC: 46.75% "
     ]
    },
    {
     "name": "stdout",
     "output_type": "stream",
     "text": [
      "\n"
     ]
    },
    {
     "name": "stderr",
     "output_type": "stream",
     "text": [
      "893it [1:19:21,  5.48s/it]000760, Training: 32.71%,  Loss: 2.99483, ACC: 46.75% "
     ]
    },
    {
     "name": "stdout",
     "output_type": "stream",
     "text": [
      "\n"
     ]
    },
    {
     "name": "stderr",
     "output_type": "stream",
     "text": [
      "894it [1:19:27,  5.47s/it]000760, Training: 32.75%,  Loss: 2.99498, ACC: 46.75% "
     ]
    },
    {
     "name": "stdout",
     "output_type": "stream",
     "text": [
      "\n"
     ]
    },
    {
     "name": "stderr",
     "output_type": "stream",
     "text": [
      "895it [1:19:32,  5.49s/it]000760, Training: 32.78%,  Loss: 2.99479, ACC: 46.75% "
     ]
    },
    {
     "name": "stdout",
     "output_type": "stream",
     "text": [
      "\n"
     ]
    },
    {
     "name": "stderr",
     "output_type": "stream",
     "text": [
      "896it [1:19:38,  5.54s/it]000760, Training: 32.82%,  Loss: 2.99484, ACC: 46.75% "
     ]
    },
    {
     "name": "stdout",
     "output_type": "stream",
     "text": [
      "\n"
     ]
    },
    {
     "name": "stderr",
     "output_type": "stream",
     "text": [
      "897it [1:19:44,  5.59s/it]000760, Training: 32.86%,  Loss: 2.99550, ACC: 46.75% "
     ]
    },
    {
     "name": "stdout",
     "output_type": "stream",
     "text": [
      "\n"
     ]
    },
    {
     "name": "stderr",
     "output_type": "stream",
     "text": [
      "898it [1:19:49,  5.55s/it]000760, Training: 32.89%,  Loss: 2.99538, ACC: 46.75% "
     ]
    },
    {
     "name": "stdout",
     "output_type": "stream",
     "text": [
      "\n"
     ]
    },
    {
     "name": "stderr",
     "output_type": "stream",
     "text": [
      "899it [1:19:55,  5.56s/it]000760, Training: 32.93%,  Loss: 2.99570, ACC: 46.74% "
     ]
    },
    {
     "name": "stdout",
     "output_type": "stream",
     "text": [
      "\n"
     ]
    },
    {
     "name": "stderr",
     "output_type": "stream",
     "text": [
      "900it [1:20:00,  5.53s/it]000760, Training: 32.97%,  Loss: 2.99552, ACC: 46.75% "
     ]
    },
    {
     "name": "stdout",
     "output_type": "stream",
     "text": [
      "\n"
     ]
    },
    {
     "name": "stderr",
     "output_type": "stream",
     "text": [
      "901it [1:20:06,  5.51s/it]000760, Training: 33.00%,  Loss: 2.99522, ACC: 46.75% "
     ]
    },
    {
     "name": "stdout",
     "output_type": "stream",
     "text": [
      "\n"
     ]
    },
    {
     "name": "stderr",
     "output_type": "stream",
     "text": [
      "902it [1:20:11,  5.53s/it]000760, Training: 33.04%,  Loss: 2.99531, ACC: 46.75% "
     ]
    },
    {
     "name": "stdout",
     "output_type": "stream",
     "text": [
      "\n"
     ]
    },
    {
     "name": "stderr",
     "output_type": "stream",
     "text": [
      "903it [1:20:16,  5.48s/it]000760, Training: 33.08%,  Loss: 2.99488, ACC: 46.76% "
     ]
    },
    {
     "name": "stdout",
     "output_type": "stream",
     "text": [
      "\n"
     ]
    },
    {
     "name": "stderr",
     "output_type": "stream",
     "text": [
      "904it [1:20:22,  5.49s/it]000760, Training: 33.11%,  Loss: 2.99493, ACC: 46.76% "
     ]
    },
    {
     "name": "stdout",
     "output_type": "stream",
     "text": [
      "\n"
     ]
    },
    {
     "name": "stderr",
     "output_type": "stream",
     "text": [
      "905it [1:20:27,  5.50s/it]000760, Training: 33.15%,  Loss: 2.99506, ACC: 46.75% "
     ]
    },
    {
     "name": "stdout",
     "output_type": "stream",
     "text": [
      "\n"
     ]
    },
    {
     "name": "stderr",
     "output_type": "stream",
     "text": [
      "906it [1:20:33,  5.50s/it]000760, Training: 33.19%,  Loss: 2.99478, ACC: 46.75% "
     ]
    },
    {
     "name": "stdout",
     "output_type": "stream",
     "text": [
      "\n"
     ]
    },
    {
     "name": "stderr",
     "output_type": "stream",
     "text": [
      "907it [1:20:38,  5.49s/it]000760, Training: 33.22%,  Loss: 2.99476, ACC: 46.75% "
     ]
    },
    {
     "name": "stdout",
     "output_type": "stream",
     "text": [
      "\n"
     ]
    },
    {
     "name": "stderr",
     "output_type": "stream",
     "text": [
      "908it [1:20:44,  5.46s/it]000760, Training: 33.26%,  Loss: 2.99485, ACC: 46.75% "
     ]
    },
    {
     "name": "stdout",
     "output_type": "stream",
     "text": [
      "\n"
     ]
    },
    {
     "name": "stderr",
     "output_type": "stream",
     "text": [
      "909it [1:20:49,  5.43s/it]000760, Training: 33.30%,  Loss: 2.99466, ACC: 46.75% "
     ]
    },
    {
     "name": "stdout",
     "output_type": "stream",
     "text": [
      "\n"
     ]
    },
    {
     "name": "stderr",
     "output_type": "stream",
     "text": [
      "910it [1:20:55,  5.45s/it]000760, Training: 33.33%,  Loss: 2.99456, ACC: 46.76% "
     ]
    },
    {
     "name": "stdout",
     "output_type": "stream",
     "text": [
      "\n"
     ]
    },
    {
     "name": "stderr",
     "output_type": "stream",
     "text": [
      "911it [1:21:00,  5.47s/it]000760, Training: 33.37%,  Loss: 2.99459, ACC: 46.76% "
     ]
    },
    {
     "name": "stdout",
     "output_type": "stream",
     "text": [
      "\n"
     ]
    },
    {
     "name": "stderr",
     "output_type": "stream",
     "text": [
      "912it [1:21:06,  5.52s/it]000760, Training: 33.41%,  Loss: 2.99480, ACC: 46.75% "
     ]
    },
    {
     "name": "stdout",
     "output_type": "stream",
     "text": [
      "\n"
     ]
    },
    {
     "name": "stderr",
     "output_type": "stream",
     "text": [
      "913it [1:21:11,  5.55s/it]000760, Training: 33.44%,  Loss: 2.99466, ACC: 46.76% "
     ]
    },
    {
     "name": "stdout",
     "output_type": "stream",
     "text": [
      "\n"
     ]
    },
    {
     "name": "stderr",
     "output_type": "stream",
     "text": [
      "914it [1:21:17,  5.49s/it]000760, Training: 33.48%,  Loss: 2.99441, ACC: 46.76% "
     ]
    },
    {
     "name": "stdout",
     "output_type": "stream",
     "text": [
      "\n"
     ]
    },
    {
     "name": "stderr",
     "output_type": "stream",
     "text": [
      "915it [1:21:22,  5.48s/it]000760, Training: 33.52%,  Loss: 2.99436, ACC: 46.76% "
     ]
    },
    {
     "name": "stdout",
     "output_type": "stream",
     "text": [
      "\n"
     ]
    },
    {
     "name": "stderr",
     "output_type": "stream",
     "text": [
      "916it [1:21:28,  5.48s/it]000760, Training: 33.55%,  Loss: 2.99433, ACC: 46.76% "
     ]
    },
    {
     "name": "stdout",
     "output_type": "stream",
     "text": [
      "\n"
     ]
    },
    {
     "name": "stderr",
     "output_type": "stream",
     "text": [
      "917it [1:21:33,  5.52s/it]000760, Training: 33.59%,  Loss: 2.99425, ACC: 46.76% "
     ]
    },
    {
     "name": "stdout",
     "output_type": "stream",
     "text": [
      "\n"
     ]
    },
    {
     "name": "stderr",
     "output_type": "stream",
     "text": [
      "918it [1:21:39,  5.50s/it]000760, Training: 33.63%,  Loss: 2.99417, ACC: 46.76% "
     ]
    },
    {
     "name": "stdout",
     "output_type": "stream",
     "text": [
      "\n"
     ]
    },
    {
     "name": "stderr",
     "output_type": "stream",
     "text": [
      "919it [1:21:44,  5.48s/it]000760, Training: 33.66%,  Loss: 2.99443, ACC: 46.76% "
     ]
    },
    {
     "name": "stdout",
     "output_type": "stream",
     "text": [
      "\n"
     ]
    },
    {
     "name": "stderr",
     "output_type": "stream",
     "text": [
      "920it [1:21:50,  5.48s/it]000760, Training: 33.70%,  Loss: 2.99457, ACC: 46.76% "
     ]
    },
    {
     "name": "stdout",
     "output_type": "stream",
     "text": [
      "\n"
     ]
    },
    {
     "name": "stderr",
     "output_type": "stream",
     "text": [
      "921it [1:21:55,  5.51s/it]000760, Training: 33.74%,  Loss: 2.99481, ACC: 46.76% "
     ]
    },
    {
     "name": "stdout",
     "output_type": "stream",
     "text": [
      "\n"
     ]
    },
    {
     "name": "stderr",
     "output_type": "stream",
     "text": [
      "922it [1:22:01,  5.53s/it]000760, Training: 33.77%,  Loss: 2.99495, ACC: 46.76% "
     ]
    },
    {
     "name": "stdout",
     "output_type": "stream",
     "text": [
      "\n"
     ]
    },
    {
     "name": "stderr",
     "output_type": "stream",
     "text": [
      "923it [1:22:06,  5.52s/it]000760, Training: 33.81%,  Loss: 2.99475, ACC: 46.76% "
     ]
    },
    {
     "name": "stdout",
     "output_type": "stream",
     "text": [
      "\n"
     ]
    },
    {
     "name": "stderr",
     "output_type": "stream",
     "text": [
      "924it [1:22:12,  5.51s/it]000760, Training: 33.85%,  Loss: 2.99471, ACC: 46.76% "
     ]
    },
    {
     "name": "stdout",
     "output_type": "stream",
     "text": [
      "\n"
     ]
    },
    {
     "name": "stderr",
     "output_type": "stream",
     "text": [
      "925it [1:22:17,  5.53s/it]000760, Training: 33.88%,  Loss: 2.99463, ACC: 46.76% "
     ]
    },
    {
     "name": "stdout",
     "output_type": "stream",
     "text": [
      "\n"
     ]
    },
    {
     "name": "stderr",
     "output_type": "stream",
     "text": [
      "926it [1:22:23,  5.47s/it]000760, Training: 33.92%,  Loss: 2.99434, ACC: 46.76% "
     ]
    },
    {
     "name": "stdout",
     "output_type": "stream",
     "text": [
      "\n"
     ]
    },
    {
     "name": "stderr",
     "output_type": "stream",
     "text": [
      "927it [1:22:28,  5.53s/it]000760, Training: 33.96%,  Loss: 2.99451, ACC: 46.75% "
     ]
    },
    {
     "name": "stdout",
     "output_type": "stream",
     "text": [
      "\n"
     ]
    },
    {
     "name": "stderr",
     "output_type": "stream",
     "text": [
      "928it [1:22:34,  5.49s/it]000760, Training: 33.99%,  Loss: 2.99471, ACC: 46.75% "
     ]
    },
    {
     "name": "stdout",
     "output_type": "stream",
     "text": [
      "\n"
     ]
    },
    {
     "name": "stderr",
     "output_type": "stream",
     "text": [
      "929it [1:22:40,  5.55s/it]000760, Training: 34.03%,  Loss: 2.99488, ACC: 46.75% "
     ]
    },
    {
     "name": "stdout",
     "output_type": "stream",
     "text": [
      "\n"
     ]
    },
    {
     "name": "stderr",
     "output_type": "stream",
     "text": [
      "930it [1:22:45,  5.55s/it]000760, Training: 34.07%,  Loss: 2.99502, ACC: 46.74% "
     ]
    },
    {
     "name": "stdout",
     "output_type": "stream",
     "text": [
      "\n"
     ]
    },
    {
     "name": "stderr",
     "output_type": "stream",
     "text": [
      "931it [1:22:51,  5.56s/it]000760, Training: 34.10%,  Loss: 2.99505, ACC: 46.74% "
     ]
    },
    {
     "name": "stdout",
     "output_type": "stream",
     "text": [
      "\n"
     ]
    },
    {
     "name": "stderr",
     "output_type": "stream",
     "text": [
      "932it [1:22:56,  5.53s/it]000760, Training: 34.14%,  Loss: 2.99514, ACC: 46.74% "
     ]
    },
    {
     "name": "stdout",
     "output_type": "stream",
     "text": [
      "\n"
     ]
    },
    {
     "name": "stderr",
     "output_type": "stream",
     "text": [
      "933it [1:23:02,  5.51s/it]000760, Training: 34.18%,  Loss: 2.99506, ACC: 46.74% "
     ]
    },
    {
     "name": "stdout",
     "output_type": "stream",
     "text": [
      "\n"
     ]
    },
    {
     "name": "stderr",
     "output_type": "stream",
     "text": [
      "934it [1:23:07,  5.51s/it]000760, Training: 34.21%,  Loss: 2.99521, ACC: 46.74% "
     ]
    },
    {
     "name": "stdout",
     "output_type": "stream",
     "text": [
      "\n"
     ]
    },
    {
     "name": "stderr",
     "output_type": "stream",
     "text": [
      "935it [1:23:13,  5.53s/it]000760, Training: 34.25%,  Loss: 2.99549, ACC: 46.74% "
     ]
    },
    {
     "name": "stdout",
     "output_type": "stream",
     "text": [
      "\n"
     ]
    },
    {
     "name": "stderr",
     "output_type": "stream",
     "text": [
      "936it [1:23:18,  5.50s/it]000760, Training: 34.29%,  Loss: 2.99525, ACC: 46.75% "
     ]
    },
    {
     "name": "stdout",
     "output_type": "stream",
     "text": [
      "\n"
     ]
    },
    {
     "name": "stderr",
     "output_type": "stream",
     "text": [
      "937it [1:23:24,  5.49s/it]000760, Training: 34.32%,  Loss: 2.99503, ACC: 46.75% "
     ]
    },
    {
     "name": "stdout",
     "output_type": "stream",
     "text": [
      "\n"
     ]
    },
    {
     "name": "stderr",
     "output_type": "stream",
     "text": [
      "938it [1:23:29,  5.55s/it]000760, Training: 34.36%,  Loss: 2.99516, ACC: 46.75% "
     ]
    },
    {
     "name": "stdout",
     "output_type": "stream",
     "text": [
      "\n"
     ]
    },
    {
     "name": "stderr",
     "output_type": "stream",
     "text": [
      "939it [1:23:35,  5.52s/it]000760, Training: 34.40%,  Loss: 2.99522, ACC: 46.75% "
     ]
    },
    {
     "name": "stdout",
     "output_type": "stream",
     "text": [
      "\n"
     ]
    },
    {
     "name": "stderr",
     "output_type": "stream",
     "text": [
      "940it [1:23:40,  5.53s/it]000760, Training: 34.43%,  Loss: 2.99535, ACC: 46.74% "
     ]
    },
    {
     "name": "stdout",
     "output_type": "stream",
     "text": [
      "\n"
     ]
    },
    {
     "name": "stderr",
     "output_type": "stream",
     "text": [
      "941it [1:23:46,  5.51s/it]000760, Training: 34.47%,  Loss: 2.99515, ACC: 46.74% "
     ]
    },
    {
     "name": "stdout",
     "output_type": "stream",
     "text": [
      "\n"
     ]
    },
    {
     "name": "stderr",
     "output_type": "stream",
     "text": [
      "942it [1:23:51,  5.51s/it]000760, Training: 34.51%,  Loss: 2.99521, ACC: 46.74% "
     ]
    },
    {
     "name": "stdout",
     "output_type": "stream",
     "text": [
      "\n"
     ]
    },
    {
     "name": "stderr",
     "output_type": "stream",
     "text": [
      "943it [1:23:57,  5.50s/it]000760, Training: 34.54%,  Loss: 2.99503, ACC: 46.75% "
     ]
    },
    {
     "name": "stdout",
     "output_type": "stream",
     "text": [
      "\n"
     ]
    },
    {
     "name": "stderr",
     "output_type": "stream",
     "text": [
      "944it [1:24:02,  5.45s/it]000760, Training: 34.58%,  Loss: 2.99491, ACC: 46.75% "
     ]
    },
    {
     "name": "stdout",
     "output_type": "stream",
     "text": [
      "\n"
     ]
    },
    {
     "name": "stderr",
     "output_type": "stream",
     "text": [
      "945it [1:24:07,  5.44s/it]000760, Training: 34.62%,  Loss: 2.99524, ACC: 46.74% "
     ]
    },
    {
     "name": "stdout",
     "output_type": "stream",
     "text": [
      "\n"
     ]
    },
    {
     "name": "stderr",
     "output_type": "stream",
     "text": [
      "946it [1:24:13,  5.42s/it]000760, Training: 34.65%,  Loss: 2.99526, ACC: 46.73% "
     ]
    },
    {
     "name": "stdout",
     "output_type": "stream",
     "text": [
      "\n"
     ]
    },
    {
     "name": "stderr",
     "output_type": "stream",
     "text": [
      "947it [1:24:18,  5.41s/it]000760, Training: 34.69%,  Loss: 2.99535, ACC: 46.73% "
     ]
    },
    {
     "name": "stdout",
     "output_type": "stream",
     "text": [
      "\n"
     ]
    },
    {
     "name": "stderr",
     "output_type": "stream",
     "text": [
      "948it [1:24:24,  5.44s/it]000760, Training: 34.73%,  Loss: 2.99543, ACC: 46.73% "
     ]
    },
    {
     "name": "stdout",
     "output_type": "stream",
     "text": [
      "\n"
     ]
    },
    {
     "name": "stderr",
     "output_type": "stream",
     "text": [
      "949it [1:24:29,  5.44s/it]000760, Training: 34.76%,  Loss: 2.99552, ACC: 46.73% "
     ]
    },
    {
     "name": "stdout",
     "output_type": "stream",
     "text": [
      "\n"
     ]
    },
    {
     "name": "stderr",
     "output_type": "stream",
     "text": [
      "950it [1:24:35,  5.42s/it]000760, Training: 34.80%,  Loss: 2.99536, ACC: 46.73% "
     ]
    },
    {
     "name": "stdout",
     "output_type": "stream",
     "text": [
      "\n"
     ]
    },
    {
     "name": "stderr",
     "output_type": "stream",
     "text": [
      "951it [1:24:40,  5.45s/it]000760, Training: 34.84%,  Loss: 2.99554, ACC: 46.73% "
     ]
    },
    {
     "name": "stdout",
     "output_type": "stream",
     "text": [
      "\n"
     ]
    },
    {
     "name": "stderr",
     "output_type": "stream",
     "text": [
      "952it [1:24:46,  5.48s/it]000760, Training: 34.87%,  Loss: 2.99582, ACC: 46.73% "
     ]
    },
    {
     "name": "stdout",
     "output_type": "stream",
     "text": [
      "\n"
     ]
    },
    {
     "name": "stderr",
     "output_type": "stream",
     "text": [
      "953it [1:24:51,  5.48s/it]000760, Training: 34.91%,  Loss: 2.99569, ACC: 46.73% "
     ]
    },
    {
     "name": "stdout",
     "output_type": "stream",
     "text": [
      "\n"
     ]
    },
    {
     "name": "stderr",
     "output_type": "stream",
     "text": [
      "954it [1:24:56,  5.46s/it]000760, Training: 34.95%,  Loss: 2.99565, ACC: 46.74% "
     ]
    },
    {
     "name": "stdout",
     "output_type": "stream",
     "text": [
      "\n"
     ]
    },
    {
     "name": "stderr",
     "output_type": "stream",
     "text": [
      "955it [1:25:02,  5.47s/it]000760, Training: 34.98%,  Loss: 2.99564, ACC: 46.73% "
     ]
    },
    {
     "name": "stdout",
     "output_type": "stream",
     "text": [
      "\n"
     ]
    },
    {
     "name": "stderr",
     "output_type": "stream",
     "text": [
      "956it [1:25:08,  5.49s/it]000760, Training: 35.02%,  Loss: 2.99571, ACC: 46.73% "
     ]
    },
    {
     "name": "stdout",
     "output_type": "stream",
     "text": [
      "\n"
     ]
    },
    {
     "name": "stderr",
     "output_type": "stream",
     "text": [
      "957it [1:25:13,  5.51s/it]000760, Training: 35.05%,  Loss: 2.99586, ACC: 46.73% "
     ]
    },
    {
     "name": "stdout",
     "output_type": "stream",
     "text": [
      "\n"
     ]
    },
    {
     "name": "stderr",
     "output_type": "stream",
     "text": [
      "958it [1:25:19,  5.50s/it]000760, Training: 35.09%,  Loss: 2.99592, ACC: 46.73% "
     ]
    },
    {
     "name": "stdout",
     "output_type": "stream",
     "text": [
      "\n"
     ]
    },
    {
     "name": "stderr",
     "output_type": "stream",
     "text": [
      "959it [1:25:24,  5.48s/it]000760, Training: 35.13%,  Loss: 2.99592, ACC: 46.73% "
     ]
    },
    {
     "name": "stdout",
     "output_type": "stream",
     "text": [
      "\n"
     ]
    },
    {
     "name": "stderr",
     "output_type": "stream",
     "text": [
      "960it [1:25:29,  5.47s/it]000760, Training: 35.16%,  Loss: 2.99595, ACC: 46.73% "
     ]
    },
    {
     "name": "stdout",
     "output_type": "stream",
     "text": [
      "\n"
     ]
    },
    {
     "name": "stderr",
     "output_type": "stream",
     "text": [
      "961it [1:25:35,  5.48s/it]000760, Training: 35.20%,  Loss: 2.99595, ACC: 46.73% "
     ]
    },
    {
     "name": "stdout",
     "output_type": "stream",
     "text": [
      "\n"
     ]
    },
    {
     "name": "stderr",
     "output_type": "stream",
     "text": [
      "962it [1:25:40,  5.49s/it]000760, Training: 35.24%,  Loss: 2.99575, ACC: 46.74% "
     ]
    },
    {
     "name": "stdout",
     "output_type": "stream",
     "text": [
      "\n"
     ]
    },
    {
     "name": "stderr",
     "output_type": "stream",
     "text": [
      "963it [1:25:46,  5.46s/it]000760, Training: 35.27%,  Loss: 2.99611, ACC: 46.73% "
     ]
    },
    {
     "name": "stdout",
     "output_type": "stream",
     "text": [
      "\n"
     ]
    },
    {
     "name": "stderr",
     "output_type": "stream",
     "text": [
      "964it [1:25:51,  5.48s/it]000760, Training: 35.31%,  Loss: 2.99626, ACC: 46.74% "
     ]
    },
    {
     "name": "stdout",
     "output_type": "stream",
     "text": [
      "\n"
     ]
    },
    {
     "name": "stderr",
     "output_type": "stream",
     "text": [
      "965it [1:25:57,  5.47s/it]000760, Training: 35.35%,  Loss: 2.99624, ACC: 46.73% "
     ]
    },
    {
     "name": "stdout",
     "output_type": "stream",
     "text": [
      "\n"
     ]
    },
    {
     "name": "stderr",
     "output_type": "stream",
     "text": [
      "966it [1:26:02,  5.46s/it]000760, Training: 35.38%,  Loss: 2.99615, ACC: 46.73% "
     ]
    },
    {
     "name": "stdout",
     "output_type": "stream",
     "text": [
      "\n"
     ]
    },
    {
     "name": "stderr",
     "output_type": "stream",
     "text": [
      "967it [1:26:08,  5.49s/it]000760, Training: 35.42%,  Loss: 2.99633, ACC: 46.73% "
     ]
    },
    {
     "name": "stdout",
     "output_type": "stream",
     "text": [
      "\n"
     ]
    },
    {
     "name": "stderr",
     "output_type": "stream",
     "text": [
      "968it [1:26:13,  5.48s/it]000760, Training: 35.46%,  Loss: 2.99618, ACC: 46.73% "
     ]
    },
    {
     "name": "stdout",
     "output_type": "stream",
     "text": [
      "\n"
     ]
    },
    {
     "name": "stderr",
     "output_type": "stream",
     "text": [
      "969it [1:26:19,  5.46s/it]000760, Training: 35.49%,  Loss: 2.99627, ACC: 46.73% "
     ]
    },
    {
     "name": "stdout",
     "output_type": "stream",
     "text": [
      "\n"
     ]
    },
    {
     "name": "stderr",
     "output_type": "stream",
     "text": [
      "970it [1:26:24,  5.46s/it]000760, Training: 35.53%,  Loss: 2.99655, ACC: 46.73% "
     ]
    },
    {
     "name": "stdout",
     "output_type": "stream",
     "text": [
      "\n"
     ]
    },
    {
     "name": "stderr",
     "output_type": "stream",
     "text": [
      "971it [1:26:29,  5.43s/it]000760, Training: 35.57%,  Loss: 2.99649, ACC: 46.73% "
     ]
    },
    {
     "name": "stdout",
     "output_type": "stream",
     "text": [
      "\n"
     ]
    },
    {
     "name": "stderr",
     "output_type": "stream",
     "text": [
      "972it [1:26:35,  5.48s/it]000760, Training: 35.60%,  Loss: 2.99625, ACC: 46.74% "
     ]
    },
    {
     "name": "stdout",
     "output_type": "stream",
     "text": [
      "\n"
     ]
    },
    {
     "name": "stderr",
     "output_type": "stream",
     "text": [
      "973it [1:26:40,  5.45s/it]000760, Training: 35.64%,  Loss: 2.99639, ACC: 46.74% "
     ]
    },
    {
     "name": "stdout",
     "output_type": "stream",
     "text": [
      "\n"
     ]
    },
    {
     "name": "stderr",
     "output_type": "stream",
     "text": [
      "974it [1:26:46,  5.46s/it]000760, Training: 35.68%,  Loss: 2.99639, ACC: 46.74% "
     ]
    },
    {
     "name": "stdout",
     "output_type": "stream",
     "text": [
      "\n"
     ]
    },
    {
     "name": "stderr",
     "output_type": "stream",
     "text": [
      "975it [1:26:51,  5.46s/it]000760, Training: 35.71%,  Loss: 2.99629, ACC: 46.74% "
     ]
    },
    {
     "name": "stdout",
     "output_type": "stream",
     "text": [
      "\n"
     ]
    },
    {
     "name": "stderr",
     "output_type": "stream",
     "text": [
      "976it [1:26:57,  5.49s/it]000760, Training: 35.75%,  Loss: 2.99628, ACC: 46.74% "
     ]
    },
    {
     "name": "stdout",
     "output_type": "stream",
     "text": [
      "\n"
     ]
    },
    {
     "name": "stderr",
     "output_type": "stream",
     "text": [
      "977it [1:27:02,  5.46s/it]000760, Training: 35.79%,  Loss: 2.99617, ACC: 46.74% "
     ]
    },
    {
     "name": "stdout",
     "output_type": "stream",
     "text": [
      "\n"
     ]
    },
    {
     "name": "stderr",
     "output_type": "stream",
     "text": [
      "978it [1:27:08,  5.46s/it]000760, Training: 35.82%,  Loss: 2.99580, ACC: 46.74% "
     ]
    },
    {
     "name": "stdout",
     "output_type": "stream",
     "text": [
      "\n"
     ]
    },
    {
     "name": "stderr",
     "output_type": "stream",
     "text": [
      "979it [1:27:13,  5.43s/it]000760, Training: 35.86%,  Loss: 2.99591, ACC: 46.74% "
     ]
    },
    {
     "name": "stdout",
     "output_type": "stream",
     "text": [
      "\n"
     ]
    },
    {
     "name": "stderr",
     "output_type": "stream",
     "text": [
      "980it [1:27:19,  5.45s/it]000760, Training: 35.90%,  Loss: 2.99594, ACC: 46.74% "
     ]
    },
    {
     "name": "stdout",
     "output_type": "stream",
     "text": [
      "\n"
     ]
    },
    {
     "name": "stderr",
     "output_type": "stream",
     "text": [
      "981it [1:27:24,  5.45s/it]000760, Training: 35.93%,  Loss: 2.99610, ACC: 46.73% "
     ]
    },
    {
     "name": "stdout",
     "output_type": "stream",
     "text": [
      "\n"
     ]
    },
    {
     "name": "stderr",
     "output_type": "stream",
     "text": [
      "982it [1:27:30,  5.46s/it]000760, Training: 35.97%,  Loss: 2.99624, ACC: 46.73% "
     ]
    },
    {
     "name": "stdout",
     "output_type": "stream",
     "text": [
      "\n"
     ]
    },
    {
     "name": "stderr",
     "output_type": "stream",
     "text": [
      "983it [1:27:35,  5.50s/it]000760, Training: 36.01%,  Loss: 2.99633, ACC: 46.73% "
     ]
    },
    {
     "name": "stdout",
     "output_type": "stream",
     "text": [
      "\n"
     ]
    },
    {
     "name": "stderr",
     "output_type": "stream",
     "text": [
      "984it [1:27:41,  5.47s/it]000760, Training: 36.04%,  Loss: 2.99633, ACC: 46.73% "
     ]
    },
    {
     "name": "stdout",
     "output_type": "stream",
     "text": [
      "\n"
     ]
    },
    {
     "name": "stderr",
     "output_type": "stream",
     "text": [
      "985it [1:27:46,  5.50s/it]000760, Training: 36.08%,  Loss: 2.99651, ACC: 46.73% "
     ]
    },
    {
     "name": "stdout",
     "output_type": "stream",
     "text": [
      "\n"
     ]
    },
    {
     "name": "stderr",
     "output_type": "stream",
     "text": [
      "986it [1:27:52,  5.47s/it]000760, Training: 36.12%,  Loss: 2.99670, ACC: 46.73% "
     ]
    },
    {
     "name": "stdout",
     "output_type": "stream",
     "text": [
      "\n"
     ]
    },
    {
     "name": "stderr",
     "output_type": "stream",
     "text": [
      "987it [1:27:57,  5.45s/it]000760, Training: 36.15%,  Loss: 2.99653, ACC: 46.73% "
     ]
    },
    {
     "name": "stdout",
     "output_type": "stream",
     "text": [
      "\n"
     ]
    },
    {
     "name": "stderr",
     "output_type": "stream",
     "text": [
      "988it [1:28:02,  5.43s/it]000760, Training: 36.19%,  Loss: 2.99666, ACC: 46.73% "
     ]
    },
    {
     "name": "stdout",
     "output_type": "stream",
     "text": [
      "\n"
     ]
    },
    {
     "name": "stderr",
     "output_type": "stream",
     "text": [
      "989it [1:28:08,  5.45s/it]000760, Training: 36.23%,  Loss: 2.99680, ACC: 46.73% "
     ]
    },
    {
     "name": "stdout",
     "output_type": "stream",
     "text": [
      "\n"
     ]
    },
    {
     "name": "stderr",
     "output_type": "stream",
     "text": [
      "990it [1:28:13,  5.44s/it]000760, Training: 36.26%,  Loss: 2.99700, ACC: 46.73% "
     ]
    },
    {
     "name": "stdout",
     "output_type": "stream",
     "text": [
      "\n"
     ]
    },
    {
     "name": "stderr",
     "output_type": "stream",
     "text": [
      "991it [1:28:19,  5.41s/it]000760, Training: 36.30%,  Loss: 2.99723, ACC: 46.73% "
     ]
    },
    {
     "name": "stdout",
     "output_type": "stream",
     "text": [
      "\n"
     ]
    },
    {
     "name": "stderr",
     "output_type": "stream",
     "text": [
      "992it [1:28:24,  5.42s/it]000760, Training: 36.34%,  Loss: 2.99738, ACC: 46.72% "
     ]
    },
    {
     "name": "stdout",
     "output_type": "stream",
     "text": [
      "\n"
     ]
    },
    {
     "name": "stderr",
     "output_type": "stream",
     "text": [
      "993it [1:28:29,  5.41s/it]000760, Training: 36.37%,  Loss: 2.99734, ACC: 46.72% "
     ]
    },
    {
     "name": "stdout",
     "output_type": "stream",
     "text": [
      "\n"
     ]
    },
    {
     "name": "stderr",
     "output_type": "stream",
     "text": [
      "994it [1:28:35,  5.46s/it]000760, Training: 36.41%,  Loss: 2.99738, ACC: 46.72% "
     ]
    },
    {
     "name": "stdout",
     "output_type": "stream",
     "text": [
      "\n"
     ]
    },
    {
     "name": "stderr",
     "output_type": "stream",
     "text": [
      "995it [1:28:41,  5.47s/it]000760, Training: 36.45%,  Loss: 2.99744, ACC: 46.72% "
     ]
    },
    {
     "name": "stdout",
     "output_type": "stream",
     "text": [
      "\n"
     ]
    },
    {
     "name": "stderr",
     "output_type": "stream",
     "text": [
      "996it [1:28:46,  5.45s/it]000760, Training: 36.48%,  Loss: 2.99748, ACC: 46.72% "
     ]
    },
    {
     "name": "stdout",
     "output_type": "stream",
     "text": [
      "\n"
     ]
    },
    {
     "name": "stderr",
     "output_type": "stream",
     "text": [
      "997it [1:28:51,  5.41s/it]000760, Training: 36.52%,  Loss: 2.99747, ACC: 46.72% "
     ]
    },
    {
     "name": "stdout",
     "output_type": "stream",
     "text": [
      "\n"
     ]
    },
    {
     "name": "stderr",
     "output_type": "stream",
     "text": [
      "998it [1:28:57,  5.37s/it]000760, Training: 36.56%,  Loss: 2.99763, ACC: 46.72% "
     ]
    },
    {
     "name": "stdout",
     "output_type": "stream",
     "text": [
      "\n"
     ]
    },
    {
     "name": "stderr",
     "output_type": "stream",
     "text": [
      "999it [1:29:02,  5.37s/it]000760, Training: 36.59%,  Loss: 2.99741, ACC: 46.72% "
     ]
    },
    {
     "name": "stdout",
     "output_type": "stream",
     "text": [
      "\n"
     ]
    },
    {
     "name": "stderr",
     "output_type": "stream",
     "text": [
      "1000it [1:29:07,  5.34s/it]00760, Training: 36.63%,  Loss: 2.99740, ACC: 46.72% "
     ]
    },
    {
     "name": "stdout",
     "output_type": "stream",
     "text": [
      "\n"
     ]
    },
    {
     "name": "stderr",
     "output_type": "stream",
     "text": [
      "1001it [1:29:13,  5.38s/it]00760, Training: 36.67%,  Loss: 2.99735, ACC: 46.72% "
     ]
    },
    {
     "name": "stdout",
     "output_type": "stream",
     "text": [
      "\n"
     ]
    },
    {
     "name": "stderr",
     "output_type": "stream",
     "text": [
      "1002it [1:29:18,  5.41s/it]00760, Training: 36.70%,  Loss: 2.99765, ACC: 46.72% "
     ]
    },
    {
     "name": "stdout",
     "output_type": "stream",
     "text": [
      "\n"
     ]
    },
    {
     "name": "stderr",
     "output_type": "stream",
     "text": [
      "1003it [1:29:24,  5.44s/it]00760, Training: 36.74%,  Loss: 2.99760, ACC: 46.72% "
     ]
    },
    {
     "name": "stdout",
     "output_type": "stream",
     "text": [
      "\n"
     ]
    },
    {
     "name": "stderr",
     "output_type": "stream",
     "text": [
      "1004it [1:29:29,  5.41s/it]00760, Training: 36.78%,  Loss: 2.99754, ACC: 46.72% "
     ]
    },
    {
     "name": "stdout",
     "output_type": "stream",
     "text": [
      "\n"
     ]
    },
    {
     "name": "stderr",
     "output_type": "stream",
     "text": [
      "1005it [1:29:34,  5.42s/it]00760, Training: 36.81%,  Loss: 2.99745, ACC: 46.72% "
     ]
    },
    {
     "name": "stdout",
     "output_type": "stream",
     "text": [
      "\n"
     ]
    },
    {
     "name": "stderr",
     "output_type": "stream",
     "text": [
      "1006it [1:29:40,  5.42s/it]00760, Training: 36.85%,  Loss: 2.99735, ACC: 46.72% "
     ]
    },
    {
     "name": "stdout",
     "output_type": "stream",
     "text": [
      "\n"
     ]
    },
    {
     "name": "stderr",
     "output_type": "stream",
     "text": [
      "1007it [1:29:45,  5.42s/it]00760, Training: 36.89%,  Loss: 2.99733, ACC: 46.72% "
     ]
    },
    {
     "name": "stdout",
     "output_type": "stream",
     "text": [
      "\n"
     ]
    },
    {
     "name": "stderr",
     "output_type": "stream",
     "text": [
      "1008it [1:29:51,  5.41s/it]00760, Training: 36.92%,  Loss: 2.99741, ACC: 46.72% "
     ]
    },
    {
     "name": "stdout",
     "output_type": "stream",
     "text": [
      "\n"
     ]
    },
    {
     "name": "stderr",
     "output_type": "stream",
     "text": [
      "1009it [1:29:56,  5.38s/it]00760, Training: 36.96%,  Loss: 2.99753, ACC: 46.72% "
     ]
    },
    {
     "name": "stdout",
     "output_type": "stream",
     "text": [
      "\n"
     ]
    },
    {
     "name": "stderr",
     "output_type": "stream",
     "text": [
      "1010it [1:30:01,  5.37s/it]00760, Training: 37.00%,  Loss: 2.99759, ACC: 46.72% "
     ]
    },
    {
     "name": "stdout",
     "output_type": "stream",
     "text": [
      "\n"
     ]
    },
    {
     "name": "stderr",
     "output_type": "stream",
     "text": [
      "1011it [1:30:07,  5.41s/it]00760, Training: 37.03%,  Loss: 2.99742, ACC: 46.72% "
     ]
    },
    {
     "name": "stdout",
     "output_type": "stream",
     "text": [
      "\n"
     ]
    },
    {
     "name": "stderr",
     "output_type": "stream",
     "text": [
      "1012it [1:30:12,  5.45s/it]00760, Training: 37.07%,  Loss: 2.99744, ACC: 46.72% "
     ]
    },
    {
     "name": "stdout",
     "output_type": "stream",
     "text": [
      "\n"
     ]
    },
    {
     "name": "stderr",
     "output_type": "stream",
     "text": [
      "1013it [1:30:18,  5.41s/it]00760, Training: 37.11%,  Loss: 2.99758, ACC: 46.72% "
     ]
    },
    {
     "name": "stdout",
     "output_type": "stream",
     "text": [
      "\n"
     ]
    },
    {
     "name": "stderr",
     "output_type": "stream",
     "text": [
      "1014it [1:30:23,  5.38s/it]00760, Training: 37.14%,  Loss: 2.99768, ACC: 46.72% "
     ]
    },
    {
     "name": "stdout",
     "output_type": "stream",
     "text": [
      "\n"
     ]
    },
    {
     "name": "stderr",
     "output_type": "stream",
     "text": [
      "1015it [1:30:28,  5.38s/it]00760, Training: 37.18%,  Loss: 2.99769, ACC: 46.72% "
     ]
    },
    {
     "name": "stdout",
     "output_type": "stream",
     "text": [
      "\n"
     ]
    },
    {
     "name": "stderr",
     "output_type": "stream",
     "text": [
      "1016it [1:30:34,  5.39s/it]00760, Training: 37.22%,  Loss: 2.99780, ACC: 46.71% "
     ]
    },
    {
     "name": "stdout",
     "output_type": "stream",
     "text": [
      "\n"
     ]
    },
    {
     "name": "stderr",
     "output_type": "stream",
     "text": [
      "1017it [1:30:39,  5.44s/it]00760, Training: 37.25%,  Loss: 2.99781, ACC: 46.72% "
     ]
    },
    {
     "name": "stdout",
     "output_type": "stream",
     "text": [
      "\n"
     ]
    },
    {
     "name": "stderr",
     "output_type": "stream",
     "text": [
      "1018it [1:30:45,  5.46s/it]00760, Training: 37.29%,  Loss: 2.99824, ACC: 46.71% "
     ]
    },
    {
     "name": "stdout",
     "output_type": "stream",
     "text": [
      "\n"
     ]
    },
    {
     "name": "stderr",
     "output_type": "stream",
     "text": [
      "1019it [1:30:50,  5.44s/it]00760, Training: 37.33%,  Loss: 2.99829, ACC: 46.71% "
     ]
    },
    {
     "name": "stdout",
     "output_type": "stream",
     "text": [
      "\n"
     ]
    },
    {
     "name": "stderr",
     "output_type": "stream",
     "text": [
      "1020it [1:30:56,  5.42s/it]00760, Training: 37.36%,  Loss: 2.99855, ACC: 46.71% "
     ]
    },
    {
     "name": "stdout",
     "output_type": "stream",
     "text": [
      "\n"
     ]
    },
    {
     "name": "stderr",
     "output_type": "stream",
     "text": [
      "1021it [1:31:01,  5.42s/it]00760, Training: 37.40%,  Loss: 2.99842, ACC: 46.71% "
     ]
    },
    {
     "name": "stdout",
     "output_type": "stream",
     "text": [
      "\n"
     ]
    },
    {
     "name": "stderr",
     "output_type": "stream",
     "text": [
      "1022it [1:31:06,  5.43s/it]00760, Training: 37.44%,  Loss: 2.99871, ACC: 46.71% "
     ]
    },
    {
     "name": "stdout",
     "output_type": "stream",
     "text": [
      "\n"
     ]
    },
    {
     "name": "stderr",
     "output_type": "stream",
     "text": [
      "1023it [1:31:12,  5.43s/it]00760, Training: 37.47%,  Loss: 2.99856, ACC: 46.71% "
     ]
    },
    {
     "name": "stdout",
     "output_type": "stream",
     "text": [
      "\n"
     ]
    },
    {
     "name": "stderr",
     "output_type": "stream",
     "text": [
      "1024it [1:31:17,  5.45s/it]00760, Training: 37.51%,  Loss: 2.99857, ACC: 46.71% "
     ]
    },
    {
     "name": "stdout",
     "output_type": "stream",
     "text": [
      "\n"
     ]
    },
    {
     "name": "stderr",
     "output_type": "stream",
     "text": [
      "1025it [1:31:23,  5.47s/it]00760, Training: 37.55%,  Loss: 2.99873, ACC: 46.70% "
     ]
    },
    {
     "name": "stdout",
     "output_type": "stream",
     "text": [
      "\n"
     ]
    },
    {
     "name": "stderr",
     "output_type": "stream",
     "text": [
      "1026it [1:31:28,  5.46s/it]00760, Training: 37.58%,  Loss: 2.99901, ACC: 46.70% "
     ]
    },
    {
     "name": "stdout",
     "output_type": "stream",
     "text": [
      "\n"
     ]
    },
    {
     "name": "stderr",
     "output_type": "stream",
     "text": [
      "1027it [1:31:34,  5.43s/it]00760, Training: 37.62%,  Loss: 2.99906, ACC: 46.70% "
     ]
    },
    {
     "name": "stdout",
     "output_type": "stream",
     "text": [
      "\n"
     ]
    },
    {
     "name": "stderr",
     "output_type": "stream",
     "text": [
      "1028it [1:31:39,  5.39s/it]00760, Training: 37.66%,  Loss: 2.99911, ACC: 46.71% "
     ]
    },
    {
     "name": "stdout",
     "output_type": "stream",
     "text": [
      "\n"
     ]
    },
    {
     "name": "stderr",
     "output_type": "stream",
     "text": [
      "1029it [1:31:44,  5.33s/it]00760, Training: 37.69%,  Loss: 2.99875, ACC: 46.71% "
     ]
    },
    {
     "name": "stdout",
     "output_type": "stream",
     "text": [
      "\n"
     ]
    },
    {
     "name": "stderr",
     "output_type": "stream",
     "text": [
      "1030it [1:31:50,  5.37s/it]00760, Training: 37.73%,  Loss: 2.99856, ACC: 46.71% "
     ]
    },
    {
     "name": "stdout",
     "output_type": "stream",
     "text": [
      "\n"
     ]
    },
    {
     "name": "stderr",
     "output_type": "stream",
     "text": [
      "1031it [1:31:55,  5.38s/it]00760, Training: 37.77%,  Loss: 2.99848, ACC: 46.71% "
     ]
    },
    {
     "name": "stdout",
     "output_type": "stream",
     "text": [
      "\n"
     ]
    },
    {
     "name": "stderr",
     "output_type": "stream",
     "text": [
      "1032it [1:32:01,  5.42s/it]00760, Training: 37.80%,  Loss: 2.99833, ACC: 46.71% "
     ]
    },
    {
     "name": "stdout",
     "output_type": "stream",
     "text": [
      "\n"
     ]
    },
    {
     "name": "stderr",
     "output_type": "stream",
     "text": [
      "1033it [1:32:06,  5.36s/it]00760, Training: 37.84%,  Loss: 2.99825, ACC: 46.70% "
     ]
    },
    {
     "name": "stdout",
     "output_type": "stream",
     "text": [
      "\n"
     ]
    },
    {
     "name": "stderr",
     "output_type": "stream",
     "text": [
      "1034it [1:32:11,  5.36s/it]00760, Training: 37.88%,  Loss: 2.99853, ACC: 46.70% "
     ]
    },
    {
     "name": "stdout",
     "output_type": "stream",
     "text": [
      "\n"
     ]
    },
    {
     "name": "stderr",
     "output_type": "stream",
     "text": [
      "1035it [1:32:16,  5.33s/it]00760, Training: 37.91%,  Loss: 2.99843, ACC: 46.70% "
     ]
    },
    {
     "name": "stdout",
     "output_type": "stream",
     "text": [
      "\n"
     ]
    },
    {
     "name": "stderr",
     "output_type": "stream",
     "text": [
      "1036it [1:32:22,  5.41s/it]00760, Training: 37.95%,  Loss: 2.99859, ACC: 46.70% "
     ]
    },
    {
     "name": "stdout",
     "output_type": "stream",
     "text": [
      "\n"
     ]
    },
    {
     "name": "stderr",
     "output_type": "stream",
     "text": [
      "1037it [1:32:28,  5.45s/it]00760, Training: 37.99%,  Loss: 2.99874, ACC: 46.70% "
     ]
    },
    {
     "name": "stdout",
     "output_type": "stream",
     "text": [
      "\n"
     ]
    },
    {
     "name": "stderr",
     "output_type": "stream",
     "text": [
      "1038it [1:32:33,  5.42s/it]00760, Training: 38.02%,  Loss: 2.99844, ACC: 46.70% "
     ]
    },
    {
     "name": "stdout",
     "output_type": "stream",
     "text": [
      "\n"
     ]
    },
    {
     "name": "stderr",
     "output_type": "stream",
     "text": [
      "1039it [1:32:38,  5.44s/it]00760, Training: 38.06%,  Loss: 2.99861, ACC: 46.70% "
     ]
    },
    {
     "name": "stdout",
     "output_type": "stream",
     "text": [
      "\n"
     ]
    },
    {
     "name": "stderr",
     "output_type": "stream",
     "text": [
      "1040it [1:32:44,  5.39s/it]00760, Training: 38.10%,  Loss: 2.99862, ACC: 46.70% "
     ]
    },
    {
     "name": "stdout",
     "output_type": "stream",
     "text": [
      "\n"
     ]
    },
    {
     "name": "stderr",
     "output_type": "stream",
     "text": [
      "1041it [1:32:49,  5.39s/it]00760, Training: 38.13%,  Loss: 2.99873, ACC: 46.70% "
     ]
    },
    {
     "name": "stdout",
     "output_type": "stream",
     "text": [
      "\n"
     ]
    },
    {
     "name": "stderr",
     "output_type": "stream",
     "text": [
      "1042it [1:32:54,  5.38s/it]00760, Training: 38.17%,  Loss: 2.99864, ACC: 46.70% "
     ]
    },
    {
     "name": "stdout",
     "output_type": "stream",
     "text": [
      "\n"
     ]
    },
    {
     "name": "stderr",
     "output_type": "stream",
     "text": [
      "1043it [1:33:00,  5.37s/it]00760, Training: 38.21%,  Loss: 2.99889, ACC: 46.70% "
     ]
    },
    {
     "name": "stdout",
     "output_type": "stream",
     "text": [
      "\n"
     ]
    },
    {
     "name": "stderr",
     "output_type": "stream",
     "text": [
      "1044it [1:33:05,  5.37s/it]00760, Training: 38.24%,  Loss: 2.99882, ACC: 46.69% "
     ]
    },
    {
     "name": "stdout",
     "output_type": "stream",
     "text": [
      "\n"
     ]
    },
    {
     "name": "stderr",
     "output_type": "stream",
     "text": [
      "1045it [1:33:11,  5.39s/it]00760, Training: 38.28%,  Loss: 2.99856, ACC: 46.70% "
     ]
    },
    {
     "name": "stdout",
     "output_type": "stream",
     "text": [
      "\n"
     ]
    },
    {
     "name": "stderr",
     "output_type": "stream",
     "text": [
      "1046it [1:33:16,  5.41s/it]00760, Training: 38.32%,  Loss: 2.99860, ACC: 46.70% "
     ]
    },
    {
     "name": "stdout",
     "output_type": "stream",
     "text": [
      "\n"
     ]
    },
    {
     "name": "stderr",
     "output_type": "stream",
     "text": [
      "1047it [1:33:21,  5.40s/it]00760, Training: 38.35%,  Loss: 2.99860, ACC: 46.70% "
     ]
    },
    {
     "name": "stdout",
     "output_type": "stream",
     "text": [
      "\n"
     ]
    },
    {
     "name": "stderr",
     "output_type": "stream",
     "text": [
      "1048it [1:33:27,  5.41s/it]00760, Training: 38.39%,  Loss: 2.99845, ACC: 46.70% "
     ]
    },
    {
     "name": "stdout",
     "output_type": "stream",
     "text": [
      "\n"
     ]
    },
    {
     "name": "stderr",
     "output_type": "stream",
     "text": [
      "1049it [1:33:32,  5.38s/it]00760, Training: 38.42%,  Loss: 2.99842, ACC: 46.70% "
     ]
    },
    {
     "name": "stdout",
     "output_type": "stream",
     "text": [
      "\n"
     ]
    },
    {
     "name": "stderr",
     "output_type": "stream",
     "text": [
      "1050it [1:33:38,  5.38s/it]00760, Training: 38.46%,  Loss: 2.99815, ACC: 46.71% "
     ]
    },
    {
     "name": "stdout",
     "output_type": "stream",
     "text": [
      "\n"
     ]
    },
    {
     "name": "stderr",
     "output_type": "stream",
     "text": [
      "1051it [1:33:43,  5.43s/it]00760, Training: 38.50%,  Loss: 2.99775, ACC: 46.71% "
     ]
    },
    {
     "name": "stdout",
     "output_type": "stream",
     "text": [
      "\n"
     ]
    },
    {
     "name": "stderr",
     "output_type": "stream",
     "text": [
      "1052it [1:33:49,  5.47s/it]00760, Training: 38.53%,  Loss: 2.99781, ACC: 46.70% "
     ]
    },
    {
     "name": "stdout",
     "output_type": "stream",
     "text": [
      "\n"
     ]
    },
    {
     "name": "stderr",
     "output_type": "stream",
     "text": [
      "1053it [1:33:54,  5.44s/it]00760, Training: 38.57%,  Loss: 2.99765, ACC: 46.70% "
     ]
    },
    {
     "name": "stdout",
     "output_type": "stream",
     "text": [
      "\n"
     ]
    },
    {
     "name": "stderr",
     "output_type": "stream",
     "text": [
      "1054it [1:33:59,  5.43s/it]00760, Training: 38.61%,  Loss: 2.99809, ACC: 46.70% "
     ]
    },
    {
     "name": "stdout",
     "output_type": "stream",
     "text": [
      "\n"
     ]
    },
    {
     "name": "stderr",
     "output_type": "stream",
     "text": [
      "1055it [1:34:05,  5.44s/it]00760, Training: 38.64%,  Loss: 2.99817, ACC: 46.70% "
     ]
    },
    {
     "name": "stdout",
     "output_type": "stream",
     "text": [
      "\n"
     ]
    },
    {
     "name": "stderr",
     "output_type": "stream",
     "text": [
      "1056it [1:34:10,  5.43s/it]00760, Training: 38.68%,  Loss: 2.99823, ACC: 46.70% "
     ]
    },
    {
     "name": "stdout",
     "output_type": "stream",
     "text": [
      "\n"
     ]
    },
    {
     "name": "stderr",
     "output_type": "stream",
     "text": [
      "1057it [1:34:16,  5.44s/it]00760, Training: 38.72%,  Loss: 2.99836, ACC: 46.69% "
     ]
    },
    {
     "name": "stdout",
     "output_type": "stream",
     "text": [
      "\n"
     ]
    },
    {
     "name": "stderr",
     "output_type": "stream",
     "text": [
      "1058it [1:34:21,  5.49s/it]00760, Training: 38.75%,  Loss: 2.99847, ACC: 46.69% "
     ]
    },
    {
     "name": "stdout",
     "output_type": "stream",
     "text": [
      "\n"
     ]
    },
    {
     "name": "stderr",
     "output_type": "stream",
     "text": [
      "1059it [1:34:27,  5.49s/it]00760, Training: 38.79%,  Loss: 2.99849, ACC: 46.69% "
     ]
    },
    {
     "name": "stdout",
     "output_type": "stream",
     "text": [
      "\n"
     ]
    },
    {
     "name": "stderr",
     "output_type": "stream",
     "text": [
      "1060it [1:34:32,  5.45s/it]00760, Training: 38.83%,  Loss: 2.99828, ACC: 46.69% "
     ]
    },
    {
     "name": "stdout",
     "output_type": "stream",
     "text": [
      "\n"
     ]
    },
    {
     "name": "stderr",
     "output_type": "stream",
     "text": [
      "1061it [1:34:37,  5.40s/it]00760, Training: 38.86%,  Loss: 2.99821, ACC: 46.69% "
     ]
    },
    {
     "name": "stdout",
     "output_type": "stream",
     "text": [
      "\n"
     ]
    },
    {
     "name": "stderr",
     "output_type": "stream",
     "text": [
      "1062it [1:34:43,  5.41s/it]00760, Training: 38.90%,  Loss: 2.99809, ACC: 46.69% "
     ]
    },
    {
     "name": "stdout",
     "output_type": "stream",
     "text": [
      "\n"
     ]
    },
    {
     "name": "stderr",
     "output_type": "stream",
     "text": [
      "1063it [1:34:48,  5.44s/it]00760, Training: 38.94%,  Loss: 2.99815, ACC: 46.68% "
     ]
    },
    {
     "name": "stdout",
     "output_type": "stream",
     "text": [
      "\n"
     ]
    },
    {
     "name": "stderr",
     "output_type": "stream",
     "text": [
      "1064it [1:34:54,  5.41s/it]00760, Training: 38.97%,  Loss: 2.99817, ACC: 46.69% "
     ]
    },
    {
     "name": "stdout",
     "output_type": "stream",
     "text": [
      "\n"
     ]
    },
    {
     "name": "stderr",
     "output_type": "stream",
     "text": [
      "1065it [1:34:59,  5.39s/it]00760, Training: 39.01%,  Loss: 2.99819, ACC: 46.69% "
     ]
    },
    {
     "name": "stdout",
     "output_type": "stream",
     "text": [
      "\n"
     ]
    },
    {
     "name": "stderr",
     "output_type": "stream",
     "text": [
      "1066it [1:35:04,  5.39s/it]00760, Training: 39.05%,  Loss: 2.99819, ACC: 46.69% "
     ]
    },
    {
     "name": "stdout",
     "output_type": "stream",
     "text": [
      "\n"
     ]
    },
    {
     "name": "stderr",
     "output_type": "stream",
     "text": [
      "1067it [1:35:10,  5.39s/it]00760, Training: 39.08%,  Loss: 2.99815, ACC: 46.69% "
     ]
    },
    {
     "name": "stdout",
     "output_type": "stream",
     "text": [
      "\n"
     ]
    },
    {
     "name": "stderr",
     "output_type": "stream",
     "text": [
      "1068it [1:35:15,  5.39s/it]00760, Training: 39.12%,  Loss: 2.99805, ACC: 46.69% "
     ]
    },
    {
     "name": "stdout",
     "output_type": "stream",
     "text": [
      "\n"
     ]
    },
    {
     "name": "stderr",
     "output_type": "stream",
     "text": [
      "1069it [1:35:21,  5.43s/it]00760, Training: 39.16%,  Loss: 2.99813, ACC: 46.69% "
     ]
    },
    {
     "name": "stdout",
     "output_type": "stream",
     "text": [
      "\n"
     ]
    },
    {
     "name": "stderr",
     "output_type": "stream",
     "text": [
      "1070it [1:35:26,  5.44s/it]00760, Training: 39.19%,  Loss: 2.99805, ACC: 46.69% "
     ]
    },
    {
     "name": "stdout",
     "output_type": "stream",
     "text": [
      "\n"
     ]
    },
    {
     "name": "stderr",
     "output_type": "stream",
     "text": [
      "1071it [1:35:32,  5.43s/it]00760, Training: 39.23%,  Loss: 2.99802, ACC: 46.69% "
     ]
    },
    {
     "name": "stdout",
     "output_type": "stream",
     "text": [
      "\n"
     ]
    },
    {
     "name": "stderr",
     "output_type": "stream",
     "text": [
      "1072it [1:35:37,  5.41s/it]00760, Training: 39.27%,  Loss: 2.99786, ACC: 46.69% "
     ]
    },
    {
     "name": "stdout",
     "output_type": "stream",
     "text": [
      "\n"
     ]
    },
    {
     "name": "stderr",
     "output_type": "stream",
     "text": [
      "1073it [1:35:42,  5.35s/it]00760, Training: 39.30%,  Loss: 2.99763, ACC: 46.69% "
     ]
    },
    {
     "name": "stdout",
     "output_type": "stream",
     "text": [
      "\n"
     ]
    },
    {
     "name": "stderr",
     "output_type": "stream",
     "text": [
      "1074it [1:35:48,  5.33s/it]00760, Training: 39.34%,  Loss: 2.99740, ACC: 46.69% "
     ]
    },
    {
     "name": "stdout",
     "output_type": "stream",
     "text": [
      "\n"
     ]
    },
    {
     "name": "stderr",
     "output_type": "stream",
     "text": [
      "1075it [1:35:53,  5.33s/it]00760, Training: 39.38%,  Loss: 2.99760, ACC: 46.69% "
     ]
    },
    {
     "name": "stdout",
     "output_type": "stream",
     "text": [
      "\n"
     ]
    },
    {
     "name": "stderr",
     "output_type": "stream",
     "text": [
      "1076it [1:35:58,  5.34s/it]00760, Training: 39.41%,  Loss: 2.99775, ACC: 46.69% "
     ]
    },
    {
     "name": "stdout",
     "output_type": "stream",
     "text": [
      "\n"
     ]
    },
    {
     "name": "stderr",
     "output_type": "stream",
     "text": [
      "1077it [1:36:04,  5.38s/it]00760, Training: 39.45%,  Loss: 2.99774, ACC: 46.69% "
     ]
    },
    {
     "name": "stdout",
     "output_type": "stream",
     "text": [
      "\n"
     ]
    },
    {
     "name": "stderr",
     "output_type": "stream",
     "text": [
      "1078it [1:36:09,  5.37s/it]00760, Training: 39.49%,  Loss: 2.99761, ACC: 46.69% "
     ]
    },
    {
     "name": "stdout",
     "output_type": "stream",
     "text": [
      "\n"
     ]
    },
    {
     "name": "stderr",
     "output_type": "stream",
     "text": [
      "1079it [1:36:14,  5.38s/it]00760, Training: 39.52%,  Loss: 2.99763, ACC: 46.69% "
     ]
    },
    {
     "name": "stdout",
     "output_type": "stream",
     "text": [
      "\n"
     ]
    },
    {
     "name": "stderr",
     "output_type": "stream",
     "text": [
      "1080it [1:36:20,  5.39s/it]00760, Training: 39.56%,  Loss: 2.99773, ACC: 46.69% "
     ]
    },
    {
     "name": "stdout",
     "output_type": "stream",
     "text": [
      "\n"
     ]
    },
    {
     "name": "stderr",
     "output_type": "stream",
     "text": [
      "1081it [1:36:25,  5.40s/it]00760, Training: 39.60%,  Loss: 2.99762, ACC: 46.69% "
     ]
    },
    {
     "name": "stdout",
     "output_type": "stream",
     "text": [
      "\n"
     ]
    },
    {
     "name": "stderr",
     "output_type": "stream",
     "text": [
      "1082it [1:36:31,  5.40s/it]00760, Training: 39.63%,  Loss: 2.99747, ACC: 46.70% "
     ]
    },
    {
     "name": "stdout",
     "output_type": "stream",
     "text": [
      "\n"
     ]
    },
    {
     "name": "stderr",
     "output_type": "stream",
     "text": [
      "1083it [1:36:36,  5.38s/it]00760, Training: 39.67%,  Loss: 2.99725, ACC: 46.70% "
     ]
    },
    {
     "name": "stdout",
     "output_type": "stream",
     "text": [
      "\n"
     ]
    },
    {
     "name": "stderr",
     "output_type": "stream",
     "text": [
      "1084it [1:36:41,  5.37s/it]00760, Training: 39.71%,  Loss: 2.99722, ACC: 46.70% "
     ]
    },
    {
     "name": "stdout",
     "output_type": "stream",
     "text": [
      "\n"
     ]
    },
    {
     "name": "stderr",
     "output_type": "stream",
     "text": [
      "1085it [1:36:47,  5.39s/it]00760, Training: 39.74%,  Loss: 2.99702, ACC: 46.71% "
     ]
    },
    {
     "name": "stdout",
     "output_type": "stream",
     "text": [
      "\n"
     ]
    },
    {
     "name": "stderr",
     "output_type": "stream",
     "text": [
      "1086it [1:36:52,  5.41s/it]00760, Training: 39.78%,  Loss: 2.99714, ACC: 46.70% "
     ]
    },
    {
     "name": "stdout",
     "output_type": "stream",
     "text": [
      "\n"
     ]
    },
    {
     "name": "stderr",
     "output_type": "stream",
     "text": [
      "1087it [1:36:58,  5.42s/it]00760, Training: 39.82%,  Loss: 2.99711, ACC: 46.70% "
     ]
    },
    {
     "name": "stdout",
     "output_type": "stream",
     "text": [
      "\n"
     ]
    },
    {
     "name": "stderr",
     "output_type": "stream",
     "text": [
      "1088it [1:37:03,  5.38s/it]00760, Training: 39.85%,  Loss: 2.99718, ACC: 46.70% "
     ]
    },
    {
     "name": "stdout",
     "output_type": "stream",
     "text": [
      "\n"
     ]
    },
    {
     "name": "stderr",
     "output_type": "stream",
     "text": [
      "1089it [1:37:08,  5.36s/it]00760, Training: 39.89%,  Loss: 2.99701, ACC: 46.71% "
     ]
    },
    {
     "name": "stdout",
     "output_type": "stream",
     "text": [
      "\n"
     ]
    },
    {
     "name": "stderr",
     "output_type": "stream",
     "text": [
      "1090it [1:37:14,  5.36s/it]00760, Training: 39.93%,  Loss: 2.99690, ACC: 46.71% "
     ]
    },
    {
     "name": "stdout",
     "output_type": "stream",
     "text": [
      "\n"
     ]
    },
    {
     "name": "stderr",
     "output_type": "stream",
     "text": [
      "1091it [1:37:19,  5.35s/it]00760, Training: 39.96%,  Loss: 2.99685, ACC: 46.71% "
     ]
    },
    {
     "name": "stdout",
     "output_type": "stream",
     "text": [
      "\n"
     ]
    },
    {
     "name": "stderr",
     "output_type": "stream",
     "text": [
      "1092it [1:37:24,  5.36s/it]00760, Training: 40.00%,  Loss: 2.99693, ACC: 46.71% "
     ]
    },
    {
     "name": "stdout",
     "output_type": "stream",
     "text": [
      "\n"
     ]
    },
    {
     "name": "stderr",
     "output_type": "stream",
     "text": [
      "1093it [1:37:30,  5.34s/it]00760, Training: 40.04%,  Loss: 2.99689, ACC: 46.71% "
     ]
    },
    {
     "name": "stdout",
     "output_type": "stream",
     "text": [
      "\n"
     ]
    },
    {
     "name": "stderr",
     "output_type": "stream",
     "text": [
      "1094it [1:37:35,  5.34s/it]00760, Training: 40.07%,  Loss: 2.99717, ACC: 46.71% "
     ]
    },
    {
     "name": "stdout",
     "output_type": "stream",
     "text": [
      "\n"
     ]
    },
    {
     "name": "stderr",
     "output_type": "stream",
     "text": [
      "1095it [1:37:40,  5.34s/it]00760, Training: 40.11%,  Loss: 2.99703, ACC: 46.71% "
     ]
    },
    {
     "name": "stdout",
     "output_type": "stream",
     "text": [
      "\n"
     ]
    },
    {
     "name": "stderr",
     "output_type": "stream",
     "text": [
      "1096it [1:37:46,  5.32s/it]00760, Training: 40.15%,  Loss: 2.99717, ACC: 46.70% "
     ]
    },
    {
     "name": "stdout",
     "output_type": "stream",
     "text": [
      "\n"
     ]
    },
    {
     "name": "stderr",
     "output_type": "stream",
     "text": [
      "1097it [1:37:51,  5.29s/it]00760, Training: 40.18%,  Loss: 2.99727, ACC: 46.71% "
     ]
    },
    {
     "name": "stdout",
     "output_type": "stream",
     "text": [
      "\n"
     ]
    },
    {
     "name": "stderr",
     "output_type": "stream",
     "text": [
      "1098it [1:37:57,  5.60s/it]00760, Training: 40.22%,  Loss: 2.99712, ACC: 46.71% "
     ]
    },
    {
     "name": "stdout",
     "output_type": "stream",
     "text": [
      "\n"
     ]
    },
    {
     "name": "stderr",
     "output_type": "stream",
     "text": [
      "1099it [1:38:04,  5.90s/it]00760, Training: 40.26%,  Loss: 2.99739, ACC: 46.70% "
     ]
    },
    {
     "name": "stdout",
     "output_type": "stream",
     "text": [
      "\n"
     ]
    },
    {
     "name": "stderr",
     "output_type": "stream",
     "text": [
      "1100it [1:38:10,  6.05s/it]00760, Training: 40.29%,  Loss: 2.99743, ACC: 46.70% "
     ]
    },
    {
     "name": "stdout",
     "output_type": "stream",
     "text": [
      "\n"
     ]
    },
    {
     "name": "stderr",
     "output_type": "stream",
     "text": [
      "1101it [1:38:17,  6.22s/it]00760, Training: 40.33%,  Loss: 2.99751, ACC: 46.70% "
     ]
    },
    {
     "name": "stdout",
     "output_type": "stream",
     "text": [
      "\n"
     ]
    },
    {
     "name": "stderr",
     "output_type": "stream",
     "text": [
      "1102it [1:38:23,  6.36s/it]00760, Training: 40.37%,  Loss: 2.99761, ACC: 46.70% "
     ]
    },
    {
     "name": "stdout",
     "output_type": "stream",
     "text": [
      "\n"
     ]
    },
    {
     "name": "stderr",
     "output_type": "stream",
     "text": [
      "1103it [1:38:30,  6.40s/it]00760, Training: 40.40%,  Loss: 2.99765, ACC: 46.70% "
     ]
    },
    {
     "name": "stdout",
     "output_type": "stream",
     "text": [
      "\n"
     ]
    },
    {
     "name": "stderr",
     "output_type": "stream",
     "text": [
      "1104it [1:38:36,  6.43s/it]00760, Training: 40.44%,  Loss: 2.99758, ACC: 46.70% "
     ]
    },
    {
     "name": "stdout",
     "output_type": "stream",
     "text": [
      "\n"
     ]
    },
    {
     "name": "stderr",
     "output_type": "stream",
     "text": [
      "1105it [1:38:43,  6.47s/it]00760, Training: 40.48%,  Loss: 2.99773, ACC: 46.70% "
     ]
    },
    {
     "name": "stdout",
     "output_type": "stream",
     "text": [
      "\n"
     ]
    },
    {
     "name": "stderr",
     "output_type": "stream",
     "text": [
      "1106it [1:38:50,  6.53s/it]00760, Training: 40.51%,  Loss: 2.99797, ACC: 46.70% "
     ]
    },
    {
     "name": "stdout",
     "output_type": "stream",
     "text": [
      "\n"
     ]
    },
    {
     "name": "stderr",
     "output_type": "stream",
     "text": [
      "1107it [1:38:56,  6.56s/it]00760, Training: 40.55%,  Loss: 2.99804, ACC: 46.70% "
     ]
    },
    {
     "name": "stdout",
     "output_type": "stream",
     "text": [
      "\n"
     ]
    },
    {
     "name": "stderr",
     "output_type": "stream",
     "text": [
      "1108it [1:39:03,  6.55s/it]00760, Training: 40.59%,  Loss: 2.99839, ACC: 46.69% "
     ]
    },
    {
     "name": "stdout",
     "output_type": "stream",
     "text": [
      "\n"
     ]
    },
    {
     "name": "stderr",
     "output_type": "stream",
     "text": [
      "1109it [1:39:09,  6.55s/it]00760, Training: 40.62%,  Loss: 2.99875, ACC: 46.69% "
     ]
    },
    {
     "name": "stdout",
     "output_type": "stream",
     "text": [
      "\n"
     ]
    },
    {
     "name": "stderr",
     "output_type": "stream",
     "text": [
      "1110it [1:39:16,  6.50s/it]00760, Training: 40.66%,  Loss: 2.99881, ACC: 46.69% "
     ]
    },
    {
     "name": "stdout",
     "output_type": "stream",
     "text": [
      "\n"
     ]
    },
    {
     "name": "stderr",
     "output_type": "stream",
     "text": [
      "1111it [1:39:22,  6.54s/it]00760, Training: 40.70%,  Loss: 2.99881, ACC: 46.69% "
     ]
    },
    {
     "name": "stdout",
     "output_type": "stream",
     "text": [
      "\n"
     ]
    },
    {
     "name": "stderr",
     "output_type": "stream",
     "text": [
      "1112it [1:39:29,  6.56s/it]00760, Training: 40.73%,  Loss: 2.99873, ACC: 46.69% "
     ]
    },
    {
     "name": "stdout",
     "output_type": "stream",
     "text": [
      "\n"
     ]
    },
    {
     "name": "stderr",
     "output_type": "stream",
     "text": [
      "1113it [1:39:36,  6.55s/it]00760, Training: 40.77%,  Loss: 2.99880, ACC: 46.69% "
     ]
    },
    {
     "name": "stdout",
     "output_type": "stream",
     "text": [
      "\n"
     ]
    },
    {
     "name": "stderr",
     "output_type": "stream",
     "text": [
      "1114it [1:39:42,  6.56s/it]00760, Training: 40.81%,  Loss: 2.99877, ACC: 46.69% "
     ]
    },
    {
     "name": "stdout",
     "output_type": "stream",
     "text": [
      "\n"
     ]
    },
    {
     "name": "stderr",
     "output_type": "stream",
     "text": [
      "1115it [1:39:49,  6.56s/it]00760, Training: 40.84%,  Loss: 2.99888, ACC: 46.69% "
     ]
    },
    {
     "name": "stdout",
     "output_type": "stream",
     "text": [
      "\n"
     ]
    },
    {
     "name": "stderr",
     "output_type": "stream",
     "text": [
      "1116it [1:39:55,  6.60s/it]00760, Training: 40.88%,  Loss: 2.99872, ACC: 46.69% "
     ]
    },
    {
     "name": "stdout",
     "output_type": "stream",
     "text": [
      "\n"
     ]
    },
    {
     "name": "stderr",
     "output_type": "stream",
     "text": [
      "1117it [1:40:02,  6.62s/it]00760, Training: 40.92%,  Loss: 2.99896, ACC: 46.69% "
     ]
    },
    {
     "name": "stdout",
     "output_type": "stream",
     "text": [
      "\n"
     ]
    },
    {
     "name": "stderr",
     "output_type": "stream",
     "text": [
      "1118it [1:40:09,  6.63s/it]00760, Training: 40.95%,  Loss: 2.99909, ACC: 46.68% "
     ]
    },
    {
     "name": "stdout",
     "output_type": "stream",
     "text": [
      "\n"
     ]
    },
    {
     "name": "stderr",
     "output_type": "stream",
     "text": [
      "1119it [1:40:15,  6.64s/it]00760, Training: 40.99%,  Loss: 2.99897, ACC: 46.68% "
     ]
    },
    {
     "name": "stdout",
     "output_type": "stream",
     "text": [
      "\n"
     ]
    },
    {
     "name": "stderr",
     "output_type": "stream",
     "text": [
      "1120it [1:40:22,  6.67s/it]00760, Training: 41.03%,  Loss: 2.99904, ACC: 46.68% "
     ]
    },
    {
     "name": "stdout",
     "output_type": "stream",
     "text": [
      "\n"
     ]
    },
    {
     "name": "stderr",
     "output_type": "stream",
     "text": [
      "1121it [1:40:29,  6.65s/it]00760, Training: 41.06%,  Loss: 2.99898, ACC: 46.68% "
     ]
    },
    {
     "name": "stdout",
     "output_type": "stream",
     "text": [
      "\n"
     ]
    },
    {
     "name": "stderr",
     "output_type": "stream",
     "text": [
      "1122it [1:40:35,  6.63s/it]00760, Training: 41.10%,  Loss: 2.99906, ACC: 46.68% "
     ]
    },
    {
     "name": "stdout",
     "output_type": "stream",
     "text": [
      "\n"
     ]
    },
    {
     "name": "stderr",
     "output_type": "stream",
     "text": [
      "1123it [1:40:42,  6.61s/it]00760, Training: 41.14%,  Loss: 2.99903, ACC: 46.68% "
     ]
    },
    {
     "name": "stdout",
     "output_type": "stream",
     "text": [
      "\n"
     ]
    },
    {
     "name": "stderr",
     "output_type": "stream",
     "text": [
      "1124it [1:40:48,  6.60s/it]00760, Training: 41.17%,  Loss: 2.99909, ACC: 46.68% "
     ]
    },
    {
     "name": "stdout",
     "output_type": "stream",
     "text": [
      "\n"
     ]
    },
    {
     "name": "stderr",
     "output_type": "stream",
     "text": [
      "1125it [1:40:55,  6.55s/it]00760, Training: 41.21%,  Loss: 2.99932, ACC: 46.68% "
     ]
    },
    {
     "name": "stdout",
     "output_type": "stream",
     "text": [
      "\n"
     ]
    },
    {
     "name": "stderr",
     "output_type": "stream",
     "text": [
      "1126it [1:41:02,  6.60s/it]00760, Training: 41.25%,  Loss: 2.99935, ACC: 46.68% "
     ]
    },
    {
     "name": "stdout",
     "output_type": "stream",
     "text": [
      "\n"
     ]
    },
    {
     "name": "stderr",
     "output_type": "stream",
     "text": [
      "1127it [1:41:08,  6.58s/it]00760, Training: 41.28%,  Loss: 2.99945, ACC: 46.68% "
     ]
    },
    {
     "name": "stdout",
     "output_type": "stream",
     "text": [
      "\n"
     ]
    },
    {
     "name": "stderr",
     "output_type": "stream",
     "text": [
      "1128it [1:41:15,  6.55s/it]00760, Training: 41.32%,  Loss: 2.99929, ACC: 46.68% "
     ]
    },
    {
     "name": "stdout",
     "output_type": "stream",
     "text": [
      "\n"
     ]
    },
    {
     "name": "stderr",
     "output_type": "stream",
     "text": [
      "1129it [1:41:21,  6.56s/it]00760, Training: 41.36%,  Loss: 2.99925, ACC: 46.68% "
     ]
    },
    {
     "name": "stdout",
     "output_type": "stream",
     "text": [
      "\n"
     ]
    },
    {
     "name": "stderr",
     "output_type": "stream",
     "text": [
      "1130it [1:41:28,  6.54s/it]00760, Training: 41.39%,  Loss: 2.99924, ACC: 46.68% "
     ]
    },
    {
     "name": "stdout",
     "output_type": "stream",
     "text": [
      "\n"
     ]
    },
    {
     "name": "stderr",
     "output_type": "stream",
     "text": [
      "1131it [1:41:34,  6.52s/it]00760, Training: 41.43%,  Loss: 2.99925, ACC: 46.68% "
     ]
    },
    {
     "name": "stdout",
     "output_type": "stream",
     "text": [
      "\n"
     ]
    },
    {
     "name": "stderr",
     "output_type": "stream",
     "text": [
      "1132it [1:41:41,  6.54s/it]00760, Training: 41.47%,  Loss: 2.99906, ACC: 46.68% "
     ]
    },
    {
     "name": "stdout",
     "output_type": "stream",
     "text": [
      "\n"
     ]
    },
    {
     "name": "stderr",
     "output_type": "stream",
     "text": [
      "1133it [1:41:47,  6.56s/it]00760, Training: 41.50%,  Loss: 2.99901, ACC: 46.68% "
     ]
    },
    {
     "name": "stdout",
     "output_type": "stream",
     "text": [
      "\n"
     ]
    },
    {
     "name": "stderr",
     "output_type": "stream",
     "text": [
      "1134it [1:41:54,  6.53s/it]00760, Training: 41.54%,  Loss: 2.99892, ACC: 46.68% "
     ]
    },
    {
     "name": "stdout",
     "output_type": "stream",
     "text": [
      "\n"
     ]
    },
    {
     "name": "stderr",
     "output_type": "stream",
     "text": [
      "1135it [1:42:00,  6.54s/it]00760, Training: 41.58%,  Loss: 2.99909, ACC: 46.68% "
     ]
    },
    {
     "name": "stdout",
     "output_type": "stream",
     "text": [
      "\n"
     ]
    },
    {
     "name": "stderr",
     "output_type": "stream",
     "text": [
      "1136it [1:42:07,  6.55s/it]00760, Training: 41.61%,  Loss: 2.99907, ACC: 46.68% "
     ]
    },
    {
     "name": "stdout",
     "output_type": "stream",
     "text": [
      "\n"
     ]
    },
    {
     "name": "stderr",
     "output_type": "stream",
     "text": [
      "1137it [1:42:13,  6.52s/it]00760, Training: 41.65%,  Loss: 2.99888, ACC: 46.68% "
     ]
    },
    {
     "name": "stdout",
     "output_type": "stream",
     "text": [
      "\n"
     ]
    },
    {
     "name": "stderr",
     "output_type": "stream",
     "text": [
      "1138it [1:42:20,  6.51s/it]00760, Training: 41.68%,  Loss: 2.99895, ACC: 46.68% "
     ]
    },
    {
     "name": "stdout",
     "output_type": "stream",
     "text": [
      "\n"
     ]
    },
    {
     "name": "stderr",
     "output_type": "stream",
     "text": [
      "1139it [1:42:26,  6.54s/it]00760, Training: 41.72%,  Loss: 2.99875, ACC: 46.68% "
     ]
    },
    {
     "name": "stdout",
     "output_type": "stream",
     "text": [
      "\n"
     ]
    },
    {
     "name": "stderr",
     "output_type": "stream",
     "text": [
      "1140it [1:42:33,  6.55s/it]00760, Training: 41.76%,  Loss: 2.99873, ACC: 46.68% "
     ]
    },
    {
     "name": "stdout",
     "output_type": "stream",
     "text": [
      "\n"
     ]
    },
    {
     "name": "stderr",
     "output_type": "stream",
     "text": [
      "1141it [1:42:40,  6.56s/it]00760, Training: 41.79%,  Loss: 2.99846, ACC: 46.68% "
     ]
    },
    {
     "name": "stdout",
     "output_type": "stream",
     "text": [
      "\n"
     ]
    },
    {
     "name": "stderr",
     "output_type": "stream",
     "text": [
      "1142it [1:42:46,  6.54s/it]00760, Training: 41.83%,  Loss: 2.99836, ACC: 46.68% "
     ]
    },
    {
     "name": "stdout",
     "output_type": "stream",
     "text": [
      "\n"
     ]
    },
    {
     "name": "stderr",
     "output_type": "stream",
     "text": [
      "1143it [1:42:53,  6.58s/it]00760, Training: 41.87%,  Loss: 2.99828, ACC: 46.68% "
     ]
    },
    {
     "name": "stdout",
     "output_type": "stream",
     "text": [
      "\n"
     ]
    },
    {
     "name": "stderr",
     "output_type": "stream",
     "text": [
      "1144it [1:42:59,  6.59s/it]00760, Training: 41.90%,  Loss: 2.99817, ACC: 46.68% "
     ]
    },
    {
     "name": "stdout",
     "output_type": "stream",
     "text": [
      "\n"
     ]
    },
    {
     "name": "stderr",
     "output_type": "stream",
     "text": [
      "1145it [1:43:06,  6.58s/it]00760, Training: 41.94%,  Loss: 2.99813, ACC: 46.68% "
     ]
    },
    {
     "name": "stdout",
     "output_type": "stream",
     "text": [
      "\n"
     ]
    },
    {
     "name": "stderr",
     "output_type": "stream",
     "text": [
      "1146it [1:43:13,  6.59s/it]00760, Training: 41.98%,  Loss: 2.99822, ACC: 46.68% "
     ]
    },
    {
     "name": "stdout",
     "output_type": "stream",
     "text": [
      "\n"
     ]
    },
    {
     "name": "stderr",
     "output_type": "stream",
     "text": [
      "1147it [1:43:19,  6.58s/it]00760, Training: 42.01%,  Loss: 2.99828, ACC: 46.68% "
     ]
    },
    {
     "name": "stdout",
     "output_type": "stream",
     "text": [
      "\n"
     ]
    },
    {
     "name": "stderr",
     "output_type": "stream",
     "text": [
      "1148it [1:43:26,  6.58s/it]00760, Training: 42.05%,  Loss: 2.99840, ACC: 46.67% "
     ]
    },
    {
     "name": "stdout",
     "output_type": "stream",
     "text": [
      "\n"
     ]
    },
    {
     "name": "stderr",
     "output_type": "stream",
     "text": [
      "1149it [1:43:32,  6.56s/it]00760, Training: 42.09%,  Loss: 2.99863, ACC: 46.67% "
     ]
    },
    {
     "name": "stdout",
     "output_type": "stream",
     "text": [
      "\n"
     ]
    },
    {
     "name": "stderr",
     "output_type": "stream",
     "text": [
      "1150it [1:43:39,  6.51s/it]00760, Training: 42.12%,  Loss: 2.99866, ACC: 46.67% "
     ]
    },
    {
     "name": "stdout",
     "output_type": "stream",
     "text": [
      "\n"
     ]
    },
    {
     "name": "stderr",
     "output_type": "stream",
     "text": [
      "1151it [1:43:45,  6.51s/it]00760, Training: 42.16%,  Loss: 2.99885, ACC: 46.67% "
     ]
    },
    {
     "name": "stdout",
     "output_type": "stream",
     "text": [
      "\n"
     ]
    },
    {
     "name": "stderr",
     "output_type": "stream",
     "text": [
      "1152it [1:43:52,  6.58s/it]00760, Training: 42.20%,  Loss: 2.99881, ACC: 46.67% "
     ]
    },
    {
     "name": "stdout",
     "output_type": "stream",
     "text": [
      "\n"
     ]
    },
    {
     "name": "stderr",
     "output_type": "stream",
     "text": [
      "1153it [1:43:58,  6.58s/it]00760, Training: 42.23%,  Loss: 2.99884, ACC: 46.67% "
     ]
    },
    {
     "name": "stdout",
     "output_type": "stream",
     "text": [
      "\n"
     ]
    },
    {
     "name": "stderr",
     "output_type": "stream",
     "text": [
      "1154it [1:44:05,  6.55s/it]00760, Training: 42.27%,  Loss: 2.99879, ACC: 46.67% "
     ]
    },
    {
     "name": "stdout",
     "output_type": "stream",
     "text": [
      "\n"
     ]
    },
    {
     "name": "stderr",
     "output_type": "stream",
     "text": [
      "1155it [1:44:12,  6.57s/it]00760, Training: 42.31%,  Loss: 2.99904, ACC: 46.66% "
     ]
    },
    {
     "name": "stdout",
     "output_type": "stream",
     "text": [
      "\n"
     ]
    },
    {
     "name": "stderr",
     "output_type": "stream",
     "text": [
      "1156it [1:44:18,  6.58s/it]00760, Training: 42.34%,  Loss: 2.99899, ACC: 46.66% "
     ]
    },
    {
     "name": "stdout",
     "output_type": "stream",
     "text": [
      "\n"
     ]
    },
    {
     "name": "stderr",
     "output_type": "stream",
     "text": [
      "1157it [1:44:25,  6.59s/it]00760, Training: 42.38%,  Loss: 2.99896, ACC: 46.67% "
     ]
    },
    {
     "name": "stdout",
     "output_type": "stream",
     "text": [
      "\n"
     ]
    },
    {
     "name": "stderr",
     "output_type": "stream",
     "text": [
      "1158it [1:44:31,  6.59s/it]00760, Training: 42.42%,  Loss: 2.99894, ACC: 46.67% "
     ]
    },
    {
     "name": "stdout",
     "output_type": "stream",
     "text": [
      "\n"
     ]
    },
    {
     "name": "stderr",
     "output_type": "stream",
     "text": [
      "1159it [1:44:38,  6.60s/it]00760, Training: 42.45%,  Loss: 2.99902, ACC: 46.67% "
     ]
    },
    {
     "name": "stdout",
     "output_type": "stream",
     "text": [
      "\n"
     ]
    },
    {
     "name": "stderr",
     "output_type": "stream",
     "text": [
      "1160it [1:44:45,  6.59s/it]00760, Training: 42.49%,  Loss: 2.99900, ACC: 46.67% "
     ]
    },
    {
     "name": "stdout",
     "output_type": "stream",
     "text": [
      "\n"
     ]
    },
    {
     "name": "stderr",
     "output_type": "stream",
     "text": [
      "1161it [1:44:51,  6.65s/it]00760, Training: 42.53%,  Loss: 2.99905, ACC: 46.66% "
     ]
    },
    {
     "name": "stdout",
     "output_type": "stream",
     "text": [
      "\n"
     ]
    },
    {
     "name": "stderr",
     "output_type": "stream",
     "text": [
      "1162it [1:44:58,  6.69s/it]00760, Training: 42.56%,  Loss: 2.99923, ACC: 46.66% "
     ]
    },
    {
     "name": "stdout",
     "output_type": "stream",
     "text": [
      "\n"
     ]
    },
    {
     "name": "stderr",
     "output_type": "stream",
     "text": [
      "1163it [1:45:05,  6.73s/it]00760, Training: 42.60%,  Loss: 2.99932, ACC: 46.66% "
     ]
    },
    {
     "name": "stdout",
     "output_type": "stream",
     "text": [
      "\n"
     ]
    },
    {
     "name": "stderr",
     "output_type": "stream",
     "text": [
      "1164it [1:45:12,  6.71s/it]00760, Training: 42.64%,  Loss: 2.99929, ACC: 46.66% "
     ]
    },
    {
     "name": "stdout",
     "output_type": "stream",
     "text": [
      "\n"
     ]
    },
    {
     "name": "stderr",
     "output_type": "stream",
     "text": [
      "1165it [1:45:18,  6.69s/it]00760, Training: 42.67%,  Loss: 2.99948, ACC: 46.65% "
     ]
    },
    {
     "name": "stdout",
     "output_type": "stream",
     "text": [
      "\n"
     ]
    },
    {
     "name": "stderr",
     "output_type": "stream",
     "text": [
      "1166it [1:45:25,  6.68s/it]00760, Training: 42.71%,  Loss: 2.99956, ACC: 46.65% "
     ]
    },
    {
     "name": "stdout",
     "output_type": "stream",
     "text": [
      "\n"
     ]
    },
    {
     "name": "stderr",
     "output_type": "stream",
     "text": [
      "1167it [1:45:31,  6.64s/it]00760, Training: 42.75%,  Loss: 2.99957, ACC: 46.65% "
     ]
    },
    {
     "name": "stdout",
     "output_type": "stream",
     "text": [
      "\n"
     ]
    },
    {
     "name": "stderr",
     "output_type": "stream",
     "text": [
      "1168it [1:45:38,  6.65s/it]00760, Training: 42.78%,  Loss: 2.99985, ACC: 46.65% "
     ]
    },
    {
     "name": "stdout",
     "output_type": "stream",
     "text": [
      "\n"
     ]
    },
    {
     "name": "stderr",
     "output_type": "stream",
     "text": [
      "1169it [1:45:45,  6.65s/it]00760, Training: 42.82%,  Loss: 2.99990, ACC: 46.65% "
     ]
    },
    {
     "name": "stdout",
     "output_type": "stream",
     "text": [
      "\n"
     ]
    },
    {
     "name": "stderr",
     "output_type": "stream",
     "text": [
      "1170it [1:45:51,  6.62s/it]00760, Training: 42.86%,  Loss: 2.99980, ACC: 46.65% "
     ]
    },
    {
     "name": "stdout",
     "output_type": "stream",
     "text": [
      "\n"
     ]
    },
    {
     "name": "stderr",
     "output_type": "stream",
     "text": [
      "1171it [1:45:58,  6.65s/it]00760, Training: 42.89%,  Loss: 2.99955, ACC: 46.66% "
     ]
    },
    {
     "name": "stdout",
     "output_type": "stream",
     "text": [
      "\n"
     ]
    },
    {
     "name": "stderr",
     "output_type": "stream",
     "text": [
      "1172it [1:46:05,  6.61s/it]00760, Training: 42.93%,  Loss: 2.99950, ACC: 46.66% "
     ]
    },
    {
     "name": "stdout",
     "output_type": "stream",
     "text": [
      "\n"
     ]
    },
    {
     "name": "stderr",
     "output_type": "stream",
     "text": [
      "1173it [1:46:11,  6.61s/it]00760, Training: 42.97%,  Loss: 2.99958, ACC: 46.65% "
     ]
    },
    {
     "name": "stdout",
     "output_type": "stream",
     "text": [
      "\n"
     ]
    },
    {
     "name": "stderr",
     "output_type": "stream",
     "text": [
      "1174it [1:46:18,  6.65s/it]00760, Training: 43.00%,  Loss: 2.99974, ACC: 46.65% "
     ]
    },
    {
     "name": "stdout",
     "output_type": "stream",
     "text": [
      "\n"
     ]
    },
    {
     "name": "stderr",
     "output_type": "stream",
     "text": [
      "1175it [1:46:25,  6.68s/it]00760, Training: 43.04%,  Loss: 2.99984, ACC: 46.65% "
     ]
    },
    {
     "name": "stdout",
     "output_type": "stream",
     "text": [
      "\n"
     ]
    },
    {
     "name": "stderr",
     "output_type": "stream",
     "text": [
      "1176it [1:46:31,  6.65s/it]00760, Training: 43.08%,  Loss: 2.99948, ACC: 46.66% "
     ]
    },
    {
     "name": "stdout",
     "output_type": "stream",
     "text": [
      "\n"
     ]
    },
    {
     "name": "stderr",
     "output_type": "stream",
     "text": [
      "1177it [1:46:38,  6.66s/it]00760, Training: 43.11%,  Loss: 2.99962, ACC: 46.66% "
     ]
    },
    {
     "name": "stdout",
     "output_type": "stream",
     "text": [
      "\n"
     ]
    },
    {
     "name": "stderr",
     "output_type": "stream",
     "text": [
      "1178it [1:46:45,  6.64s/it]00760, Training: 43.15%,  Loss: 2.99970, ACC: 46.66% "
     ]
    },
    {
     "name": "stdout",
     "output_type": "stream",
     "text": [
      "\n"
     ]
    },
    {
     "name": "stderr",
     "output_type": "stream",
     "text": [
      "1179it [1:46:51,  6.63s/it]00760, Training: 43.19%,  Loss: 2.99977, ACC: 46.66% "
     ]
    },
    {
     "name": "stdout",
     "output_type": "stream",
     "text": [
      "\n"
     ]
    },
    {
     "name": "stderr",
     "output_type": "stream",
     "text": [
      "1180it [1:46:58,  6.67s/it]00760, Training: 43.22%,  Loss: 2.99999, ACC: 46.66% "
     ]
    },
    {
     "name": "stdout",
     "output_type": "stream",
     "text": [
      "\n"
     ]
    },
    {
     "name": "stderr",
     "output_type": "stream",
     "text": [
      "1181it [1:47:08,  7.78s/it]00760, Training: 43.26%,  Loss: 2.99989, ACC: 46.66% "
     ]
    },
    {
     "name": "stdout",
     "output_type": "stream",
     "text": [
      "\n"
     ]
    },
    {
     "name": "stderr",
     "output_type": "stream",
     "text": [
      "1182it [1:47:19,  8.65s/it]00760, Training: 43.30%,  Loss: 2.99986, ACC: 46.66% "
     ]
    },
    {
     "name": "stdout",
     "output_type": "stream",
     "text": [
      "\n"
     ]
    },
    {
     "name": "stderr",
     "output_type": "stream",
     "text": [
      "1183it [1:47:29,  9.16s/it]00760, Training: 43.33%,  Loss: 2.99969, ACC: 46.66% "
     ]
    },
    {
     "name": "stdout",
     "output_type": "stream",
     "text": [
      "\n"
     ]
    },
    {
     "name": "stderr",
     "output_type": "stream",
     "text": [
      "1184it [1:47:40,  9.58s/it]00760, Training: 43.37%,  Loss: 2.99954, ACC: 46.66% "
     ]
    },
    {
     "name": "stdout",
     "output_type": "stream",
     "text": [
      "\n"
     ]
    },
    {
     "name": "stderr",
     "output_type": "stream",
     "text": [
      "1185it [1:47:46,  8.69s/it]00760, Training: 43.41%,  Loss: 2.99963, ACC: 46.66% "
     ]
    },
    {
     "name": "stdout",
     "output_type": "stream",
     "text": [
      "\n"
     ]
    },
    {
     "name": "stderr",
     "output_type": "stream",
     "text": [
      "1186it [1:47:53,  8.09s/it]00760, Training: 43.44%,  Loss: 2.99991, ACC: 46.66% "
     ]
    },
    {
     "name": "stdout",
     "output_type": "stream",
     "text": [
      "\n"
     ]
    },
    {
     "name": "stderr",
     "output_type": "stream",
     "text": [
      "1187it [1:48:00,  7.66s/it]00760, Training: 43.48%,  Loss: 3.00002, ACC: 46.66% "
     ]
    },
    {
     "name": "stdout",
     "output_type": "stream",
     "text": [
      "\n"
     ]
    },
    {
     "name": "stderr",
     "output_type": "stream",
     "text": [
      "1188it [1:48:06,  7.32s/it]00760, Training: 43.52%,  Loss: 3.00005, ACC: 46.66% "
     ]
    },
    {
     "name": "stdout",
     "output_type": "stream",
     "text": [
      "\n"
     ]
    },
    {
     "name": "stderr",
     "output_type": "stream",
     "text": [
      "1189it [1:48:13,  7.07s/it]00760, Training: 43.55%,  Loss: 2.99992, ACC: 46.66% "
     ]
    },
    {
     "name": "stdout",
     "output_type": "stream",
     "text": [
      "\n"
     ]
    },
    {
     "name": "stderr",
     "output_type": "stream",
     "text": [
      "1190it [1:48:19,  6.93s/it]00760, Training: 43.59%,  Loss: 2.99989, ACC: 46.66% "
     ]
    },
    {
     "name": "stdout",
     "output_type": "stream",
     "text": [
      "\n"
     ]
    },
    {
     "name": "stderr",
     "output_type": "stream",
     "text": [
      "1191it [1:48:26,  6.80s/it]00760, Training: 43.63%,  Loss: 3.00003, ACC: 46.66% "
     ]
    },
    {
     "name": "stdout",
     "output_type": "stream",
     "text": [
      "\n"
     ]
    },
    {
     "name": "stderr",
     "output_type": "stream",
     "text": [
      "1192it [1:48:33,  6.72s/it]00760, Training: 43.66%,  Loss: 2.99994, ACC: 46.67% "
     ]
    },
    {
     "name": "stdout",
     "output_type": "stream",
     "text": [
      "\n"
     ]
    },
    {
     "name": "stderr",
     "output_type": "stream",
     "text": [
      "1193it [1:48:39,  6.71s/it]00760, Training: 43.70%,  Loss: 2.99991, ACC: 46.67% "
     ]
    },
    {
     "name": "stdout",
     "output_type": "stream",
     "text": [
      "\n"
     ]
    },
    {
     "name": "stderr",
     "output_type": "stream",
     "text": [
      "1194it [1:48:46,  6.67s/it]00760, Training: 43.74%,  Loss: 2.99986, ACC: 46.67% "
     ]
    },
    {
     "name": "stdout",
     "output_type": "stream",
     "text": [
      "\n"
     ]
    },
    {
     "name": "stderr",
     "output_type": "stream",
     "text": [
      "1195it [1:48:52,  6.66s/it]00760, Training: 43.77%,  Loss: 3.00001, ACC: 46.67% "
     ]
    },
    {
     "name": "stdout",
     "output_type": "stream",
     "text": [
      "\n"
     ]
    },
    {
     "name": "stderr",
     "output_type": "stream",
     "text": [
      "1196it [1:48:59,  6.66s/it]00760, Training: 43.81%,  Loss: 3.00021, ACC: 46.67% "
     ]
    },
    {
     "name": "stdout",
     "output_type": "stream",
     "text": [
      "\n"
     ]
    },
    {
     "name": "stderr",
     "output_type": "stream",
     "text": [
      "1197it [1:49:06,  6.61s/it]00760, Training: 43.85%,  Loss: 3.00008, ACC: 46.67% "
     ]
    },
    {
     "name": "stdout",
     "output_type": "stream",
     "text": [
      "\n"
     ]
    },
    {
     "name": "stderr",
     "output_type": "stream",
     "text": [
      "1198it [1:49:12,  6.62s/it]00760, Training: 43.88%,  Loss: 3.00017, ACC: 46.67% "
     ]
    },
    {
     "name": "stdout",
     "output_type": "stream",
     "text": [
      "\n"
     ]
    },
    {
     "name": "stderr",
     "output_type": "stream",
     "text": [
      "1199it [1:49:19,  6.58s/it]00760, Training: 43.92%,  Loss: 2.99998, ACC: 46.67% "
     ]
    },
    {
     "name": "stdout",
     "output_type": "stream",
     "text": [
      "\n"
     ]
    },
    {
     "name": "stderr",
     "output_type": "stream",
     "text": [
      "1200it [1:49:27,  7.03s/it]00760, Training: 43.96%,  Loss: 2.99990, ACC: 46.67% "
     ]
    },
    {
     "name": "stdout",
     "output_type": "stream",
     "text": [
      "\n"
     ]
    },
    {
     "name": "stderr",
     "output_type": "stream",
     "text": [
      "1201it [1:49:33,  6.89s/it]00760, Training: 43.99%,  Loss: 2.99982, ACC: 46.68% "
     ]
    },
    {
     "name": "stdout",
     "output_type": "stream",
     "text": [
      "\n"
     ]
    },
    {
     "name": "stderr",
     "output_type": "stream",
     "text": [
      "1202it [1:49:40,  6.76s/it]00760, Training: 44.03%,  Loss: 2.99965, ACC: 46.68% "
     ]
    },
    {
     "name": "stdout",
     "output_type": "stream",
     "text": [
      "\n"
     ]
    },
    {
     "name": "stderr",
     "output_type": "stream",
     "text": [
      "1203it [1:49:46,  6.72s/it]00760, Training: 44.07%,  Loss: 2.99975, ACC: 46.68% "
     ]
    },
    {
     "name": "stdout",
     "output_type": "stream",
     "text": [
      "\n"
     ]
    },
    {
     "name": "stderr",
     "output_type": "stream",
     "text": [
      "1204it [1:49:53,  6.65s/it]00760, Training: 44.10%,  Loss: 2.99965, ACC: 46.68% "
     ]
    },
    {
     "name": "stdout",
     "output_type": "stream",
     "text": [
      "\n"
     ]
    },
    {
     "name": "stderr",
     "output_type": "stream",
     "text": [
      "1205it [1:49:59,  6.62s/it]00760, Training: 44.14%,  Loss: 2.99961, ACC: 46.68% "
     ]
    },
    {
     "name": "stdout",
     "output_type": "stream",
     "text": [
      "\n"
     ]
    },
    {
     "name": "stderr",
     "output_type": "stream",
     "text": [
      "1206it [1:50:06,  6.62s/it]00760, Training: 44.18%,  Loss: 2.99967, ACC: 46.68% "
     ]
    },
    {
     "name": "stdout",
     "output_type": "stream",
     "text": [
      "\n"
     ]
    },
    {
     "name": "stderr",
     "output_type": "stream",
     "text": [
      "1207it [1:50:12,  6.55s/it]00760, Training: 44.21%,  Loss: 2.99946, ACC: 46.68% "
     ]
    },
    {
     "name": "stdout",
     "output_type": "stream",
     "text": [
      "\n"
     ]
    },
    {
     "name": "stderr",
     "output_type": "stream",
     "text": [
      "1208it [1:50:19,  6.55s/it]00760, Training: 44.25%,  Loss: 2.99952, ACC: 46.68% "
     ]
    },
    {
     "name": "stdout",
     "output_type": "stream",
     "text": [
      "\n"
     ]
    },
    {
     "name": "stderr",
     "output_type": "stream",
     "text": [
      "1209it [1:50:26,  6.57s/it]00760, Training: 44.29%,  Loss: 2.99950, ACC: 46.68% "
     ]
    },
    {
     "name": "stdout",
     "output_type": "stream",
     "text": [
      "\n"
     ]
    },
    {
     "name": "stderr",
     "output_type": "stream",
     "text": [
      "1210it [1:50:32,  6.52s/it]00760, Training: 44.32%,  Loss: 2.99947, ACC: 46.68% "
     ]
    },
    {
     "name": "stdout",
     "output_type": "stream",
     "text": [
      "\n"
     ]
    },
    {
     "name": "stderr",
     "output_type": "stream",
     "text": [
      "1211it [1:50:39,  6.52s/it]00760, Training: 44.36%,  Loss: 2.99930, ACC: 46.68% "
     ]
    },
    {
     "name": "stdout",
     "output_type": "stream",
     "text": [
      "\n"
     ]
    },
    {
     "name": "stderr",
     "output_type": "stream",
     "text": [
      "1212it [1:50:45,  6.55s/it]00760, Training: 44.40%,  Loss: 2.99930, ACC: 46.68% "
     ]
    },
    {
     "name": "stdout",
     "output_type": "stream",
     "text": [
      "\n"
     ]
    },
    {
     "name": "stderr",
     "output_type": "stream",
     "text": [
      "1213it [1:50:52,  6.52s/it]00760, Training: 44.43%,  Loss: 2.99916, ACC: 46.68% "
     ]
    },
    {
     "name": "stdout",
     "output_type": "stream",
     "text": [
      "\n"
     ]
    },
    {
     "name": "stderr",
     "output_type": "stream",
     "text": [
      "1214it [1:50:58,  6.52s/it]00760, Training: 44.47%,  Loss: 2.99894, ACC: 46.69% "
     ]
    },
    {
     "name": "stdout",
     "output_type": "stream",
     "text": [
      "\n"
     ]
    },
    {
     "name": "stderr",
     "output_type": "stream",
     "text": [
      "1215it [1:51:05,  6.55s/it]00760, Training: 44.51%,  Loss: 2.99881, ACC: 46.69% "
     ]
    },
    {
     "name": "stdout",
     "output_type": "stream",
     "text": [
      "\n"
     ]
    },
    {
     "name": "stderr",
     "output_type": "stream",
     "text": [
      "1216it [1:51:11,  6.60s/it]00760, Training: 44.54%,  Loss: 2.99887, ACC: 46.69% "
     ]
    },
    {
     "name": "stdout",
     "output_type": "stream",
     "text": [
      "\n"
     ]
    },
    {
     "name": "stderr",
     "output_type": "stream",
     "text": [
      "1217it [1:51:18,  6.56s/it]00760, Training: 44.58%,  Loss: 2.99887, ACC: 46.69% "
     ]
    },
    {
     "name": "stdout",
     "output_type": "stream",
     "text": [
      "\n"
     ]
    },
    {
     "name": "stderr",
     "output_type": "stream",
     "text": [
      "1218it [1:51:25,  6.59s/it]00760, Training: 44.62%,  Loss: 2.99875, ACC: 46.69% "
     ]
    },
    {
     "name": "stdout",
     "output_type": "stream",
     "text": [
      "\n"
     ]
    },
    {
     "name": "stderr",
     "output_type": "stream",
     "text": [
      "1219it [1:51:31,  6.60s/it]00760, Training: 44.65%,  Loss: 2.99879, ACC: 46.69% "
     ]
    },
    {
     "name": "stdout",
     "output_type": "stream",
     "text": [
      "\n"
     ]
    },
    {
     "name": "stderr",
     "output_type": "stream",
     "text": [
      "1220it [1:51:38,  6.60s/it]00760, Training: 44.69%,  Loss: 2.99887, ACC: 46.69% "
     ]
    },
    {
     "name": "stdout",
     "output_type": "stream",
     "text": [
      "\n"
     ]
    },
    {
     "name": "stderr",
     "output_type": "stream",
     "text": [
      "1221it [1:51:44,  6.62s/it]00760, Training: 44.73%,  Loss: 2.99879, ACC: 46.69% "
     ]
    },
    {
     "name": "stdout",
     "output_type": "stream",
     "text": [
      "\n"
     ]
    },
    {
     "name": "stderr",
     "output_type": "stream",
     "text": [
      "1222it [1:51:51,  6.67s/it]00760, Training: 44.76%,  Loss: 2.99881, ACC: 46.69% "
     ]
    },
    {
     "name": "stdout",
     "output_type": "stream",
     "text": [
      "\n"
     ]
    },
    {
     "name": "stderr",
     "output_type": "stream",
     "text": [
      "1223it [1:51:58,  6.64s/it]00760, Training: 44.80%,  Loss: 2.99868, ACC: 46.69% "
     ]
    },
    {
     "name": "stdout",
     "output_type": "stream",
     "text": [
      "\n"
     ]
    },
    {
     "name": "stderr",
     "output_type": "stream",
     "text": [
      "1224it [1:52:04,  6.63s/it]00760, Training: 44.84%,  Loss: 2.99856, ACC: 46.69% "
     ]
    },
    {
     "name": "stdout",
     "output_type": "stream",
     "text": [
      "\n"
     ]
    },
    {
     "name": "stderr",
     "output_type": "stream",
     "text": [
      "1225it [1:52:11,  6.61s/it]00760, Training: 44.87%,  Loss: 2.99840, ACC: 46.69% "
     ]
    },
    {
     "name": "stdout",
     "output_type": "stream",
     "text": [
      "\n"
     ]
    },
    {
     "name": "stderr",
     "output_type": "stream",
     "text": [
      "1226it [1:52:18,  6.62s/it]00760, Training: 44.91%,  Loss: 2.99853, ACC: 46.69% "
     ]
    },
    {
     "name": "stdout",
     "output_type": "stream",
     "text": [
      "\n"
     ]
    },
    {
     "name": "stderr",
     "output_type": "stream",
     "text": [
      "1227it [1:52:24,  6.58s/it]00760, Training: 44.95%,  Loss: 2.99849, ACC: 46.69% "
     ]
    },
    {
     "name": "stdout",
     "output_type": "stream",
     "text": [
      "\n"
     ]
    },
    {
     "name": "stderr",
     "output_type": "stream",
     "text": [
      "1228it [1:52:31,  6.57s/it]00760, Training: 44.98%,  Loss: 2.99843, ACC: 46.70% "
     ]
    },
    {
     "name": "stdout",
     "output_type": "stream",
     "text": [
      "\n"
     ]
    },
    {
     "name": "stderr",
     "output_type": "stream",
     "text": [
      "1229it [1:52:37,  6.56s/it]00760, Training: 45.02%,  Loss: 2.99818, ACC: 46.70% "
     ]
    },
    {
     "name": "stdout",
     "output_type": "stream",
     "text": [
      "\n"
     ]
    },
    {
     "name": "stderr",
     "output_type": "stream",
     "text": [
      "1230it [1:52:44,  6.56s/it]00760, Training: 45.05%,  Loss: 2.99815, ACC: 46.70% "
     ]
    },
    {
     "name": "stdout",
     "output_type": "stream",
     "text": [
      "\n"
     ]
    },
    {
     "name": "stderr",
     "output_type": "stream",
     "text": [
      "1231it [1:52:51,  6.62s/it]00760, Training: 45.09%,  Loss: 2.99807, ACC: 46.70% "
     ]
    },
    {
     "name": "stdout",
     "output_type": "stream",
     "text": [
      "\n"
     ]
    },
    {
     "name": "stderr",
     "output_type": "stream",
     "text": [
      "1232it [1:52:57,  6.62s/it]00760, Training: 45.13%,  Loss: 2.99791, ACC: 46.71% "
     ]
    },
    {
     "name": "stdout",
     "output_type": "stream",
     "text": [
      "\n"
     ]
    },
    {
     "name": "stderr",
     "output_type": "stream",
     "text": [
      "1233it [1:53:04,  6.62s/it]00760, Training: 45.16%,  Loss: 2.99772, ACC: 46.71% "
     ]
    },
    {
     "name": "stdout",
     "output_type": "stream",
     "text": [
      "\n"
     ]
    },
    {
     "name": "stderr",
     "output_type": "stream",
     "text": [
      "1234it [1:53:10,  6.60s/it]00760, Training: 45.20%,  Loss: 2.99750, ACC: 46.71% "
     ]
    },
    {
     "name": "stdout",
     "output_type": "stream",
     "text": [
      "\n"
     ]
    },
    {
     "name": "stderr",
     "output_type": "stream",
     "text": [
      "1235it [1:53:17,  6.57s/it]00760, Training: 45.24%,  Loss: 2.99755, ACC: 46.71% "
     ]
    },
    {
     "name": "stdout",
     "output_type": "stream",
     "text": [
      "\n"
     ]
    },
    {
     "name": "stderr",
     "output_type": "stream",
     "text": [
      "1236it [1:53:24,  6.63s/it]00760, Training: 45.27%,  Loss: 2.99748, ACC: 46.71% "
     ]
    },
    {
     "name": "stdout",
     "output_type": "stream",
     "text": [
      "\n"
     ]
    },
    {
     "name": "stderr",
     "output_type": "stream",
     "text": [
      "1237it [1:53:30,  6.60s/it]00760, Training: 45.31%,  Loss: 2.99731, ACC: 46.71% "
     ]
    },
    {
     "name": "stdout",
     "output_type": "stream",
     "text": [
      "\n"
     ]
    },
    {
     "name": "stderr",
     "output_type": "stream",
     "text": [
      "1238it [1:53:37,  6.63s/it]00760, Training: 45.35%,  Loss: 2.99713, ACC: 46.71% "
     ]
    },
    {
     "name": "stdout",
     "output_type": "stream",
     "text": [
      "\n"
     ]
    },
    {
     "name": "stderr",
     "output_type": "stream",
     "text": [
      "1239it [1:53:44,  6.65s/it]00760, Training: 45.38%,  Loss: 2.99719, ACC: 46.71% "
     ]
    },
    {
     "name": "stdout",
     "output_type": "stream",
     "text": [
      "\n"
     ]
    },
    {
     "name": "stderr",
     "output_type": "stream",
     "text": [
      "1240it [1:53:50,  6.67s/it]00760, Training: 45.42%,  Loss: 2.99739, ACC: 46.71% "
     ]
    },
    {
     "name": "stdout",
     "output_type": "stream",
     "text": [
      "\n"
     ]
    },
    {
     "name": "stderr",
     "output_type": "stream",
     "text": [
      "1241it [1:53:57,  6.66s/it]00760, Training: 45.46%,  Loss: 2.99717, ACC: 46.71% "
     ]
    },
    {
     "name": "stdout",
     "output_type": "stream",
     "text": [
      "\n"
     ]
    },
    {
     "name": "stderr",
     "output_type": "stream",
     "text": [
      "1242it [1:54:03,  6.60s/it]00760, Training: 45.49%,  Loss: 2.99731, ACC: 46.71% "
     ]
    },
    {
     "name": "stdout",
     "output_type": "stream",
     "text": [
      "\n"
     ]
    },
    {
     "name": "stderr",
     "output_type": "stream",
     "text": [
      "1243it [1:54:10,  6.60s/it]00760, Training: 45.53%,  Loss: 2.99723, ACC: 46.71% "
     ]
    },
    {
     "name": "stdout",
     "output_type": "stream",
     "text": [
      "\n"
     ]
    },
    {
     "name": "stderr",
     "output_type": "stream",
     "text": [
      "1244it [1:54:17,  6.63s/it]00760, Training: 45.57%,  Loss: 2.99732, ACC: 46.71% "
     ]
    },
    {
     "name": "stdout",
     "output_type": "stream",
     "text": [
      "\n"
     ]
    },
    {
     "name": "stderr",
     "output_type": "stream",
     "text": [
      "1245it [1:54:23,  6.64s/it]00760, Training: 45.60%,  Loss: 2.99725, ACC: 46.71% "
     ]
    },
    {
     "name": "stdout",
     "output_type": "stream",
     "text": [
      "\n"
     ]
    },
    {
     "name": "stderr",
     "output_type": "stream",
     "text": [
      "1246it [1:54:30,  6.66s/it]00760, Training: 45.64%,  Loss: 2.99721, ACC: 46.71% "
     ]
    },
    {
     "name": "stdout",
     "output_type": "stream",
     "text": [
      "\n"
     ]
    },
    {
     "name": "stderr",
     "output_type": "stream",
     "text": [
      "1247it [1:54:37,  6.66s/it]00760, Training: 45.68%,  Loss: 2.99704, ACC: 46.72% "
     ]
    },
    {
     "name": "stdout",
     "output_type": "stream",
     "text": [
      "\n"
     ]
    },
    {
     "name": "stderr",
     "output_type": "stream",
     "text": [
      "1248it [1:54:43,  6.65s/it]00760, Training: 45.71%,  Loss: 2.99687, ACC: 46.72% "
     ]
    },
    {
     "name": "stdout",
     "output_type": "stream",
     "text": [
      "\n"
     ]
    },
    {
     "name": "stderr",
     "output_type": "stream",
     "text": [
      "1249it [1:54:50,  6.62s/it]00760, Training: 45.75%,  Loss: 2.99687, ACC: 46.72% "
     ]
    },
    {
     "name": "stdout",
     "output_type": "stream",
     "text": [
      "\n"
     ]
    },
    {
     "name": "stderr",
     "output_type": "stream",
     "text": [
      "1250it [1:54:56,  6.57s/it]00760, Training: 45.79%,  Loss: 2.99679, ACC: 46.72% "
     ]
    },
    {
     "name": "stdout",
     "output_type": "stream",
     "text": [
      "\n"
     ]
    },
    {
     "name": "stderr",
     "output_type": "stream",
     "text": [
      "1251it [1:55:03,  6.60s/it]00760, Training: 45.82%,  Loss: 2.99674, ACC: 46.72% "
     ]
    },
    {
     "name": "stdout",
     "output_type": "stream",
     "text": [
      "\n"
     ]
    },
    {
     "name": "stderr",
     "output_type": "stream",
     "text": [
      "1252it [1:55:10,  6.65s/it]00760, Training: 45.86%,  Loss: 2.99662, ACC: 46.72% "
     ]
    },
    {
     "name": "stdout",
     "output_type": "stream",
     "text": [
      "\n"
     ]
    },
    {
     "name": "stderr",
     "output_type": "stream",
     "text": [
      "1253it [1:55:16,  6.61s/it]00760, Training: 45.90%,  Loss: 2.99677, ACC: 46.72% "
     ]
    },
    {
     "name": "stdout",
     "output_type": "stream",
     "text": [
      "\n"
     ]
    },
    {
     "name": "stderr",
     "output_type": "stream",
     "text": [
      "1254it [1:55:23,  6.61s/it]00760, Training: 45.93%,  Loss: 2.99690, ACC: 46.72% "
     ]
    },
    {
     "name": "stdout",
     "output_type": "stream",
     "text": [
      "\n"
     ]
    },
    {
     "name": "stderr",
     "output_type": "stream",
     "text": [
      "1255it [1:55:29,  6.61s/it]00760, Training: 45.97%,  Loss: 2.99712, ACC: 46.71% "
     ]
    },
    {
     "name": "stdout",
     "output_type": "stream",
     "text": [
      "\n"
     ]
    },
    {
     "name": "stderr",
     "output_type": "stream",
     "text": [
      "1256it [1:55:36,  6.61s/it]00760, Training: 46.01%,  Loss: 2.99708, ACC: 46.71% "
     ]
    },
    {
     "name": "stdout",
     "output_type": "stream",
     "text": [
      "\n"
     ]
    },
    {
     "name": "stderr",
     "output_type": "stream",
     "text": [
      "1257it [1:55:43,  6.59s/it]00760, Training: 46.04%,  Loss: 2.99722, ACC: 46.71% "
     ]
    },
    {
     "name": "stdout",
     "output_type": "stream",
     "text": [
      "\n"
     ]
    },
    {
     "name": "stderr",
     "output_type": "stream",
     "text": [
      "1258it [1:55:49,  6.58s/it]00760, Training: 46.08%,  Loss: 2.99708, ACC: 46.72% "
     ]
    },
    {
     "name": "stdout",
     "output_type": "stream",
     "text": [
      "\n"
     ]
    },
    {
     "name": "stderr",
     "output_type": "stream",
     "text": [
      "1259it [1:55:56,  6.57s/it]00760, Training: 46.12%,  Loss: 2.99727, ACC: 46.72% "
     ]
    },
    {
     "name": "stdout",
     "output_type": "stream",
     "text": [
      "\n"
     ]
    },
    {
     "name": "stderr",
     "output_type": "stream",
     "text": [
      "1260it [1:56:02,  6.54s/it]00760, Training: 46.15%,  Loss: 2.99716, ACC: 46.72% "
     ]
    },
    {
     "name": "stdout",
     "output_type": "stream",
     "text": [
      "\n"
     ]
    },
    {
     "name": "stderr",
     "output_type": "stream",
     "text": [
      "1261it [1:56:09,  6.57s/it]00760, Training: 46.19%,  Loss: 2.99703, ACC: 46.72% "
     ]
    },
    {
     "name": "stdout",
     "output_type": "stream",
     "text": [
      "\n"
     ]
    },
    {
     "name": "stderr",
     "output_type": "stream",
     "text": [
      "1262it [1:56:15,  6.57s/it]00760, Training: 46.23%,  Loss: 2.99716, ACC: 46.71% "
     ]
    },
    {
     "name": "stdout",
     "output_type": "stream",
     "text": [
      "\n"
     ]
    },
    {
     "name": "stderr",
     "output_type": "stream",
     "text": [
      "1263it [1:56:22,  6.60s/it]00760, Training: 46.26%,  Loss: 2.99712, ACC: 46.72% "
     ]
    },
    {
     "name": "stdout",
     "output_type": "stream",
     "text": [
      "\n"
     ]
    },
    {
     "name": "stderr",
     "output_type": "stream",
     "text": [
      "1264it [1:56:29,  6.57s/it]00760, Training: 46.30%,  Loss: 2.99693, ACC: 46.72% "
     ]
    },
    {
     "name": "stdout",
     "output_type": "stream",
     "text": [
      "\n"
     ]
    },
    {
     "name": "stderr",
     "output_type": "stream",
     "text": [
      "1265it [1:56:35,  6.59s/it]00760, Training: 46.34%,  Loss: 2.99677, ACC: 46.72% "
     ]
    },
    {
     "name": "stdout",
     "output_type": "stream",
     "text": [
      "\n"
     ]
    },
    {
     "name": "stderr",
     "output_type": "stream",
     "text": [
      "1266it [1:56:42,  6.58s/it]00760, Training: 46.37%,  Loss: 2.99692, ACC: 46.72% "
     ]
    },
    {
     "name": "stdout",
     "output_type": "stream",
     "text": [
      "\n"
     ]
    },
    {
     "name": "stderr",
     "output_type": "stream",
     "text": [
      "1267it [1:56:48,  6.60s/it]00760, Training: 46.41%,  Loss: 2.99718, ACC: 46.71% "
     ]
    },
    {
     "name": "stdout",
     "output_type": "stream",
     "text": [
      "\n"
     ]
    },
    {
     "name": "stderr",
     "output_type": "stream",
     "text": [
      "1268it [1:56:55,  6.60s/it]00760, Training: 46.45%,  Loss: 2.99697, ACC: 46.71% "
     ]
    },
    {
     "name": "stdout",
     "output_type": "stream",
     "text": [
      "\n"
     ]
    },
    {
     "name": "stderr",
     "output_type": "stream",
     "text": [
      "1269it [1:57:02,  6.62s/it]00760, Training: 46.48%,  Loss: 2.99702, ACC: 46.72% "
     ]
    },
    {
     "name": "stdout",
     "output_type": "stream",
     "text": [
      "\n"
     ]
    },
    {
     "name": "stderr",
     "output_type": "stream",
     "text": [
      "1270it [1:57:08,  6.66s/it]00760, Training: 46.52%,  Loss: 2.99705, ACC: 46.71% "
     ]
    },
    {
     "name": "stdout",
     "output_type": "stream",
     "text": [
      "\n"
     ]
    },
    {
     "name": "stderr",
     "output_type": "stream",
     "text": [
      "1271it [1:57:15,  6.69s/it]00760, Training: 46.56%,  Loss: 2.99699, ACC: 46.71% "
     ]
    },
    {
     "name": "stdout",
     "output_type": "stream",
     "text": [
      "\n"
     ]
    },
    {
     "name": "stderr",
     "output_type": "stream",
     "text": [
      "1272it [1:57:22,  6.71s/it]00760, Training: 46.59%,  Loss: 2.99699, ACC: 46.71% "
     ]
    },
    {
     "name": "stdout",
     "output_type": "stream",
     "text": [
      "\n"
     ]
    },
    {
     "name": "stderr",
     "output_type": "stream",
     "text": [
      "1273it [1:57:29,  6.69s/it]00760, Training: 46.63%,  Loss: 2.99698, ACC: 46.72% "
     ]
    },
    {
     "name": "stdout",
     "output_type": "stream",
     "text": [
      "\n"
     ]
    },
    {
     "name": "stderr",
     "output_type": "stream",
     "text": [
      "1274it [1:57:35,  6.71s/it]00760, Training: 46.67%,  Loss: 2.99693, ACC: 46.72% "
     ]
    },
    {
     "name": "stdout",
     "output_type": "stream",
     "text": [
      "\n"
     ]
    },
    {
     "name": "stderr",
     "output_type": "stream",
     "text": [
      "1275it [1:57:42,  6.73s/it]00760, Training: 46.70%,  Loss: 2.99688, ACC: 46.72% "
     ]
    },
    {
     "name": "stdout",
     "output_type": "stream",
     "text": [
      "\n"
     ]
    },
    {
     "name": "stderr",
     "output_type": "stream",
     "text": [
      "1276it [1:57:49,  6.69s/it]00760, Training: 46.74%,  Loss: 2.99677, ACC: 46.72% "
     ]
    },
    {
     "name": "stdout",
     "output_type": "stream",
     "text": [
      "\n"
     ]
    },
    {
     "name": "stderr",
     "output_type": "stream",
     "text": [
      "1277it [1:57:55,  6.66s/it]00760, Training: 46.78%,  Loss: 2.99686, ACC: 46.71% "
     ]
    },
    {
     "name": "stdout",
     "output_type": "stream",
     "text": [
      "\n"
     ]
    },
    {
     "name": "stderr",
     "output_type": "stream",
     "text": [
      "1278it [1:58:02,  6.66s/it]00760, Training: 46.81%,  Loss: 2.99694, ACC: 46.71% "
     ]
    },
    {
     "name": "stdout",
     "output_type": "stream",
     "text": [
      "\n"
     ]
    },
    {
     "name": "stderr",
     "output_type": "stream",
     "text": [
      "1279it [1:58:09,  6.67s/it]00760, Training: 46.85%,  Loss: 2.99687, ACC: 46.71% "
     ]
    },
    {
     "name": "stdout",
     "output_type": "stream",
     "text": [
      "\n"
     ]
    },
    {
     "name": "stderr",
     "output_type": "stream",
     "text": [
      "1280it [1:58:15,  6.62s/it]00760, Training: 46.89%,  Loss: 2.99671, ACC: 46.71% "
     ]
    },
    {
     "name": "stdout",
     "output_type": "stream",
     "text": [
      "\n"
     ]
    },
    {
     "name": "stderr",
     "output_type": "stream",
     "text": [
      "1281it [1:58:22,  6.59s/it]00760, Training: 46.92%,  Loss: 2.99676, ACC: 46.71% "
     ]
    },
    {
     "name": "stdout",
     "output_type": "stream",
     "text": [
      "\n"
     ]
    },
    {
     "name": "stderr",
     "output_type": "stream",
     "text": [
      "1282it [1:58:28,  6.58s/it]00760, Training: 46.96%,  Loss: 2.99665, ACC: 46.71% "
     ]
    },
    {
     "name": "stdout",
     "output_type": "stream",
     "text": [
      "\n"
     ]
    },
    {
     "name": "stderr",
     "output_type": "stream",
     "text": [
      "1283it [1:58:35,  6.57s/it]00760, Training: 47.00%,  Loss: 2.99679, ACC: 46.71% "
     ]
    },
    {
     "name": "stdout",
     "output_type": "stream",
     "text": [
      "\n"
     ]
    },
    {
     "name": "stderr",
     "output_type": "stream",
     "text": [
      "1284it [1:58:41,  6.55s/it]00760, Training: 47.03%,  Loss: 2.99687, ACC: 46.71% "
     ]
    },
    {
     "name": "stdout",
     "output_type": "stream",
     "text": [
      "\n"
     ]
    },
    {
     "name": "stderr",
     "output_type": "stream",
     "text": [
      "1285it [1:58:48,  6.52s/it]00760, Training: 47.07%,  Loss: 2.99692, ACC: 46.71% "
     ]
    },
    {
     "name": "stdout",
     "output_type": "stream",
     "text": [
      "\n"
     ]
    },
    {
     "name": "stderr",
     "output_type": "stream",
     "text": [
      "1286it [1:58:54,  6.52s/it]00760, Training: 47.11%,  Loss: 2.99705, ACC: 46.71% "
     ]
    },
    {
     "name": "stdout",
     "output_type": "stream",
     "text": [
      "\n"
     ]
    },
    {
     "name": "stderr",
     "output_type": "stream",
     "text": [
      "1287it [1:59:01,  6.56s/it]00760, Training: 47.14%,  Loss: 2.99718, ACC: 46.71% "
     ]
    },
    {
     "name": "stdout",
     "output_type": "stream",
     "text": [
      "\n"
     ]
    },
    {
     "name": "stderr",
     "output_type": "stream",
     "text": [
      "1288it [1:59:07,  6.52s/it]00760, Training: 47.18%,  Loss: 2.99709, ACC: 46.71% "
     ]
    },
    {
     "name": "stdout",
     "output_type": "stream",
     "text": [
      "\n"
     ]
    },
    {
     "name": "stderr",
     "output_type": "stream",
     "text": [
      "1289it [1:59:14,  6.55s/it]00760, Training: 47.22%,  Loss: 2.99698, ACC: 46.71% "
     ]
    },
    {
     "name": "stdout",
     "output_type": "stream",
     "text": [
      "\n"
     ]
    },
    {
     "name": "stderr",
     "output_type": "stream",
     "text": [
      "1290it [1:59:21,  6.59s/it]00760, Training: 47.25%,  Loss: 2.99690, ACC: 46.71% "
     ]
    },
    {
     "name": "stdout",
     "output_type": "stream",
     "text": [
      "\n"
     ]
    },
    {
     "name": "stderr",
     "output_type": "stream",
     "text": [
      "1291it [1:59:27,  6.56s/it]00760, Training: 47.29%,  Loss: 2.99698, ACC: 46.71% "
     ]
    },
    {
     "name": "stdout",
     "output_type": "stream",
     "text": [
      "\n"
     ]
    },
    {
     "name": "stderr",
     "output_type": "stream",
     "text": [
      "1292it [1:59:34,  6.55s/it]00760, Training: 47.33%,  Loss: 2.99683, ACC: 46.71% "
     ]
    },
    {
     "name": "stdout",
     "output_type": "stream",
     "text": [
      "\n"
     ]
    },
    {
     "name": "stderr",
     "output_type": "stream",
     "text": [
      "1293it [1:59:40,  6.60s/it]00760, Training: 47.36%,  Loss: 2.99669, ACC: 46.71% "
     ]
    },
    {
     "name": "stdout",
     "output_type": "stream",
     "text": [
      "\n"
     ]
    },
    {
     "name": "stderr",
     "output_type": "stream",
     "text": [
      "1294it [1:59:47,  6.56s/it]00760, Training: 47.40%,  Loss: 2.99669, ACC: 46.71% "
     ]
    },
    {
     "name": "stdout",
     "output_type": "stream",
     "text": [
      "\n"
     ]
    },
    {
     "name": "stderr",
     "output_type": "stream",
     "text": [
      "1295it [1:59:53,  6.52s/it]00760, Training: 47.44%,  Loss: 2.99642, ACC: 46.71% "
     ]
    },
    {
     "name": "stdout",
     "output_type": "stream",
     "text": [
      "\n"
     ]
    },
    {
     "name": "stderr",
     "output_type": "stream",
     "text": [
      "1296it [2:00:00,  6.54s/it]00760, Training: 47.47%,  Loss: 2.99653, ACC: 46.71% "
     ]
    },
    {
     "name": "stdout",
     "output_type": "stream",
     "text": [
      "\n"
     ]
    },
    {
     "name": "stderr",
     "output_type": "stream",
     "text": [
      "1297it [2:00:06,  6.53s/it]00760, Training: 47.51%,  Loss: 2.99647, ACC: 46.71% "
     ]
    },
    {
     "name": "stdout",
     "output_type": "stream",
     "text": [
      "\n"
     ]
    },
    {
     "name": "stderr",
     "output_type": "stream",
     "text": [
      "1298it [2:00:13,  6.56s/it]00760, Training: 47.55%,  Loss: 2.99643, ACC: 46.71% "
     ]
    },
    {
     "name": "stdout",
     "output_type": "stream",
     "text": [
      "\n"
     ]
    },
    {
     "name": "stderr",
     "output_type": "stream",
     "text": [
      "1299it [2:00:20,  6.55s/it]00760, Training: 47.58%,  Loss: 2.99643, ACC: 46.72% "
     ]
    },
    {
     "name": "stdout",
     "output_type": "stream",
     "text": [
      "\n"
     ]
    },
    {
     "name": "stderr",
     "output_type": "stream",
     "text": [
      "1300it [2:00:26,  6.55s/it]00760, Training: 47.62%,  Loss: 2.99650, ACC: 46.71% "
     ]
    },
    {
     "name": "stdout",
     "output_type": "stream",
     "text": [
      "\n"
     ]
    },
    {
     "name": "stderr",
     "output_type": "stream",
     "text": [
      "1301it [2:00:33,  6.56s/it]00760, Training: 47.66%,  Loss: 2.99645, ACC: 46.71% "
     ]
    },
    {
     "name": "stdout",
     "output_type": "stream",
     "text": [
      "\n"
     ]
    },
    {
     "name": "stderr",
     "output_type": "stream",
     "text": [
      "1302it [2:00:39,  6.54s/it]00760, Training: 47.69%,  Loss: 2.99647, ACC: 46.71% "
     ]
    },
    {
     "name": "stdout",
     "output_type": "stream",
     "text": [
      "\n"
     ]
    },
    {
     "name": "stderr",
     "output_type": "stream",
     "text": [
      "1303it [2:00:46,  6.56s/it]00760, Training: 47.73%,  Loss: 2.99632, ACC: 46.71% "
     ]
    },
    {
     "name": "stdout",
     "output_type": "stream",
     "text": [
      "\n"
     ]
    },
    {
     "name": "stderr",
     "output_type": "stream",
     "text": [
      "1304it [2:00:52,  6.57s/it]00760, Training: 47.77%,  Loss: 2.99653, ACC: 46.71% "
     ]
    },
    {
     "name": "stdout",
     "output_type": "stream",
     "text": [
      "\n"
     ]
    },
    {
     "name": "stderr",
     "output_type": "stream",
     "text": [
      "1305it [2:00:59,  6.56s/it]00760, Training: 47.80%,  Loss: 2.99636, ACC: 46.71% "
     ]
    },
    {
     "name": "stdout",
     "output_type": "stream",
     "text": [
      "\n"
     ]
    },
    {
     "name": "stderr",
     "output_type": "stream",
     "text": [
      "1306it [2:01:05,  6.58s/it]00760, Training: 47.84%,  Loss: 2.99649, ACC: 46.71% "
     ]
    },
    {
     "name": "stdout",
     "output_type": "stream",
     "text": [
      "\n"
     ]
    },
    {
     "name": "stderr",
     "output_type": "stream",
     "text": [
      "1307it [2:01:12,  6.58s/it]00760, Training: 47.88%,  Loss: 2.99648, ACC: 46.71% "
     ]
    },
    {
     "name": "stdout",
     "output_type": "stream",
     "text": [
      "\n"
     ]
    },
    {
     "name": "stderr",
     "output_type": "stream",
     "text": [
      "1308it [2:01:19,  6.55s/it]00760, Training: 47.91%,  Loss: 2.99638, ACC: 46.71% "
     ]
    },
    {
     "name": "stdout",
     "output_type": "stream",
     "text": [
      "\n"
     ]
    },
    {
     "name": "stderr",
     "output_type": "stream",
     "text": [
      "1309it [2:01:25,  6.56s/it]00760, Training: 47.95%,  Loss: 2.99641, ACC: 46.71% "
     ]
    },
    {
     "name": "stdout",
     "output_type": "stream",
     "text": [
      "\n"
     ]
    },
    {
     "name": "stderr",
     "output_type": "stream",
     "text": [
      "1310it [2:01:32,  6.55s/it]00760, Training: 47.99%,  Loss: 2.99621, ACC: 46.71% "
     ]
    },
    {
     "name": "stdout",
     "output_type": "stream",
     "text": [
      "\n"
     ]
    },
    {
     "name": "stderr",
     "output_type": "stream",
     "text": [
      "1311it [2:01:38,  6.54s/it]00760, Training: 48.02%,  Loss: 2.99626, ACC: 46.71% "
     ]
    },
    {
     "name": "stdout",
     "output_type": "stream",
     "text": [
      "\n"
     ]
    },
    {
     "name": "stderr",
     "output_type": "stream",
     "text": [
      "1312it [2:01:45,  6.59s/it]00760, Training: 48.06%,  Loss: 2.99629, ACC: 46.71% "
     ]
    },
    {
     "name": "stdout",
     "output_type": "stream",
     "text": [
      "\n"
     ]
    },
    {
     "name": "stderr",
     "output_type": "stream",
     "text": [
      "1313it [2:01:51,  6.54s/it]00760, Training: 48.10%,  Loss: 2.99625, ACC: 46.71% "
     ]
    },
    {
     "name": "stdout",
     "output_type": "stream",
     "text": [
      "\n"
     ]
    },
    {
     "name": "stderr",
     "output_type": "stream",
     "text": [
      "1314it [2:01:58,  6.57s/it]00760, Training: 48.13%,  Loss: 2.99638, ACC: 46.71% "
     ]
    },
    {
     "name": "stdout",
     "output_type": "stream",
     "text": [
      "\n"
     ]
    },
    {
     "name": "stderr",
     "output_type": "stream",
     "text": [
      "1315it [2:02:05,  6.61s/it]00760, Training: 48.17%,  Loss: 2.99643, ACC: 46.71% "
     ]
    },
    {
     "name": "stdout",
     "output_type": "stream",
     "text": [
      "\n"
     ]
    },
    {
     "name": "stderr",
     "output_type": "stream",
     "text": [
      "1316it [2:02:11,  6.59s/it]00760, Training: 48.21%,  Loss: 2.99627, ACC: 46.71% "
     ]
    },
    {
     "name": "stdout",
     "output_type": "stream",
     "text": [
      "\n"
     ]
    },
    {
     "name": "stderr",
     "output_type": "stream",
     "text": [
      "1317it [2:02:18,  6.60s/it]00760, Training: 48.24%,  Loss: 2.99626, ACC: 46.71% "
     ]
    },
    {
     "name": "stdout",
     "output_type": "stream",
     "text": [
      "\n"
     ]
    },
    {
     "name": "stderr",
     "output_type": "stream",
     "text": [
      "1318it [2:02:24,  6.60s/it]00760, Training: 48.28%,  Loss: 2.99620, ACC: 46.71% "
     ]
    },
    {
     "name": "stdout",
     "output_type": "stream",
     "text": [
      "\n"
     ]
    },
    {
     "name": "stderr",
     "output_type": "stream",
     "text": [
      "1319it [2:02:31,  6.58s/it]00760, Training: 48.32%,  Loss: 2.99615, ACC: 46.71% "
     ]
    },
    {
     "name": "stdout",
     "output_type": "stream",
     "text": [
      "\n"
     ]
    },
    {
     "name": "stderr",
     "output_type": "stream",
     "text": [
      "1320it [2:02:38,  6.60s/it]00760, Training: 48.35%,  Loss: 2.99617, ACC: 46.72% "
     ]
    },
    {
     "name": "stdout",
     "output_type": "stream",
     "text": [
      "\n"
     ]
    },
    {
     "name": "stderr",
     "output_type": "stream",
     "text": [
      "1321it [2:02:44,  6.57s/it]00760, Training: 48.39%,  Loss: 2.99609, ACC: 46.72% "
     ]
    },
    {
     "name": "stdout",
     "output_type": "stream",
     "text": [
      "\n"
     ]
    },
    {
     "name": "stderr",
     "output_type": "stream",
     "text": [
      "1322it [2:02:50,  6.51s/it]00760, Training: 48.42%,  Loss: 2.99594, ACC: 46.72% "
     ]
    },
    {
     "name": "stdout",
     "output_type": "stream",
     "text": [
      "\n"
     ]
    },
    {
     "name": "stderr",
     "output_type": "stream",
     "text": [
      "1323it [2:02:57,  6.58s/it]00760, Training: 48.46%,  Loss: 2.99623, ACC: 46.72% "
     ]
    },
    {
     "name": "stdout",
     "output_type": "stream",
     "text": [
      "\n"
     ]
    },
    {
     "name": "stderr",
     "output_type": "stream",
     "text": [
      "1324it [2:03:04,  6.58s/it]00760, Training: 48.50%,  Loss: 2.99610, ACC: 46.72% "
     ]
    },
    {
     "name": "stdout",
     "output_type": "stream",
     "text": [
      "\n"
     ]
    },
    {
     "name": "stderr",
     "output_type": "stream",
     "text": [
      "1325it [2:03:10,  6.56s/it]00760, Training: 48.53%,  Loss: 2.99633, ACC: 46.72% "
     ]
    },
    {
     "name": "stdout",
     "output_type": "stream",
     "text": [
      "\n"
     ]
    },
    {
     "name": "stderr",
     "output_type": "stream",
     "text": [
      "1326it [2:03:17,  6.60s/it]00760, Training: 48.57%,  Loss: 2.99628, ACC: 46.72% "
     ]
    },
    {
     "name": "stdout",
     "output_type": "stream",
     "text": [
      "\n"
     ]
    },
    {
     "name": "stderr",
     "output_type": "stream",
     "text": [
      "1327it [2:03:24,  6.59s/it]00760, Training: 48.61%,  Loss: 2.99609, ACC: 46.72% "
     ]
    },
    {
     "name": "stdout",
     "output_type": "stream",
     "text": [
      "\n"
     ]
    },
    {
     "name": "stderr",
     "output_type": "stream",
     "text": [
      "1328it [2:03:30,  6.58s/it]00760, Training: 48.64%,  Loss: 2.99593, ACC: 46.72% "
     ]
    },
    {
     "name": "stdout",
     "output_type": "stream",
     "text": [
      "\n"
     ]
    },
    {
     "name": "stderr",
     "output_type": "stream",
     "text": [
      "1329it [2:03:37,  6.56s/it]00760, Training: 48.68%,  Loss: 2.99591, ACC: 46.73% "
     ]
    },
    {
     "name": "stdout",
     "output_type": "stream",
     "text": [
      "\n"
     ]
    },
    {
     "name": "stderr",
     "output_type": "stream",
     "text": [
      "1330it [2:03:43,  6.55s/it]00760, Training: 48.72%,  Loss: 2.99577, ACC: 46.73% "
     ]
    },
    {
     "name": "stdout",
     "output_type": "stream",
     "text": [
      "\n"
     ]
    },
    {
     "name": "stderr",
     "output_type": "stream",
     "text": [
      "1331it [2:03:50,  6.52s/it]00760, Training: 48.75%,  Loss: 2.99578, ACC: 46.73% "
     ]
    },
    {
     "name": "stdout",
     "output_type": "stream",
     "text": [
      "\n"
     ]
    },
    {
     "name": "stderr",
     "output_type": "stream",
     "text": [
      "1332it [2:03:56,  6.52s/it]00760, Training: 48.79%,  Loss: 2.99575, ACC: 46.73% "
     ]
    },
    {
     "name": "stdout",
     "output_type": "stream",
     "text": [
      "\n"
     ]
    },
    {
     "name": "stderr",
     "output_type": "stream",
     "text": [
      "1333it [2:04:03,  6.52s/it]00760, Training: 48.83%,  Loss: 2.99571, ACC: 46.73% "
     ]
    },
    {
     "name": "stdout",
     "output_type": "stream",
     "text": [
      "\n"
     ]
    },
    {
     "name": "stderr",
     "output_type": "stream",
     "text": [
      "1334it [2:04:09,  6.50s/it]00760, Training: 48.86%,  Loss: 2.99554, ACC: 46.73% "
     ]
    },
    {
     "name": "stdout",
     "output_type": "stream",
     "text": [
      "\n"
     ]
    },
    {
     "name": "stderr",
     "output_type": "stream",
     "text": [
      "1335it [2:04:16,  6.52s/it]00760, Training: 48.90%,  Loss: 2.99545, ACC: 46.73% "
     ]
    },
    {
     "name": "stdout",
     "output_type": "stream",
     "text": [
      "\n"
     ]
    },
    {
     "name": "stderr",
     "output_type": "stream",
     "text": [
      "1336it [2:04:22,  6.56s/it]00760, Training: 48.94%,  Loss: 2.99540, ACC: 46.73% "
     ]
    },
    {
     "name": "stdout",
     "output_type": "stream",
     "text": [
      "\n"
     ]
    },
    {
     "name": "stderr",
     "output_type": "stream",
     "text": [
      "1337it [2:04:29,  6.54s/it]00760, Training: 48.97%,  Loss: 2.99557, ACC: 46.73% "
     ]
    },
    {
     "name": "stdout",
     "output_type": "stream",
     "text": [
      "\n"
     ]
    },
    {
     "name": "stderr",
     "output_type": "stream",
     "text": [
      "1338it [2:04:36,  6.61s/it]00760, Training: 49.01%,  Loss: 2.99586, ACC: 46.72% "
     ]
    },
    {
     "name": "stdout",
     "output_type": "stream",
     "text": [
      "\n"
     ]
    },
    {
     "name": "stderr",
     "output_type": "stream",
     "text": [
      "1339it [2:04:42,  6.60s/it]00760, Training: 49.05%,  Loss: 2.99602, ACC: 46.72% "
     ]
    },
    {
     "name": "stdout",
     "output_type": "stream",
     "text": [
      "\n"
     ]
    },
    {
     "name": "stderr",
     "output_type": "stream",
     "text": [
      "1340it [2:04:49,  6.60s/it]00760, Training: 49.08%,  Loss: 2.99607, ACC: 46.72% "
     ]
    },
    {
     "name": "stdout",
     "output_type": "stream",
     "text": [
      "\n"
     ]
    },
    {
     "name": "stderr",
     "output_type": "stream",
     "text": [
      "1341it [2:04:55,  6.63s/it]00760, Training: 49.12%,  Loss: 2.99620, ACC: 46.72% "
     ]
    },
    {
     "name": "stdout",
     "output_type": "stream",
     "text": [
      "\n"
     ]
    },
    {
     "name": "stderr",
     "output_type": "stream",
     "text": [
      "1342it [2:05:02,  6.58s/it]00760, Training: 49.16%,  Loss: 2.99603, ACC: 46.73% "
     ]
    },
    {
     "name": "stdout",
     "output_type": "stream",
     "text": [
      "\n"
     ]
    },
    {
     "name": "stderr",
     "output_type": "stream",
     "text": [
      "1343it [2:05:08,  6.57s/it]00760, Training: 49.19%,  Loss: 2.99603, ACC: 46.72% "
     ]
    },
    {
     "name": "stdout",
     "output_type": "stream",
     "text": [
      "\n"
     ]
    },
    {
     "name": "stderr",
     "output_type": "stream",
     "text": [
      "1344it [2:05:15,  6.57s/it]00760, Training: 49.23%,  Loss: 2.99595, ACC: 46.72% "
     ]
    },
    {
     "name": "stdout",
     "output_type": "stream",
     "text": [
      "\n"
     ]
    },
    {
     "name": "stderr",
     "output_type": "stream",
     "text": [
      "1345it [2:05:22,  6.57s/it]00760, Training: 49.27%,  Loss: 2.99599, ACC: 46.72% "
     ]
    },
    {
     "name": "stdout",
     "output_type": "stream",
     "text": [
      "\n"
     ]
    },
    {
     "name": "stderr",
     "output_type": "stream",
     "text": [
      "1346it [2:05:28,  6.56s/it]00760, Training: 49.30%,  Loss: 2.99581, ACC: 46.72% "
     ]
    },
    {
     "name": "stdout",
     "output_type": "stream",
     "text": [
      "\n"
     ]
    },
    {
     "name": "stderr",
     "output_type": "stream",
     "text": [
      "1347it [2:05:35,  6.57s/it]00760, Training: 49.34%,  Loss: 2.99566, ACC: 46.72% "
     ]
    },
    {
     "name": "stdout",
     "output_type": "stream",
     "text": [
      "\n"
     ]
    },
    {
     "name": "stderr",
     "output_type": "stream",
     "text": [
      "1348it [2:05:41,  6.56s/it]00760, Training: 49.38%,  Loss: 2.99583, ACC: 46.72% "
     ]
    },
    {
     "name": "stdout",
     "output_type": "stream",
     "text": [
      "\n"
     ]
    },
    {
     "name": "stderr",
     "output_type": "stream",
     "text": [
      "1349it [2:05:48,  6.55s/it]00760, Training: 49.41%,  Loss: 2.99581, ACC: 46.72% "
     ]
    },
    {
     "name": "stdout",
     "output_type": "stream",
     "text": [
      "\n"
     ]
    },
    {
     "name": "stderr",
     "output_type": "stream",
     "text": [
      "1350it [2:05:54,  6.55s/it]00760, Training: 49.45%,  Loss: 2.99592, ACC: 46.72% "
     ]
    },
    {
     "name": "stdout",
     "output_type": "stream",
     "text": [
      "\n"
     ]
    },
    {
     "name": "stderr",
     "output_type": "stream",
     "text": [
      "1351it [2:06:01,  6.58s/it]00760, Training: 49.49%,  Loss: 2.99604, ACC: 46.72% "
     ]
    },
    {
     "name": "stdout",
     "output_type": "stream",
     "text": [
      "\n"
     ]
    },
    {
     "name": "stderr",
     "output_type": "stream",
     "text": [
      "1352it [2:06:07,  6.54s/it]00760, Training: 49.52%,  Loss: 2.99600, ACC: 46.72% "
     ]
    },
    {
     "name": "stdout",
     "output_type": "stream",
     "text": [
      "\n"
     ]
    },
    {
     "name": "stderr",
     "output_type": "stream",
     "text": [
      "1353it [2:06:14,  6.57s/it]00760, Training: 49.56%,  Loss: 2.99627, ACC: 46.71% "
     ]
    },
    {
     "name": "stdout",
     "output_type": "stream",
     "text": [
      "\n"
     ]
    },
    {
     "name": "stderr",
     "output_type": "stream",
     "text": [
      "1354it [2:06:21,  6.57s/it]00760, Training: 49.60%,  Loss: 2.99636, ACC: 46.71% "
     ]
    },
    {
     "name": "stdout",
     "output_type": "stream",
     "text": [
      "\n"
     ]
    },
    {
     "name": "stderr",
     "output_type": "stream",
     "text": [
      "1355it [2:06:27,  6.58s/it]00760, Training: 49.63%,  Loss: 2.99629, ACC: 46.71% "
     ]
    },
    {
     "name": "stdout",
     "output_type": "stream",
     "text": [
      "\n"
     ]
    },
    {
     "name": "stderr",
     "output_type": "stream",
     "text": [
      "1356it [2:06:34,  6.57s/it]00760, Training: 49.67%,  Loss: 2.99606, ACC: 46.72% "
     ]
    },
    {
     "name": "stdout",
     "output_type": "stream",
     "text": [
      "\n"
     ]
    },
    {
     "name": "stderr",
     "output_type": "stream",
     "text": [
      "1357it [2:06:40,  6.52s/it]00760, Training: 49.71%,  Loss: 2.99585, ACC: 46.72% "
     ]
    },
    {
     "name": "stdout",
     "output_type": "stream",
     "text": [
      "\n"
     ]
    },
    {
     "name": "stderr",
     "output_type": "stream",
     "text": [
      "1358it [2:06:47,  6.56s/it]00760, Training: 49.74%,  Loss: 2.99588, ACC: 46.72% "
     ]
    },
    {
     "name": "stdout",
     "output_type": "stream",
     "text": [
      "\n"
     ]
    },
    {
     "name": "stderr",
     "output_type": "stream",
     "text": [
      "1359it [2:06:54,  6.63s/it]00760, Training: 49.78%,  Loss: 2.99602, ACC: 46.72% "
     ]
    },
    {
     "name": "stdout",
     "output_type": "stream",
     "text": [
      "\n"
     ]
    },
    {
     "name": "stderr",
     "output_type": "stream",
     "text": [
      "1360it [2:07:00,  6.63s/it]00760, Training: 49.82%,  Loss: 2.99619, ACC: 46.72% "
     ]
    },
    {
     "name": "stdout",
     "output_type": "stream",
     "text": [
      "\n"
     ]
    },
    {
     "name": "stderr",
     "output_type": "stream",
     "text": [
      "1361it [2:07:07,  6.59s/it]00760, Training: 49.85%,  Loss: 2.99619, ACC: 46.72% "
     ]
    },
    {
     "name": "stdout",
     "output_type": "stream",
     "text": [
      "\n"
     ]
    },
    {
     "name": "stderr",
     "output_type": "stream",
     "text": [
      "1362it [2:07:13,  6.59s/it]00760, Training: 49.89%,  Loss: 2.99631, ACC: 46.72% "
     ]
    },
    {
     "name": "stdout",
     "output_type": "stream",
     "text": [
      "\n"
     ]
    },
    {
     "name": "stderr",
     "output_type": "stream",
     "text": [
      "1363it [2:07:20,  6.58s/it]00760, Training: 49.93%,  Loss: 2.99619, ACC: 46.72% "
     ]
    },
    {
     "name": "stdout",
     "output_type": "stream",
     "text": [
      "\n"
     ]
    },
    {
     "name": "stderr",
     "output_type": "stream",
     "text": [
      "1364it [2:07:26,  6.54s/it]00760, Training: 49.96%,  Loss: 2.99624, ACC: 46.72% "
     ]
    },
    {
     "name": "stdout",
     "output_type": "stream",
     "text": [
      "\n"
     ]
    },
    {
     "name": "stderr",
     "output_type": "stream",
     "text": [
      "1365it [2:07:33,  6.60s/it]00760, Training: 50.00%,  Loss: 2.99633, ACC: 46.72% "
     ]
    },
    {
     "name": "stdout",
     "output_type": "stream",
     "text": [
      "\n"
     ]
    },
    {
     "name": "stderr",
     "output_type": "stream",
     "text": [
      "1366it [2:07:40,  6.64s/it]00760, Training: 50.04%,  Loss: 2.99647, ACC: 46.72% "
     ]
    },
    {
     "name": "stdout",
     "output_type": "stream",
     "text": [
      "\n"
     ]
    },
    {
     "name": "stderr",
     "output_type": "stream",
     "text": [
      "1367it [2:07:47,  6.65s/it]00760, Training: 50.07%,  Loss: 2.99679, ACC: 46.71% "
     ]
    },
    {
     "name": "stdout",
     "output_type": "stream",
     "text": [
      "\n"
     ]
    },
    {
     "name": "stderr",
     "output_type": "stream",
     "text": [
      "1368it [2:07:53,  6.65s/it]00760, Training: 50.11%,  Loss: 2.99671, ACC: 46.71% "
     ]
    },
    {
     "name": "stdout",
     "output_type": "stream",
     "text": [
      "\n"
     ]
    },
    {
     "name": "stderr",
     "output_type": "stream",
     "text": [
      "1369it [2:08:00,  6.68s/it]00760, Training: 50.15%,  Loss: 2.99671, ACC: 46.71% "
     ]
    },
    {
     "name": "stdout",
     "output_type": "stream",
     "text": [
      "\n"
     ]
    },
    {
     "name": "stderr",
     "output_type": "stream",
     "text": [
      "1370it [2:08:07,  6.68s/it]00760, Training: 50.18%,  Loss: 2.99689, ACC: 46.71% "
     ]
    },
    {
     "name": "stdout",
     "output_type": "stream",
     "text": [
      "\n"
     ]
    },
    {
     "name": "stderr",
     "output_type": "stream",
     "text": [
      "1371it [2:08:13,  6.67s/it]00760, Training: 50.22%,  Loss: 2.99698, ACC: 46.70% "
     ]
    },
    {
     "name": "stdout",
     "output_type": "stream",
     "text": [
      "\n"
     ]
    },
    {
     "name": "stderr",
     "output_type": "stream",
     "text": [
      "1372it [2:08:20,  6.62s/it]00760, Training: 50.26%,  Loss: 2.99717, ACC: 46.70% "
     ]
    },
    {
     "name": "stdout",
     "output_type": "stream",
     "text": [
      "\n"
     ]
    },
    {
     "name": "stderr",
     "output_type": "stream",
     "text": [
      "1373it [2:08:26,  6.61s/it]00760, Training: 50.29%,  Loss: 2.99731, ACC: 46.70% "
     ]
    },
    {
     "name": "stdout",
     "output_type": "stream",
     "text": [
      "\n"
     ]
    },
    {
     "name": "stderr",
     "output_type": "stream",
     "text": [
      "1374it [2:08:33,  6.63s/it]00760, Training: 50.33%,  Loss: 2.99742, ACC: 46.70% "
     ]
    },
    {
     "name": "stdout",
     "output_type": "stream",
     "text": [
      "\n"
     ]
    },
    {
     "name": "stderr",
     "output_type": "stream",
     "text": [
      "1375it [2:08:40,  6.60s/it]00760, Training: 50.37%,  Loss: 2.99732, ACC: 46.70% "
     ]
    },
    {
     "name": "stdout",
     "output_type": "stream",
     "text": [
      "\n"
     ]
    },
    {
     "name": "stderr",
     "output_type": "stream",
     "text": [
      "1376it [2:08:46,  6.56s/it]00760, Training: 50.40%,  Loss: 2.99710, ACC: 46.70% "
     ]
    },
    {
     "name": "stdout",
     "output_type": "stream",
     "text": [
      "\n"
     ]
    },
    {
     "name": "stderr",
     "output_type": "stream",
     "text": [
      "1377it [2:08:53,  6.59s/it]00760, Training: 50.44%,  Loss: 2.99719, ACC: 46.70% "
     ]
    },
    {
     "name": "stdout",
     "output_type": "stream",
     "text": [
      "\n"
     ]
    },
    {
     "name": "stderr",
     "output_type": "stream",
     "text": [
      "1378it [2:08:59,  6.60s/it]00760, Training: 50.48%,  Loss: 2.99716, ACC: 46.70% "
     ]
    },
    {
     "name": "stdout",
     "output_type": "stream",
     "text": [
      "\n"
     ]
    },
    {
     "name": "stderr",
     "output_type": "stream",
     "text": [
      "1379it [2:09:06,  6.67s/it]00760, Training: 50.51%,  Loss: 2.99709, ACC: 46.71% "
     ]
    },
    {
     "name": "stdout",
     "output_type": "stream",
     "text": [
      "\n"
     ]
    },
    {
     "name": "stderr",
     "output_type": "stream",
     "text": [
      "1380it [2:09:13,  6.61s/it]00760, Training: 50.55%,  Loss: 2.99729, ACC: 46.71% "
     ]
    },
    {
     "name": "stdout",
     "output_type": "stream",
     "text": [
      "\n"
     ]
    },
    {
     "name": "stderr",
     "output_type": "stream",
     "text": [
      "1381it [2:09:19,  6.59s/it]00760, Training: 50.59%,  Loss: 2.99727, ACC: 46.71% "
     ]
    },
    {
     "name": "stdout",
     "output_type": "stream",
     "text": [
      "\n"
     ]
    },
    {
     "name": "stderr",
     "output_type": "stream",
     "text": [
      "1382it [2:09:26,  6.59s/it]00760, Training: 50.62%,  Loss: 2.99726, ACC: 46.70% "
     ]
    },
    {
     "name": "stdout",
     "output_type": "stream",
     "text": [
      "\n"
     ]
    },
    {
     "name": "stderr",
     "output_type": "stream",
     "text": [
      "1383it [2:09:32,  6.62s/it]00760, Training: 50.66%,  Loss: 2.99718, ACC: 46.71% "
     ]
    },
    {
     "name": "stdout",
     "output_type": "stream",
     "text": [
      "\n"
     ]
    },
    {
     "name": "stderr",
     "output_type": "stream",
     "text": [
      "1384it [2:09:39,  6.60s/it]00760, Training: 50.70%,  Loss: 2.99720, ACC: 46.71% "
     ]
    },
    {
     "name": "stdout",
     "output_type": "stream",
     "text": [
      "\n"
     ]
    },
    {
     "name": "stderr",
     "output_type": "stream",
     "text": [
      "1385it [2:09:46,  6.60s/it]00760, Training: 50.73%,  Loss: 2.99715, ACC: 46.71% "
     ]
    },
    {
     "name": "stdout",
     "output_type": "stream",
     "text": [
      "\n"
     ]
    },
    {
     "name": "stderr",
     "output_type": "stream",
     "text": [
      "1386it [2:09:52,  6.56s/it]00760, Training: 50.77%,  Loss: 2.99703, ACC: 46.71% "
     ]
    },
    {
     "name": "stdout",
     "output_type": "stream",
     "text": [
      "\n"
     ]
    },
    {
     "name": "stderr",
     "output_type": "stream",
     "text": [
      "1387it [2:09:59,  6.57s/it]00760, Training: 50.81%,  Loss: 2.99710, ACC: 46.70% "
     ]
    },
    {
     "name": "stdout",
     "output_type": "stream",
     "text": [
      "\n"
     ]
    },
    {
     "name": "stderr",
     "output_type": "stream",
     "text": [
      "1388it [2:10:05,  6.54s/it]00760, Training: 50.84%,  Loss: 2.99698, ACC: 46.71% "
     ]
    },
    {
     "name": "stdout",
     "output_type": "stream",
     "text": [
      "\n"
     ]
    },
    {
     "name": "stderr",
     "output_type": "stream",
     "text": [
      "1389it [2:10:12,  6.55s/it]00760, Training: 50.88%,  Loss: 2.99687, ACC: 46.71% "
     ]
    },
    {
     "name": "stdout",
     "output_type": "stream",
     "text": [
      "\n"
     ]
    },
    {
     "name": "stderr",
     "output_type": "stream",
     "text": [
      "1390it [2:10:18,  6.56s/it]00760, Training: 50.92%,  Loss: 2.99701, ACC: 46.71% "
     ]
    },
    {
     "name": "stdout",
     "output_type": "stream",
     "text": [
      "\n"
     ]
    },
    {
     "name": "stderr",
     "output_type": "stream",
     "text": [
      "1391it [2:10:25,  6.58s/it]00760, Training: 50.95%,  Loss: 2.99689, ACC: 46.71% "
     ]
    },
    {
     "name": "stdout",
     "output_type": "stream",
     "text": [
      "\n"
     ]
    },
    {
     "name": "stderr",
     "output_type": "stream",
     "text": [
      "1392it [2:10:31,  6.54s/it]00760, Training: 50.99%,  Loss: 2.99675, ACC: 46.71% "
     ]
    },
    {
     "name": "stdout",
     "output_type": "stream",
     "text": [
      "\n"
     ]
    },
    {
     "name": "stderr",
     "output_type": "stream",
     "text": [
      "1393it [2:10:38,  6.57s/it]00760, Training: 51.03%,  Loss: 2.99673, ACC: 46.71% "
     ]
    },
    {
     "name": "stdout",
     "output_type": "stream",
     "text": [
      "\n"
     ]
    },
    {
     "name": "stderr",
     "output_type": "stream",
     "text": [
      "1394it [2:10:44,  6.57s/it]00760, Training: 51.06%,  Loss: 2.99677, ACC: 46.71% "
     ]
    },
    {
     "name": "stdout",
     "output_type": "stream",
     "text": [
      "\n"
     ]
    },
    {
     "name": "stderr",
     "output_type": "stream",
     "text": [
      "1395it [2:10:51,  6.57s/it]00760, Training: 51.10%,  Loss: 2.99673, ACC: 46.71% "
     ]
    },
    {
     "name": "stdout",
     "output_type": "stream",
     "text": [
      "\n"
     ]
    },
    {
     "name": "stderr",
     "output_type": "stream",
     "text": [
      "1396it [2:10:58,  6.55s/it]00760, Training: 51.14%,  Loss: 2.99686, ACC: 46.71% "
     ]
    },
    {
     "name": "stdout",
     "output_type": "stream",
     "text": [
      "\n"
     ]
    },
    {
     "name": "stderr",
     "output_type": "stream",
     "text": [
      "1397it [2:11:04,  6.56s/it]00760, Training: 51.17%,  Loss: 2.99683, ACC: 46.71% "
     ]
    },
    {
     "name": "stdout",
     "output_type": "stream",
     "text": [
      "\n"
     ]
    },
    {
     "name": "stderr",
     "output_type": "stream",
     "text": [
      "1398it [2:11:11,  6.58s/it]00760, Training: 51.21%,  Loss: 2.99686, ACC: 46.71% "
     ]
    },
    {
     "name": "stdout",
     "output_type": "stream",
     "text": [
      "\n"
     ]
    },
    {
     "name": "stderr",
     "output_type": "stream",
     "text": [
      "1399it [2:11:17,  6.57s/it]00760, Training: 51.25%,  Loss: 2.99659, ACC: 46.71% "
     ]
    },
    {
     "name": "stdout",
     "output_type": "stream",
     "text": [
      "\n"
     ]
    },
    {
     "name": "stderr",
     "output_type": "stream",
     "text": [
      "1400it [2:11:24,  6.57s/it]00760, Training: 51.28%,  Loss: 2.99651, ACC: 46.71% "
     ]
    },
    {
     "name": "stdout",
     "output_type": "stream",
     "text": [
      "\n"
     ]
    },
    {
     "name": "stderr",
     "output_type": "stream",
     "text": [
      "1401it [2:11:31,  6.58s/it]00760, Training: 51.32%,  Loss: 2.99643, ACC: 46.71% "
     ]
    },
    {
     "name": "stdout",
     "output_type": "stream",
     "text": [
      "\n"
     ]
    },
    {
     "name": "stderr",
     "output_type": "stream",
     "text": [
      "1402it [2:11:37,  6.62s/it]00760, Training: 51.36%,  Loss: 2.99637, ACC: 46.71% "
     ]
    },
    {
     "name": "stdout",
     "output_type": "stream",
     "text": [
      "\n"
     ]
    },
    {
     "name": "stderr",
     "output_type": "stream",
     "text": [
      "1403it [2:11:44,  6.61s/it]00760, Training: 51.39%,  Loss: 2.99628, ACC: 46.71% "
     ]
    },
    {
     "name": "stdout",
     "output_type": "stream",
     "text": [
      "\n"
     ]
    },
    {
     "name": "stderr",
     "output_type": "stream",
     "text": [
      "1404it [2:11:50,  6.60s/it]00760, Training: 51.43%,  Loss: 2.99635, ACC: 46.71% "
     ]
    },
    {
     "name": "stdout",
     "output_type": "stream",
     "text": [
      "\n"
     ]
    },
    {
     "name": "stderr",
     "output_type": "stream",
     "text": [
      "1405it [2:11:57,  6.60s/it]00760, Training: 51.47%,  Loss: 2.99639, ACC: 46.71% "
     ]
    },
    {
     "name": "stdout",
     "output_type": "stream",
     "text": [
      "\n"
     ]
    },
    {
     "name": "stderr",
     "output_type": "stream",
     "text": [
      "1406it [2:12:04,  6.60s/it]00760, Training: 51.50%,  Loss: 2.99643, ACC: 46.71% "
     ]
    },
    {
     "name": "stdout",
     "output_type": "stream",
     "text": [
      "\n"
     ]
    },
    {
     "name": "stderr",
     "output_type": "stream",
     "text": [
      "1407it [2:12:10,  6.62s/it]00760, Training: 51.54%,  Loss: 2.99643, ACC: 46.71% "
     ]
    },
    {
     "name": "stdout",
     "output_type": "stream",
     "text": [
      "\n"
     ]
    },
    {
     "name": "stderr",
     "output_type": "stream",
     "text": [
      "1408it [2:12:17,  6.63s/it]00760, Training: 51.58%,  Loss: 2.99643, ACC: 46.71% "
     ]
    },
    {
     "name": "stdout",
     "output_type": "stream",
     "text": [
      "\n"
     ]
    },
    {
     "name": "stderr",
     "output_type": "stream",
     "text": [
      "1409it [2:12:24,  6.67s/it]00760, Training: 51.61%,  Loss: 2.99661, ACC: 46.71% "
     ]
    },
    {
     "name": "stdout",
     "output_type": "stream",
     "text": [
      "\n"
     ]
    },
    {
     "name": "stderr",
     "output_type": "stream",
     "text": [
      "1410it [2:12:30,  6.62s/it]00760, Training: 51.65%,  Loss: 2.99654, ACC: 46.71% "
     ]
    },
    {
     "name": "stdout",
     "output_type": "stream",
     "text": [
      "\n"
     ]
    },
    {
     "name": "stderr",
     "output_type": "stream",
     "text": [
      "1411it [2:12:37,  6.63s/it]00760, Training: 51.68%,  Loss: 2.99649, ACC: 46.71% "
     ]
    },
    {
     "name": "stdout",
     "output_type": "stream",
     "text": [
      "\n"
     ]
    },
    {
     "name": "stderr",
     "output_type": "stream",
     "text": [
      "1412it [2:12:43,  6.62s/it]00760, Training: 51.72%,  Loss: 2.99647, ACC: 46.71% "
     ]
    },
    {
     "name": "stdout",
     "output_type": "stream",
     "text": [
      "\n"
     ]
    },
    {
     "name": "stderr",
     "output_type": "stream",
     "text": [
      "1413it [2:12:50,  6.58s/it]00760, Training: 51.76%,  Loss: 2.99649, ACC: 46.71% "
     ]
    },
    {
     "name": "stdout",
     "output_type": "stream",
     "text": [
      "\n"
     ]
    },
    {
     "name": "stderr",
     "output_type": "stream",
     "text": [
      "1414it [2:12:56,  6.57s/it]00760, Training: 51.79%,  Loss: 2.99668, ACC: 46.71% "
     ]
    },
    {
     "name": "stdout",
     "output_type": "stream",
     "text": [
      "\n"
     ]
    },
    {
     "name": "stderr",
     "output_type": "stream",
     "text": [
      "1415it [2:13:03,  6.52s/it]00760, Training: 51.83%,  Loss: 2.99664, ACC: 46.71% "
     ]
    },
    {
     "name": "stdout",
     "output_type": "stream",
     "text": [
      "\n"
     ]
    },
    {
     "name": "stderr",
     "output_type": "stream",
     "text": [
      "1416it [2:13:09,  6.51s/it]00760, Training: 51.87%,  Loss: 2.99655, ACC: 46.71% "
     ]
    },
    {
     "name": "stdout",
     "output_type": "stream",
     "text": [
      "\n"
     ]
    },
    {
     "name": "stderr",
     "output_type": "stream",
     "text": [
      "1417it [2:13:16,  6.54s/it]00760, Training: 51.90%,  Loss: 2.99649, ACC: 46.71% "
     ]
    },
    {
     "name": "stdout",
     "output_type": "stream",
     "text": [
      "\n"
     ]
    },
    {
     "name": "stderr",
     "output_type": "stream",
     "text": [
      "1418it [2:13:23,  6.54s/it]00760, Training: 51.94%,  Loss: 2.99640, ACC: 46.71% "
     ]
    },
    {
     "name": "stdout",
     "output_type": "stream",
     "text": [
      "\n"
     ]
    },
    {
     "name": "stderr",
     "output_type": "stream",
     "text": [
      "1419it [2:13:29,  6.57s/it]00760, Training: 51.98%,  Loss: 2.99649, ACC: 46.71% "
     ]
    },
    {
     "name": "stdout",
     "output_type": "stream",
     "text": [
      "\n"
     ]
    },
    {
     "name": "stderr",
     "output_type": "stream",
     "text": [
      "1420it [2:13:36,  6.59s/it]00760, Training: 52.01%,  Loss: 2.99666, ACC: 46.71% "
     ]
    },
    {
     "name": "stdout",
     "output_type": "stream",
     "text": [
      "\n"
     ]
    },
    {
     "name": "stderr",
     "output_type": "stream",
     "text": [
      "1421it [2:13:42,  6.60s/it]00760, Training: 52.05%,  Loss: 2.99672, ACC: 46.71% "
     ]
    },
    {
     "name": "stdout",
     "output_type": "stream",
     "text": [
      "\n"
     ]
    },
    {
     "name": "stderr",
     "output_type": "stream",
     "text": [
      "1422it [2:13:49,  6.61s/it]00760, Training: 52.09%,  Loss: 2.99667, ACC: 46.71% "
     ]
    },
    {
     "name": "stdout",
     "output_type": "stream",
     "text": [
      "\n"
     ]
    },
    {
     "name": "stderr",
     "output_type": "stream",
     "text": [
      "1423it [2:13:56,  6.62s/it]00760, Training: 52.12%,  Loss: 2.99676, ACC: 46.71% "
     ]
    },
    {
     "name": "stdout",
     "output_type": "stream",
     "text": [
      "\n"
     ]
    },
    {
     "name": "stderr",
     "output_type": "stream",
     "text": [
      "1424it [2:14:02,  6.64s/it]00760, Training: 52.16%,  Loss: 2.99696, ACC: 46.70% "
     ]
    },
    {
     "name": "stdout",
     "output_type": "stream",
     "text": [
      "\n"
     ]
    },
    {
     "name": "stderr",
     "output_type": "stream",
     "text": [
      "1425it [2:14:09,  6.63s/it]00760, Training: 52.20%,  Loss: 2.99716, ACC: 46.70% "
     ]
    },
    {
     "name": "stdout",
     "output_type": "stream",
     "text": [
      "\n"
     ]
    },
    {
     "name": "stderr",
     "output_type": "stream",
     "text": [
      "1426it [2:14:16,  6.61s/it]00760, Training: 52.23%,  Loss: 2.99725, ACC: 46.70% "
     ]
    },
    {
     "name": "stdout",
     "output_type": "stream",
     "text": [
      "\n"
     ]
    },
    {
     "name": "stderr",
     "output_type": "stream",
     "text": [
      "1427it [2:14:22,  6.58s/it]00760, Training: 52.27%,  Loss: 2.99730, ACC: 46.70% "
     ]
    },
    {
     "name": "stdout",
     "output_type": "stream",
     "text": [
      "\n"
     ]
    },
    {
     "name": "stderr",
     "output_type": "stream",
     "text": [
      "1428it [2:14:29,  6.59s/it]00760, Training: 52.31%,  Loss: 2.99723, ACC: 46.70% "
     ]
    },
    {
     "name": "stdout",
     "output_type": "stream",
     "text": [
      "\n"
     ]
    },
    {
     "name": "stderr",
     "output_type": "stream",
     "text": [
      "1429it [2:14:35,  6.61s/it]00760, Training: 52.34%,  Loss: 2.99715, ACC: 46.70% "
     ]
    },
    {
     "name": "stdout",
     "output_type": "stream",
     "text": [
      "\n"
     ]
    },
    {
     "name": "stderr",
     "output_type": "stream",
     "text": [
      "1430it [2:14:42,  6.65s/it]00760, Training: 52.38%,  Loss: 2.99718, ACC: 46.70% "
     ]
    },
    {
     "name": "stdout",
     "output_type": "stream",
     "text": [
      "\n"
     ]
    },
    {
     "name": "stderr",
     "output_type": "stream",
     "text": [
      "1431it [2:14:49,  6.63s/it]00760, Training: 52.42%,  Loss: 2.99704, ACC: 46.70% "
     ]
    },
    {
     "name": "stdout",
     "output_type": "stream",
     "text": [
      "\n"
     ]
    },
    {
     "name": "stderr",
     "output_type": "stream",
     "text": [
      "1432it [2:14:55,  6.63s/it]00760, Training: 52.45%,  Loss: 2.99711, ACC: 46.70% "
     ]
    },
    {
     "name": "stdout",
     "output_type": "stream",
     "text": [
      "\n"
     ]
    },
    {
     "name": "stderr",
     "output_type": "stream",
     "text": [
      "1433it [2:15:02,  6.65s/it]00760, Training: 52.49%,  Loss: 2.99714, ACC: 46.70% "
     ]
    },
    {
     "name": "stdout",
     "output_type": "stream",
     "text": [
      "\n"
     ]
    },
    {
     "name": "stderr",
     "output_type": "stream",
     "text": [
      "1434it [2:15:12,  7.64s/it]00760, Training: 52.53%,  Loss: 2.99713, ACC: 46.70% "
     ]
    },
    {
     "name": "stdout",
     "output_type": "stream",
     "text": [
      "\n"
     ]
    },
    {
     "name": "stderr",
     "output_type": "stream",
     "text": [
      "1435it [2:15:21,  8.03s/it]00760, Training: 52.56%,  Loss: 2.99711, ACC: 46.70% "
     ]
    },
    {
     "name": "stdout",
     "output_type": "stream",
     "text": [
      "\n"
     ]
    },
    {
     "name": "stderr",
     "output_type": "stream",
     "text": [
      "1436it [2:15:31,  8.70s/it]00760, Training: 52.60%,  Loss: 2.99721, ACC: 46.70% "
     ]
    },
    {
     "name": "stdout",
     "output_type": "stream",
     "text": [
      "\n"
     ]
    },
    {
     "name": "stderr",
     "output_type": "stream",
     "text": [
      "1437it [2:15:41,  9.12s/it]00760, Training: 52.64%,  Loss: 2.99707, ACC: 46.70% "
     ]
    },
    {
     "name": "stdout",
     "output_type": "stream",
     "text": [
      "\n"
     ]
    },
    {
     "name": "stderr",
     "output_type": "stream",
     "text": [
      "1438it [2:15:48,  8.36s/it]00760, Training: 52.67%,  Loss: 2.99702, ACC: 46.70% "
     ]
    },
    {
     "name": "stdout",
     "output_type": "stream",
     "text": [
      "\n"
     ]
    },
    {
     "name": "stderr",
     "output_type": "stream",
     "text": [
      "1439it [2:15:54,  7.82s/it]00760, Training: 52.71%,  Loss: 2.99690, ACC: 46.70% "
     ]
    },
    {
     "name": "stdout",
     "output_type": "stream",
     "text": [
      "\n"
     ]
    },
    {
     "name": "stderr",
     "output_type": "stream",
     "text": [
      "1440it [2:16:01,  7.48s/it]00760, Training: 52.75%,  Loss: 2.99721, ACC: 46.70% "
     ]
    },
    {
     "name": "stdout",
     "output_type": "stream",
     "text": [
      "\n"
     ]
    },
    {
     "name": "stderr",
     "output_type": "stream",
     "text": [
      "1441it [2:16:08,  7.22s/it]00760, Training: 52.78%,  Loss: 2.99707, ACC: 46.70% "
     ]
    },
    {
     "name": "stdout",
     "output_type": "stream",
     "text": [
      "\n"
     ]
    },
    {
     "name": "stderr",
     "output_type": "stream",
     "text": [
      "1442it [2:16:14,  7.04s/it]00760, Training: 52.82%,  Loss: 2.99703, ACC: 46.70% "
     ]
    },
    {
     "name": "stdout",
     "output_type": "stream",
     "text": [
      "\n"
     ]
    },
    {
     "name": "stderr",
     "output_type": "stream",
     "text": [
      "1443it [2:16:21,  7.01s/it]00760, Training: 52.86%,  Loss: 2.99698, ACC: 46.70% "
     ]
    },
    {
     "name": "stdout",
     "output_type": "stream",
     "text": [
      "\n"
     ]
    },
    {
     "name": "stderr",
     "output_type": "stream",
     "text": [
      "1444it [2:16:28,  7.03s/it]00760, Training: 52.89%,  Loss: 2.99698, ACC: 46.70% "
     ]
    },
    {
     "name": "stdout",
     "output_type": "stream",
     "text": [
      "\n"
     ]
    },
    {
     "name": "stderr",
     "output_type": "stream",
     "text": [
      "1445it [2:16:35,  7.00s/it]00760, Training: 52.93%,  Loss: 2.99692, ACC: 46.70% "
     ]
    },
    {
     "name": "stdout",
     "output_type": "stream",
     "text": [
      "\n"
     ]
    },
    {
     "name": "stderr",
     "output_type": "stream",
     "text": [
      "1446it [2:16:42,  7.02s/it]00760, Training: 52.97%,  Loss: 2.99704, ACC: 46.70% "
     ]
    },
    {
     "name": "stdout",
     "output_type": "stream",
     "text": [
      "\n"
     ]
    },
    {
     "name": "stderr",
     "output_type": "stream",
     "text": [
      "1447it [2:16:49,  7.07s/it]00760, Training: 53.00%,  Loss: 2.99697, ACC: 46.70% "
     ]
    },
    {
     "name": "stdout",
     "output_type": "stream",
     "text": [
      "\n"
     ]
    },
    {
     "name": "stderr",
     "output_type": "stream",
     "text": [
      "1448it [2:16:57,  7.06s/it]00760, Training: 53.04%,  Loss: 2.99707, ACC: 46.70% "
     ]
    },
    {
     "name": "stdout",
     "output_type": "stream",
     "text": [
      "\n"
     ]
    },
    {
     "name": "stderr",
     "output_type": "stream",
     "text": [
      "1449it [2:17:04,  7.10s/it]00760, Training: 53.08%,  Loss: 2.99693, ACC: 46.70% "
     ]
    },
    {
     "name": "stdout",
     "output_type": "stream",
     "text": [
      "\n"
     ]
    },
    {
     "name": "stderr",
     "output_type": "stream",
     "text": [
      "1450it [2:17:11,  7.11s/it]00760, Training: 53.11%,  Loss: 2.99696, ACC: 46.70% "
     ]
    },
    {
     "name": "stdout",
     "output_type": "stream",
     "text": [
      "\n"
     ]
    },
    {
     "name": "stderr",
     "output_type": "stream",
     "text": [
      "1451it [2:17:18,  6.99s/it]00760, Training: 53.15%,  Loss: 2.99706, ACC: 46.70% "
     ]
    },
    {
     "name": "stdout",
     "output_type": "stream",
     "text": [
      "\n"
     ]
    },
    {
     "name": "stderr",
     "output_type": "stream",
     "text": [
      "1452it [2:17:25,  7.04s/it]00760, Training: 53.19%,  Loss: 2.99704, ACC: 46.70% "
     ]
    },
    {
     "name": "stdout",
     "output_type": "stream",
     "text": [
      "\n"
     ]
    },
    {
     "name": "stderr",
     "output_type": "stream",
     "text": [
      "1453it [2:17:32,  7.03s/it]00760, Training: 53.22%,  Loss: 2.99701, ACC: 46.70% "
     ]
    },
    {
     "name": "stdout",
     "output_type": "stream",
     "text": [
      "\n"
     ]
    },
    {
     "name": "stderr",
     "output_type": "stream",
     "text": [
      "1454it [2:17:39,  7.04s/it]00760, Training: 53.26%,  Loss: 2.99702, ACC: 46.70% "
     ]
    },
    {
     "name": "stdout",
     "output_type": "stream",
     "text": [
      "\n"
     ]
    },
    {
     "name": "stderr",
     "output_type": "stream",
     "text": [
      "1455it [2:17:46,  7.00s/it]00760, Training: 53.30%,  Loss: 2.99703, ACC: 46.70% "
     ]
    },
    {
     "name": "stdout",
     "output_type": "stream",
     "text": [
      "\n"
     ]
    },
    {
     "name": "stderr",
     "output_type": "stream",
     "text": [
      "1456it [2:17:53,  7.03s/it]00760, Training: 53.33%,  Loss: 2.99708, ACC: 46.70% "
     ]
    },
    {
     "name": "stdout",
     "output_type": "stream",
     "text": [
      "\n"
     ]
    },
    {
     "name": "stderr",
     "output_type": "stream",
     "text": [
      "1457it [2:18:00,  7.02s/it]00760, Training: 53.37%,  Loss: 2.99715, ACC: 46.70% "
     ]
    },
    {
     "name": "stdout",
     "output_type": "stream",
     "text": [
      "\n"
     ]
    },
    {
     "name": "stderr",
     "output_type": "stream",
     "text": [
      "1458it [2:18:07,  7.01s/it]00760, Training: 53.41%,  Loss: 2.99698, ACC: 46.70% "
     ]
    },
    {
     "name": "stdout",
     "output_type": "stream",
     "text": [
      "\n"
     ]
    },
    {
     "name": "stderr",
     "output_type": "stream",
     "text": [
      "1459it [2:18:14,  7.09s/it]00760, Training: 53.44%,  Loss: 2.99697, ACC: 46.69% "
     ]
    },
    {
     "name": "stdout",
     "output_type": "stream",
     "text": [
      "\n"
     ]
    },
    {
     "name": "stderr",
     "output_type": "stream",
     "text": [
      "1460it [2:18:21,  7.08s/it]00760, Training: 53.48%,  Loss: 2.99707, ACC: 46.69% "
     ]
    },
    {
     "name": "stdout",
     "output_type": "stream",
     "text": [
      "\n"
     ]
    },
    {
     "name": "stderr",
     "output_type": "stream",
     "text": [
      "1461it [2:18:28,  7.09s/it]00760, Training: 53.52%,  Loss: 2.99708, ACC: 46.70% "
     ]
    },
    {
     "name": "stdout",
     "output_type": "stream",
     "text": [
      "\n"
     ]
    },
    {
     "name": "stderr",
     "output_type": "stream",
     "text": [
      "1462it [2:18:35,  6.99s/it]00760, Training: 53.55%,  Loss: 2.99692, ACC: 46.70% "
     ]
    },
    {
     "name": "stdout",
     "output_type": "stream",
     "text": [
      "\n"
     ]
    },
    {
     "name": "stderr",
     "output_type": "stream",
     "text": [
      "1463it [2:18:42,  6.95s/it]00760, Training: 53.59%,  Loss: 2.99693, ACC: 46.70% "
     ]
    },
    {
     "name": "stdout",
     "output_type": "stream",
     "text": [
      "\n"
     ]
    },
    {
     "name": "stderr",
     "output_type": "stream",
     "text": [
      "1464it [2:18:49,  6.97s/it]00760, Training: 53.63%,  Loss: 2.99697, ACC: 46.70% "
     ]
    },
    {
     "name": "stdout",
     "output_type": "stream",
     "text": [
      "\n"
     ]
    },
    {
     "name": "stderr",
     "output_type": "stream",
     "text": [
      "1465it [2:18:56,  7.07s/it]00760, Training: 53.66%,  Loss: 2.99696, ACC: 46.70% "
     ]
    },
    {
     "name": "stdout",
     "output_type": "stream",
     "text": [
      "\n"
     ]
    },
    {
     "name": "stderr",
     "output_type": "stream",
     "text": [
      "1466it [2:19:03,  7.05s/it]00760, Training: 53.70%,  Loss: 2.99668, ACC: 46.70% "
     ]
    },
    {
     "name": "stdout",
     "output_type": "stream",
     "text": [
      "\n"
     ]
    },
    {
     "name": "stderr",
     "output_type": "stream",
     "text": [
      "1467it [2:19:10,  7.01s/it]00760, Training: 53.74%,  Loss: 2.99640, ACC: 46.70% "
     ]
    },
    {
     "name": "stdout",
     "output_type": "stream",
     "text": [
      "\n"
     ]
    },
    {
     "name": "stderr",
     "output_type": "stream",
     "text": [
      "1468it [2:19:17,  7.10s/it]00760, Training: 53.77%,  Loss: 2.99637, ACC: 46.71% "
     ]
    },
    {
     "name": "stdout",
     "output_type": "stream",
     "text": [
      "\n"
     ]
    },
    {
     "name": "stderr",
     "output_type": "stream",
     "text": [
      "1469it [2:19:24,  7.08s/it]00760, Training: 53.81%,  Loss: 2.99613, ACC: 46.71% "
     ]
    },
    {
     "name": "stdout",
     "output_type": "stream",
     "text": [
      "\n"
     ]
    },
    {
     "name": "stderr",
     "output_type": "stream",
     "text": [
      "1470it [2:19:31,  7.07s/it]00760, Training: 53.85%,  Loss: 2.99611, ACC: 46.71% "
     ]
    },
    {
     "name": "stdout",
     "output_type": "stream",
     "text": [
      "\n"
     ]
    },
    {
     "name": "stderr",
     "output_type": "stream",
     "text": [
      "1471it [2:19:39,  7.13s/it]00760, Training: 53.88%,  Loss: 2.99606, ACC: 46.71% "
     ]
    },
    {
     "name": "stdout",
     "output_type": "stream",
     "text": [
      "\n"
     ]
    },
    {
     "name": "stderr",
     "output_type": "stream",
     "text": [
      "1472it [2:19:46,  7.17s/it]00760, Training: 53.92%,  Loss: 2.99602, ACC: 46.71% "
     ]
    },
    {
     "name": "stdout",
     "output_type": "stream",
     "text": [
      "\n"
     ]
    },
    {
     "name": "stderr",
     "output_type": "stream",
     "text": [
      "1473it [2:19:53,  7.19s/it]00760, Training: 53.96%,  Loss: 2.99601, ACC: 46.71% "
     ]
    },
    {
     "name": "stdout",
     "output_type": "stream",
     "text": [
      "\n"
     ]
    },
    {
     "name": "stderr",
     "output_type": "stream",
     "text": [
      "1474it [2:20:00,  7.16s/it]00760, Training: 53.99%,  Loss: 2.99593, ACC: 46.71% "
     ]
    },
    {
     "name": "stdout",
     "output_type": "stream",
     "text": [
      "\n"
     ]
    },
    {
     "name": "stderr",
     "output_type": "stream",
     "text": [
      "1475it [2:20:07,  7.09s/it]00760, Training: 54.03%,  Loss: 2.99587, ACC: 46.71% "
     ]
    },
    {
     "name": "stdout",
     "output_type": "stream",
     "text": [
      "\n"
     ]
    },
    {
     "name": "stderr",
     "output_type": "stream",
     "text": [
      "1476it [2:20:15,  7.17s/it]00760, Training: 54.07%,  Loss: 2.99565, ACC: 46.72% "
     ]
    },
    {
     "name": "stdout",
     "output_type": "stream",
     "text": [
      "\n"
     ]
    },
    {
     "name": "stderr",
     "output_type": "stream",
     "text": [
      "1477it [2:20:22,  7.16s/it]00760, Training: 54.10%,  Loss: 2.99568, ACC: 46.71% "
     ]
    },
    {
     "name": "stdout",
     "output_type": "stream",
     "text": [
      "\n"
     ]
    }
   ],
   "source": [
    "import argparse, glob, os, torch, warnings, time\n",
    "from tools import *\n",
    "from dataLoader import train_loader\n",
    "from ECAPAModel import ECAPAModel\n",
    "\n",
    "parser = argparse.ArgumentParser(description = \"ECAPA_trainer\")\n",
    "## Training Settings\n",
    "parser.add_argument('--num_frames', type=int,   default=200,     help='Duration of the input segments, eg: 200 for 2 second')\n",
    "parser.add_argument('--max_epoch',  type=int,   default=80,      help='Maximum number of epochs')\n",
    "parser.add_argument('--batch_size', type=int,   default=400,     help='Batch size')\n",
    "parser.add_argument('--n_cpu',      type=int,   default=0,       help='Number of loader threads')\n",
    "                                                        #4\n",
    "parser.add_argument('--test_step',  type=int,   default=1,       help='Test and save every [test_step] epochs')\n",
    "parser.add_argument('--lr',         type=float, default=0.001,   help='Learning rate')\n",
    "parser.add_argument(\"--lr_decay\",   type=float, default=0.97,    help='Learning rate decay every [test_step] epochs')\n",
    "\n",
    "## Training and evaluation path/lists, save path\n",
    "parser.add_argument('--train_list', type=str,   default=\"/Data1/VoxCeleb/VoxCeleb2/Audio/train_list.txt\", help='The path of the training list, eg:\"/data08/VoxCeleb2/train_list.txt\" in my case, which contains 1092009 lins')\n",
    "parser.add_argument('--train_path', type=str,   default=\"/Data1/VoxCeleb/VoxCeleb2/Audio/voxceleb2\", help='The path of the training data, eg:\"/data08/VoxCeleb2/train/wav\" in my case')\n",
    "parser.add_argument('--eval_list',  type=str,   default=\"/Data1/VoxCeleb/VoxCeleb2/Audio/voxceleb1/veri_test2.txt\", help='The path of the evaluation list, veri_test2.txt comes from https://www.robots.ox.ac.uk/~vgg/data/voxceleb/meta/veri_test2.txt')\n",
    "parser.add_argument('--eval_path',  type=str,   default=\"/Data1/VoxCeleb/VoxCeleb2/Audio/vox1_test_wav\", help='The path of the evaluation data, eg:\"/data08/VoxCeleb1/test/wav\" in my case')\n",
    "parser.add_argument('--musan_path', type=str,   default=\"/Data1/VoxCeleb/VoxCeleb2/Audio/musan_split\", help='The path to the MUSAN set, eg:\"/data08/Others/musan_split\" in my case')\n",
    "parser.add_argument('--rir_path',   type=str,   default=\"/Data1/VoxCeleb/VoxCeleb2/Audio/RIRS_NOISES/simulated_rirs\", help='The path to the RIR set, eg:\"/data08/Others/RIRS_NOISES/simulated_rirs\" in my case')\n",
    "parser.add_argument('--save_path',  type=str,   default=\"exps/base_ti\", help='Path to save the score.txt and models')\n",
    "parser.add_argument('--initial_model',  type=str,   default=\"\", help='Path of the initial_model')\n",
    "\n",
    "## Model and Loss settings\n",
    "parser.add_argument('--C',       type=int,   default=1024,   help='Channel size for the speaker encoder')\n",
    "parser.add_argument('--m',       type=float, default=0.2,    help='Loss margin in AAM softmax')\n",
    "parser.add_argument('--s',       type=float, default=30,     help='Loss scale in AAM softmax')\n",
    "parser.add_argument('--n_class', type=int,   default=5994,   help='Number of speakers')\n",
    "\n",
    "## Command\n",
    "parser.add_argument('--eval',    dest='eval', action='store_true', help='Only do evaluation')\n",
    "\n",
    "## Initialization\n",
    "warnings.simplefilter(\"ignore\")\n",
    "torch.multiprocessing.set_sharing_strategy('file_system')\n",
    "args = parser.parse_args(args = [])\n",
    "args = init_args(args)\n",
    "\n",
    "## Define the data loader\n",
    "trainloader = train_loader(**vars(args))\n",
    "trainLoader = torch.utils.data.DataLoader(trainloader, batch_size = args.batch_size, shuffle = True, num_workers = args.n_cpu, drop_last = True)\n",
    "\n",
    "## Search for the exist models\n",
    "modelfiles = glob.glob('%s/model_0*.model'%args.model_save_path)\n",
    "modelfiles.sort()\n",
    "\n",
    "## Only do evaluation, the initial_model is necessary\n",
    "if args.eval == True:\n",
    "\ts = ECAPAModel(**vars(args))\n",
    "\tprint(\"Model %s loaded from previous state!\"%args.initial_model)\n",
    "\ts.load_parameters(args.initial_model)\n",
    "\tEER, minDCF = s.eval_network(eval_list = args.eval_list, eval_path = args.eval_path)\n",
    "\tprint(\"EER %2.2f%%, minDCF %.4f%%\"%(EER, minDCF))\n",
    "\tquit()\n",
    "\n",
    "## If initial_model is exist, system will train from the initial_model\n",
    "if args.initial_model != \"\":\n",
    "\tprint(\"Model %s loaded from previous state!\"%args.initial_model)\n",
    "\ts = ECAPAModel(**vars(args))\n",
    "\ts.load_parameters(args.initial_model)\n",
    "\tepoch = 1\n",
    "\n",
    "## Otherwise, system will try to start from the saved model&epoch\n",
    "elif len(modelfiles) >= 1:\n",
    "\tprint(\"Model %s loaded from previous state!\"%modelfiles[-1])\n",
    "\tepoch = int(os.path.splitext(os.path.basename(modelfiles[-1]))[0][6:]) + 1\n",
    "\ts = ECAPAModel(**vars(args))\n",
    "\ts.load_parameters(modelfiles[-1])\n",
    "## Otherwise, system will train from scratch\n",
    "else:\n",
    "\tepoch = 1\n",
    "\ts = ECAPAModel(**vars(args))\n",
    "\n",
    "EERs = []\n",
    "score_file = open(args.score_save_path, \"a+\")\n",
    "\n",
    "while(1):\n",
    "\t## Training for one epoch\n",
    "\tloss, lr, acc = s.train_network(epoch = epoch, loader = trainLoader)\n",
    "\n",
    "\t## Evaluation every [test_step] epochs\n",
    "\tif epoch % args.test_step == 0:\n",
    "\t\ts.save_parameters(args.model_save_path + \"/model_%04d.model\"%epoch)\n",
    "\t\tEERs.append(s.eval_network(eval_list = args.eval_list, eval_path = args.eval_path)[0])\n",
    "\t\tprint(time.strftime(\"%Y-%m-%d %H:%M:%S\"), \"%d epoch, ACC %2.2f%%, EER %2.2f%%, bestEER %2.2f%%\"%(epoch, acc, EERs[-1], min(EERs)))\n",
    "\t\tscore_file.write(\"%d epoch, LR %f, LOSS %f, ACC %2.2f%%, EER %2.2f%%, bestEER %2.2f%%\\n\"%(epoch, lr, loss, acc, EERs[-1], min(EERs)))\n",
    "\t\tscore_file.flush()\n",
    "\n",
    "\tif epoch >= args.max_epoch:\n",
    "\t\tquit()\n",
    "\n",
    "\tepoch += 1\n"
   ]
  },
  {
   "cell_type": "code",
   "execution_count": 4,
   "id": "starting-single",
   "metadata": {},
   "outputs": [
    {
     "name": "stdout",
     "output_type": "stream",
     "text": [
      "Tue Jun 28 11:25:54 2022       \n",
      "+-----------------------------------------------------------------------------+\n",
      "| NVIDIA-SMI 460.39       Driver Version: 460.39       CUDA Version: 11.2     |\n",
      "|-------------------------------+----------------------+----------------------+\n",
      "| GPU  Name        Persistence-M| Bus-Id        Disp.A | Volatile Uncorr. ECC |\n",
      "| Fan  Temp  Perf  Pwr:Usage/Cap|         Memory-Usage | GPU-Util  Compute M. |\n",
      "|                               |                      |               MIG M. |\n",
      "|===============================+======================+======================|\n",
      "|   0  Quadro RTX 8000     On   | 00000000:1A:00.0 Off |                  Off |\n",
      "| 33%   24C    P8     9W / 260W |  47848MiB / 48601MiB |      0%      Default |\n",
      "|                               |                      |                  N/A |\n",
      "+-------------------------------+----------------------+----------------------+\n",
      "|   1  Quadro RTX 8000     On   | 00000000:3D:00.0 Off |                  Off |\n",
      "| 33%   27C    P8     5W / 260W |   2186MiB / 48601MiB |      0%      Default |\n",
      "|                               |                      |                  N/A |\n",
      "+-------------------------------+----------------------+----------------------+\n",
      "|   2  Quadro RTX 8000     On   | 00000000:3E:00.0 Off |                  Off |\n",
      "| 33%   48C    P2    75W / 260W |  21764MiB / 48601MiB |      0%      Default |\n",
      "|                               |                      |                  N/A |\n",
      "+-------------------------------+----------------------+----------------------+\n",
      "|   3  Quadro RTX 8000     On   | 00000000:40:00.0 Off |                  Off |\n",
      "| 33%   26C    P8     7W / 260W |   6247MiB / 48601MiB |      0%      Default |\n",
      "|                               |                      |                  N/A |\n",
      "+-------------------------------+----------------------+----------------------+\n",
      "|   4  Quadro RTX 8000     On   | 00000000:41:00.0 Off |                  Off |\n",
      "| 33%   49C    P3    63W / 260W |      3MiB / 48601MiB |      0%      Default |\n",
      "|                               |                      |                  N/A |\n",
      "+-------------------------------+----------------------+----------------------+\n",
      "                                                                               \n",
      "+-----------------------------------------------------------------------------+\n",
      "| Processes:                                                                  |\n",
      "|  GPU   GI   CI        PID   Type   Process name                  GPU Memory |\n",
      "|        ID   ID                                                   Usage      |\n",
      "|=============================================================================|\n",
      "+-----------------------------------------------------------------------------+\n"
     ]
    }
   ],
   "source": [
    "!nvidia-smi"
   ]
  },
  {
   "cell_type": "code",
   "execution_count": null,
   "id": "opponent-school",
   "metadata": {},
   "outputs": [],
   "source": []
  },
  {
   "cell_type": "code",
   "execution_count": null,
   "id": "worldwide-latino",
   "metadata": {},
   "outputs": [],
   "source": []
  },
  {
   "cell_type": "code",
   "execution_count": null,
   "id": "approximate-chapel",
   "metadata": {},
   "outputs": [],
   "source": []
  },
  {
   "cell_type": "code",
   "execution_count": null,
   "id": "medieval-tractor",
   "metadata": {},
   "outputs": [],
   "source": []
  },
  {
   "cell_type": "code",
   "execution_count": null,
   "id": "constant-begin",
   "metadata": {},
   "outputs": [],
   "source": []
  },
  {
   "cell_type": "code",
   "execution_count": null,
   "id": "patient-benjamin",
   "metadata": {},
   "outputs": [],
   "source": []
  },
  {
   "cell_type": "code",
   "execution_count": null,
   "id": "greatest-sacrifice",
   "metadata": {},
   "outputs": [],
   "source": []
  },
  {
   "cell_type": "code",
   "execution_count": null,
   "id": "endangered-influence",
   "metadata": {},
   "outputs": [],
   "source": []
  },
  {
   "cell_type": "code",
   "execution_count": null,
   "id": "martial-young",
   "metadata": {},
   "outputs": [],
   "source": []
  }
 ],
 "metadata": {
  "kernelspec": {
   "display_name": "Python 3 (ipykernel)",
   "language": "python",
   "name": "python3"
  },
  "language_info": {
   "codemirror_mode": {
    "name": "ipython",
    "version": 3
   },
   "file_extension": ".py",
   "mimetype": "text/x-python",
   "name": "python",
   "nbconvert_exporter": "python",
   "pygments_lexer": "ipython3",
   "version": "3.8.8"
  }
 },
 "nbformat": 4,
 "nbformat_minor": 5
}
