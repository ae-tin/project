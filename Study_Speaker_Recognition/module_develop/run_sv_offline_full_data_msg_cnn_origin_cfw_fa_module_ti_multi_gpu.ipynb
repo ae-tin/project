{
 "cells": [
  {
   "cell_type": "code",
   "execution_count": 1,
   "id": "7397ff5a",
   "metadata": {},
   "outputs": [
    {
     "name": "stdout",
     "output_type": "stream",
     "text": [
      "Thu Oct 27 08:55:13 2022       \n",
      "+-----------------------------------------------------------------------------+\n",
      "| NVIDIA-SMI 460.39       Driver Version: 460.39       CUDA Version: 11.2     |\n",
      "|-------------------------------+----------------------+----------------------+\n",
      "| GPU  Name        Persistence-M| Bus-Id        Disp.A | Volatile Uncorr. ECC |\n",
      "| Fan  Temp  Perf  Pwr:Usage/Cap|         Memory-Usage | GPU-Util  Compute M. |\n",
      "|                               |                      |               MIG M. |\n",
      "|===============================+======================+======================|\n",
      "|   0  Quadro RTX 8000     On   | 00000000:1A:00.0 Off |                  Off |\n",
      "| 33%   49C    P2    90W / 260W |  40760MiB / 48601MiB |      0%      Default |\n",
      "|                               |                      |                  N/A |\n",
      "+-------------------------------+----------------------+----------------------+\n",
      "|   1  Quadro RTX 8000     On   | 00000000:3D:00.0 Off |                  Off |\n",
      "| 33%   30C    P8     6W / 260W |  48064MiB / 48601MiB |      0%      Default |\n",
      "|                               |                      |                  N/A |\n",
      "+-------------------------------+----------------------+----------------------+\n",
      "|   2  Quadro RTX 8000     On   | 00000000:3E:00.0 Off |                  Off |\n",
      "| 36%   62C    P2   262W / 260W |  40728MiB / 48601MiB |    100%      Default |\n",
      "|                               |                      |                  N/A |\n",
      "+-------------------------------+----------------------+----------------------+\n",
      "|   3  Quadro RTX 8000     On   | 00000000:40:00.0 Off |                  Off |\n",
      "| 33%   28C    P8     8W / 260W |      3MiB / 48601MiB |      0%      Default |\n",
      "|                               |                      |                  N/A |\n",
      "+-------------------------------+----------------------+----------------------+\n",
      "|   4  Quadro RTX 8000     On   | 00000000:41:00.0 Off |                  Off |\n",
      "| 33%   32C    P8    18W / 260W |      3MiB / 48601MiB |      0%      Default |\n",
      "|                               |                      |                  N/A |\n",
      "+-------------------------------+----------------------+----------------------+\n",
      "                                                                               \n",
      "+-----------------------------------------------------------------------------+\n",
      "| Processes:                                                                  |\n",
      "|  GPU   GI   CI        PID   Type   Process name                  GPU Memory |\n",
      "|        ID   ID                                                   Usage      |\n",
      "|=============================================================================|\n",
      "+-----------------------------------------------------------------------------+\n"
     ]
    }
   ],
   "source": [
    "!nvidia-smi"
   ]
  },
  {
   "cell_type": "code",
   "execution_count": 6,
   "id": "d11cbfc9",
   "metadata": {},
   "outputs": [
    {
     "name": "stdout",
     "output_type": "stream",
     "text": [
      "10-27 08:59:11 Model para number = 27.13\n",
      "0it [00:06, ?it/s]\n",
      "Traceback (most recent call last):\n",
      "  File \"trainECAPAModel_full_data.py\", line 107, in <module>\n",
      "    loss, lr, acc = s.train_network(epoch = epoch, loader = trainLoader)\n",
      "  File \"/Data2/SASV2022/ecapatdnn_melspec/ECAPAModel.py\", line 43, in train_network\n",
      "    speaker_embedding = self.speaker_encoder.forward(data, aug = True)   ### ???  self.weight,\n",
      "  File \"/opt/conda/lib/python3.8/site-packages/torch/nn/parallel/data_parallel.py\", line 168, in forward\n",
      "    return self.gather(outputs, self.output_device)\n",
      "  File \"/opt/conda/lib/python3.8/site-packages/torch/nn/parallel/data_parallel.py\", line 180, in gather\n",
      "    return gather(outputs, output_device, dim=self.dim)\n",
      "  File \"/opt/conda/lib/python3.8/site-packages/torch/nn/parallel/scatter_gather.py\", line 76, in gather\n",
      "    res = gather_map(outputs)\n",
      "  File \"/opt/conda/lib/python3.8/site-packages/torch/nn/parallel/scatter_gather.py\", line 63, in gather_map\n",
      "    return Gather.apply(target_device, dim, *outputs)\n",
      "  File \"/opt/conda/lib/python3.8/site-packages/torch/nn/parallel/_functions.py\", line 72, in forward\n",
      "    return comm.gather(inputs, ctx.dim, ctx.target_device)\n",
      "  File \"/opt/conda/lib/python3.8/site-packages/torch/nn/parallel/comm.py\", line 235, in gather\n",
      "    return torch._C._gather(tensors, dim, destination)\n",
      "RuntimeError: CUDA error: invalid device ordinal\n"
     ]
    }
   ],
   "source": [
    "!python trainECAPAModel_full_data.py"
   ]
  },
  {
   "cell_type": "code",
   "execution_count": null,
   "id": "65dfbd1f",
   "metadata": {},
   "outputs": [],
   "source": []
  }
 ],
 "metadata": {
  "kernelspec": {
   "display_name": "Python 3 (ipykernel)",
   "language": "python",
   "name": "python3"
  },
  "language_info": {
   "codemirror_mode": {
    "name": "ipython",
    "version": 3
   },
   "file_extension": ".py",
   "mimetype": "text/x-python",
   "name": "python",
   "nbconvert_exporter": "python",
   "pygments_lexer": "ipython3",
   "version": "3.8.8"
  }
 },
 "nbformat": 4,
 "nbformat_minor": 5
}
