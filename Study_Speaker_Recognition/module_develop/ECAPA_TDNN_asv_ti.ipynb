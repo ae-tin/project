{
 "cells": [
  {
   "cell_type": "markdown",
   "id": "super-complaint",
   "metadata": {},
   "source": [
    "# ECAPA_TDNN_model implementation\n",
    "- data_prepare로 MUSAN, RIR, VoxCeleb1(test), VoxCeleb2(all dev) 준비\n",
    "- traia_list.txt, veri_test2.txt 필요\n",
    "- git clone https://github.com/TaoRuijie/ECAPATDNN.git 후 진행\n",
    "- parser의 path지정 잘해주기\n",
    "- docker에서 1 epoch당 3-4시간 소요, 모델 개발자는 80epoch 학습\n",
    "    - trained model이 있긴함"
   ]
  },
  {
   "cell_type": "markdown",
   "id": "expected-botswana",
   "metadata": {},
   "source": [
    "# Baseline"
   ]
  },
  {
   "cell_type": "markdown",
   "id": "wound-austria",
   "metadata": {},
   "source": [
    "# trainECAPAModel.py"
   ]
  },
  {
   "cell_type": "code",
   "execution_count": null,
   "id": "resident-visit",
   "metadata": {},
   "outputs": [
    {
     "name": "stdout",
     "output_type": "stream",
     "text": [
      "Model exps/base_ti/model/model_0009.model loaded from previous state!\n",
      "02-10 12:29:01 Model para number = 14.73\n"
     ]
    },
    {
     "name": "stderr",
     "output_type": "stream",
     "text": [
      "1it [00:06,  6.37s/it]0 12:29:08 [10] Lr: 0.000760, Training: 0.04%,  Loss: 2.92696, ACC: 48.00% "
     ]
    },
    {
     "name": "stdout",
     "output_type": "stream",
     "text": [
      "\n"
     ]
    },
    {
     "name": "stderr",
     "output_type": "stream",
     "text": [
      "2it [00:12,  6.23s/it]: 0.000760, Training: 0.07%,  Loss: 2.95327, ACC: 46.37% "
     ]
    },
    {
     "name": "stdout",
     "output_type": "stream",
     "text": [
      "\n"
     ]
    },
    {
     "name": "stderr",
     "output_type": "stream",
     "text": [
      "3it [00:18,  6.25s/it]: 0.000760, Training: 0.11%,  Loss: 3.02361, ACC: 45.58% "
     ]
    },
    {
     "name": "stdout",
     "output_type": "stream",
     "text": [
      "\n"
     ]
    },
    {
     "name": "stderr",
     "output_type": "stream",
     "text": [
      "4it [00:25,  6.26s/it]: 0.000760, Training: 0.15%,  Loss: 2.97289, ACC: 45.38% "
     ]
    },
    {
     "name": "stdout",
     "output_type": "stream",
     "text": [
      "\n"
     ]
    },
    {
     "name": "stderr",
     "output_type": "stream",
     "text": [
      "5it [00:31,  6.22s/it]: 0.000760, Training: 0.18%,  Loss: 3.04078, ACC: 45.60% "
     ]
    },
    {
     "name": "stdout",
     "output_type": "stream",
     "text": [
      "\n"
     ]
    },
    {
     "name": "stderr",
     "output_type": "stream",
     "text": [
      "6it [00:37,  6.22s/it]: 0.000760, Training: 0.22%,  Loss: 3.08347, ACC: 45.04% "
     ]
    },
    {
     "name": "stdout",
     "output_type": "stream",
     "text": [
      "\n"
     ]
    },
    {
     "name": "stderr",
     "output_type": "stream",
     "text": [
      "7it [00:43,  6.19s/it]: 0.000760, Training: 0.26%,  Loss: 3.10729, ACC: 44.82% "
     ]
    },
    {
     "name": "stdout",
     "output_type": "stream",
     "text": [
      "\n"
     ]
    },
    {
     "name": "stderr",
     "output_type": "stream",
     "text": [
      "8it [00:49,  6.20s/it]: 0.000760, Training: 0.29%,  Loss: 3.11251, ACC: 44.81% "
     ]
    },
    {
     "name": "stdout",
     "output_type": "stream",
     "text": [
      "\n"
     ]
    },
    {
     "name": "stderr",
     "output_type": "stream",
     "text": [
      "9it [00:56,  6.21s/it]: 0.000760, Training: 0.33%,  Loss: 3.05147, ACC: 45.33% "
     ]
    },
    {
     "name": "stdout",
     "output_type": "stream",
     "text": [
      "\n"
     ]
    },
    {
     "name": "stderr",
     "output_type": "stream",
     "text": [
      "10it [01:02,  6.21s/it] 0.000760, Training: 0.37%,  Loss: 3.01602, ACC: 45.55% "
     ]
    },
    {
     "name": "stdout",
     "output_type": "stream",
     "text": [
      "\n"
     ]
    },
    {
     "name": "stderr",
     "output_type": "stream",
     "text": [
      "11it [01:08,  6.23s/it] 0.000760, Training: 0.40%,  Loss: 3.03483, ACC: 45.50% "
     ]
    },
    {
     "name": "stdout",
     "output_type": "stream",
     "text": [
      "\n"
     ]
    },
    {
     "name": "stderr",
     "output_type": "stream",
     "text": [
      "12it [01:14,  6.24s/it] 0.000760, Training: 0.44%,  Loss: 3.02939, ACC: 45.52% "
     ]
    },
    {
     "name": "stdout",
     "output_type": "stream",
     "text": [
      "\n"
     ]
    },
    {
     "name": "stderr",
     "output_type": "stream",
     "text": [
      "13it [01:20,  6.24s/it] 0.000760, Training: 0.48%,  Loss: 3.02444, ACC: 45.50% "
     ]
    },
    {
     "name": "stdout",
     "output_type": "stream",
     "text": [
      "\n"
     ]
    },
    {
     "name": "stderr",
     "output_type": "stream",
     "text": [
      "14it [01:27,  6.23s/it] 0.000760, Training: 0.51%,  Loss: 3.03726, ACC: 45.14% "
     ]
    },
    {
     "name": "stdout",
     "output_type": "stream",
     "text": [
      "\n"
     ]
    },
    {
     "name": "stderr",
     "output_type": "stream",
     "text": [
      "15it [01:33,  6.25s/it] 0.000760, Training: 0.55%,  Loss: 3.03874, ACC: 44.97% "
     ]
    },
    {
     "name": "stdout",
     "output_type": "stream",
     "text": [
      "\n"
     ]
    },
    {
     "name": "stderr",
     "output_type": "stream",
     "text": [
      "16it [01:39,  6.28s/it] 0.000760, Training: 0.59%,  Loss: 3.02840, ACC: 45.12% "
     ]
    },
    {
     "name": "stdout",
     "output_type": "stream",
     "text": [
      "\n"
     ]
    },
    {
     "name": "stderr",
     "output_type": "stream",
     "text": [
      "17it [01:46,  6.31s/it] 0.000760, Training: 0.62%,  Loss: 3.02219, ACC: 45.32% "
     ]
    },
    {
     "name": "stdout",
     "output_type": "stream",
     "text": [
      "\n"
     ]
    },
    {
     "name": "stderr",
     "output_type": "stream",
     "text": [
      "18it [01:52,  6.28s/it] 0.000760, Training: 0.66%,  Loss: 3.01388, ACC: 45.56% "
     ]
    },
    {
     "name": "stdout",
     "output_type": "stream",
     "text": [
      "\n"
     ]
    },
    {
     "name": "stderr",
     "output_type": "stream",
     "text": [
      "19it [01:58,  6.25s/it] 0.000760, Training: 0.70%,  Loss: 3.02736, ACC: 45.46% "
     ]
    },
    {
     "name": "stdout",
     "output_type": "stream",
     "text": [
      "\n"
     ]
    },
    {
     "name": "stderr",
     "output_type": "stream",
     "text": [
      "20it [02:04,  6.23s/it] 0.000760, Training: 0.73%,  Loss: 3.02738, ACC: 45.56% "
     ]
    },
    {
     "name": "stdout",
     "output_type": "stream",
     "text": [
      "\n"
     ]
    },
    {
     "name": "stderr",
     "output_type": "stream",
     "text": [
      "21it [02:11,  6.23s/it] 0.000760, Training: 0.77%,  Loss: 3.02123, ACC: 45.54% "
     ]
    },
    {
     "name": "stdout",
     "output_type": "stream",
     "text": [
      "\n"
     ]
    },
    {
     "name": "stderr",
     "output_type": "stream",
     "text": [
      "22it [02:17,  6.28s/it] 0.000760, Training: 0.81%,  Loss: 3.03229, ACC: 45.48% "
     ]
    },
    {
     "name": "stdout",
     "output_type": "stream",
     "text": [
      "\n"
     ]
    },
    {
     "name": "stderr",
     "output_type": "stream",
     "text": [
      "23it [02:23,  6.28s/it] 0.000760, Training: 0.84%,  Loss: 3.02896, ACC: 45.55% "
     ]
    },
    {
     "name": "stdout",
     "output_type": "stream",
     "text": [
      "\n"
     ]
    },
    {
     "name": "stderr",
     "output_type": "stream",
     "text": [
      "24it [02:29,  6.25s/it] 0.000760, Training: 0.88%,  Loss: 3.03318, ACC: 45.51% "
     ]
    },
    {
     "name": "stdout",
     "output_type": "stream",
     "text": [
      "\n"
     ]
    },
    {
     "name": "stderr",
     "output_type": "stream",
     "text": [
      "25it [02:36,  6.29s/it] 0.000760, Training: 0.92%,  Loss: 3.03308, ACC: 45.54% "
     ]
    },
    {
     "name": "stdout",
     "output_type": "stream",
     "text": [
      "\n"
     ]
    },
    {
     "name": "stderr",
     "output_type": "stream",
     "text": [
      "26it [02:42,  6.26s/it] 0.000760, Training: 0.95%,  Loss: 3.03251, ACC: 45.63% "
     ]
    },
    {
     "name": "stdout",
     "output_type": "stream",
     "text": [
      "\n"
     ]
    },
    {
     "name": "stderr",
     "output_type": "stream",
     "text": [
      "27it [02:48,  6.29s/it] 0.000760, Training: 0.99%,  Loss: 3.02389, ACC: 45.78% "
     ]
    },
    {
     "name": "stdout",
     "output_type": "stream",
     "text": [
      "\n"
     ]
    },
    {
     "name": "stderr",
     "output_type": "stream",
     "text": [
      "28it [02:55,  6.30s/it] 0.000760, Training: 1.03%,  Loss: 3.02713, ACC: 45.75% "
     ]
    },
    {
     "name": "stdout",
     "output_type": "stream",
     "text": [
      "\n"
     ]
    },
    {
     "name": "stderr",
     "output_type": "stream",
     "text": [
      "29it [03:01,  6.31s/it] 0.000760, Training: 1.06%,  Loss: 3.01893, ACC: 45.83% "
     ]
    },
    {
     "name": "stdout",
     "output_type": "stream",
     "text": [
      "\n"
     ]
    },
    {
     "name": "stderr",
     "output_type": "stream",
     "text": [
      "30it [03:07,  6.29s/it] 0.000760, Training: 1.10%,  Loss: 3.00875, ACC: 46.02% "
     ]
    },
    {
     "name": "stdout",
     "output_type": "stream",
     "text": [
      "\n"
     ]
    },
    {
     "name": "stderr",
     "output_type": "stream",
     "text": [
      "31it [03:13,  6.26s/it] 0.000760, Training: 1.14%,  Loss: 3.00371, ACC: 46.04% "
     ]
    },
    {
     "name": "stdout",
     "output_type": "stream",
     "text": [
      "\n"
     ]
    },
    {
     "name": "stderr",
     "output_type": "stream",
     "text": [
      "32it [03:20,  6.28s/it] 0.000760, Training: 1.17%,  Loss: 3.00597, ACC: 46.04% "
     ]
    },
    {
     "name": "stdout",
     "output_type": "stream",
     "text": [
      "\n"
     ]
    },
    {
     "name": "stderr",
     "output_type": "stream",
     "text": [
      "33it [03:26,  6.30s/it] 0.000760, Training: 1.21%,  Loss: 3.00880, ACC: 46.06% "
     ]
    },
    {
     "name": "stdout",
     "output_type": "stream",
     "text": [
      "\n"
     ]
    },
    {
     "name": "stderr",
     "output_type": "stream",
     "text": [
      "34it [03:32,  6.28s/it] 0.000760, Training: 1.25%,  Loss: 3.01103, ACC: 46.06% "
     ]
    },
    {
     "name": "stdout",
     "output_type": "stream",
     "text": [
      "\n"
     ]
    },
    {
     "name": "stderr",
     "output_type": "stream",
     "text": [
      "35it [03:39,  6.29s/it] 0.000760, Training: 1.28%,  Loss: 3.01445, ACC: 46.10% "
     ]
    },
    {
     "name": "stdout",
     "output_type": "stream",
     "text": [
      "\n"
     ]
    },
    {
     "name": "stderr",
     "output_type": "stream",
     "text": [
      "36it [03:45,  6.29s/it] 0.000760, Training: 1.32%,  Loss: 3.01727, ACC: 46.06% "
     ]
    },
    {
     "name": "stdout",
     "output_type": "stream",
     "text": [
      "\n"
     ]
    },
    {
     "name": "stderr",
     "output_type": "stream",
     "text": [
      "37it [03:51,  6.30s/it] 0.000760, Training: 1.36%,  Loss: 3.02001, ACC: 46.07% "
     ]
    },
    {
     "name": "stdout",
     "output_type": "stream",
     "text": [
      "\n"
     ]
    },
    {
     "name": "stderr",
     "output_type": "stream",
     "text": [
      "38it [03:58,  6.31s/it] 0.000760, Training: 1.39%,  Loss: 3.02374, ACC: 46.09% "
     ]
    },
    {
     "name": "stdout",
     "output_type": "stream",
     "text": [
      "\n"
     ]
    },
    {
     "name": "stderr",
     "output_type": "stream",
     "text": [
      "39it [04:04,  6.29s/it] 0.000760, Training: 1.43%,  Loss: 3.02334, ACC: 46.08% "
     ]
    },
    {
     "name": "stdout",
     "output_type": "stream",
     "text": [
      "\n"
     ]
    },
    {
     "name": "stderr",
     "output_type": "stream",
     "text": [
      "40it [04:10,  6.24s/it] 0.000760, Training: 1.47%,  Loss: 3.01683, ACC: 46.14% "
     ]
    },
    {
     "name": "stdout",
     "output_type": "stream",
     "text": [
      "\n"
     ]
    },
    {
     "name": "stderr",
     "output_type": "stream",
     "text": [
      "41it [04:16,  6.26s/it] 0.000760, Training: 1.50%,  Loss: 3.01432, ACC: 46.21% "
     ]
    },
    {
     "name": "stdout",
     "output_type": "stream",
     "text": [
      "\n"
     ]
    },
    {
     "name": "stderr",
     "output_type": "stream",
     "text": [
      "42it [04:22,  6.25s/it] 0.000760, Training: 1.54%,  Loss: 3.01462, ACC: 46.14% "
     ]
    },
    {
     "name": "stdout",
     "output_type": "stream",
     "text": [
      "\n"
     ]
    },
    {
     "name": "stderr",
     "output_type": "stream",
     "text": [
      "43it [04:29,  6.28s/it] 0.000760, Training: 1.58%,  Loss: 3.01031, ACC: 46.23% "
     ]
    },
    {
     "name": "stdout",
     "output_type": "stream",
     "text": [
      "\n"
     ]
    },
    {
     "name": "stderr",
     "output_type": "stream",
     "text": [
      "44it [04:35,  6.31s/it] 0.000760, Training: 1.61%,  Loss: 3.00918, ACC: 46.26% "
     ]
    },
    {
     "name": "stdout",
     "output_type": "stream",
     "text": [
      "\n"
     ]
    },
    {
     "name": "stderr",
     "output_type": "stream",
     "text": [
      "45it [04:41,  6.30s/it] 0.000760, Training: 1.65%,  Loss: 3.01528, ACC: 46.24% "
     ]
    },
    {
     "name": "stdout",
     "output_type": "stream",
     "text": [
      "\n"
     ]
    },
    {
     "name": "stderr",
     "output_type": "stream",
     "text": [
      "46it [04:48,  6.30s/it] 0.000760, Training: 1.68%,  Loss: 3.01656, ACC: 46.20% "
     ]
    },
    {
     "name": "stdout",
     "output_type": "stream",
     "text": [
      "\n"
     ]
    },
    {
     "name": "stderr",
     "output_type": "stream",
     "text": [
      "47it [04:54,  6.31s/it] 0.000760, Training: 1.72%,  Loss: 3.01256, ACC: 46.26% "
     ]
    },
    {
     "name": "stdout",
     "output_type": "stream",
     "text": [
      "\n"
     ]
    },
    {
     "name": "stderr",
     "output_type": "stream",
     "text": [
      "48it [05:00,  6.32s/it] 0.000760, Training: 1.76%,  Loss: 3.01209, ACC: 46.23% "
     ]
    },
    {
     "name": "stdout",
     "output_type": "stream",
     "text": [
      "\n"
     ]
    },
    {
     "name": "stderr",
     "output_type": "stream",
     "text": [
      "49it [05:07,  6.30s/it] 0.000760, Training: 1.79%,  Loss: 3.01244, ACC: 46.26% "
     ]
    },
    {
     "name": "stdout",
     "output_type": "stream",
     "text": [
      "\n"
     ]
    },
    {
     "name": "stderr",
     "output_type": "stream",
     "text": [
      "50it [05:13,  6.28s/it] 0.000760, Training: 1.83%,  Loss: 3.01041, ACC: 46.31% "
     ]
    },
    {
     "name": "stdout",
     "output_type": "stream",
     "text": [
      "\n"
     ]
    },
    {
     "name": "stderr",
     "output_type": "stream",
     "text": [
      "51it [05:19,  6.28s/it] 0.000760, Training: 1.87%,  Loss: 3.00847, ACC: 46.33% "
     ]
    },
    {
     "name": "stdout",
     "output_type": "stream",
     "text": [
      "\n"
     ]
    },
    {
     "name": "stderr",
     "output_type": "stream",
     "text": [
      "52it [05:26,  6.29s/it] 0.000760, Training: 1.90%,  Loss: 3.00424, ACC: 46.32% "
     ]
    },
    {
     "name": "stdout",
     "output_type": "stream",
     "text": [
      "\n"
     ]
    },
    {
     "name": "stderr",
     "output_type": "stream",
     "text": [
      "53it [05:32,  6.28s/it] 0.000760, Training: 1.94%,  Loss: 3.00569, ACC: 46.31% "
     ]
    },
    {
     "name": "stdout",
     "output_type": "stream",
     "text": [
      "\n"
     ]
    },
    {
     "name": "stderr",
     "output_type": "stream",
     "text": [
      "54it [05:38,  6.27s/it] 0.000760, Training: 1.98%,  Loss: 3.01044, ACC: 46.31% "
     ]
    },
    {
     "name": "stdout",
     "output_type": "stream",
     "text": [
      "\n"
     ]
    },
    {
     "name": "stderr",
     "output_type": "stream",
     "text": [
      "55it [05:44,  6.25s/it] 0.000760, Training: 2.01%,  Loss: 3.00768, ACC: 46.35% "
     ]
    },
    {
     "name": "stdout",
     "output_type": "stream",
     "text": [
      "\n"
     ]
    },
    {
     "name": "stderr",
     "output_type": "stream",
     "text": [
      "56it [05:51,  6.26s/it] 0.000760, Training: 2.05%,  Loss: 3.01235, ACC: 46.35% "
     ]
    },
    {
     "name": "stdout",
     "output_type": "stream",
     "text": [
      "\n"
     ]
    },
    {
     "name": "stderr",
     "output_type": "stream",
     "text": [
      "57it [05:57,  6.28s/it] 0.000760, Training: 2.09%,  Loss: 3.01589, ACC: 46.39% "
     ]
    },
    {
     "name": "stdout",
     "output_type": "stream",
     "text": [
      "\n"
     ]
    },
    {
     "name": "stderr",
     "output_type": "stream",
     "text": [
      "58it [06:03,  6.27s/it] 0.000760, Training: 2.12%,  Loss: 3.01251, ACC: 46.40% "
     ]
    },
    {
     "name": "stdout",
     "output_type": "stream",
     "text": [
      "\n"
     ]
    },
    {
     "name": "stderr",
     "output_type": "stream",
     "text": [
      "59it [06:10,  6.51s/it] 0.000760, Training: 2.16%,  Loss: 3.01339, ACC: 46.38% "
     ]
    },
    {
     "name": "stdout",
     "output_type": "stream",
     "text": [
      "\n"
     ]
    },
    {
     "name": "stderr",
     "output_type": "stream",
     "text": [
      "60it [06:17,  6.46s/it] 0.000760, Training: 2.20%,  Loss: 3.01125, ACC: 46.40% "
     ]
    },
    {
     "name": "stdout",
     "output_type": "stream",
     "text": [
      "\n"
     ]
    },
    {
     "name": "stderr",
     "output_type": "stream",
     "text": [
      "61it [06:23,  6.42s/it] 0.000760, Training: 2.23%,  Loss: 3.01385, ACC: 46.39% "
     ]
    },
    {
     "name": "stdout",
     "output_type": "stream",
     "text": [
      "\n"
     ]
    },
    {
     "name": "stderr",
     "output_type": "stream",
     "text": [
      "62it [06:29,  6.37s/it] 0.000760, Training: 2.27%,  Loss: 3.01473, ACC: 46.41% "
     ]
    },
    {
     "name": "stdout",
     "output_type": "stream",
     "text": [
      "\n"
     ]
    },
    {
     "name": "stderr",
     "output_type": "stream",
     "text": [
      "63it [06:35,  6.34s/it] 0.000760, Training: 2.31%,  Loss: 3.01488, ACC: 46.44% "
     ]
    },
    {
     "name": "stdout",
     "output_type": "stream",
     "text": [
      "\n"
     ]
    },
    {
     "name": "stderr",
     "output_type": "stream",
     "text": [
      "64it [06:42,  6.30s/it] 0.000760, Training: 2.34%,  Loss: 3.01422, ACC: 46.45% "
     ]
    },
    {
     "name": "stdout",
     "output_type": "stream",
     "text": [
      "\n"
     ]
    },
    {
     "name": "stderr",
     "output_type": "stream",
     "text": [
      "65it [06:48,  6.31s/it] 0.000760, Training: 2.38%,  Loss: 3.01497, ACC: 46.45% "
     ]
    },
    {
     "name": "stdout",
     "output_type": "stream",
     "text": [
      "\n"
     ]
    },
    {
     "name": "stderr",
     "output_type": "stream",
     "text": [
      "66it [06:54,  6.28s/it] 0.000760, Training: 2.42%,  Loss: 3.01426, ACC: 46.44% "
     ]
    },
    {
     "name": "stdout",
     "output_type": "stream",
     "text": [
      "\n"
     ]
    },
    {
     "name": "stderr",
     "output_type": "stream",
     "text": [
      "67it [07:00,  6.27s/it] 0.000760, Training: 2.45%,  Loss: 3.01281, ACC: 46.44% "
     ]
    },
    {
     "name": "stdout",
     "output_type": "stream",
     "text": [
      "\n"
     ]
    },
    {
     "name": "stderr",
     "output_type": "stream",
     "text": [
      "68it [07:07,  6.29s/it] 0.000760, Training: 2.49%,  Loss: 3.01022, ACC: 46.43% "
     ]
    },
    {
     "name": "stdout",
     "output_type": "stream",
     "text": [
      "\n"
     ]
    },
    {
     "name": "stderr",
     "output_type": "stream",
     "text": [
      "69it [07:13,  6.31s/it] 0.000760, Training: 2.53%,  Loss: 3.00663, ACC: 46.47% "
     ]
    },
    {
     "name": "stdout",
     "output_type": "stream",
     "text": [
      "\n"
     ]
    },
    {
     "name": "stderr",
     "output_type": "stream",
     "text": [
      "70it [07:19,  6.31s/it] 0.000760, Training: 2.56%,  Loss: 3.00498, ACC: 46.49% "
     ]
    },
    {
     "name": "stdout",
     "output_type": "stream",
     "text": [
      "\n"
     ]
    },
    {
     "name": "stderr",
     "output_type": "stream",
     "text": [
      "71it [07:26,  6.33s/it] 0.000760, Training: 2.60%,  Loss: 3.00479, ACC: 46.50% "
     ]
    },
    {
     "name": "stdout",
     "output_type": "stream",
     "text": [
      "\n"
     ]
    },
    {
     "name": "stderr",
     "output_type": "stream",
     "text": [
      "72it [07:32,  6.29s/it] 0.000760, Training: 2.64%,  Loss: 3.00704, ACC: 46.47% "
     ]
    },
    {
     "name": "stdout",
     "output_type": "stream",
     "text": [
      "\n"
     ]
    },
    {
     "name": "stderr",
     "output_type": "stream",
     "text": [
      "73it [07:38,  6.29s/it] 0.000760, Training: 2.67%,  Loss: 3.01080, ACC: 46.41% "
     ]
    },
    {
     "name": "stdout",
     "output_type": "stream",
     "text": [
      "\n"
     ]
    },
    {
     "name": "stderr",
     "output_type": "stream",
     "text": [
      "74it [07:44,  6.26s/it] 0.000760, Training: 2.71%,  Loss: 3.01121, ACC: 46.44% "
     ]
    },
    {
     "name": "stdout",
     "output_type": "stream",
     "text": [
      "\n"
     ]
    },
    {
     "name": "stderr",
     "output_type": "stream",
     "text": [
      "75it [07:51,  6.29s/it] 0.000760, Training: 2.75%,  Loss: 3.01400, ACC: 46.39% "
     ]
    },
    {
     "name": "stdout",
     "output_type": "stream",
     "text": [
      "\n"
     ]
    },
    {
     "name": "stderr",
     "output_type": "stream",
     "text": [
      "76it [07:57,  6.28s/it] 0.000760, Training: 2.78%,  Loss: 3.01054, ACC: 46.44% "
     ]
    },
    {
     "name": "stdout",
     "output_type": "stream",
     "text": [
      "\n"
     ]
    },
    {
     "name": "stderr",
     "output_type": "stream",
     "text": [
      "77it [08:03,  6.28s/it] 0.000760, Training: 2.82%,  Loss: 3.01029, ACC: 46.47% "
     ]
    },
    {
     "name": "stdout",
     "output_type": "stream",
     "text": [
      "\n"
     ]
    },
    {
     "name": "stderr",
     "output_type": "stream",
     "text": [
      "78it [08:10,  6.29s/it] 0.000760, Training: 2.86%,  Loss: 3.01349, ACC: 46.46% "
     ]
    },
    {
     "name": "stdout",
     "output_type": "stream",
     "text": [
      "\n"
     ]
    },
    {
     "name": "stderr",
     "output_type": "stream",
     "text": [
      "79it [08:16,  6.26s/it] 0.000760, Training: 2.89%,  Loss: 3.01306, ACC: 46.50% "
     ]
    },
    {
     "name": "stdout",
     "output_type": "stream",
     "text": [
      "\n"
     ]
    },
    {
     "name": "stderr",
     "output_type": "stream",
     "text": [
      "80it [08:22,  6.27s/it] 0.000760, Training: 2.93%,  Loss: 3.01137, ACC: 46.50% "
     ]
    },
    {
     "name": "stdout",
     "output_type": "stream",
     "text": [
      "\n"
     ]
    },
    {
     "name": "stderr",
     "output_type": "stream",
     "text": [
      "81it [08:29,  6.30s/it] 0.000760, Training: 2.97%,  Loss: 3.01040, ACC: 46.49% "
     ]
    },
    {
     "name": "stdout",
     "output_type": "stream",
     "text": [
      "\n"
     ]
    },
    {
     "name": "stderr",
     "output_type": "stream",
     "text": [
      "82it [08:35,  6.27s/it] 0.000760, Training: 3.00%,  Loss: 3.00681, ACC: 46.52% "
     ]
    },
    {
     "name": "stdout",
     "output_type": "stream",
     "text": [
      "\n"
     ]
    },
    {
     "name": "stderr",
     "output_type": "stream",
     "text": [
      "83it [08:41,  6.28s/it] 0.000760, Training: 3.04%,  Loss: 3.00664, ACC: 46.52% "
     ]
    },
    {
     "name": "stdout",
     "output_type": "stream",
     "text": [
      "\n"
     ]
    },
    {
     "name": "stderr",
     "output_type": "stream",
     "text": [
      "84it [08:47,  6.29s/it] 0.000760, Training: 3.08%,  Loss: 3.00336, ACC: 46.54% "
     ]
    },
    {
     "name": "stdout",
     "output_type": "stream",
     "text": [
      "\n"
     ]
    },
    {
     "name": "stderr",
     "output_type": "stream",
     "text": [
      "85it [08:54,  6.29s/it] 0.000760, Training: 3.11%,  Loss: 3.00493, ACC: 46.54% "
     ]
    },
    {
     "name": "stdout",
     "output_type": "stream",
     "text": [
      "\n"
     ]
    },
    {
     "name": "stderr",
     "output_type": "stream",
     "text": [
      "86it [09:00,  6.30s/it] 0.000760, Training: 3.15%,  Loss: 3.00510, ACC: 46.55% "
     ]
    },
    {
     "name": "stdout",
     "output_type": "stream",
     "text": [
      "\n"
     ]
    },
    {
     "name": "stderr",
     "output_type": "stream",
     "text": [
      "87it [09:06,  6.33s/it] 0.000760, Training: 3.19%,  Loss: 3.00504, ACC: 46.57% "
     ]
    },
    {
     "name": "stdout",
     "output_type": "stream",
     "text": [
      "\n"
     ]
    },
    {
     "name": "stderr",
     "output_type": "stream",
     "text": [
      "88it [09:13,  6.33s/it] 0.000760, Training: 3.22%,  Loss: 3.00503, ACC: 46.56% "
     ]
    },
    {
     "name": "stdout",
     "output_type": "stream",
     "text": [
      "\n"
     ]
    },
    {
     "name": "stderr",
     "output_type": "stream",
     "text": [
      "89it [09:19,  6.31s/it] 0.000760, Training: 3.26%,  Loss: 3.00496, ACC: 46.57% "
     ]
    },
    {
     "name": "stdout",
     "output_type": "stream",
     "text": [
      "\n"
     ]
    },
    {
     "name": "stderr",
     "output_type": "stream",
     "text": [
      "90it [09:25,  6.35s/it] 0.000760, Training: 3.30%,  Loss: 3.00491, ACC: 46.57% "
     ]
    },
    {
     "name": "stdout",
     "output_type": "stream",
     "text": [
      "\n"
     ]
    },
    {
     "name": "stderr",
     "output_type": "stream",
     "text": [
      "91it [09:32,  6.35s/it] 0.000760, Training: 3.33%,  Loss: 3.00364, ACC: 46.58% "
     ]
    },
    {
     "name": "stdout",
     "output_type": "stream",
     "text": [
      "\n"
     ]
    },
    {
     "name": "stderr",
     "output_type": "stream",
     "text": [
      "92it [09:38,  6.36s/it] 0.000760, Training: 3.37%,  Loss: 3.00458, ACC: 46.56% "
     ]
    },
    {
     "name": "stdout",
     "output_type": "stream",
     "text": [
      "\n"
     ]
    },
    {
     "name": "stderr",
     "output_type": "stream",
     "text": [
      "93it [09:44,  6.29s/it] 0.000760, Training: 3.41%,  Loss: 3.00546, ACC: 46.55% "
     ]
    },
    {
     "name": "stdout",
     "output_type": "stream",
     "text": [
      "\n"
     ]
    },
    {
     "name": "stderr",
     "output_type": "stream",
     "text": [
      "94it [09:50,  6.26s/it] 0.000760, Training: 3.44%,  Loss: 3.00513, ACC: 46.56% "
     ]
    },
    {
     "name": "stdout",
     "output_type": "stream",
     "text": [
      "\n"
     ]
    },
    {
     "name": "stderr",
     "output_type": "stream",
     "text": [
      "95it [09:57,  6.24s/it] 0.000760, Training: 3.48%,  Loss: 3.00651, ACC: 46.54% "
     ]
    },
    {
     "name": "stdout",
     "output_type": "stream",
     "text": [
      "\n"
     ]
    },
    {
     "name": "stderr",
     "output_type": "stream",
     "text": [
      "96it [10:03,  6.22s/it] 0.000760, Training: 3.52%,  Loss: 3.00663, ACC: 46.52% "
     ]
    },
    {
     "name": "stdout",
     "output_type": "stream",
     "text": [
      "\n"
     ]
    },
    {
     "name": "stderr",
     "output_type": "stream",
     "text": [
      "97it [10:09,  6.22s/it] 0.000760, Training: 3.55%,  Loss: 3.00673, ACC: 46.52% "
     ]
    },
    {
     "name": "stdout",
     "output_type": "stream",
     "text": [
      "\n"
     ]
    },
    {
     "name": "stderr",
     "output_type": "stream",
     "text": [
      "98it [10:15,  6.21s/it] 0.000760, Training: 3.59%,  Loss: 3.00589, ACC: 46.56% "
     ]
    },
    {
     "name": "stdout",
     "output_type": "stream",
     "text": [
      "\n"
     ]
    },
    {
     "name": "stderr",
     "output_type": "stream",
     "text": [
      "99it [10:21,  6.23s/it] 0.000760, Training: 3.63%,  Loss: 3.00186, ACC: 46.61% "
     ]
    },
    {
     "name": "stdout",
     "output_type": "stream",
     "text": [
      "\n"
     ]
    },
    {
     "name": "stderr",
     "output_type": "stream",
     "text": [
      "100it [10:28,  6.23s/it]0.000760, Training: 3.66%,  Loss: 3.00178, ACC: 46.62% "
     ]
    },
    {
     "name": "stdout",
     "output_type": "stream",
     "text": [
      "\n"
     ]
    },
    {
     "name": "stderr",
     "output_type": "stream",
     "text": [
      "101it [10:34,  6.25s/it]0.000760, Training: 3.70%,  Loss: 3.00289, ACC: 46.57% "
     ]
    },
    {
     "name": "stdout",
     "output_type": "stream",
     "text": [
      "\n"
     ]
    },
    {
     "name": "stderr",
     "output_type": "stream",
     "text": [
      "102it [10:40,  6.23s/it]0.000760, Training: 3.74%,  Loss: 2.99989, ACC: 46.59% "
     ]
    },
    {
     "name": "stdout",
     "output_type": "stream",
     "text": [
      "\n"
     ]
    },
    {
     "name": "stderr",
     "output_type": "stream",
     "text": [
      "103it [10:46,  6.24s/it]0.000760, Training: 3.77%,  Loss: 3.00005, ACC: 46.58% "
     ]
    },
    {
     "name": "stdout",
     "output_type": "stream",
     "text": [
      "\n"
     ]
    },
    {
     "name": "stderr",
     "output_type": "stream",
     "text": [
      "104it [10:53,  6.26s/it]0.000760, Training: 3.81%,  Loss: 3.00087, ACC: 46.57% "
     ]
    },
    {
     "name": "stdout",
     "output_type": "stream",
     "text": [
      "\n"
     ]
    },
    {
     "name": "stderr",
     "output_type": "stream",
     "text": [
      "105it [10:59,  6.24s/it]0.000760, Training: 3.85%,  Loss: 2.99927, ACC: 46.59% "
     ]
    },
    {
     "name": "stdout",
     "output_type": "stream",
     "text": [
      "\n"
     ]
    },
    {
     "name": "stderr",
     "output_type": "stream",
     "text": [
      "106it [11:05,  6.22s/it]0.000760, Training: 3.88%,  Loss: 2.99856, ACC: 46.62% "
     ]
    },
    {
     "name": "stdout",
     "output_type": "stream",
     "text": [
      "\n"
     ]
    },
    {
     "name": "stderr",
     "output_type": "stream",
     "text": [
      "107it [11:11,  6.20s/it]0.000760, Training: 3.92%,  Loss: 2.99863, ACC: 46.59% "
     ]
    },
    {
     "name": "stdout",
     "output_type": "stream",
     "text": [
      "\n"
     ]
    },
    {
     "name": "stderr",
     "output_type": "stream",
     "text": [
      "108it [11:18,  6.23s/it]0.000760, Training: 3.96%,  Loss: 2.99923, ACC: 46.60% "
     ]
    },
    {
     "name": "stdout",
     "output_type": "stream",
     "text": [
      "\n"
     ]
    },
    {
     "name": "stderr",
     "output_type": "stream",
     "text": [
      "109it [11:24,  6.22s/it]0.000760, Training: 3.99%,  Loss: 2.99913, ACC: 46.57% "
     ]
    },
    {
     "name": "stdout",
     "output_type": "stream",
     "text": [
      "\n"
     ]
    },
    {
     "name": "stderr",
     "output_type": "stream",
     "text": [
      "110it [11:30,  6.20s/it]0.000760, Training: 4.03%,  Loss: 2.99850, ACC: 46.57% "
     ]
    },
    {
     "name": "stdout",
     "output_type": "stream",
     "text": [
      "\n"
     ]
    },
    {
     "name": "stderr",
     "output_type": "stream",
     "text": [
      "111it [11:36,  6.19s/it]0.000760, Training: 4.07%,  Loss: 2.99662, ACC: 46.58% "
     ]
    },
    {
     "name": "stdout",
     "output_type": "stream",
     "text": [
      "\n"
     ]
    },
    {
     "name": "stderr",
     "output_type": "stream",
     "text": [
      "112it [11:42,  6.21s/it]0.000760, Training: 4.10%,  Loss: 2.99803, ACC: 46.56% "
     ]
    },
    {
     "name": "stdout",
     "output_type": "stream",
     "text": [
      "\n"
     ]
    },
    {
     "name": "stderr",
     "output_type": "stream",
     "text": [
      "113it [11:48,  6.19s/it]0.000760, Training: 4.14%,  Loss: 2.99900, ACC: 46.55% "
     ]
    },
    {
     "name": "stdout",
     "output_type": "stream",
     "text": [
      "\n"
     ]
    },
    {
     "name": "stderr",
     "output_type": "stream",
     "text": [
      "114it [11:55,  6.18s/it]0.000760, Training: 4.18%,  Loss: 2.99919, ACC: 46.55% "
     ]
    },
    {
     "name": "stdout",
     "output_type": "stream",
     "text": [
      "\n"
     ]
    },
    {
     "name": "stderr",
     "output_type": "stream",
     "text": [
      "115it [12:01,  6.19s/it]0.000760, Training: 4.21%,  Loss: 3.00081, ACC: 46.50% "
     ]
    },
    {
     "name": "stdout",
     "output_type": "stream",
     "text": [
      "\n"
     ]
    },
    {
     "name": "stderr",
     "output_type": "stream",
     "text": [
      "116it [12:07,  6.20s/it]0.000760, Training: 4.25%,  Loss: 2.99783, ACC: 46.54% "
     ]
    },
    {
     "name": "stdout",
     "output_type": "stream",
     "text": [
      "\n"
     ]
    },
    {
     "name": "stderr",
     "output_type": "stream",
     "text": [
      "117it [12:13,  6.20s/it]0.000760, Training: 4.29%,  Loss: 2.99942, ACC: 46.48% "
     ]
    },
    {
     "name": "stdout",
     "output_type": "stream",
     "text": [
      "\n"
     ]
    },
    {
     "name": "stderr",
     "output_type": "stream",
     "text": [
      "118it [12:19,  6.20s/it]0.000760, Training: 4.32%,  Loss: 2.99893, ACC: 46.47% "
     ]
    },
    {
     "name": "stdout",
     "output_type": "stream",
     "text": [
      "\n"
     ]
    },
    {
     "name": "stderr",
     "output_type": "stream",
     "text": [
      "119it [12:26,  6.21s/it]0.000760, Training: 4.36%,  Loss: 2.99874, ACC: 46.47% "
     ]
    },
    {
     "name": "stdout",
     "output_type": "stream",
     "text": [
      "\n"
     ]
    },
    {
     "name": "stderr",
     "output_type": "stream",
     "text": [
      "120it [12:32,  6.21s/it]0.000760, Training: 4.40%,  Loss: 2.99854, ACC: 46.46% "
     ]
    },
    {
     "name": "stdout",
     "output_type": "stream",
     "text": [
      "\n"
     ]
    },
    {
     "name": "stderr",
     "output_type": "stream",
     "text": [
      "121it [12:38,  6.20s/it]0.000760, Training: 4.43%,  Loss: 2.99692, ACC: 46.48% "
     ]
    },
    {
     "name": "stdout",
     "output_type": "stream",
     "text": [
      "\n"
     ]
    },
    {
     "name": "stderr",
     "output_type": "stream",
     "text": [
      "122it [12:44,  6.17s/it]0.000760, Training: 4.47%,  Loss: 2.99428, ACC: 46.51% "
     ]
    },
    {
     "name": "stdout",
     "output_type": "stream",
     "text": [
      "\n"
     ]
    },
    {
     "name": "stderr",
     "output_type": "stream",
     "text": [
      "123it [12:50,  6.17s/it]0.000760, Training: 4.51%,  Loss: 2.99436, ACC: 46.50% "
     ]
    },
    {
     "name": "stdout",
     "output_type": "stream",
     "text": [
      "\n"
     ]
    },
    {
     "name": "stderr",
     "output_type": "stream",
     "text": [
      "124it [12:56,  5.98s/it]0.000760, Training: 4.54%,  Loss: 2.99372, ACC: 46.50% "
     ]
    },
    {
     "name": "stdout",
     "output_type": "stream",
     "text": [
      "\n"
     ]
    },
    {
     "name": "stderr",
     "output_type": "stream",
     "text": [
      "125it [13:02,  6.04s/it]0.000760, Training: 4.58%,  Loss: 2.99368, ACC: 46.51% "
     ]
    },
    {
     "name": "stdout",
     "output_type": "stream",
     "text": [
      "\n"
     ]
    },
    {
     "name": "stderr",
     "output_type": "stream",
     "text": [
      "126it [13:08,  6.07s/it]0.000760, Training: 4.62%,  Loss: 2.99485, ACC: 46.51% "
     ]
    },
    {
     "name": "stdout",
     "output_type": "stream",
     "text": [
      "\n"
     ]
    },
    {
     "name": "stderr",
     "output_type": "stream",
     "text": [
      "127it [13:14,  6.10s/it]0.000760, Training: 4.65%,  Loss: 2.99550, ACC: 46.48% "
     ]
    },
    {
     "name": "stdout",
     "output_type": "stream",
     "text": [
      "\n"
     ]
    },
    {
     "name": "stderr",
     "output_type": "stream",
     "text": [
      "128it [13:21,  6.12s/it]0.000760, Training: 4.69%,  Loss: 2.99462, ACC: 46.49% "
     ]
    },
    {
     "name": "stdout",
     "output_type": "stream",
     "text": [
      "\n"
     ]
    },
    {
     "name": "stderr",
     "output_type": "stream",
     "text": [
      "129it [13:27,  6.12s/it]0.000760, Training: 4.73%,  Loss: 2.99541, ACC: 46.47% "
     ]
    },
    {
     "name": "stdout",
     "output_type": "stream",
     "text": [
      "\n"
     ]
    },
    {
     "name": "stderr",
     "output_type": "stream",
     "text": [
      "130it [13:33,  6.17s/it]0.000760, Training: 4.76%,  Loss: 2.99654, ACC: 46.45% "
     ]
    },
    {
     "name": "stdout",
     "output_type": "stream",
     "text": [
      "\n"
     ]
    },
    {
     "name": "stderr",
     "output_type": "stream",
     "text": [
      "131it [13:39,  6.20s/it]0.000760, Training: 4.80%,  Loss: 2.99718, ACC: 46.44% "
     ]
    },
    {
     "name": "stdout",
     "output_type": "stream",
     "text": [
      "\n"
     ]
    },
    {
     "name": "stderr",
     "output_type": "stream",
     "text": [
      "132it [13:45,  6.20s/it]0.000760, Training: 4.84%,  Loss: 2.99510, ACC: 46.45% "
     ]
    },
    {
     "name": "stdout",
     "output_type": "stream",
     "text": [
      "\n"
     ]
    },
    {
     "name": "stderr",
     "output_type": "stream",
     "text": [
      "133it [13:52,  6.23s/it]0.000760, Training: 4.87%,  Loss: 2.99532, ACC: 46.43% "
     ]
    },
    {
     "name": "stdout",
     "output_type": "stream",
     "text": [
      "\n"
     ]
    },
    {
     "name": "stderr",
     "output_type": "stream",
     "text": [
      "134it [13:58,  6.26s/it]0.000760, Training: 4.91%,  Loss: 2.99844, ACC: 46.41% "
     ]
    },
    {
     "name": "stdout",
     "output_type": "stream",
     "text": [
      "\n"
     ]
    },
    {
     "name": "stderr",
     "output_type": "stream",
     "text": [
      "135it [14:04,  6.25s/it]0.000760, Training: 4.95%,  Loss: 2.99552, ACC: 46.44% "
     ]
    },
    {
     "name": "stdout",
     "output_type": "stream",
     "text": [
      "\n"
     ]
    },
    {
     "name": "stderr",
     "output_type": "stream",
     "text": [
      "136it [14:10,  6.22s/it]0.000760, Training: 4.98%,  Loss: 2.99515, ACC: 46.44% "
     ]
    },
    {
     "name": "stdout",
     "output_type": "stream",
     "text": [
      "\n"
     ]
    },
    {
     "name": "stderr",
     "output_type": "stream",
     "text": [
      "137it [14:17,  6.23s/it]0.000760, Training: 5.02%,  Loss: 2.99630, ACC: 46.41% "
     ]
    },
    {
     "name": "stdout",
     "output_type": "stream",
     "text": [
      "\n"
     ]
    },
    {
     "name": "stderr",
     "output_type": "stream",
     "text": [
      "138it [14:23,  6.22s/it]0.000760, Training: 5.05%,  Loss: 2.99760, ACC: 46.38% "
     ]
    },
    {
     "name": "stdout",
     "output_type": "stream",
     "text": [
      "\n"
     ]
    },
    {
     "name": "stderr",
     "output_type": "stream",
     "text": [
      "139it [14:29,  6.22s/it]0.000760, Training: 5.09%,  Loss: 2.99687, ACC: 46.39% "
     ]
    },
    {
     "name": "stdout",
     "output_type": "stream",
     "text": [
      "\n"
     ]
    },
    {
     "name": "stderr",
     "output_type": "stream",
     "text": [
      "140it [14:35,  6.21s/it]0.000760, Training: 5.13%,  Loss: 2.99833, ACC: 46.38% "
     ]
    },
    {
     "name": "stdout",
     "output_type": "stream",
     "text": [
      "\n"
     ]
    },
    {
     "name": "stderr",
     "output_type": "stream",
     "text": [
      "141it [14:42,  6.22s/it]0.000760, Training: 5.16%,  Loss: 2.99986, ACC: 46.37% "
     ]
    },
    {
     "name": "stdout",
     "output_type": "stream",
     "text": [
      "\n"
     ]
    },
    {
     "name": "stderr",
     "output_type": "stream",
     "text": [
      "142it [14:48,  6.20s/it]0.000760, Training: 5.20%,  Loss: 3.00037, ACC: 46.36% "
     ]
    },
    {
     "name": "stdout",
     "output_type": "stream",
     "text": [
      "\n"
     ]
    },
    {
     "name": "stderr",
     "output_type": "stream",
     "text": [
      "143it [14:54,  6.19s/it]0.000760, Training: 5.24%,  Loss: 2.99939, ACC: 46.37% "
     ]
    },
    {
     "name": "stdout",
     "output_type": "stream",
     "text": [
      "\n"
     ]
    },
    {
     "name": "stderr",
     "output_type": "stream",
     "text": [
      "144it [15:00,  6.22s/it]0.000760, Training: 5.27%,  Loss: 3.00067, ACC: 46.36% "
     ]
    },
    {
     "name": "stdout",
     "output_type": "stream",
     "text": [
      "\n"
     ]
    },
    {
     "name": "stderr",
     "output_type": "stream",
     "text": [
      "145it [15:06,  6.22s/it]0.000760, Training: 5.31%,  Loss: 2.99920, ACC: 46.37% "
     ]
    },
    {
     "name": "stdout",
     "output_type": "stream",
     "text": [
      "\n"
     ]
    },
    {
     "name": "stderr",
     "output_type": "stream",
     "text": [
      "146it [15:13,  6.23s/it]0.000760, Training: 5.35%,  Loss: 2.99882, ACC: 46.39% "
     ]
    },
    {
     "name": "stdout",
     "output_type": "stream",
     "text": [
      "\n"
     ]
    },
    {
     "name": "stderr",
     "output_type": "stream",
     "text": [
      "147it [15:19,  6.26s/it]0.000760, Training: 5.38%,  Loss: 2.99648, ACC: 46.40% "
     ]
    },
    {
     "name": "stdout",
     "output_type": "stream",
     "text": [
      "\n"
     ]
    },
    {
     "name": "stderr",
     "output_type": "stream",
     "text": [
      "148it [15:25,  6.24s/it]0.000760, Training: 5.42%,  Loss: 2.99411, ACC: 46.41% "
     ]
    },
    {
     "name": "stdout",
     "output_type": "stream",
     "text": [
      "\n"
     ]
    },
    {
     "name": "stderr",
     "output_type": "stream",
     "text": [
      "149it [15:31,  6.25s/it]0.000760, Training: 5.46%,  Loss: 2.99442, ACC: 46.41% "
     ]
    },
    {
     "name": "stdout",
     "output_type": "stream",
     "text": [
      "\n"
     ]
    },
    {
     "name": "stderr",
     "output_type": "stream",
     "text": [
      "150it [15:38,  6.23s/it]0.000760, Training: 5.49%,  Loss: 2.99452, ACC: 46.39% "
     ]
    },
    {
     "name": "stdout",
     "output_type": "stream",
     "text": [
      "\n"
     ]
    },
    {
     "name": "stderr",
     "output_type": "stream",
     "text": [
      "151it [15:44,  6.21s/it]0.000760, Training: 5.53%,  Loss: 2.99288, ACC: 46.41% "
     ]
    },
    {
     "name": "stdout",
     "output_type": "stream",
     "text": [
      "\n"
     ]
    },
    {
     "name": "stderr",
     "output_type": "stream",
     "text": [
      "152it [15:50,  6.21s/it]0.000760, Training: 5.57%,  Loss: 2.99200, ACC: 46.42% "
     ]
    },
    {
     "name": "stdout",
     "output_type": "stream",
     "text": [
      "\n"
     ]
    },
    {
     "name": "stderr",
     "output_type": "stream",
     "text": [
      "153it [15:56,  6.22s/it]0.000760, Training: 5.60%,  Loss: 2.99181, ACC: 46.43% "
     ]
    },
    {
     "name": "stdout",
     "output_type": "stream",
     "text": [
      "\n"
     ]
    },
    {
     "name": "stderr",
     "output_type": "stream",
     "text": [
      "154it [16:02,  6.23s/it]0.000760, Training: 5.64%,  Loss: 2.99410, ACC: 46.41% "
     ]
    },
    {
     "name": "stdout",
     "output_type": "stream",
     "text": [
      "\n"
     ]
    },
    {
     "name": "stderr",
     "output_type": "stream",
     "text": [
      "155it [16:09,  6.22s/it]0.000760, Training: 5.68%,  Loss: 2.99480, ACC: 46.39% "
     ]
    },
    {
     "name": "stdout",
     "output_type": "stream",
     "text": [
      "\n"
     ]
    },
    {
     "name": "stderr",
     "output_type": "stream",
     "text": [
      "156it [16:15,  6.22s/it]0.000760, Training: 5.71%,  Loss: 2.99261, ACC: 46.41% "
     ]
    },
    {
     "name": "stdout",
     "output_type": "stream",
     "text": [
      "\n"
     ]
    },
    {
     "name": "stderr",
     "output_type": "stream",
     "text": [
      "157it [16:21,  6.24s/it]0.000760, Training: 5.75%,  Loss: 2.99232, ACC: 46.41% "
     ]
    },
    {
     "name": "stdout",
     "output_type": "stream",
     "text": [
      "\n"
     ]
    },
    {
     "name": "stderr",
     "output_type": "stream",
     "text": [
      "158it [16:27,  6.24s/it]0.000760, Training: 5.79%,  Loss: 2.99225, ACC: 46.41% "
     ]
    },
    {
     "name": "stdout",
     "output_type": "stream",
     "text": [
      "\n"
     ]
    },
    {
     "name": "stderr",
     "output_type": "stream",
     "text": [
      "159it [16:34,  6.22s/it]0.000760, Training: 5.82%,  Loss: 2.99177, ACC: 46.40% "
     ]
    },
    {
     "name": "stdout",
     "output_type": "stream",
     "text": [
      "\n"
     ]
    },
    {
     "name": "stderr",
     "output_type": "stream",
     "text": [
      "160it [16:40,  6.23s/it]0.000760, Training: 5.86%,  Loss: 2.99133, ACC: 46.41% "
     ]
    },
    {
     "name": "stdout",
     "output_type": "stream",
     "text": [
      "\n"
     ]
    },
    {
     "name": "stderr",
     "output_type": "stream",
     "text": [
      "161it [16:46,  6.23s/it]0.000760, Training: 5.90%,  Loss: 2.99143, ACC: 46.41% "
     ]
    },
    {
     "name": "stdout",
     "output_type": "stream",
     "text": [
      "\n"
     ]
    },
    {
     "name": "stderr",
     "output_type": "stream",
     "text": [
      "162it [16:52,  6.22s/it]0.000760, Training: 5.93%,  Loss: 2.99369, ACC: 46.38% "
     ]
    },
    {
     "name": "stdout",
     "output_type": "stream",
     "text": [
      "\n"
     ]
    },
    {
     "name": "stderr",
     "output_type": "stream",
     "text": [
      "163it [16:59,  6.24s/it]0.000760, Training: 5.97%,  Loss: 2.99292, ACC: 46.39% "
     ]
    },
    {
     "name": "stdout",
     "output_type": "stream",
     "text": [
      "\n"
     ]
    },
    {
     "name": "stderr",
     "output_type": "stream",
     "text": [
      "164it [17:05,  6.22s/it]0.000760, Training: 6.01%,  Loss: 2.99312, ACC: 46.38% "
     ]
    },
    {
     "name": "stdout",
     "output_type": "stream",
     "text": [
      "\n"
     ]
    },
    {
     "name": "stderr",
     "output_type": "stream",
     "text": [
      "165it [17:11,  6.21s/it]0.000760, Training: 6.04%,  Loss: 2.99344, ACC: 46.38% "
     ]
    },
    {
     "name": "stdout",
     "output_type": "stream",
     "text": [
      "\n"
     ]
    },
    {
     "name": "stderr",
     "output_type": "stream",
     "text": [
      "166it [17:17,  6.23s/it]0.000760, Training: 6.08%,  Loss: 2.99335, ACC: 46.38% "
     ]
    },
    {
     "name": "stdout",
     "output_type": "stream",
     "text": [
      "\n"
     ]
    },
    {
     "name": "stderr",
     "output_type": "stream",
     "text": [
      "167it [17:23,  6.24s/it]0.000760, Training: 6.12%,  Loss: 2.99407, ACC: 46.36% "
     ]
    },
    {
     "name": "stdout",
     "output_type": "stream",
     "text": [
      "\n"
     ]
    },
    {
     "name": "stderr",
     "output_type": "stream",
     "text": [
      "168it [17:30,  6.24s/it]0.000760, Training: 6.15%,  Loss: 2.99485, ACC: 46.33% "
     ]
    },
    {
     "name": "stdout",
     "output_type": "stream",
     "text": [
      "\n"
     ]
    },
    {
     "name": "stderr",
     "output_type": "stream",
     "text": [
      "169it [17:36,  6.24s/it]0.000760, Training: 6.19%,  Loss: 2.99563, ACC: 46.33% "
     ]
    },
    {
     "name": "stdout",
     "output_type": "stream",
     "text": [
      "\n"
     ]
    },
    {
     "name": "stderr",
     "output_type": "stream",
     "text": [
      "170it [17:42,  6.24s/it]0.000760, Training: 6.23%,  Loss: 2.99482, ACC: 46.33% "
     ]
    },
    {
     "name": "stdout",
     "output_type": "stream",
     "text": [
      "\n"
     ]
    },
    {
     "name": "stderr",
     "output_type": "stream",
     "text": [
      "171it [17:48,  6.25s/it]0.000760, Training: 6.26%,  Loss: 2.99500, ACC: 46.35% "
     ]
    },
    {
     "name": "stdout",
     "output_type": "stream",
     "text": [
      "\n"
     ]
    },
    {
     "name": "stderr",
     "output_type": "stream",
     "text": [
      "172it [17:55,  6.26s/it]0.000760, Training: 6.30%,  Loss: 2.99491, ACC: 46.35% "
     ]
    },
    {
     "name": "stdout",
     "output_type": "stream",
     "text": [
      "\n"
     ]
    },
    {
     "name": "stderr",
     "output_type": "stream",
     "text": [
      "173it [18:01,  6.26s/it]0.000760, Training: 6.34%,  Loss: 2.99492, ACC: 46.34% "
     ]
    },
    {
     "name": "stdout",
     "output_type": "stream",
     "text": [
      "\n"
     ]
    },
    {
     "name": "stderr",
     "output_type": "stream",
     "text": [
      "174it [18:07,  6.27s/it]0.000760, Training: 6.37%,  Loss: 2.99740, ACC: 46.33% "
     ]
    },
    {
     "name": "stdout",
     "output_type": "stream",
     "text": [
      "\n"
     ]
    },
    {
     "name": "stderr",
     "output_type": "stream",
     "text": [
      "175it [18:14,  6.27s/it]0.000760, Training: 6.41%,  Loss: 2.99838, ACC: 46.32% "
     ]
    },
    {
     "name": "stdout",
     "output_type": "stream",
     "text": [
      "\n"
     ]
    },
    {
     "name": "stderr",
     "output_type": "stream",
     "text": [
      "176it [18:20,  6.23s/it]0.000760, Training: 6.45%,  Loss: 2.99933, ACC: 46.31% "
     ]
    },
    {
     "name": "stdout",
     "output_type": "stream",
     "text": [
      "\n"
     ]
    },
    {
     "name": "stderr",
     "output_type": "stream",
     "text": [
      "177it [18:26,  6.24s/it]0.000760, Training: 6.48%,  Loss: 3.00047, ACC: 46.30% "
     ]
    },
    {
     "name": "stdout",
     "output_type": "stream",
     "text": [
      "\n"
     ]
    },
    {
     "name": "stderr",
     "output_type": "stream",
     "text": [
      "178it [18:35,  7.02s/it]0.000760, Training: 6.52%,  Loss: 3.00121, ACC: 46.29% "
     ]
    },
    {
     "name": "stdout",
     "output_type": "stream",
     "text": [
      "\n"
     ]
    },
    {
     "name": "stderr",
     "output_type": "stream",
     "text": [
      "179it [18:44,  7.73s/it]0.000760, Training: 6.56%,  Loss: 3.00107, ACC: 46.29% "
     ]
    },
    {
     "name": "stdout",
     "output_type": "stream",
     "text": [
      "\n"
     ]
    },
    {
     "name": "stderr",
     "output_type": "stream",
     "text": [
      "180it [18:53,  8.12s/it]0.000760, Training: 6.59%,  Loss: 3.00139, ACC: 46.28% "
     ]
    },
    {
     "name": "stdout",
     "output_type": "stream",
     "text": [
      "\n"
     ]
    },
    {
     "name": "stderr",
     "output_type": "stream",
     "text": [
      "181it [19:01,  8.15s/it]0.000760, Training: 6.63%,  Loss: 3.00158, ACC: 46.27% "
     ]
    },
    {
     "name": "stdout",
     "output_type": "stream",
     "text": [
      "\n"
     ]
    },
    {
     "name": "stderr",
     "output_type": "stream",
     "text": [
      "182it [19:14,  9.60s/it]0.000760, Training: 6.67%,  Loss: 3.00032, ACC: 46.28% "
     ]
    },
    {
     "name": "stdout",
     "output_type": "stream",
     "text": [
      "\n"
     ]
    },
    {
     "name": "stderr",
     "output_type": "stream",
     "text": [
      "183it [19:27, 10.39s/it]0.000760, Training: 6.70%,  Loss: 3.00057, ACC: 46.29% "
     ]
    },
    {
     "name": "stdout",
     "output_type": "stream",
     "text": [
      "\n"
     ]
    },
    {
     "name": "stderr",
     "output_type": "stream",
     "text": [
      "184it [19:37, 10.28s/it]0.000760, Training: 6.74%,  Loss: 3.00074, ACC: 46.29% "
     ]
    },
    {
     "name": "stdout",
     "output_type": "stream",
     "text": [
      "\n"
     ]
    },
    {
     "name": "stderr",
     "output_type": "stream",
     "text": [
      "185it [19:47, 10.40s/it]0.000760, Training: 6.78%,  Loss: 3.00109, ACC: 46.29% "
     ]
    },
    {
     "name": "stdout",
     "output_type": "stream",
     "text": [
      "\n"
     ]
    },
    {
     "name": "stderr",
     "output_type": "stream",
     "text": [
      "186it [20:01, 11.48s/it]0.000760, Training: 6.81%,  Loss: 3.00202, ACC: 46.28% "
     ]
    },
    {
     "name": "stdout",
     "output_type": "stream",
     "text": [
      "\n"
     ]
    },
    {
     "name": "stderr",
     "output_type": "stream",
     "text": [
      "187it [20:12, 11.27s/it]0.000760, Training: 6.85%,  Loss: 3.00199, ACC: 46.28% "
     ]
    },
    {
     "name": "stdout",
     "output_type": "stream",
     "text": [
      "\n"
     ]
    },
    {
     "name": "stderr",
     "output_type": "stream",
     "text": [
      "188it [20:24, 11.40s/it]0.000760, Training: 6.89%,  Loss: 3.00185, ACC: 46.29% "
     ]
    },
    {
     "name": "stdout",
     "output_type": "stream",
     "text": [
      "\n"
     ]
    },
    {
     "name": "stderr",
     "output_type": "stream",
     "text": [
      "189it [20:35, 11.40s/it]0.000760, Training: 6.92%,  Loss: 3.00163, ACC: 46.29% "
     ]
    },
    {
     "name": "stdout",
     "output_type": "stream",
     "text": [
      "\n"
     ]
    },
    {
     "name": "stderr",
     "output_type": "stream",
     "text": [
      "190it [20:47, 11.46s/it]0.000760, Training: 6.96%,  Loss: 3.00171, ACC: 46.29% "
     ]
    },
    {
     "name": "stdout",
     "output_type": "stream",
     "text": [
      "\n"
     ]
    },
    {
     "name": "stderr",
     "output_type": "stream",
     "text": [
      "191it [20:58, 11.50s/it]0.000760, Training: 7.00%,  Loss: 3.00272, ACC: 46.29% "
     ]
    },
    {
     "name": "stdout",
     "output_type": "stream",
     "text": [
      "\n"
     ]
    },
    {
     "name": "stderr",
     "output_type": "stream",
     "text": [
      "192it [21:10, 11.61s/it]0.000760, Training: 7.03%,  Loss: 3.00432, ACC: 46.28% "
     ]
    },
    {
     "name": "stdout",
     "output_type": "stream",
     "text": [
      "\n"
     ]
    },
    {
     "name": "stderr",
     "output_type": "stream",
     "text": [
      "193it [21:22, 11.66s/it]0.000760, Training: 7.07%,  Loss: 3.00502, ACC: 46.26% "
     ]
    },
    {
     "name": "stdout",
     "output_type": "stream",
     "text": [
      "\n"
     ]
    },
    {
     "name": "stderr",
     "output_type": "stream",
     "text": [
      "194it [21:34, 11.59s/it]0.000760, Training: 7.11%,  Loss: 3.00248, ACC: 46.29% "
     ]
    },
    {
     "name": "stdout",
     "output_type": "stream",
     "text": [
      "\n"
     ]
    },
    {
     "name": "stderr",
     "output_type": "stream",
     "text": [
      "195it [21:45, 11.44s/it]0.000760, Training: 7.14%,  Loss: 3.00174, ACC: 46.30% "
     ]
    },
    {
     "name": "stdout",
     "output_type": "stream",
     "text": [
      "\n"
     ]
    },
    {
     "name": "stderr",
     "output_type": "stream",
     "text": [
      "196it [21:57, 11.64s/it]0.000760, Training: 7.18%,  Loss: 3.00239, ACC: 46.30% "
     ]
    },
    {
     "name": "stdout",
     "output_type": "stream",
     "text": [
      "\n"
     ]
    },
    {
     "name": "stderr",
     "output_type": "stream",
     "text": [
      "197it [22:08, 11.52s/it]0.000760, Training: 7.22%,  Loss: 3.00247, ACC: 46.31% "
     ]
    },
    {
     "name": "stdout",
     "output_type": "stream",
     "text": [
      "\n"
     ]
    },
    {
     "name": "stderr",
     "output_type": "stream",
     "text": [
      "198it [22:16, 10.37s/it]0.000760, Training: 7.25%,  Loss: 3.00222, ACC: 46.32% "
     ]
    },
    {
     "name": "stdout",
     "output_type": "stream",
     "text": [
      "\n"
     ]
    },
    {
     "name": "stderr",
     "output_type": "stream",
     "text": [
      "199it [22:24,  9.63s/it]0.000760, Training: 7.29%,  Loss: 3.00157, ACC: 46.33% "
     ]
    },
    {
     "name": "stdout",
     "output_type": "stream",
     "text": [
      "\n"
     ]
    },
    {
     "name": "stderr",
     "output_type": "stream",
     "text": [
      "200it [22:31,  8.94s/it]0.000760, Training: 7.33%,  Loss: 3.00106, ACC: 46.34% "
     ]
    },
    {
     "name": "stdout",
     "output_type": "stream",
     "text": [
      "\n"
     ]
    },
    {
     "name": "stderr",
     "output_type": "stream",
     "text": [
      "201it [22:38,  8.53s/it]0.000760, Training: 7.36%,  Loss: 3.00137, ACC: 46.33% "
     ]
    },
    {
     "name": "stdout",
     "output_type": "stream",
     "text": [
      "\n"
     ]
    },
    {
     "name": "stderr",
     "output_type": "stream",
     "text": [
      "202it [22:46,  8.21s/it]0.000760, Training: 7.40%,  Loss: 3.00163, ACC: 46.32% "
     ]
    },
    {
     "name": "stdout",
     "output_type": "stream",
     "text": [
      "\n"
     ]
    },
    {
     "name": "stderr",
     "output_type": "stream",
     "text": [
      "203it [22:53,  7.95s/it]0.000760, Training: 7.44%,  Loss: 3.00201, ACC: 46.32% "
     ]
    },
    {
     "name": "stdout",
     "output_type": "stream",
     "text": [
      "\n"
     ]
    },
    {
     "name": "stderr",
     "output_type": "stream",
     "text": [
      "204it [23:01,  7.74s/it]0.000760, Training: 7.47%,  Loss: 3.00222, ACC: 46.31% "
     ]
    },
    {
     "name": "stdout",
     "output_type": "stream",
     "text": [
      "\n"
     ]
    },
    {
     "name": "stderr",
     "output_type": "stream",
     "text": [
      "205it [23:08,  7.59s/it]0.000760, Training: 7.51%,  Loss: 3.00369, ACC: 46.30% "
     ]
    },
    {
     "name": "stdout",
     "output_type": "stream",
     "text": [
      "\n"
     ]
    },
    {
     "name": "stderr",
     "output_type": "stream",
     "text": [
      "206it [23:15,  7.49s/it]0.000760, Training: 7.55%,  Loss: 3.00332, ACC: 46.30% "
     ]
    },
    {
     "name": "stdout",
     "output_type": "stream",
     "text": [
      "\n"
     ]
    },
    {
     "name": "stderr",
     "output_type": "stream",
     "text": [
      "207it [23:22,  7.39s/it]0.000760, Training: 7.58%,  Loss: 3.00247, ACC: 46.32% "
     ]
    },
    {
     "name": "stdout",
     "output_type": "stream",
     "text": [
      "\n"
     ]
    },
    {
     "name": "stderr",
     "output_type": "stream",
     "text": [
      "208it [23:29,  7.31s/it]0.000760, Training: 7.62%,  Loss: 3.00191, ACC: 46.33% "
     ]
    },
    {
     "name": "stdout",
     "output_type": "stream",
     "text": [
      "\n"
     ]
    },
    {
     "name": "stderr",
     "output_type": "stream",
     "text": [
      "209it [23:37,  7.32s/it]0.000760, Training: 7.66%,  Loss: 3.00113, ACC: 46.33% "
     ]
    },
    {
     "name": "stdout",
     "output_type": "stream",
     "text": [
      "\n"
     ]
    },
    {
     "name": "stderr",
     "output_type": "stream",
     "text": [
      "210it [23:44,  7.29s/it]0.000760, Training: 7.69%,  Loss: 3.00022, ACC: 46.34% "
     ]
    },
    {
     "name": "stdout",
     "output_type": "stream",
     "text": [
      "\n"
     ]
    },
    {
     "name": "stderr",
     "output_type": "stream",
     "text": [
      "211it [23:51,  7.28s/it]0.000760, Training: 7.73%,  Loss: 3.00104, ACC: 46.33% "
     ]
    },
    {
     "name": "stdout",
     "output_type": "stream",
     "text": [
      "\n"
     ]
    },
    {
     "name": "stderr",
     "output_type": "stream",
     "text": [
      "212it [23:58,  7.27s/it]0.000760, Training: 7.77%,  Loss: 3.00058, ACC: 46.36% "
     ]
    },
    {
     "name": "stdout",
     "output_type": "stream",
     "text": [
      "\n"
     ]
    },
    {
     "name": "stderr",
     "output_type": "stream",
     "text": [
      "213it [24:06,  7.27s/it]0.000760, Training: 7.80%,  Loss: 2.99933, ACC: 46.38% "
     ]
    },
    {
     "name": "stdout",
     "output_type": "stream",
     "text": [
      "\n"
     ]
    },
    {
     "name": "stderr",
     "output_type": "stream",
     "text": [
      "214it [24:13,  7.20s/it]0.000760, Training: 7.84%,  Loss: 2.99841, ACC: 46.39% "
     ]
    },
    {
     "name": "stdout",
     "output_type": "stream",
     "text": [
      "\n"
     ]
    },
    {
     "name": "stderr",
     "output_type": "stream",
     "text": [
      "215it [24:20,  7.26s/it]0.000760, Training: 7.88%,  Loss: 2.99941, ACC: 46.37% "
     ]
    },
    {
     "name": "stdout",
     "output_type": "stream",
     "text": [
      "\n"
     ]
    },
    {
     "name": "stderr",
     "output_type": "stream",
     "text": [
      "216it [24:27,  7.27s/it]0.000760, Training: 7.91%,  Loss: 2.99914, ACC: 46.37% "
     ]
    },
    {
     "name": "stdout",
     "output_type": "stream",
     "text": [
      "\n"
     ]
    },
    {
     "name": "stderr",
     "output_type": "stream",
     "text": [
      "217it [24:35,  7.24s/it]0.000760, Training: 7.95%,  Loss: 2.99997, ACC: 46.36% "
     ]
    },
    {
     "name": "stdout",
     "output_type": "stream",
     "text": [
      "\n"
     ]
    },
    {
     "name": "stderr",
     "output_type": "stream",
     "text": [
      "218it [24:42,  7.22s/it]0.000760, Training: 7.99%,  Loss: 3.00042, ACC: 46.35% "
     ]
    },
    {
     "name": "stdout",
     "output_type": "stream",
     "text": [
      "\n"
     ]
    },
    {
     "name": "stderr",
     "output_type": "stream",
     "text": [
      "219it [24:49,  7.16s/it]0.000760, Training: 8.02%,  Loss: 3.00025, ACC: 46.36% "
     ]
    },
    {
     "name": "stdout",
     "output_type": "stream",
     "text": [
      "\n"
     ]
    },
    {
     "name": "stderr",
     "output_type": "stream",
     "text": [
      "220it [24:56,  7.16s/it]0.000760, Training: 8.06%,  Loss: 2.99964, ACC: 46.36% "
     ]
    },
    {
     "name": "stdout",
     "output_type": "stream",
     "text": [
      "\n"
     ]
    },
    {
     "name": "stderr",
     "output_type": "stream",
     "text": [
      "221it [25:03,  7.21s/it]0.000760, Training: 8.10%,  Loss: 2.99938, ACC: 46.36% "
     ]
    },
    {
     "name": "stdout",
     "output_type": "stream",
     "text": [
      "\n"
     ]
    },
    {
     "name": "stderr",
     "output_type": "stream",
     "text": [
      "222it [25:10,  7.17s/it]0.000760, Training: 8.13%,  Loss: 2.99950, ACC: 46.36% "
     ]
    },
    {
     "name": "stdout",
     "output_type": "stream",
     "text": [
      "\n"
     ]
    },
    {
     "name": "stderr",
     "output_type": "stream",
     "text": [
      "223it [25:17,  7.18s/it]0.000760, Training: 8.17%,  Loss: 2.99936, ACC: 46.36% "
     ]
    },
    {
     "name": "stdout",
     "output_type": "stream",
     "text": [
      "\n"
     ]
    },
    {
     "name": "stderr",
     "output_type": "stream",
     "text": [
      "224it [25:24,  7.12s/it]0.000760, Training: 8.21%,  Loss: 3.00030, ACC: 46.35% "
     ]
    },
    {
     "name": "stdout",
     "output_type": "stream",
     "text": [
      "\n"
     ]
    },
    {
     "name": "stderr",
     "output_type": "stream",
     "text": [
      "225it [25:32,  7.13s/it]0.000760, Training: 8.24%,  Loss: 3.00149, ACC: 46.33% "
     ]
    },
    {
     "name": "stdout",
     "output_type": "stream",
     "text": [
      "\n"
     ]
    },
    {
     "name": "stderr",
     "output_type": "stream",
     "text": [
      "226it [25:39,  7.12s/it]0.000760, Training: 8.28%,  Loss: 3.00048, ACC: 46.34% "
     ]
    },
    {
     "name": "stdout",
     "output_type": "stream",
     "text": [
      "\n"
     ]
    },
    {
     "name": "stderr",
     "output_type": "stream",
     "text": [
      "227it [25:46,  7.13s/it]0.000760, Training: 8.32%,  Loss: 3.00037, ACC: 46.36% "
     ]
    },
    {
     "name": "stdout",
     "output_type": "stream",
     "text": [
      "\n"
     ]
    },
    {
     "name": "stderr",
     "output_type": "stream",
     "text": [
      "228it [25:53,  7.13s/it]0.000760, Training: 8.35%,  Loss: 3.00103, ACC: 46.36% "
     ]
    },
    {
     "name": "stdout",
     "output_type": "stream",
     "text": [
      "\n"
     ]
    },
    {
     "name": "stderr",
     "output_type": "stream",
     "text": [
      "229it [26:00,  7.11s/it]0.000760, Training: 8.39%,  Loss: 3.00077, ACC: 46.37% "
     ]
    },
    {
     "name": "stdout",
     "output_type": "stream",
     "text": [
      "\n"
     ]
    },
    {
     "name": "stderr",
     "output_type": "stream",
     "text": [
      "230it [26:07,  7.10s/it]0.000760, Training: 8.42%,  Loss: 3.00132, ACC: 46.35% "
     ]
    },
    {
     "name": "stdout",
     "output_type": "stream",
     "text": [
      "\n"
     ]
    },
    {
     "name": "stderr",
     "output_type": "stream",
     "text": [
      "231it [26:14,  7.16s/it]0.000760, Training: 8.46%,  Loss: 3.00154, ACC: 46.35% "
     ]
    },
    {
     "name": "stdout",
     "output_type": "stream",
     "text": [
      "\n"
     ]
    },
    {
     "name": "stderr",
     "output_type": "stream",
     "text": [
      "232it [26:21,  7.13s/it]0.000760, Training: 8.50%,  Loss: 3.00225, ACC: 46.34% "
     ]
    },
    {
     "name": "stdout",
     "output_type": "stream",
     "text": [
      "\n"
     ]
    },
    {
     "name": "stderr",
     "output_type": "stream",
     "text": [
      "233it [26:29,  7.15s/it]0.000760, Training: 8.53%,  Loss: 3.00292, ACC: 46.32% "
     ]
    },
    {
     "name": "stdout",
     "output_type": "stream",
     "text": [
      "\n"
     ]
    },
    {
     "name": "stderr",
     "output_type": "stream",
     "text": [
      "234it [26:36,  7.16s/it]0.000760, Training: 8.57%,  Loss: 3.00371, ACC: 46.33% "
     ]
    },
    {
     "name": "stdout",
     "output_type": "stream",
     "text": [
      "\n"
     ]
    },
    {
     "name": "stderr",
     "output_type": "stream",
     "text": [
      "235it [26:43,  7.14s/it]0.000760, Training: 8.61%,  Loss: 3.00488, ACC: 46.32% "
     ]
    },
    {
     "name": "stdout",
     "output_type": "stream",
     "text": [
      "\n"
     ]
    },
    {
     "name": "stderr",
     "output_type": "stream",
     "text": [
      "236it [26:50,  7.11s/it]0.000760, Training: 8.64%,  Loss: 3.00456, ACC: 46.33% "
     ]
    },
    {
     "name": "stdout",
     "output_type": "stream",
     "text": [
      "\n"
     ]
    },
    {
     "name": "stderr",
     "output_type": "stream",
     "text": [
      "237it [26:57,  7.12s/it]0.000760, Training: 8.68%,  Loss: 3.00462, ACC: 46.35% "
     ]
    },
    {
     "name": "stdout",
     "output_type": "stream",
     "text": [
      "\n"
     ]
    },
    {
     "name": "stderr",
     "output_type": "stream",
     "text": [
      "238it [27:04,  7.10s/it]0.000760, Training: 8.72%,  Loss: 3.00455, ACC: 46.34% "
     ]
    },
    {
     "name": "stdout",
     "output_type": "stream",
     "text": [
      "\n"
     ]
    },
    {
     "name": "stderr",
     "output_type": "stream",
     "text": [
      "239it [27:11,  7.14s/it]0.000760, Training: 8.75%,  Loss: 3.00491, ACC: 46.34% "
     ]
    },
    {
     "name": "stdout",
     "output_type": "stream",
     "text": [
      "\n"
     ]
    },
    {
     "name": "stderr",
     "output_type": "stream",
     "text": [
      "240it [27:18,  7.11s/it]0.000760, Training: 8.79%,  Loss: 3.00482, ACC: 46.34% "
     ]
    },
    {
     "name": "stdout",
     "output_type": "stream",
     "text": [
      "\n"
     ]
    },
    {
     "name": "stderr",
     "output_type": "stream",
     "text": [
      "241it [27:26,  7.16s/it]0.000760, Training: 8.83%,  Loss: 3.00509, ACC: 46.33% "
     ]
    },
    {
     "name": "stdout",
     "output_type": "stream",
     "text": [
      "\n"
     ]
    },
    {
     "name": "stderr",
     "output_type": "stream",
     "text": [
      "242it [27:33,  7.15s/it]0.000760, Training: 8.86%,  Loss: 3.00438, ACC: 46.34% "
     ]
    },
    {
     "name": "stdout",
     "output_type": "stream",
     "text": [
      "\n"
     ]
    },
    {
     "name": "stderr",
     "output_type": "stream",
     "text": [
      "243it [27:40,  7.12s/it]0.000760, Training: 8.90%,  Loss: 3.00506, ACC: 46.33% "
     ]
    },
    {
     "name": "stdout",
     "output_type": "stream",
     "text": [
      "\n"
     ]
    },
    {
     "name": "stderr",
     "output_type": "stream",
     "text": [
      "244it [27:47,  7.07s/it]0.000760, Training: 8.94%,  Loss: 3.00452, ACC: 46.34% "
     ]
    },
    {
     "name": "stdout",
     "output_type": "stream",
     "text": [
      "\n"
     ]
    },
    {
     "name": "stderr",
     "output_type": "stream",
     "text": [
      "245it [27:54,  7.06s/it]0.000760, Training: 8.97%,  Loss: 3.00402, ACC: 46.34% "
     ]
    },
    {
     "name": "stdout",
     "output_type": "stream",
     "text": [
      "\n"
     ]
    },
    {
     "name": "stderr",
     "output_type": "stream",
     "text": [
      "246it [28:01,  7.08s/it]0.000760, Training: 9.01%,  Loss: 3.00410, ACC: 46.34% "
     ]
    },
    {
     "name": "stdout",
     "output_type": "stream",
     "text": [
      "\n"
     ]
    },
    {
     "name": "stderr",
     "output_type": "stream",
     "text": [
      "247it [28:08,  7.04s/it]0.000760, Training: 9.05%,  Loss: 3.00323, ACC: 46.35% "
     ]
    },
    {
     "name": "stdout",
     "output_type": "stream",
     "text": [
      "\n"
     ]
    },
    {
     "name": "stderr",
     "output_type": "stream",
     "text": [
      "248it [28:15,  7.11s/it]0.000760, Training: 9.08%,  Loss: 3.00385, ACC: 46.34% "
     ]
    },
    {
     "name": "stdout",
     "output_type": "stream",
     "text": [
      "\n"
     ]
    },
    {
     "name": "stderr",
     "output_type": "stream",
     "text": [
      "249it [28:23,  7.16s/it]0.000760, Training: 9.12%,  Loss: 3.00348, ACC: 46.35% "
     ]
    },
    {
     "name": "stdout",
     "output_type": "stream",
     "text": [
      "\n"
     ]
    },
    {
     "name": "stderr",
     "output_type": "stream",
     "text": [
      "250it [28:30,  7.10s/it]0.000760, Training: 9.16%,  Loss: 3.00372, ACC: 46.34% "
     ]
    },
    {
     "name": "stdout",
     "output_type": "stream",
     "text": [
      "\n"
     ]
    },
    {
     "name": "stderr",
     "output_type": "stream",
     "text": [
      "251it [28:37,  7.10s/it]0.000760, Training: 9.19%,  Loss: 3.00443, ACC: 46.33% "
     ]
    },
    {
     "name": "stdout",
     "output_type": "stream",
     "text": [
      "\n"
     ]
    },
    {
     "name": "stderr",
     "output_type": "stream",
     "text": [
      "252it [28:44,  7.08s/it]0.000760, Training: 9.23%,  Loss: 3.00372, ACC: 46.33% "
     ]
    },
    {
     "name": "stdout",
     "output_type": "stream",
     "text": [
      "\n"
     ]
    },
    {
     "name": "stderr",
     "output_type": "stream",
     "text": [
      "253it [28:51,  7.07s/it]0.000760, Training: 9.27%,  Loss: 3.00272, ACC: 46.34% "
     ]
    },
    {
     "name": "stdout",
     "output_type": "stream",
     "text": [
      "\n"
     ]
    },
    {
     "name": "stderr",
     "output_type": "stream",
     "text": [
      "254it [28:58,  7.07s/it]0.000760, Training: 9.30%,  Loss: 3.00289, ACC: 46.34% "
     ]
    },
    {
     "name": "stdout",
     "output_type": "stream",
     "text": [
      "\n"
     ]
    },
    {
     "name": "stderr",
     "output_type": "stream",
     "text": [
      "255it [29:05,  7.12s/it]0.000760, Training: 9.34%,  Loss: 3.00237, ACC: 46.34% "
     ]
    },
    {
     "name": "stdout",
     "output_type": "stream",
     "text": [
      "\n"
     ]
    },
    {
     "name": "stderr",
     "output_type": "stream",
     "text": [
      "256it [29:12,  7.17s/it]0.000760, Training: 9.38%,  Loss: 3.00352, ACC: 46.33% "
     ]
    },
    {
     "name": "stdout",
     "output_type": "stream",
     "text": [
      "\n"
     ]
    },
    {
     "name": "stderr",
     "output_type": "stream",
     "text": [
      "257it [29:19,  7.15s/it]0.000760, Training: 9.41%,  Loss: 3.00331, ACC: 46.34% "
     ]
    },
    {
     "name": "stdout",
     "output_type": "stream",
     "text": [
      "\n"
     ]
    },
    {
     "name": "stderr",
     "output_type": "stream",
     "text": [
      "258it [29:27,  7.22s/it]0.000760, Training: 9.45%,  Loss: 3.00432, ACC: 46.32% "
     ]
    },
    {
     "name": "stdout",
     "output_type": "stream",
     "text": [
      "\n"
     ]
    },
    {
     "name": "stderr",
     "output_type": "stream",
     "text": [
      "259it [29:34,  7.13s/it]0.000760, Training: 9.49%,  Loss: 3.00386, ACC: 46.33% "
     ]
    },
    {
     "name": "stdout",
     "output_type": "stream",
     "text": [
      "\n"
     ]
    },
    {
     "name": "stderr",
     "output_type": "stream",
     "text": [
      "260it [29:41,  7.10s/it]0.000760, Training: 9.52%,  Loss: 3.00406, ACC: 46.33% "
     ]
    },
    {
     "name": "stdout",
     "output_type": "stream",
     "text": [
      "\n"
     ]
    },
    {
     "name": "stderr",
     "output_type": "stream",
     "text": [
      "261it [29:48,  7.06s/it]0.000760, Training: 9.56%,  Loss: 3.00402, ACC: 46.34% "
     ]
    },
    {
     "name": "stdout",
     "output_type": "stream",
     "text": [
      "\n"
     ]
    },
    {
     "name": "stderr",
     "output_type": "stream",
     "text": [
      "262it [29:55,  7.11s/it]0.000760, Training: 9.60%,  Loss: 3.00390, ACC: 46.34% "
     ]
    },
    {
     "name": "stdout",
     "output_type": "stream",
     "text": [
      "\n"
     ]
    },
    {
     "name": "stderr",
     "output_type": "stream",
     "text": [
      "263it [30:02,  7.08s/it]0.000760, Training: 9.63%,  Loss: 3.00436, ACC: 46.33% "
     ]
    },
    {
     "name": "stdout",
     "output_type": "stream",
     "text": [
      "\n"
     ]
    },
    {
     "name": "stderr",
     "output_type": "stream",
     "text": [
      "264it [30:09,  7.05s/it]0.000760, Training: 9.67%,  Loss: 3.00445, ACC: 46.35% "
     ]
    },
    {
     "name": "stdout",
     "output_type": "stream",
     "text": [
      "\n"
     ]
    },
    {
     "name": "stderr",
     "output_type": "stream",
     "text": [
      "265it [30:16,  7.08s/it]0.000760, Training: 9.71%,  Loss: 3.00373, ACC: 46.37% "
     ]
    },
    {
     "name": "stdout",
     "output_type": "stream",
     "text": [
      "\n"
     ]
    },
    {
     "name": "stderr",
     "output_type": "stream",
     "text": [
      "266it [30:23,  6.98s/it]0.000760, Training: 9.74%,  Loss: 3.00276, ACC: 46.39% "
     ]
    },
    {
     "name": "stdout",
     "output_type": "stream",
     "text": [
      "\n"
     ]
    },
    {
     "name": "stderr",
     "output_type": "stream",
     "text": [
      "267it [30:30,  7.00s/it]0.000760, Training: 9.78%,  Loss: 3.00272, ACC: 46.38% "
     ]
    },
    {
     "name": "stdout",
     "output_type": "stream",
     "text": [
      "\n"
     ]
    },
    {
     "name": "stderr",
     "output_type": "stream",
     "text": [
      "268it [30:37,  7.05s/it]0.000760, Training: 9.82%,  Loss: 3.00297, ACC: 46.38% "
     ]
    },
    {
     "name": "stdout",
     "output_type": "stream",
     "text": [
      "\n"
     ]
    },
    {
     "name": "stderr",
     "output_type": "stream",
     "text": [
      "269it [30:44,  7.00s/it]0.000760, Training: 9.85%,  Loss: 3.00289, ACC: 46.40% "
     ]
    },
    {
     "name": "stdout",
     "output_type": "stream",
     "text": [
      "\n"
     ]
    },
    {
     "name": "stderr",
     "output_type": "stream",
     "text": [
      "270it [30:51,  7.01s/it]0.000760, Training: 9.89%,  Loss: 3.00313, ACC: 46.40% "
     ]
    },
    {
     "name": "stdout",
     "output_type": "stream",
     "text": [
      "\n"
     ]
    },
    {
     "name": "stderr",
     "output_type": "stream",
     "text": [
      "271it [30:58,  7.01s/it]0.000760, Training: 9.93%,  Loss: 3.00377, ACC: 46.38% "
     ]
    },
    {
     "name": "stdout",
     "output_type": "stream",
     "text": [
      "\n"
     ]
    },
    {
     "name": "stderr",
     "output_type": "stream",
     "text": [
      "272it [31:05,  7.03s/it]0.000760, Training: 9.96%,  Loss: 3.00358, ACC: 46.39% "
     ]
    },
    {
     "name": "stdout",
     "output_type": "stream",
     "text": [
      "\n"
     ]
    },
    {
     "name": "stderr",
     "output_type": "stream",
     "text": [
      "273it [31:12,  7.04s/it]0.000760, Training: 10.00%,  Loss: 3.00344, ACC: 46.40% "
     ]
    },
    {
     "name": "stdout",
     "output_type": "stream",
     "text": [
      "\n"
     ]
    },
    {
     "name": "stderr",
     "output_type": "stream",
     "text": [
      "274it [31:19,  7.02s/it]0.000760, Training: 10.04%,  Loss: 3.00246, ACC: 46.41% "
     ]
    },
    {
     "name": "stdout",
     "output_type": "stream",
     "text": [
      "\n"
     ]
    },
    {
     "name": "stderr",
     "output_type": "stream",
     "text": [
      "275it [31:26,  6.97s/it]0.000760, Training: 10.07%,  Loss: 3.00190, ACC: 46.41% "
     ]
    },
    {
     "name": "stdout",
     "output_type": "stream",
     "text": [
      "\n"
     ]
    },
    {
     "name": "stderr",
     "output_type": "stream",
     "text": [
      "276it [31:33,  6.97s/it]0.000760, Training: 10.11%,  Loss: 3.00150, ACC: 46.41% "
     ]
    },
    {
     "name": "stdout",
     "output_type": "stream",
     "text": [
      "\n"
     ]
    },
    {
     "name": "stderr",
     "output_type": "stream",
     "text": [
      "277it [31:40,  7.00s/it]0.000760, Training: 10.15%,  Loss: 3.00175, ACC: 46.42% "
     ]
    },
    {
     "name": "stdout",
     "output_type": "stream",
     "text": [
      "\n"
     ]
    },
    {
     "name": "stderr",
     "output_type": "stream",
     "text": [
      "278it [31:47,  7.02s/it]0.000760, Training: 10.18%,  Loss: 3.00220, ACC: 46.42% "
     ]
    },
    {
     "name": "stdout",
     "output_type": "stream",
     "text": [
      "\n"
     ]
    },
    {
     "name": "stderr",
     "output_type": "stream",
     "text": [
      "279it [31:54,  7.01s/it]0.000760, Training: 10.22%,  Loss: 3.00224, ACC: 46.42% "
     ]
    },
    {
     "name": "stdout",
     "output_type": "stream",
     "text": [
      "\n"
     ]
    },
    {
     "name": "stderr",
     "output_type": "stream",
     "text": [
      "280it [32:01,  6.97s/it]0.000760, Training: 10.26%,  Loss: 3.00091, ACC: 46.44% "
     ]
    },
    {
     "name": "stdout",
     "output_type": "stream",
     "text": [
      "\n"
     ]
    },
    {
     "name": "stderr",
     "output_type": "stream",
     "text": [
      "281it [32:08,  6.97s/it]0.000760, Training: 10.29%,  Loss: 3.00116, ACC: 46.44% "
     ]
    },
    {
     "name": "stdout",
     "output_type": "stream",
     "text": [
      "\n"
     ]
    },
    {
     "name": "stderr",
     "output_type": "stream",
     "text": [
      "282it [32:15,  6.97s/it]0.000760, Training: 10.33%,  Loss: 3.00064, ACC: 46.45% "
     ]
    },
    {
     "name": "stdout",
     "output_type": "stream",
     "text": [
      "\n"
     ]
    },
    {
     "name": "stderr",
     "output_type": "stream",
     "text": [
      "283it [32:22,  7.01s/it]0.000760, Training: 10.37%,  Loss: 2.99991, ACC: 46.46% "
     ]
    },
    {
     "name": "stdout",
     "output_type": "stream",
     "text": [
      "\n"
     ]
    },
    {
     "name": "stderr",
     "output_type": "stream",
     "text": [
      "284it [32:29,  7.01s/it]0.000760, Training: 10.40%,  Loss: 2.99863, ACC: 46.48% "
     ]
    },
    {
     "name": "stdout",
     "output_type": "stream",
     "text": [
      "\n"
     ]
    },
    {
     "name": "stderr",
     "output_type": "stream",
     "text": [
      "285it [32:36,  7.03s/it]0.000760, Training: 10.44%,  Loss: 2.99872, ACC: 46.47% "
     ]
    },
    {
     "name": "stdout",
     "output_type": "stream",
     "text": [
      "\n"
     ]
    },
    {
     "name": "stderr",
     "output_type": "stream",
     "text": [
      "286it [32:43,  7.01s/it]0.000760, Training: 10.48%,  Loss: 2.99785, ACC: 46.48% "
     ]
    },
    {
     "name": "stdout",
     "output_type": "stream",
     "text": [
      "\n"
     ]
    },
    {
     "name": "stderr",
     "output_type": "stream",
     "text": [
      "287it [32:50,  7.04s/it]0.000760, Training: 10.51%,  Loss: 2.99744, ACC: 46.49% "
     ]
    },
    {
     "name": "stdout",
     "output_type": "stream",
     "text": [
      "\n"
     ]
    },
    {
     "name": "stderr",
     "output_type": "stream",
     "text": [
      "288it [32:57,  7.08s/it]0.000760, Training: 10.55%,  Loss: 2.99681, ACC: 46.49% "
     ]
    },
    {
     "name": "stdout",
     "output_type": "stream",
     "text": [
      "\n"
     ]
    },
    {
     "name": "stderr",
     "output_type": "stream",
     "text": [
      "289it [33:04,  7.09s/it]0.000760, Training: 10.59%,  Loss: 2.99692, ACC: 46.50% "
     ]
    },
    {
     "name": "stdout",
     "output_type": "stream",
     "text": [
      "\n"
     ]
    },
    {
     "name": "stderr",
     "output_type": "stream",
     "text": [
      "290it [33:11,  7.02s/it]0.000760, Training: 10.62%,  Loss: 2.99663, ACC: 46.50% "
     ]
    },
    {
     "name": "stdout",
     "output_type": "stream",
     "text": [
      "\n"
     ]
    },
    {
     "name": "stderr",
     "output_type": "stream",
     "text": [
      "291it [33:18,  7.01s/it]0.000760, Training: 10.66%,  Loss: 2.99684, ACC: 46.50% "
     ]
    },
    {
     "name": "stdout",
     "output_type": "stream",
     "text": [
      "\n"
     ]
    },
    {
     "name": "stderr",
     "output_type": "stream",
     "text": [
      "292it [33:25,  6.99s/it]0.000760, Training: 10.70%,  Loss: 2.99629, ACC: 46.52% "
     ]
    },
    {
     "name": "stdout",
     "output_type": "stream",
     "text": [
      "\n"
     ]
    },
    {
     "name": "stderr",
     "output_type": "stream",
     "text": [
      "293it [33:32,  7.06s/it]0.000760, Training: 10.73%,  Loss: 2.99763, ACC: 46.50% "
     ]
    },
    {
     "name": "stdout",
     "output_type": "stream",
     "text": [
      "\n"
     ]
    },
    {
     "name": "stderr",
     "output_type": "stream",
     "text": [
      "294it [33:39,  7.07s/it]0.000760, Training: 10.77%,  Loss: 2.99696, ACC: 46.50% "
     ]
    },
    {
     "name": "stdout",
     "output_type": "stream",
     "text": [
      "\n"
     ]
    },
    {
     "name": "stderr",
     "output_type": "stream",
     "text": [
      "295it [33:46,  7.03s/it]0.000760, Training: 10.81%,  Loss: 2.99698, ACC: 46.51% "
     ]
    },
    {
     "name": "stdout",
     "output_type": "stream",
     "text": [
      "\n"
     ]
    },
    {
     "name": "stderr",
     "output_type": "stream",
     "text": [
      "296it [33:54,  7.09s/it]0.000760, Training: 10.84%,  Loss: 2.99796, ACC: 46.50% "
     ]
    },
    {
     "name": "stdout",
     "output_type": "stream",
     "text": [
      "\n"
     ]
    },
    {
     "name": "stderr",
     "output_type": "stream",
     "text": [
      "297it [34:01,  7.07s/it]0.000760, Training: 10.88%,  Loss: 2.99757, ACC: 46.51% "
     ]
    },
    {
     "name": "stdout",
     "output_type": "stream",
     "text": [
      "\n"
     ]
    },
    {
     "name": "stderr",
     "output_type": "stream",
     "text": [
      "298it [34:08,  7.04s/it]0.000760, Training: 10.92%,  Loss: 2.99726, ACC: 46.52% "
     ]
    },
    {
     "name": "stdout",
     "output_type": "stream",
     "text": [
      "\n"
     ]
    },
    {
     "name": "stderr",
     "output_type": "stream",
     "text": [
      "299it [34:15,  7.05s/it]0.000760, Training: 10.95%,  Loss: 2.99836, ACC: 46.52% "
     ]
    },
    {
     "name": "stdout",
     "output_type": "stream",
     "text": [
      "\n"
     ]
    },
    {
     "name": "stderr",
     "output_type": "stream",
     "text": [
      "300it [34:22,  7.08s/it]0.000760, Training: 10.99%,  Loss: 2.99756, ACC: 46.52% "
     ]
    },
    {
     "name": "stdout",
     "output_type": "stream",
     "text": [
      "\n"
     ]
    },
    {
     "name": "stderr",
     "output_type": "stream",
     "text": [
      "301it [34:29,  7.05s/it]0.000760, Training: 11.03%,  Loss: 2.99807, ACC: 46.51% "
     ]
    },
    {
     "name": "stdout",
     "output_type": "stream",
     "text": [
      "\n"
     ]
    },
    {
     "name": "stderr",
     "output_type": "stream",
     "text": [
      "302it [34:36,  7.03s/it]0.000760, Training: 11.06%,  Loss: 2.99721, ACC: 46.51% "
     ]
    },
    {
     "name": "stdout",
     "output_type": "stream",
     "text": [
      "\n"
     ]
    },
    {
     "name": "stderr",
     "output_type": "stream",
     "text": [
      "303it [34:43,  7.07s/it]0.000760, Training: 11.10%,  Loss: 2.99746, ACC: 46.51% "
     ]
    },
    {
     "name": "stdout",
     "output_type": "stream",
     "text": [
      "\n"
     ]
    },
    {
     "name": "stderr",
     "output_type": "stream",
     "text": [
      "304it [34:50,  7.03s/it]0.000760, Training: 11.14%,  Loss: 2.99636, ACC: 46.53% "
     ]
    },
    {
     "name": "stdout",
     "output_type": "stream",
     "text": [
      "\n"
     ]
    },
    {
     "name": "stderr",
     "output_type": "stream",
     "text": [
      "305it [34:57,  6.99s/it]0.000760, Training: 11.17%,  Loss: 2.99542, ACC: 46.54% "
     ]
    },
    {
     "name": "stdout",
     "output_type": "stream",
     "text": [
      "\n"
     ]
    },
    {
     "name": "stderr",
     "output_type": "stream",
     "text": [
      "306it [35:04,  7.01s/it]0.000760, Training: 11.21%,  Loss: 2.99593, ACC: 46.54% "
     ]
    },
    {
     "name": "stdout",
     "output_type": "stream",
     "text": [
      "\n"
     ]
    },
    {
     "name": "stderr",
     "output_type": "stream",
     "text": [
      "307it [35:11,  6.98s/it]0.000760, Training: 11.25%,  Loss: 2.99637, ACC: 46.54% "
     ]
    },
    {
     "name": "stdout",
     "output_type": "stream",
     "text": [
      "\n"
     ]
    },
    {
     "name": "stderr",
     "output_type": "stream",
     "text": [
      "308it [35:18,  6.96s/it]0.000760, Training: 11.28%,  Loss: 2.99718, ACC: 46.52% "
     ]
    },
    {
     "name": "stdout",
     "output_type": "stream",
     "text": [
      "\n"
     ]
    },
    {
     "name": "stderr",
     "output_type": "stream",
     "text": [
      "309it [35:25,  6.94s/it]0.000760, Training: 11.32%,  Loss: 2.99675, ACC: 46.52% "
     ]
    },
    {
     "name": "stdout",
     "output_type": "stream",
     "text": [
      "\n"
     ]
    },
    {
     "name": "stderr",
     "output_type": "stream",
     "text": [
      "310it [35:32,  6.96s/it]0.000760, Training: 11.36%,  Loss: 2.99678, ACC: 46.52% "
     ]
    },
    {
     "name": "stdout",
     "output_type": "stream",
     "text": [
      "\n"
     ]
    },
    {
     "name": "stderr",
     "output_type": "stream",
     "text": [
      "311it [35:39,  6.98s/it]0.000760, Training: 11.39%,  Loss: 2.99677, ACC: 46.51% "
     ]
    },
    {
     "name": "stdout",
     "output_type": "stream",
     "text": [
      "\n"
     ]
    },
    {
     "name": "stderr",
     "output_type": "stream",
     "text": [
      "312it [35:46,  6.97s/it]0.000760, Training: 11.43%,  Loss: 2.99718, ACC: 46.51% "
     ]
    },
    {
     "name": "stdout",
     "output_type": "stream",
     "text": [
      "\n"
     ]
    },
    {
     "name": "stderr",
     "output_type": "stream",
     "text": [
      "313it [35:52,  6.95s/it]0.000760, Training: 11.47%,  Loss: 2.99696, ACC: 46.52% "
     ]
    },
    {
     "name": "stdout",
     "output_type": "stream",
     "text": [
      "\n"
     ]
    },
    {
     "name": "stderr",
     "output_type": "stream",
     "text": [
      "314it [35:59,  6.97s/it]0.000760, Training: 11.50%,  Loss: 2.99745, ACC: 46.50% "
     ]
    },
    {
     "name": "stdout",
     "output_type": "stream",
     "text": [
      "\n"
     ]
    },
    {
     "name": "stderr",
     "output_type": "stream",
     "text": [
      "315it [36:07,  7.01s/it]0.000760, Training: 11.54%,  Loss: 2.99754, ACC: 46.50% "
     ]
    },
    {
     "name": "stdout",
     "output_type": "stream",
     "text": [
      "\n"
     ]
    },
    {
     "name": "stderr",
     "output_type": "stream",
     "text": [
      "316it [36:14,  7.04s/it]0.000760, Training: 11.58%,  Loss: 2.99796, ACC: 46.49% "
     ]
    },
    {
     "name": "stdout",
     "output_type": "stream",
     "text": [
      "\n"
     ]
    },
    {
     "name": "stderr",
     "output_type": "stream",
     "text": [
      "317it [36:21,  7.06s/it]0.000760, Training: 11.61%,  Loss: 2.99748, ACC: 46.49% "
     ]
    },
    {
     "name": "stdout",
     "output_type": "stream",
     "text": [
      "\n"
     ]
    },
    {
     "name": "stderr",
     "output_type": "stream",
     "text": [
      "318it [36:28,  7.04s/it]0.000760, Training: 11.65%,  Loss: 2.99837, ACC: 46.47% "
     ]
    },
    {
     "name": "stdout",
     "output_type": "stream",
     "text": [
      "\n"
     ]
    },
    {
     "name": "stderr",
     "output_type": "stream",
     "text": [
      "319it [36:35,  7.04s/it]0.000760, Training: 11.68%,  Loss: 2.99865, ACC: 46.47% "
     ]
    },
    {
     "name": "stdout",
     "output_type": "stream",
     "text": [
      "\n"
     ]
    },
    {
     "name": "stderr",
     "output_type": "stream",
     "text": [
      "320it [36:42,  7.02s/it]0.000760, Training: 11.72%,  Loss: 2.99927, ACC: 46.47% "
     ]
    },
    {
     "name": "stdout",
     "output_type": "stream",
     "text": [
      "\n"
     ]
    },
    {
     "name": "stderr",
     "output_type": "stream",
     "text": [
      "321it [36:49,  6.97s/it]0.000760, Training: 11.76%,  Loss: 2.99892, ACC: 46.47% "
     ]
    },
    {
     "name": "stdout",
     "output_type": "stream",
     "text": [
      "\n"
     ]
    },
    {
     "name": "stderr",
     "output_type": "stream",
     "text": [
      "322it [36:56,  6.99s/it]0.000760, Training: 11.79%,  Loss: 2.99945, ACC: 46.47% "
     ]
    },
    {
     "name": "stdout",
     "output_type": "stream",
     "text": [
      "\n"
     ]
    },
    {
     "name": "stderr",
     "output_type": "stream",
     "text": [
      "323it [37:03,  6.97s/it]0.000760, Training: 11.83%,  Loss: 2.99950, ACC: 46.47% "
     ]
    },
    {
     "name": "stdout",
     "output_type": "stream",
     "text": [
      "\n"
     ]
    },
    {
     "name": "stderr",
     "output_type": "stream",
     "text": [
      "324it [37:09,  6.94s/it]0.000760, Training: 11.87%,  Loss: 3.00015, ACC: 46.47% "
     ]
    },
    {
     "name": "stdout",
     "output_type": "stream",
     "text": [
      "\n"
     ]
    },
    {
     "name": "stderr",
     "output_type": "stream",
     "text": [
      "325it [37:16,  6.94s/it]0.000760, Training: 11.90%,  Loss: 3.00030, ACC: 46.46% "
     ]
    },
    {
     "name": "stdout",
     "output_type": "stream",
     "text": [
      "\n"
     ]
    },
    {
     "name": "stderr",
     "output_type": "stream",
     "text": [
      "326it [37:23,  6.92s/it]0.000760, Training: 11.94%,  Loss: 3.00079, ACC: 46.45% "
     ]
    },
    {
     "name": "stdout",
     "output_type": "stream",
     "text": [
      "\n"
     ]
    },
    {
     "name": "stderr",
     "output_type": "stream",
     "text": [
      "327it [37:30,  6.92s/it]0.000760, Training: 11.98%,  Loss: 3.00047, ACC: 46.46% "
     ]
    },
    {
     "name": "stdout",
     "output_type": "stream",
     "text": [
      "\n"
     ]
    },
    {
     "name": "stderr",
     "output_type": "stream",
     "text": [
      "328it [37:37,  6.99s/it]0.000760, Training: 12.01%,  Loss: 3.00082, ACC: 46.45% "
     ]
    },
    {
     "name": "stdout",
     "output_type": "stream",
     "text": [
      "\n"
     ]
    },
    {
     "name": "stderr",
     "output_type": "stream",
     "text": [
      "329it [37:44,  7.00s/it]0.000760, Training: 12.05%,  Loss: 3.00035, ACC: 46.46% "
     ]
    },
    {
     "name": "stdout",
     "output_type": "stream",
     "text": [
      "\n"
     ]
    },
    {
     "name": "stderr",
     "output_type": "stream",
     "text": [
      "330it [37:51,  7.02s/it]0.000760, Training: 12.09%,  Loss: 3.00030, ACC: 46.46% "
     ]
    },
    {
     "name": "stdout",
     "output_type": "stream",
     "text": [
      "\n"
     ]
    },
    {
     "name": "stderr",
     "output_type": "stream",
     "text": [
      "331it [37:58,  7.01s/it]0.000760, Training: 12.12%,  Loss: 2.99992, ACC: 46.47% "
     ]
    },
    {
     "name": "stdout",
     "output_type": "stream",
     "text": [
      "\n"
     ]
    },
    {
     "name": "stderr",
     "output_type": "stream",
     "text": [
      "332it [38:05,  6.99s/it]0.000760, Training: 12.16%,  Loss: 2.99982, ACC: 46.46% "
     ]
    },
    {
     "name": "stdout",
     "output_type": "stream",
     "text": [
      "\n"
     ]
    },
    {
     "name": "stderr",
     "output_type": "stream",
     "text": [
      "333it [38:12,  6.95s/it]0.000760, Training: 12.20%,  Loss: 3.00022, ACC: 46.46% "
     ]
    },
    {
     "name": "stdout",
     "output_type": "stream",
     "text": [
      "\n"
     ]
    },
    {
     "name": "stderr",
     "output_type": "stream",
     "text": [
      "334it [38:19,  6.91s/it]0.000760, Training: 12.23%,  Loss: 3.00081, ACC: 46.45% "
     ]
    },
    {
     "name": "stdout",
     "output_type": "stream",
     "text": [
      "\n"
     ]
    },
    {
     "name": "stderr",
     "output_type": "stream",
     "text": [
      "335it [38:26,  6.90s/it]0.000760, Training: 12.27%,  Loss: 3.00178, ACC: 46.44% "
     ]
    },
    {
     "name": "stdout",
     "output_type": "stream",
     "text": [
      "\n"
     ]
    },
    {
     "name": "stderr",
     "output_type": "stream",
     "text": [
      "336it [38:33,  6.93s/it]0.000760, Training: 12.31%,  Loss: 3.00106, ACC: 46.45% "
     ]
    },
    {
     "name": "stdout",
     "output_type": "stream",
     "text": [
      "\n"
     ]
    },
    {
     "name": "stderr",
     "output_type": "stream",
     "text": [
      "337it [38:40,  6.93s/it]0.000760, Training: 12.34%,  Loss: 3.00197, ACC: 46.45% "
     ]
    },
    {
     "name": "stdout",
     "output_type": "stream",
     "text": [
      "\n"
     ]
    },
    {
     "name": "stderr",
     "output_type": "stream",
     "text": [
      "338it [38:47,  6.87s/it]0.000760, Training: 12.38%,  Loss: 3.00240, ACC: 46.45% "
     ]
    },
    {
     "name": "stdout",
     "output_type": "stream",
     "text": [
      "\n"
     ]
    },
    {
     "name": "stderr",
     "output_type": "stream",
     "text": [
      "339it [38:54,  6.89s/it]0.000760, Training: 12.42%,  Loss: 3.00330, ACC: 46.44% "
     ]
    },
    {
     "name": "stdout",
     "output_type": "stream",
     "text": [
      "\n"
     ]
    },
    {
     "name": "stderr",
     "output_type": "stream",
     "text": [
      "340it [39:00,  6.89s/it]0.000760, Training: 12.45%,  Loss: 3.00388, ACC: 46.44% "
     ]
    },
    {
     "name": "stdout",
     "output_type": "stream",
     "text": [
      "\n"
     ]
    },
    {
     "name": "stderr",
     "output_type": "stream",
     "text": [
      "341it [39:08,  6.99s/it]0.000760, Training: 12.49%,  Loss: 3.00394, ACC: 46.45% "
     ]
    },
    {
     "name": "stdout",
     "output_type": "stream",
     "text": [
      "\n"
     ]
    },
    {
     "name": "stderr",
     "output_type": "stream",
     "text": [
      "342it [39:15,  6.96s/it]0.000760, Training: 12.53%,  Loss: 3.00361, ACC: 46.44% "
     ]
    },
    {
     "name": "stdout",
     "output_type": "stream",
     "text": [
      "\n"
     ]
    },
    {
     "name": "stderr",
     "output_type": "stream",
     "text": [
      "343it [39:21,  6.96s/it]0.000760, Training: 12.56%,  Loss: 3.00370, ACC: 46.44% "
     ]
    },
    {
     "name": "stdout",
     "output_type": "stream",
     "text": [
      "\n"
     ]
    },
    {
     "name": "stderr",
     "output_type": "stream",
     "text": [
      "344it [39:29,  6.98s/it]0.000760, Training: 12.60%,  Loss: 3.00383, ACC: 46.44% "
     ]
    },
    {
     "name": "stdout",
     "output_type": "stream",
     "text": [
      "\n"
     ]
    },
    {
     "name": "stderr",
     "output_type": "stream",
     "text": [
      "345it [39:36,  7.00s/it]0.000760, Training: 12.64%,  Loss: 3.00430, ACC: 46.44% "
     ]
    },
    {
     "name": "stdout",
     "output_type": "stream",
     "text": [
      "\n"
     ]
    },
    {
     "name": "stderr",
     "output_type": "stream",
     "text": [
      "346it [39:42,  6.95s/it]0.000760, Training: 12.67%,  Loss: 3.00377, ACC: 46.45% "
     ]
    },
    {
     "name": "stdout",
     "output_type": "stream",
     "text": [
      "\n"
     ]
    },
    {
     "name": "stderr",
     "output_type": "stream",
     "text": [
      "347it [39:49,  6.98s/it]0.000760, Training: 12.71%,  Loss: 3.00385, ACC: 46.45% "
     ]
    },
    {
     "name": "stdout",
     "output_type": "stream",
     "text": [
      "\n"
     ]
    },
    {
     "name": "stderr",
     "output_type": "stream",
     "text": [
      "348it [39:56,  6.97s/it]0.000760, Training: 12.75%,  Loss: 3.00351, ACC: 46.45% "
     ]
    },
    {
     "name": "stdout",
     "output_type": "stream",
     "text": [
      "\n"
     ]
    },
    {
     "name": "stderr",
     "output_type": "stream",
     "text": [
      "349it [40:03,  6.96s/it]0.000760, Training: 12.78%,  Loss: 3.00344, ACC: 46.46% "
     ]
    },
    {
     "name": "stdout",
     "output_type": "stream",
     "text": [
      "\n"
     ]
    },
    {
     "name": "stderr",
     "output_type": "stream",
     "text": [
      "350it [40:10,  6.95s/it]0.000760, Training: 12.82%,  Loss: 3.00322, ACC: 46.46% "
     ]
    },
    {
     "name": "stdout",
     "output_type": "stream",
     "text": [
      "\n"
     ]
    },
    {
     "name": "stderr",
     "output_type": "stream",
     "text": [
      "351it [40:17,  6.97s/it]0.000760, Training: 12.86%,  Loss: 3.00311, ACC: 46.46% "
     ]
    },
    {
     "name": "stdout",
     "output_type": "stream",
     "text": [
      "\n"
     ]
    },
    {
     "name": "stderr",
     "output_type": "stream",
     "text": [
      "352it [40:24,  6.97s/it]0.000760, Training: 12.89%,  Loss: 3.00322, ACC: 46.45% "
     ]
    },
    {
     "name": "stdout",
     "output_type": "stream",
     "text": [
      "\n"
     ]
    },
    {
     "name": "stderr",
     "output_type": "stream",
     "text": [
      "353it [40:31,  6.95s/it]0.000760, Training: 12.93%,  Loss: 3.00326, ACC: 46.46% "
     ]
    },
    {
     "name": "stdout",
     "output_type": "stream",
     "text": [
      "\n"
     ]
    },
    {
     "name": "stderr",
     "output_type": "stream",
     "text": [
      "354it [40:38,  6.98s/it]0.000760, Training: 12.97%,  Loss: 3.00275, ACC: 46.45% "
     ]
    },
    {
     "name": "stdout",
     "output_type": "stream",
     "text": [
      "\n"
     ]
    },
    {
     "name": "stderr",
     "output_type": "stream",
     "text": [
      "355it [40:45,  6.96s/it]0.000760, Training: 13.00%,  Loss: 3.00252, ACC: 46.46% "
     ]
    },
    {
     "name": "stdout",
     "output_type": "stream",
     "text": [
      "\n"
     ]
    },
    {
     "name": "stderr",
     "output_type": "stream",
     "text": [
      "356it [40:52,  6.98s/it]0.000760, Training: 13.04%,  Loss: 3.00298, ACC: 46.45% "
     ]
    },
    {
     "name": "stdout",
     "output_type": "stream",
     "text": [
      "\n"
     ]
    },
    {
     "name": "stderr",
     "output_type": "stream",
     "text": [
      "357it [40:59,  6.97s/it]0.000760, Training: 13.08%,  Loss: 3.00321, ACC: 46.44% "
     ]
    },
    {
     "name": "stdout",
     "output_type": "stream",
     "text": [
      "\n"
     ]
    },
    {
     "name": "stderr",
     "output_type": "stream",
     "text": [
      "358it [41:06,  6.94s/it]0.000760, Training: 13.11%,  Loss: 3.00250, ACC: 46.46% "
     ]
    },
    {
     "name": "stdout",
     "output_type": "stream",
     "text": [
      "\n"
     ]
    },
    {
     "name": "stderr",
     "output_type": "stream",
     "text": [
      "359it [41:13,  6.98s/it]0.000760, Training: 13.15%,  Loss: 3.00293, ACC: 46.45% "
     ]
    },
    {
     "name": "stdout",
     "output_type": "stream",
     "text": [
      "\n"
     ]
    },
    {
     "name": "stderr",
     "output_type": "stream",
     "text": [
      "360it [41:20,  6.94s/it]0.000760, Training: 13.19%,  Loss: 3.00356, ACC: 46.45% "
     ]
    },
    {
     "name": "stdout",
     "output_type": "stream",
     "text": [
      "\n"
     ]
    },
    {
     "name": "stderr",
     "output_type": "stream",
     "text": [
      "361it [41:27,  6.94s/it]0.000760, Training: 13.22%,  Loss: 3.00424, ACC: 46.45% "
     ]
    },
    {
     "name": "stdout",
     "output_type": "stream",
     "text": [
      "\n"
     ]
    },
    {
     "name": "stderr",
     "output_type": "stream",
     "text": [
      "362it [41:34,  6.93s/it]0.000760, Training: 13.26%,  Loss: 3.00432, ACC: 46.44% "
     ]
    },
    {
     "name": "stdout",
     "output_type": "stream",
     "text": [
      "\n"
     ]
    },
    {
     "name": "stderr",
     "output_type": "stream",
     "text": [
      "363it [41:41,  6.94s/it]0.000760, Training: 13.30%,  Loss: 3.00415, ACC: 46.45% "
     ]
    },
    {
     "name": "stdout",
     "output_type": "stream",
     "text": [
      "\n"
     ]
    },
    {
     "name": "stderr",
     "output_type": "stream",
     "text": [
      "364it [41:48,  6.97s/it]0.000760, Training: 13.33%,  Loss: 3.00431, ACC: 46.46% "
     ]
    },
    {
     "name": "stdout",
     "output_type": "stream",
     "text": [
      "\n"
     ]
    },
    {
     "name": "stderr",
     "output_type": "stream",
     "text": [
      "365it [41:55,  6.93s/it]0.000760, Training: 13.37%,  Loss: 3.00418, ACC: 46.46% "
     ]
    },
    {
     "name": "stdout",
     "output_type": "stream",
     "text": [
      "\n"
     ]
    },
    {
     "name": "stderr",
     "output_type": "stream",
     "text": [
      "366it [42:01,  6.92s/it]0.000760, Training: 13.41%,  Loss: 3.00401, ACC: 46.45% "
     ]
    },
    {
     "name": "stdout",
     "output_type": "stream",
     "text": [
      "\n"
     ]
    },
    {
     "name": "stderr",
     "output_type": "stream",
     "text": [
      "367it [42:08,  6.89s/it]0.000760, Training: 13.44%,  Loss: 3.00397, ACC: 46.45% "
     ]
    },
    {
     "name": "stdout",
     "output_type": "stream",
     "text": [
      "\n"
     ]
    },
    {
     "name": "stderr",
     "output_type": "stream",
     "text": [
      "368it [42:15,  6.90s/it]0.000760, Training: 13.48%,  Loss: 3.00403, ACC: 46.45% "
     ]
    },
    {
     "name": "stdout",
     "output_type": "stream",
     "text": [
      "\n"
     ]
    },
    {
     "name": "stderr",
     "output_type": "stream",
     "text": [
      "369it [42:22,  6.85s/it]0.000760, Training: 13.52%,  Loss: 3.00327, ACC: 46.46% "
     ]
    },
    {
     "name": "stdout",
     "output_type": "stream",
     "text": [
      "\n"
     ]
    },
    {
     "name": "stderr",
     "output_type": "stream",
     "text": [
      "370it [42:29,  6.88s/it]0.000760, Training: 13.55%,  Loss: 3.00301, ACC: 46.47% "
     ]
    },
    {
     "name": "stdout",
     "output_type": "stream",
     "text": [
      "\n"
     ]
    },
    {
     "name": "stderr",
     "output_type": "stream",
     "text": [
      "371it [42:36,  6.86s/it]0.000760, Training: 13.59%,  Loss: 3.00276, ACC: 46.47% "
     ]
    },
    {
     "name": "stdout",
     "output_type": "stream",
     "text": [
      "\n"
     ]
    },
    {
     "name": "stderr",
     "output_type": "stream",
     "text": [
      "372it [42:43,  6.92s/it]0.000760, Training: 13.63%,  Loss: 3.00328, ACC: 46.47% "
     ]
    },
    {
     "name": "stdout",
     "output_type": "stream",
     "text": [
      "\n"
     ]
    },
    {
     "name": "stderr",
     "output_type": "stream",
     "text": [
      "373it [42:50,  6.93s/it]0.000760, Training: 13.66%,  Loss: 3.00379, ACC: 46.47% "
     ]
    },
    {
     "name": "stdout",
     "output_type": "stream",
     "text": [
      "\n"
     ]
    },
    {
     "name": "stderr",
     "output_type": "stream",
     "text": [
      "374it [42:57,  6.95s/it]0.000760, Training: 13.70%,  Loss: 3.00403, ACC: 46.48% "
     ]
    },
    {
     "name": "stdout",
     "output_type": "stream",
     "text": [
      "\n"
     ]
    },
    {
     "name": "stderr",
     "output_type": "stream",
     "text": [
      "375it [43:04,  6.98s/it]0.000760, Training: 13.74%,  Loss: 3.00379, ACC: 46.48% "
     ]
    },
    {
     "name": "stdout",
     "output_type": "stream",
     "text": [
      "\n"
     ]
    },
    {
     "name": "stderr",
     "output_type": "stream",
     "text": [
      "376it [43:11,  7.00s/it]0.000760, Training: 13.77%,  Loss: 3.00381, ACC: 46.49% "
     ]
    },
    {
     "name": "stdout",
     "output_type": "stream",
     "text": [
      "\n"
     ]
    },
    {
     "name": "stderr",
     "output_type": "stream",
     "text": [
      "377it [43:18,  6.99s/it]0.000760, Training: 13.81%,  Loss: 3.00388, ACC: 46.49% "
     ]
    },
    {
     "name": "stdout",
     "output_type": "stream",
     "text": [
      "\n"
     ]
    },
    {
     "name": "stderr",
     "output_type": "stream",
     "text": [
      "378it [43:24,  6.90s/it]0.000760, Training: 13.85%,  Loss: 3.00375, ACC: 46.50% "
     ]
    },
    {
     "name": "stdout",
     "output_type": "stream",
     "text": [
      "\n"
     ]
    },
    {
     "name": "stderr",
     "output_type": "stream",
     "text": [
      "379it [43:31,  6.87s/it]0.000760, Training: 13.88%,  Loss: 3.00284, ACC: 46.51% "
     ]
    },
    {
     "name": "stdout",
     "output_type": "stream",
     "text": [
      "\n"
     ]
    },
    {
     "name": "stderr",
     "output_type": "stream",
     "text": [
      "380it [43:38,  6.91s/it]0.000760, Training: 13.92%,  Loss: 3.00305, ACC: 46.51% "
     ]
    },
    {
     "name": "stdout",
     "output_type": "stream",
     "text": [
      "\n"
     ]
    },
    {
     "name": "stderr",
     "output_type": "stream",
     "text": [
      "381it [43:45,  6.92s/it]0.000760, Training: 13.96%,  Loss: 3.00333, ACC: 46.51% "
     ]
    },
    {
     "name": "stdout",
     "output_type": "stream",
     "text": [
      "\n"
     ]
    },
    {
     "name": "stderr",
     "output_type": "stream",
     "text": [
      "382it [43:52,  6.90s/it]0.000760, Training: 13.99%,  Loss: 3.00401, ACC: 46.51% "
     ]
    },
    {
     "name": "stdout",
     "output_type": "stream",
     "text": [
      "\n"
     ]
    },
    {
     "name": "stderr",
     "output_type": "stream",
     "text": [
      "383it [43:59,  6.94s/it]0.000760, Training: 14.03%,  Loss: 3.00403, ACC: 46.52% "
     ]
    },
    {
     "name": "stdout",
     "output_type": "stream",
     "text": [
      "\n"
     ]
    },
    {
     "name": "stderr",
     "output_type": "stream",
     "text": [
      "384it [44:06,  6.97s/it]0.000760, Training: 14.07%,  Loss: 3.00418, ACC: 46.52% "
     ]
    },
    {
     "name": "stdout",
     "output_type": "stream",
     "text": [
      "\n"
     ]
    },
    {
     "name": "stderr",
     "output_type": "stream",
     "text": [
      "385it [44:13,  6.94s/it]0.000760, Training: 14.10%,  Loss: 3.00500, ACC: 46.50% "
     ]
    },
    {
     "name": "stdout",
     "output_type": "stream",
     "text": [
      "\n"
     ]
    },
    {
     "name": "stderr",
     "output_type": "stream",
     "text": [
      "386it [44:20,  7.00s/it]0.000760, Training: 14.14%,  Loss: 3.00537, ACC: 46.49% "
     ]
    },
    {
     "name": "stdout",
     "output_type": "stream",
     "text": [
      "\n"
     ]
    },
    {
     "name": "stderr",
     "output_type": "stream",
     "text": [
      "387it [44:27,  7.06s/it]0.000760, Training: 14.18%,  Loss: 3.00543, ACC: 46.50% "
     ]
    },
    {
     "name": "stdout",
     "output_type": "stream",
     "text": [
      "\n"
     ]
    },
    {
     "name": "stderr",
     "output_type": "stream",
     "text": [
      "388it [44:34,  7.03s/it]0.000760, Training: 14.21%,  Loss: 3.00557, ACC: 46.50% "
     ]
    },
    {
     "name": "stdout",
     "output_type": "stream",
     "text": [
      "\n"
     ]
    },
    {
     "name": "stderr",
     "output_type": "stream",
     "text": [
      "389it [44:42,  7.14s/it]0.000760, Training: 14.25%,  Loss: 3.00596, ACC: 46.49% "
     ]
    },
    {
     "name": "stdout",
     "output_type": "stream",
     "text": [
      "\n"
     ]
    },
    {
     "name": "stderr",
     "output_type": "stream",
     "text": [
      "390it [44:49,  7.13s/it]0.000760, Training: 14.29%,  Loss: 3.00604, ACC: 46.49% "
     ]
    },
    {
     "name": "stdout",
     "output_type": "stream",
     "text": [
      "\n"
     ]
    },
    {
     "name": "stderr",
     "output_type": "stream",
     "text": [
      "391it [44:56,  7.07s/it]0.000760, Training: 14.32%,  Loss: 3.00552, ACC: 46.50% "
     ]
    },
    {
     "name": "stdout",
     "output_type": "stream",
     "text": [
      "\n"
     ]
    },
    {
     "name": "stderr",
     "output_type": "stream",
     "text": [
      "392it [45:03,  7.07s/it]0.000760, Training: 14.36%,  Loss: 3.00534, ACC: 46.50% "
     ]
    },
    {
     "name": "stdout",
     "output_type": "stream",
     "text": [
      "\n"
     ]
    },
    {
     "name": "stderr",
     "output_type": "stream",
     "text": [
      "393it [45:10,  7.13s/it]0.000760, Training: 14.40%,  Loss: 3.00618, ACC: 46.49% "
     ]
    },
    {
     "name": "stdout",
     "output_type": "stream",
     "text": [
      "\n"
     ]
    },
    {
     "name": "stderr",
     "output_type": "stream",
     "text": [
      "394it [45:17,  7.08s/it]0.000760, Training: 14.43%,  Loss: 3.00655, ACC: 46.48% "
     ]
    },
    {
     "name": "stdout",
     "output_type": "stream",
     "text": [
      "\n"
     ]
    },
    {
     "name": "stderr",
     "output_type": "stream",
     "text": [
      "395it [45:24,  7.14s/it]0.000760, Training: 14.47%,  Loss: 3.00644, ACC: 46.48% "
     ]
    },
    {
     "name": "stdout",
     "output_type": "stream",
     "text": [
      "\n"
     ]
    },
    {
     "name": "stderr",
     "output_type": "stream",
     "text": [
      "396it [45:32,  7.18s/it]0.000760, Training: 14.51%,  Loss: 3.00649, ACC: 46.48% "
     ]
    },
    {
     "name": "stdout",
     "output_type": "stream",
     "text": [
      "\n"
     ]
    },
    {
     "name": "stderr",
     "output_type": "stream",
     "text": [
      "397it [45:39,  7.22s/it]0.000760, Training: 14.54%,  Loss: 3.00670, ACC: 46.47% "
     ]
    },
    {
     "name": "stdout",
     "output_type": "stream",
     "text": [
      "\n"
     ]
    },
    {
     "name": "stderr",
     "output_type": "stream",
     "text": [
      "398it [45:46,  7.23s/it]0.000760, Training: 14.58%,  Loss: 3.00645, ACC: 46.48% "
     ]
    },
    {
     "name": "stdout",
     "output_type": "stream",
     "text": [
      "\n"
     ]
    },
    {
     "name": "stderr",
     "output_type": "stream",
     "text": [
      "399it [45:53,  7.19s/it]0.000760, Training: 14.62%,  Loss: 3.00649, ACC: 46.48% "
     ]
    },
    {
     "name": "stdout",
     "output_type": "stream",
     "text": [
      "\n"
     ]
    },
    {
     "name": "stderr",
     "output_type": "stream",
     "text": [
      "400it [46:00,  7.19s/it]0.000760, Training: 14.65%,  Loss: 3.00634, ACC: 46.48% "
     ]
    },
    {
     "name": "stdout",
     "output_type": "stream",
     "text": [
      "\n"
     ]
    },
    {
     "name": "stderr",
     "output_type": "stream",
     "text": [
      "401it [46:08,  7.18s/it]0.000760, Training: 14.69%,  Loss: 3.00604, ACC: 46.48% "
     ]
    },
    {
     "name": "stdout",
     "output_type": "stream",
     "text": [
      "\n"
     ]
    },
    {
     "name": "stderr",
     "output_type": "stream",
     "text": [
      "402it [46:15,  7.13s/it]0.000760, Training: 14.73%,  Loss: 3.00582, ACC: 46.48% "
     ]
    },
    {
     "name": "stdout",
     "output_type": "stream",
     "text": [
      "\n"
     ]
    },
    {
     "name": "stderr",
     "output_type": "stream",
     "text": [
      "403it [46:22,  7.09s/it]0.000760, Training: 14.76%,  Loss: 3.00534, ACC: 46.49% "
     ]
    },
    {
     "name": "stdout",
     "output_type": "stream",
     "text": [
      "\n"
     ]
    },
    {
     "name": "stderr",
     "output_type": "stream",
     "text": [
      "404it [46:29,  7.08s/it]0.000760, Training: 14.80%,  Loss: 3.00546, ACC: 46.49% "
     ]
    },
    {
     "name": "stdout",
     "output_type": "stream",
     "text": [
      "\n"
     ]
    },
    {
     "name": "stderr",
     "output_type": "stream",
     "text": [
      "405it [46:36,  7.12s/it]0.000760, Training: 14.84%,  Loss: 3.00611, ACC: 46.48% "
     ]
    },
    {
     "name": "stdout",
     "output_type": "stream",
     "text": [
      "\n"
     ]
    },
    {
     "name": "stderr",
     "output_type": "stream",
     "text": [
      "406it [46:43,  7.15s/it]0.000760, Training: 14.87%,  Loss: 3.00615, ACC: 46.49% "
     ]
    },
    {
     "name": "stdout",
     "output_type": "stream",
     "text": [
      "\n"
     ]
    },
    {
     "name": "stderr",
     "output_type": "stream",
     "text": [
      "407it [46:50,  7.16s/it]0.000760, Training: 14.91%,  Loss: 3.00658, ACC: 46.47% "
     ]
    },
    {
     "name": "stdout",
     "output_type": "stream",
     "text": [
      "\n"
     ]
    },
    {
     "name": "stderr",
     "output_type": "stream",
     "text": [
      "408it [46:57,  7.10s/it]0.000760, Training: 14.95%,  Loss: 3.00676, ACC: 46.47% "
     ]
    },
    {
     "name": "stdout",
     "output_type": "stream",
     "text": [
      "\n"
     ]
    },
    {
     "name": "stderr",
     "output_type": "stream",
     "text": [
      "409it [47:04,  7.12s/it]0.000760, Training: 14.98%,  Loss: 3.00582, ACC: 46.48% "
     ]
    },
    {
     "name": "stdout",
     "output_type": "stream",
     "text": [
      "\n"
     ]
    },
    {
     "name": "stderr",
     "output_type": "stream",
     "text": [
      "410it [47:12,  7.18s/it]0.000760, Training: 15.02%,  Loss: 3.00544, ACC: 46.48% "
     ]
    },
    {
     "name": "stdout",
     "output_type": "stream",
     "text": [
      "\n"
     ]
    },
    {
     "name": "stderr",
     "output_type": "stream",
     "text": [
      "411it [47:19,  7.15s/it]0.000760, Training: 15.05%,  Loss: 3.00568, ACC: 46.48% "
     ]
    },
    {
     "name": "stdout",
     "output_type": "stream",
     "text": [
      "\n"
     ]
    },
    {
     "name": "stderr",
     "output_type": "stream",
     "text": [
      "412it [47:26,  7.15s/it]0.000760, Training: 15.09%,  Loss: 3.00590, ACC: 46.48% "
     ]
    },
    {
     "name": "stdout",
     "output_type": "stream",
     "text": [
      "\n"
     ]
    },
    {
     "name": "stderr",
     "output_type": "stream",
     "text": [
      "413it [47:33,  7.09s/it]0.000760, Training: 15.13%,  Loss: 3.00547, ACC: 46.48% "
     ]
    },
    {
     "name": "stdout",
     "output_type": "stream",
     "text": [
      "\n"
     ]
    },
    {
     "name": "stderr",
     "output_type": "stream",
     "text": [
      "414it [47:40,  7.11s/it]0.000760, Training: 15.16%,  Loss: 3.00546, ACC: 46.48% "
     ]
    },
    {
     "name": "stdout",
     "output_type": "stream",
     "text": [
      "\n"
     ]
    },
    {
     "name": "stderr",
     "output_type": "stream",
     "text": [
      "415it [47:47,  7.07s/it]0.000760, Training: 15.20%,  Loss: 3.00563, ACC: 46.48% "
     ]
    },
    {
     "name": "stdout",
     "output_type": "stream",
     "text": [
      "\n"
     ]
    },
    {
     "name": "stderr",
     "output_type": "stream",
     "text": [
      "416it [47:54,  7.12s/it]0.000760, Training: 15.24%,  Loss: 3.00552, ACC: 46.47% "
     ]
    },
    {
     "name": "stdout",
     "output_type": "stream",
     "text": [
      "\n"
     ]
    },
    {
     "name": "stderr",
     "output_type": "stream",
     "text": [
      "417it [48:01,  7.09s/it]0.000760, Training: 15.27%,  Loss: 3.00531, ACC: 46.47% "
     ]
    },
    {
     "name": "stdout",
     "output_type": "stream",
     "text": [
      "\n"
     ]
    },
    {
     "name": "stderr",
     "output_type": "stream",
     "text": [
      "418it [48:08,  7.09s/it]0.000760, Training: 15.31%,  Loss: 3.00577, ACC: 46.46% "
     ]
    },
    {
     "name": "stdout",
     "output_type": "stream",
     "text": [
      "\n"
     ]
    },
    {
     "name": "stderr",
     "output_type": "stream",
     "text": [
      "419it [48:15,  7.02s/it]0.000760, Training: 15.35%,  Loss: 3.00518, ACC: 46.47% "
     ]
    },
    {
     "name": "stdout",
     "output_type": "stream",
     "text": [
      "\n"
     ]
    },
    {
     "name": "stderr",
     "output_type": "stream",
     "text": [
      "420it [48:22,  7.06s/it]0.000760, Training: 15.38%,  Loss: 3.00533, ACC: 46.47% "
     ]
    },
    {
     "name": "stdout",
     "output_type": "stream",
     "text": [
      "\n"
     ]
    },
    {
     "name": "stderr",
     "output_type": "stream",
     "text": [
      "421it [48:29,  7.04s/it]0.000760, Training: 15.42%,  Loss: 3.00514, ACC: 46.48% "
     ]
    },
    {
     "name": "stdout",
     "output_type": "stream",
     "text": [
      "\n"
     ]
    },
    {
     "name": "stderr",
     "output_type": "stream",
     "text": [
      "422it [48:37,  7.09s/it]0.000760, Training: 15.46%,  Loss: 3.00533, ACC: 46.48% "
     ]
    },
    {
     "name": "stdout",
     "output_type": "stream",
     "text": [
      "\n"
     ]
    },
    {
     "name": "stderr",
     "output_type": "stream",
     "text": [
      "423it [48:44,  7.07s/it]0.000760, Training: 15.49%,  Loss: 3.00535, ACC: 46.49% "
     ]
    },
    {
     "name": "stdout",
     "output_type": "stream",
     "text": [
      "\n"
     ]
    },
    {
     "name": "stderr",
     "output_type": "stream",
     "text": [
      "424it [48:51,  7.05s/it]0.000760, Training: 15.53%,  Loss: 3.00501, ACC: 46.48% "
     ]
    },
    {
     "name": "stdout",
     "output_type": "stream",
     "text": [
      "\n"
     ]
    },
    {
     "name": "stderr",
     "output_type": "stream",
     "text": [
      "425it [48:57,  6.99s/it]0.000760, Training: 15.57%,  Loss: 3.00424, ACC: 46.49% "
     ]
    },
    {
     "name": "stdout",
     "output_type": "stream",
     "text": [
      "\n"
     ]
    },
    {
     "name": "stderr",
     "output_type": "stream",
     "text": [
      "426it [49:04,  7.00s/it]0.000760, Training: 15.60%,  Loss: 3.00496, ACC: 46.48% "
     ]
    },
    {
     "name": "stdout",
     "output_type": "stream",
     "text": [
      "\n"
     ]
    },
    {
     "name": "stderr",
     "output_type": "stream",
     "text": [
      "427it [49:12,  7.07s/it]0.000760, Training: 15.64%,  Loss: 3.00465, ACC: 46.49% "
     ]
    },
    {
     "name": "stdout",
     "output_type": "stream",
     "text": [
      "\n"
     ]
    },
    {
     "name": "stderr",
     "output_type": "stream",
     "text": [
      "428it [49:19,  7.06s/it]0.000760, Training: 15.68%,  Loss: 3.00372, ACC: 46.49% "
     ]
    },
    {
     "name": "stdout",
     "output_type": "stream",
     "text": [
      "\n"
     ]
    },
    {
     "name": "stderr",
     "output_type": "stream",
     "text": [
      "429it [49:26,  7.01s/it]0.000760, Training: 15.71%,  Loss: 3.00376, ACC: 46.50% "
     ]
    },
    {
     "name": "stdout",
     "output_type": "stream",
     "text": [
      "\n"
     ]
    },
    {
     "name": "stderr",
     "output_type": "stream",
     "text": [
      "430it [49:33,  7.01s/it]0.000760, Training: 15.75%,  Loss: 3.00331, ACC: 46.51% "
     ]
    },
    {
     "name": "stdout",
     "output_type": "stream",
     "text": [
      "\n"
     ]
    },
    {
     "name": "stderr",
     "output_type": "stream",
     "text": [
      "431it [49:40,  7.05s/it]0.000760, Training: 15.79%,  Loss: 3.00316, ACC: 46.51% "
     ]
    },
    {
     "name": "stdout",
     "output_type": "stream",
     "text": [
      "\n"
     ]
    },
    {
     "name": "stderr",
     "output_type": "stream",
     "text": [
      "432it [49:47,  7.05s/it]0.000760, Training: 15.82%,  Loss: 3.00329, ACC: 46.51% "
     ]
    },
    {
     "name": "stdout",
     "output_type": "stream",
     "text": [
      "\n"
     ]
    },
    {
     "name": "stderr",
     "output_type": "stream",
     "text": [
      "433it [49:54,  7.05s/it]0.000760, Training: 15.86%,  Loss: 3.00350, ACC: 46.51% "
     ]
    },
    {
     "name": "stdout",
     "output_type": "stream",
     "text": [
      "\n"
     ]
    },
    {
     "name": "stderr",
     "output_type": "stream",
     "text": [
      "434it [50:01,  7.02s/it]0.000760, Training: 15.90%,  Loss: 3.00357, ACC: 46.52% "
     ]
    },
    {
     "name": "stdout",
     "output_type": "stream",
     "text": [
      "\n"
     ]
    },
    {
     "name": "stderr",
     "output_type": "stream",
     "text": [
      "435it [50:08,  7.00s/it]0.000760, Training: 15.93%,  Loss: 3.00356, ACC: 46.52% "
     ]
    },
    {
     "name": "stdout",
     "output_type": "stream",
     "text": [
      "\n"
     ]
    },
    {
     "name": "stderr",
     "output_type": "stream",
     "text": [
      "436it [50:15,  6.99s/it]0.000760, Training: 15.97%,  Loss: 3.00370, ACC: 46.52% "
     ]
    },
    {
     "name": "stdout",
     "output_type": "stream",
     "text": [
      "\n"
     ]
    },
    {
     "name": "stderr",
     "output_type": "stream",
     "text": [
      "437it [50:22,  6.99s/it]0.000760, Training: 16.01%,  Loss: 3.00370, ACC: 46.52% "
     ]
    },
    {
     "name": "stdout",
     "output_type": "stream",
     "text": [
      "\n"
     ]
    },
    {
     "name": "stderr",
     "output_type": "stream",
     "text": [
      "438it [50:29,  6.94s/it]0.000760, Training: 16.04%,  Loss: 3.00413, ACC: 46.52% "
     ]
    },
    {
     "name": "stdout",
     "output_type": "stream",
     "text": [
      "\n"
     ]
    },
    {
     "name": "stderr",
     "output_type": "stream",
     "text": [
      "439it [50:36,  6.97s/it]0.000760, Training: 16.08%,  Loss: 3.00436, ACC: 46.51% "
     ]
    },
    {
     "name": "stdout",
     "output_type": "stream",
     "text": [
      "\n"
     ]
    },
    {
     "name": "stderr",
     "output_type": "stream",
     "text": [
      "440it [50:43,  7.01s/it]0.000760, Training: 16.12%,  Loss: 3.00410, ACC: 46.52% "
     ]
    },
    {
     "name": "stdout",
     "output_type": "stream",
     "text": [
      "\n"
     ]
    },
    {
     "name": "stderr",
     "output_type": "stream",
     "text": [
      "441it [50:50,  6.94s/it]0.000760, Training: 16.15%,  Loss: 3.00423, ACC: 46.51% "
     ]
    },
    {
     "name": "stdout",
     "output_type": "stream",
     "text": [
      "\n"
     ]
    },
    {
     "name": "stderr",
     "output_type": "stream",
     "text": [
      "442it [50:57,  6.96s/it]0.000760, Training: 16.19%,  Loss: 3.00428, ACC: 46.51% "
     ]
    },
    {
     "name": "stdout",
     "output_type": "stream",
     "text": [
      "\n"
     ]
    },
    {
     "name": "stderr",
     "output_type": "stream",
     "text": [
      "443it [51:04,  7.02s/it]0.000760, Training: 16.23%,  Loss: 3.00425, ACC: 46.52% "
     ]
    },
    {
     "name": "stdout",
     "output_type": "stream",
     "text": [
      "\n"
     ]
    },
    {
     "name": "stderr",
     "output_type": "stream",
     "text": [
      "444it [51:11,  7.00s/it]0.000760, Training: 16.26%,  Loss: 3.00352, ACC: 46.53% "
     ]
    },
    {
     "name": "stdout",
     "output_type": "stream",
     "text": [
      "\n"
     ]
    },
    {
     "name": "stderr",
     "output_type": "stream",
     "text": [
      "445it [51:18,  7.01s/it]0.000760, Training: 16.30%,  Loss: 3.00400, ACC: 46.52% "
     ]
    },
    {
     "name": "stdout",
     "output_type": "stream",
     "text": [
      "\n"
     ]
    },
    {
     "name": "stderr",
     "output_type": "stream",
     "text": [
      "446it [51:25,  7.01s/it]0.000760, Training: 16.34%,  Loss: 3.00395, ACC: 46.52% "
     ]
    },
    {
     "name": "stdout",
     "output_type": "stream",
     "text": [
      "\n"
     ]
    },
    {
     "name": "stderr",
     "output_type": "stream",
     "text": [
      "447it [51:32,  7.02s/it]0.000760, Training: 16.37%,  Loss: 3.00413, ACC: 46.52% "
     ]
    },
    {
     "name": "stdout",
     "output_type": "stream",
     "text": [
      "\n"
     ]
    },
    {
     "name": "stderr",
     "output_type": "stream",
     "text": [
      "448it [51:39,  6.99s/it]0.000760, Training: 16.41%,  Loss: 3.00358, ACC: 46.53% "
     ]
    },
    {
     "name": "stdout",
     "output_type": "stream",
     "text": [
      "\n"
     ]
    },
    {
     "name": "stderr",
     "output_type": "stream",
     "text": [
      "449it [51:46,  7.01s/it]0.000760, Training: 16.45%,  Loss: 3.00370, ACC: 46.52% "
     ]
    },
    {
     "name": "stdout",
     "output_type": "stream",
     "text": [
      "\n"
     ]
    },
    {
     "name": "stderr",
     "output_type": "stream",
     "text": [
      "450it [51:53,  6.97s/it]0.000760, Training: 16.48%,  Loss: 3.00408, ACC: 46.52% "
     ]
    },
    {
     "name": "stdout",
     "output_type": "stream",
     "text": [
      "\n"
     ]
    },
    {
     "name": "stderr",
     "output_type": "stream",
     "text": [
      "451it [52:00,  7.00s/it]0.000760, Training: 16.52%,  Loss: 3.00437, ACC: 46.51% "
     ]
    },
    {
     "name": "stdout",
     "output_type": "stream",
     "text": [
      "\n"
     ]
    },
    {
     "name": "stderr",
     "output_type": "stream",
     "text": [
      "452it [52:07,  6.97s/it]0.000760, Training: 16.56%,  Loss: 3.00411, ACC: 46.52% "
     ]
    },
    {
     "name": "stdout",
     "output_type": "stream",
     "text": [
      "\n"
     ]
    },
    {
     "name": "stderr",
     "output_type": "stream",
     "text": [
      "453it [52:13,  6.96s/it]0.000760, Training: 16.59%,  Loss: 3.00475, ACC: 46.51% "
     ]
    },
    {
     "name": "stdout",
     "output_type": "stream",
     "text": [
      "\n"
     ]
    },
    {
     "name": "stderr",
     "output_type": "stream",
     "text": [
      "454it [52:20,  6.96s/it]0.000760, Training: 16.63%,  Loss: 3.00440, ACC: 46.50% "
     ]
    },
    {
     "name": "stdout",
     "output_type": "stream",
     "text": [
      "\n"
     ]
    },
    {
     "name": "stderr",
     "output_type": "stream",
     "text": [
      "455it [52:27,  6.98s/it]0.000760, Training: 16.67%,  Loss: 3.00452, ACC: 46.50% "
     ]
    },
    {
     "name": "stdout",
     "output_type": "stream",
     "text": [
      "\n"
     ]
    },
    {
     "name": "stderr",
     "output_type": "stream",
     "text": [
      "456it [52:35,  7.00s/it]0.000760, Training: 16.70%,  Loss: 3.00482, ACC: 46.50% "
     ]
    },
    {
     "name": "stdout",
     "output_type": "stream",
     "text": [
      "\n"
     ]
    },
    {
     "name": "stderr",
     "output_type": "stream",
     "text": [
      "457it [52:41,  6.96s/it]0.000760, Training: 16.74%,  Loss: 3.00528, ACC: 46.50% "
     ]
    },
    {
     "name": "stdout",
     "output_type": "stream",
     "text": [
      "\n"
     ]
    },
    {
     "name": "stderr",
     "output_type": "stream",
     "text": [
      "458it [52:48,  6.97s/it]0.000760, Training: 16.78%,  Loss: 3.00504, ACC: 46.50% "
     ]
    },
    {
     "name": "stdout",
     "output_type": "stream",
     "text": [
      "\n"
     ]
    },
    {
     "name": "stderr",
     "output_type": "stream",
     "text": [
      "459it [52:55,  6.96s/it]0.000760, Training: 16.81%,  Loss: 3.00494, ACC: 46.51% "
     ]
    },
    {
     "name": "stdout",
     "output_type": "stream",
     "text": [
      "\n"
     ]
    },
    {
     "name": "stderr",
     "output_type": "stream",
     "text": [
      "460it [53:02,  6.97s/it]0.000760, Training: 16.85%,  Loss: 3.00526, ACC: 46.50% "
     ]
    },
    {
     "name": "stdout",
     "output_type": "stream",
     "text": [
      "\n"
     ]
    },
    {
     "name": "stderr",
     "output_type": "stream",
     "text": [
      "461it [53:09,  7.00s/it]0.000760, Training: 16.89%,  Loss: 3.00545, ACC: 46.51% "
     ]
    },
    {
     "name": "stdout",
     "output_type": "stream",
     "text": [
      "\n"
     ]
    },
    {
     "name": "stderr",
     "output_type": "stream",
     "text": [
      "462it [53:16,  7.02s/it]0.000760, Training: 16.92%,  Loss: 3.00569, ACC: 46.50% "
     ]
    },
    {
     "name": "stdout",
     "output_type": "stream",
     "text": [
      "\n"
     ]
    },
    {
     "name": "stderr",
     "output_type": "stream",
     "text": [
      "463it [53:23,  7.01s/it]0.000760, Training: 16.96%,  Loss: 3.00577, ACC: 46.49% "
     ]
    },
    {
     "name": "stdout",
     "output_type": "stream",
     "text": [
      "\n"
     ]
    },
    {
     "name": "stderr",
     "output_type": "stream",
     "text": [
      "464it [53:31,  7.02s/it]0.000760, Training: 17.00%,  Loss: 3.00595, ACC: 46.49% "
     ]
    },
    {
     "name": "stdout",
     "output_type": "stream",
     "text": [
      "\n"
     ]
    },
    {
     "name": "stderr",
     "output_type": "stream",
     "text": [
      "465it [53:37,  7.00s/it]0.000760, Training: 17.03%,  Loss: 3.00568, ACC: 46.49% "
     ]
    },
    {
     "name": "stdout",
     "output_type": "stream",
     "text": [
      "\n"
     ]
    },
    {
     "name": "stderr",
     "output_type": "stream",
     "text": [
      "466it [53:44,  7.00s/it]0.000760, Training: 17.07%,  Loss: 3.00531, ACC: 46.49% "
     ]
    },
    {
     "name": "stdout",
     "output_type": "stream",
     "text": [
      "\n"
     ]
    },
    {
     "name": "stderr",
     "output_type": "stream",
     "text": [
      "467it [53:51,  7.00s/it]0.000760, Training: 17.11%,  Loss: 3.00548, ACC: 46.50% "
     ]
    },
    {
     "name": "stdout",
     "output_type": "stream",
     "text": [
      "\n"
     ]
    },
    {
     "name": "stderr",
     "output_type": "stream",
     "text": [
      "468it [53:58,  6.92s/it]0.000760, Training: 17.14%,  Loss: 3.00492, ACC: 46.50% "
     ]
    },
    {
     "name": "stdout",
     "output_type": "stream",
     "text": [
      "\n"
     ]
    },
    {
     "name": "stderr",
     "output_type": "stream",
     "text": [
      "469it [54:05,  6.92s/it]0.000760, Training: 17.18%,  Loss: 3.00505, ACC: 46.51% "
     ]
    },
    {
     "name": "stdout",
     "output_type": "stream",
     "text": [
      "\n"
     ]
    },
    {
     "name": "stderr",
     "output_type": "stream",
     "text": [
      "470it [54:12,  6.90s/it]0.000760, Training: 17.22%,  Loss: 3.00506, ACC: 46.50% "
     ]
    },
    {
     "name": "stdout",
     "output_type": "stream",
     "text": [
      "\n"
     ]
    },
    {
     "name": "stderr",
     "output_type": "stream",
     "text": [
      "471it [54:19,  6.92s/it]0.000760, Training: 17.25%,  Loss: 3.00534, ACC: 46.51% "
     ]
    },
    {
     "name": "stdout",
     "output_type": "stream",
     "text": [
      "\n"
     ]
    },
    {
     "name": "stderr",
     "output_type": "stream",
     "text": [
      "472it [54:26,  6.94s/it]0.000760, Training: 17.29%,  Loss: 3.00543, ACC: 46.51% "
     ]
    },
    {
     "name": "stdout",
     "output_type": "stream",
     "text": [
      "\n"
     ]
    },
    {
     "name": "stderr",
     "output_type": "stream",
     "text": [
      "473it [54:33,  6.97s/it]0.000760, Training: 17.33%,  Loss: 3.00481, ACC: 46.52% "
     ]
    },
    {
     "name": "stdout",
     "output_type": "stream",
     "text": [
      "\n"
     ]
    },
    {
     "name": "stderr",
     "output_type": "stream",
     "text": [
      "474it [54:40,  6.92s/it]0.000760, Training: 17.36%,  Loss: 3.00450, ACC: 46.52% "
     ]
    },
    {
     "name": "stdout",
     "output_type": "stream",
     "text": [
      "\n"
     ]
    },
    {
     "name": "stderr",
     "output_type": "stream",
     "text": [
      "475it [54:47,  6.94s/it]0.000760, Training: 17.40%,  Loss: 3.00428, ACC: 46.53% "
     ]
    },
    {
     "name": "stdout",
     "output_type": "stream",
     "text": [
      "\n"
     ]
    },
    {
     "name": "stderr",
     "output_type": "stream",
     "text": [
      "476it [54:54,  6.91s/it]0.000760, Training: 17.44%,  Loss: 3.00408, ACC: 46.53% "
     ]
    },
    {
     "name": "stdout",
     "output_type": "stream",
     "text": [
      "\n"
     ]
    },
    {
     "name": "stderr",
     "output_type": "stream",
     "text": [
      "477it [55:00,  6.86s/it]0.000760, Training: 17.47%,  Loss: 3.00396, ACC: 46.53% "
     ]
    },
    {
     "name": "stdout",
     "output_type": "stream",
     "text": [
      "\n"
     ]
    },
    {
     "name": "stderr",
     "output_type": "stream",
     "text": [
      "478it [55:07,  6.83s/it]0.000760, Training: 17.51%,  Loss: 3.00425, ACC: 46.53% "
     ]
    },
    {
     "name": "stdout",
     "output_type": "stream",
     "text": [
      "\n"
     ]
    },
    {
     "name": "stderr",
     "output_type": "stream",
     "text": [
      "479it [55:14,  6.82s/it]0.000760, Training: 17.55%,  Loss: 3.00434, ACC: 46.53% "
     ]
    },
    {
     "name": "stdout",
     "output_type": "stream",
     "text": [
      "\n"
     ]
    },
    {
     "name": "stderr",
     "output_type": "stream",
     "text": [
      "480it [55:21,  6.82s/it]0.000760, Training: 17.58%,  Loss: 3.00397, ACC: 46.53% "
     ]
    },
    {
     "name": "stdout",
     "output_type": "stream",
     "text": [
      "\n"
     ]
    },
    {
     "name": "stderr",
     "output_type": "stream",
     "text": [
      "481it [55:28,  6.84s/it]0.000760, Training: 17.62%,  Loss: 3.00407, ACC: 46.53% "
     ]
    },
    {
     "name": "stdout",
     "output_type": "stream",
     "text": [
      "\n"
     ]
    },
    {
     "name": "stderr",
     "output_type": "stream",
     "text": [
      "482it [55:34,  6.82s/it]0.000760, Training: 17.66%,  Loss: 3.00398, ACC: 46.53% "
     ]
    },
    {
     "name": "stdout",
     "output_type": "stream",
     "text": [
      "\n"
     ]
    },
    {
     "name": "stderr",
     "output_type": "stream",
     "text": [
      "483it [55:41,  6.85s/it]0.000760, Training: 17.69%,  Loss: 3.00424, ACC: 46.53% "
     ]
    },
    {
     "name": "stdout",
     "output_type": "stream",
     "text": [
      "\n"
     ]
    },
    {
     "name": "stderr",
     "output_type": "stream",
     "text": [
      "484it [55:48,  6.88s/it]0.000760, Training: 17.73%,  Loss: 3.00442, ACC: 46.54% "
     ]
    },
    {
     "name": "stdout",
     "output_type": "stream",
     "text": [
      "\n"
     ]
    },
    {
     "name": "stderr",
     "output_type": "stream",
     "text": [
      "485it [55:55,  6.91s/it]0.000760, Training: 17.77%,  Loss: 3.00456, ACC: 46.53% "
     ]
    },
    {
     "name": "stdout",
     "output_type": "stream",
     "text": [
      "\n"
     ]
    },
    {
     "name": "stderr",
     "output_type": "stream",
     "text": [
      "486it [56:02,  6.92s/it]0.000760, Training: 17.80%,  Loss: 3.00502, ACC: 46.52% "
     ]
    },
    {
     "name": "stdout",
     "output_type": "stream",
     "text": [
      "\n"
     ]
    },
    {
     "name": "stderr",
     "output_type": "stream",
     "text": [
      "487it [56:09,  6.87s/it]0.000760, Training: 17.84%,  Loss: 3.00502, ACC: 46.52% "
     ]
    },
    {
     "name": "stdout",
     "output_type": "stream",
     "text": [
      "\n"
     ]
    },
    {
     "name": "stderr",
     "output_type": "stream",
     "text": [
      "488it [56:16,  6.86s/it]0.000760, Training: 17.88%,  Loss: 3.00468, ACC: 46.52% "
     ]
    },
    {
     "name": "stdout",
     "output_type": "stream",
     "text": [
      "\n"
     ]
    },
    {
     "name": "stderr",
     "output_type": "stream",
     "text": [
      "489it [56:23,  6.93s/it]0.000760, Training: 17.91%,  Loss: 3.00484, ACC: 46.52% "
     ]
    },
    {
     "name": "stdout",
     "output_type": "stream",
     "text": [
      "\n"
     ]
    },
    {
     "name": "stderr",
     "output_type": "stream",
     "text": [
      "490it [56:30,  6.90s/it]0.000760, Training: 17.95%,  Loss: 3.00492, ACC: 46.52% "
     ]
    },
    {
     "name": "stdout",
     "output_type": "stream",
     "text": [
      "\n"
     ]
    },
    {
     "name": "stderr",
     "output_type": "stream",
     "text": [
      "491it [56:37,  6.89s/it]0.000760, Training: 17.99%,  Loss: 3.00465, ACC: 46.52% "
     ]
    },
    {
     "name": "stdout",
     "output_type": "stream",
     "text": [
      "\n"
     ]
    },
    {
     "name": "stderr",
     "output_type": "stream",
     "text": [
      "492it [56:43,  6.83s/it]0.000760, Training: 18.02%,  Loss: 3.00470, ACC: 46.53% "
     ]
    },
    {
     "name": "stdout",
     "output_type": "stream",
     "text": [
      "\n"
     ]
    },
    {
     "name": "stderr",
     "output_type": "stream",
     "text": [
      "493it [56:50,  6.84s/it]0.000760, Training: 18.06%,  Loss: 3.00488, ACC: 46.53% "
     ]
    },
    {
     "name": "stdout",
     "output_type": "stream",
     "text": [
      "\n"
     ]
    },
    {
     "name": "stderr",
     "output_type": "stream",
     "text": [
      "494it [56:57,  6.86s/it]0.000760, Training: 18.10%,  Loss: 3.00479, ACC: 46.52% "
     ]
    },
    {
     "name": "stdout",
     "output_type": "stream",
     "text": [
      "\n"
     ]
    },
    {
     "name": "stderr",
     "output_type": "stream",
     "text": [
      "495it [57:04,  6.86s/it]0.000760, Training: 18.13%,  Loss: 3.00476, ACC: 46.52% "
     ]
    },
    {
     "name": "stdout",
     "output_type": "stream",
     "text": [
      "\n"
     ]
    },
    {
     "name": "stderr",
     "output_type": "stream",
     "text": [
      "496it [57:11,  6.87s/it]0.000760, Training: 18.17%,  Loss: 3.00524, ACC: 46.51% "
     ]
    },
    {
     "name": "stdout",
     "output_type": "stream",
     "text": [
      "\n"
     ]
    },
    {
     "name": "stderr",
     "output_type": "stream",
     "text": [
      "497it [57:18,  6.89s/it]0.000760, Training: 18.21%,  Loss: 3.00514, ACC: 46.51% "
     ]
    },
    {
     "name": "stdout",
     "output_type": "stream",
     "text": [
      "\n"
     ]
    },
    {
     "name": "stderr",
     "output_type": "stream",
     "text": [
      "498it [57:25,  6.90s/it]0.000760, Training: 18.24%,  Loss: 3.00576, ACC: 46.51% "
     ]
    },
    {
     "name": "stdout",
     "output_type": "stream",
     "text": [
      "\n"
     ]
    },
    {
     "name": "stderr",
     "output_type": "stream",
     "text": [
      "499it [57:31,  6.88s/it]0.000760, Training: 18.28%,  Loss: 3.00593, ACC: 46.51% "
     ]
    },
    {
     "name": "stdout",
     "output_type": "stream",
     "text": [
      "\n"
     ]
    },
    {
     "name": "stderr",
     "output_type": "stream",
     "text": [
      "500it [57:38,  6.88s/it]0.000760, Training: 18.32%,  Loss: 3.00569, ACC: 46.51% "
     ]
    },
    {
     "name": "stdout",
     "output_type": "stream",
     "text": [
      "\n"
     ]
    },
    {
     "name": "stderr",
     "output_type": "stream",
     "text": [
      "501it [57:45,  6.88s/it]0.000760, Training: 18.35%,  Loss: 3.00578, ACC: 46.51% "
     ]
    },
    {
     "name": "stdout",
     "output_type": "stream",
     "text": [
      "\n"
     ]
    },
    {
     "name": "stderr",
     "output_type": "stream",
     "text": [
      "502it [57:52,  6.91s/it]0.000760, Training: 18.39%,  Loss: 3.00635, ACC: 46.50% "
     ]
    },
    {
     "name": "stdout",
     "output_type": "stream",
     "text": [
      "\n"
     ]
    },
    {
     "name": "stderr",
     "output_type": "stream",
     "text": [
      "503it [57:59,  6.92s/it]0.000760, Training: 18.42%,  Loss: 3.00625, ACC: 46.50% "
     ]
    },
    {
     "name": "stdout",
     "output_type": "stream",
     "text": [
      "\n"
     ]
    },
    {
     "name": "stderr",
     "output_type": "stream",
     "text": [
      "504it [58:06,  6.91s/it]0.000760, Training: 18.46%,  Loss: 3.00656, ACC: 46.49% "
     ]
    },
    {
     "name": "stdout",
     "output_type": "stream",
     "text": [
      "\n"
     ]
    },
    {
     "name": "stderr",
     "output_type": "stream",
     "text": [
      "505it [58:13,  6.90s/it]0.000760, Training: 18.50%,  Loss: 3.00628, ACC: 46.50% "
     ]
    },
    {
     "name": "stdout",
     "output_type": "stream",
     "text": [
      "\n"
     ]
    },
    {
     "name": "stderr",
     "output_type": "stream",
     "text": [
      "506it [58:20,  6.89s/it]0.000760, Training: 18.53%,  Loss: 3.00597, ACC: 46.50% "
     ]
    },
    {
     "name": "stdout",
     "output_type": "stream",
     "text": [
      "\n"
     ]
    },
    {
     "name": "stderr",
     "output_type": "stream",
     "text": [
      "507it [58:27,  6.91s/it]0.000760, Training: 18.57%,  Loss: 3.00587, ACC: 46.50% "
     ]
    },
    {
     "name": "stdout",
     "output_type": "stream",
     "text": [
      "\n"
     ]
    },
    {
     "name": "stderr",
     "output_type": "stream",
     "text": [
      "508it [58:34,  6.94s/it]0.000760, Training: 18.61%,  Loss: 3.00570, ACC: 46.50% "
     ]
    },
    {
     "name": "stdout",
     "output_type": "stream",
     "text": [
      "\n"
     ]
    },
    {
     "name": "stderr",
     "output_type": "stream",
     "text": [
      "509it [58:41,  6.89s/it]0.000760, Training: 18.64%,  Loss: 3.00599, ACC: 46.50% "
     ]
    },
    {
     "name": "stdout",
     "output_type": "stream",
     "text": [
      "\n"
     ]
    },
    {
     "name": "stderr",
     "output_type": "stream",
     "text": [
      "510it [58:47,  6.85s/it]0.000760, Training: 18.68%,  Loss: 3.00576, ACC: 46.51% "
     ]
    },
    {
     "name": "stdout",
     "output_type": "stream",
     "text": [
      "\n"
     ]
    },
    {
     "name": "stderr",
     "output_type": "stream",
     "text": [
      "511it [58:54,  6.83s/it]0.000760, Training: 18.72%,  Loss: 3.00584, ACC: 46.51% "
     ]
    },
    {
     "name": "stdout",
     "output_type": "stream",
     "text": [
      "\n"
     ]
    },
    {
     "name": "stderr",
     "output_type": "stream",
     "text": [
      "512it [59:01,  6.78s/it]0.000760, Training: 18.75%,  Loss: 3.00605, ACC: 46.51% "
     ]
    },
    {
     "name": "stdout",
     "output_type": "stream",
     "text": [
      "\n"
     ]
    },
    {
     "name": "stderr",
     "output_type": "stream",
     "text": [
      "513it [59:07,  6.77s/it]0.000760, Training: 18.79%,  Loss: 3.00567, ACC: 46.51% "
     ]
    },
    {
     "name": "stdout",
     "output_type": "stream",
     "text": [
      "\n"
     ]
    },
    {
     "name": "stderr",
     "output_type": "stream",
     "text": [
      "514it [59:14,  6.82s/it]0.000760, Training: 18.83%,  Loss: 3.00567, ACC: 46.50% "
     ]
    },
    {
     "name": "stdout",
     "output_type": "stream",
     "text": [
      "\n"
     ]
    },
    {
     "name": "stderr",
     "output_type": "stream",
     "text": [
      "515it [59:21,  6.86s/it]0.000760, Training: 18.86%,  Loss: 3.00603, ACC: 46.50% "
     ]
    },
    {
     "name": "stdout",
     "output_type": "stream",
     "text": [
      "\n"
     ]
    },
    {
     "name": "stderr",
     "output_type": "stream",
     "text": [
      "516it [59:28,  6.81s/it]0.000760, Training: 18.90%,  Loss: 3.00677, ACC: 46.49% "
     ]
    },
    {
     "name": "stdout",
     "output_type": "stream",
     "text": [
      "\n"
     ]
    },
    {
     "name": "stderr",
     "output_type": "stream",
     "text": [
      "517it [59:35,  6.85s/it]0.000760, Training: 18.94%,  Loss: 3.00668, ACC: 46.50% "
     ]
    },
    {
     "name": "stdout",
     "output_type": "stream",
     "text": [
      "\n"
     ]
    },
    {
     "name": "stderr",
     "output_type": "stream",
     "text": [
      "518it [59:42,  6.87s/it]0.000760, Training: 18.97%,  Loss: 3.00624, ACC: 46.50% "
     ]
    },
    {
     "name": "stdout",
     "output_type": "stream",
     "text": [
      "\n"
     ]
    },
    {
     "name": "stderr",
     "output_type": "stream",
     "text": [
      "519it [59:49,  6.82s/it]0.000760, Training: 19.01%,  Loss: 3.00628, ACC: 46.50% "
     ]
    },
    {
     "name": "stdout",
     "output_type": "stream",
     "text": [
      "\n"
     ]
    },
    {
     "name": "stderr",
     "output_type": "stream",
     "text": [
      "520it [59:55,  6.80s/it]0.000760, Training: 19.05%,  Loss: 3.00585, ACC: 46.50% "
     ]
    },
    {
     "name": "stdout",
     "output_type": "stream",
     "text": [
      "\n"
     ]
    },
    {
     "name": "stderr",
     "output_type": "stream",
     "text": [
      "521it [1:00:02,  6.86s/it]000760, Training: 19.08%,  Loss: 3.00612, ACC: 46.50% "
     ]
    },
    {
     "name": "stdout",
     "output_type": "stream",
     "text": [
      "\n"
     ]
    },
    {
     "name": "stderr",
     "output_type": "stream",
     "text": [
      "522it [1:00:09,  6.87s/it]000760, Training: 19.12%,  Loss: 3.00591, ACC: 46.51% "
     ]
    },
    {
     "name": "stdout",
     "output_type": "stream",
     "text": [
      "\n"
     ]
    },
    {
     "name": "stderr",
     "output_type": "stream",
     "text": [
      "523it [1:00:16,  6.88s/it]000760, Training: 19.16%,  Loss: 3.00636, ACC: 46.50% "
     ]
    },
    {
     "name": "stdout",
     "output_type": "stream",
     "text": [
      "\n"
     ]
    },
    {
     "name": "stderr",
     "output_type": "stream",
     "text": [
      "524it [1:00:23,  6.86s/it]000760, Training: 19.19%,  Loss: 3.00597, ACC: 46.51% "
     ]
    },
    {
     "name": "stdout",
     "output_type": "stream",
     "text": [
      "\n"
     ]
    },
    {
     "name": "stderr",
     "output_type": "stream",
     "text": [
      "525it [1:00:30,  6.86s/it]000760, Training: 19.23%,  Loss: 3.00589, ACC: 46.50% "
     ]
    },
    {
     "name": "stdout",
     "output_type": "stream",
     "text": [
      "\n"
     ]
    },
    {
     "name": "stderr",
     "output_type": "stream",
     "text": [
      "526it [1:00:37,  6.88s/it]000760, Training: 19.27%,  Loss: 3.00593, ACC: 46.51% "
     ]
    },
    {
     "name": "stdout",
     "output_type": "stream",
     "text": [
      "\n"
     ]
    },
    {
     "name": "stderr",
     "output_type": "stream",
     "text": [
      "527it [1:00:44,  6.89s/it]000760, Training: 19.30%,  Loss: 3.00574, ACC: 46.51% "
     ]
    },
    {
     "name": "stdout",
     "output_type": "stream",
     "text": [
      "\n"
     ]
    },
    {
     "name": "stderr",
     "output_type": "stream",
     "text": [
      "528it [1:00:51,  6.90s/it]000760, Training: 19.34%,  Loss: 3.00570, ACC: 46.51% "
     ]
    },
    {
     "name": "stdout",
     "output_type": "stream",
     "text": [
      "\n"
     ]
    },
    {
     "name": "stderr",
     "output_type": "stream",
     "text": [
      "529it [1:00:57,  6.86s/it]000760, Training: 19.38%,  Loss: 3.00542, ACC: 46.51% "
     ]
    },
    {
     "name": "stdout",
     "output_type": "stream",
     "text": [
      "\n"
     ]
    },
    {
     "name": "stderr",
     "output_type": "stream",
     "text": [
      "530it [1:01:04,  6.81s/it]000760, Training: 19.41%,  Loss: 3.00504, ACC: 46.52% "
     ]
    },
    {
     "name": "stdout",
     "output_type": "stream",
     "text": [
      "\n"
     ]
    },
    {
     "name": "stderr",
     "output_type": "stream",
     "text": [
      "531it [1:01:11,  6.86s/it]000760, Training: 19.45%,  Loss: 3.00483, ACC: 46.52% "
     ]
    },
    {
     "name": "stdout",
     "output_type": "stream",
     "text": [
      "\n"
     ]
    },
    {
     "name": "stderr",
     "output_type": "stream",
     "text": [
      "532it [1:01:18,  6.85s/it]000760, Training: 19.49%,  Loss: 3.00452, ACC: 46.52% "
     ]
    },
    {
     "name": "stdout",
     "output_type": "stream",
     "text": [
      "\n"
     ]
    },
    {
     "name": "stderr",
     "output_type": "stream",
     "text": [
      "533it [1:01:25,  6.82s/it]000760, Training: 19.52%,  Loss: 3.00506, ACC: 46.51% "
     ]
    },
    {
     "name": "stdout",
     "output_type": "stream",
     "text": [
      "\n"
     ]
    },
    {
     "name": "stderr",
     "output_type": "stream",
     "text": [
      "534it [1:01:31,  6.79s/it]000760, Training: 19.56%,  Loss: 3.00487, ACC: 46.51% "
     ]
    },
    {
     "name": "stdout",
     "output_type": "stream",
     "text": [
      "\n"
     ]
    },
    {
     "name": "stderr",
     "output_type": "stream",
     "text": [
      "535it [1:01:38,  6.77s/it]000760, Training: 19.60%,  Loss: 3.00455, ACC: 46.52% "
     ]
    },
    {
     "name": "stdout",
     "output_type": "stream",
     "text": [
      "\n"
     ]
    },
    {
     "name": "stderr",
     "output_type": "stream",
     "text": [
      "536it [1:01:45,  6.77s/it]000760, Training: 19.63%,  Loss: 3.00445, ACC: 46.52% "
     ]
    },
    {
     "name": "stdout",
     "output_type": "stream",
     "text": [
      "\n"
     ]
    },
    {
     "name": "stderr",
     "output_type": "stream",
     "text": [
      "537it [1:01:52,  6.79s/it]000760, Training: 19.67%,  Loss: 3.00464, ACC: 46.52% "
     ]
    },
    {
     "name": "stdout",
     "output_type": "stream",
     "text": [
      "\n"
     ]
    },
    {
     "name": "stderr",
     "output_type": "stream",
     "text": [
      "538it [1:01:58,  6.73s/it]000760, Training: 19.71%,  Loss: 3.00473, ACC: 46.52% "
     ]
    },
    {
     "name": "stdout",
     "output_type": "stream",
     "text": [
      "\n"
     ]
    },
    {
     "name": "stderr",
     "output_type": "stream",
     "text": [
      "539it [1:02:05,  6.75s/it]000760, Training: 19.74%,  Loss: 3.00514, ACC: 46.51% "
     ]
    },
    {
     "name": "stdout",
     "output_type": "stream",
     "text": [
      "\n"
     ]
    },
    {
     "name": "stderr",
     "output_type": "stream",
     "text": [
      "540it [1:02:12,  6.80s/it]000760, Training: 19.78%,  Loss: 3.00553, ACC: 46.51% "
     ]
    },
    {
     "name": "stdout",
     "output_type": "stream",
     "text": [
      "\n"
     ]
    },
    {
     "name": "stderr",
     "output_type": "stream",
     "text": [
      "541it [1:02:19,  6.80s/it]000760, Training: 19.82%,  Loss: 3.00567, ACC: 46.50% "
     ]
    },
    {
     "name": "stdout",
     "output_type": "stream",
     "text": [
      "\n"
     ]
    },
    {
     "name": "stderr",
     "output_type": "stream",
     "text": [
      "542it [1:02:25,  6.60s/it]000760, Training: 19.85%,  Loss: 3.00596, ACC: 46.50% "
     ]
    },
    {
     "name": "stdout",
     "output_type": "stream",
     "text": [
      "\n"
     ]
    },
    {
     "name": "stderr",
     "output_type": "stream",
     "text": [
      "543it [1:02:32,  6.67s/it]000760, Training: 19.89%,  Loss: 3.00582, ACC: 46.50% "
     ]
    },
    {
     "name": "stdout",
     "output_type": "stream",
     "text": [
      "\n"
     ]
    },
    {
     "name": "stderr",
     "output_type": "stream",
     "text": [
      "544it [1:02:38,  6.70s/it]000760, Training: 19.93%,  Loss: 3.00631, ACC: 46.50% "
     ]
    },
    {
     "name": "stdout",
     "output_type": "stream",
     "text": [
      "\n"
     ]
    },
    {
     "name": "stderr",
     "output_type": "stream",
     "text": [
      "545it [1:02:45,  6.70s/it]000760, Training: 19.96%,  Loss: 3.00641, ACC: 46.49% "
     ]
    },
    {
     "name": "stdout",
     "output_type": "stream",
     "text": [
      "\n"
     ]
    },
    {
     "name": "stderr",
     "output_type": "stream",
     "text": [
      "546it [1:02:52,  6.76s/it]000760, Training: 20.00%,  Loss: 3.00625, ACC: 46.49% "
     ]
    },
    {
     "name": "stdout",
     "output_type": "stream",
     "text": [
      "\n"
     ]
    },
    {
     "name": "stderr",
     "output_type": "stream",
     "text": [
      "547it [1:02:59,  6.74s/it]000760, Training: 20.04%,  Loss: 3.00568, ACC: 46.50% "
     ]
    },
    {
     "name": "stdout",
     "output_type": "stream",
     "text": [
      "\n"
     ]
    },
    {
     "name": "stderr",
     "output_type": "stream",
     "text": [
      "548it [1:03:05,  6.72s/it]000760, Training: 20.07%,  Loss: 3.00578, ACC: 46.50% "
     ]
    },
    {
     "name": "stdout",
     "output_type": "stream",
     "text": [
      "\n"
     ]
    },
    {
     "name": "stderr",
     "output_type": "stream",
     "text": [
      "549it [1:03:12,  6.77s/it]000760, Training: 20.11%,  Loss: 3.00556, ACC: 46.51% "
     ]
    },
    {
     "name": "stdout",
     "output_type": "stream",
     "text": [
      "\n"
     ]
    },
    {
     "name": "stderr",
     "output_type": "stream",
     "text": [
      "550it [1:03:19,  6.75s/it]000760, Training: 20.15%,  Loss: 3.00580, ACC: 46.51% "
     ]
    },
    {
     "name": "stdout",
     "output_type": "stream",
     "text": [
      "\n"
     ]
    },
    {
     "name": "stderr",
     "output_type": "stream",
     "text": [
      "551it [1:03:26,  6.73s/it]000760, Training: 20.18%,  Loss: 3.00584, ACC: 46.51% "
     ]
    },
    {
     "name": "stdout",
     "output_type": "stream",
     "text": [
      "\n"
     ]
    },
    {
     "name": "stderr",
     "output_type": "stream",
     "text": [
      "552it [1:03:32,  6.73s/it]000760, Training: 20.22%,  Loss: 3.00559, ACC: 46.51% "
     ]
    },
    {
     "name": "stdout",
     "output_type": "stream",
     "text": [
      "\n"
     ]
    },
    {
     "name": "stderr",
     "output_type": "stream",
     "text": [
      "553it [1:03:39,  6.78s/it]000760, Training: 20.26%,  Loss: 3.00508, ACC: 46.52% "
     ]
    },
    {
     "name": "stdout",
     "output_type": "stream",
     "text": [
      "\n"
     ]
    },
    {
     "name": "stderr",
     "output_type": "stream",
     "text": [
      "554it [1:03:46,  6.75s/it]000760, Training: 20.29%,  Loss: 3.00522, ACC: 46.52% "
     ]
    },
    {
     "name": "stdout",
     "output_type": "stream",
     "text": [
      "\n"
     ]
    },
    {
     "name": "stderr",
     "output_type": "stream",
     "text": [
      "555it [1:03:53,  6.75s/it]000760, Training: 20.33%,  Loss: 3.00488, ACC: 46.53% "
     ]
    },
    {
     "name": "stdout",
     "output_type": "stream",
     "text": [
      "\n"
     ]
    },
    {
     "name": "stderr",
     "output_type": "stream",
     "text": [
      "556it [1:04:00,  6.80s/it]000760, Training: 20.37%,  Loss: 3.00509, ACC: 46.52% "
     ]
    },
    {
     "name": "stdout",
     "output_type": "stream",
     "text": [
      "\n"
     ]
    },
    {
     "name": "stderr",
     "output_type": "stream",
     "text": [
      "557it [1:04:06,  6.76s/it]000760, Training: 20.40%,  Loss: 3.00522, ACC: 46.51% "
     ]
    },
    {
     "name": "stdout",
     "output_type": "stream",
     "text": [
      "\n"
     ]
    },
    {
     "name": "stderr",
     "output_type": "stream",
     "text": [
      "558it [1:04:13,  6.77s/it]000760, Training: 20.44%,  Loss: 3.00546, ACC: 46.50% "
     ]
    },
    {
     "name": "stdout",
     "output_type": "stream",
     "text": [
      "\n"
     ]
    },
    {
     "name": "stderr",
     "output_type": "stream",
     "text": [
      "559it [1:04:20,  6.75s/it]000760, Training: 20.48%,  Loss: 3.00519, ACC: 46.51% "
     ]
    },
    {
     "name": "stdout",
     "output_type": "stream",
     "text": [
      "\n"
     ]
    },
    {
     "name": "stderr",
     "output_type": "stream",
     "text": [
      "560it [1:04:27,  6.80s/it]000760, Training: 20.51%,  Loss: 3.00491, ACC: 46.51% "
     ]
    },
    {
     "name": "stdout",
     "output_type": "stream",
     "text": [
      "\n"
     ]
    },
    {
     "name": "stderr",
     "output_type": "stream",
     "text": [
      "561it [1:04:33,  6.76s/it]000760, Training: 20.55%,  Loss: 3.00465, ACC: 46.51% "
     ]
    },
    {
     "name": "stdout",
     "output_type": "stream",
     "text": [
      "\n"
     ]
    },
    {
     "name": "stderr",
     "output_type": "stream",
     "text": [
      "562it [1:04:40,  6.79s/it]000760, Training: 20.59%,  Loss: 3.00484, ACC: 46.51% "
     ]
    },
    {
     "name": "stdout",
     "output_type": "stream",
     "text": [
      "\n"
     ]
    },
    {
     "name": "stderr",
     "output_type": "stream",
     "text": [
      "563it [1:04:47,  6.80s/it]000760, Training: 20.62%,  Loss: 3.00479, ACC: 46.51% "
     ]
    },
    {
     "name": "stdout",
     "output_type": "stream",
     "text": [
      "\n"
     ]
    },
    {
     "name": "stderr",
     "output_type": "stream",
     "text": [
      "564it [1:04:54,  6.81s/it]000760, Training: 20.66%,  Loss: 3.00483, ACC: 46.51% "
     ]
    },
    {
     "name": "stdout",
     "output_type": "stream",
     "text": [
      "\n"
     ]
    },
    {
     "name": "stderr",
     "output_type": "stream",
     "text": [
      "565it [1:05:01,  6.81s/it]000760, Training: 20.70%,  Loss: 3.00457, ACC: 46.51% "
     ]
    },
    {
     "name": "stdout",
     "output_type": "stream",
     "text": [
      "\n"
     ]
    },
    {
     "name": "stderr",
     "output_type": "stream",
     "text": [
      "566it [1:05:08,  6.84s/it]000760, Training: 20.73%,  Loss: 3.00429, ACC: 46.51% "
     ]
    },
    {
     "name": "stdout",
     "output_type": "stream",
     "text": [
      "\n"
     ]
    },
    {
     "name": "stderr",
     "output_type": "stream",
     "text": [
      "567it [1:05:15,  6.83s/it]000760, Training: 20.77%,  Loss: 3.00416, ACC: 46.51% "
     ]
    },
    {
     "name": "stdout",
     "output_type": "stream",
     "text": [
      "\n"
     ]
    },
    {
     "name": "stderr",
     "output_type": "stream",
     "text": [
      "568it [1:05:21,  6.83s/it]000760, Training: 20.81%,  Loss: 3.00391, ACC: 46.51% "
     ]
    },
    {
     "name": "stdout",
     "output_type": "stream",
     "text": [
      "\n"
     ]
    },
    {
     "name": "stderr",
     "output_type": "stream",
     "text": [
      "569it [1:05:28,  6.80s/it]000760, Training: 20.84%,  Loss: 3.00416, ACC: 46.51% "
     ]
    },
    {
     "name": "stdout",
     "output_type": "stream",
     "text": [
      "\n"
     ]
    },
    {
     "name": "stderr",
     "output_type": "stream",
     "text": [
      "570it [1:05:35,  6.79s/it]000760, Training: 20.88%,  Loss: 3.00410, ACC: 46.51% "
     ]
    },
    {
     "name": "stdout",
     "output_type": "stream",
     "text": [
      "\n"
     ]
    },
    {
     "name": "stderr",
     "output_type": "stream",
     "text": [
      "571it [1:05:42,  6.80s/it]000760, Training: 20.92%,  Loss: 3.00417, ACC: 46.51% "
     ]
    },
    {
     "name": "stdout",
     "output_type": "stream",
     "text": [
      "\n"
     ]
    },
    {
     "name": "stderr",
     "output_type": "stream",
     "text": [
      "572it [1:05:49,  6.83s/it]000760, Training: 20.95%,  Loss: 3.00401, ACC: 46.51% "
     ]
    },
    {
     "name": "stdout",
     "output_type": "stream",
     "text": [
      "\n"
     ]
    },
    {
     "name": "stderr",
     "output_type": "stream",
     "text": [
      "573it [1:05:55,  6.77s/it]000760, Training: 20.99%,  Loss: 3.00366, ACC: 46.52% "
     ]
    },
    {
     "name": "stdout",
     "output_type": "stream",
     "text": [
      "\n"
     ]
    },
    {
     "name": "stderr",
     "output_type": "stream",
     "text": [
      "574it [1:06:02,  6.76s/it]000760, Training: 21.03%,  Loss: 3.00375, ACC: 46.52% "
     ]
    },
    {
     "name": "stdout",
     "output_type": "stream",
     "text": [
      "\n"
     ]
    },
    {
     "name": "stderr",
     "output_type": "stream",
     "text": [
      "575it [1:06:09,  6.76s/it]000760, Training: 21.06%,  Loss: 3.00375, ACC: 46.52% "
     ]
    },
    {
     "name": "stdout",
     "output_type": "stream",
     "text": [
      "\n"
     ]
    },
    {
     "name": "stderr",
     "output_type": "stream",
     "text": [
      "576it [1:06:15,  6.76s/it]000760, Training: 21.10%,  Loss: 3.00344, ACC: 46.52% "
     ]
    },
    {
     "name": "stdout",
     "output_type": "stream",
     "text": [
      "\n"
     ]
    },
    {
     "name": "stderr",
     "output_type": "stream",
     "text": [
      "577it [1:06:22,  6.77s/it]000760, Training: 21.14%,  Loss: 3.00369, ACC: 46.52% "
     ]
    },
    {
     "name": "stdout",
     "output_type": "stream",
     "text": [
      "\n"
     ]
    },
    {
     "name": "stderr",
     "output_type": "stream",
     "text": [
      "578it [1:06:29,  6.75s/it]000760, Training: 21.17%,  Loss: 3.00417, ACC: 46.52% "
     ]
    },
    {
     "name": "stdout",
     "output_type": "stream",
     "text": [
      "\n"
     ]
    },
    {
     "name": "stderr",
     "output_type": "stream",
     "text": [
      "579it [1:06:36,  6.76s/it]000760, Training: 21.21%,  Loss: 3.00459, ACC: 46.52% "
     ]
    },
    {
     "name": "stdout",
     "output_type": "stream",
     "text": [
      "\n"
     ]
    },
    {
     "name": "stderr",
     "output_type": "stream",
     "text": [
      "580it [1:06:42,  6.75s/it]000760, Training: 21.25%,  Loss: 3.00496, ACC: 46.52% "
     ]
    },
    {
     "name": "stdout",
     "output_type": "stream",
     "text": [
      "\n"
     ]
    },
    {
     "name": "stderr",
     "output_type": "stream",
     "text": [
      "581it [1:06:49,  6.82s/it]000760, Training: 21.28%,  Loss: 3.00555, ACC: 46.51% "
     ]
    },
    {
     "name": "stdout",
     "output_type": "stream",
     "text": [
      "\n"
     ]
    },
    {
     "name": "stderr",
     "output_type": "stream",
     "text": [
      "582it [1:06:56,  6.81s/it]000760, Training: 21.32%,  Loss: 3.00590, ACC: 46.51% "
     ]
    },
    {
     "name": "stdout",
     "output_type": "stream",
     "text": [
      "\n"
     ]
    },
    {
     "name": "stderr",
     "output_type": "stream",
     "text": [
      "583it [1:07:03,  6.77s/it]000760, Training: 21.36%,  Loss: 3.00590, ACC: 46.51% "
     ]
    },
    {
     "name": "stdout",
     "output_type": "stream",
     "text": [
      "\n"
     ]
    },
    {
     "name": "stderr",
     "output_type": "stream",
     "text": [
      "584it [1:07:10,  6.78s/it]000760, Training: 21.39%,  Loss: 3.00603, ACC: 46.52% "
     ]
    },
    {
     "name": "stdout",
     "output_type": "stream",
     "text": [
      "\n"
     ]
    },
    {
     "name": "stderr",
     "output_type": "stream",
     "text": [
      "585it [1:07:16,  6.77s/it]000760, Training: 21.43%,  Loss: 3.00597, ACC: 46.51% "
     ]
    },
    {
     "name": "stdout",
     "output_type": "stream",
     "text": [
      "\n"
     ]
    },
    {
     "name": "stderr",
     "output_type": "stream",
     "text": [
      "586it [1:07:23,  6.78s/it]000760, Training: 21.47%,  Loss: 3.00580, ACC: 46.52% "
     ]
    },
    {
     "name": "stdout",
     "output_type": "stream",
     "text": [
      "\n"
     ]
    },
    {
     "name": "stderr",
     "output_type": "stream",
     "text": [
      "587it [1:07:30,  6.76s/it]000760, Training: 21.50%,  Loss: 3.00570, ACC: 46.52% "
     ]
    },
    {
     "name": "stdout",
     "output_type": "stream",
     "text": [
      "\n"
     ]
    },
    {
     "name": "stderr",
     "output_type": "stream",
     "text": [
      "588it [1:07:37,  6.75s/it]000760, Training: 21.54%,  Loss: 3.00521, ACC: 46.53% "
     ]
    },
    {
     "name": "stdout",
     "output_type": "stream",
     "text": [
      "\n"
     ]
    },
    {
     "name": "stderr",
     "output_type": "stream",
     "text": [
      "589it [1:07:44,  6.82s/it]000760, Training: 21.58%,  Loss: 3.00527, ACC: 46.53% "
     ]
    },
    {
     "name": "stdout",
     "output_type": "stream",
     "text": [
      "\n"
     ]
    },
    {
     "name": "stderr",
     "output_type": "stream",
     "text": [
      "590it [1:07:51,  6.84s/it]000760, Training: 21.61%,  Loss: 3.00505, ACC: 46.54% "
     ]
    },
    {
     "name": "stdout",
     "output_type": "stream",
     "text": [
      "\n"
     ]
    },
    {
     "name": "stderr",
     "output_type": "stream",
     "text": [
      "591it [1:07:58,  6.94s/it]000760, Training: 21.65%,  Loss: 3.00537, ACC: 46.53% "
     ]
    },
    {
     "name": "stdout",
     "output_type": "stream",
     "text": [
      "\n"
     ]
    },
    {
     "name": "stderr",
     "output_type": "stream",
     "text": [
      "592it [1:08:05,  6.91s/it]000760, Training: 21.68%,  Loss: 3.00547, ACC: 46.53% "
     ]
    },
    {
     "name": "stdout",
     "output_type": "stream",
     "text": [
      "\n"
     ]
    },
    {
     "name": "stderr",
     "output_type": "stream",
     "text": [
      "593it [1:08:11,  6.88s/it]000760, Training: 21.72%,  Loss: 3.00494, ACC: 46.53% "
     ]
    },
    {
     "name": "stdout",
     "output_type": "stream",
     "text": [
      "\n"
     ]
    },
    {
     "name": "stderr",
     "output_type": "stream",
     "text": [
      "594it [1:08:18,  6.94s/it]000760, Training: 21.76%,  Loss: 3.00506, ACC: 46.53% "
     ]
    },
    {
     "name": "stdout",
     "output_type": "stream",
     "text": [
      "\n"
     ]
    },
    {
     "name": "stderr",
     "output_type": "stream",
     "text": [
      "595it [1:08:26,  6.98s/it]000760, Training: 21.79%,  Loss: 3.00481, ACC: 46.53% "
     ]
    },
    {
     "name": "stdout",
     "output_type": "stream",
     "text": [
      "\n"
     ]
    },
    {
     "name": "stderr",
     "output_type": "stream",
     "text": [
      "596it [1:08:33,  6.98s/it]000760, Training: 21.83%,  Loss: 3.00497, ACC: 46.53% "
     ]
    },
    {
     "name": "stdout",
     "output_type": "stream",
     "text": [
      "\n"
     ]
    },
    {
     "name": "stderr",
     "output_type": "stream",
     "text": [
      "597it [1:08:40,  7.03s/it]000760, Training: 21.87%,  Loss: 3.00572, ACC: 46.52% "
     ]
    },
    {
     "name": "stdout",
     "output_type": "stream",
     "text": [
      "\n"
     ]
    },
    {
     "name": "stderr",
     "output_type": "stream",
     "text": [
      "598it [1:08:47,  7.01s/it]000760, Training: 21.90%,  Loss: 3.00595, ACC: 46.52% "
     ]
    },
    {
     "name": "stdout",
     "output_type": "stream",
     "text": [
      "\n"
     ]
    },
    {
     "name": "stderr",
     "output_type": "stream",
     "text": [
      "599it [1:08:54,  6.98s/it]000760, Training: 21.94%,  Loss: 3.00624, ACC: 46.52% "
     ]
    },
    {
     "name": "stdout",
     "output_type": "stream",
     "text": [
      "\n"
     ]
    },
    {
     "name": "stderr",
     "output_type": "stream",
     "text": [
      "600it [1:09:00,  6.96s/it]000760, Training: 21.98%,  Loss: 3.00625, ACC: 46.52% "
     ]
    },
    {
     "name": "stdout",
     "output_type": "stream",
     "text": [
      "\n"
     ]
    },
    {
     "name": "stderr",
     "output_type": "stream",
     "text": [
      "601it [1:09:07,  6.95s/it]000760, Training: 22.01%,  Loss: 3.00613, ACC: 46.53% "
     ]
    },
    {
     "name": "stdout",
     "output_type": "stream",
     "text": [
      "\n"
     ]
    },
    {
     "name": "stderr",
     "output_type": "stream",
     "text": [
      "602it [1:09:14,  6.97s/it]000760, Training: 22.05%,  Loss: 3.00625, ACC: 46.53% "
     ]
    },
    {
     "name": "stdout",
     "output_type": "stream",
     "text": [
      "\n"
     ]
    },
    {
     "name": "stderr",
     "output_type": "stream",
     "text": [
      "603it [1:09:21,  6.96s/it]000760, Training: 22.09%,  Loss: 3.00602, ACC: 46.53% "
     ]
    },
    {
     "name": "stdout",
     "output_type": "stream",
     "text": [
      "\n"
     ]
    },
    {
     "name": "stderr",
     "output_type": "stream",
     "text": [
      "604it [1:09:28,  6.95s/it]000760, Training: 22.12%,  Loss: 3.00602, ACC: 46.53% "
     ]
    },
    {
     "name": "stdout",
     "output_type": "stream",
     "text": [
      "\n"
     ]
    },
    {
     "name": "stderr",
     "output_type": "stream",
     "text": [
      "605it [1:09:35,  6.92s/it]000760, Training: 22.16%,  Loss: 3.00621, ACC: 46.53% "
     ]
    },
    {
     "name": "stdout",
     "output_type": "stream",
     "text": [
      "\n"
     ]
    },
    {
     "name": "stderr",
     "output_type": "stream",
     "text": [
      "606it [1:09:42,  6.92s/it]000760, Training: 22.20%,  Loss: 3.00583, ACC: 46.53% "
     ]
    },
    {
     "name": "stdout",
     "output_type": "stream",
     "text": [
      "\n"
     ]
    },
    {
     "name": "stderr",
     "output_type": "stream",
     "text": [
      "607it [1:09:49,  6.97s/it]000760, Training: 22.23%,  Loss: 3.00622, ACC: 46.53% "
     ]
    },
    {
     "name": "stdout",
     "output_type": "stream",
     "text": [
      "\n"
     ]
    },
    {
     "name": "stderr",
     "output_type": "stream",
     "text": [
      "608it [1:09:56,  6.98s/it]000760, Training: 22.27%,  Loss: 3.00617, ACC: 46.53% "
     ]
    },
    {
     "name": "stdout",
     "output_type": "stream",
     "text": [
      "\n"
     ]
    },
    {
     "name": "stderr",
     "output_type": "stream",
     "text": [
      "609it [1:10:03,  6.99s/it]000760, Training: 22.31%,  Loss: 3.00611, ACC: 46.53% "
     ]
    },
    {
     "name": "stdout",
     "output_type": "stream",
     "text": [
      "\n"
     ]
    },
    {
     "name": "stderr",
     "output_type": "stream",
     "text": [
      "610it [1:10:10,  6.97s/it]000760, Training: 22.34%,  Loss: 3.00590, ACC: 46.53% "
     ]
    },
    {
     "name": "stdout",
     "output_type": "stream",
     "text": [
      "\n"
     ]
    },
    {
     "name": "stderr",
     "output_type": "stream",
     "text": [
      "611it [1:10:17,  6.98s/it]000760, Training: 22.38%,  Loss: 3.00621, ACC: 46.53% "
     ]
    },
    {
     "name": "stdout",
     "output_type": "stream",
     "text": [
      "\n"
     ]
    },
    {
     "name": "stderr",
     "output_type": "stream",
     "text": [
      "612it [1:10:24,  6.97s/it]000760, Training: 22.42%,  Loss: 3.00602, ACC: 46.54% "
     ]
    },
    {
     "name": "stdout",
     "output_type": "stream",
     "text": [
      "\n"
     ]
    },
    {
     "name": "stderr",
     "output_type": "stream",
     "text": [
      "613it [1:10:31,  6.93s/it]000760, Training: 22.45%,  Loss: 3.00590, ACC: 46.54% "
     ]
    },
    {
     "name": "stdout",
     "output_type": "stream",
     "text": [
      "\n"
     ]
    },
    {
     "name": "stderr",
     "output_type": "stream",
     "text": [
      "614it [1:10:38,  6.94s/it]000760, Training: 22.49%,  Loss: 3.00680, ACC: 46.53% "
     ]
    },
    {
     "name": "stdout",
     "output_type": "stream",
     "text": [
      "\n"
     ]
    },
    {
     "name": "stderr",
     "output_type": "stream",
     "text": [
      "615it [1:10:45,  6.93s/it]000760, Training: 22.53%,  Loss: 3.00707, ACC: 46.54% "
     ]
    },
    {
     "name": "stdout",
     "output_type": "stream",
     "text": [
      "\n"
     ]
    },
    {
     "name": "stderr",
     "output_type": "stream",
     "text": [
      "616it [1:10:52,  6.91s/it]000760, Training: 22.56%,  Loss: 3.00674, ACC: 46.53% "
     ]
    },
    {
     "name": "stdout",
     "output_type": "stream",
     "text": [
      "\n"
     ]
    },
    {
     "name": "stderr",
     "output_type": "stream",
     "text": [
      "617it [1:10:59,  6.92s/it]000760, Training: 22.60%,  Loss: 3.00712, ACC: 46.53% "
     ]
    },
    {
     "name": "stdout",
     "output_type": "stream",
     "text": [
      "\n"
     ]
    },
    {
     "name": "stderr",
     "output_type": "stream",
     "text": [
      "618it [1:11:05,  6.93s/it]000760, Training: 22.64%,  Loss: 3.00682, ACC: 46.54% "
     ]
    },
    {
     "name": "stdout",
     "output_type": "stream",
     "text": [
      "\n"
     ]
    },
    {
     "name": "stderr",
     "output_type": "stream",
     "text": [
      "619it [1:11:12,  6.92s/it]000760, Training: 22.67%,  Loss: 3.00663, ACC: 46.54% "
     ]
    },
    {
     "name": "stdout",
     "output_type": "stream",
     "text": [
      "\n"
     ]
    },
    {
     "name": "stderr",
     "output_type": "stream",
     "text": [
      "620it [1:11:19,  6.97s/it]000760, Training: 22.71%,  Loss: 3.00666, ACC: 46.54% "
     ]
    },
    {
     "name": "stdout",
     "output_type": "stream",
     "text": [
      "\n"
     ]
    },
    {
     "name": "stderr",
     "output_type": "stream",
     "text": [
      "621it [1:11:27,  7.02s/it]000760, Training: 22.75%,  Loss: 3.00698, ACC: 46.54% "
     ]
    },
    {
     "name": "stdout",
     "output_type": "stream",
     "text": [
      "\n"
     ]
    },
    {
     "name": "stderr",
     "output_type": "stream",
     "text": [
      "622it [1:11:34,  7.00s/it]000760, Training: 22.78%,  Loss: 3.00671, ACC: 46.54% "
     ]
    },
    {
     "name": "stdout",
     "output_type": "stream",
     "text": [
      "\n"
     ]
    },
    {
     "name": "stderr",
     "output_type": "stream",
     "text": [
      "623it [1:11:41,  7.03s/it]000760, Training: 22.82%,  Loss: 3.00672, ACC: 46.54% "
     ]
    },
    {
     "name": "stdout",
     "output_type": "stream",
     "text": [
      "\n"
     ]
    },
    {
     "name": "stderr",
     "output_type": "stream",
     "text": [
      "624it [1:11:48,  7.01s/it]000760, Training: 22.86%,  Loss: 3.00632, ACC: 46.55% "
     ]
    },
    {
     "name": "stdout",
     "output_type": "stream",
     "text": [
      "\n"
     ]
    },
    {
     "name": "stderr",
     "output_type": "stream",
     "text": [
      "625it [1:11:55,  6.98s/it]000760, Training: 22.89%,  Loss: 3.00627, ACC: 46.55% "
     ]
    },
    {
     "name": "stdout",
     "output_type": "stream",
     "text": [
      "\n"
     ]
    },
    {
     "name": "stderr",
     "output_type": "stream",
     "text": [
      "626it [1:12:02,  6.99s/it]000760, Training: 22.93%,  Loss: 3.00616, ACC: 46.55% "
     ]
    },
    {
     "name": "stdout",
     "output_type": "stream",
     "text": [
      "\n"
     ]
    },
    {
     "name": "stderr",
     "output_type": "stream",
     "text": [
      "627it [1:12:08,  6.97s/it]000760, Training: 22.97%,  Loss: 3.00639, ACC: 46.55% "
     ]
    },
    {
     "name": "stdout",
     "output_type": "stream",
     "text": [
      "\n"
     ]
    },
    {
     "name": "stderr",
     "output_type": "stream",
     "text": [
      "628it [1:12:15,  6.97s/it]000760, Training: 23.00%,  Loss: 3.00643, ACC: 46.55% "
     ]
    },
    {
     "name": "stdout",
     "output_type": "stream",
     "text": [
      "\n"
     ]
    },
    {
     "name": "stderr",
     "output_type": "stream",
     "text": [
      "629it [1:12:22,  6.93s/it]000760, Training: 23.04%,  Loss: 3.00657, ACC: 46.54% "
     ]
    },
    {
     "name": "stdout",
     "output_type": "stream",
     "text": [
      "\n"
     ]
    },
    {
     "name": "stderr",
     "output_type": "stream",
     "text": [
      "630it [1:12:29,  6.89s/it]000760, Training: 23.08%,  Loss: 3.00648, ACC: 46.54% "
     ]
    },
    {
     "name": "stdout",
     "output_type": "stream",
     "text": [
      "\n"
     ]
    },
    {
     "name": "stderr",
     "output_type": "stream",
     "text": [
      "631it [1:12:36,  6.91s/it]000760, Training: 23.11%,  Loss: 3.00613, ACC: 46.54% "
     ]
    },
    {
     "name": "stdout",
     "output_type": "stream",
     "text": [
      "\n"
     ]
    },
    {
     "name": "stderr",
     "output_type": "stream",
     "text": [
      "632it [1:12:43,  6.87s/it]000760, Training: 23.15%,  Loss: 3.00606, ACC: 46.54% "
     ]
    },
    {
     "name": "stdout",
     "output_type": "stream",
     "text": [
      "\n"
     ]
    },
    {
     "name": "stderr",
     "output_type": "stream",
     "text": [
      "633it [1:12:50,  6.90s/it]000760, Training: 23.19%,  Loss: 3.00575, ACC: 46.54% "
     ]
    },
    {
     "name": "stdout",
     "output_type": "stream",
     "text": [
      "\n"
     ]
    },
    {
     "name": "stderr",
     "output_type": "stream",
     "text": [
      "634it [1:12:57,  6.88s/it]000760, Training: 23.22%,  Loss: 3.00571, ACC: 46.54% "
     ]
    },
    {
     "name": "stdout",
     "output_type": "stream",
     "text": [
      "\n"
     ]
    },
    {
     "name": "stderr",
     "output_type": "stream",
     "text": [
      "635it [1:13:03,  6.87s/it]000760, Training: 23.26%,  Loss: 3.00567, ACC: 46.54% "
     ]
    },
    {
     "name": "stdout",
     "output_type": "stream",
     "text": [
      "\n"
     ]
    },
    {
     "name": "stderr",
     "output_type": "stream",
     "text": [
      "636it [1:13:10,  6.82s/it]000760, Training: 23.30%,  Loss: 3.00528, ACC: 46.55% "
     ]
    },
    {
     "name": "stdout",
     "output_type": "stream",
     "text": [
      "\n"
     ]
    },
    {
     "name": "stderr",
     "output_type": "stream",
     "text": [
      "637it [1:13:17,  6.88s/it]000760, Training: 23.33%,  Loss: 3.00531, ACC: 46.55% "
     ]
    },
    {
     "name": "stdout",
     "output_type": "stream",
     "text": [
      "\n"
     ]
    },
    {
     "name": "stderr",
     "output_type": "stream",
     "text": [
      "638it [1:13:24,  6.91s/it]000760, Training: 23.37%,  Loss: 3.00541, ACC: 46.54% "
     ]
    },
    {
     "name": "stdout",
     "output_type": "stream",
     "text": [
      "\n"
     ]
    },
    {
     "name": "stderr",
     "output_type": "stream",
     "text": [
      "639it [1:13:31,  6.93s/it]000760, Training: 23.41%,  Loss: 3.00512, ACC: 46.55% "
     ]
    },
    {
     "name": "stdout",
     "output_type": "stream",
     "text": [
      "\n"
     ]
    },
    {
     "name": "stderr",
     "output_type": "stream",
     "text": [
      "640it [1:13:38,  6.93s/it]000760, Training: 23.44%,  Loss: 3.00520, ACC: 46.55% "
     ]
    },
    {
     "name": "stdout",
     "output_type": "stream",
     "text": [
      "\n"
     ]
    },
    {
     "name": "stderr",
     "output_type": "stream",
     "text": [
      "641it [1:13:45,  6.92s/it]000760, Training: 23.48%,  Loss: 3.00540, ACC: 46.55% "
     ]
    },
    {
     "name": "stdout",
     "output_type": "stream",
     "text": [
      "\n"
     ]
    },
    {
     "name": "stderr",
     "output_type": "stream",
     "text": [
      "642it [1:13:52,  6.90s/it]000760, Training: 23.52%,  Loss: 3.00518, ACC: 46.54% "
     ]
    },
    {
     "name": "stdout",
     "output_type": "stream",
     "text": [
      "\n"
     ]
    },
    {
     "name": "stderr",
     "output_type": "stream",
     "text": [
      "643it [1:13:59,  6.89s/it]000760, Training: 23.55%,  Loss: 3.00499, ACC: 46.55% "
     ]
    },
    {
     "name": "stdout",
     "output_type": "stream",
     "text": [
      "\n"
     ]
    },
    {
     "name": "stderr",
     "output_type": "stream",
     "text": [
      "644it [1:14:06,  6.89s/it]000760, Training: 23.59%,  Loss: 3.00539, ACC: 46.54% "
     ]
    },
    {
     "name": "stdout",
     "output_type": "stream",
     "text": [
      "\n"
     ]
    }
   ],
   "source": [
    "import argparse, glob, os, torch, warnings, time\n",
    "from tools import *\n",
    "from dataLoader import train_loader\n",
    "from ECAPAModel import ECAPAModel\n",
    "\n",
    "parser = argparse.ArgumentParser(description = \"ECAPA_trainer\")\n",
    "## Training Settings\n",
    "parser.add_argument('--num_frames', type=int,   default=200,     help='Duration of the input segments, eg: 200 for 2 second')\n",
    "parser.add_argument('--max_epoch',  type=int,   default=80,      help='Maximum number of epochs')\n",
    "parser.add_argument('--batch_size', type=int,   default=400,     help='Batch size')\n",
    "parser.add_argument('--n_cpu',      type=int,   default=0,       help='Number of loader threads')\n",
    "                                                        #4\n",
    "parser.add_argument('--test_step',  type=int,   default=1,       help='Test and save every [test_step] epochs')\n",
    "parser.add_argument('--lr',         type=float, default=0.001,   help='Learning rate')\n",
    "parser.add_argument(\"--lr_decay\",   type=float, default=0.97,    help='Learning rate decay every [test_step] epochs')\n",
    "\n",
    "## Training and evaluation path/lists, save path\n",
    "parser.add_argument('--train_list', type=str,   default=\"/Data1/VoxCeleb/VoxCeleb2/Audio/train_list.txt\", help='The path of the training list, eg:\"/data08/VoxCeleb2/train_list.txt\" in my case, which contains 1092009 lins')\n",
    "parser.add_argument('--train_path', type=str,   default=\"/Data1/VoxCeleb/VoxCeleb2/Audio/voxceleb2\", help='The path of the training data, eg:\"/data08/VoxCeleb2/train/wav\" in my case')\n",
    "parser.add_argument('--eval_list',  type=str,   default=\"/Data1/VoxCeleb/VoxCeleb2/Audio/veri_test2.txt\", help='The path of the evaluation list, veri_test2.txt comes from https://www.robots.ox.ac.uk/~vgg/data/voxceleb/meta/veri_test2.txt')\n",
    "parser.add_argument('--eval_path',  type=str,   default=\"/Data1/VoxCeleb/VoxCeleb2/Audio/vox1_test_wav\", help='The path of the evaluation data, eg:\"/data08/VoxCeleb1/test/wav\" in my case')\n",
    "parser.add_argument('--musan_path', type=str,   default=\"/Data1/VoxCeleb/VoxCeleb2/Audio/musan_split\", help='The path to the MUSAN set, eg:\"/data08/Others/musan_split\" in my case')\n",
    "parser.add_argument('--rir_path',   type=str,   default=\"/Data1/VoxCeleb/VoxCeleb2/Audio/RIRS_NOISES/simulated_rirs\", help='The path to the RIR set, eg:\"/data08/Others/RIRS_NOISES/simulated_rirs\" in my case')\n",
    "parser.add_argument('--save_path',  type=str,   default=\"exps/base_ti\", help='Path to save the score.txt and models')\n",
    "parser.add_argument('--initial_model',  type=str,   default=\"\", help='Path of the initial_model')\n",
    "\n",
    "## Model and Loss settings\n",
    "parser.add_argument('--C',       type=int,   default=1024,   help='Channel size for the speaker encoder')\n",
    "parser.add_argument('--m',       type=float, default=0.2,    help='Loss margin in AAM softmax')\n",
    "parser.add_argument('--s',       type=float, default=30,     help='Loss scale in AAM softmax')\n",
    "parser.add_argument('--n_class', type=int,   default=5994,   help='Number of speakers')\n",
    "\n",
    "## Command\n",
    "parser.add_argument('--eval',    dest='eval', action='store_true', help='Only do evaluation')\n",
    "\n",
    "## Initialization\n",
    "warnings.simplefilter(\"ignore\")\n",
    "torch.multiprocessing.set_sharing_strategy('file_system')\n",
    "args = parser.parse_args(args = [])\n",
    "args = init_args(args)\n",
    "\n",
    "## Define the data loader\n",
    "trainloader = train_loader(**vars(args))\n",
    "trainLoader = torch.utils.data.DataLoader(trainloader, batch_size = args.batch_size, shuffle = True, num_workers = args.n_cpu, drop_last = True)\n",
    "\n",
    "## Search for the exist models\n",
    "modelfiles = glob.glob('%s/model_0*.model'%args.model_save_path)\n",
    "modelfiles.sort()\n",
    "\n",
    "## Only do evaluation, the initial_model is necessary\n",
    "if args.eval == True:\n",
    "\ts = ECAPAModel(**vars(args))\n",
    "\tprint(\"Model %s loaded from previous state!\"%args.initial_model)\n",
    "\ts.load_parameters(args.initial_model)\n",
    "\tEER, minDCF = s.eval_network(eval_list = args.eval_list, eval_path = args.eval_path)\n",
    "\tprint(\"EER %2.2f%%, minDCF %.4f%%\"%(EER, minDCF))\n",
    "\tquit()\n",
    "\n",
    "## If initial_model is exist, system will train from the initial_model\n",
    "if args.initial_model != \"\":\n",
    "\tprint(\"Model %s loaded from previous state!\"%args.initial_model)\n",
    "\ts = ECAPAModel(**vars(args))\n",
    "\ts.load_parameters(args.initial_model)\n",
    "\tepoch = 1\n",
    "\n",
    "## Otherwise, system will try to start from the saved model&epoch\n",
    "elif len(modelfiles) >= 1:\n",
    "\tprint(\"Model %s loaded from previous state!\"%modelfiles[-1])\n",
    "\tepoch = int(os.path.splitext(os.path.basename(modelfiles[-1]))[0][6:]) + 1\n",
    "\ts = ECAPAModel(**vars(args))\n",
    "\ts.load_parameters(modelfiles[-1])\n",
    "## Otherwise, system will train from scratch\n",
    "else:\n",
    "\tepoch = 1\n",
    "\ts = ECAPAModel(**vars(args))\n",
    "\n",
    "EERs = []\n",
    "score_file = open(args.score_save_path, \"a+\")\n",
    "\n",
    "while(1):\n",
    "\t## Training for one epoch\n",
    "\tloss, lr, acc = s.train_network(epoch = epoch, loader = trainLoader)\n",
    "\n",
    "\t## Evaluation every [test_step] epochs\n",
    "\tif epoch % args.test_step == 0:\n",
    "\t\ts.save_parameters(args.model_save_path + \"/model_%04d.model\"%epoch)\n",
    "\t\tEERs.append(s.eval_network(eval_list = args.eval_list, eval_path = args.eval_path)[0])\n",
    "\t\tprint(time.strftime(\"%Y-%m-%d %H:%M:%S\"), \"%d epoch, ACC %2.2f%%, EER %2.2f%%, bestEER %2.2f%%\"%(epoch, acc, EERs[-1], min(EERs)))\n",
    "\t\tscore_file.write(\"%d epoch, LR %f, LOSS %f, ACC %2.2f%%, EER %2.2f%%, bestEER %2.2f%%\\n\"%(epoch, lr, loss, acc, EERs[-1], min(EERs)))\n",
    "\t\tscore_file.flush()\n",
    "\n",
    "\tif epoch >= args.max_epoch:\n",
    "\t\tquit()\n",
    "\n",
    "\tepoch += 1\n"
   ]
  },
  {
   "cell_type": "code",
   "execution_count": null,
   "id": "gentle-mouth",
   "metadata": {},
   "outputs": [],
   "source": []
  },
  {
   "cell_type": "code",
   "execution_count": null,
   "id": "cardiac-uzbekistan",
   "metadata": {},
   "outputs": [],
   "source": []
  },
  {
   "cell_type": "code",
   "execution_count": null,
   "id": "spiritual-moderator",
   "metadata": {},
   "outputs": [],
   "source": []
  },
  {
   "cell_type": "code",
   "execution_count": null,
   "id": "bulgarian-accommodation",
   "metadata": {},
   "outputs": [],
   "source": []
  },
  {
   "cell_type": "code",
   "execution_count": null,
   "id": "sonic-cooking",
   "metadata": {},
   "outputs": [],
   "source": []
  },
  {
   "cell_type": "code",
   "execution_count": null,
   "id": "exciting-daily",
   "metadata": {},
   "outputs": [],
   "source": []
  },
  {
   "cell_type": "code",
   "execution_count": null,
   "id": "arbitrary-archive",
   "metadata": {},
   "outputs": [],
   "source": []
  },
  {
   "cell_type": "code",
   "execution_count": null,
   "id": "duplicate-constraint",
   "metadata": {},
   "outputs": [],
   "source": []
  },
  {
   "cell_type": "code",
   "execution_count": null,
   "id": "supreme-simon",
   "metadata": {},
   "outputs": [],
   "source": []
  },
  {
   "cell_type": "code",
   "execution_count": null,
   "id": "secure-router",
   "metadata": {},
   "outputs": [],
   "source": []
  },
  {
   "cell_type": "code",
   "execution_count": null,
   "id": "measured-legislation",
   "metadata": {},
   "outputs": [],
   "source": []
  },
  {
   "cell_type": "code",
   "execution_count": null,
   "id": "educated-planner",
   "metadata": {},
   "outputs": [],
   "source": []
  },
  {
   "cell_type": "code",
   "execution_count": null,
   "id": "palestinian-truck",
   "metadata": {},
   "outputs": [],
   "source": []
  },
  {
   "cell_type": "code",
   "execution_count": null,
   "id": "acquired-zealand",
   "metadata": {},
   "outputs": [],
   "source": []
  },
  {
   "cell_type": "code",
   "execution_count": null,
   "id": "radio-statistics",
   "metadata": {},
   "outputs": [],
   "source": []
  },
  {
   "cell_type": "code",
   "execution_count": null,
   "id": "inside-consideration",
   "metadata": {},
   "outputs": [],
   "source": []
  },
  {
   "cell_type": "code",
   "execution_count": null,
   "id": "juvenile-railway",
   "metadata": {},
   "outputs": [],
   "source": []
  },
  {
   "cell_type": "code",
   "execution_count": null,
   "id": "compact-labor",
   "metadata": {},
   "outputs": [],
   "source": []
  },
  {
   "cell_type": "code",
   "execution_count": null,
   "id": "viral-ideal",
   "metadata": {},
   "outputs": [],
   "source": []
  },
  {
   "cell_type": "code",
   "execution_count": null,
   "id": "approved-battle",
   "metadata": {},
   "outputs": [],
   "source": []
  },
  {
   "cell_type": "code",
   "execution_count": null,
   "id": "stuck-second",
   "metadata": {},
   "outputs": [],
   "source": []
  },
  {
   "cell_type": "code",
   "execution_count": null,
   "id": "pediatric-usage",
   "metadata": {},
   "outputs": [],
   "source": []
  },
  {
   "cell_type": "code",
   "execution_count": null,
   "id": "aboriginal-signature",
   "metadata": {},
   "outputs": [],
   "source": []
  },
  {
   "cell_type": "code",
   "execution_count": null,
   "id": "breathing-special",
   "metadata": {},
   "outputs": [],
   "source": []
  },
  {
   "cell_type": "code",
   "execution_count": null,
   "id": "diagnostic-basics",
   "metadata": {},
   "outputs": [],
   "source": []
  },
  {
   "cell_type": "code",
   "execution_count": null,
   "id": "political-praise",
   "metadata": {},
   "outputs": [],
   "source": []
  },
  {
   "cell_type": "code",
   "execution_count": null,
   "id": "neural-fleet",
   "metadata": {},
   "outputs": [],
   "source": []
  },
  {
   "cell_type": "code",
   "execution_count": null,
   "id": "romance-mixture",
   "metadata": {},
   "outputs": [],
   "source": []
  },
  {
   "cell_type": "code",
   "execution_count": null,
   "id": "confirmed-turkish",
   "metadata": {},
   "outputs": [],
   "source": []
  },
  {
   "cell_type": "code",
   "execution_count": null,
   "id": "interior-absorption",
   "metadata": {},
   "outputs": [],
   "source": []
  },
  {
   "cell_type": "code",
   "execution_count": null,
   "id": "angry-evaluation",
   "metadata": {},
   "outputs": [],
   "source": []
  },
  {
   "cell_type": "code",
   "execution_count": null,
   "id": "opened-protein",
   "metadata": {},
   "outputs": [],
   "source": []
  },
  {
   "cell_type": "code",
   "execution_count": null,
   "id": "raised-athletics",
   "metadata": {},
   "outputs": [],
   "source": []
  },
  {
   "cell_type": "code",
   "execution_count": null,
   "id": "novel-young",
   "metadata": {},
   "outputs": [],
   "source": []
  },
  {
   "cell_type": "code",
   "execution_count": null,
   "id": "wrong-minimum",
   "metadata": {},
   "outputs": [],
   "source": []
  },
  {
   "cell_type": "code",
   "execution_count": null,
   "id": "sudden-lloyd",
   "metadata": {},
   "outputs": [],
   "source": []
  },
  {
   "cell_type": "code",
   "execution_count": null,
   "id": "quiet-vault",
   "metadata": {},
   "outputs": [],
   "source": []
  },
  {
   "cell_type": "code",
   "execution_count": null,
   "id": "general-baseline",
   "metadata": {},
   "outputs": [],
   "source": []
  },
  {
   "cell_type": "code",
   "execution_count": null,
   "id": "lesser-honolulu",
   "metadata": {},
   "outputs": [],
   "source": []
  },
  {
   "cell_type": "code",
   "execution_count": null,
   "id": "monetary-great",
   "metadata": {},
   "outputs": [],
   "source": []
  },
  {
   "cell_type": "code",
   "execution_count": null,
   "id": "vocal-venezuela",
   "metadata": {},
   "outputs": [],
   "source": []
  },
  {
   "cell_type": "code",
   "execution_count": null,
   "id": "composed-suicide",
   "metadata": {},
   "outputs": [],
   "source": []
  },
  {
   "cell_type": "code",
   "execution_count": null,
   "id": "defined-intelligence",
   "metadata": {},
   "outputs": [],
   "source": []
  },
  {
   "cell_type": "code",
   "execution_count": null,
   "id": "wooden-plasma",
   "metadata": {},
   "outputs": [],
   "source": []
  },
  {
   "cell_type": "code",
   "execution_count": null,
   "id": "still-nomination",
   "metadata": {},
   "outputs": [],
   "source": []
  },
  {
   "cell_type": "code",
   "execution_count": null,
   "id": "developmental-settlement",
   "metadata": {},
   "outputs": [],
   "source": []
  },
  {
   "cell_type": "code",
   "execution_count": null,
   "id": "israeli-ribbon",
   "metadata": {},
   "outputs": [],
   "source": []
  },
  {
   "cell_type": "code",
   "execution_count": null,
   "id": "polyphonic-florence",
   "metadata": {},
   "outputs": [],
   "source": []
  },
  {
   "cell_type": "code",
   "execution_count": null,
   "id": "genuine-authorization",
   "metadata": {},
   "outputs": [],
   "source": []
  }
 ],
 "metadata": {
  "kernelspec": {
   "display_name": "Python 3",
   "language": "python",
   "name": "python3"
  },
  "language_info": {
   "codemirror_mode": {
    "name": "ipython",
    "version": 3
   },
   "file_extension": ".py",
   "mimetype": "text/x-python",
   "name": "python",
   "nbconvert_exporter": "python",
   "pygments_lexer": "ipython3",
   "version": "3.7.9"
  }
 },
 "nbformat": 4,
 "nbformat_minor": 5
}
