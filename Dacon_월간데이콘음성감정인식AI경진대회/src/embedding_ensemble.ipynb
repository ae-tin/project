{
 "cells": [
  {
   "cell_type": "code",
   "execution_count": 27,
   "id": "7a74aab2",
   "metadata": {
    "tags": []
   },
   "outputs": [
    {
     "name": "stdout",
     "output_type": "stream",
     "text": [
      "/opt/conda/lib/python3.8/site-packages/pandas/compat/_optional.py:161: UserWarning: Pandas requires version '2.7.1' or newer of 'numexpr' (version '2.7.0' currently installed).\n",
      "  warnings.warn(msg, UserWarning)\n",
      "classifier :  Linear4\n",
      "---- w2v2_ecapa_text ----\n",
      "---- w2v2_hybrid ----\n",
      "---- w2v2_hybrid_text ----\n",
      "Device: cuda:1\n",
      "no. model params:1122438\n",
      "no. training files: 14250\n"
     ]
    }
   ],
   "source": [
    "!python main_embedding_ensemble.py --comment all_embed_aug"
   ]
  },
  {
   "cell_type": "code",
   "execution_count": null,
   "id": "6eb639b1-6c0d-4943-9241-bdae5a379724",
   "metadata": {},
   "outputs": [],
   "source": []
  },
  {
   "cell_type": "code",
   "execution_count": null,
   "id": "8cfe619a-a33e-4a41-924a-ed6e980f5958",
   "metadata": {},
   "outputs": [],
   "source": []
  }
 ],
 "metadata": {
  "kernelspec": {
   "display_name": "PyTorch 1.11 (NGC 22.02/Python 3.8 Conda) on Backend.AI",
   "language": "python",
   "name": "python3"
  },
  "language_info": {
   "codemirror_mode": {
    "name": "ipython",
    "version": 3
   },
   "file_extension": ".py",
   "mimetype": "text/x-python",
   "name": "python",
   "nbconvert_exporter": "python",
   "pygments_lexer": "ipython3",
   "version": "3.8.12"
  }
 },
 "nbformat": 4,
 "nbformat_minor": 5
}
