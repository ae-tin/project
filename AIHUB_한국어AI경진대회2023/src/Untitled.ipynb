{
 "cells": [
  {
   "cell_type": "code",
   "execution_count": 14,
   "id": "a2c05c37-a97c-4a01-86bc-ec5a51f54358",
   "metadata": {},
   "outputs": [
    {
     "data": {
      "text/plain": [
       "'2.0.1+cu117'"
      ]
     },
     "execution_count": 14,
     "metadata": {},
     "output_type": "execute_result"
    }
   ],
   "source": [
    "import torch\n",
    "torch.__version__"
   ]
  },
  {
   "cell_type": "code",
   "execution_count": 15,
   "id": "2c101ea0-58ed-423d-bce1-bce43e18bead",
   "metadata": {},
   "outputs": [],
   "source": [
    "import numpy as np\n",
    "import pandas as pd\n",
    "from glob import glob\n",
    "import json"
   ]
  },
  {
   "cell_type": "code",
   "execution_count": 16,
   "id": "b5cf484e-3e67-4ae4-89b8-d4ee5e35d8d5",
   "metadata": {},
   "outputs": [],
   "source": [
    "train_list = glob('/home/work/dataADD/ktelspeech/ksponspeech/train/*/*/*.pcm')\n",
    "train_text = glob('/home/work/dataADD/ktelspeech/ksponspeech/train/*/*/*.txt')\n",
    "train_list.sort()\n",
    "train_text.sort()"
   ]
  },
  {
   "cell_type": "code",
   "execution_count": 17,
   "id": "dec67f8b-7014-4e15-ba91-74c11cdaca92",
   "metadata": {},
   "outputs": [
    {
     "data": {
      "text/plain": [
       "622545"
      ]
     },
     "execution_count": 17,
     "metadata": {},
     "output_type": "execute_result"
    }
   ],
   "source": [
    "len(train_list)"
   ]
  },
  {
   "cell_type": "code",
   "execution_count": 18,
   "id": "f5837482-5aa0-47b8-a4cf-915fb4b50e73",
   "metadata": {},
   "outputs": [
    {
     "data": {
      "text/plain": [
       "['/home/work/dataADD/ktelspeech/ksponspeech/train/KsponSpeech_01/KsponSpeech_0001/KsponSpeech_000001.pcm',\n",
       " '/home/work/dataADD/ktelspeech/ksponspeech/train/KsponSpeech_01/KsponSpeech_0001/KsponSpeech_000002.pcm',\n",
       " '/home/work/dataADD/ktelspeech/ksponspeech/train/KsponSpeech_01/KsponSpeech_0001/KsponSpeech_000003.pcm',\n",
       " '/home/work/dataADD/ktelspeech/ksponspeech/train/KsponSpeech_01/KsponSpeech_0001/KsponSpeech_000004.pcm',\n",
       " '/home/work/dataADD/ktelspeech/ksponspeech/train/KsponSpeech_01/KsponSpeech_0001/KsponSpeech_000005.pcm',\n",
       " '/home/work/dataADD/ktelspeech/ksponspeech/train/KsponSpeech_01/KsponSpeech_0001/KsponSpeech_000006.pcm',\n",
       " '/home/work/dataADD/ktelspeech/ksponspeech/train/KsponSpeech_01/KsponSpeech_0001/KsponSpeech_000007.pcm',\n",
       " '/home/work/dataADD/ktelspeech/ksponspeech/train/KsponSpeech_01/KsponSpeech_0001/KsponSpeech_000008.pcm',\n",
       " '/home/work/dataADD/ktelspeech/ksponspeech/train/KsponSpeech_01/KsponSpeech_0001/KsponSpeech_000009.pcm',\n",
       " '/home/work/dataADD/ktelspeech/ksponspeech/train/KsponSpeech_01/KsponSpeech_0001/KsponSpeech_000010.pcm']"
      ]
     },
     "execution_count": 18,
     "metadata": {},
     "output_type": "execute_result"
    }
   ],
   "source": [
    "train_list[:10]"
   ]
  },
  {
   "cell_type": "code",
   "execution_count": 19,
   "id": "85da187c-3a4c-4630-b952-95443614d2ad",
   "metadata": {},
   "outputs": [
    {
     "data": {
      "text/plain": [
       "['/home/work/dataADD/ktelspeech/ksponspeech/train/KsponSpeech_01/KsponSpeech_0001/KsponSpeech_000001.txt',\n",
       " '/home/work/dataADD/ktelspeech/ksponspeech/train/KsponSpeech_01/KsponSpeech_0001/KsponSpeech_000002.txt',\n",
       " '/home/work/dataADD/ktelspeech/ksponspeech/train/KsponSpeech_01/KsponSpeech_0001/KsponSpeech_000003.txt',\n",
       " '/home/work/dataADD/ktelspeech/ksponspeech/train/KsponSpeech_01/KsponSpeech_0001/KsponSpeech_000004.txt',\n",
       " '/home/work/dataADD/ktelspeech/ksponspeech/train/KsponSpeech_01/KsponSpeech_0001/KsponSpeech_000005.txt',\n",
       " '/home/work/dataADD/ktelspeech/ksponspeech/train/KsponSpeech_01/KsponSpeech_0001/KsponSpeech_000006.txt',\n",
       " '/home/work/dataADD/ktelspeech/ksponspeech/train/KsponSpeech_01/KsponSpeech_0001/KsponSpeech_000007.txt',\n",
       " '/home/work/dataADD/ktelspeech/ksponspeech/train/KsponSpeech_01/KsponSpeech_0001/KsponSpeech_000008.txt',\n",
       " '/home/work/dataADD/ktelspeech/ksponspeech/train/KsponSpeech_01/KsponSpeech_0001/KsponSpeech_000009.txt',\n",
       " '/home/work/dataADD/ktelspeech/ksponspeech/train/KsponSpeech_01/KsponSpeech_0001/KsponSpeech_000010.txt']"
      ]
     },
     "execution_count": 19,
     "metadata": {},
     "output_type": "execute_result"
    }
   ],
   "source": [
    "train_text[:10]"
   ]
  },
  {
   "cell_type": "code",
   "execution_count": 20,
   "id": "48c1f968-2003-4c58-bd35-58170c24176b",
   "metadata": {},
   "outputs": [],
   "source": [
    "train_labels = pd.read_csv('/home/work/dataADD/ktelspeech/Training/D60/train_label.csv',encoding='utf-8')"
   ]
  },
  {
   "cell_type": "code",
   "execution_count": 21,
   "id": "ff5939d0-1b92-46aa-b772-13bbcefb7aae",
   "metadata": {},
   "outputs": [
    {
     "data": {
      "text/plain": [
       "593643"
      ]
     },
     "execution_count": 21,
     "metadata": {},
     "output_type": "execute_result"
    }
   ],
   "source": [
    "len(train_labels)"
   ]
  },
  {
   "cell_type": "code",
   "execution_count": 22,
   "id": "70064f12-e9d7-44d6-a5d1-70d48ec96b40",
   "metadata": {},
   "outputs": [],
   "source": [
    "import re\n",
    "def bracket_filter(sentence):\n",
    "    new_sentence = str()\n",
    "    flag = False\n",
    "    \n",
    "    for ch in sentence:\n",
    "        if ch == '(' and flag == False: \n",
    "            flag = True\n",
    "            continue\n",
    "        if ch == '(' and flag == True:\n",
    "            flag = False\n",
    "            continue\n",
    "        if ch != ')' and flag == False:\n",
    "            new_sentence += ch\n",
    "    return new_sentence"
   ]
  },
  {
   "cell_type": "code",
   "execution_count": 23,
   "id": "eb99ec02-4d62-4289-b5f1-c72dfde2da0a",
   "metadata": {},
   "outputs": [],
   "source": [
    "def special_filter(sentence):\n",
    "    SENTENCE_MARK = ['?', '!']\n",
    "    NOISE = ['o', 'n', 'u', 'b', 'l']\n",
    "    EXCEPT = ['/', '+', '*', '-', '@', '$', '^', '&', '[', ']', '=', ':', ';', '.', ',']\n",
    "    \n",
    "    new_sentence = str()\n",
    "    for idx, ch in enumerate(sentence):\n",
    "        if ch not in SENTENCE_MARK:\n",
    "            # o/, n/ 등 처리\n",
    "            if idx + 1 < len(sentence) and ch in NOISE and sentence[idx+1] == '/': \n",
    "                continue \n",
    "\n",
    "        if ch == '#': \n",
    "            new_sentence += '샾'\n",
    "\n",
    "        elif ch not in EXCEPT: \n",
    "            new_sentence += ch\n",
    "\n",
    "    pattern = re.compile(r'\\s\\s+')\n",
    "    new_sentence = re.sub(pattern, ' ', new_sentence.strip())\n",
    "    return new_sentence"
   ]
  },
  {
   "cell_type": "code",
   "execution_count": 24,
   "id": "28615e31-51ca-4b2c-8677-0c7cd53d4f36",
   "metadata": {},
   "outputs": [],
   "source": [
    "def sentence_filter(raw_sentence):\n",
    "    return special_filter(bracket_filter(raw_sentence))"
   ]
  },
  {
   "cell_type": "code",
   "execution_count": 25,
   "id": "1e3292e9-29f9-48d7-87bf-14e0da72d730",
   "metadata": {},
   "outputs": [
    {
     "name": "stderr",
     "output_type": "stream",
     "text": [
      "100% 622545/622545 [03:02<00:00, 3403.61it/s]\n"
     ]
    }
   ],
   "source": [
    "from tqdm import tqdm\n",
    "trans_list = list()\n",
    "for i in tqdm(range(len(train_list))):\n",
    "    try :\n",
    "        with open(train_text[i], \"r\",encoding='euc-kr') as file:\n",
    "            lines = file.readlines()\n",
    "            for line in lines :\n",
    "#                print(sentence_filter(line))\n",
    "                trans_list.append(sentence_filter(line))\n",
    "    except :\n",
    "        with open(train_text[i], \"r\",encoding='cp949') as file:\n",
    "            lines = file.readlines()\n",
    "            for line in lines :\n",
    "#                print(sentence_filter(line))\n",
    "                trans_list.append(sentence_filter(line))"
   ]
  },
  {
   "cell_type": "code",
   "execution_count": 27,
   "id": "49194650-9266-46f6-a940-8f596a529586",
   "metadata": {},
   "outputs": [
    {
     "data": {
      "text/html": [
       "<div>\n",
       "<style scoped>\n",
       "    .dataframe tbody tr th:only-of-type {\n",
       "        vertical-align: middle;\n",
       "    }\n",
       "\n",
       "    .dataframe tbody tr th {\n",
       "        vertical-align: top;\n",
       "    }\n",
       "\n",
       "    .dataframe thead th {\n",
       "        text-align: right;\n",
       "    }\n",
       "</style>\n",
       "<table border=\"1\" class=\"dataframe\">\n",
       "  <thead>\n",
       "    <tr style=\"text-align: right;\">\n",
       "      <th></th>\n",
       "      <th>filename</th>\n",
       "      <th>text</th>\n",
       "    </tr>\n",
       "  </thead>\n",
       "  <tbody>\n",
       "    <tr>\n",
       "      <th>0</th>\n",
       "      <td>S00000001_0001</td>\n",
       "      <td>안녕하세요. 쉐어링 스터디 상담원 @이주빈입니다.</td>\n",
       "    </tr>\n",
       "    <tr>\n",
       "      <th>1</th>\n",
       "      <td>S00000001_0002</td>\n",
       "      <td>예 안녕하세요 제가 다른 게 아니라 나이가 좀 있는 지라 강좌를 결재 방법이 조금 ...</td>\n",
       "    </tr>\n",
       "    <tr>\n",
       "      <th>2</th>\n",
       "      <td>S00000001_0003</td>\n",
       "      <td>그거 (SHARING)/(쉐어링) (CASH)/(캐시)충전이었나</td>\n",
       "    </tr>\n",
       "    <tr>\n",
       "      <th>3</th>\n",
       "      <td>S00000001_0004</td>\n",
       "      <td>그게 처음에 (MY PAGE)/(마이 페이지)를 들어가서 (CASH)/(캐시)를 버...</td>\n",
       "    </tr>\n",
       "    <tr>\n",
       "      <th>4</th>\n",
       "      <td>S00000001_0005</td>\n",
       "      <td>(CASH)/(캐시) 할인권 (MENU)/(메뉴)에서 (SHARING CASH)/(...</td>\n",
       "    </tr>\n",
       "  </tbody>\n",
       "</table>\n",
       "</div>"
      ],
      "text/plain": [
       "         filename                                               text\n",
       "0  S00000001_0001                        안녕하세요. 쉐어링 스터디 상담원 @이주빈입니다.\n",
       "1  S00000001_0002  예 안녕하세요 제가 다른 게 아니라 나이가 좀 있는 지라 강좌를 결재 방법이 조금 ...\n",
       "2  S00000001_0003                그거 (SHARING)/(쉐어링) (CASH)/(캐시)충전이었나\n",
       "3  S00000001_0004  그게 처음에 (MY PAGE)/(마이 페이지)를 들어가서 (CASH)/(캐시)를 버...\n",
       "4  S00000001_0005  (CASH)/(캐시) 할인권 (MENU)/(메뉴)에서 (SHARING CASH)/(..."
      ]
     },
     "execution_count": 27,
     "metadata": {},
     "output_type": "execute_result"
    }
   ],
   "source": [
    "train_labels.head()"
   ]
  },
  {
   "cell_type": "code",
   "execution_count": 28,
   "id": "e59793a0-a315-4592-ac61-f27f3dc2684c",
   "metadata": {},
   "outputs": [],
   "source": [
    "import pandas as pd\n",
    "\n",
    "dic = {\"filename\":train_list,\"text\":trans_list}\n",
    "new_train_labels = pd.DataFrame(dic)"
   ]
  },
  {
   "cell_type": "code",
   "execution_count": 30,
   "id": "40f3d72b-2229-4269-a94e-ebe1a05724a9",
   "metadata": {},
   "outputs": [
    {
     "data": {
      "text/plain": [
       "622545"
      ]
     },
     "execution_count": 30,
     "metadata": {},
     "output_type": "execute_result"
    }
   ],
   "source": [
    "len(new_train_labels)"
   ]
  },
  {
   "cell_type": "code",
   "execution_count": 29,
   "id": "635edec0-9851-474c-83c8-df6e003c5d5b",
   "metadata": {},
   "outputs": [
    {
     "data": {
      "text/html": [
       "<div>\n",
       "<style scoped>\n",
       "    .dataframe tbody tr th:only-of-type {\n",
       "        vertical-align: middle;\n",
       "    }\n",
       "\n",
       "    .dataframe tbody tr th {\n",
       "        vertical-align: top;\n",
       "    }\n",
       "\n",
       "    .dataframe thead th {\n",
       "        text-align: right;\n",
       "    }\n",
       "</style>\n",
       "<table border=\"1\" class=\"dataframe\">\n",
       "  <thead>\n",
       "    <tr style=\"text-align: right;\">\n",
       "      <th></th>\n",
       "      <th>filename</th>\n",
       "      <th>text</th>\n",
       "    </tr>\n",
       "  </thead>\n",
       "  <tbody>\n",
       "    <tr>\n",
       "      <th>0</th>\n",
       "      <td>/home/work/dataADD/ktelspeech/ksponspeech/trai...</td>\n",
       "      <td>아 몬 소리야 그건 또</td>\n",
       "    </tr>\n",
       "    <tr>\n",
       "      <th>1</th>\n",
       "      <td>/home/work/dataADD/ktelspeech/ksponspeech/trai...</td>\n",
       "      <td>나는 악습은 원래 없어진다 없어져야 된다고 생각하긴 했는데 근데 그 약간 필요악으로...</td>\n",
       "    </tr>\n",
       "    <tr>\n",
       "      <th>2</th>\n",
       "      <td>/home/work/dataADD/ktelspeech/ksponspeech/trai...</td>\n",
       "      <td>그래서 지호랑 계단 올라와서 막 위에 운동하는 기구 있대요 그서 그걸로 운동 할려구요</td>\n",
       "    </tr>\n",
       "    <tr>\n",
       "      <th>3</th>\n",
       "      <td>/home/work/dataADD/ktelspeech/ksponspeech/trai...</td>\n",
       "      <td>뭐 정신과 병원도 그 약 타서 먹어보고 그 한동안 연락이 안 된 적이 있었단 말이야...</td>\n",
       "    </tr>\n",
       "    <tr>\n",
       "      <th>4</th>\n",
       "      <td>/home/work/dataADD/ktelspeech/ksponspeech/trai...</td>\n",
       "      <td>그게 영 점 일 프로 가정의 아이들과 가정의 모습이야?</td>\n",
       "    </tr>\n",
       "  </tbody>\n",
       "</table>\n",
       "</div>"
      ],
      "text/plain": [
       "                                            filename  \\\n",
       "0  /home/work/dataADD/ktelspeech/ksponspeech/trai...   \n",
       "1  /home/work/dataADD/ktelspeech/ksponspeech/trai...   \n",
       "2  /home/work/dataADD/ktelspeech/ksponspeech/trai...   \n",
       "3  /home/work/dataADD/ktelspeech/ksponspeech/trai...   \n",
       "4  /home/work/dataADD/ktelspeech/ksponspeech/trai...   \n",
       "\n",
       "                                                text  \n",
       "0                                       아 몬 소리야 그건 또  \n",
       "1  나는 악습은 원래 없어진다 없어져야 된다고 생각하긴 했는데 근데 그 약간 필요악으로...  \n",
       "2    그래서 지호랑 계단 올라와서 막 위에 운동하는 기구 있대요 그서 그걸로 운동 할려구요  \n",
       "3  뭐 정신과 병원도 그 약 타서 먹어보고 그 한동안 연락이 안 된 적이 있었단 말이야...  \n",
       "4                     그게 영 점 일 프로 가정의 아이들과 가정의 모습이야?  "
      ]
     },
     "execution_count": 29,
     "metadata": {},
     "output_type": "execute_result"
    }
   ],
   "source": [
    "new_train_labels.head()"
   ]
  },
  {
   "cell_type": "code",
   "execution_count": 31,
   "id": "75632baa-6bba-4232-9f2b-ff08ce683916",
   "metadata": {},
   "outputs": [],
   "source": [
    "new_train_labels.to_csv('/home/work/dataADD/ktelspeech/ksponspeech/train/train_label.csv',index = False,encoding='utf-8-sig')"
   ]
  },
  {
   "cell_type": "code",
   "execution_count": null,
   "id": "6dfdfc3e-1500-46c7-b942-809277df336e",
   "metadata": {},
   "outputs": [],
   "source": []
  },
  {
   "cell_type": "code",
   "execution_count": null,
   "id": "ad4d16a7-0bcf-45f7-86f8-5c07cf409194",
   "metadata": {},
   "outputs": [],
   "source": []
  },
  {
   "cell_type": "code",
   "execution_count": null,
   "id": "93a83fc2-0418-473a-a6db-6ca8376cec39",
   "metadata": {},
   "outputs": [],
   "source": []
  }
 ],
 "metadata": {
  "kernelspec": {
   "display_name": "PyTorch 1.11 (NGC 22.02/Python 3.8 Conda) on Backend.AI",
   "language": "python",
   "name": "python3"
  },
  "language_info": {
   "codemirror_mode": {
    "name": "ipython",
    "version": 3
   },
   "file_extension": ".py",
   "mimetype": "text/x-python",
   "name": "python",
   "nbconvert_exporter": "python",
   "pygments_lexer": "ipython3",
   "version": "3.8.12"
  }
 },
 "nbformat": 4,
 "nbformat_minor": 5
}
